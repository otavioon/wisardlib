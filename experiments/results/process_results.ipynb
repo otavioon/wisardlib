{
 "cells": [
  {
   "cell_type": "code",
   "execution_count": 1,
   "id": "7f9982e6-26f7-4a4f-8766-15e2b22fb0e3",
   "metadata": {},
   "outputs": [],
   "source": [
    "from pathlib import Path\n",
    "\n",
    "import pandas as pd\n",
    "import numpy as np\n",
    "import matplotlib\n",
    "import matplotlib.pyplot as plt\n",
    "import json\n",
    "import plotly.graph_objects as go\n",
    "import plotly.express as px\n",
    "from collections import defaultdict\n",
    "from typing import Union\n",
    "\n",
    "%matplotlib inline\n",
    "\n",
    "matplotlib.rcParams['pdf.fonttype'] = 42\n",
    "matplotlib.rcParams['ps.fonttype'] = 42\n",
    "matplotlib.rcParams[\"font.family\"] = \"Times New Roman\""
   ]
  },
  {
   "cell_type": "code",
   "execution_count": 2,
   "id": "0f395737-991d-408a-934a-65577d7d4dbe",
   "metadata": {},
   "outputs": [
    {
     "data": {
      "text/html": [
       "<div>\n",
       "<style scoped>\n",
       "    .dataframe tbody tr th:only-of-type {\n",
       "        vertical-align: middle;\n",
       "    }\n",
       "\n",
       "    .dataframe tbody tr th {\n",
       "        vertical-align: top;\n",
       "    }\n",
       "\n",
       "    .dataframe thead th {\n",
       "        text-align: right;\n",
       "    }\n",
       "</style>\n",
       "<table border=\"1\" class=\"dataframe\">\n",
       "  <thead>\n",
       "    <tr style=\"text-align: right;\">\n",
       "      <th></th>\n",
       "      <th>bleach</th>\n",
       "      <th>accuracy</th>\n",
       "      <th>f1 weighted</th>\n",
       "      <th>f1 macro</th>\n",
       "      <th>f1 micro</th>\n",
       "      <th>ties</th>\n",
       "      <th>run</th>\n",
       "      <th>train time</th>\n",
       "      <th>predict time</th>\n",
       "      <th>ram name</th>\n",
       "      <th>...</th>\n",
       "      <th>encoder kwargs</th>\n",
       "      <th>experiment name</th>\n",
       "      <th>model size</th>\n",
       "      <th>train samples</th>\n",
       "      <th>test samples</th>\n",
       "      <th>classes</th>\n",
       "      <th>rams per discriminator</th>\n",
       "      <th>discriminators</th>\n",
       "      <th>seed</th>\n",
       "      <th>indices</th>\n",
       "    </tr>\n",
       "  </thead>\n",
       "  <tbody>\n",
       "    <tr>\n",
       "      <th>0</th>\n",
       "      <td>2</td>\n",
       "      <td>0.918129</td>\n",
       "      <td>0.918781</td>\n",
       "      <td>0.914107</td>\n",
       "      <td>0.918129</td>\n",
       "      <td>18</td>\n",
       "      <td>1</td>\n",
       "      <td>1.812207</td>\n",
       "      <td>0.481705</td>\n",
       "      <td>DictRam</td>\n",
       "      <td>...</td>\n",
       "      <td>{\"resolution\": 16}</td>\n",
       "      <td>breast_cancer experiment</td>\n",
       "      <td>9624</td>\n",
       "      <td>398</td>\n",
       "      <td>171</td>\n",
       "      <td>2</td>\n",
       "      <td>30</td>\n",
       "      <td>2</td>\n",
       "      <td>1670370805</td>\n",
       "      <td>480</td>\n",
       "    </tr>\n",
       "    <tr>\n",
       "      <th>1</th>\n",
       "      <td>5</td>\n",
       "      <td>0.929825</td>\n",
       "      <td>0.929825</td>\n",
       "      <td>0.925088</td>\n",
       "      <td>0.929825</td>\n",
       "      <td>7</td>\n",
       "      <td>1</td>\n",
       "      <td>1.812207</td>\n",
       "      <td>0.338999</td>\n",
       "      <td>DictRam</td>\n",
       "      <td>...</td>\n",
       "      <td>{\"resolution\": 16}</td>\n",
       "      <td>breast_cancer experiment</td>\n",
       "      <td>9624</td>\n",
       "      <td>398</td>\n",
       "      <td>171</td>\n",
       "      <td>2</td>\n",
       "      <td>30</td>\n",
       "      <td>2</td>\n",
       "      <td>1670370805</td>\n",
       "      <td>480</td>\n",
       "    </tr>\n",
       "    <tr>\n",
       "      <th>2</th>\n",
       "      <td>10</td>\n",
       "      <td>0.947368</td>\n",
       "      <td>0.947101</td>\n",
       "      <td>0.943263</td>\n",
       "      <td>0.947368</td>\n",
       "      <td>3</td>\n",
       "      <td>1</td>\n",
       "      <td>1.812207</td>\n",
       "      <td>0.338749</td>\n",
       "      <td>DictRam</td>\n",
       "      <td>...</td>\n",
       "      <td>{\"resolution\": 16}</td>\n",
       "      <td>breast_cancer experiment</td>\n",
       "      <td>9624</td>\n",
       "      <td>398</td>\n",
       "      <td>171</td>\n",
       "      <td>2</td>\n",
       "      <td>30</td>\n",
       "      <td>2</td>\n",
       "      <td>1670370805</td>\n",
       "      <td>480</td>\n",
       "    </tr>\n",
       "    <tr>\n",
       "      <th>3</th>\n",
       "      <td>2</td>\n",
       "      <td>0.929825</td>\n",
       "      <td>0.930384</td>\n",
       "      <td>0.926378</td>\n",
       "      <td>0.929825</td>\n",
       "      <td>26</td>\n",
       "      <td>2</td>\n",
       "      <td>0.497607</td>\n",
       "      <td>0.338319</td>\n",
       "      <td>DictRam</td>\n",
       "      <td>...</td>\n",
       "      <td>{\"resolution\": 16}</td>\n",
       "      <td>breast_cancer experiment</td>\n",
       "      <td>9720</td>\n",
       "      <td>398</td>\n",
       "      <td>171</td>\n",
       "      <td>2</td>\n",
       "      <td>30</td>\n",
       "      <td>2</td>\n",
       "      <td>1670370808</td>\n",
       "      <td>480</td>\n",
       "    </tr>\n",
       "    <tr>\n",
       "      <th>4</th>\n",
       "      <td>5</td>\n",
       "      <td>0.941520</td>\n",
       "      <td>0.941694</td>\n",
       "      <td>0.937954</td>\n",
       "      <td>0.941520</td>\n",
       "      <td>13</td>\n",
       "      <td>2</td>\n",
       "      <td>0.497607</td>\n",
       "      <td>0.339714</td>\n",
       "      <td>DictRam</td>\n",
       "      <td>...</td>\n",
       "      <td>{\"resolution\": 16}</td>\n",
       "      <td>breast_cancer experiment</td>\n",
       "      <td>9720</td>\n",
       "      <td>398</td>\n",
       "      <td>171</td>\n",
       "      <td>2</td>\n",
       "      <td>30</td>\n",
       "      <td>2</td>\n",
       "      <td>1670370808</td>\n",
       "      <td>480</td>\n",
       "    </tr>\n",
       "    <tr>\n",
       "      <th>...</th>\n",
       "      <td>...</td>\n",
       "      <td>...</td>\n",
       "      <td>...</td>\n",
       "      <td>...</td>\n",
       "      <td>...</td>\n",
       "      <td>...</td>\n",
       "      <td>...</td>\n",
       "      <td>...</td>\n",
       "      <td>...</td>\n",
       "      <td>...</td>\n",
       "      <td>...</td>\n",
       "      <td>...</td>\n",
       "      <td>...</td>\n",
       "      <td>...</td>\n",
       "      <td>...</td>\n",
       "      <td>...</td>\n",
       "      <td>...</td>\n",
       "      <td>...</td>\n",
       "      <td>...</td>\n",
       "      <td>...</td>\n",
       "      <td>...</td>\n",
       "    </tr>\n",
       "    <tr>\n",
       "      <th>431</th>\n",
       "      <td>5</td>\n",
       "      <td>0.870370</td>\n",
       "      <td>0.869781</td>\n",
       "      <td>0.873519</td>\n",
       "      <td>0.870370</td>\n",
       "      <td>3</td>\n",
       "      <td>3</td>\n",
       "      <td>0.071017</td>\n",
       "      <td>0.087331</td>\n",
       "      <td>stream-threshold</td>\n",
       "      <td>...</td>\n",
       "      <td>{\"resolution\": 16}</td>\n",
       "      <td>wine experiment</td>\n",
       "      <td>117624</td>\n",
       "      <td>124</td>\n",
       "      <td>54</td>\n",
       "      <td>3</td>\n",
       "      <td>13</td>\n",
       "      <td>3</td>\n",
       "      <td>1670371352</td>\n",
       "      <td>208</td>\n",
       "    </tr>\n",
       "    <tr>\n",
       "      <th>432</th>\n",
       "      <td>8</td>\n",
       "      <td>0.888889</td>\n",
       "      <td>0.888060</td>\n",
       "      <td>0.892690</td>\n",
       "      <td>0.888889</td>\n",
       "      <td>6</td>\n",
       "      <td>3</td>\n",
       "      <td>0.071017</td>\n",
       "      <td>0.086613</td>\n",
       "      <td>stream-threshold</td>\n",
       "      <td>...</td>\n",
       "      <td>{\"resolution\": 16}</td>\n",
       "      <td>wine experiment</td>\n",
       "      <td>117624</td>\n",
       "      <td>124</td>\n",
       "      <td>54</td>\n",
       "      <td>3</td>\n",
       "      <td>13</td>\n",
       "      <td>3</td>\n",
       "      <td>1670371352</td>\n",
       "      <td>208</td>\n",
       "    </tr>\n",
       "    <tr>\n",
       "      <th>433</th>\n",
       "      <td>10</td>\n",
       "      <td>0.814815</td>\n",
       "      <td>0.812150</td>\n",
       "      <td>0.816460</td>\n",
       "      <td>0.814815</td>\n",
       "      <td>5</td>\n",
       "      <td>3</td>\n",
       "      <td>0.071017</td>\n",
       "      <td>0.081598</td>\n",
       "      <td>stream-threshold</td>\n",
       "      <td>...</td>\n",
       "      <td>{\"resolution\": 16}</td>\n",
       "      <td>wine experiment</td>\n",
       "      <td>117624</td>\n",
       "      <td>124</td>\n",
       "      <td>54</td>\n",
       "      <td>3</td>\n",
       "      <td>13</td>\n",
       "      <td>3</td>\n",
       "      <td>1670371352</td>\n",
       "      <td>208</td>\n",
       "    </tr>\n",
       "    <tr>\n",
       "      <th>434</th>\n",
       "      <td>15</td>\n",
       "      <td>0.814815</td>\n",
       "      <td>0.798173</td>\n",
       "      <td>0.808999</td>\n",
       "      <td>0.814815</td>\n",
       "      <td>4</td>\n",
       "      <td>3</td>\n",
       "      <td>0.071017</td>\n",
       "      <td>0.081574</td>\n",
       "      <td>stream-threshold</td>\n",
       "      <td>...</td>\n",
       "      <td>{\"resolution\": 16}</td>\n",
       "      <td>wine experiment</td>\n",
       "      <td>117624</td>\n",
       "      <td>124</td>\n",
       "      <td>54</td>\n",
       "      <td>3</td>\n",
       "      <td>13</td>\n",
       "      <td>3</td>\n",
       "      <td>1670371352</td>\n",
       "      <td>208</td>\n",
       "    </tr>\n",
       "    <tr>\n",
       "      <th>0</th>\n",
       "      <td>2</td>\n",
       "      <td>0.333333</td>\n",
       "      <td>0.166667</td>\n",
       "      <td>0.166667</td>\n",
       "      <td>0.333333</td>\n",
       "      <td>0</td>\n",
       "      <td>1</td>\n",
       "      <td>1.709376</td>\n",
       "      <td>0.155130</td>\n",
       "      <td>DictRam</td>\n",
       "      <td>...</td>\n",
       "      <td>{\"resolution\": 16}</td>\n",
       "      <td>wine experiment</td>\n",
       "      <td>1036</td>\n",
       "      <td>124</td>\n",
       "      <td>54</td>\n",
       "      <td>3</td>\n",
       "      <td>13</td>\n",
       "      <td>3</td>\n",
       "      <td>1671457696</td>\n",
       "      <td>208</td>\n",
       "    </tr>\n",
       "  </tbody>\n",
       "</table>\n",
       "<p>7389 rows × 24 columns</p>\n",
       "</div>"
      ],
      "text/plain": [
       "     bleach  accuracy  f1 weighted  f1 macro  f1 micro  ties  run  train time  \\\n",
       "0         2  0.918129     0.918781  0.914107  0.918129    18    1    1.812207   \n",
       "1         5  0.929825     0.929825  0.925088  0.929825     7    1    1.812207   \n",
       "2        10  0.947368     0.947101  0.943263  0.947368     3    1    1.812207   \n",
       "3         2  0.929825     0.930384  0.926378  0.929825    26    2    0.497607   \n",
       "4         5  0.941520     0.941694  0.937954  0.941520    13    2    0.497607   \n",
       "..      ...       ...          ...       ...       ...   ...  ...         ...   \n",
       "431       5  0.870370     0.869781  0.873519  0.870370     3    3    0.071017   \n",
       "432       8  0.888889     0.888060  0.892690  0.888889     6    3    0.071017   \n",
       "433      10  0.814815     0.812150  0.816460  0.814815     5    3    0.071017   \n",
       "434      15  0.814815     0.798173  0.808999  0.814815     4    3    0.071017   \n",
       "0         2  0.333333     0.166667  0.166667  0.333333     0    1    1.709376   \n",
       "\n",
       "     predict time          ram name  ...      encoder kwargs  \\\n",
       "0        0.481705           DictRam  ...  {\"resolution\": 16}   \n",
       "1        0.338999           DictRam  ...  {\"resolution\": 16}   \n",
       "2        0.338749           DictRam  ...  {\"resolution\": 16}   \n",
       "3        0.338319           DictRam  ...  {\"resolution\": 16}   \n",
       "4        0.339714           DictRam  ...  {\"resolution\": 16}   \n",
       "..            ...               ...  ...                 ...   \n",
       "431      0.087331  stream-threshold  ...  {\"resolution\": 16}   \n",
       "432      0.086613  stream-threshold  ...  {\"resolution\": 16}   \n",
       "433      0.081598  stream-threshold  ...  {\"resolution\": 16}   \n",
       "434      0.081574  stream-threshold  ...  {\"resolution\": 16}   \n",
       "0        0.155130           DictRam  ...  {\"resolution\": 16}   \n",
       "\n",
       "              experiment name model size train samples test samples classes  \\\n",
       "0    breast_cancer experiment       9624           398          171       2   \n",
       "1    breast_cancer experiment       9624           398          171       2   \n",
       "2    breast_cancer experiment       9624           398          171       2   \n",
       "3    breast_cancer experiment       9720           398          171       2   \n",
       "4    breast_cancer experiment       9720           398          171       2   \n",
       "..                        ...        ...           ...          ...     ...   \n",
       "431           wine experiment     117624           124           54       3   \n",
       "432           wine experiment     117624           124           54       3   \n",
       "433           wine experiment     117624           124           54       3   \n",
       "434           wine experiment     117624           124           54       3   \n",
       "0             wine experiment       1036           124           54       3   \n",
       "\n",
       "     rams per discriminator  discriminators        seed  indices  \n",
       "0                        30               2  1670370805      480  \n",
       "1                        30               2  1670370805      480  \n",
       "2                        30               2  1670370805      480  \n",
       "3                        30               2  1670370808      480  \n",
       "4                        30               2  1670370808      480  \n",
       "..                      ...             ...         ...      ...  \n",
       "431                      13               3  1670371352      208  \n",
       "432                      13               3  1670371352      208  \n",
       "433                      13               3  1670371352      208  \n",
       "434                      13               3  1670371352      208  \n",
       "0                        13               3  1671457696      208  \n",
       "\n",
       "[7389 rows x 24 columns]"
      ]
     },
     "execution_count": 2,
     "metadata": {},
     "output_type": "execute_result"
    }
   ],
   "source": [
    "datasets = [\n",
    "    \"breast_cancer\",\n",
    "    \"glass\",\n",
    "    \"iris\",\n",
    "    \"letter\",\n",
    "    \"mnist\",\n",
    "    \"motion_sense\",\n",
    "    \"satimage\",\n",
    "    \"segment\",\n",
    "    \"vehicle\",\n",
    "    \"wine\"\n",
    "]\n",
    "\n",
    "datasets_sizes = {\n",
    "    \"breast_cancer\": 144,\n",
    "    \"glass\": 24,\n",
    "    \"iris\": 12,\n",
    "    \"letter\": 2664,\n",
    "    \"mnist\": 53672,\n",
    "    \"motion_sense\": 12512,\n",
    "    \"satimage\": 1864,\n",
    "    \"segment\": 368,\n",
    "    \"vehicle\": 132,\n",
    "    \"wine\": 24\n",
    "}\n",
    "\n",
    "dataset_classes = {\n",
    "    \"breast_cancer\": 2,\n",
    "    \"glass\": 6,\n",
    "    \"iris\": 3,\n",
    "    \"letter\": 26,\n",
    "    \"mnist\": 10,\n",
    "    \"motion_sense\": 6,\n",
    "    \"satimage\": 6,\n",
    "    \"segment\": 7,\n",
    "    \"vehicle\": 3,\n",
    "    \"wine\": 3\n",
    "}\n",
    "\n",
    "dataset_train_samples = {\n",
    "    \"breast_cancer\": 398,\n",
    "    \"glass\": 149,\n",
    "    \"iris\": 105,\n",
    "    \"letter\": 1400,\n",
    "    \"mnist\": 60000,\n",
    "    \"motion_sense\": 3414,\n",
    "    \"satimage\": 4501,\n",
    "    \"segment\": 1617,\n",
    "    \"vehicle\": 676,\n",
    "    \"wine\": 124 \n",
    "}\n",
    "\n",
    "dataset_test_samples = {\n",
    "    \"breast_cancer\": 171,\n",
    "    \"glass\": 65,\n",
    "    \"iris\": 45,\n",
    "    \"letter\": 6000,\n",
    "    \"mnist\": 10000,\n",
    "    \"motion_sense\": 1020,\n",
    "    \"satimage\": 1929,\n",
    "    \"segment\": 693,\n",
    "    \"vehicle\": 170,\n",
    "    \"wine\": 54 \n",
    "}\n",
    "\n",
    "dataset_balanced = {\n",
    "    \"breast_cancer\": \"no\",\n",
    "    \"glass\": \"no\",\n",
    "    \"iris\": \"yes\",\n",
    "    \"letter\": \"yes\",\n",
    "    \"mnist\": \"yes\",\n",
    "    \"motion_sense\": \"yes\",\n",
    "    \"satimage\": \"no\",\n",
    "    \"segment\": \"yes\",\n",
    "    \"vehicle\": \"yes\",\n",
    "    \"wine\": \"no\"   \n",
    "}\n",
    "\n",
    "metrics_to_use = {\n",
    "    \"breast_cancer\": \"f1 weighted\",\n",
    "    \"glass\": \"f1 weighted\",\n",
    "    \"iris\": \"accuracy\",\n",
    "    \"letter\": \"accuracy\",\n",
    "    \"mnist\": \"accuracy\",\n",
    "    \"motion_sense\": \"accuracy\",\n",
    "    \"satimage\": \"f1 weighted\",\n",
    "    \"segment\": \"accuracy\",\n",
    "    \"vehicle\": \"accuracy\",\n",
    "    \"wine\": \"f1 weighted\"\n",
    "}\n",
    "\n",
    "\n",
    "dfs = [\n",
    "    pd.read_csv(exp)\n",
    "    for dset in datasets\n",
    "    for exp in Path(f\"{dset} experiment\").glob(\"*.csv\")\n",
    "]\n",
    "\n",
    "df = pd.concat(dfs)\n",
    "df.replace({\"mnist-dist-16\": \"mnist\"}, inplace=True)\n",
    "df\n",
    "# d = json.loads(df.iloc[0][\"encoder kwargs\"])"
   ]
  },
  {
   "cell_type": "code",
   "execution_count": 3,
   "id": "b01f5fdd",
   "metadata": {},
   "outputs": [
    {
     "data": {
      "text/html": [
       "<div>\n",
       "<style scoped>\n",
       "    .dataframe tbody tr th:only-of-type {\n",
       "        vertical-align: middle;\n",
       "    }\n",
       "\n",
       "    .dataframe tbody tr th {\n",
       "        vertical-align: top;\n",
       "    }\n",
       "\n",
       "    .dataframe thead th {\n",
       "        text-align: right;\n",
       "    }\n",
       "</style>\n",
       "<table border=\"1\" class=\"dataframe\">\n",
       "  <thead>\n",
       "    <tr style=\"text-align: right;\">\n",
       "      <th></th>\n",
       "      <th>size (KB)</th>\n",
       "      <th>classes</th>\n",
       "      <th>train samples</th>\n",
       "      <th>test samples</th>\n",
       "      <th>balanced</th>\n",
       "    </tr>\n",
       "  </thead>\n",
       "  <tbody>\n",
       "    <tr>\n",
       "      <th>breast_cancer</th>\n",
       "      <td>144</td>\n",
       "      <td>2</td>\n",
       "      <td>398</td>\n",
       "      <td>171</td>\n",
       "      <td>no</td>\n",
       "    </tr>\n",
       "    <tr>\n",
       "      <th>glass</th>\n",
       "      <td>24</td>\n",
       "      <td>6</td>\n",
       "      <td>149</td>\n",
       "      <td>65</td>\n",
       "      <td>no</td>\n",
       "    </tr>\n",
       "    <tr>\n",
       "      <th>iris</th>\n",
       "      <td>12</td>\n",
       "      <td>3</td>\n",
       "      <td>105</td>\n",
       "      <td>45</td>\n",
       "      <td>yes</td>\n",
       "    </tr>\n",
       "    <tr>\n",
       "      <th>letter</th>\n",
       "      <td>2664</td>\n",
       "      <td>26</td>\n",
       "      <td>1400</td>\n",
       "      <td>6000</td>\n",
       "      <td>yes</td>\n",
       "    </tr>\n",
       "    <tr>\n",
       "      <th>mnist</th>\n",
       "      <td>53672</td>\n",
       "      <td>10</td>\n",
       "      <td>60000</td>\n",
       "      <td>10000</td>\n",
       "      <td>yes</td>\n",
       "    </tr>\n",
       "    <tr>\n",
       "      <th>motion_sense</th>\n",
       "      <td>12512</td>\n",
       "      <td>6</td>\n",
       "      <td>3414</td>\n",
       "      <td>1020</td>\n",
       "      <td>yes</td>\n",
       "    </tr>\n",
       "    <tr>\n",
       "      <th>satimage</th>\n",
       "      <td>1864</td>\n",
       "      <td>6</td>\n",
       "      <td>4501</td>\n",
       "      <td>1929</td>\n",
       "      <td>no</td>\n",
       "    </tr>\n",
       "    <tr>\n",
       "      <th>segment</th>\n",
       "      <td>368</td>\n",
       "      <td>7</td>\n",
       "      <td>1617</td>\n",
       "      <td>693</td>\n",
       "      <td>yes</td>\n",
       "    </tr>\n",
       "    <tr>\n",
       "      <th>vehicle</th>\n",
       "      <td>132</td>\n",
       "      <td>3</td>\n",
       "      <td>676</td>\n",
       "      <td>170</td>\n",
       "      <td>yes</td>\n",
       "    </tr>\n",
       "    <tr>\n",
       "      <th>wine</th>\n",
       "      <td>24</td>\n",
       "      <td>3</td>\n",
       "      <td>124</td>\n",
       "      <td>54</td>\n",
       "      <td>no</td>\n",
       "    </tr>\n",
       "  </tbody>\n",
       "</table>\n",
       "</div>"
      ],
      "text/plain": [
       "              size (KB) classes train samples test samples balanced\n",
       "breast_cancer       144       2           398          171       no\n",
       "glass                24       6           149           65       no\n",
       "iris                 12       3           105           45      yes\n",
       "letter             2664      26          1400         6000      yes\n",
       "mnist             53672      10         60000        10000      yes\n",
       "motion_sense      12512       6          3414         1020      yes\n",
       "satimage           1864       6          4501         1929       no\n",
       "segment             368       7          1617          693      yes\n",
       "vehicle             132       3           676          170      yes\n",
       "wine                 24       3           124           54       no"
      ]
     },
     "execution_count": 3,
     "metadata": {},
     "output_type": "execute_result"
    }
   ],
   "source": [
    "meta = defaultdict(dict)\n",
    "for dset in datasets:\n",
    "    meta[dset][\"size (KB)\"] = datasets_sizes[dset]\n",
    "    meta[dset][\"classes\"] = dataset_classes[dset]\n",
    "    meta[dset][\"train samples\"] = dataset_train_samples[dset]\n",
    "    meta[dset][\"test samples\"] = dataset_test_samples[dset]\n",
    "    meta[dset][\"balanced\"] = dataset_balanced[dset]\n",
    "\n",
    "meta_df = pd.DataFrame(meta).T\n",
    "meta_df"
   ]
  },
  {
   "cell_type": "code",
   "execution_count": 4,
   "id": "f07ce103",
   "metadata": {},
   "outputs": [],
   "source": [
    "latex_tables_path = Path(\"tables\")\n",
    "figures_path = Path(\"figures\")\n",
    "\n",
    "def write_figure(filename: str, fig: go.Figure, path: Union[Path, str] = figures_path):\n",
    "    \"\"\"Write a Figure to a file.\n",
    "\n",
    "    Parameters\n",
    "    ----------\n",
    "    filename : str\n",
    "        The name of the file to write to.\n",
    "    fig : go.Figure\n",
    "        The plotly figure object.\n",
    "    path : Union[Path, str], optional\n",
    "        The path where the file will be stored, by default figures_path\n",
    "    \"\"\"\n",
    "    path = Path(path)\n",
    "    path.mkdir(exist_ok=True, parents=True)\n",
    "    fname = path/filename\n",
    "    fig.write_image(fname)\n",
    "    print(f\"Figure written to: {fname}\")\n",
    "    print(f\"Filename   :\", filename)\n",
    "    print(f\"Latex label:\", filename.replace(\".pdf\",\"\"))\n",
    "    \n",
    "def write_latex_table(filename: str, table: str, path: Union[Path, str] = latex_tables_path):\n",
    "    \"\"\"Write a latex table to a file.\n",
    "\n",
    "    Parameters\n",
    "    ----------\n",
    "    filename : str\n",
    "        The name of the file to write to.\n",
    "    table : str\n",
    "        The table, as a string.\n",
    "    path : Union[Path, str], optional\n",
    "        The path where the file will be stored, by default latex_tables_path\n",
    "    \"\"\"\n",
    "    path = Path(path)\n",
    "    path.mkdir(exist_ok=True, parents=True)\n",
    "    fname = path/filename\n",
    "    with fname.open(\"w\") as f:\n",
    "        f.write(\"%%%%%%%%%%%%%%%%%%%%%%%%%%%%%%%%%%%%%%%%%%%%%%%%%%%%%%%%%%%%%%%%%%%%\\n\")\n",
    "        f.write(\"%% WARNING: DO NOT CHANGE THIS FILE. IT IS GENERATED AUTOMATICALLY %\\n\")\n",
    "        f.write(\"%%%%%%%%%%%%%%%%%%%%%%%%%%%%%%%%%%%%%%%%%%%%%%%%%%%%%%%%%%%%%%%%%%%%\\n\")\n",
    "        f.write(table)\n",
    "    print(f\"Table written to: {fname}\")\n",
    "\n"
   ]
  },
  {
   "cell_type": "code",
   "execution_count": 5,
   "id": "841896a4",
   "metadata": {},
   "outputs": [
    {
     "data": {
      "text/html": [
       "<div>\n",
       "<style scoped>\n",
       "    .dataframe tbody tr th:only-of-type {\n",
       "        vertical-align: middle;\n",
       "    }\n",
       "\n",
       "    .dataframe tbody tr th {\n",
       "        vertical-align: top;\n",
       "    }\n",
       "\n",
       "    .dataframe thead th {\n",
       "        text-align: right;\n",
       "    }\n",
       "</style>\n",
       "<table border=\"1\" class=\"dataframe\">\n",
       "  <thead>\n",
       "    <tr style=\"text-align: right;\">\n",
       "      <th></th>\n",
       "      <th>bleach</th>\n",
       "      <th>accuracy</th>\n",
       "      <th>f1 weighted</th>\n",
       "      <th>f1 macro</th>\n",
       "      <th>f1 micro</th>\n",
       "      <th>ties</th>\n",
       "      <th>run</th>\n",
       "      <th>train time</th>\n",
       "      <th>predict time</th>\n",
       "      <th>ram name</th>\n",
       "      <th>...</th>\n",
       "      <th>encoder kwargs</th>\n",
       "      <th>experiment name</th>\n",
       "      <th>model size</th>\n",
       "      <th>train samples</th>\n",
       "      <th>test samples</th>\n",
       "      <th>classes</th>\n",
       "      <th>rams per discriminator</th>\n",
       "      <th>discriminators</th>\n",
       "      <th>seed</th>\n",
       "      <th>indices</th>\n",
       "    </tr>\n",
       "  </thead>\n",
       "  <tbody>\n",
       "    <tr>\n",
       "      <th>0</th>\n",
       "      <td>2</td>\n",
       "      <td>0.918129</td>\n",
       "      <td>0.918781</td>\n",
       "      <td>0.914107</td>\n",
       "      <td>0.918129</td>\n",
       "      <td>18</td>\n",
       "      <td>1</td>\n",
       "      <td>1.812207</td>\n",
       "      <td>0.481705</td>\n",
       "      <td>DictRam</td>\n",
       "      <td>...</td>\n",
       "      <td>{\"resolution\": 16}</td>\n",
       "      <td>breast_cancer experiment</td>\n",
       "      <td>9624</td>\n",
       "      <td>398</td>\n",
       "      <td>171</td>\n",
       "      <td>2</td>\n",
       "      <td>30</td>\n",
       "      <td>2</td>\n",
       "      <td>1670370805</td>\n",
       "      <td>480</td>\n",
       "    </tr>\n",
       "    <tr>\n",
       "      <th>1</th>\n",
       "      <td>5</td>\n",
       "      <td>0.929825</td>\n",
       "      <td>0.929825</td>\n",
       "      <td>0.925088</td>\n",
       "      <td>0.929825</td>\n",
       "      <td>7</td>\n",
       "      <td>1</td>\n",
       "      <td>1.812207</td>\n",
       "      <td>0.338999</td>\n",
       "      <td>DictRam</td>\n",
       "      <td>...</td>\n",
       "      <td>{\"resolution\": 16}</td>\n",
       "      <td>breast_cancer experiment</td>\n",
       "      <td>9624</td>\n",
       "      <td>398</td>\n",
       "      <td>171</td>\n",
       "      <td>2</td>\n",
       "      <td>30</td>\n",
       "      <td>2</td>\n",
       "      <td>1670370805</td>\n",
       "      <td>480</td>\n",
       "    </tr>\n",
       "    <tr>\n",
       "      <th>2</th>\n",
       "      <td>10</td>\n",
       "      <td>0.947368</td>\n",
       "      <td>0.947101</td>\n",
       "      <td>0.943263</td>\n",
       "      <td>0.947368</td>\n",
       "      <td>3</td>\n",
       "      <td>1</td>\n",
       "      <td>1.812207</td>\n",
       "      <td>0.338749</td>\n",
       "      <td>DictRam</td>\n",
       "      <td>...</td>\n",
       "      <td>{\"resolution\": 16}</td>\n",
       "      <td>breast_cancer experiment</td>\n",
       "      <td>9624</td>\n",
       "      <td>398</td>\n",
       "      <td>171</td>\n",
       "      <td>2</td>\n",
       "      <td>30</td>\n",
       "      <td>2</td>\n",
       "      <td>1670370805</td>\n",
       "      <td>480</td>\n",
       "    </tr>\n",
       "    <tr>\n",
       "      <th>3</th>\n",
       "      <td>2</td>\n",
       "      <td>0.929825</td>\n",
       "      <td>0.930384</td>\n",
       "      <td>0.926378</td>\n",
       "      <td>0.929825</td>\n",
       "      <td>26</td>\n",
       "      <td>2</td>\n",
       "      <td>0.497607</td>\n",
       "      <td>0.338319</td>\n",
       "      <td>DictRam</td>\n",
       "      <td>...</td>\n",
       "      <td>{\"resolution\": 16}</td>\n",
       "      <td>breast_cancer experiment</td>\n",
       "      <td>9720</td>\n",
       "      <td>398</td>\n",
       "      <td>171</td>\n",
       "      <td>2</td>\n",
       "      <td>30</td>\n",
       "      <td>2</td>\n",
       "      <td>1670370808</td>\n",
       "      <td>480</td>\n",
       "    </tr>\n",
       "    <tr>\n",
       "      <th>4</th>\n",
       "      <td>5</td>\n",
       "      <td>0.941520</td>\n",
       "      <td>0.941694</td>\n",
       "      <td>0.937954</td>\n",
       "      <td>0.941520</td>\n",
       "      <td>13</td>\n",
       "      <td>2</td>\n",
       "      <td>0.497607</td>\n",
       "      <td>0.339714</td>\n",
       "      <td>DictRam</td>\n",
       "      <td>...</td>\n",
       "      <td>{\"resolution\": 16}</td>\n",
       "      <td>breast_cancer experiment</td>\n",
       "      <td>9720</td>\n",
       "      <td>398</td>\n",
       "      <td>171</td>\n",
       "      <td>2</td>\n",
       "      <td>30</td>\n",
       "      <td>2</td>\n",
       "      <td>1670370808</td>\n",
       "      <td>480</td>\n",
       "    </tr>\n",
       "    <tr>\n",
       "      <th>...</th>\n",
       "      <td>...</td>\n",
       "      <td>...</td>\n",
       "      <td>...</td>\n",
       "      <td>...</td>\n",
       "      <td>...</td>\n",
       "      <td>...</td>\n",
       "      <td>...</td>\n",
       "      <td>...</td>\n",
       "      <td>...</td>\n",
       "      <td>...</td>\n",
       "      <td>...</td>\n",
       "      <td>...</td>\n",
       "      <td>...</td>\n",
       "      <td>...</td>\n",
       "      <td>...</td>\n",
       "      <td>...</td>\n",
       "      <td>...</td>\n",
       "      <td>...</td>\n",
       "      <td>...</td>\n",
       "      <td>...</td>\n",
       "      <td>...</td>\n",
       "    </tr>\n",
       "    <tr>\n",
       "      <th>431</th>\n",
       "      <td>5</td>\n",
       "      <td>0.870370</td>\n",
       "      <td>0.869781</td>\n",
       "      <td>0.873519</td>\n",
       "      <td>0.870370</td>\n",
       "      <td>3</td>\n",
       "      <td>3</td>\n",
       "      <td>0.071017</td>\n",
       "      <td>0.087331</td>\n",
       "      <td>stream-threshold</td>\n",
       "      <td>...</td>\n",
       "      <td>{\"resolution\": 16}</td>\n",
       "      <td>wine experiment</td>\n",
       "      <td>117624</td>\n",
       "      <td>124</td>\n",
       "      <td>54</td>\n",
       "      <td>3</td>\n",
       "      <td>13</td>\n",
       "      <td>3</td>\n",
       "      <td>1670371352</td>\n",
       "      <td>208</td>\n",
       "    </tr>\n",
       "    <tr>\n",
       "      <th>432</th>\n",
       "      <td>8</td>\n",
       "      <td>0.888889</td>\n",
       "      <td>0.888060</td>\n",
       "      <td>0.892690</td>\n",
       "      <td>0.888889</td>\n",
       "      <td>6</td>\n",
       "      <td>3</td>\n",
       "      <td>0.071017</td>\n",
       "      <td>0.086613</td>\n",
       "      <td>stream-threshold</td>\n",
       "      <td>...</td>\n",
       "      <td>{\"resolution\": 16}</td>\n",
       "      <td>wine experiment</td>\n",
       "      <td>117624</td>\n",
       "      <td>124</td>\n",
       "      <td>54</td>\n",
       "      <td>3</td>\n",
       "      <td>13</td>\n",
       "      <td>3</td>\n",
       "      <td>1670371352</td>\n",
       "      <td>208</td>\n",
       "    </tr>\n",
       "    <tr>\n",
       "      <th>433</th>\n",
       "      <td>10</td>\n",
       "      <td>0.814815</td>\n",
       "      <td>0.812150</td>\n",
       "      <td>0.816460</td>\n",
       "      <td>0.814815</td>\n",
       "      <td>5</td>\n",
       "      <td>3</td>\n",
       "      <td>0.071017</td>\n",
       "      <td>0.081598</td>\n",
       "      <td>stream-threshold</td>\n",
       "      <td>...</td>\n",
       "      <td>{\"resolution\": 16}</td>\n",
       "      <td>wine experiment</td>\n",
       "      <td>117624</td>\n",
       "      <td>124</td>\n",
       "      <td>54</td>\n",
       "      <td>3</td>\n",
       "      <td>13</td>\n",
       "      <td>3</td>\n",
       "      <td>1670371352</td>\n",
       "      <td>208</td>\n",
       "    </tr>\n",
       "    <tr>\n",
       "      <th>434</th>\n",
       "      <td>15</td>\n",
       "      <td>0.814815</td>\n",
       "      <td>0.798173</td>\n",
       "      <td>0.808999</td>\n",
       "      <td>0.814815</td>\n",
       "      <td>4</td>\n",
       "      <td>3</td>\n",
       "      <td>0.071017</td>\n",
       "      <td>0.081574</td>\n",
       "      <td>stream-threshold</td>\n",
       "      <td>...</td>\n",
       "      <td>{\"resolution\": 16}</td>\n",
       "      <td>wine experiment</td>\n",
       "      <td>117624</td>\n",
       "      <td>124</td>\n",
       "      <td>54</td>\n",
       "      <td>3</td>\n",
       "      <td>13</td>\n",
       "      <td>3</td>\n",
       "      <td>1670371352</td>\n",
       "      <td>208</td>\n",
       "    </tr>\n",
       "    <tr>\n",
       "      <th>0</th>\n",
       "      <td>2</td>\n",
       "      <td>0.333333</td>\n",
       "      <td>0.166667</td>\n",
       "      <td>0.166667</td>\n",
       "      <td>0.333333</td>\n",
       "      <td>0</td>\n",
       "      <td>1</td>\n",
       "      <td>1.709376</td>\n",
       "      <td>0.155130</td>\n",
       "      <td>DictRam</td>\n",
       "      <td>...</td>\n",
       "      <td>{\"resolution\": 16}</td>\n",
       "      <td>wine experiment</td>\n",
       "      <td>1036</td>\n",
       "      <td>124</td>\n",
       "      <td>54</td>\n",
       "      <td>3</td>\n",
       "      <td>13</td>\n",
       "      <td>3</td>\n",
       "      <td>1671457696</td>\n",
       "      <td>208</td>\n",
       "    </tr>\n",
       "  </tbody>\n",
       "</table>\n",
       "<p>6339 rows × 24 columns</p>\n",
       "</div>"
      ],
      "text/plain": [
       "     bleach  accuracy  f1 weighted  f1 macro  f1 micro  ties  run  train time  \\\n",
       "0         2  0.918129     0.918781  0.914107  0.918129    18    1    1.812207   \n",
       "1         5  0.929825     0.929825  0.925088  0.929825     7    1    1.812207   \n",
       "2        10  0.947368     0.947101  0.943263  0.947368     3    1    1.812207   \n",
       "3         2  0.929825     0.930384  0.926378  0.929825    26    2    0.497607   \n",
       "4         5  0.941520     0.941694  0.937954  0.941520    13    2    0.497607   \n",
       "..      ...       ...          ...       ...       ...   ...  ...         ...   \n",
       "431       5  0.870370     0.869781  0.873519  0.870370     3    3    0.071017   \n",
       "432       8  0.888889     0.888060  0.892690  0.888889     6    3    0.071017   \n",
       "433      10  0.814815     0.812150  0.816460  0.814815     5    3    0.071017   \n",
       "434      15  0.814815     0.798173  0.808999  0.814815     4    3    0.071017   \n",
       "0         2  0.333333     0.166667  0.166667  0.333333     0    1    1.709376   \n",
       "\n",
       "     predict time          ram name  ...      encoder kwargs  \\\n",
       "0        0.481705           DictRam  ...  {\"resolution\": 16}   \n",
       "1        0.338999           DictRam  ...  {\"resolution\": 16}   \n",
       "2        0.338749           DictRam  ...  {\"resolution\": 16}   \n",
       "3        0.338319           DictRam  ...  {\"resolution\": 16}   \n",
       "4        0.339714           DictRam  ...  {\"resolution\": 16}   \n",
       "..            ...               ...  ...                 ...   \n",
       "431      0.087331  stream-threshold  ...  {\"resolution\": 16}   \n",
       "432      0.086613  stream-threshold  ...  {\"resolution\": 16}   \n",
       "433      0.081598  stream-threshold  ...  {\"resolution\": 16}   \n",
       "434      0.081574  stream-threshold  ...  {\"resolution\": 16}   \n",
       "0        0.155130           DictRam  ...  {\"resolution\": 16}   \n",
       "\n",
       "              experiment name model size train samples test samples classes  \\\n",
       "0    breast_cancer experiment       9624           398          171       2   \n",
       "1    breast_cancer experiment       9624           398          171       2   \n",
       "2    breast_cancer experiment       9624           398          171       2   \n",
       "3    breast_cancer experiment       9720           398          171       2   \n",
       "4    breast_cancer experiment       9720           398          171       2   \n",
       "..                        ...        ...           ...          ...     ...   \n",
       "431           wine experiment     117624           124           54       3   \n",
       "432           wine experiment     117624           124           54       3   \n",
       "433           wine experiment     117624           124           54       3   \n",
       "434           wine experiment     117624           124           54       3   \n",
       "0             wine experiment       1036           124           54       3   \n",
       "\n",
       "     rams per discriminator  discriminators        seed  indices  \n",
       "0                        30               2  1670370805      480  \n",
       "1                        30               2  1670370805      480  \n",
       "2                        30               2  1670370805      480  \n",
       "3                        30               2  1670370808      480  \n",
       "4                        30               2  1670370808      480  \n",
       "..                      ...             ...         ...      ...  \n",
       "431                      13               3  1670371352      208  \n",
       "432                      13               3  1670371352      208  \n",
       "433                      13               3  1670371352      208  \n",
       "434                      13               3  1670371352      208  \n",
       "0                        13               3  1671457696      208  \n",
       "\n",
       "[6339 rows x 24 columns]"
      ]
     },
     "execution_count": 5,
     "metadata": {},
     "output_type": "execute_result"
    }
   ],
   "source": [
    "df = df[df[\"dataset name\"] != \"segment\"]\n",
    "df = df[df[\"ram kwargs\"] != '{\"est_elements\": 1000, \"false_positive_rate\": 0.05}']\n",
    "df = df[df[\"ram kwargs\"] != '{\"width\": 1000, \"depth\": 5}']\n",
    "df = df[df[\"ram kwargs\"] != '{\"width\": 1000, \"depth\": 3}']\n",
    "df\n"
   ]
  },
  {
   "cell_type": "code",
   "execution_count": 46,
   "id": "1c026bb9",
   "metadata": {},
   "outputs": [],
   "source": [
    "rename_elements = {\n",
    "    'DictRam {}': \"Dict-WiSARD\",\n",
    "    'count-bloom {\"est_elements\": 100, \"false_positive_rate\": 0.02}': 'CB FPR=0.02',\n",
    "    'count-bloom {\"est_elements\": 100, \"false_positive_rate\": 0.05}': 'CB FPR=0.05',\n",
    "    'count-bloom {\"est_elements\": 100, \"false_positive_rate\": 0.08}': 'CB FPR=0.08',\n",
    "    'count-min-sketch {\"width\": 20, \"depth\": 2}': 'CMS W=20 D=2',\n",
    "    'count-min-sketch {\"width\": 20, \"depth\": 3}': 'CMS W=20 D=3',\n",
    "    'count-min-sketch {\"width\": 50, \"depth\": 2}': 'CMS W=50 D=2',\n",
    "    'count-min-sketch {\"width\": 50, \"depth\": 3}': 'CMS W=50 D=3',\n",
    "    'count-min-sketch {\"width\": 100, \"depth\": 3}': 'CMS W=100 D=3',\n",
    "    'count-min-sketch {\"width\": 100, \"depth\": 5}': 'CMS W=100 D=5',\n",
    "    #'count-min-sketch {\"width\": 500, \"depth\": 3}': 'CMS W=500 D=3',\n",
    "    # 'count-min-sketch {\"width\": 500, \"depth\": 5}': 'CMS W=500 D=5',\n",
    "    # 'count-min-sketch {\"width\": 1000, \"depth\": 3}': 'CMS W=1000 D=3',\n",
    "    # 'count-min-sketch {\"width\": 1000, \"depth\": 5}': 'CMS W=1000 D=5',\n",
    "}\n",
    "\n",
    "element_order = [\n",
    "    \"Dict-WiSARD\",\n",
    "    'CB FPR=0.02',\n",
    "    'CB FPR=0.05',\n",
    "    'CB FPR=0.08',\n",
    "    'CMS W=20 D=2',\n",
    "    'CMS W=20 D=3',\n",
    "    'CMS W=50 D=2',\n",
    "    'CMS W=50 D=3',\n",
    "    'CMS W=100 D=3',\n",
    "    'CMS W=100 D=5',\n",
    "    #'CMS W=500 D=3',\n",
    "    # 'CMS W=500 D=5',\n",
    "    # 'CMS W=1000 D=3',\n",
    "    # 'CMS W=1000 D=5'\n",
    "]\n",
    "\n",
    "datasets_order = [\n",
    "    \"iris\",\n",
    "    \"glass\",\n",
    "    \"wine\",\n",
    "    \"vehicle\",\n",
    "    \"breast_cancer\",\n",
    "    # \"segment (368)\",\n",
    "    \"satimage\",\n",
    "    'letter',\n",
    "    'motion_sense',\n",
    "    'mnist'\n",
    "]"
   ]
  },
  {
   "cell_type": "code",
   "execution_count": 47,
   "id": "e69d66a7",
   "metadata": {},
   "outputs": [],
   "source": [
    "def get_best(df: pd.DataFrame, metric: str = None, improvement_col: str = \"DictRam {}\"):\n",
    "    configs = list(k for k, _ in df[df[\"ram name\"].isin([\"DictRam\", \"count-min-sketch\", \"count-bloom\"])].groupby([\"ram name\", \"ram kwargs\"]))\n",
    "    datasets = list(df[\"dataset name\"].unique())\n",
    "\n",
    "    d = defaultdict(dict)\n",
    "    for c in configs:\n",
    "        c_str = f\"{c[0]} {c[1]}\"\n",
    "        for dset in datasets:\n",
    "            metric_to_use = metrics_to_use[dset]\n",
    "            x = df.loc[(df[\"ram name\"] == c[0]) & (df[\"ram kwargs\"] == c[1]) & (df[\"dataset name\"] == dset)]\n",
    "            best = x.sort_values(by=metric_to_use, ascending=False).iloc[0]\n",
    "            if metric is None:\n",
    "                metric = metric_to_use\n",
    "            d[c_str][dset] = best[metric]\n",
    "            \n",
    "    d = pd.DataFrame(d)\n",
    "    if improvement_col is not None:\n",
    "        r = d[improvement_col]\n",
    "        for c in d.columns:\n",
    "            d[c] = d[c] / r\n",
    "                \n",
    "    return pd.DataFrame(d)\n",
    "\n",
    "def do_rename_and_reorder(d, remove_dict: bool = False):\n",
    "    d = d.rename(columns=rename_elements)\n",
    "    if remove_dict:\n",
    "        d = d[element_order[1:]]\n",
    "    else:\n",
    "        d = d[element_order]\n",
    "    d = d.T\n",
    "    # d = d.rename(columns=datasets_rename)\n",
    "    d = d[datasets_order]\n",
    "    return d\n"
   ]
  },
  {
   "cell_type": "code",
   "execution_count": 57,
   "id": "849c24b6",
   "metadata": {},
   "outputs": [
    {
     "name": "stdout",
     "output_type": "stream",
     "text": [
      "Figure written to: figures/size_improvement.pdf\n",
      "Filename   : size_improvement.pdf\n",
      "Latex label: size_improvement\n"
     ]
    },
    {
     "data": {
      "application/vnd.plotly.v1+json": {
       "config": {
        "plotlyServerURL": "https://plot.ly"
       },
       "data": [
        {
         "coloraxis": "coloraxis",
         "hovertemplate": "x: %{x}<br>y: %{y}<br>color: %{z}<extra></extra>",
         "name": "0",
         "texttemplate": "%{z:.2f}",
         "type": "heatmap",
         "x": [
          "CB FPR=0.02",
          "CB FPR=0.05",
          "CB FPR=0.08",
          "CMS W=20 D=2",
          "CMS W=20 D=3",
          "CMS W=50 D=2",
          "CMS W=50 D=3",
          "CMS W=100 D=3",
          "CMS W=100 D=5"
         ],
         "xaxis": "x",
         "y": [
          "iris",
          "glass",
          "wine",
          "vehicle",
          "breast_cancer",
          "satimage",
          "letter",
          "motion_sense",
          "mnist"
         ],
         "yaxis": "y",
         "z": [
          [
           46.19718309859155,
           35.436619718309856,
           29.91549295774648,
           2.4788732394366195,
           3.6056338028169015,
           5.859154929577465,
           8.67605633802817,
           17.12676056338028,
           28.3943661971831
          ],
          [
           14.278113663845224,
           10.95235792019347,
           24.655864570737606,
           2.043047158403869,
           2.9717049576783556,
           4.829020556227328,
           7.150665054413543,
           5.293349455864571,
           8.775816203143894
          ],
          [
           41.18480360592402,
           31.59175788795879,
           26.66967160334836,
           2.2099162910495815,
           3.2144236960721186,
           5.223438506117192,
           7.734707018673535,
           15.268512556342563,
           25.313586606567934
          ],
          [
           31.810344827586206,
           24.400862068965516,
           20.599137931034484,
           1.706896551724138,
           2.4827586206896552,
           4.0344827586206895,
           5.974137931034483,
           11.793103448275861,
           19.551724137931036
          ],
          [
           20.551378446115287,
           15.764411027568922,
           13.308270676691729,
           1.1027568922305764,
           1.6040100250626566,
           2.606516290726817,
           3.8596491228070176,
           7.619047619047619,
           12.631578947368421
          ],
          [
           6.547208694125366,
           5.0221881324449456,
           4.2397168494885,
           0.3513136372457514,
           0.5110016541756384,
           0.8303776880354123,
           1.2295977303601298,
           2.4272578573342822,
           4.0241380266331515
          ],
          [
           9.047255945947738,
           6.939907304879424,
           5.858649886949084,
           0.48546251417280545,
           0.7061272933422624,
           1.1474568516811765,
           1.6991187996048192,
           3.354104643375747,
           5.560752435070317
          ],
          [
           4.890642559524632,
           3.7514806950499917,
           3.166989267204365,
           0.2624247227061997,
           0.38170868757265414,
           0.620276617305563,
           0.9184865294716991,
           1.8131162659701072,
           3.0059559146346513
          ],
          [
           2.8651675878807974,
           2.197793186313441,
           1.8553707184935408,
           0.1537406998375062,
           0.22362283612728176,
           0.36338710870683283,
           0.5380924494312718,
           1.0622084716045883,
           1.7610298345023438
          ]
         ]
        }
       ],
       "layout": {
        "coloraxis": {
         "cmax": 46.19718309859155,
         "cmid": 1,
         "cmin": 0,
         "colorscale": [
          [
           0,
           "lightgreen"
          ],
          [
           0.01,
           "lightyellow"
          ],
          [
           1,
           "red"
          ]
         ]
        },
        "font": {
         "family": "Times New Roman",
         "size": 12
        },
        "height": 200,
        "margin": {
         "b": 0,
         "l": 0,
         "r": 0,
         "t": 10
        },
        "template": {
         "data": {
          "bar": [
           {
            "error_x": {
             "color": "#2a3f5f"
            },
            "error_y": {
             "color": "#2a3f5f"
            },
            "marker": {
             "line": {
              "color": "#E5ECF6",
              "width": 0.5
             },
             "pattern": {
              "fillmode": "overlay",
              "size": 10,
              "solidity": 0.2
             }
            },
            "type": "bar"
           }
          ],
          "barpolar": [
           {
            "marker": {
             "line": {
              "color": "#E5ECF6",
              "width": 0.5
             },
             "pattern": {
              "fillmode": "overlay",
              "size": 10,
              "solidity": 0.2
             }
            },
            "type": "barpolar"
           }
          ],
          "carpet": [
           {
            "aaxis": {
             "endlinecolor": "#2a3f5f",
             "gridcolor": "white",
             "linecolor": "white",
             "minorgridcolor": "white",
             "startlinecolor": "#2a3f5f"
            },
            "baxis": {
             "endlinecolor": "#2a3f5f",
             "gridcolor": "white",
             "linecolor": "white",
             "minorgridcolor": "white",
             "startlinecolor": "#2a3f5f"
            },
            "type": "carpet"
           }
          ],
          "choropleth": [
           {
            "colorbar": {
             "outlinewidth": 0,
             "ticks": ""
            },
            "type": "choropleth"
           }
          ],
          "contour": [
           {
            "colorbar": {
             "outlinewidth": 0,
             "ticks": ""
            },
            "colorscale": [
             [
              0,
              "#0d0887"
             ],
             [
              0.1111111111111111,
              "#46039f"
             ],
             [
              0.2222222222222222,
              "#7201a8"
             ],
             [
              0.3333333333333333,
              "#9c179e"
             ],
             [
              0.4444444444444444,
              "#bd3786"
             ],
             [
              0.5555555555555556,
              "#d8576b"
             ],
             [
              0.6666666666666666,
              "#ed7953"
             ],
             [
              0.7777777777777778,
              "#fb9f3a"
             ],
             [
              0.8888888888888888,
              "#fdca26"
             ],
             [
              1,
              "#f0f921"
             ]
            ],
            "type": "contour"
           }
          ],
          "contourcarpet": [
           {
            "colorbar": {
             "outlinewidth": 0,
             "ticks": ""
            },
            "type": "contourcarpet"
           }
          ],
          "heatmap": [
           {
            "colorbar": {
             "outlinewidth": 0,
             "ticks": ""
            },
            "colorscale": [
             [
              0,
              "#0d0887"
             ],
             [
              0.1111111111111111,
              "#46039f"
             ],
             [
              0.2222222222222222,
              "#7201a8"
             ],
             [
              0.3333333333333333,
              "#9c179e"
             ],
             [
              0.4444444444444444,
              "#bd3786"
             ],
             [
              0.5555555555555556,
              "#d8576b"
             ],
             [
              0.6666666666666666,
              "#ed7953"
             ],
             [
              0.7777777777777778,
              "#fb9f3a"
             ],
             [
              0.8888888888888888,
              "#fdca26"
             ],
             [
              1,
              "#f0f921"
             ]
            ],
            "type": "heatmap"
           }
          ],
          "heatmapgl": [
           {
            "colorbar": {
             "outlinewidth": 0,
             "ticks": ""
            },
            "colorscale": [
             [
              0,
              "#0d0887"
             ],
             [
              0.1111111111111111,
              "#46039f"
             ],
             [
              0.2222222222222222,
              "#7201a8"
             ],
             [
              0.3333333333333333,
              "#9c179e"
             ],
             [
              0.4444444444444444,
              "#bd3786"
             ],
             [
              0.5555555555555556,
              "#d8576b"
             ],
             [
              0.6666666666666666,
              "#ed7953"
             ],
             [
              0.7777777777777778,
              "#fb9f3a"
             ],
             [
              0.8888888888888888,
              "#fdca26"
             ],
             [
              1,
              "#f0f921"
             ]
            ],
            "type": "heatmapgl"
           }
          ],
          "histogram": [
           {
            "marker": {
             "pattern": {
              "fillmode": "overlay",
              "size": 10,
              "solidity": 0.2
             }
            },
            "type": "histogram"
           }
          ],
          "histogram2d": [
           {
            "colorbar": {
             "outlinewidth": 0,
             "ticks": ""
            },
            "colorscale": [
             [
              0,
              "#0d0887"
             ],
             [
              0.1111111111111111,
              "#46039f"
             ],
             [
              0.2222222222222222,
              "#7201a8"
             ],
             [
              0.3333333333333333,
              "#9c179e"
             ],
             [
              0.4444444444444444,
              "#bd3786"
             ],
             [
              0.5555555555555556,
              "#d8576b"
             ],
             [
              0.6666666666666666,
              "#ed7953"
             ],
             [
              0.7777777777777778,
              "#fb9f3a"
             ],
             [
              0.8888888888888888,
              "#fdca26"
             ],
             [
              1,
              "#f0f921"
             ]
            ],
            "type": "histogram2d"
           }
          ],
          "histogram2dcontour": [
           {
            "colorbar": {
             "outlinewidth": 0,
             "ticks": ""
            },
            "colorscale": [
             [
              0,
              "#0d0887"
             ],
             [
              0.1111111111111111,
              "#46039f"
             ],
             [
              0.2222222222222222,
              "#7201a8"
             ],
             [
              0.3333333333333333,
              "#9c179e"
             ],
             [
              0.4444444444444444,
              "#bd3786"
             ],
             [
              0.5555555555555556,
              "#d8576b"
             ],
             [
              0.6666666666666666,
              "#ed7953"
             ],
             [
              0.7777777777777778,
              "#fb9f3a"
             ],
             [
              0.8888888888888888,
              "#fdca26"
             ],
             [
              1,
              "#f0f921"
             ]
            ],
            "type": "histogram2dcontour"
           }
          ],
          "mesh3d": [
           {
            "colorbar": {
             "outlinewidth": 0,
             "ticks": ""
            },
            "type": "mesh3d"
           }
          ],
          "parcoords": [
           {
            "line": {
             "colorbar": {
              "outlinewidth": 0,
              "ticks": ""
             }
            },
            "type": "parcoords"
           }
          ],
          "pie": [
           {
            "automargin": true,
            "type": "pie"
           }
          ],
          "scatter": [
           {
            "fillpattern": {
             "fillmode": "overlay",
             "size": 10,
             "solidity": 0.2
            },
            "type": "scatter"
           }
          ],
          "scatter3d": [
           {
            "line": {
             "colorbar": {
              "outlinewidth": 0,
              "ticks": ""
             }
            },
            "marker": {
             "colorbar": {
              "outlinewidth": 0,
              "ticks": ""
             }
            },
            "type": "scatter3d"
           }
          ],
          "scattercarpet": [
           {
            "marker": {
             "colorbar": {
              "outlinewidth": 0,
              "ticks": ""
             }
            },
            "type": "scattercarpet"
           }
          ],
          "scattergeo": [
           {
            "marker": {
             "colorbar": {
              "outlinewidth": 0,
              "ticks": ""
             }
            },
            "type": "scattergeo"
           }
          ],
          "scattergl": [
           {
            "marker": {
             "colorbar": {
              "outlinewidth": 0,
              "ticks": ""
             }
            },
            "type": "scattergl"
           }
          ],
          "scattermapbox": [
           {
            "marker": {
             "colorbar": {
              "outlinewidth": 0,
              "ticks": ""
             }
            },
            "type": "scattermapbox"
           }
          ],
          "scatterpolar": [
           {
            "marker": {
             "colorbar": {
              "outlinewidth": 0,
              "ticks": ""
             }
            },
            "type": "scatterpolar"
           }
          ],
          "scatterpolargl": [
           {
            "marker": {
             "colorbar": {
              "outlinewidth": 0,
              "ticks": ""
             }
            },
            "type": "scatterpolargl"
           }
          ],
          "scatterternary": [
           {
            "marker": {
             "colorbar": {
              "outlinewidth": 0,
              "ticks": ""
             }
            },
            "type": "scatterternary"
           }
          ],
          "surface": [
           {
            "colorbar": {
             "outlinewidth": 0,
             "ticks": ""
            },
            "colorscale": [
             [
              0,
              "#0d0887"
             ],
             [
              0.1111111111111111,
              "#46039f"
             ],
             [
              0.2222222222222222,
              "#7201a8"
             ],
             [
              0.3333333333333333,
              "#9c179e"
             ],
             [
              0.4444444444444444,
              "#bd3786"
             ],
             [
              0.5555555555555556,
              "#d8576b"
             ],
             [
              0.6666666666666666,
              "#ed7953"
             ],
             [
              0.7777777777777778,
              "#fb9f3a"
             ],
             [
              0.8888888888888888,
              "#fdca26"
             ],
             [
              1,
              "#f0f921"
             ]
            ],
            "type": "surface"
           }
          ],
          "table": [
           {
            "cells": {
             "fill": {
              "color": "#EBF0F8"
             },
             "line": {
              "color": "white"
             }
            },
            "header": {
             "fill": {
              "color": "#C8D4E3"
             },
             "line": {
              "color": "white"
             }
            },
            "type": "table"
           }
          ]
         },
         "layout": {
          "annotationdefaults": {
           "arrowcolor": "#2a3f5f",
           "arrowhead": 0,
           "arrowwidth": 1
          },
          "autotypenumbers": "strict",
          "coloraxis": {
           "colorbar": {
            "outlinewidth": 0,
            "ticks": ""
           }
          },
          "colorscale": {
           "diverging": [
            [
             0,
             "#8e0152"
            ],
            [
             0.1,
             "#c51b7d"
            ],
            [
             0.2,
             "#de77ae"
            ],
            [
             0.3,
             "#f1b6da"
            ],
            [
             0.4,
             "#fde0ef"
            ],
            [
             0.5,
             "#f7f7f7"
            ],
            [
             0.6,
             "#e6f5d0"
            ],
            [
             0.7,
             "#b8e186"
            ],
            [
             0.8,
             "#7fbc41"
            ],
            [
             0.9,
             "#4d9221"
            ],
            [
             1,
             "#276419"
            ]
           ],
           "sequential": [
            [
             0,
             "#0d0887"
            ],
            [
             0.1111111111111111,
             "#46039f"
            ],
            [
             0.2222222222222222,
             "#7201a8"
            ],
            [
             0.3333333333333333,
             "#9c179e"
            ],
            [
             0.4444444444444444,
             "#bd3786"
            ],
            [
             0.5555555555555556,
             "#d8576b"
            ],
            [
             0.6666666666666666,
             "#ed7953"
            ],
            [
             0.7777777777777778,
             "#fb9f3a"
            ],
            [
             0.8888888888888888,
             "#fdca26"
            ],
            [
             1,
             "#f0f921"
            ]
           ],
           "sequentialminus": [
            [
             0,
             "#0d0887"
            ],
            [
             0.1111111111111111,
             "#46039f"
            ],
            [
             0.2222222222222222,
             "#7201a8"
            ],
            [
             0.3333333333333333,
             "#9c179e"
            ],
            [
             0.4444444444444444,
             "#bd3786"
            ],
            [
             0.5555555555555556,
             "#d8576b"
            ],
            [
             0.6666666666666666,
             "#ed7953"
            ],
            [
             0.7777777777777778,
             "#fb9f3a"
            ],
            [
             0.8888888888888888,
             "#fdca26"
            ],
            [
             1,
             "#f0f921"
            ]
           ]
          },
          "colorway": [
           "#636efa",
           "#EF553B",
           "#00cc96",
           "#ab63fa",
           "#FFA15A",
           "#19d3f3",
           "#FF6692",
           "#B6E880",
           "#FF97FF",
           "#FECB52"
          ],
          "font": {
           "color": "#2a3f5f"
          },
          "geo": {
           "bgcolor": "white",
           "lakecolor": "white",
           "landcolor": "#E5ECF6",
           "showlakes": true,
           "showland": true,
           "subunitcolor": "white"
          },
          "hoverlabel": {
           "align": "left"
          },
          "hovermode": "closest",
          "mapbox": {
           "style": "light"
          },
          "paper_bgcolor": "white",
          "plot_bgcolor": "#E5ECF6",
          "polar": {
           "angularaxis": {
            "gridcolor": "white",
            "linecolor": "white",
            "ticks": ""
           },
           "bgcolor": "#E5ECF6",
           "radialaxis": {
            "gridcolor": "white",
            "linecolor": "white",
            "ticks": ""
           }
          },
          "scene": {
           "xaxis": {
            "backgroundcolor": "#E5ECF6",
            "gridcolor": "white",
            "gridwidth": 2,
            "linecolor": "white",
            "showbackground": true,
            "ticks": "",
            "zerolinecolor": "white"
           },
           "yaxis": {
            "backgroundcolor": "#E5ECF6",
            "gridcolor": "white",
            "gridwidth": 2,
            "linecolor": "white",
            "showbackground": true,
            "ticks": "",
            "zerolinecolor": "white"
           },
           "zaxis": {
            "backgroundcolor": "#E5ECF6",
            "gridcolor": "white",
            "gridwidth": 2,
            "linecolor": "white",
            "showbackground": true,
            "ticks": "",
            "zerolinecolor": "white"
           }
          },
          "shapedefaults": {
           "line": {
            "color": "#2a3f5f"
           }
          },
          "ternary": {
           "aaxis": {
            "gridcolor": "white",
            "linecolor": "white",
            "ticks": ""
           },
           "baxis": {
            "gridcolor": "white",
            "linecolor": "white",
            "ticks": ""
           },
           "bgcolor": "#E5ECF6",
           "caxis": {
            "gridcolor": "white",
            "linecolor": "white",
            "ticks": ""
           }
          },
          "title": {
           "x": 0.05
          },
          "xaxis": {
           "automargin": true,
           "gridcolor": "white",
           "linecolor": "white",
           "ticks": "",
           "title": {
            "standoff": 15
           },
           "zerolinecolor": "white",
           "zerolinewidth": 2
          },
          "yaxis": {
           "automargin": true,
           "gridcolor": "white",
           "linecolor": "white",
           "ticks": "",
           "title": {
            "standoff": 15
           },
           "zerolinecolor": "white",
           "zerolinewidth": 2
          }
         }
        },
        "width": 1000,
        "xaxis": {
         "anchor": "y",
         "autorange": true,
         "domain": [
          0,
          1
         ],
         "range": [
          -0.5,
          8.5
         ],
         "tickangle": 0,
         "tickfont": {
          "size": 12
         },
         "type": "category"
        },
        "yaxis": {
         "anchor": "x",
         "autorange": true,
         "domain": [
          0,
          1
         ],
         "range": [
          8.5,
          -0.5
         ],
         "tickangle": 0,
         "tickfont": {
          "size": 12
         },
         "type": "category"
        }
       }
      },
      "image/png": "[encoded data removed]",
      "text/html": [
       "<div>                            <div id=\"c7bdd9d6-f41a-4de3-9fe1-8868f48814c7\" class=\"plotly-graph-div\" style=\"height:200px; width:1000px;\"></div>            <script type=\"text/javascript\">                require([\"plotly\"], function(Plotly) {                    window.PLOTLYENV=window.PLOTLYENV || {};                                    if (document.getElementById(\"c7bdd9d6-f41a-4de3-9fe1-8868f48814c7\")) {                    Plotly.newPlot(                        \"c7bdd9d6-f41a-4de3-9fe1-8868f48814c7\",                        [{\"coloraxis\":\"coloraxis\",\"name\":\"0\",\"texttemplate\":\"%{z:.2f}\",\"x\":[\"CB FPR=0.02\",\"CB FPR=0.05\",\"CB FPR=0.08\",\"CMS W=20 D=2\",\"CMS W=20 D=3\",\"CMS W=50 D=2\",\"CMS W=50 D=3\",\"CMS W=100 D=3\",\"CMS W=100 D=5\"],\"y\":[\"iris\",\"glass\",\"wine\",\"vehicle\",\"breast_cancer\",\"satimage\",\"letter\",\"motion_sense\",\"mnist\"],\"z\":[[46.19718309859155,35.436619718309856,29.91549295774648,2.4788732394366195,3.6056338028169015,5.859154929577465,8.67605633802817,17.12676056338028,28.3943661971831],[14.278113663845224,10.95235792019347,24.655864570737606,2.043047158403869,2.9717049576783556,4.829020556227328,7.150665054413543,5.293349455864571,8.775816203143894],[41.18480360592402,31.59175788795879,26.66967160334836,2.2099162910495815,3.2144236960721186,5.223438506117192,7.734707018673535,15.268512556342563,25.313586606567934],[31.810344827586206,24.400862068965516,20.599137931034484,1.706896551724138,2.4827586206896552,4.0344827586206895,5.974137931034483,11.793103448275861,19.551724137931036],[20.551378446115287,15.764411027568922,13.308270676691729,1.1027568922305764,1.6040100250626566,2.606516290726817,3.8596491228070176,7.619047619047619,12.631578947368421],[6.547208694125366,5.0221881324449456,4.2397168494885,0.3513136372457514,0.5110016541756384,0.8303776880354123,1.2295977303601298,2.4272578573342822,4.0241380266331515],[9.047255945947738,6.939907304879424,5.858649886949084,0.48546251417280545,0.7061272933422624,1.1474568516811765,1.6991187996048192,3.354104643375747,5.560752435070317],[4.890642559524632,3.7514806950499917,3.166989267204365,0.2624247227061997,0.38170868757265414,0.620276617305563,0.9184865294716991,1.8131162659701072,3.0059559146346513],[2.8651675878807974,2.197793186313441,1.8553707184935408,0.1537406998375062,0.22362283612728176,0.36338710870683283,0.5380924494312718,1.0622084716045883,1.7610298345023438]],\"type\":\"heatmap\",\"xaxis\":\"x\",\"yaxis\":\"y\",\"hovertemplate\":\"x: %{x}<br>y: %{y}<br>color: %{z}<extra></extra>\"}],                        {\"template\":{\"data\":{\"histogram2dcontour\":[{\"type\":\"histogram2dcontour\",\"colorbar\":{\"outlinewidth\":0,\"ticks\":\"\"},\"colorscale\":[[0.0,\"#0d0887\"],[0.1111111111111111,\"#46039f\"],[0.2222222222222222,\"#7201a8\"],[0.3333333333333333,\"#9c179e\"],[0.4444444444444444,\"#bd3786\"],[0.5555555555555556,\"#d8576b\"],[0.6666666666666666,\"#ed7953\"],[0.7777777777777778,\"#fb9f3a\"],[0.8888888888888888,\"#fdca26\"],[1.0,\"#f0f921\"]]}],\"choropleth\":[{\"type\":\"choropleth\",\"colorbar\":{\"outlinewidth\":0,\"ticks\":\"\"}}],\"histogram2d\":[{\"type\":\"histogram2d\",\"colorbar\":{\"outlinewidth\":0,\"ticks\":\"\"},\"colorscale\":[[0.0,\"#0d0887\"],[0.1111111111111111,\"#46039f\"],[0.2222222222222222,\"#7201a8\"],[0.3333333333333333,\"#9c179e\"],[0.4444444444444444,\"#bd3786\"],[0.5555555555555556,\"#d8576b\"],[0.6666666666666666,\"#ed7953\"],[0.7777777777777778,\"#fb9f3a\"],[0.8888888888888888,\"#fdca26\"],[1.0,\"#f0f921\"]]}],\"heatmap\":[{\"type\":\"heatmap\",\"colorbar\":{\"outlinewidth\":0,\"ticks\":\"\"},\"colorscale\":[[0.0,\"#0d0887\"],[0.1111111111111111,\"#46039f\"],[0.2222222222222222,\"#7201a8\"],[0.3333333333333333,\"#9c179e\"],[0.4444444444444444,\"#bd3786\"],[0.5555555555555556,\"#d8576b\"],[0.6666666666666666,\"#ed7953\"],[0.7777777777777778,\"#fb9f3a\"],[0.8888888888888888,\"#fdca26\"],[1.0,\"#f0f921\"]]}],\"heatmapgl\":[{\"type\":\"heatmapgl\",\"colorbar\":{\"outlinewidth\":0,\"ticks\":\"\"},\"colorscale\":[[0.0,\"#0d0887\"],[0.1111111111111111,\"#46039f\"],[0.2222222222222222,\"#7201a8\"],[0.3333333333333333,\"#9c179e\"],[0.4444444444444444,\"#bd3786\"],[0.5555555555555556,\"#d8576b\"],[0.6666666666666666,\"#ed7953\"],[0.7777777777777778,\"#fb9f3a\"],[0.8888888888888888,\"#fdca26\"],[1.0,\"#f0f921\"]]}],\"contourcarpet\":[{\"type\":\"contourcarpet\",\"colorbar\":{\"outlinewidth\":0,\"ticks\":\"\"}}],\"contour\":[{\"type\":\"contour\",\"colorbar\":{\"outlinewidth\":0,\"ticks\":\"\"},\"colorscale\":[[0.0,\"#0d0887\"],[0.1111111111111111,\"#46039f\"],[0.2222222222222222,\"#7201a8\"],[0.3333333333333333,\"#9c179e\"],[0.4444444444444444,\"#bd3786\"],[0.5555555555555556,\"#d8576b\"],[0.6666666666666666,\"#ed7953\"],[0.7777777777777778,\"#fb9f3a\"],[0.8888888888888888,\"#fdca26\"],[1.0,\"#f0f921\"]]}],\"surface\":[{\"type\":\"surface\",\"colorbar\":{\"outlinewidth\":0,\"ticks\":\"\"},\"colorscale\":[[0.0,\"#0d0887\"],[0.1111111111111111,\"#46039f\"],[0.2222222222222222,\"#7201a8\"],[0.3333333333333333,\"#9c179e\"],[0.4444444444444444,\"#bd3786\"],[0.5555555555555556,\"#d8576b\"],[0.6666666666666666,\"#ed7953\"],[0.7777777777777778,\"#fb9f3a\"],[0.8888888888888888,\"#fdca26\"],[1.0,\"#f0f921\"]]}],\"mesh3d\":[{\"type\":\"mesh3d\",\"colorbar\":{\"outlinewidth\":0,\"ticks\":\"\"}}],\"scatter\":[{\"fillpattern\":{\"fillmode\":\"overlay\",\"size\":10,\"solidity\":0.2},\"type\":\"scatter\"}],\"parcoords\":[{\"type\":\"parcoords\",\"line\":{\"colorbar\":{\"outlinewidth\":0,\"ticks\":\"\"}}}],\"scatterpolargl\":[{\"type\":\"scatterpolargl\",\"marker\":{\"colorbar\":{\"outlinewidth\":0,\"ticks\":\"\"}}}],\"bar\":[{\"error_x\":{\"color\":\"#2a3f5f\"},\"error_y\":{\"color\":\"#2a3f5f\"},\"marker\":{\"line\":{\"color\":\"#E5ECF6\",\"width\":0.5},\"pattern\":{\"fillmode\":\"overlay\",\"size\":10,\"solidity\":0.2}},\"type\":\"bar\"}],\"scattergeo\":[{\"type\":\"scattergeo\",\"marker\":{\"colorbar\":{\"outlinewidth\":0,\"ticks\":\"\"}}}],\"scatterpolar\":[{\"type\":\"scatterpolar\",\"marker\":{\"colorbar\":{\"outlinewidth\":0,\"ticks\":\"\"}}}],\"histogram\":[{\"marker\":{\"pattern\":{\"fillmode\":\"overlay\",\"size\":10,\"solidity\":0.2}},\"type\":\"histogram\"}],\"scattergl\":[{\"type\":\"scattergl\",\"marker\":{\"colorbar\":{\"outlinewidth\":0,\"ticks\":\"\"}}}],\"scatter3d\":[{\"type\":\"scatter3d\",\"line\":{\"colorbar\":{\"outlinewidth\":0,\"ticks\":\"\"}},\"marker\":{\"colorbar\":{\"outlinewidth\":0,\"ticks\":\"\"}}}],\"scattermapbox\":[{\"type\":\"scattermapbox\",\"marker\":{\"colorbar\":{\"outlinewidth\":0,\"ticks\":\"\"}}}],\"scatterternary\":[{\"type\":\"scatterternary\",\"marker\":{\"colorbar\":{\"outlinewidth\":0,\"ticks\":\"\"}}}],\"scattercarpet\":[{\"type\":\"scattercarpet\",\"marker\":{\"colorbar\":{\"outlinewidth\":0,\"ticks\":\"\"}}}],\"carpet\":[{\"aaxis\":{\"endlinecolor\":\"#2a3f5f\",\"gridcolor\":\"white\",\"linecolor\":\"white\",\"minorgridcolor\":\"white\",\"startlinecolor\":\"#2a3f5f\"},\"baxis\":{\"endlinecolor\":\"#2a3f5f\",\"gridcolor\":\"white\",\"linecolor\":\"white\",\"minorgridcolor\":\"white\",\"startlinecolor\":\"#2a3f5f\"},\"type\":\"carpet\"}],\"table\":[{\"cells\":{\"fill\":{\"color\":\"#EBF0F8\"},\"line\":{\"color\":\"white\"}},\"header\":{\"fill\":{\"color\":\"#C8D4E3\"},\"line\":{\"color\":\"white\"}},\"type\":\"table\"}],\"barpolar\":[{\"marker\":{\"line\":{\"color\":\"#E5ECF6\",\"width\":0.5},\"pattern\":{\"fillmode\":\"overlay\",\"size\":10,\"solidity\":0.2}},\"type\":\"barpolar\"}],\"pie\":[{\"automargin\":true,\"type\":\"pie\"}]},\"layout\":{\"autotypenumbers\":\"strict\",\"colorway\":[\"#636efa\",\"#EF553B\",\"#00cc96\",\"#ab63fa\",\"#FFA15A\",\"#19d3f3\",\"#FF6692\",\"#B6E880\",\"#FF97FF\",\"#FECB52\"],\"font\":{\"color\":\"#2a3f5f\"},\"hovermode\":\"closest\",\"hoverlabel\":{\"align\":\"left\"},\"paper_bgcolor\":\"white\",\"plot_bgcolor\":\"#E5ECF6\",\"polar\":{\"bgcolor\":\"#E5ECF6\",\"angularaxis\":{\"gridcolor\":\"white\",\"linecolor\":\"white\",\"ticks\":\"\"},\"radialaxis\":{\"gridcolor\":\"white\",\"linecolor\":\"white\",\"ticks\":\"\"}},\"ternary\":{\"bgcolor\":\"#E5ECF6\",\"aaxis\":{\"gridcolor\":\"white\",\"linecolor\":\"white\",\"ticks\":\"\"},\"baxis\":{\"gridcolor\":\"white\",\"linecolor\":\"white\",\"ticks\":\"\"},\"caxis\":{\"gridcolor\":\"white\",\"linecolor\":\"white\",\"ticks\":\"\"}},\"coloraxis\":{\"colorbar\":{\"outlinewidth\":0,\"ticks\":\"\"}},\"colorscale\":{\"sequential\":[[0.0,\"#0d0887\"],[0.1111111111111111,\"#46039f\"],[0.2222222222222222,\"#7201a8\"],[0.3333333333333333,\"#9c179e\"],[0.4444444444444444,\"#bd3786\"],[0.5555555555555556,\"#d8576b\"],[0.6666666666666666,\"#ed7953\"],[0.7777777777777778,\"#fb9f3a\"],[0.8888888888888888,\"#fdca26\"],[1.0,\"#f0f921\"]],\"sequentialminus\":[[0.0,\"#0d0887\"],[0.1111111111111111,\"#46039f\"],[0.2222222222222222,\"#7201a8\"],[0.3333333333333333,\"#9c179e\"],[0.4444444444444444,\"#bd3786\"],[0.5555555555555556,\"#d8576b\"],[0.6666666666666666,\"#ed7953\"],[0.7777777777777778,\"#fb9f3a\"],[0.8888888888888888,\"#fdca26\"],[1.0,\"#f0f921\"]],\"diverging\":[[0,\"#8e0152\"],[0.1,\"#c51b7d\"],[0.2,\"#de77ae\"],[0.3,\"#f1b6da\"],[0.4,\"#fde0ef\"],[0.5,\"#f7f7f7\"],[0.6,\"#e6f5d0\"],[0.7,\"#b8e186\"],[0.8,\"#7fbc41\"],[0.9,\"#4d9221\"],[1,\"#276419\"]]},\"xaxis\":{\"gridcolor\":\"white\",\"linecolor\":\"white\",\"ticks\":\"\",\"title\":{\"standoff\":15},\"zerolinecolor\":\"white\",\"automargin\":true,\"zerolinewidth\":2},\"yaxis\":{\"gridcolor\":\"white\",\"linecolor\":\"white\",\"ticks\":\"\",\"title\":{\"standoff\":15},\"zerolinecolor\":\"white\",\"automargin\":true,\"zerolinewidth\":2},\"scene\":{\"xaxis\":{\"backgroundcolor\":\"#E5ECF6\",\"gridcolor\":\"white\",\"linecolor\":\"white\",\"showbackground\":true,\"ticks\":\"\",\"zerolinecolor\":\"white\",\"gridwidth\":2},\"yaxis\":{\"backgroundcolor\":\"#E5ECF6\",\"gridcolor\":\"white\",\"linecolor\":\"white\",\"showbackground\":true,\"ticks\":\"\",\"zerolinecolor\":\"white\",\"gridwidth\":2},\"zaxis\":{\"backgroundcolor\":\"#E5ECF6\",\"gridcolor\":\"white\",\"linecolor\":\"white\",\"showbackground\":true,\"ticks\":\"\",\"zerolinecolor\":\"white\",\"gridwidth\":2}},\"shapedefaults\":{\"line\":{\"color\":\"#2a3f5f\"}},\"annotationdefaults\":{\"arrowcolor\":\"#2a3f5f\",\"arrowhead\":0,\"arrowwidth\":1},\"geo\":{\"bgcolor\":\"white\",\"landcolor\":\"#E5ECF6\",\"subunitcolor\":\"white\",\"showland\":true,\"showlakes\":true,\"lakecolor\":\"white\"},\"title\":{\"x\":0.05},\"mapbox\":{\"style\":\"light\"}}},\"xaxis\":{\"anchor\":\"y\",\"domain\":[0.0,1.0],\"tickfont\":{\"size\":12},\"tickangle\":0},\"yaxis\":{\"anchor\":\"x\",\"domain\":[0.0,1.0],\"autorange\":\"reversed\",\"tickfont\":{\"size\":12},\"tickangle\":0},\"coloraxis\":{\"colorscale\":[[0.0,\"lightgreen\"],[0.01,\"lightyellow\"],[1.0,\"red\"]],\"cmid\":1.0,\"cmin\":0,\"cmax\":46.19718309859155},\"margin\":{\"t\":10,\"l\":0,\"r\":0,\"b\":0},\"font\":{\"family\":\"Times New Roman\",\"size\":12},\"width\":1000,\"height\":200},                        {\"responsive\": true}                    ).then(function(){\n",
       "                            \n",
       "var gd = document.getElementById('c7bdd9d6-f41a-4de3-9fe1-8868f48814c7');\n",
       "var x = new MutationObserver(function (mutations, observer) {{\n",
       "        var display = window.getComputedStyle(gd).display;\n",
       "        if (!display || display === 'none') {{\n",
       "            console.log([gd, 'removed!']);\n",
       "            Plotly.purge(gd);\n",
       "            observer.disconnect();\n",
       "        }}\n",
       "}});\n",
       "\n",
       "// Listen for the removal of the full notebook cells\n",
       "var notebookContainer = gd.closest('#notebook-container');\n",
       "if (notebookContainer) {{\n",
       "    x.observe(notebookContainer, {childList: true});\n",
       "}}\n",
       "\n",
       "// Listen for the clearing of the current output cell\n",
       "var outputEl = gd.closest('.output');\n",
       "if (outputEl) {{\n",
       "    x.observe(outputEl, {childList: true});\n",
       "}}\n",
       "\n",
       "                        })                };                });            </script>        </div>"
      ]
     },
     "metadata": {},
     "output_type": "display_data"
    }
   ],
   "source": [
    "d = get_best(df, metric=\"model size\")\n",
    "d = do_rename_and_reorder(d, remove_dict=True)\n",
    "# d[\"max\"] = d.max(axis=1)\n",
    "# d[\"average\"] = d.mean(axis=1)\n",
    "# d[\"min\"] = d.min(axis=1)\n",
    "\n",
    "d = d.T\n",
    "\n",
    "fig = px.imshow(\n",
    "    d,\n",
    "    text_auto=\".2f\",\n",
    "    aspect=\"auto\",\n",
    "    # color_continuous_scale='RdBu_r',\n",
    "    color_continuous_scale=[(0.0, \"lightgreen\"), (0.01, \"lightyellow\"), (1.0, \"red\")],\n",
    "    color_continuous_midpoint=1.0,\n",
    "    # zmax=2,\n",
    "    zmin=0,\n",
    ")\n",
    "\n",
    "# fig.update_xaxes(side=\"top\")\n",
    "fig.update_layout(\n",
    "    # xaxis_title=\"Filter\",\n",
    "    # yaxis_title=\"Dataset\",\n",
    "    width=1000,\n",
    "    height=200,\n",
    "    font_family=\"Times New Roman\", \n",
    "    font_size=12, \n",
    "    margin=dict(l=0, r=0, t=10, b=0),\n",
    "    xaxis=dict(tickangle=0, tickfont = dict(size=12)),\n",
    "    yaxis=dict(tickangle=0, tickfont = dict(size=12))\n",
    ")\n",
    "\n",
    "write_figure(\"size_improvement.pdf\", fig)\n",
    "\n",
    "fig.show()"
   ]
  },
  {
   "cell_type": "code",
   "execution_count": 59,
   "id": "642c8d17",
   "metadata": {},
   "outputs": [
    {
     "name": "stdout",
     "output_type": "stream",
     "text": [
      "Figure written to: figures/accuracy_improvement.pdf\n",
      "Filename   : accuracy_improvement.pdf\n",
      "Latex label: accuracy_improvement\n"
     ]
    },
    {
     "data": {
      "application/vnd.plotly.v1+json": {
       "config": {
        "plotlyServerURL": "https://plot.ly"
       },
       "data": [
        {
         "marker": {
          "color": "#636EFA"
         },
         "name": "CB FPR=0.02",
         "type": "bar",
         "x": [
          "iris",
          "glass",
          "wine",
          "vehicle",
          "breast_cancer",
          "satimage",
          "letter",
          "motion_sense",
          "mnist"
         ],
         "y": [
          0.9997923588039866,
          1.0031545427900068,
          1.0006595833370093,
          1.080800490337787,
          1.0118817929273909,
          1.0012908095444077,
          0.9909134909137829,
          0.9871270328628315,
          1.001253174720087
         ]
        },
        {
         "marker": {
          "color": "#EF553B"
         },
         "name": "CB FPR=0.05",
         "type": "bar",
         "x": [
          "iris",
          "glass",
          "wine",
          "vehicle",
          "breast_cancer",
          "satimage",
          "letter",
          "motion_sense",
          "mnist"
         ],
         "y": [
          1,
          1.0395048856146327,
          0.9810030759421722,
          1.080800490337787,
          0.9933834404276735,
          1.0034896532783628,
          0.9924774614284845,
          0.9942302020703345,
          1.0000444452969774
         ]
        },
        {
         "marker": {
          "color": "#00CC96"
         },
         "name": "CB FPR=0.08",
         "type": "bar",
         "x": [
          "iris",
          "glass",
          "wine",
          "vehicle",
          "breast_cancer",
          "satimage",
          "letter",
          "motion_sense",
          "mnist"
         ],
         "y": [
          1.0232299454173888,
          1.0468426539604947,
          1.0006595833370093,
          1.1338354000403708,
          0.9994762966138925,
          1.0016403580862288,
          0.999774552771091,
          0.98907430324578,
          0.999043543469589
         ]
        },
        {
         "marker": {
          "color": "#AB63FA"
         },
         "name": "CMS W=20 D=2",
         "type": "bar",
         "x": [
          "iris",
          "glass",
          "wine",
          "vehicle",
          "breast_cancer",
          "satimage",
          "letter",
          "motion_sense",
          "mnist"
         ],
         "y": [
          1,
          1.0023554070037621,
          1.0388682444756974,
          1.0632509585374934,
          0.9875199339274668,
          0.9578232486166713,
          0.8503842107206907,
          0.6966287272294452,
          0.9071747087034135
         ]
        },
        {
         "marker": {
          "color": "#FFA15A"
         },
         "name": "CMS W=20 D=3",
         "type": "bar",
         "x": [
          "iris",
          "glass",
          "wine",
          "vehicle",
          "breast_cancer",
          "satimage",
          "letter",
          "motion_sense",
          "mnist"
         ],
         "y": [
          1,
          1.0063719186964517,
          0.961003753247451,
          1.1182841502873184,
          0.9756218433972402,
          0.966275383288031,
          0.9089374551947939,
          0.6619404996582207,
          0.9185429963836307
         ]
        },
        {
         "marker": {
          "color": "#19D3F3"
         },
         "name": "CMS W=50 D=2",
         "type": "bar",
         "x": [
          "iris",
          "glass",
          "wine",
          "vehicle",
          "breast_cancer",
          "satimage",
          "letter",
          "motion_sense",
          "mnist"
         ],
         "y": [
          1,
          1.000553631919226,
          0.961003753247451,
          1.1208638562120996,
          0.96938834294448,
          0.9940270008271791,
          0.9629718215934921,
          0.9867589505572104,
          0.9760260387436561
         ]
        },
        {
         "marker": {
          "color": "#FF6692"
         },
         "name": "CMS W=50 D=3",
         "type": "bar",
         "x": [
          "iris",
          "glass",
          "wine",
          "vehicle",
          "breast_cancer",
          "satimage",
          "letter",
          "motion_sense",
          "mnist"
         ],
         "y": [
          1,
          1.0366055172609665,
          0.961003753247451,
          0.9819482086151753,
          0.9937711373438773,
          1.0064435678877637,
          0.9717391953460529,
          0.9168805760527373,
          0.9829336627512966
         ]
        },
        {
         "marker": {
          "color": "#B6E880"
         },
         "name": "CMS W=100 D=3",
         "type": "bar",
         "x": [
          "iris",
          "glass",
          "wine",
          "vehicle",
          "breast_cancer",
          "satimage",
          "letter",
          "motion_sense",
          "mnist"
         ],
         "y": [
          1.0465116279069766,
          1.051983423214738,
          1.0388682444756974,
          1.0755924913025854,
          0.9992640077856496,
          0.9993939293006482,
          1.0006067939002847,
          0.972043513059933,
          0.9952239043204058
         ]
        },
        {
         "marker": {
          "color": "#FF97FF"
         },
         "name": "CMS W=100 D=5",
         "type": "bar",
         "x": [
          "iris",
          "glass",
          "wine",
          "vehicle",
          "breast_cancer",
          "satimage",
          "letter",
          "motion_sense",
          "mnist"
         ],
         "y": [
          1.0465116279069766,
          1.0709019356412441,
          0.9802563753868244,
          1.0796483446133214,
          1.0120319599057368,
          0.9933211897124559,
          0.9952303895014011,
          0.9420271878250315,
          0.9986971002385058
         ]
        }
       ],
       "layout": {
        "font": {
         "family": "Times New Roman",
         "size": 12
        },
        "height": 200,
        "margin": {
         "b": 0,
         "l": 0,
         "r": 0,
         "t": 10
        },
        "shapes": [
         {
          "line": {
           "color": "red",
           "dash": "dash",
           "width": 1
          },
          "type": "line",
          "x0": 0,
          "x1": 1,
          "xref": "x domain",
          "y0": 1,
          "y1": 1,
          "yref": "y"
         }
        ],
        "template": {
         "data": {
          "bar": [
           {
            "error_x": {
             "color": "#2a3f5f"
            },
            "error_y": {
             "color": "#2a3f5f"
            },
            "marker": {
             "line": {
              "color": "#E5ECF6",
              "width": 0.5
             },
             "pattern": {
              "fillmode": "overlay",
              "size": 10,
              "solidity": 0.2
             }
            },
            "type": "bar"
           }
          ],
          "barpolar": [
           {
            "marker": {
             "line": {
              "color": "#E5ECF6",
              "width": 0.5
             },
             "pattern": {
              "fillmode": "overlay",
              "size": 10,
              "solidity": 0.2
             }
            },
            "type": "barpolar"
           }
          ],
          "carpet": [
           {
            "aaxis": {
             "endlinecolor": "#2a3f5f",
             "gridcolor": "white",
             "linecolor": "white",
             "minorgridcolor": "white",
             "startlinecolor": "#2a3f5f"
            },
            "baxis": {
             "endlinecolor": "#2a3f5f",
             "gridcolor": "white",
             "linecolor": "white",
             "minorgridcolor": "white",
             "startlinecolor": "#2a3f5f"
            },
            "type": "carpet"
           }
          ],
          "choropleth": [
           {
            "colorbar": {
             "outlinewidth": 0,
             "ticks": ""
            },
            "type": "choropleth"
           }
          ],
          "contour": [
           {
            "colorbar": {
             "outlinewidth": 0,
             "ticks": ""
            },
            "colorscale": [
             [
              0,
              "#0d0887"
             ],
             [
              0.1111111111111111,
              "#46039f"
             ],
             [
              0.2222222222222222,
              "#7201a8"
             ],
             [
              0.3333333333333333,
              "#9c179e"
             ],
             [
              0.4444444444444444,
              "#bd3786"
             ],
             [
              0.5555555555555556,
              "#d8576b"
             ],
             [
              0.6666666666666666,
              "#ed7953"
             ],
             [
              0.7777777777777778,
              "#fb9f3a"
             ],
             [
              0.8888888888888888,
              "#fdca26"
             ],
             [
              1,
              "#f0f921"
             ]
            ],
            "type": "contour"
           }
          ],
          "contourcarpet": [
           {
            "colorbar": {
             "outlinewidth": 0,
             "ticks": ""
            },
            "type": "contourcarpet"
           }
          ],
          "heatmap": [
           {
            "colorbar": {
             "outlinewidth": 0,
             "ticks": ""
            },
            "colorscale": [
             [
              0,
              "#0d0887"
             ],
             [
              0.1111111111111111,
              "#46039f"
             ],
             [
              0.2222222222222222,
              "#7201a8"
             ],
             [
              0.3333333333333333,
              "#9c179e"
             ],
             [
              0.4444444444444444,
              "#bd3786"
             ],
             [
              0.5555555555555556,
              "#d8576b"
             ],
             [
              0.6666666666666666,
              "#ed7953"
             ],
             [
              0.7777777777777778,
              "#fb9f3a"
             ],
             [
              0.8888888888888888,
              "#fdca26"
             ],
             [
              1,
              "#f0f921"
             ]
            ],
            "type": "heatmap"
           }
          ],
          "heatmapgl": [
           {
            "colorbar": {
             "outlinewidth": 0,
             "ticks": ""
            },
            "colorscale": [
             [
              0,
              "#0d0887"
             ],
             [
              0.1111111111111111,
              "#46039f"
             ],
             [
              0.2222222222222222,
              "#7201a8"
             ],
             [
              0.3333333333333333,
              "#9c179e"
             ],
             [
              0.4444444444444444,
              "#bd3786"
             ],
             [
              0.5555555555555556,
              "#d8576b"
             ],
             [
              0.6666666666666666,
              "#ed7953"
             ],
             [
              0.7777777777777778,
              "#fb9f3a"
             ],
             [
              0.8888888888888888,
              "#fdca26"
             ],
             [
              1,
              "#f0f921"
             ]
            ],
            "type": "heatmapgl"
           }
          ],
          "histogram": [
           {
            "marker": {
             "pattern": {
              "fillmode": "overlay",
              "size": 10,
              "solidity": 0.2
             }
            },
            "type": "histogram"
           }
          ],
          "histogram2d": [
           {
            "colorbar": {
             "outlinewidth": 0,
             "ticks": ""
            },
            "colorscale": [
             [
              0,
              "#0d0887"
             ],
             [
              0.1111111111111111,
              "#46039f"
             ],
             [
              0.2222222222222222,
              "#7201a8"
             ],
             [
              0.3333333333333333,
              "#9c179e"
             ],
             [
              0.4444444444444444,
              "#bd3786"
             ],
             [
              0.5555555555555556,
              "#d8576b"
             ],
             [
              0.6666666666666666,
              "#ed7953"
             ],
             [
              0.7777777777777778,
              "#fb9f3a"
             ],
             [
              0.8888888888888888,
              "#fdca26"
             ],
             [
              1,
              "#f0f921"
             ]
            ],
            "type": "histogram2d"
           }
          ],
          "histogram2dcontour": [
           {
            "colorbar": {
             "outlinewidth": 0,
             "ticks": ""
            },
            "colorscale": [
             [
              0,
              "#0d0887"
             ],
             [
              0.1111111111111111,
              "#46039f"
             ],
             [
              0.2222222222222222,
              "#7201a8"
             ],
             [
              0.3333333333333333,
              "#9c179e"
             ],
             [
              0.4444444444444444,
              "#bd3786"
             ],
             [
              0.5555555555555556,
              "#d8576b"
             ],
             [
              0.6666666666666666,
              "#ed7953"
             ],
             [
              0.7777777777777778,
              "#fb9f3a"
             ],
             [
              0.8888888888888888,
              "#fdca26"
             ],
             [
              1,
              "#f0f921"
             ]
            ],
            "type": "histogram2dcontour"
           }
          ],
          "mesh3d": [
           {
            "colorbar": {
             "outlinewidth": 0,
             "ticks": ""
            },
            "type": "mesh3d"
           }
          ],
          "parcoords": [
           {
            "line": {
             "colorbar": {
              "outlinewidth": 0,
              "ticks": ""
             }
            },
            "type": "parcoords"
           }
          ],
          "pie": [
           {
            "automargin": true,
            "type": "pie"
           }
          ],
          "scatter": [
           {
            "fillpattern": {
             "fillmode": "overlay",
             "size": 10,
             "solidity": 0.2
            },
            "type": "scatter"
           }
          ],
          "scatter3d": [
           {
            "line": {
             "colorbar": {
              "outlinewidth": 0,
              "ticks": ""
             }
            },
            "marker": {
             "colorbar": {
              "outlinewidth": 0,
              "ticks": ""
             }
            },
            "type": "scatter3d"
           }
          ],
          "scattercarpet": [
           {
            "marker": {
             "colorbar": {
              "outlinewidth": 0,
              "ticks": ""
             }
            },
            "type": "scattercarpet"
           }
          ],
          "scattergeo": [
           {
            "marker": {
             "colorbar": {
              "outlinewidth": 0,
              "ticks": ""
             }
            },
            "type": "scattergeo"
           }
          ],
          "scattergl": [
           {
            "marker": {
             "colorbar": {
              "outlinewidth": 0,
              "ticks": ""
             }
            },
            "type": "scattergl"
           }
          ],
          "scattermapbox": [
           {
            "marker": {
             "colorbar": {
              "outlinewidth": 0,
              "ticks": ""
             }
            },
            "type": "scattermapbox"
           }
          ],
          "scatterpolar": [
           {
            "marker": {
             "colorbar": {
              "outlinewidth": 0,
              "ticks": ""
             }
            },
            "type": "scatterpolar"
           }
          ],
          "scatterpolargl": [
           {
            "marker": {
             "colorbar": {
              "outlinewidth": 0,
              "ticks": ""
             }
            },
            "type": "scatterpolargl"
           }
          ],
          "scatterternary": [
           {
            "marker": {
             "colorbar": {
              "outlinewidth": 0,
              "ticks": ""
             }
            },
            "type": "scatterternary"
           }
          ],
          "surface": [
           {
            "colorbar": {
             "outlinewidth": 0,
             "ticks": ""
            },
            "colorscale": [
             [
              0,
              "#0d0887"
             ],
             [
              0.1111111111111111,
              "#46039f"
             ],
             [
              0.2222222222222222,
              "#7201a8"
             ],
             [
              0.3333333333333333,
              "#9c179e"
             ],
             [
              0.4444444444444444,
              "#bd3786"
             ],
             [
              0.5555555555555556,
              "#d8576b"
             ],
             [
              0.6666666666666666,
              "#ed7953"
             ],
             [
              0.7777777777777778,
              "#fb9f3a"
             ],
             [
              0.8888888888888888,
              "#fdca26"
             ],
             [
              1,
              "#f0f921"
             ]
            ],
            "type": "surface"
           }
          ],
          "table": [
           {
            "cells": {
             "fill": {
              "color": "#EBF0F8"
             },
             "line": {
              "color": "white"
             }
            },
            "header": {
             "fill": {
              "color": "#C8D4E3"
             },
             "line": {
              "color": "white"
             }
            },
            "type": "table"
           }
          ]
         },
         "layout": {
          "annotationdefaults": {
           "arrowcolor": "#2a3f5f",
           "arrowhead": 0,
           "arrowwidth": 1
          },
          "autotypenumbers": "strict",
          "coloraxis": {
           "colorbar": {
            "outlinewidth": 0,
            "ticks": ""
           }
          },
          "colorscale": {
           "diverging": [
            [
             0,
             "#8e0152"
            ],
            [
             0.1,
             "#c51b7d"
            ],
            [
             0.2,
             "#de77ae"
            ],
            [
             0.3,
             "#f1b6da"
            ],
            [
             0.4,
             "#fde0ef"
            ],
            [
             0.5,
             "#f7f7f7"
            ],
            [
             0.6,
             "#e6f5d0"
            ],
            [
             0.7,
             "#b8e186"
            ],
            [
             0.8,
             "#7fbc41"
            ],
            [
             0.9,
             "#4d9221"
            ],
            [
             1,
             "#276419"
            ]
           ],
           "sequential": [
            [
             0,
             "#0d0887"
            ],
            [
             0.1111111111111111,
             "#46039f"
            ],
            [
             0.2222222222222222,
             "#7201a8"
            ],
            [
             0.3333333333333333,
             "#9c179e"
            ],
            [
             0.4444444444444444,
             "#bd3786"
            ],
            [
             0.5555555555555556,
             "#d8576b"
            ],
            [
             0.6666666666666666,
             "#ed7953"
            ],
            [
             0.7777777777777778,
             "#fb9f3a"
            ],
            [
             0.8888888888888888,
             "#fdca26"
            ],
            [
             1,
             "#f0f921"
            ]
           ],
           "sequentialminus": [
            [
             0,
             "#0d0887"
            ],
            [
             0.1111111111111111,
             "#46039f"
            ],
            [
             0.2222222222222222,
             "#7201a8"
            ],
            [
             0.3333333333333333,
             "#9c179e"
            ],
            [
             0.4444444444444444,
             "#bd3786"
            ],
            [
             0.5555555555555556,
             "#d8576b"
            ],
            [
             0.6666666666666666,
             "#ed7953"
            ],
            [
             0.7777777777777778,
             "#fb9f3a"
            ],
            [
             0.8888888888888888,
             "#fdca26"
            ],
            [
             1,
             "#f0f921"
            ]
           ]
          },
          "colorway": [
           "#636efa",
           "#EF553B",
           "#00cc96",
           "#ab63fa",
           "#FFA15A",
           "#19d3f3",
           "#FF6692",
           "#B6E880",
           "#FF97FF",
           "#FECB52"
          ],
          "font": {
           "color": "#2a3f5f"
          },
          "geo": {
           "bgcolor": "white",
           "lakecolor": "white",
           "landcolor": "#E5ECF6",
           "showlakes": true,
           "showland": true,
           "subunitcolor": "white"
          },
          "hoverlabel": {
           "align": "left"
          },
          "hovermode": "closest",
          "mapbox": {
           "style": "light"
          },
          "paper_bgcolor": "white",
          "plot_bgcolor": "#E5ECF6",
          "polar": {
           "angularaxis": {
            "gridcolor": "white",
            "linecolor": "white",
            "ticks": ""
           },
           "bgcolor": "#E5ECF6",
           "radialaxis": {
            "gridcolor": "white",
            "linecolor": "white",
            "ticks": ""
           }
          },
          "scene": {
           "xaxis": {
            "backgroundcolor": "#E5ECF6",
            "gridcolor": "white",
            "gridwidth": 2,
            "linecolor": "white",
            "showbackground": true,
            "ticks": "",
            "zerolinecolor": "white"
           },
           "yaxis": {
            "backgroundcolor": "#E5ECF6",
            "gridcolor": "white",
            "gridwidth": 2,
            "linecolor": "white",
            "showbackground": true,
            "ticks": "",
            "zerolinecolor": "white"
           },
           "zaxis": {
            "backgroundcolor": "#E5ECF6",
            "gridcolor": "white",
            "gridwidth": 2,
            "linecolor": "white",
            "showbackground": true,
            "ticks": "",
            "zerolinecolor": "white"
           }
          },
          "shapedefaults": {
           "line": {
            "color": "#2a3f5f"
           }
          },
          "ternary": {
           "aaxis": {
            "gridcolor": "white",
            "linecolor": "white",
            "ticks": ""
           },
           "baxis": {
            "gridcolor": "white",
            "linecolor": "white",
            "ticks": ""
           },
           "bgcolor": "#E5ECF6",
           "caxis": {
            "gridcolor": "white",
            "linecolor": "white",
            "ticks": ""
           }
          },
          "title": {
           "x": 0.05
          },
          "xaxis": {
           "automargin": true,
           "gridcolor": "white",
           "linecolor": "white",
           "ticks": "",
           "title": {
            "standoff": 15
           },
           "zerolinecolor": "white",
           "zerolinewidth": 2
          },
          "yaxis": {
           "automargin": true,
           "gridcolor": "white",
           "linecolor": "white",
           "ticks": "",
           "title": {
            "standoff": 15
           },
           "zerolinecolor": "white",
           "zerolinewidth": 2
          }
         }
        },
        "width": 800,
        "xaxis": {
         "autorange": true,
         "range": [
          -0.5,
          8.5
         ],
         "tickfont": {
          "size": 12
         },
         "type": "category"
        },
        "yaxis": {
         "range": [
          0.6,
          1.15
         ],
         "title": {
          "text": "Performance improvement"
         },
         "type": "linear"
        }
       }
      },
      "image/png": "[encoded data removed]",
      "text/html": [
       "<div>                            <div id=\"1f725382-95a7-482d-9a72-2ab28d789549\" class=\"plotly-graph-div\" style=\"height:200px; width:800px;\"></div>            <script type=\"text/javascript\">                require([\"plotly\"], function(Plotly) {                    window.PLOTLYENV=window.PLOTLYENV || {};                                    if (document.getElementById(\"1f725382-95a7-482d-9a72-2ab28d789549\")) {                    Plotly.newPlot(                        \"1f725382-95a7-482d-9a72-2ab28d789549\",                        [{\"marker\":{\"color\":\"#636EFA\"},\"name\":\"CB FPR=0.02\",\"x\":[\"iris\",\"glass\",\"wine\",\"vehicle\",\"breast_cancer\",\"satimage\",\"letter\",\"motion_sense\",\"mnist\"],\"y\":[0.9997923588039866,1.0031545427900068,1.0006595833370093,1.080800490337787,1.0118817929273909,1.0012908095444077,0.9909134909137829,0.9871270328628315,1.001253174720087],\"type\":\"bar\"},{\"marker\":{\"color\":\"#EF553B\"},\"name\":\"CB FPR=0.05\",\"x\":[\"iris\",\"glass\",\"wine\",\"vehicle\",\"breast_cancer\",\"satimage\",\"letter\",\"motion_sense\",\"mnist\"],\"y\":[1.0,1.0395048856146327,0.9810030759421722,1.080800490337787,0.9933834404276735,1.0034896532783628,0.9924774614284845,0.9942302020703345,1.0000444452969774],\"type\":\"bar\"},{\"marker\":{\"color\":\"#00CC96\"},\"name\":\"CB FPR=0.08\",\"x\":[\"iris\",\"glass\",\"wine\",\"vehicle\",\"breast_cancer\",\"satimage\",\"letter\",\"motion_sense\",\"mnist\"],\"y\":[1.0232299454173888,1.0468426539604947,1.0006595833370093,1.1338354000403708,0.9994762966138925,1.0016403580862288,0.999774552771091,0.98907430324578,0.999043543469589],\"type\":\"bar\"},{\"marker\":{\"color\":\"#AB63FA\"},\"name\":\"CMS W=20 D=2\",\"x\":[\"iris\",\"glass\",\"wine\",\"vehicle\",\"breast_cancer\",\"satimage\",\"letter\",\"motion_sense\",\"mnist\"],\"y\":[1.0,1.0023554070037621,1.0388682444756974,1.0632509585374934,0.9875199339274668,0.9578232486166713,0.8503842107206907,0.6966287272294452,0.9071747087034135],\"type\":\"bar\"},{\"marker\":{\"color\":\"#FFA15A\"},\"name\":\"CMS W=20 D=3\",\"x\":[\"iris\",\"glass\",\"wine\",\"vehicle\",\"breast_cancer\",\"satimage\",\"letter\",\"motion_sense\",\"mnist\"],\"y\":[1.0,1.0063719186964517,0.961003753247451,1.1182841502873184,0.9756218433972402,0.966275383288031,0.9089374551947939,0.6619404996582207,0.9185429963836307],\"type\":\"bar\"},{\"marker\":{\"color\":\"#19D3F3\"},\"name\":\"CMS W=50 D=2\",\"x\":[\"iris\",\"glass\",\"wine\",\"vehicle\",\"breast_cancer\",\"satimage\",\"letter\",\"motion_sense\",\"mnist\"],\"y\":[1.0,1.000553631919226,0.961003753247451,1.1208638562120996,0.96938834294448,0.9940270008271791,0.9629718215934921,0.9867589505572104,0.9760260387436561],\"type\":\"bar\"},{\"marker\":{\"color\":\"#FF6692\"},\"name\":\"CMS W=50 D=3\",\"x\":[\"iris\",\"glass\",\"wine\",\"vehicle\",\"breast_cancer\",\"satimage\",\"letter\",\"motion_sense\",\"mnist\"],\"y\":[1.0,1.0366055172609665,0.961003753247451,0.9819482086151753,0.9937711373438773,1.0064435678877637,0.9717391953460529,0.9168805760527373,0.9829336627512966],\"type\":\"bar\"},{\"marker\":{\"color\":\"#B6E880\"},\"name\":\"CMS W=100 D=3\",\"x\":[\"iris\",\"glass\",\"wine\",\"vehicle\",\"breast_cancer\",\"satimage\",\"letter\",\"motion_sense\",\"mnist\"],\"y\":[1.0465116279069766,1.051983423214738,1.0388682444756974,1.0755924913025854,0.9992640077856496,0.9993939293006482,1.0006067939002847,0.972043513059933,0.9952239043204058],\"type\":\"bar\"},{\"marker\":{\"color\":\"#FF97FF\"},\"name\":\"CMS W=100 D=5\",\"x\":[\"iris\",\"glass\",\"wine\",\"vehicle\",\"breast_cancer\",\"satimage\",\"letter\",\"motion_sense\",\"mnist\"],\"y\":[1.0465116279069766,1.0709019356412441,0.9802563753868244,1.0796483446133214,1.0120319599057368,0.9933211897124559,0.9952303895014011,0.9420271878250315,0.9986971002385058],\"type\":\"bar\"}],                        {\"template\":{\"data\":{\"histogram2dcontour\":[{\"type\":\"histogram2dcontour\",\"colorbar\":{\"outlinewidth\":0,\"ticks\":\"\"},\"colorscale\":[[0.0,\"#0d0887\"],[0.1111111111111111,\"#46039f\"],[0.2222222222222222,\"#7201a8\"],[0.3333333333333333,\"#9c179e\"],[0.4444444444444444,\"#bd3786\"],[0.5555555555555556,\"#d8576b\"],[0.6666666666666666,\"#ed7953\"],[0.7777777777777778,\"#fb9f3a\"],[0.8888888888888888,\"#fdca26\"],[1.0,\"#f0f921\"]]}],\"choropleth\":[{\"type\":\"choropleth\",\"colorbar\":{\"outlinewidth\":0,\"ticks\":\"\"}}],\"histogram2d\":[{\"type\":\"histogram2d\",\"colorbar\":{\"outlinewidth\":0,\"ticks\":\"\"},\"colorscale\":[[0.0,\"#0d0887\"],[0.1111111111111111,\"#46039f\"],[0.2222222222222222,\"#7201a8\"],[0.3333333333333333,\"#9c179e\"],[0.4444444444444444,\"#bd3786\"],[0.5555555555555556,\"#d8576b\"],[0.6666666666666666,\"#ed7953\"],[0.7777777777777778,\"#fb9f3a\"],[0.8888888888888888,\"#fdca26\"],[1.0,\"#f0f921\"]]}],\"heatmap\":[{\"type\":\"heatmap\",\"colorbar\":{\"outlinewidth\":0,\"ticks\":\"\"},\"colorscale\":[[0.0,\"#0d0887\"],[0.1111111111111111,\"#46039f\"],[0.2222222222222222,\"#7201a8\"],[0.3333333333333333,\"#9c179e\"],[0.4444444444444444,\"#bd3786\"],[0.5555555555555556,\"#d8576b\"],[0.6666666666666666,\"#ed7953\"],[0.7777777777777778,\"#fb9f3a\"],[0.8888888888888888,\"#fdca26\"],[1.0,\"#f0f921\"]]}],\"heatmapgl\":[{\"type\":\"heatmapgl\",\"colorbar\":{\"outlinewidth\":0,\"ticks\":\"\"},\"colorscale\":[[0.0,\"#0d0887\"],[0.1111111111111111,\"#46039f\"],[0.2222222222222222,\"#7201a8\"],[0.3333333333333333,\"#9c179e\"],[0.4444444444444444,\"#bd3786\"],[0.5555555555555556,\"#d8576b\"],[0.6666666666666666,\"#ed7953\"],[0.7777777777777778,\"#fb9f3a\"],[0.8888888888888888,\"#fdca26\"],[1.0,\"#f0f921\"]]}],\"contourcarpet\":[{\"type\":\"contourcarpet\",\"colorbar\":{\"outlinewidth\":0,\"ticks\":\"\"}}],\"contour\":[{\"type\":\"contour\",\"colorbar\":{\"outlinewidth\":0,\"ticks\":\"\"},\"colorscale\":[[0.0,\"#0d0887\"],[0.1111111111111111,\"#46039f\"],[0.2222222222222222,\"#7201a8\"],[0.3333333333333333,\"#9c179e\"],[0.4444444444444444,\"#bd3786\"],[0.5555555555555556,\"#d8576b\"],[0.6666666666666666,\"#ed7953\"],[0.7777777777777778,\"#fb9f3a\"],[0.8888888888888888,\"#fdca26\"],[1.0,\"#f0f921\"]]}],\"surface\":[{\"type\":\"surface\",\"colorbar\":{\"outlinewidth\":0,\"ticks\":\"\"},\"colorscale\":[[0.0,\"#0d0887\"],[0.1111111111111111,\"#46039f\"],[0.2222222222222222,\"#7201a8\"],[0.3333333333333333,\"#9c179e\"],[0.4444444444444444,\"#bd3786\"],[0.5555555555555556,\"#d8576b\"],[0.6666666666666666,\"#ed7953\"],[0.7777777777777778,\"#fb9f3a\"],[0.8888888888888888,\"#fdca26\"],[1.0,\"#f0f921\"]]}],\"mesh3d\":[{\"type\":\"mesh3d\",\"colorbar\":{\"outlinewidth\":0,\"ticks\":\"\"}}],\"scatter\":[{\"fillpattern\":{\"fillmode\":\"overlay\",\"size\":10,\"solidity\":0.2},\"type\":\"scatter\"}],\"parcoords\":[{\"type\":\"parcoords\",\"line\":{\"colorbar\":{\"outlinewidth\":0,\"ticks\":\"\"}}}],\"scatterpolargl\":[{\"type\":\"scatterpolargl\",\"marker\":{\"colorbar\":{\"outlinewidth\":0,\"ticks\":\"\"}}}],\"bar\":[{\"error_x\":{\"color\":\"#2a3f5f\"},\"error_y\":{\"color\":\"#2a3f5f\"},\"marker\":{\"line\":{\"color\":\"#E5ECF6\",\"width\":0.5},\"pattern\":{\"fillmode\":\"overlay\",\"size\":10,\"solidity\":0.2}},\"type\":\"bar\"}],\"scattergeo\":[{\"type\":\"scattergeo\",\"marker\":{\"colorbar\":{\"outlinewidth\":0,\"ticks\":\"\"}}}],\"scatterpolar\":[{\"type\":\"scatterpolar\",\"marker\":{\"colorbar\":{\"outlinewidth\":0,\"ticks\":\"\"}}}],\"histogram\":[{\"marker\":{\"pattern\":{\"fillmode\":\"overlay\",\"size\":10,\"solidity\":0.2}},\"type\":\"histogram\"}],\"scattergl\":[{\"type\":\"scattergl\",\"marker\":{\"colorbar\":{\"outlinewidth\":0,\"ticks\":\"\"}}}],\"scatter3d\":[{\"type\":\"scatter3d\",\"line\":{\"colorbar\":{\"outlinewidth\":0,\"ticks\":\"\"}},\"marker\":{\"colorbar\":{\"outlinewidth\":0,\"ticks\":\"\"}}}],\"scattermapbox\":[{\"type\":\"scattermapbox\",\"marker\":{\"colorbar\":{\"outlinewidth\":0,\"ticks\":\"\"}}}],\"scatterternary\":[{\"type\":\"scatterternary\",\"marker\":{\"colorbar\":{\"outlinewidth\":0,\"ticks\":\"\"}}}],\"scattercarpet\":[{\"type\":\"scattercarpet\",\"marker\":{\"colorbar\":{\"outlinewidth\":0,\"ticks\":\"\"}}}],\"carpet\":[{\"aaxis\":{\"endlinecolor\":\"#2a3f5f\",\"gridcolor\":\"white\",\"linecolor\":\"white\",\"minorgridcolor\":\"white\",\"startlinecolor\":\"#2a3f5f\"},\"baxis\":{\"endlinecolor\":\"#2a3f5f\",\"gridcolor\":\"white\",\"linecolor\":\"white\",\"minorgridcolor\":\"white\",\"startlinecolor\":\"#2a3f5f\"},\"type\":\"carpet\"}],\"table\":[{\"cells\":{\"fill\":{\"color\":\"#EBF0F8\"},\"line\":{\"color\":\"white\"}},\"header\":{\"fill\":{\"color\":\"#C8D4E3\"},\"line\":{\"color\":\"white\"}},\"type\":\"table\"}],\"barpolar\":[{\"marker\":{\"line\":{\"color\":\"#E5ECF6\",\"width\":0.5},\"pattern\":{\"fillmode\":\"overlay\",\"size\":10,\"solidity\":0.2}},\"type\":\"barpolar\"}],\"pie\":[{\"automargin\":true,\"type\":\"pie\"}]},\"layout\":{\"autotypenumbers\":\"strict\",\"colorway\":[\"#636efa\",\"#EF553B\",\"#00cc96\",\"#ab63fa\",\"#FFA15A\",\"#19d3f3\",\"#FF6692\",\"#B6E880\",\"#FF97FF\",\"#FECB52\"],\"font\":{\"color\":\"#2a3f5f\"},\"hovermode\":\"closest\",\"hoverlabel\":{\"align\":\"left\"},\"paper_bgcolor\":\"white\",\"plot_bgcolor\":\"#E5ECF6\",\"polar\":{\"bgcolor\":\"#E5ECF6\",\"angularaxis\":{\"gridcolor\":\"white\",\"linecolor\":\"white\",\"ticks\":\"\"},\"radialaxis\":{\"gridcolor\":\"white\",\"linecolor\":\"white\",\"ticks\":\"\"}},\"ternary\":{\"bgcolor\":\"#E5ECF6\",\"aaxis\":{\"gridcolor\":\"white\",\"linecolor\":\"white\",\"ticks\":\"\"},\"baxis\":{\"gridcolor\":\"white\",\"linecolor\":\"white\",\"ticks\":\"\"},\"caxis\":{\"gridcolor\":\"white\",\"linecolor\":\"white\",\"ticks\":\"\"}},\"coloraxis\":{\"colorbar\":{\"outlinewidth\":0,\"ticks\":\"\"}},\"colorscale\":{\"sequential\":[[0.0,\"#0d0887\"],[0.1111111111111111,\"#46039f\"],[0.2222222222222222,\"#7201a8\"],[0.3333333333333333,\"#9c179e\"],[0.4444444444444444,\"#bd3786\"],[0.5555555555555556,\"#d8576b\"],[0.6666666666666666,\"#ed7953\"],[0.7777777777777778,\"#fb9f3a\"],[0.8888888888888888,\"#fdca26\"],[1.0,\"#f0f921\"]],\"sequentialminus\":[[0.0,\"#0d0887\"],[0.1111111111111111,\"#46039f\"],[0.2222222222222222,\"#7201a8\"],[0.3333333333333333,\"#9c179e\"],[0.4444444444444444,\"#bd3786\"],[0.5555555555555556,\"#d8576b\"],[0.6666666666666666,\"#ed7953\"],[0.7777777777777778,\"#fb9f3a\"],[0.8888888888888888,\"#fdca26\"],[1.0,\"#f0f921\"]],\"diverging\":[[0,\"#8e0152\"],[0.1,\"#c51b7d\"],[0.2,\"#de77ae\"],[0.3,\"#f1b6da\"],[0.4,\"#fde0ef\"],[0.5,\"#f7f7f7\"],[0.6,\"#e6f5d0\"],[0.7,\"#b8e186\"],[0.8,\"#7fbc41\"],[0.9,\"#4d9221\"],[1,\"#276419\"]]},\"xaxis\":{\"gridcolor\":\"white\",\"linecolor\":\"white\",\"ticks\":\"\",\"title\":{\"standoff\":15},\"zerolinecolor\":\"white\",\"automargin\":true,\"zerolinewidth\":2},\"yaxis\":{\"gridcolor\":\"white\",\"linecolor\":\"white\",\"ticks\":\"\",\"title\":{\"standoff\":15},\"zerolinecolor\":\"white\",\"automargin\":true,\"zerolinewidth\":2},\"scene\":{\"xaxis\":{\"backgroundcolor\":\"#E5ECF6\",\"gridcolor\":\"white\",\"linecolor\":\"white\",\"showbackground\":true,\"ticks\":\"\",\"zerolinecolor\":\"white\",\"gridwidth\":2},\"yaxis\":{\"backgroundcolor\":\"#E5ECF6\",\"gridcolor\":\"white\",\"linecolor\":\"white\",\"showbackground\":true,\"ticks\":\"\",\"zerolinecolor\":\"white\",\"gridwidth\":2},\"zaxis\":{\"backgroundcolor\":\"#E5ECF6\",\"gridcolor\":\"white\",\"linecolor\":\"white\",\"showbackground\":true,\"ticks\":\"\",\"zerolinecolor\":\"white\",\"gridwidth\":2}},\"shapedefaults\":{\"line\":{\"color\":\"#2a3f5f\"}},\"annotationdefaults\":{\"arrowcolor\":\"#2a3f5f\",\"arrowhead\":0,\"arrowwidth\":1},\"geo\":{\"bgcolor\":\"white\",\"landcolor\":\"#E5ECF6\",\"subunitcolor\":\"white\",\"showland\":true,\"showlakes\":true,\"lakecolor\":\"white\"},\"title\":{\"x\":0.05},\"mapbox\":{\"style\":\"light\"}}},\"shapes\":[{\"line\":{\"color\":\"red\",\"dash\":\"dash\",\"width\":1},\"type\":\"line\",\"x0\":0,\"x1\":1,\"xref\":\"x domain\",\"y0\":1,\"y1\":1,\"yref\":\"y\"}],\"yaxis\":{\"range\":[0.6,1.15],\"title\":{\"text\":\"Performance improvement\"}},\"font\":{\"family\":\"Times New Roman\",\"size\":12},\"margin\":{\"l\":0,\"r\":0,\"t\":10,\"b\":0},\"xaxis\":{\"tickfont\":{\"size\":12}},\"width\":800,\"height\":200},                        {\"responsive\": true}                    ).then(function(){\n",
       "                            \n",
       "var gd = document.getElementById('1f725382-95a7-482d-9a72-2ab28d789549');\n",
       "var x = new MutationObserver(function (mutations, observer) {{\n",
       "        var display = window.getComputedStyle(gd).display;\n",
       "        if (!display || display === 'none') {{\n",
       "            console.log([gd, 'removed!']);\n",
       "            Plotly.purge(gd);\n",
       "            observer.disconnect();\n",
       "        }}\n",
       "}});\n",
       "\n",
       "// Listen for the removal of the full notebook cells\n",
       "var notebookContainer = gd.closest('#notebook-container');\n",
       "if (notebookContainer) {{\n",
       "    x.observe(notebookContainer, {childList: true});\n",
       "}}\n",
       "\n",
       "// Listen for the clearing of the current output cell\n",
       "var outputEl = gd.closest('.output');\n",
       "if (outputEl) {{\n",
       "    x.observe(outputEl, {childList: true});\n",
       "}}\n",
       "\n",
       "                        })                };                });            </script>        </div>"
      ]
     },
     "metadata": {},
     "output_type": "display_data"
    }
   ],
   "source": [
    "d = get_best(df, metric=None)\n",
    "d = do_rename_and_reorder(d, remove_dict=True)\n",
    "d = d.T\n",
    "d\n",
    "\n",
    "dsets = list(d.index)\n",
    "fig = go.Figure()\n",
    "for i, c in enumerate(d.columns):\n",
    "    x = dsets\n",
    "    y = d[c]\n",
    "    name = c\n",
    "    fig.add_trace(\n",
    "        go.Bar(\n",
    "            x=x,\n",
    "            y=y,\n",
    "            # text=\"pop\",\n",
    "            # textfont=\"Times New Roman\",\n",
    "            # textposition=\"auto\",\n",
    "            name=name,\n",
    "            marker_color=px.colors.qualitative.Plotly[i]\n",
    "        )\n",
    "    )\n",
    "    \n",
    "fig.add_hline(y=1, line_width=1, line_dash=\"dash\", line_color=\"red\")\n",
    "\n",
    "fig.update_yaxes(range=[0.60, 1.15]) \n",
    "\n",
    "fig.update_layout(\n",
    "    yaxis_title=\"Performance improvement\",\n",
    "    # xaxis_title=\"Dataset\",\n",
    "    width=800,\n",
    "    height=200,\n",
    "    font_family=\"Times New Roman\", \n",
    "    font_size=12,\n",
    "    margin=dict(l=0, r=0, t=10, b=0),\n",
    "    xaxis=dict(tickfont = dict(size=12))\n",
    "    # legend_title_text=\"Filter\"\n",
    ")\n",
    "\n",
    "write_figure(\"accuracy_improvement.pdf\", fig)\n",
    "    \n",
    "fig.show()"
   ]
  },
  {
   "cell_type": "code",
   "execution_count": null,
   "id": "3e3089fc",
   "metadata": {},
   "outputs": [],
   "source": [
    "d = get_best(df, metric=None, improvement_col=None)\n",
    "d = do_rename_and_reorder(d, remove_dict=False)\n",
    "d = d.T\n",
    "\n",
    "d_m = get_best(df, metric=\"model size\", improvement_col=None)\n",
    "d_m = do_rename_and_reorder(d_m, remove_dict=False)\n",
    "d_m = d_m.T\n",
    "\n",
    "\n",
    "acc_meta = meta_df.merge(d[[\"Dict-WiSARD\"]], left_index=True, right_index=True)\n",
    "acc_meta = acc_meta.rename(columns={\"Dict-WiSARD\": \"Score\"})\n",
    "acc_meta = acc_meta.merge(d_m[[\"Dict-WiSARD\"]]//1e3, left_index=True, right_index=True)\n",
    "acc_meta = acc_meta.rename(columns={\"Dict-WiSARD\": \"Memory Footprint (Kb)\"})\n",
    "acc_meta = acc_meta.reset_index().rename(columns={\"index\": \"dataset\"})\n",
    "acc_meta = acc_meta.rename(columns={\n",
    "    \"dataset\": \"Dataset\",\n",
    "    \"size (KB)\": \"Size (KB)\",\n",
    "    \"classes\": \"Classes\",\n",
    "    \"train samples\": \"#Train\",\n",
    "    \"test samples\": \"#Test\",\n",
    "    \"balanced\": \"Balanced\",\n",
    "})\n",
    "latex_str = acc_meta.to_latex(\n",
    "    float_format=\"%.2f\",\n",
    "    index=False,\n",
    "    caption=\"Description of the datasets used in the experiments and the performance obtained using Dict WiSARD. For unbalanced datasets, the f1-score is reported as score, else the accuracy is reported.\",\n",
    "    label=\"tab:datasets\",\n",
    ")\n",
    "\n",
    "write_latex_table(\"datasets.tex\", latex_str)\n",
    "\n",
    "print(latex_str)"
   ]
  },
  {
   "cell_type": "code",
   "execution_count": null,
   "id": "c73316dc",
   "metadata": {},
   "outputs": [],
   "source": []
  },
  {
   "cell_type": "code",
   "execution_count": null,
   "id": "50c04e85",
   "metadata": {},
   "outputs": [],
   "source": []
  },
  {
   "cell_type": "code",
   "execution_count": null,
   "id": "db63f583",
   "metadata": {},
   "outputs": [],
   "source": []
  },
  {
   "cell_type": "code",
   "execution_count": null,
   "id": "3e6e6fd9",
   "metadata": {},
   "outputs": [],
   "source": []
  },
  {
   "cell_type": "code",
   "execution_count": null,
   "id": "cce13822",
   "metadata": {},
   "outputs": [],
   "source": []
  },
  {
   "cell_type": "code",
   "execution_count": null,
   "id": "1eda55e9",
   "metadata": {},
   "outputs": [],
   "source": []
  },
  {
   "cell_type": "code",
   "execution_count": null,
   "id": "7d47a312",
   "metadata": {},
   "outputs": [],
   "source": []
  },
  {
   "cell_type": "code",
   "execution_count": null,
   "id": "d1484341",
   "metadata": {},
   "outputs": [],
   "source": []
  },
  {
   "cell_type": "code",
   "execution_count": null,
   "id": "12b80172",
   "metadata": {},
   "outputs": [],
   "source": []
  },
  {
   "cell_type": "code",
   "execution_count": null,
   "id": "076ddaa0",
   "metadata": {},
   "outputs": [],
   "source": []
  },
  {
   "cell_type": "code",
   "execution_count": null,
   "id": "29b0b135",
   "metadata": {},
   "outputs": [],
   "source": []
  },
  {
   "cell_type": "code",
   "execution_count": null,
   "id": "2eb38fda",
   "metadata": {},
   "outputs": [],
   "source": []
  },
  {
   "cell_type": "code",
   "execution_count": null,
   "id": "329e3097",
   "metadata": {},
   "outputs": [],
   "source": []
  },
  {
   "cell_type": "code",
   "execution_count": null,
   "id": "bd2c5bb4",
   "metadata": {},
   "outputs": [],
   "source": []
  },
  {
   "cell_type": "code",
   "execution_count": null,
   "id": "194c38c5",
   "metadata": {},
   "outputs": [],
   "source": []
  },
  {
   "cell_type": "code",
   "execution_count": null,
   "id": "2874b70f",
   "metadata": {},
   "outputs": [],
   "source": []
  },
  {
   "cell_type": "code",
   "execution_count": null,
   "id": "73b0ab71",
   "metadata": {},
   "outputs": [],
   "source": []
  },
  {
   "cell_type": "code",
   "execution_count": null,
   "id": "4ada5174",
   "metadata": {},
   "outputs": [],
   "source": []
  },
  {
   "cell_type": "code",
   "execution_count": null,
   "id": "dd181c66",
   "metadata": {},
   "outputs": [],
   "source": [
    "from collections import defaultdict\n",
    "\n",
    "configs = list(k for k, _ in df[df[\"ram name\"].isin([\"DictRam\", \"count-min-sketch\", \"count-bloom\"])].groupby([\"ram name\", \"ram kwargs\"]))\n",
    "datasets = list(df[\"dataset name\"].unique())\n",
    "\n",
    "d = defaultdict(dict)\n",
    "for c in configs:\n",
    "    c_str = f\"{c[0]} {c[1]}\"\n",
    "    for dset in datasets:\n",
    "        metric_to_use = metrics_to_use[dset]\n",
    "        x = df.loc[(df[\"ram name\"] == c[0]) & (df[\"ram kwargs\"] == c[1]) & (df[\"dataset name\"] == dset)]\n",
    "        best = x.sort_values(by=metric_to_use, ascending=False).iloc[0]\n",
    "        d[c_str][dset] = best[\"model size\"]\n",
    "\n",
    "d = pd.DataFrame(d)\n",
    "r = d[\"DictRam {}\"]\n",
    "\n",
    "for c in d.columns:\n",
    "    d[c] = d[c] / r\n",
    "    \n",
    "d = d.T\n",
    "\n",
    "fig = px.imshow(\n",
    "    d,\n",
    "    text_auto=\".2f\",\n",
    "    aspect=\"auto\",\n",
    "    color_continuous_scale='RdYlGn',\n",
    "    color_continuous_midpoint=1.0,\n",
    "    zmax=5,\n",
    "    zmin=0\n",
    ")\n",
    "\n",
    "fig.update_xaxes(side=\"top\")\n",
    "fig.update_layout(\n",
    "    xaxis_title=\"Dataset\",\n",
    "    yaxis_title=\"Filter\",\n",
    "    width=1600,\n",
    "    height=400,\n",
    "    font_family=\"Serif\", font_size=14, \n",
    ")\n",
    "\n",
    "fig.show()"
   ]
  },
  {
   "cell_type": "code",
   "execution_count": null,
   "id": "81779495",
   "metadata": {},
   "outputs": [],
   "source": [
    "from collections import defaultdict\n",
    "\n",
    "configs = list(k for k, _ in df[df[\"ram name\"].isin([\"DictRam\", \"count-min-sketch\", \"count-bloom\"])].groupby([\"ram name\", \"ram kwargs\"]))\n",
    "datasets = list(df[\"dataset name\"].unique())\n",
    "\n",
    "d = defaultdict(dict)\n",
    "for c in configs:\n",
    "    c_str = f\"{c[0]} {c[1]}\"\n",
    "    for dset in datasets:\n",
    "        metric_to_use = metrics_to_use[dset]\n",
    "        x = df.loc[(df[\"ram name\"] == c[0]) & (df[\"ram kwargs\"] == c[1]) & (df[\"dataset name\"] == dset)]\n",
    "        best = x.sort_values(by=metric_to_use, ascending=False).iloc[0]\n",
    "        d[c_str][dset] = best[\"model size\"]\n",
    "\n",
    "d = pd.DataFrame(d)\n",
    "r = d[\"DictRam {}\"]\n",
    "\n",
    "for c in d.columns:\n",
    "    d[c] = d[c] / r\n",
    "    \n",
    "d  \n"
   ]
  },
  {
   "cell_type": "code",
   "execution_count": null,
   "id": "18425a20",
   "metadata": {},
   "outputs": [],
   "source": [
    "from collections import defaultdict\n",
    "\n",
    "configs = list(k for k, _ in df[df[\"ram name\"].isin([\"DictRam\", \"count-min-sketch\", \"count-bloom\"])].groupby([\"ram name\", \"ram kwargs\"]))\n",
    "datasets = list(df[\"dataset name\"].unique())\n",
    "\n",
    "d = defaultdict(dict)\n",
    "for c in configs:\n",
    "    c_str = f\"{c[0]} {c[1]}\"\n",
    "    for dset in datasets:\n",
    "        x = df.loc[(df[\"ram name\"] == c[0]) & (df[\"ram kwargs\"] == c[1]) & (df[\"dataset name\"] == dset)]\n",
    "        d[c_str][dset] = x[\"accuracy\"].max()\n",
    "\n",
    "d = pd.DataFrame(d)\n",
    "r = d[\"DictRam {}\"]\n",
    "\n",
    "for c in d.columns:\n",
    "    d[c] = d[c] / r\n",
    "    \n",
    "d  \n"
   ]
  },
  {
   "cell_type": "code",
   "execution_count": null,
   "id": "40d0f18f-1142-4960-9793-391296ce91a3",
   "metadata": {},
   "outputs": [],
   "source": [
    "sorted(df.columns.to_list())"
   ]
  },
  {
   "cell_type": "code",
   "execution_count": null,
   "id": "a906acba",
   "metadata": {},
   "outputs": [],
   "source": [
    "df = df[~df[\"experiment name\"].str.contains(\"wine\") ]\n",
    "df"
   ]
  },
  {
   "cell_type": "code",
   "execution_count": null,
   "id": "21311ce0",
   "metadata": {},
   "outputs": [],
   "source": [
    "sorted([(d, subdf[\"model size\"].mean()) for d, subdf in df[df[\"ram name\"] == \"DictRam\"].groupby(\"dataset name\")], key=lambda x: x[1])"
   ]
  },
  {
   "cell_type": "code",
   "execution_count": null,
   "id": "b382de81",
   "metadata": {},
   "outputs": [],
   "source": [
    "best_dict_ram = df[df[\"ram name\"] == \"DictRam\"].groupby(\"experiment name\").apply(lambda x: x.sort_values(metrics_to_use[x[\"dataset name\"].iloc[0]], ascending=False).iloc[0])\n",
    "best_dict_ram.loc[best_dict_ram[\"dataset name\"] == \"mnist\", \"model size\"]"
   ]
  },
  {
   "cell_type": "code",
   "execution_count": null,
   "id": "fc6d37ef",
   "metadata": {},
   "outputs": [],
   "source": [
    "\n",
    "def get_improvement(x):\n",
    "    dataset = x[\"dataset name\"].iloc[0]\n",
    "    experiment = x[\"experiment name\"].iloc[0]\n",
    "    x[\"metric improvement\"] = x[metrics_to_use[dataset]] / best_dict_ram.loc[experiment, metrics_to_use[dataset]]\n",
    "    x[\"size improvement\"] = x[\"model size\"] / best_dict_ram.loc[experiment, \"model size\"]\n",
    "    return x\n",
    "\n",
    "\n",
    "results = df.copy()\n",
    "results = results.groupby(\"ram name\", group_keys=False).apply(get_improvement)\n",
    "results[(results[\"ram name\"] == \"count-min-sketch\") & (results[\"dataset name\"] == \"mnist\")]"
   ]
  },
  {
   "cell_type": "markdown",
   "id": "5890da7b",
   "metadata": {},
   "source": [
    "## 1. Do filters have the same accuracy as DictRam or it loses?"
   ]
  },
  {
   "cell_type": "code",
   "execution_count": null,
   "id": "de6bcb05",
   "metadata": {},
   "outputs": [],
   "source": []
  },
  {
   "cell_type": "code",
   "execution_count": null,
   "id": "3c45756b",
   "metadata": {},
   "outputs": [],
   "source": []
  },
  {
   "cell_type": "code",
   "execution_count": null,
   "id": "39154b69",
   "metadata": {},
   "outputs": [],
   "source": []
  },
  {
   "cell_type": "code",
   "execution_count": null,
   "id": "59749b80-7e35-47c5-84b6-a19bcccc81af",
   "metadata": {},
   "outputs": [],
   "source": [
    "def select_pareto_frontier_points(Xs, Ys, maxX=True, maxY=True):\n",
    "    '''Pareto frontier selection process'''\n",
    "    sorted_list = sorted([[Xs[i], Ys[i]] for i in range(len(Xs))], reverse=maxY)\n",
    "    pareto_front = [sorted_list[0]]\n",
    "    for pair in sorted_list[1:]:\n",
    "        if maxY:\n",
    "            if pair[1] >= pareto_front[-1][1]:\n",
    "                pareto_front.append(pair)\n",
    "        else:\n",
    "            if pair[1] <= pareto_front[-1][1]:\n",
    "                pareto_front.append(pair)\n",
    "    return pareto_front"
   ]
  },
  {
   "cell_type": "code",
   "execution_count": null,
   "id": "54366151-40ea-41d4-beaf-576ba86b2f52",
   "metadata": {},
   "outputs": [],
   "source": [
    "df[\"model size\"]  /= 1e3"
   ]
  },
  {
   "cell_type": "code",
   "execution_count": null,
   "id": "a282a019-0f34-4c26-82fa-ef80c02ab2c5",
   "metadata": {},
   "outputs": [],
   "source": [
    "def do_transform(ddf):\n",
    "    x= ddf.loc[ddf[\"ram name\"] == \"DictRam\", \"accuracy\"]\n",
    "    print(len(x), x.max(), x.mean())\n",
    "    ddf[\"accuracy improvement\"] = ddf[\"accuracy\"] / x.mean()\n",
    "    return ddf\n",
    "\n",
    "df = df.groupby(\"experiment name\").apply(do_transform)\n",
    "df[\"accuracy improvement\"]"
   ]
  },
  {
   "cell_type": "code",
   "execution_count": null,
   "id": "07d7aa3f",
   "metadata": {},
   "outputs": [],
   "source": [
    "# fig = go.Figure()\n",
    "\n",
    "# rams = sorted(df_x[\"ram name\"].unique())\n",
    "\n",
    "# for exp, subdf in df_x.groupby(\"experiment name\"):\n",
    "#     for ram in rams:\n",
    "#         x = subdf[subdf[\"ram name\"] == ram]\n",
    "#         fig.add_trace(\n",
    "#             go.Bar(\n",
    "#                 x[\"accuracy improvement\"],\n",
    "#                 y=ram\n",
    "#             )\n",
    "#         )\n",
    "\n",
    "# df_x = df_x[df_x[\"size improvement\"]]\n",
    "df_x = df.copy()\n",
    "df_x = df_x[df_x[\"ram name\"].isin([\"DictRam\",\"count-min-sketch\", \"count-bloom\"]) ]\n",
    "\n",
    "fig =px.box(df_x, y=\"accuracy improvement\", x=\"experiment name\", color=\"ram name\")\n",
    "\n",
    "fig.update_layout(\n",
    "    # title=\"Performance of all pipeline configurations on Time and Frequency domains\",\n",
    "    xaxis_title=\"Dataset\",\n",
    "    yaxis_title=\"Accuracy improvement\",\n",
    "    legend_title=\"Filter\",\n",
    "    width=1200,\n",
    "    height=800,\n",
    "    font_family=\"Serif\",\n",
    "    font_size=18,\n",
    "    legend=dict(\n",
    "        orientation=\"h\",\n",
    "        yanchor=\"bottom\",\n",
    "        y=1.02,\n",
    "        xanchor=\"right\",\n",
    "        x=1\n",
    "    )\n",
    ")\n",
    "\n"
   ]
  },
  {
   "cell_type": "code",
   "execution_count": null,
   "id": "0069c193-d257-4ae0-af2b-bdf66c6a2cbd",
   "metadata": {},
   "outputs": [],
   "source": []
  },
  {
   "cell_type": "code",
   "execution_count": null,
   "id": "14c5f360-944d-4ac0-9bd8-1ee6bc88f7cc",
   "metadata": {},
   "outputs": [],
   "source": []
  },
  {
   "cell_type": "code",
   "execution_count": null,
   "id": "23e10b2c-3d26-449e-abd4-5a97b80b9bae",
   "metadata": {},
   "outputs": [],
   "source": []
  },
  {
   "cell_type": "code",
   "execution_count": null,
   "id": "40be0c75-668d-41de-bae4-ebf4e428bd60",
   "metadata": {},
   "outputs": [],
   "source": [
    "maxes = dict()\n",
    "for k, subdf in df[df[\"ram name\"] == \"DictRam\"].groupby(\"experiment name\"):\n",
    "    best = subdf.sort_values(by=\"accuracy\", ascending=True).iloc[-1]\n",
    "    maxes[k.split(\" \")[0]] = (best[\"accuracy\"], best[\"f1 weighted\"], best[\"model size\"])\n",
    "maxes"
   ]
  },
  {
   "cell_type": "code",
   "execution_count": null,
   "id": "48379fd6-725b-4f42-9ced-343fe1965eed",
   "metadata": {},
   "outputs": [],
   "source": [
    "maxes_2 = dict()\n",
    "for k, subdf in df[df[\"ram name\"] == \"count-bloom\"].groupby(\"experiment name\"):\n",
    "    best = subdf.sort_values(by=\"accuracy\", ascending=True).iloc[-1]\n",
    "    maxes_2[k.split(\" \")[0]] = (best[\"accuracy\"], best[\"f1 weighted\"], best[\"model size\"])\n",
    "maxes_2"
   ]
  },
  {
   "cell_type": "code",
   "execution_count": null,
   "id": "726e2aee-e7ac-415f-8508-0854eb047142",
   "metadata": {},
   "outputs": [],
   "source": [
    "x = pd.DataFrame(maxes).T\n",
    "x.columns = [\"Dict-RAM Accuracy\", \"Dict-RAM F1-Score\", \"Dict-RAM Size (kB)\"]\n",
    "x[\"Dict-RAM Size (kB)\"] /= 1e3\n",
    "x"
   ]
  },
  {
   "cell_type": "code",
   "execution_count": null,
   "id": "782fdcce-4dca-4223-8430-31fcb40047cc",
   "metadata": {},
   "outputs": [],
   "source": [
    "dfs = []\n",
    "for k, subdf in df.groupby(\"experiment name\"):\n",
    "    k = k.split(\" \")[0]\n",
    "    subdf[\"accuracy improvement\"] = subdf[\"accuracy\"] / maxes[k][0]\n",
    "    subdf[\"f1 improvement\"] = subdf[\"f1 weighted\"] / maxes[k][1]\n",
    "    subdf[\"size improvement\"] = subdf[\"model size\"] / maxes[k][2]\n",
    "    dfs.append(subdf)\n",
    "    \n",
    "df_x = pd.concat(dfs)\n",
    "# df_x = df_x[~df_x[\"ram name\"].isin([\"DictRam\", \"stream-threshold\", \"heavy-hitters\"])]\n",
    "df_x"
   ]
  },
  {
   "cell_type": "code",
   "execution_count": null,
   "id": "d13c9af5-317b-4e98-bdeb-bf4a8a8ea509",
   "metadata": {},
   "outputs": [],
   "source": [
    "dfs = []\n",
    "for k in maxes_2.keys():\n",
    "    subdf = df[df[\"experiment name\"] == f\"{k} experiment\"]\n",
    "    k = k.split(\" \")[0]\n",
    "    subdf[\"accuracy improvement filter\"] = subdf[\"accuracy\"] / maxes_2[k][0]\n",
    "    subdf[\"f1 improvement filter\"] = subdf[\"f1 weighted\"] / maxes_2[k][1]\n",
    "    subdf[\"size improvement filter\"] = subdf[\"model size\"] / maxes_2[k][2]\n",
    "    dfs.append(subdf)\n",
    "    \n",
    "df_x_2 = pd.concat(dfs)\n",
    "df_x_2 = df_x_2[~df_x_2[\"ram name\"].isin([\"DictRam\", \"stream-threshold\", \"heavy-hitters\"])]\n",
    "df_x_2"
   ]
  },
  {
   "cell_type": "code",
   "execution_count": null,
   "id": "49b4ef29-890f-4d2c-bbf9-5dda3c124aef",
   "metadata": {},
   "outputs": [],
   "source": [
    "df_x[\"accuracy improvement\"]"
   ]
  },
  {
   "cell_type": "code",
   "execution_count": null,
   "id": "14dfc1c6-6189-4f32-a9cf-58f9d4734f52",
   "metadata": {},
   "outputs": [],
   "source": [
    "df_x_2[(df_x_2[\"ram name\"] == \"count-min-sketch\") & (df_x_2[\"experiment name\"] == \"mnist experiment\") & (df_x_2[\"size improvement filter\"] < 1) & \\\n",
    "       (df_x_2[\"accuracy improvement filter\"] > 0.98)].sort_values(by=[\"accuracy improvement filter\"], ascending=False)"
   ]
  },
  {
   "cell_type": "code",
   "execution_count": null,
   "id": "d57d964a-af38-4a25-b43c-61b005a67b0c",
   "metadata": {},
   "outputs": [],
   "source": [
    "df_x[(df_x[\"ram name\"] == \"count-min-sketch\") & (df_x[\"experiment name\"] == \"mnist experiment\") & (df_x[\"size improvement\"] < 1) & (df_x[\"accuracy improvement\"] > 0.98)].sort_values(by=[\"accuracy improvement\"], ascending=False)"
   ]
  },
  {
   "cell_type": "code",
   "execution_count": null,
   "id": "6520cf47-eb49-4e89-bc0a-82ed7383bd19",
   "metadata": {},
   "outputs": [],
   "source": [
    "# fig = go.Figure()\n",
    "\n",
    "# rams = sorted(df_x[\"ram name\"].unique())\n",
    "\n",
    "# for exp, subdf in df_x.groupby(\"experiment name\"):\n",
    "#     for ram in rams:\n",
    "#         x = subdf[subdf[\"ram name\"] == ram]\n",
    "#         fig.add_trace(\n",
    "#             go.Bar(\n",
    "#                 x[\"accuracy improvement\"],\n",
    "#                 y=ram\n",
    "#             )\n",
    "#         )\n",
    "\n",
    "# df_x = df_x[df_x[\"size improvement\"]]\n",
    "df_x = df_x[df_x[\"ram name\"].isin([\"DictRam\",\"count-min-sketch\", \"count-bloom\"]) ]\n",
    "\n",
    "fig =px.box(df_x, y=\"accuracy improvement\", x=\"experiment name\", color=\"ram name\")\n",
    "\n",
    "fig.update_layout(\n",
    "    # title=\"Performance of all pipeline configurations on Time and Frequency domains\",\n",
    "    xaxis_title=\"Dataset\",\n",
    "    yaxis_title=\"Accuracy improvement\",\n",
    "    legend_title=\"Filter\",\n",
    "    width=1200,\n",
    "    height=800,\n",
    "    font_family=\"Serif\",\n",
    "    font_size=18,\n",
    "    legend=dict(\n",
    "        orientation=\"h\",\n",
    "        yanchor=\"bottom\",\n",
    "        y=1.02,\n",
    "        xanchor=\"right\",\n",
    "        x=1\n",
    "    )\n",
    ")\n",
    "\n"
   ]
  },
  {
   "cell_type": "code",
   "execution_count": null,
   "id": "dfb23d19",
   "metadata": {},
   "outputs": [],
   "source": [
    "bests = df_x.groupby([\"experiment name\", \"ram name\"]).apply(lambda x: x.sort_values(by=\"size improvement\", ascending=True).iloc[0]).reset_index(drop=True)\n",
    "\n",
    "\n",
    "fig = go.Figure()\n",
    "for k, subdf in bests.groupby(\"ram name\"):\n",
    "    fig.add_trace(go.Bar(x=subdf[\"model size\"], y=subdf[\"dataset name\"], name=k,  orientation='h'))\n",
    "fig.show()\n",
    "    "
   ]
  },
  {
   "cell_type": "code",
   "execution_count": null,
   "id": "1143501f",
   "metadata": {},
   "outputs": [],
   "source": [
    "n = df_x[(df_x[\"ram name\"].isin([\"count-min-sketch\", \"count-bloom\"])) & (df_x[\"experiment name\"] == \"breast_cancer experiment\")].sort_values(by=\"accuracy improvement\", ascending=False)\n",
    "n = n[n[\"size improvement\"] < 5]\n",
    "\n",
    "fig = go.Figure()\n",
    "for exp_name, subdf in n.groupby([\"experiment name\"]): # .apply(lambda x: x.sort_values(by=\"accuracy improvement\", ascending=False).iloc[0])\n",
    "    best_df = subdf.groupby(\"model size\").apply(lambda x: x.sort_values(by=\"size improvement\", ascending=True).iloc[0]).reset_index(drop=True)\n",
    "    best_df = best_df.sort_values(by=\"model size\")\n",
    "    fig.add_trace(\n",
    "        go.Scatter(\n",
    "            x=best_df[\"size improvement\"],\n",
    "            y=best_df[\"accuracy improvement\"]\n",
    "        )\n",
    "    )\n",
    "    break\n",
    "    \n",
    "fig.show()\n",
    "best_df[[ \"accuracy improvement\", \"size improvement\", \"model size\", \"accuracy\", \"f1 weighted\", \"ram kwargs\"]]\n",
    "best_df[\"ram kwargs\"]"
   ]
  },
  {
   "cell_type": "code",
   "execution_count": null,
   "id": "4f1882b6",
   "metadata": {},
   "outputs": [],
   "source": [
    "n = df_x[(df_x[\"ram name\"] == \"count-bloom\") & (df_x[\"experiment name\"] == \"mnist experiment\")].sort_values(by=\"accuracy improvement\", ascending=False)\n",
    "\n",
    "fig = go.Figure()\n",
    "for exp_name, subdf in n.groupby([\"experiment name\"]): # .apply(lambda x: x.sort_values(by=\"accuracy improvement\", ascending=False).iloc[0])\n",
    "    best_df = subdf.groupby(\"model size\").apply(lambda x: x.sort_values(by=\"size improvement\", ascending=True).iloc[0]).reset_index(drop=True)\n",
    "    best_df = best_df.sort_values(by=\"model size\")\n",
    "    fig.add_trace(\n",
    "        go.Scatter(\n",
    "            x=best_df[\"size improvement\"],\n",
    "            y=best_df[\"accuracy improvement\"]\n",
    "        )\n",
    "    )\n",
    "    break\n",
    "    \n",
    "fig.show()\n",
    "best_df[[ \"accuracy improvement\", \"size improvement\", \"model size\", \"accuracy\", \"f1 weighted\", \"ram kwargs\"]]"
   ]
  },
  {
   "cell_type": "code",
   "execution_count": null,
   "id": "0a43e29e-76cc-4257-85ea-c27d0fbbf8a7",
   "metadata": {},
   "outputs": [],
   "source": [
    "\n",
    "fig =px.box(df_x, y=\"size improvement\", x=\"experiment name\", color=\"ram name\")\n",
    "\n",
    "fig.update_layout(\n",
    "    # title=\"Performance of all pipeline configurations on Time and Frequency domains\",\n",
    "    xaxis_title=\"Dataset\",\n",
    "    yaxis_title=\"Size improvement\",\n",
    "    legend_title=\"Filter\",\n",
    "    width=1200,\n",
    "    height=800,\n",
    "    font_family=\"Serif\",\n",
    "    font_size=18,\n",
    "    legend=dict(\n",
    "        orientation=\"h\",\n",
    "        yanchor=\"bottom\",\n",
    "        y=1.02,\n",
    "        xanchor=\"right\",\n",
    "        x=1\n",
    "    )\n",
    ")\n"
   ]
  },
  {
   "cell_type": "code",
   "execution_count": null,
   "id": "1eb3caa5-19c2-4a73-9265-68c082271d21",
   "metadata": {},
   "outputs": [],
   "source": [
    "df_x = df_x[df_x[\"ram kwargs\"] == '{\"width\": 50, \"depth\": 2}']"
   ]
  },
  {
   "cell_type": "code",
   "execution_count": null,
   "id": "6bc4020b-c1d7-4845-ac4d-272338eca224",
   "metadata": {},
   "outputs": [],
   "source": [
    "values = {} \n",
    "\n",
    "for k, subdf in df_x.groupby(\"experiment name\"):\n",
    "    subdf = subdf.sort_values(by=\"size improvement\", ascending=True)\n",
    "    val = subdf.iloc[0]\n",
    "#    print(k, \"\\n\", subdf.iloc[0][\"f1 improvement\"], subdf.iloc[0][\"size improvement\"], subdf.iloc[0][\"ram name\"])\n",
    "    values[k.split(\" \")[0]] = {\"Accuracy\": val[\"accuracy\"], \"F1-Score\": val[\"f1 weighted\"], \"Size (in relation to Dict-RAM)\": f'{val[\"size improvement\"]:.2f}x', \"Model Size (kB)\": val[\"model size\"]/1e3, \"Best Filter\": val[\"ram name\"]}\n",
    "\n",
    "y = pd.DataFrame(values).T.sort_values(by=\"Model Size (kB)\")\n",
    "# print(x.to_latex(caption=\"Performance \"))\n",
    "\n",
    "c = pd.concat([x, y], axis=1).sort_values(by=\"Dict-RAM Size (kB)\").dropna()\n",
    "c"
   ]
  },
  {
   "cell_type": "code",
   "execution_count": null,
   "id": "ec154e49-67aa-498e-8af5-b82b0c7db5d8",
   "metadata": {},
   "outputs": [],
   "source": [
    "st = c.to_latex(\n",
    "    caption=\"Performance of WNN in datasets using Dict-RAM compared to the best bloom filter implementation\",\n",
    "    label=\"tab:results\",\n",
    "    float_format=lambda x: '%.3f' % x\n",
    ")\n",
    "print(st)"
   ]
  },
  {
   "cell_type": "code",
   "execution_count": null,
   "id": "0f4b626d-8f63-44e8-a105-06284d0fec94",
   "metadata": {},
   "outputs": [],
   "source": [
    "c = pd.concat([x, y], axis=1).iloc[:-1]\n",
    "c"
   ]
  },
  {
   "cell_type": "code",
   "execution_count": null,
   "id": "5fbeacb9-4b40-4286-a91b-46157a641ce9",
   "metadata": {},
   "outputs": [],
   "source": [
    "c.to_latex"
   ]
  },
  {
   "cell_type": "code",
   "execution_count": null,
   "id": "55faa7c0-42cd-4b35-b152-fc0088fa7ca9",
   "metadata": {},
   "outputs": [],
   "source": [
    "print(pd.concat([x, y], axis=1).iloc[:-1].sort_values(by=\"Dict-RAM Size (kB)\").to_latex(\n",
    "    caption=\"Performance of WNN in datasets using Dict-RAM compared to the best bloom filter implementation (the one with minimum size)\",\n",
    "    label=\"tab:results\",\n",
    "    float_format=lambda x: '%.3f' % x\n",
    "))"
   ]
  },
  {
   "cell_type": "code",
   "execution_count": null,
   "id": "4700f173-1f28-44e8-8e78-a0ff7422de14",
   "metadata": {},
   "outputs": [],
   "source": []
  },
  {
   "cell_type": "code",
   "execution_count": null,
   "id": "13c80e0a-be27-4343-a2c1-379e33ffc9b0",
   "metadata": {},
   "outputs": [],
   "source": []
  },
  {
   "cell_type": "code",
   "execution_count": null,
   "id": "99180fe9-481f-44ed-a076-f4c288dcd0e2",
   "metadata": {},
   "outputs": [],
   "source": [
    "x = df[df[\"experiment name\"] == \"motion_sense experiment\"]\n",
    "\n",
    "import plotly.express as px\n",
    "px.scatter(x, x=\"accuracy\", y=\"model size\", hover_name=\"ram name\", color=\"ram name\")"
   ]
  },
  {
   "cell_type": "code",
   "execution_count": null,
   "id": "4cd71a2e-c15e-4085-adc8-f6300228cd54",
   "metadata": {},
   "outputs": [],
   "source": [
    "df[df[\"ram name\"] == \"count-min-sketch\"]\n",
    "df.columns"
   ]
  },
  {
   "cell_type": "code",
   "execution_count": null,
   "id": "a4063200-00dc-484c-960f-4a47fb3a751b",
   "metadata": {},
   "outputs": [],
   "source": []
  },
  {
   "cell_type": "code",
   "execution_count": null,
   "id": "bf4809b8-a93d-46cd-897e-c12011375fd9",
   "metadata": {},
   "outputs": [],
   "source": []
  },
  {
   "cell_type": "code",
   "execution_count": null,
   "id": "f412ef7c-01d9-4fea-b0a5-dea10a3876f8",
   "metadata": {},
   "outputs": [],
   "source": []
  },
  {
   "cell_type": "code",
   "execution_count": null,
   "id": "926a6f56-34e5-4276-9368-7cc9939f94a4",
   "metadata": {},
   "outputs": [],
   "source": []
  },
  {
   "cell_type": "code",
   "execution_count": null,
   "id": "464bd29c-d208-46b3-bcb8-166229032140",
   "metadata": {},
   "outputs": [],
   "source": []
  },
  {
   "cell_type": "code",
   "execution_count": null,
   "id": "caaa555c-12e8-409d-aab8-fb9550d5f359",
   "metadata": {},
   "outputs": [],
   "source": []
  },
  {
   "cell_type": "code",
   "execution_count": null,
   "id": "00f781e0-1a19-47d6-8f78-4c8820a92755",
   "metadata": {},
   "outputs": [],
   "source": []
  },
  {
   "cell_type": "code",
   "execution_count": null,
   "id": "8b5eff40-7d0d-4017-b747-488c5db792a7",
   "metadata": {},
   "outputs": [],
   "source": [
    "plt.style.use('tableau-colorblind10')\n",
    "\n",
    "title = None\n",
    "# markers = [\"+\", \"^\", \"D\", \"P\", \"x\", \"8\"]\n",
    "markers = [\"x\", \"P\", \">\", \"o\", \"^\", \"<\", \"s\", \"v\", \"h\"]\n",
    "colors = ['tab:blue', 'tab:orange', 'tab:green', 'tab:red', 'tab:purple', 'tab:brown', 'tab:pink', 'tab:gray', 'tab:olive', 'tab:cyan']\n",
    "per_dataset_stds = {}\n",
    "\n",
    "for dset_name, dset_df in df.groupby([\"dataset name\"]):\n",
    "    acc_size_errors = []\n",
    "    labels = []\n",
    "    plt_mark_colors = []\n",
    "    rams = []\n",
    "    ram_kwargs_list = []\n",
    "    normal_set = False\n",
    "    normal_size = 0\n",
    "    errs = []\n",
    "    \n",
    "    metric = metrics_to_use[dset_name]\n",
    "    \n",
    "    for (ram_name, ram_kwargs), ram_dset_df in dset_df.groupby([\"ram name\", \"ram kwargs\"]):\n",
    "        if ram_name != \"DictRam\":\n",
    "            continue\n",
    "            \n",
    "        best_bleach = ram_dset_df.pivot_table(columns=\"bleach\", values=\"accuracy\", aggfunc=\"mean\").mean().sort_values(ascending=False).reset_index()[\"bleach\"].iloc[0]\n",
    "        ram_dset_df = ram_dset_df.loc[ram_dset_df[\"bleach\"] == best_bleach]\n",
    "        normal_size = (dset_df[\"rams per discriminator\"] * dset_df[\"discriminators\"] * 2**dset_df[\"tuple size\"]).iloc[0] * 8\n",
    "        normal_size = normal_size // 1024\n",
    "        break\n",
    "    \n",
    "    \n",
    "    per_ram_stds = {}\n",
    "    for (ram_name, ram_kwargs), ram_dset_df in dset_df.groupby([\"ram name\", \"ram kwargs\"]):\n",
    "        # if ram_name == \"DictRam\":\n",
    "        #     continue\n",
    "        \n",
    "        # if \"cuckoo\" in ram_name or \"heavy\" in ram_name or \"stream\" in ram_name:\n",
    "        #     continue\n",
    "            \n",
    "        best_bleach = ram_dset_df.pivot_table(columns=\"bleach\", values=\"accuracy\", aggfunc=\"mean\").mean().sort_values(ascending=False).reset_index()[\"bleach\"].iloc[0]\n",
    "        ram_dset_df = ram_dset_df.loc[ram_dset_df[\"bleach\"] == best_bleach]\n",
    "        # calc acc\n",
    "        acc = ram_dset_df[metric].mean()\n",
    "        # calc acc stdev\n",
    "        std = ram_dset_df[metric].std()\n",
    "        # calc size\n",
    "        # if ram_name == \"DictRam\" and not normal_set:\n",
    "        #     size = (dset_df[\"rams per discriminator\"] * dset_df[\"discriminators\"] * 2**dset_df[\"tuple size\"]).iloc[0] * 8\n",
    "        #     acc_size_errors.append((acc, std, size))\n",
    "        #     labels.append(f\"VectorRAM - ({', '.join(args_string)})\")\n",
    "        #     rams.append(\"VectorRAM\")\n",
    "        #     ram_kwargs_list.append(\"\")\n",
    "        #     normal_set = True\n",
    "        # else:\n",
    "        size = ram_dset_df[\"model size\"].mean() // 1024\n",
    "        # print(size)\n",
    "        # append to list\n",
    "        acc_size_errors.append((acc, std, size))\n",
    "        rams.append(ram_name)\n",
    "        ram_kwargs_list.append(ram_kwargs)\n",
    "        \n",
    "        # plt_mark_colors.append((\"x\", color[i]))\n",
    "        \n",
    "        # Parse kwargs\n",
    "        values = json.loads(ram_kwargs)\n",
    "        args_string = []\n",
    "        if \"est_elements\" in values:\n",
    "            args_string.append(f\"E: {values['est_elements']}\")\n",
    "        if \"false_positive_rate\" in values:\n",
    "            args_string.append(f\"FP: {values['false_positive_rate']}\")\n",
    "        if \"capacity\" in values:\n",
    "            args_string.append(f\"C: {values['capacity']}\")\n",
    "        if \"bucket_size\" in values:\n",
    "            args_string.append(f\"B: {values['bucket_size']}\")\n",
    "        if \"width\" in values:\n",
    "            args_string.append(f\"W: {values['width']}\")\n",
    "        if \"depth\" in values:\n",
    "            args_string.append(f\"D: {values['depth']}\")\n",
    "        if \"num_hitters\" in values:\n",
    "            args_string.append(f\"NH: {values['num_hitters']}\")\n",
    "        if \"threshold\" in values:\n",
    "            args_string.append(f\"T: {values['threshold']}\")\n",
    "            \n",
    "        \n",
    "        if args_string:\n",
    "            label = f\"{ram_name} - ({', '.join(args_string)})\"\n",
    "        else:\n",
    "            label = ram_name\n",
    "        labels.append(label)\n",
    "        per_ram_stds[label] = std\n",
    "        # errs.append(std)\n",
    "    \n",
    "        \n",
    "        \n",
    "    xs = [x[0] for x in acc_size_errors]\n",
    "    errs = [x[1] for x in acc_size_errors]\n",
    "    ys = [x[2] for x in acc_size_errors]\n",
    "    \n",
    "    \n",
    "    for i, r in enumerate(np.unique(rams)):\n",
    "        c = 0\n",
    "        for j, (ram, arg) in enumerate(zip(rams, ram_kwargs_list)):\n",
    "            if r == ram:\n",
    "                plt_mark_colors.append((markers[i], colors[c]))\n",
    "                c += 1\n",
    "    print(plt_mark_colors)\n",
    "\n",
    "    fig, ax = plt.subplots(1, figsize=(10, 7))\n",
    "    for acc, size, err, label, mark_color in zip(xs, ys, errs, labels, plt_mark_colors):\n",
    "        marker, color = mark_color\n",
    "        ax.errorbar(acc, size, alpha=0.8, c=color, marker=marker, label=label,  markersize=8, markerfacecolor='None', markeredgecolor=color, linestyle = 'None')\n",
    "        # ax.errorbar(acc, size, alpha=0.8, xerr=err, ecolor=color, marker=marker, label=label, markersize=8, markerfacecolor='None', markeredgecolor=color, linestyle = 'None')\n",
    "        # errs.append(err)\n",
    "        \n",
    "        \n",
    "    # Draw Paretto\n",
    "    pareto_front = select_pareto_frontier_points(xs, ys, maxX=False, maxY=False)\n",
    "    pf_X = [pair[0] for pair in pareto_front]\n",
    "    pf_Y = [pair[1] for pair in pareto_front]\n",
    "    pf_X.insert(0,pf_X[0])\n",
    "    pf_Y.insert(0,max(ys))\n",
    "    pf_X.append(max(xs))\n",
    "    pf_Y.append(pf_Y[-1])\n",
    "    ax.plot(pf_X, pf_Y, color='gray', linestyle='dashed', label=\"Pareto frontier\", zorder=-1, alpha=0.5)\n",
    "        \n",
    "    ax.set_xlabel(f\"{metric.capitalize()}\", fontsize=16)\n",
    "    ax.set_ylabel(\"Model Size (kB)\", fontsize=16)\n",
    "    # ax.set_title(dset_name, fontsize=14)\n",
    "    # ax.legend(fontsize=11, bbox_to_anchor=(1.0, 1.0), loc='right')\n",
    "    ax.legend(loc='center left', bbox_to_anchor=(1, 0.5), fontsize=14, ncol=2)\n",
    "    ax.tick_params(axis='both', which='major', labelsize=16)\n",
    "\n",
    "    plt.savefig(f\"acc_size_{dset_name}.pdf\", bbox_inches=\"tight\")\n",
    "    plt.show()\n",
    "    plt.close()\n",
    "    \n",
    "    print(f\"Max std ({dset_name}): {np.max(errs)*100}\")\n",
    "    \n",
    "    per_dataset_stds[dset_name] = per_ram_stds\n",
    "    \n",
    "        \n",
    "#     dset_df = dset_df.loc[dset_df[\"ram name\"] != \"DictRam\"]\n",
    "    \n",
    "#     display(HTML(dset_df.sort_values(\"model size\").head().to_html()))\n",
    "#     # for (ram_name, ram_args, bleach), subdf in dset_df.groupby([\"ram name\", \"ram kwargs\", \"bleach\"]):\n",
    "#     #     print(dset_name, ram_name, ram_args, bleach, subdf[\"accuracy\"].mean(), subdf[\"f1 weighted\"].mean(), subdf[\"model size\"].mean())\n",
    "#     print(\"-------\")"
   ]
  },
  {
   "cell_type": "code",
   "execution_count": null,
   "id": "dff313ec-e5eb-4113-a2ca-e17a1c2238fa",
   "metadata": {},
   "outputs": [],
   "source": [
    "stds_df = pd.DataFrame(per_dataset_stds)\n",
    "stds_df.replace(np.nan, 0.0, inplace=True)\n",
    "stds_df"
   ]
  },
  {
   "cell_type": "code",
   "execution_count": null,
   "id": "557a97c9-39fb-4f07-b7e5-fa1b312d016e",
   "metadata": {},
   "outputs": [],
   "source": [
    "df.loc[df[\"dataset name\"] == \"wine\", [\"encoder\", \"encoder kwargs\", \"tuple size\", \"bleach\"]].head(n=20)"
   ]
  },
  {
   "cell_type": "code",
   "execution_count": null,
   "id": "8dc4b06f-75f6-4ee8-bbdb-cded2a06000d",
   "metadata": {},
   "outputs": [],
   "source": [
    "for dataset in datasets:\n",
    "    dataset_path = list(Path(f\"{dataset} Exp/\").glob(\"*.csv\"))[0]\n",
    "    print(dataset_path)\n",
    "    df = pd.read_csv(dataset_path)\n",
    "    \n",
    "    vals = []\n",
    "    names = []\n",
    "    for (ram_name, bleach, args), subdf in df.groupby([\"ram name\", \"bleach\", \"ram kwargs\"]):\n",
    "        if bleach == 2:\n",
    "            if ram_name in names:\n",
    "                continue\n",
    "            vals.append((subdf[\"accuracy\"].astype(float).values).tolist())\n",
    "            names.append(ram_name)    \n",
    "\n",
    "    vals = np.array(vals)\n",
    "    fig, ax = plt.subplots(1, figsize=(8,6))\n",
    "    bp = ax.boxplot(vals.T, showmeans=True)\n",
    "    plt.xticks(range(1, len(names)+1), names,rotation=90)\n",
    "    name = dataset.replace(\"_\", \" \").lower()\n",
    "    plt.title(name)\n",
    "    plt.savefig(f\"acc_{name}.pdf\")\n",
    "    plt.show()\n",
    "    plt.close()"
   ]
  },
  {
   "cell_type": "code",
   "execution_count": null,
   "id": "24b4b8e3-ee23-43b0-b71c-c5d4e03ab386",
   "metadata": {},
   "outputs": [],
   "source": [
    "dfs = []\n",
    "for dataset in datasets:\n",
    "    dataset_path = list(Path(f\"{dataset} Exp/\").glob(\"*.csv\"))[0]\n",
    "    df = pd.read_csv(dataset_path)\n",
    "    dfs.append(df)\n",
    "    \n",
    "df = pd.concat(dfs)\n",
    "df"
   ]
  },
  {
   "cell_type": "code",
   "execution_count": null,
   "id": "2a03a623-9c7f-4bf7-9a34-12707a7603c2",
   "metadata": {},
   "outputs": [],
   "source": [
    "dfs = []\n",
    "for dataset in datasets:\n",
    "    for (name, args), subdf in df.loc[(df.bleach == 5) & (df[\"dataset name\"] == dataset)].groupby([\"ram name\", \"ram kwargs\"]):\n",
    "        if name == \"DictRam\":\n",
    "            continue\n",
    "        dfs.append({\"dataset\": dataset, \"filter\": name, \"filter args\": args, \"size\": subdf[\"size\"].mean(), \"accuracy\": subdf[\"accuracy\"].mean()})\n",
    "x = pd.DataFrame(dfs)\n",
    "x.to_csv(\"sizes.csv\")\n",
    "x[\"size\"] //= 1024\n",
    "x.sort_values(\"accuracy\", ascending=False)"
   ]
  }
 ],
 "metadata": {
  "kernelspec": {
   "display_name": "Python 3 (ipykernel)",
   "language": "python",
   "name": "python3"
  },
  "language_info": {
   "codemirror_mode": {
    "name": "ipython",
    "version": 3
   },
   "file_extension": ".py",
   "mimetype": "text/x-python",
   "name": "python",
   "nbconvert_exporter": "python",
   "pygments_lexer": "ipython3",
   "version": "3.8.10"
  }
 },
 "nbformat": 4,
 "nbformat_minor": 5
}
