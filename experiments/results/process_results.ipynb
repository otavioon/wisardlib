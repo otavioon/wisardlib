{
 "cells": [
  {
   "cell_type": "code",
   "execution_count": 1,
   "id": "7f9982e6-26f7-4a4f-8766-15e2b22fb0e3",
   "metadata": {},
   "outputs": [],
   "source": [
    "from pathlib import Path\n",
    "\n",
    "import pandas as pd\n",
    "import numpy as np\n",
    "import matplotlib\n",
    "import matplotlib.pyplot as plt\n",
    "import json\n",
    "import plotly.graph_objects as go\n",
    "import plotly.express as px\n",
    "from collections import defaultdict\n",
    "from typing import Union\n",
    "\n",
    "%matplotlib inline\n",
    "\n",
    "matplotlib.rcParams['pdf.fonttype'] = 42\n",
    "matplotlib.rcParams['ps.fonttype'] = 42\n",
    "matplotlib.rcParams[\"font.family\"] = \"Times New Roman\""
   ]
  },
  {
   "cell_type": "code",
   "execution_count": 2,
   "id": "0f395737-991d-408a-934a-65577d7d4dbe",
   "metadata": {},
   "outputs": [
    {
     "data": {
      "text/html": [
       "<div>\n",
       "<style scoped>\n",
       "    .dataframe tbody tr th:only-of-type {\n",
       "        vertical-align: middle;\n",
       "    }\n",
       "\n",
       "    .dataframe tbody tr th {\n",
       "        vertical-align: top;\n",
       "    }\n",
       "\n",
       "    .dataframe thead th {\n",
       "        text-align: right;\n",
       "    }\n",
       "</style>\n",
       "<table border=\"1\" class=\"dataframe\">\n",
       "  <thead>\n",
       "    <tr style=\"text-align: right;\">\n",
       "      <th></th>\n",
       "      <th>bleach</th>\n",
       "      <th>accuracy</th>\n",
       "      <th>f1 weighted</th>\n",
       "      <th>f1 macro</th>\n",
       "      <th>f1 micro</th>\n",
       "      <th>ties</th>\n",
       "      <th>run</th>\n",
       "      <th>train time</th>\n",
       "      <th>predict time</th>\n",
       "      <th>ram name</th>\n",
       "      <th>...</th>\n",
       "      <th>encoder kwargs</th>\n",
       "      <th>experiment name</th>\n",
       "      <th>model size</th>\n",
       "      <th>train samples</th>\n",
       "      <th>test samples</th>\n",
       "      <th>classes</th>\n",
       "      <th>rams per discriminator</th>\n",
       "      <th>discriminators</th>\n",
       "      <th>seed</th>\n",
       "      <th>indices</th>\n",
       "    </tr>\n",
       "  </thead>\n",
       "  <tbody>\n",
       "    <tr>\n",
       "      <th>0</th>\n",
       "      <td>2</td>\n",
       "      <td>0.918129</td>\n",
       "      <td>0.918781</td>\n",
       "      <td>0.914107</td>\n",
       "      <td>0.918129</td>\n",
       "      <td>18</td>\n",
       "      <td>1</td>\n",
       "      <td>1.812207</td>\n",
       "      <td>0.481705</td>\n",
       "      <td>DictRam</td>\n",
       "      <td>...</td>\n",
       "      <td>{\"resolution\": 16}</td>\n",
       "      <td>breast_cancer experiment</td>\n",
       "      <td>9624</td>\n",
       "      <td>398</td>\n",
       "      <td>171</td>\n",
       "      <td>2</td>\n",
       "      <td>30</td>\n",
       "      <td>2</td>\n",
       "      <td>1670370805</td>\n",
       "      <td>480</td>\n",
       "    </tr>\n",
       "    <tr>\n",
       "      <th>1</th>\n",
       "      <td>5</td>\n",
       "      <td>0.929825</td>\n",
       "      <td>0.929825</td>\n",
       "      <td>0.925088</td>\n",
       "      <td>0.929825</td>\n",
       "      <td>7</td>\n",
       "      <td>1</td>\n",
       "      <td>1.812207</td>\n",
       "      <td>0.338999</td>\n",
       "      <td>DictRam</td>\n",
       "      <td>...</td>\n",
       "      <td>{\"resolution\": 16}</td>\n",
       "      <td>breast_cancer experiment</td>\n",
       "      <td>9624</td>\n",
       "      <td>398</td>\n",
       "      <td>171</td>\n",
       "      <td>2</td>\n",
       "      <td>30</td>\n",
       "      <td>2</td>\n",
       "      <td>1670370805</td>\n",
       "      <td>480</td>\n",
       "    </tr>\n",
       "    <tr>\n",
       "      <th>2</th>\n",
       "      <td>10</td>\n",
       "      <td>0.947368</td>\n",
       "      <td>0.947101</td>\n",
       "      <td>0.943263</td>\n",
       "      <td>0.947368</td>\n",
       "      <td>3</td>\n",
       "      <td>1</td>\n",
       "      <td>1.812207</td>\n",
       "      <td>0.338749</td>\n",
       "      <td>DictRam</td>\n",
       "      <td>...</td>\n",
       "      <td>{\"resolution\": 16}</td>\n",
       "      <td>breast_cancer experiment</td>\n",
       "      <td>9624</td>\n",
       "      <td>398</td>\n",
       "      <td>171</td>\n",
       "      <td>2</td>\n",
       "      <td>30</td>\n",
       "      <td>2</td>\n",
       "      <td>1670370805</td>\n",
       "      <td>480</td>\n",
       "    </tr>\n",
       "    <tr>\n",
       "      <th>3</th>\n",
       "      <td>2</td>\n",
       "      <td>0.929825</td>\n",
       "      <td>0.930384</td>\n",
       "      <td>0.926378</td>\n",
       "      <td>0.929825</td>\n",
       "      <td>26</td>\n",
       "      <td>2</td>\n",
       "      <td>0.497607</td>\n",
       "      <td>0.338319</td>\n",
       "      <td>DictRam</td>\n",
       "      <td>...</td>\n",
       "      <td>{\"resolution\": 16}</td>\n",
       "      <td>breast_cancer experiment</td>\n",
       "      <td>9720</td>\n",
       "      <td>398</td>\n",
       "      <td>171</td>\n",
       "      <td>2</td>\n",
       "      <td>30</td>\n",
       "      <td>2</td>\n",
       "      <td>1670370808</td>\n",
       "      <td>480</td>\n",
       "    </tr>\n",
       "    <tr>\n",
       "      <th>4</th>\n",
       "      <td>5</td>\n",
       "      <td>0.941520</td>\n",
       "      <td>0.941694</td>\n",
       "      <td>0.937954</td>\n",
       "      <td>0.941520</td>\n",
       "      <td>13</td>\n",
       "      <td>2</td>\n",
       "      <td>0.497607</td>\n",
       "      <td>0.339714</td>\n",
       "      <td>DictRam</td>\n",
       "      <td>...</td>\n",
       "      <td>{\"resolution\": 16}</td>\n",
       "      <td>breast_cancer experiment</td>\n",
       "      <td>9720</td>\n",
       "      <td>398</td>\n",
       "      <td>171</td>\n",
       "      <td>2</td>\n",
       "      <td>30</td>\n",
       "      <td>2</td>\n",
       "      <td>1670370808</td>\n",
       "      <td>480</td>\n",
       "    </tr>\n",
       "    <tr>\n",
       "      <th>...</th>\n",
       "      <td>...</td>\n",
       "      <td>...</td>\n",
       "      <td>...</td>\n",
       "      <td>...</td>\n",
       "      <td>...</td>\n",
       "      <td>...</td>\n",
       "      <td>...</td>\n",
       "      <td>...</td>\n",
       "      <td>...</td>\n",
       "      <td>...</td>\n",
       "      <td>...</td>\n",
       "      <td>...</td>\n",
       "      <td>...</td>\n",
       "      <td>...</td>\n",
       "      <td>...</td>\n",
       "      <td>...</td>\n",
       "      <td>...</td>\n",
       "      <td>...</td>\n",
       "      <td>...</td>\n",
       "      <td>...</td>\n",
       "      <td>...</td>\n",
       "    </tr>\n",
       "    <tr>\n",
       "      <th>431</th>\n",
       "      <td>5</td>\n",
       "      <td>0.870370</td>\n",
       "      <td>0.869781</td>\n",
       "      <td>0.873519</td>\n",
       "      <td>0.870370</td>\n",
       "      <td>3</td>\n",
       "      <td>3</td>\n",
       "      <td>0.071017</td>\n",
       "      <td>0.087331</td>\n",
       "      <td>stream-threshold</td>\n",
       "      <td>...</td>\n",
       "      <td>{\"resolution\": 16}</td>\n",
       "      <td>wine experiment</td>\n",
       "      <td>117624</td>\n",
       "      <td>124</td>\n",
       "      <td>54</td>\n",
       "      <td>3</td>\n",
       "      <td>13</td>\n",
       "      <td>3</td>\n",
       "      <td>1670371352</td>\n",
       "      <td>208</td>\n",
       "    </tr>\n",
       "    <tr>\n",
       "      <th>432</th>\n",
       "      <td>8</td>\n",
       "      <td>0.888889</td>\n",
       "      <td>0.888060</td>\n",
       "      <td>0.892690</td>\n",
       "      <td>0.888889</td>\n",
       "      <td>6</td>\n",
       "      <td>3</td>\n",
       "      <td>0.071017</td>\n",
       "      <td>0.086613</td>\n",
       "      <td>stream-threshold</td>\n",
       "      <td>...</td>\n",
       "      <td>{\"resolution\": 16}</td>\n",
       "      <td>wine experiment</td>\n",
       "      <td>117624</td>\n",
       "      <td>124</td>\n",
       "      <td>54</td>\n",
       "      <td>3</td>\n",
       "      <td>13</td>\n",
       "      <td>3</td>\n",
       "      <td>1670371352</td>\n",
       "      <td>208</td>\n",
       "    </tr>\n",
       "    <tr>\n",
       "      <th>433</th>\n",
       "      <td>10</td>\n",
       "      <td>0.814815</td>\n",
       "      <td>0.812150</td>\n",
       "      <td>0.816460</td>\n",
       "      <td>0.814815</td>\n",
       "      <td>5</td>\n",
       "      <td>3</td>\n",
       "      <td>0.071017</td>\n",
       "      <td>0.081598</td>\n",
       "      <td>stream-threshold</td>\n",
       "      <td>...</td>\n",
       "      <td>{\"resolution\": 16}</td>\n",
       "      <td>wine experiment</td>\n",
       "      <td>117624</td>\n",
       "      <td>124</td>\n",
       "      <td>54</td>\n",
       "      <td>3</td>\n",
       "      <td>13</td>\n",
       "      <td>3</td>\n",
       "      <td>1670371352</td>\n",
       "      <td>208</td>\n",
       "    </tr>\n",
       "    <tr>\n",
       "      <th>434</th>\n",
       "      <td>15</td>\n",
       "      <td>0.814815</td>\n",
       "      <td>0.798173</td>\n",
       "      <td>0.808999</td>\n",
       "      <td>0.814815</td>\n",
       "      <td>4</td>\n",
       "      <td>3</td>\n",
       "      <td>0.071017</td>\n",
       "      <td>0.081574</td>\n",
       "      <td>stream-threshold</td>\n",
       "      <td>...</td>\n",
       "      <td>{\"resolution\": 16}</td>\n",
       "      <td>wine experiment</td>\n",
       "      <td>117624</td>\n",
       "      <td>124</td>\n",
       "      <td>54</td>\n",
       "      <td>3</td>\n",
       "      <td>13</td>\n",
       "      <td>3</td>\n",
       "      <td>1670371352</td>\n",
       "      <td>208</td>\n",
       "    </tr>\n",
       "    <tr>\n",
       "      <th>0</th>\n",
       "      <td>2</td>\n",
       "      <td>0.333333</td>\n",
       "      <td>0.166667</td>\n",
       "      <td>0.166667</td>\n",
       "      <td>0.333333</td>\n",
       "      <td>0</td>\n",
       "      <td>1</td>\n",
       "      <td>1.709376</td>\n",
       "      <td>0.155130</td>\n",
       "      <td>DictRam</td>\n",
       "      <td>...</td>\n",
       "      <td>{\"resolution\": 16}</td>\n",
       "      <td>wine experiment</td>\n",
       "      <td>1036</td>\n",
       "      <td>124</td>\n",
       "      <td>54</td>\n",
       "      <td>3</td>\n",
       "      <td>13</td>\n",
       "      <td>3</td>\n",
       "      <td>1671457696</td>\n",
       "      <td>208</td>\n",
       "    </tr>\n",
       "  </tbody>\n",
       "</table>\n",
       "<p>7389 rows × 24 columns</p>\n",
       "</div>"
      ],
      "text/plain": [
       "     bleach  accuracy  f1 weighted  f1 macro  f1 micro  ties  run  train time  \\\n",
       "0         2  0.918129     0.918781  0.914107  0.918129    18    1    1.812207   \n",
       "1         5  0.929825     0.929825  0.925088  0.929825     7    1    1.812207   \n",
       "2        10  0.947368     0.947101  0.943263  0.947368     3    1    1.812207   \n",
       "3         2  0.929825     0.930384  0.926378  0.929825    26    2    0.497607   \n",
       "4         5  0.941520     0.941694  0.937954  0.941520    13    2    0.497607   \n",
       "..      ...       ...          ...       ...       ...   ...  ...         ...   \n",
       "431       5  0.870370     0.869781  0.873519  0.870370     3    3    0.071017   \n",
       "432       8  0.888889     0.888060  0.892690  0.888889     6    3    0.071017   \n",
       "433      10  0.814815     0.812150  0.816460  0.814815     5    3    0.071017   \n",
       "434      15  0.814815     0.798173  0.808999  0.814815     4    3    0.071017   \n",
       "0         2  0.333333     0.166667  0.166667  0.333333     0    1    1.709376   \n",
       "\n",
       "     predict time          ram name  ...      encoder kwargs  \\\n",
       "0        0.481705           DictRam  ...  {\"resolution\": 16}   \n",
       "1        0.338999           DictRam  ...  {\"resolution\": 16}   \n",
       "2        0.338749           DictRam  ...  {\"resolution\": 16}   \n",
       "3        0.338319           DictRam  ...  {\"resolution\": 16}   \n",
       "4        0.339714           DictRam  ...  {\"resolution\": 16}   \n",
       "..            ...               ...  ...                 ...   \n",
       "431      0.087331  stream-threshold  ...  {\"resolution\": 16}   \n",
       "432      0.086613  stream-threshold  ...  {\"resolution\": 16}   \n",
       "433      0.081598  stream-threshold  ...  {\"resolution\": 16}   \n",
       "434      0.081574  stream-threshold  ...  {\"resolution\": 16}   \n",
       "0        0.155130           DictRam  ...  {\"resolution\": 16}   \n",
       "\n",
       "              experiment name model size train samples test samples classes  \\\n",
       "0    breast_cancer experiment       9624           398          171       2   \n",
       "1    breast_cancer experiment       9624           398          171       2   \n",
       "2    breast_cancer experiment       9624           398          171       2   \n",
       "3    breast_cancer experiment       9720           398          171       2   \n",
       "4    breast_cancer experiment       9720           398          171       2   \n",
       "..                        ...        ...           ...          ...     ...   \n",
       "431           wine experiment     117624           124           54       3   \n",
       "432           wine experiment     117624           124           54       3   \n",
       "433           wine experiment     117624           124           54       3   \n",
       "434           wine experiment     117624           124           54       3   \n",
       "0             wine experiment       1036           124           54       3   \n",
       "\n",
       "     rams per discriminator  discriminators        seed  indices  \n",
       "0                        30               2  1670370805      480  \n",
       "1                        30               2  1670370805      480  \n",
       "2                        30               2  1670370805      480  \n",
       "3                        30               2  1670370808      480  \n",
       "4                        30               2  1670370808      480  \n",
       "..                      ...             ...         ...      ...  \n",
       "431                      13               3  1670371352      208  \n",
       "432                      13               3  1670371352      208  \n",
       "433                      13               3  1670371352      208  \n",
       "434                      13               3  1670371352      208  \n",
       "0                        13               3  1671457696      208  \n",
       "\n",
       "[7389 rows x 24 columns]"
      ]
     },
     "execution_count": 2,
     "metadata": {},
     "output_type": "execute_result"
    }
   ],
   "source": [
    "datasets = [\n",
    "    \"breast_cancer\",\n",
    "    \"glass\",\n",
    "    \"iris\",\n",
    "    \"letter\",\n",
    "    \"mnist\",\n",
    "    \"motion_sense\",\n",
    "    \"satimage\",\n",
    "    \"segment\",\n",
    "    \"vehicle\",\n",
    "    \"wine\"\n",
    "]\n",
    "\n",
    "datasets_sizes = {\n",
    "    \"breast_cancer\": 144,\n",
    "    \"glass\": 24,\n",
    "    \"iris\": 12,\n",
    "    \"letter\": 2664,\n",
    "    \"mnist\": 53672,\n",
    "    \"motion_sense\": 12512,\n",
    "    \"satimage\": 1864,\n",
    "    \"segment\": 368,\n",
    "    \"vehicle\": 132,\n",
    "    \"wine\": 24\n",
    "}\n",
    "\n",
    "dataset_classes = {\n",
    "    \"breast_cancer\": 2,\n",
    "    \"glass\": 6,\n",
    "    \"iris\": 3,\n",
    "    \"letter\": 26,\n",
    "    \"mnist\": 10,\n",
    "    \"motion_sense\": 6,\n",
    "    \"satimage\": 6,\n",
    "    \"segment\": 7,\n",
    "    \"vehicle\": 3,\n",
    "    \"wine\": 3\n",
    "}\n",
    "\n",
    "dataset_train_samples = {\n",
    "    \"breast_cancer\": 398,\n",
    "    \"glass\": 149,\n",
    "    \"iris\": 105,\n",
    "    \"letter\": 1400,\n",
    "    \"mnist\": 60000,\n",
    "    \"motion_sense\": 3414,\n",
    "    \"satimage\": 4501,\n",
    "    \"segment\": 1617,\n",
    "    \"vehicle\": 676,\n",
    "    \"wine\": 124 \n",
    "}\n",
    "\n",
    "dataset_test_samples = {\n",
    "    \"breast_cancer\": 171,\n",
    "    \"glass\": 65,\n",
    "    \"iris\": 45,\n",
    "    \"letter\": 6000,\n",
    "    \"mnist\": 10000,\n",
    "    \"motion_sense\": 1020,\n",
    "    \"satimage\": 1929,\n",
    "    \"segment\": 693,\n",
    "    \"vehicle\": 170,\n",
    "    \"wine\": 54 \n",
    "}\n",
    "\n",
    "dataset_balanced = {\n",
    "    \"breast_cancer\": \"no\",\n",
    "    \"glass\": \"no\",\n",
    "    \"iris\": \"yes\",\n",
    "    \"letter\": \"yes\",\n",
    "    \"mnist\": \"yes\",\n",
    "    \"motion_sense\": \"yes\",\n",
    "    \"satimage\": \"no\",\n",
    "    \"segment\": \"yes\",\n",
    "    \"vehicle\": \"yes\",\n",
    "    \"wine\": \"no\"   \n",
    "}\n",
    "\n",
    "metrics_to_use = {\n",
    "    \"breast_cancer\": \"f1 weighted\",\n",
    "    \"glass\": \"f1 weighted\",\n",
    "    \"iris\": \"accuracy\",\n",
    "    \"letter\": \"accuracy\",\n",
    "    \"mnist\": \"accuracy\",\n",
    "    \"motion_sense\": \"accuracy\",\n",
    "    \"satimage\": \"f1 weighted\",\n",
    "    \"segment\": \"accuracy\",\n",
    "    \"vehicle\": \"accuracy\",\n",
    "    \"wine\": \"f1 weighted\"\n",
    "}\n",
    "\n",
    "\n",
    "dfs = [\n",
    "    pd.read_csv(exp)\n",
    "    for dset in datasets\n",
    "    for exp in Path(f\"{dset} experiment\").glob(\"*.csv\")\n",
    "]\n",
    "\n",
    "df = pd.concat(dfs)\n",
    "df.replace({\"mnist-dist-16\": \"mnist\"}, inplace=True)\n",
    "df\n",
    "# d = json.loads(df.iloc[0][\"encoder kwargs\"])"
   ]
  },
  {
   "cell_type": "code",
   "execution_count": 3,
   "id": "b01f5fdd",
   "metadata": {},
   "outputs": [
    {
     "data": {
      "text/html": [
       "<div>\n",
       "<style scoped>\n",
       "    .dataframe tbody tr th:only-of-type {\n",
       "        vertical-align: middle;\n",
       "    }\n",
       "\n",
       "    .dataframe tbody tr th {\n",
       "        vertical-align: top;\n",
       "    }\n",
       "\n",
       "    .dataframe thead th {\n",
       "        text-align: right;\n",
       "    }\n",
       "</style>\n",
       "<table border=\"1\" class=\"dataframe\">\n",
       "  <thead>\n",
       "    <tr style=\"text-align: right;\">\n",
       "      <th></th>\n",
       "      <th>size (KB)</th>\n",
       "      <th>classes</th>\n",
       "      <th>train samples</th>\n",
       "      <th>test samples</th>\n",
       "      <th>balanced</th>\n",
       "    </tr>\n",
       "  </thead>\n",
       "  <tbody>\n",
       "    <tr>\n",
       "      <th>breast_cancer</th>\n",
       "      <td>144</td>\n",
       "      <td>2</td>\n",
       "      <td>398</td>\n",
       "      <td>171</td>\n",
       "      <td>no</td>\n",
       "    </tr>\n",
       "    <tr>\n",
       "      <th>glass</th>\n",
       "      <td>24</td>\n",
       "      <td>6</td>\n",
       "      <td>149</td>\n",
       "      <td>65</td>\n",
       "      <td>no</td>\n",
       "    </tr>\n",
       "    <tr>\n",
       "      <th>iris</th>\n",
       "      <td>12</td>\n",
       "      <td>3</td>\n",
       "      <td>105</td>\n",
       "      <td>45</td>\n",
       "      <td>yes</td>\n",
       "    </tr>\n",
       "    <tr>\n",
       "      <th>letter</th>\n",
       "      <td>2664</td>\n",
       "      <td>26</td>\n",
       "      <td>1400</td>\n",
       "      <td>6000</td>\n",
       "      <td>yes</td>\n",
       "    </tr>\n",
       "    <tr>\n",
       "      <th>mnist</th>\n",
       "      <td>53672</td>\n",
       "      <td>10</td>\n",
       "      <td>60000</td>\n",
       "      <td>10000</td>\n",
       "      <td>yes</td>\n",
       "    </tr>\n",
       "    <tr>\n",
       "      <th>motion_sense</th>\n",
       "      <td>12512</td>\n",
       "      <td>6</td>\n",
       "      <td>3414</td>\n",
       "      <td>1020</td>\n",
       "      <td>yes</td>\n",
       "    </tr>\n",
       "    <tr>\n",
       "      <th>satimage</th>\n",
       "      <td>1864</td>\n",
       "      <td>6</td>\n",
       "      <td>4501</td>\n",
       "      <td>1929</td>\n",
       "      <td>no</td>\n",
       "    </tr>\n",
       "    <tr>\n",
       "      <th>segment</th>\n",
       "      <td>368</td>\n",
       "      <td>7</td>\n",
       "      <td>1617</td>\n",
       "      <td>693</td>\n",
       "      <td>yes</td>\n",
       "    </tr>\n",
       "    <tr>\n",
       "      <th>vehicle</th>\n",
       "      <td>132</td>\n",
       "      <td>3</td>\n",
       "      <td>676</td>\n",
       "      <td>170</td>\n",
       "      <td>yes</td>\n",
       "    </tr>\n",
       "    <tr>\n",
       "      <th>wine</th>\n",
       "      <td>24</td>\n",
       "      <td>3</td>\n",
       "      <td>124</td>\n",
       "      <td>54</td>\n",
       "      <td>no</td>\n",
       "    </tr>\n",
       "  </tbody>\n",
       "</table>\n",
       "</div>"
      ],
      "text/plain": [
       "              size (KB) classes train samples test samples balanced\n",
       "breast_cancer       144       2           398          171       no\n",
       "glass                24       6           149           65       no\n",
       "iris                 12       3           105           45      yes\n",
       "letter             2664      26          1400         6000      yes\n",
       "mnist             53672      10         60000        10000      yes\n",
       "motion_sense      12512       6          3414         1020      yes\n",
       "satimage           1864       6          4501         1929       no\n",
       "segment             368       7          1617          693      yes\n",
       "vehicle             132       3           676          170      yes\n",
       "wine                 24       3           124           54       no"
      ]
     },
     "execution_count": 3,
     "metadata": {},
     "output_type": "execute_result"
    }
   ],
   "source": [
    "meta = defaultdict(dict)\n",
    "for dset in datasets:\n",
    "    meta[dset][\"size (KB)\"] = datasets_sizes[dset]\n",
    "    meta[dset][\"classes\"] = dataset_classes[dset]\n",
    "    meta[dset][\"train samples\"] = dataset_train_samples[dset]\n",
    "    meta[dset][\"test samples\"] = dataset_test_samples[dset]\n",
    "    meta[dset][\"balanced\"] = dataset_balanced[dset]\n",
    "\n",
    "meta_df = pd.DataFrame(meta).T\n",
    "meta_df"
   ]
  },
  {
   "cell_type": "code",
   "execution_count": 4,
   "id": "f07ce103",
   "metadata": {},
   "outputs": [],
   "source": [
    "latex_tables_path = Path(\"tables\")\n",
    "figures_path = Path(\"figures\")\n",
    "\n",
    "def write_figure(filename: str, fig: go.Figure, path: Union[Path, str] = figures_path):\n",
    "    \"\"\"Write a Figure to a file.\n",
    "\n",
    "    Parameters\n",
    "    ----------\n",
    "    filename : str\n",
    "        The name of the file to write to.\n",
    "    fig : go.Figure\n",
    "        The plotly figure object.\n",
    "    path : Union[Path, str], optional\n",
    "        The path where the file will be stored, by default figures_path\n",
    "    \"\"\"\n",
    "    path = Path(path)\n",
    "    path.mkdir(exist_ok=True, parents=True)\n",
    "    fname = path/filename\n",
    "    fig.write_image(fname)\n",
    "    print(f\"Figure written to: {fname}\")\n",
    "    print(f\"Filename   :\", filename)\n",
    "    print(f\"Latex label:\", filename.replace(\".pdf\",\"\"))\n",
    "    \n",
    "def write_latex_table(filename: str, table: str, path: Union[Path, str] = latex_tables_path):\n",
    "    \"\"\"Write a latex table to a file.\n",
    "\n",
    "    Parameters\n",
    "    ----------\n",
    "    filename : str\n",
    "        The name of the file to write to.\n",
    "    table : str\n",
    "        The table, as a string.\n",
    "    path : Union[Path, str], optional\n",
    "        The path where the file will be stored, by default latex_tables_path\n",
    "    \"\"\"\n",
    "    path = Path(path)\n",
    "    path.mkdir(exist_ok=True, parents=True)\n",
    "    fname = path/filename\n",
    "    with fname.open(\"w\") as f:\n",
    "        f.write(\"%%%%%%%%%%%%%%%%%%%%%%%%%%%%%%%%%%%%%%%%%%%%%%%%%%%%%%%%%%%%%%%%%%%%\\n\")\n",
    "        f.write(\"%% WARNING: DO NOT CHANGE THIS FILE. IT IS GENERATED AUTOMATICALLY %\\n\")\n",
    "        f.write(\"%%%%%%%%%%%%%%%%%%%%%%%%%%%%%%%%%%%%%%%%%%%%%%%%%%%%%%%%%%%%%%%%%%%%\\n\")\n",
    "        f.write(table)\n",
    "    print(f\"Table written to: {fname}\")\n",
    "\n"
   ]
  },
  {
   "cell_type": "code",
   "execution_count": 5,
   "id": "841896a4",
   "metadata": {},
   "outputs": [
    {
     "data": {
      "text/html": [
       "<div>\n",
       "<style scoped>\n",
       "    .dataframe tbody tr th:only-of-type {\n",
       "        vertical-align: middle;\n",
       "    }\n",
       "\n",
       "    .dataframe tbody tr th {\n",
       "        vertical-align: top;\n",
       "    }\n",
       "\n",
       "    .dataframe thead th {\n",
       "        text-align: right;\n",
       "    }\n",
       "</style>\n",
       "<table border=\"1\" class=\"dataframe\">\n",
       "  <thead>\n",
       "    <tr style=\"text-align: right;\">\n",
       "      <th></th>\n",
       "      <th>bleach</th>\n",
       "      <th>accuracy</th>\n",
       "      <th>f1 weighted</th>\n",
       "      <th>f1 macro</th>\n",
       "      <th>f1 micro</th>\n",
       "      <th>ties</th>\n",
       "      <th>run</th>\n",
       "      <th>train time</th>\n",
       "      <th>predict time</th>\n",
       "      <th>ram name</th>\n",
       "      <th>...</th>\n",
       "      <th>encoder kwargs</th>\n",
       "      <th>experiment name</th>\n",
       "      <th>model size</th>\n",
       "      <th>train samples</th>\n",
       "      <th>test samples</th>\n",
       "      <th>classes</th>\n",
       "      <th>rams per discriminator</th>\n",
       "      <th>discriminators</th>\n",
       "      <th>seed</th>\n",
       "      <th>indices</th>\n",
       "    </tr>\n",
       "  </thead>\n",
       "  <tbody>\n",
       "    <tr>\n",
       "      <th>0</th>\n",
       "      <td>2</td>\n",
       "      <td>0.918129</td>\n",
       "      <td>0.918781</td>\n",
       "      <td>0.914107</td>\n",
       "      <td>0.918129</td>\n",
       "      <td>18</td>\n",
       "      <td>1</td>\n",
       "      <td>1.812207</td>\n",
       "      <td>0.481705</td>\n",
       "      <td>DictRam</td>\n",
       "      <td>...</td>\n",
       "      <td>{\"resolution\": 16}</td>\n",
       "      <td>breast_cancer experiment</td>\n",
       "      <td>9624</td>\n",
       "      <td>398</td>\n",
       "      <td>171</td>\n",
       "      <td>2</td>\n",
       "      <td>30</td>\n",
       "      <td>2</td>\n",
       "      <td>1670370805</td>\n",
       "      <td>480</td>\n",
       "    </tr>\n",
       "    <tr>\n",
       "      <th>1</th>\n",
       "      <td>5</td>\n",
       "      <td>0.929825</td>\n",
       "      <td>0.929825</td>\n",
       "      <td>0.925088</td>\n",
       "      <td>0.929825</td>\n",
       "      <td>7</td>\n",
       "      <td>1</td>\n",
       "      <td>1.812207</td>\n",
       "      <td>0.338999</td>\n",
       "      <td>DictRam</td>\n",
       "      <td>...</td>\n",
       "      <td>{\"resolution\": 16}</td>\n",
       "      <td>breast_cancer experiment</td>\n",
       "      <td>9624</td>\n",
       "      <td>398</td>\n",
       "      <td>171</td>\n",
       "      <td>2</td>\n",
       "      <td>30</td>\n",
       "      <td>2</td>\n",
       "      <td>1670370805</td>\n",
       "      <td>480</td>\n",
       "    </tr>\n",
       "    <tr>\n",
       "      <th>2</th>\n",
       "      <td>10</td>\n",
       "      <td>0.947368</td>\n",
       "      <td>0.947101</td>\n",
       "      <td>0.943263</td>\n",
       "      <td>0.947368</td>\n",
       "      <td>3</td>\n",
       "      <td>1</td>\n",
       "      <td>1.812207</td>\n",
       "      <td>0.338749</td>\n",
       "      <td>DictRam</td>\n",
       "      <td>...</td>\n",
       "      <td>{\"resolution\": 16}</td>\n",
       "      <td>breast_cancer experiment</td>\n",
       "      <td>9624</td>\n",
       "      <td>398</td>\n",
       "      <td>171</td>\n",
       "      <td>2</td>\n",
       "      <td>30</td>\n",
       "      <td>2</td>\n",
       "      <td>1670370805</td>\n",
       "      <td>480</td>\n",
       "    </tr>\n",
       "    <tr>\n",
       "      <th>3</th>\n",
       "      <td>2</td>\n",
       "      <td>0.929825</td>\n",
       "      <td>0.930384</td>\n",
       "      <td>0.926378</td>\n",
       "      <td>0.929825</td>\n",
       "      <td>26</td>\n",
       "      <td>2</td>\n",
       "      <td>0.497607</td>\n",
       "      <td>0.338319</td>\n",
       "      <td>DictRam</td>\n",
       "      <td>...</td>\n",
       "      <td>{\"resolution\": 16}</td>\n",
       "      <td>breast_cancer experiment</td>\n",
       "      <td>9720</td>\n",
       "      <td>398</td>\n",
       "      <td>171</td>\n",
       "      <td>2</td>\n",
       "      <td>30</td>\n",
       "      <td>2</td>\n",
       "      <td>1670370808</td>\n",
       "      <td>480</td>\n",
       "    </tr>\n",
       "    <tr>\n",
       "      <th>4</th>\n",
       "      <td>5</td>\n",
       "      <td>0.941520</td>\n",
       "      <td>0.941694</td>\n",
       "      <td>0.937954</td>\n",
       "      <td>0.941520</td>\n",
       "      <td>13</td>\n",
       "      <td>2</td>\n",
       "      <td>0.497607</td>\n",
       "      <td>0.339714</td>\n",
       "      <td>DictRam</td>\n",
       "      <td>...</td>\n",
       "      <td>{\"resolution\": 16}</td>\n",
       "      <td>breast_cancer experiment</td>\n",
       "      <td>9720</td>\n",
       "      <td>398</td>\n",
       "      <td>171</td>\n",
       "      <td>2</td>\n",
       "      <td>30</td>\n",
       "      <td>2</td>\n",
       "      <td>1670370808</td>\n",
       "      <td>480</td>\n",
       "    </tr>\n",
       "    <tr>\n",
       "      <th>...</th>\n",
       "      <td>...</td>\n",
       "      <td>...</td>\n",
       "      <td>...</td>\n",
       "      <td>...</td>\n",
       "      <td>...</td>\n",
       "      <td>...</td>\n",
       "      <td>...</td>\n",
       "      <td>...</td>\n",
       "      <td>...</td>\n",
       "      <td>...</td>\n",
       "      <td>...</td>\n",
       "      <td>...</td>\n",
       "      <td>...</td>\n",
       "      <td>...</td>\n",
       "      <td>...</td>\n",
       "      <td>...</td>\n",
       "      <td>...</td>\n",
       "      <td>...</td>\n",
       "      <td>...</td>\n",
       "      <td>...</td>\n",
       "      <td>...</td>\n",
       "    </tr>\n",
       "    <tr>\n",
       "      <th>431</th>\n",
       "      <td>5</td>\n",
       "      <td>0.870370</td>\n",
       "      <td>0.869781</td>\n",
       "      <td>0.873519</td>\n",
       "      <td>0.870370</td>\n",
       "      <td>3</td>\n",
       "      <td>3</td>\n",
       "      <td>0.071017</td>\n",
       "      <td>0.087331</td>\n",
       "      <td>stream-threshold</td>\n",
       "      <td>...</td>\n",
       "      <td>{\"resolution\": 16}</td>\n",
       "      <td>wine experiment</td>\n",
       "      <td>117624</td>\n",
       "      <td>124</td>\n",
       "      <td>54</td>\n",
       "      <td>3</td>\n",
       "      <td>13</td>\n",
       "      <td>3</td>\n",
       "      <td>1670371352</td>\n",
       "      <td>208</td>\n",
       "    </tr>\n",
       "    <tr>\n",
       "      <th>432</th>\n",
       "      <td>8</td>\n",
       "      <td>0.888889</td>\n",
       "      <td>0.888060</td>\n",
       "      <td>0.892690</td>\n",
       "      <td>0.888889</td>\n",
       "      <td>6</td>\n",
       "      <td>3</td>\n",
       "      <td>0.071017</td>\n",
       "      <td>0.086613</td>\n",
       "      <td>stream-threshold</td>\n",
       "      <td>...</td>\n",
       "      <td>{\"resolution\": 16}</td>\n",
       "      <td>wine experiment</td>\n",
       "      <td>117624</td>\n",
       "      <td>124</td>\n",
       "      <td>54</td>\n",
       "      <td>3</td>\n",
       "      <td>13</td>\n",
       "      <td>3</td>\n",
       "      <td>1670371352</td>\n",
       "      <td>208</td>\n",
       "    </tr>\n",
       "    <tr>\n",
       "      <th>433</th>\n",
       "      <td>10</td>\n",
       "      <td>0.814815</td>\n",
       "      <td>0.812150</td>\n",
       "      <td>0.816460</td>\n",
       "      <td>0.814815</td>\n",
       "      <td>5</td>\n",
       "      <td>3</td>\n",
       "      <td>0.071017</td>\n",
       "      <td>0.081598</td>\n",
       "      <td>stream-threshold</td>\n",
       "      <td>...</td>\n",
       "      <td>{\"resolution\": 16}</td>\n",
       "      <td>wine experiment</td>\n",
       "      <td>117624</td>\n",
       "      <td>124</td>\n",
       "      <td>54</td>\n",
       "      <td>3</td>\n",
       "      <td>13</td>\n",
       "      <td>3</td>\n",
       "      <td>1670371352</td>\n",
       "      <td>208</td>\n",
       "    </tr>\n",
       "    <tr>\n",
       "      <th>434</th>\n",
       "      <td>15</td>\n",
       "      <td>0.814815</td>\n",
       "      <td>0.798173</td>\n",
       "      <td>0.808999</td>\n",
       "      <td>0.814815</td>\n",
       "      <td>4</td>\n",
       "      <td>3</td>\n",
       "      <td>0.071017</td>\n",
       "      <td>0.081574</td>\n",
       "      <td>stream-threshold</td>\n",
       "      <td>...</td>\n",
       "      <td>{\"resolution\": 16}</td>\n",
       "      <td>wine experiment</td>\n",
       "      <td>117624</td>\n",
       "      <td>124</td>\n",
       "      <td>54</td>\n",
       "      <td>3</td>\n",
       "      <td>13</td>\n",
       "      <td>3</td>\n",
       "      <td>1670371352</td>\n",
       "      <td>208</td>\n",
       "    </tr>\n",
       "    <tr>\n",
       "      <th>0</th>\n",
       "      <td>2</td>\n",
       "      <td>0.333333</td>\n",
       "      <td>0.166667</td>\n",
       "      <td>0.166667</td>\n",
       "      <td>0.333333</td>\n",
       "      <td>0</td>\n",
       "      <td>1</td>\n",
       "      <td>1.709376</td>\n",
       "      <td>0.155130</td>\n",
       "      <td>DictRam</td>\n",
       "      <td>...</td>\n",
       "      <td>{\"resolution\": 16}</td>\n",
       "      <td>wine experiment</td>\n",
       "      <td>1036</td>\n",
       "      <td>124</td>\n",
       "      <td>54</td>\n",
       "      <td>3</td>\n",
       "      <td>13</td>\n",
       "      <td>3</td>\n",
       "      <td>1671457696</td>\n",
       "      <td>208</td>\n",
       "    </tr>\n",
       "  </tbody>\n",
       "</table>\n",
       "<p>6339 rows × 24 columns</p>\n",
       "</div>"
      ],
      "text/plain": [
       "     bleach  accuracy  f1 weighted  f1 macro  f1 micro  ties  run  train time  \\\n",
       "0         2  0.918129     0.918781  0.914107  0.918129    18    1    1.812207   \n",
       "1         5  0.929825     0.929825  0.925088  0.929825     7    1    1.812207   \n",
       "2        10  0.947368     0.947101  0.943263  0.947368     3    1    1.812207   \n",
       "3         2  0.929825     0.930384  0.926378  0.929825    26    2    0.497607   \n",
       "4         5  0.941520     0.941694  0.937954  0.941520    13    2    0.497607   \n",
       "..      ...       ...          ...       ...       ...   ...  ...         ...   \n",
       "431       5  0.870370     0.869781  0.873519  0.870370     3    3    0.071017   \n",
       "432       8  0.888889     0.888060  0.892690  0.888889     6    3    0.071017   \n",
       "433      10  0.814815     0.812150  0.816460  0.814815     5    3    0.071017   \n",
       "434      15  0.814815     0.798173  0.808999  0.814815     4    3    0.071017   \n",
       "0         2  0.333333     0.166667  0.166667  0.333333     0    1    1.709376   \n",
       "\n",
       "     predict time          ram name  ...      encoder kwargs  \\\n",
       "0        0.481705           DictRam  ...  {\"resolution\": 16}   \n",
       "1        0.338999           DictRam  ...  {\"resolution\": 16}   \n",
       "2        0.338749           DictRam  ...  {\"resolution\": 16}   \n",
       "3        0.338319           DictRam  ...  {\"resolution\": 16}   \n",
       "4        0.339714           DictRam  ...  {\"resolution\": 16}   \n",
       "..            ...               ...  ...                 ...   \n",
       "431      0.087331  stream-threshold  ...  {\"resolution\": 16}   \n",
       "432      0.086613  stream-threshold  ...  {\"resolution\": 16}   \n",
       "433      0.081598  stream-threshold  ...  {\"resolution\": 16}   \n",
       "434      0.081574  stream-threshold  ...  {\"resolution\": 16}   \n",
       "0        0.155130           DictRam  ...  {\"resolution\": 16}   \n",
       "\n",
       "              experiment name model size train samples test samples classes  \\\n",
       "0    breast_cancer experiment       9624           398          171       2   \n",
       "1    breast_cancer experiment       9624           398          171       2   \n",
       "2    breast_cancer experiment       9624           398          171       2   \n",
       "3    breast_cancer experiment       9720           398          171       2   \n",
       "4    breast_cancer experiment       9720           398          171       2   \n",
       "..                        ...        ...           ...          ...     ...   \n",
       "431           wine experiment     117624           124           54       3   \n",
       "432           wine experiment     117624           124           54       3   \n",
       "433           wine experiment     117624           124           54       3   \n",
       "434           wine experiment     117624           124           54       3   \n",
       "0             wine experiment       1036           124           54       3   \n",
       "\n",
       "     rams per discriminator  discriminators        seed  indices  \n",
       "0                        30               2  1670370805      480  \n",
       "1                        30               2  1670370805      480  \n",
       "2                        30               2  1670370805      480  \n",
       "3                        30               2  1670370808      480  \n",
       "4                        30               2  1670370808      480  \n",
       "..                      ...             ...         ...      ...  \n",
       "431                      13               3  1670371352      208  \n",
       "432                      13               3  1670371352      208  \n",
       "433                      13               3  1670371352      208  \n",
       "434                      13               3  1670371352      208  \n",
       "0                        13               3  1671457696      208  \n",
       "\n",
       "[6339 rows x 24 columns]"
      ]
     },
     "execution_count": 5,
     "metadata": {},
     "output_type": "execute_result"
    }
   ],
   "source": [
    "df = df[df[\"dataset name\"] != \"segment\"]\n",
    "df = df[df[\"ram kwargs\"] != '{\"est_elements\": 1000, \"false_positive_rate\": 0.05}']\n",
    "df = df[df[\"ram kwargs\"] != '{\"width\": 1000, \"depth\": 5}']\n",
    "df = df[df[\"ram kwargs\"] != '{\"width\": 1000, \"depth\": 3}']\n",
    "df\n"
   ]
  },
  {
   "cell_type": "code",
   "execution_count": 6,
   "id": "1c026bb9",
   "metadata": {},
   "outputs": [],
   "source": [
    "rename_elements = {\n",
    "    'DictRam {}': \"Dict-WiSARD\",\n",
    "    'count-bloom {\"est_elements\": 100, \"false_positive_rate\": 0.02}': 'CB FPR=0.02',\n",
    "    'count-bloom {\"est_elements\": 100, \"false_positive_rate\": 0.05}': 'CB FPR=0.05',\n",
    "    'count-bloom {\"est_elements\": 100, \"false_positive_rate\": 0.08}': 'CB FPR=0.08',\n",
    "    'count-min-sketch {\"width\": 20, \"depth\": 2}': 'CMS W=20 D=2',\n",
    "    'count-min-sketch {\"width\": 20, \"depth\": 3}': 'CMS W=20 D=3',\n",
    "    'count-min-sketch {\"width\": 50, \"depth\": 2}': 'CMS W=50 D=2',\n",
    "    'count-min-sketch {\"width\": 50, \"depth\": 3}': 'CMS W=50 D=3',\n",
    "    'count-min-sketch {\"width\": 100, \"depth\": 3}': 'CMS W=100 D=3',\n",
    "    'count-min-sketch {\"width\": 100, \"depth\": 5}': 'CMS W=100 D=5',\n",
    "    #'count-min-sketch {\"width\": 500, \"depth\": 3}': 'CMS W=500 D=3',\n",
    "    # 'count-min-sketch {\"width\": 500, \"depth\": 5}': 'CMS W=500 D=5',\n",
    "    # 'count-min-sketch {\"width\": 1000, \"depth\": 3}': 'CMS W=1000 D=3',\n",
    "    # 'count-min-sketch {\"width\": 1000, \"depth\": 5}': 'CMS W=1000 D=5',\n",
    "}\n",
    "\n",
    "element_order = [\n",
    "    \"Dict-WiSARD\",\n",
    "    'CB FPR=0.02',\n",
    "    'CB FPR=0.05',\n",
    "    'CB FPR=0.08',\n",
    "    'CMS W=20 D=2',\n",
    "    'CMS W=20 D=3',\n",
    "    'CMS W=50 D=2',\n",
    "    'CMS W=50 D=3',\n",
    "    'CMS W=100 D=3',\n",
    "    'CMS W=100 D=5',\n",
    "    #'CMS W=500 D=3',\n",
    "    # 'CMS W=500 D=5',\n",
    "    # 'CMS W=1000 D=3',\n",
    "    # 'CMS W=1000 D=5'\n",
    "]\n",
    "\n",
    "datasets_order = [\n",
    "    \"iris\",\n",
    "    \"glass\",\n",
    "    \"wine\",\n",
    "    \"vehicle\",\n",
    "    \"breast_cancer\",\n",
    "    # \"segment (368)\",\n",
    "    \"satimage\",\n",
    "    'letter',\n",
    "    'motion_sense',\n",
    "    'mnist'\n",
    "]"
   ]
  },
  {
   "cell_type": "code",
   "execution_count": 7,
   "id": "e69d66a7",
   "metadata": {},
   "outputs": [],
   "source": [
    "def get_best(df: pd.DataFrame, metric: str = None, improvement_col: str = \"DictRam {}\"):\n",
    "    configs = list(k for k, _ in df[df[\"ram name\"].isin([\"DictRam\", \"count-min-sketch\", \"count-bloom\"])].groupby([\"ram name\", \"ram kwargs\"]))\n",
    "    datasets = list(df[\"dataset name\"].unique())\n",
    "\n",
    "    d = defaultdict(dict)\n",
    "    for c in configs:\n",
    "        c_str = f\"{c[0]} {c[1]}\"\n",
    "        for dset in datasets:\n",
    "            metric_to_use = metrics_to_use[dset]\n",
    "            x = df.loc[(df[\"ram name\"] == c[0]) & (df[\"ram kwargs\"] == c[1]) & (df[\"dataset name\"] == dset)]\n",
    "            best = x.sort_values(by=metric_to_use, ascending=False).iloc[0]\n",
    "            if metric is None:\n",
    "                metric = metric_to_use\n",
    "            d[c_str][dset] = best[metric]\n",
    "            \n",
    "    d = pd.DataFrame(d)\n",
    "    if improvement_col is not None:\n",
    "        r = d[improvement_col]\n",
    "        for c in d.columns:\n",
    "            d[c] = d[c] / r\n",
    "                \n",
    "    return pd.DataFrame(d)\n",
    "\n",
    "def do_rename_and_reorder(d, remove_dict: bool = False):\n",
    "    d = d.rename(columns=rename_elements)\n",
    "    if remove_dict:\n",
    "        d = d[element_order[1:]]\n",
    "    else:\n",
    "        d = d[element_order]\n",
    "    d = d.T\n",
    "    # d = d.rename(columns=datasets_rename)\n",
    "    d = d[datasets_order]\n",
    "    return d\n"
   ]
  },
  {
   "cell_type": "code",
   "execution_count": 8,
   "id": "849c24b6",
   "metadata": {},
   "outputs": [
    {
     "name": "stdout",
     "output_type": "stream",
     "text": [
      "Figure written to: figures/size_improvement.pdf\n",
      "Filename   : size_improvement.pdf\n",
      "Latex label: size_improvement\n"
     ]
    },
    {
     "data": {
      "application/vnd.plotly.v1+json": {
       "config": {
        "plotlyServerURL": "https://plot.ly"
       },
       "data": [
        {
         "coloraxis": "coloraxis",
         "hovertemplate": "x: %{x}<br>y: %{y}<br>color: %{z}<extra></extra>",
         "name": "0",
         "texttemplate": "%{z:.2f}",
         "type": "heatmap",
         "x": [
          "CB FPR=0.02",
          "CB FPR=0.05",
          "CB FPR=0.08",
          "CMS W=20 D=2",
          "CMS W=20 D=3",
          "CMS W=50 D=2",
          "CMS W=50 D=3",
          "CMS W=100 D=3",
          "CMS W=100 D=5"
         ],
         "xaxis": "x",
         "y": [
          "iris",
          "glass",
          "wine",
          "vehicle",
          "breast_cancer",
          "satimage",
          "letter",
          "motion_sense",
          "mnist"
         ],
         "yaxis": "y",
         "z": [
          [
           46.19718309859155,
           35.436619718309856,
           29.91549295774648,
           2.4788732394366195,
           3.6056338028169015,
           5.859154929577465,
           8.67605633802817,
           17.12676056338028,
           28.3943661971831
          ],
          [
           14.278113663845224,
           10.95235792019347,
           24.655864570737606,
           2.043047158403869,
           2.9717049576783556,
           4.829020556227328,
           7.150665054413543,
           5.293349455864571,
           8.775816203143894
          ],
          [
           41.18480360592402,
           31.59175788795879,
           26.66967160334836,
           2.2099162910495815,
           3.2144236960721186,
           5.223438506117192,
           7.734707018673535,
           15.268512556342563,
           25.313586606567934
          ],
          [
           31.810344827586206,
           24.400862068965516,
           20.599137931034484,
           1.706896551724138,
           2.4827586206896552,
           4.0344827586206895,
           5.974137931034483,
           11.793103448275861,
           19.551724137931036
          ],
          [
           20.551378446115287,
           15.764411027568922,
           13.308270676691729,
           1.1027568922305764,
           1.6040100250626566,
           2.606516290726817,
           3.8596491228070176,
           7.619047619047619,
           12.631578947368421
          ],
          [
           6.547208694125366,
           5.0221881324449456,
           4.2397168494885,
           0.3513136372457514,
           0.5110016541756384,
           0.8303776880354123,
           1.2295977303601298,
           2.4272578573342822,
           4.0241380266331515
          ],
          [
           9.047255945947738,
           6.939907304879424,
           5.858649886949084,
           0.48546251417280545,
           0.7061272933422624,
           1.1474568516811765,
           1.6991187996048192,
           3.354104643375747,
           5.560752435070317
          ],
          [
           4.890642559524632,
           3.7514806950499917,
           3.166989267204365,
           0.2624247227061997,
           0.38170868757265414,
           0.620276617305563,
           0.9184865294716991,
           1.8131162659701072,
           3.0059559146346513
          ],
          [
           2.8651675878807974,
           2.197793186313441,
           1.8553707184935408,
           0.1537406998375062,
           0.22362283612728176,
           0.36338710870683283,
           0.5380924494312718,
           1.0622084716045883,
           1.7610298345023438
          ]
         ]
        }
       ],
       "layout": {
        "coloraxis": {
         "cmax": 46.19718309859155,
         "cmid": 1,
         "cmin": 0,
         "colorscale": [
          [
           0,
           "lightgreen"
          ],
          [
           0.01,
           "lightyellow"
          ],
          [
           1,
           "red"
          ]
         ]
        },
        "font": {
         "family": "Times New Roman",
         "size": 12
        },
        "height": 200,
        "margin": {
         "b": 0,
         "l": 0,
         "r": 0,
         "t": 10
        },
        "template": {
         "data": {
          "bar": [
           {
            "error_x": {
             "color": "#2a3f5f"
            },
            "error_y": {
             "color": "#2a3f5f"
            },
            "marker": {
             "line": {
              "color": "#E5ECF6",
              "width": 0.5
             },
             "pattern": {
              "fillmode": "overlay",
              "size": 10,
              "solidity": 0.2
             }
            },
            "type": "bar"
           }
          ],
          "barpolar": [
           {
            "marker": {
             "line": {
              "color": "#E5ECF6",
              "width": 0.5
             },
             "pattern": {
              "fillmode": "overlay",
              "size": 10,
              "solidity": 0.2
             }
            },
            "type": "barpolar"
           }
          ],
          "carpet": [
           {
            "aaxis": {
             "endlinecolor": "#2a3f5f",
             "gridcolor": "white",
             "linecolor": "white",
             "minorgridcolor": "white",
             "startlinecolor": "#2a3f5f"
            },
            "baxis": {
             "endlinecolor": "#2a3f5f",
             "gridcolor": "white",
             "linecolor": "white",
             "minorgridcolor": "white",
             "startlinecolor": "#2a3f5f"
            },
            "type": "carpet"
           }
          ],
          "choropleth": [
           {
            "colorbar": {
             "outlinewidth": 0,
             "ticks": ""
            },
            "type": "choropleth"
           }
          ],
          "contour": [
           {
            "colorbar": {
             "outlinewidth": 0,
             "ticks": ""
            },
            "colorscale": [
             [
              0,
              "#0d0887"
             ],
             [
              0.1111111111111111,
              "#46039f"
             ],
             [
              0.2222222222222222,
              "#7201a8"
             ],
             [
              0.3333333333333333,
              "#9c179e"
             ],
             [
              0.4444444444444444,
              "#bd3786"
             ],
             [
              0.5555555555555556,
              "#d8576b"
             ],
             [
              0.6666666666666666,
              "#ed7953"
             ],
             [
              0.7777777777777778,
              "#fb9f3a"
             ],
             [
              0.8888888888888888,
              "#fdca26"
             ],
             [
              1,
              "#f0f921"
             ]
            ],
            "type": "contour"
           }
          ],
          "contourcarpet": [
           {
            "colorbar": {
             "outlinewidth": 0,
             "ticks": ""
            },
            "type": "contourcarpet"
           }
          ],
          "heatmap": [
           {
            "colorbar": {
             "outlinewidth": 0,
             "ticks": ""
            },
            "colorscale": [
             [
              0,
              "#0d0887"
             ],
             [
              0.1111111111111111,
              "#46039f"
             ],
             [
              0.2222222222222222,
              "#7201a8"
             ],
             [
              0.3333333333333333,
              "#9c179e"
             ],
             [
              0.4444444444444444,
              "#bd3786"
             ],
             [
              0.5555555555555556,
              "#d8576b"
             ],
             [
              0.6666666666666666,
              "#ed7953"
             ],
             [
              0.7777777777777778,
              "#fb9f3a"
             ],
             [
              0.8888888888888888,
              "#fdca26"
             ],
             [
              1,
              "#f0f921"
             ]
            ],
            "type": "heatmap"
           }
          ],
          "heatmapgl": [
           {
            "colorbar": {
             "outlinewidth": 0,
             "ticks": ""
            },
            "colorscale": [
             [
              0,
              "#0d0887"
             ],
             [
              0.1111111111111111,
              "#46039f"
             ],
             [
              0.2222222222222222,
              "#7201a8"
             ],
             [
              0.3333333333333333,
              "#9c179e"
             ],
             [
              0.4444444444444444,
              "#bd3786"
             ],
             [
              0.5555555555555556,
              "#d8576b"
             ],
             [
              0.6666666666666666,
              "#ed7953"
             ],
             [
              0.7777777777777778,
              "#fb9f3a"
             ],
             [
              0.8888888888888888,
              "#fdca26"
             ],
             [
              1,
              "#f0f921"
             ]
            ],
            "type": "heatmapgl"
           }
          ],
          "histogram": [
           {
            "marker": {
             "pattern": {
              "fillmode": "overlay",
              "size": 10,
              "solidity": 0.2
             }
            },
            "type": "histogram"
           }
          ],
          "histogram2d": [
           {
            "colorbar": {
             "outlinewidth": 0,
             "ticks": ""
            },
            "colorscale": [
             [
              0,
              "#0d0887"
             ],
             [
              0.1111111111111111,
              "#46039f"
             ],
             [
              0.2222222222222222,
              "#7201a8"
             ],
             [
              0.3333333333333333,
              "#9c179e"
             ],
             [
              0.4444444444444444,
              "#bd3786"
             ],
             [
              0.5555555555555556,
              "#d8576b"
             ],
             [
              0.6666666666666666,
              "#ed7953"
             ],
             [
              0.7777777777777778,
              "#fb9f3a"
             ],
             [
              0.8888888888888888,
              "#fdca26"
             ],
             [
              1,
              "#f0f921"
             ]
            ],
            "type": "histogram2d"
           }
          ],
          "histogram2dcontour": [
           {
            "colorbar": {
             "outlinewidth": 0,
             "ticks": ""
            },
            "colorscale": [
             [
              0,
              "#0d0887"
             ],
             [
              0.1111111111111111,
              "#46039f"
             ],
             [
              0.2222222222222222,
              "#7201a8"
             ],
             [
              0.3333333333333333,
              "#9c179e"
             ],
             [
              0.4444444444444444,
              "#bd3786"
             ],
             [
              0.5555555555555556,
              "#d8576b"
             ],
             [
              0.6666666666666666,
              "#ed7953"
             ],
             [
              0.7777777777777778,
              "#fb9f3a"
             ],
             [
              0.8888888888888888,
              "#fdca26"
             ],
             [
              1,
              "#f0f921"
             ]
            ],
            "type": "histogram2dcontour"
           }
          ],
          "mesh3d": [
           {
            "colorbar": {
             "outlinewidth": 0,
             "ticks": ""
            },
            "type": "mesh3d"
           }
          ],
          "parcoords": [
           {
            "line": {
             "colorbar": {
              "outlinewidth": 0,
              "ticks": ""
             }
            },
            "type": "parcoords"
           }
          ],
          "pie": [
           {
            "automargin": true,
            "type": "pie"
           }
          ],
          "scatter": [
           {
            "fillpattern": {
             "fillmode": "overlay",
             "size": 10,
             "solidity": 0.2
            },
            "type": "scatter"
           }
          ],
          "scatter3d": [
           {
            "line": {
             "colorbar": {
              "outlinewidth": 0,
              "ticks": ""
             }
            },
            "marker": {
             "colorbar": {
              "outlinewidth": 0,
              "ticks": ""
             }
            },
            "type": "scatter3d"
           }
          ],
          "scattercarpet": [
           {
            "marker": {
             "colorbar": {
              "outlinewidth": 0,
              "ticks": ""
             }
            },
            "type": "scattercarpet"
           }
          ],
          "scattergeo": [
           {
            "marker": {
             "colorbar": {
              "outlinewidth": 0,
              "ticks": ""
             }
            },
            "type": "scattergeo"
           }
          ],
          "scattergl": [
           {
            "marker": {
             "colorbar": {
              "outlinewidth": 0,
              "ticks": ""
             }
            },
            "type": "scattergl"
           }
          ],
          "scattermapbox": [
           {
            "marker": {
             "colorbar": {
              "outlinewidth": 0,
              "ticks": ""
             }
            },
            "type": "scattermapbox"
           }
          ],
          "scatterpolar": [
           {
            "marker": {
             "colorbar": {
              "outlinewidth": 0,
              "ticks": ""
             }
            },
            "type": "scatterpolar"
           }
          ],
          "scatterpolargl": [
           {
            "marker": {
             "colorbar": {
              "outlinewidth": 0,
              "ticks": ""
             }
            },
            "type": "scatterpolargl"
           }
          ],
          "scatterternary": [
           {
            "marker": {
             "colorbar": {
              "outlinewidth": 0,
              "ticks": ""
             }
            },
            "type": "scatterternary"
           }
          ],
          "surface": [
           {
            "colorbar": {
             "outlinewidth": 0,
             "ticks": ""
            },
            "colorscale": [
             [
              0,
              "#0d0887"
             ],
             [
              0.1111111111111111,
              "#46039f"
             ],
             [
              0.2222222222222222,
              "#7201a8"
             ],
             [
              0.3333333333333333,
              "#9c179e"
             ],
             [
              0.4444444444444444,
              "#bd3786"
             ],
             [
              0.5555555555555556,
              "#d8576b"
             ],
             [
              0.6666666666666666,
              "#ed7953"
             ],
             [
              0.7777777777777778,
              "#fb9f3a"
             ],
             [
              0.8888888888888888,
              "#fdca26"
             ],
             [
              1,
              "#f0f921"
             ]
            ],
            "type": "surface"
           }
          ],
          "table": [
           {
            "cells": {
             "fill": {
              "color": "#EBF0F8"
             },
             "line": {
              "color": "white"
             }
            },
            "header": {
             "fill": {
              "color": "#C8D4E3"
             },
             "line": {
              "color": "white"
             }
            },
            "type": "table"
           }
          ]
         },
         "layout": {
          "annotationdefaults": {
           "arrowcolor": "#2a3f5f",
           "arrowhead": 0,
           "arrowwidth": 1
          },
          "autotypenumbers": "strict",
          "coloraxis": {
           "colorbar": {
            "outlinewidth": 0,
            "ticks": ""
           }
          },
          "colorscale": {
           "diverging": [
            [
             0,
             "#8e0152"
            ],
            [
             0.1,
             "#c51b7d"
            ],
            [
             0.2,
             "#de77ae"
            ],
            [
             0.3,
             "#f1b6da"
            ],
            [
             0.4,
             "#fde0ef"
            ],
            [
             0.5,
             "#f7f7f7"
            ],
            [
             0.6,
             "#e6f5d0"
            ],
            [
             0.7,
             "#b8e186"
            ],
            [
             0.8,
             "#7fbc41"
            ],
            [
             0.9,
             "#4d9221"
            ],
            [
             1,
             "#276419"
            ]
           ],
           "sequential": [
            [
             0,
             "#0d0887"
            ],
            [
             0.1111111111111111,
             "#46039f"
            ],
            [
             0.2222222222222222,
             "#7201a8"
            ],
            [
             0.3333333333333333,
             "#9c179e"
            ],
            [
             0.4444444444444444,
             "#bd3786"
            ],
            [
             0.5555555555555556,
             "#d8576b"
            ],
            [
             0.6666666666666666,
             "#ed7953"
            ],
            [
             0.7777777777777778,
             "#fb9f3a"
            ],
            [
             0.8888888888888888,
             "#fdca26"
            ],
            [
             1,
             "#f0f921"
            ]
           ],
           "sequentialminus": [
            [
             0,
             "#0d0887"
            ],
            [
             0.1111111111111111,
             "#46039f"
            ],
            [
             0.2222222222222222,
             "#7201a8"
            ],
            [
             0.3333333333333333,
             "#9c179e"
            ],
            [
             0.4444444444444444,
             "#bd3786"
            ],
            [
             0.5555555555555556,
             "#d8576b"
            ],
            [
             0.6666666666666666,
             "#ed7953"
            ],
            [
             0.7777777777777778,
             "#fb9f3a"
            ],
            [
             0.8888888888888888,
             "#fdca26"
            ],
            [
             1,
             "#f0f921"
            ]
           ]
          },
          "colorway": [
           "#636efa",
           "#EF553B",
           "#00cc96",
           "#ab63fa",
           "#FFA15A",
           "#19d3f3",
           "#FF6692",
           "#B6E880",
           "#FF97FF",
           "#FECB52"
          ],
          "font": {
           "color": "#2a3f5f"
          },
          "geo": {
           "bgcolor": "white",
           "lakecolor": "white",
           "landcolor": "#E5ECF6",
           "showlakes": true,
           "showland": true,
           "subunitcolor": "white"
          },
          "hoverlabel": {
           "align": "left"
          },
          "hovermode": "closest",
          "mapbox": {
           "style": "light"
          },
          "paper_bgcolor": "white",
          "plot_bgcolor": "#E5ECF6",
          "polar": {
           "angularaxis": {
            "gridcolor": "white",
            "linecolor": "white",
            "ticks": ""
           },
           "bgcolor": "#E5ECF6",
           "radialaxis": {
            "gridcolor": "white",
            "linecolor": "white",
            "ticks": ""
           }
          },
          "scene": {
           "xaxis": {
            "backgroundcolor": "#E5ECF6",
            "gridcolor": "white",
            "gridwidth": 2,
            "linecolor": "white",
            "showbackground": true,
            "ticks": "",
            "zerolinecolor": "white"
           },
           "yaxis": {
            "backgroundcolor": "#E5ECF6",
            "gridcolor": "white",
            "gridwidth": 2,
            "linecolor": "white",
            "showbackground": true,
            "ticks": "",
            "zerolinecolor": "white"
           },
           "zaxis": {
            "backgroundcolor": "#E5ECF6",
            "gridcolor": "white",
            "gridwidth": 2,
            "linecolor": "white",
            "showbackground": true,
            "ticks": "",
            "zerolinecolor": "white"
           }
          },
          "shapedefaults": {
           "line": {
            "color": "#2a3f5f"
           }
          },
          "ternary": {
           "aaxis": {
            "gridcolor": "white",
            "linecolor": "white",
            "ticks": ""
           },
           "baxis": {
            "gridcolor": "white",
            "linecolor": "white",
            "ticks": ""
           },
           "bgcolor": "#E5ECF6",
           "caxis": {
            "gridcolor": "white",
            "linecolor": "white",
            "ticks": ""
           }
          },
          "title": {
           "x": 0.05
          },
          "xaxis": {
           "automargin": true,
           "gridcolor": "white",
           "linecolor": "white",
           "ticks": "",
           "title": {
            "standoff": 15
           },
           "zerolinecolor": "white",
           "zerolinewidth": 2
          },
          "yaxis": {
           "automargin": true,
           "gridcolor": "white",
           "linecolor": "white",
           "ticks": "",
           "title": {
            "standoff": 15
           },
           "zerolinecolor": "white",
           "zerolinewidth": 2
          }
         }
        },
        "width": 1000,
        "xaxis": {
         "anchor": "y",
         "domain": [
          0,
          1
         ],
         "tickangle": 0,
         "tickfont": {
          "size": 12
         }
        },
        "yaxis": {
         "anchor": "x",
         "autorange": "reversed",
         "domain": [
          0,
          1
         ],
         "tickangle": 0,
         "tickfont": {
          "size": 12
         }
        }
       }
      }
     },
     "metadata": {},
     "output_type": "display_data"
    }
   ],
   "source": [
    "d = get_best(df, metric=\"model size\")\n",
    "d = do_rename_and_reorder(d, remove_dict=True)\n",
    "# d[\"max\"] = d.max(axis=1)\n",
    "# d[\"average\"] = d.mean(axis=1)\n",
    "# d[\"min\"] = d.min(axis=1)\n",
    "\n",
    "d = d.T\n",
    "\n",
    "fig = px.imshow(\n",
    "    d,\n",
    "    text_auto=\".2f\",\n",
    "    aspect=\"auto\",\n",
    "    # color_continuous_scale='RdBu_r',\n",
    "    color_continuous_scale=[(0.0, \"lightgreen\"), (0.01, \"lightyellow\"), (1.0, \"red\")],\n",
    "    color_continuous_midpoint=1.0,\n",
    "    # zmax=2,\n",
    "    zmin=0,\n",
    ")\n",
    "\n",
    "# fig.update_xaxes(side=\"top\")\n",
    "fig.update_layout(\n",
    "    # xaxis_title=\"Filter\",\n",
    "    # yaxis_title=\"Dataset\",\n",
    "    width=1000,\n",
    "    height=200,\n",
    "    font_family=\"Times New Roman\", \n",
    "    font_size=12, \n",
    "    margin=dict(l=0, r=0, t=10, b=0),\n",
    "    xaxis=dict(tickangle=0, tickfont = dict(size=12)),\n",
    "    yaxis=dict(tickangle=0, tickfont = dict(size=12))\n",
    ")\n",
    "\n",
    "write_figure(\"size_improvement.pdf\", fig)\n",
    "\n",
    "fig.show()"
   ]
  },
  {
   "cell_type": "code",
   "execution_count": 9,
   "id": "642c8d17",
   "metadata": {},
   "outputs": [
    {
     "name": "stdout",
     "output_type": "stream",
     "text": [
      "Figure written to: figures/accuracy_improvement.pdf\n",
      "Filename   : accuracy_improvement.pdf\n",
      "Latex label: accuracy_improvement\n"
     ]
    },
    {
     "data": {
      "application/vnd.plotly.v1+json": {
       "config": {
        "plotlyServerURL": "https://plot.ly"
       },
       "data": [
        {
         "marker": {
          "color": "#636EFA"
         },
         "name": "CB FPR=0.02",
         "type": "bar",
         "x": [
          "iris",
          "glass",
          "wine",
          "vehicle",
          "breast_cancer",
          "satimage",
          "letter",
          "motion_sense",
          "mnist"
         ],
         "y": [
          0.9997923588039866,
          1.0031545427900068,
          1.0006595833370093,
          1.080800490337787,
          1.0118817929273909,
          1.0012908095444077,
          0.9909134909137829,
          0.9871270328628315,
          1.001253174720087
         ]
        },
        {
         "marker": {
          "color": "#EF553B"
         },
         "name": "CB FPR=0.05",
         "type": "bar",
         "x": [
          "iris",
          "glass",
          "wine",
          "vehicle",
          "breast_cancer",
          "satimage",
          "letter",
          "motion_sense",
          "mnist"
         ],
         "y": [
          1,
          1.0395048856146327,
          0.9810030759421722,
          1.080800490337787,
          0.9933834404276735,
          1.0034896532783628,
          0.9924774614284845,
          0.9942302020703345,
          1.0000444452969774
         ]
        },
        {
         "marker": {
          "color": "#00CC96"
         },
         "name": "CB FPR=0.08",
         "type": "bar",
         "x": [
          "iris",
          "glass",
          "wine",
          "vehicle",
          "breast_cancer",
          "satimage",
          "letter",
          "motion_sense",
          "mnist"
         ],
         "y": [
          1.0232299454173888,
          1.0468426539604947,
          1.0006595833370093,
          1.1338354000403708,
          0.9994762966138925,
          1.0016403580862288,
          0.999774552771091,
          0.98907430324578,
          0.999043543469589
         ]
        },
        {
         "marker": {
          "color": "#AB63FA"
         },
         "name": "CMS W=20 D=2",
         "type": "bar",
         "x": [
          "iris",
          "glass",
          "wine",
          "vehicle",
          "breast_cancer",
          "satimage",
          "letter",
          "motion_sense",
          "mnist"
         ],
         "y": [
          1,
          1.0023554070037621,
          1.0388682444756974,
          1.0632509585374934,
          0.9875199339274668,
          0.9578232486166713,
          0.8503842107206907,
          0.6966287272294452,
          0.9071747087034135
         ]
        },
        {
         "marker": {
          "color": "#FFA15A"
         },
         "name": "CMS W=20 D=3",
         "type": "bar",
         "x": [
          "iris",
          "glass",
          "wine",
          "vehicle",
          "breast_cancer",
          "satimage",
          "letter",
          "motion_sense",
          "mnist"
         ],
         "y": [
          1,
          1.0063719186964517,
          0.961003753247451,
          1.1182841502873184,
          0.9756218433972402,
          0.966275383288031,
          0.9089374551947939,
          0.6619404996582207,
          0.9185429963836307
         ]
        },
        {
         "marker": {
          "color": "#19D3F3"
         },
         "name": "CMS W=50 D=2",
         "type": "bar",
         "x": [
          "iris",
          "glass",
          "wine",
          "vehicle",
          "breast_cancer",
          "satimage",
          "letter",
          "motion_sense",
          "mnist"
         ],
         "y": [
          1,
          1.000553631919226,
          0.961003753247451,
          1.1208638562120996,
          0.96938834294448,
          0.9940270008271791,
          0.9629718215934921,
          0.9867589505572104,
          0.9760260387436561
         ]
        },
        {
         "marker": {
          "color": "#FF6692"
         },
         "name": "CMS W=50 D=3",
         "type": "bar",
         "x": [
          "iris",
          "glass",
          "wine",
          "vehicle",
          "breast_cancer",
          "satimage",
          "letter",
          "motion_sense",
          "mnist"
         ],
         "y": [
          1,
          1.0366055172609665,
          0.961003753247451,
          0.9819482086151753,
          0.9937711373438773,
          1.0064435678877637,
          0.9717391953460529,
          0.9168805760527373,
          0.9829336627512966
         ]
        },
        {
         "marker": {
          "color": "#B6E880"
         },
         "name": "CMS W=100 D=3",
         "type": "bar",
         "x": [
          "iris",
          "glass",
          "wine",
          "vehicle",
          "breast_cancer",
          "satimage",
          "letter",
          "motion_sense",
          "mnist"
         ],
         "y": [
          1.0465116279069766,
          1.051983423214738,
          1.0388682444756974,
          1.0755924913025854,
          0.9992640077856496,
          0.9993939293006482,
          1.0006067939002847,
          0.972043513059933,
          0.9952239043204058
         ]
        },
        {
         "marker": {
          "color": "#FF97FF"
         },
         "name": "CMS W=100 D=5",
         "type": "bar",
         "x": [
          "iris",
          "glass",
          "wine",
          "vehicle",
          "breast_cancer",
          "satimage",
          "letter",
          "motion_sense",
          "mnist"
         ],
         "y": [
          1.0465116279069766,
          1.0709019356412441,
          0.9802563753868244,
          1.0796483446133214,
          1.0120319599057368,
          0.9933211897124559,
          0.9952303895014011,
          0.9420271878250315,
          0.9986971002385058
         ]
        }
       ],
       "layout": {
        "font": {
         "family": "Times New Roman",
         "size": 12
        },
        "height": 200,
        "margin": {
         "b": 0,
         "l": 0,
         "r": 0,
         "t": 10
        },
        "shapes": [
         {
          "line": {
           "color": "red",
           "dash": "dash",
           "width": 1
          },
          "type": "line",
          "x0": 0,
          "x1": 1,
          "xref": "x domain",
          "y0": 1,
          "y1": 1,
          "yref": "y"
         }
        ],
        "template": {
         "data": {
          "bar": [
           {
            "error_x": {
             "color": "#2a3f5f"
            },
            "error_y": {
             "color": "#2a3f5f"
            },
            "marker": {
             "line": {
              "color": "#E5ECF6",
              "width": 0.5
             },
             "pattern": {
              "fillmode": "overlay",
              "size": 10,
              "solidity": 0.2
             }
            },
            "type": "bar"
           }
          ],
          "barpolar": [
           {
            "marker": {
             "line": {
              "color": "#E5ECF6",
              "width": 0.5
             },
             "pattern": {
              "fillmode": "overlay",
              "size": 10,
              "solidity": 0.2
             }
            },
            "type": "barpolar"
           }
          ],
          "carpet": [
           {
            "aaxis": {
             "endlinecolor": "#2a3f5f",
             "gridcolor": "white",
             "linecolor": "white",
             "minorgridcolor": "white",
             "startlinecolor": "#2a3f5f"
            },
            "baxis": {
             "endlinecolor": "#2a3f5f",
             "gridcolor": "white",
             "linecolor": "white",
             "minorgridcolor": "white",
             "startlinecolor": "#2a3f5f"
            },
            "type": "carpet"
           }
          ],
          "choropleth": [
           {
            "colorbar": {
             "outlinewidth": 0,
             "ticks": ""
            },
            "type": "choropleth"
           }
          ],
          "contour": [
           {
            "colorbar": {
             "outlinewidth": 0,
             "ticks": ""
            },
            "colorscale": [
             [
              0,
              "#0d0887"
             ],
             [
              0.1111111111111111,
              "#46039f"
             ],
             [
              0.2222222222222222,
              "#7201a8"
             ],
             [
              0.3333333333333333,
              "#9c179e"
             ],
             [
              0.4444444444444444,
              "#bd3786"
             ],
             [
              0.5555555555555556,
              "#d8576b"
             ],
             [
              0.6666666666666666,
              "#ed7953"
             ],
             [
              0.7777777777777778,
              "#fb9f3a"
             ],
             [
              0.8888888888888888,
              "#fdca26"
             ],
             [
              1,
              "#f0f921"
             ]
            ],
            "type": "contour"
           }
          ],
          "contourcarpet": [
           {
            "colorbar": {
             "outlinewidth": 0,
             "ticks": ""
            },
            "type": "contourcarpet"
           }
          ],
          "heatmap": [
           {
            "colorbar": {
             "outlinewidth": 0,
             "ticks": ""
            },
            "colorscale": [
             [
              0,
              "#0d0887"
             ],
             [
              0.1111111111111111,
              "#46039f"
             ],
             [
              0.2222222222222222,
              "#7201a8"
             ],
             [
              0.3333333333333333,
              "#9c179e"
             ],
             [
              0.4444444444444444,
              "#bd3786"
             ],
             [
              0.5555555555555556,
              "#d8576b"
             ],
             [
              0.6666666666666666,
              "#ed7953"
             ],
             [
              0.7777777777777778,
              "#fb9f3a"
             ],
             [
              0.8888888888888888,
              "#fdca26"
             ],
             [
              1,
              "#f0f921"
             ]
            ],
            "type": "heatmap"
           }
          ],
          "heatmapgl": [
           {
            "colorbar": {
             "outlinewidth": 0,
             "ticks": ""
            },
            "colorscale": [
             [
              0,
              "#0d0887"
             ],
             [
              0.1111111111111111,
              "#46039f"
             ],
             [
              0.2222222222222222,
              "#7201a8"
             ],
             [
              0.3333333333333333,
              "#9c179e"
             ],
             [
              0.4444444444444444,
              "#bd3786"
             ],
             [
              0.5555555555555556,
              "#d8576b"
             ],
             [
              0.6666666666666666,
              "#ed7953"
             ],
             [
              0.7777777777777778,
              "#fb9f3a"
             ],
             [
              0.8888888888888888,
              "#fdca26"
             ],
             [
              1,
              "#f0f921"
             ]
            ],
            "type": "heatmapgl"
           }
          ],
          "histogram": [
           {
            "marker": {
             "pattern": {
              "fillmode": "overlay",
              "size": 10,
              "solidity": 0.2
             }
            },
            "type": "histogram"
           }
          ],
          "histogram2d": [
           {
            "colorbar": {
             "outlinewidth": 0,
             "ticks": ""
            },
            "colorscale": [
             [
              0,
              "#0d0887"
             ],
             [
              0.1111111111111111,
              "#46039f"
             ],
             [
              0.2222222222222222,
              "#7201a8"
             ],
             [
              0.3333333333333333,
              "#9c179e"
             ],
             [
              0.4444444444444444,
              "#bd3786"
             ],
             [
              0.5555555555555556,
              "#d8576b"
             ],
             [
              0.6666666666666666,
              "#ed7953"
             ],
             [
              0.7777777777777778,
              "#fb9f3a"
             ],
             [
              0.8888888888888888,
              "#fdca26"
             ],
             [
              1,
              "#f0f921"
             ]
            ],
            "type": "histogram2d"
           }
          ],
          "histogram2dcontour": [
           {
            "colorbar": {
             "outlinewidth": 0,
             "ticks": ""
            },
            "colorscale": [
             [
              0,
              "#0d0887"
             ],
             [
              0.1111111111111111,
              "#46039f"
             ],
             [
              0.2222222222222222,
              "#7201a8"
             ],
             [
              0.3333333333333333,
              "#9c179e"
             ],
             [
              0.4444444444444444,
              "#bd3786"
             ],
             [
              0.5555555555555556,
              "#d8576b"
             ],
             [
              0.6666666666666666,
              "#ed7953"
             ],
             [
              0.7777777777777778,
              "#fb9f3a"
             ],
             [
              0.8888888888888888,
              "#fdca26"
             ],
             [
              1,
              "#f0f921"
             ]
            ],
            "type": "histogram2dcontour"
           }
          ],
          "mesh3d": [
           {
            "colorbar": {
             "outlinewidth": 0,
             "ticks": ""
            },
            "type": "mesh3d"
           }
          ],
          "parcoords": [
           {
            "line": {
             "colorbar": {
              "outlinewidth": 0,
              "ticks": ""
             }
            },
            "type": "parcoords"
           }
          ],
          "pie": [
           {
            "automargin": true,
            "type": "pie"
           }
          ],
          "scatter": [
           {
            "fillpattern": {
             "fillmode": "overlay",
             "size": 10,
             "solidity": 0.2
            },
            "type": "scatter"
           }
          ],
          "scatter3d": [
           {
            "line": {
             "colorbar": {
              "outlinewidth": 0,
              "ticks": ""
             }
            },
            "marker": {
             "colorbar": {
              "outlinewidth": 0,
              "ticks": ""
             }
            },
            "type": "scatter3d"
           }
          ],
          "scattercarpet": [
           {
            "marker": {
             "colorbar": {
              "outlinewidth": 0,
              "ticks": ""
             }
            },
            "type": "scattercarpet"
           }
          ],
          "scattergeo": [
           {
            "marker": {
             "colorbar": {
              "outlinewidth": 0,
              "ticks": ""
             }
            },
            "type": "scattergeo"
           }
          ],
          "scattergl": [
           {
            "marker": {
             "colorbar": {
              "outlinewidth": 0,
              "ticks": ""
             }
            },
            "type": "scattergl"
           }
          ],
          "scattermapbox": [
           {
            "marker": {
             "colorbar": {
              "outlinewidth": 0,
              "ticks": ""
             }
            },
            "type": "scattermapbox"
           }
          ],
          "scatterpolar": [
           {
            "marker": {
             "colorbar": {
              "outlinewidth": 0,
              "ticks": ""
             }
            },
            "type": "scatterpolar"
           }
          ],
          "scatterpolargl": [
           {
            "marker": {
             "colorbar": {
              "outlinewidth": 0,
              "ticks": ""
             }
            },
            "type": "scatterpolargl"
           }
          ],
          "scatterternary": [
           {
            "marker": {
             "colorbar": {
              "outlinewidth": 0,
              "ticks": ""
             }
            },
            "type": "scatterternary"
           }
          ],
          "surface": [
           {
            "colorbar": {
             "outlinewidth": 0,
             "ticks": ""
            },
            "colorscale": [
             [
              0,
              "#0d0887"
             ],
             [
              0.1111111111111111,
              "#46039f"
             ],
             [
              0.2222222222222222,
              "#7201a8"
             ],
             [
              0.3333333333333333,
              "#9c179e"
             ],
             [
              0.4444444444444444,
              "#bd3786"
             ],
             [
              0.5555555555555556,
              "#d8576b"
             ],
             [
              0.6666666666666666,
              "#ed7953"
             ],
             [
              0.7777777777777778,
              "#fb9f3a"
             ],
             [
              0.8888888888888888,
              "#fdca26"
             ],
             [
              1,
              "#f0f921"
             ]
            ],
            "type": "surface"
           }
          ],
          "table": [
           {
            "cells": {
             "fill": {
              "color": "#EBF0F8"
             },
             "line": {
              "color": "white"
             }
            },
            "header": {
             "fill": {
              "color": "#C8D4E3"
             },
             "line": {
              "color": "white"
             }
            },
            "type": "table"
           }
          ]
         },
         "layout": {
          "annotationdefaults": {
           "arrowcolor": "#2a3f5f",
           "arrowhead": 0,
           "arrowwidth": 1
          },
          "autotypenumbers": "strict",
          "coloraxis": {
           "colorbar": {
            "outlinewidth": 0,
            "ticks": ""
           }
          },
          "colorscale": {
           "diverging": [
            [
             0,
             "#8e0152"
            ],
            [
             0.1,
             "#c51b7d"
            ],
            [
             0.2,
             "#de77ae"
            ],
            [
             0.3,
             "#f1b6da"
            ],
            [
             0.4,
             "#fde0ef"
            ],
            [
             0.5,
             "#f7f7f7"
            ],
            [
             0.6,
             "#e6f5d0"
            ],
            [
             0.7,
             "#b8e186"
            ],
            [
             0.8,
             "#7fbc41"
            ],
            [
             0.9,
             "#4d9221"
            ],
            [
             1,
             "#276419"
            ]
           ],
           "sequential": [
            [
             0,
             "#0d0887"
            ],
            [
             0.1111111111111111,
             "#46039f"
            ],
            [
             0.2222222222222222,
             "#7201a8"
            ],
            [
             0.3333333333333333,
             "#9c179e"
            ],
            [
             0.4444444444444444,
             "#bd3786"
            ],
            [
             0.5555555555555556,
             "#d8576b"
            ],
            [
             0.6666666666666666,
             "#ed7953"
            ],
            [
             0.7777777777777778,
             "#fb9f3a"
            ],
            [
             0.8888888888888888,
             "#fdca26"
            ],
            [
             1,
             "#f0f921"
            ]
           ],
           "sequentialminus": [
            [
             0,
             "#0d0887"
            ],
            [
             0.1111111111111111,
             "#46039f"
            ],
            [
             0.2222222222222222,
             "#7201a8"
            ],
            [
             0.3333333333333333,
             "#9c179e"
            ],
            [
             0.4444444444444444,
             "#bd3786"
            ],
            [
             0.5555555555555556,
             "#d8576b"
            ],
            [
             0.6666666666666666,
             "#ed7953"
            ],
            [
             0.7777777777777778,
             "#fb9f3a"
            ],
            [
             0.8888888888888888,
             "#fdca26"
            ],
            [
             1,
             "#f0f921"
            ]
           ]
          },
          "colorway": [
           "#636efa",
           "#EF553B",
           "#00cc96",
           "#ab63fa",
           "#FFA15A",
           "#19d3f3",
           "#FF6692",
           "#B6E880",
           "#FF97FF",
           "#FECB52"
          ],
          "font": {
           "color": "#2a3f5f"
          },
          "geo": {
           "bgcolor": "white",
           "lakecolor": "white",
           "landcolor": "#E5ECF6",
           "showlakes": true,
           "showland": true,
           "subunitcolor": "white"
          },
          "hoverlabel": {
           "align": "left"
          },
          "hovermode": "closest",
          "mapbox": {
           "style": "light"
          },
          "paper_bgcolor": "white",
          "plot_bgcolor": "#E5ECF6",
          "polar": {
           "angularaxis": {
            "gridcolor": "white",
            "linecolor": "white",
            "ticks": ""
           },
           "bgcolor": "#E5ECF6",
           "radialaxis": {
            "gridcolor": "white",
            "linecolor": "white",
            "ticks": ""
           }
          },
          "scene": {
           "xaxis": {
            "backgroundcolor": "#E5ECF6",
            "gridcolor": "white",
            "gridwidth": 2,
            "linecolor": "white",
            "showbackground": true,
            "ticks": "",
            "zerolinecolor": "white"
           },
           "yaxis": {
            "backgroundcolor": "#E5ECF6",
            "gridcolor": "white",
            "gridwidth": 2,
            "linecolor": "white",
            "showbackground": true,
            "ticks": "",
            "zerolinecolor": "white"
           },
           "zaxis": {
            "backgroundcolor": "#E5ECF6",
            "gridcolor": "white",
            "gridwidth": 2,
            "linecolor": "white",
            "showbackground": true,
            "ticks": "",
            "zerolinecolor": "white"
           }
          },
          "shapedefaults": {
           "line": {
            "color": "#2a3f5f"
           }
          },
          "ternary": {
           "aaxis": {
            "gridcolor": "white",
            "linecolor": "white",
            "ticks": ""
           },
           "baxis": {
            "gridcolor": "white",
            "linecolor": "white",
            "ticks": ""
           },
           "bgcolor": "#E5ECF6",
           "caxis": {
            "gridcolor": "white",
            "linecolor": "white",
            "ticks": ""
           }
          },
          "title": {
           "x": 0.05
          },
          "xaxis": {
           "automargin": true,
           "gridcolor": "white",
           "linecolor": "white",
           "ticks": "",
           "title": {
            "standoff": 15
           },
           "zerolinecolor": "white",
           "zerolinewidth": 2
          },
          "yaxis": {
           "automargin": true,
           "gridcolor": "white",
           "linecolor": "white",
           "ticks": "",
           "title": {
            "standoff": 15
           },
           "zerolinecolor": "white",
           "zerolinewidth": 2
          }
         }
        },
        "width": 800,
        "xaxis": {
         "tickfont": {
          "size": 12
         }
        },
        "yaxis": {
         "range": [
          0.6,
          1.15
         ],
         "title": {
          "text": "Performance improvement"
         }
        }
       }
      }
     },
     "metadata": {},
     "output_type": "display_data"
    }
   ],
   "source": [
    "d = get_best(df, metric=None)\n",
    "d = do_rename_and_reorder(d, remove_dict=True)\n",
    "d = d.T\n",
    "d\n",
    "\n",
    "dsets = list(d.index)\n",
    "fig = go.Figure()\n",
    "for i, c in enumerate(d.columns):\n",
    "    x = dsets\n",
    "    y = d[c]\n",
    "    name = c\n",
    "    fig.add_trace(\n",
    "        go.Bar(\n",
    "            x=x,\n",
    "            y=y,\n",
    "            # text=\"pop\",\n",
    "            # textfont=\"Times New Roman\",\n",
    "            # textposition=\"auto\",\n",
    "            name=name,\n",
    "            marker_color=px.colors.qualitative.Plotly[i]\n",
    "        )\n",
    "    )\n",
    "    \n",
    "fig.add_hline(y=1, line_width=1, line_dash=\"dash\", line_color=\"red\")\n",
    "\n",
    "fig.update_yaxes(range=[0.60, 1.15]) \n",
    "\n",
    "fig.update_layout(\n",
    "    yaxis_title=\"Performance improvement\",\n",
    "    # xaxis_title=\"Dataset\",\n",
    "    width=800,\n",
    "    height=200,\n",
    "    font_family=\"Times New Roman\", \n",
    "    font_size=12,\n",
    "    margin=dict(l=0, r=0, t=10, b=0),\n",
    "    xaxis=dict(tickfont = dict(size=12))\n",
    "    # legend_title_text=\"Filter\"\n",
    ")\n",
    "\n",
    "write_figure(\"accuracy_improvement.pdf\", fig)\n",
    "    \n",
    "fig.show()"
   ]
  },
  {
   "cell_type": "code",
   "execution_count": 10,
   "id": "3e3089fc",
   "metadata": {},
   "outputs": [
    {
     "name": "stdout",
     "output_type": "stream",
     "text": [
      "Table written to: tables/datasets.tex\n",
      "\\begin{table}\n",
      "\\centering\n",
      "\\caption{Description of the datasets used in the experiments and the performance obtained using Dict WiSARD. For unbalanced datasets, the f1-score is reported as score, else the accuracy is reported.}\n",
      "\\label{tab:datasets}\n",
      "\\begin{tabular}{llllllrr}\n",
      "\\toprule\n",
      "      Dataset & Size (KB) & Classes & \\#Train & \\#Test & Balanced &  Score &  Memory Footprint (Kb) \\\\\n",
      "\\midrule\n",
      "breast\\_cancer &       144 &       2 &    398 &   171 &       no &   0.95 &                   9.00 \\\\\n",
      "        glass &        24 &       6 &    149 &    65 &       no &   0.64 &                  12.00 \\\\\n",
      "         iris &        12 &       3 &    105 &    45 &      yes &   0.96 &                   1.00 \\\\\n",
      "       letter &      2664 &      26 &   1400 &  6000 &      yes &   0.86 &                 301.00 \\\\\n",
      "        mnist &     53672 &      10 &  60000 & 10000 &      yes &   0.91 &                8975.00 \\\\\n",
      " motion\\_sense &     12512 &       6 &   3414 &  1020 &      yes &   0.63 &                1448.00 \\\\\n",
      "     satimage &      1864 &       6 &   4501 &  1929 &       no &   0.87 &                 108.00 \\\\\n",
      "      vehicle &       132 &       3 &    676 &   170 &      yes &   0.69 &                   5.00 \\\\\n",
      "         wine &        24 &       3 &    124 &    54 &       no &   0.96 &                   3.00 \\\\\n",
      "\\bottomrule\n",
      "\\end{tabular}\n",
      "\\end{table}\n",
      "\n"
     ]
    },
    {
     "name": "stderr",
     "output_type": "stream",
     "text": [
      "/tmp/ipykernel_15103/3952968040.py:23: FutureWarning:\n",
      "\n",
      "In future versions `DataFrame.to_latex` is expected to utilise the base implementation of `Styler.to_latex` for formatting and rendering. The arguments signature may therefore change. It is recommended instead to use `DataFrame.style.to_latex` which also contains additional functionality.\n",
      "\n"
     ]
    }
   ],
   "source": [
    "d = get_best(df, metric=None, improvement_col=None)\n",
    "d = do_rename_and_reorder(d, remove_dict=False)\n",
    "d = d.T\n",
    "\n",
    "d_m = get_best(df, metric=\"model size\", improvement_col=None)\n",
    "d_m = do_rename_and_reorder(d_m, remove_dict=False)\n",
    "d_m = d_m.T\n",
    "\n",
    "\n",
    "acc_meta = meta_df.merge(d[[\"Dict-WiSARD\"]], left_index=True, right_index=True)\n",
    "acc_meta = acc_meta.rename(columns={\"Dict-WiSARD\": \"Score\"})\n",
    "acc_meta = acc_meta.merge(d_m[[\"Dict-WiSARD\"]]//1e3, left_index=True, right_index=True)\n",
    "acc_meta = acc_meta.rename(columns={\"Dict-WiSARD\": \"Memory Footprint (Kb)\"})\n",
    "acc_meta = acc_meta.reset_index().rename(columns={\"index\": \"dataset\"})\n",
    "acc_meta = acc_meta.rename(columns={\n",
    "    \"dataset\": \"Dataset\",\n",
    "    \"size (KB)\": \"Size (KB)\",\n",
    "    \"classes\": \"Classes\",\n",
    "    \"train samples\": \"#Train\",\n",
    "    \"test samples\": \"#Test\",\n",
    "    \"balanced\": \"Balanced\",\n",
    "})\n",
    "latex_str = acc_meta.to_latex(\n",
    "    float_format=\"%.2f\",\n",
    "    index=False,\n",
    "    caption=\"Description of the datasets used in the experiments and the performance obtained using Dict WiSARD. For unbalanced datasets, the f1-score is reported as score, else the accuracy is reported.\",\n",
    "    label=\"tab:datasets\",\n",
    ")\n",
    "\n",
    "write_latex_table(\"datasets.tex\", latex_str)\n",
    "\n",
    "print(latex_str)"
   ]
  },
  {
   "cell_type": "code",
   "execution_count": null,
   "id": "d1484341",
   "metadata": {},
   "outputs": [],
   "source": []
  },
  {
   "cell_type": "code",
   "execution_count": null,
   "id": "12b80172",
   "metadata": {},
   "outputs": [],
   "source": []
  }
 ],
 "metadata": {
  "kernelspec": {
   "display_name": "Python 3 (ipykernel)",
   "language": "python",
   "name": "python3"
  },
  "language_info": {
   "codemirror_mode": {
    "name": "ipython",
    "version": 3
   },
   "file_extension": ".py",
   "mimetype": "text/x-python",
   "name": "python",
   "nbconvert_exporter": "python",
   "pygments_lexer": "ipython3",
   "version": "3.10.12"
  }
 },
 "nbformat": 4,
 "nbformat_minor": 5
}
