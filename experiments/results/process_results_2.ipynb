{
 "cells": [
  {
   "cell_type": "code",
   "execution_count": 1,
   "id": "7f9982e6-26f7-4a4f-8766-15e2b22fb0e3",
   "metadata": {},
   "outputs": [],
   "source": [
    "from pathlib import Path\n",
    "\n",
    "import pandas as pd\n",
    "import numpy as np\n",
    "import matplotlib\n",
    "import matplotlib.pyplot as plt\n",
    "import json\n",
    "import plotly.graph_objects as go\n",
    "import plotly.express as px\n",
    "from collections import defaultdict\n",
    "from typing import Union\n",
    "\n",
    "%matplotlib inline\n",
    "\n",
    "matplotlib.rcParams['pdf.fonttype'] = 42\n",
    "matplotlib.rcParams['ps.fonttype'] = 42\n",
    "matplotlib.rcParams[\"font.family\"] = \"Times New Roman\""
   ]
  },
  {
   "cell_type": "code",
   "execution_count": 3,
   "id": "0f395737-991d-408a-934a-65577d7d4dbe",
   "metadata": {},
   "outputs": [
    {
     "data": {
      "text/html": [
       "<div>\n",
       "<style scoped>\n",
       "    .dataframe tbody tr th:only-of-type {\n",
       "        vertical-align: middle;\n",
       "    }\n",
       "\n",
       "    .dataframe tbody tr th {\n",
       "        vertical-align: top;\n",
       "    }\n",
       "\n",
       "    .dataframe thead th {\n",
       "        text-align: right;\n",
       "    }\n",
       "</style>\n",
       "<table border=\"1\" class=\"dataframe\">\n",
       "  <thead>\n",
       "    <tr style=\"text-align: right;\">\n",
       "      <th></th>\n",
       "      <th>bleach</th>\n",
       "      <th>accuracy</th>\n",
       "      <th>f1 weighted</th>\n",
       "      <th>f1 macro</th>\n",
       "      <th>f1 micro</th>\n",
       "      <th>ties</th>\n",
       "      <th>run</th>\n",
       "      <th>train time</th>\n",
       "      <th>predict time</th>\n",
       "      <th>ram name</th>\n",
       "      <th>...</th>\n",
       "      <th>encoder kwargs</th>\n",
       "      <th>experiment name</th>\n",
       "      <th>model size</th>\n",
       "      <th>train samples</th>\n",
       "      <th>test samples</th>\n",
       "      <th>classes</th>\n",
       "      <th>rams per discriminator</th>\n",
       "      <th>discriminators</th>\n",
       "      <th>seed</th>\n",
       "      <th>indices</th>\n",
       "    </tr>\n",
       "  </thead>\n",
       "  <tbody>\n",
       "    <tr>\n",
       "      <th>0</th>\n",
       "      <td>2</td>\n",
       "      <td>0.918129</td>\n",
       "      <td>0.918781</td>\n",
       "      <td>0.914107</td>\n",
       "      <td>0.918129</td>\n",
       "      <td>18</td>\n",
       "      <td>1</td>\n",
       "      <td>1.812207</td>\n",
       "      <td>0.481705</td>\n",
       "      <td>DictRam</td>\n",
       "      <td>...</td>\n",
       "      <td>{\"resolution\": 16}</td>\n",
       "      <td>breast_cancer experiment</td>\n",
       "      <td>9624</td>\n",
       "      <td>398</td>\n",
       "      <td>171</td>\n",
       "      <td>2</td>\n",
       "      <td>30</td>\n",
       "      <td>2</td>\n",
       "      <td>1670370805</td>\n",
       "      <td>480</td>\n",
       "    </tr>\n",
       "    <tr>\n",
       "      <th>1</th>\n",
       "      <td>5</td>\n",
       "      <td>0.929825</td>\n",
       "      <td>0.929825</td>\n",
       "      <td>0.925088</td>\n",
       "      <td>0.929825</td>\n",
       "      <td>7</td>\n",
       "      <td>1</td>\n",
       "      <td>1.812207</td>\n",
       "      <td>0.338999</td>\n",
       "      <td>DictRam</td>\n",
       "      <td>...</td>\n",
       "      <td>{\"resolution\": 16}</td>\n",
       "      <td>breast_cancer experiment</td>\n",
       "      <td>9624</td>\n",
       "      <td>398</td>\n",
       "      <td>171</td>\n",
       "      <td>2</td>\n",
       "      <td>30</td>\n",
       "      <td>2</td>\n",
       "      <td>1670370805</td>\n",
       "      <td>480</td>\n",
       "    </tr>\n",
       "    <tr>\n",
       "      <th>2</th>\n",
       "      <td>10</td>\n",
       "      <td>0.947368</td>\n",
       "      <td>0.947101</td>\n",
       "      <td>0.943263</td>\n",
       "      <td>0.947368</td>\n",
       "      <td>3</td>\n",
       "      <td>1</td>\n",
       "      <td>1.812207</td>\n",
       "      <td>0.338749</td>\n",
       "      <td>DictRam</td>\n",
       "      <td>...</td>\n",
       "      <td>{\"resolution\": 16}</td>\n",
       "      <td>breast_cancer experiment</td>\n",
       "      <td>9624</td>\n",
       "      <td>398</td>\n",
       "      <td>171</td>\n",
       "      <td>2</td>\n",
       "      <td>30</td>\n",
       "      <td>2</td>\n",
       "      <td>1670370805</td>\n",
       "      <td>480</td>\n",
       "    </tr>\n",
       "    <tr>\n",
       "      <th>3</th>\n",
       "      <td>2</td>\n",
       "      <td>0.929825</td>\n",
       "      <td>0.930384</td>\n",
       "      <td>0.926378</td>\n",
       "      <td>0.929825</td>\n",
       "      <td>26</td>\n",
       "      <td>2</td>\n",
       "      <td>0.497607</td>\n",
       "      <td>0.338319</td>\n",
       "      <td>DictRam</td>\n",
       "      <td>...</td>\n",
       "      <td>{\"resolution\": 16}</td>\n",
       "      <td>breast_cancer experiment</td>\n",
       "      <td>9720</td>\n",
       "      <td>398</td>\n",
       "      <td>171</td>\n",
       "      <td>2</td>\n",
       "      <td>30</td>\n",
       "      <td>2</td>\n",
       "      <td>1670370808</td>\n",
       "      <td>480</td>\n",
       "    </tr>\n",
       "    <tr>\n",
       "      <th>4</th>\n",
       "      <td>5</td>\n",
       "      <td>0.941520</td>\n",
       "      <td>0.941694</td>\n",
       "      <td>0.937954</td>\n",
       "      <td>0.941520</td>\n",
       "      <td>13</td>\n",
       "      <td>2</td>\n",
       "      <td>0.497607</td>\n",
       "      <td>0.339714</td>\n",
       "      <td>DictRam</td>\n",
       "      <td>...</td>\n",
       "      <td>{\"resolution\": 16}</td>\n",
       "      <td>breast_cancer experiment</td>\n",
       "      <td>9720</td>\n",
       "      <td>398</td>\n",
       "      <td>171</td>\n",
       "      <td>2</td>\n",
       "      <td>30</td>\n",
       "      <td>2</td>\n",
       "      <td>1670370808</td>\n",
       "      <td>480</td>\n",
       "    </tr>\n",
       "    <tr>\n",
       "      <th>...</th>\n",
       "      <td>...</td>\n",
       "      <td>...</td>\n",
       "      <td>...</td>\n",
       "      <td>...</td>\n",
       "      <td>...</td>\n",
       "      <td>...</td>\n",
       "      <td>...</td>\n",
       "      <td>...</td>\n",
       "      <td>...</td>\n",
       "      <td>...</td>\n",
       "      <td>...</td>\n",
       "      <td>...</td>\n",
       "      <td>...</td>\n",
       "      <td>...</td>\n",
       "      <td>...</td>\n",
       "      <td>...</td>\n",
       "      <td>...</td>\n",
       "      <td>...</td>\n",
       "      <td>...</td>\n",
       "      <td>...</td>\n",
       "      <td>...</td>\n",
       "    </tr>\n",
       "    <tr>\n",
       "      <th>430</th>\n",
       "      <td>2</td>\n",
       "      <td>0.814815</td>\n",
       "      <td>0.813095</td>\n",
       "      <td>0.819048</td>\n",
       "      <td>0.814815</td>\n",
       "      <td>8</td>\n",
       "      <td>3</td>\n",
       "      <td>0.071017</td>\n",
       "      <td>0.085170</td>\n",
       "      <td>stream-threshold</td>\n",
       "      <td>...</td>\n",
       "      <td>{\"resolution\": 16}</td>\n",
       "      <td>wine experiment</td>\n",
       "      <td>117624</td>\n",
       "      <td>124</td>\n",
       "      <td>54</td>\n",
       "      <td>3</td>\n",
       "      <td>13</td>\n",
       "      <td>3</td>\n",
       "      <td>1670371352</td>\n",
       "      <td>208</td>\n",
       "    </tr>\n",
       "    <tr>\n",
       "      <th>431</th>\n",
       "      <td>5</td>\n",
       "      <td>0.870370</td>\n",
       "      <td>0.869781</td>\n",
       "      <td>0.873519</td>\n",
       "      <td>0.870370</td>\n",
       "      <td>3</td>\n",
       "      <td>3</td>\n",
       "      <td>0.071017</td>\n",
       "      <td>0.087331</td>\n",
       "      <td>stream-threshold</td>\n",
       "      <td>...</td>\n",
       "      <td>{\"resolution\": 16}</td>\n",
       "      <td>wine experiment</td>\n",
       "      <td>117624</td>\n",
       "      <td>124</td>\n",
       "      <td>54</td>\n",
       "      <td>3</td>\n",
       "      <td>13</td>\n",
       "      <td>3</td>\n",
       "      <td>1670371352</td>\n",
       "      <td>208</td>\n",
       "    </tr>\n",
       "    <tr>\n",
       "      <th>432</th>\n",
       "      <td>8</td>\n",
       "      <td>0.888889</td>\n",
       "      <td>0.888060</td>\n",
       "      <td>0.892690</td>\n",
       "      <td>0.888889</td>\n",
       "      <td>6</td>\n",
       "      <td>3</td>\n",
       "      <td>0.071017</td>\n",
       "      <td>0.086613</td>\n",
       "      <td>stream-threshold</td>\n",
       "      <td>...</td>\n",
       "      <td>{\"resolution\": 16}</td>\n",
       "      <td>wine experiment</td>\n",
       "      <td>117624</td>\n",
       "      <td>124</td>\n",
       "      <td>54</td>\n",
       "      <td>3</td>\n",
       "      <td>13</td>\n",
       "      <td>3</td>\n",
       "      <td>1670371352</td>\n",
       "      <td>208</td>\n",
       "    </tr>\n",
       "    <tr>\n",
       "      <th>433</th>\n",
       "      <td>10</td>\n",
       "      <td>0.814815</td>\n",
       "      <td>0.812150</td>\n",
       "      <td>0.816460</td>\n",
       "      <td>0.814815</td>\n",
       "      <td>5</td>\n",
       "      <td>3</td>\n",
       "      <td>0.071017</td>\n",
       "      <td>0.081598</td>\n",
       "      <td>stream-threshold</td>\n",
       "      <td>...</td>\n",
       "      <td>{\"resolution\": 16}</td>\n",
       "      <td>wine experiment</td>\n",
       "      <td>117624</td>\n",
       "      <td>124</td>\n",
       "      <td>54</td>\n",
       "      <td>3</td>\n",
       "      <td>13</td>\n",
       "      <td>3</td>\n",
       "      <td>1670371352</td>\n",
       "      <td>208</td>\n",
       "    </tr>\n",
       "    <tr>\n",
       "      <th>434</th>\n",
       "      <td>15</td>\n",
       "      <td>0.814815</td>\n",
       "      <td>0.798173</td>\n",
       "      <td>0.808999</td>\n",
       "      <td>0.814815</td>\n",
       "      <td>4</td>\n",
       "      <td>3</td>\n",
       "      <td>0.071017</td>\n",
       "      <td>0.081574</td>\n",
       "      <td>stream-threshold</td>\n",
       "      <td>...</td>\n",
       "      <td>{\"resolution\": 16}</td>\n",
       "      <td>wine experiment</td>\n",
       "      <td>117624</td>\n",
       "      <td>124</td>\n",
       "      <td>54</td>\n",
       "      <td>3</td>\n",
       "      <td>13</td>\n",
       "      <td>3</td>\n",
       "      <td>1670371352</td>\n",
       "      <td>208</td>\n",
       "    </tr>\n",
       "  </tbody>\n",
       "</table>\n",
       "<p>7857 rows × 24 columns</p>\n",
       "</div>"
      ],
      "text/plain": [
       "     bleach  accuracy  f1 weighted  f1 macro  f1 micro  ties  run  train time  \\\n",
       "0         2  0.918129     0.918781  0.914107  0.918129    18    1    1.812207   \n",
       "1         5  0.929825     0.929825  0.925088  0.929825     7    1    1.812207   \n",
       "2        10  0.947368     0.947101  0.943263  0.947368     3    1    1.812207   \n",
       "3         2  0.929825     0.930384  0.926378  0.929825    26    2    0.497607   \n",
       "4         5  0.941520     0.941694  0.937954  0.941520    13    2    0.497607   \n",
       "..      ...       ...          ...       ...       ...   ...  ...         ...   \n",
       "430       2  0.814815     0.813095  0.819048  0.814815     8    3    0.071017   \n",
       "431       5  0.870370     0.869781  0.873519  0.870370     3    3    0.071017   \n",
       "432       8  0.888889     0.888060  0.892690  0.888889     6    3    0.071017   \n",
       "433      10  0.814815     0.812150  0.816460  0.814815     5    3    0.071017   \n",
       "434      15  0.814815     0.798173  0.808999  0.814815     4    3    0.071017   \n",
       "\n",
       "     predict time          ram name  ...      encoder kwargs  \\\n",
       "0        0.481705           DictRam  ...  {\"resolution\": 16}   \n",
       "1        0.338999           DictRam  ...  {\"resolution\": 16}   \n",
       "2        0.338749           DictRam  ...  {\"resolution\": 16}   \n",
       "3        0.338319           DictRam  ...  {\"resolution\": 16}   \n",
       "4        0.339714           DictRam  ...  {\"resolution\": 16}   \n",
       "..            ...               ...  ...                 ...   \n",
       "430      0.085170  stream-threshold  ...  {\"resolution\": 16}   \n",
       "431      0.087331  stream-threshold  ...  {\"resolution\": 16}   \n",
       "432      0.086613  stream-threshold  ...  {\"resolution\": 16}   \n",
       "433      0.081598  stream-threshold  ...  {\"resolution\": 16}   \n",
       "434      0.081574  stream-threshold  ...  {\"resolution\": 16}   \n",
       "\n",
       "              experiment name model size train samples test samples classes  \\\n",
       "0    breast_cancer experiment       9624           398          171       2   \n",
       "1    breast_cancer experiment       9624           398          171       2   \n",
       "2    breast_cancer experiment       9624           398          171       2   \n",
       "3    breast_cancer experiment       9720           398          171       2   \n",
       "4    breast_cancer experiment       9720           398          171       2   \n",
       "..                        ...        ...           ...          ...     ...   \n",
       "430           wine experiment     117624           124           54       3   \n",
       "431           wine experiment     117624           124           54       3   \n",
       "432           wine experiment     117624           124           54       3   \n",
       "433           wine experiment     117624           124           54       3   \n",
       "434           wine experiment     117624           124           54       3   \n",
       "\n",
       "     rams per discriminator  discriminators        seed  indices  \n",
       "0                        30               2  1670370805      480  \n",
       "1                        30               2  1670370805      480  \n",
       "2                        30               2  1670370805      480  \n",
       "3                        30               2  1670370808      480  \n",
       "4                        30               2  1670370808      480  \n",
       "..                      ...             ...         ...      ...  \n",
       "430                      13               3  1670371352      208  \n",
       "431                      13               3  1670371352      208  \n",
       "432                      13               3  1670371352      208  \n",
       "433                      13               3  1670371352      208  \n",
       "434                      13               3  1670371352      208  \n",
       "\n",
       "[7857 rows x 24 columns]"
      ]
     },
     "execution_count": 3,
     "metadata": {},
     "output_type": "execute_result"
    }
   ],
   "source": [
    "datasets = [\n",
    "    \"breast_cancer\",\n",
    "    \"glass\",\n",
    "    \"iris\",\n",
    "    \"letter\",\n",
    "    \"mnist\",\n",
    "    \"motion_sense\",\n",
    "    \"satimage\",\n",
    "    \"segment\",\n",
    "    \"vehicle\",\n",
    "    \"wine\"\n",
    "]\n",
    "\n",
    "datasets_sizes = {\n",
    "    \"breast_cancer\": 144,\n",
    "    \"glass\": 24,\n",
    "    \"iris\": 12,\n",
    "    \"letter\": 2664,\n",
    "    \"mnist\": 53672,\n",
    "    \"motion_sense\": 12512,\n",
    "    \"satimage\": 1864,\n",
    "    \"segment\": 368,\n",
    "    \"vehicle\": 132,\n",
    "    \"wine\": 24\n",
    "}\n",
    "\n",
    "dataset_classes = {\n",
    "    \"breast_cancer\": 2,\n",
    "    \"glass\": 6,\n",
    "    \"iris\": 3,\n",
    "    \"letter\": 26,\n",
    "    \"mnist\": 10,\n",
    "    \"motion_sense\": 6,\n",
    "    \"satimage\": 6,\n",
    "    \"segment\": 7,\n",
    "    \"vehicle\": 3,\n",
    "    \"wine\": 3\n",
    "}\n",
    "\n",
    "dataset_train_samples = {\n",
    "    \"breast_cancer\": 398,\n",
    "    \"glass\": 149,\n",
    "    \"iris\": 105,\n",
    "    \"letter\": 1400,\n",
    "    \"mnist\": 60000,\n",
    "    \"motion_sense\": 3414,\n",
    "    \"satimage\": 4501,\n",
    "    \"segment\": 1617,\n",
    "    \"vehicle\": 676,\n",
    "    \"wine\": 124 \n",
    "}\n",
    "\n",
    "dataset_test_samples = {\n",
    "    \"breast_cancer\": 171,\n",
    "    \"glass\": 65,\n",
    "    \"iris\": 45,\n",
    "    \"letter\": 6000,\n",
    "    \"mnist\": 10000,\n",
    "    \"motion_sense\": 1020,\n",
    "    \"satimage\": 1929,\n",
    "    \"segment\": 693,\n",
    "    \"vehicle\": 170,\n",
    "    \"wine\": 54 \n",
    "}\n",
    "\n",
    "dataset_balanced = {\n",
    "    \"breast_cancer\": \"no\",\n",
    "    \"glass\": \"no\",\n",
    "    \"iris\": \"yes\",\n",
    "    \"letter\": \"yes\",\n",
    "    \"mnist\": \"yes\",\n",
    "    \"motion_sense\": \"yes\",\n",
    "    \"satimage\": \"no\",\n",
    "    \"segment\": \"yes\",\n",
    "    \"vehicle\": \"yes\",\n",
    "    \"wine\": \"no\"   \n",
    "}\n",
    "\n",
    "metrics_to_use = {\n",
    "    \"breast_cancer\": \"f1 weighted\",\n",
    "    \"glass\": \"f1 weighted\",\n",
    "    \"iris\": \"accuracy\",\n",
    "    \"letter\": \"accuracy\",\n",
    "    \"mnist\": \"accuracy\",\n",
    "    \"motion_sense\": \"accuracy\",\n",
    "    \"satimage\": \"f1 weighted\",\n",
    "    \"segment\": \"accuracy\",\n",
    "    \"vehicle\": \"accuracy\",\n",
    "    \"wine\": \"f1 weighted\"\n",
    "}\n",
    "\n",
    "\n",
    "dfs = [\n",
    "    pd.read_csv(exp)\n",
    "    for dset in datasets\n",
    "    for exp in Path(f\"{dset} experiment\").glob(\"*.csv\")\n",
    "]\n",
    "\n",
    "df = pd.concat(dfs)\n",
    "df.replace({\"mnist-dist-16\": \"mnist\"}, inplace=True)\n",
    "df\n",
    "# d = json.loads(df.iloc[0][\"encoder kwargs\"])"
   ]
  },
  {
   "cell_type": "code",
   "execution_count": 8,
   "id": "b01f5fdd",
   "metadata": {},
   "outputs": [
    {
     "data": {
      "text/html": [
       "<div>\n",
       "<style scoped>\n",
       "    .dataframe tbody tr th:only-of-type {\n",
       "        vertical-align: middle;\n",
       "    }\n",
       "\n",
       "    .dataframe tbody tr th {\n",
       "        vertical-align: top;\n",
       "    }\n",
       "\n",
       "    .dataframe thead th {\n",
       "        text-align: right;\n",
       "    }\n",
       "</style>\n",
       "<table border=\"1\" class=\"dataframe\">\n",
       "  <thead>\n",
       "    <tr style=\"text-align: right;\">\n",
       "      <th></th>\n",
       "      <th>size (KB)</th>\n",
       "      <th>classes</th>\n",
       "      <th>train samples</th>\n",
       "      <th>test samples</th>\n",
       "      <th>balanced</th>\n",
       "    </tr>\n",
       "  </thead>\n",
       "  <tbody>\n",
       "    <tr>\n",
       "      <th>breast_cancer</th>\n",
       "      <td>144</td>\n",
       "      <td>2</td>\n",
       "      <td>398</td>\n",
       "      <td>171</td>\n",
       "      <td>no</td>\n",
       "    </tr>\n",
       "    <tr>\n",
       "      <th>glass</th>\n",
       "      <td>24</td>\n",
       "      <td>6</td>\n",
       "      <td>149</td>\n",
       "      <td>65</td>\n",
       "      <td>no</td>\n",
       "    </tr>\n",
       "    <tr>\n",
       "      <th>iris</th>\n",
       "      <td>12</td>\n",
       "      <td>3</td>\n",
       "      <td>105</td>\n",
       "      <td>45</td>\n",
       "      <td>yes</td>\n",
       "    </tr>\n",
       "    <tr>\n",
       "      <th>letter</th>\n",
       "      <td>2664</td>\n",
       "      <td>26</td>\n",
       "      <td>1400</td>\n",
       "      <td>6000</td>\n",
       "      <td>yes</td>\n",
       "    </tr>\n",
       "    <tr>\n",
       "      <th>mnist</th>\n",
       "      <td>53672</td>\n",
       "      <td>10</td>\n",
       "      <td>60000</td>\n",
       "      <td>10000</td>\n",
       "      <td>yes</td>\n",
       "    </tr>\n",
       "    <tr>\n",
       "      <th>motion_sense</th>\n",
       "      <td>12512</td>\n",
       "      <td>6</td>\n",
       "      <td>3414</td>\n",
       "      <td>1020</td>\n",
       "      <td>yes</td>\n",
       "    </tr>\n",
       "    <tr>\n",
       "      <th>satimage</th>\n",
       "      <td>1864</td>\n",
       "      <td>6</td>\n",
       "      <td>4501</td>\n",
       "      <td>1929</td>\n",
       "      <td>no</td>\n",
       "    </tr>\n",
       "    <tr>\n",
       "      <th>segment</th>\n",
       "      <td>368</td>\n",
       "      <td>7</td>\n",
       "      <td>1617</td>\n",
       "      <td>693</td>\n",
       "      <td>yes</td>\n",
       "    </tr>\n",
       "    <tr>\n",
       "      <th>vehicle</th>\n",
       "      <td>132</td>\n",
       "      <td>3</td>\n",
       "      <td>676</td>\n",
       "      <td>170</td>\n",
       "      <td>yes</td>\n",
       "    </tr>\n",
       "    <tr>\n",
       "      <th>wine</th>\n",
       "      <td>24</td>\n",
       "      <td>3</td>\n",
       "      <td>124</td>\n",
       "      <td>54</td>\n",
       "      <td>no</td>\n",
       "    </tr>\n",
       "  </tbody>\n",
       "</table>\n",
       "</div>"
      ],
      "text/plain": [
       "              size (KB) classes train samples test samples balanced\n",
       "breast_cancer       144       2           398          171       no\n",
       "glass                24       6           149           65       no\n",
       "iris                 12       3           105           45      yes\n",
       "letter             2664      26          1400         6000      yes\n",
       "mnist             53672      10         60000        10000      yes\n",
       "motion_sense      12512       6          3414         1020      yes\n",
       "satimage           1864       6          4501         1929       no\n",
       "segment             368       7          1617          693      yes\n",
       "vehicle             132       3           676          170      yes\n",
       "wine                 24       3           124           54       no"
      ]
     },
     "execution_count": 8,
     "metadata": {},
     "output_type": "execute_result"
    }
   ],
   "source": [
    "meta = defaultdict(dict)\n",
    "for dset in datasets:\n",
    "    meta[dset][\"size (KB)\"] = datasets_sizes[dset]\n",
    "    meta[dset][\"classes\"] = dataset_classes[dset]\n",
    "    meta[dset][\"train samples\"] = dataset_train_samples[dset]\n",
    "    meta[dset][\"test samples\"] = dataset_test_samples[dset]\n",
    "    meta[dset][\"balanced\"] = dataset_balanced[dset]\n",
    "\n",
    "meta_df = pd.DataFrame(meta).T\n",
    "meta_df"
   ]
  },
  {
   "cell_type": "code",
   "execution_count": 9,
   "id": "f07ce103",
   "metadata": {},
   "outputs": [],
   "source": [
    "latex_tables_path = Path(\"tables\")\n",
    "figures_path = Path(\"figures\")\n",
    "\n",
    "def write_figure(filename: str, fig: go.Figure, path: Union[Path, str] = figures_path):\n",
    "    \"\"\"Write a Figure to a file.\n",
    "\n",
    "    Parameters\n",
    "    ----------\n",
    "    filename : str\n",
    "        The name of the file to write to.\n",
    "    fig : go.Figure\n",
    "        The plotly figure object.\n",
    "    path : Union[Path, str], optional\n",
    "        The path where the file will be stored, by default figures_path\n",
    "    \"\"\"\n",
    "    path = Path(path)\n",
    "    path.mkdir(exist_ok=True, parents=True)\n",
    "    fname = path/filename\n",
    "    fig.write_image(fname)\n",
    "    print(f\"Figure written to: {fname}\")\n",
    "    print(f\"Filename   :\", filename)\n",
    "    print(f\"Latex label:\", filename.replace(\".pdf\",\"\"))\n",
    "    \n",
    "def write_latex_table(filename: str, table: str, path: Union[Path, str] = latex_tables_path):\n",
    "    \"\"\"Write a latex table to a file.\n",
    "\n",
    "    Parameters\n",
    "    ----------\n",
    "    filename : str\n",
    "        The name of the file to write to.\n",
    "    table : str\n",
    "        The table, as a string.\n",
    "    path : Union[Path, str], optional\n",
    "        The path where the file will be stored, by default latex_tables_path\n",
    "    \"\"\"\n",
    "    path = Path(path)\n",
    "    path.mkdir(exist_ok=True, parents=True)\n",
    "    fname = path/filename\n",
    "    with fname.open(\"w\") as f:\n",
    "        f.write(\"%%%%%%%%%%%%%%%%%%%%%%%%%%%%%%%%%%%%%%%%%%%%%%%%%%%%%%%%%%%%%%%%%%%%\\n\")\n",
    "        f.write(\"%% WARNING: DO NOT CHANGE THIS FILE. IT IS GENERATED AUTOMATICALLY %\\n\")\n",
    "        f.write(\"%%%%%%%%%%%%%%%%%%%%%%%%%%%%%%%%%%%%%%%%%%%%%%%%%%%%%%%%%%%%%%%%%%%%\\n\")\n",
    "        f.write(table)\n",
    "    print(f\"Table written to: {fname}\")\n",
    "\n"
   ]
  },
  {
   "cell_type": "code",
   "execution_count": 10,
   "id": "841896a4",
   "metadata": {},
   "outputs": [
    {
     "data": {
      "text/html": [
       "<div>\n",
       "<style scoped>\n",
       "    .dataframe tbody tr th:only-of-type {\n",
       "        vertical-align: middle;\n",
       "    }\n",
       "\n",
       "    .dataframe tbody tr th {\n",
       "        vertical-align: top;\n",
       "    }\n",
       "\n",
       "    .dataframe thead th {\n",
       "        text-align: right;\n",
       "    }\n",
       "</style>\n",
       "<table border=\"1\" class=\"dataframe\">\n",
       "  <thead>\n",
       "    <tr style=\"text-align: right;\">\n",
       "      <th></th>\n",
       "      <th>bleach</th>\n",
       "      <th>accuracy</th>\n",
       "      <th>f1 weighted</th>\n",
       "      <th>f1 macro</th>\n",
       "      <th>f1 micro</th>\n",
       "      <th>ties</th>\n",
       "      <th>run</th>\n",
       "      <th>train time</th>\n",
       "      <th>predict time</th>\n",
       "      <th>ram name</th>\n",
       "      <th>...</th>\n",
       "      <th>encoder kwargs</th>\n",
       "      <th>experiment name</th>\n",
       "      <th>model size</th>\n",
       "      <th>train samples</th>\n",
       "      <th>test samples</th>\n",
       "      <th>classes</th>\n",
       "      <th>rams per discriminator</th>\n",
       "      <th>discriminators</th>\n",
       "      <th>seed</th>\n",
       "      <th>indices</th>\n",
       "    </tr>\n",
       "  </thead>\n",
       "  <tbody>\n",
       "    <tr>\n",
       "      <th>0</th>\n",
       "      <td>2</td>\n",
       "      <td>0.918129</td>\n",
       "      <td>0.918781</td>\n",
       "      <td>0.914107</td>\n",
       "      <td>0.918129</td>\n",
       "      <td>18</td>\n",
       "      <td>1</td>\n",
       "      <td>1.812207</td>\n",
       "      <td>0.481705</td>\n",
       "      <td>DictRam</td>\n",
       "      <td>...</td>\n",
       "      <td>{\"resolution\": 16}</td>\n",
       "      <td>breast_cancer experiment</td>\n",
       "      <td>9624</td>\n",
       "      <td>398</td>\n",
       "      <td>171</td>\n",
       "      <td>2</td>\n",
       "      <td>30</td>\n",
       "      <td>2</td>\n",
       "      <td>1670370805</td>\n",
       "      <td>480</td>\n",
       "    </tr>\n",
       "    <tr>\n",
       "      <th>1</th>\n",
       "      <td>5</td>\n",
       "      <td>0.929825</td>\n",
       "      <td>0.929825</td>\n",
       "      <td>0.925088</td>\n",
       "      <td>0.929825</td>\n",
       "      <td>7</td>\n",
       "      <td>1</td>\n",
       "      <td>1.812207</td>\n",
       "      <td>0.338999</td>\n",
       "      <td>DictRam</td>\n",
       "      <td>...</td>\n",
       "      <td>{\"resolution\": 16}</td>\n",
       "      <td>breast_cancer experiment</td>\n",
       "      <td>9624</td>\n",
       "      <td>398</td>\n",
       "      <td>171</td>\n",
       "      <td>2</td>\n",
       "      <td>30</td>\n",
       "      <td>2</td>\n",
       "      <td>1670370805</td>\n",
       "      <td>480</td>\n",
       "    </tr>\n",
       "    <tr>\n",
       "      <th>2</th>\n",
       "      <td>10</td>\n",
       "      <td>0.947368</td>\n",
       "      <td>0.947101</td>\n",
       "      <td>0.943263</td>\n",
       "      <td>0.947368</td>\n",
       "      <td>3</td>\n",
       "      <td>1</td>\n",
       "      <td>1.812207</td>\n",
       "      <td>0.338749</td>\n",
       "      <td>DictRam</td>\n",
       "      <td>...</td>\n",
       "      <td>{\"resolution\": 16}</td>\n",
       "      <td>breast_cancer experiment</td>\n",
       "      <td>9624</td>\n",
       "      <td>398</td>\n",
       "      <td>171</td>\n",
       "      <td>2</td>\n",
       "      <td>30</td>\n",
       "      <td>2</td>\n",
       "      <td>1670370805</td>\n",
       "      <td>480</td>\n",
       "    </tr>\n",
       "    <tr>\n",
       "      <th>3</th>\n",
       "      <td>2</td>\n",
       "      <td>0.929825</td>\n",
       "      <td>0.930384</td>\n",
       "      <td>0.926378</td>\n",
       "      <td>0.929825</td>\n",
       "      <td>26</td>\n",
       "      <td>2</td>\n",
       "      <td>0.497607</td>\n",
       "      <td>0.338319</td>\n",
       "      <td>DictRam</td>\n",
       "      <td>...</td>\n",
       "      <td>{\"resolution\": 16}</td>\n",
       "      <td>breast_cancer experiment</td>\n",
       "      <td>9720</td>\n",
       "      <td>398</td>\n",
       "      <td>171</td>\n",
       "      <td>2</td>\n",
       "      <td>30</td>\n",
       "      <td>2</td>\n",
       "      <td>1670370808</td>\n",
       "      <td>480</td>\n",
       "    </tr>\n",
       "    <tr>\n",
       "      <th>4</th>\n",
       "      <td>5</td>\n",
       "      <td>0.941520</td>\n",
       "      <td>0.941694</td>\n",
       "      <td>0.937954</td>\n",
       "      <td>0.941520</td>\n",
       "      <td>13</td>\n",
       "      <td>2</td>\n",
       "      <td>0.497607</td>\n",
       "      <td>0.339714</td>\n",
       "      <td>DictRam</td>\n",
       "      <td>...</td>\n",
       "      <td>{\"resolution\": 16}</td>\n",
       "      <td>breast_cancer experiment</td>\n",
       "      <td>9720</td>\n",
       "      <td>398</td>\n",
       "      <td>171</td>\n",
       "      <td>2</td>\n",
       "      <td>30</td>\n",
       "      <td>2</td>\n",
       "      <td>1670370808</td>\n",
       "      <td>480</td>\n",
       "    </tr>\n",
       "    <tr>\n",
       "      <th>...</th>\n",
       "      <td>...</td>\n",
       "      <td>...</td>\n",
       "      <td>...</td>\n",
       "      <td>...</td>\n",
       "      <td>...</td>\n",
       "      <td>...</td>\n",
       "      <td>...</td>\n",
       "      <td>...</td>\n",
       "      <td>...</td>\n",
       "      <td>...</td>\n",
       "      <td>...</td>\n",
       "      <td>...</td>\n",
       "      <td>...</td>\n",
       "      <td>...</td>\n",
       "      <td>...</td>\n",
       "      <td>...</td>\n",
       "      <td>...</td>\n",
       "      <td>...</td>\n",
       "      <td>...</td>\n",
       "      <td>...</td>\n",
       "      <td>...</td>\n",
       "    </tr>\n",
       "    <tr>\n",
       "      <th>430</th>\n",
       "      <td>2</td>\n",
       "      <td>0.814815</td>\n",
       "      <td>0.813095</td>\n",
       "      <td>0.819048</td>\n",
       "      <td>0.814815</td>\n",
       "      <td>8</td>\n",
       "      <td>3</td>\n",
       "      <td>0.071017</td>\n",
       "      <td>0.085170</td>\n",
       "      <td>stream-threshold</td>\n",
       "      <td>...</td>\n",
       "      <td>{\"resolution\": 16}</td>\n",
       "      <td>wine experiment</td>\n",
       "      <td>117624</td>\n",
       "      <td>124</td>\n",
       "      <td>54</td>\n",
       "      <td>3</td>\n",
       "      <td>13</td>\n",
       "      <td>3</td>\n",
       "      <td>1670371352</td>\n",
       "      <td>208</td>\n",
       "    </tr>\n",
       "    <tr>\n",
       "      <th>431</th>\n",
       "      <td>5</td>\n",
       "      <td>0.870370</td>\n",
       "      <td>0.869781</td>\n",
       "      <td>0.873519</td>\n",
       "      <td>0.870370</td>\n",
       "      <td>3</td>\n",
       "      <td>3</td>\n",
       "      <td>0.071017</td>\n",
       "      <td>0.087331</td>\n",
       "      <td>stream-threshold</td>\n",
       "      <td>...</td>\n",
       "      <td>{\"resolution\": 16}</td>\n",
       "      <td>wine experiment</td>\n",
       "      <td>117624</td>\n",
       "      <td>124</td>\n",
       "      <td>54</td>\n",
       "      <td>3</td>\n",
       "      <td>13</td>\n",
       "      <td>3</td>\n",
       "      <td>1670371352</td>\n",
       "      <td>208</td>\n",
       "    </tr>\n",
       "    <tr>\n",
       "      <th>432</th>\n",
       "      <td>8</td>\n",
       "      <td>0.888889</td>\n",
       "      <td>0.888060</td>\n",
       "      <td>0.892690</td>\n",
       "      <td>0.888889</td>\n",
       "      <td>6</td>\n",
       "      <td>3</td>\n",
       "      <td>0.071017</td>\n",
       "      <td>0.086613</td>\n",
       "      <td>stream-threshold</td>\n",
       "      <td>...</td>\n",
       "      <td>{\"resolution\": 16}</td>\n",
       "      <td>wine experiment</td>\n",
       "      <td>117624</td>\n",
       "      <td>124</td>\n",
       "      <td>54</td>\n",
       "      <td>3</td>\n",
       "      <td>13</td>\n",
       "      <td>3</td>\n",
       "      <td>1670371352</td>\n",
       "      <td>208</td>\n",
       "    </tr>\n",
       "    <tr>\n",
       "      <th>433</th>\n",
       "      <td>10</td>\n",
       "      <td>0.814815</td>\n",
       "      <td>0.812150</td>\n",
       "      <td>0.816460</td>\n",
       "      <td>0.814815</td>\n",
       "      <td>5</td>\n",
       "      <td>3</td>\n",
       "      <td>0.071017</td>\n",
       "      <td>0.081598</td>\n",
       "      <td>stream-threshold</td>\n",
       "      <td>...</td>\n",
       "      <td>{\"resolution\": 16}</td>\n",
       "      <td>wine experiment</td>\n",
       "      <td>117624</td>\n",
       "      <td>124</td>\n",
       "      <td>54</td>\n",
       "      <td>3</td>\n",
       "      <td>13</td>\n",
       "      <td>3</td>\n",
       "      <td>1670371352</td>\n",
       "      <td>208</td>\n",
       "    </tr>\n",
       "    <tr>\n",
       "      <th>434</th>\n",
       "      <td>15</td>\n",
       "      <td>0.814815</td>\n",
       "      <td>0.798173</td>\n",
       "      <td>0.808999</td>\n",
       "      <td>0.814815</td>\n",
       "      <td>4</td>\n",
       "      <td>3</td>\n",
       "      <td>0.071017</td>\n",
       "      <td>0.081574</td>\n",
       "      <td>stream-threshold</td>\n",
       "      <td>...</td>\n",
       "      <td>{\"resolution\": 16}</td>\n",
       "      <td>wine experiment</td>\n",
       "      <td>117624</td>\n",
       "      <td>124</td>\n",
       "      <td>54</td>\n",
       "      <td>3</td>\n",
       "      <td>13</td>\n",
       "      <td>3</td>\n",
       "      <td>1670371352</td>\n",
       "      <td>208</td>\n",
       "    </tr>\n",
       "  </tbody>\n",
       "</table>\n",
       "<p>6771 rows × 24 columns</p>\n",
       "</div>"
      ],
      "text/plain": [
       "     bleach  accuracy  f1 weighted  f1 macro  f1 micro  ties  run  train time  \\\n",
       "0         2  0.918129     0.918781  0.914107  0.918129    18    1    1.812207   \n",
       "1         5  0.929825     0.929825  0.925088  0.929825     7    1    1.812207   \n",
       "2        10  0.947368     0.947101  0.943263  0.947368     3    1    1.812207   \n",
       "3         2  0.929825     0.930384  0.926378  0.929825    26    2    0.497607   \n",
       "4         5  0.941520     0.941694  0.937954  0.941520    13    2    0.497607   \n",
       "..      ...       ...          ...       ...       ...   ...  ...         ...   \n",
       "430       2  0.814815     0.813095  0.819048  0.814815     8    3    0.071017   \n",
       "431       5  0.870370     0.869781  0.873519  0.870370     3    3    0.071017   \n",
       "432       8  0.888889     0.888060  0.892690  0.888889     6    3    0.071017   \n",
       "433      10  0.814815     0.812150  0.816460  0.814815     5    3    0.071017   \n",
       "434      15  0.814815     0.798173  0.808999  0.814815     4    3    0.071017   \n",
       "\n",
       "     predict time          ram name  ...      encoder kwargs  \\\n",
       "0        0.481705           DictRam  ...  {\"resolution\": 16}   \n",
       "1        0.338999           DictRam  ...  {\"resolution\": 16}   \n",
       "2        0.338749           DictRam  ...  {\"resolution\": 16}   \n",
       "3        0.338319           DictRam  ...  {\"resolution\": 16}   \n",
       "4        0.339714           DictRam  ...  {\"resolution\": 16}   \n",
       "..            ...               ...  ...                 ...   \n",
       "430      0.085170  stream-threshold  ...  {\"resolution\": 16}   \n",
       "431      0.087331  stream-threshold  ...  {\"resolution\": 16}   \n",
       "432      0.086613  stream-threshold  ...  {\"resolution\": 16}   \n",
       "433      0.081598  stream-threshold  ...  {\"resolution\": 16}   \n",
       "434      0.081574  stream-threshold  ...  {\"resolution\": 16}   \n",
       "\n",
       "              experiment name model size train samples test samples classes  \\\n",
       "0    breast_cancer experiment       9624           398          171       2   \n",
       "1    breast_cancer experiment       9624           398          171       2   \n",
       "2    breast_cancer experiment       9624           398          171       2   \n",
       "3    breast_cancer experiment       9720           398          171       2   \n",
       "4    breast_cancer experiment       9720           398          171       2   \n",
       "..                        ...        ...           ...          ...     ...   \n",
       "430           wine experiment     117624           124           54       3   \n",
       "431           wine experiment     117624           124           54       3   \n",
       "432           wine experiment     117624           124           54       3   \n",
       "433           wine experiment     117624           124           54       3   \n",
       "434           wine experiment     117624           124           54       3   \n",
       "\n",
       "     rams per discriminator  discriminators        seed  indices  \n",
       "0                        30               2  1670370805      480  \n",
       "1                        30               2  1670370805      480  \n",
       "2                        30               2  1670370805      480  \n",
       "3                        30               2  1670370808      480  \n",
       "4                        30               2  1670370808      480  \n",
       "..                      ...             ...         ...      ...  \n",
       "430                      13               3  1670371352      208  \n",
       "431                      13               3  1670371352      208  \n",
       "432                      13               3  1670371352      208  \n",
       "433                      13               3  1670371352      208  \n",
       "434                      13               3  1670371352      208  \n",
       "\n",
       "[6771 rows x 24 columns]"
      ]
     },
     "execution_count": 10,
     "metadata": {},
     "output_type": "execute_result"
    }
   ],
   "source": [
    "df = df[df[\"dataset name\"] != \"segment\"]\n",
    "df = df[df[\"ram kwargs\"] != '{\"est_elements\": 1000, \"false_positive_rate\": 0.05}']\n",
    "df = df[df[\"ram kwargs\"] != '{\"width\": 1000, \"depth\": 5}']\n",
    "df = df[df[\"ram kwargs\"] != '{\"width\": 1000, \"depth\": 3}']\n",
    "df\n"
   ]
  },
  {
   "cell_type": "code",
   "execution_count": 50,
   "id": "1c026bb9",
   "metadata": {},
   "outputs": [],
   "source": [
    "rename_elements = {\n",
    "    'DictRam {}': \"Dict-WiSARD\",\n",
    "    'count-bloom {\"est_elements\": 100, \"false_positive_rate\": 0.02}': 'CB FPR=0.02',\n",
    "    'count-bloom {\"est_elements\": 100, \"false_positive_rate\": 0.05}': 'CB FPR=0.05',\n",
    "    'count-bloom {\"est_elements\": 100, \"false_positive_rate\": 0.08}': 'CB FPR=0.08',\n",
    "    'count-min-sketch {\"width\": 20, \"depth\": 2}': 'CMS W=20 D=2',\n",
    "    'count-min-sketch {\"width\": 20, \"depth\": 3}': 'CMS W=20 D=3',\n",
    "    'count-min-sketch {\"width\": 50, \"depth\": 2}': 'CMS W=50 D=2',\n",
    "    'count-min-sketch {\"width\": 50, \"depth\": 3}': 'CMS W=50 D=3',\n",
    "    'count-min-sketch {\"width\": 100, \"depth\": 3}': 'CMS W=100 D=3',\n",
    "    'count-min-sketch {\"width\": 100, \"depth\": 5}': 'CMS W=100 D=5',\n",
    "    'count-min-sketch {\"width\": 500, \"depth\": 3}': 'CMS W=500 D=3',\n",
    "    'count-min-sketch {\"width\": 500, \"depth\": 5}': 'CMS W=500 D=5',\n",
    "    'count-min-sketch {\"width\": 1000, \"depth\": 3}': 'CMS W=1000 D=3',\n",
    "    'count-min-sketch {\"width\": 1000, \"depth\": 5}': 'CMS W=1000 D=5',\n",
    "}\n",
    "\n",
    "element_order = [\n",
    "    \"Dict-WiSARD\",\n",
    "    'CB FPR=0.02',\n",
    "    'CB FPR=0.05',\n",
    "    'CB FPR=0.08',\n",
    "    'CMS W=20 D=2',\n",
    "    'CMS W=20 D=3',\n",
    "    'CMS W=50 D=2',\n",
    "    'CMS W=50 D=3',\n",
    "    'CMS W=100 D=3',\n",
    "    'CMS W=100 D=5',\n",
    "    'CMS W=500 D=3',\n",
    "    'CMS W=500 D=5',\n",
    "    'CMS W=1000 D=3',\n",
    "    'CMS W=1000 D=5'\n",
    "]\n",
    "\n",
    "datasets_order = [\n",
    "    \"iris\",\n",
    "    \"glass\",\n",
    "    \"wine\",\n",
    "    \"vehicle\",\n",
    "    \"breast_cancer\",\n",
    "    # \"segment (368)\",\n",
    "    \"satimage\",\n",
    "    'letter',\n",
    "    'motion_sense',\n",
    "    'mnist'\n",
    "]"
   ]
  },
  {
   "cell_type": "code",
   "execution_count": 51,
   "id": "e69d66a7",
   "metadata": {},
   "outputs": [],
   "source": [
    "def get_best(df: pd.DataFrame, metric: str = None, improvement_col: str = \"DictRam {}\", valid_configs: tuple = (\"DictRam\", \"count-min-sketch\", \"count-bloom\")):\n",
    "    if valid_configs is None:\n",
    "        valid_configs = df[\"ram name\"].unique()\n",
    "    \n",
    "    configs = list(k for k, _ in df[df[\"ram name\"].isin(valid_configs)].groupby([\"ram name\", \"ram kwargs\"]))\n",
    "    datasets = list(df[\"dataset name\"].unique())\n",
    "\n",
    "    d = defaultdict(dict)\n",
    "    for c in configs:\n",
    "        c_str = f\"{c[0]} {c[1]}\"\n",
    "        for dset in datasets:\n",
    "            metric_to_use = metrics_to_use[dset]\n",
    "            x = df.loc[(df[\"ram name\"] == c[0]) & (df[\"ram kwargs\"] == c[1]) & (df[\"dataset name\"] == dset)]\n",
    "            best = x.sort_values(by=metric_to_use, ascending=False).iloc[0]\n",
    "            if metric is None:\n",
    "                metric = metric_to_use\n",
    "            d[c_str][dset] = best[metric]\n",
    "            \n",
    "    d = pd.DataFrame(d)\n",
    "    if improvement_col is not None:\n",
    "        r = d[improvement_col]\n",
    "        for c in d.columns:\n",
    "            d[c] = d[c] / r\n",
    "                \n",
    "    return pd.DataFrame(d)\n",
    "\n",
    "def do_rename_and_reorder(d, remove_dict: bool = False):\n",
    "    d = d.rename(columns=rename_elements)\n",
    "    if remove_dict:\n",
    "        d = d[element_order[1:]]\n",
    "    else:\n",
    "        d = d[element_order]\n",
    "    d = d.T\n",
    "    # d = d.rename(columns=datasets_rename)\n",
    "    d = d[datasets_order]\n",
    "    return d\n"
   ]
  },
  {
   "cell_type": "code",
   "execution_count": 52,
   "id": "e4874c17",
   "metadata": {},
   "outputs": [
    {
     "ename": "KeyError",
     "evalue": "\"['CMS W=1000 D=3', 'CMS W=1000 D=5'] not in index\"",
     "output_type": "error",
     "traceback": [
      "\u001b[0;31m---------------------------------------------------------------------------\u001b[0m",
      "\u001b[0;31mKeyError\u001b[0m                                  Traceback (most recent call last)",
      "Cell \u001b[0;32mIn[52], line 2\u001b[0m\n\u001b[1;32m      1\u001b[0m d \u001b[38;5;241m=\u001b[39m get_best(df, metric\u001b[38;5;241m=\u001b[39m\u001b[38;5;28;01mNone\u001b[39;00m, improvement_col\u001b[38;5;241m=\u001b[39m\u001b[38;5;124m\"\u001b[39m\u001b[38;5;124mDictRam \u001b[39m\u001b[38;5;132;01m{}\u001b[39;00m\u001b[38;5;124m\"\u001b[39m, )\n\u001b[0;32m----> 2\u001b[0m d \u001b[38;5;241m=\u001b[39m \u001b[43mdo_rename_and_reorder\u001b[49m\u001b[43m(\u001b[49m\u001b[43md\u001b[49m\u001b[43m,\u001b[49m\u001b[43m \u001b[49m\u001b[43mremove_dict\u001b[49m\u001b[38;5;241;43m=\u001b[39;49m\u001b[38;5;28;43;01mFalse\u001b[39;49;00m\u001b[43m)\u001b[49m\n\u001b[1;32m      3\u001b[0m d[\u001b[38;5;124m\"\u001b[39m\u001b[38;5;124maverage\u001b[39m\u001b[38;5;124m\"\u001b[39m] \u001b[38;5;241m=\u001b[39m d\u001b[38;5;241m.\u001b[39mmean(axis\u001b[38;5;241m=\u001b[39m\u001b[38;5;241m1\u001b[39m)\n\u001b[1;32m      5\u001b[0m d_m \u001b[38;5;241m=\u001b[39m get_best(df, metric\u001b[38;5;241m=\u001b[39m\u001b[38;5;124m\"\u001b[39m\u001b[38;5;124mmodel size\u001b[39m\u001b[38;5;124m\"\u001b[39m, improvement_col\u001b[38;5;241m=\u001b[39m\u001b[38;5;124m\"\u001b[39m\u001b[38;5;124mDictRam \u001b[39m\u001b[38;5;132;01m{}\u001b[39;00m\u001b[38;5;124m\"\u001b[39m)\n",
      "Cell \u001b[0;32mIn[51], line 32\u001b[0m, in \u001b[0;36mdo_rename_and_reorder\u001b[0;34m(d, remove_dict)\u001b[0m\n\u001b[1;32m     30\u001b[0m     d \u001b[38;5;241m=\u001b[39m d[element_order[\u001b[38;5;241m1\u001b[39m:]]\n\u001b[1;32m     31\u001b[0m \u001b[38;5;28;01melse\u001b[39;00m:\n\u001b[0;32m---> 32\u001b[0m     d \u001b[38;5;241m=\u001b[39m \u001b[43md\u001b[49m\u001b[43m[\u001b[49m\u001b[43melement_order\u001b[49m\u001b[43m]\u001b[49m\n\u001b[1;32m     33\u001b[0m d \u001b[38;5;241m=\u001b[39m d\u001b[38;5;241m.\u001b[39mT\n\u001b[1;32m     34\u001b[0m \u001b[38;5;66;03m# d = d.rename(columns=datasets_rename)\u001b[39;00m\n",
      "File \u001b[0;32m/usr/local/lib/python3.10/dist-packages/pandas/core/frame.py:3899\u001b[0m, in \u001b[0;36mDataFrame.__getitem__\u001b[0;34m(self, key)\u001b[0m\n\u001b[1;32m   3897\u001b[0m     \u001b[38;5;28;01mif\u001b[39;00m is_iterator(key):\n\u001b[1;32m   3898\u001b[0m         key \u001b[38;5;241m=\u001b[39m \u001b[38;5;28mlist\u001b[39m(key)\n\u001b[0;32m-> 3899\u001b[0m     indexer \u001b[38;5;241m=\u001b[39m \u001b[38;5;28;43mself\u001b[39;49m\u001b[38;5;241;43m.\u001b[39;49m\u001b[43mcolumns\u001b[49m\u001b[38;5;241;43m.\u001b[39;49m\u001b[43m_get_indexer_strict\u001b[49m\u001b[43m(\u001b[49m\u001b[43mkey\u001b[49m\u001b[43m,\u001b[49m\u001b[43m \u001b[49m\u001b[38;5;124;43m\"\u001b[39;49m\u001b[38;5;124;43mcolumns\u001b[39;49m\u001b[38;5;124;43m\"\u001b[39;49m\u001b[43m)\u001b[49m[\u001b[38;5;241m1\u001b[39m]\n\u001b[1;32m   3901\u001b[0m \u001b[38;5;66;03m# take() does not accept boolean indexers\u001b[39;00m\n\u001b[1;32m   3902\u001b[0m \u001b[38;5;28;01mif\u001b[39;00m \u001b[38;5;28mgetattr\u001b[39m(indexer, \u001b[38;5;124m\"\u001b[39m\u001b[38;5;124mdtype\u001b[39m\u001b[38;5;124m\"\u001b[39m, \u001b[38;5;28;01mNone\u001b[39;00m) \u001b[38;5;241m==\u001b[39m \u001b[38;5;28mbool\u001b[39m:\n",
      "File \u001b[0;32m/usr/local/lib/python3.10/dist-packages/pandas/core/indexes/base.py:6115\u001b[0m, in \u001b[0;36mIndex._get_indexer_strict\u001b[0;34m(self, key, axis_name)\u001b[0m\n\u001b[1;32m   6112\u001b[0m \u001b[38;5;28;01melse\u001b[39;00m:\n\u001b[1;32m   6113\u001b[0m     keyarr, indexer, new_indexer \u001b[38;5;241m=\u001b[39m \u001b[38;5;28mself\u001b[39m\u001b[38;5;241m.\u001b[39m_reindex_non_unique(keyarr)\n\u001b[0;32m-> 6115\u001b[0m \u001b[38;5;28;43mself\u001b[39;49m\u001b[38;5;241;43m.\u001b[39;49m\u001b[43m_raise_if_missing\u001b[49m\u001b[43m(\u001b[49m\u001b[43mkeyarr\u001b[49m\u001b[43m,\u001b[49m\u001b[43m \u001b[49m\u001b[43mindexer\u001b[49m\u001b[43m,\u001b[49m\u001b[43m \u001b[49m\u001b[43maxis_name\u001b[49m\u001b[43m)\u001b[49m\n\u001b[1;32m   6117\u001b[0m keyarr \u001b[38;5;241m=\u001b[39m \u001b[38;5;28mself\u001b[39m\u001b[38;5;241m.\u001b[39mtake(indexer)\n\u001b[1;32m   6118\u001b[0m \u001b[38;5;28;01mif\u001b[39;00m \u001b[38;5;28misinstance\u001b[39m(key, Index):\n\u001b[1;32m   6119\u001b[0m     \u001b[38;5;66;03m# GH 42790 - Preserve name from an Index\u001b[39;00m\n",
      "File \u001b[0;32m/usr/local/lib/python3.10/dist-packages/pandas/core/indexes/base.py:6179\u001b[0m, in \u001b[0;36mIndex._raise_if_missing\u001b[0;34m(self, key, indexer, axis_name)\u001b[0m\n\u001b[1;32m   6176\u001b[0m     \u001b[38;5;28;01mraise\u001b[39;00m \u001b[38;5;167;01mKeyError\u001b[39;00m(\u001b[38;5;124mf\u001b[39m\u001b[38;5;124m\"\u001b[39m\u001b[38;5;124mNone of [\u001b[39m\u001b[38;5;132;01m{\u001b[39;00mkey\u001b[38;5;132;01m}\u001b[39;00m\u001b[38;5;124m] are in the [\u001b[39m\u001b[38;5;132;01m{\u001b[39;00maxis_name\u001b[38;5;132;01m}\u001b[39;00m\u001b[38;5;124m]\u001b[39m\u001b[38;5;124m\"\u001b[39m)\n\u001b[1;32m   6178\u001b[0m not_found \u001b[38;5;241m=\u001b[39m \u001b[38;5;28mlist\u001b[39m(ensure_index(key)[missing_mask\u001b[38;5;241m.\u001b[39mnonzero()[\u001b[38;5;241m0\u001b[39m]]\u001b[38;5;241m.\u001b[39munique())\n\u001b[0;32m-> 6179\u001b[0m \u001b[38;5;28;01mraise\u001b[39;00m \u001b[38;5;167;01mKeyError\u001b[39;00m(\u001b[38;5;124mf\u001b[39m\u001b[38;5;124m\"\u001b[39m\u001b[38;5;132;01m{\u001b[39;00mnot_found\u001b[38;5;132;01m}\u001b[39;00m\u001b[38;5;124m not in index\u001b[39m\u001b[38;5;124m\"\u001b[39m)\n",
      "\u001b[0;31mKeyError\u001b[0m: \"['CMS W=1000 D=3', 'CMS W=1000 D=5'] not in index\""
     ]
    }
   ],
   "source": [
    "\n",
    "d = get_best(df, metric=None, improvement_col=\"DictRam {}\", )\n",
    "d = do_rename_and_reorder(d, remove_dict=False)\n",
    "d[\"average\"] = d.mean(axis=1)\n",
    "\n",
    "d_m = get_best(df, metric=\"model size\", improvement_col=\"DictRam {}\")\n",
    "d_m = do_rename_and_reorder(d_m, remove_dict=False)\n",
    "d_m[\"average\"] = d_m.mean(axis=1)\n",
    "\n",
    "\n",
    "# Get the accuracy improvement data\n",
    "accuracy_improvement = d[\"average\"]\n",
    "\n",
    "# Get the model size improvement data\n",
    "model_size_improvement = d_m[\"average\"]\n",
    "\n",
    "# # Plot the graph\n",
    "# plt.figure(figsize=(8, 6))\n",
    "# plt.scatter(model_size_improvement, accuracy_improvement)\n",
    "# plt.xlabel(\"Model Size Improvement\")\n",
    "# plt.ylabel(\"Accuracy Improvement\")\n",
    "# plt.title(\"Accuracy Improvement vs Model Size Improvement\")\n",
    "# plt.grid(True)\n",
    "# plt.show()\n"
   ]
  },
  {
   "cell_type": "code",
   "execution_count": 53,
   "id": "70669cfe",
   "metadata": {},
   "outputs": [
    {
     "data": {
      "text/html": [
       "<div>\n",
       "<style scoped>\n",
       "    .dataframe tbody tr th:only-of-type {\n",
       "        vertical-align: middle;\n",
       "    }\n",
       "\n",
       "    .dataframe tbody tr th {\n",
       "        vertical-align: top;\n",
       "    }\n",
       "\n",
       "    .dataframe thead th {\n",
       "        text-align: right;\n",
       "    }\n",
       "</style>\n",
       "<table border=\"1\" class=\"dataframe\">\n",
       "  <thead>\n",
       "    <tr style=\"text-align: right;\">\n",
       "      <th></th>\n",
       "      <th>DictRam {}</th>\n",
       "      <th>count-bloom {\"est_elements\": 100, \"false_positive_rate\": 0.02}</th>\n",
       "      <th>count-bloom {\"est_elements\": 100, \"false_positive_rate\": 0.05}</th>\n",
       "      <th>count-bloom {\"est_elements\": 100, \"false_positive_rate\": 0.08}</th>\n",
       "      <th>count-cuckoo {\"capacity\": 100, \"bucket_size\": 2}</th>\n",
       "      <th>count-cuckoo {\"capacity\": 100, \"bucket_size\": 4}</th>\n",
       "      <th>count-cuckoo {\"capacity\": 1000, \"bucket_size\": 2}</th>\n",
       "      <th>count-cuckoo {\"capacity\": 1000, \"bucket_size\": 4}</th>\n",
       "      <th>count-cuckoo {\"capacity\": 500, \"bucket_size\": 2}</th>\n",
       "      <th>count-cuckoo {\"capacity\": 500, \"bucket_size\": 4}</th>\n",
       "      <th>...</th>\n",
       "      <th>stream-threshold {\"threshold\": 100, \"width\": 1000, \"depth\": 3}</th>\n",
       "      <th>stream-threshold {\"threshold\": 100, \"width\": 1000, \"depth\": 5}</th>\n",
       "      <th>stream-threshold {\"threshold\": 100, \"width\": 250, \"depth\": 3}</th>\n",
       "      <th>stream-threshold {\"threshold\": 100, \"width\": 250, \"depth\": 5}</th>\n",
       "      <th>stream-threshold {\"threshold\": 50, \"width\": 100, \"depth\": 2}</th>\n",
       "      <th>stream-threshold {\"threshold\": 50, \"width\": 100, \"depth\": 3}</th>\n",
       "      <th>stream-threshold {\"threshold\": 50, \"width\": 1000, \"depth\": 3}</th>\n",
       "      <th>stream-threshold {\"threshold\": 50, \"width\": 1000, \"depth\": 5}</th>\n",
       "      <th>stream-threshold {\"threshold\": 50, \"width\": 250, \"depth\": 3}</th>\n",
       "      <th>stream-threshold {\"threshold\": 50, \"width\": 250, \"depth\": 5}</th>\n",
       "    </tr>\n",
       "  </thead>\n",
       "  <tbody>\n",
       "    <tr>\n",
       "      <th>breast_cancer</th>\n",
       "      <td>1.0</td>\n",
       "      <td>1.011882</td>\n",
       "      <td>0.993383</td>\n",
       "      <td>0.999476</td>\n",
       "      <td>1.012289</td>\n",
       "      <td>0.999476</td>\n",
       "      <td>1.000139</td>\n",
       "      <td>0.987711</td>\n",
       "      <td>1.012168</td>\n",
       "      <td>0.999669</td>\n",
       "      <td>...</td>\n",
       "      <td>0.987307</td>\n",
       "      <td>1.006077</td>\n",
       "      <td>1.005930</td>\n",
       "      <td>1.018273</td>\n",
       "      <td>0.987880</td>\n",
       "      <td>0.999669</td>\n",
       "      <td>1.005389</td>\n",
       "      <td>0.993771</td>\n",
       "      <td>0.999669</td>\n",
       "      <td>1.005587</td>\n",
       "    </tr>\n",
       "    <tr>\n",
       "      <th>glass</th>\n",
       "      <td>1.0</td>\n",
       "      <td>1.003155</td>\n",
       "      <td>1.039505</td>\n",
       "      <td>1.046843</td>\n",
       "      <td>1.064129</td>\n",
       "      <td>1.042679</td>\n",
       "      <td>1.042679</td>\n",
       "      <td>1.025175</td>\n",
       "      <td>1.036127</td>\n",
       "      <td>1.047019</td>\n",
       "      <td>...</td>\n",
       "      <td>1.089614</td>\n",
       "      <td>1.006471</td>\n",
       "      <td>0.983756</td>\n",
       "      <td>1.105478</td>\n",
       "      <td>0.994586</td>\n",
       "      <td>1.023018</td>\n",
       "      <td>1.090723</td>\n",
       "      <td>1.025831</td>\n",
       "      <td>1.023018</td>\n",
       "      <td>1.024269</td>\n",
       "    </tr>\n",
       "    <tr>\n",
       "      <th>iris</th>\n",
       "      <td>1.0</td>\n",
       "      <td>1.000000</td>\n",
       "      <td>1.000000</td>\n",
       "      <td>1.023442</td>\n",
       "      <td>1.000000</td>\n",
       "      <td>1.046729</td>\n",
       "      <td>1.046729</td>\n",
       "      <td>1.046729</td>\n",
       "      <td>0.976869</td>\n",
       "      <td>1.046729</td>\n",
       "      <td>...</td>\n",
       "      <td>1.023442</td>\n",
       "      <td>1.000000</td>\n",
       "      <td>1.023442</td>\n",
       "      <td>1.023442</td>\n",
       "      <td>1.023442</td>\n",
       "      <td>1.023442</td>\n",
       "      <td>1.023442</td>\n",
       "      <td>1.023442</td>\n",
       "      <td>1.023442</td>\n",
       "      <td>1.023442</td>\n",
       "    </tr>\n",
       "    <tr>\n",
       "      <th>letter</th>\n",
       "      <td>1.0</td>\n",
       "      <td>0.990913</td>\n",
       "      <td>0.992477</td>\n",
       "      <td>0.999775</td>\n",
       "      <td>0.990275</td>\n",
       "      <td>0.998459</td>\n",
       "      <td>1.011001</td>\n",
       "      <td>0.985575</td>\n",
       "      <td>0.998119</td>\n",
       "      <td>0.992644</td>\n",
       "      <td>...</td>\n",
       "      <td>1.004497</td>\n",
       "      <td>0.990774</td>\n",
       "      <td>0.990189</td>\n",
       "      <td>1.005405</td>\n",
       "      <td>0.974987</td>\n",
       "      <td>0.994633</td>\n",
       "      <td>1.000403</td>\n",
       "      <td>0.995133</td>\n",
       "      <td>0.996890</td>\n",
       "      <td>0.984613</td>\n",
       "    </tr>\n",
       "    <tr>\n",
       "      <th>mnist</th>\n",
       "      <td>1.0</td>\n",
       "      <td>1.001253</td>\n",
       "      <td>1.000044</td>\n",
       "      <td>0.999044</td>\n",
       "      <td>1.003365</td>\n",
       "      <td>0.999815</td>\n",
       "      <td>1.000937</td>\n",
       "      <td>0.999887</td>\n",
       "      <td>1.000787</td>\n",
       "      <td>1.000478</td>\n",
       "      <td>...</td>\n",
       "      <td>1.000960</td>\n",
       "      <td>1.000465</td>\n",
       "      <td>1.003610</td>\n",
       "      <td>1.000926</td>\n",
       "      <td>0.995367</td>\n",
       "      <td>0.996819</td>\n",
       "      <td>0.999809</td>\n",
       "      <td>0.999678</td>\n",
       "      <td>0.998609</td>\n",
       "      <td>1.000862</td>\n",
       "    </tr>\n",
       "    <tr>\n",
       "      <th>motion_sense</th>\n",
       "      <td>1.0</td>\n",
       "      <td>0.987127</td>\n",
       "      <td>0.994230</td>\n",
       "      <td>0.997931</td>\n",
       "      <td>0.998677</td>\n",
       "      <td>0.980293</td>\n",
       "      <td>0.989930</td>\n",
       "      <td>0.975933</td>\n",
       "      <td>0.981319</td>\n",
       "      <td>0.973210</td>\n",
       "      <td>...</td>\n",
       "      <td>0.985413</td>\n",
       "      <td>0.997352</td>\n",
       "      <td>1.024057</td>\n",
       "      <td>1.004846</td>\n",
       "      <td>0.949620</td>\n",
       "      <td>0.953756</td>\n",
       "      <td>0.986481</td>\n",
       "      <td>1.006636</td>\n",
       "      <td>0.991765</td>\n",
       "      <td>1.006696</td>\n",
       "    </tr>\n",
       "    <tr>\n",
       "      <th>satimage</th>\n",
       "      <td>1.0</td>\n",
       "      <td>1.001291</td>\n",
       "      <td>1.003490</td>\n",
       "      <td>1.001640</td>\n",
       "      <td>1.008746</td>\n",
       "      <td>1.005668</td>\n",
       "      <td>1.004431</td>\n",
       "      <td>0.999344</td>\n",
       "      <td>1.000881</td>\n",
       "      <td>0.993955</td>\n",
       "      <td>...</td>\n",
       "      <td>1.012661</td>\n",
       "      <td>1.008101</td>\n",
       "      <td>0.999889</td>\n",
       "      <td>0.998847</td>\n",
       "      <td>0.996716</td>\n",
       "      <td>1.005526</td>\n",
       "      <td>1.002861</td>\n",
       "      <td>1.001441</td>\n",
       "      <td>1.004683</td>\n",
       "      <td>1.000690</td>\n",
       "    </tr>\n",
       "    <tr>\n",
       "      <th>vehicle</th>\n",
       "      <td>1.0</td>\n",
       "      <td>1.080800</td>\n",
       "      <td>1.080800</td>\n",
       "      <td>1.133835</td>\n",
       "      <td>1.069535</td>\n",
       "      <td>1.016451</td>\n",
       "      <td>1.107782</td>\n",
       "      <td>0.958017</td>\n",
       "      <td>1.070537</td>\n",
       "      <td>1.096035</td>\n",
       "      <td>...</td>\n",
       "      <td>1.009498</td>\n",
       "      <td>1.041070</td>\n",
       "      <td>1.156830</td>\n",
       "      <td>0.994764</td>\n",
       "      <td>1.046574</td>\n",
       "      <td>1.085012</td>\n",
       "      <td>1.156830</td>\n",
       "      <td>1.008552</td>\n",
       "      <td>1.079267</td>\n",
       "      <td>1.103250</td>\n",
       "    </tr>\n",
       "    <tr>\n",
       "      <th>wine</th>\n",
       "      <td>1.0</td>\n",
       "      <td>1.000660</td>\n",
       "      <td>0.981003</td>\n",
       "      <td>1.000660</td>\n",
       "      <td>0.981428</td>\n",
       "      <td>0.981493</td>\n",
       "      <td>0.961553</td>\n",
       "      <td>1.038868</td>\n",
       "      <td>0.981130</td>\n",
       "      <td>0.981493</td>\n",
       "      <td>...</td>\n",
       "      <td>0.943464</td>\n",
       "      <td>0.962363</td>\n",
       "      <td>0.981000</td>\n",
       "      <td>0.980256</td>\n",
       "      <td>0.940920</td>\n",
       "      <td>0.962508</td>\n",
       "      <td>0.981000</td>\n",
       "      <td>0.980256</td>\n",
       "      <td>0.962508</td>\n",
       "      <td>0.980256</td>\n",
       "    </tr>\n",
       "  </tbody>\n",
       "</table>\n",
       "<p>9 rows × 36 columns</p>\n",
       "</div>"
      ],
      "text/plain": [
       "               DictRam {}  \\\n",
       "breast_cancer         1.0   \n",
       "glass                 1.0   \n",
       "iris                  1.0   \n",
       "letter                1.0   \n",
       "mnist                 1.0   \n",
       "motion_sense          1.0   \n",
       "satimage              1.0   \n",
       "vehicle               1.0   \n",
       "wine                  1.0   \n",
       "\n",
       "               count-bloom {\"est_elements\": 100, \"false_positive_rate\": 0.02}  \\\n",
       "breast_cancer                                           1.011882                \n",
       "glass                                                   1.003155                \n",
       "iris                                                    1.000000                \n",
       "letter                                                  0.990913                \n",
       "mnist                                                   1.001253                \n",
       "motion_sense                                            0.987127                \n",
       "satimage                                                1.001291                \n",
       "vehicle                                                 1.080800                \n",
       "wine                                                    1.000660                \n",
       "\n",
       "               count-bloom {\"est_elements\": 100, \"false_positive_rate\": 0.05}  \\\n",
       "breast_cancer                                           0.993383                \n",
       "glass                                                   1.039505                \n",
       "iris                                                    1.000000                \n",
       "letter                                                  0.992477                \n",
       "mnist                                                   1.000044                \n",
       "motion_sense                                            0.994230                \n",
       "satimage                                                1.003490                \n",
       "vehicle                                                 1.080800                \n",
       "wine                                                    0.981003                \n",
       "\n",
       "               count-bloom {\"est_elements\": 100, \"false_positive_rate\": 0.08}  \\\n",
       "breast_cancer                                           0.999476                \n",
       "glass                                                   1.046843                \n",
       "iris                                                    1.023442                \n",
       "letter                                                  0.999775                \n",
       "mnist                                                   0.999044                \n",
       "motion_sense                                            0.997931                \n",
       "satimage                                                1.001640                \n",
       "vehicle                                                 1.133835                \n",
       "wine                                                    1.000660                \n",
       "\n",
       "               count-cuckoo {\"capacity\": 100, \"bucket_size\": 2}  \\\n",
       "breast_cancer                                          1.012289   \n",
       "glass                                                  1.064129   \n",
       "iris                                                   1.000000   \n",
       "letter                                                 0.990275   \n",
       "mnist                                                  1.003365   \n",
       "motion_sense                                           0.998677   \n",
       "satimage                                               1.008746   \n",
       "vehicle                                                1.069535   \n",
       "wine                                                   0.981428   \n",
       "\n",
       "               count-cuckoo {\"capacity\": 100, \"bucket_size\": 4}  \\\n",
       "breast_cancer                                          0.999476   \n",
       "glass                                                  1.042679   \n",
       "iris                                                   1.046729   \n",
       "letter                                                 0.998459   \n",
       "mnist                                                  0.999815   \n",
       "motion_sense                                           0.980293   \n",
       "satimage                                               1.005668   \n",
       "vehicle                                                1.016451   \n",
       "wine                                                   0.981493   \n",
       "\n",
       "               count-cuckoo {\"capacity\": 1000, \"bucket_size\": 2}  \\\n",
       "breast_cancer                                           1.000139   \n",
       "glass                                                   1.042679   \n",
       "iris                                                    1.046729   \n",
       "letter                                                  1.011001   \n",
       "mnist                                                   1.000937   \n",
       "motion_sense                                            0.989930   \n",
       "satimage                                                1.004431   \n",
       "vehicle                                                 1.107782   \n",
       "wine                                                    0.961553   \n",
       "\n",
       "               count-cuckoo {\"capacity\": 1000, \"bucket_size\": 4}  \\\n",
       "breast_cancer                                           0.987711   \n",
       "glass                                                   1.025175   \n",
       "iris                                                    1.046729   \n",
       "letter                                                  0.985575   \n",
       "mnist                                                   0.999887   \n",
       "motion_sense                                            0.975933   \n",
       "satimage                                                0.999344   \n",
       "vehicle                                                 0.958017   \n",
       "wine                                                    1.038868   \n",
       "\n",
       "               count-cuckoo {\"capacity\": 500, \"bucket_size\": 2}  \\\n",
       "breast_cancer                                          1.012168   \n",
       "glass                                                  1.036127   \n",
       "iris                                                   0.976869   \n",
       "letter                                                 0.998119   \n",
       "mnist                                                  1.000787   \n",
       "motion_sense                                           0.981319   \n",
       "satimage                                               1.000881   \n",
       "vehicle                                                1.070537   \n",
       "wine                                                   0.981130   \n",
       "\n",
       "               count-cuckoo {\"capacity\": 500, \"bucket_size\": 4}  ...  \\\n",
       "breast_cancer                                          0.999669  ...   \n",
       "glass                                                  1.047019  ...   \n",
       "iris                                                   1.046729  ...   \n",
       "letter                                                 0.992644  ...   \n",
       "mnist                                                  1.000478  ...   \n",
       "motion_sense                                           0.973210  ...   \n",
       "satimage                                               0.993955  ...   \n",
       "vehicle                                                1.096035  ...   \n",
       "wine                                                   0.981493  ...   \n",
       "\n",
       "               stream-threshold {\"threshold\": 100, \"width\": 1000, \"depth\": 3}  \\\n",
       "breast_cancer                                           0.987307                \n",
       "glass                                                   1.089614                \n",
       "iris                                                    1.023442                \n",
       "letter                                                  1.004497                \n",
       "mnist                                                   1.000960                \n",
       "motion_sense                                            0.985413                \n",
       "satimage                                                1.012661                \n",
       "vehicle                                                 1.009498                \n",
       "wine                                                    0.943464                \n",
       "\n",
       "               stream-threshold {\"threshold\": 100, \"width\": 1000, \"depth\": 5}  \\\n",
       "breast_cancer                                           1.006077                \n",
       "glass                                                   1.006471                \n",
       "iris                                                    1.000000                \n",
       "letter                                                  0.990774                \n",
       "mnist                                                   1.000465                \n",
       "motion_sense                                            0.997352                \n",
       "satimage                                                1.008101                \n",
       "vehicle                                                 1.041070                \n",
       "wine                                                    0.962363                \n",
       "\n",
       "               stream-threshold {\"threshold\": 100, \"width\": 250, \"depth\": 3}  \\\n",
       "breast_cancer                                           1.005930               \n",
       "glass                                                   0.983756               \n",
       "iris                                                    1.023442               \n",
       "letter                                                  0.990189               \n",
       "mnist                                                   1.003610               \n",
       "motion_sense                                            1.024057               \n",
       "satimage                                                0.999889               \n",
       "vehicle                                                 1.156830               \n",
       "wine                                                    0.981000               \n",
       "\n",
       "               stream-threshold {\"threshold\": 100, \"width\": 250, \"depth\": 5}  \\\n",
       "breast_cancer                                           1.018273               \n",
       "glass                                                   1.105478               \n",
       "iris                                                    1.023442               \n",
       "letter                                                  1.005405               \n",
       "mnist                                                   1.000926               \n",
       "motion_sense                                            1.004846               \n",
       "satimage                                                0.998847               \n",
       "vehicle                                                 0.994764               \n",
       "wine                                                    0.980256               \n",
       "\n",
       "               stream-threshold {\"threshold\": 50, \"width\": 100, \"depth\": 2}  \\\n",
       "breast_cancer                                           0.987880              \n",
       "glass                                                   0.994586              \n",
       "iris                                                    1.023442              \n",
       "letter                                                  0.974987              \n",
       "mnist                                                   0.995367              \n",
       "motion_sense                                            0.949620              \n",
       "satimage                                                0.996716              \n",
       "vehicle                                                 1.046574              \n",
       "wine                                                    0.940920              \n",
       "\n",
       "               stream-threshold {\"threshold\": 50, \"width\": 100, \"depth\": 3}  \\\n",
       "breast_cancer                                           0.999669              \n",
       "glass                                                   1.023018              \n",
       "iris                                                    1.023442              \n",
       "letter                                                  0.994633              \n",
       "mnist                                                   0.996819              \n",
       "motion_sense                                            0.953756              \n",
       "satimage                                                1.005526              \n",
       "vehicle                                                 1.085012              \n",
       "wine                                                    0.962508              \n",
       "\n",
       "               stream-threshold {\"threshold\": 50, \"width\": 1000, \"depth\": 3}  \\\n",
       "breast_cancer                                           1.005389               \n",
       "glass                                                   1.090723               \n",
       "iris                                                    1.023442               \n",
       "letter                                                  1.000403               \n",
       "mnist                                                   0.999809               \n",
       "motion_sense                                            0.986481               \n",
       "satimage                                                1.002861               \n",
       "vehicle                                                 1.156830               \n",
       "wine                                                    0.981000               \n",
       "\n",
       "               stream-threshold {\"threshold\": 50, \"width\": 1000, \"depth\": 5}  \\\n",
       "breast_cancer                                           0.993771               \n",
       "glass                                                   1.025831               \n",
       "iris                                                    1.023442               \n",
       "letter                                                  0.995133               \n",
       "mnist                                                   0.999678               \n",
       "motion_sense                                            1.006636               \n",
       "satimage                                                1.001441               \n",
       "vehicle                                                 1.008552               \n",
       "wine                                                    0.980256               \n",
       "\n",
       "               stream-threshold {\"threshold\": 50, \"width\": 250, \"depth\": 3}  \\\n",
       "breast_cancer                                           0.999669              \n",
       "glass                                                   1.023018              \n",
       "iris                                                    1.023442              \n",
       "letter                                                  0.996890              \n",
       "mnist                                                   0.998609              \n",
       "motion_sense                                            0.991765              \n",
       "satimage                                                1.004683              \n",
       "vehicle                                                 1.079267              \n",
       "wine                                                    0.962508              \n",
       "\n",
       "               stream-threshold {\"threshold\": 50, \"width\": 250, \"depth\": 5}  \n",
       "breast_cancer                                           1.005587             \n",
       "glass                                                   1.024269             \n",
       "iris                                                    1.023442             \n",
       "letter                                                  0.984613             \n",
       "mnist                                                   1.000862             \n",
       "motion_sense                                            1.006696             \n",
       "satimage                                                1.000690             \n",
       "vehicle                                                 1.103250             \n",
       "wine                                                    0.980256             \n",
       "\n",
       "[9 rows x 36 columns]"
      ]
     },
     "execution_count": 53,
     "metadata": {},
     "output_type": "execute_result"
    }
   ],
   "source": [
    "d = get_best(df, metric=None, improvement_col=\"DictRam {}\", valid_configs=None)\n",
    "d"
   ]
  },
  {
   "cell_type": "code",
   "execution_count": 41,
   "id": "6648f463",
   "metadata": {},
   "outputs": [
    {
     "data": {
      "text/plain": [
       "Dict-WiSARD       1.000000\n",
       "CB FPR=0.02      19.669741\n",
       "CB FPR=0.05      15.088130\n",
       "CB FPR=0.08      14.449569\n",
       "CMS W=20 D=2      1.197328\n",
       "CMS W=20 D=3      1.741568\n",
       "CMS W=50 D=2      2.830047\n",
       "CMS W=50 D=3      4.190647\n",
       "CMS W=100 D=3     7.292196\n",
       "CMS W=100 D=5    12.089694\n",
       "Name: average, dtype: float64"
      ]
     },
     "execution_count": 41,
     "metadata": {},
     "output_type": "execute_result"
    }
   ],
   "source": [
    "model_size_improvement"
   ]
  },
  {
   "cell_type": "code",
   "execution_count": 42,
   "id": "234ba2bf",
   "metadata": {},
   "outputs": [
    {
     "data": {
      "text/plain": [
       "Dict-WiSARD      1.000000\n",
       "CB FPR=0.02      0.050840\n",
       "CB FPR=0.05      0.066277\n",
       "CB FPR=0.08      0.069206\n",
       "CMS W=20 D=2     0.835193\n",
       "CMS W=20 D=3     0.574195\n",
       "CMS W=50 D=2     0.353351\n",
       "CMS W=50 D=3     0.238627\n",
       "CMS W=100 D=3    0.137133\n",
       "CMS W=100 D=5    0.082715\n",
       "Name: average, dtype: float64"
      ]
     },
     "execution_count": 42,
     "metadata": {},
     "output_type": "execute_result"
    }
   ],
   "source": [
    "1/model_size_improvement"
   ]
  },
  {
   "cell_type": "code",
   "execution_count": 32,
   "id": "b5eedc4f",
   "metadata": {},
   "outputs": [
    {
     "data": {
      "text/html": [
       "<div>\n",
       "<style scoped>\n",
       "    .dataframe tbody tr th:only-of-type {\n",
       "        vertical-align: middle;\n",
       "    }\n",
       "\n",
       "    .dataframe tbody tr th {\n",
       "        vertical-align: top;\n",
       "    }\n",
       "\n",
       "    .dataframe thead th {\n",
       "        text-align: right;\n",
       "    }\n",
       "</style>\n",
       "<table border=\"1\" class=\"dataframe\">\n",
       "  <thead>\n",
       "    <tr style=\"text-align: right;\">\n",
       "      <th></th>\n",
       "      <th>Dict-WiSARD</th>\n",
       "      <th>CB FPR=0.02</th>\n",
       "      <th>CB FPR=0.05</th>\n",
       "      <th>CB FPR=0.08</th>\n",
       "      <th>CMS W=20 D=2</th>\n",
       "      <th>CMS W=20 D=3</th>\n",
       "      <th>CMS W=50 D=2</th>\n",
       "      <th>CMS W=50 D=3</th>\n",
       "      <th>CMS W=100 D=3</th>\n",
       "      <th>CMS W=100 D=5</th>\n",
       "    </tr>\n",
       "  </thead>\n",
       "  <tbody>\n",
       "    <tr>\n",
       "      <th>iris</th>\n",
       "      <td>1.0</td>\n",
       "      <td>45.852749</td>\n",
       "      <td>35.172414</td>\n",
       "      <td>29.692451</td>\n",
       "      <td>2.460391</td>\n",
       "      <td>3.578751</td>\n",
       "      <td>5.815471</td>\n",
       "      <td>8.611370</td>\n",
       "      <td>16.999068</td>\n",
       "      <td>28.182665</td>\n",
       "    </tr>\n",
       "    <tr>\n",
       "      <th>glass</th>\n",
       "      <td>1.0</td>\n",
       "      <td>14.278114</td>\n",
       "      <td>10.952358</td>\n",
       "      <td>24.655865</td>\n",
       "      <td>2.043047</td>\n",
       "      <td>2.971705</td>\n",
       "      <td>4.829021</td>\n",
       "      <td>7.150665</td>\n",
       "      <td>5.293349</td>\n",
       "      <td>8.775816</td>\n",
       "    </tr>\n",
       "    <tr>\n",
       "      <th>wine</th>\n",
       "      <td>1.0</td>\n",
       "      <td>41.184804</td>\n",
       "      <td>31.591758</td>\n",
       "      <td>26.669672</td>\n",
       "      <td>2.209916</td>\n",
       "      <td>3.214424</td>\n",
       "      <td>5.223439</td>\n",
       "      <td>7.734707</td>\n",
       "      <td>15.268513</td>\n",
       "      <td>25.313587</td>\n",
       "    </tr>\n",
       "    <tr>\n",
       "      <th>vehicle</th>\n",
       "      <td>1.0</td>\n",
       "      <td>31.810345</td>\n",
       "      <td>24.400862</td>\n",
       "      <td>20.599138</td>\n",
       "      <td>1.706897</td>\n",
       "      <td>2.482759</td>\n",
       "      <td>4.034483</td>\n",
       "      <td>5.974138</td>\n",
       "      <td>11.793103</td>\n",
       "      <td>19.551724</td>\n",
       "    </tr>\n",
       "    <tr>\n",
       "      <th>breast_cancer</th>\n",
       "      <td>1.0</td>\n",
       "      <td>20.551378</td>\n",
       "      <td>15.764411</td>\n",
       "      <td>13.308271</td>\n",
       "      <td>1.102757</td>\n",
       "      <td>1.604010</td>\n",
       "      <td>2.606516</td>\n",
       "      <td>3.859649</td>\n",
       "      <td>7.619048</td>\n",
       "      <td>12.631579</td>\n",
       "    </tr>\n",
       "    <tr>\n",
       "      <th>satimage</th>\n",
       "      <td>1.0</td>\n",
       "      <td>6.547209</td>\n",
       "      <td>5.022188</td>\n",
       "      <td>4.239717</td>\n",
       "      <td>0.351314</td>\n",
       "      <td>0.511002</td>\n",
       "      <td>0.830378</td>\n",
       "      <td>1.229598</td>\n",
       "      <td>2.427258</td>\n",
       "      <td>4.024138</td>\n",
       "    </tr>\n",
       "    <tr>\n",
       "      <th>letter</th>\n",
       "      <td>1.0</td>\n",
       "      <td>9.047256</td>\n",
       "      <td>6.939907</td>\n",
       "      <td>5.858650</td>\n",
       "      <td>0.485463</td>\n",
       "      <td>0.706127</td>\n",
       "      <td>1.147457</td>\n",
       "      <td>1.699119</td>\n",
       "      <td>3.354105</td>\n",
       "      <td>5.560752</td>\n",
       "    </tr>\n",
       "    <tr>\n",
       "      <th>motion_sense</th>\n",
       "      <td>1.0</td>\n",
       "      <td>4.890643</td>\n",
       "      <td>3.751481</td>\n",
       "      <td>3.166989</td>\n",
       "      <td>0.262425</td>\n",
       "      <td>0.381709</td>\n",
       "      <td>0.620277</td>\n",
       "      <td>0.918487</td>\n",
       "      <td>1.813116</td>\n",
       "      <td>3.005956</td>\n",
       "    </tr>\n",
       "    <tr>\n",
       "      <th>mnist</th>\n",
       "      <td>1.0</td>\n",
       "      <td>2.865168</td>\n",
       "      <td>2.197793</td>\n",
       "      <td>1.855371</td>\n",
       "      <td>0.153741</td>\n",
       "      <td>0.223623</td>\n",
       "      <td>0.363387</td>\n",
       "      <td>0.538092</td>\n",
       "      <td>1.062208</td>\n",
       "      <td>1.761030</td>\n",
       "    </tr>\n",
       "    <tr>\n",
       "      <th>average</th>\n",
       "      <td>1.0</td>\n",
       "      <td>19.669741</td>\n",
       "      <td>15.088130</td>\n",
       "      <td>14.449569</td>\n",
       "      <td>1.197328</td>\n",
       "      <td>1.741568</td>\n",
       "      <td>2.830047</td>\n",
       "      <td>4.190647</td>\n",
       "      <td>7.292196</td>\n",
       "      <td>12.089694</td>\n",
       "    </tr>\n",
       "  </tbody>\n",
       "</table>\n",
       "</div>"
      ],
      "text/plain": [
       "               Dict-WiSARD  CB FPR=0.02  CB FPR=0.05  CB FPR=0.08  \\\n",
       "iris                   1.0    45.852749    35.172414    29.692451   \n",
       "glass                  1.0    14.278114    10.952358    24.655865   \n",
       "wine                   1.0    41.184804    31.591758    26.669672   \n",
       "vehicle                1.0    31.810345    24.400862    20.599138   \n",
       "breast_cancer          1.0    20.551378    15.764411    13.308271   \n",
       "satimage               1.0     6.547209     5.022188     4.239717   \n",
       "letter                 1.0     9.047256     6.939907     5.858650   \n",
       "motion_sense           1.0     4.890643     3.751481     3.166989   \n",
       "mnist                  1.0     2.865168     2.197793     1.855371   \n",
       "average                1.0    19.669741    15.088130    14.449569   \n",
       "\n",
       "               CMS W=20 D=2  CMS W=20 D=3  CMS W=50 D=2  CMS W=50 D=3  \\\n",
       "iris               2.460391      3.578751      5.815471      8.611370   \n",
       "glass              2.043047      2.971705      4.829021      7.150665   \n",
       "wine               2.209916      3.214424      5.223439      7.734707   \n",
       "vehicle            1.706897      2.482759      4.034483      5.974138   \n",
       "breast_cancer      1.102757      1.604010      2.606516      3.859649   \n",
       "satimage           0.351314      0.511002      0.830378      1.229598   \n",
       "letter             0.485463      0.706127      1.147457      1.699119   \n",
       "motion_sense       0.262425      0.381709      0.620277      0.918487   \n",
       "mnist              0.153741      0.223623      0.363387      0.538092   \n",
       "average            1.197328      1.741568      2.830047      4.190647   \n",
       "\n",
       "               CMS W=100 D=3  CMS W=100 D=5  \n",
       "iris               16.999068      28.182665  \n",
       "glass               5.293349       8.775816  \n",
       "wine               15.268513      25.313587  \n",
       "vehicle            11.793103      19.551724  \n",
       "breast_cancer       7.619048      12.631579  \n",
       "satimage            2.427258       4.024138  \n",
       "letter              3.354105       5.560752  \n",
       "motion_sense        1.813116       3.005956  \n",
       "mnist               1.062208       1.761030  \n",
       "average             7.292196      12.089694  "
      ]
     },
     "execution_count": 32,
     "metadata": {},
     "output_type": "execute_result"
    }
   ],
   "source": [
    "d_m = get_best(df, metric=\"model size\", improvement_col=\"DictRam {}\")\n",
    "d_m = do_rename_and_reorder(d_m, remove_dict=False)\n",
    "d_m[\"average\"] = d_m.mean(axis=1)\n",
    "d_m = d_m.T\n",
    "\n",
    "d_m"
   ]
  },
  {
   "cell_type": "code",
   "execution_count": 29,
   "id": "462065df",
   "metadata": {},
   "outputs": [
    {
     "data": {
      "text/html": [
       "<div>\n",
       "<style scoped>\n",
       "    .dataframe tbody tr th:only-of-type {\n",
       "        vertical-align: middle;\n",
       "    }\n",
       "\n",
       "    .dataframe tbody tr th {\n",
       "        vertical-align: top;\n",
       "    }\n",
       "\n",
       "    .dataframe thead th {\n",
       "        text-align: right;\n",
       "    }\n",
       "</style>\n",
       "<table border=\"1\" class=\"dataframe\">\n",
       "  <thead>\n",
       "    <tr style=\"text-align: right;\">\n",
       "      <th></th>\n",
       "      <th>DictRam {}</th>\n",
       "      <th>count-bloom {\"est_elements\": 100, \"false_positive_rate\": 0.02}</th>\n",
       "      <th>count-bloom {\"est_elements\": 100, \"false_positive_rate\": 0.05}</th>\n",
       "      <th>count-bloom {\"est_elements\": 100, \"false_positive_rate\": 0.08}</th>\n",
       "      <th>count-min-sketch {\"width\": 100, \"depth\": 3}</th>\n",
       "      <th>count-min-sketch {\"width\": 100, \"depth\": 5}</th>\n",
       "      <th>count-min-sketch {\"width\": 20, \"depth\": 2}</th>\n",
       "      <th>count-min-sketch {\"width\": 20, \"depth\": 3}</th>\n",
       "      <th>count-min-sketch {\"width\": 50, \"depth\": 2}</th>\n",
       "      <th>count-min-sketch {\"width\": 50, \"depth\": 3}</th>\n",
       "      <th>count-min-sketch {\"width\": 500, \"depth\": 3}</th>\n",
       "      <th>count-min-sketch {\"width\": 500, \"depth\": 5}</th>\n",
       "    </tr>\n",
       "  </thead>\n",
       "  <tbody>\n",
       "    <tr>\n",
       "      <th>breast_cancer</th>\n",
       "      <td>1.0</td>\n",
       "      <td>1.011882</td>\n",
       "      <td>0.993383</td>\n",
       "      <td>0.999476</td>\n",
       "      <td>0.999264</td>\n",
       "      <td>1.012032</td>\n",
       "      <td>0.987520</td>\n",
       "      <td>0.975622</td>\n",
       "      <td>0.969388</td>\n",
       "      <td>0.993771</td>\n",
       "      <td>0.993383</td>\n",
       "      <td>1.018383</td>\n",
       "    </tr>\n",
       "    <tr>\n",
       "      <th>glass</th>\n",
       "      <td>1.0</td>\n",
       "      <td>1.003155</td>\n",
       "      <td>1.039505</td>\n",
       "      <td>1.046843</td>\n",
       "      <td>1.051983</td>\n",
       "      <td>1.070902</td>\n",
       "      <td>1.002355</td>\n",
       "      <td>1.006372</td>\n",
       "      <td>1.000554</td>\n",
       "      <td>1.036606</td>\n",
       "      <td>1.081003</td>\n",
       "      <td>1.070902</td>\n",
       "    </tr>\n",
       "    <tr>\n",
       "      <th>iris</th>\n",
       "      <td>1.0</td>\n",
       "      <td>1.000000</td>\n",
       "      <td>1.000000</td>\n",
       "      <td>1.023442</td>\n",
       "      <td>1.046729</td>\n",
       "      <td>1.046729</td>\n",
       "      <td>1.000208</td>\n",
       "      <td>1.000208</td>\n",
       "      <td>1.000208</td>\n",
       "      <td>1.000208</td>\n",
       "      <td>1.023442</td>\n",
       "      <td>1.046729</td>\n",
       "    </tr>\n",
       "    <tr>\n",
       "      <th>letter</th>\n",
       "      <td>1.0</td>\n",
       "      <td>0.990913</td>\n",
       "      <td>0.992477</td>\n",
       "      <td>0.999775</td>\n",
       "      <td>1.000607</td>\n",
       "      <td>0.995230</td>\n",
       "      <td>0.850384</td>\n",
       "      <td>0.908937</td>\n",
       "      <td>0.962972</td>\n",
       "      <td>0.971739</td>\n",
       "      <td>0.982910</td>\n",
       "      <td>0.998250</td>\n",
       "    </tr>\n",
       "    <tr>\n",
       "      <th>mnist</th>\n",
       "      <td>1.0</td>\n",
       "      <td>1.001253</td>\n",
       "      <td>1.000044</td>\n",
       "      <td>0.999044</td>\n",
       "      <td>0.995224</td>\n",
       "      <td>0.998697</td>\n",
       "      <td>0.907175</td>\n",
       "      <td>0.918543</td>\n",
       "      <td>0.976026</td>\n",
       "      <td>0.982934</td>\n",
       "      <td>0.999895</td>\n",
       "      <td>0.997876</td>\n",
       "    </tr>\n",
       "    <tr>\n",
       "      <th>motion_sense</th>\n",
       "      <td>1.0</td>\n",
       "      <td>0.987127</td>\n",
       "      <td>0.994230</td>\n",
       "      <td>0.997931</td>\n",
       "      <td>0.993908</td>\n",
       "      <td>0.970239</td>\n",
       "      <td>0.696629</td>\n",
       "      <td>0.660171</td>\n",
       "      <td>0.986759</td>\n",
       "      <td>0.949648</td>\n",
       "      <td>0.991756</td>\n",
       "      <td>0.981736</td>\n",
       "    </tr>\n",
       "    <tr>\n",
       "      <th>satimage</th>\n",
       "      <td>1.0</td>\n",
       "      <td>1.001291</td>\n",
       "      <td>1.003490</td>\n",
       "      <td>1.001640</td>\n",
       "      <td>0.999394</td>\n",
       "      <td>0.993321</td>\n",
       "      <td>0.957823</td>\n",
       "      <td>0.966275</td>\n",
       "      <td>0.994027</td>\n",
       "      <td>1.006444</td>\n",
       "      <td>1.000878</td>\n",
       "      <td>1.006498</td>\n",
       "    </tr>\n",
       "    <tr>\n",
       "      <th>vehicle</th>\n",
       "      <td>1.0</td>\n",
       "      <td>1.080800</td>\n",
       "      <td>1.080800</td>\n",
       "      <td>1.133835</td>\n",
       "      <td>1.075592</td>\n",
       "      <td>1.079648</td>\n",
       "      <td>1.063251</td>\n",
       "      <td>1.118284</td>\n",
       "      <td>1.120864</td>\n",
       "      <td>0.981948</td>\n",
       "      <td>0.973554</td>\n",
       "      <td>1.117418</td>\n",
       "    </tr>\n",
       "    <tr>\n",
       "      <th>wine</th>\n",
       "      <td>1.0</td>\n",
       "      <td>1.000660</td>\n",
       "      <td>0.981003</td>\n",
       "      <td>1.000660</td>\n",
       "      <td>1.038868</td>\n",
       "      <td>0.980256</td>\n",
       "      <td>1.038868</td>\n",
       "      <td>0.961004</td>\n",
       "      <td>0.961004</td>\n",
       "      <td>0.961004</td>\n",
       "      <td>0.981153</td>\n",
       "      <td>0.961879</td>\n",
       "    </tr>\n",
       "  </tbody>\n",
       "</table>\n",
       "</div>"
      ],
      "text/plain": [
       "               DictRam {}  \\\n",
       "breast_cancer         1.0   \n",
       "glass                 1.0   \n",
       "iris                  1.0   \n",
       "letter                1.0   \n",
       "mnist                 1.0   \n",
       "motion_sense          1.0   \n",
       "satimage              1.0   \n",
       "vehicle               1.0   \n",
       "wine                  1.0   \n",
       "\n",
       "               count-bloom {\"est_elements\": 100, \"false_positive_rate\": 0.02}  \\\n",
       "breast_cancer                                           1.011882                \n",
       "glass                                                   1.003155                \n",
       "iris                                                    1.000000                \n",
       "letter                                                  0.990913                \n",
       "mnist                                                   1.001253                \n",
       "motion_sense                                            0.987127                \n",
       "satimage                                                1.001291                \n",
       "vehicle                                                 1.080800                \n",
       "wine                                                    1.000660                \n",
       "\n",
       "               count-bloom {\"est_elements\": 100, \"false_positive_rate\": 0.05}  \\\n",
       "breast_cancer                                           0.993383                \n",
       "glass                                                   1.039505                \n",
       "iris                                                    1.000000                \n",
       "letter                                                  0.992477                \n",
       "mnist                                                   1.000044                \n",
       "motion_sense                                            0.994230                \n",
       "satimage                                                1.003490                \n",
       "vehicle                                                 1.080800                \n",
       "wine                                                    0.981003                \n",
       "\n",
       "               count-bloom {\"est_elements\": 100, \"false_positive_rate\": 0.08}  \\\n",
       "breast_cancer                                           0.999476                \n",
       "glass                                                   1.046843                \n",
       "iris                                                    1.023442                \n",
       "letter                                                  0.999775                \n",
       "mnist                                                   0.999044                \n",
       "motion_sense                                            0.997931                \n",
       "satimage                                                1.001640                \n",
       "vehicle                                                 1.133835                \n",
       "wine                                                    1.000660                \n",
       "\n",
       "               count-min-sketch {\"width\": 100, \"depth\": 3}  \\\n",
       "breast_cancer                                     0.999264   \n",
       "glass                                             1.051983   \n",
       "iris                                              1.046729   \n",
       "letter                                            1.000607   \n",
       "mnist                                             0.995224   \n",
       "motion_sense                                      0.993908   \n",
       "satimage                                          0.999394   \n",
       "vehicle                                           1.075592   \n",
       "wine                                              1.038868   \n",
       "\n",
       "               count-min-sketch {\"width\": 100, \"depth\": 5}  \\\n",
       "breast_cancer                                     1.012032   \n",
       "glass                                             1.070902   \n",
       "iris                                              1.046729   \n",
       "letter                                            0.995230   \n",
       "mnist                                             0.998697   \n",
       "motion_sense                                      0.970239   \n",
       "satimage                                          0.993321   \n",
       "vehicle                                           1.079648   \n",
       "wine                                              0.980256   \n",
       "\n",
       "               count-min-sketch {\"width\": 20, \"depth\": 2}  \\\n",
       "breast_cancer                                    0.987520   \n",
       "glass                                            1.002355   \n",
       "iris                                             1.000208   \n",
       "letter                                           0.850384   \n",
       "mnist                                            0.907175   \n",
       "motion_sense                                     0.696629   \n",
       "satimage                                         0.957823   \n",
       "vehicle                                          1.063251   \n",
       "wine                                             1.038868   \n",
       "\n",
       "               count-min-sketch {\"width\": 20, \"depth\": 3}  \\\n",
       "breast_cancer                                    0.975622   \n",
       "glass                                            1.006372   \n",
       "iris                                             1.000208   \n",
       "letter                                           0.908937   \n",
       "mnist                                            0.918543   \n",
       "motion_sense                                     0.660171   \n",
       "satimage                                         0.966275   \n",
       "vehicle                                          1.118284   \n",
       "wine                                             0.961004   \n",
       "\n",
       "               count-min-sketch {\"width\": 50, \"depth\": 2}  \\\n",
       "breast_cancer                                    0.969388   \n",
       "glass                                            1.000554   \n",
       "iris                                             1.000208   \n",
       "letter                                           0.962972   \n",
       "mnist                                            0.976026   \n",
       "motion_sense                                     0.986759   \n",
       "satimage                                         0.994027   \n",
       "vehicle                                          1.120864   \n",
       "wine                                             0.961004   \n",
       "\n",
       "               count-min-sketch {\"width\": 50, \"depth\": 3}  \\\n",
       "breast_cancer                                    0.993771   \n",
       "glass                                            1.036606   \n",
       "iris                                             1.000208   \n",
       "letter                                           0.971739   \n",
       "mnist                                            0.982934   \n",
       "motion_sense                                     0.949648   \n",
       "satimage                                         1.006444   \n",
       "vehicle                                          0.981948   \n",
       "wine                                             0.961004   \n",
       "\n",
       "               count-min-sketch {\"width\": 500, \"depth\": 3}  \\\n",
       "breast_cancer                                     0.993383   \n",
       "glass                                             1.081003   \n",
       "iris                                              1.023442   \n",
       "letter                                            0.982910   \n",
       "mnist                                             0.999895   \n",
       "motion_sense                                      0.991756   \n",
       "satimage                                          1.000878   \n",
       "vehicle                                           0.973554   \n",
       "wine                                              0.981153   \n",
       "\n",
       "               count-min-sketch {\"width\": 500, \"depth\": 5}  \n",
       "breast_cancer                                     1.018383  \n",
       "glass                                             1.070902  \n",
       "iris                                              1.046729  \n",
       "letter                                            0.998250  \n",
       "mnist                                             0.997876  \n",
       "motion_sense                                      0.981736  \n",
       "satimage                                          1.006498  \n",
       "vehicle                                           1.117418  \n",
       "wine                                              0.961879  "
      ]
     },
     "execution_count": 29,
     "metadata": {},
     "output_type": "execute_result"
    }
   ],
   "source": [
    "d = get_best(df, metric=None, improvement_col=\"DictRam {}\")\n",
    "d"
   ]
  },
  {
   "cell_type": "code",
   "execution_count": 69,
   "id": "849c24b6",
   "metadata": {},
   "outputs": [
    {
     "data": {
      "application/vnd.plotly.v1+json": {
       "config": {
        "plotlyServerURL": "https://plot.ly"
       },
       "data": [
        {
         "coloraxis": "coloraxis",
         "hovertemplate": "x: %{x}<br>y: %{y}<br>color: %{z}<extra></extra>",
         "name": "0",
         "texttemplate": "%{z:.2f}",
         "type": "heatmap",
         "x": [
          "DictRam {}",
          "count-bloom {\"est_elements\": 100, \"false_positive_rate\": 0.02}",
          "count-bloom {\"est_elements\": 100, \"false_positive_rate\": 0.05}",
          "count-bloom {\"est_elements\": 100, \"false_positive_rate\": 0.08}",
          "count-cuckoo {\"capacity\": 100, \"bucket_size\": 2}",
          "count-cuckoo {\"capacity\": 100, \"bucket_size\": 4}",
          "count-cuckoo {\"capacity\": 1000, \"bucket_size\": 2}",
          "count-cuckoo {\"capacity\": 1000, \"bucket_size\": 4}",
          "count-cuckoo {\"capacity\": 500, \"bucket_size\": 2}",
          "count-cuckoo {\"capacity\": 500, \"bucket_size\": 4}",
          "count-min-sketch {\"width\": 100, \"depth\": 3}",
          "count-min-sketch {\"width\": 100, \"depth\": 5}",
          "count-min-sketch {\"width\": 20, \"depth\": 2}",
          "count-min-sketch {\"width\": 20, \"depth\": 3}",
          "count-min-sketch {\"width\": 50, \"depth\": 2}",
          "count-min-sketch {\"width\": 50, \"depth\": 3}",
          "count-min-sketch {\"width\": 500, \"depth\": 3}",
          "count-min-sketch {\"width\": 500, \"depth\": 5}",
          "heavy-hitters {\"num_hitters\": 10, \"width\": 50, \"depth\": 2}",
          "heavy-hitters {\"num_hitters\": 10, \"width\": 50, \"depth\": 3}",
          "heavy-hitters {\"num_hitters\": 100, \"width\": 1000, \"depth\": 3}",
          "heavy-hitters {\"num_hitters\": 100, \"width\": 1000, \"depth\": 5}",
          "heavy-hitters {\"num_hitters\": 50, \"width\": 100, \"depth\": 3}",
          "heavy-hitters {\"num_hitters\": 50, \"width\": 100, \"depth\": 5}",
          "heavy-hitters {\"num_hitters\": 50, \"width\": 20, \"depth\": 2}",
          "heavy-hitters {\"num_hitters\": 50, \"width\": 20, \"depth\": 3}",
          "stream-threshold {\"threshold\": 100, \"width\": 1000, \"depth\": 3}",
          "stream-threshold {\"threshold\": 100, \"width\": 1000, \"depth\": 5}",
          "stream-threshold {\"threshold\": 100, \"width\": 250, \"depth\": 3}",
          "stream-threshold {\"threshold\": 100, \"width\": 250, \"depth\": 5}",
          "stream-threshold {\"threshold\": 50, \"width\": 100, \"depth\": 2}",
          "stream-threshold {\"threshold\": 50, \"width\": 100, \"depth\": 3}",
          "stream-threshold {\"threshold\": 50, \"width\": 1000, \"depth\": 3}",
          "stream-threshold {\"threshold\": 50, \"width\": 1000, \"depth\": 5}",
          "stream-threshold {\"threshold\": 50, \"width\": 250, \"depth\": 3}",
          "stream-threshold {\"threshold\": 50, \"width\": 250, \"depth\": 5}"
         ],
         "xaxis": "x",
         "y": [
          "breast_cancer",
          "glass",
          "iris",
          "letter",
          "mnist",
          "motion_sense",
          "satimage",
          "vehicle",
          "wine"
         ],
         "yaxis": "y",
         "z": [
          [
           1,
           20.551378446115287,
           15.764411027568922,
           13.308270676691729,
           10.075187969924812,
           20.100250626566417,
           100.30075187969925,
           200.55137844611528,
           50.175438596491226,
           100.30075187969925,
           7.619047619047619,
           12.631578947368421,
           1.1027568922305764,
           1.6040100250626566,
           2.606516290726817,
           3.8596491228070176,
           37.69423558897243,
           62.75689223057644,
           2.606516290726817,
           3.8596491228070176,
           75.28822055137844,
           125.41353383458646,
           7.619047619047619,
           12.631578947368421,
           1.1027568922305764,
           1.6040100250626566,
           75.28822055137844,
           125.41353383458646,
           18.897243107769423,
           31.428571428571427,
           5.112781954887218,
           7.619047619047619,
           75.28822055137844,
           125.41353383458646,
           18.897243107769423,
           31.428571428571427
          ],
          [
           1,
           14.278113663845224,
           10.95235792019347,
           24.655864570737606,
           6.999758162031439,
           13.964691656590084,
           69.68415961305925,
           371.5559854897219,
           34.85949214026602,
           185.82442563482468,
           5.293349455864571,
           8.775816203143894,
           2.043047158403869,
           2.9717049576783556,
           4.829020556227328,
           7.150665054413543,
           69.83506650544136,
           43.60048367593712,
           1.810882708585248,
           7.150665054413543,
           139.48440145102782,
           87.13131801692866,
           14.115598548972189,
           23.40217654171705,
           0.7661426844014511,
           1.1143893591293834,
           139.48440145102782,
           232.3501813784764,
           35.010399032648124,
           21.835066505441354,
           9.472309552599759,
           14.115598548972189,
           139.48440145102782,
           232.3501813784764,
           35.010399032648124,
           58.22684401451028
          ],
          [
           1,
           45.85274930102516,
           35.172413793103445,
           29.69245107176142,
           22.479030754892825,
           44.846225535880706,
           223.78378378378378,
           447.4557315936626,
           111.94780987884437,
           223.78378378378378,
           16.99906803355079,
           28.182665424044735,
           2.4603914259086674,
           3.5787511649580614,
           5.81547064305685,
           8.611369990680336,
           84.10065237651445,
           140.01863932898416,
           5.81547064305685,
           8.611369990680336,
           167.977632805219,
           279.8136067101584,
           16.99906803355079,
           28.182665424044735,
           2.4603914259086674,
           3.5787511649580614,
           167.977632805219,
           279.8136067101584,
           42.16216216216216,
           70.12115563839701,
           11.407269338303822,
           16.99906803355079,
           167.977632805219,
           279.8136067101584,
           42.16216216216216,
           70.12115563839701
          ],
          [
           1,
           9.047255945947738,
           6.939907304879424,
           5.858649886949084,
           4.435362061306086,
           8.848657644695226,
           44.15502231180835,
           88.28797814569975,
           22.088544394862648,
           44.15502231180835,
           3.354104643375747,
           5.560752435070317,
           0.48546251417280545,
           0.7061272933422624,
           1.1474568516811765,
           1.6991187996048192,
           16.593991393543167,
           27.62723035201602,
           1.1474568516811765,
           1.6991187996048192,
           33.143849831252446,
           55.21032774819815,
           3.354104643375747,
           5.560752435070317,
           0.48546251417280545,
           0.7061272933422624,
           33.143849831252446,
           55.21032774819815,
           8.31906217468853,
           13.835681653924956,
           2.2507807475284616,
           3.354104643375747,
           33.143849831252446,
           55.21032774819815,
           8.31906217468853,
           13.835681653924956
          ],
          [
           1,
           2.8651675878807974,
           2.197793186313441,
           1.8553707184935408,
           1.8392550421654905,
           2.878217007208378,
           13.983415471584086,
           27.959842729539197,
           7.005898087957008,
           13.983415471584086,
           1.0622084716045883,
           1.7610298345023438,
           0.1537406998375062,
           0.22362283612728176,
           0.36338710870683283,
           0.5380924494312718,
           5.2551366489911215,
           8.749243463479898,
           0.36338710870683283,
           0.5380924494312718,
           10.496296870724287,
           17.48451049970184,
           1.0622084716045883,
           1.7610298345023438,
           0.1537406998375062,
           0.22362283612728176,
           10.496296870724287,
           17.48451049970184,
           2.634556538124538,
           4.381609945368927,
           0.7127977901557105,
           1.0622084716045883,
           10.496296870724287,
           17.48451049970184,
           2.634556538124538,
           4.381609945368927
          ],
          [
           1,
           4.890642559524632,
           3.7514806950499917,
           3.166989267204365,
           2.504742365964309,
           4.783286991144823,
           23.86872136977753,
           47.72551434306841,
           11.940324883132087,
           23.86872136977753,
           1.8131162659701072,
           3.0059559146346513,
           0.2624247227061997,
           0.38170868757265414,
           0.620276617305563,
           0.9184865294716991,
           8.970154157957372,
           14.934352401280094,
           0.620276617305563,
           0.9184865294716991,
           17.916451522941454,
           29.844848009586897,
           1.8131162659701072,
           3.0059559146346513,
           0.2624247227061997,
           0.38170868757265414,
           17.916451522941454,
           29.844848009586897,
           4.497005475465332,
           7.4791045971266925,
           1.2166964416378352,
           1.8131162659701072,
           17.916451522941454,
           29.844848009586897,
           4.497005475465332,
           7.4791045971266925
          ],
          [
           1,
           6.547208694125366,
           5.0221881324449456,
           4.2397168494885,
           3.209729140290728,
           6.403489478888468,
           31.953572187670385,
           63.89117557364778,
           15.984770494681687,
           31.953572187670385,
           2.4272578573342822,
           4.0241380266331515,
           0.3513136372457514,
           0.5110016541756384,
           0.8303776880354123,
           1.2295977303601298,
           12.0085388731275,
           19.99293971962185,
           0.8303776880354123,
           1.2295977303601298,
           23.985140142869025,
           39.95394183585772,
           2.4272578573342822,
           4.0241380266331515,
           0.3513136372457514,
           0.5110016541756384,
           23.985140142869025,
           39.95394183585772,
           6.020238238256739,
           10.012438661503914,
           1.6288177726848472,
           2.4272578573342822,
           23.985140142869025,
           39.95394183585772,
           6.020238238256739,
           10.012438661503914
          ],
          [
           1,
           31.810344827586206,
           24.400862068965516,
           20.599137931034484,
           15.594827586206897,
           31.112068965517242,
           155.25,
           310.42241379310343,
           77.66379310344827,
           155.25,
           11.793103448275861,
           19.551724137931036,
           1.706896551724138,
           2.4827586206896552,
           4.0344827586206895,
           5.974137931034483,
           58.3448275862069,
           97.13793103448276,
           4.0344827586206895,
           5.974137931034483,
           116.53448275862068,
           194.1206896551724,
           11.793103448275861,
           19.551724137931036,
           1.706896551724138,
           2.4827586206896552,
           116.53448275862068,
           194.1206896551724,
           29.25,
           48.64655172413793,
           7.913793103448276,
           11.793103448275861,
           116.53448275862068,
           194.1206896551724,
           29.25,
           48.64655172413793
          ],
          [
           1,
           41.18480360592402,
           31.59175788795879,
           26.66967160334836,
           20.190598840952994,
           40.280746941403734,
           201.00193174500967,
           401.9034127495171,
           100.55119124275596,
           201.00193174500967,
           15.268512556342563,
           25.313586606567934,
           2.2099162910495815,
           3.2144236960721186,
           5.223438506117192,
           7.734707018673535,
           75.53895685769479,
           125.76432710882163,
           5.223438506117192,
           7.734707018673535,
           150.87701223438506,
           251.32775273663876,
           15.268512556342563,
           25.313586606567934,
           2.2099162910495815,
           3.2144236960721186,
           150.87701223438506,
           251.32775273663876,
           37.869929169349646,
           62.98261429491307,
           10.245975531229877,
           15.268512556342563,
           150.87701223438506,
           251.32775273663876,
           37.869929169349646,
           62.98261429491307
          ]
         ]
        }
       ],
       "layout": {
        "coloraxis": {
         "cmax": 447.4557315936626,
         "cmid": 1,
         "cmin": 0,
         "colorscale": [
          [
           0,
           "lightgreen"
          ],
          [
           0.0025,
           "lightyellow"
          ],
          [
           1,
           "red"
          ]
         ]
        },
        "font": {
         "family": "Times New Roman",
         "size": 12
        },
        "margin": {
         "b": 0,
         "l": 0,
         "r": 0,
         "t": 10
        },
        "template": {
         "data": {
          "bar": [
           {
            "error_x": {
             "color": "#2a3f5f"
            },
            "error_y": {
             "color": "#2a3f5f"
            },
            "marker": {
             "line": {
              "color": "#E5ECF6",
              "width": 0.5
             },
             "pattern": {
              "fillmode": "overlay",
              "size": 10,
              "solidity": 0.2
             }
            },
            "type": "bar"
           }
          ],
          "barpolar": [
           {
            "marker": {
             "line": {
              "color": "#E5ECF6",
              "width": 0.5
             },
             "pattern": {
              "fillmode": "overlay",
              "size": 10,
              "solidity": 0.2
             }
            },
            "type": "barpolar"
           }
          ],
          "carpet": [
           {
            "aaxis": {
             "endlinecolor": "#2a3f5f",
             "gridcolor": "white",
             "linecolor": "white",
             "minorgridcolor": "white",
             "startlinecolor": "#2a3f5f"
            },
            "baxis": {
             "endlinecolor": "#2a3f5f",
             "gridcolor": "white",
             "linecolor": "white",
             "minorgridcolor": "white",
             "startlinecolor": "#2a3f5f"
            },
            "type": "carpet"
           }
          ],
          "choropleth": [
           {
            "colorbar": {
             "outlinewidth": 0,
             "ticks": ""
            },
            "type": "choropleth"
           }
          ],
          "contour": [
           {
            "colorbar": {
             "outlinewidth": 0,
             "ticks": ""
            },
            "colorscale": [
             [
              0,
              "#0d0887"
             ],
             [
              0.1111111111111111,
              "#46039f"
             ],
             [
              0.2222222222222222,
              "#7201a8"
             ],
             [
              0.3333333333333333,
              "#9c179e"
             ],
             [
              0.4444444444444444,
              "#bd3786"
             ],
             [
              0.5555555555555556,
              "#d8576b"
             ],
             [
              0.6666666666666666,
              "#ed7953"
             ],
             [
              0.7777777777777778,
              "#fb9f3a"
             ],
             [
              0.8888888888888888,
              "#fdca26"
             ],
             [
              1,
              "#f0f921"
             ]
            ],
            "type": "contour"
           }
          ],
          "contourcarpet": [
           {
            "colorbar": {
             "outlinewidth": 0,
             "ticks": ""
            },
            "type": "contourcarpet"
           }
          ],
          "heatmap": [
           {
            "colorbar": {
             "outlinewidth": 0,
             "ticks": ""
            },
            "colorscale": [
             [
              0,
              "#0d0887"
             ],
             [
              0.1111111111111111,
              "#46039f"
             ],
             [
              0.2222222222222222,
              "#7201a8"
             ],
             [
              0.3333333333333333,
              "#9c179e"
             ],
             [
              0.4444444444444444,
              "#bd3786"
             ],
             [
              0.5555555555555556,
              "#d8576b"
             ],
             [
              0.6666666666666666,
              "#ed7953"
             ],
             [
              0.7777777777777778,
              "#fb9f3a"
             ],
             [
              0.8888888888888888,
              "#fdca26"
             ],
             [
              1,
              "#f0f921"
             ]
            ],
            "type": "heatmap"
           }
          ],
          "heatmapgl": [
           {
            "colorbar": {
             "outlinewidth": 0,
             "ticks": ""
            },
            "colorscale": [
             [
              0,
              "#0d0887"
             ],
             [
              0.1111111111111111,
              "#46039f"
             ],
             [
              0.2222222222222222,
              "#7201a8"
             ],
             [
              0.3333333333333333,
              "#9c179e"
             ],
             [
              0.4444444444444444,
              "#bd3786"
             ],
             [
              0.5555555555555556,
              "#d8576b"
             ],
             [
              0.6666666666666666,
              "#ed7953"
             ],
             [
              0.7777777777777778,
              "#fb9f3a"
             ],
             [
              0.8888888888888888,
              "#fdca26"
             ],
             [
              1,
              "#f0f921"
             ]
            ],
            "type": "heatmapgl"
           }
          ],
          "histogram": [
           {
            "marker": {
             "pattern": {
              "fillmode": "overlay",
              "size": 10,
              "solidity": 0.2
             }
            },
            "type": "histogram"
           }
          ],
          "histogram2d": [
           {
            "colorbar": {
             "outlinewidth": 0,
             "ticks": ""
            },
            "colorscale": [
             [
              0,
              "#0d0887"
             ],
             [
              0.1111111111111111,
              "#46039f"
             ],
             [
              0.2222222222222222,
              "#7201a8"
             ],
             [
              0.3333333333333333,
              "#9c179e"
             ],
             [
              0.4444444444444444,
              "#bd3786"
             ],
             [
              0.5555555555555556,
              "#d8576b"
             ],
             [
              0.6666666666666666,
              "#ed7953"
             ],
             [
              0.7777777777777778,
              "#fb9f3a"
             ],
             [
              0.8888888888888888,
              "#fdca26"
             ],
             [
              1,
              "#f0f921"
             ]
            ],
            "type": "histogram2d"
           }
          ],
          "histogram2dcontour": [
           {
            "colorbar": {
             "outlinewidth": 0,
             "ticks": ""
            },
            "colorscale": [
             [
              0,
              "#0d0887"
             ],
             [
              0.1111111111111111,
              "#46039f"
             ],
             [
              0.2222222222222222,
              "#7201a8"
             ],
             [
              0.3333333333333333,
              "#9c179e"
             ],
             [
              0.4444444444444444,
              "#bd3786"
             ],
             [
              0.5555555555555556,
              "#d8576b"
             ],
             [
              0.6666666666666666,
              "#ed7953"
             ],
             [
              0.7777777777777778,
              "#fb9f3a"
             ],
             [
              0.8888888888888888,
              "#fdca26"
             ],
             [
              1,
              "#f0f921"
             ]
            ],
            "type": "histogram2dcontour"
           }
          ],
          "mesh3d": [
           {
            "colorbar": {
             "outlinewidth": 0,
             "ticks": ""
            },
            "type": "mesh3d"
           }
          ],
          "parcoords": [
           {
            "line": {
             "colorbar": {
              "outlinewidth": 0,
              "ticks": ""
             }
            },
            "type": "parcoords"
           }
          ],
          "pie": [
           {
            "automargin": true,
            "type": "pie"
           }
          ],
          "scatter": [
           {
            "fillpattern": {
             "fillmode": "overlay",
             "size": 10,
             "solidity": 0.2
            },
            "type": "scatter"
           }
          ],
          "scatter3d": [
           {
            "line": {
             "colorbar": {
              "outlinewidth": 0,
              "ticks": ""
             }
            },
            "marker": {
             "colorbar": {
              "outlinewidth": 0,
              "ticks": ""
             }
            },
            "type": "scatter3d"
           }
          ],
          "scattercarpet": [
           {
            "marker": {
             "colorbar": {
              "outlinewidth": 0,
              "ticks": ""
             }
            },
            "type": "scattercarpet"
           }
          ],
          "scattergeo": [
           {
            "marker": {
             "colorbar": {
              "outlinewidth": 0,
              "ticks": ""
             }
            },
            "type": "scattergeo"
           }
          ],
          "scattergl": [
           {
            "marker": {
             "colorbar": {
              "outlinewidth": 0,
              "ticks": ""
             }
            },
            "type": "scattergl"
           }
          ],
          "scattermapbox": [
           {
            "marker": {
             "colorbar": {
              "outlinewidth": 0,
              "ticks": ""
             }
            },
            "type": "scattermapbox"
           }
          ],
          "scatterpolar": [
           {
            "marker": {
             "colorbar": {
              "outlinewidth": 0,
              "ticks": ""
             }
            },
            "type": "scatterpolar"
           }
          ],
          "scatterpolargl": [
           {
            "marker": {
             "colorbar": {
              "outlinewidth": 0,
              "ticks": ""
             }
            },
            "type": "scatterpolargl"
           }
          ],
          "scatterternary": [
           {
            "marker": {
             "colorbar": {
              "outlinewidth": 0,
              "ticks": ""
             }
            },
            "type": "scatterternary"
           }
          ],
          "surface": [
           {
            "colorbar": {
             "outlinewidth": 0,
             "ticks": ""
            },
            "colorscale": [
             [
              0,
              "#0d0887"
             ],
             [
              0.1111111111111111,
              "#46039f"
             ],
             [
              0.2222222222222222,
              "#7201a8"
             ],
             [
              0.3333333333333333,
              "#9c179e"
             ],
             [
              0.4444444444444444,
              "#bd3786"
             ],
             [
              0.5555555555555556,
              "#d8576b"
             ],
             [
              0.6666666666666666,
              "#ed7953"
             ],
             [
              0.7777777777777778,
              "#fb9f3a"
             ],
             [
              0.8888888888888888,
              "#fdca26"
             ],
             [
              1,
              "#f0f921"
             ]
            ],
            "type": "surface"
           }
          ],
          "table": [
           {
            "cells": {
             "fill": {
              "color": "#EBF0F8"
             },
             "line": {
              "color": "white"
             }
            },
            "header": {
             "fill": {
              "color": "#C8D4E3"
             },
             "line": {
              "color": "white"
             }
            },
            "type": "table"
           }
          ]
         },
         "layout": {
          "annotationdefaults": {
           "arrowcolor": "#2a3f5f",
           "arrowhead": 0,
           "arrowwidth": 1
          },
          "autotypenumbers": "strict",
          "coloraxis": {
           "colorbar": {
            "outlinewidth": 0,
            "ticks": ""
           }
          },
          "colorscale": {
           "diverging": [
            [
             0,
             "#8e0152"
            ],
            [
             0.1,
             "#c51b7d"
            ],
            [
             0.2,
             "#de77ae"
            ],
            [
             0.3,
             "#f1b6da"
            ],
            [
             0.4,
             "#fde0ef"
            ],
            [
             0.5,
             "#f7f7f7"
            ],
            [
             0.6,
             "#e6f5d0"
            ],
            [
             0.7,
             "#b8e186"
            ],
            [
             0.8,
             "#7fbc41"
            ],
            [
             0.9,
             "#4d9221"
            ],
            [
             1,
             "#276419"
            ]
           ],
           "sequential": [
            [
             0,
             "#0d0887"
            ],
            [
             0.1111111111111111,
             "#46039f"
            ],
            [
             0.2222222222222222,
             "#7201a8"
            ],
            [
             0.3333333333333333,
             "#9c179e"
            ],
            [
             0.4444444444444444,
             "#bd3786"
            ],
            [
             0.5555555555555556,
             "#d8576b"
            ],
            [
             0.6666666666666666,
             "#ed7953"
            ],
            [
             0.7777777777777778,
             "#fb9f3a"
            ],
            [
             0.8888888888888888,
             "#fdca26"
            ],
            [
             1,
             "#f0f921"
            ]
           ],
           "sequentialminus": [
            [
             0,
             "#0d0887"
            ],
            [
             0.1111111111111111,
             "#46039f"
            ],
            [
             0.2222222222222222,
             "#7201a8"
            ],
            [
             0.3333333333333333,
             "#9c179e"
            ],
            [
             0.4444444444444444,
             "#bd3786"
            ],
            [
             0.5555555555555556,
             "#d8576b"
            ],
            [
             0.6666666666666666,
             "#ed7953"
            ],
            [
             0.7777777777777778,
             "#fb9f3a"
            ],
            [
             0.8888888888888888,
             "#fdca26"
            ],
            [
             1,
             "#f0f921"
            ]
           ]
          },
          "colorway": [
           "#636efa",
           "#EF553B",
           "#00cc96",
           "#ab63fa",
           "#FFA15A",
           "#19d3f3",
           "#FF6692",
           "#B6E880",
           "#FF97FF",
           "#FECB52"
          ],
          "font": {
           "color": "#2a3f5f"
          },
          "geo": {
           "bgcolor": "white",
           "lakecolor": "white",
           "landcolor": "#E5ECF6",
           "showlakes": true,
           "showland": true,
           "subunitcolor": "white"
          },
          "hoverlabel": {
           "align": "left"
          },
          "hovermode": "closest",
          "mapbox": {
           "style": "light"
          },
          "paper_bgcolor": "white",
          "plot_bgcolor": "#E5ECF6",
          "polar": {
           "angularaxis": {
            "gridcolor": "white",
            "linecolor": "white",
            "ticks": ""
           },
           "bgcolor": "#E5ECF6",
           "radialaxis": {
            "gridcolor": "white",
            "linecolor": "white",
            "ticks": ""
           }
          },
          "scene": {
           "xaxis": {
            "backgroundcolor": "#E5ECF6",
            "gridcolor": "white",
            "gridwidth": 2,
            "linecolor": "white",
            "showbackground": true,
            "ticks": "",
            "zerolinecolor": "white"
           },
           "yaxis": {
            "backgroundcolor": "#E5ECF6",
            "gridcolor": "white",
            "gridwidth": 2,
            "linecolor": "white",
            "showbackground": true,
            "ticks": "",
            "zerolinecolor": "white"
           },
           "zaxis": {
            "backgroundcolor": "#E5ECF6",
            "gridcolor": "white",
            "gridwidth": 2,
            "linecolor": "white",
            "showbackground": true,
            "ticks": "",
            "zerolinecolor": "white"
           }
          },
          "shapedefaults": {
           "line": {
            "color": "#2a3f5f"
           }
          },
          "ternary": {
           "aaxis": {
            "gridcolor": "white",
            "linecolor": "white",
            "ticks": ""
           },
           "baxis": {
            "gridcolor": "white",
            "linecolor": "white",
            "ticks": ""
           },
           "bgcolor": "#E5ECF6",
           "caxis": {
            "gridcolor": "white",
            "linecolor": "white",
            "ticks": ""
           }
          },
          "title": {
           "x": 0.05
          },
          "xaxis": {
           "automargin": true,
           "gridcolor": "white",
           "linecolor": "white",
           "ticks": "",
           "title": {
            "standoff": 15
           },
           "zerolinecolor": "white",
           "zerolinewidth": 2
          },
          "yaxis": {
           "automargin": true,
           "gridcolor": "white",
           "linecolor": "white",
           "ticks": "",
           "title": {
            "standoff": 15
           },
           "zerolinecolor": "white",
           "zerolinewidth": 2
          }
         }
        },
        "xaxis": {
         "anchor": "y",
         "domain": [
          0,
          1
         ],
         "tickangle": 0,
         "tickfont": {
          "size": 12
         }
        },
        "yaxis": {
         "anchor": "x",
         "autorange": "reversed",
         "domain": [
          0,
          1
         ],
         "tickangle": 0,
         "tickfont": {
          "size": 12
         }
        }
       }
      },
      "text/html": [
       "<div>                            <div id=\"7f39e18f-a31e-4ab3-b8ba-560a5e8714c3\" class=\"plotly-graph-div\" style=\"height:525px; width:100%;\"></div>            <script type=\"text/javascript\">                require([\"plotly\"], function(Plotly) {                    window.PLOTLYENV=window.PLOTLYENV || {};                                    if (document.getElementById(\"7f39e18f-a31e-4ab3-b8ba-560a5e8714c3\")) {                    Plotly.newPlot(                        \"7f39e18f-a31e-4ab3-b8ba-560a5e8714c3\",                        [{\"coloraxis\":\"coloraxis\",\"name\":\"0\",\"texttemplate\":\"%{z:.2f}\",\"x\":[\"DictRam {}\",\"count-bloom {\\\"est_elements\\\": 100, \\\"false_positive_rate\\\": 0.02}\",\"count-bloom {\\\"est_elements\\\": 100, \\\"false_positive_rate\\\": 0.05}\",\"count-bloom {\\\"est_elements\\\": 100, \\\"false_positive_rate\\\": 0.08}\",\"count-cuckoo {\\\"capacity\\\": 100, \\\"bucket_size\\\": 2}\",\"count-cuckoo {\\\"capacity\\\": 100, \\\"bucket_size\\\": 4}\",\"count-cuckoo {\\\"capacity\\\": 1000, \\\"bucket_size\\\": 2}\",\"count-cuckoo {\\\"capacity\\\": 1000, \\\"bucket_size\\\": 4}\",\"count-cuckoo {\\\"capacity\\\": 500, \\\"bucket_size\\\": 2}\",\"count-cuckoo {\\\"capacity\\\": 500, \\\"bucket_size\\\": 4}\",\"count-min-sketch {\\\"width\\\": 100, \\\"depth\\\": 3}\",\"count-min-sketch {\\\"width\\\": 100, \\\"depth\\\": 5}\",\"count-min-sketch {\\\"width\\\": 20, \\\"depth\\\": 2}\",\"count-min-sketch {\\\"width\\\": 20, \\\"depth\\\": 3}\",\"count-min-sketch {\\\"width\\\": 50, \\\"depth\\\": 2}\",\"count-min-sketch {\\\"width\\\": 50, \\\"depth\\\": 3}\",\"count-min-sketch {\\\"width\\\": 500, \\\"depth\\\": 3}\",\"count-min-sketch {\\\"width\\\": 500, \\\"depth\\\": 5}\",\"heavy-hitters {\\\"num_hitters\\\": 10, \\\"width\\\": 50, \\\"depth\\\": 2}\",\"heavy-hitters {\\\"num_hitters\\\": 10, \\\"width\\\": 50, \\\"depth\\\": 3}\",\"heavy-hitters {\\\"num_hitters\\\": 100, \\\"width\\\": 1000, \\\"depth\\\": 3}\",\"heavy-hitters {\\\"num_hitters\\\": 100, \\\"width\\\": 1000, \\\"depth\\\": 5}\",\"heavy-hitters {\\\"num_hitters\\\": 50, \\\"width\\\": 100, \\\"depth\\\": 3}\",\"heavy-hitters {\\\"num_hitters\\\": 50, \\\"width\\\": 100, \\\"depth\\\": 5}\",\"heavy-hitters {\\\"num_hitters\\\": 50, \\\"width\\\": 20, \\\"depth\\\": 2}\",\"heavy-hitters {\\\"num_hitters\\\": 50, \\\"width\\\": 20, \\\"depth\\\": 3}\",\"stream-threshold {\\\"threshold\\\": 100, \\\"width\\\": 1000, \\\"depth\\\": 3}\",\"stream-threshold {\\\"threshold\\\": 100, \\\"width\\\": 1000, \\\"depth\\\": 5}\",\"stream-threshold {\\\"threshold\\\": 100, \\\"width\\\": 250, \\\"depth\\\": 3}\",\"stream-threshold {\\\"threshold\\\": 100, \\\"width\\\": 250, \\\"depth\\\": 5}\",\"stream-threshold {\\\"threshold\\\": 50, \\\"width\\\": 100, \\\"depth\\\": 2}\",\"stream-threshold {\\\"threshold\\\": 50, \\\"width\\\": 100, \\\"depth\\\": 3}\",\"stream-threshold {\\\"threshold\\\": 50, \\\"width\\\": 1000, \\\"depth\\\": 3}\",\"stream-threshold {\\\"threshold\\\": 50, \\\"width\\\": 1000, \\\"depth\\\": 5}\",\"stream-threshold {\\\"threshold\\\": 50, \\\"width\\\": 250, \\\"depth\\\": 3}\",\"stream-threshold {\\\"threshold\\\": 50, \\\"width\\\": 250, \\\"depth\\\": 5}\"],\"y\":[\"breast_cancer\",\"glass\",\"iris\",\"letter\",\"mnist\",\"motion_sense\",\"satimage\",\"vehicle\",\"wine\"],\"z\":[[1.0,20.551378446115287,15.764411027568922,13.308270676691729,10.075187969924812,20.100250626566417,100.30075187969925,200.55137844611528,50.175438596491226,100.30075187969925,7.619047619047619,12.631578947368421,1.1027568922305764,1.6040100250626566,2.606516290726817,3.8596491228070176,37.69423558897243,62.75689223057644,2.606516290726817,3.8596491228070176,75.28822055137844,125.41353383458646,7.619047619047619,12.631578947368421,1.1027568922305764,1.6040100250626566,75.28822055137844,125.41353383458646,18.897243107769423,31.428571428571427,5.112781954887218,7.619047619047619,75.28822055137844,125.41353383458646,18.897243107769423,31.428571428571427],[1.0,14.278113663845224,10.95235792019347,24.655864570737606,6.999758162031439,13.964691656590084,69.68415961305925,371.5559854897219,34.85949214026602,185.82442563482468,5.293349455864571,8.775816203143894,2.043047158403869,2.9717049576783556,4.829020556227328,7.150665054413543,69.83506650544136,43.60048367593712,1.810882708585248,7.150665054413543,139.48440145102782,87.13131801692866,14.115598548972189,23.40217654171705,0.7661426844014511,1.1143893591293834,139.48440145102782,232.3501813784764,35.010399032648124,21.835066505441354,9.472309552599759,14.115598548972189,139.48440145102782,232.3501813784764,35.010399032648124,58.22684401451028],[1.0,45.85274930102516,35.172413793103445,29.69245107176142,22.479030754892825,44.846225535880706,223.78378378378378,447.4557315936626,111.94780987884437,223.78378378378378,16.99906803355079,28.182665424044735,2.4603914259086674,3.5787511649580614,5.81547064305685,8.611369990680336,84.10065237651445,140.01863932898416,5.81547064305685,8.611369990680336,167.977632805219,279.8136067101584,16.99906803355079,28.182665424044735,2.4603914259086674,3.5787511649580614,167.977632805219,279.8136067101584,42.16216216216216,70.12115563839701,11.407269338303822,16.99906803355079,167.977632805219,279.8136067101584,42.16216216216216,70.12115563839701],[1.0,9.047255945947738,6.939907304879424,5.858649886949084,4.435362061306086,8.848657644695226,44.15502231180835,88.28797814569975,22.088544394862648,44.15502231180835,3.354104643375747,5.560752435070317,0.48546251417280545,0.7061272933422624,1.1474568516811765,1.6991187996048192,16.593991393543167,27.62723035201602,1.1474568516811765,1.6991187996048192,33.143849831252446,55.21032774819815,3.354104643375747,5.560752435070317,0.48546251417280545,0.7061272933422624,33.143849831252446,55.21032774819815,8.31906217468853,13.835681653924956,2.2507807475284616,3.354104643375747,33.143849831252446,55.21032774819815,8.31906217468853,13.835681653924956],[1.0,2.8651675878807974,2.197793186313441,1.8553707184935408,1.8392550421654905,2.878217007208378,13.983415471584086,27.959842729539197,7.005898087957008,13.983415471584086,1.0622084716045883,1.7610298345023438,0.1537406998375062,0.22362283612728176,0.36338710870683283,0.5380924494312718,5.2551366489911215,8.749243463479898,0.36338710870683283,0.5380924494312718,10.496296870724287,17.48451049970184,1.0622084716045883,1.7610298345023438,0.1537406998375062,0.22362283612728176,10.496296870724287,17.48451049970184,2.634556538124538,4.381609945368927,0.7127977901557105,1.0622084716045883,10.496296870724287,17.48451049970184,2.634556538124538,4.381609945368927],[1.0,4.890642559524632,3.7514806950499917,3.166989267204365,2.504742365964309,4.783286991144823,23.86872136977753,47.72551434306841,11.940324883132087,23.86872136977753,1.8131162659701072,3.0059559146346513,0.2624247227061997,0.38170868757265414,0.620276617305563,0.9184865294716991,8.970154157957372,14.934352401280094,0.620276617305563,0.9184865294716991,17.916451522941454,29.844848009586897,1.8131162659701072,3.0059559146346513,0.2624247227061997,0.38170868757265414,17.916451522941454,29.844848009586897,4.497005475465332,7.4791045971266925,1.2166964416378352,1.8131162659701072,17.916451522941454,29.844848009586897,4.497005475465332,7.4791045971266925],[1.0,6.547208694125366,5.0221881324449456,4.2397168494885,3.209729140290728,6.403489478888468,31.953572187670385,63.89117557364778,15.984770494681687,31.953572187670385,2.4272578573342822,4.0241380266331515,0.3513136372457514,0.5110016541756384,0.8303776880354123,1.2295977303601298,12.0085388731275,19.99293971962185,0.8303776880354123,1.2295977303601298,23.985140142869025,39.95394183585772,2.4272578573342822,4.0241380266331515,0.3513136372457514,0.5110016541756384,23.985140142869025,39.95394183585772,6.020238238256739,10.012438661503914,1.6288177726848472,2.4272578573342822,23.985140142869025,39.95394183585772,6.020238238256739,10.012438661503914],[1.0,31.810344827586206,24.400862068965516,20.599137931034484,15.594827586206897,31.112068965517242,155.25,310.42241379310343,77.66379310344827,155.25,11.793103448275861,19.551724137931036,1.706896551724138,2.4827586206896552,4.0344827586206895,5.974137931034483,58.3448275862069,97.13793103448276,4.0344827586206895,5.974137931034483,116.53448275862068,194.1206896551724,11.793103448275861,19.551724137931036,1.706896551724138,2.4827586206896552,116.53448275862068,194.1206896551724,29.25,48.64655172413793,7.913793103448276,11.793103448275861,116.53448275862068,194.1206896551724,29.25,48.64655172413793],[1.0,41.18480360592402,31.59175788795879,26.66967160334836,20.190598840952994,40.280746941403734,201.00193174500967,401.9034127495171,100.55119124275596,201.00193174500967,15.268512556342563,25.313586606567934,2.2099162910495815,3.2144236960721186,5.223438506117192,7.734707018673535,75.53895685769479,125.76432710882163,5.223438506117192,7.734707018673535,150.87701223438506,251.32775273663876,15.268512556342563,25.313586606567934,2.2099162910495815,3.2144236960721186,150.87701223438506,251.32775273663876,37.869929169349646,62.98261429491307,10.245975531229877,15.268512556342563,150.87701223438506,251.32775273663876,37.869929169349646,62.98261429491307]],\"type\":\"heatmap\",\"xaxis\":\"x\",\"yaxis\":\"y\",\"hovertemplate\":\"x: %{x}\\u003cbr\\u003ey: %{y}\\u003cbr\\u003ecolor: %{z}\\u003cextra\\u003e\\u003c\\u002fextra\\u003e\"}],                        {\"template\":{\"data\":{\"histogram2dcontour\":[{\"type\":\"histogram2dcontour\",\"colorbar\":{\"outlinewidth\":0,\"ticks\":\"\"},\"colorscale\":[[0.0,\"#0d0887\"],[0.1111111111111111,\"#46039f\"],[0.2222222222222222,\"#7201a8\"],[0.3333333333333333,\"#9c179e\"],[0.4444444444444444,\"#bd3786\"],[0.5555555555555556,\"#d8576b\"],[0.6666666666666666,\"#ed7953\"],[0.7777777777777778,\"#fb9f3a\"],[0.8888888888888888,\"#fdca26\"],[1.0,\"#f0f921\"]]}],\"choropleth\":[{\"type\":\"choropleth\",\"colorbar\":{\"outlinewidth\":0,\"ticks\":\"\"}}],\"histogram2d\":[{\"type\":\"histogram2d\",\"colorbar\":{\"outlinewidth\":0,\"ticks\":\"\"},\"colorscale\":[[0.0,\"#0d0887\"],[0.1111111111111111,\"#46039f\"],[0.2222222222222222,\"#7201a8\"],[0.3333333333333333,\"#9c179e\"],[0.4444444444444444,\"#bd3786\"],[0.5555555555555556,\"#d8576b\"],[0.6666666666666666,\"#ed7953\"],[0.7777777777777778,\"#fb9f3a\"],[0.8888888888888888,\"#fdca26\"],[1.0,\"#f0f921\"]]}],\"heatmap\":[{\"type\":\"heatmap\",\"colorbar\":{\"outlinewidth\":0,\"ticks\":\"\"},\"colorscale\":[[0.0,\"#0d0887\"],[0.1111111111111111,\"#46039f\"],[0.2222222222222222,\"#7201a8\"],[0.3333333333333333,\"#9c179e\"],[0.4444444444444444,\"#bd3786\"],[0.5555555555555556,\"#d8576b\"],[0.6666666666666666,\"#ed7953\"],[0.7777777777777778,\"#fb9f3a\"],[0.8888888888888888,\"#fdca26\"],[1.0,\"#f0f921\"]]}],\"heatmapgl\":[{\"type\":\"heatmapgl\",\"colorbar\":{\"outlinewidth\":0,\"ticks\":\"\"},\"colorscale\":[[0.0,\"#0d0887\"],[0.1111111111111111,\"#46039f\"],[0.2222222222222222,\"#7201a8\"],[0.3333333333333333,\"#9c179e\"],[0.4444444444444444,\"#bd3786\"],[0.5555555555555556,\"#d8576b\"],[0.6666666666666666,\"#ed7953\"],[0.7777777777777778,\"#fb9f3a\"],[0.8888888888888888,\"#fdca26\"],[1.0,\"#f0f921\"]]}],\"contourcarpet\":[{\"type\":\"contourcarpet\",\"colorbar\":{\"outlinewidth\":0,\"ticks\":\"\"}}],\"contour\":[{\"type\":\"contour\",\"colorbar\":{\"outlinewidth\":0,\"ticks\":\"\"},\"colorscale\":[[0.0,\"#0d0887\"],[0.1111111111111111,\"#46039f\"],[0.2222222222222222,\"#7201a8\"],[0.3333333333333333,\"#9c179e\"],[0.4444444444444444,\"#bd3786\"],[0.5555555555555556,\"#d8576b\"],[0.6666666666666666,\"#ed7953\"],[0.7777777777777778,\"#fb9f3a\"],[0.8888888888888888,\"#fdca26\"],[1.0,\"#f0f921\"]]}],\"surface\":[{\"type\":\"surface\",\"colorbar\":{\"outlinewidth\":0,\"ticks\":\"\"},\"colorscale\":[[0.0,\"#0d0887\"],[0.1111111111111111,\"#46039f\"],[0.2222222222222222,\"#7201a8\"],[0.3333333333333333,\"#9c179e\"],[0.4444444444444444,\"#bd3786\"],[0.5555555555555556,\"#d8576b\"],[0.6666666666666666,\"#ed7953\"],[0.7777777777777778,\"#fb9f3a\"],[0.8888888888888888,\"#fdca26\"],[1.0,\"#f0f921\"]]}],\"mesh3d\":[{\"type\":\"mesh3d\",\"colorbar\":{\"outlinewidth\":0,\"ticks\":\"\"}}],\"scatter\":[{\"fillpattern\":{\"fillmode\":\"overlay\",\"size\":10,\"solidity\":0.2},\"type\":\"scatter\"}],\"parcoords\":[{\"type\":\"parcoords\",\"line\":{\"colorbar\":{\"outlinewidth\":0,\"ticks\":\"\"}}}],\"scatterpolargl\":[{\"type\":\"scatterpolargl\",\"marker\":{\"colorbar\":{\"outlinewidth\":0,\"ticks\":\"\"}}}],\"bar\":[{\"error_x\":{\"color\":\"#2a3f5f\"},\"error_y\":{\"color\":\"#2a3f5f\"},\"marker\":{\"line\":{\"color\":\"#E5ECF6\",\"width\":0.5},\"pattern\":{\"fillmode\":\"overlay\",\"size\":10,\"solidity\":0.2}},\"type\":\"bar\"}],\"scattergeo\":[{\"type\":\"scattergeo\",\"marker\":{\"colorbar\":{\"outlinewidth\":0,\"ticks\":\"\"}}}],\"scatterpolar\":[{\"type\":\"scatterpolar\",\"marker\":{\"colorbar\":{\"outlinewidth\":0,\"ticks\":\"\"}}}],\"histogram\":[{\"marker\":{\"pattern\":{\"fillmode\":\"overlay\",\"size\":10,\"solidity\":0.2}},\"type\":\"histogram\"}],\"scattergl\":[{\"type\":\"scattergl\",\"marker\":{\"colorbar\":{\"outlinewidth\":0,\"ticks\":\"\"}}}],\"scatter3d\":[{\"type\":\"scatter3d\",\"line\":{\"colorbar\":{\"outlinewidth\":0,\"ticks\":\"\"}},\"marker\":{\"colorbar\":{\"outlinewidth\":0,\"ticks\":\"\"}}}],\"scattermapbox\":[{\"type\":\"scattermapbox\",\"marker\":{\"colorbar\":{\"outlinewidth\":0,\"ticks\":\"\"}}}],\"scatterternary\":[{\"type\":\"scatterternary\",\"marker\":{\"colorbar\":{\"outlinewidth\":0,\"ticks\":\"\"}}}],\"scattercarpet\":[{\"type\":\"scattercarpet\",\"marker\":{\"colorbar\":{\"outlinewidth\":0,\"ticks\":\"\"}}}],\"carpet\":[{\"aaxis\":{\"endlinecolor\":\"#2a3f5f\",\"gridcolor\":\"white\",\"linecolor\":\"white\",\"minorgridcolor\":\"white\",\"startlinecolor\":\"#2a3f5f\"},\"baxis\":{\"endlinecolor\":\"#2a3f5f\",\"gridcolor\":\"white\",\"linecolor\":\"white\",\"minorgridcolor\":\"white\",\"startlinecolor\":\"#2a3f5f\"},\"type\":\"carpet\"}],\"table\":[{\"cells\":{\"fill\":{\"color\":\"#EBF0F8\"},\"line\":{\"color\":\"white\"}},\"header\":{\"fill\":{\"color\":\"#C8D4E3\"},\"line\":{\"color\":\"white\"}},\"type\":\"table\"}],\"barpolar\":[{\"marker\":{\"line\":{\"color\":\"#E5ECF6\",\"width\":0.5},\"pattern\":{\"fillmode\":\"overlay\",\"size\":10,\"solidity\":0.2}},\"type\":\"barpolar\"}],\"pie\":[{\"automargin\":true,\"type\":\"pie\"}]},\"layout\":{\"autotypenumbers\":\"strict\",\"colorway\":[\"#636efa\",\"#EF553B\",\"#00cc96\",\"#ab63fa\",\"#FFA15A\",\"#19d3f3\",\"#FF6692\",\"#B6E880\",\"#FF97FF\",\"#FECB52\"],\"font\":{\"color\":\"#2a3f5f\"},\"hovermode\":\"closest\",\"hoverlabel\":{\"align\":\"left\"},\"paper_bgcolor\":\"white\",\"plot_bgcolor\":\"#E5ECF6\",\"polar\":{\"bgcolor\":\"#E5ECF6\",\"angularaxis\":{\"gridcolor\":\"white\",\"linecolor\":\"white\",\"ticks\":\"\"},\"radialaxis\":{\"gridcolor\":\"white\",\"linecolor\":\"white\",\"ticks\":\"\"}},\"ternary\":{\"bgcolor\":\"#E5ECF6\",\"aaxis\":{\"gridcolor\":\"white\",\"linecolor\":\"white\",\"ticks\":\"\"},\"baxis\":{\"gridcolor\":\"white\",\"linecolor\":\"white\",\"ticks\":\"\"},\"caxis\":{\"gridcolor\":\"white\",\"linecolor\":\"white\",\"ticks\":\"\"}},\"coloraxis\":{\"colorbar\":{\"outlinewidth\":0,\"ticks\":\"\"}},\"colorscale\":{\"sequential\":[[0.0,\"#0d0887\"],[0.1111111111111111,\"#46039f\"],[0.2222222222222222,\"#7201a8\"],[0.3333333333333333,\"#9c179e\"],[0.4444444444444444,\"#bd3786\"],[0.5555555555555556,\"#d8576b\"],[0.6666666666666666,\"#ed7953\"],[0.7777777777777778,\"#fb9f3a\"],[0.8888888888888888,\"#fdca26\"],[1.0,\"#f0f921\"]],\"sequentialminus\":[[0.0,\"#0d0887\"],[0.1111111111111111,\"#46039f\"],[0.2222222222222222,\"#7201a8\"],[0.3333333333333333,\"#9c179e\"],[0.4444444444444444,\"#bd3786\"],[0.5555555555555556,\"#d8576b\"],[0.6666666666666666,\"#ed7953\"],[0.7777777777777778,\"#fb9f3a\"],[0.8888888888888888,\"#fdca26\"],[1.0,\"#f0f921\"]],\"diverging\":[[0,\"#8e0152\"],[0.1,\"#c51b7d\"],[0.2,\"#de77ae\"],[0.3,\"#f1b6da\"],[0.4,\"#fde0ef\"],[0.5,\"#f7f7f7\"],[0.6,\"#e6f5d0\"],[0.7,\"#b8e186\"],[0.8,\"#7fbc41\"],[0.9,\"#4d9221\"],[1,\"#276419\"]]},\"xaxis\":{\"gridcolor\":\"white\",\"linecolor\":\"white\",\"ticks\":\"\",\"title\":{\"standoff\":15},\"zerolinecolor\":\"white\",\"automargin\":true,\"zerolinewidth\":2},\"yaxis\":{\"gridcolor\":\"white\",\"linecolor\":\"white\",\"ticks\":\"\",\"title\":{\"standoff\":15},\"zerolinecolor\":\"white\",\"automargin\":true,\"zerolinewidth\":2},\"scene\":{\"xaxis\":{\"backgroundcolor\":\"#E5ECF6\",\"gridcolor\":\"white\",\"linecolor\":\"white\",\"showbackground\":true,\"ticks\":\"\",\"zerolinecolor\":\"white\",\"gridwidth\":2},\"yaxis\":{\"backgroundcolor\":\"#E5ECF6\",\"gridcolor\":\"white\",\"linecolor\":\"white\",\"showbackground\":true,\"ticks\":\"\",\"zerolinecolor\":\"white\",\"gridwidth\":2},\"zaxis\":{\"backgroundcolor\":\"#E5ECF6\",\"gridcolor\":\"white\",\"linecolor\":\"white\",\"showbackground\":true,\"ticks\":\"\",\"zerolinecolor\":\"white\",\"gridwidth\":2}},\"shapedefaults\":{\"line\":{\"color\":\"#2a3f5f\"}},\"annotationdefaults\":{\"arrowcolor\":\"#2a3f5f\",\"arrowhead\":0,\"arrowwidth\":1},\"geo\":{\"bgcolor\":\"white\",\"landcolor\":\"#E5ECF6\",\"subunitcolor\":\"white\",\"showland\":true,\"showlakes\":true,\"lakecolor\":\"white\"},\"title\":{\"x\":0.05},\"mapbox\":{\"style\":\"light\"}}},\"xaxis\":{\"anchor\":\"y\",\"domain\":[0.0,1.0],\"tickfont\":{\"size\":12},\"tickangle\":0},\"yaxis\":{\"anchor\":\"x\",\"domain\":[0.0,1.0],\"autorange\":\"reversed\",\"tickfont\":{\"size\":12},\"tickangle\":0},\"coloraxis\":{\"colorscale\":[[0.0,\"lightgreen\"],[0.0025,\"lightyellow\"],[1.0,\"red\"]],\"cmid\":1.0,\"cmin\":0,\"cmax\":447.4557315936626},\"margin\":{\"t\":10,\"l\":0,\"r\":0,\"b\":0},\"font\":{\"family\":\"Times New Roman\",\"size\":12}},                        {\"responsive\": true}                    ).then(function(){\n",
       "                            \n",
       "var gd = document.getElementById('7f39e18f-a31e-4ab3-b8ba-560a5e8714c3');\n",
       "var x = new MutationObserver(function (mutations, observer) {{\n",
       "        var display = window.getComputedStyle(gd).display;\n",
       "        if (!display || display === 'none') {{\n",
       "            console.log([gd, 'removed!']);\n",
       "            Plotly.purge(gd);\n",
       "            observer.disconnect();\n",
       "        }}\n",
       "}});\n",
       "\n",
       "// Listen for the removal of the full notebook cells\n",
       "var notebookContainer = gd.closest('#notebook-container');\n",
       "if (notebookContainer) {{\n",
       "    x.observe(notebookContainer, {childList: true});\n",
       "}}\n",
       "\n",
       "// Listen for the clearing of the current output cell\n",
       "var outputEl = gd.closest('.output');\n",
       "if (outputEl) {{\n",
       "    x.observe(outputEl, {childList: true});\n",
       "}}\n",
       "\n",
       "                        })                };                });            </script>        </div>"
      ]
     },
     "metadata": {},
     "output_type": "display_data"
    }
   ],
   "source": [
    "d = get_best(df, metric=\"model size\", valid_configs=None)\n",
    "# d = do_rename_and_reorder(d, remove_dict=False)\n",
    "# d[\"max\"] = d.max(axis=1)\n",
    "# d[\"average\"] = d.mean(axis=1)\n",
    "# d[\"min\"] = d.min(axis=1)\n",
    "\n",
    "d = d\n",
    "\n",
    "fig = px.imshow(\n",
    "    d,\n",
    "    text_auto=\".2f\",\n",
    "    aspect=\"auto\",\n",
    "    # color_continuous_scale='RdBu_r',\n",
    "    color_continuous_scale=[(0.0, \"lightgreen\"), (0.0025, \"lightyellow\"), (1.0, \"red\")],\n",
    "    color_continuous_midpoint=1.0,\n",
    "    # zmax=2,\n",
    "    zmin=0,\n",
    ")\n",
    "\n",
    "# fig.update_xaxes(side=\"top\")\n",
    "fig.update_layout(\n",
    "    # xaxis_title=\"Filter\",\n",
    "    # yaxis_title=\"Dataset\",\n",
    "    # width=1000,\n",
    "    # height=200,\n",
    "    font_family=\"Times New Roman\", \n",
    "    font_size=12, \n",
    "    margin=dict(l=0, r=0, t=10, b=0),\n",
    "    xaxis=dict(tickangle=0, tickfont = dict(size=12)),\n",
    "    yaxis=dict(tickangle=0, tickfont = dict(size=12))\n",
    ")\n",
    "\n",
    "# write_figure(\"size_improvement.pdf\", fig)\n",
    "\n",
    "fig.show()"
   ]
  },
  {
   "cell_type": "code",
   "execution_count": 61,
   "id": "642c8d17",
   "metadata": {},
   "outputs": [
    {
     "data": {
      "application/vnd.plotly.v1+json": {
       "config": {
        "plotlyServerURL": "https://plot.ly"
       },
       "data": [
        {
         "marker": {
          "color": "#636EFA"
         },
         "name": "breast_cancer",
         "type": "bar",
         "x": [
          "DictRam {}",
          "count-bloom {\"est_elements\": 100, \"false_positive_rate\": 0.02}",
          "count-bloom {\"est_elements\": 100, \"false_positive_rate\": 0.05}",
          "count-bloom {\"est_elements\": 100, \"false_positive_rate\": 0.08}",
          "count-cuckoo {\"capacity\": 100, \"bucket_size\": 2}",
          "count-cuckoo {\"capacity\": 100, \"bucket_size\": 4}",
          "count-cuckoo {\"capacity\": 1000, \"bucket_size\": 2}",
          "count-cuckoo {\"capacity\": 1000, \"bucket_size\": 4}",
          "count-cuckoo {\"capacity\": 500, \"bucket_size\": 2}",
          "count-cuckoo {\"capacity\": 500, \"bucket_size\": 4}",
          "count-min-sketch {\"width\": 100, \"depth\": 3}",
          "count-min-sketch {\"width\": 100, \"depth\": 5}",
          "count-min-sketch {\"width\": 20, \"depth\": 2}",
          "count-min-sketch {\"width\": 20, \"depth\": 3}",
          "count-min-sketch {\"width\": 50, \"depth\": 2}",
          "count-min-sketch {\"width\": 50, \"depth\": 3}",
          "count-min-sketch {\"width\": 500, \"depth\": 3}",
          "count-min-sketch {\"width\": 500, \"depth\": 5}",
          "heavy-hitters {\"num_hitters\": 10, \"width\": 50, \"depth\": 2}",
          "heavy-hitters {\"num_hitters\": 10, \"width\": 50, \"depth\": 3}",
          "heavy-hitters {\"num_hitters\": 100, \"width\": 1000, \"depth\": 3}",
          "heavy-hitters {\"num_hitters\": 100, \"width\": 1000, \"depth\": 5}",
          "heavy-hitters {\"num_hitters\": 50, \"width\": 100, \"depth\": 3}",
          "heavy-hitters {\"num_hitters\": 50, \"width\": 100, \"depth\": 5}",
          "heavy-hitters {\"num_hitters\": 50, \"width\": 20, \"depth\": 2}",
          "heavy-hitters {\"num_hitters\": 50, \"width\": 20, \"depth\": 3}",
          "stream-threshold {\"threshold\": 100, \"width\": 1000, \"depth\": 3}",
          "stream-threshold {\"threshold\": 100, \"width\": 1000, \"depth\": 5}",
          "stream-threshold {\"threshold\": 100, \"width\": 250, \"depth\": 3}",
          "stream-threshold {\"threshold\": 100, \"width\": 250, \"depth\": 5}",
          "stream-threshold {\"threshold\": 50, \"width\": 100, \"depth\": 2}",
          "stream-threshold {\"threshold\": 50, \"width\": 100, \"depth\": 3}",
          "stream-threshold {\"threshold\": 50, \"width\": 1000, \"depth\": 3}",
          "stream-threshold {\"threshold\": 50, \"width\": 1000, \"depth\": 5}",
          "stream-threshold {\"threshold\": 50, \"width\": 250, \"depth\": 3}",
          "stream-threshold {\"threshold\": 50, \"width\": 250, \"depth\": 5}"
         ],
         "y": [
          1,
          1.0118817929273909,
          0.9933834404276735,
          0.9994762966138925,
          1.0122891177832525,
          0.9994762966138925,
          1.0001385162056693,
          0.987710882216748,
          1.0121676052355282,
          0.9996693684431942,
          0.9992640077856496,
          1.0120319599057368,
          0.9875199339274668,
          0.9756218433972402,
          0.96938834294448,
          0.9937711373438773,
          0.9933834404276735,
          1.0183830944161807,
          1.0001385162056693,
          1.0118817929273909,
          1.0059302216024304,
          1.006077115880029,
          0.9931583192904859,
          1.0055868614373158,
          1.0055868614373158,
          0.9875199339274668,
          0.9873067769806517,
          1.006077115880029,
          1.0059302216024304,
          1.0182729237079815,
          0.9878801798014549,
          0.9996693684431942,
          1.0053894236264194,
          0.9937711373438773,
          0.9996693684431942,
          1.0055868614373158
         ]
        },
        {
         "marker": {
          "color": "#EF553B"
         },
         "name": "glass",
         "type": "bar",
         "x": [
          "DictRam {}",
          "count-bloom {\"est_elements\": 100, \"false_positive_rate\": 0.02}",
          "count-bloom {\"est_elements\": 100, \"false_positive_rate\": 0.05}",
          "count-bloom {\"est_elements\": 100, \"false_positive_rate\": 0.08}",
          "count-cuckoo {\"capacity\": 100, \"bucket_size\": 2}",
          "count-cuckoo {\"capacity\": 100, \"bucket_size\": 4}",
          "count-cuckoo {\"capacity\": 1000, \"bucket_size\": 2}",
          "count-cuckoo {\"capacity\": 1000, \"bucket_size\": 4}",
          "count-cuckoo {\"capacity\": 500, \"bucket_size\": 2}",
          "count-cuckoo {\"capacity\": 500, \"bucket_size\": 4}",
          "count-min-sketch {\"width\": 100, \"depth\": 3}",
          "count-min-sketch {\"width\": 100, \"depth\": 5}",
          "count-min-sketch {\"width\": 20, \"depth\": 2}",
          "count-min-sketch {\"width\": 20, \"depth\": 3}",
          "count-min-sketch {\"width\": 50, \"depth\": 2}",
          "count-min-sketch {\"width\": 50, \"depth\": 3}",
          "count-min-sketch {\"width\": 500, \"depth\": 3}",
          "count-min-sketch {\"width\": 500, \"depth\": 5}",
          "heavy-hitters {\"num_hitters\": 10, \"width\": 50, \"depth\": 2}",
          "heavy-hitters {\"num_hitters\": 10, \"width\": 50, \"depth\": 3}",
          "heavy-hitters {\"num_hitters\": 100, \"width\": 1000, \"depth\": 3}",
          "heavy-hitters {\"num_hitters\": 100, \"width\": 1000, \"depth\": 5}",
          "heavy-hitters {\"num_hitters\": 50, \"width\": 100, \"depth\": 3}",
          "heavy-hitters {\"num_hitters\": 50, \"width\": 100, \"depth\": 5}",
          "heavy-hitters {\"num_hitters\": 50, \"width\": 20, \"depth\": 2}",
          "heavy-hitters {\"num_hitters\": 50, \"width\": 20, \"depth\": 3}",
          "stream-threshold {\"threshold\": 100, \"width\": 1000, \"depth\": 3}",
          "stream-threshold {\"threshold\": 100, \"width\": 1000, \"depth\": 5}",
          "stream-threshold {\"threshold\": 100, \"width\": 250, \"depth\": 3}",
          "stream-threshold {\"threshold\": 100, \"width\": 250, \"depth\": 5}",
          "stream-threshold {\"threshold\": 50, \"width\": 100, \"depth\": 2}",
          "stream-threshold {\"threshold\": 50, \"width\": 100, \"depth\": 3}",
          "stream-threshold {\"threshold\": 50, \"width\": 1000, \"depth\": 3}",
          "stream-threshold {\"threshold\": 50, \"width\": 1000, \"depth\": 5}",
          "stream-threshold {\"threshold\": 50, \"width\": 250, \"depth\": 3}",
          "stream-threshold {\"threshold\": 50, \"width\": 250, \"depth\": 5}"
         ],
         "y": [
          1,
          1.0031545427900068,
          1.0395048856146327,
          1.0468426539604947,
          1.0641291226396814,
          1.0426794736136158,
          1.0426794736136158,
          1.0251748095419386,
          1.0361273806034532,
          1.0470191715813855,
          1.051983423214738,
          1.0709019356412441,
          1.0023554070037621,
          1.0063719186964517,
          1.000553631919226,
          1.0366055172609665,
          1.0810029121539613,
          1.0709019356412441,
          1.0183923335052554,
          1.0251091670516697,
          1.047226947530976,
          1.049388699553445,
          1.044331261767438,
          0.996708807153724,
          1.0251091670516697,
          1.0257113232929351,
          1.0896138541557996,
          1.0064711274375013,
          0.9837564820709129,
          1.1054780348286957,
          0.9945864335093044,
          1.0230179508112116,
          1.0907233934871134,
          1.0258307513271416,
          1.0230179508112116,
          1.0242693156158906
         ]
        },
        {
         "marker": {
          "color": "#00CC96"
         },
         "name": "iris",
         "type": "bar",
         "x": [
          "DictRam {}",
          "count-bloom {\"est_elements\": 100, \"false_positive_rate\": 0.02}",
          "count-bloom {\"est_elements\": 100, \"false_positive_rate\": 0.05}",
          "count-bloom {\"est_elements\": 100, \"false_positive_rate\": 0.08}",
          "count-cuckoo {\"capacity\": 100, \"bucket_size\": 2}",
          "count-cuckoo {\"capacity\": 100, \"bucket_size\": 4}",
          "count-cuckoo {\"capacity\": 1000, \"bucket_size\": 2}",
          "count-cuckoo {\"capacity\": 1000, \"bucket_size\": 4}",
          "count-cuckoo {\"capacity\": 500, \"bucket_size\": 2}",
          "count-cuckoo {\"capacity\": 500, \"bucket_size\": 4}",
          "count-min-sketch {\"width\": 100, \"depth\": 3}",
          "count-min-sketch {\"width\": 100, \"depth\": 5}",
          "count-min-sketch {\"width\": 20, \"depth\": 2}",
          "count-min-sketch {\"width\": 20, \"depth\": 3}",
          "count-min-sketch {\"width\": 50, \"depth\": 2}",
          "count-min-sketch {\"width\": 50, \"depth\": 3}",
          "count-min-sketch {\"width\": 500, \"depth\": 3}",
          "count-min-sketch {\"width\": 500, \"depth\": 5}",
          "heavy-hitters {\"num_hitters\": 10, \"width\": 50, \"depth\": 2}",
          "heavy-hitters {\"num_hitters\": 10, \"width\": 50, \"depth\": 3}",
          "heavy-hitters {\"num_hitters\": 100, \"width\": 1000, \"depth\": 3}",
          "heavy-hitters {\"num_hitters\": 100, \"width\": 1000, \"depth\": 5}",
          "heavy-hitters {\"num_hitters\": 50, \"width\": 100, \"depth\": 3}",
          "heavy-hitters {\"num_hitters\": 50, \"width\": 100, \"depth\": 5}",
          "heavy-hitters {\"num_hitters\": 50, \"width\": 20, \"depth\": 2}",
          "heavy-hitters {\"num_hitters\": 50, \"width\": 20, \"depth\": 3}",
          "stream-threshold {\"threshold\": 100, \"width\": 1000, \"depth\": 3}",
          "stream-threshold {\"threshold\": 100, \"width\": 1000, \"depth\": 5}",
          "stream-threshold {\"threshold\": 100, \"width\": 250, \"depth\": 3}",
          "stream-threshold {\"threshold\": 100, \"width\": 250, \"depth\": 5}",
          "stream-threshold {\"threshold\": 50, \"width\": 100, \"depth\": 2}",
          "stream-threshold {\"threshold\": 50, \"width\": 100, \"depth\": 3}",
          "stream-threshold {\"threshold\": 50, \"width\": 1000, \"depth\": 3}",
          "stream-threshold {\"threshold\": 50, \"width\": 1000, \"depth\": 5}",
          "stream-threshold {\"threshold\": 50, \"width\": 250, \"depth\": 3}",
          "stream-threshold {\"threshold\": 50, \"width\": 250, \"depth\": 5}"
         ],
         "y": [
          1,
          1,
          1,
          1.0234424542326366,
          1,
          1.046728971962617,
          1.046728971962617,
          1.046728971962617,
          0.9768694187726759,
          1.046728971962617,
          1.046728971962617,
          1.046728971962617,
          1.000207684319834,
          1.000207684319834,
          1.000207684319834,
          1.000207684319834,
          1.0234424542326366,
          1.046728971962617,
          0.9532710280373831,
          1,
          1.0234424542326366,
          1,
          1.0234424542326366,
          1.0234424542326366,
          1,
          1,
          1.0234424542326366,
          1,
          1.0234424542326366,
          1.0234424542326366,
          1.0234424542326366,
          1.0234424542326366,
          1.0234424542326366,
          1.0234424542326366,
          1.0234424542326366,
          1.0234424542326366
         ]
        },
        {
         "marker": {
          "color": "#AB63FA"
         },
         "name": "letter",
         "type": "bar",
         "x": [
          "DictRam {}",
          "count-bloom {\"est_elements\": 100, \"false_positive_rate\": 0.02}",
          "count-bloom {\"est_elements\": 100, \"false_positive_rate\": 0.05}",
          "count-bloom {\"est_elements\": 100, \"false_positive_rate\": 0.08}",
          "count-cuckoo {\"capacity\": 100, \"bucket_size\": 2}",
          "count-cuckoo {\"capacity\": 100, \"bucket_size\": 4}",
          "count-cuckoo {\"capacity\": 1000, \"bucket_size\": 2}",
          "count-cuckoo {\"capacity\": 1000, \"bucket_size\": 4}",
          "count-cuckoo {\"capacity\": 500, \"bucket_size\": 2}",
          "count-cuckoo {\"capacity\": 500, \"bucket_size\": 4}",
          "count-min-sketch {\"width\": 100, \"depth\": 3}",
          "count-min-sketch {\"width\": 100, \"depth\": 5}",
          "count-min-sketch {\"width\": 20, \"depth\": 2}",
          "count-min-sketch {\"width\": 20, \"depth\": 3}",
          "count-min-sketch {\"width\": 50, \"depth\": 2}",
          "count-min-sketch {\"width\": 50, \"depth\": 3}",
          "count-min-sketch {\"width\": 500, \"depth\": 3}",
          "count-min-sketch {\"width\": 500, \"depth\": 5}",
          "heavy-hitters {\"num_hitters\": 10, \"width\": 50, \"depth\": 2}",
          "heavy-hitters {\"num_hitters\": 10, \"width\": 50, \"depth\": 3}",
          "heavy-hitters {\"num_hitters\": 100, \"width\": 1000, \"depth\": 3}",
          "heavy-hitters {\"num_hitters\": 100, \"width\": 1000, \"depth\": 5}",
          "heavy-hitters {\"num_hitters\": 50, \"width\": 100, \"depth\": 3}",
          "heavy-hitters {\"num_hitters\": 50, \"width\": 100, \"depth\": 5}",
          "heavy-hitters {\"num_hitters\": 50, \"width\": 20, \"depth\": 2}",
          "heavy-hitters {\"num_hitters\": 50, \"width\": 20, \"depth\": 3}",
          "stream-threshold {\"threshold\": 100, \"width\": 1000, \"depth\": 3}",
          "stream-threshold {\"threshold\": 100, \"width\": 1000, \"depth\": 5}",
          "stream-threshold {\"threshold\": 100, \"width\": 250, \"depth\": 3}",
          "stream-threshold {\"threshold\": 100, \"width\": 250, \"depth\": 5}",
          "stream-threshold {\"threshold\": 50, \"width\": 100, \"depth\": 2}",
          "stream-threshold {\"threshold\": 50, \"width\": 100, \"depth\": 3}",
          "stream-threshold {\"threshold\": 50, \"width\": 1000, \"depth\": 3}",
          "stream-threshold {\"threshold\": 50, \"width\": 1000, \"depth\": 5}",
          "stream-threshold {\"threshold\": 50, \"width\": 250, \"depth\": 3}",
          "stream-threshold {\"threshold\": 50, \"width\": 250, \"depth\": 5}"
         ],
         "y": [
          1,
          0.9909134909137829,
          0.9924774614284845,
          0.999774552771091,
          0.990275038458346,
          0.9984586803275045,
          1.0110012742302157,
          0.985574671950748,
          0.9981186109671241,
          0.9926439184158473,
          1.0006067939002847,
          0.9952303895014011,
          0.8503842107206907,
          0.9089374551947939,
          0.9629718215934921,
          0.9717391953460529,
          0.9829100380042578,
          0.9982501028605536,
          0.9655518874530646,
          0.9785468758117694,
          1.0019656836774584,
          0.9855253446894344,
          0.989293857599038,
          1.0032368258717497,
          0.8503866021115143,
          0.9152477515166927,
          1.0044974660447397,
          0.9907735042927152,
          0.9901893226860793,
          1.005405137451492,
          0.9749865825494749,
          0.9946330710178891,
          1.000403139940437,
          0.9951333520738845,
          0.9968897199793538,
          0.9846127721996214
         ]
        },
        {
         "marker": {
          "color": "#FFA15A"
         },
         "name": "mnist",
         "type": "bar",
         "x": [
          "DictRam {}",
          "count-bloom {\"est_elements\": 100, \"false_positive_rate\": 0.02}",
          "count-bloom {\"est_elements\": 100, \"false_positive_rate\": 0.05}",
          "count-bloom {\"est_elements\": 100, \"false_positive_rate\": 0.08}",
          "count-cuckoo {\"capacity\": 100, \"bucket_size\": 2}",
          "count-cuckoo {\"capacity\": 100, \"bucket_size\": 4}",
          "count-cuckoo {\"capacity\": 1000, \"bucket_size\": 2}",
          "count-cuckoo {\"capacity\": 1000, \"bucket_size\": 4}",
          "count-cuckoo {\"capacity\": 500, \"bucket_size\": 2}",
          "count-cuckoo {\"capacity\": 500, \"bucket_size\": 4}",
          "count-min-sketch {\"width\": 100, \"depth\": 3}",
          "count-min-sketch {\"width\": 100, \"depth\": 5}",
          "count-min-sketch {\"width\": 20, \"depth\": 2}",
          "count-min-sketch {\"width\": 20, \"depth\": 3}",
          "count-min-sketch {\"width\": 50, \"depth\": 2}",
          "count-min-sketch {\"width\": 50, \"depth\": 3}",
          "count-min-sketch {\"width\": 500, \"depth\": 3}",
          "count-min-sketch {\"width\": 500, \"depth\": 5}",
          "heavy-hitters {\"num_hitters\": 10, \"width\": 50, \"depth\": 2}",
          "heavy-hitters {\"num_hitters\": 10, \"width\": 50, \"depth\": 3}",
          "heavy-hitters {\"num_hitters\": 100, \"width\": 1000, \"depth\": 3}",
          "heavy-hitters {\"num_hitters\": 100, \"width\": 1000, \"depth\": 5}",
          "heavy-hitters {\"num_hitters\": 50, \"width\": 100, \"depth\": 3}",
          "heavy-hitters {\"num_hitters\": 50, \"width\": 100, \"depth\": 5}",
          "heavy-hitters {\"num_hitters\": 50, \"width\": 20, \"depth\": 2}",
          "heavy-hitters {\"num_hitters\": 50, \"width\": 20, \"depth\": 3}",
          "stream-threshold {\"threshold\": 100, \"width\": 1000, \"depth\": 3}",
          "stream-threshold {\"threshold\": 100, \"width\": 1000, \"depth\": 5}",
          "stream-threshold {\"threshold\": 100, \"width\": 250, \"depth\": 3}",
          "stream-threshold {\"threshold\": 100, \"width\": 250, \"depth\": 5}",
          "stream-threshold {\"threshold\": 50, \"width\": 100, \"depth\": 2}",
          "stream-threshold {\"threshold\": 50, \"width\": 100, \"depth\": 3}",
          "stream-threshold {\"threshold\": 50, \"width\": 1000, \"depth\": 3}",
          "stream-threshold {\"threshold\": 50, \"width\": 1000, \"depth\": 5}",
          "stream-threshold {\"threshold\": 50, \"width\": 250, \"depth\": 3}",
          "stream-threshold {\"threshold\": 50, \"width\": 250, \"depth\": 5}"
         ],
         "y": [
          1,
          1.001253174720087,
          1.0000444452969774,
          0.999043543469589,
          1.003365321570044,
          0.9998148807219097,
          1.0009369071936935,
          0.9998871923864189,
          1.000786572889776,
          1.0004779111477373,
          0.9952239043204058,
          0.9986971002385058,
          0.9071747087034135,
          0.9185429963836307,
          0.9760260387436561,
          0.9829336627512966,
          0.9998946524411894,
          0.9978759590036165,
          0.9736746532166275,
          0.9808931436172782,
          1.0011566040968294,
          1.0018343910793135,
          0.9947342765305603,
          1.0019872363320212,
          0.904204185327558,
          0.9090431773355385,
          1.0009602286836294,
          1.0004651336940285,
          1.0036103760852852,
          1.0009257097272821,
          0.9953667427693288,
          0.9968187030243546,
          0.9998085685779894,
          0.9996777716188238,
          0.9986093717292559,
          1.000862473649621
         ]
        },
        {
         "marker": {
          "color": "#19D3F3"
         },
         "name": "motion_sense",
         "type": "bar",
         "x": [
          "DictRam {}",
          "count-bloom {\"est_elements\": 100, \"false_positive_rate\": 0.02}",
          "count-bloom {\"est_elements\": 100, \"false_positive_rate\": 0.05}",
          "count-bloom {\"est_elements\": 100, \"false_positive_rate\": 0.08}",
          "count-cuckoo {\"capacity\": 100, \"bucket_size\": 2}",
          "count-cuckoo {\"capacity\": 100, \"bucket_size\": 4}",
          "count-cuckoo {\"capacity\": 1000, \"bucket_size\": 2}",
          "count-cuckoo {\"capacity\": 1000, \"bucket_size\": 4}",
          "count-cuckoo {\"capacity\": 500, \"bucket_size\": 2}",
          "count-cuckoo {\"capacity\": 500, \"bucket_size\": 4}",
          "count-min-sketch {\"width\": 100, \"depth\": 3}",
          "count-min-sketch {\"width\": 100, \"depth\": 5}",
          "count-min-sketch {\"width\": 20, \"depth\": 2}",
          "count-min-sketch {\"width\": 20, \"depth\": 3}",
          "count-min-sketch {\"width\": 50, \"depth\": 2}",
          "count-min-sketch {\"width\": 50, \"depth\": 3}",
          "count-min-sketch {\"width\": 500, \"depth\": 3}",
          "count-min-sketch {\"width\": 500, \"depth\": 5}",
          "heavy-hitters {\"num_hitters\": 10, \"width\": 50, \"depth\": 2}",
          "heavy-hitters {\"num_hitters\": 10, \"width\": 50, \"depth\": 3}",
          "heavy-hitters {\"num_hitters\": 100, \"width\": 1000, \"depth\": 3}",
          "heavy-hitters {\"num_hitters\": 100, \"width\": 1000, \"depth\": 5}",
          "heavy-hitters {\"num_hitters\": 50, \"width\": 100, \"depth\": 3}",
          "heavy-hitters {\"num_hitters\": 50, \"width\": 100, \"depth\": 5}",
          "heavy-hitters {\"num_hitters\": 50, \"width\": 20, \"depth\": 2}",
          "heavy-hitters {\"num_hitters\": 50, \"width\": 20, \"depth\": 3}",
          "stream-threshold {\"threshold\": 100, \"width\": 1000, \"depth\": 3}",
          "stream-threshold {\"threshold\": 100, \"width\": 1000, \"depth\": 5}",
          "stream-threshold {\"threshold\": 100, \"width\": 250, \"depth\": 3}",
          "stream-threshold {\"threshold\": 100, \"width\": 250, \"depth\": 5}",
          "stream-threshold {\"threshold\": 50, \"width\": 100, \"depth\": 2}",
          "stream-threshold {\"threshold\": 50, \"width\": 100, \"depth\": 3}",
          "stream-threshold {\"threshold\": 50, \"width\": 1000, \"depth\": 3}",
          "stream-threshold {\"threshold\": 50, \"width\": 1000, \"depth\": 5}",
          "stream-threshold {\"threshold\": 50, \"width\": 250, \"depth\": 3}",
          "stream-threshold {\"threshold\": 50, \"width\": 250, \"depth\": 5}"
         ],
         "y": [
          1,
          0.9871270328628315,
          0.9942302020703345,
          0.9979311265555767,
          0.9986765375274674,
          0.9802933784004971,
          0.9899302266207962,
          0.9759333891806801,
          0.981319129813263,
          0.9732103272424585,
          0.9939080805199866,
          0.9702386338721747,
          0.6966287272294452,
          0.6601705595147543,
          0.9867589505572104,
          0.9496481616858153,
          0.9917558847944931,
          0.9817358500171209,
          0.957543901113116,
          0.946172610221783,
          1.014559384512117,
          1.007002811242189,
          0.9613035010660885,
          0.9860937749033455,
          0.6918469910645416,
          0.7007977374970982,
          0.9854129992874978,
          0.9973519109282479,
          1.024056560877476,
          1.0048458445737578,
          0.9496204222633787,
          0.9537556738692771,
          0.9864807797870162,
          1.0066357540002286,
          0.9917647743410553,
          1.0066962507804924
         ]
        },
        {
         "marker": {
          "color": "#FF6692"
         },
         "name": "satimage",
         "type": "bar",
         "x": [
          "DictRam {}",
          "count-bloom {\"est_elements\": 100, \"false_positive_rate\": 0.02}",
          "count-bloom {\"est_elements\": 100, \"false_positive_rate\": 0.05}",
          "count-bloom {\"est_elements\": 100, \"false_positive_rate\": 0.08}",
          "count-cuckoo {\"capacity\": 100, \"bucket_size\": 2}",
          "count-cuckoo {\"capacity\": 100, \"bucket_size\": 4}",
          "count-cuckoo {\"capacity\": 1000, \"bucket_size\": 2}",
          "count-cuckoo {\"capacity\": 1000, \"bucket_size\": 4}",
          "count-cuckoo {\"capacity\": 500, \"bucket_size\": 2}",
          "count-cuckoo {\"capacity\": 500, \"bucket_size\": 4}",
          "count-min-sketch {\"width\": 100, \"depth\": 3}",
          "count-min-sketch {\"width\": 100, \"depth\": 5}",
          "count-min-sketch {\"width\": 20, \"depth\": 2}",
          "count-min-sketch {\"width\": 20, \"depth\": 3}",
          "count-min-sketch {\"width\": 50, \"depth\": 2}",
          "count-min-sketch {\"width\": 50, \"depth\": 3}",
          "count-min-sketch {\"width\": 500, \"depth\": 3}",
          "count-min-sketch {\"width\": 500, \"depth\": 5}",
          "heavy-hitters {\"num_hitters\": 10, \"width\": 50, \"depth\": 2}",
          "heavy-hitters {\"num_hitters\": 10, \"width\": 50, \"depth\": 3}",
          "heavy-hitters {\"num_hitters\": 100, \"width\": 1000, \"depth\": 3}",
          "heavy-hitters {\"num_hitters\": 100, \"width\": 1000, \"depth\": 5}",
          "heavy-hitters {\"num_hitters\": 50, \"width\": 100, \"depth\": 3}",
          "heavy-hitters {\"num_hitters\": 50, \"width\": 100, \"depth\": 5}",
          "heavy-hitters {\"num_hitters\": 50, \"width\": 20, \"depth\": 2}",
          "heavy-hitters {\"num_hitters\": 50, \"width\": 20, \"depth\": 3}",
          "stream-threshold {\"threshold\": 100, \"width\": 1000, \"depth\": 3}",
          "stream-threshold {\"threshold\": 100, \"width\": 1000, \"depth\": 5}",
          "stream-threshold {\"threshold\": 100, \"width\": 250, \"depth\": 3}",
          "stream-threshold {\"threshold\": 100, \"width\": 250, \"depth\": 5}",
          "stream-threshold {\"threshold\": 50, \"width\": 100, \"depth\": 2}",
          "stream-threshold {\"threshold\": 50, \"width\": 100, \"depth\": 3}",
          "stream-threshold {\"threshold\": 50, \"width\": 1000, \"depth\": 3}",
          "stream-threshold {\"threshold\": 50, \"width\": 1000, \"depth\": 5}",
          "stream-threshold {\"threshold\": 50, \"width\": 250, \"depth\": 3}",
          "stream-threshold {\"threshold\": 50, \"width\": 250, \"depth\": 5}"
         ],
         "y": [
          1,
          1.0012908095444077,
          1.0034896532783628,
          1.0016403580862288,
          1.0087457945800673,
          1.0056684421849398,
          1.0044312567118914,
          0.9993444854886522,
          1.0008806930164187,
          0.9939552522339532,
          0.9993939293006482,
          0.9933211897124559,
          0.9578232486166713,
          0.966275383288031,
          0.9940270008271791,
          1.0064435678877637,
          1.0008781581755566,
          1.0064976583504952,
          1.0038571372056366,
          1.0101580110485466,
          1.006447804937566,
          0.9991154095978355,
          1.004603877200926,
          1.0057335338558315,
          0.9651399215556008,
          0.9726419174369011,
          1.0126607076545797,
          1.0081012304905759,
          0.9998885993471808,
          0.9988474526751585,
          0.9967160351466399,
          1.0055257819298118,
          1.0028605743804055,
          1.0014409175804941,
          1.0046832238183172,
          1.0006901477769479
         ]
        },
        {
         "marker": {
          "color": "#B6E880"
         },
         "name": "vehicle",
         "type": "bar",
         "x": [
          "DictRam {}",
          "count-bloom {\"est_elements\": 100, \"false_positive_rate\": 0.02}",
          "count-bloom {\"est_elements\": 100, \"false_positive_rate\": 0.05}",
          "count-bloom {\"est_elements\": 100, \"false_positive_rate\": 0.08}",
          "count-cuckoo {\"capacity\": 100, \"bucket_size\": 2}",
          "count-cuckoo {\"capacity\": 100, \"bucket_size\": 4}",
          "count-cuckoo {\"capacity\": 1000, \"bucket_size\": 2}",
          "count-cuckoo {\"capacity\": 1000, \"bucket_size\": 4}",
          "count-cuckoo {\"capacity\": 500, \"bucket_size\": 2}",
          "count-cuckoo {\"capacity\": 500, \"bucket_size\": 4}",
          "count-min-sketch {\"width\": 100, \"depth\": 3}",
          "count-min-sketch {\"width\": 100, \"depth\": 5}",
          "count-min-sketch {\"width\": 20, \"depth\": 2}",
          "count-min-sketch {\"width\": 20, \"depth\": 3}",
          "count-min-sketch {\"width\": 50, \"depth\": 2}",
          "count-min-sketch {\"width\": 50, \"depth\": 3}",
          "count-min-sketch {\"width\": 500, \"depth\": 3}",
          "count-min-sketch {\"width\": 500, \"depth\": 5}",
          "heavy-hitters {\"num_hitters\": 10, \"width\": 50, \"depth\": 2}",
          "heavy-hitters {\"num_hitters\": 10, \"width\": 50, \"depth\": 3}",
          "heavy-hitters {\"num_hitters\": 100, \"width\": 1000, \"depth\": 3}",
          "heavy-hitters {\"num_hitters\": 100, \"width\": 1000, \"depth\": 5}",
          "heavy-hitters {\"num_hitters\": 50, \"width\": 100, \"depth\": 3}",
          "heavy-hitters {\"num_hitters\": 50, \"width\": 100, \"depth\": 5}",
          "heavy-hitters {\"num_hitters\": 50, \"width\": 20, \"depth\": 2}",
          "heavy-hitters {\"num_hitters\": 50, \"width\": 20, \"depth\": 3}",
          "stream-threshold {\"threshold\": 100, \"width\": 1000, \"depth\": 3}",
          "stream-threshold {\"threshold\": 100, \"width\": 1000, \"depth\": 5}",
          "stream-threshold {\"threshold\": 100, \"width\": 250, \"depth\": 3}",
          "stream-threshold {\"threshold\": 100, \"width\": 250, \"depth\": 5}",
          "stream-threshold {\"threshold\": 50, \"width\": 100, \"depth\": 2}",
          "stream-threshold {\"threshold\": 50, \"width\": 100, \"depth\": 3}",
          "stream-threshold {\"threshold\": 50, \"width\": 1000, \"depth\": 3}",
          "stream-threshold {\"threshold\": 50, \"width\": 1000, \"depth\": 5}",
          "stream-threshold {\"threshold\": 50, \"width\": 250, \"depth\": 3}",
          "stream-threshold {\"threshold\": 50, \"width\": 250, \"depth\": 5}"
         ],
         "y": [
          1,
          1.080800490337787,
          1.080800490337787,
          1.1338354000403708,
          1.0695346019854721,
          1.0164510856221805,
          1.107781608891562,
          0.9580165798697841,
          1.0705372837531681,
          1.0960346773526657,
          1.0755924913025854,
          1.0796483446133214,
          1.0632509585374934,
          1.1182841502873184,
          1.1208638562120996,
          0.9819482086151753,
          0.9735541367683425,
          1.1174175857198099,
          1.0450728886763305,
          1.037712758252739,
          1.0037931899364496,
          1.0431989658635206,
          1.1065345538261404,
          1.1625210850932475,
          1.0452409344559705,
          0.9970951661973164,
          1.009497564420153,
          1.0410700183408694,
          1.1568302676797857,
          0.9947644510887534,
          1.0465740302283857,
          1.0850122675398697,
          1.1568302676797857,
          1.008552022576365,
          1.0792674979337216,
          1.1032496132688079
         ]
        },
        {
         "marker": {
          "color": "#FF97FF"
         },
         "name": "wine",
         "type": "bar",
         "x": [
          "DictRam {}",
          "count-bloom {\"est_elements\": 100, \"false_positive_rate\": 0.02}",
          "count-bloom {\"est_elements\": 100, \"false_positive_rate\": 0.05}",
          "count-bloom {\"est_elements\": 100, \"false_positive_rate\": 0.08}",
          "count-cuckoo {\"capacity\": 100, \"bucket_size\": 2}",
          "count-cuckoo {\"capacity\": 100, \"bucket_size\": 4}",
          "count-cuckoo {\"capacity\": 1000, \"bucket_size\": 2}",
          "count-cuckoo {\"capacity\": 1000, \"bucket_size\": 4}",
          "count-cuckoo {\"capacity\": 500, \"bucket_size\": 2}",
          "count-cuckoo {\"capacity\": 500, \"bucket_size\": 4}",
          "count-min-sketch {\"width\": 100, \"depth\": 3}",
          "count-min-sketch {\"width\": 100, \"depth\": 5}",
          "count-min-sketch {\"width\": 20, \"depth\": 2}",
          "count-min-sketch {\"width\": 20, \"depth\": 3}",
          "count-min-sketch {\"width\": 50, \"depth\": 2}",
          "count-min-sketch {\"width\": 50, \"depth\": 3}",
          "count-min-sketch {\"width\": 500, \"depth\": 3}",
          "count-min-sketch {\"width\": 500, \"depth\": 5}",
          "heavy-hitters {\"num_hitters\": 10, \"width\": 50, \"depth\": 2}",
          "heavy-hitters {\"num_hitters\": 10, \"width\": 50, \"depth\": 3}",
          "heavy-hitters {\"num_hitters\": 100, \"width\": 1000, \"depth\": 3}",
          "heavy-hitters {\"num_hitters\": 100, \"width\": 1000, \"depth\": 5}",
          "heavy-hitters {\"num_hitters\": 50, \"width\": 100, \"depth\": 3}",
          "heavy-hitters {\"num_hitters\": 50, \"width\": 100, \"depth\": 5}",
          "heavy-hitters {\"num_hitters\": 50, \"width\": 20, \"depth\": 2}",
          "heavy-hitters {\"num_hitters\": 50, \"width\": 20, \"depth\": 3}",
          "stream-threshold {\"threshold\": 100, \"width\": 1000, \"depth\": 3}",
          "stream-threshold {\"threshold\": 100, \"width\": 1000, \"depth\": 5}",
          "stream-threshold {\"threshold\": 100, \"width\": 250, \"depth\": 3}",
          "stream-threshold {\"threshold\": 100, \"width\": 250, \"depth\": 5}",
          "stream-threshold {\"threshold\": 50, \"width\": 100, \"depth\": 2}",
          "stream-threshold {\"threshold\": 50, \"width\": 100, \"depth\": 3}",
          "stream-threshold {\"threshold\": 50, \"width\": 1000, \"depth\": 3}",
          "stream-threshold {\"threshold\": 50, \"width\": 1000, \"depth\": 5}",
          "stream-threshold {\"threshold\": 50, \"width\": 250, \"depth\": 3}",
          "stream-threshold {\"threshold\": 50, \"width\": 250, \"depth\": 5}"
         ],
         "y": [
          1,
          1.0006595833370093,
          0.9810030759421722,
          1.0006595833370093,
          0.9814281748737345,
          0.981492750680142,
          0.9615534189852687,
          1.0388682444756974,
          0.9811303490376158,
          0.981492750680142,
          1.0388682444756974,
          0.9802563753868244,
          1.0388682444756974,
          0.961003753247451,
          0.961003753247451,
          0.961003753247451,
          0.9811533420048254,
          0.9618793201982397,
          0.9428001616940562,
          0.9428001616940562,
          0.9807597969053647,
          1.019655307265552,
          0.9611799336939987,
          1.00031992502482,
          0.9428001616940562,
          0.9418422118853288,
          0.9434635513776295,
          0.9623632774538858,
          0.9809999469152016,
          0.9802563753868244,
          0.9409204947946005,
          0.9625077841711991,
          0.9809999469152016,
          0.9802563753868244,
          0.9625077841711991,
          0.9802563753868244
         ]
        }
       ],
       "layout": {
        "font": {
         "family": "Times New Roman",
         "size": 12
        },
        "margin": {
         "b": 0,
         "l": 0,
         "r": 0,
         "t": 10
        },
        "shapes": [
         {
          "line": {
           "color": "red",
           "dash": "dash",
           "width": 1
          },
          "type": "line",
          "x0": 0,
          "x1": 1,
          "xref": "x domain",
          "y0": 1,
          "y1": 1,
          "yref": "y"
         }
        ],
        "template": {
         "data": {
          "bar": [
           {
            "error_x": {
             "color": "#2a3f5f"
            },
            "error_y": {
             "color": "#2a3f5f"
            },
            "marker": {
             "line": {
              "color": "#E5ECF6",
              "width": 0.5
             },
             "pattern": {
              "fillmode": "overlay",
              "size": 10,
              "solidity": 0.2
             }
            },
            "type": "bar"
           }
          ],
          "barpolar": [
           {
            "marker": {
             "line": {
              "color": "#E5ECF6",
              "width": 0.5
             },
             "pattern": {
              "fillmode": "overlay",
              "size": 10,
              "solidity": 0.2
             }
            },
            "type": "barpolar"
           }
          ],
          "carpet": [
           {
            "aaxis": {
             "endlinecolor": "#2a3f5f",
             "gridcolor": "white",
             "linecolor": "white",
             "minorgridcolor": "white",
             "startlinecolor": "#2a3f5f"
            },
            "baxis": {
             "endlinecolor": "#2a3f5f",
             "gridcolor": "white",
             "linecolor": "white",
             "minorgridcolor": "white",
             "startlinecolor": "#2a3f5f"
            },
            "type": "carpet"
           }
          ],
          "choropleth": [
           {
            "colorbar": {
             "outlinewidth": 0,
             "ticks": ""
            },
            "type": "choropleth"
           }
          ],
          "contour": [
           {
            "colorbar": {
             "outlinewidth": 0,
             "ticks": ""
            },
            "colorscale": [
             [
              0,
              "#0d0887"
             ],
             [
              0.1111111111111111,
              "#46039f"
             ],
             [
              0.2222222222222222,
              "#7201a8"
             ],
             [
              0.3333333333333333,
              "#9c179e"
             ],
             [
              0.4444444444444444,
              "#bd3786"
             ],
             [
              0.5555555555555556,
              "#d8576b"
             ],
             [
              0.6666666666666666,
              "#ed7953"
             ],
             [
              0.7777777777777778,
              "#fb9f3a"
             ],
             [
              0.8888888888888888,
              "#fdca26"
             ],
             [
              1,
              "#f0f921"
             ]
            ],
            "type": "contour"
           }
          ],
          "contourcarpet": [
           {
            "colorbar": {
             "outlinewidth": 0,
             "ticks": ""
            },
            "type": "contourcarpet"
           }
          ],
          "heatmap": [
           {
            "colorbar": {
             "outlinewidth": 0,
             "ticks": ""
            },
            "colorscale": [
             [
              0,
              "#0d0887"
             ],
             [
              0.1111111111111111,
              "#46039f"
             ],
             [
              0.2222222222222222,
              "#7201a8"
             ],
             [
              0.3333333333333333,
              "#9c179e"
             ],
             [
              0.4444444444444444,
              "#bd3786"
             ],
             [
              0.5555555555555556,
              "#d8576b"
             ],
             [
              0.6666666666666666,
              "#ed7953"
             ],
             [
              0.7777777777777778,
              "#fb9f3a"
             ],
             [
              0.8888888888888888,
              "#fdca26"
             ],
             [
              1,
              "#f0f921"
             ]
            ],
            "type": "heatmap"
           }
          ],
          "heatmapgl": [
           {
            "colorbar": {
             "outlinewidth": 0,
             "ticks": ""
            },
            "colorscale": [
             [
              0,
              "#0d0887"
             ],
             [
              0.1111111111111111,
              "#46039f"
             ],
             [
              0.2222222222222222,
              "#7201a8"
             ],
             [
              0.3333333333333333,
              "#9c179e"
             ],
             [
              0.4444444444444444,
              "#bd3786"
             ],
             [
              0.5555555555555556,
              "#d8576b"
             ],
             [
              0.6666666666666666,
              "#ed7953"
             ],
             [
              0.7777777777777778,
              "#fb9f3a"
             ],
             [
              0.8888888888888888,
              "#fdca26"
             ],
             [
              1,
              "#f0f921"
             ]
            ],
            "type": "heatmapgl"
           }
          ],
          "histogram": [
           {
            "marker": {
             "pattern": {
              "fillmode": "overlay",
              "size": 10,
              "solidity": 0.2
             }
            },
            "type": "histogram"
           }
          ],
          "histogram2d": [
           {
            "colorbar": {
             "outlinewidth": 0,
             "ticks": ""
            },
            "colorscale": [
             [
              0,
              "#0d0887"
             ],
             [
              0.1111111111111111,
              "#46039f"
             ],
             [
              0.2222222222222222,
              "#7201a8"
             ],
             [
              0.3333333333333333,
              "#9c179e"
             ],
             [
              0.4444444444444444,
              "#bd3786"
             ],
             [
              0.5555555555555556,
              "#d8576b"
             ],
             [
              0.6666666666666666,
              "#ed7953"
             ],
             [
              0.7777777777777778,
              "#fb9f3a"
             ],
             [
              0.8888888888888888,
              "#fdca26"
             ],
             [
              1,
              "#f0f921"
             ]
            ],
            "type": "histogram2d"
           }
          ],
          "histogram2dcontour": [
           {
            "colorbar": {
             "outlinewidth": 0,
             "ticks": ""
            },
            "colorscale": [
             [
              0,
              "#0d0887"
             ],
             [
              0.1111111111111111,
              "#46039f"
             ],
             [
              0.2222222222222222,
              "#7201a8"
             ],
             [
              0.3333333333333333,
              "#9c179e"
             ],
             [
              0.4444444444444444,
              "#bd3786"
             ],
             [
              0.5555555555555556,
              "#d8576b"
             ],
             [
              0.6666666666666666,
              "#ed7953"
             ],
             [
              0.7777777777777778,
              "#fb9f3a"
             ],
             [
              0.8888888888888888,
              "#fdca26"
             ],
             [
              1,
              "#f0f921"
             ]
            ],
            "type": "histogram2dcontour"
           }
          ],
          "mesh3d": [
           {
            "colorbar": {
             "outlinewidth": 0,
             "ticks": ""
            },
            "type": "mesh3d"
           }
          ],
          "parcoords": [
           {
            "line": {
             "colorbar": {
              "outlinewidth": 0,
              "ticks": ""
             }
            },
            "type": "parcoords"
           }
          ],
          "pie": [
           {
            "automargin": true,
            "type": "pie"
           }
          ],
          "scatter": [
           {
            "fillpattern": {
             "fillmode": "overlay",
             "size": 10,
             "solidity": 0.2
            },
            "type": "scatter"
           }
          ],
          "scatter3d": [
           {
            "line": {
             "colorbar": {
              "outlinewidth": 0,
              "ticks": ""
             }
            },
            "marker": {
             "colorbar": {
              "outlinewidth": 0,
              "ticks": ""
             }
            },
            "type": "scatter3d"
           }
          ],
          "scattercarpet": [
           {
            "marker": {
             "colorbar": {
              "outlinewidth": 0,
              "ticks": ""
             }
            },
            "type": "scattercarpet"
           }
          ],
          "scattergeo": [
           {
            "marker": {
             "colorbar": {
              "outlinewidth": 0,
              "ticks": ""
             }
            },
            "type": "scattergeo"
           }
          ],
          "scattergl": [
           {
            "marker": {
             "colorbar": {
              "outlinewidth": 0,
              "ticks": ""
             }
            },
            "type": "scattergl"
           }
          ],
          "scattermapbox": [
           {
            "marker": {
             "colorbar": {
              "outlinewidth": 0,
              "ticks": ""
             }
            },
            "type": "scattermapbox"
           }
          ],
          "scatterpolar": [
           {
            "marker": {
             "colorbar": {
              "outlinewidth": 0,
              "ticks": ""
             }
            },
            "type": "scatterpolar"
           }
          ],
          "scatterpolargl": [
           {
            "marker": {
             "colorbar": {
              "outlinewidth": 0,
              "ticks": ""
             }
            },
            "type": "scatterpolargl"
           }
          ],
          "scatterternary": [
           {
            "marker": {
             "colorbar": {
              "outlinewidth": 0,
              "ticks": ""
             }
            },
            "type": "scatterternary"
           }
          ],
          "surface": [
           {
            "colorbar": {
             "outlinewidth": 0,
             "ticks": ""
            },
            "colorscale": [
             [
              0,
              "#0d0887"
             ],
             [
              0.1111111111111111,
              "#46039f"
             ],
             [
              0.2222222222222222,
              "#7201a8"
             ],
             [
              0.3333333333333333,
              "#9c179e"
             ],
             [
              0.4444444444444444,
              "#bd3786"
             ],
             [
              0.5555555555555556,
              "#d8576b"
             ],
             [
              0.6666666666666666,
              "#ed7953"
             ],
             [
              0.7777777777777778,
              "#fb9f3a"
             ],
             [
              0.8888888888888888,
              "#fdca26"
             ],
             [
              1,
              "#f0f921"
             ]
            ],
            "type": "surface"
           }
          ],
          "table": [
           {
            "cells": {
             "fill": {
              "color": "#EBF0F8"
             },
             "line": {
              "color": "white"
             }
            },
            "header": {
             "fill": {
              "color": "#C8D4E3"
             },
             "line": {
              "color": "white"
             }
            },
            "type": "table"
           }
          ]
         },
         "layout": {
          "annotationdefaults": {
           "arrowcolor": "#2a3f5f",
           "arrowhead": 0,
           "arrowwidth": 1
          },
          "autotypenumbers": "strict",
          "coloraxis": {
           "colorbar": {
            "outlinewidth": 0,
            "ticks": ""
           }
          },
          "colorscale": {
           "diverging": [
            [
             0,
             "#8e0152"
            ],
            [
             0.1,
             "#c51b7d"
            ],
            [
             0.2,
             "#de77ae"
            ],
            [
             0.3,
             "#f1b6da"
            ],
            [
             0.4,
             "#fde0ef"
            ],
            [
             0.5,
             "#f7f7f7"
            ],
            [
             0.6,
             "#e6f5d0"
            ],
            [
             0.7,
             "#b8e186"
            ],
            [
             0.8,
             "#7fbc41"
            ],
            [
             0.9,
             "#4d9221"
            ],
            [
             1,
             "#276419"
            ]
           ],
           "sequential": [
            [
             0,
             "#0d0887"
            ],
            [
             0.1111111111111111,
             "#46039f"
            ],
            [
             0.2222222222222222,
             "#7201a8"
            ],
            [
             0.3333333333333333,
             "#9c179e"
            ],
            [
             0.4444444444444444,
             "#bd3786"
            ],
            [
             0.5555555555555556,
             "#d8576b"
            ],
            [
             0.6666666666666666,
             "#ed7953"
            ],
            [
             0.7777777777777778,
             "#fb9f3a"
            ],
            [
             0.8888888888888888,
             "#fdca26"
            ],
            [
             1,
             "#f0f921"
            ]
           ],
           "sequentialminus": [
            [
             0,
             "#0d0887"
            ],
            [
             0.1111111111111111,
             "#46039f"
            ],
            [
             0.2222222222222222,
             "#7201a8"
            ],
            [
             0.3333333333333333,
             "#9c179e"
            ],
            [
             0.4444444444444444,
             "#bd3786"
            ],
            [
             0.5555555555555556,
             "#d8576b"
            ],
            [
             0.6666666666666666,
             "#ed7953"
            ],
            [
             0.7777777777777778,
             "#fb9f3a"
            ],
            [
             0.8888888888888888,
             "#fdca26"
            ],
            [
             1,
             "#f0f921"
            ]
           ]
          },
          "colorway": [
           "#636efa",
           "#EF553B",
           "#00cc96",
           "#ab63fa",
           "#FFA15A",
           "#19d3f3",
           "#FF6692",
           "#B6E880",
           "#FF97FF",
           "#FECB52"
          ],
          "font": {
           "color": "#2a3f5f"
          },
          "geo": {
           "bgcolor": "white",
           "lakecolor": "white",
           "landcolor": "#E5ECF6",
           "showlakes": true,
           "showland": true,
           "subunitcolor": "white"
          },
          "hoverlabel": {
           "align": "left"
          },
          "hovermode": "closest",
          "mapbox": {
           "style": "light"
          },
          "paper_bgcolor": "white",
          "plot_bgcolor": "#E5ECF6",
          "polar": {
           "angularaxis": {
            "gridcolor": "white",
            "linecolor": "white",
            "ticks": ""
           },
           "bgcolor": "#E5ECF6",
           "radialaxis": {
            "gridcolor": "white",
            "linecolor": "white",
            "ticks": ""
           }
          },
          "scene": {
           "xaxis": {
            "backgroundcolor": "#E5ECF6",
            "gridcolor": "white",
            "gridwidth": 2,
            "linecolor": "white",
            "showbackground": true,
            "ticks": "",
            "zerolinecolor": "white"
           },
           "yaxis": {
            "backgroundcolor": "#E5ECF6",
            "gridcolor": "white",
            "gridwidth": 2,
            "linecolor": "white",
            "showbackground": true,
            "ticks": "",
            "zerolinecolor": "white"
           },
           "zaxis": {
            "backgroundcolor": "#E5ECF6",
            "gridcolor": "white",
            "gridwidth": 2,
            "linecolor": "white",
            "showbackground": true,
            "ticks": "",
            "zerolinecolor": "white"
           }
          },
          "shapedefaults": {
           "line": {
            "color": "#2a3f5f"
           }
          },
          "ternary": {
           "aaxis": {
            "gridcolor": "white",
            "linecolor": "white",
            "ticks": ""
           },
           "baxis": {
            "gridcolor": "white",
            "linecolor": "white",
            "ticks": ""
           },
           "bgcolor": "#E5ECF6",
           "caxis": {
            "gridcolor": "white",
            "linecolor": "white",
            "ticks": ""
           }
          },
          "title": {
           "x": 0.05
          },
          "xaxis": {
           "automargin": true,
           "gridcolor": "white",
           "linecolor": "white",
           "ticks": "",
           "title": {
            "standoff": 15
           },
           "zerolinecolor": "white",
           "zerolinewidth": 2
          },
          "yaxis": {
           "automargin": true,
           "gridcolor": "white",
           "linecolor": "white",
           "ticks": "",
           "title": {
            "standoff": 15
           },
           "zerolinecolor": "white",
           "zerolinewidth": 2
          }
         }
        },
        "xaxis": {
         "tickfont": {
          "size": 12
         }
        },
        "yaxis": {
         "range": [
          0.6,
          1.15
         ],
         "title": {
          "text": "Performance improvement"
         }
        }
       }
      },
      "text/html": [
       "<div>                            <div id=\"1a1b96cb-0d4f-4252-8a1c-496aa0e447c2\" class=\"plotly-graph-div\" style=\"height:525px; width:100%;\"></div>            <script type=\"text/javascript\">                require([\"plotly\"], function(Plotly) {                    window.PLOTLYENV=window.PLOTLYENV || {};                                    if (document.getElementById(\"1a1b96cb-0d4f-4252-8a1c-496aa0e447c2\")) {                    Plotly.newPlot(                        \"1a1b96cb-0d4f-4252-8a1c-496aa0e447c2\",                        [{\"marker\":{\"color\":\"#636EFA\"},\"name\":\"breast_cancer\",\"x\":[\"DictRam {}\",\"count-bloom {\\\"est_elements\\\": 100, \\\"false_positive_rate\\\": 0.02}\",\"count-bloom {\\\"est_elements\\\": 100, \\\"false_positive_rate\\\": 0.05}\",\"count-bloom {\\\"est_elements\\\": 100, \\\"false_positive_rate\\\": 0.08}\",\"count-cuckoo {\\\"capacity\\\": 100, \\\"bucket_size\\\": 2}\",\"count-cuckoo {\\\"capacity\\\": 100, \\\"bucket_size\\\": 4}\",\"count-cuckoo {\\\"capacity\\\": 1000, \\\"bucket_size\\\": 2}\",\"count-cuckoo {\\\"capacity\\\": 1000, \\\"bucket_size\\\": 4}\",\"count-cuckoo {\\\"capacity\\\": 500, \\\"bucket_size\\\": 2}\",\"count-cuckoo {\\\"capacity\\\": 500, \\\"bucket_size\\\": 4}\",\"count-min-sketch {\\\"width\\\": 100, \\\"depth\\\": 3}\",\"count-min-sketch {\\\"width\\\": 100, \\\"depth\\\": 5}\",\"count-min-sketch {\\\"width\\\": 20, \\\"depth\\\": 2}\",\"count-min-sketch {\\\"width\\\": 20, \\\"depth\\\": 3}\",\"count-min-sketch {\\\"width\\\": 50, \\\"depth\\\": 2}\",\"count-min-sketch {\\\"width\\\": 50, \\\"depth\\\": 3}\",\"count-min-sketch {\\\"width\\\": 500, \\\"depth\\\": 3}\",\"count-min-sketch {\\\"width\\\": 500, \\\"depth\\\": 5}\",\"heavy-hitters {\\\"num_hitters\\\": 10, \\\"width\\\": 50, \\\"depth\\\": 2}\",\"heavy-hitters {\\\"num_hitters\\\": 10, \\\"width\\\": 50, \\\"depth\\\": 3}\",\"heavy-hitters {\\\"num_hitters\\\": 100, \\\"width\\\": 1000, \\\"depth\\\": 3}\",\"heavy-hitters {\\\"num_hitters\\\": 100, \\\"width\\\": 1000, \\\"depth\\\": 5}\",\"heavy-hitters {\\\"num_hitters\\\": 50, \\\"width\\\": 100, \\\"depth\\\": 3}\",\"heavy-hitters {\\\"num_hitters\\\": 50, \\\"width\\\": 100, \\\"depth\\\": 5}\",\"heavy-hitters {\\\"num_hitters\\\": 50, \\\"width\\\": 20, \\\"depth\\\": 2}\",\"heavy-hitters {\\\"num_hitters\\\": 50, \\\"width\\\": 20, \\\"depth\\\": 3}\",\"stream-threshold {\\\"threshold\\\": 100, \\\"width\\\": 1000, \\\"depth\\\": 3}\",\"stream-threshold {\\\"threshold\\\": 100, \\\"width\\\": 1000, \\\"depth\\\": 5}\",\"stream-threshold {\\\"threshold\\\": 100, \\\"width\\\": 250, \\\"depth\\\": 3}\",\"stream-threshold {\\\"threshold\\\": 100, \\\"width\\\": 250, \\\"depth\\\": 5}\",\"stream-threshold {\\\"threshold\\\": 50, \\\"width\\\": 100, \\\"depth\\\": 2}\",\"stream-threshold {\\\"threshold\\\": 50, \\\"width\\\": 100, \\\"depth\\\": 3}\",\"stream-threshold {\\\"threshold\\\": 50, \\\"width\\\": 1000, \\\"depth\\\": 3}\",\"stream-threshold {\\\"threshold\\\": 50, \\\"width\\\": 1000, \\\"depth\\\": 5}\",\"stream-threshold {\\\"threshold\\\": 50, \\\"width\\\": 250, \\\"depth\\\": 3}\",\"stream-threshold {\\\"threshold\\\": 50, \\\"width\\\": 250, \\\"depth\\\": 5}\"],\"y\":[1.0,1.0118817929273909,0.9933834404276735,0.9994762966138925,1.0122891177832525,0.9994762966138925,1.0001385162056693,0.987710882216748,1.0121676052355282,0.9996693684431942,0.9992640077856496,1.0120319599057368,0.9875199339274668,0.9756218433972402,0.96938834294448,0.9937711373438773,0.9933834404276735,1.0183830944161807,1.0001385162056693,1.0118817929273909,1.0059302216024304,1.006077115880029,0.9931583192904859,1.0055868614373158,1.0055868614373158,0.9875199339274668,0.9873067769806517,1.006077115880029,1.0059302216024304,1.0182729237079815,0.9878801798014549,0.9996693684431942,1.0053894236264194,0.9937711373438773,0.9996693684431942,1.0055868614373158],\"type\":\"bar\"},{\"marker\":{\"color\":\"#EF553B\"},\"name\":\"glass\",\"x\":[\"DictRam {}\",\"count-bloom {\\\"est_elements\\\": 100, \\\"false_positive_rate\\\": 0.02}\",\"count-bloom {\\\"est_elements\\\": 100, \\\"false_positive_rate\\\": 0.05}\",\"count-bloom {\\\"est_elements\\\": 100, \\\"false_positive_rate\\\": 0.08}\",\"count-cuckoo {\\\"capacity\\\": 100, \\\"bucket_size\\\": 2}\",\"count-cuckoo {\\\"capacity\\\": 100, \\\"bucket_size\\\": 4}\",\"count-cuckoo {\\\"capacity\\\": 1000, \\\"bucket_size\\\": 2}\",\"count-cuckoo {\\\"capacity\\\": 1000, \\\"bucket_size\\\": 4}\",\"count-cuckoo {\\\"capacity\\\": 500, \\\"bucket_size\\\": 2}\",\"count-cuckoo {\\\"capacity\\\": 500, \\\"bucket_size\\\": 4}\",\"count-min-sketch {\\\"width\\\": 100, \\\"depth\\\": 3}\",\"count-min-sketch {\\\"width\\\": 100, \\\"depth\\\": 5}\",\"count-min-sketch {\\\"width\\\": 20, \\\"depth\\\": 2}\",\"count-min-sketch {\\\"width\\\": 20, \\\"depth\\\": 3}\",\"count-min-sketch {\\\"width\\\": 50, \\\"depth\\\": 2}\",\"count-min-sketch {\\\"width\\\": 50, \\\"depth\\\": 3}\",\"count-min-sketch {\\\"width\\\": 500, \\\"depth\\\": 3}\",\"count-min-sketch {\\\"width\\\": 500, \\\"depth\\\": 5}\",\"heavy-hitters {\\\"num_hitters\\\": 10, \\\"width\\\": 50, \\\"depth\\\": 2}\",\"heavy-hitters {\\\"num_hitters\\\": 10, \\\"width\\\": 50, \\\"depth\\\": 3}\",\"heavy-hitters {\\\"num_hitters\\\": 100, \\\"width\\\": 1000, \\\"depth\\\": 3}\",\"heavy-hitters {\\\"num_hitters\\\": 100, \\\"width\\\": 1000, \\\"depth\\\": 5}\",\"heavy-hitters {\\\"num_hitters\\\": 50, \\\"width\\\": 100, \\\"depth\\\": 3}\",\"heavy-hitters {\\\"num_hitters\\\": 50, \\\"width\\\": 100, \\\"depth\\\": 5}\",\"heavy-hitters {\\\"num_hitters\\\": 50, \\\"width\\\": 20, \\\"depth\\\": 2}\",\"heavy-hitters {\\\"num_hitters\\\": 50, \\\"width\\\": 20, \\\"depth\\\": 3}\",\"stream-threshold {\\\"threshold\\\": 100, \\\"width\\\": 1000, \\\"depth\\\": 3}\",\"stream-threshold {\\\"threshold\\\": 100, \\\"width\\\": 1000, \\\"depth\\\": 5}\",\"stream-threshold {\\\"threshold\\\": 100, \\\"width\\\": 250, \\\"depth\\\": 3}\",\"stream-threshold {\\\"threshold\\\": 100, \\\"width\\\": 250, \\\"depth\\\": 5}\",\"stream-threshold {\\\"threshold\\\": 50, \\\"width\\\": 100, \\\"depth\\\": 2}\",\"stream-threshold {\\\"threshold\\\": 50, \\\"width\\\": 100, \\\"depth\\\": 3}\",\"stream-threshold {\\\"threshold\\\": 50, \\\"width\\\": 1000, \\\"depth\\\": 3}\",\"stream-threshold {\\\"threshold\\\": 50, \\\"width\\\": 1000, \\\"depth\\\": 5}\",\"stream-threshold {\\\"threshold\\\": 50, \\\"width\\\": 250, \\\"depth\\\": 3}\",\"stream-threshold {\\\"threshold\\\": 50, \\\"width\\\": 250, \\\"depth\\\": 5}\"],\"y\":[1.0,1.0031545427900068,1.0395048856146327,1.0468426539604947,1.0641291226396814,1.0426794736136158,1.0426794736136158,1.0251748095419386,1.0361273806034532,1.0470191715813855,1.051983423214738,1.0709019356412441,1.0023554070037621,1.0063719186964517,1.000553631919226,1.0366055172609665,1.0810029121539613,1.0709019356412441,1.0183923335052554,1.0251091670516697,1.047226947530976,1.049388699553445,1.044331261767438,0.996708807153724,1.0251091670516697,1.0257113232929351,1.0896138541557996,1.0064711274375013,0.9837564820709129,1.1054780348286957,0.9945864335093044,1.0230179508112116,1.0907233934871134,1.0258307513271416,1.0230179508112116,1.0242693156158906],\"type\":\"bar\"},{\"marker\":{\"color\":\"#00CC96\"},\"name\":\"iris\",\"x\":[\"DictRam {}\",\"count-bloom {\\\"est_elements\\\": 100, \\\"false_positive_rate\\\": 0.02}\",\"count-bloom {\\\"est_elements\\\": 100, \\\"false_positive_rate\\\": 0.05}\",\"count-bloom {\\\"est_elements\\\": 100, \\\"false_positive_rate\\\": 0.08}\",\"count-cuckoo {\\\"capacity\\\": 100, \\\"bucket_size\\\": 2}\",\"count-cuckoo {\\\"capacity\\\": 100, \\\"bucket_size\\\": 4}\",\"count-cuckoo {\\\"capacity\\\": 1000, \\\"bucket_size\\\": 2}\",\"count-cuckoo {\\\"capacity\\\": 1000, \\\"bucket_size\\\": 4}\",\"count-cuckoo {\\\"capacity\\\": 500, \\\"bucket_size\\\": 2}\",\"count-cuckoo {\\\"capacity\\\": 500, \\\"bucket_size\\\": 4}\",\"count-min-sketch {\\\"width\\\": 100, \\\"depth\\\": 3}\",\"count-min-sketch {\\\"width\\\": 100, \\\"depth\\\": 5}\",\"count-min-sketch {\\\"width\\\": 20, \\\"depth\\\": 2}\",\"count-min-sketch {\\\"width\\\": 20, \\\"depth\\\": 3}\",\"count-min-sketch {\\\"width\\\": 50, \\\"depth\\\": 2}\",\"count-min-sketch {\\\"width\\\": 50, \\\"depth\\\": 3}\",\"count-min-sketch {\\\"width\\\": 500, \\\"depth\\\": 3}\",\"count-min-sketch {\\\"width\\\": 500, \\\"depth\\\": 5}\",\"heavy-hitters {\\\"num_hitters\\\": 10, \\\"width\\\": 50, \\\"depth\\\": 2}\",\"heavy-hitters {\\\"num_hitters\\\": 10, \\\"width\\\": 50, \\\"depth\\\": 3}\",\"heavy-hitters {\\\"num_hitters\\\": 100, \\\"width\\\": 1000, \\\"depth\\\": 3}\",\"heavy-hitters {\\\"num_hitters\\\": 100, \\\"width\\\": 1000, \\\"depth\\\": 5}\",\"heavy-hitters {\\\"num_hitters\\\": 50, \\\"width\\\": 100, \\\"depth\\\": 3}\",\"heavy-hitters {\\\"num_hitters\\\": 50, \\\"width\\\": 100, \\\"depth\\\": 5}\",\"heavy-hitters {\\\"num_hitters\\\": 50, \\\"width\\\": 20, \\\"depth\\\": 2}\",\"heavy-hitters {\\\"num_hitters\\\": 50, \\\"width\\\": 20, \\\"depth\\\": 3}\",\"stream-threshold {\\\"threshold\\\": 100, \\\"width\\\": 1000, \\\"depth\\\": 3}\",\"stream-threshold {\\\"threshold\\\": 100, \\\"width\\\": 1000, \\\"depth\\\": 5}\",\"stream-threshold {\\\"threshold\\\": 100, \\\"width\\\": 250, \\\"depth\\\": 3}\",\"stream-threshold {\\\"threshold\\\": 100, \\\"width\\\": 250, \\\"depth\\\": 5}\",\"stream-threshold {\\\"threshold\\\": 50, \\\"width\\\": 100, \\\"depth\\\": 2}\",\"stream-threshold {\\\"threshold\\\": 50, \\\"width\\\": 100, \\\"depth\\\": 3}\",\"stream-threshold {\\\"threshold\\\": 50, \\\"width\\\": 1000, \\\"depth\\\": 3}\",\"stream-threshold {\\\"threshold\\\": 50, \\\"width\\\": 1000, \\\"depth\\\": 5}\",\"stream-threshold {\\\"threshold\\\": 50, \\\"width\\\": 250, \\\"depth\\\": 3}\",\"stream-threshold {\\\"threshold\\\": 50, \\\"width\\\": 250, \\\"depth\\\": 5}\"],\"y\":[1.0,1.0,1.0,1.0234424542326366,1.0,1.046728971962617,1.046728971962617,1.046728971962617,0.9768694187726759,1.046728971962617,1.046728971962617,1.046728971962617,1.000207684319834,1.000207684319834,1.000207684319834,1.000207684319834,1.0234424542326366,1.046728971962617,0.9532710280373831,1.0,1.0234424542326366,1.0,1.0234424542326366,1.0234424542326366,1.0,1.0,1.0234424542326366,1.0,1.0234424542326366,1.0234424542326366,1.0234424542326366,1.0234424542326366,1.0234424542326366,1.0234424542326366,1.0234424542326366,1.0234424542326366],\"type\":\"bar\"},{\"marker\":{\"color\":\"#AB63FA\"},\"name\":\"letter\",\"x\":[\"DictRam {}\",\"count-bloom {\\\"est_elements\\\": 100, \\\"false_positive_rate\\\": 0.02}\",\"count-bloom {\\\"est_elements\\\": 100, \\\"false_positive_rate\\\": 0.05}\",\"count-bloom {\\\"est_elements\\\": 100, \\\"false_positive_rate\\\": 0.08}\",\"count-cuckoo {\\\"capacity\\\": 100, \\\"bucket_size\\\": 2}\",\"count-cuckoo {\\\"capacity\\\": 100, \\\"bucket_size\\\": 4}\",\"count-cuckoo {\\\"capacity\\\": 1000, \\\"bucket_size\\\": 2}\",\"count-cuckoo {\\\"capacity\\\": 1000, \\\"bucket_size\\\": 4}\",\"count-cuckoo {\\\"capacity\\\": 500, \\\"bucket_size\\\": 2}\",\"count-cuckoo {\\\"capacity\\\": 500, \\\"bucket_size\\\": 4}\",\"count-min-sketch {\\\"width\\\": 100, \\\"depth\\\": 3}\",\"count-min-sketch {\\\"width\\\": 100, \\\"depth\\\": 5}\",\"count-min-sketch {\\\"width\\\": 20, \\\"depth\\\": 2}\",\"count-min-sketch {\\\"width\\\": 20, \\\"depth\\\": 3}\",\"count-min-sketch {\\\"width\\\": 50, \\\"depth\\\": 2}\",\"count-min-sketch {\\\"width\\\": 50, \\\"depth\\\": 3}\",\"count-min-sketch {\\\"width\\\": 500, \\\"depth\\\": 3}\",\"count-min-sketch {\\\"width\\\": 500, \\\"depth\\\": 5}\",\"heavy-hitters {\\\"num_hitters\\\": 10, \\\"width\\\": 50, \\\"depth\\\": 2}\",\"heavy-hitters {\\\"num_hitters\\\": 10, \\\"width\\\": 50, \\\"depth\\\": 3}\",\"heavy-hitters {\\\"num_hitters\\\": 100, \\\"width\\\": 1000, \\\"depth\\\": 3}\",\"heavy-hitters {\\\"num_hitters\\\": 100, \\\"width\\\": 1000, \\\"depth\\\": 5}\",\"heavy-hitters {\\\"num_hitters\\\": 50, \\\"width\\\": 100, \\\"depth\\\": 3}\",\"heavy-hitters {\\\"num_hitters\\\": 50, \\\"width\\\": 100, \\\"depth\\\": 5}\",\"heavy-hitters {\\\"num_hitters\\\": 50, \\\"width\\\": 20, \\\"depth\\\": 2}\",\"heavy-hitters {\\\"num_hitters\\\": 50, \\\"width\\\": 20, \\\"depth\\\": 3}\",\"stream-threshold {\\\"threshold\\\": 100, \\\"width\\\": 1000, \\\"depth\\\": 3}\",\"stream-threshold {\\\"threshold\\\": 100, \\\"width\\\": 1000, \\\"depth\\\": 5}\",\"stream-threshold {\\\"threshold\\\": 100, \\\"width\\\": 250, \\\"depth\\\": 3}\",\"stream-threshold {\\\"threshold\\\": 100, \\\"width\\\": 250, \\\"depth\\\": 5}\",\"stream-threshold {\\\"threshold\\\": 50, \\\"width\\\": 100, \\\"depth\\\": 2}\",\"stream-threshold {\\\"threshold\\\": 50, \\\"width\\\": 100, \\\"depth\\\": 3}\",\"stream-threshold {\\\"threshold\\\": 50, \\\"width\\\": 1000, \\\"depth\\\": 3}\",\"stream-threshold {\\\"threshold\\\": 50, \\\"width\\\": 1000, \\\"depth\\\": 5}\",\"stream-threshold {\\\"threshold\\\": 50, \\\"width\\\": 250, \\\"depth\\\": 3}\",\"stream-threshold {\\\"threshold\\\": 50, \\\"width\\\": 250, \\\"depth\\\": 5}\"],\"y\":[1.0,0.9909134909137829,0.9924774614284845,0.999774552771091,0.990275038458346,0.9984586803275045,1.0110012742302157,0.985574671950748,0.9981186109671241,0.9926439184158473,1.0006067939002847,0.9952303895014011,0.8503842107206907,0.9089374551947939,0.9629718215934921,0.9717391953460529,0.9829100380042578,0.9982501028605536,0.9655518874530646,0.9785468758117694,1.0019656836774584,0.9855253446894344,0.989293857599038,1.0032368258717497,0.8503866021115143,0.9152477515166927,1.0044974660447397,0.9907735042927152,0.9901893226860793,1.005405137451492,0.9749865825494749,0.9946330710178891,1.000403139940437,0.9951333520738845,0.9968897199793538,0.9846127721996214],\"type\":\"bar\"},{\"marker\":{\"color\":\"#FFA15A\"},\"name\":\"mnist\",\"x\":[\"DictRam {}\",\"count-bloom {\\\"est_elements\\\": 100, \\\"false_positive_rate\\\": 0.02}\",\"count-bloom {\\\"est_elements\\\": 100, \\\"false_positive_rate\\\": 0.05}\",\"count-bloom {\\\"est_elements\\\": 100, \\\"false_positive_rate\\\": 0.08}\",\"count-cuckoo {\\\"capacity\\\": 100, \\\"bucket_size\\\": 2}\",\"count-cuckoo {\\\"capacity\\\": 100, \\\"bucket_size\\\": 4}\",\"count-cuckoo {\\\"capacity\\\": 1000, \\\"bucket_size\\\": 2}\",\"count-cuckoo {\\\"capacity\\\": 1000, \\\"bucket_size\\\": 4}\",\"count-cuckoo {\\\"capacity\\\": 500, \\\"bucket_size\\\": 2}\",\"count-cuckoo {\\\"capacity\\\": 500, \\\"bucket_size\\\": 4}\",\"count-min-sketch {\\\"width\\\": 100, \\\"depth\\\": 3}\",\"count-min-sketch {\\\"width\\\": 100, \\\"depth\\\": 5}\",\"count-min-sketch {\\\"width\\\": 20, \\\"depth\\\": 2}\",\"count-min-sketch {\\\"width\\\": 20, \\\"depth\\\": 3}\",\"count-min-sketch {\\\"width\\\": 50, \\\"depth\\\": 2}\",\"count-min-sketch {\\\"width\\\": 50, \\\"depth\\\": 3}\",\"count-min-sketch {\\\"width\\\": 500, \\\"depth\\\": 3}\",\"count-min-sketch {\\\"width\\\": 500, \\\"depth\\\": 5}\",\"heavy-hitters {\\\"num_hitters\\\": 10, \\\"width\\\": 50, \\\"depth\\\": 2}\",\"heavy-hitters {\\\"num_hitters\\\": 10, \\\"width\\\": 50, \\\"depth\\\": 3}\",\"heavy-hitters {\\\"num_hitters\\\": 100, \\\"width\\\": 1000, \\\"depth\\\": 3}\",\"heavy-hitters {\\\"num_hitters\\\": 100, \\\"width\\\": 1000, \\\"depth\\\": 5}\",\"heavy-hitters {\\\"num_hitters\\\": 50, \\\"width\\\": 100, \\\"depth\\\": 3}\",\"heavy-hitters {\\\"num_hitters\\\": 50, \\\"width\\\": 100, \\\"depth\\\": 5}\",\"heavy-hitters {\\\"num_hitters\\\": 50, \\\"width\\\": 20, \\\"depth\\\": 2}\",\"heavy-hitters {\\\"num_hitters\\\": 50, \\\"width\\\": 20, \\\"depth\\\": 3}\",\"stream-threshold {\\\"threshold\\\": 100, \\\"width\\\": 1000, \\\"depth\\\": 3}\",\"stream-threshold {\\\"threshold\\\": 100, \\\"width\\\": 1000, \\\"depth\\\": 5}\",\"stream-threshold {\\\"threshold\\\": 100, \\\"width\\\": 250, \\\"depth\\\": 3}\",\"stream-threshold {\\\"threshold\\\": 100, \\\"width\\\": 250, \\\"depth\\\": 5}\",\"stream-threshold {\\\"threshold\\\": 50, \\\"width\\\": 100, \\\"depth\\\": 2}\",\"stream-threshold {\\\"threshold\\\": 50, \\\"width\\\": 100, \\\"depth\\\": 3}\",\"stream-threshold {\\\"threshold\\\": 50, \\\"width\\\": 1000, \\\"depth\\\": 3}\",\"stream-threshold {\\\"threshold\\\": 50, \\\"width\\\": 1000, \\\"depth\\\": 5}\",\"stream-threshold {\\\"threshold\\\": 50, \\\"width\\\": 250, \\\"depth\\\": 3}\",\"stream-threshold {\\\"threshold\\\": 50, \\\"width\\\": 250, \\\"depth\\\": 5}\"],\"y\":[1.0,1.001253174720087,1.0000444452969774,0.999043543469589,1.003365321570044,0.9998148807219097,1.0009369071936935,0.9998871923864189,1.000786572889776,1.0004779111477373,0.9952239043204058,0.9986971002385058,0.9071747087034135,0.9185429963836307,0.9760260387436561,0.9829336627512966,0.9998946524411894,0.9978759590036165,0.9736746532166275,0.9808931436172782,1.0011566040968294,1.0018343910793135,0.9947342765305603,1.0019872363320212,0.904204185327558,0.9090431773355385,1.0009602286836294,1.0004651336940285,1.0036103760852852,1.0009257097272821,0.9953667427693288,0.9968187030243546,0.9998085685779894,0.9996777716188238,0.9986093717292559,1.000862473649621],\"type\":\"bar\"},{\"marker\":{\"color\":\"#19D3F3\"},\"name\":\"motion_sense\",\"x\":[\"DictRam {}\",\"count-bloom {\\\"est_elements\\\": 100, \\\"false_positive_rate\\\": 0.02}\",\"count-bloom {\\\"est_elements\\\": 100, \\\"false_positive_rate\\\": 0.05}\",\"count-bloom {\\\"est_elements\\\": 100, \\\"false_positive_rate\\\": 0.08}\",\"count-cuckoo {\\\"capacity\\\": 100, \\\"bucket_size\\\": 2}\",\"count-cuckoo {\\\"capacity\\\": 100, \\\"bucket_size\\\": 4}\",\"count-cuckoo {\\\"capacity\\\": 1000, \\\"bucket_size\\\": 2}\",\"count-cuckoo {\\\"capacity\\\": 1000, \\\"bucket_size\\\": 4}\",\"count-cuckoo {\\\"capacity\\\": 500, \\\"bucket_size\\\": 2}\",\"count-cuckoo {\\\"capacity\\\": 500, \\\"bucket_size\\\": 4}\",\"count-min-sketch {\\\"width\\\": 100, \\\"depth\\\": 3}\",\"count-min-sketch {\\\"width\\\": 100, \\\"depth\\\": 5}\",\"count-min-sketch {\\\"width\\\": 20, \\\"depth\\\": 2}\",\"count-min-sketch {\\\"width\\\": 20, \\\"depth\\\": 3}\",\"count-min-sketch {\\\"width\\\": 50, \\\"depth\\\": 2}\",\"count-min-sketch {\\\"width\\\": 50, \\\"depth\\\": 3}\",\"count-min-sketch {\\\"width\\\": 500, \\\"depth\\\": 3}\",\"count-min-sketch {\\\"width\\\": 500, \\\"depth\\\": 5}\",\"heavy-hitters {\\\"num_hitters\\\": 10, \\\"width\\\": 50, \\\"depth\\\": 2}\",\"heavy-hitters {\\\"num_hitters\\\": 10, \\\"width\\\": 50, \\\"depth\\\": 3}\",\"heavy-hitters {\\\"num_hitters\\\": 100, \\\"width\\\": 1000, \\\"depth\\\": 3}\",\"heavy-hitters {\\\"num_hitters\\\": 100, \\\"width\\\": 1000, \\\"depth\\\": 5}\",\"heavy-hitters {\\\"num_hitters\\\": 50, \\\"width\\\": 100, \\\"depth\\\": 3}\",\"heavy-hitters {\\\"num_hitters\\\": 50, \\\"width\\\": 100, \\\"depth\\\": 5}\",\"heavy-hitters {\\\"num_hitters\\\": 50, \\\"width\\\": 20, \\\"depth\\\": 2}\",\"heavy-hitters {\\\"num_hitters\\\": 50, \\\"width\\\": 20, \\\"depth\\\": 3}\",\"stream-threshold {\\\"threshold\\\": 100, \\\"width\\\": 1000, \\\"depth\\\": 3}\",\"stream-threshold {\\\"threshold\\\": 100, \\\"width\\\": 1000, \\\"depth\\\": 5}\",\"stream-threshold {\\\"threshold\\\": 100, \\\"width\\\": 250, \\\"depth\\\": 3}\",\"stream-threshold {\\\"threshold\\\": 100, \\\"width\\\": 250, \\\"depth\\\": 5}\",\"stream-threshold {\\\"threshold\\\": 50, \\\"width\\\": 100, \\\"depth\\\": 2}\",\"stream-threshold {\\\"threshold\\\": 50, \\\"width\\\": 100, \\\"depth\\\": 3}\",\"stream-threshold {\\\"threshold\\\": 50, \\\"width\\\": 1000, \\\"depth\\\": 3}\",\"stream-threshold {\\\"threshold\\\": 50, \\\"width\\\": 1000, \\\"depth\\\": 5}\",\"stream-threshold {\\\"threshold\\\": 50, \\\"width\\\": 250, \\\"depth\\\": 3}\",\"stream-threshold {\\\"threshold\\\": 50, \\\"width\\\": 250, \\\"depth\\\": 5}\"],\"y\":[1.0,0.9871270328628315,0.9942302020703345,0.9979311265555767,0.9986765375274674,0.9802933784004971,0.9899302266207962,0.9759333891806801,0.981319129813263,0.9732103272424585,0.9939080805199866,0.9702386338721747,0.6966287272294452,0.6601705595147543,0.9867589505572104,0.9496481616858153,0.9917558847944931,0.9817358500171209,0.957543901113116,0.946172610221783,1.014559384512117,1.007002811242189,0.9613035010660885,0.9860937749033455,0.6918469910645416,0.7007977374970982,0.9854129992874978,0.9973519109282479,1.024056560877476,1.0048458445737578,0.9496204222633787,0.9537556738692771,0.9864807797870162,1.0066357540002286,0.9917647743410553,1.0066962507804924],\"type\":\"bar\"},{\"marker\":{\"color\":\"#FF6692\"},\"name\":\"satimage\",\"x\":[\"DictRam {}\",\"count-bloom {\\\"est_elements\\\": 100, \\\"false_positive_rate\\\": 0.02}\",\"count-bloom {\\\"est_elements\\\": 100, \\\"false_positive_rate\\\": 0.05}\",\"count-bloom {\\\"est_elements\\\": 100, \\\"false_positive_rate\\\": 0.08}\",\"count-cuckoo {\\\"capacity\\\": 100, \\\"bucket_size\\\": 2}\",\"count-cuckoo {\\\"capacity\\\": 100, \\\"bucket_size\\\": 4}\",\"count-cuckoo {\\\"capacity\\\": 1000, \\\"bucket_size\\\": 2}\",\"count-cuckoo {\\\"capacity\\\": 1000, \\\"bucket_size\\\": 4}\",\"count-cuckoo {\\\"capacity\\\": 500, \\\"bucket_size\\\": 2}\",\"count-cuckoo {\\\"capacity\\\": 500, \\\"bucket_size\\\": 4}\",\"count-min-sketch {\\\"width\\\": 100, \\\"depth\\\": 3}\",\"count-min-sketch {\\\"width\\\": 100, \\\"depth\\\": 5}\",\"count-min-sketch {\\\"width\\\": 20, \\\"depth\\\": 2}\",\"count-min-sketch {\\\"width\\\": 20, \\\"depth\\\": 3}\",\"count-min-sketch {\\\"width\\\": 50, \\\"depth\\\": 2}\",\"count-min-sketch {\\\"width\\\": 50, \\\"depth\\\": 3}\",\"count-min-sketch {\\\"width\\\": 500, \\\"depth\\\": 3}\",\"count-min-sketch {\\\"width\\\": 500, \\\"depth\\\": 5}\",\"heavy-hitters {\\\"num_hitters\\\": 10, \\\"width\\\": 50, \\\"depth\\\": 2}\",\"heavy-hitters {\\\"num_hitters\\\": 10, \\\"width\\\": 50, \\\"depth\\\": 3}\",\"heavy-hitters {\\\"num_hitters\\\": 100, \\\"width\\\": 1000, \\\"depth\\\": 3}\",\"heavy-hitters {\\\"num_hitters\\\": 100, \\\"width\\\": 1000, \\\"depth\\\": 5}\",\"heavy-hitters {\\\"num_hitters\\\": 50, \\\"width\\\": 100, \\\"depth\\\": 3}\",\"heavy-hitters {\\\"num_hitters\\\": 50, \\\"width\\\": 100, \\\"depth\\\": 5}\",\"heavy-hitters {\\\"num_hitters\\\": 50, \\\"width\\\": 20, \\\"depth\\\": 2}\",\"heavy-hitters {\\\"num_hitters\\\": 50, \\\"width\\\": 20, \\\"depth\\\": 3}\",\"stream-threshold {\\\"threshold\\\": 100, \\\"width\\\": 1000, \\\"depth\\\": 3}\",\"stream-threshold {\\\"threshold\\\": 100, \\\"width\\\": 1000, \\\"depth\\\": 5}\",\"stream-threshold {\\\"threshold\\\": 100, \\\"width\\\": 250, \\\"depth\\\": 3}\",\"stream-threshold {\\\"threshold\\\": 100, \\\"width\\\": 250, \\\"depth\\\": 5}\",\"stream-threshold {\\\"threshold\\\": 50, \\\"width\\\": 100, \\\"depth\\\": 2}\",\"stream-threshold {\\\"threshold\\\": 50, \\\"width\\\": 100, \\\"depth\\\": 3}\",\"stream-threshold {\\\"threshold\\\": 50, \\\"width\\\": 1000, \\\"depth\\\": 3}\",\"stream-threshold {\\\"threshold\\\": 50, \\\"width\\\": 1000, \\\"depth\\\": 5}\",\"stream-threshold {\\\"threshold\\\": 50, \\\"width\\\": 250, \\\"depth\\\": 3}\",\"stream-threshold {\\\"threshold\\\": 50, \\\"width\\\": 250, \\\"depth\\\": 5}\"],\"y\":[1.0,1.0012908095444077,1.0034896532783628,1.0016403580862288,1.0087457945800673,1.0056684421849398,1.0044312567118914,0.9993444854886522,1.0008806930164187,0.9939552522339532,0.9993939293006482,0.9933211897124559,0.9578232486166713,0.966275383288031,0.9940270008271791,1.0064435678877637,1.0008781581755566,1.0064976583504952,1.0038571372056366,1.0101580110485466,1.006447804937566,0.9991154095978355,1.004603877200926,1.0057335338558315,0.9651399215556008,0.9726419174369011,1.0126607076545797,1.0081012304905759,0.9998885993471808,0.9988474526751585,0.9967160351466399,1.0055257819298118,1.0028605743804055,1.0014409175804941,1.0046832238183172,1.0006901477769479],\"type\":\"bar\"},{\"marker\":{\"color\":\"#B6E880\"},\"name\":\"vehicle\",\"x\":[\"DictRam {}\",\"count-bloom {\\\"est_elements\\\": 100, \\\"false_positive_rate\\\": 0.02}\",\"count-bloom {\\\"est_elements\\\": 100, \\\"false_positive_rate\\\": 0.05}\",\"count-bloom {\\\"est_elements\\\": 100, \\\"false_positive_rate\\\": 0.08}\",\"count-cuckoo {\\\"capacity\\\": 100, \\\"bucket_size\\\": 2}\",\"count-cuckoo {\\\"capacity\\\": 100, \\\"bucket_size\\\": 4}\",\"count-cuckoo {\\\"capacity\\\": 1000, \\\"bucket_size\\\": 2}\",\"count-cuckoo {\\\"capacity\\\": 1000, \\\"bucket_size\\\": 4}\",\"count-cuckoo {\\\"capacity\\\": 500, \\\"bucket_size\\\": 2}\",\"count-cuckoo {\\\"capacity\\\": 500, \\\"bucket_size\\\": 4}\",\"count-min-sketch {\\\"width\\\": 100, \\\"depth\\\": 3}\",\"count-min-sketch {\\\"width\\\": 100, \\\"depth\\\": 5}\",\"count-min-sketch {\\\"width\\\": 20, \\\"depth\\\": 2}\",\"count-min-sketch {\\\"width\\\": 20, \\\"depth\\\": 3}\",\"count-min-sketch {\\\"width\\\": 50, \\\"depth\\\": 2}\",\"count-min-sketch {\\\"width\\\": 50, \\\"depth\\\": 3}\",\"count-min-sketch {\\\"width\\\": 500, \\\"depth\\\": 3}\",\"count-min-sketch {\\\"width\\\": 500, \\\"depth\\\": 5}\",\"heavy-hitters {\\\"num_hitters\\\": 10, \\\"width\\\": 50, \\\"depth\\\": 2}\",\"heavy-hitters {\\\"num_hitters\\\": 10, \\\"width\\\": 50, \\\"depth\\\": 3}\",\"heavy-hitters {\\\"num_hitters\\\": 100, \\\"width\\\": 1000, \\\"depth\\\": 3}\",\"heavy-hitters {\\\"num_hitters\\\": 100, \\\"width\\\": 1000, \\\"depth\\\": 5}\",\"heavy-hitters {\\\"num_hitters\\\": 50, \\\"width\\\": 100, \\\"depth\\\": 3}\",\"heavy-hitters {\\\"num_hitters\\\": 50, \\\"width\\\": 100, \\\"depth\\\": 5}\",\"heavy-hitters {\\\"num_hitters\\\": 50, \\\"width\\\": 20, \\\"depth\\\": 2}\",\"heavy-hitters {\\\"num_hitters\\\": 50, \\\"width\\\": 20, \\\"depth\\\": 3}\",\"stream-threshold {\\\"threshold\\\": 100, \\\"width\\\": 1000, \\\"depth\\\": 3}\",\"stream-threshold {\\\"threshold\\\": 100, \\\"width\\\": 1000, \\\"depth\\\": 5}\",\"stream-threshold {\\\"threshold\\\": 100, \\\"width\\\": 250, \\\"depth\\\": 3}\",\"stream-threshold {\\\"threshold\\\": 100, \\\"width\\\": 250, \\\"depth\\\": 5}\",\"stream-threshold {\\\"threshold\\\": 50, \\\"width\\\": 100, \\\"depth\\\": 2}\",\"stream-threshold {\\\"threshold\\\": 50, \\\"width\\\": 100, \\\"depth\\\": 3}\",\"stream-threshold {\\\"threshold\\\": 50, \\\"width\\\": 1000, \\\"depth\\\": 3}\",\"stream-threshold {\\\"threshold\\\": 50, \\\"width\\\": 1000, \\\"depth\\\": 5}\",\"stream-threshold {\\\"threshold\\\": 50, \\\"width\\\": 250, \\\"depth\\\": 3}\",\"stream-threshold {\\\"threshold\\\": 50, \\\"width\\\": 250, \\\"depth\\\": 5}\"],\"y\":[1.0,1.080800490337787,1.080800490337787,1.1338354000403708,1.0695346019854721,1.0164510856221805,1.107781608891562,0.9580165798697841,1.0705372837531681,1.0960346773526657,1.0755924913025854,1.0796483446133214,1.0632509585374934,1.1182841502873184,1.1208638562120996,0.9819482086151753,0.9735541367683425,1.1174175857198099,1.0450728886763305,1.037712758252739,1.0037931899364496,1.0431989658635206,1.1065345538261404,1.1625210850932475,1.0452409344559705,0.9970951661973164,1.009497564420153,1.0410700183408694,1.1568302676797857,0.9947644510887534,1.0465740302283857,1.0850122675398697,1.1568302676797857,1.008552022576365,1.0792674979337216,1.1032496132688079],\"type\":\"bar\"},{\"marker\":{\"color\":\"#FF97FF\"},\"name\":\"wine\",\"x\":[\"DictRam {}\",\"count-bloom {\\\"est_elements\\\": 100, \\\"false_positive_rate\\\": 0.02}\",\"count-bloom {\\\"est_elements\\\": 100, \\\"false_positive_rate\\\": 0.05}\",\"count-bloom {\\\"est_elements\\\": 100, \\\"false_positive_rate\\\": 0.08}\",\"count-cuckoo {\\\"capacity\\\": 100, \\\"bucket_size\\\": 2}\",\"count-cuckoo {\\\"capacity\\\": 100, \\\"bucket_size\\\": 4}\",\"count-cuckoo {\\\"capacity\\\": 1000, \\\"bucket_size\\\": 2}\",\"count-cuckoo {\\\"capacity\\\": 1000, \\\"bucket_size\\\": 4}\",\"count-cuckoo {\\\"capacity\\\": 500, \\\"bucket_size\\\": 2}\",\"count-cuckoo {\\\"capacity\\\": 500, \\\"bucket_size\\\": 4}\",\"count-min-sketch {\\\"width\\\": 100, \\\"depth\\\": 3}\",\"count-min-sketch {\\\"width\\\": 100, \\\"depth\\\": 5}\",\"count-min-sketch {\\\"width\\\": 20, \\\"depth\\\": 2}\",\"count-min-sketch {\\\"width\\\": 20, \\\"depth\\\": 3}\",\"count-min-sketch {\\\"width\\\": 50, \\\"depth\\\": 2}\",\"count-min-sketch {\\\"width\\\": 50, \\\"depth\\\": 3}\",\"count-min-sketch {\\\"width\\\": 500, \\\"depth\\\": 3}\",\"count-min-sketch {\\\"width\\\": 500, \\\"depth\\\": 5}\",\"heavy-hitters {\\\"num_hitters\\\": 10, \\\"width\\\": 50, \\\"depth\\\": 2}\",\"heavy-hitters {\\\"num_hitters\\\": 10, \\\"width\\\": 50, \\\"depth\\\": 3}\",\"heavy-hitters {\\\"num_hitters\\\": 100, \\\"width\\\": 1000, \\\"depth\\\": 3}\",\"heavy-hitters {\\\"num_hitters\\\": 100, \\\"width\\\": 1000, \\\"depth\\\": 5}\",\"heavy-hitters {\\\"num_hitters\\\": 50, \\\"width\\\": 100, \\\"depth\\\": 3}\",\"heavy-hitters {\\\"num_hitters\\\": 50, \\\"width\\\": 100, \\\"depth\\\": 5}\",\"heavy-hitters {\\\"num_hitters\\\": 50, \\\"width\\\": 20, \\\"depth\\\": 2}\",\"heavy-hitters {\\\"num_hitters\\\": 50, \\\"width\\\": 20, \\\"depth\\\": 3}\",\"stream-threshold {\\\"threshold\\\": 100, \\\"width\\\": 1000, \\\"depth\\\": 3}\",\"stream-threshold {\\\"threshold\\\": 100, \\\"width\\\": 1000, \\\"depth\\\": 5}\",\"stream-threshold {\\\"threshold\\\": 100, \\\"width\\\": 250, \\\"depth\\\": 3}\",\"stream-threshold {\\\"threshold\\\": 100, \\\"width\\\": 250, \\\"depth\\\": 5}\",\"stream-threshold {\\\"threshold\\\": 50, \\\"width\\\": 100, \\\"depth\\\": 2}\",\"stream-threshold {\\\"threshold\\\": 50, \\\"width\\\": 100, \\\"depth\\\": 3}\",\"stream-threshold {\\\"threshold\\\": 50, \\\"width\\\": 1000, \\\"depth\\\": 3}\",\"stream-threshold {\\\"threshold\\\": 50, \\\"width\\\": 1000, \\\"depth\\\": 5}\",\"stream-threshold {\\\"threshold\\\": 50, \\\"width\\\": 250, \\\"depth\\\": 3}\",\"stream-threshold {\\\"threshold\\\": 50, \\\"width\\\": 250, \\\"depth\\\": 5}\"],\"y\":[1.0,1.0006595833370093,0.9810030759421722,1.0006595833370093,0.9814281748737345,0.981492750680142,0.9615534189852687,1.0388682444756974,0.9811303490376158,0.981492750680142,1.0388682444756974,0.9802563753868244,1.0388682444756974,0.961003753247451,0.961003753247451,0.961003753247451,0.9811533420048254,0.9618793201982397,0.9428001616940562,0.9428001616940562,0.9807597969053647,1.019655307265552,0.9611799336939987,1.00031992502482,0.9428001616940562,0.9418422118853288,0.9434635513776295,0.9623632774538858,0.9809999469152016,0.9802563753868244,0.9409204947946005,0.9625077841711991,0.9809999469152016,0.9802563753868244,0.9625077841711991,0.9802563753868244],\"type\":\"bar\"}],                        {\"template\":{\"data\":{\"histogram2dcontour\":[{\"type\":\"histogram2dcontour\",\"colorbar\":{\"outlinewidth\":0,\"ticks\":\"\"},\"colorscale\":[[0.0,\"#0d0887\"],[0.1111111111111111,\"#46039f\"],[0.2222222222222222,\"#7201a8\"],[0.3333333333333333,\"#9c179e\"],[0.4444444444444444,\"#bd3786\"],[0.5555555555555556,\"#d8576b\"],[0.6666666666666666,\"#ed7953\"],[0.7777777777777778,\"#fb9f3a\"],[0.8888888888888888,\"#fdca26\"],[1.0,\"#f0f921\"]]}],\"choropleth\":[{\"type\":\"choropleth\",\"colorbar\":{\"outlinewidth\":0,\"ticks\":\"\"}}],\"histogram2d\":[{\"type\":\"histogram2d\",\"colorbar\":{\"outlinewidth\":0,\"ticks\":\"\"},\"colorscale\":[[0.0,\"#0d0887\"],[0.1111111111111111,\"#46039f\"],[0.2222222222222222,\"#7201a8\"],[0.3333333333333333,\"#9c179e\"],[0.4444444444444444,\"#bd3786\"],[0.5555555555555556,\"#d8576b\"],[0.6666666666666666,\"#ed7953\"],[0.7777777777777778,\"#fb9f3a\"],[0.8888888888888888,\"#fdca26\"],[1.0,\"#f0f921\"]]}],\"heatmap\":[{\"type\":\"heatmap\",\"colorbar\":{\"outlinewidth\":0,\"ticks\":\"\"},\"colorscale\":[[0.0,\"#0d0887\"],[0.1111111111111111,\"#46039f\"],[0.2222222222222222,\"#7201a8\"],[0.3333333333333333,\"#9c179e\"],[0.4444444444444444,\"#bd3786\"],[0.5555555555555556,\"#d8576b\"],[0.6666666666666666,\"#ed7953\"],[0.7777777777777778,\"#fb9f3a\"],[0.8888888888888888,\"#fdca26\"],[1.0,\"#f0f921\"]]}],\"heatmapgl\":[{\"type\":\"heatmapgl\",\"colorbar\":{\"outlinewidth\":0,\"ticks\":\"\"},\"colorscale\":[[0.0,\"#0d0887\"],[0.1111111111111111,\"#46039f\"],[0.2222222222222222,\"#7201a8\"],[0.3333333333333333,\"#9c179e\"],[0.4444444444444444,\"#bd3786\"],[0.5555555555555556,\"#d8576b\"],[0.6666666666666666,\"#ed7953\"],[0.7777777777777778,\"#fb9f3a\"],[0.8888888888888888,\"#fdca26\"],[1.0,\"#f0f921\"]]}],\"contourcarpet\":[{\"type\":\"contourcarpet\",\"colorbar\":{\"outlinewidth\":0,\"ticks\":\"\"}}],\"contour\":[{\"type\":\"contour\",\"colorbar\":{\"outlinewidth\":0,\"ticks\":\"\"},\"colorscale\":[[0.0,\"#0d0887\"],[0.1111111111111111,\"#46039f\"],[0.2222222222222222,\"#7201a8\"],[0.3333333333333333,\"#9c179e\"],[0.4444444444444444,\"#bd3786\"],[0.5555555555555556,\"#d8576b\"],[0.6666666666666666,\"#ed7953\"],[0.7777777777777778,\"#fb9f3a\"],[0.8888888888888888,\"#fdca26\"],[1.0,\"#f0f921\"]]}],\"surface\":[{\"type\":\"surface\",\"colorbar\":{\"outlinewidth\":0,\"ticks\":\"\"},\"colorscale\":[[0.0,\"#0d0887\"],[0.1111111111111111,\"#46039f\"],[0.2222222222222222,\"#7201a8\"],[0.3333333333333333,\"#9c179e\"],[0.4444444444444444,\"#bd3786\"],[0.5555555555555556,\"#d8576b\"],[0.6666666666666666,\"#ed7953\"],[0.7777777777777778,\"#fb9f3a\"],[0.8888888888888888,\"#fdca26\"],[1.0,\"#f0f921\"]]}],\"mesh3d\":[{\"type\":\"mesh3d\",\"colorbar\":{\"outlinewidth\":0,\"ticks\":\"\"}}],\"scatter\":[{\"fillpattern\":{\"fillmode\":\"overlay\",\"size\":10,\"solidity\":0.2},\"type\":\"scatter\"}],\"parcoords\":[{\"type\":\"parcoords\",\"line\":{\"colorbar\":{\"outlinewidth\":0,\"ticks\":\"\"}}}],\"scatterpolargl\":[{\"type\":\"scatterpolargl\",\"marker\":{\"colorbar\":{\"outlinewidth\":0,\"ticks\":\"\"}}}],\"bar\":[{\"error_x\":{\"color\":\"#2a3f5f\"},\"error_y\":{\"color\":\"#2a3f5f\"},\"marker\":{\"line\":{\"color\":\"#E5ECF6\",\"width\":0.5},\"pattern\":{\"fillmode\":\"overlay\",\"size\":10,\"solidity\":0.2}},\"type\":\"bar\"}],\"scattergeo\":[{\"type\":\"scattergeo\",\"marker\":{\"colorbar\":{\"outlinewidth\":0,\"ticks\":\"\"}}}],\"scatterpolar\":[{\"type\":\"scatterpolar\",\"marker\":{\"colorbar\":{\"outlinewidth\":0,\"ticks\":\"\"}}}],\"histogram\":[{\"marker\":{\"pattern\":{\"fillmode\":\"overlay\",\"size\":10,\"solidity\":0.2}},\"type\":\"histogram\"}],\"scattergl\":[{\"type\":\"scattergl\",\"marker\":{\"colorbar\":{\"outlinewidth\":0,\"ticks\":\"\"}}}],\"scatter3d\":[{\"type\":\"scatter3d\",\"line\":{\"colorbar\":{\"outlinewidth\":0,\"ticks\":\"\"}},\"marker\":{\"colorbar\":{\"outlinewidth\":0,\"ticks\":\"\"}}}],\"scattermapbox\":[{\"type\":\"scattermapbox\",\"marker\":{\"colorbar\":{\"outlinewidth\":0,\"ticks\":\"\"}}}],\"scatterternary\":[{\"type\":\"scatterternary\",\"marker\":{\"colorbar\":{\"outlinewidth\":0,\"ticks\":\"\"}}}],\"scattercarpet\":[{\"type\":\"scattercarpet\",\"marker\":{\"colorbar\":{\"outlinewidth\":0,\"ticks\":\"\"}}}],\"carpet\":[{\"aaxis\":{\"endlinecolor\":\"#2a3f5f\",\"gridcolor\":\"white\",\"linecolor\":\"white\",\"minorgridcolor\":\"white\",\"startlinecolor\":\"#2a3f5f\"},\"baxis\":{\"endlinecolor\":\"#2a3f5f\",\"gridcolor\":\"white\",\"linecolor\":\"white\",\"minorgridcolor\":\"white\",\"startlinecolor\":\"#2a3f5f\"},\"type\":\"carpet\"}],\"table\":[{\"cells\":{\"fill\":{\"color\":\"#EBF0F8\"},\"line\":{\"color\":\"white\"}},\"header\":{\"fill\":{\"color\":\"#C8D4E3\"},\"line\":{\"color\":\"white\"}},\"type\":\"table\"}],\"barpolar\":[{\"marker\":{\"line\":{\"color\":\"#E5ECF6\",\"width\":0.5},\"pattern\":{\"fillmode\":\"overlay\",\"size\":10,\"solidity\":0.2}},\"type\":\"barpolar\"}],\"pie\":[{\"automargin\":true,\"type\":\"pie\"}]},\"layout\":{\"autotypenumbers\":\"strict\",\"colorway\":[\"#636efa\",\"#EF553B\",\"#00cc96\",\"#ab63fa\",\"#FFA15A\",\"#19d3f3\",\"#FF6692\",\"#B6E880\",\"#FF97FF\",\"#FECB52\"],\"font\":{\"color\":\"#2a3f5f\"},\"hovermode\":\"closest\",\"hoverlabel\":{\"align\":\"left\"},\"paper_bgcolor\":\"white\",\"plot_bgcolor\":\"#E5ECF6\",\"polar\":{\"bgcolor\":\"#E5ECF6\",\"angularaxis\":{\"gridcolor\":\"white\",\"linecolor\":\"white\",\"ticks\":\"\"},\"radialaxis\":{\"gridcolor\":\"white\",\"linecolor\":\"white\",\"ticks\":\"\"}},\"ternary\":{\"bgcolor\":\"#E5ECF6\",\"aaxis\":{\"gridcolor\":\"white\",\"linecolor\":\"white\",\"ticks\":\"\"},\"baxis\":{\"gridcolor\":\"white\",\"linecolor\":\"white\",\"ticks\":\"\"},\"caxis\":{\"gridcolor\":\"white\",\"linecolor\":\"white\",\"ticks\":\"\"}},\"coloraxis\":{\"colorbar\":{\"outlinewidth\":0,\"ticks\":\"\"}},\"colorscale\":{\"sequential\":[[0.0,\"#0d0887\"],[0.1111111111111111,\"#46039f\"],[0.2222222222222222,\"#7201a8\"],[0.3333333333333333,\"#9c179e\"],[0.4444444444444444,\"#bd3786\"],[0.5555555555555556,\"#d8576b\"],[0.6666666666666666,\"#ed7953\"],[0.7777777777777778,\"#fb9f3a\"],[0.8888888888888888,\"#fdca26\"],[1.0,\"#f0f921\"]],\"sequentialminus\":[[0.0,\"#0d0887\"],[0.1111111111111111,\"#46039f\"],[0.2222222222222222,\"#7201a8\"],[0.3333333333333333,\"#9c179e\"],[0.4444444444444444,\"#bd3786\"],[0.5555555555555556,\"#d8576b\"],[0.6666666666666666,\"#ed7953\"],[0.7777777777777778,\"#fb9f3a\"],[0.8888888888888888,\"#fdca26\"],[1.0,\"#f0f921\"]],\"diverging\":[[0,\"#8e0152\"],[0.1,\"#c51b7d\"],[0.2,\"#de77ae\"],[0.3,\"#f1b6da\"],[0.4,\"#fde0ef\"],[0.5,\"#f7f7f7\"],[0.6,\"#e6f5d0\"],[0.7,\"#b8e186\"],[0.8,\"#7fbc41\"],[0.9,\"#4d9221\"],[1,\"#276419\"]]},\"xaxis\":{\"gridcolor\":\"white\",\"linecolor\":\"white\",\"ticks\":\"\",\"title\":{\"standoff\":15},\"zerolinecolor\":\"white\",\"automargin\":true,\"zerolinewidth\":2},\"yaxis\":{\"gridcolor\":\"white\",\"linecolor\":\"white\",\"ticks\":\"\",\"title\":{\"standoff\":15},\"zerolinecolor\":\"white\",\"automargin\":true,\"zerolinewidth\":2},\"scene\":{\"xaxis\":{\"backgroundcolor\":\"#E5ECF6\",\"gridcolor\":\"white\",\"linecolor\":\"white\",\"showbackground\":true,\"ticks\":\"\",\"zerolinecolor\":\"white\",\"gridwidth\":2},\"yaxis\":{\"backgroundcolor\":\"#E5ECF6\",\"gridcolor\":\"white\",\"linecolor\":\"white\",\"showbackground\":true,\"ticks\":\"\",\"zerolinecolor\":\"white\",\"gridwidth\":2},\"zaxis\":{\"backgroundcolor\":\"#E5ECF6\",\"gridcolor\":\"white\",\"linecolor\":\"white\",\"showbackground\":true,\"ticks\":\"\",\"zerolinecolor\":\"white\",\"gridwidth\":2}},\"shapedefaults\":{\"line\":{\"color\":\"#2a3f5f\"}},\"annotationdefaults\":{\"arrowcolor\":\"#2a3f5f\",\"arrowhead\":0,\"arrowwidth\":1},\"geo\":{\"bgcolor\":\"white\",\"landcolor\":\"#E5ECF6\",\"subunitcolor\":\"white\",\"showland\":true,\"showlakes\":true,\"lakecolor\":\"white\"},\"title\":{\"x\":0.05},\"mapbox\":{\"style\":\"light\"}}},\"shapes\":[{\"line\":{\"color\":\"red\",\"dash\":\"dash\",\"width\":1},\"type\":\"line\",\"x0\":0,\"x1\":1,\"xref\":\"x domain\",\"y0\":1,\"y1\":1,\"yref\":\"y\"}],\"yaxis\":{\"range\":[0.6,1.15],\"title\":{\"text\":\"Performance improvement\"}},\"font\":{\"family\":\"Times New Roman\",\"size\":12},\"margin\":{\"l\":0,\"r\":0,\"t\":10,\"b\":0},\"xaxis\":{\"tickfont\":{\"size\":12}}},                        {\"responsive\": true}                    ).then(function(){\n",
       "                            \n",
       "var gd = document.getElementById('1a1b96cb-0d4f-4252-8a1c-496aa0e447c2');\n",
       "var x = new MutationObserver(function (mutations, observer) {{\n",
       "        var display = window.getComputedStyle(gd).display;\n",
       "        if (!display || display === 'none') {{\n",
       "            console.log([gd, 'removed!']);\n",
       "            Plotly.purge(gd);\n",
       "            observer.disconnect();\n",
       "        }}\n",
       "}});\n",
       "\n",
       "// Listen for the removal of the full notebook cells\n",
       "var notebookContainer = gd.closest('#notebook-container');\n",
       "if (notebookContainer) {{\n",
       "    x.observe(notebookContainer, {childList: true});\n",
       "}}\n",
       "\n",
       "// Listen for the clearing of the current output cell\n",
       "var outputEl = gd.closest('.output');\n",
       "if (outputEl) {{\n",
       "    x.observe(outputEl, {childList: true});\n",
       "}}\n",
       "\n",
       "                        })                };                });            </script>        </div>"
      ]
     },
     "metadata": {},
     "output_type": "display_data"
    }
   ],
   "source": [
    "d = get_best(df, metric=None, valid_configs=None)\n",
    "# d = do_rename_and_reorder(d, remove_dict=True)\n",
    "d = d.T\n",
    "d\n",
    "\n",
    "dsets = list(d.index)\n",
    "fig = go.Figure()\n",
    "for i, c in enumerate(d.columns):\n",
    "    x = dsets\n",
    "    y = d[c]\n",
    "    name = c\n",
    "    fig.add_trace(\n",
    "        go.Bar(\n",
    "            x=x,\n",
    "            y=y,\n",
    "            # text=\"pop\",\n",
    "            # textfont=\"Times New Roman\",\n",
    "            # textposition=\"auto\",\n",
    "            name=name,\n",
    "            marker_color=px.colors.qualitative.Plotly[i]\n",
    "        )\n",
    "    )\n",
    "    \n",
    "fig.add_hline(y=1, line_width=1, line_dash=\"dash\", line_color=\"red\")\n",
    "\n",
    "fig.update_yaxes(range=[0.60, 1.15]) \n",
    "\n",
    "fig.update_layout(\n",
    "    yaxis_title=\"Performance improvement\",\n",
    "    # xaxis_title=\"Dataset\",\n",
    "    # width=800,\n",
    "    # height=200,\n",
    "    font_family=\"Times New Roman\", \n",
    "    font_size=12,\n",
    "    margin=dict(l=0, r=0, t=10, b=0),\n",
    "    xaxis=dict(tickfont = dict(size=12))\n",
    "    # legend_title_text=\"Filter\"\n",
    ")\n",
    "\n",
    "# write_figure(\"accuracy_improvement.pdf\", fig)\n",
    "    \n",
    "fig.show()"
   ]
  },
  {
   "cell_type": "code",
   "execution_count": 19,
   "id": "3e3089fc",
   "metadata": {},
   "outputs": [
    {
     "name": "stdout",
     "output_type": "stream",
     "text": [
      "\\begin{table}\n",
      "\\caption{Description of the datasets used in the experiments and the performance obtained using Dict WiSARD. For unbalanced datasets, the f1-score is reported as score, else the accuracy is reported.}\n",
      "\\label{tab:datasets}\n",
      "\\begin{tabular}{llllllrr}\n",
      "\\toprule\n",
      "Dataset & Size (KB) & Classes & #Train & #Test & Balanced & Score & Memory Footprint (Kb) \\\\\n",
      "\\midrule\n",
      "breast_cancer & 144 & 2 & 398 & 171 & no & 0.95 & 9.00 \\\\\n",
      "glass & 24 & 6 & 149 & 65 & no & 0.64 & 12.00 \\\\\n",
      "iris & 12 & 3 & 105 & 45 & yes & 0.96 & 1.00 \\\\\n",
      "letter & 2664 & 26 & 1400 & 6000 & yes & 0.86 & 301.00 \\\\\n",
      "mnist & 53672 & 10 & 60000 & 10000 & yes & 0.91 & 8975.00 \\\\\n",
      "motion_sense & 12512 & 6 & 3414 & 1020 & yes & 0.63 & 1448.00 \\\\\n",
      "satimage & 1864 & 6 & 4501 & 1929 & no & 0.87 & 108.00 \\\\\n",
      "vehicle & 132 & 3 & 676 & 170 & yes & 0.69 & 5.00 \\\\\n",
      "wine & 24 & 3 & 124 & 54 & no & 0.96 & 3.00 \\\\\n",
      "\\bottomrule\n",
      "\\end{tabular}\n",
      "\\end{table}\n",
      "\n"
     ]
    }
   ],
   "source": [
    "d = get_best(df, metric=None, improvement_col=None)\n",
    "d = do_rename_and_reorder(d, remove_dict=False)\n",
    "d = d.T\n",
    "\n",
    "d_m = get_best(df, metric=\"model size\", improvement_col=None)\n",
    "d_m = do_rename_and_reorder(d_m, remove_dict=False)\n",
    "d_m = d_m.T\n",
    "\n",
    "\n",
    "acc_meta = meta_df.merge(d[[\"Dict-WiSARD\"]], left_index=True, right_index=True)\n",
    "acc_meta = acc_meta.rename(columns={\"Dict-WiSARD\": \"Score\"})\n",
    "acc_meta = acc_meta.merge(d_m[[\"Dict-WiSARD\"]]//1e3, left_index=True, right_index=True)\n",
    "acc_meta = acc_meta.rename(columns={\"Dict-WiSARD\": \"Memory Footprint (Kb)\"})\n",
    "acc_meta = acc_meta.reset_index().rename(columns={\"index\": \"dataset\"})\n",
    "acc_meta = acc_meta.rename(columns={\n",
    "    \"dataset\": \"Dataset\",\n",
    "    \"size (KB)\": \"Size (KB)\",\n",
    "    \"classes\": \"Classes\",\n",
    "    \"train samples\": \"#Train\",\n",
    "    \"test samples\": \"#Test\",\n",
    "    \"balanced\": \"Balanced\",\n",
    "})\n",
    "latex_str = acc_meta.to_latex(\n",
    "    float_format=\"%.2f\",\n",
    "    index=False,\n",
    "    caption=\"Description of the datasets used in the experiments and the performance obtained using Dict WiSARD. For unbalanced datasets, the f1-score is reported as score, else the accuracy is reported.\",\n",
    "    label=\"tab:datasets\",\n",
    ")\n",
    "\n",
    "# write_latex_table(\"datasets.tex\", latex_str)\n",
    "\n",
    "print(latex_str)"
   ]
  },
  {
   "cell_type": "code",
   "execution_count": null,
   "id": "12b80172",
   "metadata": {},
   "outputs": [],
   "source": []
  }
 ],
 "metadata": {
  "kernelspec": {
   "display_name": "Python 3 (ipykernel)",
   "language": "python",
   "name": "python3"
  },
  "language_info": {
   "codemirror_mode": {
    "name": "ipython",
    "version": 3
   },
   "file_extension": ".py",
   "mimetype": "text/x-python",
   "name": "python",
   "nbconvert_exporter": "python",
   "pygments_lexer": "ipython3",
   "version": "3.10.12"
  }
 },
 "nbformat": 4,
 "nbformat_minor": 5
}
