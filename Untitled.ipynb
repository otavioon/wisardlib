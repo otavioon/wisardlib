{
 "cells": [
  {
   "cell_type": "code",
   "execution_count": 1,
   "id": "bfc37e3c-0726-4205-8a11-f0212ac8f2ed",
   "metadata": {},
   "outputs": [],
   "source": [
    "import matplotlib.pyplot as plt"
   ]
  },
  {
   "cell_type": "code",
   "execution_count": 8,
   "id": "5623548a-ad1b-4d22-af85-f88677531123",
   "metadata": {},
   "outputs": [
    {
     "data": {
      "text/plain": [
       "[0.03125,\n",
       " 0.0625,\n",
       " 0.0625,\n",
       " 0.09375,\n",
       " 0.09375,\n",
       " 0.09375,\n",
       " 0.125,\n",
       " 0.125,\n",
       " 0.15625,\n",
       " 0.15625,\n",
       " 0.1875,\n",
       " 0.1875,\n",
       " 0.1875,\n",
       " 0.21875,\n",
       " 0.21875,\n",
       " 0.21875,\n",
       " 0.21875,\n",
       " 0.21875,\n",
       " 0.21875,\n",
       " 0.21875,\n",
       " 0.21875,\n",
       " 0.21875,\n",
       " 0.21875,\n",
       " 0.21875,\n",
       " 0.21875,\n",
       " 0.21875,\n",
       " 0.21875,\n",
       " 0.21875,\n",
       " 0.21875,\n",
       " 0.21875,\n",
       " 0.21875,\n",
       " 0.21875,\n",
       " 0.21875,\n",
       " 0.21875,\n",
       " 0.21875,\n",
       " 0.21875,\n",
       " 0.21875,\n",
       " 0.21875,\n",
       " 0.21875,\n",
       " 0.21875,\n",
       " 0.21875,\n",
       " 0.21875,\n",
       " 0.21875,\n",
       " 0.21875,\n",
       " 0.21875,\n",
       " 0.21875,\n",
       " 0.21875,\n",
       " 0.21875,\n",
       " 0.21875]"
      ]
     },
     "execution_count": 8,
     "metadata": {},
     "output_type": "execute_result"
    }
   ],
   "source": [
    "lines = []\n",
    "with open(\"file.out\", \"r\") as f:\n",
    "    for line in f:\n",
    "        if int(line.split(\":\")[0]) % 13 == 0:\n",
    "            lines.append(float(line.strip().split(\":\")[1].strip()))\n",
    "    \n",
    "\n",
    "lines"
   ]
  },
  {
   "cell_type": "code",
   "execution_count": 11,
   "id": "9371f86f-91ad-4a7d-b69d-84a5d12cbc7f",
   "metadata": {},
   "outputs": [
    {
     "data": {
      "text/plain": [
       "[0.03125,\n",
       " 0.0625,\n",
       " 0.0625,\n",
       " 0.09375,\n",
       " 0.09375,\n",
       " 0.125,\n",
       " 0.15625,\n",
       " 0.15625,\n",
       " 0.15625,\n",
       " 0.15625,\n",
       " 0.15625,\n",
       " 0.15625,\n",
       " 0.15625,\n",
       " 0.1875,\n",
       " 0.1875,\n",
       " 0.1875,\n",
       " 0.1875,\n",
       " 0.1875,\n",
       " 0.1875,\n",
       " 0.1875,\n",
       " 0.1875,\n",
       " 0.1875,\n",
       " 0.1875,\n",
       " 0.1875,\n",
       " 0.1875,\n",
       " 0.1875,\n",
       " 0.1875,\n",
       " 0.1875,\n",
       " 0.1875,\n",
       " 0.1875,\n",
       " 0.1875,\n",
       " 0.1875,\n",
       " 0.1875,\n",
       " 0.1875,\n",
       " 0.1875,\n",
       " 0.1875,\n",
       " 0.1875,\n",
       " 0.1875,\n",
       " 0.1875,\n",
       " 0.1875,\n",
       " 0.1875,\n",
       " 0.1875,\n",
       " 0.1875,\n",
       " 0.1875,\n",
       " 0.1875,\n",
       " 0.1875,\n",
       " 0.1875,\n",
       " 0.1875,\n",
       " 0.1875,\n",
       " 0.1875]"
      ]
     },
     "execution_count": 11,
     "metadata": {},
     "output_type": "execute_result"
    }
   ],
   "source": [
    "lines = []\n",
    "with open(\"file.out\", \"r\") as f:\n",
    "    for line in f:\n",
    "        if int(line.split(\":\")[0]) % 13 == 0:\n",
    "            lines.append(float(line.strip().split(\":\")[1].strip()))\n",
    "    \n",
    "\n",
    "lines"
   ]
  },
  {
   "cell_type": "code",
   "execution_count": 13,
   "id": "f8731258-11b9-4767-9a2e-af626ac557f5",
   "metadata": {},
   "outputs": [
    {
     "data": {
      "text/plain": [
       "[0.03125,\n",
       " 0.0625,\n",
       " 0.0625,\n",
       " 0.09375,\n",
       " 0.09375,\n",
       " 0.09375,\n",
       " 0.125,\n",
       " 0.125,\n",
       " 0.125,\n",
       " 0.125,\n",
       " 0.125,\n",
       " 0.125,\n",
       " 0.125,\n",
       " 0.15625,\n",
       " 0.15625,\n",
       " 0.15625,\n",
       " 0.15625,\n",
       " 0.15625,\n",
       " 0.1875,\n",
       " 0.1875,\n",
       " 0.1875,\n",
       " 0.1875,\n",
       " 0.1875,\n",
       " 0.1875,\n",
       " 0.1875,\n",
       " 0.1875,\n",
       " 0.1875,\n",
       " 0.1875,\n",
       " 0.1875,\n",
       " 0.21875,\n",
       " 0.21875,\n",
       " 0.21875,\n",
       " 0.21875,\n",
       " 0.21875,\n",
       " 0.21875,\n",
       " 0.21875,\n",
       " 0.21875,\n",
       " 0.25,\n",
       " 0.25,\n",
       " 0.25,\n",
       " 0.25,\n",
       " 0.25,\n",
       " 0.25,\n",
       " 0.25,\n",
       " 0.25,\n",
       " 0.25,\n",
       " 0.25,\n",
       " 0.25,\n",
       " 0.25,\n",
       " 0.25]"
      ]
     },
     "execution_count": 13,
     "metadata": {},
     "output_type": "execute_result"
    }
   ],
   "source": [
    "lines = []\n",
    "with open(\"file.out\", \"r\") as f:\n",
    "    for line in f:\n",
    "        if int(line.split(\":\")[0]) % 13 == 0:\n",
    "            lines.append(float(line.strip().split(\":\")[1].strip()))\n",
    "    \n",
    "\n",
    "lines"
   ]
  },
  {
   "cell_type": "code",
   "execution_count": 14,
   "id": "82fa4474-6637-4511-ae34-44cf11f08247",
   "metadata": {},
   "outputs": [
    {
     "data": {
      "text/plain": [
       "[<matplotlib.lines.Line2D at 0x7f080e978160>]"
      ]
     },
     "execution_count": 14,
     "metadata": {},
     "output_type": "execute_result"
    },
    {
     "data": {
      "image/png": "[encoded data removed]",
      "text/plain": [
       "<Figure size 640x480 with 1 Axes>"
      ]
     },
     "metadata": {},
     "output_type": "display_data"
    }
   ],
   "source": [
    "plt.plot(list(range(len(lines))), lines)"
   ]
  }
 ],
 "metadata": {
  "kernelspec": {
   "display_name": "Python 3 (ipykernel)",
   "language": "python",
   "name": "python3"
  },
  "language_info": {
   "codemirror_mode": {
    "name": "ipython",
    "version": 3
   },
   "file_extension": ".py",
   "mimetype": "text/x-python",
   "name": "python",
   "nbconvert_exporter": "python",
   "pygments_lexer": "ipython3",
   "version": "3.10.6"
  }
 },
 "nbformat": 4,
 "nbformat_minor": 5
}
