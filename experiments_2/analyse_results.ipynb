{
 "cells": [
  {
   "cell_type": "markdown",
   "metadata": {},
   "source": [
    "# Results Neurocomputing/ESANN 2024\n",
    "\n",
    "This notebook contains the code to analyse the results of the \n",
    "Neurocomputing/ESANN 2024 paper, and it is responsible for generating\n",
    "the figures and tables in the paper.\n",
    "\n",
    "The notebook is organised as follows:\n",
    "\n",
    "1. The first section contains imports, constants, helper functions and load the \n",
    "    data.\n",
    "\n",
    "2. We show that the dict-wisard has competitive performance with the \n",
    "    classical machine learning algorithms."
   ]
  },
  {
   "cell_type": "markdown",
   "metadata": {},
   "source": [
    "## 1. General constants, hhelper functions, and data loading\n",
    "\n",
    "Imports, global constants and packages' configuration."
   ]
  },
  {
   "cell_type": "code",
   "execution_count": 2,
   "metadata": {},
   "outputs": [],
   "source": [
    "from pathlib import Path\n",
    "import pandas as pd\n",
    "import numpy as np\n",
    "from typing import List, Union\n",
    "import plotly.graph_objects as go\n",
    "import plotly.express as px"
   ]
  },
  {
   "cell_type": "code",
   "execution_count": 3,
   "metadata": {},
   "outputs": [],
   "source": [
    "# Configs\n",
    "# pd.set_option(\"display.max_columns\", 100)\n",
    "pd.set_option(\"display.float_format\", lambda x: \"%.4f\" % x)\n",
    "\n",
    "# ---------- Paths -------------\n",
    "# -- Inputs\n",
    "datasets_info_path = Path(\"../experiments/datasets_info.json\")\n",
    "\n",
    "results_path = Path(\"../experiments_2/results_tune/results.csv\")\n",
    "results_sklearn_path = Path(\n",
    "    \"../experiments/results_sklearn/results_sklearn.csv\"\n",
    ")\n",
    "\n",
    "# --- Ouptuts\n",
    "latex_tables_path = Path(\"tables\")\n",
    "figures_path = Path(\"figures\")"
   ]
  },
  {
   "cell_type": "markdown",
   "metadata": {},
   "source": [
    "Useful functions"
   ]
  },
  {
   "cell_type": "code",
   "execution_count": 4,
   "metadata": {},
   "outputs": [],
   "source": [
    "def write_figure(\n",
    "    filename: str, fig: go.Figure, path: Union[Path, str] = figures_path\n",
    "):\n",
    "    \"\"\"Write a Figure to a file.\n",
    "\n",
    "    Parameters\n",
    "    ----------\n",
    "    filename : str\n",
    "        The name of the file to write to.\n",
    "    fig : go.Figure\n",
    "        The plotly figure object.\n",
    "    path : Union[Path, str], optional\n",
    "        The path where the file will be stored, by default figures_path\n",
    "    \"\"\"\n",
    "    path = Path(path)\n",
    "    path.mkdir(exist_ok=True, parents=True)\n",
    "    fname = path / filename\n",
    "    fig.write_image(fname)\n",
    "\n",
    "    print(f\"Figure written to: {fname}\")\n",
    "    print(f\"Filename   :\", filename)\n",
    "    print(f\"Latex label:\", filename.replace(\".pdf\", \"\"))\n",
    "\n",
    "\n",
    "def write_latex_table(\n",
    "    filename: str, table: str, path: Union[Path, str] = latex_tables_path\n",
    "):\n",
    "    \"\"\"Write a latex table to a file.\n",
    "\n",
    "    Parameters\n",
    "    ----------\n",
    "    filename : str\n",
    "        The name of the file to write to.\n",
    "    table : str\n",
    "        The table, as a string.\n",
    "    path : Union[Path, str], optional\n",
    "        The path where the file will be stored, by default latex_tables_path\n",
    "    \"\"\"\n",
    "    path = Path(path)\n",
    "    path.mkdir(exist_ok=True, parents=True)\n",
    "    fname = path / filename\n",
    "    with fname.open(\"w\") as f:\n",
    "        f.write(\n",
    "            \"%%%%%%%%%%%%%%%%%%%%%%%%%%%%%%%%%%%%%%%%%%%%%%%%%%%%%%%%%%%%%%%%%%%%\\n\"\n",
    "        )\n",
    "        f.write(\n",
    "            \"%% WARNING: DO NOT CHANGE THIS FILE. IT IS GENERATED AUTOMATICALLY %\\n\"\n",
    "        )\n",
    "        f.write(\n",
    "            \"%%%%%%%%%%%%%%%%%%%%%%%%%%%%%%%%%%%%%%%%%%%%%%%%%%%%%%%%%%%%%%%%%%%%\\n\"\n",
    "        )\n",
    "        f.write(table)\n",
    "    print(f\"Table written to: {fname}\")\n",
    "\n",
    "\n",
    "def aggregate_mean_std(\n",
    "    df: pd.DataFrame,\n",
    "    group_by: List[str],\n",
    "    keys_to_aggregate: List[str],\n",
    ") -> pd.DataFrame:\n",
    "    \"\"\"Group and aggregate columns of a dataframe, using mean and std.\n",
    "\n",
    "    Parameters\n",
    "    ----------\n",
    "    df : pd.DataFrame\n",
    "        The dataframe to aggregate.\n",
    "    group_by : List[str]\n",
    "        The columns used to group the dataframe.\n",
    "    keys_to_aggregate : List[str]\n",
    "        The column names that will be aggregated.\n",
    "\n",
    "    Returns\n",
    "    -------\n",
    "    pd.DataFrame\n",
    "        A dataframe with the aggregated values.\n",
    "\n",
    "    Example\n",
    "    -------\n",
    "    >>> df = pd.DataFrame({\n",
    "    ...     \"a\": [1, 1, 2, 2],\n",
    "    ...     \"b\": [1, 2, 3, 4],\n",
    "    ...     \"c\": [5, 6, 7, 8],\n",
    "    ... })\n",
    "    >>> aggregate_mean_std(df, [\"a\"], [\"b\", \"c\"])\n",
    "       a    b  b_std    c  c_std\n",
    "    0  1 1.500  0.707 5.500  0.707\n",
    "    1  2 3.500  0.707 7.500  0.707\n",
    "\n",
    "    \"\"\"\n",
    "    x = (\n",
    "        df.groupby(group_by)[keys_to_aggregate]\n",
    "        .agg(\"mean\")\n",
    "        .join(\n",
    "            df.groupby(group_by)[keys_to_aggregate].agg(\"std\"), rsuffix=\"_std\"\n",
    "        )\n",
    "    )\n",
    "    return x.reset_index()"
   ]
  },
  {
   "cell_type": "markdown",
   "metadata": {},
   "source": [
    "### Read inputs and create a full dataframe\n",
    "\n",
    "1. Read the datasets specifications (`dataset_info`)\n",
    "2. Read the wisard results (`wisard_results`)\n",
    "3. Read the sklearn results (`sklearn_results`)\n",
    "4. Create a results dataframe, mergind dataset_info, wisard_results and sklearn_results"
   ]
  },
  {
   "cell_type": "markdown",
   "metadata": {},
   "source": [
    "#### Dataset information"
   ]
  },
  {
   "cell_type": "code",
   "execution_count": 4,
   "metadata": {},
   "outputs": [
    {
     "data": {
      "text/html": [
       "<div>\n",
       "<style scoped>\n",
       "    .dataframe tbody tr th:only-of-type {\n",
       "        vertical-align: middle;\n",
       "    }\n",
       "\n",
       "    .dataframe tbody tr th {\n",
       "        vertical-align: top;\n",
       "    }\n",
       "\n",
       "    .dataframe thead th {\n",
       "        text-align: right;\n",
       "    }\n",
       "</style>\n",
       "<table border=\"1\" class=\"dataframe\">\n",
       "  <thead>\n",
       "    <tr style=\"text-align: right;\">\n",
       "      <th></th>\n",
       "      <th>dataset_name</th>\n",
       "      <th>size</th>\n",
       "      <th>features</th>\n",
       "      <th>num_classes</th>\n",
       "      <th>train_size</th>\n",
       "      <th>test_size</th>\n",
       "      <th>balanced</th>\n",
       "      <th>metric</th>\n",
       "    </tr>\n",
       "  </thead>\n",
       "  <tbody>\n",
       "    <tr>\n",
       "      <th>0</th>\n",
       "      <td>breast_cancer</td>\n",
       "      <td>141416</td>\n",
       "      <td>30</td>\n",
       "      <td>3</td>\n",
       "      <td>398</td>\n",
       "      <td>171</td>\n",
       "      <td>False</td>\n",
       "      <td>f1 weighted</td>\n",
       "    </tr>\n",
       "    <tr>\n",
       "      <th>1</th>\n",
       "      <td>dry_bean</td>\n",
       "      <td>1773910</td>\n",
       "      <td>16</td>\n",
       "      <td>7</td>\n",
       "      <td>10888</td>\n",
       "      <td>2723</td>\n",
       "      <td>False</td>\n",
       "      <td>f1 weighted</td>\n",
       "    </tr>\n",
       "    <tr>\n",
       "      <th>2</th>\n",
       "      <td>glass</td>\n",
       "      <td>17413</td>\n",
       "      <td>9</td>\n",
       "      <td>24</td>\n",
       "      <td>149</td>\n",
       "      <td>65</td>\n",
       "      <td>False</td>\n",
       "      <td>f1 weighted</td>\n",
       "    </tr>\n",
       "  </tbody>\n",
       "</table>\n",
       "</div>"
      ],
      "text/plain": [
       "    dataset_name     size  features  num_classes  train_size  test_size  \\\n",
       "0  breast_cancer   141416        30            3         398        171   \n",
       "1       dry_bean  1773910        16            7       10888       2723   \n",
       "2          glass    17413         9           24         149         65   \n",
       "\n",
       "   balanced       metric  \n",
       "0     False  f1 weighted  \n",
       "1     False  f1 weighted  \n",
       "2     False  f1 weighted  "
      ]
     },
     "execution_count": 4,
     "metadata": {},
     "output_type": "execute_result"
    }
   ],
   "source": [
    "# Datasets information\n",
    "datasets_info = pd.read_json(datasets_info_path, orient=\"index\").reset_index(drop=True)\n",
    "datasets_info.rename(columns={\"name\": \"dataset_name\"}, inplace=True)\n",
    "datasets_info.head(n=3)"
   ]
  },
  {
   "cell_type": "code",
   "execution_count": 5,
   "metadata": {},
   "outputs": [
    {
     "name": "stderr",
     "output_type": "stream",
     "text": [
      "/tmp/ipykernel_361841/3092149693.py:4: SettingWithCopyWarning: \n",
      "A value is trying to be set on a copy of a slice from a DataFrame.\n",
      "Try using .loc[row_indexer,col_indexer] = value instead\n",
      "\n",
      "See the caveats in the documentation: https://pandas.pydata.org/pandas-docs/stable/user_guide/indexing.html#returning-a-view-versus-a-copy\n",
      "  info[\"size\"] = info[\"size\"] / 1024\n"
     ]
    },
    {
     "name": "stdout",
     "output_type": "stream",
     "text": [
      "Table written to: tables/datasets_info.tex\n"
     ]
    },
    {
     "name": "stderr",
     "output_type": "stream",
     "text": [
      "/tmp/ipykernel_402591/3092149693.py:4: SettingWithCopyWarning: \n",
      "A value is trying to be set on a copy of a slice from a DataFrame.\n",
      "Try using .loc[row_indexer,col_indexer] = value instead\n",
      "\n",
      "See the caveats in the documentation: https://pandas.pydata.org/pandas-docs/stable/user_guide/indexing.html#returning-a-view-versus-a-copy\n",
      "  info[\"size\"] = info[\"size\"] / 1024\n",
      "/tmp/ipykernel_402591/3092149693.py:16: FutureWarning: In future versions `DataFrame.to_latex` is expected to utilise the base implementation of `Styler.to_latex` for formatting and rendering. The arguments signature may therefore change. It is recommended instead to use `DataFrame.style.to_latex` which also contains additional functionality.\n",
      "  latex_str = info.to_latex(\n"
     ]
    }
   ],
   "source": [
    "info = datasets_info[\n",
    "    [\"dataset_name\", \"features\", \"size\", \"num_classes\", \"balanced\"]\n",
    "]\n",
    "info[\"size\"] = info[\"size\"] / 1024\n",
    "\n",
    "info = info.rename(\n",
    "    columns={\n",
    "        \"dataset_name\": \"Dataset\",\n",
    "        \"features\": \"Features\",\n",
    "        \"size\": \"Size (KB)\",\n",
    "        \"num_classes\": \"Classes\",\n",
    "        \"balanced\": \"Is Balanced?\",\n",
    "    }\n",
    ")\n",
    "\n",
    "latex_str = info.to_latex(\n",
    "    index=False,\n",
    "    escape=True,\n",
    "    caption=\"Datasets information\",\n",
    "    label=\"tab:datasets_info\",\n",
    "    float_format=\"%.2f\",\n",
    ")\n",
    "\n",
    "write_latex_table(\"datasets_info.tex\", latex_str)"
   ]
  },
  {
   "cell_type": "markdown",
   "metadata": {},
   "source": [
    "#### Wisard results\n",
    "\n",
    "Read and parse wisard result to `wisard_results` dataframe.\n",
    "\n",
    "**Note**: The `wisard_results` already has aggregated results for each dataset."
   ]
  },
  {
   "cell_type": "code",
   "execution_count": 6,
   "metadata": {},
   "outputs": [
    {
     "data": {
      "text/html": [
       "<div>\n",
       "<style scoped>\n",
       "    .dataframe tbody tr th:only-of-type {\n",
       "        vertical-align: middle;\n",
       "    }\n",
       "\n",
       "    .dataframe tbody tr th {\n",
       "        vertical-align: top;\n",
       "    }\n",
       "\n",
       "    .dataframe thead th {\n",
       "        text-align: right;\n",
       "    }\n",
       "</style>\n",
       "<table border=\"1\" class=\"dataframe\">\n",
       "  <thead>\n",
       "    <tr style=\"text-align: right;\">\n",
       "      <th></th>\n",
       "      <th>dataset</th>\n",
       "      <th>config_name</th>\n",
       "      <th>accuracy</th>\n",
       "      <th>accuracy_std</th>\n",
       "      <th>f1</th>\n",
       "      <th>f1_std</th>\n",
       "      <th>model_size</th>\n",
       "      <th>model_size_std</th>\n",
       "      <th>ties</th>\n",
       "      <th>ties_std</th>\n",
       "      <th>tuple_size</th>\n",
       "      <th>encoder</th>\n",
       "      <th>resolution</th>\n",
       "      <th>bleach</th>\n",
       "      <th>rams per discriminator</th>\n",
       "      <th>model</th>\n",
       "    </tr>\n",
       "  </thead>\n",
       "  <tbody>\n",
       "    <tr>\n",
       "      <th>29608</th>\n",
       "      <td>breast_cancer</td>\n",
       "      <td>CountMinSketch (W: 337.0, D: 1.0)</td>\n",
       "      <td>0.3743</td>\n",
       "      <td>0.0000</td>\n",
       "      <td>0.2039</td>\n",
       "      <td>0.0000</td>\n",
       "      <td>81840.0000</td>\n",
       "      <td>0.0000</td>\n",
       "      <td>140.0000</td>\n",
       "      <td>0.0000</td>\n",
       "      <td>4.0000</td>\n",
       "      <td>thermometer</td>\n",
       "      <td>4</td>\n",
       "      <td>3</td>\n",
       "      <td>30</td>\n",
       "      <td>wisard</td>\n",
       "    </tr>\n",
       "    <tr>\n",
       "      <th>49365</th>\n",
       "      <td>image_segmentation</td>\n",
       "      <td>CountMinSketch (W: 145.0, D: 3.0)</td>\n",
       "      <td>0.4762</td>\n",
       "      <td>0.0337</td>\n",
       "      <td>0.4312</td>\n",
       "      <td>0.0417</td>\n",
       "      <td>233548.0000</td>\n",
       "      <td>0.0000</td>\n",
       "      <td>7.0000</td>\n",
       "      <td>1.6330</td>\n",
       "      <td>47.0000</td>\n",
       "      <td>distributive-thermometer</td>\n",
       "      <td>47</td>\n",
       "      <td>14</td>\n",
       "      <td>19</td>\n",
       "      <td>wisard</td>\n",
       "    </tr>\n",
       "  </tbody>\n",
       "</table>\n",
       "</div>"
      ],
      "text/plain": [
       "                  dataset                        config_name  accuracy  \\\n",
       "29608       breast_cancer  CountMinSketch (W: 337.0, D: 1.0)    0.3743   \n",
       "49365  image_segmentation  CountMinSketch (W: 145.0, D: 3.0)    0.4762   \n",
       "\n",
       "       accuracy_std     f1  f1_std  model_size  model_size_std     ties  \\\n",
       "29608        0.0000 0.2039  0.0000  81840.0000          0.0000 140.0000   \n",
       "49365        0.0337 0.4312  0.0417 233548.0000          0.0000   7.0000   \n",
       "\n",
       "       ties_std  tuple_size                   encoder  resolution  bleach  \\\n",
       "29608    0.0000      4.0000               thermometer           4       3   \n",
       "49365    1.6330     47.0000  distributive-thermometer          47      14   \n",
       "\n",
       "       rams per discriminator   model  \n",
       "29608                      30  wisard  \n",
       "49365                      19  wisard  "
      ]
     },
     "execution_count": 6,
     "metadata": {},
     "output_type": "execute_result"
    }
   ],
   "source": [
    "def parse_wisard_config_name(row) -> str:\n",
    "    \"\"\"Given a row, parse the name of configuration.\n",
    "\n",
    "    Parameters\n",
    "    ----------\n",
    "    row : pd.Series\n",
    "        The row of the dataframe.\n",
    "\n",
    "    Returns\n",
    "    -------\n",
    "    str\n",
    "        The name of the configuration.\n",
    "    \"\"\"\n",
    "\n",
    "    names = []\n",
    "    if not pd.isna(row[\"num_hitters\"]):\n",
    "        names.append(f\"NR: {row['num_hitters']}\")\n",
    "    if not pd.isna(row[\"width\"]):\n",
    "        names.append(f\"W: {row['width']}\")\n",
    "    if not pd.isna(row[\"depth\"]):\n",
    "        names.append(f\"D: {row['depth']}\")\n",
    "    if not pd.isna(row[\"capacity\"]):\n",
    "        names.append(f\"C: {row['capacity']}\")\n",
    "    if not pd.isna(row[\"bucket_size\"]):\n",
    "        names.append(f\"BS: {row['bucket_size']}\")\n",
    "    if not pd.isna(row[\"threshold\"]):\n",
    "        names.append(f\"T: {row['threshold']}\")\n",
    "    if not pd.isna(row[\"est_elements\"]):\n",
    "        names.append(f\"EST: {row['est_elements']}\")\n",
    "    if not pd.isna(row[\"false_positive_rate\"]):\n",
    "        names.append(f\"FPR: {row['false_positive_rate']}\")\n",
    "\n",
    "    if names:\n",
    "        names = \", \".join(names)\n",
    "        return f\"{row['ram']} ({names})\"\n",
    "    else:\n",
    "        return row[\"ram\"]\n",
    "\n",
    "\n",
    "# --- Read results and add a column with the name of the configuration ---\n",
    "wisard_results = pd.read_csv(results_path).drop_duplicates()\n",
    "\n",
    "# --- Add useful columns ---\n",
    "wisard_results[\"tuple_size\"] = (\n",
    "    wisard_results[\"resolution\"] / wisard_results[\"tuple_resolution_factor\"]\n",
    ")\n",
    "wisard_results[\"config_name\"] = wisard_results.apply(\n",
    "    parse_wisard_config_name, axis=1\n",
    ")\n",
    "\n",
    "# --- Select the columns of interest ---\n",
    "wisard_results = wisard_results[\n",
    "    [\n",
    "        \"dataset_name\",\n",
    "        \"config_name\",\n",
    "        \"test_accuracy_mean\",\n",
    "        \"test_accuracy_std\",\n",
    "        \"test_f1 weighted_mean\",\n",
    "        \"test_f1 weighted_std\",\n",
    "        \"test_model size_mean\",\n",
    "        \"test_model size_std\",\n",
    "        \"test_ties_mean\",\n",
    "        \"test_ties_std\",\n",
    "        \"tuple_size\",\n",
    "        \"encoder\",\n",
    "        \"resolution\",\n",
    "        \"bleach\",\n",
    "        \"rams per discriminator\",\n",
    "        \"ram\",\n",
    "    ]\n",
    "]\n",
    "\n",
    "# --- Rename columns ---\n",
    "wisard_results = wisard_results.rename(\n",
    "    columns={\n",
    "        \"dataset_name\": \"dataset\",\n",
    "        \"ram\": \"model\",\n",
    "        \"test_ties_mean\": \"ties\",\n",
    "        \"test_ties_std\": \"ties_std\",\n",
    "        \"test_accuracy_mean\": \"accuracy\",\n",
    "        \"test_accuracy_std\": \"accuracy_std\",\n",
    "        \"test_f1 weighted_mean\": \"f1\",\n",
    "        \"test_f1 weighted_std\": \"f1_std\",\n",
    "        \"test_model size_mean\": \"model_size\",\n",
    "        \"test_model size_std\": \"model_size_std\",\n",
    "    }\n",
    ")\n",
    "\n",
    "# --- Add model column and drop duplicates ---\n",
    "wisard_results[\"model\"] = \"wisard\"\n",
    "wisard_results.drop_duplicates(inplace=True)\n",
    "\n",
    "wisard_results.sample(n=2)"
   ]
  },
  {
   "cell_type": "markdown",
   "metadata": {},
   "source": [
    "#### Scikit Learn results\n",
    "\n",
    "Read and parse sklearn result to `sklearn_results` dataframe."
   ]
  },
  {
   "cell_type": "code",
   "execution_count": 7,
   "metadata": {},
   "outputs": [
    {
     "data": {
      "text/html": [
       "<div>\n",
       "<style scoped>\n",
       "    .dataframe tbody tr th:only-of-type {\n",
       "        vertical-align: middle;\n",
       "    }\n",
       "\n",
       "    .dataframe tbody tr th {\n",
       "        vertical-align: top;\n",
       "    }\n",
       "\n",
       "    .dataframe thead th {\n",
       "        text-align: right;\n",
       "    }\n",
       "</style>\n",
       "<table border=\"1\" class=\"dataframe\">\n",
       "  <thead>\n",
       "    <tr style=\"text-align: right;\">\n",
       "      <th></th>\n",
       "      <th>dataset</th>\n",
       "      <th>model</th>\n",
       "      <th>config_name</th>\n",
       "      <th>accuracy</th>\n",
       "      <th>accuracy_std</th>\n",
       "      <th>f1</th>\n",
       "      <th>f1_std</th>\n",
       "      <th>model_size</th>\n",
       "      <th>model_size_std</th>\n",
       "    </tr>\n",
       "  </thead>\n",
       "  <tbody>\n",
       "    <tr>\n",
       "      <th>70</th>\n",
       "      <td>wine</td>\n",
       "      <td>mlp</td>\n",
       "      <td></td>\n",
       "      <td>0.8889</td>\n",
       "      <td>0.0000</td>\n",
       "      <td>0.8884</td>\n",
       "      <td>0.0000</td>\n",
       "      <td>49203.0000</td>\n",
       "      <td>0.0000</td>\n",
       "    </tr>\n",
       "    <tr>\n",
       "      <th>25</th>\n",
       "      <td>motion_sense</td>\n",
       "      <td>knn</td>\n",
       "      <td></td>\n",
       "      <td>0.5049</td>\n",
       "      <td>0.0000</td>\n",
       "      <td>0.4933</td>\n",
       "      <td>0.0000</td>\n",
       "      <td>9860342.0000</td>\n",
       "      <td>0.0000</td>\n",
       "    </tr>\n",
       "  </tbody>\n",
       "</table>\n",
       "</div>"
      ],
      "text/plain": [
       "         dataset model config_name  accuracy  accuracy_std     f1  f1_std  \\\n",
       "70          wine   mlp                0.8889        0.0000 0.8884  0.0000   \n",
       "25  motion_sense   knn                0.5049        0.0000 0.4933  0.0000   \n",
       "\n",
       "     model_size  model_size_std  \n",
       "70   49203.0000          0.0000  \n",
       "25 9860342.0000          0.0000  "
      ]
     },
     "execution_count": 7,
     "metadata": {},
     "output_type": "execute_result"
    }
   ],
   "source": [
    "# Read sklearn results and aggregate multiple runs\n",
    "sklearn_results = pd.read_csv(results_sklearn_path).drop_duplicates()\n",
    "\n",
    "# Aggregate metric for multiple runs\n",
    "sklearn_results = aggregate_mean_std(\n",
    "    df=sklearn_results,\n",
    "    group_by=[\n",
    "        \"model\",\n",
    "        \"model kwargs\",\n",
    "        \"dataset name\",\n",
    "        \"experiment name\",\n",
    "    ],\n",
    "    keys_to_aggregate=[\n",
    "        \"accuracy\",\n",
    "        \"f1 weighted\",\n",
    "        \"f1 macro\",\n",
    "        \"f1 micro\",\n",
    "        \"train time\",\n",
    "        \"predict time\",\n",
    "        \"model size\",\n",
    "    ],\n",
    ")\n",
    "\n",
    "# Select columns of interest\n",
    "sklearn_results = sklearn_results[\n",
    "    [\n",
    "        \"dataset name\",\n",
    "        \"model\",\n",
    "        \"model kwargs\",\n",
    "        \"accuracy\",\n",
    "        \"accuracy_std\",\n",
    "        \"f1 weighted\",\n",
    "        \"f1 weighted_std\",\n",
    "        \"model size\",\n",
    "        \"model size_std\",\n",
    "    ]\n",
    "]\n",
    "\n",
    "# Rename columns\n",
    "sklearn_results.rename(\n",
    "    columns={\n",
    "        \"dataset name\": \"dataset\",\n",
    "        \"model kwargs\": \"config_name\",\n",
    "        \"f1 weighted\": \"f1\",\n",
    "        \"f1 weighted_std\": \"f1_std\",\n",
    "        \"model size\": \"model_size\",\n",
    "        \"model size_std\": \"model_size_std\",\n",
    "    },\n",
    "    inplace=True,\n",
    ")\n",
    "\n",
    "# Add config_name (name of the model)\n",
    "sklearn_results[\"config_name\"] = \"\"\n",
    "\n",
    "sklearn_results.sample(n=2)"
   ]
  },
  {
   "cell_type": "markdown",
   "metadata": {},
   "source": [
    "#### Merge wisard results, sklearn results, and dataset information\n",
    "\n",
    "Create a full dataframe with all the information named  `base_results`."
   ]
  },
  {
   "cell_type": "code",
   "execution_count": 8,
   "metadata": {},
   "outputs": [
    {
     "data": {
      "text/html": [
       "<div>\n",
       "<style scoped>\n",
       "    .dataframe tbody tr th:only-of-type {\n",
       "        vertical-align: middle;\n",
       "    }\n",
       "\n",
       "    .dataframe tbody tr th {\n",
       "        vertical-align: top;\n",
       "    }\n",
       "\n",
       "    .dataframe thead th {\n",
       "        text-align: right;\n",
       "    }\n",
       "</style>\n",
       "<table border=\"1\" class=\"dataframe\">\n",
       "  <thead>\n",
       "    <tr style=\"text-align: right;\">\n",
       "      <th></th>\n",
       "      <th>dataset</th>\n",
       "      <th>model</th>\n",
       "      <th>config_name</th>\n",
       "      <th>metric</th>\n",
       "      <th>metric_std</th>\n",
       "      <th>model_size</th>\n",
       "      <th>model_size_std</th>\n",
       "      <th>accuracy</th>\n",
       "      <th>accuracy_std</th>\n",
       "      <th>f1</th>\n",
       "      <th>...</th>\n",
       "      <th>tuple_size</th>\n",
       "      <th>encoder</th>\n",
       "      <th>resolution</th>\n",
       "      <th>bleach</th>\n",
       "      <th>rams per discriminator</th>\n",
       "      <th>dataset_size</th>\n",
       "      <th>features</th>\n",
       "      <th>num_classes</th>\n",
       "      <th>train_size</th>\n",
       "      <th>test_size</th>\n",
       "    </tr>\n",
       "  </thead>\n",
       "  <tbody>\n",
       "    <tr>\n",
       "      <th>12476</th>\n",
       "      <td>image_segmentation</td>\n",
       "      <td>wisard</td>\n",
       "      <td>Dict</td>\n",
       "      <td>0.5159</td>\n",
       "      <td>0.0112</td>\n",
       "      <td>13169.3333</td>\n",
       "      <td>105.1422</td>\n",
       "      <td>0.5159</td>\n",
       "      <td>0.0112</td>\n",
       "      <td>0.5000</td>\n",
       "      <td>0.0173</td>\n",
       "      <td>17.0000</td>\n",
       "      <td>2.1602</td>\n",
       "      <td>11.0000</td>\n",
       "      <td>distributive-thermometer</td>\n",
       "      <td>11.0000</td>\n",
       "      <td>4.0000</td>\n",
       "      <td>19.0000</td>\n",
       "      <td>32678</td>\n",
       "      <td>19</td>\n",
       "      <td>7</td>\n",
       "      <td>10888</td>\n",
       "      <td>2723</td>\n",
       "    </tr>\n",
       "    <tr>\n",
       "      <th>1585</th>\n",
       "      <td>iris</td>\n",
       "      <td>wisard</td>\n",
       "      <td>Dict</td>\n",
       "      <td>0.7852</td>\n",
       "      <td>0.0105</td>\n",
       "      <td>982.6667</td>\n",
       "      <td>15.1070</td>\n",
       "      <td>0.7852</td>\n",
       "      <td>0.0105</td>\n",
       "      <td>0.7771</td>\n",
       "      <td>0.0110</td>\n",
       "      <td>14.0000</td>\n",
       "      <td>4.8990</td>\n",
       "      <td>5.0000</td>\n",
       "      <td>thermometer</td>\n",
       "      <td>5.0000</td>\n",
       "      <td>15.0000</td>\n",
       "      <td>4.0000</td>\n",
       "      <td>10389</td>\n",
       "      <td>4</td>\n",
       "      <td>3</td>\n",
       "      <td>105</td>\n",
       "      <td>45</td>\n",
       "    </tr>\n",
       "  </tbody>\n",
       "</table>\n",
       "<p>2 rows × 23 columns</p>\n",
       "</div>"
      ],
      "text/plain": [
       "                  dataset   model config_name  metric  metric_std  model_size  \\\n",
       "12476  image_segmentation  wisard        Dict  0.5159      0.0112  13169.3333   \n",
       "1585                 iris  wisard        Dict  0.7852      0.0105    982.6667   \n",
       "\n",
       "       model_size_std  accuracy  accuracy_std     f1  f1_std    ties  \\\n",
       "12476        105.1422    0.5159        0.0112 0.5000  0.0173 17.0000   \n",
       "1585          15.1070    0.7852        0.0105 0.7771  0.0110 14.0000   \n",
       "\n",
       "       ties_std  tuple_size                   encoder  resolution  bleach  \\\n",
       "12476    2.1602     11.0000  distributive-thermometer     11.0000  4.0000   \n",
       "1585     4.8990      5.0000               thermometer      5.0000 15.0000   \n",
       "\n",
       "       rams per discriminator  dataset_size  features  num_classes  \\\n",
       "12476                 19.0000         32678        19            7   \n",
       "1585                   4.0000         10389         4            3   \n",
       "\n",
       "       train_size  test_size  \n",
       "12476         168         42  \n",
       "1585          105         45  "
      ]
     },
     "execution_count": 8,
     "metadata": {},
     "output_type": "execute_result"
    }
   ],
   "source": [
    "# results is a dataframe with the results of both wisard (only dict ram) and sklearn\n",
    "# temp = wisard_results.loc[wisard_results[(wisard_results[\"config_name\"] == \"Dict\")].groupby(\"dataset\")[\"accuracy\"].idxmax()]\n",
    "# results = pd.concat([temp, sklearn_results], ignore_index=True)\n",
    "base_results = pd.concat([wisard_results, sklearn_results], ignore_index=True)\n",
    "base_results = pd.merge(\n",
    "    base_results,\n",
    "    datasets_info,\n",
    "    left_on=\"dataset\",\n",
    "    right_on=\"dataset_name\",\n",
    "    how=\"left\",\n",
    "    validate=\"many_to_one\",\n",
    ")\n",
    "\n",
    "base_results.rename(columns={\"metric\": \"metric_to_use\"}, inplace=True)\n",
    "\n",
    "# add a metric column to results. If metric_to_use is f1 weighted, copy the f1 column to metric, else copy the accuracy column. Do it for each row\n",
    "base_results[\"metric\"] = base_results.apply(\n",
    "    lambda row: row[\"accuracy\"]\n",
    "    if row[\"metric_to_use\"] == \"accuracy\"\n",
    "    else row[\"f1\"],\n",
    "    axis=1,\n",
    ")\n",
    "base_results[\"metric_std\"] = base_results.apply(\n",
    "    lambda row: row[\"accuracy_std\"]\n",
    "    if row[\"metric_to_use\"] == \"accuracy\"\n",
    "    else row[\"f1_std\"],\n",
    "    axis=1,\n",
    ")\n",
    "\n",
    "# Rename some columns\n",
    "base_results.rename(\n",
    "    columns={\n",
    "        \"size\": \"dataset_size\",\n",
    "    },\n",
    "    inplace=True,\n",
    ")\n",
    "\n",
    "# Remove dataset_name column\n",
    "base_results.drop(columns=[\"dataset_name\"], inplace=True)\n",
    "\n",
    "# We use metric column to compare models, instead of accuracy or f1\n",
    "\n",
    "# Put dataset, model, config_name, metric, metric_std, model_size, model_size_std columns first\n",
    "cols = base_results.columns.tolist()\n",
    "cols = [\n",
    "    \"dataset\",\n",
    "    \"model\",\n",
    "    \"config_name\",\n",
    "    \"metric\",\n",
    "    \"metric_std\",\n",
    "    \"model_size\",\n",
    "    \"model_size_std\",\n",
    "] + cols[2:-4]\n",
    "base_results = base_results[cols]\n",
    "\n",
    "# Drop duplicates columns\n",
    "base_results = base_results.loc[:,~base_results.columns.duplicated()]\n",
    "\n",
    "base_results.sample(n=2)"
   ]
  },
  {
   "cell_type": "code",
   "execution_count": 9,
   "metadata": {},
   "outputs": [
    {
     "data": {
      "text/plain": [
       "(14187, 23)"
      ]
     },
     "execution_count": 9,
     "metadata": {},
     "output_type": "execute_result"
    }
   ],
   "source": [
    "# Filter results\n",
    "base_results = base_results[base_results[\"model\"].isin([\"wisard\", \"knn\", \"random-forest\", \"svm\", \"mlp\"])]\n",
    "base_results = base_results[~base_results[\"dataset\"].isin([\"mnist\", \"olivetti\", \"sensorless_drive\"])]\n",
    "# base_results = base_results[~base_results[\"dataset\"].isin([\"olivetti\", \"sensorless_drive\"])]\n",
    "base_results.shape"
   ]
  },
  {
   "cell_type": "markdown",
   "metadata": {},
   "source": [
    "## 2. Wisard has competitive results with SKLearn\n",
    "\n",
    "Here we show that the dict-wisard has competitive performance with the\n",
    "classical machine learning algorithms.\n",
    "\n",
    "To do that, we plot the accuracy of the wisard and sklearn algorithms for each\n",
    "dataset."
   ]
  },
  {
   "cell_type": "code",
   "execution_count": 10,
   "metadata": {},
   "outputs": [
    {
     "data": {
      "text/plain": [
       "(3581, 23)"
      ]
     },
     "execution_count": 10,
     "metadata": {},
     "output_type": "execute_result"
    }
   ],
   "source": [
    "# Read results and filter bloom filter results\n",
    "results = base_results.copy()\n",
    "results = results[\n",
    "    (results[\"model\"] != \"wisard\") | (results[\"config_name\"] == \"Dict\")\n",
    "]\n",
    "results.shape"
   ]
  },
  {
   "cell_type": "code",
   "execution_count": 11,
   "metadata": {},
   "outputs": [
    {
     "data": {
      "text/plain": [
       "model\n",
       "knn              15\n",
       "mlp              15\n",
       "random-forest    15\n",
       "svm              15\n",
       "wisard           15\n",
       "dtype: int64"
      ]
     },
     "execution_count": 11,
     "metadata": {},
     "output_type": "execute_result"
    }
   ],
   "source": [
    "# Create a dataframe with the best performance for each dataset and model\n",
    "best_metric_df = (\n",
    "    results.groupby([\"dataset\", \"model\"])\n",
    "    .apply(lambda group: group.loc[group[\"metric\"].idxmax()])\n",
    "    .reset_index(drop=True)\n",
    ")\n",
    "\n",
    "best_metric_df.value_counts(\"model\")"
   ]
  },
  {
   "cell_type": "code",
   "execution_count": 12,
   "metadata": {},
   "outputs": [
    {
     "name": "stdout",
     "output_type": "stream",
     "text": [
      "Figure written to: figures/models_performance.pdf\n",
      "Filename   : models_performance.pdf\n",
      "Latex label: models_performance\n"
     ]
    },
    {
     "data": {
      "application/vnd.plotly.v1+json": {
       "config": {
        "plotlyServerURL": "https://plot.ly"
       },
       "data": [
        {
         "alignmentgroup": "True",
         "error_y": {
          "array": [
           0,
           0,
           0,
           0,
           0,
           0,
           0,
           0,
           0,
           0,
           0,
           0,
           0,
           0,
           0
          ]
         },
         "hovertemplate": "=knn<br>Dataset=%{x}<br>Performance=%{y}<extra></extra>",
         "legendgroup": "knn",
         "marker": {
          "color": "rgb(95, 70, 144)",
          "pattern": {
           "shape": ""
          }
         },
         "name": "knn",
         "offsetgroup": "knn",
         "orientation": "v",
         "showlegend": true,
         "textposition": "auto",
         "type": "bar",
         "x": [
          "breast_cancer",
          "dry_bean",
          "glass",
          "image_segmentation",
          "iris",
          "letter",
          "motion_sense",
          "optical_handwritten",
          "rice",
          "satimage",
          "segment",
          "sepsis",
          "vehicle",
          "wine",
          "yeast"
         ],
         "xaxis": "x",
         "y": [
          0.9178579163959281,
          0.7175232545997096,
          0.7092884420543996,
          0.5476190476190477,
          0.9555555555555556,
          0.9455,
          0.5049019607843137,
          0.988428941906149,
          0.8636907391101323,
          0.9025045416497844,
          0.9336219336219336,
          0.8909546104108189,
          0.8176470588235295,
          0.6714063714063713,
          0.5463856770422707
         ],
         "yaxis": "y"
        },
        {
         "alignmentgroup": "True",
         "error_y": {
          "array": [
           0,
           0.14704971968785469,
           0,
           0.027492869961410732,
           0,
           0.0022422706745123333,
           0.008452625592403605,
           0.004483121228581144,
           0.24718101011399493,
           0.0013219608840686324,
           0.010405631386620488,
           0,
           0,
           0,
           0
          ]
         },
         "hovertemplate": "=mlp<br>Dataset=%{x}<br>Performance=%{y}<extra></extra>",
         "legendgroup": "mlp",
         "marker": {
          "color": "rgb(29, 105, 150)",
          "pattern": {
           "shape": ""
          }
         },
         "name": "mlp",
         "offsetgroup": "mlp",
         "orientation": "v",
         "showlegend": true,
         "textposition": "auto",
         "type": "bar",
         "x": [
          "breast_cancer",
          "dry_bean",
          "glass",
          "image_segmentation",
          "iris",
          "letter",
          "motion_sense",
          "optical_handwritten",
          "rice",
          "satimage",
          "segment",
          "sepsis",
          "vehicle",
          "wine",
          "yeast"
         ],
         "xaxis": "x",
         "y": [
          0.9103013945119208,
          0.22507061835587583,
          0.4554142391626345,
          0.5555555555555555,
          0.9777777777777775,
          0.9205,
          0.6565359477124183,
          0.981028439293471,
          0.4777329795241849,
          0.9116120122328867,
          0.9422799422799423,
          0.8908920043310973,
          0.8176470588235295,
          0.8883769948810599,
          0.5895877432143035
         ],
         "yaxis": "y"
        },
        {
         "alignmentgroup": "True",
         "error_y": {
          "array": [
           0,
           0.0017192363008078674,
           0,
           0,
           0,
           0.001228519132638647,
           0.012820291010413778,
           0.0013610825370562994,
           0.0007729364284437067,
           0.001053388220941523,
           0.0008331172715577878,
           0.000026127788329374387,
           0.00339617805405661,
           0,
           0
          ]
         },
         "hovertemplate": "=random-forest<br>Dataset=%{x}<br>Performance=%{y}<extra></extra>",
         "legendgroup": "random-forest",
         "marker": {
          "color": "rgb(56, 166, 165)",
          "pattern": {
           "shape": ""
          }
         },
         "name": "random-forest",
         "offsetgroup": "random-forest",
         "orientation": "v",
         "showlegend": true,
         "textposition": "auto",
         "type": "bar",
         "x": [
          "breast_cancer",
          "dry_bean",
          "glass",
          "image_segmentation",
          "iris",
          "letter",
          "motion_sense",
          "optical_handwritten",
          "rice",
          "satimage",
          "segment",
          "sepsis",
          "vehicle",
          "wine",
          "yeast"
         ],
         "xaxis": "x",
         "y": [
          0.9708871747643292,
          0.9198474773426017,
          0.7060178946619377,
          0.6190476190476191,
          0.9333333333333332,
          0.9607222222222221,
          0.8078431372549019,
          0.9827979576880973,
          0.9152644340920002,
          0.910574331227231,
          0.9716209716209715,
          0.8908090454440197,
          0.9686274509803922,
          0.9815543316723488,
          0.6207256954912499
         ],
         "yaxis": "y"
        },
        {
         "alignmentgroup": "True",
         "error_y": {
          "array": [
           0,
           0,
           0,
           0,
           0,
           0,
           0,
           0,
           0,
           0,
           0,
           0,
           0,
           0,
           0
          ]
         },
         "hovertemplate": "=svm<br>Dataset=%{x}<br>Performance=%{y}<extra></extra>",
         "legendgroup": "svm",
         "marker": {
          "color": "rgb(15, 133, 84)",
          "pattern": {
           "shape": ""
          }
         },
         "name": "svm",
         "offsetgroup": "svm",
         "orientation": "v",
         "showlegend": true,
         "textposition": "auto",
         "type": "bar",
         "x": [
          "breast_cancer",
          "dry_bean",
          "glass",
          "image_segmentation",
          "iris",
          "letter",
          "motion_sense",
          "optical_handwritten",
          "rice",
          "satimage",
          "segment",
          "sepsis",
          "vehicle",
          "wine",
          "yeast"
         ],
         "xaxis": "x",
         "y": [
          0.8730641381054367,
          0.6014133504868324,
          0.1849650349650349,
          0.5,
          1,
          0.92,
          0.538235294117647,
          0.9919918925110768,
          0.867169718729999,
          0.892530243798912,
          0.8701298701298702,
          0.8908920043310973,
          0.7176470588235294,
          0.6486013986013985,
          0.5992100016133695
         ],
         "yaxis": "y"
        },
        {
         "alignmentgroup": "True",
         "error_y": {
          "array": [
           0.0099820632299025,
           0.0022812085867171,
           0.0224288030898329,
           0.0336717514850736,
           0,
           0.0032470309324894,
           0,
           0.0034620193541112,
           1.1102230246251563e-16,
           0.0061906608057078,
           0.0054418992299108,
           0.0002268381546205,
           0.0127073347027605,
           0.0153247986020781,
           0.0031494801628382
          ]
         },
         "hovertemplate": "=wisard<br>Dataset=%{x}<br>Performance=%{y}<extra></extra>",
         "legendgroup": "wisard",
         "marker": {
          "color": "rgb(115, 175, 72)",
          "pattern": {
           "shape": ""
          }
         },
         "name": "wisard",
         "offsetgroup": "wisard",
         "orientation": "v",
         "showlegend": true,
         "textposition": "auto",
         "type": "bar",
         "x": [
          "breast_cancer",
          "dry_bean",
          "glass",
          "image_segmentation",
          "iris",
          "letter",
          "motion_sense",
          "optical_handwritten",
          "rice",
          "satimage",
          "segment",
          "sepsis",
          "vehicle",
          "wine",
          "yeast"
         ],
         "xaxis": "x",
         "y": [
          0.9628161882204516,
          0.9024029619050484,
          0.6615428500177969,
          0.8571428571428572,
          1,
          0.9000555555555557,
          0.65,
          0.9780450131673772,
          0.8994465342855008,
          0.8866629525557234,
          0.8807118807118807,
          0.8915753747755484,
          0.8941176470588235,
          0.962856206024315,
          0.5700237244955314
         ],
         "yaxis": "y"
        }
       ],
       "layout": {
        "barmode": "group",
        "font": {
         "family": "Times New Roman",
         "size": 14
        },
        "height": 400,
        "legend": {
         "orientation": "h",
         "title": {
          "text": ""
         },
         "tracegroupgap": 0,
         "x": 0.5,
         "xanchor": "center",
         "y": 1.2,
         "yanchor": "top"
        },
        "margin": {
         "t": 60
        },
        "template": {
         "data": {
          "bar": [
           {
            "error_x": {
             "color": "#2a3f5f"
            },
            "error_y": {
             "color": "#2a3f5f"
            },
            "marker": {
             "line": {
              "color": "#E5ECF6",
              "width": 0.5
             },
             "pattern": {
              "fillmode": "overlay",
              "size": 10,
              "solidity": 0.2
             }
            },
            "type": "bar"
           }
          ],
          "barpolar": [
           {
            "marker": {
             "line": {
              "color": "#E5ECF6",
              "width": 0.5
             },
             "pattern": {
              "fillmode": "overlay",
              "size": 10,
              "solidity": 0.2
             }
            },
            "type": "barpolar"
           }
          ],
          "carpet": [
           {
            "aaxis": {
             "endlinecolor": "#2a3f5f",
             "gridcolor": "white",
             "linecolor": "white",
             "minorgridcolor": "white",
             "startlinecolor": "#2a3f5f"
            },
            "baxis": {
             "endlinecolor": "#2a3f5f",
             "gridcolor": "white",
             "linecolor": "white",
             "minorgridcolor": "white",
             "startlinecolor": "#2a3f5f"
            },
            "type": "carpet"
           }
          ],
          "choropleth": [
           {
            "colorbar": {
             "outlinewidth": 0,
             "ticks": ""
            },
            "type": "choropleth"
           }
          ],
          "contour": [
           {
            "colorbar": {
             "outlinewidth": 0,
             "ticks": ""
            },
            "colorscale": [
             [
              0,
              "#0d0887"
             ],
             [
              0.1111111111111111,
              "#46039f"
             ],
             [
              0.2222222222222222,
              "#7201a8"
             ],
             [
              0.3333333333333333,
              "#9c179e"
             ],
             [
              0.4444444444444444,
              "#bd3786"
             ],
             [
              0.5555555555555556,
              "#d8576b"
             ],
             [
              0.6666666666666666,
              "#ed7953"
             ],
             [
              0.7777777777777778,
              "#fb9f3a"
             ],
             [
              0.8888888888888888,
              "#fdca26"
             ],
             [
              1,
              "#f0f921"
             ]
            ],
            "type": "contour"
           }
          ],
          "contourcarpet": [
           {
            "colorbar": {
             "outlinewidth": 0,
             "ticks": ""
            },
            "type": "contourcarpet"
           }
          ],
          "heatmap": [
           {
            "colorbar": {
             "outlinewidth": 0,
             "ticks": ""
            },
            "colorscale": [
             [
              0,
              "#0d0887"
             ],
             [
              0.1111111111111111,
              "#46039f"
             ],
             [
              0.2222222222222222,
              "#7201a8"
             ],
             [
              0.3333333333333333,
              "#9c179e"
             ],
             [
              0.4444444444444444,
              "#bd3786"
             ],
             [
              0.5555555555555556,
              "#d8576b"
             ],
             [
              0.6666666666666666,
              "#ed7953"
             ],
             [
              0.7777777777777778,
              "#fb9f3a"
             ],
             [
              0.8888888888888888,
              "#fdca26"
             ],
             [
              1,
              "#f0f921"
             ]
            ],
            "type": "heatmap"
           }
          ],
          "heatmapgl": [
           {
            "colorbar": {
             "outlinewidth": 0,
             "ticks": ""
            },
            "colorscale": [
             [
              0,
              "#0d0887"
             ],
             [
              0.1111111111111111,
              "#46039f"
             ],
             [
              0.2222222222222222,
              "#7201a8"
             ],
             [
              0.3333333333333333,
              "#9c179e"
             ],
             [
              0.4444444444444444,
              "#bd3786"
             ],
             [
              0.5555555555555556,
              "#d8576b"
             ],
             [
              0.6666666666666666,
              "#ed7953"
             ],
             [
              0.7777777777777778,
              "#fb9f3a"
             ],
             [
              0.8888888888888888,
              "#fdca26"
             ],
             [
              1,
              "#f0f921"
             ]
            ],
            "type": "heatmapgl"
           }
          ],
          "histogram": [
           {
            "marker": {
             "pattern": {
              "fillmode": "overlay",
              "size": 10,
              "solidity": 0.2
             }
            },
            "type": "histogram"
           }
          ],
          "histogram2d": [
           {
            "colorbar": {
             "outlinewidth": 0,
             "ticks": ""
            },
            "colorscale": [
             [
              0,
              "#0d0887"
             ],
             [
              0.1111111111111111,
              "#46039f"
             ],
             [
              0.2222222222222222,
              "#7201a8"
             ],
             [
              0.3333333333333333,
              "#9c179e"
             ],
             [
              0.4444444444444444,
              "#bd3786"
             ],
             [
              0.5555555555555556,
              "#d8576b"
             ],
             [
              0.6666666666666666,
              "#ed7953"
             ],
             [
              0.7777777777777778,
              "#fb9f3a"
             ],
             [
              0.8888888888888888,
              "#fdca26"
             ],
             [
              1,
              "#f0f921"
             ]
            ],
            "type": "histogram2d"
           }
          ],
          "histogram2dcontour": [
           {
            "colorbar": {
             "outlinewidth": 0,
             "ticks": ""
            },
            "colorscale": [
             [
              0,
              "#0d0887"
             ],
             [
              0.1111111111111111,
              "#46039f"
             ],
             [
              0.2222222222222222,
              "#7201a8"
             ],
             [
              0.3333333333333333,
              "#9c179e"
             ],
             [
              0.4444444444444444,
              "#bd3786"
             ],
             [
              0.5555555555555556,
              "#d8576b"
             ],
             [
              0.6666666666666666,
              "#ed7953"
             ],
             [
              0.7777777777777778,
              "#fb9f3a"
             ],
             [
              0.8888888888888888,
              "#fdca26"
             ],
             [
              1,
              "#f0f921"
             ]
            ],
            "type": "histogram2dcontour"
           }
          ],
          "mesh3d": [
           {
            "colorbar": {
             "outlinewidth": 0,
             "ticks": ""
            },
            "type": "mesh3d"
           }
          ],
          "parcoords": [
           {
            "line": {
             "colorbar": {
              "outlinewidth": 0,
              "ticks": ""
             }
            },
            "type": "parcoords"
           }
          ],
          "pie": [
           {
            "automargin": true,
            "type": "pie"
           }
          ],
          "scatter": [
           {
            "fillpattern": {
             "fillmode": "overlay",
             "size": 10,
             "solidity": 0.2
            },
            "type": "scatter"
           }
          ],
          "scatter3d": [
           {
            "line": {
             "colorbar": {
              "outlinewidth": 0,
              "ticks": ""
             }
            },
            "marker": {
             "colorbar": {
              "outlinewidth": 0,
              "ticks": ""
             }
            },
            "type": "scatter3d"
           }
          ],
          "scattercarpet": [
           {
            "marker": {
             "colorbar": {
              "outlinewidth": 0,
              "ticks": ""
             }
            },
            "type": "scattercarpet"
           }
          ],
          "scattergeo": [
           {
            "marker": {
             "colorbar": {
              "outlinewidth": 0,
              "ticks": ""
             }
            },
            "type": "scattergeo"
           }
          ],
          "scattergl": [
           {
            "marker": {
             "colorbar": {
              "outlinewidth": 0,
              "ticks": ""
             }
            },
            "type": "scattergl"
           }
          ],
          "scattermapbox": [
           {
            "marker": {
             "colorbar": {
              "outlinewidth": 0,
              "ticks": ""
             }
            },
            "type": "scattermapbox"
           }
          ],
          "scatterpolar": [
           {
            "marker": {
             "colorbar": {
              "outlinewidth": 0,
              "ticks": ""
             }
            },
            "type": "scatterpolar"
           }
          ],
          "scatterpolargl": [
           {
            "marker": {
             "colorbar": {
              "outlinewidth": 0,
              "ticks": ""
             }
            },
            "type": "scatterpolargl"
           }
          ],
          "scatterternary": [
           {
            "marker": {
             "colorbar": {
              "outlinewidth": 0,
              "ticks": ""
             }
            },
            "type": "scatterternary"
           }
          ],
          "surface": [
           {
            "colorbar": {
             "outlinewidth": 0,
             "ticks": ""
            },
            "colorscale": [
             [
              0,
              "#0d0887"
             ],
             [
              0.1111111111111111,
              "#46039f"
             ],
             [
              0.2222222222222222,
              "#7201a8"
             ],
             [
              0.3333333333333333,
              "#9c179e"
             ],
             [
              0.4444444444444444,
              "#bd3786"
             ],
             [
              0.5555555555555556,
              "#d8576b"
             ],
             [
              0.6666666666666666,
              "#ed7953"
             ],
             [
              0.7777777777777778,
              "#fb9f3a"
             ],
             [
              0.8888888888888888,
              "#fdca26"
             ],
             [
              1,
              "#f0f921"
             ]
            ],
            "type": "surface"
           }
          ],
          "table": [
           {
            "cells": {
             "fill": {
              "color": "#EBF0F8"
             },
             "line": {
              "color": "white"
             }
            },
            "header": {
             "fill": {
              "color": "#C8D4E3"
             },
             "line": {
              "color": "white"
             }
            },
            "type": "table"
           }
          ]
         },
         "layout": {
          "annotationdefaults": {
           "arrowcolor": "#2a3f5f",
           "arrowhead": 0,
           "arrowwidth": 1
          },
          "autotypenumbers": "strict",
          "coloraxis": {
           "colorbar": {
            "outlinewidth": 0,
            "ticks": ""
           }
          },
          "colorscale": {
           "diverging": [
            [
             0,
             "#8e0152"
            ],
            [
             0.1,
             "#c51b7d"
            ],
            [
             0.2,
             "#de77ae"
            ],
            [
             0.3,
             "#f1b6da"
            ],
            [
             0.4,
             "#fde0ef"
            ],
            [
             0.5,
             "#f7f7f7"
            ],
            [
             0.6,
             "#e6f5d0"
            ],
            [
             0.7,
             "#b8e186"
            ],
            [
             0.8,
             "#7fbc41"
            ],
            [
             0.9,
             "#4d9221"
            ],
            [
             1,
             "#276419"
            ]
           ],
           "sequential": [
            [
             0,
             "#0d0887"
            ],
            [
             0.1111111111111111,
             "#46039f"
            ],
            [
             0.2222222222222222,
             "#7201a8"
            ],
            [
             0.3333333333333333,
             "#9c179e"
            ],
            [
             0.4444444444444444,
             "#bd3786"
            ],
            [
             0.5555555555555556,
             "#d8576b"
            ],
            [
             0.6666666666666666,
             "#ed7953"
            ],
            [
             0.7777777777777778,
             "#fb9f3a"
            ],
            [
             0.8888888888888888,
             "#fdca26"
            ],
            [
             1,
             "#f0f921"
            ]
           ],
           "sequentialminus": [
            [
             0,
             "#0d0887"
            ],
            [
             0.1111111111111111,
             "#46039f"
            ],
            [
             0.2222222222222222,
             "#7201a8"
            ],
            [
             0.3333333333333333,
             "#9c179e"
            ],
            [
             0.4444444444444444,
             "#bd3786"
            ],
            [
             0.5555555555555556,
             "#d8576b"
            ],
            [
             0.6666666666666666,
             "#ed7953"
            ],
            [
             0.7777777777777778,
             "#fb9f3a"
            ],
            [
             0.8888888888888888,
             "#fdca26"
            ],
            [
             1,
             "#f0f921"
            ]
           ]
          },
          "colorway": [
           "#636efa",
           "#EF553B",
           "#00cc96",
           "#ab63fa",
           "#FFA15A",
           "#19d3f3",
           "#FF6692",
           "#B6E880",
           "#FF97FF",
           "#FECB52"
          ],
          "font": {
           "color": "#2a3f5f"
          },
          "geo": {
           "bgcolor": "white",
           "lakecolor": "white",
           "landcolor": "#E5ECF6",
           "showlakes": true,
           "showland": true,
           "subunitcolor": "white"
          },
          "hoverlabel": {
           "align": "left"
          },
          "hovermode": "closest",
          "mapbox": {
           "style": "light"
          },
          "paper_bgcolor": "white",
          "plot_bgcolor": "#E5ECF6",
          "polar": {
           "angularaxis": {
            "gridcolor": "white",
            "linecolor": "white",
            "ticks": ""
           },
           "bgcolor": "#E5ECF6",
           "radialaxis": {
            "gridcolor": "white",
            "linecolor": "white",
            "ticks": ""
           }
          },
          "scene": {
           "xaxis": {
            "backgroundcolor": "#E5ECF6",
            "gridcolor": "white",
            "gridwidth": 2,
            "linecolor": "white",
            "showbackground": true,
            "ticks": "",
            "zerolinecolor": "white"
           },
           "yaxis": {
            "backgroundcolor": "#E5ECF6",
            "gridcolor": "white",
            "gridwidth": 2,
            "linecolor": "white",
            "showbackground": true,
            "ticks": "",
            "zerolinecolor": "white"
           },
           "zaxis": {
            "backgroundcolor": "#E5ECF6",
            "gridcolor": "white",
            "gridwidth": 2,
            "linecolor": "white",
            "showbackground": true,
            "ticks": "",
            "zerolinecolor": "white"
           }
          },
          "shapedefaults": {
           "line": {
            "color": "#2a3f5f"
           }
          },
          "ternary": {
           "aaxis": {
            "gridcolor": "white",
            "linecolor": "white",
            "ticks": ""
           },
           "baxis": {
            "gridcolor": "white",
            "linecolor": "white",
            "ticks": ""
           },
           "bgcolor": "#E5ECF6",
           "caxis": {
            "gridcolor": "white",
            "linecolor": "white",
            "ticks": ""
           }
          },
          "title": {
           "x": 0.05
          },
          "xaxis": {
           "automargin": true,
           "gridcolor": "white",
           "linecolor": "white",
           "ticks": "",
           "title": {
            "standoff": 15
           },
           "zerolinecolor": "white",
           "zerolinewidth": 2
          },
          "yaxis": {
           "automargin": true,
           "gridcolor": "white",
           "linecolor": "white",
           "ticks": "",
           "title": {
            "standoff": 15
           },
           "zerolinecolor": "white",
           "zerolinewidth": 2
          }
         }
        },
        "width": 992,
        "xaxis": {
         "anchor": "y",
         "domain": [
          0,
          1
         ],
         "title": {
          "text": "Dataset"
         }
        },
        "yaxis": {
         "anchor": "x",
         "domain": [
          0,
          1
         ],
         "title": {
          "text": "Performance"
         }
        }
       }
      },
      "text/html": [
       "<div>                            <div id=\"35354173-13d9-49b6-ba53-0d7edda5df45\" class=\"plotly-graph-div\" style=\"height:400px; width:992.0px;\"></div>            <script type=\"text/javascript\">                require([\"plotly\"], function(Plotly) {                    window.PLOTLYENV=window.PLOTLYENV || {};                                    if (document.getElementById(\"35354173-13d9-49b6-ba53-0d7edda5df45\")) {                    Plotly.newPlot(                        \"35354173-13d9-49b6-ba53-0d7edda5df45\",                        [{\"alignmentgroup\":\"True\",\"error_y\":{\"array\":[0.0,0.0,0.0,0.0,0.0,0.0,0.0,0.0,0.0,0.0,0.0,0.0,0.0,0.0,0.0]},\"hovertemplate\":\"=knn\\u003cbr\\u003eDataset=%{x}\\u003cbr\\u003ePerformance=%{y}\\u003cextra\\u003e\\u003c\\u002fextra\\u003e\",\"legendgroup\":\"knn\",\"marker\":{\"color\":\"rgb(95, 70, 144)\",\"pattern\":{\"shape\":\"\"}},\"name\":\"knn\",\"offsetgroup\":\"knn\",\"orientation\":\"v\",\"showlegend\":true,\"textposition\":\"auto\",\"x\":[\"breast_cancer\",\"dry_bean\",\"glass\",\"image_segmentation\",\"iris\",\"letter\",\"motion_sense\",\"optical_handwritten\",\"rice\",\"satimage\",\"segment\",\"sepsis\",\"vehicle\",\"wine\",\"yeast\"],\"xaxis\":\"x\",\"y\":[0.9178579163959281,0.7175232545997096,0.7092884420543996,0.5476190476190477,0.9555555555555556,0.9455,0.5049019607843137,0.988428941906149,0.8636907391101323,0.9025045416497844,0.9336219336219336,0.8909546104108189,0.8176470588235295,0.6714063714063713,0.5463856770422707],\"yaxis\":\"y\",\"type\":\"bar\"},{\"alignmentgroup\":\"True\",\"error_y\":{\"array\":[0.0,0.14704971968785469,0.0,0.027492869961410732,0.0,0.0022422706745123333,0.008452625592403605,0.004483121228581144,0.24718101011399493,0.0013219608840686324,0.010405631386620488,0.0,0.0,0.0,0.0]},\"hovertemplate\":\"=mlp\\u003cbr\\u003eDataset=%{x}\\u003cbr\\u003ePerformance=%{y}\\u003cextra\\u003e\\u003c\\u002fextra\\u003e\",\"legendgroup\":\"mlp\",\"marker\":{\"color\":\"rgb(29, 105, 150)\",\"pattern\":{\"shape\":\"\"}},\"name\":\"mlp\",\"offsetgroup\":\"mlp\",\"orientation\":\"v\",\"showlegend\":true,\"textposition\":\"auto\",\"x\":[\"breast_cancer\",\"dry_bean\",\"glass\",\"image_segmentation\",\"iris\",\"letter\",\"motion_sense\",\"optical_handwritten\",\"rice\",\"satimage\",\"segment\",\"sepsis\",\"vehicle\",\"wine\",\"yeast\"],\"xaxis\":\"x\",\"y\":[0.9103013945119208,0.22507061835587583,0.4554142391626345,0.5555555555555555,0.9777777777777775,0.9205,0.6565359477124183,0.981028439293471,0.4777329795241849,0.9116120122328867,0.9422799422799423,0.8908920043310973,0.8176470588235295,0.8883769948810599,0.5895877432143035],\"yaxis\":\"y\",\"type\":\"bar\"},{\"alignmentgroup\":\"True\",\"error_y\":{\"array\":[0.0,0.0017192363008078674,0.0,0.0,0.0,0.001228519132638647,0.012820291010413778,0.0013610825370562994,0.0007729364284437067,0.001053388220941523,0.0008331172715577878,2.6127788329374387e-05,0.00339617805405661,0.0,0.0]},\"hovertemplate\":\"=random-forest\\u003cbr\\u003eDataset=%{x}\\u003cbr\\u003ePerformance=%{y}\\u003cextra\\u003e\\u003c\\u002fextra\\u003e\",\"legendgroup\":\"random-forest\",\"marker\":{\"color\":\"rgb(56, 166, 165)\",\"pattern\":{\"shape\":\"\"}},\"name\":\"random-forest\",\"offsetgroup\":\"random-forest\",\"orientation\":\"v\",\"showlegend\":true,\"textposition\":\"auto\",\"x\":[\"breast_cancer\",\"dry_bean\",\"glass\",\"image_segmentation\",\"iris\",\"letter\",\"motion_sense\",\"optical_handwritten\",\"rice\",\"satimage\",\"segment\",\"sepsis\",\"vehicle\",\"wine\",\"yeast\"],\"xaxis\":\"x\",\"y\":[0.9708871747643292,0.9198474773426017,0.7060178946619377,0.6190476190476191,0.9333333333333332,0.9607222222222221,0.8078431372549019,0.9827979576880973,0.9152644340920002,0.910574331227231,0.9716209716209715,0.8908090454440197,0.9686274509803922,0.9815543316723488,0.6207256954912499],\"yaxis\":\"y\",\"type\":\"bar\"},{\"alignmentgroup\":\"True\",\"error_y\":{\"array\":[0.0,0.0,0.0,0.0,0.0,0.0,0.0,0.0,0.0,0.0,0.0,0.0,0.0,0.0,0.0]},\"hovertemplate\":\"=svm\\u003cbr\\u003eDataset=%{x}\\u003cbr\\u003ePerformance=%{y}\\u003cextra\\u003e\\u003c\\u002fextra\\u003e\",\"legendgroup\":\"svm\",\"marker\":{\"color\":\"rgb(15, 133, 84)\",\"pattern\":{\"shape\":\"\"}},\"name\":\"svm\",\"offsetgroup\":\"svm\",\"orientation\":\"v\",\"showlegend\":true,\"textposition\":\"auto\",\"x\":[\"breast_cancer\",\"dry_bean\",\"glass\",\"image_segmentation\",\"iris\",\"letter\",\"motion_sense\",\"optical_handwritten\",\"rice\",\"satimage\",\"segment\",\"sepsis\",\"vehicle\",\"wine\",\"yeast\"],\"xaxis\":\"x\",\"y\":[0.8730641381054367,0.6014133504868324,0.1849650349650349,0.5,1.0,0.92,0.538235294117647,0.9919918925110768,0.867169718729999,0.892530243798912,0.8701298701298702,0.8908920043310973,0.7176470588235294,0.6486013986013985,0.5992100016133695],\"yaxis\":\"y\",\"type\":\"bar\"},{\"alignmentgroup\":\"True\",\"error_y\":{\"array\":[0.0099820632299025,0.0022812085867171,0.0224288030898329,0.0336717514850736,0.0,0.0032470309324894,0.0,0.0034620193541112,1.1102230246251563e-16,0.0061906608057078,0.0054418992299108,0.0002268381546205,0.0127073347027605,0.0153247986020781,0.0031494801628382]},\"hovertemplate\":\"=wisard\\u003cbr\\u003eDataset=%{x}\\u003cbr\\u003ePerformance=%{y}\\u003cextra\\u003e\\u003c\\u002fextra\\u003e\",\"legendgroup\":\"wisard\",\"marker\":{\"color\":\"rgb(115, 175, 72)\",\"pattern\":{\"shape\":\"\"}},\"name\":\"wisard\",\"offsetgroup\":\"wisard\",\"orientation\":\"v\",\"showlegend\":true,\"textposition\":\"auto\",\"x\":[\"breast_cancer\",\"dry_bean\",\"glass\",\"image_segmentation\",\"iris\",\"letter\",\"motion_sense\",\"optical_handwritten\",\"rice\",\"satimage\",\"segment\",\"sepsis\",\"vehicle\",\"wine\",\"yeast\"],\"xaxis\":\"x\",\"y\":[0.9628161882204516,0.9024029619050484,0.6615428500177969,0.8571428571428572,1.0,0.9000555555555557,0.65,0.9780450131673772,0.8994465342855008,0.8866629525557234,0.8807118807118807,0.8915753747755484,0.8941176470588235,0.962856206024315,0.5700237244955314],\"yaxis\":\"y\",\"type\":\"bar\"}],                        {\"template\":{\"data\":{\"histogram2dcontour\":[{\"type\":\"histogram2dcontour\",\"colorbar\":{\"outlinewidth\":0,\"ticks\":\"\"},\"colorscale\":[[0.0,\"#0d0887\"],[0.1111111111111111,\"#46039f\"],[0.2222222222222222,\"#7201a8\"],[0.3333333333333333,\"#9c179e\"],[0.4444444444444444,\"#bd3786\"],[0.5555555555555556,\"#d8576b\"],[0.6666666666666666,\"#ed7953\"],[0.7777777777777778,\"#fb9f3a\"],[0.8888888888888888,\"#fdca26\"],[1.0,\"#f0f921\"]]}],\"choropleth\":[{\"type\":\"choropleth\",\"colorbar\":{\"outlinewidth\":0,\"ticks\":\"\"}}],\"histogram2d\":[{\"type\":\"histogram2d\",\"colorbar\":{\"outlinewidth\":0,\"ticks\":\"\"},\"colorscale\":[[0.0,\"#0d0887\"],[0.1111111111111111,\"#46039f\"],[0.2222222222222222,\"#7201a8\"],[0.3333333333333333,\"#9c179e\"],[0.4444444444444444,\"#bd3786\"],[0.5555555555555556,\"#d8576b\"],[0.6666666666666666,\"#ed7953\"],[0.7777777777777778,\"#fb9f3a\"],[0.8888888888888888,\"#fdca26\"],[1.0,\"#f0f921\"]]}],\"heatmap\":[{\"type\":\"heatmap\",\"colorbar\":{\"outlinewidth\":0,\"ticks\":\"\"},\"colorscale\":[[0.0,\"#0d0887\"],[0.1111111111111111,\"#46039f\"],[0.2222222222222222,\"#7201a8\"],[0.3333333333333333,\"#9c179e\"],[0.4444444444444444,\"#bd3786\"],[0.5555555555555556,\"#d8576b\"],[0.6666666666666666,\"#ed7953\"],[0.7777777777777778,\"#fb9f3a\"],[0.8888888888888888,\"#fdca26\"],[1.0,\"#f0f921\"]]}],\"heatmapgl\":[{\"type\":\"heatmapgl\",\"colorbar\":{\"outlinewidth\":0,\"ticks\":\"\"},\"colorscale\":[[0.0,\"#0d0887\"],[0.1111111111111111,\"#46039f\"],[0.2222222222222222,\"#7201a8\"],[0.3333333333333333,\"#9c179e\"],[0.4444444444444444,\"#bd3786\"],[0.5555555555555556,\"#d8576b\"],[0.6666666666666666,\"#ed7953\"],[0.7777777777777778,\"#fb9f3a\"],[0.8888888888888888,\"#fdca26\"],[1.0,\"#f0f921\"]]}],\"contourcarpet\":[{\"type\":\"contourcarpet\",\"colorbar\":{\"outlinewidth\":0,\"ticks\":\"\"}}],\"contour\":[{\"type\":\"contour\",\"colorbar\":{\"outlinewidth\":0,\"ticks\":\"\"},\"colorscale\":[[0.0,\"#0d0887\"],[0.1111111111111111,\"#46039f\"],[0.2222222222222222,\"#7201a8\"],[0.3333333333333333,\"#9c179e\"],[0.4444444444444444,\"#bd3786\"],[0.5555555555555556,\"#d8576b\"],[0.6666666666666666,\"#ed7953\"],[0.7777777777777778,\"#fb9f3a\"],[0.8888888888888888,\"#fdca26\"],[1.0,\"#f0f921\"]]}],\"surface\":[{\"type\":\"surface\",\"colorbar\":{\"outlinewidth\":0,\"ticks\":\"\"},\"colorscale\":[[0.0,\"#0d0887\"],[0.1111111111111111,\"#46039f\"],[0.2222222222222222,\"#7201a8\"],[0.3333333333333333,\"#9c179e\"],[0.4444444444444444,\"#bd3786\"],[0.5555555555555556,\"#d8576b\"],[0.6666666666666666,\"#ed7953\"],[0.7777777777777778,\"#fb9f3a\"],[0.8888888888888888,\"#fdca26\"],[1.0,\"#f0f921\"]]}],\"mesh3d\":[{\"type\":\"mesh3d\",\"colorbar\":{\"outlinewidth\":0,\"ticks\":\"\"}}],\"scatter\":[{\"fillpattern\":{\"fillmode\":\"overlay\",\"size\":10,\"solidity\":0.2},\"type\":\"scatter\"}],\"parcoords\":[{\"type\":\"parcoords\",\"line\":{\"colorbar\":{\"outlinewidth\":0,\"ticks\":\"\"}}}],\"scatterpolargl\":[{\"type\":\"scatterpolargl\",\"marker\":{\"colorbar\":{\"outlinewidth\":0,\"ticks\":\"\"}}}],\"bar\":[{\"error_x\":{\"color\":\"#2a3f5f\"},\"error_y\":{\"color\":\"#2a3f5f\"},\"marker\":{\"line\":{\"color\":\"#E5ECF6\",\"width\":0.5},\"pattern\":{\"fillmode\":\"overlay\",\"size\":10,\"solidity\":0.2}},\"type\":\"bar\"}],\"scattergeo\":[{\"type\":\"scattergeo\",\"marker\":{\"colorbar\":{\"outlinewidth\":0,\"ticks\":\"\"}}}],\"scatterpolar\":[{\"type\":\"scatterpolar\",\"marker\":{\"colorbar\":{\"outlinewidth\":0,\"ticks\":\"\"}}}],\"histogram\":[{\"marker\":{\"pattern\":{\"fillmode\":\"overlay\",\"size\":10,\"solidity\":0.2}},\"type\":\"histogram\"}],\"scattergl\":[{\"type\":\"scattergl\",\"marker\":{\"colorbar\":{\"outlinewidth\":0,\"ticks\":\"\"}}}],\"scatter3d\":[{\"type\":\"scatter3d\",\"line\":{\"colorbar\":{\"outlinewidth\":0,\"ticks\":\"\"}},\"marker\":{\"colorbar\":{\"outlinewidth\":0,\"ticks\":\"\"}}}],\"scattermapbox\":[{\"type\":\"scattermapbox\",\"marker\":{\"colorbar\":{\"outlinewidth\":0,\"ticks\":\"\"}}}],\"scatterternary\":[{\"type\":\"scatterternary\",\"marker\":{\"colorbar\":{\"outlinewidth\":0,\"ticks\":\"\"}}}],\"scattercarpet\":[{\"type\":\"scattercarpet\",\"marker\":{\"colorbar\":{\"outlinewidth\":0,\"ticks\":\"\"}}}],\"carpet\":[{\"aaxis\":{\"endlinecolor\":\"#2a3f5f\",\"gridcolor\":\"white\",\"linecolor\":\"white\",\"minorgridcolor\":\"white\",\"startlinecolor\":\"#2a3f5f\"},\"baxis\":{\"endlinecolor\":\"#2a3f5f\",\"gridcolor\":\"white\",\"linecolor\":\"white\",\"minorgridcolor\":\"white\",\"startlinecolor\":\"#2a3f5f\"},\"type\":\"carpet\"}],\"table\":[{\"cells\":{\"fill\":{\"color\":\"#EBF0F8\"},\"line\":{\"color\":\"white\"}},\"header\":{\"fill\":{\"color\":\"#C8D4E3\"},\"line\":{\"color\":\"white\"}},\"type\":\"table\"}],\"barpolar\":[{\"marker\":{\"line\":{\"color\":\"#E5ECF6\",\"width\":0.5},\"pattern\":{\"fillmode\":\"overlay\",\"size\":10,\"solidity\":0.2}},\"type\":\"barpolar\"}],\"pie\":[{\"automargin\":true,\"type\":\"pie\"}]},\"layout\":{\"autotypenumbers\":\"strict\",\"colorway\":[\"#636efa\",\"#EF553B\",\"#00cc96\",\"#ab63fa\",\"#FFA15A\",\"#19d3f3\",\"#FF6692\",\"#B6E880\",\"#FF97FF\",\"#FECB52\"],\"font\":{\"color\":\"#2a3f5f\"},\"hovermode\":\"closest\",\"hoverlabel\":{\"align\":\"left\"},\"paper_bgcolor\":\"white\",\"plot_bgcolor\":\"#E5ECF6\",\"polar\":{\"bgcolor\":\"#E5ECF6\",\"angularaxis\":{\"gridcolor\":\"white\",\"linecolor\":\"white\",\"ticks\":\"\"},\"radialaxis\":{\"gridcolor\":\"white\",\"linecolor\":\"white\",\"ticks\":\"\"}},\"ternary\":{\"bgcolor\":\"#E5ECF6\",\"aaxis\":{\"gridcolor\":\"white\",\"linecolor\":\"white\",\"ticks\":\"\"},\"baxis\":{\"gridcolor\":\"white\",\"linecolor\":\"white\",\"ticks\":\"\"},\"caxis\":{\"gridcolor\":\"white\",\"linecolor\":\"white\",\"ticks\":\"\"}},\"coloraxis\":{\"colorbar\":{\"outlinewidth\":0,\"ticks\":\"\"}},\"colorscale\":{\"sequential\":[[0.0,\"#0d0887\"],[0.1111111111111111,\"#46039f\"],[0.2222222222222222,\"#7201a8\"],[0.3333333333333333,\"#9c179e\"],[0.4444444444444444,\"#bd3786\"],[0.5555555555555556,\"#d8576b\"],[0.6666666666666666,\"#ed7953\"],[0.7777777777777778,\"#fb9f3a\"],[0.8888888888888888,\"#fdca26\"],[1.0,\"#f0f921\"]],\"sequentialminus\":[[0.0,\"#0d0887\"],[0.1111111111111111,\"#46039f\"],[0.2222222222222222,\"#7201a8\"],[0.3333333333333333,\"#9c179e\"],[0.4444444444444444,\"#bd3786\"],[0.5555555555555556,\"#d8576b\"],[0.6666666666666666,\"#ed7953\"],[0.7777777777777778,\"#fb9f3a\"],[0.8888888888888888,\"#fdca26\"],[1.0,\"#f0f921\"]],\"diverging\":[[0,\"#8e0152\"],[0.1,\"#c51b7d\"],[0.2,\"#de77ae\"],[0.3,\"#f1b6da\"],[0.4,\"#fde0ef\"],[0.5,\"#f7f7f7\"],[0.6,\"#e6f5d0\"],[0.7,\"#b8e186\"],[0.8,\"#7fbc41\"],[0.9,\"#4d9221\"],[1,\"#276419\"]]},\"xaxis\":{\"gridcolor\":\"white\",\"linecolor\":\"white\",\"ticks\":\"\",\"title\":{\"standoff\":15},\"zerolinecolor\":\"white\",\"automargin\":true,\"zerolinewidth\":2},\"yaxis\":{\"gridcolor\":\"white\",\"linecolor\":\"white\",\"ticks\":\"\",\"title\":{\"standoff\":15},\"zerolinecolor\":\"white\",\"automargin\":true,\"zerolinewidth\":2},\"scene\":{\"xaxis\":{\"backgroundcolor\":\"#E5ECF6\",\"gridcolor\":\"white\",\"linecolor\":\"white\",\"showbackground\":true,\"ticks\":\"\",\"zerolinecolor\":\"white\",\"gridwidth\":2},\"yaxis\":{\"backgroundcolor\":\"#E5ECF6\",\"gridcolor\":\"white\",\"linecolor\":\"white\",\"showbackground\":true,\"ticks\":\"\",\"zerolinecolor\":\"white\",\"gridwidth\":2},\"zaxis\":{\"backgroundcolor\":\"#E5ECF6\",\"gridcolor\":\"white\",\"linecolor\":\"white\",\"showbackground\":true,\"ticks\":\"\",\"zerolinecolor\":\"white\",\"gridwidth\":2}},\"shapedefaults\":{\"line\":{\"color\":\"#2a3f5f\"}},\"annotationdefaults\":{\"arrowcolor\":\"#2a3f5f\",\"arrowhead\":0,\"arrowwidth\":1},\"geo\":{\"bgcolor\":\"white\",\"landcolor\":\"#E5ECF6\",\"subunitcolor\":\"white\",\"showland\":true,\"showlakes\":true,\"lakecolor\":\"white\"},\"title\":{\"x\":0.05},\"mapbox\":{\"style\":\"light\"}}},\"xaxis\":{\"anchor\":\"y\",\"domain\":[0.0,1.0],\"title\":{\"text\":\"Dataset\"}},\"yaxis\":{\"anchor\":\"x\",\"domain\":[0.0,1.0],\"title\":{\"text\":\"Performance\"}},\"legend\":{\"title\":{\"text\":\"\"},\"tracegroupgap\":0,\"orientation\":\"h\",\"yanchor\":\"top\",\"y\":1.2,\"xanchor\":\"center\",\"x\":0.5},\"margin\":{\"t\":60},\"barmode\":\"group\",\"font\":{\"family\":\"Times New Roman\",\"size\":14},\"height\":400,\"width\":992.0},                        {\"responsive\": true}                    ).then(function(){\n",
       "                            \n",
       "var gd = document.getElementById('35354173-13d9-49b6-ba53-0d7edda5df45');\n",
       "var x = new MutationObserver(function (mutations, observer) {{\n",
       "        var display = window.getComputedStyle(gd).display;\n",
       "        if (!display || display === 'none') {{\n",
       "            console.log([gd, 'removed!']);\n",
       "            Plotly.purge(gd);\n",
       "            observer.disconnect();\n",
       "        }}\n",
       "}});\n",
       "\n",
       "// Listen for the removal of the full notebook cells\n",
       "var notebookContainer = gd.closest('#notebook-container');\n",
       "if (notebookContainer) {{\n",
       "    x.observe(notebookContainer, {childList: true});\n",
       "}}\n",
       "\n",
       "// Listen for the clearing of the current output cell\n",
       "var outputEl = gd.closest('.output');\n",
       "if (outputEl) {{\n",
       "    x.observe(outputEl, {childList: true});\n",
       "}}\n",
       "\n",
       "                        })                };                });            </script>        </div>"
      ]
     },
     "metadata": {},
     "output_type": "display_data"
    }
   ],
   "source": [
    "# Assume 'results' DataFrame with columns: 'dataset', 'model', 'accuracy'\n",
    "\n",
    "# Create a grouped bar chart for accuracy per model and dataset\n",
    "fig_grouped_bar = px.bar(\n",
    "    best_metric_df,\n",
    "    x=\"dataset\",\n",
    "    y=\"metric\",\n",
    "    error_y=\"metric_std\",\n",
    "    color=\"model\",\n",
    "    #  title='Metric Comparison by Model and Dataset',\n",
    "    labels={\"metric\": \"Performance\", \"dataset\": \"Dataset\", \"model\": \"\"},\n",
    "    barmode=\"group\",\n",
    "    color_discrete_sequence=px.colors.qualitative.Prism,\n",
    ")\n",
    "\n",
    "\n",
    "# Display the plot\n",
    "fig_grouped_bar.update_layout(\n",
    "    legend=dict(\n",
    "        orientation=\"h\", yanchor=\"top\", y=1.20, xanchor=\"center\", x=0.5\n",
    "    ),\n",
    "    height=400,\n",
    "    width=2480 / 2.5,\n",
    "    font=dict(family=\"Times New Roman\", size=14),\n",
    ")\n",
    "\n",
    "write_figure(\"models_performance.pdf\", fig_grouped_bar)\n",
    "fig_grouped_bar.show()"
   ]
  },
  {
   "cell_type": "code",
   "execution_count": 13,
   "metadata": {},
   "outputs": [
    {
     "name": "stdout",
     "output_type": "stream",
     "text": [
      "Figure written to: figures/models_performance_horizontal.pdf\n",
      "Filename   : models_performance_horizontal.pdf\n",
      "Latex label: models_performance_horizontal\n"
     ]
    },
    {
     "data": {
      "application/vnd.plotly.v1+json": {
       "config": {
        "plotlyServerURL": "https://plot.ly"
       },
       "data": [
        {
         "alignmentgroup": "True",
         "error_x": {
          "array": [
           0,
           0,
           0,
           0,
           0,
           0,
           0,
           0,
           0,
           0,
           0,
           0,
           0,
           0,
           0
          ]
         },
         "hovertemplate": "=knn<br>Performance=%{x}<br>Dataset=%{y}<extra></extra>",
         "legendgroup": "knn",
         "marker": {
          "color": "rgb(95, 70, 144)",
          "pattern": {
           "shape": ""
          }
         },
         "name": "knn",
         "offsetgroup": "knn",
         "orientation": "h",
         "showlegend": true,
         "textposition": "auto",
         "type": "bar",
         "x": [
          0.9178579163959281,
          0.7175232545997096,
          0.7092884420543996,
          0.5476190476190477,
          0.9555555555555556,
          0.9455,
          0.5049019607843137,
          0.988428941906149,
          0.8636907391101323,
          0.9025045416497844,
          0.9336219336219336,
          0.8909546104108189,
          0.8176470588235295,
          0.6714063714063713,
          0.5463856770422707
         ],
         "xaxis": "x",
         "y": [
          "breast_cancer",
          "dry_bean",
          "glass",
          "image_segmentation",
          "iris",
          "letter",
          "motion_sense",
          "optical_handwritten",
          "rice",
          "satimage",
          "segment",
          "sepsis",
          "vehicle",
          "wine",
          "yeast"
         ],
         "yaxis": "y"
        },
        {
         "alignmentgroup": "True",
         "error_x": {
          "array": [
           0,
           0.14704971968785469,
           0,
           0.027492869961410732,
           0,
           0.0022422706745123333,
           0.008452625592403605,
           0.004483121228581144,
           0.24718101011399493,
           0.0013219608840686324,
           0.010405631386620488,
           0,
           0,
           0,
           0
          ]
         },
         "hovertemplate": "=mlp<br>Performance=%{x}<br>Dataset=%{y}<extra></extra>",
         "legendgroup": "mlp",
         "marker": {
          "color": "rgb(29, 105, 150)",
          "pattern": {
           "shape": ""
          }
         },
         "name": "mlp",
         "offsetgroup": "mlp",
         "orientation": "h",
         "showlegend": true,
         "textposition": "auto",
         "type": "bar",
         "x": [
          0.9103013945119208,
          0.22507061835587583,
          0.4554142391626345,
          0.5555555555555555,
          0.9777777777777775,
          0.9205,
          0.6565359477124183,
          0.981028439293471,
          0.4777329795241849,
          0.9116120122328867,
          0.9422799422799423,
          0.8908920043310973,
          0.8176470588235295,
          0.8883769948810599,
          0.5895877432143035
         ],
         "xaxis": "x",
         "y": [
          "breast_cancer",
          "dry_bean",
          "glass",
          "image_segmentation",
          "iris",
          "letter",
          "motion_sense",
          "optical_handwritten",
          "rice",
          "satimage",
          "segment",
          "sepsis",
          "vehicle",
          "wine",
          "yeast"
         ],
         "yaxis": "y"
        },
        {
         "alignmentgroup": "True",
         "error_x": {
          "array": [
           0,
           0.0017192363008078674,
           0,
           0,
           0,
           0.001228519132638647,
           0.012820291010413778,
           0.0013610825370562994,
           0.0007729364284437067,
           0.001053388220941523,
           0.0008331172715577878,
           0.000026127788329374387,
           0.00339617805405661,
           0,
           0
          ]
         },
         "hovertemplate": "=random-forest<br>Performance=%{x}<br>Dataset=%{y}<extra></extra>",
         "legendgroup": "random-forest",
         "marker": {
          "color": "rgb(56, 166, 165)",
          "pattern": {
           "shape": ""
          }
         },
         "name": "random-forest",
         "offsetgroup": "random-forest",
         "orientation": "h",
         "showlegend": true,
         "textposition": "auto",
         "type": "bar",
         "x": [
          0.9708871747643292,
          0.9198474773426017,
          0.7060178946619377,
          0.6190476190476191,
          0.9333333333333332,
          0.9607222222222221,
          0.8078431372549019,
          0.9827979576880973,
          0.9152644340920002,
          0.910574331227231,
          0.9716209716209715,
          0.8908090454440197,
          0.9686274509803922,
          0.9815543316723488,
          0.6207256954912499
         ],
         "xaxis": "x",
         "y": [
          "breast_cancer",
          "dry_bean",
          "glass",
          "image_segmentation",
          "iris",
          "letter",
          "motion_sense",
          "optical_handwritten",
          "rice",
          "satimage",
          "segment",
          "sepsis",
          "vehicle",
          "wine",
          "yeast"
         ],
         "yaxis": "y"
        },
        {
         "alignmentgroup": "True",
         "error_x": {
          "array": [
           0,
           0,
           0,
           0,
           0,
           0,
           0,
           0,
           0,
           0,
           0,
           0,
           0,
           0,
           0
          ]
         },
         "hovertemplate": "=svm<br>Performance=%{x}<br>Dataset=%{y}<extra></extra>",
         "legendgroup": "svm",
         "marker": {
          "color": "rgb(15, 133, 84)",
          "pattern": {
           "shape": ""
          }
         },
         "name": "svm",
         "offsetgroup": "svm",
         "orientation": "h",
         "showlegend": true,
         "textposition": "auto",
         "type": "bar",
         "x": [
          0.8730641381054367,
          0.6014133504868324,
          0.1849650349650349,
          0.5,
          1,
          0.92,
          0.538235294117647,
          0.9919918925110768,
          0.867169718729999,
          0.892530243798912,
          0.8701298701298702,
          0.8908920043310973,
          0.7176470588235294,
          0.6486013986013985,
          0.5992100016133695
         ],
         "xaxis": "x",
         "y": [
          "breast_cancer",
          "dry_bean",
          "glass",
          "image_segmentation",
          "iris",
          "letter",
          "motion_sense",
          "optical_handwritten",
          "rice",
          "satimage",
          "segment",
          "sepsis",
          "vehicle",
          "wine",
          "yeast"
         ],
         "yaxis": "y"
        },
        {
         "alignmentgroup": "True",
         "error_x": {
          "array": [
           0.0099820632299025,
           0.0022812085867171,
           0.0224288030898329,
           0.0336717514850736,
           0,
           0.0032470309324894,
           0,
           0.0034620193541112,
           1.1102230246251563e-16,
           0.0061906608057078,
           0.0054418992299108,
           0.0002268381546205,
           0.0127073347027605,
           0.0153247986020781,
           0.0031494801628382
          ]
         },
         "hovertemplate": "=wisard<br>Performance=%{x}<br>Dataset=%{y}<extra></extra>",
         "legendgroup": "wisard",
         "marker": {
          "color": "rgb(115, 175, 72)",
          "pattern": {
           "shape": ""
          }
         },
         "name": "wisard",
         "offsetgroup": "wisard",
         "orientation": "h",
         "showlegend": true,
         "textposition": "auto",
         "type": "bar",
         "x": [
          0.9628161882204516,
          0.9024029619050484,
          0.6615428500177969,
          0.8571428571428572,
          1,
          0.9000555555555557,
          0.65,
          0.9780450131673772,
          0.8994465342855008,
          0.8866629525557234,
          0.8807118807118807,
          0.8915753747755484,
          0.8941176470588235,
          0.962856206024315,
          0.5700237244955314
         ],
         "xaxis": "x",
         "y": [
          "breast_cancer",
          "dry_bean",
          "glass",
          "image_segmentation",
          "iris",
          "letter",
          "motion_sense",
          "optical_handwritten",
          "rice",
          "satimage",
          "segment",
          "sepsis",
          "vehicle",
          "wine",
          "yeast"
         ],
         "yaxis": "y"
        }
       ],
       "layout": {
        "barmode": "group",
        "font": {
         "family": "Times New Roman",
         "size": 14
        },
        "height": 1200,
        "legend": {
         "orientation": "h",
         "title": {
          "text": ""
         },
         "tracegroupgap": 0,
         "x": 0.5,
         "xanchor": "center",
         "y": 1.05,
         "yanchor": "top"
        },
        "margin": {
         "t": 60
        },
        "template": {
         "data": {
          "bar": [
           {
            "error_x": {
             "color": "#2a3f5f"
            },
            "error_y": {
             "color": "#2a3f5f"
            },
            "marker": {
             "line": {
              "color": "#E5ECF6",
              "width": 0.5
             },
             "pattern": {
              "fillmode": "overlay",
              "size": 10,
              "solidity": 0.2
             }
            },
            "type": "bar"
           }
          ],
          "barpolar": [
           {
            "marker": {
             "line": {
              "color": "#E5ECF6",
              "width": 0.5
             },
             "pattern": {
              "fillmode": "overlay",
              "size": 10,
              "solidity": 0.2
             }
            },
            "type": "barpolar"
           }
          ],
          "carpet": [
           {
            "aaxis": {
             "endlinecolor": "#2a3f5f",
             "gridcolor": "white",
             "linecolor": "white",
             "minorgridcolor": "white",
             "startlinecolor": "#2a3f5f"
            },
            "baxis": {
             "endlinecolor": "#2a3f5f",
             "gridcolor": "white",
             "linecolor": "white",
             "minorgridcolor": "white",
             "startlinecolor": "#2a3f5f"
            },
            "type": "carpet"
           }
          ],
          "choropleth": [
           {
            "colorbar": {
             "outlinewidth": 0,
             "ticks": ""
            },
            "type": "choropleth"
           }
          ],
          "contour": [
           {
            "colorbar": {
             "outlinewidth": 0,
             "ticks": ""
            },
            "colorscale": [
             [
              0,
              "#0d0887"
             ],
             [
              0.1111111111111111,
              "#46039f"
             ],
             [
              0.2222222222222222,
              "#7201a8"
             ],
             [
              0.3333333333333333,
              "#9c179e"
             ],
             [
              0.4444444444444444,
              "#bd3786"
             ],
             [
              0.5555555555555556,
              "#d8576b"
             ],
             [
              0.6666666666666666,
              "#ed7953"
             ],
             [
              0.7777777777777778,
              "#fb9f3a"
             ],
             [
              0.8888888888888888,
              "#fdca26"
             ],
             [
              1,
              "#f0f921"
             ]
            ],
            "type": "contour"
           }
          ],
          "contourcarpet": [
           {
            "colorbar": {
             "outlinewidth": 0,
             "ticks": ""
            },
            "type": "contourcarpet"
           }
          ],
          "heatmap": [
           {
            "colorbar": {
             "outlinewidth": 0,
             "ticks": ""
            },
            "colorscale": [
             [
              0,
              "#0d0887"
             ],
             [
              0.1111111111111111,
              "#46039f"
             ],
             [
              0.2222222222222222,
              "#7201a8"
             ],
             [
              0.3333333333333333,
              "#9c179e"
             ],
             [
              0.4444444444444444,
              "#bd3786"
             ],
             [
              0.5555555555555556,
              "#d8576b"
             ],
             [
              0.6666666666666666,
              "#ed7953"
             ],
             [
              0.7777777777777778,
              "#fb9f3a"
             ],
             [
              0.8888888888888888,
              "#fdca26"
             ],
             [
              1,
              "#f0f921"
             ]
            ],
            "type": "heatmap"
           }
          ],
          "heatmapgl": [
           {
            "colorbar": {
             "outlinewidth": 0,
             "ticks": ""
            },
            "colorscale": [
             [
              0,
              "#0d0887"
             ],
             [
              0.1111111111111111,
              "#46039f"
             ],
             [
              0.2222222222222222,
              "#7201a8"
             ],
             [
              0.3333333333333333,
              "#9c179e"
             ],
             [
              0.4444444444444444,
              "#bd3786"
             ],
             [
              0.5555555555555556,
              "#d8576b"
             ],
             [
              0.6666666666666666,
              "#ed7953"
             ],
             [
              0.7777777777777778,
              "#fb9f3a"
             ],
             [
              0.8888888888888888,
              "#fdca26"
             ],
             [
              1,
              "#f0f921"
             ]
            ],
            "type": "heatmapgl"
           }
          ],
          "histogram": [
           {
            "marker": {
             "pattern": {
              "fillmode": "overlay",
              "size": 10,
              "solidity": 0.2
             }
            },
            "type": "histogram"
           }
          ],
          "histogram2d": [
           {
            "colorbar": {
             "outlinewidth": 0,
             "ticks": ""
            },
            "colorscale": [
             [
              0,
              "#0d0887"
             ],
             [
              0.1111111111111111,
              "#46039f"
             ],
             [
              0.2222222222222222,
              "#7201a8"
             ],
             [
              0.3333333333333333,
              "#9c179e"
             ],
             [
              0.4444444444444444,
              "#bd3786"
             ],
             [
              0.5555555555555556,
              "#d8576b"
             ],
             [
              0.6666666666666666,
              "#ed7953"
             ],
             [
              0.7777777777777778,
              "#fb9f3a"
             ],
             [
              0.8888888888888888,
              "#fdca26"
             ],
             [
              1,
              "#f0f921"
             ]
            ],
            "type": "histogram2d"
           }
          ],
          "histogram2dcontour": [
           {
            "colorbar": {
             "outlinewidth": 0,
             "ticks": ""
            },
            "colorscale": [
             [
              0,
              "#0d0887"
             ],
             [
              0.1111111111111111,
              "#46039f"
             ],
             [
              0.2222222222222222,
              "#7201a8"
             ],
             [
              0.3333333333333333,
              "#9c179e"
             ],
             [
              0.4444444444444444,
              "#bd3786"
             ],
             [
              0.5555555555555556,
              "#d8576b"
             ],
             [
              0.6666666666666666,
              "#ed7953"
             ],
             [
              0.7777777777777778,
              "#fb9f3a"
             ],
             [
              0.8888888888888888,
              "#fdca26"
             ],
             [
              1,
              "#f0f921"
             ]
            ],
            "type": "histogram2dcontour"
           }
          ],
          "mesh3d": [
           {
            "colorbar": {
             "outlinewidth": 0,
             "ticks": ""
            },
            "type": "mesh3d"
           }
          ],
          "parcoords": [
           {
            "line": {
             "colorbar": {
              "outlinewidth": 0,
              "ticks": ""
             }
            },
            "type": "parcoords"
           }
          ],
          "pie": [
           {
            "automargin": true,
            "type": "pie"
           }
          ],
          "scatter": [
           {
            "fillpattern": {
             "fillmode": "overlay",
             "size": 10,
             "solidity": 0.2
            },
            "type": "scatter"
           }
          ],
          "scatter3d": [
           {
            "line": {
             "colorbar": {
              "outlinewidth": 0,
              "ticks": ""
             }
            },
            "marker": {
             "colorbar": {
              "outlinewidth": 0,
              "ticks": ""
             }
            },
            "type": "scatter3d"
           }
          ],
          "scattercarpet": [
           {
            "marker": {
             "colorbar": {
              "outlinewidth": 0,
              "ticks": ""
             }
            },
            "type": "scattercarpet"
           }
          ],
          "scattergeo": [
           {
            "marker": {
             "colorbar": {
              "outlinewidth": 0,
              "ticks": ""
             }
            },
            "type": "scattergeo"
           }
          ],
          "scattergl": [
           {
            "marker": {
             "colorbar": {
              "outlinewidth": 0,
              "ticks": ""
             }
            },
            "type": "scattergl"
           }
          ],
          "scattermapbox": [
           {
            "marker": {
             "colorbar": {
              "outlinewidth": 0,
              "ticks": ""
             }
            },
            "type": "scattermapbox"
           }
          ],
          "scatterpolar": [
           {
            "marker": {
             "colorbar": {
              "outlinewidth": 0,
              "ticks": ""
             }
            },
            "type": "scatterpolar"
           }
          ],
          "scatterpolargl": [
           {
            "marker": {
             "colorbar": {
              "outlinewidth": 0,
              "ticks": ""
             }
            },
            "type": "scatterpolargl"
           }
          ],
          "scatterternary": [
           {
            "marker": {
             "colorbar": {
              "outlinewidth": 0,
              "ticks": ""
             }
            },
            "type": "scatterternary"
           }
          ],
          "surface": [
           {
            "colorbar": {
             "outlinewidth": 0,
             "ticks": ""
            },
            "colorscale": [
             [
              0,
              "#0d0887"
             ],
             [
              0.1111111111111111,
              "#46039f"
             ],
             [
              0.2222222222222222,
              "#7201a8"
             ],
             [
              0.3333333333333333,
              "#9c179e"
             ],
             [
              0.4444444444444444,
              "#bd3786"
             ],
             [
              0.5555555555555556,
              "#d8576b"
             ],
             [
              0.6666666666666666,
              "#ed7953"
             ],
             [
              0.7777777777777778,
              "#fb9f3a"
             ],
             [
              0.8888888888888888,
              "#fdca26"
             ],
             [
              1,
              "#f0f921"
             ]
            ],
            "type": "surface"
           }
          ],
          "table": [
           {
            "cells": {
             "fill": {
              "color": "#EBF0F8"
             },
             "line": {
              "color": "white"
             }
            },
            "header": {
             "fill": {
              "color": "#C8D4E3"
             },
             "line": {
              "color": "white"
             }
            },
            "type": "table"
           }
          ]
         },
         "layout": {
          "annotationdefaults": {
           "arrowcolor": "#2a3f5f",
           "arrowhead": 0,
           "arrowwidth": 1
          },
          "autotypenumbers": "strict",
          "coloraxis": {
           "colorbar": {
            "outlinewidth": 0,
            "ticks": ""
           }
          },
          "colorscale": {
           "diverging": [
            [
             0,
             "#8e0152"
            ],
            [
             0.1,
             "#c51b7d"
            ],
            [
             0.2,
             "#de77ae"
            ],
            [
             0.3,
             "#f1b6da"
            ],
            [
             0.4,
             "#fde0ef"
            ],
            [
             0.5,
             "#f7f7f7"
            ],
            [
             0.6,
             "#e6f5d0"
            ],
            [
             0.7,
             "#b8e186"
            ],
            [
             0.8,
             "#7fbc41"
            ],
            [
             0.9,
             "#4d9221"
            ],
            [
             1,
             "#276419"
            ]
           ],
           "sequential": [
            [
             0,
             "#0d0887"
            ],
            [
             0.1111111111111111,
             "#46039f"
            ],
            [
             0.2222222222222222,
             "#7201a8"
            ],
            [
             0.3333333333333333,
             "#9c179e"
            ],
            [
             0.4444444444444444,
             "#bd3786"
            ],
            [
             0.5555555555555556,
             "#d8576b"
            ],
            [
             0.6666666666666666,
             "#ed7953"
            ],
            [
             0.7777777777777778,
             "#fb9f3a"
            ],
            [
             0.8888888888888888,
             "#fdca26"
            ],
            [
             1,
             "#f0f921"
            ]
           ],
           "sequentialminus": [
            [
             0,
             "#0d0887"
            ],
            [
             0.1111111111111111,
             "#46039f"
            ],
            [
             0.2222222222222222,
             "#7201a8"
            ],
            [
             0.3333333333333333,
             "#9c179e"
            ],
            [
             0.4444444444444444,
             "#bd3786"
            ],
            [
             0.5555555555555556,
             "#d8576b"
            ],
            [
             0.6666666666666666,
             "#ed7953"
            ],
            [
             0.7777777777777778,
             "#fb9f3a"
            ],
            [
             0.8888888888888888,
             "#fdca26"
            ],
            [
             1,
             "#f0f921"
            ]
           ]
          },
          "colorway": [
           "#636efa",
           "#EF553B",
           "#00cc96",
           "#ab63fa",
           "#FFA15A",
           "#19d3f3",
           "#FF6692",
           "#B6E880",
           "#FF97FF",
           "#FECB52"
          ],
          "font": {
           "color": "#2a3f5f"
          },
          "geo": {
           "bgcolor": "white",
           "lakecolor": "white",
           "landcolor": "#E5ECF6",
           "showlakes": true,
           "showland": true,
           "subunitcolor": "white"
          },
          "hoverlabel": {
           "align": "left"
          },
          "hovermode": "closest",
          "mapbox": {
           "style": "light"
          },
          "paper_bgcolor": "white",
          "plot_bgcolor": "#E5ECF6",
          "polar": {
           "angularaxis": {
            "gridcolor": "white",
            "linecolor": "white",
            "ticks": ""
           },
           "bgcolor": "#E5ECF6",
           "radialaxis": {
            "gridcolor": "white",
            "linecolor": "white",
            "ticks": ""
           }
          },
          "scene": {
           "xaxis": {
            "backgroundcolor": "#E5ECF6",
            "gridcolor": "white",
            "gridwidth": 2,
            "linecolor": "white",
            "showbackground": true,
            "ticks": "",
            "zerolinecolor": "white"
           },
           "yaxis": {
            "backgroundcolor": "#E5ECF6",
            "gridcolor": "white",
            "gridwidth": 2,
            "linecolor": "white",
            "showbackground": true,
            "ticks": "",
            "zerolinecolor": "white"
           },
           "zaxis": {
            "backgroundcolor": "#E5ECF6",
            "gridcolor": "white",
            "gridwidth": 2,
            "linecolor": "white",
            "showbackground": true,
            "ticks": "",
            "zerolinecolor": "white"
           }
          },
          "shapedefaults": {
           "line": {
            "color": "#2a3f5f"
           }
          },
          "ternary": {
           "aaxis": {
            "gridcolor": "white",
            "linecolor": "white",
            "ticks": ""
           },
           "baxis": {
            "gridcolor": "white",
            "linecolor": "white",
            "ticks": ""
           },
           "bgcolor": "#E5ECF6",
           "caxis": {
            "gridcolor": "white",
            "linecolor": "white",
            "ticks": ""
           }
          },
          "title": {
           "x": 0.05
          },
          "xaxis": {
           "automargin": true,
           "gridcolor": "white",
           "linecolor": "white",
           "ticks": "",
           "title": {
            "standoff": 15
           },
           "zerolinecolor": "white",
           "zerolinewidth": 2
          },
          "yaxis": {
           "automargin": true,
           "gridcolor": "white",
           "linecolor": "white",
           "ticks": "",
           "title": {
            "standoff": 15
           },
           "zerolinecolor": "white",
           "zerolinewidth": 2
          }
         }
        },
        "width": 620,
        "xaxis": {
         "anchor": "y",
         "domain": [
          0,
          1
         ],
         "title": {
          "text": "Performance"
         }
        },
        "yaxis": {
         "anchor": "x",
         "autorange": "reversed",
         "domain": [
          0,
          1
         ],
         "title": {
          "text": "Dataset"
         }
        }
       }
      },
      "text/html": [
       "<div>                            <div id=\"3c9927a9-df8b-4722-af61-d3b87fd0ccd3\" class=\"plotly-graph-div\" style=\"height:1200px; width:620.0px;\"></div>            <script type=\"text/javascript\">                require([\"plotly\"], function(Plotly) {                    window.PLOTLYENV=window.PLOTLYENV || {};                                    if (document.getElementById(\"3c9927a9-df8b-4722-af61-d3b87fd0ccd3\")) {                    Plotly.newPlot(                        \"3c9927a9-df8b-4722-af61-d3b87fd0ccd3\",                        [{\"alignmentgroup\":\"True\",\"error_x\":{\"array\":[0.0,0.0,0.0,0.0,0.0,0.0,0.0,0.0,0.0,0.0,0.0,0.0,0.0,0.0,0.0]},\"hovertemplate\":\"=knn\\u003cbr\\u003ePerformance=%{x}\\u003cbr\\u003eDataset=%{y}\\u003cextra\\u003e\\u003c\\u002fextra\\u003e\",\"legendgroup\":\"knn\",\"marker\":{\"color\":\"rgb(95, 70, 144)\",\"pattern\":{\"shape\":\"\"}},\"name\":\"knn\",\"offsetgroup\":\"knn\",\"orientation\":\"h\",\"showlegend\":true,\"textposition\":\"auto\",\"x\":[0.9178579163959281,0.7175232545997096,0.7092884420543996,0.5476190476190477,0.9555555555555556,0.9455,0.5049019607843137,0.988428941906149,0.8636907391101323,0.9025045416497844,0.9336219336219336,0.8909546104108189,0.8176470588235295,0.6714063714063713,0.5463856770422707],\"xaxis\":\"x\",\"y\":[\"breast_cancer\",\"dry_bean\",\"glass\",\"image_segmentation\",\"iris\",\"letter\",\"motion_sense\",\"optical_handwritten\",\"rice\",\"satimage\",\"segment\",\"sepsis\",\"vehicle\",\"wine\",\"yeast\"],\"yaxis\":\"y\",\"type\":\"bar\"},{\"alignmentgroup\":\"True\",\"error_x\":{\"array\":[0.0,0.14704971968785469,0.0,0.027492869961410732,0.0,0.0022422706745123333,0.008452625592403605,0.004483121228581144,0.24718101011399493,0.0013219608840686324,0.010405631386620488,0.0,0.0,0.0,0.0]},\"hovertemplate\":\"=mlp\\u003cbr\\u003ePerformance=%{x}\\u003cbr\\u003eDataset=%{y}\\u003cextra\\u003e\\u003c\\u002fextra\\u003e\",\"legendgroup\":\"mlp\",\"marker\":{\"color\":\"rgb(29, 105, 150)\",\"pattern\":{\"shape\":\"\"}},\"name\":\"mlp\",\"offsetgroup\":\"mlp\",\"orientation\":\"h\",\"showlegend\":true,\"textposition\":\"auto\",\"x\":[0.9103013945119208,0.22507061835587583,0.4554142391626345,0.5555555555555555,0.9777777777777775,0.9205,0.6565359477124183,0.981028439293471,0.4777329795241849,0.9116120122328867,0.9422799422799423,0.8908920043310973,0.8176470588235295,0.8883769948810599,0.5895877432143035],\"xaxis\":\"x\",\"y\":[\"breast_cancer\",\"dry_bean\",\"glass\",\"image_segmentation\",\"iris\",\"letter\",\"motion_sense\",\"optical_handwritten\",\"rice\",\"satimage\",\"segment\",\"sepsis\",\"vehicle\",\"wine\",\"yeast\"],\"yaxis\":\"y\",\"type\":\"bar\"},{\"alignmentgroup\":\"True\",\"error_x\":{\"array\":[0.0,0.0017192363008078674,0.0,0.0,0.0,0.001228519132638647,0.012820291010413778,0.0013610825370562994,0.0007729364284437067,0.001053388220941523,0.0008331172715577878,2.6127788329374387e-05,0.00339617805405661,0.0,0.0]},\"hovertemplate\":\"=random-forest\\u003cbr\\u003ePerformance=%{x}\\u003cbr\\u003eDataset=%{y}\\u003cextra\\u003e\\u003c\\u002fextra\\u003e\",\"legendgroup\":\"random-forest\",\"marker\":{\"color\":\"rgb(56, 166, 165)\",\"pattern\":{\"shape\":\"\"}},\"name\":\"random-forest\",\"offsetgroup\":\"random-forest\",\"orientation\":\"h\",\"showlegend\":true,\"textposition\":\"auto\",\"x\":[0.9708871747643292,0.9198474773426017,0.7060178946619377,0.6190476190476191,0.9333333333333332,0.9607222222222221,0.8078431372549019,0.9827979576880973,0.9152644340920002,0.910574331227231,0.9716209716209715,0.8908090454440197,0.9686274509803922,0.9815543316723488,0.6207256954912499],\"xaxis\":\"x\",\"y\":[\"breast_cancer\",\"dry_bean\",\"glass\",\"image_segmentation\",\"iris\",\"letter\",\"motion_sense\",\"optical_handwritten\",\"rice\",\"satimage\",\"segment\",\"sepsis\",\"vehicle\",\"wine\",\"yeast\"],\"yaxis\":\"y\",\"type\":\"bar\"},{\"alignmentgroup\":\"True\",\"error_x\":{\"array\":[0.0,0.0,0.0,0.0,0.0,0.0,0.0,0.0,0.0,0.0,0.0,0.0,0.0,0.0,0.0]},\"hovertemplate\":\"=svm\\u003cbr\\u003ePerformance=%{x}\\u003cbr\\u003eDataset=%{y}\\u003cextra\\u003e\\u003c\\u002fextra\\u003e\",\"legendgroup\":\"svm\",\"marker\":{\"color\":\"rgb(15, 133, 84)\",\"pattern\":{\"shape\":\"\"}},\"name\":\"svm\",\"offsetgroup\":\"svm\",\"orientation\":\"h\",\"showlegend\":true,\"textposition\":\"auto\",\"x\":[0.8730641381054367,0.6014133504868324,0.1849650349650349,0.5,1.0,0.92,0.538235294117647,0.9919918925110768,0.867169718729999,0.892530243798912,0.8701298701298702,0.8908920043310973,0.7176470588235294,0.6486013986013985,0.5992100016133695],\"xaxis\":\"x\",\"y\":[\"breast_cancer\",\"dry_bean\",\"glass\",\"image_segmentation\",\"iris\",\"letter\",\"motion_sense\",\"optical_handwritten\",\"rice\",\"satimage\",\"segment\",\"sepsis\",\"vehicle\",\"wine\",\"yeast\"],\"yaxis\":\"y\",\"type\":\"bar\"},{\"alignmentgroup\":\"True\",\"error_x\":{\"array\":[0.0099820632299025,0.0022812085867171,0.0224288030898329,0.0336717514850736,0.0,0.0032470309324894,0.0,0.0034620193541112,1.1102230246251563e-16,0.0061906608057078,0.0054418992299108,0.0002268381546205,0.0127073347027605,0.0153247986020781,0.0031494801628382]},\"hovertemplate\":\"=wisard\\u003cbr\\u003ePerformance=%{x}\\u003cbr\\u003eDataset=%{y}\\u003cextra\\u003e\\u003c\\u002fextra\\u003e\",\"legendgroup\":\"wisard\",\"marker\":{\"color\":\"rgb(115, 175, 72)\",\"pattern\":{\"shape\":\"\"}},\"name\":\"wisard\",\"offsetgroup\":\"wisard\",\"orientation\":\"h\",\"showlegend\":true,\"textposition\":\"auto\",\"x\":[0.9628161882204516,0.9024029619050484,0.6615428500177969,0.8571428571428572,1.0,0.9000555555555557,0.65,0.9780450131673772,0.8994465342855008,0.8866629525557234,0.8807118807118807,0.8915753747755484,0.8941176470588235,0.962856206024315,0.5700237244955314],\"xaxis\":\"x\",\"y\":[\"breast_cancer\",\"dry_bean\",\"glass\",\"image_segmentation\",\"iris\",\"letter\",\"motion_sense\",\"optical_handwritten\",\"rice\",\"satimage\",\"segment\",\"sepsis\",\"vehicle\",\"wine\",\"yeast\"],\"yaxis\":\"y\",\"type\":\"bar\"}],                        {\"template\":{\"data\":{\"histogram2dcontour\":[{\"type\":\"histogram2dcontour\",\"colorbar\":{\"outlinewidth\":0,\"ticks\":\"\"},\"colorscale\":[[0.0,\"#0d0887\"],[0.1111111111111111,\"#46039f\"],[0.2222222222222222,\"#7201a8\"],[0.3333333333333333,\"#9c179e\"],[0.4444444444444444,\"#bd3786\"],[0.5555555555555556,\"#d8576b\"],[0.6666666666666666,\"#ed7953\"],[0.7777777777777778,\"#fb9f3a\"],[0.8888888888888888,\"#fdca26\"],[1.0,\"#f0f921\"]]}],\"choropleth\":[{\"type\":\"choropleth\",\"colorbar\":{\"outlinewidth\":0,\"ticks\":\"\"}}],\"histogram2d\":[{\"type\":\"histogram2d\",\"colorbar\":{\"outlinewidth\":0,\"ticks\":\"\"},\"colorscale\":[[0.0,\"#0d0887\"],[0.1111111111111111,\"#46039f\"],[0.2222222222222222,\"#7201a8\"],[0.3333333333333333,\"#9c179e\"],[0.4444444444444444,\"#bd3786\"],[0.5555555555555556,\"#d8576b\"],[0.6666666666666666,\"#ed7953\"],[0.7777777777777778,\"#fb9f3a\"],[0.8888888888888888,\"#fdca26\"],[1.0,\"#f0f921\"]]}],\"heatmap\":[{\"type\":\"heatmap\",\"colorbar\":{\"outlinewidth\":0,\"ticks\":\"\"},\"colorscale\":[[0.0,\"#0d0887\"],[0.1111111111111111,\"#46039f\"],[0.2222222222222222,\"#7201a8\"],[0.3333333333333333,\"#9c179e\"],[0.4444444444444444,\"#bd3786\"],[0.5555555555555556,\"#d8576b\"],[0.6666666666666666,\"#ed7953\"],[0.7777777777777778,\"#fb9f3a\"],[0.8888888888888888,\"#fdca26\"],[1.0,\"#f0f921\"]]}],\"heatmapgl\":[{\"type\":\"heatmapgl\",\"colorbar\":{\"outlinewidth\":0,\"ticks\":\"\"},\"colorscale\":[[0.0,\"#0d0887\"],[0.1111111111111111,\"#46039f\"],[0.2222222222222222,\"#7201a8\"],[0.3333333333333333,\"#9c179e\"],[0.4444444444444444,\"#bd3786\"],[0.5555555555555556,\"#d8576b\"],[0.6666666666666666,\"#ed7953\"],[0.7777777777777778,\"#fb9f3a\"],[0.8888888888888888,\"#fdca26\"],[1.0,\"#f0f921\"]]}],\"contourcarpet\":[{\"type\":\"contourcarpet\",\"colorbar\":{\"outlinewidth\":0,\"ticks\":\"\"}}],\"contour\":[{\"type\":\"contour\",\"colorbar\":{\"outlinewidth\":0,\"ticks\":\"\"},\"colorscale\":[[0.0,\"#0d0887\"],[0.1111111111111111,\"#46039f\"],[0.2222222222222222,\"#7201a8\"],[0.3333333333333333,\"#9c179e\"],[0.4444444444444444,\"#bd3786\"],[0.5555555555555556,\"#d8576b\"],[0.6666666666666666,\"#ed7953\"],[0.7777777777777778,\"#fb9f3a\"],[0.8888888888888888,\"#fdca26\"],[1.0,\"#f0f921\"]]}],\"surface\":[{\"type\":\"surface\",\"colorbar\":{\"outlinewidth\":0,\"ticks\":\"\"},\"colorscale\":[[0.0,\"#0d0887\"],[0.1111111111111111,\"#46039f\"],[0.2222222222222222,\"#7201a8\"],[0.3333333333333333,\"#9c179e\"],[0.4444444444444444,\"#bd3786\"],[0.5555555555555556,\"#d8576b\"],[0.6666666666666666,\"#ed7953\"],[0.7777777777777778,\"#fb9f3a\"],[0.8888888888888888,\"#fdca26\"],[1.0,\"#f0f921\"]]}],\"mesh3d\":[{\"type\":\"mesh3d\",\"colorbar\":{\"outlinewidth\":0,\"ticks\":\"\"}}],\"scatter\":[{\"fillpattern\":{\"fillmode\":\"overlay\",\"size\":10,\"solidity\":0.2},\"type\":\"scatter\"}],\"parcoords\":[{\"type\":\"parcoords\",\"line\":{\"colorbar\":{\"outlinewidth\":0,\"ticks\":\"\"}}}],\"scatterpolargl\":[{\"type\":\"scatterpolargl\",\"marker\":{\"colorbar\":{\"outlinewidth\":0,\"ticks\":\"\"}}}],\"bar\":[{\"error_x\":{\"color\":\"#2a3f5f\"},\"error_y\":{\"color\":\"#2a3f5f\"},\"marker\":{\"line\":{\"color\":\"#E5ECF6\",\"width\":0.5},\"pattern\":{\"fillmode\":\"overlay\",\"size\":10,\"solidity\":0.2}},\"type\":\"bar\"}],\"scattergeo\":[{\"type\":\"scattergeo\",\"marker\":{\"colorbar\":{\"outlinewidth\":0,\"ticks\":\"\"}}}],\"scatterpolar\":[{\"type\":\"scatterpolar\",\"marker\":{\"colorbar\":{\"outlinewidth\":0,\"ticks\":\"\"}}}],\"histogram\":[{\"marker\":{\"pattern\":{\"fillmode\":\"overlay\",\"size\":10,\"solidity\":0.2}},\"type\":\"histogram\"}],\"scattergl\":[{\"type\":\"scattergl\",\"marker\":{\"colorbar\":{\"outlinewidth\":0,\"ticks\":\"\"}}}],\"scatter3d\":[{\"type\":\"scatter3d\",\"line\":{\"colorbar\":{\"outlinewidth\":0,\"ticks\":\"\"}},\"marker\":{\"colorbar\":{\"outlinewidth\":0,\"ticks\":\"\"}}}],\"scattermapbox\":[{\"type\":\"scattermapbox\",\"marker\":{\"colorbar\":{\"outlinewidth\":0,\"ticks\":\"\"}}}],\"scatterternary\":[{\"type\":\"scatterternary\",\"marker\":{\"colorbar\":{\"outlinewidth\":0,\"ticks\":\"\"}}}],\"scattercarpet\":[{\"type\":\"scattercarpet\",\"marker\":{\"colorbar\":{\"outlinewidth\":0,\"ticks\":\"\"}}}],\"carpet\":[{\"aaxis\":{\"endlinecolor\":\"#2a3f5f\",\"gridcolor\":\"white\",\"linecolor\":\"white\",\"minorgridcolor\":\"white\",\"startlinecolor\":\"#2a3f5f\"},\"baxis\":{\"endlinecolor\":\"#2a3f5f\",\"gridcolor\":\"white\",\"linecolor\":\"white\",\"minorgridcolor\":\"white\",\"startlinecolor\":\"#2a3f5f\"},\"type\":\"carpet\"}],\"table\":[{\"cells\":{\"fill\":{\"color\":\"#EBF0F8\"},\"line\":{\"color\":\"white\"}},\"header\":{\"fill\":{\"color\":\"#C8D4E3\"},\"line\":{\"color\":\"white\"}},\"type\":\"table\"}],\"barpolar\":[{\"marker\":{\"line\":{\"color\":\"#E5ECF6\",\"width\":0.5},\"pattern\":{\"fillmode\":\"overlay\",\"size\":10,\"solidity\":0.2}},\"type\":\"barpolar\"}],\"pie\":[{\"automargin\":true,\"type\":\"pie\"}]},\"layout\":{\"autotypenumbers\":\"strict\",\"colorway\":[\"#636efa\",\"#EF553B\",\"#00cc96\",\"#ab63fa\",\"#FFA15A\",\"#19d3f3\",\"#FF6692\",\"#B6E880\",\"#FF97FF\",\"#FECB52\"],\"font\":{\"color\":\"#2a3f5f\"},\"hovermode\":\"closest\",\"hoverlabel\":{\"align\":\"left\"},\"paper_bgcolor\":\"white\",\"plot_bgcolor\":\"#E5ECF6\",\"polar\":{\"bgcolor\":\"#E5ECF6\",\"angularaxis\":{\"gridcolor\":\"white\",\"linecolor\":\"white\",\"ticks\":\"\"},\"radialaxis\":{\"gridcolor\":\"white\",\"linecolor\":\"white\",\"ticks\":\"\"}},\"ternary\":{\"bgcolor\":\"#E5ECF6\",\"aaxis\":{\"gridcolor\":\"white\",\"linecolor\":\"white\",\"ticks\":\"\"},\"baxis\":{\"gridcolor\":\"white\",\"linecolor\":\"white\",\"ticks\":\"\"},\"caxis\":{\"gridcolor\":\"white\",\"linecolor\":\"white\",\"ticks\":\"\"}},\"coloraxis\":{\"colorbar\":{\"outlinewidth\":0,\"ticks\":\"\"}},\"colorscale\":{\"sequential\":[[0.0,\"#0d0887\"],[0.1111111111111111,\"#46039f\"],[0.2222222222222222,\"#7201a8\"],[0.3333333333333333,\"#9c179e\"],[0.4444444444444444,\"#bd3786\"],[0.5555555555555556,\"#d8576b\"],[0.6666666666666666,\"#ed7953\"],[0.7777777777777778,\"#fb9f3a\"],[0.8888888888888888,\"#fdca26\"],[1.0,\"#f0f921\"]],\"sequentialminus\":[[0.0,\"#0d0887\"],[0.1111111111111111,\"#46039f\"],[0.2222222222222222,\"#7201a8\"],[0.3333333333333333,\"#9c179e\"],[0.4444444444444444,\"#bd3786\"],[0.5555555555555556,\"#d8576b\"],[0.6666666666666666,\"#ed7953\"],[0.7777777777777778,\"#fb9f3a\"],[0.8888888888888888,\"#fdca26\"],[1.0,\"#f0f921\"]],\"diverging\":[[0,\"#8e0152\"],[0.1,\"#c51b7d\"],[0.2,\"#de77ae\"],[0.3,\"#f1b6da\"],[0.4,\"#fde0ef\"],[0.5,\"#f7f7f7\"],[0.6,\"#e6f5d0\"],[0.7,\"#b8e186\"],[0.8,\"#7fbc41\"],[0.9,\"#4d9221\"],[1,\"#276419\"]]},\"xaxis\":{\"gridcolor\":\"white\",\"linecolor\":\"white\",\"ticks\":\"\",\"title\":{\"standoff\":15},\"zerolinecolor\":\"white\",\"automargin\":true,\"zerolinewidth\":2},\"yaxis\":{\"gridcolor\":\"white\",\"linecolor\":\"white\",\"ticks\":\"\",\"title\":{\"standoff\":15},\"zerolinecolor\":\"white\",\"automargin\":true,\"zerolinewidth\":2},\"scene\":{\"xaxis\":{\"backgroundcolor\":\"#E5ECF6\",\"gridcolor\":\"white\",\"linecolor\":\"white\",\"showbackground\":true,\"ticks\":\"\",\"zerolinecolor\":\"white\",\"gridwidth\":2},\"yaxis\":{\"backgroundcolor\":\"#E5ECF6\",\"gridcolor\":\"white\",\"linecolor\":\"white\",\"showbackground\":true,\"ticks\":\"\",\"zerolinecolor\":\"white\",\"gridwidth\":2},\"zaxis\":{\"backgroundcolor\":\"#E5ECF6\",\"gridcolor\":\"white\",\"linecolor\":\"white\",\"showbackground\":true,\"ticks\":\"\",\"zerolinecolor\":\"white\",\"gridwidth\":2}},\"shapedefaults\":{\"line\":{\"color\":\"#2a3f5f\"}},\"annotationdefaults\":{\"arrowcolor\":\"#2a3f5f\",\"arrowhead\":0,\"arrowwidth\":1},\"geo\":{\"bgcolor\":\"white\",\"landcolor\":\"#E5ECF6\",\"subunitcolor\":\"white\",\"showland\":true,\"showlakes\":true,\"lakecolor\":\"white\"},\"title\":{\"x\":0.05},\"mapbox\":{\"style\":\"light\"}}},\"xaxis\":{\"anchor\":\"y\",\"domain\":[0.0,1.0],\"title\":{\"text\":\"Performance\"}},\"yaxis\":{\"anchor\":\"x\",\"domain\":[0.0,1.0],\"title\":{\"text\":\"Dataset\"},\"autorange\":\"reversed\"},\"legend\":{\"title\":{\"text\":\"\"},\"tracegroupgap\":0,\"orientation\":\"h\",\"yanchor\":\"top\",\"y\":1.05,\"xanchor\":\"center\",\"x\":0.5},\"margin\":{\"t\":60},\"barmode\":\"group\",\"font\":{\"family\":\"Times New Roman\",\"size\":14},\"height\":1200,\"width\":620.0},                        {\"responsive\": true}                    ).then(function(){\n",
       "                            \n",
       "var gd = document.getElementById('3c9927a9-df8b-4722-af61-d3b87fd0ccd3');\n",
       "var x = new MutationObserver(function (mutations, observer) {{\n",
       "        var display = window.getComputedStyle(gd).display;\n",
       "        if (!display || display === 'none') {{\n",
       "            console.log([gd, 'removed!']);\n",
       "            Plotly.purge(gd);\n",
       "            observer.disconnect();\n",
       "        }}\n",
       "}});\n",
       "\n",
       "// Listen for the removal of the full notebook cells\n",
       "var notebookContainer = gd.closest('#notebook-container');\n",
       "if (notebookContainer) {{\n",
       "    x.observe(notebookContainer, {childList: true});\n",
       "}}\n",
       "\n",
       "// Listen for the clearing of the current output cell\n",
       "var outputEl = gd.closest('.output');\n",
       "if (outputEl) {{\n",
       "    x.observe(outputEl, {childList: true});\n",
       "}}\n",
       "\n",
       "                        })                };                });            </script>        </div>"
      ]
     },
     "metadata": {},
     "output_type": "display_data"
    }
   ],
   "source": [
    "# Assume 'results' DataFrame with columns: 'dataset', 'model', 'accuracy'\n",
    "\n",
    "# Create a grouped horizontal bar chart for accuracy per model and dataset with reversed bar groups\n",
    "fig_grouped_bar = px.bar(\n",
    "    best_metric_df,\n",
    "    y=\"dataset\",\n",
    "    x=\"metric\",\n",
    "    error_x=\"metric_std\",\n",
    "    color=\"model\",\n",
    "    #  title='Metric Comparison by Model and Dataset',\n",
    "    labels={\"metric\": \"Performance\", \"dataset\": \"Dataset\", \"model\": \"\"},\n",
    "    barmode=\"group\",\n",
    "    orientation='h',\n",
    "    color_discrete_sequence=px.colors.qualitative.Prism,\n",
    ")\n",
    "\n",
    "\n",
    "# Reverse the order of the bar groups\n",
    "fig_grouped_bar.update_layout(\n",
    "    yaxis=dict(autorange=\"reversed\"),\n",
    ")\n",
    "\n",
    "# Display the plot\n",
    "fig_grouped_bar.update_layout(\n",
    "    legend=dict(\n",
    "        orientation=\"h\", yanchor=\"top\", y=1.05, xanchor=\"center\", x=0.5\n",
    "    ),\n",
    "    height=1200,\n",
    "    width=2480 / 4,\n",
    "    font=dict(family=\"Times New Roman\", size=14),\n",
    ")\n",
    "\n",
    "write_figure(\"models_performance_horizontal.pdf\", fig_grouped_bar)\n",
    "fig_grouped_bar.show()"
   ]
  },
  {
   "cell_type": "code",
   "execution_count": 14,
   "metadata": {},
   "outputs": [
    {
     "name": "stdout",
     "output_type": "stream",
     "text": [
      "How many times per dataset, each model is the best?\n"
     ]
    },
    {
     "data": {
      "text/html": [
       "<div>\n",
       "<style scoped>\n",
       "    .dataframe tbody tr th:only-of-type {\n",
       "        vertical-align: middle;\n",
       "    }\n",
       "\n",
       "    .dataframe tbody tr th {\n",
       "        vertical-align: top;\n",
       "    }\n",
       "\n",
       "    .dataframe thead th {\n",
       "        text-align: right;\n",
       "    }\n",
       "</style>\n",
       "<table border=\"1\" class=\"dataframe\">\n",
       "  <thead>\n",
       "    <tr style=\"text-align: right;\">\n",
       "      <th></th>\n",
       "      <th>model</th>\n",
       "      <th>0</th>\n",
       "    </tr>\n",
       "  </thead>\n",
       "  <tbody>\n",
       "    <tr>\n",
       "      <th>0</th>\n",
       "      <td>random-forest</td>\n",
       "      <td>9</td>\n",
       "    </tr>\n",
       "    <tr>\n",
       "      <th>1</th>\n",
       "      <td>wisard</td>\n",
       "      <td>2</td>\n",
       "    </tr>\n",
       "    <tr>\n",
       "      <th>2</th>\n",
       "      <td>svm</td>\n",
       "      <td>2</td>\n",
       "    </tr>\n",
       "    <tr>\n",
       "      <th>3</th>\n",
       "      <td>knn</td>\n",
       "      <td>1</td>\n",
       "    </tr>\n",
       "    <tr>\n",
       "      <th>4</th>\n",
       "      <td>mlp</td>\n",
       "      <td>1</td>\n",
       "    </tr>\n",
       "  </tbody>\n",
       "</table>\n",
       "</div>"
      ],
      "text/plain": [
       "           model  count\n",
       "0  random-forest      9\n",
       "1         wisard      2\n",
       "2            svm      2\n",
       "3            knn      1\n",
       "4            mlp      1"
      ]
     },
     "execution_count": 14,
     "metadata": {},
     "output_type": "execute_result"
    }
   ],
   "source": [
    "# Count how many times per dataset, wisard is the best model\n",
    "\n",
    "print(\"How many times per dataset, each model is the best?\")\n",
    "best_metric_df.loc[\n",
    "    best_metric_df.groupby(\"dataset\")[\"metric\"].idxmax()\n",
    "].value_counts(\"model\").to_frame().reset_index()"
   ]
  },
  {
   "cell_type": "markdown",
   "metadata": {},
   "source": [
    "## 3. Wisard has competitive results with SKLearn and is smallest\n",
    "\n",
    "Here we show that costing up to 2% of performance, the dict-wisard is much\n",
    "smaller than the sklearn algorithms."
   ]
  },
  {
   "cell_type": "code",
   "execution_count": 15,
   "metadata": {},
   "outputs": [],
   "source": [
    "# Up to 2% of accuracy loss\n",
    "metric_threshold = 0.01"
   ]
  },
  {
   "cell_type": "code",
   "execution_count": 16,
   "metadata": {},
   "outputs": [
    {
     "data": {
      "text/plain": [
       "(3581, 23)"
      ]
     },
     "execution_count": 16,
     "metadata": {},
     "output_type": "execute_result"
    }
   ],
   "source": [
    "# Read results and filter bloom filter results\n",
    "results = base_results.copy()\n",
    "results = results[\n",
    "    (results[\"model\"] != \"wisard\") | (results[\"config_name\"] == \"Dict\")\n",
    "]\n",
    "results.shape"
   ]
  },
  {
   "cell_type": "code",
   "execution_count": 17,
   "metadata": {},
   "outputs": [
    {
     "data": {
      "text/plain": [
       "model\n",
       "knn              15\n",
       "mlp              15\n",
       "random-forest    15\n",
       "svm              15\n",
       "wisard           15\n",
       "dtype: int64"
      ]
     },
     "execution_count": 17,
     "metadata": {},
     "output_type": "execute_result"
    }
   ],
   "source": [
    "# Create a dataframe with the best performance for each dataset and model\n",
    "best_metric_dataset_model = (\n",
    "    results.groupby([\"dataset\", \"model\"])\n",
    "    .apply(lambda group: group.loc[group[\"metric\"].idxmax()])\n",
    "    .reset_index(drop=True)\n",
    ")\n",
    "\n",
    "best_metric_dataset_model.value_counts(\"model\")"
   ]
  },
  {
   "cell_type": "code",
   "execution_count": 18,
   "metadata": {},
   "outputs": [
    {
     "data": {
      "text/html": [
       "<div>\n",
       "<style scoped>\n",
       "    .dataframe tbody tr th:only-of-type {\n",
       "        vertical-align: middle;\n",
       "    }\n",
       "\n",
       "    .dataframe tbody tr th {\n",
       "        vertical-align: top;\n",
       "    }\n",
       "\n",
       "    .dataframe thead th {\n",
       "        text-align: right;\n",
       "    }\n",
       "</style>\n",
       "<table border=\"1\" class=\"dataframe\">\n",
       "  <thead>\n",
       "    <tr style=\"text-align: right;\">\n",
       "      <th></th>\n",
       "      <th>dataset</th>\n",
       "      <th>model</th>\n",
       "      <th>config_name</th>\n",
       "      <th>metric</th>\n",
       "      <th>metric_std</th>\n",
       "      <th>model_size</th>\n",
       "      <th>model_size_std</th>\n",
       "      <th>accuracy</th>\n",
       "      <th>accuracy_std</th>\n",
       "      <th>f1</th>\n",
       "      <th>...</th>\n",
       "      <th>bleach</th>\n",
       "      <th>rams per discriminator</th>\n",
       "      <th>dataset_size</th>\n",
       "      <th>features</th>\n",
       "      <th>num_classes</th>\n",
       "      <th>train_size</th>\n",
       "      <th>test_size</th>\n",
       "      <th>model_size_ratio</th>\n",
       "      <th>normalized_model_size_ratio</th>\n",
       "      <th>best_tradeoff</th>\n",
       "    </tr>\n",
       "  </thead>\n",
       "  <tbody>\n",
       "    <tr>\n",
       "      <th>0</th>\n",
       "      <td>breast_cancer</td>\n",
       "      <td>knn</td>\n",
       "      <td></td>\n",
       "      <td>0.9179</td>\n",
       "      <td>0.0000</td>\n",
       "      <td>99380.0000</td>\n",
       "      <td>0.0000</td>\n",
       "      <td>0.9181</td>\n",
       "      <td>0.0000</td>\n",
       "      <td>0.9179</td>\n",
       "      <td>...</td>\n",
       "      <td>NaN</td>\n",
       "      <td>NaN</td>\n",
       "      <td>141416</td>\n",
       "      <td>30</td>\n",
       "      <td>3</td>\n",
       "      <td>398</td>\n",
       "      <td>171</td>\n",
       "      <td>0.3508</td>\n",
       "      <td>0.2818</td>\n",
       "      <td>False</td>\n",
       "    </tr>\n",
       "    <tr>\n",
       "      <th>1</th>\n",
       "      <td>breast_cancer</td>\n",
       "      <td>mlp</td>\n",
       "      <td></td>\n",
       "      <td>0.9103</td>\n",
       "      <td>0.0000</td>\n",
       "      <td>85156.0000</td>\n",
       "      <td>0.0000</td>\n",
       "      <td>0.9123</td>\n",
       "      <td>0.0000</td>\n",
       "      <td>0.9103</td>\n",
       "      <td>0.0000</td>\n",
       "      <td>NaN</td>\n",
       "      <td>NaN</td>\n",
       "      <td>NaN</td>\n",
       "      <td>NaN</td>\n",
       "      <td>NaN</td>\n",
       "      <td>NaN</td>\n",
       "      <td>NaN</td>\n",
       "      <td>141416</td>\n",
       "      <td>30</td>\n",
       "      <td>3</td>\n",
       "      <td>398</td>\n",
       "      <td>171</td>\n",
       "      <td>0.3006</td>\n",
       "      <td>0.2262</td>\n",
       "      <td>False</td>\n",
       "    </tr>\n",
       "    <tr>\n",
       "      <th>2</th>\n",
       "      <td>breast_cancer</td>\n",
       "      <td>random-forest</td>\n",
       "      <td></td>\n",
       "      <td>0.9709</td>\n",
       "      <td>0.0000</td>\n",
       "      <td>283286.0000</td>\n",
       "      <td>0.0000</td>\n",
       "      <td>0.9708</td>\n",
       "      <td>0.0000</td>\n",
       "      <td>0.9709</td>\n",
       "      <td>...</td>\n",
       "      <td>NaN</td>\n",
       "      <td>NaN</td>\n",
       "      <td>141416</td>\n",
       "      <td>30</td>\n",
       "      <td>3</td>\n",
       "      <td>398</td>\n",
       "      <td>171</td>\n",
       "      <td>1.0000</td>\n",
       "      <td>1.0000</td>\n",
       "      <td>False</td>\n",
       "    </tr>\n",
       "    <tr>\n",
       "      <th>3</th>\n",
       "      <td>breast_cancer</td>\n",
       "      <td>svm</td>\n",
       "      <td></td>\n",
       "      <td>0.8731</td>\n",
       "      <td>0.0000</td>\n",
       "      <td>27227.0000</td>\n",
       "      <td>0.0000</td>\n",
       "      <td>0.8772</td>\n",
       "      <td>0.0000</td>\n",
       "      <td>0.8731</td>\n",
       "      <td>...</td>\n",
       "      <td>NaN</td>\n",
       "      <td>NaN</td>\n",
       "      <td>141416</td>\n",
       "      <td>30</td>\n",
       "      <td>3</td>\n",
       "      <td>398</td>\n",
       "      <td>171</td>\n",
       "      <td>0.0961</td>\n",
       "      <td>0.0000</td>\n",
       "      <td>False</td>\n",
       "    </tr>\n",
       "    <tr>\n",
       "      <th>4</th>\n",
       "      <td>breast_cancer</td>\n",
       "      <td>wisard</td>\n",
       "      <td>Dict</td>\n",
       "      <td>0.9628</td>\n",
       "      <td>0.0100</td>\n",
       "      <td>94920.6667</td>\n",
       "      <td>2226.8169</td>\n",
       "      <td>0.9630</td>\n",
       "      <td>0.0099</td>\n",
       "      <td>0.9628</td>\n",
       "      <td>...</td>\n",
       "      <td>4.0000</td>\n",
       "      <td>30.0000</td>\n",
       "      <td>141416</td>\n",
       "      <td>30</td>\n",
       "      <td>3</td>\n",
       "      <td>398</td>\n",
       "      <td>171</td>\n",
       "      <td>0.3351</td>\n",
       "      <td>0.2644</td>\n",
       "      <td>True</td>\n",
       "    </tr>\n",
       "    <tr>\n",
       "      <th>5</th>\n",
       "      <td>dry_bean</td>\n",
       "      <td>knn</td>\n",
       "      <td></td>\n",
       "      <td>0.7175</td>\n",
       "      <td>0.0000</td>\n",
       "      <td>1481493.0000</td>\n",
       "      <td>0.0000</td>\n",
       "      <td>0.7216</td>\n",
       "      <td>0.0000</td>\n",
       "      <td>0.7175</td>\n",
       "      <td>...</td>\n",
       "      <td>NaN</td>\n",
       "      <td>NaN</td>\n",
       "      <td>1773910</td>\n",
       "      <td>16</td>\n",
       "      <td>7</td>\n",
       "      <td>10888</td>\n",
       "      <td>2723</td>\n",
       "      <td>0.1044</td>\n",
       "      <td>0.1004</td>\n",
       "      <td>False</td>\n",
       "    </tr>\n",
       "    <tr>\n",
       "      <th>6</th>\n",
       "      <td>dry_bean</td>\n",
       "      <td>mlp</td>\n",
       "      <td></td>\n",
       "      <td>0.2251</td>\n",
       "      <td>0.1470</td>\n",
       "      <td>63218.3333</td>\n",
       "      <td>219.9780</td>\n",
       "      <td>0.3286</td>\n",
       "      <td>0.0946</td>\n",
       "      <td>0.2251</td>\n",
       "      <td>0.1470</td>\n",
       "      <td>NaN</td>\n",
       "      <td>NaN</td>\n",
       "      <td>NaN</td>\n",
       "      <td>NaN</td>\n",
       "      <td>NaN</td>\n",
       "      <td>NaN</td>\n",
       "      <td>NaN</td>\n",
       "      <td>1773910</td>\n",
       "      <td>16</td>\n",
       "      <td>7</td>\n",
       "      <td>10888</td>\n",
       "      <td>2723</td>\n",
       "      <td>0.0045</td>\n",
       "      <td>0.0000</td>\n",
       "      <td>False</td>\n",
       "    </tr>\n",
       "    <tr>\n",
       "      <th>7</th>\n",
       "      <td>dry_bean</td>\n",
       "      <td>random-forest</td>\n",
       "      <td></td>\n",
       "      <td>0.9198</td>\n",
       "      <td>0.0017</td>\n",
       "      <td>14189404.0000</td>\n",
       "      <td>54370.3571</td>\n",
       "      <td>0.9199</td>\n",
       "      <td>0.0017</td>\n",
       "      <td>0.9198</td>\n",
       "      <td>...</td>\n",
       "      <td>NaN</td>\n",
       "      <td>NaN</td>\n",
       "      <td>1773910</td>\n",
       "      <td>16</td>\n",
       "      <td>7</td>\n",
       "      <td>10888</td>\n",
       "      <td>2723</td>\n",
       "      <td>1.0000</td>\n",
       "      <td>1.0000</td>\n",
       "      <td>True</td>\n",
       "    </tr>\n",
       "  </tbody>\n",
       "</table>\n",
       "<p>8 rows × 26 columns</p>\n",
       "</div>"
      ],
      "text/plain": [
       "         dataset          model config_name  metric  metric_std    model_size  \\\n",
       "0  breast_cancer            knn              0.9179      0.0000    99380.0000   \n",
       "1  breast_cancer            mlp              0.9103      0.0000    85156.0000   \n",
       "2  breast_cancer  random-forest              0.9709      0.0000   283286.0000   \n",
       "3  breast_cancer            svm              0.8731      0.0000    27227.0000   \n",
       "4  breast_cancer         wisard        Dict  0.9628      0.0100    94920.6667   \n",
       "5       dry_bean            knn              0.7175      0.0000  1481493.0000   \n",
       "6       dry_bean            mlp              0.2251      0.1470    63218.3333   \n",
       "7       dry_bean  random-forest              0.9198      0.0017 14189404.0000   \n",
       "\n",
       "   model_size_std  accuracy  accuracy_std     f1  f1_std   ties  ties_std  \\\n",
       "0          0.0000    0.9181        0.0000 0.9179  0.0000    NaN       NaN   \n",
       "1          0.0000    0.9123        0.0000 0.9103  0.0000    NaN       NaN   \n",
       "2          0.0000    0.9708        0.0000 0.9709  0.0000    NaN       NaN   \n",
       "3          0.0000    0.8772        0.0000 0.8731  0.0000    NaN       NaN   \n",
       "4       2226.8169    0.9630        0.0099 0.9628  0.0100 5.3333    1.2472   \n",
       "5          0.0000    0.7216        0.0000 0.7175  0.0000    NaN       NaN   \n",
       "6        219.9780    0.3286        0.0946 0.2251  0.1470    NaN       NaN   \n",
       "7      54370.3571    0.9199        0.0017 0.9198  0.0017    NaN       NaN   \n",
       "\n",
       "   tuple_size                   encoder  resolution  bleach  \\\n",
       "0         NaN                       NaN         NaN     NaN   \n",
       "1         NaN                       NaN         NaN     NaN   \n",
       "2         NaN                       NaN         NaN     NaN   \n",
       "3         NaN                       NaN         NaN     NaN   \n",
       "4     26.0000  distributive-thermometer     26.0000  4.0000   \n",
       "5         NaN                       NaN         NaN     NaN   \n",
       "6         NaN                       NaN         NaN     NaN   \n",
       "7         NaN                       NaN         NaN     NaN   \n",
       "\n",
       "   rams per discriminator  dataset_size  features  num_classes  train_size  \\\n",
       "0                     NaN        141416        30            3         398   \n",
       "1                     NaN        141416        30            3         398   \n",
       "2                     NaN        141416        30            3         398   \n",
       "3                     NaN        141416        30            3         398   \n",
       "4                 30.0000        141416        30            3         398   \n",
       "5                     NaN       1773910        16            7       10888   \n",
       "6                     NaN       1773910        16            7       10888   \n",
       "7                     NaN       1773910        16            7       10888   \n",
       "\n",
       "   test_size  model_size_ratio  normalized_model_size_ratio  best_tradeoff  \n",
       "0        171            0.3508                       0.2818          False  \n",
       "1        171            0.3006                       0.2262          False  \n",
       "2        171            1.0000                       1.0000          False  \n",
       "3        171            0.0961                       0.0000          False  \n",
       "4        171            0.3351                       0.2644           True  \n",
       "5       2723            0.1044                       0.1004          False  \n",
       "6       2723            0.0045                       0.0000          False  \n",
       "7       2723            1.0000                       1.0000           True  "
      ]
     },
     "execution_count": 18,
     "metadata": {},
     "output_type": "execute_result"
    }
   ],
   "source": [
    "# Add the model_size_ratio column. This column is the ratio between the model\n",
    "# size of each model and the model size of the best model for each dataset\n",
    "temp = []\n",
    "\n",
    "for dset_name, dset_df in best_metric_dataset_model.groupby(\"dataset\"):\n",
    "    best_row = dset_df.sort_values(by=\"metric\", ascending=False).iloc[0]\n",
    "    dset_df[\"model_size_ratio\"] = dset_df[\"model_size\"] / best_row[\"model_size\"]\n",
    "    # Min max normalization\n",
    "    dset_df[\"normalized_model_size_ratio\"] = (\n",
    "        dset_df[\"model_size_ratio\"] - dset_df[\"model_size_ratio\"].min()\n",
    "    ) / (dset_df[\"model_size_ratio\"].max() - dset_df[\"model_size_ratio\"].min())\n",
    "    dset_df[\"best_tradeoff\"] = False\n",
    "\n",
    "    best_tradeoff = (\n",
    "        dset_df[dset_df[\"metric\"] >= best_row[\"metric\"] - metric_threshold]\n",
    "        .sort_values(by=\"normalized_model_size_ratio\", ascending=True)\n",
    "        .iloc[0]\n",
    "    )\n",
    "    dset_df.loc[best_tradeoff.name, \"best_tradeoff\"] = True\n",
    "\n",
    "    temp.append(dset_df)\n",
    "\n",
    "best_metric_dataset_model = pd.concat(temp)\n",
    "best_metric_dataset_model.head(n=8)"
   ]
  },
  {
   "cell_type": "code",
   "execution_count": 19,
   "metadata": {},
   "outputs": [
    {
     "name": "stdout",
     "output_type": "stream",
     "text": [
      "Results written to temp.csv\n"
     ]
    },
    {
     "data": {
      "text/html": [
       "<div>\n",
       "<style scoped>\n",
       "    .dataframe tbody tr th:only-of-type {\n",
       "        vertical-align: middle;\n",
       "    }\n",
       "\n",
       "    .dataframe tbody tr th {\n",
       "        vertical-align: top;\n",
       "    }\n",
       "\n",
       "    .dataframe thead th {\n",
       "        text-align: right;\n",
       "    }\n",
       "</style>\n",
       "<table border=\"1\" class=\"dataframe\">\n",
       "  <thead>\n",
       "    <tr style=\"text-align: right;\">\n",
       "      <th></th>\n",
       "      <th>dataset</th>\n",
       "      <th>model</th>\n",
       "      <th>metric</th>\n",
       "      <th>model_size</th>\n",
       "      <th>relative performance</th>\n",
       "      <th>relative size</th>\n",
       "      <th>accuracy</th>\n",
       "      <th>f1</th>\n",
       "    </tr>\n",
       "  </thead>\n",
       "  <tbody>\n",
       "    <tr>\n",
       "      <th>0</th>\n",
       "      <td>breast_cancer</td>\n",
       "      <td>knn</td>\n",
       "      <td>0.9179</td>\n",
       "      <td>97.0508</td>\n",
       "      <td>0.9454</td>\n",
       "      <td>0.0003</td>\n",
       "      <td>0.9181</td>\n",
       "      <td>0.9179</td>\n",
       "    </tr>\n",
       "    <tr>\n",
       "      <th>1</th>\n",
       "      <td>breast_cancer</td>\n",
       "      <td>mlp</td>\n",
       "      <td>0.9103</td>\n",
       "      <td>83.1602</td>\n",
       "      <td>0.9376</td>\n",
       "      <td>0.0003</td>\n",
       "      <td>0.9123</td>\n",
       "      <td>0.9103</td>\n",
       "    </tr>\n",
       "    <tr>\n",
       "      <th>2</th>\n",
       "      <td>breast_cancer</td>\n",
       "      <td>random-forest</td>\n",
       "      <td>0.9709</td>\n",
       "      <td>276.6465</td>\n",
       "      <td>1.0000</td>\n",
       "      <td>0.0010</td>\n",
       "      <td>0.9708</td>\n",
       "      <td>0.9709</td>\n",
       "    </tr>\n",
       "    <tr>\n",
       "      <th>3</th>\n",
       "      <td>breast_cancer</td>\n",
       "      <td>svm</td>\n",
       "      <td>0.8731</td>\n",
       "      <td>26.5889</td>\n",
       "      <td>0.8992</td>\n",
       "      <td>0.0001</td>\n",
       "      <td>0.8772</td>\n",
       "      <td>0.8731</td>\n",
       "    </tr>\n",
       "    <tr>\n",
       "      <th>4</th>\n",
       "      <td>breast_cancer</td>\n",
       "      <td>wisard</td>\n",
       "      <td>0.9628</td>\n",
       "      <td>92.6960</td>\n",
       "      <td>0.9917</td>\n",
       "      <td>0.0003</td>\n",
       "      <td>0.9630</td>\n",
       "      <td>0.9628</td>\n",
       "    </tr>\n",
       "    <tr>\n",
       "      <th>...</th>\n",
       "      <td>...</td>\n",
       "      <td>...</td>\n",
       "      <td>...</td>\n",
       "      <td>...</td>\n",
       "      <td>...</td>\n",
       "      <td>...</td>\n",
       "      <td>...</td>\n",
       "      <td>...</td>\n",
       "    </tr>\n",
       "    <tr>\n",
       "      <th>70</th>\n",
       "      <td>yeast</td>\n",
       "      <td>knn</td>\n",
       "      <td>0.5464</td>\n",
       "      <td>178.0469</td>\n",
       "      <td>0.8802</td>\n",
       "      <td>0.0000</td>\n",
       "      <td>0.5522</td>\n",
       "      <td>0.5464</td>\n",
       "    </tr>\n",
       "    <tr>\n",
       "      <th>71</th>\n",
       "      <td>yeast</td>\n",
       "      <td>mlp</td>\n",
       "      <td>0.5896</td>\n",
       "      <td>52.9580</td>\n",
       "      <td>0.9498</td>\n",
       "      <td>0.0000</td>\n",
       "      <td>0.6027</td>\n",
       "      <td>0.5896</td>\n",
       "    </tr>\n",
       "    <tr>\n",
       "      <th>72</th>\n",
       "      <td>yeast</td>\n",
       "      <td>random-forest</td>\n",
       "      <td>0.6207</td>\n",
       "      <td>10533.5645</td>\n",
       "      <td>1.0000</td>\n",
       "      <td>0.0010</td>\n",
       "      <td>0.6296</td>\n",
       "      <td>0.6207</td>\n",
       "    </tr>\n",
       "    <tr>\n",
       "      <th>73</th>\n",
       "      <td>yeast</td>\n",
       "      <td>svm</td>\n",
       "      <td>0.5992</td>\n",
       "      <td>137.1494</td>\n",
       "      <td>0.9653</td>\n",
       "      <td>0.0000</td>\n",
       "      <td>0.6094</td>\n",
       "      <td>0.5992</td>\n",
       "    </tr>\n",
       "    <tr>\n",
       "      <th>74</th>\n",
       "      <td>yeast</td>\n",
       "      <td>wisard</td>\n",
       "      <td>0.5700</td>\n",
       "      <td>463.6279</td>\n",
       "      <td>0.9183</td>\n",
       "      <td>0.0000</td>\n",
       "      <td>0.5825</td>\n",
       "      <td>0.5700</td>\n",
       "    </tr>\n",
       "  </tbody>\n",
       "</table>\n",
       "<p>75 rows × 8 columns</p>\n",
       "</div>"
      ],
      "text/plain": [
       "          dataset          model  metric  model_size  relative performance  \\\n",
       "0   breast_cancer            knn  0.9179     97.0508                0.9454   \n",
       "1   breast_cancer            mlp  0.9103     83.1602                0.9376   \n",
       "2   breast_cancer  random-forest  0.9709    276.6465                1.0000   \n",
       "3   breast_cancer            svm  0.8731     26.5889                0.8992   \n",
       "4   breast_cancer         wisard  0.9628     92.6960                0.9917   \n",
       "..            ...            ...     ...         ...                   ...   \n",
       "70          yeast            knn  0.5464    178.0469                0.8802   \n",
       "71          yeast            mlp  0.5896     52.9580                0.9498   \n",
       "72          yeast  random-forest  0.6207  10533.5645                1.0000   \n",
       "73          yeast            svm  0.5992    137.1494                0.9653   \n",
       "74          yeast         wisard  0.5700    463.6279                0.9183   \n",
       "\n",
       "    relative size  accuracy     f1  \n",
       "0          0.0003    0.9181 0.9179  \n",
       "1          0.0003    0.9123 0.9103  \n",
       "2          0.0010    0.9708 0.9709  \n",
       "3          0.0001    0.8772 0.8731  \n",
       "4          0.0003    0.9630 0.9628  \n",
       "..            ...       ...    ...  \n",
       "70         0.0000    0.5522 0.5464  \n",
       "71         0.0000    0.6027 0.5896  \n",
       "72         0.0010    0.6296 0.6207  \n",
       "73         0.0000    0.6094 0.5992  \n",
       "74         0.0000    0.5825 0.5700  \n",
       "\n",
       "[75 rows x 8 columns]"
      ]
     },
     "execution_count": 19,
     "metadata": {},
     "output_type": "execute_result"
    }
   ],
   "source": [
    "# pd.set_option('display.max_rows', 100)\n",
    "dfs = {}\n",
    "for dset_name, dset_df in best_metric_dataset_model.groupby(\"dataset\"):\n",
    "    max_val = dset_df[\"metric\"].max()\n",
    "    max_size =  dset_df[\"model_size\"].max()\n",
    "    dset_df[\"model_size\"] = (dset_df[\"model_size\"] / 1024)\n",
    "    dset_df[\"relative performance\"] = dset_df[\"metric\"]  / max_val\n",
    "    dset_df[\"relative size\"] = dset_df[\"model_size\"]  / max_size\n",
    "    # dset_df.index = dset_df[\"model\"]\n",
    "    dset_df = dset_df[[\"model\", \"metric\",  \"model_size\", \"relative performance\", \"relative size\", \"accuracy\", \"f1\"]]\n",
    "    dfs[dset_name] = dset_df\n",
    "    \n",
    "result_df = pd.concat(dfs.values(), keys=dfs.keys())\n",
    "result_df.reset_index(level=0, inplace=True)\n",
    "result_df = result_df.rename(columns={\"level_0\": \"dataset\"})\n",
    "result_df.to_csv(\"temp.csv\", index=False)\n",
    "print(f\"Results written to temp.csv\")\n",
    "result_df"
   ]
  },
  {
   "cell_type": "code",
   "execution_count": 20,
   "metadata": {},
   "outputs": [],
   "source": [
    "# # Pivot the DataFrame to create the raw metric table\n",
    "# table_df_raw = result_df.pivot(index='dataset', columns='model', values='metric')\n",
    "\n",
    "# # Pivot the DataFrame to create the relative performance metric table\n",
    "# table_df_relative_performance = result_df.pivot(index='dataset', columns='model', values='relative performance')\n",
    "\n",
    "# # Join the two tables based on dataset\n",
    "# joined_df = table_df_raw.join(table_df_relative_performance, lsuffix=\"_raw\", rsuffix=\"_relative_performance\")\n",
    "\n",
    "\n",
    "# # joined_df.to_csv(\"temp.csv\", index=True)\n",
    "\n",
    "# # joined_df = joined_df.reset_index()\n",
    "\n",
    "# joined_df = joined_df.rename_axis(None, axis=1).reset_index()\n",
    "# # joined_df.index = range(len(joined_df))\n",
    "\n",
    "# # joined_df.columns = joined_df.columns.to_list()\n",
    "\n",
    "\n",
    "# raw_df = joined_df[['dataset', 'knn_raw', 'mlp_raw', 'random-forest_raw', 'svm_raw', 'wisard_raw']]\n",
    "# relative_df = joined_df[['dataset', 'knn_relative_performance', 'mlp_relative_performance', 'random-forest_relative_performance', 'svm_relative_performance', 'wisard_relative_performance']]\n",
    "\n",
    "# raw_df[\"dataset\"] = raw_df[\"dataset\"].str.replace(\"_\", \" \")\n",
    "# relative_df[\"dataset\"] = relative_df[\"dataset\"].str.replace(\"_\", \" \")\n",
    "# raw_df.columns = raw_df.columns.str.replace(\"-\", \" \")\n",
    "# relative_df.columns = relative_df.columns.str.replace(\"-\", \" \")\n",
    "\n",
    "# line = {\"dataset\": \"Mean\"}\n",
    "# for c in raw_df.columns:\n",
    "#     if c != \"dataset\":\n",
    "#         line[c] = raw_df[c].mean()\n",
    "# raw_df.loc[len(raw_df)] = line\n",
    "\n",
    "# line = {\"dataset\": \"Mean\"}\n",
    "# for c in relative_df.columns:\n",
    "#     if c != \"dataset\":\n",
    "#         line[c] = relative_df[c].mean()\n",
    "# relative_df.loc[len(relative_df)] = line\n",
    "\n",
    "\n",
    "# # Setting the dataset column as the index\n",
    "# raw_df.set_index('dataset', inplace=True)\n",
    "# relative_df.set_index('dataset', inplace=True)\n",
    "\n",
    "# # # Concatenating the DataFrames\n",
    "# final_df = pd.concat([raw_df, relative_df], axis=1)\n",
    "\n",
    "# # # Renaming the columns\n",
    "# final_df.columns = pd.MultiIndex.from_product([['Raw', 'Relative'], raw_df.columns.str.split('_').str[0]])\n",
    "\n",
    "# write_latex_table(\"performance_table.tex\", final_df.to_latex(float_format=\"%.2f\"))\n",
    "# final_df"
   ]
  },
  {
   "cell_type": "code",
   "execution_count": 21,
   "metadata": {},
   "outputs": [
    {
     "name": "stdout",
     "output_type": "stream",
     "text": [
      "Table written to: tables/performance_table.tex\n"
     ]
    },
    {
     "name": "stderr",
     "output_type": "stream",
     "text": [
      "/tmp/ipykernel_361841/328502811.py:24: SettingWithCopyWarning:\n",
      "\n",
      "\n",
      "A value is trying to be set on a copy of a slice from a DataFrame.\n",
      "Try using .loc[row_indexer,col_indexer] = value instead\n",
      "\n",
      "See the caveats in the documentation: https://pandas.pydata.org/pandas-docs/stable/user_guide/indexing.html#returning-a-view-versus-a-copy\n",
      "\n",
      "/tmp/ipykernel_361841/328502811.py:25: SettingWithCopyWarning:\n",
      "\n",
      "\n",
      "A value is trying to be set on a copy of a slice from a DataFrame.\n",
      "Try using .loc[row_indexer,col_indexer] = value instead\n",
      "\n",
      "See the caveats in the documentation: https://pandas.pydata.org/pandas-docs/stable/user_guide/indexing.html#returning-a-view-versus-a-copy\n",
      "\n",
      "/tmp/ipykernel_361841/328502811.py:33: SettingWithCopyWarning:\n",
      "\n",
      "\n",
      "A value is trying to be set on a copy of a slice from a DataFrame\n",
      "\n",
      "See the caveats in the documentation: https://pandas.pydata.org/pandas-docs/stable/user_guide/indexing.html#returning-a-view-versus-a-copy\n",
      "\n",
      "/tmp/ipykernel_361841/328502811.py:39: SettingWithCopyWarning:\n",
      "\n",
      "\n",
      "A value is trying to be set on a copy of a slice from a DataFrame\n",
      "\n",
      "See the caveats in the documentation: https://pandas.pydata.org/pandas-docs/stable/user_guide/indexing.html#returning-a-view-versus-a-copy\n",
      "\n"
     ]
    },
    {
     "data": {
      "text/html": [
       "<div>\n",
       "<style scoped>\n",
       "    .dataframe tbody tr th:only-of-type {\n",
       "        vertical-align: middle;\n",
       "    }\n",
       "\n",
       "    .dataframe tbody tr th {\n",
       "        vertical-align: top;\n",
       "    }\n",
       "\n",
       "    .dataframe thead tr th {\n",
       "        text-align: left;\n",
       "    }\n",
       "\n",
       "    .dataframe thead tr:last-of-type th {\n",
       "        text-align: right;\n",
       "    }\n",
       "</style>\n",
       "<table border=\"1\" class=\"dataframe\">\n",
       "  <thead>\n",
       "    <tr>\n",
       "      <th></th>\n",
       "      <th colspan=\"5\" halign=\"left\">Raw</th>\n",
       "      <th colspan=\"5\" halign=\"left\">Relative</th>\n",
       "    </tr>\n",
       "    <tr>\n",
       "      <th></th>\n",
       "      <th>knn</th>\n",
       "      <th>mlp</th>\n",
       "      <th>random forest</th>\n",
       "      <th>svm</th>\n",
       "      <th>wisard</th>\n",
       "      <th>knn</th>\n",
       "      <th>mlp</th>\n",
       "      <th>random forest</th>\n",
       "      <th>svm</th>\n",
       "      <th>wisard</th>\n",
       "    </tr>\n",
       "    <tr>\n",
       "      <th>dataset</th>\n",
       "      <th></th>\n",
       "      <th></th>\n",
       "      <th></th>\n",
       "      <th></th>\n",
       "      <th></th>\n",
       "      <th></th>\n",
       "      <th></th>\n",
       "      <th></th>\n",
       "      <th></th>\n",
       "      <th></th>\n",
       "    </tr>\n",
       "  </thead>\n",
       "  <tbody>\n",
       "    <tr>\n",
       "      <th>breast cancer</th>\n",
       "      <td>0.9179</td>\n",
       "      <td>0.9103</td>\n",
       "      <td>0.9709</td>\n",
       "      <td>0.8731</td>\n",
       "      <td>0.9628</td>\n",
       "      <td>0.9454</td>\n",
       "      <td>0.9376</td>\n",
       "      <td>1.0000</td>\n",
       "      <td>0.8992</td>\n",
       "      <td>0.9917</td>\n",
       "    </tr>\n",
       "    <tr>\n",
       "      <th>dry bean</th>\n",
       "      <td>0.7175</td>\n",
       "      <td>0.2251</td>\n",
       "      <td>0.9198</td>\n",
       "      <td>0.6014</td>\n",
       "      <td>0.9024</td>\n",
       "      <td>0.7800</td>\n",
       "      <td>0.2447</td>\n",
       "      <td>1.0000</td>\n",
       "      <td>0.6538</td>\n",
       "      <td>0.9810</td>\n",
       "    </tr>\n",
       "    <tr>\n",
       "      <th>glass</th>\n",
       "      <td>0.7093</td>\n",
       "      <td>0.4554</td>\n",
       "      <td>0.7060</td>\n",
       "      <td>0.1850</td>\n",
       "      <td>0.6615</td>\n",
       "      <td>1.0000</td>\n",
       "      <td>0.6421</td>\n",
       "      <td>0.9954</td>\n",
       "      <td>0.2608</td>\n",
       "      <td>0.9327</td>\n",
       "    </tr>\n",
       "    <tr>\n",
       "      <th>image segmentation</th>\n",
       "      <td>0.5476</td>\n",
       "      <td>0.5556</td>\n",
       "      <td>0.6190</td>\n",
       "      <td>0.5000</td>\n",
       "      <td>0.8571</td>\n",
       "      <td>0.6389</td>\n",
       "      <td>0.6481</td>\n",
       "      <td>0.7222</td>\n",
       "      <td>0.5833</td>\n",
       "      <td>1.0000</td>\n",
       "    </tr>\n",
       "    <tr>\n",
       "      <th>iris</th>\n",
       "      <td>0.9556</td>\n",
       "      <td>0.9778</td>\n",
       "      <td>0.9333</td>\n",
       "      <td>1.0000</td>\n",
       "      <td>1.0000</td>\n",
       "      <td>0.9556</td>\n",
       "      <td>0.9778</td>\n",
       "      <td>0.9333</td>\n",
       "      <td>1.0000</td>\n",
       "      <td>1.0000</td>\n",
       "    </tr>\n",
       "    <tr>\n",
       "      <th>letter</th>\n",
       "      <td>0.9455</td>\n",
       "      <td>0.9205</td>\n",
       "      <td>0.9607</td>\n",
       "      <td>0.9200</td>\n",
       "      <td>0.9001</td>\n",
       "      <td>0.9842</td>\n",
       "      <td>0.9581</td>\n",
       "      <td>1.0000</td>\n",
       "      <td>0.9576</td>\n",
       "      <td>0.9369</td>\n",
       "    </tr>\n",
       "    <tr>\n",
       "      <th>motion sense</th>\n",
       "      <td>0.5049</td>\n",
       "      <td>0.6565</td>\n",
       "      <td>0.8078</td>\n",
       "      <td>0.5382</td>\n",
       "      <td>0.6500</td>\n",
       "      <td>0.6250</td>\n",
       "      <td>0.8127</td>\n",
       "      <td>1.0000</td>\n",
       "      <td>0.6663</td>\n",
       "      <td>0.8046</td>\n",
       "    </tr>\n",
       "    <tr>\n",
       "      <th>optical handwritten</th>\n",
       "      <td>0.9884</td>\n",
       "      <td>0.9810</td>\n",
       "      <td>0.9828</td>\n",
       "      <td>0.9920</td>\n",
       "      <td>0.9780</td>\n",
       "      <td>0.9964</td>\n",
       "      <td>0.9889</td>\n",
       "      <td>0.9907</td>\n",
       "      <td>1.0000</td>\n",
       "      <td>0.9859</td>\n",
       "    </tr>\n",
       "    <tr>\n",
       "      <th>rice</th>\n",
       "      <td>0.8637</td>\n",
       "      <td>0.4777</td>\n",
       "      <td>0.9153</td>\n",
       "      <td>0.8672</td>\n",
       "      <td>0.8994</td>\n",
       "      <td>0.9437</td>\n",
       "      <td>0.5220</td>\n",
       "      <td>1.0000</td>\n",
       "      <td>0.9475</td>\n",
       "      <td>0.9827</td>\n",
       "    </tr>\n",
       "    <tr>\n",
       "      <th>satimage</th>\n",
       "      <td>0.9025</td>\n",
       "      <td>0.9116</td>\n",
       "      <td>0.9106</td>\n",
       "      <td>0.8925</td>\n",
       "      <td>0.8867</td>\n",
       "      <td>0.9900</td>\n",
       "      <td>1.0000</td>\n",
       "      <td>0.9989</td>\n",
       "      <td>0.9791</td>\n",
       "      <td>0.9726</td>\n",
       "    </tr>\n",
       "    <tr>\n",
       "      <th>segment</th>\n",
       "      <td>0.9336</td>\n",
       "      <td>0.9423</td>\n",
       "      <td>0.9716</td>\n",
       "      <td>0.8701</td>\n",
       "      <td>0.8807</td>\n",
       "      <td>0.9609</td>\n",
       "      <td>0.9698</td>\n",
       "      <td>1.0000</td>\n",
       "      <td>0.8955</td>\n",
       "      <td>0.9064</td>\n",
       "    </tr>\n",
       "    <tr>\n",
       "      <th>sepsis</th>\n",
       "      <td>0.8910</td>\n",
       "      <td>0.8909</td>\n",
       "      <td>0.8908</td>\n",
       "      <td>0.8909</td>\n",
       "      <td>0.8916</td>\n",
       "      <td>0.9993</td>\n",
       "      <td>0.9992</td>\n",
       "      <td>0.9991</td>\n",
       "      <td>0.9992</td>\n",
       "      <td>1.0000</td>\n",
       "    </tr>\n",
       "    <tr>\n",
       "      <th>vehicle</th>\n",
       "      <td>0.8176</td>\n",
       "      <td>0.8176</td>\n",
       "      <td>0.9686</td>\n",
       "      <td>0.7176</td>\n",
       "      <td>0.8941</td>\n",
       "      <td>0.8441</td>\n",
       "      <td>0.8441</td>\n",
       "      <td>1.0000</td>\n",
       "      <td>0.7409</td>\n",
       "      <td>0.9231</td>\n",
       "    </tr>\n",
       "    <tr>\n",
       "      <th>wine</th>\n",
       "      <td>0.6714</td>\n",
       "      <td>0.8884</td>\n",
       "      <td>0.9816</td>\n",
       "      <td>0.6486</td>\n",
       "      <td>0.9629</td>\n",
       "      <td>0.6840</td>\n",
       "      <td>0.9051</td>\n",
       "      <td>1.0000</td>\n",
       "      <td>0.6608</td>\n",
       "      <td>0.9810</td>\n",
       "    </tr>\n",
       "    <tr>\n",
       "      <th>yeast</th>\n",
       "      <td>0.5464</td>\n",
       "      <td>0.5896</td>\n",
       "      <td>0.6207</td>\n",
       "      <td>0.5992</td>\n",
       "      <td>0.5700</td>\n",
       "      <td>0.8802</td>\n",
       "      <td>0.9498</td>\n",
       "      <td>1.0000</td>\n",
       "      <td>0.9653</td>\n",
       "      <td>0.9183</td>\n",
       "    </tr>\n",
       "    <tr>\n",
       "      <th>Mean</th>\n",
       "      <td>0.7942</td>\n",
       "      <td>0.7467</td>\n",
       "      <td>0.8773</td>\n",
       "      <td>0.7397</td>\n",
       "      <td>0.8598</td>\n",
       "      <td>0.8818</td>\n",
       "      <td>0.8267</td>\n",
       "      <td>0.9760</td>\n",
       "      <td>0.8140</td>\n",
       "      <td>0.9545</td>\n",
       "    </tr>\n",
       "  </tbody>\n",
       "</table>\n",
       "</div>"
      ],
      "text/plain": [
       "                       Raw                                    Relative         \\\n",
       "                       knn    mlp random forest    svm wisard      knn    mlp   \n",
       "dataset                                                                         \n",
       "breast cancer       0.9179 0.9103        0.9709 0.8731 0.9628   0.9454 0.9376   \n",
       "dry bean            0.7175 0.2251        0.9198 0.6014 0.9024   0.7800 0.2447   \n",
       "glass               0.7093 0.4554        0.7060 0.1850 0.6615   1.0000 0.6421   \n",
       "image segmentation  0.5476 0.5556        0.6190 0.5000 0.8571   0.6389 0.6481   \n",
       "iris                0.9556 0.9778        0.9333 1.0000 1.0000   0.9556 0.9778   \n",
       "letter              0.9455 0.9205        0.9607 0.9200 0.9001   0.9842 0.9581   \n",
       "motion sense        0.5049 0.6565        0.8078 0.5382 0.6500   0.6250 0.8127   \n",
       "optical handwritten 0.9884 0.9810        0.9828 0.9920 0.9780   0.9964 0.9889   \n",
       "rice                0.8637 0.4777        0.9153 0.8672 0.8994   0.9437 0.5220   \n",
       "satimage            0.9025 0.9116        0.9106 0.8925 0.8867   0.9900 1.0000   \n",
       "segment             0.9336 0.9423        0.9716 0.8701 0.8807   0.9609 0.9698   \n",
       "sepsis              0.8910 0.8909        0.8908 0.8909 0.8916   0.9993 0.9992   \n",
       "vehicle             0.8176 0.8176        0.9686 0.7176 0.8941   0.8441 0.8441   \n",
       "wine                0.6714 0.8884        0.9816 0.6486 0.9629   0.6840 0.9051   \n",
       "yeast               0.5464 0.5896        0.6207 0.5992 0.5700   0.8802 0.9498   \n",
       "Mean                0.7942 0.7467        0.8773 0.7397 0.8598   0.8818 0.8267   \n",
       "\n",
       "                                                 \n",
       "                    random forest    svm wisard  \n",
       "dataset                                          \n",
       "breast cancer              1.0000 0.8992 0.9917  \n",
       "dry bean                   1.0000 0.6538 0.9810  \n",
       "glass                      0.9954 0.2608 0.9327  \n",
       "image segmentation         0.7222 0.5833 1.0000  \n",
       "iris                       0.9333 1.0000 1.0000  \n",
       "letter                     1.0000 0.9576 0.9369  \n",
       "motion sense               1.0000 0.6663 0.8046  \n",
       "optical handwritten        0.9907 1.0000 0.9859  \n",
       "rice                       1.0000 0.9475 0.9827  \n",
       "satimage                   0.9989 0.9791 0.9726  \n",
       "segment                    1.0000 0.8955 0.9064  \n",
       "sepsis                     0.9991 0.9992 1.0000  \n",
       "vehicle                    1.0000 0.7409 0.9231  \n",
       "wine                       1.0000 0.6608 0.9810  \n",
       "yeast                      1.0000 0.9653 0.9183  \n",
       "Mean                       0.9760 0.8140 0.9545  "
      ]
     },
     "execution_count": 20,
     "metadata": {},
     "output_type": "execute_result"
    }
   ],
   "source": [
    "# Pivot the DataFrame to create the raw metric table\n",
    "table_df_raw = result_df.pivot(index='dataset', columns='model', values='metric')\n",
    "\n",
    "# Pivot the DataFrame to create the relative performance metric table\n",
    "table_df_relative_performance = result_df.pivot(index='dataset', columns='model', values='relative performance')\n",
    "\n",
    "# Join the two tables based on dataset\n",
    "joined_df = table_df_raw.join(table_df_relative_performance, lsuffix=\"_raw\", rsuffix=\"_relative_performance\")\n",
    "\n",
    "\n",
    "# joined_df.to_csv(\"temp.csv\", index=True)\n",
    "\n",
    "# joined_df = joined_df.reset_index()\n",
    "\n",
    "joined_df = joined_df.rename_axis(None, axis=1).reset_index()\n",
    "# joined_df.index = range(len(joined_df))\n",
    "\n",
    "# joined_df.columns = joined_df.columns.to_list()\n",
    "\n",
    "\n",
    "raw_df = joined_df[['dataset', 'knn_raw', 'mlp_raw', 'random-forest_raw', 'svm_raw', 'wisard_raw']]\n",
    "relative_df = joined_df[['dataset', 'knn_relative_performance', 'mlp_relative_performance', 'random-forest_relative_performance', 'svm_relative_performance', 'wisard_relative_performance']]\n",
    "\n",
    "raw_df[\"dataset\"] = raw_df[\"dataset\"].str.replace(\"_\", \" \")\n",
    "relative_df[\"dataset\"] = relative_df[\"dataset\"].str.replace(\"_\", \" \")\n",
    "raw_df.columns = raw_df.columns.str.replace(\"-\", \" \")\n",
    "relative_df.columns = relative_df.columns.str.replace(\"-\", \" \")\n",
    "\n",
    "line = {\"dataset\": \"Mean\"}\n",
    "for c in raw_df.columns:\n",
    "    if c != \"dataset\":\n",
    "        line[c] = raw_df[c].mean()\n",
    "raw_df.loc[len(raw_df)] = line\n",
    "\n",
    "line = {\"dataset\": \"Mean\"}\n",
    "for c in relative_df.columns:\n",
    "    if c != \"dataset\":\n",
    "        line[c] = relative_df[c].mean()\n",
    "relative_df.loc[len(relative_df)] = line\n",
    "\n",
    "\n",
    "# Setting the dataset column as the index\n",
    "raw_df.set_index('dataset', inplace=True)\n",
    "relative_df.set_index('dataset', inplace=True)\n",
    "\n",
    "# # Concatenating the DataFrames\n",
    "final_df = pd.concat([raw_df, relative_df], axis=1)\n",
    "\n",
    "# # Renaming the columns\n",
    "final_df.columns = pd.MultiIndex.from_product([['Raw', 'Relative'], raw_df.columns.str.split('_').str[0]])\n",
    "\n",
    "write_latex_table(\"performance_table.tex\", final_df.to_latex(float_format=\"%.2f\"))\n",
    "final_df"
   ]
  },
  {
   "cell_type": "code",
   "execution_count": 21,
   "metadata": {},
   "outputs": [
    {
     "name": "stdout",
     "output_type": "stream",
     "text": [
      "Table written to: tables/performance_table.tex\n",
      "Table written to: tables/size_table.tex\n"
     ]
    }
   ],
   "source": [
    "def add_mean_line(df):\n",
    "    line = {\"dataset\": \"Mean\"}\n",
    "    for c in df.columns:\n",
    "        if c != \"dataset\":\n",
    "            line[c] = df[c].mean()\n",
    "    df.loc[len(df)] = line\n",
    "    return df\n",
    "\n",
    "def raw_relative_table(df, raw_metric, relative_metric):\n",
    "    # Pivot the DataFrame to create the raw metric table and relative table\n",
    "    raw_df = (\n",
    "        result_df.pivot(index=\"dataset\", columns=\"model\", values=raw_metric)\n",
    "        .rename_axis(None, axis=1)\n",
    "        .reset_index()\n",
    "    )\n",
    "    raw_df[\"dataset\"] = raw_df[\"dataset\"].str.replace(\"_\", \" \")\n",
    "    raw_df.columns = raw_df.columns.str.replace(\"-\", \" \")\n",
    "    raw_df = add_mean_line(raw_df)\n",
    "    raw_df.set_index(\"dataset\", inplace=True)\n",
    "\n",
    "    relative_df = (\n",
    "        result_df.pivot(\n",
    "            index=\"dataset\", columns=\"model\", values=relative_metric\n",
    "        )\n",
    "        .rename_axis(None, axis=1)\n",
    "        .reset_index()\n",
    "    )\n",
    "\n",
    "    relative_df[\"dataset\"] = relative_df[\"dataset\"].str.replace(\"_\", \" \")\n",
    "    relative_df.columns = relative_df.columns.str.replace(\"-\", \" \")\n",
    "    relative_df = add_mean_line(relative_df)\n",
    "    relative_df.set_index(\"dataset\", inplace=True)\n",
    "    \n",
    "    # Concatenating the DataFrames\n",
    "    final_df = pd.concat([raw_df, relative_df], axis=1)\n",
    "\n",
    "    final_df.columns = pd.MultiIndex.from_product(\n",
    "        [[\"Raw\", \"Relative\"], raw_df.columns.str.split(\"_\").str[0]]\n",
    "    )\n",
    "    return final_df\n",
    "\n",
    "\n",
    "performance_df = raw_relative_table(result_df, \"metric\", \"relative performance\")\n",
    "write_latex_table(\"performance_table.tex\", performance_df.to_latex(float_format=\"%.2f\"))\n",
    "\n",
    "size_df = raw_relative_table(result_df, \"model_size\", \"relative size\")\n",
    "write_latex_table(\"size_table.tex\", size_df.to_latex(float_format=\"%.2f\"))"
   ]
  },
  {
   "cell_type": "code",
   "execution_count": 22,
   "metadata": {},
   "outputs": [
    {
     "data": {
      "text/html": [
       "<div>\n",
       "<style scoped>\n",
       "    .dataframe tbody tr th:only-of-type {\n",
       "        vertical-align: middle;\n",
       "    }\n",
       "\n",
       "    .dataframe tbody tr th {\n",
       "        vertical-align: top;\n",
       "    }\n",
       "\n",
       "    .dataframe thead tr th {\n",
       "        text-align: left;\n",
       "    }\n",
       "\n",
       "    .dataframe thead tr:last-of-type th {\n",
       "        text-align: right;\n",
       "    }\n",
       "</style>\n",
       "<table border=\"1\" class=\"dataframe\">\n",
       "  <thead>\n",
       "    <tr>\n",
       "      <th></th>\n",
       "      <th colspan=\"5\" halign=\"left\">Raw</th>\n",
       "      <th colspan=\"5\" halign=\"left\">Relative</th>\n",
       "    </tr>\n",
       "    <tr>\n",
       "      <th></th>\n",
       "      <th>knn</th>\n",
       "      <th>mlp</th>\n",
       "      <th>random forest</th>\n",
       "      <th>svm</th>\n",
       "      <th>wisard</th>\n",
       "      <th>knn</th>\n",
       "      <th>mlp</th>\n",
       "      <th>random forest</th>\n",
       "      <th>svm</th>\n",
       "      <th>wisard</th>\n",
       "    </tr>\n",
       "    <tr>\n",
       "      <th>dataset</th>\n",
       "      <th></th>\n",
       "      <th></th>\n",
       "      <th></th>\n",
       "      <th></th>\n",
       "      <th></th>\n",
       "      <th></th>\n",
       "      <th></th>\n",
       "      <th></th>\n",
       "      <th></th>\n",
       "      <th></th>\n",
       "    </tr>\n",
       "  </thead>\n",
       "  <tbody>\n",
       "    <tr>\n",
       "      <th>breast cancer</th>\n",
       "      <td>97.0508</td>\n",
       "      <td>83.1602</td>\n",
       "      <td>276.6465</td>\n",
       "      <td>26.5889</td>\n",
       "      <td>92.6960</td>\n",
       "      <td>0.0003</td>\n",
       "      <td>0.0003</td>\n",
       "      <td>0.0010</td>\n",
       "      <td>0.0001</td>\n",
       "      <td>0.0003</td>\n",
       "    </tr>\n",
       "    <tr>\n",
       "      <th>dry bean</th>\n",
       "      <td>1446.7705</td>\n",
       "      <td>61.7367</td>\n",
       "      <td>13856.8398</td>\n",
       "      <td>1468.3936</td>\n",
       "      <td>455.0872</td>\n",
       "      <td>0.0001</td>\n",
       "      <td>0.0000</td>\n",
       "      <td>0.0010</td>\n",
       "      <td>0.0001</td>\n",
       "      <td>0.0000</td>\n",
       "    </tr>\n",
       "    <tr>\n",
       "      <th>glass</th>\n",
       "      <td>25.7041</td>\n",
       "      <td>45.7988</td>\n",
       "      <td>721.6768</td>\n",
       "      <td>18.3955</td>\n",
       "      <td>66.1410</td>\n",
       "      <td>0.0000</td>\n",
       "      <td>0.0001</td>\n",
       "      <td>0.0010</td>\n",
       "      <td>0.0000</td>\n",
       "      <td>0.0001</td>\n",
       "    </tr>\n",
       "    <tr>\n",
       "      <th>image segmentation</th>\n",
       "      <td>26.9375</td>\n",
       "      <td>71.6204</td>\n",
       "      <td>485.3838</td>\n",
       "      <td>28.9463</td>\n",
       "      <td>190.3506</td>\n",
       "      <td>0.0001</td>\n",
       "      <td>0.0001</td>\n",
       "      <td>0.0010</td>\n",
       "      <td>0.0001</td>\n",
       "      <td>0.0004</td>\n",
       "    </tr>\n",
       "    <tr>\n",
       "      <th>iris</th>\n",
       "      <td>9.6777</td>\n",
       "      <td>26.9551</td>\n",
       "      <td>131.2373</td>\n",
       "      <td>3.6074</td>\n",
       "      <td>1.3398</td>\n",
       "      <td>0.0001</td>\n",
       "      <td>0.0002</td>\n",
       "      <td>0.0010</td>\n",
       "      <td>0.0000</td>\n",
       "      <td>0.0000</td>\n",
       "    </tr>\n",
       "    <tr>\n",
       "      <th>letter</th>\n",
       "      <td>1860.2314</td>\n",
       "      <td>109.7171</td>\n",
       "      <td>101780.5475</td>\n",
       "      <td>2666.9131</td>\n",
       "      <td>10137.4313</td>\n",
       "      <td>0.0000</td>\n",
       "      <td>0.0000</td>\n",
       "      <td>0.0010</td>\n",
       "      <td>0.0000</td>\n",
       "      <td>0.0001</td>\n",
       "    </tr>\n",
       "    <tr>\n",
       "      <th>motion sense</th>\n",
       "      <td>9629.2402</td>\n",
       "      <td>868.4893</td>\n",
       "      <td>9218.5420</td>\n",
       "      <td>8445.1621</td>\n",
       "      <td>32483.6113</td>\n",
       "      <td>0.0003</td>\n",
       "      <td>0.0000</td>\n",
       "      <td>0.0003</td>\n",
       "      <td>0.0003</td>\n",
       "      <td>0.0010</td>\n",
       "    </tr>\n",
       "    <tr>\n",
       "      <th>optical handwritten</th>\n",
       "      <td>2283.8477</td>\n",
       "      <td>182.6178</td>\n",
       "      <td>11563.1270</td>\n",
       "      <td>715.9619</td>\n",
       "      <td>17175.9730</td>\n",
       "      <td>0.0001</td>\n",
       "      <td>0.0000</td>\n",
       "      <td>0.0007</td>\n",
       "      <td>0.0000</td>\n",
       "      <td>0.0010</td>\n",
       "    </tr>\n",
       "    <tr>\n",
       "      <th>rice</th>\n",
       "      <td>400.0762</td>\n",
       "      <td>26.0788</td>\n",
       "      <td>2801.4219</td>\n",
       "      <td>73.6484</td>\n",
       "      <td>1.4554</td>\n",
       "      <td>0.0001</td>\n",
       "      <td>0.0000</td>\n",
       "      <td>0.0010</td>\n",
       "      <td>0.0000</td>\n",
       "      <td>0.0000</td>\n",
       "    </tr>\n",
       "    <tr>\n",
       "      <th>satimage</th>\n",
       "      <td>1301.7617</td>\n",
       "      <td>109.0924</td>\n",
       "      <td>8015.7311</td>\n",
       "      <td>475.2129</td>\n",
       "      <td>5362.9385</td>\n",
       "      <td>0.0002</td>\n",
       "      <td>0.0000</td>\n",
       "      <td>0.0010</td>\n",
       "      <td>0.0001</td>\n",
       "      <td>0.0007</td>\n",
       "    </tr>\n",
       "    <tr>\n",
       "      <th>segment</th>\n",
       "      <td>253.3555</td>\n",
       "      <td>70.7018</td>\n",
       "      <td>1730.8545</td>\n",
       "      <td>165.6230</td>\n",
       "      <td>117.8405</td>\n",
       "      <td>0.0001</td>\n",
       "      <td>0.0000</td>\n",
       "      <td>0.0010</td>\n",
       "      <td>0.0001</td>\n",
       "      <td>0.0001</td>\n",
       "    </tr>\n",
       "    <tr>\n",
       "      <th>sepsis</th>\n",
       "      <td>5838.1943</td>\n",
       "      <td>16.7725</td>\n",
       "      <td>8872.0020</td>\n",
       "      <td>560.6406</td>\n",
       "      <td>33.5684</td>\n",
       "      <td>0.0006</td>\n",
       "      <td>0.0000</td>\n",
       "      <td>0.0010</td>\n",
       "      <td>0.0001</td>\n",
       "      <td>0.0000</td>\n",
       "    </tr>\n",
       "    <tr>\n",
       "      <th>vehicle</th>\n",
       "      <td>101.0117</td>\n",
       "      <td>57.7461</td>\n",
       "      <td>969.3932</td>\n",
       "      <td>82.1152</td>\n",
       "      <td>291.2301</td>\n",
       "      <td>0.0001</td>\n",
       "      <td>0.0001</td>\n",
       "      <td>0.0010</td>\n",
       "      <td>0.0001</td>\n",
       "      <td>0.0003</td>\n",
       "    </tr>\n",
       "    <tr>\n",
       "      <th>wine</th>\n",
       "      <td>29.9619</td>\n",
       "      <td>48.0498</td>\n",
       "      <td>185.1348</td>\n",
       "      <td>11.0322</td>\n",
       "      <td>75.8529</td>\n",
       "      <td>0.0002</td>\n",
       "      <td>0.0003</td>\n",
       "      <td>0.0010</td>\n",
       "      <td>0.0001</td>\n",
       "      <td>0.0004</td>\n",
       "    </tr>\n",
       "    <tr>\n",
       "      <th>yeast</th>\n",
       "      <td>178.0469</td>\n",
       "      <td>52.9580</td>\n",
       "      <td>10533.5645</td>\n",
       "      <td>137.1494</td>\n",
       "      <td>463.6279</td>\n",
       "      <td>0.0000</td>\n",
       "      <td>0.0000</td>\n",
       "      <td>0.0010</td>\n",
       "      <td>0.0000</td>\n",
       "      <td>0.0000</td>\n",
       "    </tr>\n",
       "    <tr>\n",
       "      <th>Mean</th>\n",
       "      <td>1565.4579</td>\n",
       "      <td>122.0997</td>\n",
       "      <td>11409.4735</td>\n",
       "      <td>991.9594</td>\n",
       "      <td>4463.2763</td>\n",
       "      <td>0.0002</td>\n",
       "      <td>0.0001</td>\n",
       "      <td>0.0009</td>\n",
       "      <td>0.0001</td>\n",
       "      <td>0.0003</td>\n",
       "    </tr>\n",
       "  </tbody>\n",
       "</table>\n",
       "</div>"
      ],
      "text/plain": [
       "                          Raw                                              \\\n",
       "                          knn      mlp random forest       svm     wisard   \n",
       "dataset                                                                     \n",
       "breast cancer         97.0508  83.1602      276.6465   26.5889    92.6960   \n",
       "dry bean            1446.7705  61.7367    13856.8398 1468.3936   455.0872   \n",
       "glass                 25.7041  45.7988      721.6768   18.3955    66.1410   \n",
       "image segmentation    26.9375  71.6204      485.3838   28.9463   190.3506   \n",
       "iris                   9.6777  26.9551      131.2373    3.6074     1.3398   \n",
       "letter              1860.2314 109.7171   101780.5475 2666.9131 10137.4313   \n",
       "motion sense        9629.2402 868.4893     9218.5420 8445.1621 32483.6113   \n",
       "optical handwritten 2283.8477 182.6178    11563.1270  715.9619 17175.9730   \n",
       "rice                 400.0762  26.0788     2801.4219   73.6484     1.4554   \n",
       "satimage            1301.7617 109.0924     8015.7311  475.2129  5362.9385   \n",
       "segment              253.3555  70.7018     1730.8545  165.6230   117.8405   \n",
       "sepsis              5838.1943  16.7725     8872.0020  560.6406    33.5684   \n",
       "vehicle              101.0117  57.7461      969.3932   82.1152   291.2301   \n",
       "wine                  29.9619  48.0498      185.1348   11.0322    75.8529   \n",
       "yeast                178.0469  52.9580    10533.5645  137.1494   463.6279   \n",
       "Mean                1565.4579 122.0997    11409.4735  991.9594  4463.2763   \n",
       "\n",
       "                    Relative                                     \n",
       "                         knn    mlp random forest    svm wisard  \n",
       "dataset                                                          \n",
       "breast cancer         0.0003 0.0003        0.0010 0.0001 0.0003  \n",
       "dry bean              0.0001 0.0000        0.0010 0.0001 0.0000  \n",
       "glass                 0.0000 0.0001        0.0010 0.0000 0.0001  \n",
       "image segmentation    0.0001 0.0001        0.0010 0.0001 0.0004  \n",
       "iris                  0.0001 0.0002        0.0010 0.0000 0.0000  \n",
       "letter                0.0000 0.0000        0.0010 0.0000 0.0001  \n",
       "motion sense          0.0003 0.0000        0.0003 0.0003 0.0010  \n",
       "optical handwritten   0.0001 0.0000        0.0007 0.0000 0.0010  \n",
       "rice                  0.0001 0.0000        0.0010 0.0000 0.0000  \n",
       "satimage              0.0002 0.0000        0.0010 0.0001 0.0007  \n",
       "segment               0.0001 0.0000        0.0010 0.0001 0.0001  \n",
       "sepsis                0.0006 0.0000        0.0010 0.0001 0.0000  \n",
       "vehicle               0.0001 0.0001        0.0010 0.0001 0.0003  \n",
       "wine                  0.0002 0.0003        0.0010 0.0001 0.0004  \n",
       "yeast                 0.0000 0.0000        0.0010 0.0000 0.0000  \n",
       "Mean                  0.0002 0.0001        0.0009 0.0001 0.0003  "
      ]
     },
     "execution_count": 22,
     "metadata": {},
     "output_type": "execute_result"
    }
   ],
   "source": [
    "size_df"
   ]
  },
  {
   "cell_type": "code",
   "execution_count": 23,
   "metadata": {},
   "outputs": [
    {
     "name": "stdout",
     "output_type": "stream",
     "text": [
      "Wisard belongs to pareto in breast_cancer\n",
      "Wisard belongs to pareto in breast_cancer\n",
      "Wisard belongs to pareto in breast_cancer\n",
      "Wisard belongs to pareto in breast_cancer\n",
      "Wisard belongs to pareto in breast_cancer\n",
      "Wisard belongs to pareto in dry_bean\n",
      "Wisard belongs to pareto in dry_bean\n",
      "Wisard belongs to pareto in dry_bean\n",
      "Wisard belongs to pareto in dry_bean\n",
      "Wisard belongs to pareto in glass\n",
      "Wisard belongs to pareto in glass\n",
      "Wisard belongs to pareto in image_segmentation\n",
      "Wisard belongs to pareto in image_segmentation\n",
      "Wisard belongs to pareto in image_segmentation\n",
      "Wisard belongs to pareto in image_segmentation\n",
      "Wisard belongs to pareto in iris\n",
      "Wisard belongs to pareto in iris\n",
      "Wisard belongs to pareto in iris\n",
      "Wisard belongs to pareto in letter\n",
      "Wisard belongs to pareto in letter\n",
      "Wisard belongs to pareto in letter\n",
      "Wisard belongs to pareto in motion_sense\n",
      "Wisard belongs to pareto in motion_sense\n",
      "Wisard belongs to pareto in optical_handwritten\n",
      "Wisard belongs to pareto in optical_handwritten\n",
      "Wisard belongs to pareto in rice\n",
      "Wisard belongs to pareto in rice\n",
      "Wisard belongs to pareto in rice\n",
      "Wisard belongs to pareto in satimage\n",
      "Wisard belongs to pareto in segment\n",
      "Wisard belongs to pareto in segment\n",
      "Wisard belongs to pareto in sepsis\n",
      "Wisard belongs to pareto in sepsis\n",
      "Wisard belongs to pareto in sepsis\n",
      "Wisard belongs to pareto in vehicle\n",
      "Wisard belongs to pareto in vehicle\n",
      "Wisard belongs to pareto in vehicle\n",
      "Wisard belongs to pareto in vehicle\n",
      "Wisard belongs to pareto in vehicle\n",
      "Wisard belongs to pareto in wine\n",
      "Wisard belongs to pareto in wine\n",
      "Wisard belongs to pareto in wine\n",
      "Wisard belongs to pareto in wine\n",
      "Wisard belongs to pareto in wine\n",
      "Wisard belongs to pareto in wine\n",
      "Wisard belongs to pareto in yeast\n",
      "Wisard belongs to pareto in yeast\n",
      "Wisard belongs to pareto in yeast\n"
     ]
    },
    {
     "name": "stderr",
     "output_type": "stream",
     "text": [
      "/tmp/ipykernel_361841/387624777.py:28: SettingWithCopyWarning:\n",
      "\n",
      "\n",
      "A value is trying to be set on a copy of a slice from a DataFrame.\n",
      "Try using .loc[row_indexer,col_indexer] = value instead\n",
      "\n",
      "See the caveats in the documentation: https://pandas.pydata.org/pandas-docs/stable/user_guide/indexing.html#returning-a-view-versus-a-copy\n",
      "\n",
      "/tmp/ipykernel_361841/387624777.py:28: SettingWithCopyWarning:\n",
      "\n",
      "\n",
      "A value is trying to be set on a copy of a slice from a DataFrame.\n",
      "Try using .loc[row_indexer,col_indexer] = value instead\n",
      "\n",
      "See the caveats in the documentation: https://pandas.pydata.org/pandas-docs/stable/user_guide/indexing.html#returning-a-view-versus-a-copy\n",
      "\n",
      "/tmp/ipykernel_361841/387624777.py:28: SettingWithCopyWarning:\n",
      "\n",
      "\n",
      "A value is trying to be set on a copy of a slice from a DataFrame.\n",
      "Try using .loc[row_indexer,col_indexer] = value instead\n",
      "\n",
      "See the caveats in the documentation: https://pandas.pydata.org/pandas-docs/stable/user_guide/indexing.html#returning-a-view-versus-a-copy\n",
      "\n",
      "/tmp/ipykernel_361841/387624777.py:28: SettingWithCopyWarning:\n",
      "\n",
      "\n",
      "A value is trying to be set on a copy of a slice from a DataFrame.\n",
      "Try using .loc[row_indexer,col_indexer] = value instead\n",
      "\n",
      "See the caveats in the documentation: https://pandas.pydata.org/pandas-docs/stable/user_guide/indexing.html#returning-a-view-versus-a-copy\n",
      "\n",
      "/tmp/ipykernel_361841/387624777.py:30: SettingWithCopyWarning:\n",
      "\n",
      "\n",
      "A value is trying to be set on a copy of a slice from a DataFrame.\n",
      "Try using .loc[row_indexer,col_indexer] = value instead\n",
      "\n",
      "See the caveats in the documentation: https://pandas.pydata.org/pandas-docs/stable/user_guide/indexing.html#returning-a-view-versus-a-copy\n",
      "\n",
      "/tmp/ipykernel_361841/387624777.py:28: SettingWithCopyWarning:\n",
      "\n",
      "\n",
      "A value is trying to be set on a copy of a slice from a DataFrame.\n",
      "Try using .loc[row_indexer,col_indexer] = value instead\n",
      "\n",
      "See the caveats in the documentation: https://pandas.pydata.org/pandas-docs/stable/user_guide/indexing.html#returning-a-view-versus-a-copy\n",
      "\n",
      "/tmp/ipykernel_361841/387624777.py:28: SettingWithCopyWarning:\n",
      "\n",
      "\n",
      "A value is trying to be set on a copy of a slice from a DataFrame.\n",
      "Try using .loc[row_indexer,col_indexer] = value instead\n",
      "\n",
      "See the caveats in the documentation: https://pandas.pydata.org/pandas-docs/stable/user_guide/indexing.html#returning-a-view-versus-a-copy\n",
      "\n",
      "/tmp/ipykernel_361841/387624777.py:30: SettingWithCopyWarning:\n",
      "\n",
      "\n",
      "A value is trying to be set on a copy of a slice from a DataFrame.\n",
      "Try using .loc[row_indexer,col_indexer] = value instead\n",
      "\n",
      "See the caveats in the documentation: https://pandas.pydata.org/pandas-docs/stable/user_guide/indexing.html#returning-a-view-versus-a-copy\n",
      "\n",
      "/tmp/ipykernel_361841/387624777.py:28: SettingWithCopyWarning:\n",
      "\n",
      "\n",
      "A value is trying to be set on a copy of a slice from a DataFrame.\n",
      "Try using .loc[row_indexer,col_indexer] = value instead\n",
      "\n",
      "See the caveats in the documentation: https://pandas.pydata.org/pandas-docs/stable/user_guide/indexing.html#returning-a-view-versus-a-copy\n",
      "\n",
      "/tmp/ipykernel_361841/387624777.py:30: SettingWithCopyWarning:\n",
      "\n",
      "\n",
      "A value is trying to be set on a copy of a slice from a DataFrame.\n",
      "Try using .loc[row_indexer,col_indexer] = value instead\n",
      "\n",
      "See the caveats in the documentation: https://pandas.pydata.org/pandas-docs/stable/user_guide/indexing.html#returning-a-view-versus-a-copy\n",
      "\n",
      "/tmp/ipykernel_361841/387624777.py:30: SettingWithCopyWarning:\n",
      "\n",
      "\n",
      "A value is trying to be set on a copy of a slice from a DataFrame.\n",
      "Try using .loc[row_indexer,col_indexer] = value instead\n",
      "\n",
      "See the caveats in the documentation: https://pandas.pydata.org/pandas-docs/stable/user_guide/indexing.html#returning-a-view-versus-a-copy\n",
      "\n",
      "/tmp/ipykernel_361841/387624777.py:30: SettingWithCopyWarning:\n",
      "\n",
      "\n",
      "A value is trying to be set on a copy of a slice from a DataFrame.\n",
      "Try using .loc[row_indexer,col_indexer] = value instead\n",
      "\n",
      "See the caveats in the documentation: https://pandas.pydata.org/pandas-docs/stable/user_guide/indexing.html#returning-a-view-versus-a-copy\n",
      "\n",
      "/tmp/ipykernel_361841/387624777.py:28: SettingWithCopyWarning:\n",
      "\n",
      "\n",
      "A value is trying to be set on a copy of a slice from a DataFrame.\n",
      "Try using .loc[row_indexer,col_indexer] = value instead\n",
      "\n",
      "See the caveats in the documentation: https://pandas.pydata.org/pandas-docs/stable/user_guide/indexing.html#returning-a-view-versus-a-copy\n",
      "\n",
      "/tmp/ipykernel_361841/387624777.py:30: SettingWithCopyWarning:\n",
      "\n",
      "\n",
      "A value is trying to be set on a copy of a slice from a DataFrame.\n",
      "Try using .loc[row_indexer,col_indexer] = value instead\n",
      "\n",
      "See the caveats in the documentation: https://pandas.pydata.org/pandas-docs/stable/user_guide/indexing.html#returning-a-view-versus-a-copy\n",
      "\n",
      "/tmp/ipykernel_361841/387624777.py:28: SettingWithCopyWarning:\n",
      "\n",
      "\n",
      "A value is trying to be set on a copy of a slice from a DataFrame.\n",
      "Try using .loc[row_indexer,col_indexer] = value instead\n",
      "\n",
      "See the caveats in the documentation: https://pandas.pydata.org/pandas-docs/stable/user_guide/indexing.html#returning-a-view-versus-a-copy\n",
      "\n",
      "/tmp/ipykernel_361841/387624777.py:28: SettingWithCopyWarning:\n",
      "\n",
      "\n",
      "A value is trying to be set on a copy of a slice from a DataFrame.\n",
      "Try using .loc[row_indexer,col_indexer] = value instead\n",
      "\n",
      "See the caveats in the documentation: https://pandas.pydata.org/pandas-docs/stable/user_guide/indexing.html#returning-a-view-versus-a-copy\n",
      "\n",
      "/tmp/ipykernel_361841/387624777.py:30: SettingWithCopyWarning:\n",
      "\n",
      "\n",
      "A value is trying to be set on a copy of a slice from a DataFrame.\n",
      "Try using .loc[row_indexer,col_indexer] = value instead\n",
      "\n",
      "See the caveats in the documentation: https://pandas.pydata.org/pandas-docs/stable/user_guide/indexing.html#returning-a-view-versus-a-copy\n",
      "\n",
      "/tmp/ipykernel_361841/387624777.py:30: SettingWithCopyWarning:\n",
      "\n",
      "\n",
      "A value is trying to be set on a copy of a slice from a DataFrame.\n",
      "Try using .loc[row_indexer,col_indexer] = value instead\n",
      "\n",
      "See the caveats in the documentation: https://pandas.pydata.org/pandas-docs/stable/user_guide/indexing.html#returning-a-view-versus-a-copy\n",
      "\n",
      "/tmp/ipykernel_361841/387624777.py:28: SettingWithCopyWarning:\n",
      "\n",
      "\n",
      "A value is trying to be set on a copy of a slice from a DataFrame.\n",
      "Try using .loc[row_indexer,col_indexer] = value instead\n",
      "\n",
      "See the caveats in the documentation: https://pandas.pydata.org/pandas-docs/stable/user_guide/indexing.html#returning-a-view-versus-a-copy\n",
      "\n",
      "/tmp/ipykernel_361841/387624777.py:28: SettingWithCopyWarning:\n",
      "\n",
      "\n",
      "A value is trying to be set on a copy of a slice from a DataFrame.\n",
      "Try using .loc[row_indexer,col_indexer] = value instead\n",
      "\n",
      "See the caveats in the documentation: https://pandas.pydata.org/pandas-docs/stable/user_guide/indexing.html#returning-a-view-versus-a-copy\n",
      "\n",
      "/tmp/ipykernel_361841/387624777.py:28: SettingWithCopyWarning:\n",
      "\n",
      "\n",
      "A value is trying to be set on a copy of a slice from a DataFrame.\n",
      "Try using .loc[row_indexer,col_indexer] = value instead\n",
      "\n",
      "See the caveats in the documentation: https://pandas.pydata.org/pandas-docs/stable/user_guide/indexing.html#returning-a-view-versus-a-copy\n",
      "\n",
      "/tmp/ipykernel_361841/387624777.py:30: SettingWithCopyWarning:\n",
      "\n",
      "\n",
      "A value is trying to be set on a copy of a slice from a DataFrame.\n",
      "Try using .loc[row_indexer,col_indexer] = value instead\n",
      "\n",
      "See the caveats in the documentation: https://pandas.pydata.org/pandas-docs/stable/user_guide/indexing.html#returning-a-view-versus-a-copy\n",
      "\n",
      "/tmp/ipykernel_361841/387624777.py:28: SettingWithCopyWarning:\n",
      "\n",
      "\n",
      "A value is trying to be set on a copy of a slice from a DataFrame.\n",
      "Try using .loc[row_indexer,col_indexer] = value instead\n",
      "\n",
      "See the caveats in the documentation: https://pandas.pydata.org/pandas-docs/stable/user_guide/indexing.html#returning-a-view-versus-a-copy\n",
      "\n",
      "/tmp/ipykernel_361841/387624777.py:30: SettingWithCopyWarning:\n",
      "\n",
      "\n",
      "A value is trying to be set on a copy of a slice from a DataFrame.\n",
      "Try using .loc[row_indexer,col_indexer] = value instead\n",
      "\n",
      "See the caveats in the documentation: https://pandas.pydata.org/pandas-docs/stable/user_guide/indexing.html#returning-a-view-versus-a-copy\n",
      "\n",
      "/tmp/ipykernel_361841/387624777.py:30: SettingWithCopyWarning:\n",
      "\n",
      "\n",
      "A value is trying to be set on a copy of a slice from a DataFrame.\n",
      "Try using .loc[row_indexer,col_indexer] = value instead\n",
      "\n",
      "See the caveats in the documentation: https://pandas.pydata.org/pandas-docs/stable/user_guide/indexing.html#returning-a-view-versus-a-copy\n",
      "\n",
      "/tmp/ipykernel_361841/387624777.py:30: SettingWithCopyWarning:\n",
      "\n",
      "\n",
      "A value is trying to be set on a copy of a slice from a DataFrame.\n",
      "Try using .loc[row_indexer,col_indexer] = value instead\n",
      "\n",
      "See the caveats in the documentation: https://pandas.pydata.org/pandas-docs/stable/user_guide/indexing.html#returning-a-view-versus-a-copy\n",
      "\n",
      "/tmp/ipykernel_361841/387624777.py:28: SettingWithCopyWarning:\n",
      "\n",
      "\n",
      "A value is trying to be set on a copy of a slice from a DataFrame.\n",
      "Try using .loc[row_indexer,col_indexer] = value instead\n",
      "\n",
      "See the caveats in the documentation: https://pandas.pydata.org/pandas-docs/stable/user_guide/indexing.html#returning-a-view-versus-a-copy\n",
      "\n",
      "/tmp/ipykernel_361841/387624777.py:30: SettingWithCopyWarning:\n",
      "\n",
      "\n",
      "A value is trying to be set on a copy of a slice from a DataFrame.\n",
      "Try using .loc[row_indexer,col_indexer] = value instead\n",
      "\n",
      "See the caveats in the documentation: https://pandas.pydata.org/pandas-docs/stable/user_guide/indexing.html#returning-a-view-versus-a-copy\n",
      "\n",
      "/tmp/ipykernel_361841/387624777.py:28: SettingWithCopyWarning:\n",
      "\n",
      "\n",
      "A value is trying to be set on a copy of a slice from a DataFrame.\n",
      "Try using .loc[row_indexer,col_indexer] = value instead\n",
      "\n",
      "See the caveats in the documentation: https://pandas.pydata.org/pandas-docs/stable/user_guide/indexing.html#returning-a-view-versus-a-copy\n",
      "\n",
      "/tmp/ipykernel_361841/387624777.py:28: SettingWithCopyWarning:\n",
      "\n",
      "\n",
      "A value is trying to be set on a copy of a slice from a DataFrame.\n",
      "Try using .loc[row_indexer,col_indexer] = value instead\n",
      "\n",
      "See the caveats in the documentation: https://pandas.pydata.org/pandas-docs/stable/user_guide/indexing.html#returning-a-view-versus-a-copy\n",
      "\n",
      "/tmp/ipykernel_361841/387624777.py:30: SettingWithCopyWarning:\n",
      "\n",
      "\n",
      "A value is trying to be set on a copy of a slice from a DataFrame.\n",
      "Try using .loc[row_indexer,col_indexer] = value instead\n",
      "\n",
      "See the caveats in the documentation: https://pandas.pydata.org/pandas-docs/stable/user_guide/indexing.html#returning-a-view-versus-a-copy\n",
      "\n",
      "/tmp/ipykernel_361841/387624777.py:28: SettingWithCopyWarning:\n",
      "\n",
      "\n",
      "A value is trying to be set on a copy of a slice from a DataFrame.\n",
      "Try using .loc[row_indexer,col_indexer] = value instead\n",
      "\n",
      "See the caveats in the documentation: https://pandas.pydata.org/pandas-docs/stable/user_guide/indexing.html#returning-a-view-versus-a-copy\n",
      "\n",
      "/tmp/ipykernel_361841/387624777.py:30: SettingWithCopyWarning:\n",
      "\n",
      "\n",
      "A value is trying to be set on a copy of a slice from a DataFrame.\n",
      "Try using .loc[row_indexer,col_indexer] = value instead\n",
      "\n",
      "See the caveats in the documentation: https://pandas.pydata.org/pandas-docs/stable/user_guide/indexing.html#returning-a-view-versus-a-copy\n",
      "\n",
      "/tmp/ipykernel_361841/387624777.py:28: SettingWithCopyWarning:\n",
      "\n",
      "\n",
      "A value is trying to be set on a copy of a slice from a DataFrame.\n",
      "Try using .loc[row_indexer,col_indexer] = value instead\n",
      "\n",
      "See the caveats in the documentation: https://pandas.pydata.org/pandas-docs/stable/user_guide/indexing.html#returning-a-view-versus-a-copy\n",
      "\n",
      "/tmp/ipykernel_361841/387624777.py:30: SettingWithCopyWarning:\n",
      "\n",
      "\n",
      "A value is trying to be set on a copy of a slice from a DataFrame.\n",
      "Try using .loc[row_indexer,col_indexer] = value instead\n",
      "\n",
      "See the caveats in the documentation: https://pandas.pydata.org/pandas-docs/stable/user_guide/indexing.html#returning-a-view-versus-a-copy\n",
      "\n",
      "/tmp/ipykernel_361841/387624777.py:30: SettingWithCopyWarning:\n",
      "\n",
      "\n",
      "A value is trying to be set on a copy of a slice from a DataFrame.\n",
      "Try using .loc[row_indexer,col_indexer] = value instead\n",
      "\n",
      "See the caveats in the documentation: https://pandas.pydata.org/pandas-docs/stable/user_guide/indexing.html#returning-a-view-versus-a-copy\n",
      "\n",
      "/tmp/ipykernel_361841/387624777.py:30: SettingWithCopyWarning:\n",
      "\n",
      "\n",
      "A value is trying to be set on a copy of a slice from a DataFrame.\n",
      "Try using .loc[row_indexer,col_indexer] = value instead\n",
      "\n",
      "See the caveats in the documentation: https://pandas.pydata.org/pandas-docs/stable/user_guide/indexing.html#returning-a-view-versus-a-copy\n",
      "\n",
      "/tmp/ipykernel_361841/387624777.py:28: SettingWithCopyWarning:\n",
      "\n",
      "\n",
      "A value is trying to be set on a copy of a slice from a DataFrame.\n",
      "Try using .loc[row_indexer,col_indexer] = value instead\n",
      "\n",
      "See the caveats in the documentation: https://pandas.pydata.org/pandas-docs/stable/user_guide/indexing.html#returning-a-view-versus-a-copy\n",
      "\n",
      "/tmp/ipykernel_361841/387624777.py:28: SettingWithCopyWarning:\n",
      "\n",
      "\n",
      "A value is trying to be set on a copy of a slice from a DataFrame.\n",
      "Try using .loc[row_indexer,col_indexer] = value instead\n",
      "\n",
      "See the caveats in the documentation: https://pandas.pydata.org/pandas-docs/stable/user_guide/indexing.html#returning-a-view-versus-a-copy\n",
      "\n",
      "/tmp/ipykernel_361841/387624777.py:30: SettingWithCopyWarning:\n",
      "\n",
      "\n",
      "A value is trying to be set on a copy of a slice from a DataFrame.\n",
      "Try using .loc[row_indexer,col_indexer] = value instead\n",
      "\n",
      "See the caveats in the documentation: https://pandas.pydata.org/pandas-docs/stable/user_guide/indexing.html#returning-a-view-versus-a-copy\n",
      "\n",
      "/tmp/ipykernel_361841/387624777.py:28: SettingWithCopyWarning:\n",
      "\n",
      "\n",
      "A value is trying to be set on a copy of a slice from a DataFrame.\n",
      "Try using .loc[row_indexer,col_indexer] = value instead\n",
      "\n",
      "See the caveats in the documentation: https://pandas.pydata.org/pandas-docs/stable/user_guide/indexing.html#returning-a-view-versus-a-copy\n",
      "\n",
      "/tmp/ipykernel_361841/387624777.py:28: SettingWithCopyWarning:\n",
      "\n",
      "\n",
      "A value is trying to be set on a copy of a slice from a DataFrame.\n",
      "Try using .loc[row_indexer,col_indexer] = value instead\n",
      "\n",
      "See the caveats in the documentation: https://pandas.pydata.org/pandas-docs/stable/user_guide/indexing.html#returning-a-view-versus-a-copy\n",
      "\n",
      "/tmp/ipykernel_361841/387624777.py:30: SettingWithCopyWarning:\n",
      "\n",
      "\n",
      "A value is trying to be set on a copy of a slice from a DataFrame.\n",
      "Try using .loc[row_indexer,col_indexer] = value instead\n",
      "\n",
      "See the caveats in the documentation: https://pandas.pydata.org/pandas-docs/stable/user_guide/indexing.html#returning-a-view-versus-a-copy\n",
      "\n",
      "/tmp/ipykernel_361841/387624777.py:30: SettingWithCopyWarning:\n",
      "\n",
      "\n",
      "A value is trying to be set on a copy of a slice from a DataFrame.\n",
      "Try using .loc[row_indexer,col_indexer] = value instead\n",
      "\n",
      "See the caveats in the documentation: https://pandas.pydata.org/pandas-docs/stable/user_guide/indexing.html#returning-a-view-versus-a-copy\n",
      "\n",
      "/tmp/ipykernel_361841/387624777.py:30: SettingWithCopyWarning:\n",
      "\n",
      "\n",
      "A value is trying to be set on a copy of a slice from a DataFrame.\n",
      "Try using .loc[row_indexer,col_indexer] = value instead\n",
      "\n",
      "See the caveats in the documentation: https://pandas.pydata.org/pandas-docs/stable/user_guide/indexing.html#returning-a-view-versus-a-copy\n",
      "\n",
      "/tmp/ipykernel_361841/387624777.py:30: SettingWithCopyWarning:\n",
      "\n",
      "\n",
      "A value is trying to be set on a copy of a slice from a DataFrame.\n",
      "Try using .loc[row_indexer,col_indexer] = value instead\n",
      "\n",
      "See the caveats in the documentation: https://pandas.pydata.org/pandas-docs/stable/user_guide/indexing.html#returning-a-view-versus-a-copy\n",
      "\n",
      "/tmp/ipykernel_361841/387624777.py:30: SettingWithCopyWarning:\n",
      "\n",
      "\n",
      "A value is trying to be set on a copy of a slice from a DataFrame.\n",
      "Try using .loc[row_indexer,col_indexer] = value instead\n",
      "\n",
      "See the caveats in the documentation: https://pandas.pydata.org/pandas-docs/stable/user_guide/indexing.html#returning-a-view-versus-a-copy\n",
      "\n",
      "/tmp/ipykernel_361841/387624777.py:30: SettingWithCopyWarning:\n",
      "\n",
      "\n",
      "A value is trying to be set on a copy of a slice from a DataFrame.\n",
      "Try using .loc[row_indexer,col_indexer] = value instead\n",
      "\n",
      "See the caveats in the documentation: https://pandas.pydata.org/pandas-docs/stable/user_guide/indexing.html#returning-a-view-versus-a-copy\n",
      "\n",
      "/tmp/ipykernel_361841/387624777.py:28: SettingWithCopyWarning:\n",
      "\n",
      "\n",
      "A value is trying to be set on a copy of a slice from a DataFrame.\n",
      "Try using .loc[row_indexer,col_indexer] = value instead\n",
      "\n",
      "See the caveats in the documentation: https://pandas.pydata.org/pandas-docs/stable/user_guide/indexing.html#returning-a-view-versus-a-copy\n",
      "\n",
      "/tmp/ipykernel_361841/387624777.py:30: SettingWithCopyWarning:\n",
      "\n",
      "\n",
      "A value is trying to be set on a copy of a slice from a DataFrame.\n",
      "Try using .loc[row_indexer,col_indexer] = value instead\n",
      "\n",
      "See the caveats in the documentation: https://pandas.pydata.org/pandas-docs/stable/user_guide/indexing.html#returning-a-view-versus-a-copy\n",
      "\n",
      "/tmp/ipykernel_361841/387624777.py:30: SettingWithCopyWarning:\n",
      "\n",
      "\n",
      "A value is trying to be set on a copy of a slice from a DataFrame.\n",
      "Try using .loc[row_indexer,col_indexer] = value instead\n",
      "\n",
      "See the caveats in the documentation: https://pandas.pydata.org/pandas-docs/stable/user_guide/indexing.html#returning-a-view-versus-a-copy\n",
      "\n",
      "/tmp/ipykernel_361841/387624777.py:28: SettingWithCopyWarning:\n",
      "\n",
      "\n",
      "A value is trying to be set on a copy of a slice from a DataFrame.\n",
      "Try using .loc[row_indexer,col_indexer] = value instead\n",
      "\n",
      "See the caveats in the documentation: https://pandas.pydata.org/pandas-docs/stable/user_guide/indexing.html#returning-a-view-versus-a-copy\n",
      "\n",
      "/tmp/ipykernel_361841/387624777.py:30: SettingWithCopyWarning:\n",
      "\n",
      "\n",
      "A value is trying to be set on a copy of a slice from a DataFrame.\n",
      "Try using .loc[row_indexer,col_indexer] = value instead\n",
      "\n",
      "See the caveats in the documentation: https://pandas.pydata.org/pandas-docs/stable/user_guide/indexing.html#returning-a-view-versus-a-copy\n",
      "\n",
      "/tmp/ipykernel_361841/387624777.py:28: SettingWithCopyWarning:\n",
      "\n",
      "\n",
      "A value is trying to be set on a copy of a slice from a DataFrame.\n",
      "Try using .loc[row_indexer,col_indexer] = value instead\n",
      "\n",
      "See the caveats in the documentation: https://pandas.pydata.org/pandas-docs/stable/user_guide/indexing.html#returning-a-view-versus-a-copy\n",
      "\n",
      "/tmp/ipykernel_361841/387624777.py:30: SettingWithCopyWarning:\n",
      "\n",
      "\n",
      "A value is trying to be set on a copy of a slice from a DataFrame.\n",
      "Try using .loc[row_indexer,col_indexer] = value instead\n",
      "\n",
      "See the caveats in the documentation: https://pandas.pydata.org/pandas-docs/stable/user_guide/indexing.html#returning-a-view-versus-a-copy\n",
      "\n",
      "/tmp/ipykernel_361841/387624777.py:28: SettingWithCopyWarning:\n",
      "\n",
      "\n",
      "A value is trying to be set on a copy of a slice from a DataFrame.\n",
      "Try using .loc[row_indexer,col_indexer] = value instead\n",
      "\n",
      "See the caveats in the documentation: https://pandas.pydata.org/pandas-docs/stable/user_guide/indexing.html#returning-a-view-versus-a-copy\n",
      "\n",
      "/tmp/ipykernel_361841/387624777.py:30: SettingWithCopyWarning:\n",
      "\n",
      "\n",
      "A value is trying to be set on a copy of a slice from a DataFrame.\n",
      "Try using .loc[row_indexer,col_indexer] = value instead\n",
      "\n",
      "See the caveats in the documentation: https://pandas.pydata.org/pandas-docs/stable/user_guide/indexing.html#returning-a-view-versus-a-copy\n",
      "\n",
      "/tmp/ipykernel_361841/387624777.py:30: SettingWithCopyWarning:\n",
      "\n",
      "\n",
      "A value is trying to be set on a copy of a slice from a DataFrame.\n",
      "Try using .loc[row_indexer,col_indexer] = value instead\n",
      "\n",
      "See the caveats in the documentation: https://pandas.pydata.org/pandas-docs/stable/user_guide/indexing.html#returning-a-view-versus-a-copy\n",
      "\n",
      "/tmp/ipykernel_361841/387624777.py:28: SettingWithCopyWarning:\n",
      "\n",
      "\n",
      "A value is trying to be set on a copy of a slice from a DataFrame.\n",
      "Try using .loc[row_indexer,col_indexer] = value instead\n",
      "\n",
      "See the caveats in the documentation: https://pandas.pydata.org/pandas-docs/stable/user_guide/indexing.html#returning-a-view-versus-a-copy\n",
      "\n",
      "/tmp/ipykernel_361841/387624777.py:30: SettingWithCopyWarning:\n",
      "\n",
      "\n",
      "A value is trying to be set on a copy of a slice from a DataFrame.\n",
      "Try using .loc[row_indexer,col_indexer] = value instead\n",
      "\n",
      "See the caveats in the documentation: https://pandas.pydata.org/pandas-docs/stable/user_guide/indexing.html#returning-a-view-versus-a-copy\n",
      "\n",
      "/tmp/ipykernel_361841/387624777.py:28: SettingWithCopyWarning:\n",
      "\n",
      "\n",
      "A value is trying to be set on a copy of a slice from a DataFrame.\n",
      "Try using .loc[row_indexer,col_indexer] = value instead\n",
      "\n",
      "See the caveats in the documentation: https://pandas.pydata.org/pandas-docs/stable/user_guide/indexing.html#returning-a-view-versus-a-copy\n",
      "\n",
      "/tmp/ipykernel_361841/387624777.py:28: SettingWithCopyWarning:\n",
      "\n",
      "\n",
      "A value is trying to be set on a copy of a slice from a DataFrame.\n",
      "Try using .loc[row_indexer,col_indexer] = value instead\n",
      "\n",
      "See the caveats in the documentation: https://pandas.pydata.org/pandas-docs/stable/user_guide/indexing.html#returning-a-view-versus-a-copy\n",
      "\n",
      "/tmp/ipykernel_361841/387624777.py:30: SettingWithCopyWarning:\n",
      "\n",
      "\n",
      "A value is trying to be set on a copy of a slice from a DataFrame.\n",
      "Try using .loc[row_indexer,col_indexer] = value instead\n",
      "\n",
      "See the caveats in the documentation: https://pandas.pydata.org/pandas-docs/stable/user_guide/indexing.html#returning-a-view-versus-a-copy\n",
      "\n",
      "/tmp/ipykernel_361841/387624777.py:28: SettingWithCopyWarning:\n",
      "\n",
      "\n",
      "A value is trying to be set on a copy of a slice from a DataFrame.\n",
      "Try using .loc[row_indexer,col_indexer] = value instead\n",
      "\n",
      "See the caveats in the documentation: https://pandas.pydata.org/pandas-docs/stable/user_guide/indexing.html#returning-a-view-versus-a-copy\n",
      "\n",
      "/tmp/ipykernel_361841/387624777.py:28: SettingWithCopyWarning:\n",
      "\n",
      "\n",
      "A value is trying to be set on a copy of a slice from a DataFrame.\n",
      "Try using .loc[row_indexer,col_indexer] = value instead\n",
      "\n",
      "See the caveats in the documentation: https://pandas.pydata.org/pandas-docs/stable/user_guide/indexing.html#returning-a-view-versus-a-copy\n",
      "\n",
      "/tmp/ipykernel_361841/387624777.py:28: SettingWithCopyWarning:\n",
      "\n",
      "\n",
      "A value is trying to be set on a copy of a slice from a DataFrame.\n",
      "Try using .loc[row_indexer,col_indexer] = value instead\n",
      "\n",
      "See the caveats in the documentation: https://pandas.pydata.org/pandas-docs/stable/user_guide/indexing.html#returning-a-view-versus-a-copy\n",
      "\n",
      "/tmp/ipykernel_361841/387624777.py:28: SettingWithCopyWarning:\n",
      "\n",
      "\n",
      "A value is trying to be set on a copy of a slice from a DataFrame.\n",
      "Try using .loc[row_indexer,col_indexer] = value instead\n",
      "\n",
      "See the caveats in the documentation: https://pandas.pydata.org/pandas-docs/stable/user_guide/indexing.html#returning-a-view-versus-a-copy\n",
      "\n",
      "/tmp/ipykernel_361841/387624777.py:28: SettingWithCopyWarning:\n",
      "\n",
      "\n",
      "A value is trying to be set on a copy of a slice from a DataFrame.\n",
      "Try using .loc[row_indexer,col_indexer] = value instead\n",
      "\n",
      "See the caveats in the documentation: https://pandas.pydata.org/pandas-docs/stable/user_guide/indexing.html#returning-a-view-versus-a-copy\n",
      "\n",
      "/tmp/ipykernel_361841/387624777.py:28: SettingWithCopyWarning:\n",
      "\n",
      "\n",
      "A value is trying to be set on a copy of a slice from a DataFrame.\n",
      "Try using .loc[row_indexer,col_indexer] = value instead\n",
      "\n",
      "See the caveats in the documentation: https://pandas.pydata.org/pandas-docs/stable/user_guide/indexing.html#returning-a-view-versus-a-copy\n",
      "\n",
      "/tmp/ipykernel_361841/387624777.py:28: SettingWithCopyWarning:\n",
      "\n",
      "\n",
      "A value is trying to be set on a copy of a slice from a DataFrame.\n",
      "Try using .loc[row_indexer,col_indexer] = value instead\n",
      "\n",
      "See the caveats in the documentation: https://pandas.pydata.org/pandas-docs/stable/user_guide/indexing.html#returning-a-view-versus-a-copy\n",
      "\n",
      "/tmp/ipykernel_361841/387624777.py:30: SettingWithCopyWarning:\n",
      "\n",
      "\n",
      "A value is trying to be set on a copy of a slice from a DataFrame.\n",
      "Try using .loc[row_indexer,col_indexer] = value instead\n",
      "\n",
      "See the caveats in the documentation: https://pandas.pydata.org/pandas-docs/stable/user_guide/indexing.html#returning-a-view-versus-a-copy\n",
      "\n",
      "/tmp/ipykernel_361841/387624777.py:28: SettingWithCopyWarning:\n",
      "\n",
      "\n",
      "A value is trying to be set on a copy of a slice from a DataFrame.\n",
      "Try using .loc[row_indexer,col_indexer] = value instead\n",
      "\n",
      "See the caveats in the documentation: https://pandas.pydata.org/pandas-docs/stable/user_guide/indexing.html#returning-a-view-versus-a-copy\n",
      "\n",
      "/tmp/ipykernel_361841/387624777.py:28: SettingWithCopyWarning:\n",
      "\n",
      "\n",
      "A value is trying to be set on a copy of a slice from a DataFrame.\n",
      "Try using .loc[row_indexer,col_indexer] = value instead\n",
      "\n",
      "See the caveats in the documentation: https://pandas.pydata.org/pandas-docs/stable/user_guide/indexing.html#returning-a-view-versus-a-copy\n",
      "\n",
      "/tmp/ipykernel_361841/387624777.py:28: SettingWithCopyWarning:\n",
      "\n",
      "\n",
      "A value is trying to be set on a copy of a slice from a DataFrame.\n",
      "Try using .loc[row_indexer,col_indexer] = value instead\n",
      "\n",
      "See the caveats in the documentation: https://pandas.pydata.org/pandas-docs/stable/user_guide/indexing.html#returning-a-view-versus-a-copy\n",
      "\n",
      "/tmp/ipykernel_361841/387624777.py:30: SettingWithCopyWarning:\n",
      "\n",
      "\n",
      "A value is trying to be set on a copy of a slice from a DataFrame.\n",
      "Try using .loc[row_indexer,col_indexer] = value instead\n",
      "\n",
      "See the caveats in the documentation: https://pandas.pydata.org/pandas-docs/stable/user_guide/indexing.html#returning-a-view-versus-a-copy\n",
      "\n"
     ]
    },
    {
     "data": {
      "text/html": [
       "<div>\n",
       "<style scoped>\n",
       "    .dataframe tbody tr th:only-of-type {\n",
       "        vertical-align: middle;\n",
       "    }\n",
       "\n",
       "    .dataframe tbody tr th {\n",
       "        vertical-align: top;\n",
       "    }\n",
       "\n",
       "    .dataframe thead th {\n",
       "        text-align: right;\n",
       "    }\n",
       "</style>\n",
       "<table border=\"1\" class=\"dataframe\">\n",
       "  <thead>\n",
       "    <tr style=\"text-align: right;\">\n",
       "      <th></th>\n",
       "      <th>index</th>\n",
       "      <th>dataset</th>\n",
       "      <th>model</th>\n",
       "      <th>metric</th>\n",
       "      <th>model_size</th>\n",
       "      <th>relative performance</th>\n",
       "      <th>relative size</th>\n",
       "      <th>accuracy</th>\n",
       "      <th>f1</th>\n",
       "      <th>pareto</th>\n",
       "    </tr>\n",
       "  </thead>\n",
       "  <tbody>\n",
       "    <tr>\n",
       "      <th>0</th>\n",
       "      <td>4</td>\n",
       "      <td>breast_cancer</td>\n",
       "      <td>wisard</td>\n",
       "      <td>0.9628</td>\n",
       "      <td>92.6960</td>\n",
       "      <td>0.9917</td>\n",
       "      <td>0.0003</td>\n",
       "      <td>0.9630</td>\n",
       "      <td>0.9628</td>\n",
       "      <td>True</td>\n",
       "    </tr>\n",
       "    <tr>\n",
       "      <th>1</th>\n",
       "      <td>2</td>\n",
       "      <td>breast_cancer</td>\n",
       "      <td>random-forest</td>\n",
       "      <td>0.9709</td>\n",
       "      <td>276.6465</td>\n",
       "      <td>1.0000</td>\n",
       "      <td>0.0010</td>\n",
       "      <td>0.9708</td>\n",
       "      <td>0.9709</td>\n",
       "      <td>True</td>\n",
       "    </tr>\n",
       "    <tr>\n",
       "      <th>2</th>\n",
       "      <td>3</td>\n",
       "      <td>breast_cancer</td>\n",
       "      <td>svm</td>\n",
       "      <td>0.8731</td>\n",
       "      <td>26.5889</td>\n",
       "      <td>0.8992</td>\n",
       "      <td>0.0001</td>\n",
       "      <td>0.8772</td>\n",
       "      <td>0.8731</td>\n",
       "      <td>True</td>\n",
       "    </tr>\n",
       "    <tr>\n",
       "      <th>3</th>\n",
       "      <td>1</td>\n",
       "      <td>breast_cancer</td>\n",
       "      <td>mlp</td>\n",
       "      <td>0.9103</td>\n",
       "      <td>83.1602</td>\n",
       "      <td>0.9376</td>\n",
       "      <td>0.0003</td>\n",
       "      <td>0.9123</td>\n",
       "      <td>0.9103</td>\n",
       "      <td>True</td>\n",
       "    </tr>\n",
       "    <tr>\n",
       "      <th>4</th>\n",
       "      <td>0</td>\n",
       "      <td>breast_cancer</td>\n",
       "      <td>knn</td>\n",
       "      <td>0.9179</td>\n",
       "      <td>97.0508</td>\n",
       "      <td>0.9454</td>\n",
       "      <td>0.0003</td>\n",
       "      <td>0.9181</td>\n",
       "      <td>0.9179</td>\n",
       "      <td>False</td>\n",
       "    </tr>\n",
       "    <tr>\n",
       "      <th>...</th>\n",
       "      <td>...</td>\n",
       "      <td>...</td>\n",
       "      <td>...</td>\n",
       "      <td>...</td>\n",
       "      <td>...</td>\n",
       "      <td>...</td>\n",
       "      <td>...</td>\n",
       "      <td>...</td>\n",
       "      <td>...</td>\n",
       "      <td>...</td>\n",
       "    </tr>\n",
       "    <tr>\n",
       "      <th>70</th>\n",
       "      <td>74</td>\n",
       "      <td>yeast</td>\n",
       "      <td>wisard</td>\n",
       "      <td>0.5700</td>\n",
       "      <td>463.6279</td>\n",
       "      <td>0.9183</td>\n",
       "      <td>0.0000</td>\n",
       "      <td>0.5825</td>\n",
       "      <td>0.5700</td>\n",
       "      <td>False</td>\n",
       "    </tr>\n",
       "    <tr>\n",
       "      <th>71</th>\n",
       "      <td>72</td>\n",
       "      <td>yeast</td>\n",
       "      <td>random-forest</td>\n",
       "      <td>0.6207</td>\n",
       "      <td>10533.5645</td>\n",
       "      <td>1.0000</td>\n",
       "      <td>0.0010</td>\n",
       "      <td>0.6296</td>\n",
       "      <td>0.6207</td>\n",
       "      <td>True</td>\n",
       "    </tr>\n",
       "    <tr>\n",
       "      <th>72</th>\n",
       "      <td>73</td>\n",
       "      <td>yeast</td>\n",
       "      <td>svm</td>\n",
       "      <td>0.5992</td>\n",
       "      <td>137.1494</td>\n",
       "      <td>0.9653</td>\n",
       "      <td>0.0000</td>\n",
       "      <td>0.6094</td>\n",
       "      <td>0.5992</td>\n",
       "      <td>True</td>\n",
       "    </tr>\n",
       "    <tr>\n",
       "      <th>73</th>\n",
       "      <td>71</td>\n",
       "      <td>yeast</td>\n",
       "      <td>mlp</td>\n",
       "      <td>0.5896</td>\n",
       "      <td>52.9580</td>\n",
       "      <td>0.9498</td>\n",
       "      <td>0.0000</td>\n",
       "      <td>0.6027</td>\n",
       "      <td>0.5896</td>\n",
       "      <td>True</td>\n",
       "    </tr>\n",
       "    <tr>\n",
       "      <th>74</th>\n",
       "      <td>70</td>\n",
       "      <td>yeast</td>\n",
       "      <td>knn</td>\n",
       "      <td>0.5464</td>\n",
       "      <td>178.0469</td>\n",
       "      <td>0.8802</td>\n",
       "      <td>0.0000</td>\n",
       "      <td>0.5522</td>\n",
       "      <td>0.5464</td>\n",
       "      <td>False</td>\n",
       "    </tr>\n",
       "  </tbody>\n",
       "</table>\n",
       "<p>75 rows × 10 columns</p>\n",
       "</div>"
      ],
      "text/plain": [
       "    index        dataset          model  metric  model_size  \\\n",
       "0       4  breast_cancer         wisard  0.9628     92.6960   \n",
       "1       2  breast_cancer  random-forest  0.9709    276.6465   \n",
       "2       3  breast_cancer            svm  0.8731     26.5889   \n",
       "3       1  breast_cancer            mlp  0.9103     83.1602   \n",
       "4       0  breast_cancer            knn  0.9179     97.0508   \n",
       "..    ...            ...            ...     ...         ...   \n",
       "70     74          yeast         wisard  0.5700    463.6279   \n",
       "71     72          yeast  random-forest  0.6207  10533.5645   \n",
       "72     73          yeast            svm  0.5992    137.1494   \n",
       "73     71          yeast            mlp  0.5896     52.9580   \n",
       "74     70          yeast            knn  0.5464    178.0469   \n",
       "\n",
       "    relative performance  relative size  accuracy     f1  pareto  \n",
       "0                 0.9917         0.0003    0.9630 0.9628    True  \n",
       "1                 1.0000         0.0010    0.9708 0.9709    True  \n",
       "2                 0.8992         0.0001    0.8772 0.8731    True  \n",
       "3                 0.9376         0.0003    0.9123 0.9103    True  \n",
       "4                 0.9454         0.0003    0.9181 0.9179   False  \n",
       "..                   ...            ...       ...    ...     ...  \n",
       "70                0.9183         0.0000    0.5825 0.5700   False  \n",
       "71                1.0000         0.0010    0.6296 0.6207    True  \n",
       "72                0.9653         0.0000    0.6094 0.5992    True  \n",
       "73                0.9498         0.0000    0.6027 0.5896    True  \n",
       "74                0.8802         0.0000    0.5522 0.5464   False  \n",
       "\n",
       "[75 rows x 10 columns]"
      ]
     },
     "execution_count": 23,
     "metadata": {},
     "output_type": "execute_result"
    }
   ],
   "source": [
    "dfs = []\n",
    "\n",
    "def belongs_to_pareto(df, model):\n",
    "    metric = df[df[\"model\"] == model][\"metric\"].iloc[0]\n",
    "    size = df[df[\"model\"] == model][\"model_size\"].iloc[0]\n",
    "    \n",
    "    for r_index, row in df.iterrows():\n",
    "        if row[\"metric\"] > metric and row[\"model_size\"] < size:\n",
    "            return False\n",
    "        \n",
    "    return True\n",
    "    \n",
    "columns = result_df[\"dataset\"].unique()\n",
    "    \n",
    "\n",
    "models = [\"wisard\", \"random-forest\", \"svm\", \"mlp\", \"knn\"]\n",
    "for c in columns:\n",
    "    x_df = result_df[result_df[\"dataset\"] == c]\n",
    "    if belongs_to_pareto(x_df, \"wisard\"):\n",
    "        print(f\"Wisard belongs to pareto in {c}\")\n",
    "        # x_df.index = x_df.index.str.upper()\n",
    "    \n",
    "    lines = []\n",
    "    for m in models:\n",
    "        line = x_df[x_df[\"model\"] == m]\n",
    "        if belongs_to_pareto(x_df, m):\n",
    "            print(f\"Wisard belongs to pareto in {c}\")\n",
    "            line[\"pareto\"] = True\n",
    "        else:\n",
    "            line[\"pareto\"] = False\n",
    "        lines.append(line)\n",
    "        \n",
    "        \n",
    "    x_df = pd.concat(lines)\n",
    "    \n",
    "    dfs.append(x_df)\n",
    "    \n",
    "n = pd.concat(dfs).reset_index()\n",
    "    \n",
    "# n[\"dataset\"] = n[\"level_0\"]\n",
    "# n[\"pareto\"] = n[\"pareto\"].astype(int)\n",
    "n"
   ]
  },
  {
   "cell_type": "code",
   "execution_count": 25,
   "metadata": {},
   "outputs": [
    {
     "name": "stdout",
     "output_type": "stream",
     "text": [
      "Figure written to: figures/models_performance_horizontal.pdf\n",
      "Filename   : models_performance_horizontal.pdf\n",
      "Latex label: models_performance_horizontal\n"
     ]
    },
    {
     "data": {
      "application/vnd.plotly.v1+json": {
       "config": {
        "plotlyServerURL": "https://plot.ly"
       },
       "data": [
        {
         "alignmentgroup": "True",
         "hovertemplate": "=wisard<br>Performance=%{x}<br>Dataset=%{y}<extra></extra>",
         "legendgroup": "wisard",
         "marker": {
          "color": "rgb(95, 70, 144)",
          "pattern": {
           "shape": ""
          }
         },
         "name": "wisard",
         "offsetgroup": "wisard",
         "orientation": "h",
         "showlegend": true,
         "textposition": "auto",
         "type": "bar",
         "x": [
          0.9628161882204516,
          0.9024029619050484,
          0.6615428500177969,
          0.8571428571428572,
          1,
          0.9000555555555557,
          0.65,
          0.9780450131673772,
          0.8994465342855008,
          0.8866629525557234,
          0.8807118807118807,
          0.8915753747755484,
          0.8941176470588235,
          0.962856206024315,
          0.5700237244955314
         ],
         "xaxis": "x",
         "y": [
          "breast_cancer",
          "dry_bean",
          "glass",
          "image_segmentation",
          "iris",
          "letter",
          "motion_sense",
          "optical_handwritten",
          "rice",
          "satimage",
          "segment",
          "sepsis",
          "vehicle",
          "wine",
          "yeast"
         ],
         "yaxis": "y"
        },
        {
         "alignmentgroup": "True",
         "hovertemplate": "=random-forest<br>Performance=%{x}<br>Dataset=%{y}<extra></extra>",
         "legendgroup": "random-forest",
         "marker": {
          "color": "rgb(29, 105, 150)",
          "pattern": {
           "shape": ""
          }
         },
         "name": "random-forest",
         "offsetgroup": "random-forest",
         "orientation": "h",
         "showlegend": true,
         "textposition": "auto",
         "type": "bar",
         "x": [
          0.9708871747643292,
          0.9198474773426017,
          0.7060178946619377,
          0.6190476190476191,
          0.9333333333333332,
          0.9607222222222221,
          0.8078431372549019,
          0.9827979576880973,
          0.9152644340920002,
          0.910574331227231,
          0.9716209716209715,
          0.8908090454440197,
          0.9686274509803922,
          0.9815543316723488,
          0.6207256954912499
         ],
         "xaxis": "x",
         "y": [
          "breast_cancer",
          "dry_bean",
          "glass",
          "image_segmentation",
          "iris",
          "letter",
          "motion_sense",
          "optical_handwritten",
          "rice",
          "satimage",
          "segment",
          "sepsis",
          "vehicle",
          "wine",
          "yeast"
         ],
         "yaxis": "y"
        },
        {
         "alignmentgroup": "True",
         "hovertemplate": "=svm<br>Performance=%{x}<br>Dataset=%{y}<extra></extra>",
         "legendgroup": "svm",
         "marker": {
          "color": "rgb(56, 166, 165)",
          "pattern": {
           "shape": ""
          }
         },
         "name": "svm",
         "offsetgroup": "svm",
         "orientation": "h",
         "showlegend": true,
         "textposition": "auto",
         "type": "bar",
         "x": [
          0.8730641381054367,
          0.6014133504868324,
          0.1849650349650349,
          0.5,
          1,
          0.92,
          0.538235294117647,
          0.9919918925110768,
          0.867169718729999,
          0.892530243798912,
          0.8701298701298702,
          0.8908920043310973,
          0.7176470588235294,
          0.6486013986013985,
          0.5992100016133695
         ],
         "xaxis": "x",
         "y": [
          "breast_cancer",
          "dry_bean",
          "glass",
          "image_segmentation",
          "iris",
          "letter",
          "motion_sense",
          "optical_handwritten",
          "rice",
          "satimage",
          "segment",
          "sepsis",
          "vehicle",
          "wine",
          "yeast"
         ],
         "yaxis": "y"
        },
        {
         "alignmentgroup": "True",
         "hovertemplate": "=mlp<br>Performance=%{x}<br>Dataset=%{y}<extra></extra>",
         "legendgroup": "mlp",
         "marker": {
          "color": "rgb(15, 133, 84)",
          "pattern": {
           "shape": ""
          }
         },
         "name": "mlp",
         "offsetgroup": "mlp",
         "orientation": "h",
         "showlegend": true,
         "textposition": "auto",
         "type": "bar",
         "x": [
          0.9103013945119208,
          0.22507061835587583,
          0.4554142391626345,
          0.5555555555555555,
          0.9777777777777775,
          0.9205,
          0.6565359477124183,
          0.981028439293471,
          0.4777329795241849,
          0.9116120122328867,
          0.9422799422799423,
          0.8908920043310973,
          0.8176470588235295,
          0.8883769948810599,
          0.5895877432143035
         ],
         "xaxis": "x",
         "y": [
          "breast_cancer",
          "dry_bean",
          "glass",
          "image_segmentation",
          "iris",
          "letter",
          "motion_sense",
          "optical_handwritten",
          "rice",
          "satimage",
          "segment",
          "sepsis",
          "vehicle",
          "wine",
          "yeast"
         ],
         "yaxis": "y"
        },
        {
         "alignmentgroup": "True",
         "hovertemplate": "=knn<br>Performance=%{x}<br>Dataset=%{y}<extra></extra>",
         "legendgroup": "knn",
         "marker": {
          "color": "rgb(115, 175, 72)",
          "pattern": {
           "shape": ""
          }
         },
         "name": "knn",
         "offsetgroup": "knn",
         "orientation": "h",
         "showlegend": true,
         "textposition": "auto",
         "type": "bar",
         "x": [
          0.9178579163959281,
          0.7175232545997096,
          0.7092884420543996,
          0.5476190476190477,
          0.9555555555555556,
          0.9455,
          0.5049019607843137,
          0.988428941906149,
          0.8636907391101323,
          0.9025045416497844,
          0.9336219336219336,
          0.8909546104108189,
          0.8176470588235295,
          0.6714063714063713,
          0.5463856770422707
         ],
         "xaxis": "x",
         "y": [
          "breast_cancer",
          "dry_bean",
          "glass",
          "image_segmentation",
          "iris",
          "letter",
          "motion_sense",
          "optical_handwritten",
          "rice",
          "satimage",
          "segment",
          "sepsis",
          "vehicle",
          "wine",
          "yeast"
         ],
         "yaxis": "y"
        }
       ],
       "layout": {
        "barmode": "group",
        "font": {
         "family": "Times New Roman",
         "size": 14
        },
        "height": 1000,
        "legend": {
         "orientation": "h",
         "title": {
          "text": ""
         },
         "tracegroupgap": 0,
         "traceorder": "normal",
         "x": 0.5,
         "xanchor": "center",
         "y": 1.07,
         "yanchor": "top"
        },
        "margin": {
         "b": 10,
         "l": 10,
         "r": 10,
         "t": 10
        },
        "template": {
         "data": {
          "bar": [
           {
            "error_x": {
             "color": "#2a3f5f"
            },
            "error_y": {
             "color": "#2a3f5f"
            },
            "marker": {
             "line": {
              "color": "#E5ECF6",
              "width": 0.5
             },
             "pattern": {
              "fillmode": "overlay",
              "size": 10,
              "solidity": 0.2
             }
            },
            "type": "bar"
           }
          ],
          "barpolar": [
           {
            "marker": {
             "line": {
              "color": "#E5ECF6",
              "width": 0.5
             },
             "pattern": {
              "fillmode": "overlay",
              "size": 10,
              "solidity": 0.2
             }
            },
            "type": "barpolar"
           }
          ],
          "carpet": [
           {
            "aaxis": {
             "endlinecolor": "#2a3f5f",
             "gridcolor": "white",
             "linecolor": "white",
             "minorgridcolor": "white",
             "startlinecolor": "#2a3f5f"
            },
            "baxis": {
             "endlinecolor": "#2a3f5f",
             "gridcolor": "white",
             "linecolor": "white",
             "minorgridcolor": "white",
             "startlinecolor": "#2a3f5f"
            },
            "type": "carpet"
           }
          ],
          "choropleth": [
           {
            "colorbar": {
             "outlinewidth": 0,
             "ticks": ""
            },
            "type": "choropleth"
           }
          ],
          "contour": [
           {
            "colorbar": {
             "outlinewidth": 0,
             "ticks": ""
            },
            "colorscale": [
             [
              0,
              "#0d0887"
             ],
             [
              0.1111111111111111,
              "#46039f"
             ],
             [
              0.2222222222222222,
              "#7201a8"
             ],
             [
              0.3333333333333333,
              "#9c179e"
             ],
             [
              0.4444444444444444,
              "#bd3786"
             ],
             [
              0.5555555555555556,
              "#d8576b"
             ],
             [
              0.6666666666666666,
              "#ed7953"
             ],
             [
              0.7777777777777778,
              "#fb9f3a"
             ],
             [
              0.8888888888888888,
              "#fdca26"
             ],
             [
              1,
              "#f0f921"
             ]
            ],
            "type": "contour"
           }
          ],
          "contourcarpet": [
           {
            "colorbar": {
             "outlinewidth": 0,
             "ticks": ""
            },
            "type": "contourcarpet"
           }
          ],
          "heatmap": [
           {
            "colorbar": {
             "outlinewidth": 0,
             "ticks": ""
            },
            "colorscale": [
             [
              0,
              "#0d0887"
             ],
             [
              0.1111111111111111,
              "#46039f"
             ],
             [
              0.2222222222222222,
              "#7201a8"
             ],
             [
              0.3333333333333333,
              "#9c179e"
             ],
             [
              0.4444444444444444,
              "#bd3786"
             ],
             [
              0.5555555555555556,
              "#d8576b"
             ],
             [
              0.6666666666666666,
              "#ed7953"
             ],
             [
              0.7777777777777778,
              "#fb9f3a"
             ],
             [
              0.8888888888888888,
              "#fdca26"
             ],
             [
              1,
              "#f0f921"
             ]
            ],
            "type": "heatmap"
           }
          ],
          "heatmapgl": [
           {
            "colorbar": {
             "outlinewidth": 0,
             "ticks": ""
            },
            "colorscale": [
             [
              0,
              "#0d0887"
             ],
             [
              0.1111111111111111,
              "#46039f"
             ],
             [
              0.2222222222222222,
              "#7201a8"
             ],
             [
              0.3333333333333333,
              "#9c179e"
             ],
             [
              0.4444444444444444,
              "#bd3786"
             ],
             [
              0.5555555555555556,
              "#d8576b"
             ],
             [
              0.6666666666666666,
              "#ed7953"
             ],
             [
              0.7777777777777778,
              "#fb9f3a"
             ],
             [
              0.8888888888888888,
              "#fdca26"
             ],
             [
              1,
              "#f0f921"
             ]
            ],
            "type": "heatmapgl"
           }
          ],
          "histogram": [
           {
            "marker": {
             "pattern": {
              "fillmode": "overlay",
              "size": 10,
              "solidity": 0.2
             }
            },
            "type": "histogram"
           }
          ],
          "histogram2d": [
           {
            "colorbar": {
             "outlinewidth": 0,
             "ticks": ""
            },
            "colorscale": [
             [
              0,
              "#0d0887"
             ],
             [
              0.1111111111111111,
              "#46039f"
             ],
             [
              0.2222222222222222,
              "#7201a8"
             ],
             [
              0.3333333333333333,
              "#9c179e"
             ],
             [
              0.4444444444444444,
              "#bd3786"
             ],
             [
              0.5555555555555556,
              "#d8576b"
             ],
             [
              0.6666666666666666,
              "#ed7953"
             ],
             [
              0.7777777777777778,
              "#fb9f3a"
             ],
             [
              0.8888888888888888,
              "#fdca26"
             ],
             [
              1,
              "#f0f921"
             ]
            ],
            "type": "histogram2d"
           }
          ],
          "histogram2dcontour": [
           {
            "colorbar": {
             "outlinewidth": 0,
             "ticks": ""
            },
            "colorscale": [
             [
              0,
              "#0d0887"
             ],
             [
              0.1111111111111111,
              "#46039f"
             ],
             [
              0.2222222222222222,
              "#7201a8"
             ],
             [
              0.3333333333333333,
              "#9c179e"
             ],
             [
              0.4444444444444444,
              "#bd3786"
             ],
             [
              0.5555555555555556,
              "#d8576b"
             ],
             [
              0.6666666666666666,
              "#ed7953"
             ],
             [
              0.7777777777777778,
              "#fb9f3a"
             ],
             [
              0.8888888888888888,
              "#fdca26"
             ],
             [
              1,
              "#f0f921"
             ]
            ],
            "type": "histogram2dcontour"
           }
          ],
          "mesh3d": [
           {
            "colorbar": {
             "outlinewidth": 0,
             "ticks": ""
            },
            "type": "mesh3d"
           }
          ],
          "parcoords": [
           {
            "line": {
             "colorbar": {
              "outlinewidth": 0,
              "ticks": ""
             }
            },
            "type": "parcoords"
           }
          ],
          "pie": [
           {
            "automargin": true,
            "type": "pie"
           }
          ],
          "scatter": [
           {
            "fillpattern": {
             "fillmode": "overlay",
             "size": 10,
             "solidity": 0.2
            },
            "type": "scatter"
           }
          ],
          "scatter3d": [
           {
            "line": {
             "colorbar": {
              "outlinewidth": 0,
              "ticks": ""
             }
            },
            "marker": {
             "colorbar": {
              "outlinewidth": 0,
              "ticks": ""
             }
            },
            "type": "scatter3d"
           }
          ],
          "scattercarpet": [
           {
            "marker": {
             "colorbar": {
              "outlinewidth": 0,
              "ticks": ""
             }
            },
            "type": "scattercarpet"
           }
          ],
          "scattergeo": [
           {
            "marker": {
             "colorbar": {
              "outlinewidth": 0,
              "ticks": ""
             }
            },
            "type": "scattergeo"
           }
          ],
          "scattergl": [
           {
            "marker": {
             "colorbar": {
              "outlinewidth": 0,
              "ticks": ""
             }
            },
            "type": "scattergl"
           }
          ],
          "scattermapbox": [
           {
            "marker": {
             "colorbar": {
              "outlinewidth": 0,
              "ticks": ""
             }
            },
            "type": "scattermapbox"
           }
          ],
          "scatterpolar": [
           {
            "marker": {
             "colorbar": {
              "outlinewidth": 0,
              "ticks": ""
             }
            },
            "type": "scatterpolar"
           }
          ],
          "scatterpolargl": [
           {
            "marker": {
             "colorbar": {
              "outlinewidth": 0,
              "ticks": ""
             }
            },
            "type": "scatterpolargl"
           }
          ],
          "scatterternary": [
           {
            "marker": {
             "colorbar": {
              "outlinewidth": 0,
              "ticks": ""
             }
            },
            "type": "scatterternary"
           }
          ],
          "surface": [
           {
            "colorbar": {
             "outlinewidth": 0,
             "ticks": ""
            },
            "colorscale": [
             [
              0,
              "#0d0887"
             ],
             [
              0.1111111111111111,
              "#46039f"
             ],
             [
              0.2222222222222222,
              "#7201a8"
             ],
             [
              0.3333333333333333,
              "#9c179e"
             ],
             [
              0.4444444444444444,
              "#bd3786"
             ],
             [
              0.5555555555555556,
              "#d8576b"
             ],
             [
              0.6666666666666666,
              "#ed7953"
             ],
             [
              0.7777777777777778,
              "#fb9f3a"
             ],
             [
              0.8888888888888888,
              "#fdca26"
             ],
             [
              1,
              "#f0f921"
             ]
            ],
            "type": "surface"
           }
          ],
          "table": [
           {
            "cells": {
             "fill": {
              "color": "#EBF0F8"
             },
             "line": {
              "color": "white"
             }
            },
            "header": {
             "fill": {
              "color": "#C8D4E3"
             },
             "line": {
              "color": "white"
             }
            },
            "type": "table"
           }
          ]
         },
         "layout": {
          "annotationdefaults": {
           "arrowcolor": "#2a3f5f",
           "arrowhead": 0,
           "arrowwidth": 1
          },
          "autotypenumbers": "strict",
          "coloraxis": {
           "colorbar": {
            "outlinewidth": 0,
            "ticks": ""
           }
          },
          "colorscale": {
           "diverging": [
            [
             0,
             "#8e0152"
            ],
            [
             0.1,
             "#c51b7d"
            ],
            [
             0.2,
             "#de77ae"
            ],
            [
             0.3,
             "#f1b6da"
            ],
            [
             0.4,
             "#fde0ef"
            ],
            [
             0.5,
             "#f7f7f7"
            ],
            [
             0.6,
             "#e6f5d0"
            ],
            [
             0.7,
             "#b8e186"
            ],
            [
             0.8,
             "#7fbc41"
            ],
            [
             0.9,
             "#4d9221"
            ],
            [
             1,
             "#276419"
            ]
           ],
           "sequential": [
            [
             0,
             "#0d0887"
            ],
            [
             0.1111111111111111,
             "#46039f"
            ],
            [
             0.2222222222222222,
             "#7201a8"
            ],
            [
             0.3333333333333333,
             "#9c179e"
            ],
            [
             0.4444444444444444,
             "#bd3786"
            ],
            [
             0.5555555555555556,
             "#d8576b"
            ],
            [
             0.6666666666666666,
             "#ed7953"
            ],
            [
             0.7777777777777778,
             "#fb9f3a"
            ],
            [
             0.8888888888888888,
             "#fdca26"
            ],
            [
             1,
             "#f0f921"
            ]
           ],
           "sequentialminus": [
            [
             0,
             "#0d0887"
            ],
            [
             0.1111111111111111,
             "#46039f"
            ],
            [
             0.2222222222222222,
             "#7201a8"
            ],
            [
             0.3333333333333333,
             "#9c179e"
            ],
            [
             0.4444444444444444,
             "#bd3786"
            ],
            [
             0.5555555555555556,
             "#d8576b"
            ],
            [
             0.6666666666666666,
             "#ed7953"
            ],
            [
             0.7777777777777778,
             "#fb9f3a"
            ],
            [
             0.8888888888888888,
             "#fdca26"
            ],
            [
             1,
             "#f0f921"
            ]
           ]
          },
          "colorway": [
           "#636efa",
           "#EF553B",
           "#00cc96",
           "#ab63fa",
           "#FFA15A",
           "#19d3f3",
           "#FF6692",
           "#B6E880",
           "#FF97FF",
           "#FECB52"
          ],
          "font": {
           "color": "#2a3f5f"
          },
          "geo": {
           "bgcolor": "white",
           "lakecolor": "white",
           "landcolor": "#E5ECF6",
           "showlakes": true,
           "showland": true,
           "subunitcolor": "white"
          },
          "hoverlabel": {
           "align": "left"
          },
          "hovermode": "closest",
          "mapbox": {
           "style": "light"
          },
          "paper_bgcolor": "white",
          "plot_bgcolor": "#E5ECF6",
          "polar": {
           "angularaxis": {
            "gridcolor": "white",
            "linecolor": "white",
            "ticks": ""
           },
           "bgcolor": "#E5ECF6",
           "radialaxis": {
            "gridcolor": "white",
            "linecolor": "white",
            "ticks": ""
           }
          },
          "scene": {
           "xaxis": {
            "backgroundcolor": "#E5ECF6",
            "gridcolor": "white",
            "gridwidth": 2,
            "linecolor": "white",
            "showbackground": true,
            "ticks": "",
            "zerolinecolor": "white"
           },
           "yaxis": {
            "backgroundcolor": "#E5ECF6",
            "gridcolor": "white",
            "gridwidth": 2,
            "linecolor": "white",
            "showbackground": true,
            "ticks": "",
            "zerolinecolor": "white"
           },
           "zaxis": {
            "backgroundcolor": "#E5ECF6",
            "gridcolor": "white",
            "gridwidth": 2,
            "linecolor": "white",
            "showbackground": true,
            "ticks": "",
            "zerolinecolor": "white"
           }
          },
          "shapedefaults": {
           "line": {
            "color": "#2a3f5f"
           }
          },
          "ternary": {
           "aaxis": {
            "gridcolor": "white",
            "linecolor": "white",
            "ticks": ""
           },
           "baxis": {
            "gridcolor": "white",
            "linecolor": "white",
            "ticks": ""
           },
           "bgcolor": "#E5ECF6",
           "caxis": {
            "gridcolor": "white",
            "linecolor": "white",
            "ticks": ""
           }
          },
          "title": {
           "x": 0.05
          },
          "xaxis": {
           "automargin": true,
           "gridcolor": "white",
           "linecolor": "white",
           "ticks": "",
           "title": {
            "standoff": 15
           },
           "zerolinecolor": "white",
           "zerolinewidth": 2
          },
          "yaxis": {
           "automargin": true,
           "gridcolor": "white",
           "linecolor": "white",
           "ticks": "",
           "title": {
            "standoff": 15
           },
           "zerolinecolor": "white",
           "zerolinewidth": 2
          }
         }
        },
        "width": 620,
        "xaxis": {
         "anchor": "y",
         "domain": [
          0,
          1
         ],
         "title": {
          "text": "relative size"
         }
        },
        "yaxis": {
         "anchor": "x",
         "autorange": "reversed",
         "domain": [
          0,
          1
         ],
         "title": {
          "text": "Dataset"
         }
        }
       }
      },
      "text/html": [
       "<div>                            <div id=\"ebf3fa21-c173-4d15-ad99-ecfc3b844b2a\" class=\"plotly-graph-div\" style=\"height:1200px; width:620.0px;\"></div>            <script type=\"text/javascript\">                require([\"plotly\"], function(Plotly) {                    window.PLOTLYENV=window.PLOTLYENV || {};                                    if (document.getElementById(\"ebf3fa21-c173-4d15-ad99-ecfc3b844b2a\")) {                    Plotly.newPlot(                        \"ebf3fa21-c173-4d15-ad99-ecfc3b844b2a\",                        [{\"alignmentgroup\":\"True\",\"hovertemplate\":\"=wisard\\u003cbr\\u003ePerformance=%{x}\\u003cbr\\u003eDataset=%{y}\\u003cextra\\u003e\\u003c\\u002fextra\\u003e\",\"legendgroup\":\"wisard\",\"marker\":{\"color\":\"rgb(95, 70, 144)\",\"pattern\":{\"shape\":\"\"}},\"name\":\"wisard\",\"offsetgroup\":\"wisard\",\"orientation\":\"h\",\"showlegend\":true,\"textposition\":\"auto\",\"x\":[0.9628161882204516,0.9024029619050484,0.6615428500177969,0.8571428571428572,1.0,0.9000555555555557,0.65,0.9780450131673772,0.8994465342855008,0.8866629525557234,0.8807118807118807,0.8915753747755484,0.8941176470588235,0.962856206024315,0.5700237244955314],\"xaxis\":\"x\",\"y\":[\"breast_cancer\",\"dry_bean\",\"glass\",\"image_segmentation\",\"iris\",\"letter\",\"motion_sense\",\"optical_handwritten\",\"rice\",\"satimage\",\"segment\",\"sepsis\",\"vehicle\",\"wine\",\"yeast\"],\"yaxis\":\"y\",\"type\":\"bar\"},{\"alignmentgroup\":\"True\",\"hovertemplate\":\"=random-forest\\u003cbr\\u003ePerformance=%{x}\\u003cbr\\u003eDataset=%{y}\\u003cextra\\u003e\\u003c\\u002fextra\\u003e\",\"legendgroup\":\"random-forest\",\"marker\":{\"color\":\"rgb(29, 105, 150)\",\"pattern\":{\"shape\":\"\"}},\"name\":\"random-forest\",\"offsetgroup\":\"random-forest\",\"orientation\":\"h\",\"showlegend\":true,\"textposition\":\"auto\",\"x\":[0.9708871747643292,0.9198474773426017,0.7060178946619377,0.6190476190476191,0.9333333333333332,0.9607222222222221,0.8078431372549019,0.9827979576880973,0.9152644340920002,0.910574331227231,0.9716209716209715,0.8908090454440197,0.9686274509803922,0.9815543316723488,0.6207256954912499],\"xaxis\":\"x\",\"y\":[\"breast_cancer\",\"dry_bean\",\"glass\",\"image_segmentation\",\"iris\",\"letter\",\"motion_sense\",\"optical_handwritten\",\"rice\",\"satimage\",\"segment\",\"sepsis\",\"vehicle\",\"wine\",\"yeast\"],\"yaxis\":\"y\",\"type\":\"bar\"},{\"alignmentgroup\":\"True\",\"hovertemplate\":\"=svm\\u003cbr\\u003ePerformance=%{x}\\u003cbr\\u003eDataset=%{y}\\u003cextra\\u003e\\u003c\\u002fextra\\u003e\",\"legendgroup\":\"svm\",\"marker\":{\"color\":\"rgb(56, 166, 165)\",\"pattern\":{\"shape\":\"\"}},\"name\":\"svm\",\"offsetgroup\":\"svm\",\"orientation\":\"h\",\"showlegend\":true,\"textposition\":\"auto\",\"x\":[0.8730641381054367,0.6014133504868324,0.1849650349650349,0.5,1.0,0.92,0.538235294117647,0.9919918925110768,0.867169718729999,0.892530243798912,0.8701298701298702,0.8908920043310973,0.7176470588235294,0.6486013986013985,0.5992100016133695],\"xaxis\":\"x\",\"y\":[\"breast_cancer\",\"dry_bean\",\"glass\",\"image_segmentation\",\"iris\",\"letter\",\"motion_sense\",\"optical_handwritten\",\"rice\",\"satimage\",\"segment\",\"sepsis\",\"vehicle\",\"wine\",\"yeast\"],\"yaxis\":\"y\",\"type\":\"bar\"},{\"alignmentgroup\":\"True\",\"hovertemplate\":\"=mlp\\u003cbr\\u003ePerformance=%{x}\\u003cbr\\u003eDataset=%{y}\\u003cextra\\u003e\\u003c\\u002fextra\\u003e\",\"legendgroup\":\"mlp\",\"marker\":{\"color\":\"rgb(15, 133, 84)\",\"pattern\":{\"shape\":\"\"}},\"name\":\"mlp\",\"offsetgroup\":\"mlp\",\"orientation\":\"h\",\"showlegend\":true,\"textposition\":\"auto\",\"x\":[0.9103013945119208,0.22507061835587583,0.4554142391626345,0.5555555555555555,0.9777777777777775,0.9205,0.6565359477124183,0.981028439293471,0.4777329795241849,0.9116120122328867,0.9422799422799423,0.8908920043310973,0.8176470588235295,0.8883769948810599,0.5895877432143035],\"xaxis\":\"x\",\"y\":[\"breast_cancer\",\"dry_bean\",\"glass\",\"image_segmentation\",\"iris\",\"letter\",\"motion_sense\",\"optical_handwritten\",\"rice\",\"satimage\",\"segment\",\"sepsis\",\"vehicle\",\"wine\",\"yeast\"],\"yaxis\":\"y\",\"type\":\"bar\"},{\"alignmentgroup\":\"True\",\"hovertemplate\":\"=knn\\u003cbr\\u003ePerformance=%{x}\\u003cbr\\u003eDataset=%{y}\\u003cextra\\u003e\\u003c\\u002fextra\\u003e\",\"legendgroup\":\"knn\",\"marker\":{\"color\":\"rgb(115, 175, 72)\",\"pattern\":{\"shape\":\"\"}},\"name\":\"knn\",\"offsetgroup\":\"knn\",\"orientation\":\"h\",\"showlegend\":true,\"textposition\":\"auto\",\"x\":[0.9178579163959281,0.7175232545997096,0.7092884420543996,0.5476190476190477,0.9555555555555556,0.9455,0.5049019607843137,0.988428941906149,0.8636907391101323,0.9025045416497844,0.9336219336219336,0.8909546104108189,0.8176470588235295,0.6714063714063713,0.5463856770422707],\"xaxis\":\"x\",\"y\":[\"breast_cancer\",\"dry_bean\",\"glass\",\"image_segmentation\",\"iris\",\"letter\",\"motion_sense\",\"optical_handwritten\",\"rice\",\"satimage\",\"segment\",\"sepsis\",\"vehicle\",\"wine\",\"yeast\"],\"yaxis\":\"y\",\"type\":\"bar\"}],                        {\"template\":{\"data\":{\"histogram2dcontour\":[{\"type\":\"histogram2dcontour\",\"colorbar\":{\"outlinewidth\":0,\"ticks\":\"\"},\"colorscale\":[[0.0,\"#0d0887\"],[0.1111111111111111,\"#46039f\"],[0.2222222222222222,\"#7201a8\"],[0.3333333333333333,\"#9c179e\"],[0.4444444444444444,\"#bd3786\"],[0.5555555555555556,\"#d8576b\"],[0.6666666666666666,\"#ed7953\"],[0.7777777777777778,\"#fb9f3a\"],[0.8888888888888888,\"#fdca26\"],[1.0,\"#f0f921\"]]}],\"choropleth\":[{\"type\":\"choropleth\",\"colorbar\":{\"outlinewidth\":0,\"ticks\":\"\"}}],\"histogram2d\":[{\"type\":\"histogram2d\",\"colorbar\":{\"outlinewidth\":0,\"ticks\":\"\"},\"colorscale\":[[0.0,\"#0d0887\"],[0.1111111111111111,\"#46039f\"],[0.2222222222222222,\"#7201a8\"],[0.3333333333333333,\"#9c179e\"],[0.4444444444444444,\"#bd3786\"],[0.5555555555555556,\"#d8576b\"],[0.6666666666666666,\"#ed7953\"],[0.7777777777777778,\"#fb9f3a\"],[0.8888888888888888,\"#fdca26\"],[1.0,\"#f0f921\"]]}],\"heatmap\":[{\"type\":\"heatmap\",\"colorbar\":{\"outlinewidth\":0,\"ticks\":\"\"},\"colorscale\":[[0.0,\"#0d0887\"],[0.1111111111111111,\"#46039f\"],[0.2222222222222222,\"#7201a8\"],[0.3333333333333333,\"#9c179e\"],[0.4444444444444444,\"#bd3786\"],[0.5555555555555556,\"#d8576b\"],[0.6666666666666666,\"#ed7953\"],[0.7777777777777778,\"#fb9f3a\"],[0.8888888888888888,\"#fdca26\"],[1.0,\"#f0f921\"]]}],\"heatmapgl\":[{\"type\":\"heatmapgl\",\"colorbar\":{\"outlinewidth\":0,\"ticks\":\"\"},\"colorscale\":[[0.0,\"#0d0887\"],[0.1111111111111111,\"#46039f\"],[0.2222222222222222,\"#7201a8\"],[0.3333333333333333,\"#9c179e\"],[0.4444444444444444,\"#bd3786\"],[0.5555555555555556,\"#d8576b\"],[0.6666666666666666,\"#ed7953\"],[0.7777777777777778,\"#fb9f3a\"],[0.8888888888888888,\"#fdca26\"],[1.0,\"#f0f921\"]]}],\"contourcarpet\":[{\"type\":\"contourcarpet\",\"colorbar\":{\"outlinewidth\":0,\"ticks\":\"\"}}],\"contour\":[{\"type\":\"contour\",\"colorbar\":{\"outlinewidth\":0,\"ticks\":\"\"},\"colorscale\":[[0.0,\"#0d0887\"],[0.1111111111111111,\"#46039f\"],[0.2222222222222222,\"#7201a8\"],[0.3333333333333333,\"#9c179e\"],[0.4444444444444444,\"#bd3786\"],[0.5555555555555556,\"#d8576b\"],[0.6666666666666666,\"#ed7953\"],[0.7777777777777778,\"#fb9f3a\"],[0.8888888888888888,\"#fdca26\"],[1.0,\"#f0f921\"]]}],\"surface\":[{\"type\":\"surface\",\"colorbar\":{\"outlinewidth\":0,\"ticks\":\"\"},\"colorscale\":[[0.0,\"#0d0887\"],[0.1111111111111111,\"#46039f\"],[0.2222222222222222,\"#7201a8\"],[0.3333333333333333,\"#9c179e\"],[0.4444444444444444,\"#bd3786\"],[0.5555555555555556,\"#d8576b\"],[0.6666666666666666,\"#ed7953\"],[0.7777777777777778,\"#fb9f3a\"],[0.8888888888888888,\"#fdca26\"],[1.0,\"#f0f921\"]]}],\"mesh3d\":[{\"type\":\"mesh3d\",\"colorbar\":{\"outlinewidth\":0,\"ticks\":\"\"}}],\"scatter\":[{\"fillpattern\":{\"fillmode\":\"overlay\",\"size\":10,\"solidity\":0.2},\"type\":\"scatter\"}],\"parcoords\":[{\"type\":\"parcoords\",\"line\":{\"colorbar\":{\"outlinewidth\":0,\"ticks\":\"\"}}}],\"scatterpolargl\":[{\"type\":\"scatterpolargl\",\"marker\":{\"colorbar\":{\"outlinewidth\":0,\"ticks\":\"\"}}}],\"bar\":[{\"error_x\":{\"color\":\"#2a3f5f\"},\"error_y\":{\"color\":\"#2a3f5f\"},\"marker\":{\"line\":{\"color\":\"#E5ECF6\",\"width\":0.5},\"pattern\":{\"fillmode\":\"overlay\",\"size\":10,\"solidity\":0.2}},\"type\":\"bar\"}],\"scattergeo\":[{\"type\":\"scattergeo\",\"marker\":{\"colorbar\":{\"outlinewidth\":0,\"ticks\":\"\"}}}],\"scatterpolar\":[{\"type\":\"scatterpolar\",\"marker\":{\"colorbar\":{\"outlinewidth\":0,\"ticks\":\"\"}}}],\"histogram\":[{\"marker\":{\"pattern\":{\"fillmode\":\"overlay\",\"size\":10,\"solidity\":0.2}},\"type\":\"histogram\"}],\"scattergl\":[{\"type\":\"scattergl\",\"marker\":{\"colorbar\":{\"outlinewidth\":0,\"ticks\":\"\"}}}],\"scatter3d\":[{\"type\":\"scatter3d\",\"line\":{\"colorbar\":{\"outlinewidth\":0,\"ticks\":\"\"}},\"marker\":{\"colorbar\":{\"outlinewidth\":0,\"ticks\":\"\"}}}],\"scattermapbox\":[{\"type\":\"scattermapbox\",\"marker\":{\"colorbar\":{\"outlinewidth\":0,\"ticks\":\"\"}}}],\"scatterternary\":[{\"type\":\"scatterternary\",\"marker\":{\"colorbar\":{\"outlinewidth\":0,\"ticks\":\"\"}}}],\"scattercarpet\":[{\"type\":\"scattercarpet\",\"marker\":{\"colorbar\":{\"outlinewidth\":0,\"ticks\":\"\"}}}],\"carpet\":[{\"aaxis\":{\"endlinecolor\":\"#2a3f5f\",\"gridcolor\":\"white\",\"linecolor\":\"white\",\"minorgridcolor\":\"white\",\"startlinecolor\":\"#2a3f5f\"},\"baxis\":{\"endlinecolor\":\"#2a3f5f\",\"gridcolor\":\"white\",\"linecolor\":\"white\",\"minorgridcolor\":\"white\",\"startlinecolor\":\"#2a3f5f\"},\"type\":\"carpet\"}],\"table\":[{\"cells\":{\"fill\":{\"color\":\"#EBF0F8\"},\"line\":{\"color\":\"white\"}},\"header\":{\"fill\":{\"color\":\"#C8D4E3\"},\"line\":{\"color\":\"white\"}},\"type\":\"table\"}],\"barpolar\":[{\"marker\":{\"line\":{\"color\":\"#E5ECF6\",\"width\":0.5},\"pattern\":{\"fillmode\":\"overlay\",\"size\":10,\"solidity\":0.2}},\"type\":\"barpolar\"}],\"pie\":[{\"automargin\":true,\"type\":\"pie\"}]},\"layout\":{\"autotypenumbers\":\"strict\",\"colorway\":[\"#636efa\",\"#EF553B\",\"#00cc96\",\"#ab63fa\",\"#FFA15A\",\"#19d3f3\",\"#FF6692\",\"#B6E880\",\"#FF97FF\",\"#FECB52\"],\"font\":{\"color\":\"#2a3f5f\"},\"hovermode\":\"closest\",\"hoverlabel\":{\"align\":\"left\"},\"paper_bgcolor\":\"white\",\"plot_bgcolor\":\"#E5ECF6\",\"polar\":{\"bgcolor\":\"#E5ECF6\",\"angularaxis\":{\"gridcolor\":\"white\",\"linecolor\":\"white\",\"ticks\":\"\"},\"radialaxis\":{\"gridcolor\":\"white\",\"linecolor\":\"white\",\"ticks\":\"\"}},\"ternary\":{\"bgcolor\":\"#E5ECF6\",\"aaxis\":{\"gridcolor\":\"white\",\"linecolor\":\"white\",\"ticks\":\"\"},\"baxis\":{\"gridcolor\":\"white\",\"linecolor\":\"white\",\"ticks\":\"\"},\"caxis\":{\"gridcolor\":\"white\",\"linecolor\":\"white\",\"ticks\":\"\"}},\"coloraxis\":{\"colorbar\":{\"outlinewidth\":0,\"ticks\":\"\"}},\"colorscale\":{\"sequential\":[[0.0,\"#0d0887\"],[0.1111111111111111,\"#46039f\"],[0.2222222222222222,\"#7201a8\"],[0.3333333333333333,\"#9c179e\"],[0.4444444444444444,\"#bd3786\"],[0.5555555555555556,\"#d8576b\"],[0.6666666666666666,\"#ed7953\"],[0.7777777777777778,\"#fb9f3a\"],[0.8888888888888888,\"#fdca26\"],[1.0,\"#f0f921\"]],\"sequentialminus\":[[0.0,\"#0d0887\"],[0.1111111111111111,\"#46039f\"],[0.2222222222222222,\"#7201a8\"],[0.3333333333333333,\"#9c179e\"],[0.4444444444444444,\"#bd3786\"],[0.5555555555555556,\"#d8576b\"],[0.6666666666666666,\"#ed7953\"],[0.7777777777777778,\"#fb9f3a\"],[0.8888888888888888,\"#fdca26\"],[1.0,\"#f0f921\"]],\"diverging\":[[0,\"#8e0152\"],[0.1,\"#c51b7d\"],[0.2,\"#de77ae\"],[0.3,\"#f1b6da\"],[0.4,\"#fde0ef\"],[0.5,\"#f7f7f7\"],[0.6,\"#e6f5d0\"],[0.7,\"#b8e186\"],[0.8,\"#7fbc41\"],[0.9,\"#4d9221\"],[1,\"#276419\"]]},\"xaxis\":{\"gridcolor\":\"white\",\"linecolor\":\"white\",\"ticks\":\"\",\"title\":{\"standoff\":15},\"zerolinecolor\":\"white\",\"automargin\":true,\"zerolinewidth\":2},\"yaxis\":{\"gridcolor\":\"white\",\"linecolor\":\"white\",\"ticks\":\"\",\"title\":{\"standoff\":15},\"zerolinecolor\":\"white\",\"automargin\":true,\"zerolinewidth\":2},\"scene\":{\"xaxis\":{\"backgroundcolor\":\"#E5ECF6\",\"gridcolor\":\"white\",\"linecolor\":\"white\",\"showbackground\":true,\"ticks\":\"\",\"zerolinecolor\":\"white\",\"gridwidth\":2},\"yaxis\":{\"backgroundcolor\":\"#E5ECF6\",\"gridcolor\":\"white\",\"linecolor\":\"white\",\"showbackground\":true,\"ticks\":\"\",\"zerolinecolor\":\"white\",\"gridwidth\":2},\"zaxis\":{\"backgroundcolor\":\"#E5ECF6\",\"gridcolor\":\"white\",\"linecolor\":\"white\",\"showbackground\":true,\"ticks\":\"\",\"zerolinecolor\":\"white\",\"gridwidth\":2}},\"shapedefaults\":{\"line\":{\"color\":\"#2a3f5f\"}},\"annotationdefaults\":{\"arrowcolor\":\"#2a3f5f\",\"arrowhead\":0,\"arrowwidth\":1},\"geo\":{\"bgcolor\":\"white\",\"landcolor\":\"#E5ECF6\",\"subunitcolor\":\"white\",\"showland\":true,\"showlakes\":true,\"lakecolor\":\"white\"},\"title\":{\"x\":0.05},\"mapbox\":{\"style\":\"light\"}}},\"xaxis\":{\"anchor\":\"y\",\"domain\":[0.0,1.0],\"title\":{\"text\":\"Performance\"}},\"yaxis\":{\"anchor\":\"x\",\"domain\":[0.0,1.0],\"title\":{\"text\":\"Dataset\"},\"autorange\":\"reversed\"},\"legend\":{\"title\":{\"text\":\"\"},\"tracegroupgap\":0,\"orientation\":\"h\",\"yanchor\":\"top\",\"y\":1.05,\"xanchor\":\"center\",\"x\":0.5},\"margin\":{\"t\":60},\"barmode\":\"group\",\"font\":{\"family\":\"Times New Roman\",\"size\":14},\"height\":1200,\"width\":620.0},                        {\"responsive\": true}                    ).then(function(){\n",
       "                            \n",
       "var gd = document.getElementById('ebf3fa21-c173-4d15-ad99-ecfc3b844b2a');\n",
       "var x = new MutationObserver(function (mutations, observer) {{\n",
       "        var display = window.getComputedStyle(gd).display;\n",
       "        if (!display || display === 'none') {{\n",
       "            console.log([gd, 'removed!']);\n",
       "            Plotly.purge(gd);\n",
       "            observer.disconnect();\n",
       "        }}\n",
       "}});\n",
       "\n",
       "// Listen for the removal of the full notebook cells\n",
       "var notebookContainer = gd.closest('#notebook-container');\n",
       "if (notebookContainer) {{\n",
       "    x.observe(notebookContainer, {childList: true});\n",
       "}}\n",
       "\n",
       "// Listen for the clearing of the current output cell\n",
       "var outputEl = gd.closest('.output');\n",
       "if (outputEl) {{\n",
       "    x.observe(outputEl, {childList: true});\n",
       "}}\n",
       "\n",
       "                        })                };                });            </script>        </div>"
      ]
     },
     "metadata": {},
     "output_type": "display_data"
    }
   ],
   "source": [
    "# Assume 'results' DataFrame with columns: 'dataset', 'model', 'accuracy'\n",
    "\n",
    "# Create a grouped horizontal bar chart for accuracy per model and dataset with reversed bar groups\n",
    "fig_grouped_bar = px.bar(\n",
    "    n,\n",
    "    y=\"dataset\",\n",
    "    x=\"metric\",\n",
    "    # error_x=\"metric_std\",\n",
    "    color=\"model\",\n",
    "    #  title='Metric Comparison by Model and Dataset',\n",
    "    labels={\"metric\": \"Performance\", \"dataset\": \"Dataset\", \"model\": \"\"},\n",
    "    barmode=\"group\",\n",
    "    orientation='h',\n",
    "    color_discrete_sequence=px.colors.qualitative.Prism,\n",
    ")\n",
    "\n",
    "\n",
    "# Reverse the order of the bar groups\n",
    "fig_grouped_bar.update_layout(\n",
    "    yaxis=dict(autorange=\"reversed\"),\n",
    ")\n",
    "\n",
    "# Display the plot\n",
    "fig_grouped_bar.update_layout(\n",
    "    legend=dict(\n",
    "        orientation=\"h\", yanchor=\"top\", y=1.05, xanchor=\"center\", x=0.5\n",
    "    ),\n",
    "    height=1200,\n",
    "    width=2480 / 4,\n",
    "    font=dict(family=\"Times New Roman\", size=14),\n",
    ")\n",
    "\n",
    "write_figure(\"models_performance_horizontal.pdf\", fig_grouped_bar)\n",
    "fig_grouped_bar.show()"
   ]
  },
  {
   "cell_type": "code",
   "execution_count": null,
   "metadata": {},
   "outputs": [],
   "source": []
  },
  {
   "cell_type": "code",
   "execution_count": 42,
   "metadata": {},
   "outputs": [
    {
     "data": {
      "application/vnd.plotly.v1+json": {
       "config": {
        "plotlyServerURL": "https://plot.ly"
       },
       "data": [
        {
         "marker": {
          "color": "rgb(31, 119, 180)",
          "opacity": 0.8,
          "size": 12,
          "symbol": "circle"
         },
         "mode": "markers",
         "name": "knn",
         "text": [
          "knn"
         ],
         "type": "scatter",
         "x": [
          0.00007201391782687314
         ],
         "y": [
          0.9555555555555556
         ]
        },
        {
         "marker": {
          "color": "rgb(31, 119, 180)",
          "opacity": 0.8,
          "size": 12,
          "symbol": "square"
         },
         "mode": "markers",
         "name": "mlp",
         "text": [
          "mlp"
         ],
         "type": "scatter",
         "x": [
          0.00020057801814907692
         ],
         "y": [
          0.9777777777777775
         ]
        },
        {
         "marker": {
          "color": "rgb(31, 119, 180)",
          "opacity": 0.8,
          "size": 12,
          "symbol": "diamond"
         },
         "mode": "markers",
         "name": "random-forest",
         "text": [
          "random-forest"
         ],
         "type": "scatter",
         "x": [
          0.0009765625
         ],
         "y": [
          0.9333333333333332
         ]
        },
        {
         "marker": {
          "color": "rgb(31, 119, 180)",
          "opacity": 0.8,
          "size": 12,
          "symbol": "cross"
         },
         "mode": "markers",
         "name": "svm",
         "text": [
          "svm"
         ],
         "type": "scatter",
         "x": [
          0.00002684353304263061
         ],
         "y": [
          1
         ]
        },
        {
         "marker": {
          "color": "rgb(31, 119, 180)",
          "opacity": 0.8,
          "size": 12,
          "symbol": "x"
         },
         "mode": "markers",
         "name": "wisard",
         "text": [
          "wisard"
         ],
         "type": "scatter",
         "x": [
          0.000009970039884810287
         ],
         "y": [
          1
         ]
        }
       ],
       "layout": {
        "hovermode": "closest",
        "template": {
         "data": {
          "bar": [
           {
            "error_x": {
             "color": "#2a3f5f"
            },
            "error_y": {
             "color": "#2a3f5f"
            },
            "marker": {
             "line": {
              "color": "#E5ECF6",
              "width": 0.5
             },
             "pattern": {
              "fillmode": "overlay",
              "size": 10,
              "solidity": 0.2
             }
            },
            "type": "bar"
           }
          ],
          "barpolar": [
           {
            "marker": {
             "line": {
              "color": "#E5ECF6",
              "width": 0.5
             },
             "pattern": {
              "fillmode": "overlay",
              "size": 10,
              "solidity": 0.2
             }
            },
            "type": "barpolar"
           }
          ],
          "carpet": [
           {
            "aaxis": {
             "endlinecolor": "#2a3f5f",
             "gridcolor": "white",
             "linecolor": "white",
             "minorgridcolor": "white",
             "startlinecolor": "#2a3f5f"
            },
            "baxis": {
             "endlinecolor": "#2a3f5f",
             "gridcolor": "white",
             "linecolor": "white",
             "minorgridcolor": "white",
             "startlinecolor": "#2a3f5f"
            },
            "type": "carpet"
           }
          ],
          "choropleth": [
           {
            "colorbar": {
             "outlinewidth": 0,
             "ticks": ""
            },
            "type": "choropleth"
           }
          ],
          "contour": [
           {
            "colorbar": {
             "outlinewidth": 0,
             "ticks": ""
            },
            "colorscale": [
             [
              0,
              "#0d0887"
             ],
             [
              0.1111111111111111,
              "#46039f"
             ],
             [
              0.2222222222222222,
              "#7201a8"
             ],
             [
              0.3333333333333333,
              "#9c179e"
             ],
             [
              0.4444444444444444,
              "#bd3786"
             ],
             [
              0.5555555555555556,
              "#d8576b"
             ],
             [
              0.6666666666666666,
              "#ed7953"
             ],
             [
              0.7777777777777778,
              "#fb9f3a"
             ],
             [
              0.8888888888888888,
              "#fdca26"
             ],
             [
              1,
              "#f0f921"
             ]
            ],
            "type": "contour"
           }
          ],
          "contourcarpet": [
           {
            "colorbar": {
             "outlinewidth": 0,
             "ticks": ""
            },
            "type": "contourcarpet"
           }
          ],
          "heatmap": [
           {
            "colorbar": {
             "outlinewidth": 0,
             "ticks": ""
            },
            "colorscale": [
             [
              0,
              "#0d0887"
             ],
             [
              0.1111111111111111,
              "#46039f"
             ],
             [
              0.2222222222222222,
              "#7201a8"
             ],
             [
              0.3333333333333333,
              "#9c179e"
             ],
             [
              0.4444444444444444,
              "#bd3786"
             ],
             [
              0.5555555555555556,
              "#d8576b"
             ],
             [
              0.6666666666666666,
              "#ed7953"
             ],
             [
              0.7777777777777778,
              "#fb9f3a"
             ],
             [
              0.8888888888888888,
              "#fdca26"
             ],
             [
              1,
              "#f0f921"
             ]
            ],
            "type": "heatmap"
           }
          ],
          "heatmapgl": [
           {
            "colorbar": {
             "outlinewidth": 0,
             "ticks": ""
            },
            "colorscale": [
             [
              0,
              "#0d0887"
             ],
             [
              0.1111111111111111,
              "#46039f"
             ],
             [
              0.2222222222222222,
              "#7201a8"
             ],
             [
              0.3333333333333333,
              "#9c179e"
             ],
             [
              0.4444444444444444,
              "#bd3786"
             ],
             [
              0.5555555555555556,
              "#d8576b"
             ],
             [
              0.6666666666666666,
              "#ed7953"
             ],
             [
              0.7777777777777778,
              "#fb9f3a"
             ],
             [
              0.8888888888888888,
              "#fdca26"
             ],
             [
              1,
              "#f0f921"
             ]
            ],
            "type": "heatmapgl"
           }
          ],
          "histogram": [
           {
            "marker": {
             "pattern": {
              "fillmode": "overlay",
              "size": 10,
              "solidity": 0.2
             }
            },
            "type": "histogram"
           }
          ],
          "histogram2d": [
           {
            "colorbar": {
             "outlinewidth": 0,
             "ticks": ""
            },
            "colorscale": [
             [
              0,
              "#0d0887"
             ],
             [
              0.1111111111111111,
              "#46039f"
             ],
             [
              0.2222222222222222,
              "#7201a8"
             ],
             [
              0.3333333333333333,
              "#9c179e"
             ],
             [
              0.4444444444444444,
              "#bd3786"
             ],
             [
              0.5555555555555556,
              "#d8576b"
             ],
             [
              0.6666666666666666,
              "#ed7953"
             ],
             [
              0.7777777777777778,
              "#fb9f3a"
             ],
             [
              0.8888888888888888,
              "#fdca26"
             ],
             [
              1,
              "#f0f921"
             ]
            ],
            "type": "histogram2d"
           }
          ],
          "histogram2dcontour": [
           {
            "colorbar": {
             "outlinewidth": 0,
             "ticks": ""
            },
            "colorscale": [
             [
              0,
              "#0d0887"
             ],
             [
              0.1111111111111111,
              "#46039f"
             ],
             [
              0.2222222222222222,
              "#7201a8"
             ],
             [
              0.3333333333333333,
              "#9c179e"
             ],
             [
              0.4444444444444444,
              "#bd3786"
             ],
             [
              0.5555555555555556,
              "#d8576b"
             ],
             [
              0.6666666666666666,
              "#ed7953"
             ],
             [
              0.7777777777777778,
              "#fb9f3a"
             ],
             [
              0.8888888888888888,
              "#fdca26"
             ],
             [
              1,
              "#f0f921"
             ]
            ],
            "type": "histogram2dcontour"
           }
          ],
          "mesh3d": [
           {
            "colorbar": {
             "outlinewidth": 0,
             "ticks": ""
            },
            "type": "mesh3d"
           }
          ],
          "parcoords": [
           {
            "line": {
             "colorbar": {
              "outlinewidth": 0,
              "ticks": ""
             }
            },
            "type": "parcoords"
           }
          ],
          "pie": [
           {
            "automargin": true,
            "type": "pie"
           }
          ],
          "scatter": [
           {
            "fillpattern": {
             "fillmode": "overlay",
             "size": 10,
             "solidity": 0.2
            },
            "type": "scatter"
           }
          ],
          "scatter3d": [
           {
            "line": {
             "colorbar": {
              "outlinewidth": 0,
              "ticks": ""
             }
            },
            "marker": {
             "colorbar": {
              "outlinewidth": 0,
              "ticks": ""
             }
            },
            "type": "scatter3d"
           }
          ],
          "scattercarpet": [
           {
            "marker": {
             "colorbar": {
              "outlinewidth": 0,
              "ticks": ""
             }
            },
            "type": "scattercarpet"
           }
          ],
          "scattergeo": [
           {
            "marker": {
             "colorbar": {
              "outlinewidth": 0,
              "ticks": ""
             }
            },
            "type": "scattergeo"
           }
          ],
          "scattergl": [
           {
            "marker": {
             "colorbar": {
              "outlinewidth": 0,
              "ticks": ""
             }
            },
            "type": "scattergl"
           }
          ],
          "scattermapbox": [
           {
            "marker": {
             "colorbar": {
              "outlinewidth": 0,
              "ticks": ""
             }
            },
            "type": "scattermapbox"
           }
          ],
          "scatterpolar": [
           {
            "marker": {
             "colorbar": {
              "outlinewidth": 0,
              "ticks": ""
             }
            },
            "type": "scatterpolar"
           }
          ],
          "scatterpolargl": [
           {
            "marker": {
             "colorbar": {
              "outlinewidth": 0,
              "ticks": ""
             }
            },
            "type": "scatterpolargl"
           }
          ],
          "scatterternary": [
           {
            "marker": {
             "colorbar": {
              "outlinewidth": 0,
              "ticks": ""
             }
            },
            "type": "scatterternary"
           }
          ],
          "surface": [
           {
            "colorbar": {
             "outlinewidth": 0,
             "ticks": ""
            },
            "colorscale": [
             [
              0,
              "#0d0887"
             ],
             [
              0.1111111111111111,
              "#46039f"
             ],
             [
              0.2222222222222222,
              "#7201a8"
             ],
             [
              0.3333333333333333,
              "#9c179e"
             ],
             [
              0.4444444444444444,
              "#bd3786"
             ],
             [
              0.5555555555555556,
              "#d8576b"
             ],
             [
              0.6666666666666666,
              "#ed7953"
             ],
             [
              0.7777777777777778,
              "#fb9f3a"
             ],
             [
              0.8888888888888888,
              "#fdca26"
             ],
             [
              1,
              "#f0f921"
             ]
            ],
            "type": "surface"
           }
          ],
          "table": [
           {
            "cells": {
             "fill": {
              "color": "#EBF0F8"
             },
             "line": {
              "color": "white"
             }
            },
            "header": {
             "fill": {
              "color": "#C8D4E3"
             },
             "line": {
              "color": "white"
             }
            },
            "type": "table"
           }
          ]
         },
         "layout": {
          "annotationdefaults": {
           "arrowcolor": "#2a3f5f",
           "arrowhead": 0,
           "arrowwidth": 1
          },
          "autotypenumbers": "strict",
          "coloraxis": {
           "colorbar": {
            "outlinewidth": 0,
            "ticks": ""
           }
          },
          "colorscale": {
           "diverging": [
            [
             0,
             "#8e0152"
            ],
            [
             0.1,
             "#c51b7d"
            ],
            [
             0.2,
             "#de77ae"
            ],
            [
             0.3,
             "#f1b6da"
            ],
            [
             0.4,
             "#fde0ef"
            ],
            [
             0.5,
             "#f7f7f7"
            ],
            [
             0.6,
             "#e6f5d0"
            ],
            [
             0.7,
             "#b8e186"
            ],
            [
             0.8,
             "#7fbc41"
            ],
            [
             0.9,
             "#4d9221"
            ],
            [
             1,
             "#276419"
            ]
           ],
           "sequential": [
            [
             0,
             "#0d0887"
            ],
            [
             0.1111111111111111,
             "#46039f"
            ],
            [
             0.2222222222222222,
             "#7201a8"
            ],
            [
             0.3333333333333333,
             "#9c179e"
            ],
            [
             0.4444444444444444,
             "#bd3786"
            ],
            [
             0.5555555555555556,
             "#d8576b"
            ],
            [
             0.6666666666666666,
             "#ed7953"
            ],
            [
             0.7777777777777778,
             "#fb9f3a"
            ],
            [
             0.8888888888888888,
             "#fdca26"
            ],
            [
             1,
             "#f0f921"
            ]
           ],
           "sequentialminus": [
            [
             0,
             "#0d0887"
            ],
            [
             0.1111111111111111,
             "#46039f"
            ],
            [
             0.2222222222222222,
             "#7201a8"
            ],
            [
             0.3333333333333333,
             "#9c179e"
            ],
            [
             0.4444444444444444,
             "#bd3786"
            ],
            [
             0.5555555555555556,
             "#d8576b"
            ],
            [
             0.6666666666666666,
             "#ed7953"
            ],
            [
             0.7777777777777778,
             "#fb9f3a"
            ],
            [
             0.8888888888888888,
             "#fdca26"
            ],
            [
             1,
             "#f0f921"
            ]
           ]
          },
          "colorway": [
           "#636efa",
           "#EF553B",
           "#00cc96",
           "#ab63fa",
           "#FFA15A",
           "#19d3f3",
           "#FF6692",
           "#B6E880",
           "#FF97FF",
           "#FECB52"
          ],
          "font": {
           "color": "#2a3f5f"
          },
          "geo": {
           "bgcolor": "white",
           "lakecolor": "white",
           "landcolor": "#E5ECF6",
           "showlakes": true,
           "showland": true,
           "subunitcolor": "white"
          },
          "hoverlabel": {
           "align": "left"
          },
          "hovermode": "closest",
          "mapbox": {
           "style": "light"
          },
          "paper_bgcolor": "white",
          "plot_bgcolor": "#E5ECF6",
          "polar": {
           "angularaxis": {
            "gridcolor": "white",
            "linecolor": "white",
            "ticks": ""
           },
           "bgcolor": "#E5ECF6",
           "radialaxis": {
            "gridcolor": "white",
            "linecolor": "white",
            "ticks": ""
           }
          },
          "scene": {
           "xaxis": {
            "backgroundcolor": "#E5ECF6",
            "gridcolor": "white",
            "gridwidth": 2,
            "linecolor": "white",
            "showbackground": true,
            "ticks": "",
            "zerolinecolor": "white"
           },
           "yaxis": {
            "backgroundcolor": "#E5ECF6",
            "gridcolor": "white",
            "gridwidth": 2,
            "linecolor": "white",
            "showbackground": true,
            "ticks": "",
            "zerolinecolor": "white"
           },
           "zaxis": {
            "backgroundcolor": "#E5ECF6",
            "gridcolor": "white",
            "gridwidth": 2,
            "linecolor": "white",
            "showbackground": true,
            "ticks": "",
            "zerolinecolor": "white"
           }
          },
          "shapedefaults": {
           "line": {
            "color": "#2a3f5f"
           }
          },
          "ternary": {
           "aaxis": {
            "gridcolor": "white",
            "linecolor": "white",
            "ticks": ""
           },
           "baxis": {
            "gridcolor": "white",
            "linecolor": "white",
            "ticks": ""
           },
           "bgcolor": "#E5ECF6",
           "caxis": {
            "gridcolor": "white",
            "linecolor": "white",
            "ticks": ""
           }
          },
          "title": {
           "x": 0.05
          },
          "xaxis": {
           "automargin": true,
           "gridcolor": "white",
           "linecolor": "white",
           "ticks": "",
           "title": {
            "standoff": 15
           },
           "zerolinecolor": "white",
           "zerolinewidth": 2
          },
          "yaxis": {
           "automargin": true,
           "gridcolor": "white",
           "linecolor": "white",
           "ticks": "",
           "title": {
            "standoff": 15
           },
           "zerolinecolor": "white",
           "zerolinewidth": 2
          }
         }
        },
        "title": {
         "text": "Relative Size vs. Metric"
        },
        "xaxis": {
         "title": {
          "text": "Relative Size"
         }
        },
        "yaxis": {
         "title": {
          "text": "Metric"
         }
        }
       }
      },
      "text/html": [
       "<div>                            <div id=\"78277998-dacb-4e18-bfb5-080ff35e7107\" class=\"plotly-graph-div\" style=\"height:525px; width:100%;\"></div>            <script type=\"text/javascript\">                require([\"plotly\"], function(Plotly) {                    window.PLOTLYENV=window.PLOTLYENV || {};                                    if (document.getElementById(\"78277998-dacb-4e18-bfb5-080ff35e7107\")) {                    Plotly.newPlot(                        \"78277998-dacb-4e18-bfb5-080ff35e7107\",                        [{\"marker\":{\"color\":\"rgb(31, 119, 180)\",\"opacity\":0.8,\"size\":12,\"symbol\":\"circle\"},\"mode\":\"markers\",\"name\":\"knn\",\"text\":[\"knn\"],\"x\":[7.201391782687314e-05],\"y\":[0.9555555555555556],\"type\":\"scatter\"},{\"marker\":{\"color\":\"rgb(31, 119, 180)\",\"opacity\":0.8,\"size\":12,\"symbol\":\"square\"},\"mode\":\"markers\",\"name\":\"mlp\",\"text\":[\"mlp\"],\"x\":[0.00020057801814907692],\"y\":[0.9777777777777775],\"type\":\"scatter\"},{\"marker\":{\"color\":\"rgb(31, 119, 180)\",\"opacity\":0.8,\"size\":12,\"symbol\":\"diamond\"},\"mode\":\"markers\",\"name\":\"random-forest\",\"text\":[\"random-forest\"],\"x\":[0.0009765625],\"y\":[0.9333333333333332],\"type\":\"scatter\"},{\"marker\":{\"color\":\"rgb(31, 119, 180)\",\"opacity\":0.8,\"size\":12,\"symbol\":\"cross\"},\"mode\":\"markers\",\"name\":\"svm\",\"text\":[\"svm\"],\"x\":[2.684353304263061e-05],\"y\":[1.0],\"type\":\"scatter\"},{\"marker\":{\"color\":\"rgb(31, 119, 180)\",\"opacity\":0.8,\"size\":12,\"symbol\":\"x\"},\"mode\":\"markers\",\"name\":\"wisard\",\"text\":[\"wisard\"],\"x\":[9.970039884810287e-06],\"y\":[1.0],\"type\":\"scatter\"}],                        {\"hovermode\":\"closest\",\"title\":{\"text\":\"Relative Size vs. Metric\"},\"xaxis\":{\"title\":{\"text\":\"Relative Size\"}},\"yaxis\":{\"title\":{\"text\":\"Metric\"}},\"template\":{\"data\":{\"histogram2dcontour\":[{\"type\":\"histogram2dcontour\",\"colorbar\":{\"outlinewidth\":0,\"ticks\":\"\"},\"colorscale\":[[0.0,\"#0d0887\"],[0.1111111111111111,\"#46039f\"],[0.2222222222222222,\"#7201a8\"],[0.3333333333333333,\"#9c179e\"],[0.4444444444444444,\"#bd3786\"],[0.5555555555555556,\"#d8576b\"],[0.6666666666666666,\"#ed7953\"],[0.7777777777777778,\"#fb9f3a\"],[0.8888888888888888,\"#fdca26\"],[1.0,\"#f0f921\"]]}],\"choropleth\":[{\"type\":\"choropleth\",\"colorbar\":{\"outlinewidth\":0,\"ticks\":\"\"}}],\"histogram2d\":[{\"type\":\"histogram2d\",\"colorbar\":{\"outlinewidth\":0,\"ticks\":\"\"},\"colorscale\":[[0.0,\"#0d0887\"],[0.1111111111111111,\"#46039f\"],[0.2222222222222222,\"#7201a8\"],[0.3333333333333333,\"#9c179e\"],[0.4444444444444444,\"#bd3786\"],[0.5555555555555556,\"#d8576b\"],[0.6666666666666666,\"#ed7953\"],[0.7777777777777778,\"#fb9f3a\"],[0.8888888888888888,\"#fdca26\"],[1.0,\"#f0f921\"]]}],\"heatmap\":[{\"type\":\"heatmap\",\"colorbar\":{\"outlinewidth\":0,\"ticks\":\"\"},\"colorscale\":[[0.0,\"#0d0887\"],[0.1111111111111111,\"#46039f\"],[0.2222222222222222,\"#7201a8\"],[0.3333333333333333,\"#9c179e\"],[0.4444444444444444,\"#bd3786\"],[0.5555555555555556,\"#d8576b\"],[0.6666666666666666,\"#ed7953\"],[0.7777777777777778,\"#fb9f3a\"],[0.8888888888888888,\"#fdca26\"],[1.0,\"#f0f921\"]]}],\"heatmapgl\":[{\"type\":\"heatmapgl\",\"colorbar\":{\"outlinewidth\":0,\"ticks\":\"\"},\"colorscale\":[[0.0,\"#0d0887\"],[0.1111111111111111,\"#46039f\"],[0.2222222222222222,\"#7201a8\"],[0.3333333333333333,\"#9c179e\"],[0.4444444444444444,\"#bd3786\"],[0.5555555555555556,\"#d8576b\"],[0.6666666666666666,\"#ed7953\"],[0.7777777777777778,\"#fb9f3a\"],[0.8888888888888888,\"#fdca26\"],[1.0,\"#f0f921\"]]}],\"contourcarpet\":[{\"type\":\"contourcarpet\",\"colorbar\":{\"outlinewidth\":0,\"ticks\":\"\"}}],\"contour\":[{\"type\":\"contour\",\"colorbar\":{\"outlinewidth\":0,\"ticks\":\"\"},\"colorscale\":[[0.0,\"#0d0887\"],[0.1111111111111111,\"#46039f\"],[0.2222222222222222,\"#7201a8\"],[0.3333333333333333,\"#9c179e\"],[0.4444444444444444,\"#bd3786\"],[0.5555555555555556,\"#d8576b\"],[0.6666666666666666,\"#ed7953\"],[0.7777777777777778,\"#fb9f3a\"],[0.8888888888888888,\"#fdca26\"],[1.0,\"#f0f921\"]]}],\"surface\":[{\"type\":\"surface\",\"colorbar\":{\"outlinewidth\":0,\"ticks\":\"\"},\"colorscale\":[[0.0,\"#0d0887\"],[0.1111111111111111,\"#46039f\"],[0.2222222222222222,\"#7201a8\"],[0.3333333333333333,\"#9c179e\"],[0.4444444444444444,\"#bd3786\"],[0.5555555555555556,\"#d8576b\"],[0.6666666666666666,\"#ed7953\"],[0.7777777777777778,\"#fb9f3a\"],[0.8888888888888888,\"#fdca26\"],[1.0,\"#f0f921\"]]}],\"mesh3d\":[{\"type\":\"mesh3d\",\"colorbar\":{\"outlinewidth\":0,\"ticks\":\"\"}}],\"scatter\":[{\"fillpattern\":{\"fillmode\":\"overlay\",\"size\":10,\"solidity\":0.2},\"type\":\"scatter\"}],\"parcoords\":[{\"type\":\"parcoords\",\"line\":{\"colorbar\":{\"outlinewidth\":0,\"ticks\":\"\"}}}],\"scatterpolargl\":[{\"type\":\"scatterpolargl\",\"marker\":{\"colorbar\":{\"outlinewidth\":0,\"ticks\":\"\"}}}],\"bar\":[{\"error_x\":{\"color\":\"#2a3f5f\"},\"error_y\":{\"color\":\"#2a3f5f\"},\"marker\":{\"line\":{\"color\":\"#E5ECF6\",\"width\":0.5},\"pattern\":{\"fillmode\":\"overlay\",\"size\":10,\"solidity\":0.2}},\"type\":\"bar\"}],\"scattergeo\":[{\"type\":\"scattergeo\",\"marker\":{\"colorbar\":{\"outlinewidth\":0,\"ticks\":\"\"}}}],\"scatterpolar\":[{\"type\":\"scatterpolar\",\"marker\":{\"colorbar\":{\"outlinewidth\":0,\"ticks\":\"\"}}}],\"histogram\":[{\"marker\":{\"pattern\":{\"fillmode\":\"overlay\",\"size\":10,\"solidity\":0.2}},\"type\":\"histogram\"}],\"scattergl\":[{\"type\":\"scattergl\",\"marker\":{\"colorbar\":{\"outlinewidth\":0,\"ticks\":\"\"}}}],\"scatter3d\":[{\"type\":\"scatter3d\",\"line\":{\"colorbar\":{\"outlinewidth\":0,\"ticks\":\"\"}},\"marker\":{\"colorbar\":{\"outlinewidth\":0,\"ticks\":\"\"}}}],\"scattermapbox\":[{\"type\":\"scattermapbox\",\"marker\":{\"colorbar\":{\"outlinewidth\":0,\"ticks\":\"\"}}}],\"scatterternary\":[{\"type\":\"scatterternary\",\"marker\":{\"colorbar\":{\"outlinewidth\":0,\"ticks\":\"\"}}}],\"scattercarpet\":[{\"type\":\"scattercarpet\",\"marker\":{\"colorbar\":{\"outlinewidth\":0,\"ticks\":\"\"}}}],\"carpet\":[{\"aaxis\":{\"endlinecolor\":\"#2a3f5f\",\"gridcolor\":\"white\",\"linecolor\":\"white\",\"minorgridcolor\":\"white\",\"startlinecolor\":\"#2a3f5f\"},\"baxis\":{\"endlinecolor\":\"#2a3f5f\",\"gridcolor\":\"white\",\"linecolor\":\"white\",\"minorgridcolor\":\"white\",\"startlinecolor\":\"#2a3f5f\"},\"type\":\"carpet\"}],\"table\":[{\"cells\":{\"fill\":{\"color\":\"#EBF0F8\"},\"line\":{\"color\":\"white\"}},\"header\":{\"fill\":{\"color\":\"#C8D4E3\"},\"line\":{\"color\":\"white\"}},\"type\":\"table\"}],\"barpolar\":[{\"marker\":{\"line\":{\"color\":\"#E5ECF6\",\"width\":0.5},\"pattern\":{\"fillmode\":\"overlay\",\"size\":10,\"solidity\":0.2}},\"type\":\"barpolar\"}],\"pie\":[{\"automargin\":true,\"type\":\"pie\"}]},\"layout\":{\"autotypenumbers\":\"strict\",\"colorway\":[\"#636efa\",\"#EF553B\",\"#00cc96\",\"#ab63fa\",\"#FFA15A\",\"#19d3f3\",\"#FF6692\",\"#B6E880\",\"#FF97FF\",\"#FECB52\"],\"font\":{\"color\":\"#2a3f5f\"},\"hovermode\":\"closest\",\"hoverlabel\":{\"align\":\"left\"},\"paper_bgcolor\":\"white\",\"plot_bgcolor\":\"#E5ECF6\",\"polar\":{\"bgcolor\":\"#E5ECF6\",\"angularaxis\":{\"gridcolor\":\"white\",\"linecolor\":\"white\",\"ticks\":\"\"},\"radialaxis\":{\"gridcolor\":\"white\",\"linecolor\":\"white\",\"ticks\":\"\"}},\"ternary\":{\"bgcolor\":\"#E5ECF6\",\"aaxis\":{\"gridcolor\":\"white\",\"linecolor\":\"white\",\"ticks\":\"\"},\"baxis\":{\"gridcolor\":\"white\",\"linecolor\":\"white\",\"ticks\":\"\"},\"caxis\":{\"gridcolor\":\"white\",\"linecolor\":\"white\",\"ticks\":\"\"}},\"coloraxis\":{\"colorbar\":{\"outlinewidth\":0,\"ticks\":\"\"}},\"colorscale\":{\"sequential\":[[0.0,\"#0d0887\"],[0.1111111111111111,\"#46039f\"],[0.2222222222222222,\"#7201a8\"],[0.3333333333333333,\"#9c179e\"],[0.4444444444444444,\"#bd3786\"],[0.5555555555555556,\"#d8576b\"],[0.6666666666666666,\"#ed7953\"],[0.7777777777777778,\"#fb9f3a\"],[0.8888888888888888,\"#fdca26\"],[1.0,\"#f0f921\"]],\"sequentialminus\":[[0.0,\"#0d0887\"],[0.1111111111111111,\"#46039f\"],[0.2222222222222222,\"#7201a8\"],[0.3333333333333333,\"#9c179e\"],[0.4444444444444444,\"#bd3786\"],[0.5555555555555556,\"#d8576b\"],[0.6666666666666666,\"#ed7953\"],[0.7777777777777778,\"#fb9f3a\"],[0.8888888888888888,\"#fdca26\"],[1.0,\"#f0f921\"]],\"diverging\":[[0,\"#8e0152\"],[0.1,\"#c51b7d\"],[0.2,\"#de77ae\"],[0.3,\"#f1b6da\"],[0.4,\"#fde0ef\"],[0.5,\"#f7f7f7\"],[0.6,\"#e6f5d0\"],[0.7,\"#b8e186\"],[0.8,\"#7fbc41\"],[0.9,\"#4d9221\"],[1,\"#276419\"]]},\"xaxis\":{\"gridcolor\":\"white\",\"linecolor\":\"white\",\"ticks\":\"\",\"title\":{\"standoff\":15},\"zerolinecolor\":\"white\",\"automargin\":true,\"zerolinewidth\":2},\"yaxis\":{\"gridcolor\":\"white\",\"linecolor\":\"white\",\"ticks\":\"\",\"title\":{\"standoff\":15},\"zerolinecolor\":\"white\",\"automargin\":true,\"zerolinewidth\":2},\"scene\":{\"xaxis\":{\"backgroundcolor\":\"#E5ECF6\",\"gridcolor\":\"white\",\"linecolor\":\"white\",\"showbackground\":true,\"ticks\":\"\",\"zerolinecolor\":\"white\",\"gridwidth\":2},\"yaxis\":{\"backgroundcolor\":\"#E5ECF6\",\"gridcolor\":\"white\",\"linecolor\":\"white\",\"showbackground\":true,\"ticks\":\"\",\"zerolinecolor\":\"white\",\"gridwidth\":2},\"zaxis\":{\"backgroundcolor\":\"#E5ECF6\",\"gridcolor\":\"white\",\"linecolor\":\"white\",\"showbackground\":true,\"ticks\":\"\",\"zerolinecolor\":\"white\",\"gridwidth\":2}},\"shapedefaults\":{\"line\":{\"color\":\"#2a3f5f\"}},\"annotationdefaults\":{\"arrowcolor\":\"#2a3f5f\",\"arrowhead\":0,\"arrowwidth\":1},\"geo\":{\"bgcolor\":\"white\",\"landcolor\":\"#E5ECF6\",\"subunitcolor\":\"white\",\"showland\":true,\"showlakes\":true,\"lakecolor\":\"white\"},\"title\":{\"x\":0.05},\"mapbox\":{\"style\":\"light\"}}}},                        {\"responsive\": true}                    ).then(function(){\n",
       "                            \n",
       "var gd = document.getElementById('78277998-dacb-4e18-bfb5-080ff35e7107');\n",
       "var x = new MutationObserver(function (mutations, observer) {{\n",
       "        var display = window.getComputedStyle(gd).display;\n",
       "        if (!display || display === 'none') {{\n",
       "            console.log([gd, 'removed!']);\n",
       "            Plotly.purge(gd);\n",
       "            observer.disconnect();\n",
       "        }}\n",
       "}});\n",
       "\n",
       "// Listen for the removal of the full notebook cells\n",
       "var notebookContainer = gd.closest('#notebook-container');\n",
       "if (notebookContainer) {{\n",
       "    x.observe(notebookContainer, {childList: true});\n",
       "}}\n",
       "\n",
       "// Listen for the clearing of the current output cell\n",
       "var outputEl = gd.closest('.output');\n",
       "if (outputEl) {{\n",
       "    x.observe(outputEl, {childList: true});\n",
       "}}\n",
       "\n",
       "                        })                };                });            </script>        </div>"
      ]
     },
     "metadata": {},
     "output_type": "display_data"
    }
   ],
   "source": [
    "data = result_df[result_df.dataset == \"iris\"]\n",
    "\n",
    "import plotly.express as px\n",
    "import plotly.graph_objs as go\n",
    "\n",
    "# Define marker symbols for each model\n",
    "marker_symbols = {\n",
    "    \"knn\": \"circle\",\n",
    "    \"mlp\": \"square\",\n",
    "    \"random-forest\": \"diamond\",\n",
    "    \"svm\": \"cross\",\n",
    "    \"wisard\": \"x\"\n",
    "}\n",
    "\n",
    "# Create trace\n",
    "traces = []\n",
    "for model in data['model'].unique():\n",
    "    model_data = data[data['model'] == model]\n",
    "    trace = go.Scatter(\n",
    "        x=model_data['relative size'],\n",
    "        y=model_data['metric'],\n",
    "        mode='markers',\n",
    "        text=model_data['model'],\n",
    "        marker=dict(\n",
    "            symbol=marker_symbols[model],\n",
    "            size=12,\n",
    "            opacity=0.8,\n",
    "            color=px.co\n",
    "        ),\n",
    "        name=model\n",
    "    )\n",
    "    traces.append(trace)\n",
    "\n",
    "# Create layout\n",
    "layout = go.Layout(\n",
    "    title='Relative Size vs. Metric',\n",
    "    xaxis=dict(title='Relative Size'),\n",
    "    yaxis=dict(title='Metric'),\n",
    "    hovermode='closest'\n",
    ")\n",
    "\n",
    "# Create figure\n",
    "fig = go.Figure(data=traces, layout=layout)\n",
    "\n",
    "# Show plot\n",
    "fig.show()\n",
    "\n"
   ]
  },
  {
   "cell_type": "code",
   "execution_count": 30,
   "metadata": {},
   "outputs": [
    {
     "data": {
      "application/vnd.plotly.v1+json": {
       "config": {
        "plotlyServerURL": "https://plot.ly"
       },
       "data": [
        {
         "hovertemplate": "model=knn<br>dataset=breast_cancer<br>relative size=%{x}<br>metric=%{y}<extra></extra>",
         "legendgroup": "knn",
         "marker": {
          "color": "#636efa",
          "symbol": "circle"
         },
         "mode": "markers",
         "name": "knn",
         "orientation": "v",
         "showlegend": true,
         "type": "scatter",
         "x": [
          0.00034258940170004874
         ],
         "xaxis": "x13",
         "y": [
          0.9178579163959281
         ],
         "yaxis": "y13"
        },
        {
         "hovertemplate": "model=knn<br>dataset=dry_bean<br>relative size=%{x}<br>metric=%{y}<extra></extra>",
         "legendgroup": "knn",
         "marker": {
          "color": "#636efa",
          "symbol": "circle"
         },
         "mode": "markers",
         "name": "knn",
         "orientation": "v",
         "showlegend": false,
         "type": "scatter",
         "x": [
          0.00010196133028649406
         ],
         "xaxis": "x14",
         "y": [
          0.7175232545997096
         ],
         "yaxis": "y14"
        },
        {
         "hovertemplate": "model=knn<br>dataset=glass<br>relative size=%{x}<br>metric=%{y}<extra></extra>",
         "legendgroup": "knn",
         "marker": {
          "color": "#636efa",
          "symbol": "circle"
         },
         "mode": "markers",
         "name": "knn",
         "orientation": "v",
         "showlegend": false,
         "type": "scatter",
         "x": [
          0.00003478241665730713
         ],
         "xaxis": "x15",
         "y": [
          0.7092884420543996
         ],
         "yaxis": "y15"
        },
        {
         "hovertemplate": "model=knn<br>dataset=image_segmentation<br>relative size=%{x}<br>metric=%{y}<extra></extra>",
         "legendgroup": "knn",
         "marker": {
          "color": "#636efa",
          "symbol": "circle"
         },
         "mode": "markers",
         "name": "knn",
         "orientation": "v",
         "showlegend": false,
         "type": "scatter",
         "x": [
          0.00005419660264006615
         ],
         "xaxis": "x16",
         "y": [
          0.5476190476190477
         ],
         "yaxis": "y16"
        },
        {
         "hovertemplate": "model=knn<br>dataset=iris<br>relative size=%{x}<br>metric=%{y}<extra></extra>",
         "legendgroup": "knn",
         "marker": {
          "color": "#636efa",
          "symbol": "circle"
         },
         "mode": "markers",
         "name": "knn",
         "orientation": "v",
         "showlegend": false,
         "type": "scatter",
         "x": [
          0.00007201391782687314
         ],
         "xaxis": "x9",
         "y": [
          0.9555555555555556
         ],
         "yaxis": "y9"
        },
        {
         "hovertemplate": "model=knn<br>dataset=letter<br>relative size=%{x}<br>metric=%{y}<extra></extra>",
         "legendgroup": "knn",
         "marker": {
          "color": "#636efa",
          "symbol": "circle"
         },
         "mode": "markers",
         "name": "knn",
         "orientation": "v",
         "showlegend": false,
         "type": "scatter",
         "x": [
          0.0000178485213036232
         ],
         "xaxis": "x10",
         "y": [
          0.9455
         ],
         "yaxis": "y10"
        },
        {
         "hovertemplate": "model=knn<br>dataset=motion_sense<br>relative size=%{x}<br>metric=%{y}<extra></extra>",
         "legendgroup": "knn",
         "marker": {
          "color": "#636efa",
          "symbol": "circle"
         },
         "mode": "markers",
         "name": "knn",
         "orientation": "v",
         "showlegend": false,
         "type": "scatter",
         "x": [
          0.0002894861295252612
         ],
         "xaxis": "x11",
         "y": [
          0.5049019607843137
         ],
         "yaxis": "y11"
        },
        {
         "hovertemplate": "model=knn<br>dataset=optical_handwritten<br>relative size=%{x}<br>metric=%{y}<extra></extra>",
         "legendgroup": "knn",
         "marker": {
          "color": "#636efa",
          "symbol": "circle"
         },
         "mode": "markers",
         "name": "knn",
         "orientation": "v",
         "showlegend": false,
         "type": "scatter",
         "x": [
          0.00012985115772909744
         ],
         "xaxis": "x12",
         "y": [
          0.988428941906149
         ],
         "yaxis": "y12"
        },
        {
         "hovertemplate": "model=knn<br>dataset=rice<br>relative size=%{x}<br>metric=%{y}<extra></extra>",
         "legendgroup": "knn",
         "marker": {
          "color": "#636efa",
          "symbol": "circle"
         },
         "mode": "markers",
         "name": "knn",
         "orientation": "v",
         "showlegend": false,
         "type": "scatter",
         "x": [
          0.00013946467330868531
         ],
         "xaxis": "x5",
         "y": [
          0.8636907391101323
         ],
         "yaxis": "y5"
        },
        {
         "hovertemplate": "model=knn<br>dataset=satimage<br>relative size=%{x}<br>metric=%{y}<extra></extra>",
         "legendgroup": "knn",
         "marker": {
          "color": "#636efa",
          "symbol": "circle"
         },
         "mode": "markers",
         "name": "knn",
         "orientation": "v",
         "showlegend": false,
         "type": "scatter",
         "x": [
          0.00015859460097506831
         ],
         "xaxis": "x6",
         "y": [
          0.9025045416497844
         ],
         "yaxis": "y6"
        },
        {
         "hovertemplate": "model=knn<br>dataset=segment<br>relative size=%{x}<br>metric=%{y}<extra></extra>",
         "legendgroup": "knn",
         "marker": {
          "color": "#636efa",
          "symbol": "circle"
         },
         "mode": "markers",
         "name": "knn",
         "orientation": "v",
         "showlegend": false,
         "type": "scatter",
         "x": [
          0.00014294526262486636
         ],
         "xaxis": "x7",
         "y": [
          0.9336219336219336
         ],
         "yaxis": "y7"
        },
        {
         "hovertemplate": "model=knn<br>dataset=sepsis<br>relative size=%{x}<br>metric=%{y}<extra></extra>",
         "legendgroup": "knn",
         "marker": {
          "color": "#636efa",
          "symbol": "circle"
         },
         "mode": "markers",
         "name": "knn",
         "orientation": "v",
         "showlegend": false,
         "type": "scatter",
         "x": [
          0.0006426240307781678
         ],
         "xaxis": "x8",
         "y": [
          0.8909546104108189
         ],
         "yaxis": "y8"
        },
        {
         "hovertemplate": "model=knn<br>dataset=vehicle<br>relative size=%{x}<br>metric=%{y}<extra></extra>",
         "legendgroup": "knn",
         "marker": {
          "color": "#636efa",
          "symbol": "circle"
         },
         "mode": "markers",
         "name": "knn",
         "orientation": "v",
         "showlegend": false,
         "type": "scatter",
         "x": [
          0.0001017587637543083
         ],
         "xaxis": "x",
         "y": [
          0.8176470588235295
         ],
         "yaxis": "y"
        },
        {
         "hovertemplate": "model=knn<br>dataset=wine<br>relative size=%{x}<br>metric=%{y}<extra></extra>",
         "legendgroup": "knn",
         "marker": {
          "color": "#636efa",
          "symbol": "circle"
         },
         "mode": "markers",
         "name": "knn",
         "orientation": "v",
         "showlegend": false,
         "type": "scatter",
         "x": [
          0.0001580453114944772
         ],
         "xaxis": "x2",
         "y": [
          0.6714063714063713
         ],
         "yaxis": "y2"
        },
        {
         "hovertemplate": "model=knn<br>dataset=yeast<br>relative size=%{x}<br>metric=%{y}<extra></extra>",
         "legendgroup": "knn",
         "marker": {
          "color": "#636efa",
          "symbol": "circle"
         },
         "mode": "markers",
         "name": "knn",
         "orientation": "v",
         "showlegend": false,
         "type": "scatter",
         "x": [
          0.00001650665376767161
         ],
         "xaxis": "x3",
         "y": [
          0.5463856770422707
         ],
         "yaxis": "y3"
        },
        {
         "hovertemplate": "model=mlp<br>dataset=breast_cancer<br>relative size=%{x}<br>metric=%{y}<extra></extra>",
         "legendgroup": "mlp",
         "marker": {
          "color": "#636efa",
          "symbol": "diamond"
         },
         "mode": "markers",
         "name": "mlp",
         "orientation": "v",
         "showlegend": true,
         "type": "scatter",
         "x": [
          0.00029355547485579946
         ],
         "xaxis": "x13",
         "y": [
          0.9103013945119208
         ],
         "yaxis": "y13"
        },
        {
         "hovertemplate": "model=mlp<br>dataset=dry_bean<br>relative size=%{x}<br>metric=%{y}<extra></extra>",
         "legendgroup": "mlp",
         "marker": {
          "color": "#636efa",
          "symbol": "diamond"
         },
         "mode": "markers",
         "name": "mlp",
         "orientation": "v",
         "showlegend": false,
         "type": "scatter",
         "x": [
          0.0000043508982932499024
         ],
         "xaxis": "x14",
         "y": [
          0.22507061835587583
         ],
         "yaxis": "y14"
        },
        {
         "hovertemplate": "model=mlp<br>dataset=glass<br>relative size=%{x}<br>metric=%{y}<extra></extra>",
         "legendgroup": "mlp",
         "marker": {
          "color": "#636efa",
          "symbol": "diamond"
         },
         "mode": "markers",
         "name": "mlp",
         "orientation": "v",
         "showlegend": false,
         "type": "scatter",
         "x": [
          0.00006197430858988603
         ],
         "xaxis": "x15",
         "y": [
          0.4554142391626345
         ],
         "yaxis": "y15"
        },
        {
         "hovertemplate": "model=mlp<br>dataset=image_segmentation<br>relative size=%{x}<br>metric=%{y}<extra></extra>",
         "legendgroup": "mlp",
         "marker": {
          "color": "#636efa",
          "symbol": "diamond"
         },
         "mode": "markers",
         "name": "mlp",
         "orientation": "v",
         "showlegend": false,
         "type": "scatter",
         "x": [
          0.00014409595078864647
         ],
         "xaxis": "x16",
         "y": [
          0.5555555555555555
         ],
         "yaxis": "y16"
        },
        {
         "hovertemplate": "model=mlp<br>dataset=iris<br>relative size=%{x}<br>metric=%{y}<extra></extra>",
         "legendgroup": "mlp",
         "marker": {
          "color": "#636efa",
          "symbol": "diamond"
         },
         "mode": "markers",
         "name": "mlp",
         "orientation": "v",
         "showlegend": false,
         "type": "scatter",
         "x": [
          0.00020057801814907692
         ],
         "xaxis": "x9",
         "y": [
          0.9777777777777775
         ],
         "yaxis": "y9"
        },
        {
         "hovertemplate": "model=mlp<br>dataset=letter<br>relative size=%{x}<br>metric=%{y}<extra></extra>",
         "legendgroup": "mlp",
         "marker": {
          "color": "#636efa",
          "symbol": "diamond"
         },
         "mode": "markers",
         "name": "mlp",
         "orientation": "v",
         "showlegend": false,
         "type": "scatter",
         "x": [
          0.0000010527122317972066
         ],
         "xaxis": "x10",
         "y": [
          0.9205
         ],
         "yaxis": "y10"
        },
        {
         "hovertemplate": "model=mlp<br>dataset=motion_sense<br>relative size=%{x}<br>metric=%{y}<extra></extra>",
         "legendgroup": "mlp",
         "marker": {
          "color": "#636efa",
          "symbol": "diamond"
         },
         "mode": "markers",
         "name": "mlp",
         "orientation": "v",
         "showlegend": false,
         "type": "scatter",
         "x": [
          0.000026109598229867597
         ],
         "xaxis": "x11",
         "y": [
          0.6565359477124183
         ],
         "yaxis": "y11"
        },
        {
         "hovertemplate": "model=mlp<br>dataset=optical_handwritten<br>relative size=%{x}<br>metric=%{y}<extra></extra>",
         "legendgroup": "mlp",
         "marker": {
          "color": "#636efa",
          "symbol": "diamond"
         },
         "mode": "markers",
         "name": "mlp",
         "orientation": "v",
         "showlegend": false,
         "type": "scatter",
         "x": [
          0.000010382977030769633
         ],
         "xaxis": "x12",
         "y": [
          0.981028439293471
         ],
         "yaxis": "y12"
        },
        {
         "hovertemplate": "model=mlp<br>dataset=rice<br>relative size=%{x}<br>metric=%{y}<extra></extra>",
         "legendgroup": "mlp",
         "marker": {
          "color": "#636efa",
          "symbol": "diamond"
         },
         "mode": "markers",
         "name": "mlp",
         "orientation": "v",
         "showlegend": false,
         "type": "scatter",
         "x": [
          0.000009090938767724909
         ],
         "xaxis": "x5",
         "y": [
          0.4777329795241849
         ],
         "yaxis": "y5"
        },
        {
         "hovertemplate": "model=mlp<br>dataset=satimage<br>relative size=%{x}<br>metric=%{y}<extra></extra>",
         "legendgroup": "mlp",
         "marker": {
          "color": "#636efa",
          "symbol": "diamond"
         },
         "mode": "markers",
         "name": "mlp",
         "orientation": "v",
         "showlegend": false,
         "type": "scatter",
         "x": [
          0.00001329081428462245
         ],
         "xaxis": "x6",
         "y": [
          0.9116120122328867
         ],
         "yaxis": "y6"
        },
        {
         "hovertemplate": "model=mlp<br>dataset=segment<br>relative size=%{x}<br>metric=%{y}<extra></extra>",
         "legendgroup": "mlp",
         "marker": {
          "color": "#636efa",
          "symbol": "diamond"
         },
         "mode": "markers",
         "name": "mlp",
         "orientation": "v",
         "showlegend": false,
         "type": "scatter",
         "x": [
          0.00003989055651627694
         ],
         "xaxis": "x7",
         "y": [
          0.9422799422799423
         ],
         "yaxis": "y7"
        },
        {
         "hovertemplate": "model=mlp<br>dataset=sepsis<br>relative size=%{x}<br>metric=%{y}<extra></extra>",
         "legendgroup": "mlp",
         "marker": {
          "color": "#636efa",
          "symbol": "diamond"
         },
         "mode": "markers",
         "name": "mlp",
         "orientation": "v",
         "showlegend": false,
         "type": "scatter",
         "x": [
          0.0000018461849389593535
         ],
         "xaxis": "x8",
         "y": [
          0.8908920043310973
         ],
         "yaxis": "y8"
        },
        {
         "hovertemplate": "model=mlp<br>dataset=vehicle<br>relative size=%{x}<br>metric=%{y}<extra></extra>",
         "legendgroup": "mlp",
         "marker": {
          "color": "#636efa",
          "symbol": "diamond"
         },
         "mode": "markers",
         "name": "mlp",
         "orientation": "v",
         "showlegend": false,
         "type": "scatter",
         "x": [
          0.00005817316232568698
         ],
         "xaxis": "x",
         "y": [
          0.8176470588235295
         ],
         "yaxis": "y"
        },
        {
         "hovertemplate": "model=mlp<br>dataset=wine<br>relative size=%{x}<br>metric=%{y}<extra></extra>",
         "legendgroup": "mlp",
         "marker": {
          "color": "#636efa",
          "symbol": "diamond"
         },
         "mode": "markers",
         "name": "mlp",
         "orientation": "v",
         "showlegend": false,
         "type": "scatter",
         "x": [
          0.0002534566494398084
         ],
         "xaxis": "x2",
         "y": [
          0.8883769948810599
         ],
         "yaxis": "y2"
        },
        {
         "hovertemplate": "model=mlp<br>dataset=yeast<br>relative size=%{x}<br>metric=%{y}<extra></extra>",
         "legendgroup": "mlp",
         "marker": {
          "color": "#636efa",
          "symbol": "diamond"
         },
         "mode": "markers",
         "name": "mlp",
         "orientation": "v",
         "showlegend": false,
         "type": "scatter",
         "x": [
          0.00000490971548468113
         ],
         "xaxis": "x3",
         "y": [
          0.5895877432143035
         ],
         "yaxis": "y3"
        },
        {
         "hovertemplate": "model=random-forest<br>dataset=breast_cancer<br>relative size=%{x}<br>metric=%{y}<extra></extra>",
         "legendgroup": "random-forest",
         "marker": {
          "color": "#636efa",
          "symbol": "square"
         },
         "mode": "markers",
         "name": "random-forest",
         "orientation": "v",
         "showlegend": true,
         "type": "scatter",
         "x": [
          0.0009765625
         ],
         "xaxis": "x13",
         "y": [
          0.9708871747643292
         ],
         "yaxis": "y13"
        },
        {
         "hovertemplate": "model=random-forest<br>dataset=dry_bean<br>relative size=%{x}<br>metric=%{y}<extra></extra>",
         "legendgroup": "random-forest",
         "marker": {
          "color": "#636efa",
          "symbol": "square"
         },
         "mode": "markers",
         "name": "random-forest",
         "orientation": "v",
         "showlegend": false,
         "type": "scatter",
         "x": [
          0.0009765625
         ],
         "xaxis": "x14",
         "y": [
          0.9198474773426017
         ],
         "yaxis": "y14"
        },
        {
         "hovertemplate": "model=random-forest<br>dataset=glass<br>relative size=%{x}<br>metric=%{y}<extra></extra>",
         "legendgroup": "random-forest",
         "marker": {
          "color": "#636efa",
          "symbol": "square"
         },
         "mode": "markers",
         "name": "random-forest",
         "orientation": "v",
         "showlegend": false,
         "type": "scatter",
         "x": [
          0.0009765625
         ],
         "xaxis": "x15",
         "y": [
          0.7060178946619377
         ],
         "yaxis": "y15"
        },
        {
         "hovertemplate": "model=random-forest<br>dataset=image_segmentation<br>relative size=%{x}<br>metric=%{y}<extra></extra>",
         "legendgroup": "random-forest",
         "marker": {
          "color": "#636efa",
          "symbol": "square"
         },
         "mode": "markers",
         "name": "random-forest",
         "orientation": "v",
         "showlegend": false,
         "type": "scatter",
         "x": [
          0.0009765625
         ],
         "xaxis": "x16",
         "y": [
          0.6190476190476191
         ],
         "yaxis": "y16"
        },
        {
         "hovertemplate": "model=random-forest<br>dataset=iris<br>relative size=%{x}<br>metric=%{y}<extra></extra>",
         "legendgroup": "random-forest",
         "marker": {
          "color": "#636efa",
          "symbol": "square"
         },
         "mode": "markers",
         "name": "random-forest",
         "orientation": "v",
         "showlegend": false,
         "type": "scatter",
         "x": [
          0.0009765625
         ],
         "xaxis": "x9",
         "y": [
          0.9333333333333332
         ],
         "yaxis": "y9"
        },
        {
         "hovertemplate": "model=random-forest<br>dataset=letter<br>relative size=%{x}<br>metric=%{y}<extra></extra>",
         "legendgroup": "random-forest",
         "marker": {
          "color": "#636efa",
          "symbol": "square"
         },
         "mode": "markers",
         "name": "random-forest",
         "orientation": "v",
         "showlegend": false,
         "type": "scatter",
         "x": [
          0.0009765625
         ],
         "xaxis": "x10",
         "y": [
          0.9607222222222221
         ],
         "yaxis": "y10"
        },
        {
         "hovertemplate": "model=random-forest<br>dataset=motion_sense<br>relative size=%{x}<br>metric=%{y}<extra></extra>",
         "legendgroup": "random-forest",
         "marker": {
          "color": "#636efa",
          "symbol": "square"
         },
         "mode": "markers",
         "name": "random-forest",
         "orientation": "v",
         "showlegend": false,
         "type": "scatter",
         "x": [
          0.00027713921101041696
         ],
         "xaxis": "x11",
         "y": [
          0.8078431372549019
         ],
         "yaxis": "y11"
        },
        {
         "hovertemplate": "model=random-forest<br>dataset=optical_handwritten<br>relative size=%{x}<br>metric=%{y}<extra></extra>",
         "legendgroup": "random-forest",
         "marker": {
          "color": "#636efa",
          "symbol": "square"
         },
         "mode": "markers",
         "name": "random-forest",
         "orientation": "v",
         "showlegend": false,
         "type": "scatter",
         "x": [
          0.000657436768044853
         ],
         "xaxis": "x12",
         "y": [
          0.9827979576880973
         ],
         "yaxis": "y12"
        },
        {
         "hovertemplate": "model=random-forest<br>dataset=rice<br>relative size=%{x}<br>metric=%{y}<extra></extra>",
         "legendgroup": "random-forest",
         "marker": {
          "color": "#636efa",
          "symbol": "square"
         },
         "mode": "markers",
         "name": "random-forest",
         "orientation": "v",
         "showlegend": false,
         "type": "scatter",
         "x": [
          0.0009765625
         ],
         "xaxis": "x5",
         "y": [
          0.9152644340920002
         ],
         "yaxis": "y5"
        },
        {
         "hovertemplate": "model=random-forest<br>dataset=satimage<br>relative size=%{x}<br>metric=%{y}<extra></extra>",
         "legendgroup": "random-forest",
         "marker": {
          "color": "#636efa",
          "symbol": "square"
         },
         "mode": "markers",
         "name": "random-forest",
         "orientation": "v",
         "showlegend": false,
         "type": "scatter",
         "x": [
          0.0009765625
         ],
         "xaxis": "x6",
         "y": [
          0.910574331227231
         ],
         "yaxis": "y6"
        },
        {
         "hovertemplate": "model=random-forest<br>dataset=segment<br>relative size=%{x}<br>metric=%{y}<extra></extra>",
         "legendgroup": "random-forest",
         "marker": {
          "color": "#636efa",
          "symbol": "square"
         },
         "mode": "markers",
         "name": "random-forest",
         "orientation": "v",
         "showlegend": false,
         "type": "scatter",
         "x": [
          0.0009765625
         ],
         "xaxis": "x7",
         "y": [
          0.9716209716209715
         ],
         "yaxis": "y7"
        },
        {
         "hovertemplate": "model=random-forest<br>dataset=sepsis<br>relative size=%{x}<br>metric=%{y}<extra></extra>",
         "legendgroup": "random-forest",
         "marker": {
          "color": "#636efa",
          "symbol": "square"
         },
         "mode": "markers",
         "name": "random-forest",
         "orientation": "v",
         "showlegend": false,
         "type": "scatter",
         "x": [
          0.0009765625
         ],
         "xaxis": "x8",
         "y": [
          0.8908090454440197
         ],
         "yaxis": "y8"
        },
        {
         "hovertemplate": "model=random-forest<br>dataset=vehicle<br>relative size=%{x}<br>metric=%{y}<extra></extra>",
         "legendgroup": "random-forest",
         "marker": {
          "color": "#636efa",
          "symbol": "square"
         },
         "mode": "markers",
         "name": "random-forest",
         "orientation": "v",
         "showlegend": false,
         "type": "scatter",
         "x": [
          0.0009765625
         ],
         "xaxis": "x",
         "y": [
          0.9686274509803922
         ],
         "yaxis": "y"
        },
        {
         "hovertemplate": "model=random-forest<br>dataset=wine<br>relative size=%{x}<br>metric=%{y}<extra></extra>",
         "legendgroup": "random-forest",
         "marker": {
          "color": "#636efa",
          "symbol": "square"
         },
         "mode": "markers",
         "name": "random-forest",
         "orientation": "v",
         "showlegend": false,
         "type": "scatter",
         "x": [
          0.0009765625
         ],
         "xaxis": "x2",
         "y": [
          0.9815543316723488
         ],
         "yaxis": "y2"
        },
        {
         "hovertemplate": "model=random-forest<br>dataset=yeast<br>relative size=%{x}<br>metric=%{y}<extra></extra>",
         "legendgroup": "random-forest",
         "marker": {
          "color": "#636efa",
          "symbol": "square"
         },
         "mode": "markers",
         "name": "random-forest",
         "orientation": "v",
         "showlegend": false,
         "type": "scatter",
         "x": [
          0.0009765625
         ],
         "xaxis": "x3",
         "y": [
          0.6207256954912499
         ],
         "yaxis": "y3"
        },
        {
         "hovertemplate": "model=svm<br>dataset=breast_cancer<br>relative size=%{x}<br>metric=%{y}<extra></extra>",
         "legendgroup": "svm",
         "marker": {
          "color": "#636efa",
          "symbol": "x"
         },
         "mode": "markers",
         "name": "svm",
         "orientation": "v",
         "showlegend": true,
         "type": "scatter",
         "x": [
          0.00009385874059254605
         ],
         "xaxis": "x13",
         "y": [
          0.8730641381054367
         ],
         "yaxis": "y13"
        },
        {
         "hovertemplate": "model=svm<br>dataset=dry_bean<br>relative size=%{x}<br>metric=%{y}<extra></extra>",
         "legendgroup": "svm",
         "marker": {
          "color": "#636efa",
          "symbol": "x"
         },
         "mode": "markers",
         "name": "svm",
         "orientation": "v",
         "showlegend": false,
         "type": "scatter",
         "x": [
          0.00010348521718653581
         ],
         "xaxis": "x14",
         "y": [
          0.6014133504868324
         ],
         "yaxis": "y14"
        },
        {
         "hovertemplate": "model=svm<br>dataset=glass<br>relative size=%{x}<br>metric=%{y}<extra></extra>",
         "legendgroup": "svm",
         "marker": {
          "color": "#636efa",
          "symbol": "x"
         },
         "mode": "markers",
         "name": "svm",
         "orientation": "v",
         "showlegend": false,
         "type": "scatter",
         "x": [
          0.000024892533816104802
         ],
         "xaxis": "x15",
         "y": [
          0.1849650349650349
         ],
         "yaxis": "y15"
        },
        {
         "hovertemplate": "model=svm<br>dataset=image_segmentation<br>relative size=%{x}<br>metric=%{y}<extra></extra>",
         "legendgroup": "svm",
         "marker": {
          "color": "#636efa",
          "symbol": "x"
         },
         "mode": "markers",
         "name": "svm",
         "orientation": "v",
         "showlegend": false,
         "type": "scatter",
         "x": [
          0.000058238163386535706
         ],
         "xaxis": "x16",
         "y": [
          0.5
         ],
         "yaxis": "y16"
        },
        {
         "hovertemplate": "model=svm<br>dataset=iris<br>relative size=%{x}<br>metric=%{y}<extra></extra>",
         "legendgroup": "svm",
         "marker": {
          "color": "#636efa",
          "symbol": "x"
         },
         "mode": "markers",
         "name": "svm",
         "orientation": "v",
         "showlegend": false,
         "type": "scatter",
         "x": [
          0.00002684353304263061
         ],
         "xaxis": "x9",
         "y": [
          1
         ],
         "yaxis": "y9"
        },
        {
         "hovertemplate": "model=svm<br>dataset=letter<br>relative size=%{x}<br>metric=%{y}<extra></extra>",
         "legendgroup": "svm",
         "marker": {
          "color": "#636efa",
          "symbol": "x"
         },
         "mode": "markers",
         "name": "svm",
         "orientation": "v",
         "showlegend": false,
         "type": "scatter",
         "x": [
          0.00002558845844113261
         ],
         "xaxis": "x10",
         "y": [
          0.92
         ],
         "yaxis": "y10"
        },
        {
         "hovertemplate": "model=svm<br>dataset=motion_sense<br>relative size=%{x}<br>metric=%{y}<extra></extra>",
         "legendgroup": "svm",
         "marker": {
          "color": "#636efa",
          "symbol": "x"
         },
         "mode": "markers",
         "name": "svm",
         "orientation": "v",
         "showlegend": false,
         "type": "scatter",
         "x": [
          0.0002538889084446069
         ],
         "xaxis": "x11",
         "y": [
          0.538235294117647
         ],
         "yaxis": "y11"
        },
        {
         "hovertemplate": "model=svm<br>dataset=optical_handwritten<br>relative size=%{x}<br>metric=%{y}<extra></extra>",
         "legendgroup": "svm",
         "marker": {
          "color": "#636efa",
          "symbol": "x"
         },
         "mode": "markers",
         "name": "svm",
         "orientation": "v",
         "showlegend": false,
         "type": "scatter",
         "x": [
          0.00004070695485162407
         ],
         "xaxis": "x12",
         "y": [
          0.9919918925110768
         ],
         "yaxis": "y12"
        },
        {
         "hovertemplate": "model=svm<br>dataset=rice<br>relative size=%{x}<br>metric=%{y}<extra></extra>",
         "legendgroup": "svm",
         "marker": {
          "color": "#636efa",
          "symbol": "x"
         },
         "mode": "markers",
         "name": "svm",
         "orientation": "v",
         "showlegend": false,
         "type": "scatter",
         "x": [
          0.000025673499192653285
         ],
         "xaxis": "x5",
         "y": [
          0.867169718729999
         ],
         "yaxis": "y5"
        },
        {
         "hovertemplate": "model=svm<br>dataset=satimage<br>relative size=%{x}<br>metric=%{y}<extra></extra>",
         "legendgroup": "svm",
         "marker": {
          "color": "#636efa",
          "symbol": "x"
         },
         "mode": "markers",
         "name": "svm",
         "orientation": "v",
         "showlegend": false,
         "type": "scatter",
         "x": [
          0.00005789554085155468
         ],
         "xaxis": "x6",
         "y": [
          0.892530243798912
         ],
         "yaxis": "y6"
        },
        {
         "hovertemplate": "model=svm<br>dataset=segment<br>relative size=%{x}<br>metric=%{y}<extra></extra>",
         "legendgroup": "svm",
         "marker": {
          "color": "#636efa",
          "symbol": "x"
         },
         "mode": "markers",
         "name": "svm",
         "orientation": "v",
         "showlegend": false,
         "type": "scatter",
         "x": [
          0.00009344590053289475
         ],
         "xaxis": "x7",
         "y": [
          0.8701298701298702
         ],
         "yaxis": "y7"
        },
        {
         "hovertemplate": "model=svm<br>dataset=sepsis<br>relative size=%{x}<br>metric=%{y}<extra></extra>",
         "legendgroup": "svm",
         "marker": {
          "color": "#636efa",
          "symbol": "x"
         },
         "mode": "markers",
         "name": "svm",
         "orientation": "v",
         "showlegend": false,
         "type": "scatter",
         "x": [
          0.0000617110561116046
         ],
         "xaxis": "x8",
         "y": [
          0.8908920043310973
         ],
         "yaxis": "y8"
        },
        {
         "hovertemplate": "model=svm<br>dataset=vehicle<br>relative size=%{x}<br>metric=%{y}<extra></extra>",
         "legendgroup": "svm",
         "marker": {
          "color": "#636efa",
          "symbol": "x"
         },
         "mode": "markers",
         "name": "svm",
         "orientation": "v",
         "showlegend": false,
         "type": "scatter",
         "x": [
          0.00008272252802742534
         ],
         "xaxis": "x",
         "y": [
          0.7176470588235294
         ],
         "yaxis": "y"
        },
        {
         "hovertemplate": "model=svm<br>dataset=wine<br>relative size=%{x}<br>metric=%{y}<extra></extra>",
         "legendgroup": "svm",
         "marker": {
          "color": "#636efa",
          "symbol": "x"
         },
         "mode": "markers",
         "name": "svm",
         "orientation": "v",
         "showlegend": false,
         "type": "scatter",
         "x": [
          0.00005819360138043444
         ],
         "xaxis": "x2",
         "y": [
          0.6486013986013985
         ],
         "yaxis": "y2"
        },
        {
         "hovertemplate": "model=svm<br>dataset=yeast<br>relative size=%{x}<br>metric=%{y}<extra></extra>",
         "legendgroup": "svm",
         "marker": {
          "color": "#636efa",
          "symbol": "x"
         },
         "mode": "markers",
         "name": "svm",
         "orientation": "v",
         "showlegend": false,
         "type": "scatter",
         "x": [
          0.000012715066705712857
         ],
         "xaxis": "x3",
         "y": [
          0.5992100016133695
         ],
         "yaxis": "y3"
        },
        {
         "hovertemplate": "model=wisard<br>dataset=breast_cancer<br>relative size=%{x}<br>metric=%{y}<extra></extra>",
         "legendgroup": "wisard",
         "marker": {
          "color": "#636efa",
          "symbol": "cross"
         },
         "mode": "markers",
         "name": "wisard",
         "orientation": "v",
         "showlegend": true,
         "type": "scatter",
         "x": [
          0.00032721688873317664
         ],
         "xaxis": "x13",
         "y": [
          0.9628161882204516
         ],
         "yaxis": "y13"
        },
        {
         "hovertemplate": "model=wisard<br>dataset=dry_bean<br>relative size=%{x}<br>metric=%{y}<extra></extra>",
         "legendgroup": "wisard",
         "marker": {
          "color": "#636efa",
          "symbol": "cross"
         },
         "mode": "markers",
         "name": "wisard",
         "orientation": "v",
         "showlegend": false,
         "type": "scatter",
         "x": [
          0.00003207232943563615
         ],
         "xaxis": "x14",
         "y": [
          0.9024029619050484
         ],
         "yaxis": "y14"
        },
        {
         "hovertemplate": "model=wisard<br>dataset=glass<br>relative size=%{x}<br>metric=%{y}<extra></extra>",
         "legendgroup": "wisard",
         "marker": {
          "color": "#636efa",
          "symbol": "cross"
         },
         "mode": "markers",
         "name": "wisard",
         "orientation": "v",
         "showlegend": false,
         "type": "scatter",
         "x": [
          0.00008950097296854158
         ],
         "xaxis": "x15",
         "y": [
          0.6615428500177969
         ],
         "yaxis": "y15"
        },
        {
         "hovertemplate": "model=wisard<br>dataset=image_segmentation<br>relative size=%{x}<br>metric=%{y}<extra></extra>",
         "legendgroup": "wisard",
         "marker": {
          "color": "#636efa",
          "symbol": "cross"
         },
         "mode": "markers",
         "name": "wisard",
         "orientation": "v",
         "showlegend": false,
         "type": "scatter",
         "x": [
          0.00038297373803650864
         ],
         "xaxis": "x16",
         "y": [
          0.8571428571428572
         ],
         "yaxis": "y16"
        },
        {
         "hovertemplate": "model=wisard<br>dataset=iris<br>relative size=%{x}<br>metric=%{y}<extra></extra>",
         "legendgroup": "wisard",
         "marker": {
          "color": "#636efa",
          "symbol": "cross"
         },
         "mode": "markers",
         "name": "wisard",
         "orientation": "v",
         "showlegend": false,
         "type": "scatter",
         "x": [
          0.000009970039884810287
         ],
         "xaxis": "x9",
         "y": [
          1
         ],
         "yaxis": "y9"
        },
        {
         "hovertemplate": "model=wisard<br>dataset=letter<br>relative size=%{x}<br>metric=%{y}<extra></extra>",
         "legendgroup": "wisard",
         "marker": {
          "color": "#636efa",
          "symbol": "cross"
         },
         "mode": "markers",
         "name": "wisard",
         "orientation": "v",
         "showlegend": false,
         "type": "scatter",
         "x": [
          0.00009726647683952998
         ],
         "xaxis": "x10",
         "y": [
          0.9000555555555557
         ],
         "yaxis": "y10"
        },
        {
         "hovertemplate": "model=wisard<br>dataset=motion_sense<br>relative size=%{x}<br>metric=%{y}<extra></extra>",
         "legendgroup": "wisard",
         "marker": {
          "color": "#636efa",
          "symbol": "cross"
         },
         "mode": "markers",
         "name": "wisard",
         "orientation": "v",
         "showlegend": false,
         "type": "scatter",
         "x": [
          0.0009765625
         ],
         "xaxis": "x11",
         "y": [
          0.65
         ],
         "yaxis": "y11"
        },
        {
         "hovertemplate": "model=wisard<br>dataset=optical_handwritten<br>relative size=%{x}<br>metric=%{y}<extra></extra>",
         "legendgroup": "wisard",
         "marker": {
          "color": "#636efa",
          "symbol": "cross"
         },
         "mode": "markers",
         "name": "wisard",
         "orientation": "v",
         "showlegend": false,
         "type": "scatter",
         "x": [
          0.0009765625
         ],
         "xaxis": "x12",
         "y": [
          0.9780450131673772
         ],
         "yaxis": "y12"
        },
        {
         "hovertemplate": "model=wisard<br>dataset=rice<br>relative size=%{x}<br>metric=%{y}<extra></extra>",
         "legendgroup": "wisard",
         "marker": {
          "color": "#636efa",
          "symbol": "cross"
         },
         "mode": "markers",
         "name": "wisard",
         "orientation": "v",
         "showlegend": false,
         "type": "scatter",
         "x": [
          5.073468710899227e-7
         ],
         "xaxis": "x5",
         "y": [
          0.8994465342855008
         ],
         "yaxis": "y5"
        },
        {
         "hovertemplate": "model=wisard<br>dataset=satimage<br>relative size=%{x}<br>metric=%{y}<extra></extra>",
         "legendgroup": "wisard",
         "marker": {
          "color": "#636efa",
          "symbol": "cross"
         },
         "mode": "markers",
         "name": "wisard",
         "orientation": "v",
         "showlegend": false,
         "type": "scatter",
         "x": [
          0.0006533707939737112
         ],
         "xaxis": "x6",
         "y": [
          0.8866629525557234
         ],
         "yaxis": "y6"
        },
        {
         "hovertemplate": "model=wisard<br>dataset=segment<br>relative size=%{x}<br>metric=%{y}<extra></extra>",
         "legendgroup": "wisard",
         "marker": {
          "color": "#636efa",
          "symbol": "cross"
         },
         "mode": "markers",
         "name": "wisard",
         "orientation": "v",
         "showlegend": false,
         "type": "scatter",
         "x": [
          0.00006648658724024085
         ],
         "xaxis": "x7",
         "y": [
          0.8807118807118807
         ],
         "yaxis": "y7"
        },
        {
         "hovertemplate": "model=wisard<br>dataset=sepsis<br>relative size=%{x}<br>metric=%{y}<extra></extra>",
         "legendgroup": "wisard",
         "marker": {
          "color": "#636efa",
          "symbol": "cross"
         },
         "mode": "markers",
         "name": "wisard",
         "orientation": "v",
         "showlegend": false,
         "type": "scatter",
         "x": [
          0.0000036949496996674712
         ],
         "xaxis": "x8",
         "y": [
          0.8915753747755484
         ],
         "yaxis": "y8"
        },
        {
         "hovertemplate": "model=wisard<br>dataset=vehicle<br>relative size=%{x}<br>metric=%{y}<extra></extra>",
         "legendgroup": "wisard",
         "marker": {
          "color": "#636efa",
          "symbol": "cross"
         },
         "mode": "markers",
         "name": "wisard",
         "orientation": "v",
         "showlegend": false,
         "type": "scatter",
         "x": [
          0.00029338397276791356
         ],
         "xaxis": "x",
         "y": [
          0.8941176470588235
         ],
         "yaxis": "y"
        },
        {
         "hovertemplate": "model=wisard<br>dataset=wine<br>relative size=%{x}<br>metric=%{y}<extra></extra>",
         "legendgroup": "wisard",
         "marker": {
          "color": "#636efa",
          "symbol": "cross"
         },
         "mode": "markers",
         "name": "wisard",
         "orientation": "v",
         "showlegend": false,
         "type": "scatter",
         "x": [
          0.00040011427794012667
         ],
         "xaxis": "x2",
         "y": [
          0.962856206024315
         ],
         "yaxis": "y2"
        },
        {
         "hovertemplate": "model=wisard<br>dataset=yeast<br>relative size=%{x}<br>metric=%{y}<extra></extra>",
         "legendgroup": "wisard",
         "marker": {
          "color": "#636efa",
          "symbol": "cross"
         },
         "mode": "markers",
         "name": "wisard",
         "orientation": "v",
         "showlegend": false,
         "type": "scatter",
         "x": [
          0.00004298275784045049
         ],
         "xaxis": "x3",
         "y": [
          0.5700237244955314
         ],
         "yaxis": "y3"
        }
       ],
       "layout": {
        "annotations": [
         {
          "font": {},
          "showarrow": false,
          "text": "dataset=vehicle",
          "x": 0.1175,
          "xanchor": "center",
          "xref": "paper",
          "y": 0.1975,
          "yanchor": "bottom",
          "yref": "paper"
         },
         {
          "font": {},
          "showarrow": false,
          "text": "dataset=wine",
          "x": 0.3725,
          "xanchor": "center",
          "xref": "paper",
          "y": 0.1975,
          "yanchor": "bottom",
          "yref": "paper"
         },
         {
          "font": {},
          "showarrow": false,
          "text": "dataset=yeast",
          "x": 0.6275,
          "xanchor": "center",
          "xref": "paper",
          "y": 0.1975,
          "yanchor": "bottom",
          "yref": "paper"
         },
         {
          "font": {},
          "showarrow": false,
          "text": "dataset=rice",
          "x": 0.1175,
          "xanchor": "center",
          "xref": "paper",
          "y": 0.465,
          "yanchor": "bottom",
          "yref": "paper"
         },
         {
          "font": {},
          "showarrow": false,
          "text": "dataset=satimage",
          "x": 0.3725,
          "xanchor": "center",
          "xref": "paper",
          "y": 0.465,
          "yanchor": "bottom",
          "yref": "paper"
         },
         {
          "font": {},
          "showarrow": false,
          "text": "dataset=segment",
          "x": 0.6275,
          "xanchor": "center",
          "xref": "paper",
          "y": 0.465,
          "yanchor": "bottom",
          "yref": "paper"
         },
         {
          "font": {},
          "showarrow": false,
          "text": "dataset=sepsis",
          "x": 0.8824999999999998,
          "xanchor": "center",
          "xref": "paper",
          "y": 0.465,
          "yanchor": "bottom",
          "yref": "paper"
         },
         {
          "font": {},
          "showarrow": false,
          "text": "dataset=iris",
          "x": 0.1175,
          "xanchor": "center",
          "xref": "paper",
          "y": 0.7325,
          "yanchor": "bottom",
          "yref": "paper"
         },
         {
          "font": {},
          "showarrow": false,
          "text": "dataset=letter",
          "x": 0.3725,
          "xanchor": "center",
          "xref": "paper",
          "y": 0.7325,
          "yanchor": "bottom",
          "yref": "paper"
         },
         {
          "font": {},
          "showarrow": false,
          "text": "dataset=motion_sense",
          "x": 0.6275,
          "xanchor": "center",
          "xref": "paper",
          "y": 0.7325,
          "yanchor": "bottom",
          "yref": "paper"
         },
         {
          "font": {},
          "showarrow": false,
          "text": "dataset=optical_handwritten",
          "x": 0.8824999999999998,
          "xanchor": "center",
          "xref": "paper",
          "y": 0.7325,
          "yanchor": "bottom",
          "yref": "paper"
         },
         {
          "font": {},
          "showarrow": false,
          "text": "dataset=breast_cancer",
          "x": 0.1175,
          "xanchor": "center",
          "xref": "paper",
          "y": 1,
          "yanchor": "bottom",
          "yref": "paper"
         },
         {
          "font": {},
          "showarrow": false,
          "text": "dataset=dry_bean",
          "x": 0.3725,
          "xanchor": "center",
          "xref": "paper",
          "y": 1,
          "yanchor": "bottom",
          "yref": "paper"
         },
         {
          "font": {},
          "showarrow": false,
          "text": "dataset=glass",
          "x": 0.6275,
          "xanchor": "center",
          "xref": "paper",
          "y": 1,
          "yanchor": "bottom",
          "yref": "paper"
         },
         {
          "font": {},
          "showarrow": false,
          "text": "dataset=image_segmentation",
          "x": 0.8824999999999998,
          "xanchor": "center",
          "xref": "paper",
          "y": 1,
          "yanchor": "bottom",
          "yref": "paper"
         }
        ],
        "font": {
         "family": "Times New Roman",
         "size": 14
        },
        "height": 1200,
        "legend": {
         "orientation": "h",
         "title": {
          "text": "model"
         },
         "tracegroupgap": 0,
         "x": 0.5,
         "xanchor": "center",
         "y": 1.05,
         "yanchor": "top"
        },
        "margin": {
         "t": 60
        },
        "template": {
         "data": {
          "bar": [
           {
            "error_x": {
             "color": "#2a3f5f"
            },
            "error_y": {
             "color": "#2a3f5f"
            },
            "marker": {
             "line": {
              "color": "#E5ECF6",
              "width": 0.5
             },
             "pattern": {
              "fillmode": "overlay",
              "size": 10,
              "solidity": 0.2
             }
            },
            "type": "bar"
           }
          ],
          "barpolar": [
           {
            "marker": {
             "line": {
              "color": "#E5ECF6",
              "width": 0.5
             },
             "pattern": {
              "fillmode": "overlay",
              "size": 10,
              "solidity": 0.2
             }
            },
            "type": "barpolar"
           }
          ],
          "carpet": [
           {
            "aaxis": {
             "endlinecolor": "#2a3f5f",
             "gridcolor": "white",
             "linecolor": "white",
             "minorgridcolor": "white",
             "startlinecolor": "#2a3f5f"
            },
            "baxis": {
             "endlinecolor": "#2a3f5f",
             "gridcolor": "white",
             "linecolor": "white",
             "minorgridcolor": "white",
             "startlinecolor": "#2a3f5f"
            },
            "type": "carpet"
           }
          ],
          "choropleth": [
           {
            "colorbar": {
             "outlinewidth": 0,
             "ticks": ""
            },
            "type": "choropleth"
           }
          ],
          "contour": [
           {
            "colorbar": {
             "outlinewidth": 0,
             "ticks": ""
            },
            "colorscale": [
             [
              0,
              "#0d0887"
             ],
             [
              0.1111111111111111,
              "#46039f"
             ],
             [
              0.2222222222222222,
              "#7201a8"
             ],
             [
              0.3333333333333333,
              "#9c179e"
             ],
             [
              0.4444444444444444,
              "#bd3786"
             ],
             [
              0.5555555555555556,
              "#d8576b"
             ],
             [
              0.6666666666666666,
              "#ed7953"
             ],
             [
              0.7777777777777778,
              "#fb9f3a"
             ],
             [
              0.8888888888888888,
              "#fdca26"
             ],
             [
              1,
              "#f0f921"
             ]
            ],
            "type": "contour"
           }
          ],
          "contourcarpet": [
           {
            "colorbar": {
             "outlinewidth": 0,
             "ticks": ""
            },
            "type": "contourcarpet"
           }
          ],
          "heatmap": [
           {
            "colorbar": {
             "outlinewidth": 0,
             "ticks": ""
            },
            "colorscale": [
             [
              0,
              "#0d0887"
             ],
             [
              0.1111111111111111,
              "#46039f"
             ],
             [
              0.2222222222222222,
              "#7201a8"
             ],
             [
              0.3333333333333333,
              "#9c179e"
             ],
             [
              0.4444444444444444,
              "#bd3786"
             ],
             [
              0.5555555555555556,
              "#d8576b"
             ],
             [
              0.6666666666666666,
              "#ed7953"
             ],
             [
              0.7777777777777778,
              "#fb9f3a"
             ],
             [
              0.8888888888888888,
              "#fdca26"
             ],
             [
              1,
              "#f0f921"
             ]
            ],
            "type": "heatmap"
           }
          ],
          "heatmapgl": [
           {
            "colorbar": {
             "outlinewidth": 0,
             "ticks": ""
            },
            "colorscale": [
             [
              0,
              "#0d0887"
             ],
             [
              0.1111111111111111,
              "#46039f"
             ],
             [
              0.2222222222222222,
              "#7201a8"
             ],
             [
              0.3333333333333333,
              "#9c179e"
             ],
             [
              0.4444444444444444,
              "#bd3786"
             ],
             [
              0.5555555555555556,
              "#d8576b"
             ],
             [
              0.6666666666666666,
              "#ed7953"
             ],
             [
              0.7777777777777778,
              "#fb9f3a"
             ],
             [
              0.8888888888888888,
              "#fdca26"
             ],
             [
              1,
              "#f0f921"
             ]
            ],
            "type": "heatmapgl"
           }
          ],
          "histogram": [
           {
            "marker": {
             "pattern": {
              "fillmode": "overlay",
              "size": 10,
              "solidity": 0.2
             }
            },
            "type": "histogram"
           }
          ],
          "histogram2d": [
           {
            "colorbar": {
             "outlinewidth": 0,
             "ticks": ""
            },
            "colorscale": [
             [
              0,
              "#0d0887"
             ],
             [
              0.1111111111111111,
              "#46039f"
             ],
             [
              0.2222222222222222,
              "#7201a8"
             ],
             [
              0.3333333333333333,
              "#9c179e"
             ],
             [
              0.4444444444444444,
              "#bd3786"
             ],
             [
              0.5555555555555556,
              "#d8576b"
             ],
             [
              0.6666666666666666,
              "#ed7953"
             ],
             [
              0.7777777777777778,
              "#fb9f3a"
             ],
             [
              0.8888888888888888,
              "#fdca26"
             ],
             [
              1,
              "#f0f921"
             ]
            ],
            "type": "histogram2d"
           }
          ],
          "histogram2dcontour": [
           {
            "colorbar": {
             "outlinewidth": 0,
             "ticks": ""
            },
            "colorscale": [
             [
              0,
              "#0d0887"
             ],
             [
              0.1111111111111111,
              "#46039f"
             ],
             [
              0.2222222222222222,
              "#7201a8"
             ],
             [
              0.3333333333333333,
              "#9c179e"
             ],
             [
              0.4444444444444444,
              "#bd3786"
             ],
             [
              0.5555555555555556,
              "#d8576b"
             ],
             [
              0.6666666666666666,
              "#ed7953"
             ],
             [
              0.7777777777777778,
              "#fb9f3a"
             ],
             [
              0.8888888888888888,
              "#fdca26"
             ],
             [
              1,
              "#f0f921"
             ]
            ],
            "type": "histogram2dcontour"
           }
          ],
          "mesh3d": [
           {
            "colorbar": {
             "outlinewidth": 0,
             "ticks": ""
            },
            "type": "mesh3d"
           }
          ],
          "parcoords": [
           {
            "line": {
             "colorbar": {
              "outlinewidth": 0,
              "ticks": ""
             }
            },
            "type": "parcoords"
           }
          ],
          "pie": [
           {
            "automargin": true,
            "type": "pie"
           }
          ],
          "scatter": [
           {
            "fillpattern": {
             "fillmode": "overlay",
             "size": 10,
             "solidity": 0.2
            },
            "type": "scatter"
           }
          ],
          "scatter3d": [
           {
            "line": {
             "colorbar": {
              "outlinewidth": 0,
              "ticks": ""
             }
            },
            "marker": {
             "colorbar": {
              "outlinewidth": 0,
              "ticks": ""
             }
            },
            "type": "scatter3d"
           }
          ],
          "scattercarpet": [
           {
            "marker": {
             "colorbar": {
              "outlinewidth": 0,
              "ticks": ""
             }
            },
            "type": "scattercarpet"
           }
          ],
          "scattergeo": [
           {
            "marker": {
             "colorbar": {
              "outlinewidth": 0,
              "ticks": ""
             }
            },
            "type": "scattergeo"
           }
          ],
          "scattergl": [
           {
            "marker": {
             "colorbar": {
              "outlinewidth": 0,
              "ticks": ""
             }
            },
            "type": "scattergl"
           }
          ],
          "scattermapbox": [
           {
            "marker": {
             "colorbar": {
              "outlinewidth": 0,
              "ticks": ""
             }
            },
            "type": "scattermapbox"
           }
          ],
          "scatterpolar": [
           {
            "marker": {
             "colorbar": {
              "outlinewidth": 0,
              "ticks": ""
             }
            },
            "type": "scatterpolar"
           }
          ],
          "scatterpolargl": [
           {
            "marker": {
             "colorbar": {
              "outlinewidth": 0,
              "ticks": ""
             }
            },
            "type": "scatterpolargl"
           }
          ],
          "scatterternary": [
           {
            "marker": {
             "colorbar": {
              "outlinewidth": 0,
              "ticks": ""
             }
            },
            "type": "scatterternary"
           }
          ],
          "surface": [
           {
            "colorbar": {
             "outlinewidth": 0,
             "ticks": ""
            },
            "colorscale": [
             [
              0,
              "#0d0887"
             ],
             [
              0.1111111111111111,
              "#46039f"
             ],
             [
              0.2222222222222222,
              "#7201a8"
             ],
             [
              0.3333333333333333,
              "#9c179e"
             ],
             [
              0.4444444444444444,
              "#bd3786"
             ],
             [
              0.5555555555555556,
              "#d8576b"
             ],
             [
              0.6666666666666666,
              "#ed7953"
             ],
             [
              0.7777777777777778,
              "#fb9f3a"
             ],
             [
              0.8888888888888888,
              "#fdca26"
             ],
             [
              1,
              "#f0f921"
             ]
            ],
            "type": "surface"
           }
          ],
          "table": [
           {
            "cells": {
             "fill": {
              "color": "#EBF0F8"
             },
             "line": {
              "color": "white"
             }
            },
            "header": {
             "fill": {
              "color": "#C8D4E3"
             },
             "line": {
              "color": "white"
             }
            },
            "type": "table"
           }
          ]
         },
         "layout": {
          "annotationdefaults": {
           "arrowcolor": "#2a3f5f",
           "arrowhead": 0,
           "arrowwidth": 1
          },
          "autotypenumbers": "strict",
          "coloraxis": {
           "colorbar": {
            "outlinewidth": 0,
            "ticks": ""
           }
          },
          "colorscale": {
           "diverging": [
            [
             0,
             "#8e0152"
            ],
            [
             0.1,
             "#c51b7d"
            ],
            [
             0.2,
             "#de77ae"
            ],
            [
             0.3,
             "#f1b6da"
            ],
            [
             0.4,
             "#fde0ef"
            ],
            [
             0.5,
             "#f7f7f7"
            ],
            [
             0.6,
             "#e6f5d0"
            ],
            [
             0.7,
             "#b8e186"
            ],
            [
             0.8,
             "#7fbc41"
            ],
            [
             0.9,
             "#4d9221"
            ],
            [
             1,
             "#276419"
            ]
           ],
           "sequential": [
            [
             0,
             "#0d0887"
            ],
            [
             0.1111111111111111,
             "#46039f"
            ],
            [
             0.2222222222222222,
             "#7201a8"
            ],
            [
             0.3333333333333333,
             "#9c179e"
            ],
            [
             0.4444444444444444,
             "#bd3786"
            ],
            [
             0.5555555555555556,
             "#d8576b"
            ],
            [
             0.6666666666666666,
             "#ed7953"
            ],
            [
             0.7777777777777778,
             "#fb9f3a"
            ],
            [
             0.8888888888888888,
             "#fdca26"
            ],
            [
             1,
             "#f0f921"
            ]
           ],
           "sequentialminus": [
            [
             0,
             "#0d0887"
            ],
            [
             0.1111111111111111,
             "#46039f"
            ],
            [
             0.2222222222222222,
             "#7201a8"
            ],
            [
             0.3333333333333333,
             "#9c179e"
            ],
            [
             0.4444444444444444,
             "#bd3786"
            ],
            [
             0.5555555555555556,
             "#d8576b"
            ],
            [
             0.6666666666666666,
             "#ed7953"
            ],
            [
             0.7777777777777778,
             "#fb9f3a"
            ],
            [
             0.8888888888888888,
             "#fdca26"
            ],
            [
             1,
             "#f0f921"
            ]
           ]
          },
          "colorway": [
           "#636efa",
           "#EF553B",
           "#00cc96",
           "#ab63fa",
           "#FFA15A",
           "#19d3f3",
           "#FF6692",
           "#B6E880",
           "#FF97FF",
           "#FECB52"
          ],
          "font": {
           "color": "#2a3f5f"
          },
          "geo": {
           "bgcolor": "white",
           "lakecolor": "white",
           "landcolor": "#E5ECF6",
           "showlakes": true,
           "showland": true,
           "subunitcolor": "white"
          },
          "hoverlabel": {
           "align": "left"
          },
          "hovermode": "closest",
          "mapbox": {
           "style": "light"
          },
          "paper_bgcolor": "white",
          "plot_bgcolor": "#E5ECF6",
          "polar": {
           "angularaxis": {
            "gridcolor": "white",
            "linecolor": "white",
            "ticks": ""
           },
           "bgcolor": "#E5ECF6",
           "radialaxis": {
            "gridcolor": "white",
            "linecolor": "white",
            "ticks": ""
           }
          },
          "scene": {
           "xaxis": {
            "backgroundcolor": "#E5ECF6",
            "gridcolor": "white",
            "gridwidth": 2,
            "linecolor": "white",
            "showbackground": true,
            "ticks": "",
            "zerolinecolor": "white"
           },
           "yaxis": {
            "backgroundcolor": "#E5ECF6",
            "gridcolor": "white",
            "gridwidth": 2,
            "linecolor": "white",
            "showbackground": true,
            "ticks": "",
            "zerolinecolor": "white"
           },
           "zaxis": {
            "backgroundcolor": "#E5ECF6",
            "gridcolor": "white",
            "gridwidth": 2,
            "linecolor": "white",
            "showbackground": true,
            "ticks": "",
            "zerolinecolor": "white"
           }
          },
          "shapedefaults": {
           "line": {
            "color": "#2a3f5f"
           }
          },
          "ternary": {
           "aaxis": {
            "gridcolor": "white",
            "linecolor": "white",
            "ticks": ""
           },
           "baxis": {
            "gridcolor": "white",
            "linecolor": "white",
            "ticks": ""
           },
           "bgcolor": "#E5ECF6",
           "caxis": {
            "gridcolor": "white",
            "linecolor": "white",
            "ticks": ""
           }
          },
          "title": {
           "x": 0.05
          },
          "xaxis": {
           "automargin": true,
           "gridcolor": "white",
           "linecolor": "white",
           "ticks": "",
           "title": {
            "standoff": 15
           },
           "zerolinecolor": "white",
           "zerolinewidth": 2
          },
          "yaxis": {
           "automargin": true,
           "gridcolor": "white",
           "linecolor": "white",
           "ticks": "",
           "title": {
            "standoff": 15
           },
           "zerolinecolor": "white",
           "zerolinewidth": 2
          }
         }
        },
        "width": 2480,
        "xaxis": {
         "anchor": "y",
         "domain": [
          0,
          0.235
         ],
         "title": {
          "text": "relative size"
         }
        },
        "xaxis10": {
         "anchor": "y10",
         "domain": [
          0.255,
          0.49
         ],
         "matches": "x",
         "showticklabels": false
        },
        "xaxis11": {
         "anchor": "y11",
         "domain": [
          0.51,
          0.745
         ],
         "matches": "x",
         "showticklabels": false
        },
        "xaxis12": {
         "anchor": "y12",
         "domain": [
          0.7649999999999999,
          0.9999999999999999
         ],
         "matches": "x",
         "showticklabels": false
        },
        "xaxis13": {
         "anchor": "y13",
         "domain": [
          0,
          0.235
         ],
         "matches": "x",
         "showticklabels": false
        },
        "xaxis14": {
         "anchor": "y14",
         "domain": [
          0.255,
          0.49
         ],
         "matches": "x",
         "showticklabels": false
        },
        "xaxis15": {
         "anchor": "y15",
         "domain": [
          0.51,
          0.745
         ],
         "matches": "x",
         "showticklabels": false
        },
        "xaxis16": {
         "anchor": "y16",
         "domain": [
          0.7649999999999999,
          0.9999999999999999
         ],
         "matches": "x",
         "showticklabels": false
        },
        "xaxis2": {
         "anchor": "y2",
         "domain": [
          0.255,
          0.49
         ],
         "matches": "x",
         "title": {
          "text": "relative size"
         }
        },
        "xaxis3": {
         "anchor": "y3",
         "domain": [
          0.51,
          0.745
         ],
         "matches": "x",
         "title": {
          "text": "relative size"
         }
        },
        "xaxis4": {
         "anchor": "y4",
         "domain": [
          0.7649999999999999,
          0.9999999999999999
         ],
         "matches": "x",
         "title": {
          "text": "relative size"
         }
        },
        "xaxis5": {
         "anchor": "y5",
         "domain": [
          0,
          0.235
         ],
         "matches": "x",
         "showticklabels": false
        },
        "xaxis6": {
         "anchor": "y6",
         "domain": [
          0.255,
          0.49
         ],
         "matches": "x",
         "showticklabels": false
        },
        "xaxis7": {
         "anchor": "y7",
         "domain": [
          0.51,
          0.745
         ],
         "matches": "x",
         "showticklabels": false
        },
        "xaxis8": {
         "anchor": "y8",
         "domain": [
          0.7649999999999999,
          0.9999999999999999
         ],
         "matches": "x",
         "showticklabels": false
        },
        "xaxis9": {
         "anchor": "y9",
         "domain": [
          0,
          0.235
         ],
         "matches": "x",
         "showticklabels": false
        },
        "yaxis": {
         "anchor": "x",
         "domain": [
          0,
          0.1975
         ],
         "title": {
          "text": "metric"
         }
        },
        "yaxis10": {
         "anchor": "x10",
         "domain": [
          0.535,
          0.7325
         ],
         "matches": "y",
         "showticklabels": false
        },
        "yaxis11": {
         "anchor": "x11",
         "domain": [
          0.535,
          0.7325
         ],
         "matches": "y",
         "showticklabels": false
        },
        "yaxis12": {
         "anchor": "x12",
         "domain": [
          0.535,
          0.7325
         ],
         "matches": "y",
         "showticklabels": false
        },
        "yaxis13": {
         "anchor": "x13",
         "domain": [
          0.8025,
          1
         ],
         "matches": "y",
         "title": {
          "text": "metric"
         }
        },
        "yaxis14": {
         "anchor": "x14",
         "domain": [
          0.8025,
          1
         ],
         "matches": "y",
         "showticklabels": false
        },
        "yaxis15": {
         "anchor": "x15",
         "domain": [
          0.8025,
          1
         ],
         "matches": "y",
         "showticklabels": false
        },
        "yaxis16": {
         "anchor": "x16",
         "domain": [
          0.8025,
          1
         ],
         "matches": "y",
         "showticklabels": false
        },
        "yaxis2": {
         "anchor": "x2",
         "domain": [
          0,
          0.1975
         ],
         "matches": "y",
         "showticklabels": false
        },
        "yaxis3": {
         "anchor": "x3",
         "domain": [
          0,
          0.1975
         ],
         "matches": "y",
         "showticklabels": false
        },
        "yaxis4": {
         "anchor": "x4",
         "domain": [
          0,
          0.1975
         ],
         "matches": "y",
         "showticklabels": false
        },
        "yaxis5": {
         "anchor": "x5",
         "domain": [
          0.2675,
          0.465
         ],
         "matches": "y",
         "title": {
          "text": "metric"
         }
        },
        "yaxis6": {
         "anchor": "x6",
         "domain": [
          0.2675,
          0.465
         ],
         "matches": "y",
         "showticklabels": false
        },
        "yaxis7": {
         "anchor": "x7",
         "domain": [
          0.2675,
          0.465
         ],
         "matches": "y",
         "showticklabels": false
        },
        "yaxis8": {
         "anchor": "x8",
         "domain": [
          0.2675,
          0.465
         ],
         "matches": "y",
         "showticklabels": false
        },
        "yaxis9": {
         "anchor": "x9",
         "domain": [
          0.535,
          0.7325
         ],
         "matches": "y",
         "title": {
          "text": "metric"
         }
        }
       }
      },
      "text/html": [
       "<div>                            <div id=\"1f21b71a-638f-409a-8df1-95b1bdec4398\" class=\"plotly-graph-div\" style=\"height:1200px; width:2480px;\"></div>            <script type=\"text/javascript\">                require([\"plotly\"], function(Plotly) {                    window.PLOTLYENV=window.PLOTLYENV || {};                                    if (document.getElementById(\"1f21b71a-638f-409a-8df1-95b1bdec4398\")) {                    Plotly.newPlot(                        \"1f21b71a-638f-409a-8df1-95b1bdec4398\",                        [{\"hovertemplate\":\"model=knn\\u003cbr\\u003edataset=breast_cancer\\u003cbr\\u003erelative size=%{x}\\u003cbr\\u003emetric=%{y}\\u003cextra\\u003e\\u003c\\u002fextra\\u003e\",\"legendgroup\":\"knn\",\"marker\":{\"color\":\"#636efa\",\"symbol\":\"circle\"},\"mode\":\"markers\",\"name\":\"knn\",\"orientation\":\"v\",\"showlegend\":true,\"x\":[0.00034258940170004874],\"xaxis\":\"x13\",\"y\":[0.9178579163959281],\"yaxis\":\"y13\",\"type\":\"scatter\"},{\"hovertemplate\":\"model=knn\\u003cbr\\u003edataset=dry_bean\\u003cbr\\u003erelative size=%{x}\\u003cbr\\u003emetric=%{y}\\u003cextra\\u003e\\u003c\\u002fextra\\u003e\",\"legendgroup\":\"knn\",\"marker\":{\"color\":\"#636efa\",\"symbol\":\"circle\"},\"mode\":\"markers\",\"name\":\"knn\",\"orientation\":\"v\",\"showlegend\":false,\"x\":[0.00010196133028649406],\"xaxis\":\"x14\",\"y\":[0.7175232545997096],\"yaxis\":\"y14\",\"type\":\"scatter\"},{\"hovertemplate\":\"model=knn\\u003cbr\\u003edataset=glass\\u003cbr\\u003erelative size=%{x}\\u003cbr\\u003emetric=%{y}\\u003cextra\\u003e\\u003c\\u002fextra\\u003e\",\"legendgroup\":\"knn\",\"marker\":{\"color\":\"#636efa\",\"symbol\":\"circle\"},\"mode\":\"markers\",\"name\":\"knn\",\"orientation\":\"v\",\"showlegend\":false,\"x\":[3.478241665730713e-05],\"xaxis\":\"x15\",\"y\":[0.7092884420543996],\"yaxis\":\"y15\",\"type\":\"scatter\"},{\"hovertemplate\":\"model=knn\\u003cbr\\u003edataset=image_segmentation\\u003cbr\\u003erelative size=%{x}\\u003cbr\\u003emetric=%{y}\\u003cextra\\u003e\\u003c\\u002fextra\\u003e\",\"legendgroup\":\"knn\",\"marker\":{\"color\":\"#636efa\",\"symbol\":\"circle\"},\"mode\":\"markers\",\"name\":\"knn\",\"orientation\":\"v\",\"showlegend\":false,\"x\":[5.419660264006615e-05],\"xaxis\":\"x16\",\"y\":[0.5476190476190477],\"yaxis\":\"y16\",\"type\":\"scatter\"},{\"hovertemplate\":\"model=knn\\u003cbr\\u003edataset=iris\\u003cbr\\u003erelative size=%{x}\\u003cbr\\u003emetric=%{y}\\u003cextra\\u003e\\u003c\\u002fextra\\u003e\",\"legendgroup\":\"knn\",\"marker\":{\"color\":\"#636efa\",\"symbol\":\"circle\"},\"mode\":\"markers\",\"name\":\"knn\",\"orientation\":\"v\",\"showlegend\":false,\"x\":[7.201391782687314e-05],\"xaxis\":\"x9\",\"y\":[0.9555555555555556],\"yaxis\":\"y9\",\"type\":\"scatter\"},{\"hovertemplate\":\"model=knn\\u003cbr\\u003edataset=letter\\u003cbr\\u003erelative size=%{x}\\u003cbr\\u003emetric=%{y}\\u003cextra\\u003e\\u003c\\u002fextra\\u003e\",\"legendgroup\":\"knn\",\"marker\":{\"color\":\"#636efa\",\"symbol\":\"circle\"},\"mode\":\"markers\",\"name\":\"knn\",\"orientation\":\"v\",\"showlegend\":false,\"x\":[1.78485213036232e-05],\"xaxis\":\"x10\",\"y\":[0.9455],\"yaxis\":\"y10\",\"type\":\"scatter\"},{\"hovertemplate\":\"model=knn\\u003cbr\\u003edataset=motion_sense\\u003cbr\\u003erelative size=%{x}\\u003cbr\\u003emetric=%{y}\\u003cextra\\u003e\\u003c\\u002fextra\\u003e\",\"legendgroup\":\"knn\",\"marker\":{\"color\":\"#636efa\",\"symbol\":\"circle\"},\"mode\":\"markers\",\"name\":\"knn\",\"orientation\":\"v\",\"showlegend\":false,\"x\":[0.0002894861295252612],\"xaxis\":\"x11\",\"y\":[0.5049019607843137],\"yaxis\":\"y11\",\"type\":\"scatter\"},{\"hovertemplate\":\"model=knn\\u003cbr\\u003edataset=optical_handwritten\\u003cbr\\u003erelative size=%{x}\\u003cbr\\u003emetric=%{y}\\u003cextra\\u003e\\u003c\\u002fextra\\u003e\",\"legendgroup\":\"knn\",\"marker\":{\"color\":\"#636efa\",\"symbol\":\"circle\"},\"mode\":\"markers\",\"name\":\"knn\",\"orientation\":\"v\",\"showlegend\":false,\"x\":[0.00012985115772909744],\"xaxis\":\"x12\",\"y\":[0.988428941906149],\"yaxis\":\"y12\",\"type\":\"scatter\"},{\"hovertemplate\":\"model=knn\\u003cbr\\u003edataset=rice\\u003cbr\\u003erelative size=%{x}\\u003cbr\\u003emetric=%{y}\\u003cextra\\u003e\\u003c\\u002fextra\\u003e\",\"legendgroup\":\"knn\",\"marker\":{\"color\":\"#636efa\",\"symbol\":\"circle\"},\"mode\":\"markers\",\"name\":\"knn\",\"orientation\":\"v\",\"showlegend\":false,\"x\":[0.00013946467330868531],\"xaxis\":\"x5\",\"y\":[0.8636907391101323],\"yaxis\":\"y5\",\"type\":\"scatter\"},{\"hovertemplate\":\"model=knn\\u003cbr\\u003edataset=satimage\\u003cbr\\u003erelative size=%{x}\\u003cbr\\u003emetric=%{y}\\u003cextra\\u003e\\u003c\\u002fextra\\u003e\",\"legendgroup\":\"knn\",\"marker\":{\"color\":\"#636efa\",\"symbol\":\"circle\"},\"mode\":\"markers\",\"name\":\"knn\",\"orientation\":\"v\",\"showlegend\":false,\"x\":[0.00015859460097506831],\"xaxis\":\"x6\",\"y\":[0.9025045416497844],\"yaxis\":\"y6\",\"type\":\"scatter\"},{\"hovertemplate\":\"model=knn\\u003cbr\\u003edataset=segment\\u003cbr\\u003erelative size=%{x}\\u003cbr\\u003emetric=%{y}\\u003cextra\\u003e\\u003c\\u002fextra\\u003e\",\"legendgroup\":\"knn\",\"marker\":{\"color\":\"#636efa\",\"symbol\":\"circle\"},\"mode\":\"markers\",\"name\":\"knn\",\"orientation\":\"v\",\"showlegend\":false,\"x\":[0.00014294526262486636],\"xaxis\":\"x7\",\"y\":[0.9336219336219336],\"yaxis\":\"y7\",\"type\":\"scatter\"},{\"hovertemplate\":\"model=knn\\u003cbr\\u003edataset=sepsis\\u003cbr\\u003erelative size=%{x}\\u003cbr\\u003emetric=%{y}\\u003cextra\\u003e\\u003c\\u002fextra\\u003e\",\"legendgroup\":\"knn\",\"marker\":{\"color\":\"#636efa\",\"symbol\":\"circle\"},\"mode\":\"markers\",\"name\":\"knn\",\"orientation\":\"v\",\"showlegend\":false,\"x\":[0.0006426240307781678],\"xaxis\":\"x8\",\"y\":[0.8909546104108189],\"yaxis\":\"y8\",\"type\":\"scatter\"},{\"hovertemplate\":\"model=knn\\u003cbr\\u003edataset=vehicle\\u003cbr\\u003erelative size=%{x}\\u003cbr\\u003emetric=%{y}\\u003cextra\\u003e\\u003c\\u002fextra\\u003e\",\"legendgroup\":\"knn\",\"marker\":{\"color\":\"#636efa\",\"symbol\":\"circle\"},\"mode\":\"markers\",\"name\":\"knn\",\"orientation\":\"v\",\"showlegend\":false,\"x\":[0.0001017587637543083],\"xaxis\":\"x\",\"y\":[0.8176470588235295],\"yaxis\":\"y\",\"type\":\"scatter\"},{\"hovertemplate\":\"model=knn\\u003cbr\\u003edataset=wine\\u003cbr\\u003erelative size=%{x}\\u003cbr\\u003emetric=%{y}\\u003cextra\\u003e\\u003c\\u002fextra\\u003e\",\"legendgroup\":\"knn\",\"marker\":{\"color\":\"#636efa\",\"symbol\":\"circle\"},\"mode\":\"markers\",\"name\":\"knn\",\"orientation\":\"v\",\"showlegend\":false,\"x\":[0.0001580453114944772],\"xaxis\":\"x2\",\"y\":[0.6714063714063713],\"yaxis\":\"y2\",\"type\":\"scatter\"},{\"hovertemplate\":\"model=knn\\u003cbr\\u003edataset=yeast\\u003cbr\\u003erelative size=%{x}\\u003cbr\\u003emetric=%{y}\\u003cextra\\u003e\\u003c\\u002fextra\\u003e\",\"legendgroup\":\"knn\",\"marker\":{\"color\":\"#636efa\",\"symbol\":\"circle\"},\"mode\":\"markers\",\"name\":\"knn\",\"orientation\":\"v\",\"showlegend\":false,\"x\":[1.650665376767161e-05],\"xaxis\":\"x3\",\"y\":[0.5463856770422707],\"yaxis\":\"y3\",\"type\":\"scatter\"},{\"hovertemplate\":\"model=mlp\\u003cbr\\u003edataset=breast_cancer\\u003cbr\\u003erelative size=%{x}\\u003cbr\\u003emetric=%{y}\\u003cextra\\u003e\\u003c\\u002fextra\\u003e\",\"legendgroup\":\"mlp\",\"marker\":{\"color\":\"#636efa\",\"symbol\":\"diamond\"},\"mode\":\"markers\",\"name\":\"mlp\",\"orientation\":\"v\",\"showlegend\":true,\"x\":[0.00029355547485579946],\"xaxis\":\"x13\",\"y\":[0.9103013945119208],\"yaxis\":\"y13\",\"type\":\"scatter\"},{\"hovertemplate\":\"model=mlp\\u003cbr\\u003edataset=dry_bean\\u003cbr\\u003erelative size=%{x}\\u003cbr\\u003emetric=%{y}\\u003cextra\\u003e\\u003c\\u002fextra\\u003e\",\"legendgroup\":\"mlp\",\"marker\":{\"color\":\"#636efa\",\"symbol\":\"diamond\"},\"mode\":\"markers\",\"name\":\"mlp\",\"orientation\":\"v\",\"showlegend\":false,\"x\":[4.3508982932499024e-06],\"xaxis\":\"x14\",\"y\":[0.22507061835587583],\"yaxis\":\"y14\",\"type\":\"scatter\"},{\"hovertemplate\":\"model=mlp\\u003cbr\\u003edataset=glass\\u003cbr\\u003erelative size=%{x}\\u003cbr\\u003emetric=%{y}\\u003cextra\\u003e\\u003c\\u002fextra\\u003e\",\"legendgroup\":\"mlp\",\"marker\":{\"color\":\"#636efa\",\"symbol\":\"diamond\"},\"mode\":\"markers\",\"name\":\"mlp\",\"orientation\":\"v\",\"showlegend\":false,\"x\":[6.197430858988603e-05],\"xaxis\":\"x15\",\"y\":[0.4554142391626345],\"yaxis\":\"y15\",\"type\":\"scatter\"},{\"hovertemplate\":\"model=mlp\\u003cbr\\u003edataset=image_segmentation\\u003cbr\\u003erelative size=%{x}\\u003cbr\\u003emetric=%{y}\\u003cextra\\u003e\\u003c\\u002fextra\\u003e\",\"legendgroup\":\"mlp\",\"marker\":{\"color\":\"#636efa\",\"symbol\":\"diamond\"},\"mode\":\"markers\",\"name\":\"mlp\",\"orientation\":\"v\",\"showlegend\":false,\"x\":[0.00014409595078864647],\"xaxis\":\"x16\",\"y\":[0.5555555555555555],\"yaxis\":\"y16\",\"type\":\"scatter\"},{\"hovertemplate\":\"model=mlp\\u003cbr\\u003edataset=iris\\u003cbr\\u003erelative size=%{x}\\u003cbr\\u003emetric=%{y}\\u003cextra\\u003e\\u003c\\u002fextra\\u003e\",\"legendgroup\":\"mlp\",\"marker\":{\"color\":\"#636efa\",\"symbol\":\"diamond\"},\"mode\":\"markers\",\"name\":\"mlp\",\"orientation\":\"v\",\"showlegend\":false,\"x\":[0.00020057801814907692],\"xaxis\":\"x9\",\"y\":[0.9777777777777775],\"yaxis\":\"y9\",\"type\":\"scatter\"},{\"hovertemplate\":\"model=mlp\\u003cbr\\u003edataset=letter\\u003cbr\\u003erelative size=%{x}\\u003cbr\\u003emetric=%{y}\\u003cextra\\u003e\\u003c\\u002fextra\\u003e\",\"legendgroup\":\"mlp\",\"marker\":{\"color\":\"#636efa\",\"symbol\":\"diamond\"},\"mode\":\"markers\",\"name\":\"mlp\",\"orientation\":\"v\",\"showlegend\":false,\"x\":[1.0527122317972066e-06],\"xaxis\":\"x10\",\"y\":[0.9205],\"yaxis\":\"y10\",\"type\":\"scatter\"},{\"hovertemplate\":\"model=mlp\\u003cbr\\u003edataset=motion_sense\\u003cbr\\u003erelative size=%{x}\\u003cbr\\u003emetric=%{y}\\u003cextra\\u003e\\u003c\\u002fextra\\u003e\",\"legendgroup\":\"mlp\",\"marker\":{\"color\":\"#636efa\",\"symbol\":\"diamond\"},\"mode\":\"markers\",\"name\":\"mlp\",\"orientation\":\"v\",\"showlegend\":false,\"x\":[2.6109598229867597e-05],\"xaxis\":\"x11\",\"y\":[0.6565359477124183],\"yaxis\":\"y11\",\"type\":\"scatter\"},{\"hovertemplate\":\"model=mlp\\u003cbr\\u003edataset=optical_handwritten\\u003cbr\\u003erelative size=%{x}\\u003cbr\\u003emetric=%{y}\\u003cextra\\u003e\\u003c\\u002fextra\\u003e\",\"legendgroup\":\"mlp\",\"marker\":{\"color\":\"#636efa\",\"symbol\":\"diamond\"},\"mode\":\"markers\",\"name\":\"mlp\",\"orientation\":\"v\",\"showlegend\":false,\"x\":[1.0382977030769633e-05],\"xaxis\":\"x12\",\"y\":[0.981028439293471],\"yaxis\":\"y12\",\"type\":\"scatter\"},{\"hovertemplate\":\"model=mlp\\u003cbr\\u003edataset=rice\\u003cbr\\u003erelative size=%{x}\\u003cbr\\u003emetric=%{y}\\u003cextra\\u003e\\u003c\\u002fextra\\u003e\",\"legendgroup\":\"mlp\",\"marker\":{\"color\":\"#636efa\",\"symbol\":\"diamond\"},\"mode\":\"markers\",\"name\":\"mlp\",\"orientation\":\"v\",\"showlegend\":false,\"x\":[9.090938767724909e-06],\"xaxis\":\"x5\",\"y\":[0.4777329795241849],\"yaxis\":\"y5\",\"type\":\"scatter\"},{\"hovertemplate\":\"model=mlp\\u003cbr\\u003edataset=satimage\\u003cbr\\u003erelative size=%{x}\\u003cbr\\u003emetric=%{y}\\u003cextra\\u003e\\u003c\\u002fextra\\u003e\",\"legendgroup\":\"mlp\",\"marker\":{\"color\":\"#636efa\",\"symbol\":\"diamond\"},\"mode\":\"markers\",\"name\":\"mlp\",\"orientation\":\"v\",\"showlegend\":false,\"x\":[1.329081428462245e-05],\"xaxis\":\"x6\",\"y\":[0.9116120122328867],\"yaxis\":\"y6\",\"type\":\"scatter\"},{\"hovertemplate\":\"model=mlp\\u003cbr\\u003edataset=segment\\u003cbr\\u003erelative size=%{x}\\u003cbr\\u003emetric=%{y}\\u003cextra\\u003e\\u003c\\u002fextra\\u003e\",\"legendgroup\":\"mlp\",\"marker\":{\"color\":\"#636efa\",\"symbol\":\"diamond\"},\"mode\":\"markers\",\"name\":\"mlp\",\"orientation\":\"v\",\"showlegend\":false,\"x\":[3.989055651627694e-05],\"xaxis\":\"x7\",\"y\":[0.9422799422799423],\"yaxis\":\"y7\",\"type\":\"scatter\"},{\"hovertemplate\":\"model=mlp\\u003cbr\\u003edataset=sepsis\\u003cbr\\u003erelative size=%{x}\\u003cbr\\u003emetric=%{y}\\u003cextra\\u003e\\u003c\\u002fextra\\u003e\",\"legendgroup\":\"mlp\",\"marker\":{\"color\":\"#636efa\",\"symbol\":\"diamond\"},\"mode\":\"markers\",\"name\":\"mlp\",\"orientation\":\"v\",\"showlegend\":false,\"x\":[1.8461849389593535e-06],\"xaxis\":\"x8\",\"y\":[0.8908920043310973],\"yaxis\":\"y8\",\"type\":\"scatter\"},{\"hovertemplate\":\"model=mlp\\u003cbr\\u003edataset=vehicle\\u003cbr\\u003erelative size=%{x}\\u003cbr\\u003emetric=%{y}\\u003cextra\\u003e\\u003c\\u002fextra\\u003e\",\"legendgroup\":\"mlp\",\"marker\":{\"color\":\"#636efa\",\"symbol\":\"diamond\"},\"mode\":\"markers\",\"name\":\"mlp\",\"orientation\":\"v\",\"showlegend\":false,\"x\":[5.817316232568698e-05],\"xaxis\":\"x\",\"y\":[0.8176470588235295],\"yaxis\":\"y\",\"type\":\"scatter\"},{\"hovertemplate\":\"model=mlp\\u003cbr\\u003edataset=wine\\u003cbr\\u003erelative size=%{x}\\u003cbr\\u003emetric=%{y}\\u003cextra\\u003e\\u003c\\u002fextra\\u003e\",\"legendgroup\":\"mlp\",\"marker\":{\"color\":\"#636efa\",\"symbol\":\"diamond\"},\"mode\":\"markers\",\"name\":\"mlp\",\"orientation\":\"v\",\"showlegend\":false,\"x\":[0.0002534566494398084],\"xaxis\":\"x2\",\"y\":[0.8883769948810599],\"yaxis\":\"y2\",\"type\":\"scatter\"},{\"hovertemplate\":\"model=mlp\\u003cbr\\u003edataset=yeast\\u003cbr\\u003erelative size=%{x}\\u003cbr\\u003emetric=%{y}\\u003cextra\\u003e\\u003c\\u002fextra\\u003e\",\"legendgroup\":\"mlp\",\"marker\":{\"color\":\"#636efa\",\"symbol\":\"diamond\"},\"mode\":\"markers\",\"name\":\"mlp\",\"orientation\":\"v\",\"showlegend\":false,\"x\":[4.90971548468113e-06],\"xaxis\":\"x3\",\"y\":[0.5895877432143035],\"yaxis\":\"y3\",\"type\":\"scatter\"},{\"hovertemplate\":\"model=random-forest\\u003cbr\\u003edataset=breast_cancer\\u003cbr\\u003erelative size=%{x}\\u003cbr\\u003emetric=%{y}\\u003cextra\\u003e\\u003c\\u002fextra\\u003e\",\"legendgroup\":\"random-forest\",\"marker\":{\"color\":\"#636efa\",\"symbol\":\"square\"},\"mode\":\"markers\",\"name\":\"random-forest\",\"orientation\":\"v\",\"showlegend\":true,\"x\":[0.0009765625],\"xaxis\":\"x13\",\"y\":[0.9708871747643292],\"yaxis\":\"y13\",\"type\":\"scatter\"},{\"hovertemplate\":\"model=random-forest\\u003cbr\\u003edataset=dry_bean\\u003cbr\\u003erelative size=%{x}\\u003cbr\\u003emetric=%{y}\\u003cextra\\u003e\\u003c\\u002fextra\\u003e\",\"legendgroup\":\"random-forest\",\"marker\":{\"color\":\"#636efa\",\"symbol\":\"square\"},\"mode\":\"markers\",\"name\":\"random-forest\",\"orientation\":\"v\",\"showlegend\":false,\"x\":[0.0009765625],\"xaxis\":\"x14\",\"y\":[0.9198474773426017],\"yaxis\":\"y14\",\"type\":\"scatter\"},{\"hovertemplate\":\"model=random-forest\\u003cbr\\u003edataset=glass\\u003cbr\\u003erelative size=%{x}\\u003cbr\\u003emetric=%{y}\\u003cextra\\u003e\\u003c\\u002fextra\\u003e\",\"legendgroup\":\"random-forest\",\"marker\":{\"color\":\"#636efa\",\"symbol\":\"square\"},\"mode\":\"markers\",\"name\":\"random-forest\",\"orientation\":\"v\",\"showlegend\":false,\"x\":[0.0009765625],\"xaxis\":\"x15\",\"y\":[0.7060178946619377],\"yaxis\":\"y15\",\"type\":\"scatter\"},{\"hovertemplate\":\"model=random-forest\\u003cbr\\u003edataset=image_segmentation\\u003cbr\\u003erelative size=%{x}\\u003cbr\\u003emetric=%{y}\\u003cextra\\u003e\\u003c\\u002fextra\\u003e\",\"legendgroup\":\"random-forest\",\"marker\":{\"color\":\"#636efa\",\"symbol\":\"square\"},\"mode\":\"markers\",\"name\":\"random-forest\",\"orientation\":\"v\",\"showlegend\":false,\"x\":[0.0009765625],\"xaxis\":\"x16\",\"y\":[0.6190476190476191],\"yaxis\":\"y16\",\"type\":\"scatter\"},{\"hovertemplate\":\"model=random-forest\\u003cbr\\u003edataset=iris\\u003cbr\\u003erelative size=%{x}\\u003cbr\\u003emetric=%{y}\\u003cextra\\u003e\\u003c\\u002fextra\\u003e\",\"legendgroup\":\"random-forest\",\"marker\":{\"color\":\"#636efa\",\"symbol\":\"square\"},\"mode\":\"markers\",\"name\":\"random-forest\",\"orientation\":\"v\",\"showlegend\":false,\"x\":[0.0009765625],\"xaxis\":\"x9\",\"y\":[0.9333333333333332],\"yaxis\":\"y9\",\"type\":\"scatter\"},{\"hovertemplate\":\"model=random-forest\\u003cbr\\u003edataset=letter\\u003cbr\\u003erelative size=%{x}\\u003cbr\\u003emetric=%{y}\\u003cextra\\u003e\\u003c\\u002fextra\\u003e\",\"legendgroup\":\"random-forest\",\"marker\":{\"color\":\"#636efa\",\"symbol\":\"square\"},\"mode\":\"markers\",\"name\":\"random-forest\",\"orientation\":\"v\",\"showlegend\":false,\"x\":[0.0009765625],\"xaxis\":\"x10\",\"y\":[0.9607222222222221],\"yaxis\":\"y10\",\"type\":\"scatter\"},{\"hovertemplate\":\"model=random-forest\\u003cbr\\u003edataset=motion_sense\\u003cbr\\u003erelative size=%{x}\\u003cbr\\u003emetric=%{y}\\u003cextra\\u003e\\u003c\\u002fextra\\u003e\",\"legendgroup\":\"random-forest\",\"marker\":{\"color\":\"#636efa\",\"symbol\":\"square\"},\"mode\":\"markers\",\"name\":\"random-forest\",\"orientation\":\"v\",\"showlegend\":false,\"x\":[0.00027713921101041696],\"xaxis\":\"x11\",\"y\":[0.8078431372549019],\"yaxis\":\"y11\",\"type\":\"scatter\"},{\"hovertemplate\":\"model=random-forest\\u003cbr\\u003edataset=optical_handwritten\\u003cbr\\u003erelative size=%{x}\\u003cbr\\u003emetric=%{y}\\u003cextra\\u003e\\u003c\\u002fextra\\u003e\",\"legendgroup\":\"random-forest\",\"marker\":{\"color\":\"#636efa\",\"symbol\":\"square\"},\"mode\":\"markers\",\"name\":\"random-forest\",\"orientation\":\"v\",\"showlegend\":false,\"x\":[0.000657436768044853],\"xaxis\":\"x12\",\"y\":[0.9827979576880973],\"yaxis\":\"y12\",\"type\":\"scatter\"},{\"hovertemplate\":\"model=random-forest\\u003cbr\\u003edataset=rice\\u003cbr\\u003erelative size=%{x}\\u003cbr\\u003emetric=%{y}\\u003cextra\\u003e\\u003c\\u002fextra\\u003e\",\"legendgroup\":\"random-forest\",\"marker\":{\"color\":\"#636efa\",\"symbol\":\"square\"},\"mode\":\"markers\",\"name\":\"random-forest\",\"orientation\":\"v\",\"showlegend\":false,\"x\":[0.0009765625],\"xaxis\":\"x5\",\"y\":[0.9152644340920002],\"yaxis\":\"y5\",\"type\":\"scatter\"},{\"hovertemplate\":\"model=random-forest\\u003cbr\\u003edataset=satimage\\u003cbr\\u003erelative size=%{x}\\u003cbr\\u003emetric=%{y}\\u003cextra\\u003e\\u003c\\u002fextra\\u003e\",\"legendgroup\":\"random-forest\",\"marker\":{\"color\":\"#636efa\",\"symbol\":\"square\"},\"mode\":\"markers\",\"name\":\"random-forest\",\"orientation\":\"v\",\"showlegend\":false,\"x\":[0.0009765625],\"xaxis\":\"x6\",\"y\":[0.910574331227231],\"yaxis\":\"y6\",\"type\":\"scatter\"},{\"hovertemplate\":\"model=random-forest\\u003cbr\\u003edataset=segment\\u003cbr\\u003erelative size=%{x}\\u003cbr\\u003emetric=%{y}\\u003cextra\\u003e\\u003c\\u002fextra\\u003e\",\"legendgroup\":\"random-forest\",\"marker\":{\"color\":\"#636efa\",\"symbol\":\"square\"},\"mode\":\"markers\",\"name\":\"random-forest\",\"orientation\":\"v\",\"showlegend\":false,\"x\":[0.0009765625],\"xaxis\":\"x7\",\"y\":[0.9716209716209715],\"yaxis\":\"y7\",\"type\":\"scatter\"},{\"hovertemplate\":\"model=random-forest\\u003cbr\\u003edataset=sepsis\\u003cbr\\u003erelative size=%{x}\\u003cbr\\u003emetric=%{y}\\u003cextra\\u003e\\u003c\\u002fextra\\u003e\",\"legendgroup\":\"random-forest\",\"marker\":{\"color\":\"#636efa\",\"symbol\":\"square\"},\"mode\":\"markers\",\"name\":\"random-forest\",\"orientation\":\"v\",\"showlegend\":false,\"x\":[0.0009765625],\"xaxis\":\"x8\",\"y\":[0.8908090454440197],\"yaxis\":\"y8\",\"type\":\"scatter\"},{\"hovertemplate\":\"model=random-forest\\u003cbr\\u003edataset=vehicle\\u003cbr\\u003erelative size=%{x}\\u003cbr\\u003emetric=%{y}\\u003cextra\\u003e\\u003c\\u002fextra\\u003e\",\"legendgroup\":\"random-forest\",\"marker\":{\"color\":\"#636efa\",\"symbol\":\"square\"},\"mode\":\"markers\",\"name\":\"random-forest\",\"orientation\":\"v\",\"showlegend\":false,\"x\":[0.0009765625],\"xaxis\":\"x\",\"y\":[0.9686274509803922],\"yaxis\":\"y\",\"type\":\"scatter\"},{\"hovertemplate\":\"model=random-forest\\u003cbr\\u003edataset=wine\\u003cbr\\u003erelative size=%{x}\\u003cbr\\u003emetric=%{y}\\u003cextra\\u003e\\u003c\\u002fextra\\u003e\",\"legendgroup\":\"random-forest\",\"marker\":{\"color\":\"#636efa\",\"symbol\":\"square\"},\"mode\":\"markers\",\"name\":\"random-forest\",\"orientation\":\"v\",\"showlegend\":false,\"x\":[0.0009765625],\"xaxis\":\"x2\",\"y\":[0.9815543316723488],\"yaxis\":\"y2\",\"type\":\"scatter\"},{\"hovertemplate\":\"model=random-forest\\u003cbr\\u003edataset=yeast\\u003cbr\\u003erelative size=%{x}\\u003cbr\\u003emetric=%{y}\\u003cextra\\u003e\\u003c\\u002fextra\\u003e\",\"legendgroup\":\"random-forest\",\"marker\":{\"color\":\"#636efa\",\"symbol\":\"square\"},\"mode\":\"markers\",\"name\":\"random-forest\",\"orientation\":\"v\",\"showlegend\":false,\"x\":[0.0009765625],\"xaxis\":\"x3\",\"y\":[0.6207256954912499],\"yaxis\":\"y3\",\"type\":\"scatter\"},{\"hovertemplate\":\"model=svm\\u003cbr\\u003edataset=breast_cancer\\u003cbr\\u003erelative size=%{x}\\u003cbr\\u003emetric=%{y}\\u003cextra\\u003e\\u003c\\u002fextra\\u003e\",\"legendgroup\":\"svm\",\"marker\":{\"color\":\"#636efa\",\"symbol\":\"x\"},\"mode\":\"markers\",\"name\":\"svm\",\"orientation\":\"v\",\"showlegend\":true,\"x\":[9.385874059254605e-05],\"xaxis\":\"x13\",\"y\":[0.8730641381054367],\"yaxis\":\"y13\",\"type\":\"scatter\"},{\"hovertemplate\":\"model=svm\\u003cbr\\u003edataset=dry_bean\\u003cbr\\u003erelative size=%{x}\\u003cbr\\u003emetric=%{y}\\u003cextra\\u003e\\u003c\\u002fextra\\u003e\",\"legendgroup\":\"svm\",\"marker\":{\"color\":\"#636efa\",\"symbol\":\"x\"},\"mode\":\"markers\",\"name\":\"svm\",\"orientation\":\"v\",\"showlegend\":false,\"x\":[0.00010348521718653581],\"xaxis\":\"x14\",\"y\":[0.6014133504868324],\"yaxis\":\"y14\",\"type\":\"scatter\"},{\"hovertemplate\":\"model=svm\\u003cbr\\u003edataset=glass\\u003cbr\\u003erelative size=%{x}\\u003cbr\\u003emetric=%{y}\\u003cextra\\u003e\\u003c\\u002fextra\\u003e\",\"legendgroup\":\"svm\",\"marker\":{\"color\":\"#636efa\",\"symbol\":\"x\"},\"mode\":\"markers\",\"name\":\"svm\",\"orientation\":\"v\",\"showlegend\":false,\"x\":[2.4892533816104802e-05],\"xaxis\":\"x15\",\"y\":[0.1849650349650349],\"yaxis\":\"y15\",\"type\":\"scatter\"},{\"hovertemplate\":\"model=svm\\u003cbr\\u003edataset=image_segmentation\\u003cbr\\u003erelative size=%{x}\\u003cbr\\u003emetric=%{y}\\u003cextra\\u003e\\u003c\\u002fextra\\u003e\",\"legendgroup\":\"svm\",\"marker\":{\"color\":\"#636efa\",\"symbol\":\"x\"},\"mode\":\"markers\",\"name\":\"svm\",\"orientation\":\"v\",\"showlegend\":false,\"x\":[5.8238163386535706e-05],\"xaxis\":\"x16\",\"y\":[0.5],\"yaxis\":\"y16\",\"type\":\"scatter\"},{\"hovertemplate\":\"model=svm\\u003cbr\\u003edataset=iris\\u003cbr\\u003erelative size=%{x}\\u003cbr\\u003emetric=%{y}\\u003cextra\\u003e\\u003c\\u002fextra\\u003e\",\"legendgroup\":\"svm\",\"marker\":{\"color\":\"#636efa\",\"symbol\":\"x\"},\"mode\":\"markers\",\"name\":\"svm\",\"orientation\":\"v\",\"showlegend\":false,\"x\":[2.684353304263061e-05],\"xaxis\":\"x9\",\"y\":[1.0],\"yaxis\":\"y9\",\"type\":\"scatter\"},{\"hovertemplate\":\"model=svm\\u003cbr\\u003edataset=letter\\u003cbr\\u003erelative size=%{x}\\u003cbr\\u003emetric=%{y}\\u003cextra\\u003e\\u003c\\u002fextra\\u003e\",\"legendgroup\":\"svm\",\"marker\":{\"color\":\"#636efa\",\"symbol\":\"x\"},\"mode\":\"markers\",\"name\":\"svm\",\"orientation\":\"v\",\"showlegend\":false,\"x\":[2.558845844113261e-05],\"xaxis\":\"x10\",\"y\":[0.92],\"yaxis\":\"y10\",\"type\":\"scatter\"},{\"hovertemplate\":\"model=svm\\u003cbr\\u003edataset=motion_sense\\u003cbr\\u003erelative size=%{x}\\u003cbr\\u003emetric=%{y}\\u003cextra\\u003e\\u003c\\u002fextra\\u003e\",\"legendgroup\":\"svm\",\"marker\":{\"color\":\"#636efa\",\"symbol\":\"x\"},\"mode\":\"markers\",\"name\":\"svm\",\"orientation\":\"v\",\"showlegend\":false,\"x\":[0.0002538889084446069],\"xaxis\":\"x11\",\"y\":[0.538235294117647],\"yaxis\":\"y11\",\"type\":\"scatter\"},{\"hovertemplate\":\"model=svm\\u003cbr\\u003edataset=optical_handwritten\\u003cbr\\u003erelative size=%{x}\\u003cbr\\u003emetric=%{y}\\u003cextra\\u003e\\u003c\\u002fextra\\u003e\",\"legendgroup\":\"svm\",\"marker\":{\"color\":\"#636efa\",\"symbol\":\"x\"},\"mode\":\"markers\",\"name\":\"svm\",\"orientation\":\"v\",\"showlegend\":false,\"x\":[4.070695485162407e-05],\"xaxis\":\"x12\",\"y\":[0.9919918925110768],\"yaxis\":\"y12\",\"type\":\"scatter\"},{\"hovertemplate\":\"model=svm\\u003cbr\\u003edataset=rice\\u003cbr\\u003erelative size=%{x}\\u003cbr\\u003emetric=%{y}\\u003cextra\\u003e\\u003c\\u002fextra\\u003e\",\"legendgroup\":\"svm\",\"marker\":{\"color\":\"#636efa\",\"symbol\":\"x\"},\"mode\":\"markers\",\"name\":\"svm\",\"orientation\":\"v\",\"showlegend\":false,\"x\":[2.5673499192653285e-05],\"xaxis\":\"x5\",\"y\":[0.867169718729999],\"yaxis\":\"y5\",\"type\":\"scatter\"},{\"hovertemplate\":\"model=svm\\u003cbr\\u003edataset=satimage\\u003cbr\\u003erelative size=%{x}\\u003cbr\\u003emetric=%{y}\\u003cextra\\u003e\\u003c\\u002fextra\\u003e\",\"legendgroup\":\"svm\",\"marker\":{\"color\":\"#636efa\",\"symbol\":\"x\"},\"mode\":\"markers\",\"name\":\"svm\",\"orientation\":\"v\",\"showlegend\":false,\"x\":[5.789554085155468e-05],\"xaxis\":\"x6\",\"y\":[0.892530243798912],\"yaxis\":\"y6\",\"type\":\"scatter\"},{\"hovertemplate\":\"model=svm\\u003cbr\\u003edataset=segment\\u003cbr\\u003erelative size=%{x}\\u003cbr\\u003emetric=%{y}\\u003cextra\\u003e\\u003c\\u002fextra\\u003e\",\"legendgroup\":\"svm\",\"marker\":{\"color\":\"#636efa\",\"symbol\":\"x\"},\"mode\":\"markers\",\"name\":\"svm\",\"orientation\":\"v\",\"showlegend\":false,\"x\":[9.344590053289475e-05],\"xaxis\":\"x7\",\"y\":[0.8701298701298702],\"yaxis\":\"y7\",\"type\":\"scatter\"},{\"hovertemplate\":\"model=svm\\u003cbr\\u003edataset=sepsis\\u003cbr\\u003erelative size=%{x}\\u003cbr\\u003emetric=%{y}\\u003cextra\\u003e\\u003c\\u002fextra\\u003e\",\"legendgroup\":\"svm\",\"marker\":{\"color\":\"#636efa\",\"symbol\":\"x\"},\"mode\":\"markers\",\"name\":\"svm\",\"orientation\":\"v\",\"showlegend\":false,\"x\":[6.17110561116046e-05],\"xaxis\":\"x8\",\"y\":[0.8908920043310973],\"yaxis\":\"y8\",\"type\":\"scatter\"},{\"hovertemplate\":\"model=svm\\u003cbr\\u003edataset=vehicle\\u003cbr\\u003erelative size=%{x}\\u003cbr\\u003emetric=%{y}\\u003cextra\\u003e\\u003c\\u002fextra\\u003e\",\"legendgroup\":\"svm\",\"marker\":{\"color\":\"#636efa\",\"symbol\":\"x\"},\"mode\":\"markers\",\"name\":\"svm\",\"orientation\":\"v\",\"showlegend\":false,\"x\":[8.272252802742534e-05],\"xaxis\":\"x\",\"y\":[0.7176470588235294],\"yaxis\":\"y\",\"type\":\"scatter\"},{\"hovertemplate\":\"model=svm\\u003cbr\\u003edataset=wine\\u003cbr\\u003erelative size=%{x}\\u003cbr\\u003emetric=%{y}\\u003cextra\\u003e\\u003c\\u002fextra\\u003e\",\"legendgroup\":\"svm\",\"marker\":{\"color\":\"#636efa\",\"symbol\":\"x\"},\"mode\":\"markers\",\"name\":\"svm\",\"orientation\":\"v\",\"showlegend\":false,\"x\":[5.819360138043444e-05],\"xaxis\":\"x2\",\"y\":[0.6486013986013985],\"yaxis\":\"y2\",\"type\":\"scatter\"},{\"hovertemplate\":\"model=svm\\u003cbr\\u003edataset=yeast\\u003cbr\\u003erelative size=%{x}\\u003cbr\\u003emetric=%{y}\\u003cextra\\u003e\\u003c\\u002fextra\\u003e\",\"legendgroup\":\"svm\",\"marker\":{\"color\":\"#636efa\",\"symbol\":\"x\"},\"mode\":\"markers\",\"name\":\"svm\",\"orientation\":\"v\",\"showlegend\":false,\"x\":[1.2715066705712857e-05],\"xaxis\":\"x3\",\"y\":[0.5992100016133695],\"yaxis\":\"y3\",\"type\":\"scatter\"},{\"hovertemplate\":\"model=wisard\\u003cbr\\u003edataset=breast_cancer\\u003cbr\\u003erelative size=%{x}\\u003cbr\\u003emetric=%{y}\\u003cextra\\u003e\\u003c\\u002fextra\\u003e\",\"legendgroup\":\"wisard\",\"marker\":{\"color\":\"#636efa\",\"symbol\":\"cross\"},\"mode\":\"markers\",\"name\":\"wisard\",\"orientation\":\"v\",\"showlegend\":true,\"x\":[0.00032721688873317664],\"xaxis\":\"x13\",\"y\":[0.9628161882204516],\"yaxis\":\"y13\",\"type\":\"scatter\"},{\"hovertemplate\":\"model=wisard\\u003cbr\\u003edataset=dry_bean\\u003cbr\\u003erelative size=%{x}\\u003cbr\\u003emetric=%{y}\\u003cextra\\u003e\\u003c\\u002fextra\\u003e\",\"legendgroup\":\"wisard\",\"marker\":{\"color\":\"#636efa\",\"symbol\":\"cross\"},\"mode\":\"markers\",\"name\":\"wisard\",\"orientation\":\"v\",\"showlegend\":false,\"x\":[3.207232943563615e-05],\"xaxis\":\"x14\",\"y\":[0.9024029619050484],\"yaxis\":\"y14\",\"type\":\"scatter\"},{\"hovertemplate\":\"model=wisard\\u003cbr\\u003edataset=glass\\u003cbr\\u003erelative size=%{x}\\u003cbr\\u003emetric=%{y}\\u003cextra\\u003e\\u003c\\u002fextra\\u003e\",\"legendgroup\":\"wisard\",\"marker\":{\"color\":\"#636efa\",\"symbol\":\"cross\"},\"mode\":\"markers\",\"name\":\"wisard\",\"orientation\":\"v\",\"showlegend\":false,\"x\":[8.950097296854158e-05],\"xaxis\":\"x15\",\"y\":[0.6615428500177969],\"yaxis\":\"y15\",\"type\":\"scatter\"},{\"hovertemplate\":\"model=wisard\\u003cbr\\u003edataset=image_segmentation\\u003cbr\\u003erelative size=%{x}\\u003cbr\\u003emetric=%{y}\\u003cextra\\u003e\\u003c\\u002fextra\\u003e\",\"legendgroup\":\"wisard\",\"marker\":{\"color\":\"#636efa\",\"symbol\":\"cross\"},\"mode\":\"markers\",\"name\":\"wisard\",\"orientation\":\"v\",\"showlegend\":false,\"x\":[0.00038297373803650864],\"xaxis\":\"x16\",\"y\":[0.8571428571428572],\"yaxis\":\"y16\",\"type\":\"scatter\"},{\"hovertemplate\":\"model=wisard\\u003cbr\\u003edataset=iris\\u003cbr\\u003erelative size=%{x}\\u003cbr\\u003emetric=%{y}\\u003cextra\\u003e\\u003c\\u002fextra\\u003e\",\"legendgroup\":\"wisard\",\"marker\":{\"color\":\"#636efa\",\"symbol\":\"cross\"},\"mode\":\"markers\",\"name\":\"wisard\",\"orientation\":\"v\",\"showlegend\":false,\"x\":[9.970039884810287e-06],\"xaxis\":\"x9\",\"y\":[1.0],\"yaxis\":\"y9\",\"type\":\"scatter\"},{\"hovertemplate\":\"model=wisard\\u003cbr\\u003edataset=letter\\u003cbr\\u003erelative size=%{x}\\u003cbr\\u003emetric=%{y}\\u003cextra\\u003e\\u003c\\u002fextra\\u003e\",\"legendgroup\":\"wisard\",\"marker\":{\"color\":\"#636efa\",\"symbol\":\"cross\"},\"mode\":\"markers\",\"name\":\"wisard\",\"orientation\":\"v\",\"showlegend\":false,\"x\":[9.726647683952998e-05],\"xaxis\":\"x10\",\"y\":[0.9000555555555557],\"yaxis\":\"y10\",\"type\":\"scatter\"},{\"hovertemplate\":\"model=wisard\\u003cbr\\u003edataset=motion_sense\\u003cbr\\u003erelative size=%{x}\\u003cbr\\u003emetric=%{y}\\u003cextra\\u003e\\u003c\\u002fextra\\u003e\",\"legendgroup\":\"wisard\",\"marker\":{\"color\":\"#636efa\",\"symbol\":\"cross\"},\"mode\":\"markers\",\"name\":\"wisard\",\"orientation\":\"v\",\"showlegend\":false,\"x\":[0.0009765625],\"xaxis\":\"x11\",\"y\":[0.65],\"yaxis\":\"y11\",\"type\":\"scatter\"},{\"hovertemplate\":\"model=wisard\\u003cbr\\u003edataset=optical_handwritten\\u003cbr\\u003erelative size=%{x}\\u003cbr\\u003emetric=%{y}\\u003cextra\\u003e\\u003c\\u002fextra\\u003e\",\"legendgroup\":\"wisard\",\"marker\":{\"color\":\"#636efa\",\"symbol\":\"cross\"},\"mode\":\"markers\",\"name\":\"wisard\",\"orientation\":\"v\",\"showlegend\":false,\"x\":[0.0009765625],\"xaxis\":\"x12\",\"y\":[0.9780450131673772],\"yaxis\":\"y12\",\"type\":\"scatter\"},{\"hovertemplate\":\"model=wisard\\u003cbr\\u003edataset=rice\\u003cbr\\u003erelative size=%{x}\\u003cbr\\u003emetric=%{y}\\u003cextra\\u003e\\u003c\\u002fextra\\u003e\",\"legendgroup\":\"wisard\",\"marker\":{\"color\":\"#636efa\",\"symbol\":\"cross\"},\"mode\":\"markers\",\"name\":\"wisard\",\"orientation\":\"v\",\"showlegend\":false,\"x\":[5.073468710899227e-07],\"xaxis\":\"x5\",\"y\":[0.8994465342855008],\"yaxis\":\"y5\",\"type\":\"scatter\"},{\"hovertemplate\":\"model=wisard\\u003cbr\\u003edataset=satimage\\u003cbr\\u003erelative size=%{x}\\u003cbr\\u003emetric=%{y}\\u003cextra\\u003e\\u003c\\u002fextra\\u003e\",\"legendgroup\":\"wisard\",\"marker\":{\"color\":\"#636efa\",\"symbol\":\"cross\"},\"mode\":\"markers\",\"name\":\"wisard\",\"orientation\":\"v\",\"showlegend\":false,\"x\":[0.0006533707939737112],\"xaxis\":\"x6\",\"y\":[0.8866629525557234],\"yaxis\":\"y6\",\"type\":\"scatter\"},{\"hovertemplate\":\"model=wisard\\u003cbr\\u003edataset=segment\\u003cbr\\u003erelative size=%{x}\\u003cbr\\u003emetric=%{y}\\u003cextra\\u003e\\u003c\\u002fextra\\u003e\",\"legendgroup\":\"wisard\",\"marker\":{\"color\":\"#636efa\",\"symbol\":\"cross\"},\"mode\":\"markers\",\"name\":\"wisard\",\"orientation\":\"v\",\"showlegend\":false,\"x\":[6.648658724024085e-05],\"xaxis\":\"x7\",\"y\":[0.8807118807118807],\"yaxis\":\"y7\",\"type\":\"scatter\"},{\"hovertemplate\":\"model=wisard\\u003cbr\\u003edataset=sepsis\\u003cbr\\u003erelative size=%{x}\\u003cbr\\u003emetric=%{y}\\u003cextra\\u003e\\u003c\\u002fextra\\u003e\",\"legendgroup\":\"wisard\",\"marker\":{\"color\":\"#636efa\",\"symbol\":\"cross\"},\"mode\":\"markers\",\"name\":\"wisard\",\"orientation\":\"v\",\"showlegend\":false,\"x\":[3.6949496996674712e-06],\"xaxis\":\"x8\",\"y\":[0.8915753747755484],\"yaxis\":\"y8\",\"type\":\"scatter\"},{\"hovertemplate\":\"model=wisard\\u003cbr\\u003edataset=vehicle\\u003cbr\\u003erelative size=%{x}\\u003cbr\\u003emetric=%{y}\\u003cextra\\u003e\\u003c\\u002fextra\\u003e\",\"legendgroup\":\"wisard\",\"marker\":{\"color\":\"#636efa\",\"symbol\":\"cross\"},\"mode\":\"markers\",\"name\":\"wisard\",\"orientation\":\"v\",\"showlegend\":false,\"x\":[0.00029338397276791356],\"xaxis\":\"x\",\"y\":[0.8941176470588235],\"yaxis\":\"y\",\"type\":\"scatter\"},{\"hovertemplate\":\"model=wisard\\u003cbr\\u003edataset=wine\\u003cbr\\u003erelative size=%{x}\\u003cbr\\u003emetric=%{y}\\u003cextra\\u003e\\u003c\\u002fextra\\u003e\",\"legendgroup\":\"wisard\",\"marker\":{\"color\":\"#636efa\",\"symbol\":\"cross\"},\"mode\":\"markers\",\"name\":\"wisard\",\"orientation\":\"v\",\"showlegend\":false,\"x\":[0.00040011427794012667],\"xaxis\":\"x2\",\"y\":[0.962856206024315],\"yaxis\":\"y2\",\"type\":\"scatter\"},{\"hovertemplate\":\"model=wisard\\u003cbr\\u003edataset=yeast\\u003cbr\\u003erelative size=%{x}\\u003cbr\\u003emetric=%{y}\\u003cextra\\u003e\\u003c\\u002fextra\\u003e\",\"legendgroup\":\"wisard\",\"marker\":{\"color\":\"#636efa\",\"symbol\":\"cross\"},\"mode\":\"markers\",\"name\":\"wisard\",\"orientation\":\"v\",\"showlegend\":false,\"x\":[4.298275784045049e-05],\"xaxis\":\"x3\",\"y\":[0.5700237244955314],\"yaxis\":\"y3\",\"type\":\"scatter\"}],                        {\"template\":{\"data\":{\"histogram2dcontour\":[{\"type\":\"histogram2dcontour\",\"colorbar\":{\"outlinewidth\":0,\"ticks\":\"\"},\"colorscale\":[[0.0,\"#0d0887\"],[0.1111111111111111,\"#46039f\"],[0.2222222222222222,\"#7201a8\"],[0.3333333333333333,\"#9c179e\"],[0.4444444444444444,\"#bd3786\"],[0.5555555555555556,\"#d8576b\"],[0.6666666666666666,\"#ed7953\"],[0.7777777777777778,\"#fb9f3a\"],[0.8888888888888888,\"#fdca26\"],[1.0,\"#f0f921\"]]}],\"choropleth\":[{\"type\":\"choropleth\",\"colorbar\":{\"outlinewidth\":0,\"ticks\":\"\"}}],\"histogram2d\":[{\"type\":\"histogram2d\",\"colorbar\":{\"outlinewidth\":0,\"ticks\":\"\"},\"colorscale\":[[0.0,\"#0d0887\"],[0.1111111111111111,\"#46039f\"],[0.2222222222222222,\"#7201a8\"],[0.3333333333333333,\"#9c179e\"],[0.4444444444444444,\"#bd3786\"],[0.5555555555555556,\"#d8576b\"],[0.6666666666666666,\"#ed7953\"],[0.7777777777777778,\"#fb9f3a\"],[0.8888888888888888,\"#fdca26\"],[1.0,\"#f0f921\"]]}],\"heatmap\":[{\"type\":\"heatmap\",\"colorbar\":{\"outlinewidth\":0,\"ticks\":\"\"},\"colorscale\":[[0.0,\"#0d0887\"],[0.1111111111111111,\"#46039f\"],[0.2222222222222222,\"#7201a8\"],[0.3333333333333333,\"#9c179e\"],[0.4444444444444444,\"#bd3786\"],[0.5555555555555556,\"#d8576b\"],[0.6666666666666666,\"#ed7953\"],[0.7777777777777778,\"#fb9f3a\"],[0.8888888888888888,\"#fdca26\"],[1.0,\"#f0f921\"]]}],\"heatmapgl\":[{\"type\":\"heatmapgl\",\"colorbar\":{\"outlinewidth\":0,\"ticks\":\"\"},\"colorscale\":[[0.0,\"#0d0887\"],[0.1111111111111111,\"#46039f\"],[0.2222222222222222,\"#7201a8\"],[0.3333333333333333,\"#9c179e\"],[0.4444444444444444,\"#bd3786\"],[0.5555555555555556,\"#d8576b\"],[0.6666666666666666,\"#ed7953\"],[0.7777777777777778,\"#fb9f3a\"],[0.8888888888888888,\"#fdca26\"],[1.0,\"#f0f921\"]]}],\"contourcarpet\":[{\"type\":\"contourcarpet\",\"colorbar\":{\"outlinewidth\":0,\"ticks\":\"\"}}],\"contour\":[{\"type\":\"contour\",\"colorbar\":{\"outlinewidth\":0,\"ticks\":\"\"},\"colorscale\":[[0.0,\"#0d0887\"],[0.1111111111111111,\"#46039f\"],[0.2222222222222222,\"#7201a8\"],[0.3333333333333333,\"#9c179e\"],[0.4444444444444444,\"#bd3786\"],[0.5555555555555556,\"#d8576b\"],[0.6666666666666666,\"#ed7953\"],[0.7777777777777778,\"#fb9f3a\"],[0.8888888888888888,\"#fdca26\"],[1.0,\"#f0f921\"]]}],\"surface\":[{\"type\":\"surface\",\"colorbar\":{\"outlinewidth\":0,\"ticks\":\"\"},\"colorscale\":[[0.0,\"#0d0887\"],[0.1111111111111111,\"#46039f\"],[0.2222222222222222,\"#7201a8\"],[0.3333333333333333,\"#9c179e\"],[0.4444444444444444,\"#bd3786\"],[0.5555555555555556,\"#d8576b\"],[0.6666666666666666,\"#ed7953\"],[0.7777777777777778,\"#fb9f3a\"],[0.8888888888888888,\"#fdca26\"],[1.0,\"#f0f921\"]]}],\"mesh3d\":[{\"type\":\"mesh3d\",\"colorbar\":{\"outlinewidth\":0,\"ticks\":\"\"}}],\"scatter\":[{\"fillpattern\":{\"fillmode\":\"overlay\",\"size\":10,\"solidity\":0.2},\"type\":\"scatter\"}],\"parcoords\":[{\"type\":\"parcoords\",\"line\":{\"colorbar\":{\"outlinewidth\":0,\"ticks\":\"\"}}}],\"scatterpolargl\":[{\"type\":\"scatterpolargl\",\"marker\":{\"colorbar\":{\"outlinewidth\":0,\"ticks\":\"\"}}}],\"bar\":[{\"error_x\":{\"color\":\"#2a3f5f\"},\"error_y\":{\"color\":\"#2a3f5f\"},\"marker\":{\"line\":{\"color\":\"#E5ECF6\",\"width\":0.5},\"pattern\":{\"fillmode\":\"overlay\",\"size\":10,\"solidity\":0.2}},\"type\":\"bar\"}],\"scattergeo\":[{\"type\":\"scattergeo\",\"marker\":{\"colorbar\":{\"outlinewidth\":0,\"ticks\":\"\"}}}],\"scatterpolar\":[{\"type\":\"scatterpolar\",\"marker\":{\"colorbar\":{\"outlinewidth\":0,\"ticks\":\"\"}}}],\"histogram\":[{\"marker\":{\"pattern\":{\"fillmode\":\"overlay\",\"size\":10,\"solidity\":0.2}},\"type\":\"histogram\"}],\"scattergl\":[{\"type\":\"scattergl\",\"marker\":{\"colorbar\":{\"outlinewidth\":0,\"ticks\":\"\"}}}],\"scatter3d\":[{\"type\":\"scatter3d\",\"line\":{\"colorbar\":{\"outlinewidth\":0,\"ticks\":\"\"}},\"marker\":{\"colorbar\":{\"outlinewidth\":0,\"ticks\":\"\"}}}],\"scattermapbox\":[{\"type\":\"scattermapbox\",\"marker\":{\"colorbar\":{\"outlinewidth\":0,\"ticks\":\"\"}}}],\"scatterternary\":[{\"type\":\"scatterternary\",\"marker\":{\"colorbar\":{\"outlinewidth\":0,\"ticks\":\"\"}}}],\"scattercarpet\":[{\"type\":\"scattercarpet\",\"marker\":{\"colorbar\":{\"outlinewidth\":0,\"ticks\":\"\"}}}],\"carpet\":[{\"aaxis\":{\"endlinecolor\":\"#2a3f5f\",\"gridcolor\":\"white\",\"linecolor\":\"white\",\"minorgridcolor\":\"white\",\"startlinecolor\":\"#2a3f5f\"},\"baxis\":{\"endlinecolor\":\"#2a3f5f\",\"gridcolor\":\"white\",\"linecolor\":\"white\",\"minorgridcolor\":\"white\",\"startlinecolor\":\"#2a3f5f\"},\"type\":\"carpet\"}],\"table\":[{\"cells\":{\"fill\":{\"color\":\"#EBF0F8\"},\"line\":{\"color\":\"white\"}},\"header\":{\"fill\":{\"color\":\"#C8D4E3\"},\"line\":{\"color\":\"white\"}},\"type\":\"table\"}],\"barpolar\":[{\"marker\":{\"line\":{\"color\":\"#E5ECF6\",\"width\":0.5},\"pattern\":{\"fillmode\":\"overlay\",\"size\":10,\"solidity\":0.2}},\"type\":\"barpolar\"}],\"pie\":[{\"automargin\":true,\"type\":\"pie\"}]},\"layout\":{\"autotypenumbers\":\"strict\",\"colorway\":[\"#636efa\",\"#EF553B\",\"#00cc96\",\"#ab63fa\",\"#FFA15A\",\"#19d3f3\",\"#FF6692\",\"#B6E880\",\"#FF97FF\",\"#FECB52\"],\"font\":{\"color\":\"#2a3f5f\"},\"hovermode\":\"closest\",\"hoverlabel\":{\"align\":\"left\"},\"paper_bgcolor\":\"white\",\"plot_bgcolor\":\"#E5ECF6\",\"polar\":{\"bgcolor\":\"#E5ECF6\",\"angularaxis\":{\"gridcolor\":\"white\",\"linecolor\":\"white\",\"ticks\":\"\"},\"radialaxis\":{\"gridcolor\":\"white\",\"linecolor\":\"white\",\"ticks\":\"\"}},\"ternary\":{\"bgcolor\":\"#E5ECF6\",\"aaxis\":{\"gridcolor\":\"white\",\"linecolor\":\"white\",\"ticks\":\"\"},\"baxis\":{\"gridcolor\":\"white\",\"linecolor\":\"white\",\"ticks\":\"\"},\"caxis\":{\"gridcolor\":\"white\",\"linecolor\":\"white\",\"ticks\":\"\"}},\"coloraxis\":{\"colorbar\":{\"outlinewidth\":0,\"ticks\":\"\"}},\"colorscale\":{\"sequential\":[[0.0,\"#0d0887\"],[0.1111111111111111,\"#46039f\"],[0.2222222222222222,\"#7201a8\"],[0.3333333333333333,\"#9c179e\"],[0.4444444444444444,\"#bd3786\"],[0.5555555555555556,\"#d8576b\"],[0.6666666666666666,\"#ed7953\"],[0.7777777777777778,\"#fb9f3a\"],[0.8888888888888888,\"#fdca26\"],[1.0,\"#f0f921\"]],\"sequentialminus\":[[0.0,\"#0d0887\"],[0.1111111111111111,\"#46039f\"],[0.2222222222222222,\"#7201a8\"],[0.3333333333333333,\"#9c179e\"],[0.4444444444444444,\"#bd3786\"],[0.5555555555555556,\"#d8576b\"],[0.6666666666666666,\"#ed7953\"],[0.7777777777777778,\"#fb9f3a\"],[0.8888888888888888,\"#fdca26\"],[1.0,\"#f0f921\"]],\"diverging\":[[0,\"#8e0152\"],[0.1,\"#c51b7d\"],[0.2,\"#de77ae\"],[0.3,\"#f1b6da\"],[0.4,\"#fde0ef\"],[0.5,\"#f7f7f7\"],[0.6,\"#e6f5d0\"],[0.7,\"#b8e186\"],[0.8,\"#7fbc41\"],[0.9,\"#4d9221\"],[1,\"#276419\"]]},\"xaxis\":{\"gridcolor\":\"white\",\"linecolor\":\"white\",\"ticks\":\"\",\"title\":{\"standoff\":15},\"zerolinecolor\":\"white\",\"automargin\":true,\"zerolinewidth\":2},\"yaxis\":{\"gridcolor\":\"white\",\"linecolor\":\"white\",\"ticks\":\"\",\"title\":{\"standoff\":15},\"zerolinecolor\":\"white\",\"automargin\":true,\"zerolinewidth\":2},\"scene\":{\"xaxis\":{\"backgroundcolor\":\"#E5ECF6\",\"gridcolor\":\"white\",\"linecolor\":\"white\",\"showbackground\":true,\"ticks\":\"\",\"zerolinecolor\":\"white\",\"gridwidth\":2},\"yaxis\":{\"backgroundcolor\":\"#E5ECF6\",\"gridcolor\":\"white\",\"linecolor\":\"white\",\"showbackground\":true,\"ticks\":\"\",\"zerolinecolor\":\"white\",\"gridwidth\":2},\"zaxis\":{\"backgroundcolor\":\"#E5ECF6\",\"gridcolor\":\"white\",\"linecolor\":\"white\",\"showbackground\":true,\"ticks\":\"\",\"zerolinecolor\":\"white\",\"gridwidth\":2}},\"shapedefaults\":{\"line\":{\"color\":\"#2a3f5f\"}},\"annotationdefaults\":{\"arrowcolor\":\"#2a3f5f\",\"arrowhead\":0,\"arrowwidth\":1},\"geo\":{\"bgcolor\":\"white\",\"landcolor\":\"#E5ECF6\",\"subunitcolor\":\"white\",\"showland\":true,\"showlakes\":true,\"lakecolor\":\"white\"},\"title\":{\"x\":0.05},\"mapbox\":{\"style\":\"light\"}}},\"xaxis\":{\"anchor\":\"y\",\"domain\":[0.0,0.235],\"title\":{\"text\":\"relative size\"}},\"yaxis\":{\"anchor\":\"x\",\"domain\":[0.0,0.1975],\"title\":{\"text\":\"metric\"}},\"xaxis2\":{\"anchor\":\"y2\",\"domain\":[0.255,0.49],\"matches\":\"x\",\"title\":{\"text\":\"relative size\"}},\"yaxis2\":{\"anchor\":\"x2\",\"domain\":[0.0,0.1975],\"matches\":\"y\",\"showticklabels\":false},\"xaxis3\":{\"anchor\":\"y3\",\"domain\":[0.51,0.745],\"matches\":\"x\",\"title\":{\"text\":\"relative size\"}},\"yaxis3\":{\"anchor\":\"x3\",\"domain\":[0.0,0.1975],\"matches\":\"y\",\"showticklabels\":false},\"xaxis4\":{\"anchor\":\"y4\",\"domain\":[0.7649999999999999,0.9999999999999999],\"matches\":\"x\",\"title\":{\"text\":\"relative size\"}},\"yaxis4\":{\"anchor\":\"x4\",\"domain\":[0.0,0.1975],\"matches\":\"y\",\"showticklabels\":false},\"xaxis5\":{\"anchor\":\"y5\",\"domain\":[0.0,0.235],\"matches\":\"x\",\"showticklabels\":false},\"yaxis5\":{\"anchor\":\"x5\",\"domain\":[0.2675,0.465],\"matches\":\"y\",\"title\":{\"text\":\"metric\"}},\"xaxis6\":{\"anchor\":\"y6\",\"domain\":[0.255,0.49],\"matches\":\"x\",\"showticklabels\":false},\"yaxis6\":{\"anchor\":\"x6\",\"domain\":[0.2675,0.465],\"matches\":\"y\",\"showticklabels\":false},\"xaxis7\":{\"anchor\":\"y7\",\"domain\":[0.51,0.745],\"matches\":\"x\",\"showticklabels\":false},\"yaxis7\":{\"anchor\":\"x7\",\"domain\":[0.2675,0.465],\"matches\":\"y\",\"showticklabels\":false},\"xaxis8\":{\"anchor\":\"y8\",\"domain\":[0.7649999999999999,0.9999999999999999],\"matches\":\"x\",\"showticklabels\":false},\"yaxis8\":{\"anchor\":\"x8\",\"domain\":[0.2675,0.465],\"matches\":\"y\",\"showticklabels\":false},\"xaxis9\":{\"anchor\":\"y9\",\"domain\":[0.0,0.235],\"matches\":\"x\",\"showticklabels\":false},\"yaxis9\":{\"anchor\":\"x9\",\"domain\":[0.535,0.7325],\"matches\":\"y\",\"title\":{\"text\":\"metric\"}},\"xaxis10\":{\"anchor\":\"y10\",\"domain\":[0.255,0.49],\"matches\":\"x\",\"showticklabels\":false},\"yaxis10\":{\"anchor\":\"x10\",\"domain\":[0.535,0.7325],\"matches\":\"y\",\"showticklabels\":false},\"xaxis11\":{\"anchor\":\"y11\",\"domain\":[0.51,0.745],\"matches\":\"x\",\"showticklabels\":false},\"yaxis11\":{\"anchor\":\"x11\",\"domain\":[0.535,0.7325],\"matches\":\"y\",\"showticklabels\":false},\"xaxis12\":{\"anchor\":\"y12\",\"domain\":[0.7649999999999999,0.9999999999999999],\"matches\":\"x\",\"showticklabels\":false},\"yaxis12\":{\"anchor\":\"x12\",\"domain\":[0.535,0.7325],\"matches\":\"y\",\"showticklabels\":false},\"xaxis13\":{\"anchor\":\"y13\",\"domain\":[0.0,0.235],\"matches\":\"x\",\"showticklabels\":false},\"yaxis13\":{\"anchor\":\"x13\",\"domain\":[0.8025,1.0],\"matches\":\"y\",\"title\":{\"text\":\"metric\"}},\"xaxis14\":{\"anchor\":\"y14\",\"domain\":[0.255,0.49],\"matches\":\"x\",\"showticklabels\":false},\"yaxis14\":{\"anchor\":\"x14\",\"domain\":[0.8025,1.0],\"matches\":\"y\",\"showticklabels\":false},\"xaxis15\":{\"anchor\":\"y15\",\"domain\":[0.51,0.745],\"matches\":\"x\",\"showticklabels\":false},\"yaxis15\":{\"anchor\":\"x15\",\"domain\":[0.8025,1.0],\"matches\":\"y\",\"showticklabels\":false},\"xaxis16\":{\"anchor\":\"y16\",\"domain\":[0.7649999999999999,0.9999999999999999],\"matches\":\"x\",\"showticklabels\":false},\"yaxis16\":{\"anchor\":\"x16\",\"domain\":[0.8025,1.0],\"matches\":\"y\",\"showticklabels\":false},\"annotations\":[{\"font\":{},\"showarrow\":false,\"text\":\"dataset=vehicle\",\"x\":0.1175,\"xanchor\":\"center\",\"xref\":\"paper\",\"y\":0.1975,\"yanchor\":\"bottom\",\"yref\":\"paper\"},{\"font\":{},\"showarrow\":false,\"text\":\"dataset=wine\",\"x\":0.3725,\"xanchor\":\"center\",\"xref\":\"paper\",\"y\":0.1975,\"yanchor\":\"bottom\",\"yref\":\"paper\"},{\"font\":{},\"showarrow\":false,\"text\":\"dataset=yeast\",\"x\":0.6275,\"xanchor\":\"center\",\"xref\":\"paper\",\"y\":0.1975,\"yanchor\":\"bottom\",\"yref\":\"paper\"},{\"font\":{},\"showarrow\":false,\"text\":\"dataset=rice\",\"x\":0.1175,\"xanchor\":\"center\",\"xref\":\"paper\",\"y\":0.465,\"yanchor\":\"bottom\",\"yref\":\"paper\"},{\"font\":{},\"showarrow\":false,\"text\":\"dataset=satimage\",\"x\":0.3725,\"xanchor\":\"center\",\"xref\":\"paper\",\"y\":0.465,\"yanchor\":\"bottom\",\"yref\":\"paper\"},{\"font\":{},\"showarrow\":false,\"text\":\"dataset=segment\",\"x\":0.6275,\"xanchor\":\"center\",\"xref\":\"paper\",\"y\":0.465,\"yanchor\":\"bottom\",\"yref\":\"paper\"},{\"font\":{},\"showarrow\":false,\"text\":\"dataset=sepsis\",\"x\":0.8824999999999998,\"xanchor\":\"center\",\"xref\":\"paper\",\"y\":0.465,\"yanchor\":\"bottom\",\"yref\":\"paper\"},{\"font\":{},\"showarrow\":false,\"text\":\"dataset=iris\",\"x\":0.1175,\"xanchor\":\"center\",\"xref\":\"paper\",\"y\":0.7325,\"yanchor\":\"bottom\",\"yref\":\"paper\"},{\"font\":{},\"showarrow\":false,\"text\":\"dataset=letter\",\"x\":0.3725,\"xanchor\":\"center\",\"xref\":\"paper\",\"y\":0.7325,\"yanchor\":\"bottom\",\"yref\":\"paper\"},{\"font\":{},\"showarrow\":false,\"text\":\"dataset=motion_sense\",\"x\":0.6275,\"xanchor\":\"center\",\"xref\":\"paper\",\"y\":0.7325,\"yanchor\":\"bottom\",\"yref\":\"paper\"},{\"font\":{},\"showarrow\":false,\"text\":\"dataset=optical_handwritten\",\"x\":0.8824999999999998,\"xanchor\":\"center\",\"xref\":\"paper\",\"y\":0.7325,\"yanchor\":\"bottom\",\"yref\":\"paper\"},{\"font\":{},\"showarrow\":false,\"text\":\"dataset=breast_cancer\",\"x\":0.1175,\"xanchor\":\"center\",\"xref\":\"paper\",\"y\":1.0,\"yanchor\":\"bottom\",\"yref\":\"paper\"},{\"font\":{},\"showarrow\":false,\"text\":\"dataset=dry_bean\",\"x\":0.3725,\"xanchor\":\"center\",\"xref\":\"paper\",\"y\":1.0,\"yanchor\":\"bottom\",\"yref\":\"paper\"},{\"font\":{},\"showarrow\":false,\"text\":\"dataset=glass\",\"x\":0.6275,\"xanchor\":\"center\",\"xref\":\"paper\",\"y\":1.0,\"yanchor\":\"bottom\",\"yref\":\"paper\"},{\"font\":{},\"showarrow\":false,\"text\":\"dataset=image_segmentation\",\"x\":0.8824999999999998,\"xanchor\":\"center\",\"xref\":\"paper\",\"y\":1.0,\"yanchor\":\"bottom\",\"yref\":\"paper\"}],\"legend\":{\"title\":{\"text\":\"model\"},\"tracegroupgap\":0,\"orientation\":\"h\",\"yanchor\":\"top\",\"y\":1.05,\"xanchor\":\"center\",\"x\":0.5},\"margin\":{\"t\":60},\"font\":{\"family\":\"Times New Roman\",\"size\":14},\"height\":1200,\"width\":2480},                        {\"responsive\": true}                    ).then(function(){\n",
       "                            \n",
       "var gd = document.getElementById('1f21b71a-638f-409a-8df1-95b1bdec4398');\n",
       "var x = new MutationObserver(function (mutations, observer) {{\n",
       "        var display = window.getComputedStyle(gd).display;\n",
       "        if (!display || display === 'none') {{\n",
       "            console.log([gd, 'removed!']);\n",
       "            Plotly.purge(gd);\n",
       "            observer.disconnect();\n",
       "        }}\n",
       "}});\n",
       "\n",
       "// Listen for the removal of the full notebook cells\n",
       "var notebookContainer = gd.closest('#notebook-container');\n",
       "if (notebookContainer) {{\n",
       "    x.observe(notebookContainer, {childList: true});\n",
       "}}\n",
       "\n",
       "// Listen for the clearing of the current output cell\n",
       "var outputEl = gd.closest('.output');\n",
       "if (outputEl) {{\n",
       "    x.observe(outputEl, {childList: true});\n",
       "}}\n",
       "\n",
       "                        })                };                });            </script>        </div>"
      ]
     },
     "metadata": {},
     "output_type": "display_data"
    }
   ],
   "source": [
    "fig = px.scatter(result_df.reset_index(), y=\"metric\", x=\"relative size\", symbol=\"model\", facet_col=\"dataset\", facet_col_wrap=4)\n",
    "fig.update_layout(\n",
    "    legend=dict(\n",
    "        orientation=\"h\", yanchor=\"top\", y=1.05, xanchor=\"center\", x=0.5\n",
    "    ),\n",
    "    height=1200,\n",
    "    width=2480,\n",
    "    font=dict(family=\"Times New Roman\", size=14),\n",
    ")\n",
    "fig.show()"
   ]
  },
  {
   "cell_type": "code",
   "execution_count": null,
   "metadata": {},
   "outputs": [],
   "source": [
    "dfs = {}\n",
    "for dset_name, dset_df in best_metric_dataset_model.groupby(\"dataset\"):\n",
    "    max_val = dset_df[\"metric\"].max()\n",
    "    dset_df[\"model_size (KB)\"] = (dset_df[\"model_size\"] / 1024)\n",
    "    dset_df[\"relative performance\"] = dset_df[\"metric\"]  / max_val\n",
    "    dset_df = dset_df[[\"relative performance\", \"model_size (KB)\"]]\n",
    "    dfs[dset_name] = dset_df\n",
    "    \n",
    "result_df = pd.concat(dfs.values(), keys=dfs.keys()).reset_index()\n",
    "# result_df.reset_index(level=0, inplace=True)\n",
    "result_df"
   ]
  },
  {
   "cell_type": "code",
   "execution_count": null,
   "metadata": {},
   "outputs": [],
   "source": [
    "print(\"How many times per dataset, each model is the best tradeoff?\")\n",
    "best_metric_dataset_model[\n",
    "    best_metric_dataset_model.best_tradeoff == True\n",
    "].value_counts(\"model\").to_frame().reset_index()"
   ]
  },
  {
   "cell_type": "code",
   "execution_count": null,
   "metadata": {},
   "outputs": [],
   "source": [
    "facets = 3\n",
    "cmap = px.colors.qualitative.Prism\n",
    "\n",
    "colors = {\n",
    "    name: cmap[i]\n",
    "    for i, name in enumerate(sorted(best_metric_dataset_model.model.unique()))\n",
    "}\n",
    "\n",
    "# Scatter plot for trade-off with normalized model size\n",
    "fig_tradeoff_normalized = px.scatter(\n",
    "    best_metric_dataset_model,\n",
    "    x=\"metric\",\n",
    "    y=\"normalized_model_size_ratio\",\n",
    "    color=\"model\",\n",
    "    facet_col=\"dataset\",\n",
    "    facet_col_wrap=facets,\n",
    "    # title=\"Trade-off Between Metric and Normalized Model Size Across Datasets\",\n",
    "    labels={\n",
    "        \"metric\": \"Performance\",\n",
    "        \"normalized_model_size_ratio\": \"Size Ratio (normalized)\",\n",
    "        \"model\": \"\",\n",
    "    },\n",
    "    facet_row_spacing=0.07,\n",
    "    width=1400,\n",
    "    height=800,\n",
    "    color_discrete_sequence=cmap,\n",
    ")\n",
    "\n",
    "\n",
    "fig_tradeoff_normalized.update_traces(\n",
    "    marker=dict(size=7.5),\n",
    ")\n",
    "\n",
    "fig_tradeoff_normalized.update_xaxes(showticklabels=True)\n",
    "\n",
    "fig_tradeoff_normalized.update_yaxes(showticklabels=True)\n",
    "\n",
    "fig_tradeoff_normalized.for_each_annotation(\n",
    "    lambda a: a.update(text=a.text.split(\"=\")[-1])\n",
    ")\n",
    "\n",
    "# fig_tradeoff_normalized.update_layout(\n",
    "#     legend=dict(\n",
    "#         orientation=\"h\", yanchor=\"bottom\", y=-0.15, xanchor=\"center\", x=0.5,\n",
    "#     ),\n",
    "\n",
    "# )\n",
    "\n",
    "fig_tradeoff_normalized.update_layout(\n",
    "    legend=dict(\n",
    "        orientation=\"h\",\n",
    "        yanchor=\"top\",\n",
    "        y=1.05,\n",
    "        xanchor=\"center\",\n",
    "        x=0.5,\n",
    "        itemsizing=\"constant\",  # Set this to \"constant\" to show only one item for color\n",
    "        font=dict(family=\"Times New Roman\", size=14),\n",
    "    ),\n",
    "    height=1200,\n",
    "    width=2480 /2.5,\n",
    "    font=dict(family=\"Times New Roman\", size=14),\n",
    ")\n",
    "num_rows = len(results.dataset.unique()) // facets\n",
    "num_cols = facets\n",
    "# datasets = list(sorted(results.dataset.unique(), reverse=False))\n",
    "\n",
    "for r in range(num_rows):\n",
    "    for c in range(num_cols):\n",
    "       \n",
    "        facet = r * num_cols + c\n",
    "        dset = fig_tradeoff_normalized.layout.annotations[facet]['text']\n",
    "\n",
    "        x_line = (\n",
    "            results[results[\"dataset\"] == dset][\"metric\"].max()\n",
    "            - metric_threshold\n",
    "        )\n",
    "        \n",
    " # Scatter plot for best tradeoff points with a cross\n",
    "        best_tradeoff_points = best_metric_dataset_model[\n",
    "            (best_metric_dataset_model[\"dataset\"] == dset)\n",
    "            & (best_metric_dataset_model[\"best_tradeoff\"] == True)\n",
    "        ]\n",
    "        \n",
    "        best_tradeoff_model = best_tradeoff_points.model.iloc[0]\n",
    "        \n",
    "        # print(f\"Facet {facet}: {dset} - {best_tradeoff_model}. Max: {results[results['dataset'] == dset]['metric'].max()}, line: {x_line}\")\n",
    "        \n",
    "        fig_tradeoff_normalized.add_trace(\n",
    "            go.Scatter(\n",
    "                x=best_tradeoff_points[\"metric\"],\n",
    "                y=best_tradeoff_points[\"normalized_model_size_ratio\"],\n",
    "                mode=\"markers\",\n",
    "                marker=dict(\n",
    "                    size=10,\n",
    "                    symbol=\"x\",\n",
    "                    color=colors[best_tradeoff_model]\n",
    "                ),\n",
    "                showlegend=False,  # To not duplicate in the legend\n",
    "            ),\n",
    "            row=r + 1,\n",
    "            col=c + 1,\n",
    "        )\n",
    "        \n",
    "        fig_tradeoff_normalized.add_vline(\n",
    "            x=x_line, line_dash=\"dot\", row=r + 1, col=c + 1, line_width=1\n",
    "        )\n",
    "\n",
    "# Display the plot\n",
    "fig_tradeoff_normalized.show()\n",
    "\n",
    "write_figure(\"performance_size_tradeoff_normalized.pdf\", fig_tradeoff_normalized)"
   ]
  },
  {
   "cell_type": "code",
   "execution_count": null,
   "metadata": {},
   "outputs": [],
   "source": [
    "best_metric_dataset_model[\n",
    "    best_metric_dataset_model.best_tradeoff == True\n",
    "][[\"dataset\", \"model\", \"config_name\", \"metric\", \"model_size\", \"model_size_ratio\"]]"
   ]
  },
  {
   "cell_type": "code",
   "execution_count": null,
   "metadata": {},
   "outputs": [],
   "source": [
    "best_metric_dataset_model[best_metric_dataset_model [\"dataset\"] == \"iris\"].dropna(axis=1)[[\"model\", \"metric\", \"model_size\", \"model_size_ratio\", \"normalized_model_size_ratio\"]]"
   ]
  },
  {
   "cell_type": "code",
   "execution_count": null,
   "metadata": {},
   "outputs": [],
   "source": [
    "best_metric_dataset_model[[\"dataset\", \"model\", \"config_name\", \"metric\", \"model_size\", \"model_size_ratio\"]]"
   ]
  },
  {
   "cell_type": "code",
   "execution_count": null,
   "metadata": {},
   "outputs": [],
   "source": [
    "best_metric_dataset_model[\n",
    "    (best_metric_dataset_model.best_tradeoff == True) & (best_metric_dataset_model.model == \"wisard\")\n",
    "][\"model_size_ratio\"]"
   ]
  },
  {
   "cell_type": "code",
   "execution_count": null,
   "metadata": {},
   "outputs": [],
   "source": [
    "encoder_info = best_metric_dataset_model[best_metric_dataset_model.model == \"wisard\"]\n",
    "encoder_info = encoder_info[[\"dataset\", \"encoder\", \"resolution\", \"tuple_size\", \"bleach\"]].reset_index(drop=True)\n",
    "encoder_info.rename(columns={\"encoder\": \"Encoder\", \"resolution\": \"Resolution\", \"tuple_size\": \"Tuple Size\", \"bleach\": \"Bleach\"}, inplace=True)\n",
    "encoder_info[\"Encoder\"] = encoder_info[\"Encoder\"].apply(lambda x: \"Distributive Thermometer\" if x == \"distributive-thermometer\" else \"Thermometer\")\n",
    "encoder_info[\"Resolution\"] = encoder_info[\"Resolution\"].astype(int)\n",
    "encoder_info[\"Tuple Size\"] = encoder_info[\"Tuple Size\"].astype(int)\n",
    "encoder_info[\"Bleach\"] = encoder_info[\"Bleach\"].astype(int)\n",
    "encoder_info"
   ]
  },
  {
   "cell_type": "code",
   "execution_count": null,
   "metadata": {},
   "outputs": [],
   "source": [
    "latex_str = encoder_info.to_latex(\n",
    "    index=False,\n",
    "    escape=True,\n",
    "    caption=\"Parameters used for each experiment\",\n",
    "    label=\"tab:experiment-parameters\",\n",
    "    float_format=\"%.2f\",\n",
    ")\n",
    "write_latex_table(\"experiment_parameters.tex\", latex_str)"
   ]
  },
  {
   "cell_type": "markdown",
   "metadata": {},
   "source": [
    "## 4. Select the wisard with best bloom filter\n",
    "\n",
    "Here we show that, costing up to 1% of performance of the best dict-wisard, a \n",
    "space-efficient bloom filter achieves the best results."
   ]
  },
  {
   "cell_type": "code",
   "execution_count": null,
   "metadata": {},
   "outputs": [],
   "source": [
    "# Up to 1% of accuracy loss\n",
    "metric_threshold = 0.01"
   ]
  },
  {
   "cell_type": "code",
   "execution_count": null,
   "metadata": {},
   "outputs": [],
   "source": [
    "results = base_results.copy()\n",
    "best_results = best_metric_dataset_model.copy()\n",
    "\n",
    "results = results[results[\"model\"] == \"wisard\"]\n",
    "best_results = best_results[best_results[\"model\"] == \"wisard\"]\n",
    "\n",
    "results[\"bloom-filter\"] = results[\"config_name\"].apply(lambda x: x.split(\" \")[0])\n",
    "best_results[\"bloom-filter\"] = best_results[\"config_name\"].apply(lambda x: x.split(\" \")[0])"
   ]
  },
  {
   "cell_type": "code",
   "execution_count": null,
   "metadata": {},
   "outputs": [],
   "source": [
    "temp = []\n",
    "\n",
    "\n",
    "for dset_name, dset_df in results.groupby(\"dataset\"):\n",
    "    best_model = best_results[best_results[\"dataset\"] == dset_name].iloc[0]\n",
    "    # print(f\"*** Dataset: {dset_name} with metric: {best_model['metric']} and model size: {int(best_model['model_size'])}\")\n",
    "    bests = dset_df[dset_df[\"metric\"] >= best_model[\"metric\"] - metric_threshold]\n",
    "    bests[\"metric_improvement\"] = bests[\"metric\"]/ best_model[\"metric\"]\n",
    "    bests[\"model_size_improvement\"] = bests[\"model_size\"]/ best_model[\"model_size\"]\n",
    "    bests[\"best_metric\"]  = best_model[\"metric\"]\n",
    "    bests[\"best_model_size\"]  = best_model[\"model_size\"]\n",
    "    temp.append(bests)\n",
    "    \n",
    "results = pd.concat(temp, ignore_index=True)\n",
    "results.sample(n=3)"
   ]
  },
  {
   "cell_type": "code",
   "execution_count": null,
   "metadata": {},
   "outputs": [],
   "source": [
    "best_results = results.loc[results.groupby(\"dataset\")[\"model_size_improvement\"].idxmin()]\n",
    "best_results[\"bloom-filter\"].value_counts()"
   ]
  },
  {
   "cell_type": "code",
   "execution_count": null,
   "metadata": {},
   "outputs": [],
   "source": [
    "best_results_table = best_results.sort_values(by=[\"dataset\"])[[\"dataset\", \"config_name\", \"model_size_improvement\"]]\n",
    "\n",
    "best_results_table.rename(\n",
    "    columns={\n",
    "        \"dataset\": \"Dataset\",\n",
    "        \"config_name\": \"Bloom Filter\",\n",
    "        \"model_size_improvement\": \"Size Ratio\",\n",
    "    },\n",
    "    inplace=True,\n",
    ")\n",
    "\n",
    "best_results_table"
   ]
  },
  {
   "cell_type": "code",
   "execution_count": null,
   "metadata": {},
   "outputs": [],
   "source": [
    "latex_str = best_results_table.to_latex(\n",
    "    index=False,\n",
    "    escape=True,\n",
    "    caption=\"Best Bloom Filter configuration for each dataset\",\n",
    "    label=\"tab:best_bloom_filter\",\n",
    "    float_format=\"%.2f\",\n",
    ")\n",
    "\n",
    "write_latex_table(\"best_bloom_filter.tex\", latex_str)"
   ]
  },
  {
   "cell_type": "code",
   "execution_count": null,
   "metadata": {},
   "outputs": [],
   "source": [
    "best_results_table = best_results.sort_values(by=[\"dataset\"])[[\"dataset\", \"bloom-filter\", \"config_name\", \"model_size_improvement\"]]\n",
    "best_results_table.groupby(\"bloom-filter\")[\"model_size_improvement\"].agg([\"mean\", \"std\", \"count\"])"
   ]
  },
  {
   "cell_type": "markdown",
   "metadata": {},
   "source": [
    "# 5. Select the wisard with best aggregated bloom filter\n",
    "\n",
    "Here we show that, costing up to 1% of performance of the best dict-wisard, a \n",
    "space-efficient bloom filter achieves the best results."
   ]
  },
  {
   "cell_type": "code",
   "execution_count": null,
   "metadata": {},
   "outputs": [],
   "source": [
    "# Up to 2% of accuracy loss\n",
    "metric_threshold = 0.01"
   ]
  },
  {
   "cell_type": "code",
   "execution_count": null,
   "metadata": {},
   "outputs": [],
   "source": [
    "results = base_results.copy()\n",
    "best_results = best_metric_dataset_model.copy()\n",
    "\n",
    "results = results[results[\"model\"] == \"wisard\"]\n",
    "best_results = best_results[best_results[\"model\"] == \"wisard\"]\n",
    "\n",
    "results[\"bloom-filter\"] = results[\"config_name\"].apply(lambda x: x.split(\" \")[0])\n",
    "best_results[\"bloom-filter\"] = best_results[\"config_name\"].apply(lambda x: x.split(\" \")[0])\n",
    "\n",
    "# Filter: only Dict, CountingBloomFilter and CountMinSketch\n",
    "results = results[results[\"bloom-filter\"].isin([\"Dict\", \"CountingBloomFilter\", \"CountMinSketch\"])]\n",
    "best_results = best_results[best_results[\"bloom-filter\"].isin([\"Dict\", \"CountingBloomFilter\", \"CountMinSketch\"])]"
   ]
  },
  {
   "cell_type": "code",
   "execution_count": null,
   "metadata": {},
   "outputs": [],
   "source": [
    "temp = []\n",
    "\n",
    "\n",
    "for dset_name, dset_df in results.groupby(\"dataset\"):\n",
    "    best_model = best_results[best_results[\"dataset\"] == dset_name].iloc[0]\n",
    "    # print(f\"*** Dataset: {dset_name} with metric: {best_model['metric']} and model size: {int(best_model['model_size'])}\")\n",
    "    bests = dset_df[dset_df[\"metric\"] >= best_model[\"metric\"] - metric_threshold]\n",
    "    bests[\"metric_improvement\"] = bests[\"metric\"]/ best_model[\"metric\"]\n",
    "    bests[\"model_size_improvement\"] = bests[\"model_size\"]/ best_model[\"model_size\"]\n",
    "    bests[\"best_metric\"]  = best_model[\"metric\"]\n",
    "    bests[\"best_model_size\"]  = best_model[\"model_size\"]\n",
    "    temp.append(bests)\n",
    "    \n",
    "results = pd.concat(temp, ignore_index=True)\n",
    "results.sample(n=3)"
   ]
  },
  {
   "cell_type": "code",
   "execution_count": null,
   "metadata": {},
   "outputs": [],
   "source": [
    "best_results = results.loc[results.groupby(\"dataset\")[\"model_size_improvement\"].idxmin()]\n",
    "best_results[\"bloom-filter\"].value_counts()"
   ]
  },
  {
   "cell_type": "code",
   "execution_count": null,
   "metadata": {},
   "outputs": [],
   "source": [
    "best_results_table = best_results.sort_values(by=[\"dataset\"])[[\"dataset\", \"config_name\", \"model_size_improvement\"]]\n",
    "\n",
    "best_results_table.rename(\n",
    "    columns={\n",
    "        \"dataset\": \"Dataset\",\n",
    "        \"config_name\": \"Bloom Filter Configuration\",\n",
    "        \"model_size_improvement\": \"Size Ratio\",\n",
    "    },\n",
    "    inplace=True,\n",
    ")\n",
    "\n",
    "best_results_table"
   ]
  },
  {
   "cell_type": "code",
   "execution_count": null,
   "metadata": {},
   "outputs": [],
   "source": [
    "latex_str = best_results_table.to_latex(\n",
    "    index=False,\n",
    "    escape=True,\n",
    "    caption=\"Best Bloom Filter configuration for each dataset\",\n",
    "    label=\"tab:best_bloom_filter_agg\",\n",
    "    float_format=\"%.2f\",\n",
    ")\n",
    "\n",
    "write_latex_table(\"best_bloom_filter_agg.tex\", latex_str)"
   ]
  },
  {
   "cell_type": "code",
   "execution_count": null,
   "metadata": {},
   "outputs": [],
   "source": [
    "best_results_table = best_results.sort_values(by=[\"dataset\"])[[\"dataset\", \"bloom-filter\", \"config_name\", \"model_size_improvement\"]]\n",
    "best_results_table.groupby(\"bloom-filter\")[\"model_size_improvement\"].agg([\"mean\", \"std\", \"count\"])"
   ]
  }
 ],
 "metadata": {
  "kernelspec": {
   "display_name": "Python 3 (ipykernel)",
   "language": "python",
   "name": "python3"
  },
  "language_info": {
   "codemirror_mode": {
    "name": "ipython",
    "version": 3
   },
   "file_extension": ".py",
   "mimetype": "text/x-python",
   "name": "python",
   "nbconvert_exporter": "python",
   "pygments_lexer": "ipython3",
   "version": "3.10.12"
  }
 },
 "nbformat": 4,
 "nbformat_minor": 2
}
