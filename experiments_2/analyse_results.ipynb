{
 "cells": [
  {
   "cell_type": "markdown",
   "metadata": {},
   "source": [
    "# Results Neurocomputing/ESANN 2024\n",
    "\n",
    "This notebook contains the code to analyse the results of the \n",
    "Neurocomputing/ESANN 2024 paper, and it is responsible for generating\n",
    "the figures and tables in the paper.\n",
    "\n",
    "The notebook is organised as follows:\n",
    "\n",
    "1. The first section contains imports, constants, helper functions and load the \n",
    "    data.\n",
    "\n",
    "2. We show that the dict-wisard has competitive performance with the \n",
    "    classical machine learning algorithms."
   ]
  },
  {
   "cell_type": "markdown",
   "metadata": {},
   "source": [
    "## 1. General constants, hhelper functions, and data loading\n",
    "\n",
    "Imports, global constants and packages' configuration."
   ]
  },
  {
   "cell_type": "code",
   "execution_count": 1,
   "metadata": {},
   "outputs": [],
   "source": [
    "from pathlib import Path\n",
    "import pandas as pd\n",
    "import numpy as np\n",
    "from typing import List, Union\n",
    "import plotly.graph_objects as go\n",
    "import plotly.express as px"
   ]
  },
  {
   "cell_type": "code",
   "execution_count": 2,
   "metadata": {},
   "outputs": [],
   "source": [
    "# Configs\n",
    "# pd.set_option(\"display.max_columns\", 100)\n",
    "pd.set_option(\"display.float_format\", lambda x: \"%.4f\" % x)\n",
    "\n",
    "# ---------- Paths -------------\n",
    "# -- Inputs\n",
    "datasets_info_path = Path(\"../experiments/datasets_info.json\")\n",
    "\n",
    "results_path = Path(\"../experiments_2/results_tune/results.csv\")\n",
    "results_sklearn_path = Path(\n",
    "    \"../experiments/results_sklearn/results_sklearn.csv\"\n",
    ")\n",
    "\n",
    "# --- Ouptuts\n",
    "latex_tables_path = Path(\"tables\")\n",
    "figures_path = Path(\"figures\")"
   ]
  },
  {
   "cell_type": "markdown",
   "metadata": {},
   "source": [
    "Useful functions"
   ]
  },
  {
   "cell_type": "code",
   "execution_count": 3,
   "metadata": {},
   "outputs": [],
   "source": [
    "def write_figure(\n",
    "    filename: str, fig: go.Figure, path: Union[Path, str] = figures_path\n",
    "):\n",
    "    \"\"\"Write a Figure to a file.\n",
    "\n",
    "    Parameters\n",
    "    ----------\n",
    "    filename : str\n",
    "        The name of the file to write to.\n",
    "    fig : go.Figure\n",
    "        The plotly figure object.\n",
    "    path : Union[Path, str], optional\n",
    "        The path where the file will be stored, by default figures_path\n",
    "    \"\"\"\n",
    "    path = Path(path)\n",
    "    path.mkdir(exist_ok=True, parents=True)\n",
    "    fname = path / filename\n",
    "    fig.write_image(fname)\n",
    "\n",
    "    print(f\"Figure written to: {fname}\")\n",
    "    print(f\"Filename   :\", filename)\n",
    "    print(f\"Latex label:\", filename.replace(\".pdf\", \"\"))\n",
    "\n",
    "\n",
    "def write_latex_table(\n",
    "    filename: str, table: str, path: Union[Path, str] = latex_tables_path\n",
    "):\n",
    "    \"\"\"Write a latex table to a file.\n",
    "\n",
    "    Parameters\n",
    "    ----------\n",
    "    filename : str\n",
    "        The name of the file to write to.\n",
    "    table : str\n",
    "        The table, as a string.\n",
    "    path : Union[Path, str], optional\n",
    "        The path where the file will be stored, by default latex_tables_path\n",
    "    \"\"\"\n",
    "    path = Path(path)\n",
    "    path.mkdir(exist_ok=True, parents=True)\n",
    "    fname = path / filename\n",
    "    with fname.open(\"w\") as f:\n",
    "        f.write(\n",
    "            \"%%%%%%%%%%%%%%%%%%%%%%%%%%%%%%%%%%%%%%%%%%%%%%%%%%%%%%%%%%%%%%%%%%%%\\n\"\n",
    "        )\n",
    "        f.write(\n",
    "            \"%% WARNING: DO NOT CHANGE THIS FILE. IT IS GENERATED AUTOMATICALLY %\\n\"\n",
    "        )\n",
    "        f.write(\n",
    "            \"%%%%%%%%%%%%%%%%%%%%%%%%%%%%%%%%%%%%%%%%%%%%%%%%%%%%%%%%%%%%%%%%%%%%\\n\"\n",
    "        )\n",
    "        f.write(table)\n",
    "    print(f\"Table written to: {fname}\")\n",
    "\n",
    "\n",
    "def aggregate_mean_std(\n",
    "    df: pd.DataFrame,\n",
    "    group_by: List[str],\n",
    "    keys_to_aggregate: List[str],\n",
    ") -> pd.DataFrame:\n",
    "    \"\"\"Group and aggregate columns of a dataframe, using mean and std.\n",
    "\n",
    "    Parameters\n",
    "    ----------\n",
    "    df : pd.DataFrame\n",
    "        The dataframe to aggregate.\n",
    "    group_by : List[str]\n",
    "        The columns used to group the dataframe.\n",
    "    keys_to_aggregate : List[str]\n",
    "        The column names that will be aggregated.\n",
    "\n",
    "    Returns\n",
    "    -------\n",
    "    pd.DataFrame\n",
    "        A dataframe with the aggregated values.\n",
    "\n",
    "    Example\n",
    "    -------\n",
    "    >>> df = pd.DataFrame({\n",
    "    ...     \"a\": [1, 1, 2, 2],\n",
    "    ...     \"b\": [1, 2, 3, 4],\n",
    "    ...     \"c\": [5, 6, 7, 8],\n",
    "    ... })\n",
    "    >>> aggregate_mean_std(df, [\"a\"], [\"b\", \"c\"])\n",
    "       a    b  b_std    c  c_std\n",
    "    0  1 1.500  0.707 5.500  0.707\n",
    "    1  2 3.500  0.707 7.500  0.707\n",
    "\n",
    "    \"\"\"\n",
    "    x = (\n",
    "        df.groupby(group_by)[keys_to_aggregate]\n",
    "        .agg(\"mean\")\n",
    "        .join(\n",
    "            df.groupby(group_by)[keys_to_aggregate].agg(\"std\"), rsuffix=\"_std\"\n",
    "        )\n",
    "    )\n",
    "    return x.reset_index()"
   ]
  },
  {
   "cell_type": "markdown",
   "metadata": {},
   "source": [
    "### Read inputs and create a full dataframe\n",
    "\n",
    "1. Read the datasets specifications (`dataset_info`)\n",
    "2. Read the wisard results (`wisard_results`)\n",
    "3. Read the sklearn results (`sklearn_results`)\n",
    "4. Create a results dataframe, mergind dataset_info, wisard_results and sklearn_results"
   ]
  },
  {
   "cell_type": "markdown",
   "metadata": {},
   "source": [
    "#### Dataset information"
   ]
  },
  {
   "cell_type": "code",
   "execution_count": 4,
   "metadata": {},
   "outputs": [
    {
     "data": {
      "text/html": [
       "<div>\n",
       "<style scoped>\n",
       "    .dataframe tbody tr th:only-of-type {\n",
       "        vertical-align: middle;\n",
       "    }\n",
       "\n",
       "    .dataframe tbody tr th {\n",
       "        vertical-align: top;\n",
       "    }\n",
       "\n",
       "    .dataframe thead th {\n",
       "        text-align: right;\n",
       "    }\n",
       "</style>\n",
       "<table border=\"1\" class=\"dataframe\">\n",
       "  <thead>\n",
       "    <tr style=\"text-align: right;\">\n",
       "      <th></th>\n",
       "      <th>dataset_name</th>\n",
       "      <th>size</th>\n",
       "      <th>features</th>\n",
       "      <th>num_classes</th>\n",
       "      <th>train_size</th>\n",
       "      <th>test_size</th>\n",
       "      <th>balanced</th>\n",
       "      <th>metric</th>\n",
       "    </tr>\n",
       "  </thead>\n",
       "  <tbody>\n",
       "    <tr>\n",
       "      <th>0</th>\n",
       "      <td>breast_cancer</td>\n",
       "      <td>141416</td>\n",
       "      <td>30</td>\n",
       "      <td>3</td>\n",
       "      <td>398</td>\n",
       "      <td>171</td>\n",
       "      <td>False</td>\n",
       "      <td>f1 weighted</td>\n",
       "    </tr>\n",
       "    <tr>\n",
       "      <th>1</th>\n",
       "      <td>dry_bean</td>\n",
       "      <td>1773910</td>\n",
       "      <td>16</td>\n",
       "      <td>7</td>\n",
       "      <td>10888</td>\n",
       "      <td>2723</td>\n",
       "      <td>False</td>\n",
       "      <td>f1 weighted</td>\n",
       "    </tr>\n",
       "    <tr>\n",
       "      <th>2</th>\n",
       "      <td>glass</td>\n",
       "      <td>17413</td>\n",
       "      <td>9</td>\n",
       "      <td>24</td>\n",
       "      <td>149</td>\n",
       "      <td>65</td>\n",
       "      <td>False</td>\n",
       "      <td>f1 weighted</td>\n",
       "    </tr>\n",
       "  </tbody>\n",
       "</table>\n",
       "</div>"
      ],
      "text/plain": [
       "    dataset_name     size  features  num_classes  train_size  test_size  \\\n",
       "0  breast_cancer   141416        30            3         398        171   \n",
       "1       dry_bean  1773910        16            7       10888       2723   \n",
       "2          glass    17413         9           24         149         65   \n",
       "\n",
       "   balanced       metric  \n",
       "0     False  f1 weighted  \n",
       "1     False  f1 weighted  \n",
       "2     False  f1 weighted  "
      ]
     },
     "execution_count": 4,
     "metadata": {},
     "output_type": "execute_result"
    }
   ],
   "source": [
    "# Datasets information\n",
    "datasets_info = pd.read_json(datasets_info_path, orient=\"index\").reset_index(drop=True)\n",
    "datasets_info.rename(columns={\"name\": \"dataset_name\"}, inplace=True)\n",
    "datasets_info.head(n=3)"
   ]
  },
  {
   "cell_type": "code",
   "execution_count": 5,
   "metadata": {},
   "outputs": [
    {
     "name": "stdout",
     "output_type": "stream",
     "text": [
      "Table written to: tables/datasets_info.tex\n"
     ]
    },
    {
     "name": "stderr",
     "output_type": "stream",
     "text": [
      "/tmp/ipykernel_402591/3092149693.py:4: SettingWithCopyWarning: \n",
      "A value is trying to be set on a copy of a slice from a DataFrame.\n",
      "Try using .loc[row_indexer,col_indexer] = value instead\n",
      "\n",
      "See the caveats in the documentation: https://pandas.pydata.org/pandas-docs/stable/user_guide/indexing.html#returning-a-view-versus-a-copy\n",
      "  info[\"size\"] = info[\"size\"] / 1024\n",
      "/tmp/ipykernel_402591/3092149693.py:16: FutureWarning: In future versions `DataFrame.to_latex` is expected to utilise the base implementation of `Styler.to_latex` for formatting and rendering. The arguments signature may therefore change. It is recommended instead to use `DataFrame.style.to_latex` which also contains additional functionality.\n",
      "  latex_str = info.to_latex(\n"
     ]
    }
   ],
   "source": [
    "info = datasets_info[\n",
    "    [\"dataset_name\", \"features\", \"size\", \"num_classes\", \"balanced\"]\n",
    "]\n",
    "info[\"size\"] = info[\"size\"] / 1024\n",
    "\n",
    "info = info.rename(\n",
    "    columns={\n",
    "        \"dataset_name\": \"Dataset\",\n",
    "        \"features\": \"Features\",\n",
    "        \"size\": \"Size (KB)\",\n",
    "        \"num_classes\": \"Classes\",\n",
    "        \"balanced\": \"Is Balanced?\",\n",
    "    }\n",
    ")\n",
    "\n",
    "latex_str = info.to_latex(\n",
    "    index=False,\n",
    "    escape=True,\n",
    "    caption=\"Datasets information\",\n",
    "    label=\"tab:datasets_info\",\n",
    "    float_format=\"%.2f\",\n",
    ")\n",
    "\n",
    "write_latex_table(\"datasets_info.tex\", latex_str)"
   ]
  },
  {
   "cell_type": "markdown",
   "metadata": {},
   "source": [
    "#### Wisard results\n",
    "\n",
    "Read and parse wisard result to `wisard_results` dataframe.\n",
    "\n",
    "**Note**: The `wisard_results` already has aggregated results for each dataset."
   ]
  },
  {
   "cell_type": "code",
   "execution_count": 6,
   "metadata": {},
   "outputs": [
    {
     "data": {
      "text/html": [
       "<div>\n",
       "<style scoped>\n",
       "    .dataframe tbody tr th:only-of-type {\n",
       "        vertical-align: middle;\n",
       "    }\n",
       "\n",
       "    .dataframe tbody tr th {\n",
       "        vertical-align: top;\n",
       "    }\n",
       "\n",
       "    .dataframe thead th {\n",
       "        text-align: right;\n",
       "    }\n",
       "</style>\n",
       "<table border=\"1\" class=\"dataframe\">\n",
       "  <thead>\n",
       "    <tr style=\"text-align: right;\">\n",
       "      <th></th>\n",
       "      <th>dataset</th>\n",
       "      <th>config_name</th>\n",
       "      <th>accuracy</th>\n",
       "      <th>accuracy_std</th>\n",
       "      <th>f1</th>\n",
       "      <th>f1_std</th>\n",
       "      <th>model_size</th>\n",
       "      <th>model_size_std</th>\n",
       "      <th>ties</th>\n",
       "      <th>ties_std</th>\n",
       "      <th>tuple_size</th>\n",
       "      <th>encoder</th>\n",
       "      <th>resolution</th>\n",
       "      <th>bleach</th>\n",
       "      <th>rams per discriminator</th>\n",
       "      <th>model</th>\n",
       "    </tr>\n",
       "  </thead>\n",
       "  <tbody>\n",
       "    <tr>\n",
       "      <th>38381</th>\n",
       "      <td>vehicle</td>\n",
       "      <td>HeavyHitters (NR: 310.0, W: 154.0, D: 4.0)</td>\n",
       "      <td>0.5373</td>\n",
       "      <td>0.0723</td>\n",
       "      <td>0.4873</td>\n",
       "      <td>0.0813</td>\n",
       "      <td>267840.0000</td>\n",
       "      <td>0.0000</td>\n",
       "      <td>121.0000</td>\n",
       "      <td>14.8997</td>\n",
       "      <td>20.0000</td>\n",
       "      <td>thermometer</td>\n",
       "      <td>40</td>\n",
       "      <td>2</td>\n",
       "      <td>36</td>\n",
       "      <td>wisard</td>\n",
       "    </tr>\n",
       "    <tr>\n",
       "      <th>38326</th>\n",
       "      <td>vehicle</td>\n",
       "      <td>HeavyHitters (NR: 5.0, W: 253.0, D: 3.0)</td>\n",
       "      <td>0.4000</td>\n",
       "      <td>0.0127</td>\n",
       "      <td>0.3431</td>\n",
       "      <td>0.0151</td>\n",
       "      <td>329616.0000</td>\n",
       "      <td>0.0000</td>\n",
       "      <td>140.3333</td>\n",
       "      <td>7.4087</td>\n",
       "      <td>13.0000</td>\n",
       "      <td>thermometer</td>\n",
       "      <td>26</td>\n",
       "      <td>3</td>\n",
       "      <td>36</td>\n",
       "      <td>wisard</td>\n",
       "    </tr>\n",
       "  </tbody>\n",
       "</table>\n",
       "</div>"
      ],
      "text/plain": [
       "       dataset                                 config_name  accuracy  \\\n",
       "38381  vehicle  HeavyHitters (NR: 310.0, W: 154.0, D: 4.0)    0.5373   \n",
       "38326  vehicle    HeavyHitters (NR: 5.0, W: 253.0, D: 3.0)    0.4000   \n",
       "\n",
       "       accuracy_std     f1  f1_std  model_size  model_size_std     ties  \\\n",
       "38381        0.0723 0.4873  0.0813 267840.0000          0.0000 121.0000   \n",
       "38326        0.0127 0.3431  0.0151 329616.0000          0.0000 140.3333   \n",
       "\n",
       "       ties_std  tuple_size      encoder  resolution  bleach  \\\n",
       "38381   14.8997     20.0000  thermometer          40       2   \n",
       "38326    7.4087     13.0000  thermometer          26       3   \n",
       "\n",
       "       rams per discriminator   model  \n",
       "38381                      36  wisard  \n",
       "38326                      36  wisard  "
      ]
     },
     "execution_count": 6,
     "metadata": {},
     "output_type": "execute_result"
    }
   ],
   "source": [
    "def parse_wisard_config_name(row) -> str:\n",
    "    \"\"\"Given a row, parse the name of configuration.\n",
    "\n",
    "    Parameters\n",
    "    ----------\n",
    "    row : pd.Series\n",
    "        The row of the dataframe.\n",
    "\n",
    "    Returns\n",
    "    -------\n",
    "    str\n",
    "        The name of the configuration.\n",
    "    \"\"\"\n",
    "\n",
    "    names = []\n",
    "    if not pd.isna(row[\"num_hitters\"]):\n",
    "        names.append(f\"NR: {row['num_hitters']}\")\n",
    "    if not pd.isna(row[\"width\"]):\n",
    "        names.append(f\"W: {row['width']}\")\n",
    "    if not pd.isna(row[\"depth\"]):\n",
    "        names.append(f\"D: {row['depth']}\")\n",
    "    if not pd.isna(row[\"capacity\"]):\n",
    "        names.append(f\"C: {row['capacity']}\")\n",
    "    if not pd.isna(row[\"bucket_size\"]):\n",
    "        names.append(f\"BS: {row['bucket_size']}\")\n",
    "    if not pd.isna(row[\"threshold\"]):\n",
    "        names.append(f\"T: {row['threshold']}\")\n",
    "    if not pd.isna(row[\"est_elements\"]):\n",
    "        names.append(f\"EST: {row['est_elements']}\")\n",
    "    if not pd.isna(row[\"false_positive_rate\"]):\n",
    "        names.append(f\"FPR: {row['false_positive_rate']}\")\n",
    "\n",
    "    if names:\n",
    "        names = \", \".join(names)\n",
    "        return f\"{row['ram']} ({names})\"\n",
    "    else:\n",
    "        return row[\"ram\"]\n",
    "\n",
    "\n",
    "# --- Read results and add a column with the name of the configuration ---\n",
    "wisard_results = pd.read_csv(results_path).drop_duplicates()\n",
    "\n",
    "# --- Add useful columns ---\n",
    "wisard_results[\"tuple_size\"] = (\n",
    "    wisard_results[\"resolution\"] / wisard_results[\"tuple_resolution_factor\"]\n",
    ")\n",
    "wisard_results[\"config_name\"] = wisard_results.apply(\n",
    "    parse_wisard_config_name, axis=1\n",
    ")\n",
    "\n",
    "# --- Select the columns of interest ---\n",
    "wisard_results = wisard_results[\n",
    "    [\n",
    "        \"dataset_name\",\n",
    "        \"config_name\",\n",
    "        \"test_accuracy_mean\",\n",
    "        \"test_accuracy_std\",\n",
    "        \"test_f1 weighted_mean\",\n",
    "        \"test_f1 weighted_std\",\n",
    "        \"test_model size_mean\",\n",
    "        \"test_model size_std\",\n",
    "        \"test_ties_mean\",\n",
    "        \"test_ties_std\",\n",
    "        \"tuple_size\",\n",
    "        \"encoder\",\n",
    "        \"resolution\",\n",
    "        \"bleach\",\n",
    "        \"rams per discriminator\",\n",
    "        \"ram\",\n",
    "    ]\n",
    "]\n",
    "\n",
    "# --- Rename columns ---\n",
    "wisard_results = wisard_results.rename(\n",
    "    columns={\n",
    "        \"dataset_name\": \"dataset\",\n",
    "        \"ram\": \"model\",\n",
    "        \"test_ties_mean\": \"ties\",\n",
    "        \"test_ties_std\": \"ties_std\",\n",
    "        \"test_accuracy_mean\": \"accuracy\",\n",
    "        \"test_accuracy_std\": \"accuracy_std\",\n",
    "        \"test_f1 weighted_mean\": \"f1\",\n",
    "        \"test_f1 weighted_std\": \"f1_std\",\n",
    "        \"test_model size_mean\": \"model_size\",\n",
    "        \"test_model size_std\": \"model_size_std\",\n",
    "    }\n",
    ")\n",
    "\n",
    "# --- Add model column and drop duplicates ---\n",
    "wisard_results[\"model\"] = \"wisard\"\n",
    "wisard_results.drop_duplicates(inplace=True)\n",
    "\n",
    "wisard_results.sample(n=2)"
   ]
  },
  {
   "cell_type": "markdown",
   "metadata": {},
   "source": [
    "#### Scikit Learn results\n",
    "\n",
    "Read and parse sklearn result to `sklearn_results` dataframe."
   ]
  },
  {
   "cell_type": "code",
   "execution_count": 7,
   "metadata": {},
   "outputs": [
    {
     "data": {
      "text/html": [
       "<div>\n",
       "<style scoped>\n",
       "    .dataframe tbody tr th:only-of-type {\n",
       "        vertical-align: middle;\n",
       "    }\n",
       "\n",
       "    .dataframe tbody tr th {\n",
       "        vertical-align: top;\n",
       "    }\n",
       "\n",
       "    .dataframe thead th {\n",
       "        text-align: right;\n",
       "    }\n",
       "</style>\n",
       "<table border=\"1\" class=\"dataframe\">\n",
       "  <thead>\n",
       "    <tr style=\"text-align: right;\">\n",
       "      <th></th>\n",
       "      <th>dataset</th>\n",
       "      <th>model</th>\n",
       "      <th>config_name</th>\n",
       "      <th>accuracy</th>\n",
       "      <th>accuracy_std</th>\n",
       "      <th>f1</th>\n",
       "      <th>f1_std</th>\n",
       "      <th>model_size</th>\n",
       "      <th>model_size_std</th>\n",
       "    </tr>\n",
       "  </thead>\n",
       "  <tbody>\n",
       "    <tr>\n",
       "      <th>38</th>\n",
       "      <td>glass</td>\n",
       "      <td>logistic-regression</td>\n",
       "      <td></td>\n",
       "      <td>0.6462</td>\n",
       "      <td>0.0000</td>\n",
       "      <td>0.6100</td>\n",
       "      <td>0.0000</td>\n",
       "      <td>1215.0000</td>\n",
       "      <td>0.0000</td>\n",
       "    </tr>\n",
       "    <tr>\n",
       "      <th>95</th>\n",
       "      <td>letter</td>\n",
       "      <td>random-forest</td>\n",
       "      <td></td>\n",
       "      <td>0.9607</td>\n",
       "      <td>0.0012</td>\n",
       "      <td>0.9607</td>\n",
       "      <td>0.0012</td>\n",
       "      <td>104223280.6667</td>\n",
       "      <td>35399.0349</td>\n",
       "    </tr>\n",
       "  </tbody>\n",
       "</table>\n",
       "</div>"
      ],
      "text/plain": [
       "   dataset                model config_name  accuracy  accuracy_std     f1  \\\n",
       "38   glass  logistic-regression                0.6462        0.0000 0.6100   \n",
       "95  letter        random-forest                0.9607        0.0012 0.9607   \n",
       "\n",
       "    f1_std     model_size  model_size_std  \n",
       "38  0.0000      1215.0000          0.0000  \n",
       "95  0.0012 104223280.6667      35399.0349  "
      ]
     },
     "execution_count": 7,
     "metadata": {},
     "output_type": "execute_result"
    }
   ],
   "source": [
    "# Read sklearn results and aggregate multiple runs\n",
    "sklearn_results = pd.read_csv(results_sklearn_path).drop_duplicates()\n",
    "\n",
    "# Aggregate metric for multiple runs\n",
    "sklearn_results = aggregate_mean_std(\n",
    "    df=sklearn_results,\n",
    "    group_by=[\n",
    "        \"model\",\n",
    "        \"model kwargs\",\n",
    "        \"dataset name\",\n",
    "        \"experiment name\",\n",
    "    ],\n",
    "    keys_to_aggregate=[\n",
    "        \"accuracy\",\n",
    "        \"f1 weighted\",\n",
    "        \"f1 macro\",\n",
    "        \"f1 micro\",\n",
    "        \"train time\",\n",
    "        \"predict time\",\n",
    "        \"model size\",\n",
    "    ],\n",
    ")\n",
    "\n",
    "# Select columns of interest\n",
    "sklearn_results = sklearn_results[\n",
    "    [\n",
    "        \"dataset name\",\n",
    "        \"model\",\n",
    "        \"model kwargs\",\n",
    "        \"accuracy\",\n",
    "        \"accuracy_std\",\n",
    "        \"f1 weighted\",\n",
    "        \"f1 weighted_std\",\n",
    "        \"model size\",\n",
    "        \"model size_std\",\n",
    "    ]\n",
    "]\n",
    "\n",
    "# Rename columns\n",
    "sklearn_results.rename(\n",
    "    columns={\n",
    "        \"dataset name\": \"dataset\",\n",
    "        \"model kwargs\": \"config_name\",\n",
    "        \"f1 weighted\": \"f1\",\n",
    "        \"f1 weighted_std\": \"f1_std\",\n",
    "        \"model size\": \"model_size\",\n",
    "        \"model size_std\": \"model_size_std\",\n",
    "    },\n",
    "    inplace=True,\n",
    ")\n",
    "\n",
    "# Add config_name (name of the model)\n",
    "sklearn_results[\"config_name\"] = \"\"\n",
    "\n",
    "sklearn_results.sample(n=2)"
   ]
  },
  {
   "cell_type": "markdown",
   "metadata": {},
   "source": [
    "#### Merge wisard results, sklearn results, and dataset information\n",
    "\n",
    "Create a full dataframe with all the information named  `base_results`."
   ]
  },
  {
   "cell_type": "code",
   "execution_count": 8,
   "metadata": {},
   "outputs": [
    {
     "data": {
      "text/html": [
       "<div>\n",
       "<style scoped>\n",
       "    .dataframe tbody tr th:only-of-type {\n",
       "        vertical-align: middle;\n",
       "    }\n",
       "\n",
       "    .dataframe tbody tr th {\n",
       "        vertical-align: top;\n",
       "    }\n",
       "\n",
       "    .dataframe thead th {\n",
       "        text-align: right;\n",
       "    }\n",
       "</style>\n",
       "<table border=\"1\" class=\"dataframe\">\n",
       "  <thead>\n",
       "    <tr style=\"text-align: right;\">\n",
       "      <th></th>\n",
       "      <th>dataset</th>\n",
       "      <th>model</th>\n",
       "      <th>config_name</th>\n",
       "      <th>metric</th>\n",
       "      <th>metric_std</th>\n",
       "      <th>model_size</th>\n",
       "      <th>model_size_std</th>\n",
       "      <th>accuracy</th>\n",
       "      <th>accuracy_std</th>\n",
       "      <th>f1</th>\n",
       "      <th>...</th>\n",
       "      <th>tuple_size</th>\n",
       "      <th>encoder</th>\n",
       "      <th>resolution</th>\n",
       "      <th>bleach</th>\n",
       "      <th>rams per discriminator</th>\n",
       "      <th>dataset_size</th>\n",
       "      <th>features</th>\n",
       "      <th>num_classes</th>\n",
       "      <th>train_size</th>\n",
       "      <th>test_size</th>\n",
       "    </tr>\n",
       "  </thead>\n",
       "  <tbody>\n",
       "    <tr>\n",
       "      <th>6691</th>\n",
       "      <td>sepsis</td>\n",
       "      <td>wisard</td>\n",
       "      <td>StreamThreshold (W: 1.0, D: 5.0, T: 35.0)</td>\n",
       "      <td>0.0101</td>\n",
       "      <td>0.0000</td>\n",
       "      <td>216.0000</td>\n",
       "      <td>0.0000</td>\n",
       "      <td>0.0737</td>\n",
       "      <td>0.0000</td>\n",
       "      <td>0.0101</td>\n",
       "      <td>...</td>\n",
       "      <td>63.0000</td>\n",
       "      <td>distributive-thermometer</td>\n",
       "      <td>63.0000</td>\n",
       "      <td>774.0000</td>\n",
       "      <td>3.0000</td>\n",
       "      <td>3535311</td>\n",
       "      <td>3</td>\n",
       "      <td>2</td>\n",
       "      <td>88272</td>\n",
       "      <td>22069</td>\n",
       "    </tr>\n",
       "    <tr>\n",
       "      <th>6138</th>\n",
       "      <td>dry_bean</td>\n",
       "      <td>wisard</td>\n",
       "      <td>Dict</td>\n",
       "      <td>0.6787</td>\n",
       "      <td>0.0173</td>\n",
       "      <td>516411.5000</td>\n",
       "      <td>13113.5000</td>\n",
       "      <td>0.6952</td>\n",
       "      <td>0.0129</td>\n",
       "      <td>0.6787</td>\n",
       "      <td>...</td>\n",
       "      <td>38.0000</td>\n",
       "      <td>distributive-thermometer</td>\n",
       "      <td>76.0000</td>\n",
       "      <td>12.0000</td>\n",
       "      <td>32.0000</td>\n",
       "      <td>1773910</td>\n",
       "      <td>16</td>\n",
       "      <td>7</td>\n",
       "      <td>10888</td>\n",
       "      <td>2723</td>\n",
       "    </tr>\n",
       "  </tbody>\n",
       "</table>\n",
       "<p>2 rows × 23 columns</p>\n",
       "</div>"
      ],
      "text/plain": [
       "       dataset   model                                config_name  metric  \\\n",
       "6691    sepsis  wisard  StreamThreshold (W: 1.0, D: 5.0, T: 35.0)  0.0101   \n",
       "6138  dry_bean  wisard                                       Dict  0.6787   \n",
       "\n",
       "      metric_std  model_size  model_size_std  accuracy  accuracy_std     f1  \\\n",
       "6691      0.0000    216.0000          0.0000    0.0737        0.0000 0.0101   \n",
       "6138      0.0173 516411.5000      13113.5000    0.6952        0.0129 0.6787   \n",
       "\n",
       "      ...  tuple_size                   encoder  resolution   bleach  \\\n",
       "6691  ...     63.0000  distributive-thermometer     63.0000 774.0000   \n",
       "6138  ...     38.0000  distributive-thermometer     76.0000  12.0000   \n",
       "\n",
       "     rams per discriminator  dataset_size  features  num_classes  train_size  \\\n",
       "6691                 3.0000       3535311         3            2       88272   \n",
       "6138                32.0000       1773910        16            7       10888   \n",
       "\n",
       "      test_size  \n",
       "6691      22069  \n",
       "6138       2723  \n",
       "\n",
       "[2 rows x 23 columns]"
      ]
     },
     "execution_count": 8,
     "metadata": {},
     "output_type": "execute_result"
    }
   ],
   "source": [
    "# results is a dataframe with the results of both wisard (only dict ram) and sklearn\n",
    "# temp = wisard_results.loc[wisard_results[(wisard_results[\"config_name\"] == \"Dict\")].groupby(\"dataset\")[\"accuracy\"].idxmax()]\n",
    "# results = pd.concat([temp, sklearn_results], ignore_index=True)\n",
    "base_results = pd.concat([wisard_results, sklearn_results], ignore_index=True)\n",
    "base_results = pd.merge(\n",
    "    base_results,\n",
    "    datasets_info,\n",
    "    left_on=\"dataset\",\n",
    "    right_on=\"dataset_name\",\n",
    "    how=\"left\",\n",
    "    validate=\"many_to_one\",\n",
    ")\n",
    "\n",
    "base_results.rename(columns={\"metric\": \"metric_to_use\"}, inplace=True)\n",
    "\n",
    "# add a metric column to results. If metric_to_use is f1 weighted, copy the f1 column to metric, else copy the accuracy column. Do it for each row\n",
    "base_results[\"metric\"] = base_results.apply(\n",
    "    lambda row: row[\"accuracy\"]\n",
    "    if row[\"metric_to_use\"] == \"accuracy\"\n",
    "    else row[\"f1\"],\n",
    "    axis=1,\n",
    ")\n",
    "base_results[\"metric_std\"] = base_results.apply(\n",
    "    lambda row: row[\"accuracy_std\"]\n",
    "    if row[\"metric_to_use\"] == \"accuracy\"\n",
    "    else row[\"f1_std\"],\n",
    "    axis=1,\n",
    ")\n",
    "\n",
    "# Rename some columns\n",
    "base_results.rename(\n",
    "    columns={\n",
    "        \"size\": \"dataset_size\",\n",
    "    },\n",
    "    inplace=True,\n",
    ")\n",
    "\n",
    "# Remove dataset_name column\n",
    "base_results.drop(columns=[\"dataset_name\"], inplace=True)\n",
    "\n",
    "# We use metric column to compare models, instead of accuracy or f1\n",
    "\n",
    "# Put dataset, model, config_name, metric, metric_std, model_size, model_size_std columns first\n",
    "cols = base_results.columns.tolist()\n",
    "cols = [\n",
    "    \"dataset\",\n",
    "    \"model\",\n",
    "    \"config_name\",\n",
    "    \"metric\",\n",
    "    \"metric_std\",\n",
    "    \"model_size\",\n",
    "    \"model_size_std\",\n",
    "] + cols[2:-4]\n",
    "base_results = base_results[cols]\n",
    "\n",
    "# Drop duplicates columns\n",
    "base_results = base_results.loc[:,~base_results.columns.duplicated()]\n",
    "\n",
    "base_results.sample(n=2)"
   ]
  },
  {
   "cell_type": "code",
   "execution_count": 9,
   "metadata": {},
   "outputs": [
    {
     "data": {
      "text/plain": [
       "(14187, 23)"
      ]
     },
     "execution_count": 9,
     "metadata": {},
     "output_type": "execute_result"
    }
   ],
   "source": [
    "# Filter results\n",
    "base_results = base_results[base_results[\"model\"].isin([\"wisard\", \"knn\", \"random-forest\", \"svm\", \"mlp\"])]\n",
    "base_results = base_results[~base_results[\"dataset\"].isin([\"mnist\", \"olivetti\", \"sensorless_drive\"])]\n",
    "# base_results = base_results[~base_results[\"dataset\"].isin([\"olivetti\", \"sensorless_drive\"])]\n",
    "base_results.shape"
   ]
  },
  {
   "cell_type": "markdown",
   "metadata": {},
   "source": [
    "## 2. Wisard has competitive results with SKLearn\n",
    "\n",
    "Here we show that the dict-wisard has competitive performance with the\n",
    "classical machine learning algorithms.\n",
    "\n",
    "To do that, we plot the accuracy of the wisard and sklearn algorithms for each\n",
    "dataset."
   ]
  },
  {
   "cell_type": "code",
   "execution_count": 10,
   "metadata": {},
   "outputs": [
    {
     "data": {
      "text/plain": [
       "(3581, 23)"
      ]
     },
     "execution_count": 10,
     "metadata": {},
     "output_type": "execute_result"
    }
   ],
   "source": [
    "# Read results and filter bloom filter results\n",
    "results = base_results.copy()\n",
    "results = results[\n",
    "    (results[\"model\"] != \"wisard\") | (results[\"config_name\"] == \"Dict\")\n",
    "]\n",
    "results.shape"
   ]
  },
  {
   "cell_type": "code",
   "execution_count": 11,
   "metadata": {},
   "outputs": [
    {
     "data": {
      "text/plain": [
       "model\n",
       "knn              15\n",
       "mlp              15\n",
       "random-forest    15\n",
       "svm              15\n",
       "wisard           15\n",
       "dtype: int64"
      ]
     },
     "execution_count": 11,
     "metadata": {},
     "output_type": "execute_result"
    }
   ],
   "source": [
    "# Create a dataframe with the best performance for each dataset and model\n",
    "best_metric_df = (\n",
    "    results.groupby([\"dataset\", \"model\"])\n",
    "    .apply(lambda group: group.loc[group[\"metric\"].idxmax()])\n",
    "    .reset_index(drop=True)\n",
    ")\n",
    "\n",
    "best_metric_df.value_counts(\"model\")"
   ]
  },
  {
   "cell_type": "code",
   "execution_count": 12,
   "metadata": {},
   "outputs": [
    {
     "name": "stdout",
     "output_type": "stream",
     "text": [
      "Figure written to: figures/models_performance.pdf\n",
      "Filename   : models_performance.pdf\n",
      "Latex label: models_performance\n"
     ]
    },
    {
     "data": {
      "application/vnd.plotly.v1+json": {
       "config": {
        "plotlyServerURL": "https://plot.ly"
       },
       "data": [
        {
         "alignmentgroup": "True",
         "error_y": {
          "array": [
           0,
           0,
           0,
           0,
           0,
           0,
           0,
           0,
           0,
           0,
           0,
           0,
           0,
           0,
           0
          ]
         },
         "hovertemplate": "=knn<br>Dataset=%{x}<br>Performance=%{y}<extra></extra>",
         "legendgroup": "knn",
         "marker": {
          "color": "rgb(95, 70, 144)",
          "pattern": {
           "shape": ""
          }
         },
         "name": "knn",
         "offsetgroup": "knn",
         "orientation": "v",
         "showlegend": true,
         "textposition": "auto",
         "type": "bar",
         "x": [
          "breast_cancer",
          "dry_bean",
          "glass",
          "image_segmentation",
          "iris",
          "letter",
          "motion_sense",
          "optical_handwritten",
          "rice",
          "satimage",
          "segment",
          "sepsis",
          "vehicle",
          "wine",
          "yeast"
         ],
         "xaxis": "x",
         "y": [
          0.9178579163959281,
          0.7175232545997096,
          0.7092884420543996,
          0.5476190476190477,
          0.9555555555555556,
          0.9455,
          0.5049019607843137,
          0.988428941906149,
          0.8636907391101323,
          0.9025045416497844,
          0.9336219336219336,
          0.8909546104108189,
          0.8176470588235295,
          0.6714063714063713,
          0.5463856770422707
         ],
         "yaxis": "y"
        },
        {
         "alignmentgroup": "True",
         "error_y": {
          "array": [
           0,
           0.14704971968785469,
           0,
           0.027492869961410732,
           0,
           0.0022422706745123333,
           0.008452625592403605,
           0.004483121228581144,
           0.24718101011399493,
           0.0013219608840686324,
           0.010405631386620488,
           0,
           0,
           0,
           0
          ]
         },
         "hovertemplate": "=mlp<br>Dataset=%{x}<br>Performance=%{y}<extra></extra>",
         "legendgroup": "mlp",
         "marker": {
          "color": "rgb(29, 105, 150)",
          "pattern": {
           "shape": ""
          }
         },
         "name": "mlp",
         "offsetgroup": "mlp",
         "orientation": "v",
         "showlegend": true,
         "textposition": "auto",
         "type": "bar",
         "x": [
          "breast_cancer",
          "dry_bean",
          "glass",
          "image_segmentation",
          "iris",
          "letter",
          "motion_sense",
          "optical_handwritten",
          "rice",
          "satimage",
          "segment",
          "sepsis",
          "vehicle",
          "wine",
          "yeast"
         ],
         "xaxis": "x",
         "y": [
          0.9103013945119208,
          0.22507061835587583,
          0.4554142391626345,
          0.5555555555555555,
          0.9777777777777775,
          0.9205,
          0.6565359477124183,
          0.981028439293471,
          0.4777329795241849,
          0.9116120122328867,
          0.9422799422799423,
          0.8908920043310973,
          0.8176470588235295,
          0.8883769948810599,
          0.5895877432143035
         ],
         "yaxis": "y"
        },
        {
         "alignmentgroup": "True",
         "error_y": {
          "array": [
           0,
           0.0017192363008078674,
           0,
           0,
           0,
           0.001228519132638647,
           0.012820291010413778,
           0.0013610825370562994,
           0.0007729364284437067,
           0.001053388220941523,
           0.0008331172715577878,
           0.000026127788329374387,
           0.00339617805405661,
           0,
           0
          ]
         },
         "hovertemplate": "=random-forest<br>Dataset=%{x}<br>Performance=%{y}<extra></extra>",
         "legendgroup": "random-forest",
         "marker": {
          "color": "rgb(56, 166, 165)",
          "pattern": {
           "shape": ""
          }
         },
         "name": "random-forest",
         "offsetgroup": "random-forest",
         "orientation": "v",
         "showlegend": true,
         "textposition": "auto",
         "type": "bar",
         "x": [
          "breast_cancer",
          "dry_bean",
          "glass",
          "image_segmentation",
          "iris",
          "letter",
          "motion_sense",
          "optical_handwritten",
          "rice",
          "satimage",
          "segment",
          "sepsis",
          "vehicle",
          "wine",
          "yeast"
         ],
         "xaxis": "x",
         "y": [
          0.9708871747643292,
          0.9198474773426017,
          0.7060178946619377,
          0.6190476190476191,
          0.9333333333333332,
          0.9607222222222221,
          0.8078431372549019,
          0.9827979576880973,
          0.9152644340920002,
          0.910574331227231,
          0.9716209716209715,
          0.8908090454440197,
          0.9686274509803922,
          0.9815543316723488,
          0.6207256954912499
         ],
         "yaxis": "y"
        },
        {
         "alignmentgroup": "True",
         "error_y": {
          "array": [
           0,
           0,
           0,
           0,
           0,
           0,
           0,
           0,
           0,
           0,
           0,
           0,
           0,
           0,
           0
          ]
         },
         "hovertemplate": "=svm<br>Dataset=%{x}<br>Performance=%{y}<extra></extra>",
         "legendgroup": "svm",
         "marker": {
          "color": "rgb(15, 133, 84)",
          "pattern": {
           "shape": ""
          }
         },
         "name": "svm",
         "offsetgroup": "svm",
         "orientation": "v",
         "showlegend": true,
         "textposition": "auto",
         "type": "bar",
         "x": [
          "breast_cancer",
          "dry_bean",
          "glass",
          "image_segmentation",
          "iris",
          "letter",
          "motion_sense",
          "optical_handwritten",
          "rice",
          "satimage",
          "segment",
          "sepsis",
          "vehicle",
          "wine",
          "yeast"
         ],
         "xaxis": "x",
         "y": [
          0.8730641381054367,
          0.6014133504868324,
          0.1849650349650349,
          0.5,
          1,
          0.92,
          0.538235294117647,
          0.9919918925110768,
          0.867169718729999,
          0.892530243798912,
          0.8701298701298702,
          0.8908920043310973,
          0.7176470588235294,
          0.6486013986013985,
          0.5992100016133695
         ],
         "yaxis": "y"
        },
        {
         "alignmentgroup": "True",
         "error_y": {
          "array": [
           0.0099820632299025,
           0.0022812085867171,
           0.0224288030898329,
           0.0336717514850736,
           0,
           0.0032470309324894,
           0,
           0.0034620193541112,
           1.1102230246251563e-16,
           0.0061906608057078,
           0.0054418992299108,
           0.0002268381546205,
           0.0127073347027605,
           0.0153247986020781,
           0.0031494801628382
          ]
         },
         "hovertemplate": "=wisard<br>Dataset=%{x}<br>Performance=%{y}<extra></extra>",
         "legendgroup": "wisard",
         "marker": {
          "color": "rgb(115, 175, 72)",
          "pattern": {
           "shape": ""
          }
         },
         "name": "wisard",
         "offsetgroup": "wisard",
         "orientation": "v",
         "showlegend": true,
         "textposition": "auto",
         "type": "bar",
         "x": [
          "breast_cancer",
          "dry_bean",
          "glass",
          "image_segmentation",
          "iris",
          "letter",
          "motion_sense",
          "optical_handwritten",
          "rice",
          "satimage",
          "segment",
          "sepsis",
          "vehicle",
          "wine",
          "yeast"
         ],
         "xaxis": "x",
         "y": [
          0.9628161882204516,
          0.9024029619050484,
          0.6615428500177969,
          0.8571428571428572,
          1,
          0.9000555555555557,
          0.65,
          0.9780450131673772,
          0.8994465342855008,
          0.8866629525557234,
          0.8807118807118807,
          0.8915753747755484,
          0.8941176470588235,
          0.962856206024315,
          0.5700237244955314
         ],
         "yaxis": "y"
        }
       ],
       "layout": {
        "barmode": "group",
        "font": {
         "family": "Times New Roman",
         "size": 14
        },
        "height": 400,
        "legend": {
         "orientation": "h",
         "title": {
          "text": ""
         },
         "tracegroupgap": 0,
         "x": 0.5,
         "xanchor": "center",
         "y": 1.2,
         "yanchor": "top"
        },
        "margin": {
         "t": 60
        },
        "template": {
         "data": {
          "bar": [
           {
            "error_x": {
             "color": "#2a3f5f"
            },
            "error_y": {
             "color": "#2a3f5f"
            },
            "marker": {
             "line": {
              "color": "#E5ECF6",
              "width": 0.5
             },
             "pattern": {
              "fillmode": "overlay",
              "size": 10,
              "solidity": 0.2
             }
            },
            "type": "bar"
           }
          ],
          "barpolar": [
           {
            "marker": {
             "line": {
              "color": "#E5ECF6",
              "width": 0.5
             },
             "pattern": {
              "fillmode": "overlay",
              "size": 10,
              "solidity": 0.2
             }
            },
            "type": "barpolar"
           }
          ],
          "carpet": [
           {
            "aaxis": {
             "endlinecolor": "#2a3f5f",
             "gridcolor": "white",
             "linecolor": "white",
             "minorgridcolor": "white",
             "startlinecolor": "#2a3f5f"
            },
            "baxis": {
             "endlinecolor": "#2a3f5f",
             "gridcolor": "white",
             "linecolor": "white",
             "minorgridcolor": "white",
             "startlinecolor": "#2a3f5f"
            },
            "type": "carpet"
           }
          ],
          "choropleth": [
           {
            "colorbar": {
             "outlinewidth": 0,
             "ticks": ""
            },
            "type": "choropleth"
           }
          ],
          "contour": [
           {
            "colorbar": {
             "outlinewidth": 0,
             "ticks": ""
            },
            "colorscale": [
             [
              0,
              "#0d0887"
             ],
             [
              0.1111111111111111,
              "#46039f"
             ],
             [
              0.2222222222222222,
              "#7201a8"
             ],
             [
              0.3333333333333333,
              "#9c179e"
             ],
             [
              0.4444444444444444,
              "#bd3786"
             ],
             [
              0.5555555555555556,
              "#d8576b"
             ],
             [
              0.6666666666666666,
              "#ed7953"
             ],
             [
              0.7777777777777778,
              "#fb9f3a"
             ],
             [
              0.8888888888888888,
              "#fdca26"
             ],
             [
              1,
              "#f0f921"
             ]
            ],
            "type": "contour"
           }
          ],
          "contourcarpet": [
           {
            "colorbar": {
             "outlinewidth": 0,
             "ticks": ""
            },
            "type": "contourcarpet"
           }
          ],
          "heatmap": [
           {
            "colorbar": {
             "outlinewidth": 0,
             "ticks": ""
            },
            "colorscale": [
             [
              0,
              "#0d0887"
             ],
             [
              0.1111111111111111,
              "#46039f"
             ],
             [
              0.2222222222222222,
              "#7201a8"
             ],
             [
              0.3333333333333333,
              "#9c179e"
             ],
             [
              0.4444444444444444,
              "#bd3786"
             ],
             [
              0.5555555555555556,
              "#d8576b"
             ],
             [
              0.6666666666666666,
              "#ed7953"
             ],
             [
              0.7777777777777778,
              "#fb9f3a"
             ],
             [
              0.8888888888888888,
              "#fdca26"
             ],
             [
              1,
              "#f0f921"
             ]
            ],
            "type": "heatmap"
           }
          ],
          "heatmapgl": [
           {
            "colorbar": {
             "outlinewidth": 0,
             "ticks": ""
            },
            "colorscale": [
             [
              0,
              "#0d0887"
             ],
             [
              0.1111111111111111,
              "#46039f"
             ],
             [
              0.2222222222222222,
              "#7201a8"
             ],
             [
              0.3333333333333333,
              "#9c179e"
             ],
             [
              0.4444444444444444,
              "#bd3786"
             ],
             [
              0.5555555555555556,
              "#d8576b"
             ],
             [
              0.6666666666666666,
              "#ed7953"
             ],
             [
              0.7777777777777778,
              "#fb9f3a"
             ],
             [
              0.8888888888888888,
              "#fdca26"
             ],
             [
              1,
              "#f0f921"
             ]
            ],
            "type": "heatmapgl"
           }
          ],
          "histogram": [
           {
            "marker": {
             "pattern": {
              "fillmode": "overlay",
              "size": 10,
              "solidity": 0.2
             }
            },
            "type": "histogram"
           }
          ],
          "histogram2d": [
           {
            "colorbar": {
             "outlinewidth": 0,
             "ticks": ""
            },
            "colorscale": [
             [
              0,
              "#0d0887"
             ],
             [
              0.1111111111111111,
              "#46039f"
             ],
             [
              0.2222222222222222,
              "#7201a8"
             ],
             [
              0.3333333333333333,
              "#9c179e"
             ],
             [
              0.4444444444444444,
              "#bd3786"
             ],
             [
              0.5555555555555556,
              "#d8576b"
             ],
             [
              0.6666666666666666,
              "#ed7953"
             ],
             [
              0.7777777777777778,
              "#fb9f3a"
             ],
             [
              0.8888888888888888,
              "#fdca26"
             ],
             [
              1,
              "#f0f921"
             ]
            ],
            "type": "histogram2d"
           }
          ],
          "histogram2dcontour": [
           {
            "colorbar": {
             "outlinewidth": 0,
             "ticks": ""
            },
            "colorscale": [
             [
              0,
              "#0d0887"
             ],
             [
              0.1111111111111111,
              "#46039f"
             ],
             [
              0.2222222222222222,
              "#7201a8"
             ],
             [
              0.3333333333333333,
              "#9c179e"
             ],
             [
              0.4444444444444444,
              "#bd3786"
             ],
             [
              0.5555555555555556,
              "#d8576b"
             ],
             [
              0.6666666666666666,
              "#ed7953"
             ],
             [
              0.7777777777777778,
              "#fb9f3a"
             ],
             [
              0.8888888888888888,
              "#fdca26"
             ],
             [
              1,
              "#f0f921"
             ]
            ],
            "type": "histogram2dcontour"
           }
          ],
          "mesh3d": [
           {
            "colorbar": {
             "outlinewidth": 0,
             "ticks": ""
            },
            "type": "mesh3d"
           }
          ],
          "parcoords": [
           {
            "line": {
             "colorbar": {
              "outlinewidth": 0,
              "ticks": ""
             }
            },
            "type": "parcoords"
           }
          ],
          "pie": [
           {
            "automargin": true,
            "type": "pie"
           }
          ],
          "scatter": [
           {
            "fillpattern": {
             "fillmode": "overlay",
             "size": 10,
             "solidity": 0.2
            },
            "type": "scatter"
           }
          ],
          "scatter3d": [
           {
            "line": {
             "colorbar": {
              "outlinewidth": 0,
              "ticks": ""
             }
            },
            "marker": {
             "colorbar": {
              "outlinewidth": 0,
              "ticks": ""
             }
            },
            "type": "scatter3d"
           }
          ],
          "scattercarpet": [
           {
            "marker": {
             "colorbar": {
              "outlinewidth": 0,
              "ticks": ""
             }
            },
            "type": "scattercarpet"
           }
          ],
          "scattergeo": [
           {
            "marker": {
             "colorbar": {
              "outlinewidth": 0,
              "ticks": ""
             }
            },
            "type": "scattergeo"
           }
          ],
          "scattergl": [
           {
            "marker": {
             "colorbar": {
              "outlinewidth": 0,
              "ticks": ""
             }
            },
            "type": "scattergl"
           }
          ],
          "scattermapbox": [
           {
            "marker": {
             "colorbar": {
              "outlinewidth": 0,
              "ticks": ""
             }
            },
            "type": "scattermapbox"
           }
          ],
          "scatterpolar": [
           {
            "marker": {
             "colorbar": {
              "outlinewidth": 0,
              "ticks": ""
             }
            },
            "type": "scatterpolar"
           }
          ],
          "scatterpolargl": [
           {
            "marker": {
             "colorbar": {
              "outlinewidth": 0,
              "ticks": ""
             }
            },
            "type": "scatterpolargl"
           }
          ],
          "scatterternary": [
           {
            "marker": {
             "colorbar": {
              "outlinewidth": 0,
              "ticks": ""
             }
            },
            "type": "scatterternary"
           }
          ],
          "surface": [
           {
            "colorbar": {
             "outlinewidth": 0,
             "ticks": ""
            },
            "colorscale": [
             [
              0,
              "#0d0887"
             ],
             [
              0.1111111111111111,
              "#46039f"
             ],
             [
              0.2222222222222222,
              "#7201a8"
             ],
             [
              0.3333333333333333,
              "#9c179e"
             ],
             [
              0.4444444444444444,
              "#bd3786"
             ],
             [
              0.5555555555555556,
              "#d8576b"
             ],
             [
              0.6666666666666666,
              "#ed7953"
             ],
             [
              0.7777777777777778,
              "#fb9f3a"
             ],
             [
              0.8888888888888888,
              "#fdca26"
             ],
             [
              1,
              "#f0f921"
             ]
            ],
            "type": "surface"
           }
          ],
          "table": [
           {
            "cells": {
             "fill": {
              "color": "#EBF0F8"
             },
             "line": {
              "color": "white"
             }
            },
            "header": {
             "fill": {
              "color": "#C8D4E3"
             },
             "line": {
              "color": "white"
             }
            },
            "type": "table"
           }
          ]
         },
         "layout": {
          "annotationdefaults": {
           "arrowcolor": "#2a3f5f",
           "arrowhead": 0,
           "arrowwidth": 1
          },
          "autotypenumbers": "strict",
          "coloraxis": {
           "colorbar": {
            "outlinewidth": 0,
            "ticks": ""
           }
          },
          "colorscale": {
           "diverging": [
            [
             0,
             "#8e0152"
            ],
            [
             0.1,
             "#c51b7d"
            ],
            [
             0.2,
             "#de77ae"
            ],
            [
             0.3,
             "#f1b6da"
            ],
            [
             0.4,
             "#fde0ef"
            ],
            [
             0.5,
             "#f7f7f7"
            ],
            [
             0.6,
             "#e6f5d0"
            ],
            [
             0.7,
             "#b8e186"
            ],
            [
             0.8,
             "#7fbc41"
            ],
            [
             0.9,
             "#4d9221"
            ],
            [
             1,
             "#276419"
            ]
           ],
           "sequential": [
            [
             0,
             "#0d0887"
            ],
            [
             0.1111111111111111,
             "#46039f"
            ],
            [
             0.2222222222222222,
             "#7201a8"
            ],
            [
             0.3333333333333333,
             "#9c179e"
            ],
            [
             0.4444444444444444,
             "#bd3786"
            ],
            [
             0.5555555555555556,
             "#d8576b"
            ],
            [
             0.6666666666666666,
             "#ed7953"
            ],
            [
             0.7777777777777778,
             "#fb9f3a"
            ],
            [
             0.8888888888888888,
             "#fdca26"
            ],
            [
             1,
             "#f0f921"
            ]
           ],
           "sequentialminus": [
            [
             0,
             "#0d0887"
            ],
            [
             0.1111111111111111,
             "#46039f"
            ],
            [
             0.2222222222222222,
             "#7201a8"
            ],
            [
             0.3333333333333333,
             "#9c179e"
            ],
            [
             0.4444444444444444,
             "#bd3786"
            ],
            [
             0.5555555555555556,
             "#d8576b"
            ],
            [
             0.6666666666666666,
             "#ed7953"
            ],
            [
             0.7777777777777778,
             "#fb9f3a"
            ],
            [
             0.8888888888888888,
             "#fdca26"
            ],
            [
             1,
             "#f0f921"
            ]
           ]
          },
          "colorway": [
           "#636efa",
           "#EF553B",
           "#00cc96",
           "#ab63fa",
           "#FFA15A",
           "#19d3f3",
           "#FF6692",
           "#B6E880",
           "#FF97FF",
           "#FECB52"
          ],
          "font": {
           "color": "#2a3f5f"
          },
          "geo": {
           "bgcolor": "white",
           "lakecolor": "white",
           "landcolor": "#E5ECF6",
           "showlakes": true,
           "showland": true,
           "subunitcolor": "white"
          },
          "hoverlabel": {
           "align": "left"
          },
          "hovermode": "closest",
          "mapbox": {
           "style": "light"
          },
          "paper_bgcolor": "white",
          "plot_bgcolor": "#E5ECF6",
          "polar": {
           "angularaxis": {
            "gridcolor": "white",
            "linecolor": "white",
            "ticks": ""
           },
           "bgcolor": "#E5ECF6",
           "radialaxis": {
            "gridcolor": "white",
            "linecolor": "white",
            "ticks": ""
           }
          },
          "scene": {
           "xaxis": {
            "backgroundcolor": "#E5ECF6",
            "gridcolor": "white",
            "gridwidth": 2,
            "linecolor": "white",
            "showbackground": true,
            "ticks": "",
            "zerolinecolor": "white"
           },
           "yaxis": {
            "backgroundcolor": "#E5ECF6",
            "gridcolor": "white",
            "gridwidth": 2,
            "linecolor": "white",
            "showbackground": true,
            "ticks": "",
            "zerolinecolor": "white"
           },
           "zaxis": {
            "backgroundcolor": "#E5ECF6",
            "gridcolor": "white",
            "gridwidth": 2,
            "linecolor": "white",
            "showbackground": true,
            "ticks": "",
            "zerolinecolor": "white"
           }
          },
          "shapedefaults": {
           "line": {
            "color": "#2a3f5f"
           }
          },
          "ternary": {
           "aaxis": {
            "gridcolor": "white",
            "linecolor": "white",
            "ticks": ""
           },
           "baxis": {
            "gridcolor": "white",
            "linecolor": "white",
            "ticks": ""
           },
           "bgcolor": "#E5ECF6",
           "caxis": {
            "gridcolor": "white",
            "linecolor": "white",
            "ticks": ""
           }
          },
          "title": {
           "x": 0.05
          },
          "xaxis": {
           "automargin": true,
           "gridcolor": "white",
           "linecolor": "white",
           "ticks": "",
           "title": {
            "standoff": 15
           },
           "zerolinecolor": "white",
           "zerolinewidth": 2
          },
          "yaxis": {
           "automargin": true,
           "gridcolor": "white",
           "linecolor": "white",
           "ticks": "",
           "title": {
            "standoff": 15
           },
           "zerolinecolor": "white",
           "zerolinewidth": 2
          }
         }
        },
        "width": 992,
        "xaxis": {
         "anchor": "y",
         "domain": [
          0,
          1
         ],
         "title": {
          "text": "Dataset"
         }
        },
        "yaxis": {
         "anchor": "x",
         "domain": [
          0,
          1
         ],
         "title": {
          "text": "Performance"
         }
        }
       }
      }
     },
     "metadata": {},
     "output_type": "display_data"
    }
   ],
   "source": [
    "# Assume 'results' DataFrame with columns: 'dataset', 'model', 'accuracy'\n",
    "\n",
    "# Create a grouped bar chart for accuracy per model and dataset\n",
    "fig_grouped_bar = px.bar(\n",
    "    best_metric_df,\n",
    "    x=\"dataset\",\n",
    "    y=\"metric\",\n",
    "    error_y=\"metric_std\",\n",
    "    color=\"model\",\n",
    "    #  title='Metric Comparison by Model and Dataset',\n",
    "    labels={\"metric\": \"Performance\", \"dataset\": \"Dataset\", \"model\": \"\"},\n",
    "    barmode=\"group\",\n",
    "    color_discrete_sequence=px.colors.qualitative.Prism,\n",
    ")\n",
    "\n",
    "\n",
    "# Display the plot\n",
    "fig_grouped_bar.update_layout(\n",
    "    legend=dict(\n",
    "        orientation=\"h\", yanchor=\"top\", y=1.20, xanchor=\"center\", x=0.5\n",
    "    ),\n",
    "    height=400,\n",
    "    width=2480 / 2.5,\n",
    "    font=dict(family=\"Times New Roman\", size=14),\n",
    ")\n",
    "\n",
    "write_figure(\"models_performance.pdf\", fig_grouped_bar)\n",
    "fig_grouped_bar.show()"
   ]
  },
  {
   "cell_type": "code",
   "execution_count": 13,
   "metadata": {},
   "outputs": [
    {
     "name": "stdout",
     "output_type": "stream",
     "text": [
      "Figure written to: figures/models_performance_horizontal.pdf\n",
      "Filename   : models_performance_horizontal.pdf\n",
      "Latex label: models_performance_horizontal\n"
     ]
    },
    {
     "data": {
      "application/vnd.plotly.v1+json": {
       "config": {
        "plotlyServerURL": "https://plot.ly"
       },
       "data": [
        {
         "alignmentgroup": "True",
         "error_x": {
          "array": [
           0,
           0,
           0,
           0,
           0,
           0,
           0,
           0,
           0,
           0,
           0,
           0,
           0,
           0,
           0
          ]
         },
         "hovertemplate": "=knn<br>Performance=%{x}<br>Dataset=%{y}<extra></extra>",
         "legendgroup": "knn",
         "marker": {
          "color": "rgb(95, 70, 144)",
          "pattern": {
           "shape": ""
          }
         },
         "name": "knn",
         "offsetgroup": "knn",
         "orientation": "h",
         "showlegend": true,
         "textposition": "auto",
         "type": "bar",
         "x": [
          0.9178579163959281,
          0.7175232545997096,
          0.7092884420543996,
          0.5476190476190477,
          0.9555555555555556,
          0.9455,
          0.5049019607843137,
          0.988428941906149,
          0.8636907391101323,
          0.9025045416497844,
          0.9336219336219336,
          0.8909546104108189,
          0.8176470588235295,
          0.6714063714063713,
          0.5463856770422707
         ],
         "xaxis": "x",
         "y": [
          "breast_cancer",
          "dry_bean",
          "glass",
          "image_segmentation",
          "iris",
          "letter",
          "motion_sense",
          "optical_handwritten",
          "rice",
          "satimage",
          "segment",
          "sepsis",
          "vehicle",
          "wine",
          "yeast"
         ],
         "yaxis": "y"
        },
        {
         "alignmentgroup": "True",
         "error_x": {
          "array": [
           0,
           0.14704971968785469,
           0,
           0.027492869961410732,
           0,
           0.0022422706745123333,
           0.008452625592403605,
           0.004483121228581144,
           0.24718101011399493,
           0.0013219608840686324,
           0.010405631386620488,
           0,
           0,
           0,
           0
          ]
         },
         "hovertemplate": "=mlp<br>Performance=%{x}<br>Dataset=%{y}<extra></extra>",
         "legendgroup": "mlp",
         "marker": {
          "color": "rgb(29, 105, 150)",
          "pattern": {
           "shape": ""
          }
         },
         "name": "mlp",
         "offsetgroup": "mlp",
         "orientation": "h",
         "showlegend": true,
         "textposition": "auto",
         "type": "bar",
         "x": [
          0.9103013945119208,
          0.22507061835587583,
          0.4554142391626345,
          0.5555555555555555,
          0.9777777777777775,
          0.9205,
          0.6565359477124183,
          0.981028439293471,
          0.4777329795241849,
          0.9116120122328867,
          0.9422799422799423,
          0.8908920043310973,
          0.8176470588235295,
          0.8883769948810599,
          0.5895877432143035
         ],
         "xaxis": "x",
         "y": [
          "breast_cancer",
          "dry_bean",
          "glass",
          "image_segmentation",
          "iris",
          "letter",
          "motion_sense",
          "optical_handwritten",
          "rice",
          "satimage",
          "segment",
          "sepsis",
          "vehicle",
          "wine",
          "yeast"
         ],
         "yaxis": "y"
        },
        {
         "alignmentgroup": "True",
         "error_x": {
          "array": [
           0,
           0.0017192363008078674,
           0,
           0,
           0,
           0.001228519132638647,
           0.012820291010413778,
           0.0013610825370562994,
           0.0007729364284437067,
           0.001053388220941523,
           0.0008331172715577878,
           0.000026127788329374387,
           0.00339617805405661,
           0,
           0
          ]
         },
         "hovertemplate": "=random-forest<br>Performance=%{x}<br>Dataset=%{y}<extra></extra>",
         "legendgroup": "random-forest",
         "marker": {
          "color": "rgb(56, 166, 165)",
          "pattern": {
           "shape": ""
          }
         },
         "name": "random-forest",
         "offsetgroup": "random-forest",
         "orientation": "h",
         "showlegend": true,
         "textposition": "auto",
         "type": "bar",
         "x": [
          0.9708871747643292,
          0.9198474773426017,
          0.7060178946619377,
          0.6190476190476191,
          0.9333333333333332,
          0.9607222222222221,
          0.8078431372549019,
          0.9827979576880973,
          0.9152644340920002,
          0.910574331227231,
          0.9716209716209715,
          0.8908090454440197,
          0.9686274509803922,
          0.9815543316723488,
          0.6207256954912499
         ],
         "xaxis": "x",
         "y": [
          "breast_cancer",
          "dry_bean",
          "glass",
          "image_segmentation",
          "iris",
          "letter",
          "motion_sense",
          "optical_handwritten",
          "rice",
          "satimage",
          "segment",
          "sepsis",
          "vehicle",
          "wine",
          "yeast"
         ],
         "yaxis": "y"
        },
        {
         "alignmentgroup": "True",
         "error_x": {
          "array": [
           0,
           0,
           0,
           0,
           0,
           0,
           0,
           0,
           0,
           0,
           0,
           0,
           0,
           0,
           0
          ]
         },
         "hovertemplate": "=svm<br>Performance=%{x}<br>Dataset=%{y}<extra></extra>",
         "legendgroup": "svm",
         "marker": {
          "color": "rgb(15, 133, 84)",
          "pattern": {
           "shape": ""
          }
         },
         "name": "svm",
         "offsetgroup": "svm",
         "orientation": "h",
         "showlegend": true,
         "textposition": "auto",
         "type": "bar",
         "x": [
          0.8730641381054367,
          0.6014133504868324,
          0.1849650349650349,
          0.5,
          1,
          0.92,
          0.538235294117647,
          0.9919918925110768,
          0.867169718729999,
          0.892530243798912,
          0.8701298701298702,
          0.8908920043310973,
          0.7176470588235294,
          0.6486013986013985,
          0.5992100016133695
         ],
         "xaxis": "x",
         "y": [
          "breast_cancer",
          "dry_bean",
          "glass",
          "image_segmentation",
          "iris",
          "letter",
          "motion_sense",
          "optical_handwritten",
          "rice",
          "satimage",
          "segment",
          "sepsis",
          "vehicle",
          "wine",
          "yeast"
         ],
         "yaxis": "y"
        },
        {
         "alignmentgroup": "True",
         "error_x": {
          "array": [
           0.0099820632299025,
           0.0022812085867171,
           0.0224288030898329,
           0.0336717514850736,
           0,
           0.0032470309324894,
           0,
           0.0034620193541112,
           1.1102230246251563e-16,
           0.0061906608057078,
           0.0054418992299108,
           0.0002268381546205,
           0.0127073347027605,
           0.0153247986020781,
           0.0031494801628382
          ]
         },
         "hovertemplate": "=wisard<br>Performance=%{x}<br>Dataset=%{y}<extra></extra>",
         "legendgroup": "wisard",
         "marker": {
          "color": "rgb(115, 175, 72)",
          "pattern": {
           "shape": ""
          }
         },
         "name": "wisard",
         "offsetgroup": "wisard",
         "orientation": "h",
         "showlegend": true,
         "textposition": "auto",
         "type": "bar",
         "x": [
          0.9628161882204516,
          0.9024029619050484,
          0.6615428500177969,
          0.8571428571428572,
          1,
          0.9000555555555557,
          0.65,
          0.9780450131673772,
          0.8994465342855008,
          0.8866629525557234,
          0.8807118807118807,
          0.8915753747755484,
          0.8941176470588235,
          0.962856206024315,
          0.5700237244955314
         ],
         "xaxis": "x",
         "y": [
          "breast_cancer",
          "dry_bean",
          "glass",
          "image_segmentation",
          "iris",
          "letter",
          "motion_sense",
          "optical_handwritten",
          "rice",
          "satimage",
          "segment",
          "sepsis",
          "vehicle",
          "wine",
          "yeast"
         ],
         "yaxis": "y"
        }
       ],
       "layout": {
        "barmode": "group",
        "font": {
         "family": "Times New Roman",
         "size": 14
        },
        "height": 1200,
        "legend": {
         "orientation": "h",
         "title": {
          "text": ""
         },
         "tracegroupgap": 0,
         "x": 0.5,
         "xanchor": "center",
         "y": 1.05,
         "yanchor": "top"
        },
        "margin": {
         "t": 60
        },
        "template": {
         "data": {
          "bar": [
           {
            "error_x": {
             "color": "#2a3f5f"
            },
            "error_y": {
             "color": "#2a3f5f"
            },
            "marker": {
             "line": {
              "color": "#E5ECF6",
              "width": 0.5
             },
             "pattern": {
              "fillmode": "overlay",
              "size": 10,
              "solidity": 0.2
             }
            },
            "type": "bar"
           }
          ],
          "barpolar": [
           {
            "marker": {
             "line": {
              "color": "#E5ECF6",
              "width": 0.5
             },
             "pattern": {
              "fillmode": "overlay",
              "size": 10,
              "solidity": 0.2
             }
            },
            "type": "barpolar"
           }
          ],
          "carpet": [
           {
            "aaxis": {
             "endlinecolor": "#2a3f5f",
             "gridcolor": "white",
             "linecolor": "white",
             "minorgridcolor": "white",
             "startlinecolor": "#2a3f5f"
            },
            "baxis": {
             "endlinecolor": "#2a3f5f",
             "gridcolor": "white",
             "linecolor": "white",
             "minorgridcolor": "white",
             "startlinecolor": "#2a3f5f"
            },
            "type": "carpet"
           }
          ],
          "choropleth": [
           {
            "colorbar": {
             "outlinewidth": 0,
             "ticks": ""
            },
            "type": "choropleth"
           }
          ],
          "contour": [
           {
            "colorbar": {
             "outlinewidth": 0,
             "ticks": ""
            },
            "colorscale": [
             [
              0,
              "#0d0887"
             ],
             [
              0.1111111111111111,
              "#46039f"
             ],
             [
              0.2222222222222222,
              "#7201a8"
             ],
             [
              0.3333333333333333,
              "#9c179e"
             ],
             [
              0.4444444444444444,
              "#bd3786"
             ],
             [
              0.5555555555555556,
              "#d8576b"
             ],
             [
              0.6666666666666666,
              "#ed7953"
             ],
             [
              0.7777777777777778,
              "#fb9f3a"
             ],
             [
              0.8888888888888888,
              "#fdca26"
             ],
             [
              1,
              "#f0f921"
             ]
            ],
            "type": "contour"
           }
          ],
          "contourcarpet": [
           {
            "colorbar": {
             "outlinewidth": 0,
             "ticks": ""
            },
            "type": "contourcarpet"
           }
          ],
          "heatmap": [
           {
            "colorbar": {
             "outlinewidth": 0,
             "ticks": ""
            },
            "colorscale": [
             [
              0,
              "#0d0887"
             ],
             [
              0.1111111111111111,
              "#46039f"
             ],
             [
              0.2222222222222222,
              "#7201a8"
             ],
             [
              0.3333333333333333,
              "#9c179e"
             ],
             [
              0.4444444444444444,
              "#bd3786"
             ],
             [
              0.5555555555555556,
              "#d8576b"
             ],
             [
              0.6666666666666666,
              "#ed7953"
             ],
             [
              0.7777777777777778,
              "#fb9f3a"
             ],
             [
              0.8888888888888888,
              "#fdca26"
             ],
             [
              1,
              "#f0f921"
             ]
            ],
            "type": "heatmap"
           }
          ],
          "heatmapgl": [
           {
            "colorbar": {
             "outlinewidth": 0,
             "ticks": ""
            },
            "colorscale": [
             [
              0,
              "#0d0887"
             ],
             [
              0.1111111111111111,
              "#46039f"
             ],
             [
              0.2222222222222222,
              "#7201a8"
             ],
             [
              0.3333333333333333,
              "#9c179e"
             ],
             [
              0.4444444444444444,
              "#bd3786"
             ],
             [
              0.5555555555555556,
              "#d8576b"
             ],
             [
              0.6666666666666666,
              "#ed7953"
             ],
             [
              0.7777777777777778,
              "#fb9f3a"
             ],
             [
              0.8888888888888888,
              "#fdca26"
             ],
             [
              1,
              "#f0f921"
             ]
            ],
            "type": "heatmapgl"
           }
          ],
          "histogram": [
           {
            "marker": {
             "pattern": {
              "fillmode": "overlay",
              "size": 10,
              "solidity": 0.2
             }
            },
            "type": "histogram"
           }
          ],
          "histogram2d": [
           {
            "colorbar": {
             "outlinewidth": 0,
             "ticks": ""
            },
            "colorscale": [
             [
              0,
              "#0d0887"
             ],
             [
              0.1111111111111111,
              "#46039f"
             ],
             [
              0.2222222222222222,
              "#7201a8"
             ],
             [
              0.3333333333333333,
              "#9c179e"
             ],
             [
              0.4444444444444444,
              "#bd3786"
             ],
             [
              0.5555555555555556,
              "#d8576b"
             ],
             [
              0.6666666666666666,
              "#ed7953"
             ],
             [
              0.7777777777777778,
              "#fb9f3a"
             ],
             [
              0.8888888888888888,
              "#fdca26"
             ],
             [
              1,
              "#f0f921"
             ]
            ],
            "type": "histogram2d"
           }
          ],
          "histogram2dcontour": [
           {
            "colorbar": {
             "outlinewidth": 0,
             "ticks": ""
            },
            "colorscale": [
             [
              0,
              "#0d0887"
             ],
             [
              0.1111111111111111,
              "#46039f"
             ],
             [
              0.2222222222222222,
              "#7201a8"
             ],
             [
              0.3333333333333333,
              "#9c179e"
             ],
             [
              0.4444444444444444,
              "#bd3786"
             ],
             [
              0.5555555555555556,
              "#d8576b"
             ],
             [
              0.6666666666666666,
              "#ed7953"
             ],
             [
              0.7777777777777778,
              "#fb9f3a"
             ],
             [
              0.8888888888888888,
              "#fdca26"
             ],
             [
              1,
              "#f0f921"
             ]
            ],
            "type": "histogram2dcontour"
           }
          ],
          "mesh3d": [
           {
            "colorbar": {
             "outlinewidth": 0,
             "ticks": ""
            },
            "type": "mesh3d"
           }
          ],
          "parcoords": [
           {
            "line": {
             "colorbar": {
              "outlinewidth": 0,
              "ticks": ""
             }
            },
            "type": "parcoords"
           }
          ],
          "pie": [
           {
            "automargin": true,
            "type": "pie"
           }
          ],
          "scatter": [
           {
            "fillpattern": {
             "fillmode": "overlay",
             "size": 10,
             "solidity": 0.2
            },
            "type": "scatter"
           }
          ],
          "scatter3d": [
           {
            "line": {
             "colorbar": {
              "outlinewidth": 0,
              "ticks": ""
             }
            },
            "marker": {
             "colorbar": {
              "outlinewidth": 0,
              "ticks": ""
             }
            },
            "type": "scatter3d"
           }
          ],
          "scattercarpet": [
           {
            "marker": {
             "colorbar": {
              "outlinewidth": 0,
              "ticks": ""
             }
            },
            "type": "scattercarpet"
           }
          ],
          "scattergeo": [
           {
            "marker": {
             "colorbar": {
              "outlinewidth": 0,
              "ticks": ""
             }
            },
            "type": "scattergeo"
           }
          ],
          "scattergl": [
           {
            "marker": {
             "colorbar": {
              "outlinewidth": 0,
              "ticks": ""
             }
            },
            "type": "scattergl"
           }
          ],
          "scattermapbox": [
           {
            "marker": {
             "colorbar": {
              "outlinewidth": 0,
              "ticks": ""
             }
            },
            "type": "scattermapbox"
           }
          ],
          "scatterpolar": [
           {
            "marker": {
             "colorbar": {
              "outlinewidth": 0,
              "ticks": ""
             }
            },
            "type": "scatterpolar"
           }
          ],
          "scatterpolargl": [
           {
            "marker": {
             "colorbar": {
              "outlinewidth": 0,
              "ticks": ""
             }
            },
            "type": "scatterpolargl"
           }
          ],
          "scatterternary": [
           {
            "marker": {
             "colorbar": {
              "outlinewidth": 0,
              "ticks": ""
             }
            },
            "type": "scatterternary"
           }
          ],
          "surface": [
           {
            "colorbar": {
             "outlinewidth": 0,
             "ticks": ""
            },
            "colorscale": [
             [
              0,
              "#0d0887"
             ],
             [
              0.1111111111111111,
              "#46039f"
             ],
             [
              0.2222222222222222,
              "#7201a8"
             ],
             [
              0.3333333333333333,
              "#9c179e"
             ],
             [
              0.4444444444444444,
              "#bd3786"
             ],
             [
              0.5555555555555556,
              "#d8576b"
             ],
             [
              0.6666666666666666,
              "#ed7953"
             ],
             [
              0.7777777777777778,
              "#fb9f3a"
             ],
             [
              0.8888888888888888,
              "#fdca26"
             ],
             [
              1,
              "#f0f921"
             ]
            ],
            "type": "surface"
           }
          ],
          "table": [
           {
            "cells": {
             "fill": {
              "color": "#EBF0F8"
             },
             "line": {
              "color": "white"
             }
            },
            "header": {
             "fill": {
              "color": "#C8D4E3"
             },
             "line": {
              "color": "white"
             }
            },
            "type": "table"
           }
          ]
         },
         "layout": {
          "annotationdefaults": {
           "arrowcolor": "#2a3f5f",
           "arrowhead": 0,
           "arrowwidth": 1
          },
          "autotypenumbers": "strict",
          "coloraxis": {
           "colorbar": {
            "outlinewidth": 0,
            "ticks": ""
           }
          },
          "colorscale": {
           "diverging": [
            [
             0,
             "#8e0152"
            ],
            [
             0.1,
             "#c51b7d"
            ],
            [
             0.2,
             "#de77ae"
            ],
            [
             0.3,
             "#f1b6da"
            ],
            [
             0.4,
             "#fde0ef"
            ],
            [
             0.5,
             "#f7f7f7"
            ],
            [
             0.6,
             "#e6f5d0"
            ],
            [
             0.7,
             "#b8e186"
            ],
            [
             0.8,
             "#7fbc41"
            ],
            [
             0.9,
             "#4d9221"
            ],
            [
             1,
             "#276419"
            ]
           ],
           "sequential": [
            [
             0,
             "#0d0887"
            ],
            [
             0.1111111111111111,
             "#46039f"
            ],
            [
             0.2222222222222222,
             "#7201a8"
            ],
            [
             0.3333333333333333,
             "#9c179e"
            ],
            [
             0.4444444444444444,
             "#bd3786"
            ],
            [
             0.5555555555555556,
             "#d8576b"
            ],
            [
             0.6666666666666666,
             "#ed7953"
            ],
            [
             0.7777777777777778,
             "#fb9f3a"
            ],
            [
             0.8888888888888888,
             "#fdca26"
            ],
            [
             1,
             "#f0f921"
            ]
           ],
           "sequentialminus": [
            [
             0,
             "#0d0887"
            ],
            [
             0.1111111111111111,
             "#46039f"
            ],
            [
             0.2222222222222222,
             "#7201a8"
            ],
            [
             0.3333333333333333,
             "#9c179e"
            ],
            [
             0.4444444444444444,
             "#bd3786"
            ],
            [
             0.5555555555555556,
             "#d8576b"
            ],
            [
             0.6666666666666666,
             "#ed7953"
            ],
            [
             0.7777777777777778,
             "#fb9f3a"
            ],
            [
             0.8888888888888888,
             "#fdca26"
            ],
            [
             1,
             "#f0f921"
            ]
           ]
          },
          "colorway": [
           "#636efa",
           "#EF553B",
           "#00cc96",
           "#ab63fa",
           "#FFA15A",
           "#19d3f3",
           "#FF6692",
           "#B6E880",
           "#FF97FF",
           "#FECB52"
          ],
          "font": {
           "color": "#2a3f5f"
          },
          "geo": {
           "bgcolor": "white",
           "lakecolor": "white",
           "landcolor": "#E5ECF6",
           "showlakes": true,
           "showland": true,
           "subunitcolor": "white"
          },
          "hoverlabel": {
           "align": "left"
          },
          "hovermode": "closest",
          "mapbox": {
           "style": "light"
          },
          "paper_bgcolor": "white",
          "plot_bgcolor": "#E5ECF6",
          "polar": {
           "angularaxis": {
            "gridcolor": "white",
            "linecolor": "white",
            "ticks": ""
           },
           "bgcolor": "#E5ECF6",
           "radialaxis": {
            "gridcolor": "white",
            "linecolor": "white",
            "ticks": ""
           }
          },
          "scene": {
           "xaxis": {
            "backgroundcolor": "#E5ECF6",
            "gridcolor": "white",
            "gridwidth": 2,
            "linecolor": "white",
            "showbackground": true,
            "ticks": "",
            "zerolinecolor": "white"
           },
           "yaxis": {
            "backgroundcolor": "#E5ECF6",
            "gridcolor": "white",
            "gridwidth": 2,
            "linecolor": "white",
            "showbackground": true,
            "ticks": "",
            "zerolinecolor": "white"
           },
           "zaxis": {
            "backgroundcolor": "#E5ECF6",
            "gridcolor": "white",
            "gridwidth": 2,
            "linecolor": "white",
            "showbackground": true,
            "ticks": "",
            "zerolinecolor": "white"
           }
          },
          "shapedefaults": {
           "line": {
            "color": "#2a3f5f"
           }
          },
          "ternary": {
           "aaxis": {
            "gridcolor": "white",
            "linecolor": "white",
            "ticks": ""
           },
           "baxis": {
            "gridcolor": "white",
            "linecolor": "white",
            "ticks": ""
           },
           "bgcolor": "#E5ECF6",
           "caxis": {
            "gridcolor": "white",
            "linecolor": "white",
            "ticks": ""
           }
          },
          "title": {
           "x": 0.05
          },
          "xaxis": {
           "automargin": true,
           "gridcolor": "white",
           "linecolor": "white",
           "ticks": "",
           "title": {
            "standoff": 15
           },
           "zerolinecolor": "white",
           "zerolinewidth": 2
          },
          "yaxis": {
           "automargin": true,
           "gridcolor": "white",
           "linecolor": "white",
           "ticks": "",
           "title": {
            "standoff": 15
           },
           "zerolinecolor": "white",
           "zerolinewidth": 2
          }
         }
        },
        "width": 620,
        "xaxis": {
         "anchor": "y",
         "domain": [
          0,
          1
         ],
         "title": {
          "text": "Performance"
         }
        },
        "yaxis": {
         "anchor": "x",
         "autorange": "reversed",
         "domain": [
          0,
          1
         ],
         "title": {
          "text": "Dataset"
         }
        }
       }
      }
     },
     "metadata": {},
     "output_type": "display_data"
    }
   ],
   "source": [
    "# Assume 'results' DataFrame with columns: 'dataset', 'model', 'accuracy'\n",
    "\n",
    "# Create a grouped horizontal bar chart for accuracy per model and dataset with reversed bar groups\n",
    "fig_grouped_bar = px.bar(\n",
    "    best_metric_df,\n",
    "    y=\"dataset\",\n",
    "    x=\"metric\",\n",
    "    error_x=\"metric_std\",\n",
    "    color=\"model\",\n",
    "    #  title='Metric Comparison by Model and Dataset',\n",
    "    labels={\"metric\": \"Performance\", \"dataset\": \"Dataset\", \"model\": \"\"},\n",
    "    barmode=\"group\",\n",
    "    orientation='h',\n",
    "    color_discrete_sequence=px.colors.qualitative.Prism,\n",
    ")\n",
    "\n",
    "\n",
    "# Reverse the order of the bar groups\n",
    "fig_grouped_bar.update_layout(\n",
    "    yaxis=dict(autorange=\"reversed\"),\n",
    ")\n",
    "\n",
    "# Display the plot\n",
    "fig_grouped_bar.update_layout(\n",
    "    legend=dict(\n",
    "        orientation=\"h\", yanchor=\"top\", y=1.05, xanchor=\"center\", x=0.5\n",
    "    ),\n",
    "    height=1200,\n",
    "    width=2480 / 4,\n",
    "    font=dict(family=\"Times New Roman\", size=14),\n",
    ")\n",
    "\n",
    "write_figure(\"models_performance_horizontal.pdf\", fig_grouped_bar)\n",
    "fig_grouped_bar.show()"
   ]
  },
  {
   "cell_type": "code",
   "execution_count": 14,
   "metadata": {},
   "outputs": [
    {
     "name": "stdout",
     "output_type": "stream",
     "text": [
      "How many times per dataset, each model is the best?\n"
     ]
    },
    {
     "data": {
      "text/html": [
       "<div>\n",
       "<style scoped>\n",
       "    .dataframe tbody tr th:only-of-type {\n",
       "        vertical-align: middle;\n",
       "    }\n",
       "\n",
       "    .dataframe tbody tr th {\n",
       "        vertical-align: top;\n",
       "    }\n",
       "\n",
       "    .dataframe thead th {\n",
       "        text-align: right;\n",
       "    }\n",
       "</style>\n",
       "<table border=\"1\" class=\"dataframe\">\n",
       "  <thead>\n",
       "    <tr style=\"text-align: right;\">\n",
       "      <th></th>\n",
       "      <th>model</th>\n",
       "      <th>0</th>\n",
       "    </tr>\n",
       "  </thead>\n",
       "  <tbody>\n",
       "    <tr>\n",
       "      <th>0</th>\n",
       "      <td>random-forest</td>\n",
       "      <td>9</td>\n",
       "    </tr>\n",
       "    <tr>\n",
       "      <th>1</th>\n",
       "      <td>svm</td>\n",
       "      <td>2</td>\n",
       "    </tr>\n",
       "    <tr>\n",
       "      <th>2</th>\n",
       "      <td>wisard</td>\n",
       "      <td>2</td>\n",
       "    </tr>\n",
       "    <tr>\n",
       "      <th>3</th>\n",
       "      <td>knn</td>\n",
       "      <td>1</td>\n",
       "    </tr>\n",
       "    <tr>\n",
       "      <th>4</th>\n",
       "      <td>mlp</td>\n",
       "      <td>1</td>\n",
       "    </tr>\n",
       "  </tbody>\n",
       "</table>\n",
       "</div>"
      ],
      "text/plain": [
       "           model  0\n",
       "0  random-forest  9\n",
       "1            svm  2\n",
       "2         wisard  2\n",
       "3            knn  1\n",
       "4            mlp  1"
      ]
     },
     "execution_count": 14,
     "metadata": {},
     "output_type": "execute_result"
    }
   ],
   "source": [
    "# Count how many times per dataset, wisard is the best model\n",
    "\n",
    "print(\"How many times per dataset, each model is the best?\")\n",
    "best_metric_df.loc[\n",
    "    best_metric_df.groupby(\"dataset\")[\"metric\"].idxmax()\n",
    "].value_counts(\"model\").to_frame().reset_index()"
   ]
  },
  {
   "cell_type": "markdown",
   "metadata": {},
   "source": [
    "## 3. Wisard has competitive results with SKLearn and is smallest\n",
    "\n",
    "Here we show that costing up to 2% of performance, the dict-wisard is much\n",
    "smaller than the sklearn algorithms."
   ]
  },
  {
   "cell_type": "code",
   "execution_count": 15,
   "metadata": {},
   "outputs": [],
   "source": [
    "# Up to 2% of accuracy loss\n",
    "metric_threshold = 0.01"
   ]
  },
  {
   "cell_type": "code",
   "execution_count": 16,
   "metadata": {},
   "outputs": [
    {
     "data": {
      "text/plain": [
       "(3581, 23)"
      ]
     },
     "execution_count": 16,
     "metadata": {},
     "output_type": "execute_result"
    }
   ],
   "source": [
    "# Read results and filter bloom filter results\n",
    "results = base_results.copy()\n",
    "results = results[\n",
    "    (results[\"model\"] != \"wisard\") | (results[\"config_name\"] == \"Dict\")\n",
    "]\n",
    "results.shape"
   ]
  },
  {
   "cell_type": "code",
   "execution_count": 17,
   "metadata": {},
   "outputs": [
    {
     "data": {
      "text/plain": [
       "model\n",
       "knn              15\n",
       "mlp              15\n",
       "random-forest    15\n",
       "svm              15\n",
       "wisard           15\n",
       "dtype: int64"
      ]
     },
     "execution_count": 17,
     "metadata": {},
     "output_type": "execute_result"
    }
   ],
   "source": [
    "# Create a dataframe with the best performance for each dataset and model\n",
    "best_metric_dataset_model = (\n",
    "    results.groupby([\"dataset\", \"model\"])\n",
    "    .apply(lambda group: group.loc[group[\"metric\"].idxmax()])\n",
    "    .reset_index(drop=True)\n",
    ")\n",
    "\n",
    "best_metric_dataset_model.value_counts(\"model\")"
   ]
  },
  {
   "cell_type": "code",
   "execution_count": 18,
   "metadata": {},
   "outputs": [
    {
     "data": {
      "text/html": [
       "<div>\n",
       "<style scoped>\n",
       "    .dataframe tbody tr th:only-of-type {\n",
       "        vertical-align: middle;\n",
       "    }\n",
       "\n",
       "    .dataframe tbody tr th {\n",
       "        vertical-align: top;\n",
       "    }\n",
       "\n",
       "    .dataframe thead th {\n",
       "        text-align: right;\n",
       "    }\n",
       "</style>\n",
       "<table border=\"1\" class=\"dataframe\">\n",
       "  <thead>\n",
       "    <tr style=\"text-align: right;\">\n",
       "      <th></th>\n",
       "      <th>dataset</th>\n",
       "      <th>model</th>\n",
       "      <th>config_name</th>\n",
       "      <th>metric</th>\n",
       "      <th>metric_std</th>\n",
       "      <th>model_size</th>\n",
       "      <th>model_size_std</th>\n",
       "      <th>accuracy</th>\n",
       "      <th>accuracy_std</th>\n",
       "      <th>f1</th>\n",
       "      <th>...</th>\n",
       "      <th>bleach</th>\n",
       "      <th>rams per discriminator</th>\n",
       "      <th>dataset_size</th>\n",
       "      <th>features</th>\n",
       "      <th>num_classes</th>\n",
       "      <th>train_size</th>\n",
       "      <th>test_size</th>\n",
       "      <th>model_size_ratio</th>\n",
       "      <th>normalized_model_size_ratio</th>\n",
       "      <th>best_tradeoff</th>\n",
       "    </tr>\n",
       "  </thead>\n",
       "  <tbody>\n",
       "    <tr>\n",
       "      <th>0</th>\n",
       "      <td>breast_cancer</td>\n",
       "      <td>knn</td>\n",
       "      <td></td>\n",
       "      <td>0.9179</td>\n",
       "      <td>0.0000</td>\n",
       "      <td>99380.0000</td>\n",
       "      <td>0.0000</td>\n",
       "      <td>0.9181</td>\n",
       "      <td>0.0000</td>\n",
       "      <td>0.9179</td>\n",
       "      <td>...</td>\n",
       "      <td>NaN</td>\n",
       "      <td>NaN</td>\n",
       "      <td>141416</td>\n",
       "      <td>30</td>\n",
       "      <td>3</td>\n",
       "      <td>398</td>\n",
       "      <td>171</td>\n",
       "      <td>0.3508</td>\n",
       "      <td>0.2818</td>\n",
       "      <td>False</td>\n",
       "    </tr>\n",
       "    <tr>\n",
       "      <th>1</th>\n",
       "      <td>breast_cancer</td>\n",
       "      <td>mlp</td>\n",
       "      <td></td>\n",
       "      <td>0.9103</td>\n",
       "      <td>0.0000</td>\n",
       "      <td>85156.0000</td>\n",
       "      <td>0.0000</td>\n",
       "      <td>0.9123</td>\n",
       "      <td>0.0000</td>\n",
       "      <td>0.9103</td>\n",
       "      <td>...</td>\n",
       "      <td>NaN</td>\n",
       "      <td>NaN</td>\n",
       "      <td>141416</td>\n",
       "      <td>30</td>\n",
       "      <td>3</td>\n",
       "      <td>398</td>\n",
       "      <td>171</td>\n",
       "      <td>0.3006</td>\n",
       "      <td>0.2262</td>\n",
       "      <td>False</td>\n",
       "    </tr>\n",
       "    <tr>\n",
       "      <th>2</th>\n",
       "      <td>breast_cancer</td>\n",
       "      <td>random-forest</td>\n",
       "      <td></td>\n",
       "      <td>0.9709</td>\n",
       "      <td>0.0000</td>\n",
       "      <td>283286.0000</td>\n",
       "      <td>0.0000</td>\n",
       "      <td>0.9708</td>\n",
       "      <td>0.0000</td>\n",
       "      <td>0.9709</td>\n",
       "      <td>...</td>\n",
       "      <td>NaN</td>\n",
       "      <td>NaN</td>\n",
       "      <td>141416</td>\n",
       "      <td>30</td>\n",
       "      <td>3</td>\n",
       "      <td>398</td>\n",
       "      <td>171</td>\n",
       "      <td>1.0000</td>\n",
       "      <td>1.0000</td>\n",
       "      <td>False</td>\n",
       "    </tr>\n",
       "    <tr>\n",
       "      <th>3</th>\n",
       "      <td>breast_cancer</td>\n",
       "      <td>svm</td>\n",
       "      <td></td>\n",
       "      <td>0.8731</td>\n",
       "      <td>0.0000</td>\n",
       "      <td>27227.0000</td>\n",
       "      <td>0.0000</td>\n",
       "      <td>0.8772</td>\n",
       "      <td>0.0000</td>\n",
       "      <td>0.8731</td>\n",
       "      <td>...</td>\n",
       "      <td>NaN</td>\n",
       "      <td>NaN</td>\n",
       "      <td>141416</td>\n",
       "      <td>30</td>\n",
       "      <td>3</td>\n",
       "      <td>398</td>\n",
       "      <td>171</td>\n",
       "      <td>0.0961</td>\n",
       "      <td>0.0000</td>\n",
       "      <td>False</td>\n",
       "    </tr>\n",
       "    <tr>\n",
       "      <th>4</th>\n",
       "      <td>breast_cancer</td>\n",
       "      <td>wisard</td>\n",
       "      <td>Dict</td>\n",
       "      <td>0.9628</td>\n",
       "      <td>0.0100</td>\n",
       "      <td>94920.6667</td>\n",
       "      <td>2226.8169</td>\n",
       "      <td>0.9630</td>\n",
       "      <td>0.0099</td>\n",
       "      <td>0.9628</td>\n",
       "      <td>...</td>\n",
       "      <td>4.0000</td>\n",
       "      <td>30.0000</td>\n",
       "      <td>141416</td>\n",
       "      <td>30</td>\n",
       "      <td>3</td>\n",
       "      <td>398</td>\n",
       "      <td>171</td>\n",
       "      <td>0.3351</td>\n",
       "      <td>0.2644</td>\n",
       "      <td>True</td>\n",
       "    </tr>\n",
       "    <tr>\n",
       "      <th>5</th>\n",
       "      <td>dry_bean</td>\n",
       "      <td>knn</td>\n",
       "      <td></td>\n",
       "      <td>0.7175</td>\n",
       "      <td>0.0000</td>\n",
       "      <td>1481493.0000</td>\n",
       "      <td>0.0000</td>\n",
       "      <td>0.7216</td>\n",
       "      <td>0.0000</td>\n",
       "      <td>0.7175</td>\n",
       "      <td>...</td>\n",
       "      <td>NaN</td>\n",
       "      <td>NaN</td>\n",
       "      <td>1773910</td>\n",
       "      <td>16</td>\n",
       "      <td>7</td>\n",
       "      <td>10888</td>\n",
       "      <td>2723</td>\n",
       "      <td>0.1044</td>\n",
       "      <td>0.1004</td>\n",
       "      <td>False</td>\n",
       "    </tr>\n",
       "    <tr>\n",
       "      <th>6</th>\n",
       "      <td>dry_bean</td>\n",
       "      <td>mlp</td>\n",
       "      <td></td>\n",
       "      <td>0.2251</td>\n",
       "      <td>0.1470</td>\n",
       "      <td>63218.3333</td>\n",
       "      <td>219.9780</td>\n",
       "      <td>0.3286</td>\n",
       "      <td>0.0946</td>\n",
       "      <td>0.2251</td>\n",
       "      <td>...</td>\n",
       "      <td>NaN</td>\n",
       "      <td>NaN</td>\n",
       "      <td>1773910</td>\n",
       "      <td>16</td>\n",
       "      <td>7</td>\n",
       "      <td>10888</td>\n",
       "      <td>2723</td>\n",
       "      <td>0.0045</td>\n",
       "      <td>0.0000</td>\n",
       "      <td>False</td>\n",
       "    </tr>\n",
       "    <tr>\n",
       "      <th>7</th>\n",
       "      <td>dry_bean</td>\n",
       "      <td>random-forest</td>\n",
       "      <td></td>\n",
       "      <td>0.9198</td>\n",
       "      <td>0.0017</td>\n",
       "      <td>14189404.0000</td>\n",
       "      <td>54370.3571</td>\n",
       "      <td>0.9199</td>\n",
       "      <td>0.0017</td>\n",
       "      <td>0.9198</td>\n",
       "      <td>...</td>\n",
       "      <td>NaN</td>\n",
       "      <td>NaN</td>\n",
       "      <td>1773910</td>\n",
       "      <td>16</td>\n",
       "      <td>7</td>\n",
       "      <td>10888</td>\n",
       "      <td>2723</td>\n",
       "      <td>1.0000</td>\n",
       "      <td>1.0000</td>\n",
       "      <td>True</td>\n",
       "    </tr>\n",
       "  </tbody>\n",
       "</table>\n",
       "<p>8 rows × 26 columns</p>\n",
       "</div>"
      ],
      "text/plain": [
       "         dataset          model config_name  metric  metric_std    model_size  \\\n",
       "0  breast_cancer            knn              0.9179      0.0000    99380.0000   \n",
       "1  breast_cancer            mlp              0.9103      0.0000    85156.0000   \n",
       "2  breast_cancer  random-forest              0.9709      0.0000   283286.0000   \n",
       "3  breast_cancer            svm              0.8731      0.0000    27227.0000   \n",
       "4  breast_cancer         wisard        Dict  0.9628      0.0100    94920.6667   \n",
       "5       dry_bean            knn              0.7175      0.0000  1481493.0000   \n",
       "6       dry_bean            mlp              0.2251      0.1470    63218.3333   \n",
       "7       dry_bean  random-forest              0.9198      0.0017 14189404.0000   \n",
       "\n",
       "   model_size_std  accuracy  accuracy_std     f1  ...  bleach  \\\n",
       "0          0.0000    0.9181        0.0000 0.9179  ...     NaN   \n",
       "1          0.0000    0.9123        0.0000 0.9103  ...     NaN   \n",
       "2          0.0000    0.9708        0.0000 0.9709  ...     NaN   \n",
       "3          0.0000    0.8772        0.0000 0.8731  ...     NaN   \n",
       "4       2226.8169    0.9630        0.0099 0.9628  ...  4.0000   \n",
       "5          0.0000    0.7216        0.0000 0.7175  ...     NaN   \n",
       "6        219.9780    0.3286        0.0946 0.2251  ...     NaN   \n",
       "7      54370.3571    0.9199        0.0017 0.9198  ...     NaN   \n",
       "\n",
       "   rams per discriminator  dataset_size  features num_classes  train_size  \\\n",
       "0                     NaN        141416        30           3         398   \n",
       "1                     NaN        141416        30           3         398   \n",
       "2                     NaN        141416        30           3         398   \n",
       "3                     NaN        141416        30           3         398   \n",
       "4                 30.0000        141416        30           3         398   \n",
       "5                     NaN       1773910        16           7       10888   \n",
       "6                     NaN       1773910        16           7       10888   \n",
       "7                     NaN       1773910        16           7       10888   \n",
       "\n",
       "   test_size  model_size_ratio  normalized_model_size_ratio  best_tradeoff  \n",
       "0        171            0.3508                       0.2818          False  \n",
       "1        171            0.3006                       0.2262          False  \n",
       "2        171            1.0000                       1.0000          False  \n",
       "3        171            0.0961                       0.0000          False  \n",
       "4        171            0.3351                       0.2644           True  \n",
       "5       2723            0.1044                       0.1004          False  \n",
       "6       2723            0.0045                       0.0000          False  \n",
       "7       2723            1.0000                       1.0000           True  \n",
       "\n",
       "[8 rows x 26 columns]"
      ]
     },
     "execution_count": 18,
     "metadata": {},
     "output_type": "execute_result"
    }
   ],
   "source": [
    "# Add the model_size_ratio column. This column is the ratio between the model\n",
    "# size of each model and the model size of the best model for each dataset\n",
    "temp = []\n",
    "\n",
    "for dset_name, dset_df in best_metric_dataset_model.groupby(\"dataset\"):\n",
    "    best_row = dset_df.sort_values(by=\"metric\", ascending=False).iloc[0]\n",
    "    dset_df[\"model_size_ratio\"] = dset_df[\"model_size\"] / best_row[\"model_size\"]\n",
    "    # Min max normalization\n",
    "    dset_df[\"normalized_model_size_ratio\"] = (\n",
    "        dset_df[\"model_size_ratio\"] - dset_df[\"model_size_ratio\"].min()\n",
    "    ) / (dset_df[\"model_size_ratio\"].max() - dset_df[\"model_size_ratio\"].min())\n",
    "    dset_df[\"best_tradeoff\"] = False\n",
    "\n",
    "    best_tradeoff = (\n",
    "        dset_df[dset_df[\"metric\"] >= best_row[\"metric\"] - metric_threshold]\n",
    "        .sort_values(by=\"normalized_model_size_ratio\", ascending=True)\n",
    "        .iloc[0]\n",
    "    )\n",
    "    dset_df.loc[best_tradeoff.name, \"best_tradeoff\"] = True\n",
    "\n",
    "    temp.append(dset_df)\n",
    "\n",
    "best_metric_dataset_model = pd.concat(temp)\n",
    "best_metric_dataset_model.head(n=8)"
   ]
  },
  {
   "cell_type": "code",
   "execution_count": 19,
   "metadata": {},
   "outputs": [
    {
     "name": "stdout",
     "output_type": "stream",
     "text": [
      "Results written to temp.csv\n"
     ]
    },
    {
     "data": {
      "text/html": [
       "<div>\n",
       "<style scoped>\n",
       "    .dataframe tbody tr th:only-of-type {\n",
       "        vertical-align: middle;\n",
       "    }\n",
       "\n",
       "    .dataframe tbody tr th {\n",
       "        vertical-align: top;\n",
       "    }\n",
       "\n",
       "    .dataframe thead th {\n",
       "        text-align: right;\n",
       "    }\n",
       "</style>\n",
       "<table border=\"1\" class=\"dataframe\">\n",
       "  <thead>\n",
       "    <tr style=\"text-align: right;\">\n",
       "      <th></th>\n",
       "      <th>dataset</th>\n",
       "      <th>model</th>\n",
       "      <th>metric</th>\n",
       "      <th>model_size</th>\n",
       "      <th>relative performance</th>\n",
       "      <th>relative size</th>\n",
       "      <th>accuracy</th>\n",
       "      <th>f1</th>\n",
       "    </tr>\n",
       "  </thead>\n",
       "  <tbody>\n",
       "    <tr>\n",
       "      <th>0</th>\n",
       "      <td>breast_cancer</td>\n",
       "      <td>knn</td>\n",
       "      <td>0.9179</td>\n",
       "      <td>97.0508</td>\n",
       "      <td>0.9454</td>\n",
       "      <td>0.3508</td>\n",
       "      <td>0.9181</td>\n",
       "      <td>0.9179</td>\n",
       "    </tr>\n",
       "    <tr>\n",
       "      <th>1</th>\n",
       "      <td>breast_cancer</td>\n",
       "      <td>mlp</td>\n",
       "      <td>0.9103</td>\n",
       "      <td>83.1602</td>\n",
       "      <td>0.9376</td>\n",
       "      <td>0.3006</td>\n",
       "      <td>0.9123</td>\n",
       "      <td>0.9103</td>\n",
       "    </tr>\n",
       "    <tr>\n",
       "      <th>2</th>\n",
       "      <td>breast_cancer</td>\n",
       "      <td>random-forest</td>\n",
       "      <td>0.9709</td>\n",
       "      <td>276.6465</td>\n",
       "      <td>1.0000</td>\n",
       "      <td>1.0000</td>\n",
       "      <td>0.9708</td>\n",
       "      <td>0.9709</td>\n",
       "    </tr>\n",
       "    <tr>\n",
       "      <th>3</th>\n",
       "      <td>breast_cancer</td>\n",
       "      <td>svm</td>\n",
       "      <td>0.8731</td>\n",
       "      <td>26.5889</td>\n",
       "      <td>0.8992</td>\n",
       "      <td>0.0961</td>\n",
       "      <td>0.8772</td>\n",
       "      <td>0.8731</td>\n",
       "    </tr>\n",
       "    <tr>\n",
       "      <th>4</th>\n",
       "      <td>breast_cancer</td>\n",
       "      <td>wisard</td>\n",
       "      <td>0.9628</td>\n",
       "      <td>92.6960</td>\n",
       "      <td>0.9917</td>\n",
       "      <td>0.3351</td>\n",
       "      <td>0.9630</td>\n",
       "      <td>0.9628</td>\n",
       "    </tr>\n",
       "    <tr>\n",
       "      <th>...</th>\n",
       "      <td>...</td>\n",
       "      <td>...</td>\n",
       "      <td>...</td>\n",
       "      <td>...</td>\n",
       "      <td>...</td>\n",
       "      <td>...</td>\n",
       "      <td>...</td>\n",
       "      <td>...</td>\n",
       "    </tr>\n",
       "    <tr>\n",
       "      <th>70</th>\n",
       "      <td>yeast</td>\n",
       "      <td>knn</td>\n",
       "      <td>0.5464</td>\n",
       "      <td>178.0469</td>\n",
       "      <td>0.8802</td>\n",
       "      <td>0.0169</td>\n",
       "      <td>0.5522</td>\n",
       "      <td>0.5464</td>\n",
       "    </tr>\n",
       "    <tr>\n",
       "      <th>71</th>\n",
       "      <td>yeast</td>\n",
       "      <td>mlp</td>\n",
       "      <td>0.5896</td>\n",
       "      <td>52.9580</td>\n",
       "      <td>0.9498</td>\n",
       "      <td>0.0050</td>\n",
       "      <td>0.6027</td>\n",
       "      <td>0.5896</td>\n",
       "    </tr>\n",
       "    <tr>\n",
       "      <th>72</th>\n",
       "      <td>yeast</td>\n",
       "      <td>random-forest</td>\n",
       "      <td>0.6207</td>\n",
       "      <td>10533.5645</td>\n",
       "      <td>1.0000</td>\n",
       "      <td>1.0000</td>\n",
       "      <td>0.6296</td>\n",
       "      <td>0.6207</td>\n",
       "    </tr>\n",
       "    <tr>\n",
       "      <th>73</th>\n",
       "      <td>yeast</td>\n",
       "      <td>svm</td>\n",
       "      <td>0.5992</td>\n",
       "      <td>137.1494</td>\n",
       "      <td>0.9653</td>\n",
       "      <td>0.0130</td>\n",
       "      <td>0.6094</td>\n",
       "      <td>0.5992</td>\n",
       "    </tr>\n",
       "    <tr>\n",
       "      <th>74</th>\n",
       "      <td>yeast</td>\n",
       "      <td>wisard</td>\n",
       "      <td>0.5700</td>\n",
       "      <td>463.6279</td>\n",
       "      <td>0.9183</td>\n",
       "      <td>0.0440</td>\n",
       "      <td>0.5825</td>\n",
       "      <td>0.5700</td>\n",
       "    </tr>\n",
       "  </tbody>\n",
       "</table>\n",
       "<p>75 rows × 8 columns</p>\n",
       "</div>"
      ],
      "text/plain": [
       "          dataset          model  metric  model_size  relative performance  \\\n",
       "0   breast_cancer            knn  0.9179     97.0508                0.9454   \n",
       "1   breast_cancer            mlp  0.9103     83.1602                0.9376   \n",
       "2   breast_cancer  random-forest  0.9709    276.6465                1.0000   \n",
       "3   breast_cancer            svm  0.8731     26.5889                0.8992   \n",
       "4   breast_cancer         wisard  0.9628     92.6960                0.9917   \n",
       "..            ...            ...     ...         ...                   ...   \n",
       "70          yeast            knn  0.5464    178.0469                0.8802   \n",
       "71          yeast            mlp  0.5896     52.9580                0.9498   \n",
       "72          yeast  random-forest  0.6207  10533.5645                1.0000   \n",
       "73          yeast            svm  0.5992    137.1494                0.9653   \n",
       "74          yeast         wisard  0.5700    463.6279                0.9183   \n",
       "\n",
       "    relative size  accuracy     f1  \n",
       "0          0.3508    0.9181 0.9179  \n",
       "1          0.3006    0.9123 0.9103  \n",
       "2          1.0000    0.9708 0.9709  \n",
       "3          0.0961    0.8772 0.8731  \n",
       "4          0.3351    0.9630 0.9628  \n",
       "..            ...       ...    ...  \n",
       "70         0.0169    0.5522 0.5464  \n",
       "71         0.0050    0.6027 0.5896  \n",
       "72         1.0000    0.6296 0.6207  \n",
       "73         0.0130    0.6094 0.5992  \n",
       "74         0.0440    0.5825 0.5700  \n",
       "\n",
       "[75 rows x 8 columns]"
      ]
     },
     "execution_count": 19,
     "metadata": {},
     "output_type": "execute_result"
    }
   ],
   "source": [
    "# pd.set_option('display.max_rows', 100)\n",
    "dfs = {}\n",
    "for dset_name, dset_df in best_metric_dataset_model.groupby(\"dataset\"):\n",
    "    dset_df[\"model_size\"] = (dset_df[\"model_size\"] / 1024)\n",
    "    max_val = dset_df[\"metric\"].max()\n",
    "    max_size =  dset_df[\"model_size\"].max()\n",
    "    dset_df[\"relative performance\"] = dset_df[\"metric\"]  / max_val\n",
    "    dset_df[\"relative size\"] = dset_df[\"model_size\"]  / max_size\n",
    "    # dset_df.index = dset_df[\"model\"]\n",
    "    dset_df = dset_df[[\"model\", \"metric\",  \"model_size\", \"relative performance\", \"relative size\", \"accuracy\", \"f1\"]]\n",
    "    dfs[dset_name] = dset_df\n",
    "    \n",
    "result_df = pd.concat(dfs.values(), keys=dfs.keys())\n",
    "result_df.reset_index(level=0, inplace=True)\n",
    "result_df = result_df.rename(columns={\"level_0\": \"dataset\"})\n",
    "result_df.to_csv(\"temp.csv\", index=False)\n",
    "print(f\"Results written to temp.csv\")\n",
    "result_df"
   ]
  },
  {
   "cell_type": "code",
   "execution_count": 20,
   "metadata": {},
   "outputs": [],
   "source": [
    "# # Pivot the DataFrame to create the raw metric table\n",
    "# table_df_raw = result_df.pivot(index='dataset', columns='model', values='metric')\n",
    "\n",
    "# # Pivot the DataFrame to create the relative performance metric table\n",
    "# table_df_relative_performance = result_df.pivot(index='dataset', columns='model', values='relative performance')\n",
    "\n",
    "# # Join the two tables based on dataset\n",
    "# joined_df = table_df_raw.join(table_df_relative_performance, lsuffix=\"_raw\", rsuffix=\"_relative_performance\")\n",
    "\n",
    "\n",
    "# # joined_df.to_csv(\"temp.csv\", index=True)\n",
    "\n",
    "# # joined_df = joined_df.reset_index()\n",
    "\n",
    "# joined_df = joined_df.rename_axis(None, axis=1).reset_index()\n",
    "# # joined_df.index = range(len(joined_df))\n",
    "\n",
    "# # joined_df.columns = joined_df.columns.to_list()\n",
    "\n",
    "\n",
    "# raw_df = joined_df[['dataset', 'knn_raw', 'mlp_raw', 'random-forest_raw', 'svm_raw', 'wisard_raw']]\n",
    "# relative_df = joined_df[['dataset', 'knn_relative_performance', 'mlp_relative_performance', 'random-forest_relative_performance', 'svm_relative_performance', 'wisard_relative_performance']]\n",
    "\n",
    "# raw_df[\"dataset\"] = raw_df[\"dataset\"].str.replace(\"_\", \" \")\n",
    "# relative_df[\"dataset\"] = relative_df[\"dataset\"].str.replace(\"_\", \" \")\n",
    "# raw_df.columns = raw_df.columns.str.replace(\"-\", \" \")\n",
    "# relative_df.columns = relative_df.columns.str.replace(\"-\", \" \")\n",
    "\n",
    "# line = {\"dataset\": \"Mean\"}\n",
    "# for c in raw_df.columns:\n",
    "#     if c != \"dataset\":\n",
    "#         line[c] = raw_df[c].mean()\n",
    "# raw_df.loc[len(raw_df)] = line\n",
    "\n",
    "# line = {\"dataset\": \"Mean\"}\n",
    "# for c in relative_df.columns:\n",
    "#     if c != \"dataset\":\n",
    "#         line[c] = relative_df[c].mean()\n",
    "# relative_df.loc[len(relative_df)] = line\n",
    "\n",
    "\n",
    "# # Setting the dataset column as the index\n",
    "# raw_df.set_index('dataset', inplace=True)\n",
    "# relative_df.set_index('dataset', inplace=True)\n",
    "\n",
    "# # # Concatenating the DataFrames\n",
    "# final_df = pd.concat([raw_df, relative_df], axis=1)\n",
    "\n",
    "# # # Renaming the columns\n",
    "# final_df.columns = pd.MultiIndex.from_product([['Raw', 'Relative'], raw_df.columns.str.split('_').str[0]])\n",
    "\n",
    "# write_latex_table(\"performance_table.tex\", final_df.to_latex(float_format=\"%.2f\"))\n",
    "# final_df"
   ]
  },
  {
   "cell_type": "code",
   "execution_count": 21,
   "metadata": {},
   "outputs": [
    {
     "name": "stdout",
     "output_type": "stream",
     "text": [
      "Table written to: tables/performance_table.tex\n",
      "Table written to: tables/size_table.tex\n"
     ]
    },
    {
     "name": "stderr",
     "output_type": "stream",
     "text": [
      "/tmp/ipykernel_402591/3091979658.py:49: FutureWarning:\n",
      "\n",
      "In future versions `DataFrame.to_latex` is expected to utilise the base implementation of `Styler.to_latex` for formatting and rendering. The arguments signature may therefore change. It is recommended instead to use `DataFrame.style.to_latex` which also contains additional functionality.\n",
      "\n",
      "/tmp/ipykernel_402591/3091979658.py:53: FutureWarning:\n",
      "\n",
      "In future versions `DataFrame.to_latex` is expected to utilise the base implementation of `Styler.to_latex` for formatting and rendering. The arguments signature may therefore change. It is recommended instead to use `DataFrame.style.to_latex` which also contains additional functionality.\n",
      "\n"
     ]
    }
   ],
   "source": [
    "def add_mean_line(df):\n",
    "    line = {\"dataset\": \"Mean\"}\n",
    "    for c in df.columns:\n",
    "        if c != \"dataset\":\n",
    "            line[c] = df[c].mean()\n",
    "    df.loc[len(df)] = line\n",
    "    return df\n",
    "\n",
    "def raw_relative_table(df, raw_metric, relative_metric):\n",
    "    # Pivot the DataFrame to create the raw metric table and relative table\n",
    "    raw_df = (\n",
    "        df.pivot(index=\"dataset\", columns=\"model\", values=raw_metric)\n",
    "        .rename_axis(None, axis=1)\n",
    "        .reset_index()\n",
    "    )\n",
    "    raw_df[\"dataset\"] = raw_df[\"dataset\"].str.replace(\"_\", \" \")\n",
    "    raw_df.columns = raw_df.columns.str.replace(\"-\", \" \")\n",
    "    raw_df = raw_df[[\"dataset\", \"svm\", \"mlp\", \"knn\", \"random forest\", \"wisard\"]]\n",
    "    raw_df = add_mean_line(raw_df)\n",
    "    raw_df.set_index(\"dataset\", inplace=True)\n",
    "\n",
    "    relative_df = (\n",
    "        df.pivot(\n",
    "            index=\"dataset\", columns=\"model\", values=relative_metric\n",
    "        )\n",
    "        .rename_axis(None, axis=1)\n",
    "        .reset_index()\n",
    "    )\n",
    "\n",
    "    relative_df[\"dataset\"] = relative_df[\"dataset\"].str.replace(\"_\", \" \")\n",
    "    relative_df.columns = relative_df.columns.str.replace(\"-\", \" \")\n",
    "    relative_df = relative_df[[\"dataset\", \"svm\", \"mlp\", \"knn\", \"random forest\", \"wisard\"]]\n",
    "    relative_df = add_mean_line(relative_df)\n",
    "    relative_df.set_index(\"dataset\", inplace=True)\n",
    "    \n",
    "    # Concatenating the DataFrames\n",
    "    final_df = pd.concat([raw_df, relative_df], axis=1)\n",
    "\n",
    "    final_df.columns = pd.MultiIndex.from_product(\n",
    "        [[\"Absolute\", \"Relative\"], raw_df.columns.str.split(\"_\").str[0]]\n",
    "    )\n",
    "    return final_df\n",
    "\n",
    "performance_df = raw_relative_table(result_df.copy(), \"metric\", \"relative performance\")\n",
    "order_of_datasets = performance_df[\"Relative\"][\"wisard\"].sort_values(ascending=False).keys().to_list()\n",
    "order_of_datasets.remove(\"Mean\")\n",
    "order_of_datasets.append(\"Mean\")\n",
    "performance_df.index = order_of_datasets\n",
    "write_latex_table(\"performance_table.tex\", performance_df.to_latex(float_format=\"%.2f\"))\n",
    "\n",
    "size_df = raw_relative_table(result_df.copy(), \"model_size\", \"relative size\")\n",
    "size_df.index = order_of_datasets\n",
    "write_latex_table(\"size_table.tex\", size_df.to_latex(float_format=\"%.2f\"))"
   ]
  },
  {
   "cell_type": "code",
   "execution_count": 22,
   "metadata": {},
   "outputs": [
    {
     "data": {
      "text/html": [
       "<div>\n",
       "<style scoped>\n",
       "    .dataframe tbody tr th:only-of-type {\n",
       "        vertical-align: middle;\n",
       "    }\n",
       "\n",
       "    .dataframe tbody tr th {\n",
       "        vertical-align: top;\n",
       "    }\n",
       "\n",
       "    .dataframe thead tr th {\n",
       "        text-align: left;\n",
       "    }\n",
       "</style>\n",
       "<table border=\"1\" class=\"dataframe\">\n",
       "  <thead>\n",
       "    <tr>\n",
       "      <th></th>\n",
       "      <th colspan=\"5\" halign=\"left\">Absolute</th>\n",
       "      <th colspan=\"5\" halign=\"left\">Relative</th>\n",
       "    </tr>\n",
       "    <tr>\n",
       "      <th></th>\n",
       "      <th>svm</th>\n",
       "      <th>mlp</th>\n",
       "      <th>knn</th>\n",
       "      <th>random forest</th>\n",
       "      <th>wisard</th>\n",
       "      <th>svm</th>\n",
       "      <th>mlp</th>\n",
       "      <th>knn</th>\n",
       "      <th>random forest</th>\n",
       "      <th>wisard</th>\n",
       "    </tr>\n",
       "  </thead>\n",
       "  <tbody>\n",
       "    <tr>\n",
       "      <th>image segmentation</th>\n",
       "      <td>0.8731</td>\n",
       "      <td>0.9103</td>\n",
       "      <td>0.9179</td>\n",
       "      <td>0.9709</td>\n",
       "      <td>0.9628</td>\n",
       "      <td>0.8992</td>\n",
       "      <td>0.9376</td>\n",
       "      <td>0.9454</td>\n",
       "      <td>1.0000</td>\n",
       "      <td>0.9917</td>\n",
       "    </tr>\n",
       "    <tr>\n",
       "      <th>iris</th>\n",
       "      <td>0.6014</td>\n",
       "      <td>0.2251</td>\n",
       "      <td>0.7175</td>\n",
       "      <td>0.9198</td>\n",
       "      <td>0.9024</td>\n",
       "      <td>0.6538</td>\n",
       "      <td>0.2447</td>\n",
       "      <td>0.7800</td>\n",
       "      <td>1.0000</td>\n",
       "      <td>0.9810</td>\n",
       "    </tr>\n",
       "    <tr>\n",
       "      <th>sepsis</th>\n",
       "      <td>0.1850</td>\n",
       "      <td>0.4554</td>\n",
       "      <td>0.7093</td>\n",
       "      <td>0.7060</td>\n",
       "      <td>0.6615</td>\n",
       "      <td>0.2608</td>\n",
       "      <td>0.6421</td>\n",
       "      <td>1.0000</td>\n",
       "      <td>0.9954</td>\n",
       "      <td>0.9327</td>\n",
       "    </tr>\n",
       "    <tr>\n",
       "      <th>breast cancer</th>\n",
       "      <td>0.5000</td>\n",
       "      <td>0.5556</td>\n",
       "      <td>0.5476</td>\n",
       "      <td>0.6190</td>\n",
       "      <td>0.8571</td>\n",
       "      <td>0.5833</td>\n",
       "      <td>0.6481</td>\n",
       "      <td>0.6389</td>\n",
       "      <td>0.7222</td>\n",
       "      <td>1.0000</td>\n",
       "    </tr>\n",
       "    <tr>\n",
       "      <th>optical handwritten</th>\n",
       "      <td>1.0000</td>\n",
       "      <td>0.9778</td>\n",
       "      <td>0.9556</td>\n",
       "      <td>0.9333</td>\n",
       "      <td>1.0000</td>\n",
       "      <td>1.0000</td>\n",
       "      <td>0.9778</td>\n",
       "      <td>0.9556</td>\n",
       "      <td>0.9333</td>\n",
       "      <td>1.0000</td>\n",
       "    </tr>\n",
       "    <tr>\n",
       "      <th>rice</th>\n",
       "      <td>0.9200</td>\n",
       "      <td>0.9205</td>\n",
       "      <td>0.9455</td>\n",
       "      <td>0.9607</td>\n",
       "      <td>0.9001</td>\n",
       "      <td>0.9576</td>\n",
       "      <td>0.9581</td>\n",
       "      <td>0.9842</td>\n",
       "      <td>1.0000</td>\n",
       "      <td>0.9369</td>\n",
       "    </tr>\n",
       "    <tr>\n",
       "      <th>dry bean</th>\n",
       "      <td>0.5382</td>\n",
       "      <td>0.6565</td>\n",
       "      <td>0.5049</td>\n",
       "      <td>0.8078</td>\n",
       "      <td>0.6500</td>\n",
       "      <td>0.6663</td>\n",
       "      <td>0.8127</td>\n",
       "      <td>0.6250</td>\n",
       "      <td>1.0000</td>\n",
       "      <td>0.8046</td>\n",
       "    </tr>\n",
       "    <tr>\n",
       "      <th>wine</th>\n",
       "      <td>0.9920</td>\n",
       "      <td>0.9810</td>\n",
       "      <td>0.9884</td>\n",
       "      <td>0.9828</td>\n",
       "      <td>0.9780</td>\n",
       "      <td>1.0000</td>\n",
       "      <td>0.9889</td>\n",
       "      <td>0.9964</td>\n",
       "      <td>0.9907</td>\n",
       "      <td>0.9859</td>\n",
       "    </tr>\n",
       "    <tr>\n",
       "      <th>satimage</th>\n",
       "      <td>0.8672</td>\n",
       "      <td>0.4777</td>\n",
       "      <td>0.8637</td>\n",
       "      <td>0.9153</td>\n",
       "      <td>0.8994</td>\n",
       "      <td>0.9475</td>\n",
       "      <td>0.5220</td>\n",
       "      <td>0.9437</td>\n",
       "      <td>1.0000</td>\n",
       "      <td>0.9827</td>\n",
       "    </tr>\n",
       "    <tr>\n",
       "      <th>letter</th>\n",
       "      <td>0.8925</td>\n",
       "      <td>0.9116</td>\n",
       "      <td>0.9025</td>\n",
       "      <td>0.9106</td>\n",
       "      <td>0.8867</td>\n",
       "      <td>0.9791</td>\n",
       "      <td>1.0000</td>\n",
       "      <td>0.9900</td>\n",
       "      <td>0.9989</td>\n",
       "      <td>0.9726</td>\n",
       "    </tr>\n",
       "    <tr>\n",
       "      <th>glass</th>\n",
       "      <td>0.8701</td>\n",
       "      <td>0.9423</td>\n",
       "      <td>0.9336</td>\n",
       "      <td>0.9716</td>\n",
       "      <td>0.8807</td>\n",
       "      <td>0.8955</td>\n",
       "      <td>0.9698</td>\n",
       "      <td>0.9609</td>\n",
       "      <td>1.0000</td>\n",
       "      <td>0.9064</td>\n",
       "    </tr>\n",
       "    <tr>\n",
       "      <th>vehicle</th>\n",
       "      <td>0.8909</td>\n",
       "      <td>0.8909</td>\n",
       "      <td>0.8910</td>\n",
       "      <td>0.8908</td>\n",
       "      <td>0.8916</td>\n",
       "      <td>0.9992</td>\n",
       "      <td>0.9992</td>\n",
       "      <td>0.9993</td>\n",
       "      <td>0.9991</td>\n",
       "      <td>1.0000</td>\n",
       "    </tr>\n",
       "    <tr>\n",
       "      <th>yeast</th>\n",
       "      <td>0.7176</td>\n",
       "      <td>0.8176</td>\n",
       "      <td>0.8176</td>\n",
       "      <td>0.9686</td>\n",
       "      <td>0.8941</td>\n",
       "      <td>0.7409</td>\n",
       "      <td>0.8441</td>\n",
       "      <td>0.8441</td>\n",
       "      <td>1.0000</td>\n",
       "      <td>0.9231</td>\n",
       "    </tr>\n",
       "    <tr>\n",
       "      <th>segment</th>\n",
       "      <td>0.6486</td>\n",
       "      <td>0.8884</td>\n",
       "      <td>0.6714</td>\n",
       "      <td>0.9816</td>\n",
       "      <td>0.9629</td>\n",
       "      <td>0.6608</td>\n",
       "      <td>0.9051</td>\n",
       "      <td>0.6840</td>\n",
       "      <td>1.0000</td>\n",
       "      <td>0.9810</td>\n",
       "    </tr>\n",
       "    <tr>\n",
       "      <th>motion sense</th>\n",
       "      <td>0.5992</td>\n",
       "      <td>0.5896</td>\n",
       "      <td>0.5464</td>\n",
       "      <td>0.6207</td>\n",
       "      <td>0.5700</td>\n",
       "      <td>0.9653</td>\n",
       "      <td>0.9498</td>\n",
       "      <td>0.8802</td>\n",
       "      <td>1.0000</td>\n",
       "      <td>0.9183</td>\n",
       "    </tr>\n",
       "    <tr>\n",
       "      <th>Mean</th>\n",
       "      <td>0.7397</td>\n",
       "      <td>0.7467</td>\n",
       "      <td>0.7942</td>\n",
       "      <td>0.8773</td>\n",
       "      <td>0.8598</td>\n",
       "      <td>0.8140</td>\n",
       "      <td>0.8267</td>\n",
       "      <td>0.8818</td>\n",
       "      <td>0.9760</td>\n",
       "      <td>0.9545</td>\n",
       "    </tr>\n",
       "  </tbody>\n",
       "</table>\n",
       "</div>"
      ],
      "text/plain": [
       "                    Absolute                                    Relative  \\\n",
       "                         svm    mlp    knn random forest wisard      svm   \n",
       "image segmentation    0.8731 0.9103 0.9179        0.9709 0.9628   0.8992   \n",
       "iris                  0.6014 0.2251 0.7175        0.9198 0.9024   0.6538   \n",
       "sepsis                0.1850 0.4554 0.7093        0.7060 0.6615   0.2608   \n",
       "breast cancer         0.5000 0.5556 0.5476        0.6190 0.8571   0.5833   \n",
       "optical handwritten   1.0000 0.9778 0.9556        0.9333 1.0000   1.0000   \n",
       "rice                  0.9200 0.9205 0.9455        0.9607 0.9001   0.9576   \n",
       "dry bean              0.5382 0.6565 0.5049        0.8078 0.6500   0.6663   \n",
       "wine                  0.9920 0.9810 0.9884        0.9828 0.9780   1.0000   \n",
       "satimage              0.8672 0.4777 0.8637        0.9153 0.8994   0.9475   \n",
       "letter                0.8925 0.9116 0.9025        0.9106 0.8867   0.9791   \n",
       "glass                 0.8701 0.9423 0.9336        0.9716 0.8807   0.8955   \n",
       "vehicle               0.8909 0.8909 0.8910        0.8908 0.8916   0.9992   \n",
       "yeast                 0.7176 0.8176 0.8176        0.9686 0.8941   0.7409   \n",
       "segment               0.6486 0.8884 0.6714        0.9816 0.9629   0.6608   \n",
       "motion sense          0.5992 0.5896 0.5464        0.6207 0.5700   0.9653   \n",
       "Mean                  0.7397 0.7467 0.7942        0.8773 0.8598   0.8140   \n",
       "\n",
       "                                                        \n",
       "                       mlp    knn random forest wisard  \n",
       "image segmentation  0.9376 0.9454        1.0000 0.9917  \n",
       "iris                0.2447 0.7800        1.0000 0.9810  \n",
       "sepsis              0.6421 1.0000        0.9954 0.9327  \n",
       "breast cancer       0.6481 0.6389        0.7222 1.0000  \n",
       "optical handwritten 0.9778 0.9556        0.9333 1.0000  \n",
       "rice                0.9581 0.9842        1.0000 0.9369  \n",
       "dry bean            0.8127 0.6250        1.0000 0.8046  \n",
       "wine                0.9889 0.9964        0.9907 0.9859  \n",
       "satimage            0.5220 0.9437        1.0000 0.9827  \n",
       "letter              1.0000 0.9900        0.9989 0.9726  \n",
       "glass               0.9698 0.9609        1.0000 0.9064  \n",
       "vehicle             0.9992 0.9993        0.9991 1.0000  \n",
       "yeast               0.8441 0.8441        1.0000 0.9231  \n",
       "segment             0.9051 0.6840        1.0000 0.9810  \n",
       "motion sense        0.9498 0.8802        1.0000 0.9183  \n",
       "Mean                0.8267 0.8818        0.9760 0.9545  "
      ]
     },
     "execution_count": 22,
     "metadata": {},
     "output_type": "execute_result"
    }
   ],
   "source": [
    "performance_df"
   ]
  },
  {
   "cell_type": "code",
   "execution_count": 23,
   "metadata": {},
   "outputs": [],
   "source": [
    "# dfs = []\n",
    "\n",
    "# def belongs_to_pareto(df, model):\n",
    "#     metric = df[df[\"model\"] == model][\"metric\"].iloc[0]\n",
    "#     size = df[df[\"model\"] == model][\"model_size\"].iloc[0]\n",
    "    \n",
    "#     for r_index, row in df.iterrows():\n",
    "#         if row[\"metric\"] > metric and row[\"model_size\"] < size:\n",
    "#             return False\n",
    "        \n",
    "#     return True\n",
    "    \n",
    "# columns = result_df[\"dataset\"].unique()\n",
    "    \n",
    "\n",
    "# models = [\"wisard\", \"random-forest\", \"svm\", \"mlp\", \"knn\"]\n",
    "# for c in columns:\n",
    "#     x_df = result_df[result_df[\"dataset\"] == c]\n",
    "#     if belongs_to_pareto(x_df, \"wisard\"):\n",
    "#         print(f\"Wisard belongs to pareto in {c}\")\n",
    "#         # x_df.index = x_df.index.str.upper()\n",
    "    \n",
    "#     lines = []\n",
    "#     for m in models:\n",
    "#         line = x_df[x_df[\"model\"] == m]\n",
    "#         if belongs_to_pareto(x_df, m):\n",
    "#             print(f\"Wisard belongs to pareto in {c}\")\n",
    "#             line[\"pareto\"] = True\n",
    "#         else:\n",
    "#             line[\"pareto\"] = False\n",
    "#         lines.append(line)\n",
    "        \n",
    "        \n",
    "#     x_df = pd.concat(lines)\n",
    "    \n",
    "#     dfs.append(x_df)\n",
    "    \n",
    "# n = pd.concat(dfs).reset_index()\n",
    "    \n",
    "# # n[\"dataset\"] = n[\"level_0\"]\n",
    "# # n[\"pareto\"] = n[\"pareto\"].astype(int)\n",
    "# n"
   ]
  },
  {
   "cell_type": "code",
   "execution_count": 24,
   "metadata": {},
   "outputs": [],
   "source": [
    "# # Assume 'results' DataFrame with columns: 'dataset', 'model', 'accuracy'\n",
    "\n",
    "# # Create a grouped horizontal bar chart for accuracy per model and dataset with reversed bar groups\n",
    "# fig_grouped_bar = px.bar(\n",
    "#     n,\n",
    "#     y=\"dataset\",\n",
    "#     x=\"metric\",\n",
    "#     # error_x=\"metric_std\",\n",
    "#     color=\"model\",\n",
    "#     #  title='Metric Comparison by Model and Dataset',\n",
    "#     labels={\"metric\": \"Performance\", \"dataset\": \"Dataset\", \"model\": \"\"},\n",
    "#     barmode=\"group\",\n",
    "#     orientation='h',\n",
    "#     color_discrete_sequence=px.colors.qualitative.Prism,\n",
    "# )\n",
    "\n",
    "\n",
    "# # Reverse the order of the bar groups\n",
    "# fig_grouped_bar.update_layout(\n",
    "#     yaxis=dict(autorange=\"reversed\"),\n",
    "# )\n",
    "\n",
    "# # Display the plot\n",
    "# fig_grouped_bar.update_layout(\n",
    "#     legend=dict(\n",
    "#         orientation=\"h\", yanchor=\"top\", y=1.05, xanchor=\"center\", x=0.5\n",
    "#     ),\n",
    "#     height=1200,\n",
    "#     width=2480 / 4,\n",
    "#     font=dict(family=\"Times New Roman\", size=14),\n",
    "# )\n",
    "\n",
    "# write_figure(\"models_performance_horizontal.pdf\", fig_grouped_bar)\n",
    "# fig_grouped_bar.show()"
   ]
  },
  {
   "cell_type": "code",
   "execution_count": 25,
   "metadata": {},
   "outputs": [
    {
     "data": {
      "text/html": [
       "<div>\n",
       "<style scoped>\n",
       "    .dataframe tbody tr th:only-of-type {\n",
       "        vertical-align: middle;\n",
       "    }\n",
       "\n",
       "    .dataframe tbody tr th {\n",
       "        vertical-align: top;\n",
       "    }\n",
       "\n",
       "    .dataframe thead th {\n",
       "        text-align: right;\n",
       "    }\n",
       "</style>\n",
       "<table border=\"1\" class=\"dataframe\">\n",
       "  <thead>\n",
       "    <tr style=\"text-align: right;\">\n",
       "      <th></th>\n",
       "      <th>dataset</th>\n",
       "      <th>model</th>\n",
       "      <th>metric</th>\n",
       "      <th>model_size</th>\n",
       "      <th>relative performance</th>\n",
       "      <th>relative size</th>\n",
       "      <th>accuracy</th>\n",
       "      <th>f1</th>\n",
       "    </tr>\n",
       "  </thead>\n",
       "  <tbody>\n",
       "    <tr>\n",
       "      <th>0</th>\n",
       "      <td>breast_cancer</td>\n",
       "      <td>knn</td>\n",
       "      <td>0.9179</td>\n",
       "      <td>97.0508</td>\n",
       "      <td>0.9454</td>\n",
       "      <td>0.3508</td>\n",
       "      <td>0.9181</td>\n",
       "      <td>0.9179</td>\n",
       "    </tr>\n",
       "    <tr>\n",
       "      <th>1</th>\n",
       "      <td>breast_cancer</td>\n",
       "      <td>mlp</td>\n",
       "      <td>0.9103</td>\n",
       "      <td>83.1602</td>\n",
       "      <td>0.9376</td>\n",
       "      <td>0.3006</td>\n",
       "      <td>0.9123</td>\n",
       "      <td>0.9103</td>\n",
       "    </tr>\n",
       "    <tr>\n",
       "      <th>2</th>\n",
       "      <td>breast_cancer</td>\n",
       "      <td>random-forest</td>\n",
       "      <td>0.9709</td>\n",
       "      <td>276.6465</td>\n",
       "      <td>1.0000</td>\n",
       "      <td>1.0000</td>\n",
       "      <td>0.9708</td>\n",
       "      <td>0.9709</td>\n",
       "    </tr>\n",
       "    <tr>\n",
       "      <th>3</th>\n",
       "      <td>breast_cancer</td>\n",
       "      <td>svm</td>\n",
       "      <td>0.8731</td>\n",
       "      <td>26.5889</td>\n",
       "      <td>0.8992</td>\n",
       "      <td>0.0961</td>\n",
       "      <td>0.8772</td>\n",
       "      <td>0.8731</td>\n",
       "    </tr>\n",
       "    <tr>\n",
       "      <th>4</th>\n",
       "      <td>breast_cancer</td>\n",
       "      <td>wisard</td>\n",
       "      <td>0.9628</td>\n",
       "      <td>92.6960</td>\n",
       "      <td>0.9917</td>\n",
       "      <td>0.3351</td>\n",
       "      <td>0.9630</td>\n",
       "      <td>0.9628</td>\n",
       "    </tr>\n",
       "    <tr>\n",
       "      <th>...</th>\n",
       "      <td>...</td>\n",
       "      <td>...</td>\n",
       "      <td>...</td>\n",
       "      <td>...</td>\n",
       "      <td>...</td>\n",
       "      <td>...</td>\n",
       "      <td>...</td>\n",
       "      <td>...</td>\n",
       "    </tr>\n",
       "    <tr>\n",
       "      <th>70</th>\n",
       "      <td>yeast</td>\n",
       "      <td>knn</td>\n",
       "      <td>0.5464</td>\n",
       "      <td>178.0469</td>\n",
       "      <td>0.8802</td>\n",
       "      <td>0.0169</td>\n",
       "      <td>0.5522</td>\n",
       "      <td>0.5464</td>\n",
       "    </tr>\n",
       "    <tr>\n",
       "      <th>71</th>\n",
       "      <td>yeast</td>\n",
       "      <td>mlp</td>\n",
       "      <td>0.5896</td>\n",
       "      <td>52.9580</td>\n",
       "      <td>0.9498</td>\n",
       "      <td>0.0050</td>\n",
       "      <td>0.6027</td>\n",
       "      <td>0.5896</td>\n",
       "    </tr>\n",
       "    <tr>\n",
       "      <th>72</th>\n",
       "      <td>yeast</td>\n",
       "      <td>random-forest</td>\n",
       "      <td>0.6207</td>\n",
       "      <td>10533.5645</td>\n",
       "      <td>1.0000</td>\n",
       "      <td>1.0000</td>\n",
       "      <td>0.6296</td>\n",
       "      <td>0.6207</td>\n",
       "    </tr>\n",
       "    <tr>\n",
       "      <th>73</th>\n",
       "      <td>yeast</td>\n",
       "      <td>svm</td>\n",
       "      <td>0.5992</td>\n",
       "      <td>137.1494</td>\n",
       "      <td>0.9653</td>\n",
       "      <td>0.0130</td>\n",
       "      <td>0.6094</td>\n",
       "      <td>0.5992</td>\n",
       "    </tr>\n",
       "    <tr>\n",
       "      <th>74</th>\n",
       "      <td>yeast</td>\n",
       "      <td>wisard</td>\n",
       "      <td>0.5700</td>\n",
       "      <td>463.6279</td>\n",
       "      <td>0.9183</td>\n",
       "      <td>0.0440</td>\n",
       "      <td>0.5825</td>\n",
       "      <td>0.5700</td>\n",
       "    </tr>\n",
       "  </tbody>\n",
       "</table>\n",
       "<p>75 rows × 8 columns</p>\n",
       "</div>"
      ],
      "text/plain": [
       "          dataset          model  metric  model_size  relative performance  \\\n",
       "0   breast_cancer            knn  0.9179     97.0508                0.9454   \n",
       "1   breast_cancer            mlp  0.9103     83.1602                0.9376   \n",
       "2   breast_cancer  random-forest  0.9709    276.6465                1.0000   \n",
       "3   breast_cancer            svm  0.8731     26.5889                0.8992   \n",
       "4   breast_cancer         wisard  0.9628     92.6960                0.9917   \n",
       "..            ...            ...     ...         ...                   ...   \n",
       "70          yeast            knn  0.5464    178.0469                0.8802   \n",
       "71          yeast            mlp  0.5896     52.9580                0.9498   \n",
       "72          yeast  random-forest  0.6207  10533.5645                1.0000   \n",
       "73          yeast            svm  0.5992    137.1494                0.9653   \n",
       "74          yeast         wisard  0.5700    463.6279                0.9183   \n",
       "\n",
       "    relative size  accuracy     f1  \n",
       "0          0.3508    0.9181 0.9179  \n",
       "1          0.3006    0.9123 0.9103  \n",
       "2          1.0000    0.9708 0.9709  \n",
       "3          0.0961    0.8772 0.8731  \n",
       "4          0.3351    0.9630 0.9628  \n",
       "..            ...       ...    ...  \n",
       "70         0.0169    0.5522 0.5464  \n",
       "71         0.0050    0.6027 0.5896  \n",
       "72         1.0000    0.6296 0.6207  \n",
       "73         0.0130    0.6094 0.5992  \n",
       "74         0.0440    0.5825 0.5700  \n",
       "\n",
       "[75 rows x 8 columns]"
      ]
     },
     "execution_count": 25,
     "metadata": {},
     "output_type": "execute_result"
    }
   ],
   "source": [
    "result_df"
   ]
  },
  {
   "cell_type": "code",
   "execution_count": 26,
   "metadata": {},
   "outputs": [
    {
     "name": "stdout",
     "output_type": "stream",
     "text": [
      "Csv written to temp.csv\n"
     ]
    },
    {
     "data": {
      "text/html": [
       "<div>\n",
       "<style scoped>\n",
       "    .dataframe tbody tr th:only-of-type {\n",
       "        vertical-align: middle;\n",
       "    }\n",
       "\n",
       "    .dataframe tbody tr th {\n",
       "        vertical-align: top;\n",
       "    }\n",
       "\n",
       "    .dataframe thead th {\n",
       "        text-align: right;\n",
       "    }\n",
       "</style>\n",
       "<table border=\"1\" class=\"dataframe\">\n",
       "  <thead>\n",
       "    <tr style=\"text-align: right;\">\n",
       "      <th></th>\n",
       "      <th>dataset</th>\n",
       "      <th>model</th>\n",
       "      <th>metric</th>\n",
       "      <th>model_size</th>\n",
       "      <th>relative performance</th>\n",
       "      <th>relative size</th>\n",
       "      <th>accuracy</th>\n",
       "      <th>f1</th>\n",
       "      <th>pareto</th>\n",
       "    </tr>\n",
       "  </thead>\n",
       "  <tbody>\n",
       "    <tr>\n",
       "      <th>0</th>\n",
       "      <td>breast_cancer</td>\n",
       "      <td>knn</td>\n",
       "      <td>0.9179</td>\n",
       "      <td>97.0508</td>\n",
       "      <td>0.9454</td>\n",
       "      <td>0.3508</td>\n",
       "      <td>0.9181</td>\n",
       "      <td>0.9179</td>\n",
       "      <td>False</td>\n",
       "    </tr>\n",
       "    <tr>\n",
       "      <th>1</th>\n",
       "      <td>breast_cancer</td>\n",
       "      <td>mlp</td>\n",
       "      <td>0.9103</td>\n",
       "      <td>83.1602</td>\n",
       "      <td>0.9376</td>\n",
       "      <td>0.3006</td>\n",
       "      <td>0.9123</td>\n",
       "      <td>0.9103</td>\n",
       "      <td>True</td>\n",
       "    </tr>\n",
       "    <tr>\n",
       "      <th>2</th>\n",
       "      <td>breast_cancer</td>\n",
       "      <td>random-forest</td>\n",
       "      <td>0.9709</td>\n",
       "      <td>276.6465</td>\n",
       "      <td>1.0000</td>\n",
       "      <td>1.0000</td>\n",
       "      <td>0.9708</td>\n",
       "      <td>0.9709</td>\n",
       "      <td>True</td>\n",
       "    </tr>\n",
       "    <tr>\n",
       "      <th>3</th>\n",
       "      <td>breast_cancer</td>\n",
       "      <td>svm</td>\n",
       "      <td>0.8731</td>\n",
       "      <td>26.5889</td>\n",
       "      <td>0.8992</td>\n",
       "      <td>0.0961</td>\n",
       "      <td>0.8772</td>\n",
       "      <td>0.8731</td>\n",
       "      <td>True</td>\n",
       "    </tr>\n",
       "    <tr>\n",
       "      <th>4</th>\n",
       "      <td>breast_cancer</td>\n",
       "      <td>wisard</td>\n",
       "      <td>0.9628</td>\n",
       "      <td>92.6960</td>\n",
       "      <td>0.9917</td>\n",
       "      <td>0.3351</td>\n",
       "      <td>0.9630</td>\n",
       "      <td>0.9628</td>\n",
       "      <td>True</td>\n",
       "    </tr>\n",
       "    <tr>\n",
       "      <th>5</th>\n",
       "      <td>dry_bean</td>\n",
       "      <td>knn</td>\n",
       "      <td>0.7175</td>\n",
       "      <td>1446.7705</td>\n",
       "      <td>0.7800</td>\n",
       "      <td>0.1044</td>\n",
       "      <td>0.7216</td>\n",
       "      <td>0.7175</td>\n",
       "      <td>False</td>\n",
       "    </tr>\n",
       "    <tr>\n",
       "      <th>6</th>\n",
       "      <td>dry_bean</td>\n",
       "      <td>mlp</td>\n",
       "      <td>0.2251</td>\n",
       "      <td>61.7367</td>\n",
       "      <td>0.2447</td>\n",
       "      <td>0.0045</td>\n",
       "      <td>0.3286</td>\n",
       "      <td>0.2251</td>\n",
       "      <td>True</td>\n",
       "    </tr>\n",
       "    <tr>\n",
       "      <th>7</th>\n",
       "      <td>dry_bean</td>\n",
       "      <td>random-forest</td>\n",
       "      <td>0.9198</td>\n",
       "      <td>13856.8398</td>\n",
       "      <td>1.0000</td>\n",
       "      <td>1.0000</td>\n",
       "      <td>0.9199</td>\n",
       "      <td>0.9198</td>\n",
       "      <td>True</td>\n",
       "    </tr>\n",
       "    <tr>\n",
       "      <th>8</th>\n",
       "      <td>dry_bean</td>\n",
       "      <td>svm</td>\n",
       "      <td>0.6014</td>\n",
       "      <td>1468.3936</td>\n",
       "      <td>0.6538</td>\n",
       "      <td>0.1060</td>\n",
       "      <td>0.6372</td>\n",
       "      <td>0.6014</td>\n",
       "      <td>False</td>\n",
       "    </tr>\n",
       "    <tr>\n",
       "      <th>9</th>\n",
       "      <td>dry_bean</td>\n",
       "      <td>wisard</td>\n",
       "      <td>0.9024</td>\n",
       "      <td>455.0872</td>\n",
       "      <td>0.9810</td>\n",
       "      <td>0.0328</td>\n",
       "      <td>0.9032</td>\n",
       "      <td>0.9024</td>\n",
       "      <td>True</td>\n",
       "    </tr>\n",
       "  </tbody>\n",
       "</table>\n",
       "</div>"
      ],
      "text/plain": [
       "         dataset          model  metric  model_size  relative performance  \\\n",
       "0  breast_cancer            knn  0.9179     97.0508                0.9454   \n",
       "1  breast_cancer            mlp  0.9103     83.1602                0.9376   \n",
       "2  breast_cancer  random-forest  0.9709    276.6465                1.0000   \n",
       "3  breast_cancer            svm  0.8731     26.5889                0.8992   \n",
       "4  breast_cancer         wisard  0.9628     92.6960                0.9917   \n",
       "5       dry_bean            knn  0.7175   1446.7705                0.7800   \n",
       "6       dry_bean            mlp  0.2251     61.7367                0.2447   \n",
       "7       dry_bean  random-forest  0.9198  13856.8398                1.0000   \n",
       "8       dry_bean            svm  0.6014   1468.3936                0.6538   \n",
       "9       dry_bean         wisard  0.9024    455.0872                0.9810   \n",
       "\n",
       "   relative size  accuracy     f1 pareto  \n",
       "0         0.3508    0.9181 0.9179  False  \n",
       "1         0.3006    0.9123 0.9103   True  \n",
       "2         1.0000    0.9708 0.9709   True  \n",
       "3         0.0961    0.8772 0.8731   True  \n",
       "4         0.3351    0.9630 0.9628   True  \n",
       "5         0.1044    0.7216 0.7175  False  \n",
       "6         0.0045    0.3286 0.2251   True  \n",
       "7         1.0000    0.9199 0.9198   True  \n",
       "8         0.1060    0.6372 0.6014  False  \n",
       "9         0.0328    0.9032 0.9024   True  "
      ]
     },
     "execution_count": 26,
     "metadata": {},
     "output_type": "execute_result"
    }
   ],
   "source": [
    "# Identify Pareto frontier\n",
    "def is_pareto_efficient(costs):\n",
    "    is_efficient = np.ones(costs.shape[0], dtype=bool)\n",
    "    for i, c in enumerate(costs):\n",
    "        if is_efficient[i]:\n",
    "            is_efficient[is_efficient] = np.any(costs[is_efficient] < c, axis=1)\n",
    "            is_efficient[i] = True  # Keep the current point\n",
    "    return is_efficient\n",
    "\n",
    "for dset_name, dset_df in result_df.groupby(\"dataset\"):\n",
    "    costs = dset_df[[\"model_size\", \"metric\"]].to_numpy()\n",
    "    # Invert metric (lower is better)\n",
    "    costs[:, 1] = 1 / costs[:, 1]\n",
    "    pareto = is_pareto_efficient(costs)\n",
    "    result_df.loc[dset_df.index, \"pareto\"] = pareto\n",
    "    \n",
    "result_df.to_csv(\"temp.csv\", index=False)\n",
    "print(f\"Csv written to temp.csv\")\n",
    "result_df.head(n=10)"
   ]
  },
  {
   "cell_type": "code",
   "execution_count": 27,
   "metadata": {},
   "outputs": [
    {
     "data": {
      "text/html": [
       "<div>\n",
       "<style scoped>\n",
       "    .dataframe tbody tr th:only-of-type {\n",
       "        vertical-align: middle;\n",
       "    }\n",
       "\n",
       "    .dataframe tbody tr th {\n",
       "        vertical-align: top;\n",
       "    }\n",
       "\n",
       "    .dataframe thead th {\n",
       "        text-align: right;\n",
       "    }\n",
       "</style>\n",
       "<table border=\"1\" class=\"dataframe\">\n",
       "  <thead>\n",
       "    <tr style=\"text-align: right;\">\n",
       "      <th></th>\n",
       "      <th></th>\n",
       "      <th>pareto</th>\n",
       "    </tr>\n",
       "    <tr>\n",
       "      <th>model</th>\n",
       "      <th>pareto</th>\n",
       "      <th></th>\n",
       "    </tr>\n",
       "  </thead>\n",
       "  <tbody>\n",
       "    <tr>\n",
       "      <th rowspan=\"2\" valign=\"top\">knn</th>\n",
       "      <th>False</th>\n",
       "      <td>11</td>\n",
       "    </tr>\n",
       "    <tr>\n",
       "      <th>True</th>\n",
       "      <td>4</td>\n",
       "    </tr>\n",
       "    <tr>\n",
       "      <th rowspan=\"2\" valign=\"top\">mlp</th>\n",
       "      <th>True</th>\n",
       "      <td>12</td>\n",
       "    </tr>\n",
       "    <tr>\n",
       "      <th>False</th>\n",
       "      <td>3</td>\n",
       "    </tr>\n",
       "    <tr>\n",
       "      <th rowspan=\"2\" valign=\"top\">random-forest</th>\n",
       "      <th>True</th>\n",
       "      <td>9</td>\n",
       "    </tr>\n",
       "    <tr>\n",
       "      <th>False</th>\n",
       "      <td>6</td>\n",
       "    </tr>\n",
       "    <tr>\n",
       "      <th rowspan=\"2\" valign=\"top\">svm</th>\n",
       "      <th>False</th>\n",
       "      <td>10</td>\n",
       "    </tr>\n",
       "    <tr>\n",
       "      <th>True</th>\n",
       "      <td>5</td>\n",
       "    </tr>\n",
       "    <tr>\n",
       "      <th rowspan=\"2\" valign=\"top\">wisard</th>\n",
       "      <th>True</th>\n",
       "      <td>8</td>\n",
       "    </tr>\n",
       "    <tr>\n",
       "      <th>False</th>\n",
       "      <td>7</td>\n",
       "    </tr>\n",
       "  </tbody>\n",
       "</table>\n",
       "</div>"
      ],
      "text/plain": [
       "                      pareto\n",
       "model         pareto        \n",
       "knn           False       11\n",
       "              True         4\n",
       "mlp           True        12\n",
       "              False        3\n",
       "random-forest True         9\n",
       "              False        6\n",
       "svm           False       10\n",
       "              True         5\n",
       "wisard        True         8\n",
       "              False        7"
      ]
     },
     "execution_count": 27,
     "metadata": {},
     "output_type": "execute_result"
    }
   ],
   "source": [
    "result_df.groupby(\"model\").pareto.value_counts().to_frame()"
   ]
  },
  {
   "cell_type": "code",
   "execution_count": 47,
   "metadata": {},
   "outputs": [
    {
     "name": "stdout",
     "output_type": "stream",
     "text": [
      "Figure written to: figures/model_metric_size.pdf\n",
      "Filename   : model_metric_size.pdf\n",
      "Latex label: model_metric_size\n"
     ]
    },
    {
     "data": {
      "application/vnd.plotly.v1+json": {
       "config": {
        "plotlyServerURL": "https://plot.ly"
       },
       "data": [
        {
         "hovertemplate": "pareto=False<br>model=knn<br>dataset=breast_cancer<br>relative size=%{x}<br>metric=%{y}<extra></extra>",
         "legendgroup": "False, knn",
         "marker": {
          "color": "#636EFA",
          "size": 7,
          "symbol": "circle"
         },
         "mode": "markers",
         "name": "False, knn",
         "orientation": "v",
         "showlegend": false,
         "type": "scatter",
         "x": [
          0.3508115473408499
         ],
         "xaxis": "x13",
         "y": [
          0.9178579163959281
         ],
         "yaxis": "y13"
        },
        {
         "hovertemplate": "pareto=False<br>model=knn<br>dataset=dry_bean<br>relative size=%{x}<br>metric=%{y}<extra></extra>",
         "legendgroup": "False, knn",
         "marker": {
          "color": "#636EFA",
          "size": 7,
          "symbol": "circle"
         },
         "mode": "markers",
         "name": "False, knn",
         "orientation": "v",
         "showlegend": false,
         "type": "scatter",
         "x": [
          0.10440840221336992
         ],
         "xaxis": "x14",
         "y": [
          0.7175232545997096
         ],
         "yaxis": "y14"
        },
        {
         "hovertemplate": "pareto=False<br>model=knn<br>dataset=iris<br>relative size=%{x}<br>metric=%{y}<extra></extra>",
         "legendgroup": "False, knn",
         "marker": {
          "color": "#636EFA",
          "size": 7,
          "symbol": "circle"
         },
         "mode": "markers",
         "name": "False, knn",
         "orientation": "v",
         "showlegend": false,
         "type": "scatter",
         "x": [
          0.0737422518547181
         ],
         "xaxis": "x11",
         "y": [
          0.9555555555555556
         ],
         "yaxis": "y11"
        },
        {
         "hovertemplate": "pareto=False<br>model=knn<br>dataset=motion_sense<br>relative size=%{x}<br>metric=%{y}<extra></extra>",
         "legendgroup": "False, knn",
         "marker": {
          "color": "#636EFA",
          "size": 7,
          "symbol": "circle"
         },
         "mode": "markers",
         "name": "False, knn",
         "orientation": "v",
         "showlegend": false,
         "type": "scatter",
         "x": [
          0.2964337966338675
         ],
         "xaxis": "x7",
         "y": [
          0.5049019607843137
         ],
         "yaxis": "y7"
        },
        {
         "hovertemplate": "pareto=False<br>model=knn<br>dataset=optical_handwritten<br>relative size=%{x}<br>metric=%{y}<extra></extra>",
         "legendgroup": "False, knn",
         "marker": {
          "color": "#636EFA",
          "size": 7,
          "symbol": "circle"
         },
         "mode": "markers",
         "name": "False, knn",
         "orientation": "v",
         "showlegend": false,
         "type": "scatter",
         "x": [
          0.13296758551459578
         ],
         "xaxis": "x8",
         "y": [
          0.988428941906149
         ],
         "yaxis": "y8"
        },
        {
         "hovertemplate": "pareto=False<br>model=knn<br>dataset=rice<br>relative size=%{x}<br>metric=%{y}<extra></extra>",
         "legendgroup": "False, knn",
         "marker": {
          "color": "#636EFA",
          "size": 7,
          "symbol": "circle"
         },
         "mode": "markers",
         "name": "False, knn",
         "orientation": "v",
         "showlegend": false,
         "type": "scatter",
         "x": [
          0.14281182546809376
         ],
         "xaxis": "x9",
         "y": [
          0.8636907391101323
         ],
         "yaxis": "y9"
        },
        {
         "hovertemplate": "pareto=False<br>model=knn<br>dataset=satimage<br>relative size=%{x}<br>metric=%{y}<extra></extra>",
         "legendgroup": "False, knn",
         "marker": {
          "color": "#636EFA",
          "size": 7,
          "symbol": "circle"
         },
         "mode": "markers",
         "name": "False, knn",
         "orientation": "v",
         "showlegend": false,
         "type": "scatter",
         "x": [
          0.16240087139846995
         ],
         "xaxis": "x4",
         "y": [
          0.9025045416497844
         ],
         "yaxis": "y4"
        },
        {
         "hovertemplate": "pareto=False<br>model=knn<br>dataset=segment<br>relative size=%{x}<br>metric=%{y}<extra></extra>",
         "legendgroup": "False, knn",
         "marker": {
          "color": "#636EFA",
          "size": 7,
          "symbol": "circle"
         },
         "mode": "markers",
         "name": "False, knn",
         "orientation": "v",
         "showlegend": false,
         "type": "scatter",
         "x": [
          0.14637594892786315
         ],
         "xaxis": "x5",
         "y": [
          0.9336219336219336
         ],
         "yaxis": "y5"
        },
        {
         "hovertemplate": "pareto=False<br>model=knn<br>dataset=sepsis<br>relative size=%{x}<br>metric=%{y}<extra></extra>",
         "legendgroup": "False, knn",
         "marker": {
          "color": "#636EFA",
          "size": 7,
          "symbol": "circle"
         },
         "mode": "markers",
         "name": "False, knn",
         "orientation": "v",
         "showlegend": false,
         "type": "scatter",
         "x": [
          0.6580470075168439
         ],
         "xaxis": "x6",
         "y": [
          0.8909546104108189
         ],
         "yaxis": "y6"
        },
        {
         "hovertemplate": "pareto=False<br>model=knn<br>dataset=vehicle<br>relative size=%{x}<br>metric=%{y}<extra></extra>",
         "legendgroup": "False, knn",
         "marker": {
          "color": "#636EFA",
          "size": 7,
          "symbol": "circle"
         },
         "mode": "markers",
         "name": "False, knn",
         "orientation": "v",
         "showlegend": false,
         "type": "scatter",
         "x": [
          0.1042009740844117
         ],
         "xaxis": "x",
         "y": [
          0.8176470588235295
         ],
         "yaxis": "y"
        },
        {
         "hovertemplate": "pareto=False<br>model=knn<br>dataset=yeast<br>relative size=%{x}<br>metric=%{y}<extra></extra>",
         "legendgroup": "False, knn",
         "marker": {
          "color": "#636EFA",
          "size": 7,
          "symbol": "circle"
         },
         "mode": "markers",
         "name": "False, knn",
         "orientation": "v",
         "showlegend": false,
         "type": "scatter",
         "x": [
          0.016902813458095727
         ],
         "xaxis": "x3",
         "y": [
          0.5463856770422707
         ],
         "yaxis": "y3"
        },
        {
         "hovertemplate": "pareto=False<br>model=mlp<br>dataset=glass<br>relative size=%{x}<br>metric=%{y}<extra></extra>",
         "legendgroup": "False, mlp",
         "marker": {
          "color": "#636EFA",
          "size": 7,
          "symbol": "square"
         },
         "mode": "markers",
         "name": "False, mlp",
         "orientation": "v",
         "showlegend": false,
         "type": "scatter",
         "x": [
          0.06346169199604329
         ],
         "xaxis": "x15",
         "y": [
          0.4554142391626345
         ],
         "yaxis": "y15"
        },
        {
         "hovertemplate": "pareto=False<br>model=mlp<br>dataset=iris<br>relative size=%{x}<br>metric=%{y}<extra></extra>",
         "legendgroup": "False, mlp",
         "marker": {
          "color": "#636EFA",
          "size": 7,
          "symbol": "square"
         },
         "mode": "markers",
         "name": "False, mlp",
         "orientation": "v",
         "showlegend": false,
         "type": "scatter",
         "x": [
          0.20539189058465476
         ],
         "xaxis": "x11",
         "y": [
          0.9777777777777775
         ],
         "yaxis": "y11"
        },
        {
         "hovertemplate": "pareto=False<br>model=mlp<br>dataset=rice<br>relative size=%{x}<br>metric=%{y}<extra></extra>",
         "legendgroup": "False, mlp",
         "marker": {
          "color": "#636EFA",
          "size": 7,
          "symbol": "square"
         },
         "mode": "markers",
         "name": "False, mlp",
         "orientation": "v",
         "showlegend": false,
         "type": "scatter",
         "x": [
          0.009309121298150307
         ],
         "xaxis": "x9",
         "y": [
          0.4777329795241849
         ],
         "yaxis": "y9"
        },
        {
         "hovertemplate": "pareto=False<br>model=random-forest<br>dataset=glass<br>relative size=%{x}<br>metric=%{y}<extra></extra>",
         "legendgroup": "False, random-forest",
         "marker": {
          "color": "#636EFA",
          "size": 7,
          "symbol": "diamond"
         },
         "mode": "markers",
         "name": "False, random-forest",
         "orientation": "v",
         "showlegend": false,
         "type": "scatter",
         "x": [
          1
         ],
         "xaxis": "x15",
         "y": [
          0.7060178946619377
         ],
         "yaxis": "y15"
        },
        {
         "hovertemplate": "pareto=False<br>model=random-forest<br>dataset=image_segmentation<br>relative size=%{x}<br>metric=%{y}<extra></extra>",
         "legendgroup": "False, random-forest",
         "marker": {
          "color": "#636EFA",
          "size": 7,
          "symbol": "diamond"
         },
         "mode": "markers",
         "name": "False, random-forest",
         "orientation": "v",
         "showlegend": false,
         "type": "scatter",
         "x": [
          1
         ],
         "xaxis": "x10",
         "y": [
          0.6190476190476191
         ],
         "yaxis": "y10"
        },
        {
         "hovertemplate": "pareto=False<br>model=random-forest<br>dataset=iris<br>relative size=%{x}<br>metric=%{y}<extra></extra>",
         "legendgroup": "False, random-forest",
         "marker": {
          "color": "#636EFA",
          "size": 7,
          "symbol": "diamond"
         },
         "mode": "markers",
         "name": "False, random-forest",
         "orientation": "v",
         "showlegend": false,
         "type": "scatter",
         "x": [
          1
         ],
         "xaxis": "x11",
         "y": [
          0.9333333333333332
         ],
         "yaxis": "y11"
        },
        {
         "hovertemplate": "pareto=False<br>model=random-forest<br>dataset=optical_handwritten<br>relative size=%{x}<br>metric=%{y}<extra></extra>",
         "legendgroup": "False, random-forest",
         "marker": {
          "color": "#636EFA",
          "size": 7,
          "symbol": "diamond"
         },
         "mode": "markers",
         "name": "False, random-forest",
         "orientation": "v",
         "showlegend": false,
         "type": "scatter",
         "x": [
          0.6732152504779295
         ],
         "xaxis": "x8",
         "y": [
          0.9827979576880973
         ],
         "yaxis": "y8"
        },
        {
         "hovertemplate": "pareto=False<br>model=random-forest<br>dataset=satimage<br>relative size=%{x}<br>metric=%{y}<extra></extra>",
         "legendgroup": "False, random-forest",
         "marker": {
          "color": "#636EFA",
          "size": 7,
          "symbol": "diamond"
         },
         "mode": "markers",
         "name": "False, random-forest",
         "orientation": "v",
         "showlegend": false,
         "type": "scatter",
         "x": [
          1
         ],
         "xaxis": "x4",
         "y": [
          0.910574331227231
         ],
         "yaxis": "y4"
        },
        {
         "hovertemplate": "pareto=False<br>model=random-forest<br>dataset=sepsis<br>relative size=%{x}<br>metric=%{y}<extra></extra>",
         "legendgroup": "False, random-forest",
         "marker": {
          "color": "#636EFA",
          "size": 7,
          "symbol": "diamond"
         },
         "mode": "markers",
         "name": "False, random-forest",
         "orientation": "v",
         "showlegend": false,
         "type": "scatter",
         "x": [
          1
         ],
         "xaxis": "x6",
         "y": [
          0.8908090454440197
         ],
         "yaxis": "y6"
        },
        {
         "hovertemplate": "pareto=False<br>model=svm<br>dataset=dry_bean<br>relative size=%{x}<br>metric=%{y}<extra></extra>",
         "legendgroup": "False, svm",
         "marker": {
          "color": "#636EFA",
          "size": 7,
          "symbol": "cross"
         },
         "mode": "markers",
         "name": "False, svm",
         "orientation": "v",
         "showlegend": false,
         "type": "scatter",
         "x": [
          0.10596886239901267
         ],
         "xaxis": "x14",
         "y": [
          0.6014133504868324
         ],
         "yaxis": "y14"
        },
        {
         "hovertemplate": "pareto=False<br>model=svm<br>dataset=image_segmentation<br>relative size=%{x}<br>metric=%{y}<extra></extra>",
         "legendgroup": "False, svm",
         "marker": {
          "color": "#636EFA",
          "size": 7,
          "symbol": "cross"
         },
         "mode": "markers",
         "name": "False, svm",
         "orientation": "v",
         "showlegend": false,
         "type": "scatter",
         "x": [
          0.05963587930781256
         ],
         "xaxis": "x10",
         "y": [
          0.5
         ],
         "yaxis": "y10"
        },
        {
         "hovertemplate": "pareto=False<br>model=svm<br>dataset=iris<br>relative size=%{x}<br>metric=%{y}<extra></extra>",
         "legendgroup": "False, svm",
         "marker": {
          "color": "#636EFA",
          "size": 7,
          "symbol": "cross"
         },
         "mode": "markers",
         "name": "False, svm",
         "orientation": "v",
         "showlegend": false,
         "type": "scatter",
         "x": [
          0.027487777835653746
         ],
         "xaxis": "x11",
         "y": [
          1
         ],
         "yaxis": "y11"
        },
        {
         "hovertemplate": "pareto=False<br>model=svm<br>dataset=letter<br>relative size=%{x}<br>metric=%{y}<extra></extra>",
         "legendgroup": "False, svm",
         "marker": {
          "color": "#636EFA",
          "size": 7,
          "symbol": "cross"
         },
         "mode": "markers",
         "name": "False, svm",
         "orientation": "v",
         "showlegend": false,
         "type": "scatter",
         "x": [
          0.026202581443719793
         ],
         "xaxis": "x12",
         "y": [
          0.92
         ],
         "yaxis": "y12"
        },
        {
         "hovertemplate": "pareto=False<br>model=svm<br>dataset=motion_sense<br>relative size=%{x}<br>metric=%{y}<extra></extra>",
         "legendgroup": "False, svm",
         "marker": {
          "color": "#636EFA",
          "size": 7,
          "symbol": "cross"
         },
         "mode": "markers",
         "name": "False, svm",
         "orientation": "v",
         "showlegend": false,
         "type": "scatter",
         "x": [
          0.25998224224727745
         ],
         "xaxis": "x7",
         "y": [
          0.538235294117647
         ],
         "yaxis": "y7"
        },
        {
         "hovertemplate": "pareto=False<br>model=svm<br>dataset=rice<br>relative size=%{x}<br>metric=%{y}<extra></extra>",
         "legendgroup": "False, svm",
         "marker": {
          "color": "#636EFA",
          "size": 7,
          "symbol": "cross"
         },
         "mode": "markers",
         "name": "False, svm",
         "orientation": "v",
         "showlegend": false,
         "type": "scatter",
         "x": [
          0.026289663173276964
         ],
         "xaxis": "x9",
         "y": [
          0.867169718729999
         ],
         "yaxis": "y9"
        },
        {
         "hovertemplate": "pareto=False<br>model=svm<br>dataset=satimage<br>relative size=%{x}<br>metric=%{y}<extra></extra>",
         "legendgroup": "False, svm",
         "marker": {
          "color": "#636EFA",
          "size": 7,
          "symbol": "cross"
         },
         "mode": "markers",
         "name": "False, svm",
         "orientation": "v",
         "showlegend": false,
         "type": "scatter",
         "x": [
          0.05928503383199199
         ],
         "xaxis": "x4",
         "y": [
          0.892530243798912
         ],
         "yaxis": "y4"
        },
        {
         "hovertemplate": "pareto=False<br>model=svm<br>dataset=segment<br>relative size=%{x}<br>metric=%{y}<extra></extra>",
         "legendgroup": "False, svm",
         "marker": {
          "color": "#636EFA",
          "size": 7,
          "symbol": "cross"
         },
         "mode": "markers",
         "name": "False, svm",
         "orientation": "v",
         "showlegend": false,
         "type": "scatter",
         "x": [
          0.09568860214568423
         ],
         "xaxis": "x5",
         "y": [
          0.8701298701298702
         ],
         "yaxis": "y5"
        },
        {
         "hovertemplate": "pareto=False<br>model=svm<br>dataset=sepsis<br>relative size=%{x}<br>metric=%{y}<extra></extra>",
         "legendgroup": "False, svm",
         "marker": {
          "color": "#636EFA",
          "size": 7,
          "symbol": "cross"
         },
         "mode": "markers",
         "name": "False, svm",
         "orientation": "v",
         "showlegend": false,
         "type": "scatter",
         "x": [
          0.06319212145828311
         ],
         "xaxis": "x6",
         "y": [
          0.8908920043310973
         ],
         "yaxis": "y6"
        },
        {
         "hovertemplate": "pareto=False<br>model=svm<br>dataset=vehicle<br>relative size=%{x}<br>metric=%{y}<extra></extra>",
         "legendgroup": "False, svm",
         "marker": {
          "color": "#636EFA",
          "size": 7,
          "symbol": "cross"
         },
         "mode": "markers",
         "name": "False, svm",
         "orientation": "v",
         "showlegend": false,
         "type": "scatter",
         "x": [
          0.08470786870008355
         ],
         "xaxis": "x",
         "y": [
          0.7176470588235294
         ],
         "yaxis": "y"
        },
        {
         "hovertemplate": "pareto=False<br>model=wisard<br>dataset=glass<br>relative size=%{x}<br>metric=%{y}<extra></extra>",
         "legendgroup": "False, wisard",
         "marker": {
          "color": "#636EFA",
          "size": 7,
          "symbol": "x"
         },
         "mode": "markers",
         "name": "False, wisard",
         "orientation": "v",
         "showlegend": false,
         "type": "scatter",
         "x": [
          0.09164899631978658
         ],
         "xaxis": "x15",
         "y": [
          0.6615428500177969
         ],
         "yaxis": "y15"
        },
        {
         "hovertemplate": "pareto=False<br>model=wisard<br>dataset=letter<br>relative size=%{x}<br>metric=%{y}<extra></extra>",
         "legendgroup": "False, wisard",
         "marker": {
          "color": "#636EFA",
          "size": 7,
          "symbol": "x"
         },
         "mode": "markers",
         "name": "False, wisard",
         "orientation": "v",
         "showlegend": false,
         "type": "scatter",
         "x": [
          0.0996008722836787
         ],
         "xaxis": "x12",
         "y": [
          0.9000555555555557
         ],
         "yaxis": "y12"
        },
        {
         "hovertemplate": "pareto=False<br>model=wisard<br>dataset=motion_sense<br>relative size=%{x}<br>metric=%{y}<extra></extra>",
         "legendgroup": "False, wisard",
         "marker": {
          "color": "#636EFA",
          "size": 7,
          "symbol": "x"
         },
         "mode": "markers",
         "name": "False, wisard",
         "orientation": "v",
         "showlegend": false,
         "type": "scatter",
         "x": [
          1
         ],
         "xaxis": "x7",
         "y": [
          0.65
         ],
         "yaxis": "y7"
        },
        {
         "hovertemplate": "pareto=False<br>model=wisard<br>dataset=optical_handwritten<br>relative size=%{x}<br>metric=%{y}<extra></extra>",
         "legendgroup": "False, wisard",
         "marker": {
          "color": "#636EFA",
          "size": 7,
          "symbol": "x"
         },
         "mode": "markers",
         "name": "False, wisard",
         "orientation": "v",
         "showlegend": false,
         "type": "scatter",
         "x": [
          1
         ],
         "xaxis": "x8",
         "y": [
          0.9780450131673772
         ],
         "yaxis": "y8"
        },
        {
         "hovertemplate": "pareto=False<br>model=wisard<br>dataset=satimage<br>relative size=%{x}<br>metric=%{y}<extra></extra>",
         "legendgroup": "False, wisard",
         "marker": {
          "color": "#636EFA",
          "size": 7,
          "symbol": "x"
         },
         "mode": "markers",
         "name": "False, wisard",
         "orientation": "v",
         "showlegend": false,
         "type": "scatter",
         "x": [
          0.6690516930290803
         ],
         "xaxis": "x4",
         "y": [
          0.8866629525557234
         ],
         "yaxis": "y4"
        },
        {
         "hovertemplate": "pareto=False<br>model=wisard<br>dataset=segment<br>relative size=%{x}<br>metric=%{y}<extra></extra>",
         "legendgroup": "False, wisard",
         "marker": {
          "color": "#636EFA",
          "size": 7,
          "symbol": "x"
         },
         "mode": "markers",
         "name": "False, wisard",
         "orientation": "v",
         "showlegend": false,
         "type": "scatter",
         "x": [
          0.06808226533400663
         ],
         "xaxis": "x5",
         "y": [
          0.8807118807118807
         ],
         "yaxis": "y5"
        },
        {
         "hovertemplate": "pareto=False<br>model=wisard<br>dataset=yeast<br>relative size=%{x}<br>metric=%{y}<extra></extra>",
         "legendgroup": "False, wisard",
         "marker": {
          "color": "#636EFA",
          "size": 7,
          "symbol": "x"
         },
         "mode": "markers",
         "name": "False, wisard",
         "orientation": "v",
         "showlegend": false,
         "type": "scatter",
         "x": [
          0.044014344028621304
         ],
         "xaxis": "x3",
         "y": [
          0.5700237244955314
         ],
         "yaxis": "y3"
        },
        {
         "hovertemplate": "pareto=True<br>model=knn<br>dataset=glass<br>relative size=%{x}<br>metric=%{y}<extra></extra>",
         "legendgroup": "True, knn",
         "marker": {
          "color": "#EF553B",
          "size": 7,
          "symbol": "circle"
         },
         "mode": "markers",
         "name": "True, knn",
         "orientation": "v",
         "showlegend": false,
         "type": "scatter",
         "x": [
          0.035617194657082504
         ],
         "xaxis": "x15",
         "y": [
          0.7092884420543996
         ],
         "yaxis": "y15"
        },
        {
         "hovertemplate": "pareto=True<br>model=knn<br>dataset=image_segmentation<br>relative size=%{x}<br>metric=%{y}<extra></extra>",
         "legendgroup": "True, knn",
         "marker": {
          "color": "#EF553B",
          "size": 7,
          "symbol": "circle"
         },
         "mode": "markers",
         "name": "True, knn",
         "orientation": "v",
         "showlegend": false,
         "type": "scatter",
         "x": [
          0.05549732110342774
         ],
         "xaxis": "x10",
         "y": [
          0.5476190476190477
         ],
         "yaxis": "y10"
        },
        {
         "hovertemplate": "pareto=True<br>model=knn<br>dataset=letter<br>relative size=%{x}<br>metric=%{y}<extra></extra>",
         "legendgroup": "True, knn",
         "marker": {
          "color": "#EF553B",
          "size": 7,
          "symbol": "circle"
         },
         "mode": "markers",
         "name": "True, knn",
         "orientation": "v",
         "showlegend": false,
         "type": "scatter",
         "x": [
          0.018276885814910156
         ],
         "xaxis": "x12",
         "y": [
          0.9455
         ],
         "yaxis": "y12"
        },
        {
         "hovertemplate": "pareto=True<br>model=knn<br>dataset=wine<br>relative size=%{x}<br>metric=%{y}<extra></extra>",
         "legendgroup": "True, knn",
         "marker": {
          "color": "#EF553B",
          "size": 7,
          "symbol": "circle"
         },
         "mode": "markers",
         "name": "True, knn",
         "orientation": "v",
         "showlegend": false,
         "type": "scatter",
         "x": [
          0.16183839897034466
         ],
         "xaxis": "x2",
         "y": [
          0.6714063714063713
         ],
         "yaxis": "y2"
        },
        {
         "hovertemplate": "pareto=True<br>model=mlp<br>dataset=breast_cancer<br>relative size=%{x}<br>metric=%{y}<extra></extra>",
         "legendgroup": "True, mlp",
         "marker": {
          "color": "#EF553B",
          "size": 7,
          "symbol": "square"
         },
         "mode": "markers",
         "name": "True, mlp",
         "orientation": "v",
         "showlegend": false,
         "type": "scatter",
         "x": [
          0.30060080625233865
         ],
         "xaxis": "x13",
         "y": [
          0.9103013945119208
         ],
         "yaxis": "y13"
        },
        {
         "hovertemplate": "pareto=True<br>model=mlp<br>dataset=dry_bean<br>relative size=%{x}<br>metric=%{y}<extra></extra>",
         "legendgroup": "True, mlp",
         "marker": {
          "color": "#EF553B",
          "size": 7,
          "symbol": "square"
         },
         "mode": "markers",
         "name": "True, mlp",
         "orientation": "v",
         "showlegend": false,
         "type": "scatter",
         "x": [
          0.0044553198522879
         ],
         "xaxis": "x14",
         "y": [
          0.22507061835587583
         ],
         "yaxis": "y14"
        },
        {
         "hovertemplate": "pareto=True<br>model=mlp<br>dataset=image_segmentation<br>relative size=%{x}<br>metric=%{y}<extra></extra>",
         "legendgroup": "True, mlp",
         "marker": {
          "color": "#EF553B",
          "size": 7,
          "symbol": "square"
         },
         "mode": "markers",
         "name": "True, mlp",
         "orientation": "v",
         "showlegend": false,
         "type": "scatter",
         "x": [
          0.147554253607574
         ],
         "xaxis": "x10",
         "y": [
          0.5555555555555555
         ],
         "yaxis": "y10"
        },
        {
         "hovertemplate": "pareto=True<br>model=mlp<br>dataset=letter<br>relative size=%{x}<br>metric=%{y}<extra></extra>",
         "legendgroup": "True, mlp",
         "marker": {
          "color": "#EF553B",
          "size": 7,
          "symbol": "square"
         },
         "mode": "markers",
         "name": "True, mlp",
         "orientation": "v",
         "showlegend": false,
         "type": "scatter",
         "x": [
          0.0010779773253603395
         ],
         "xaxis": "x12",
         "y": [
          0.9205
         ],
         "yaxis": "y12"
        },
        {
         "hovertemplate": "pareto=True<br>model=mlp<br>dataset=motion_sense<br>relative size=%{x}<br>metric=%{y}<extra></extra>",
         "legendgroup": "True, mlp",
         "marker": {
          "color": "#EF553B",
          "size": 7,
          "symbol": "square"
         },
         "mode": "markers",
         "name": "True, mlp",
         "orientation": "v",
         "showlegend": false,
         "type": "scatter",
         "x": [
          0.02673622858738442
         ],
         "xaxis": "x7",
         "y": [
          0.6565359477124183
         ],
         "yaxis": "y7"
        },
        {
         "hovertemplate": "pareto=True<br>model=mlp<br>dataset=optical_handwritten<br>relative size=%{x}<br>metric=%{y}<extra></extra>",
         "legendgroup": "True, mlp",
         "marker": {
          "color": "#EF553B",
          "size": 7,
          "symbol": "square"
         },
         "mode": "markers",
         "name": "True, mlp",
         "orientation": "v",
         "showlegend": false,
         "type": "scatter",
         "x": [
          0.010632168479508104
         ],
         "xaxis": "x8",
         "y": [
          0.981028439293471
         ],
         "yaxis": "y8"
        },
        {
         "hovertemplate": "pareto=True<br>model=mlp<br>dataset=satimage<br>relative size=%{x}<br>metric=%{y}<extra></extra>",
         "legendgroup": "True, mlp",
         "marker": {
          "color": "#EF553B",
          "size": 7,
          "symbol": "square"
         },
         "mode": "markers",
         "name": "True, mlp",
         "orientation": "v",
         "showlegend": false,
         "type": "scatter",
         "x": [
          0.013609793827453389
         ],
         "xaxis": "x4",
         "y": [
          0.9116120122328867
         ],
         "yaxis": "y4"
        },
        {
         "hovertemplate": "pareto=True<br>model=mlp<br>dataset=segment<br>relative size=%{x}<br>metric=%{y}<extra></extra>",
         "legendgroup": "True, mlp",
         "marker": {
          "color": "#EF553B",
          "size": 7,
          "symbol": "square"
         },
         "mode": "markers",
         "name": "True, mlp",
         "orientation": "v",
         "showlegend": false,
         "type": "scatter",
         "x": [
          0.04084792987266759
         ],
         "xaxis": "x5",
         "y": [
          0.9422799422799423
         ],
         "yaxis": "y5"
        },
        {
         "hovertemplate": "pareto=True<br>model=mlp<br>dataset=sepsis<br>relative size=%{x}<br>metric=%{y}<extra></extra>",
         "legendgroup": "True, mlp",
         "marker": {
          "color": "#EF553B",
          "size": 7,
          "symbol": "square"
         },
         "mode": "markers",
         "name": "True, mlp",
         "orientation": "v",
         "showlegend": false,
         "type": "scatter",
         "x": [
          0.001890493377494378
         ],
         "xaxis": "x6",
         "y": [
          0.8908920043310973
         ],
         "yaxis": "y6"
        },
        {
         "hovertemplate": "pareto=True<br>model=mlp<br>dataset=vehicle<br>relative size=%{x}<br>metric=%{y}<extra></extra>",
         "legendgroup": "True, mlp",
         "marker": {
          "color": "#EF553B",
          "size": 7,
          "symbol": "square"
         },
         "mode": "markers",
         "name": "True, mlp",
         "orientation": "v",
         "showlegend": false,
         "type": "scatter",
         "x": [
          0.059569318221503464
         ],
         "xaxis": "x",
         "y": [
          0.8176470588235295
         ],
         "yaxis": "y"
        },
        {
         "hovertemplate": "pareto=True<br>model=mlp<br>dataset=wine<br>relative size=%{x}<br>metric=%{y}<extra></extra>",
         "legendgroup": "True, mlp",
         "marker": {
          "color": "#EF553B",
          "size": 7,
          "symbol": "square"
         },
         "mode": "markers",
         "name": "True, mlp",
         "orientation": "v",
         "showlegend": false,
         "type": "scatter",
         "x": [
          0.2595396090263638
         ],
         "xaxis": "x2",
         "y": [
          0.8883769948810599
         ],
         "yaxis": "y2"
        },
        {
         "hovertemplate": "pareto=True<br>model=mlp<br>dataset=yeast<br>relative size=%{x}<br>metric=%{y}<extra></extra>",
         "legendgroup": "True, mlp",
         "marker": {
          "color": "#EF553B",
          "size": 7,
          "symbol": "square"
         },
         "mode": "markers",
         "name": "True, mlp",
         "orientation": "v",
         "showlegend": false,
         "type": "scatter",
         "x": [
          0.005027548656313477
         ],
         "xaxis": "x3",
         "y": [
          0.5895877432143035
         ],
         "yaxis": "y3"
        },
        {
         "hovertemplate": "pareto=True<br>model=random-forest<br>dataset=breast_cancer<br>relative size=%{x}<br>metric=%{y}<extra></extra>",
         "legendgroup": "True, random-forest",
         "marker": {
          "color": "#EF553B",
          "size": 7,
          "symbol": "diamond"
         },
         "mode": "markers",
         "name": "True, random-forest",
         "orientation": "v",
         "showlegend": false,
         "type": "scatter",
         "x": [
          1
         ],
         "xaxis": "x13",
         "y": [
          0.9708871747643292
         ],
         "yaxis": "y13"
        },
        {
         "hovertemplate": "pareto=True<br>model=random-forest<br>dataset=dry_bean<br>relative size=%{x}<br>metric=%{y}<extra></extra>",
         "legendgroup": "True, random-forest",
         "marker": {
          "color": "#EF553B",
          "size": 7,
          "symbol": "diamond"
         },
         "mode": "markers",
         "name": "True, random-forest",
         "orientation": "v",
         "showlegend": false,
         "type": "scatter",
         "x": [
          1
         ],
         "xaxis": "x14",
         "y": [
          0.9198474773426017
         ],
         "yaxis": "y14"
        },
        {
         "hovertemplate": "pareto=True<br>model=random-forest<br>dataset=letter<br>relative size=%{x}<br>metric=%{y}<extra></extra>",
         "legendgroup": "True, random-forest",
         "marker": {
          "color": "#EF553B",
          "size": 7,
          "symbol": "diamond"
         },
         "mode": "markers",
         "name": "True, random-forest",
         "orientation": "v",
         "showlegend": false,
         "type": "scatter",
         "x": [
          1
         ],
         "xaxis": "x12",
         "y": [
          0.9607222222222221
         ],
         "yaxis": "y12"
        },
        {
         "hovertemplate": "pareto=True<br>model=random-forest<br>dataset=motion_sense<br>relative size=%{x}<br>metric=%{y}<extra></extra>",
         "legendgroup": "True, random-forest",
         "marker": {
          "color": "#EF553B",
          "size": 7,
          "symbol": "diamond"
         },
         "mode": "markers",
         "name": "True, random-forest",
         "orientation": "v",
         "showlegend": false,
         "type": "scatter",
         "x": [
          0.28379055207466697
         ],
         "xaxis": "x7",
         "y": [
          0.8078431372549019
         ],
         "yaxis": "y7"
        },
        {
         "hovertemplate": "pareto=True<br>model=random-forest<br>dataset=rice<br>relative size=%{x}<br>metric=%{y}<extra></extra>",
         "legendgroup": "True, random-forest",
         "marker": {
          "color": "#EF553B",
          "size": 7,
          "symbol": "diamond"
         },
         "mode": "markers",
         "name": "True, random-forest",
         "orientation": "v",
         "showlegend": false,
         "type": "scatter",
         "x": [
          1
         ],
         "xaxis": "x9",
         "y": [
          0.9152644340920002
         ],
         "yaxis": "y9"
        },
        {
         "hovertemplate": "pareto=True<br>model=random-forest<br>dataset=segment<br>relative size=%{x}<br>metric=%{y}<extra></extra>",
         "legendgroup": "True, random-forest",
         "marker": {
          "color": "#EF553B",
          "size": 7,
          "symbol": "diamond"
         },
         "mode": "markers",
         "name": "True, random-forest",
         "orientation": "v",
         "showlegend": false,
         "type": "scatter",
         "x": [
          1
         ],
         "xaxis": "x5",
         "y": [
          0.9716209716209715
         ],
         "yaxis": "y5"
        },
        {
         "hovertemplate": "pareto=True<br>model=random-forest<br>dataset=vehicle<br>relative size=%{x}<br>metric=%{y}<extra></extra>",
         "legendgroup": "True, random-forest",
         "marker": {
          "color": "#EF553B",
          "size": 7,
          "symbol": "diamond"
         },
         "mode": "markers",
         "name": "True, random-forest",
         "orientation": "v",
         "showlegend": false,
         "type": "scatter",
         "x": [
          1
         ],
         "xaxis": "x",
         "y": [
          0.9686274509803922
         ],
         "yaxis": "y"
        },
        {
         "hovertemplate": "pareto=True<br>model=random-forest<br>dataset=wine<br>relative size=%{x}<br>metric=%{y}<extra></extra>",
         "legendgroup": "True, random-forest",
         "marker": {
          "color": "#EF553B",
          "size": 7,
          "symbol": "diamond"
         },
         "mode": "markers",
         "name": "True, random-forest",
         "orientation": "v",
         "showlegend": false,
         "type": "scatter",
         "x": [
          1
         ],
         "xaxis": "x2",
         "y": [
          0.9815543316723488
         ],
         "yaxis": "y2"
        },
        {
         "hovertemplate": "pareto=True<br>model=random-forest<br>dataset=yeast<br>relative size=%{x}<br>metric=%{y}<extra></extra>",
         "legendgroup": "True, random-forest",
         "marker": {
          "color": "#EF553B",
          "size": 7,
          "symbol": "diamond"
         },
         "mode": "markers",
         "name": "True, random-forest",
         "orientation": "v",
         "showlegend": false,
         "type": "scatter",
         "x": [
          1
         ],
         "xaxis": "x3",
         "y": [
          0.6207256954912499
         ],
         "yaxis": "y3"
        },
        {
         "hovertemplate": "pareto=True<br>model=svm<br>dataset=breast_cancer<br>relative size=%{x}<br>metric=%{y}<extra></extra>",
         "legendgroup": "True, svm",
         "marker": {
          "color": "#EF553B",
          "size": 7,
          "symbol": "cross"
         },
         "mode": "markers",
         "name": "True, svm",
         "orientation": "v",
         "showlegend": false,
         "type": "scatter",
         "x": [
          0.09611135036676716
         ],
         "xaxis": "x13",
         "y": [
          0.8730641381054367
         ],
         "yaxis": "y13"
        },
        {
         "hovertemplate": "pareto=True<br>model=svm<br>dataset=glass<br>relative size=%{x}<br>metric=%{y}<extra></extra>",
         "legendgroup": "True, svm",
         "marker": {
          "color": "#EF553B",
          "size": 7,
          "symbol": "cross"
         },
         "mode": "markers",
         "name": "True, svm",
         "orientation": "v",
         "showlegend": false,
         "type": "scatter",
         "x": [
          0.025489954627691318
         ],
         "xaxis": "x15",
         "y": [
          0.1849650349650349
         ],
         "yaxis": "y15"
        },
        {
         "hovertemplate": "pareto=True<br>model=svm<br>dataset=optical_handwritten<br>relative size=%{x}<br>metric=%{y}<extra></extra>",
         "legendgroup": "True, svm",
         "marker": {
          "color": "#EF553B",
          "size": 7,
          "symbol": "cross"
         },
         "mode": "markers",
         "name": "True, svm",
         "orientation": "v",
         "showlegend": false,
         "type": "scatter",
         "x": [
          0.04168392176806305
         ],
         "xaxis": "x8",
         "y": [
          0.9919918925110768
         ],
         "yaxis": "y8"
        },
        {
         "hovertemplate": "pareto=True<br>model=svm<br>dataset=wine<br>relative size=%{x}<br>metric=%{y}<extra></extra>",
         "legendgroup": "True, svm",
         "marker": {
          "color": "#EF553B",
          "size": 7,
          "symbol": "cross"
         },
         "mode": "markers",
         "name": "True, svm",
         "orientation": "v",
         "showlegend": false,
         "type": "scatter",
         "x": [
          0.05959024781356487
         ],
         "xaxis": "x2",
         "y": [
          0.6486013986013985
         ],
         "yaxis": "y2"
        },
        {
         "hovertemplate": "pareto=True<br>model=svm<br>dataset=yeast<br>relative size=%{x}<br>metric=%{y}<extra></extra>",
         "legendgroup": "True, svm",
         "marker": {
          "color": "#EF553B",
          "size": 7,
          "symbol": "cross"
         },
         "mode": "markers",
         "name": "True, svm",
         "orientation": "v",
         "showlegend": false,
         "type": "scatter",
         "x": [
          0.013020228306649966
         ],
         "xaxis": "x3",
         "y": [
          0.5992100016133695
         ],
         "yaxis": "y3"
        },
        {
         "hovertemplate": "pareto=True<br>model=wisard<br>dataset=breast_cancer<br>relative size=%{x}<br>metric=%{y}<extra></extra>",
         "legendgroup": "True, wisard",
         "marker": {
          "color": "#EF553B",
          "size": 7,
          "symbol": "x"
         },
         "mode": "markers",
         "name": "True, wisard",
         "orientation": "v",
         "showlegend": false,
         "type": "scatter",
         "x": [
          0.3350700940627729
         ],
         "xaxis": "x13",
         "y": [
          0.9628161882204516
         ],
         "yaxis": "y13"
        },
        {
         "hovertemplate": "pareto=True<br>model=wisard<br>dataset=dry_bean<br>relative size=%{x}<br>metric=%{y}<extra></extra>",
         "legendgroup": "True, wisard",
         "marker": {
          "color": "#EF553B",
          "size": 7,
          "symbol": "x"
         },
         "mode": "markers",
         "name": "True, wisard",
         "orientation": "v",
         "showlegend": false,
         "type": "scatter",
         "x": [
          0.032842065342091414
         ],
         "xaxis": "x14",
         "y": [
          0.9024029619050484
         ],
         "yaxis": "y14"
        },
        {
         "hovertemplate": "pareto=True<br>model=wisard<br>dataset=image_segmentation<br>relative size=%{x}<br>metric=%{y}<extra></extra>",
         "legendgroup": "True, wisard",
         "marker": {
          "color": "#EF553B",
          "size": 7,
          "symbol": "x"
         },
         "mode": "markers",
         "name": "True, wisard",
         "orientation": "v",
         "showlegend": false,
         "type": "scatter",
         "x": [
          0.39216510774938484
         ],
         "xaxis": "x10",
         "y": [
          0.8571428571428572
         ],
         "yaxis": "y10"
        },
        {
         "hovertemplate": "pareto=True<br>model=wisard<br>dataset=iris<br>relative size=%{x}<br>metric=%{y}<extra></extra>",
         "legendgroup": "True, wisard",
         "marker": {
          "color": "#EF553B",
          "size": 7,
          "symbol": "x"
         },
         "mode": "markers",
         "name": "True, wisard",
         "orientation": "v",
         "showlegend": false,
         "type": "scatter",
         "x": [
          0.010209320842045734
         ],
         "xaxis": "x11",
         "y": [
          1
         ],
         "yaxis": "y11"
        },
        {
         "hovertemplate": "pareto=True<br>model=wisard<br>dataset=rice<br>relative size=%{x}<br>metric=%{y}<extra></extra>",
         "legendgroup": "True, wisard",
         "marker": {
          "color": "#EF553B",
          "size": 7,
          "symbol": "x"
         },
         "mode": "markers",
         "name": "True, wisard",
         "orientation": "v",
         "showlegend": false,
         "type": "scatter",
         "x": [
          0.0005195231959960808
         ],
         "xaxis": "x9",
         "y": [
          0.8994465342855008
         ],
         "yaxis": "y9"
        },
        {
         "hovertemplate": "pareto=True<br>model=wisard<br>dataset=sepsis<br>relative size=%{x}<br>metric=%{y}<extra></extra>",
         "legendgroup": "True, wisard",
         "marker": {
          "color": "#EF553B",
          "size": 7,
          "symbol": "x"
         },
         "mode": "markers",
         "name": "True, wisard",
         "orientation": "v",
         "showlegend": false,
         "type": "scatter",
         "x": [
          0.0037836284924594905
         ],
         "xaxis": "x6",
         "y": [
          0.8915753747755484
         ],
         "yaxis": "y6"
        },
        {
         "hovertemplate": "pareto=True<br>model=wisard<br>dataset=vehicle<br>relative size=%{x}<br>metric=%{y}<extra></extra>",
         "legendgroup": "True, wisard",
         "marker": {
          "color": "#EF553B",
          "size": 7,
          "symbol": "x"
         },
         "mode": "markers",
         "name": "True, wisard",
         "orientation": "v",
         "showlegend": false,
         "type": "scatter",
         "x": [
          0.3004251881143435
         ],
         "xaxis": "x",
         "y": [
          0.8941176470588235
         ],
         "yaxis": "y"
        },
        {
         "hovertemplate": "pareto=True<br>model=wisard<br>dataset=wine<br>relative size=%{x}<br>metric=%{y}<extra></extra>",
         "legendgroup": "True, wisard",
         "marker": {
          "color": "#EF553B",
          "size": 7,
          "symbol": "x"
         },
         "mode": "markers",
         "name": "True, wisard",
         "orientation": "v",
         "showlegend": false,
         "type": "scatter",
         "x": [
          0.4097170206106897
         ],
         "xaxis": "x2",
         "y": [
          0.962856206024315
         ],
         "yaxis": "y2"
        },
        {
         "marker": {
          "color": "#636EFA",
          "size": 12,
          "symbol": "circle"
         },
         "mode": "markers",
         "name": "KNN",
         "type": "scatter",
         "x": [
          null
         ],
         "y": [
          null
         ]
        },
        {
         "marker": {
          "color": "#636EFA",
          "size": 12,
          "symbol": "square"
         },
         "mode": "markers",
         "name": "MLP",
         "type": "scatter",
         "x": [
          null
         ],
         "y": [
          null
         ]
        },
        {
         "marker": {
          "color": "#636EFA",
          "size": 12,
          "symbol": "diamond"
         },
         "mode": "markers",
         "name": "Random Forest",
         "type": "scatter",
         "x": [
          null
         ],
         "y": [
          null
         ]
        },
        {
         "marker": {
          "color": "#636EFA",
          "size": 12,
          "symbol": "cross"
         },
         "mode": "markers",
         "name": "SVM",
         "type": "scatter",
         "x": [
          null
         ],
         "y": [
          null
         ]
        },
        {
         "marker": {
          "color": "#636EFA",
          "size": 12,
          "symbol": "x"
         },
         "mode": "markers",
         "name": "Wisard",
         "type": "scatter",
         "x": [
          null
         ],
         "y": [
          null
         ]
        }
       ],
       "layout": {
        "annotations": [
         {
          "font": {},
          "showarrow": false,
          "text": "vehicle",
          "x": 0.15999999999999998,
          "xanchor": "center",
          "xref": "paper",
          "y": 0.17600000000000002,
          "yanchor": "bottom",
          "yref": "paper"
         },
         {
          "font": {},
          "showarrow": false,
          "text": "wine",
          "x": 0.49999999999999994,
          "xanchor": "center",
          "xref": "paper",
          "y": 0.17600000000000002,
          "yanchor": "bottom",
          "yref": "paper"
         },
         {
          "font": {},
          "showarrow": false,
          "text": "yeast",
          "x": 0.8399999999999999,
          "xanchor": "center",
          "xref": "paper",
          "y": 0.17600000000000002,
          "yanchor": "bottom",
          "yref": "paper"
         },
         {
          "font": {},
          "showarrow": false,
          "text": "satimage",
          "x": 0.15999999999999998,
          "xanchor": "center",
          "xref": "paper",
          "y": 0.382,
          "yanchor": "bottom",
          "yref": "paper"
         },
         {
          "font": {},
          "showarrow": false,
          "text": "segment",
          "x": 0.49999999999999994,
          "xanchor": "center",
          "xref": "paper",
          "y": 0.382,
          "yanchor": "bottom",
          "yref": "paper"
         },
         {
          "font": {},
          "showarrow": false,
          "text": "sepsis",
          "x": 0.8399999999999999,
          "xanchor": "center",
          "xref": "paper",
          "y": 0.382,
          "yanchor": "bottom",
          "yref": "paper"
         },
         {
          "font": {},
          "showarrow": false,
          "text": "motion sense",
          "x": 0.15999999999999998,
          "xanchor": "center",
          "xref": "paper",
          "y": 0.5880000000000001,
          "yanchor": "bottom",
          "yref": "paper"
         },
         {
          "font": {},
          "showarrow": false,
          "text": "optical handwritten",
          "x": 0.49999999999999994,
          "xanchor": "center",
          "xref": "paper",
          "y": 0.5880000000000001,
          "yanchor": "bottom",
          "yref": "paper"
         },
         {
          "font": {},
          "showarrow": false,
          "text": "rice",
          "x": 0.8399999999999999,
          "xanchor": "center",
          "xref": "paper",
          "y": 0.5880000000000001,
          "yanchor": "bottom",
          "yref": "paper"
         },
         {
          "font": {},
          "showarrow": false,
          "text": "image segmentation",
          "x": 0.15999999999999998,
          "xanchor": "center",
          "xref": "paper",
          "y": 0.794,
          "yanchor": "bottom",
          "yref": "paper"
         },
         {
          "font": {},
          "showarrow": false,
          "text": "iris",
          "x": 0.49999999999999994,
          "xanchor": "center",
          "xref": "paper",
          "y": 0.794,
          "yanchor": "bottom",
          "yref": "paper"
         },
         {
          "font": {},
          "showarrow": false,
          "text": "letter",
          "x": 0.8399999999999999,
          "xanchor": "center",
          "xref": "paper",
          "y": 0.794,
          "yanchor": "bottom",
          "yref": "paper"
         },
         {
          "font": {},
          "showarrow": false,
          "text": "breast cancer",
          "x": 0.15999999999999998,
          "xanchor": "center",
          "xref": "paper",
          "y": 1,
          "yanchor": "bottom",
          "yref": "paper"
         },
         {
          "font": {},
          "showarrow": false,
          "text": "dry bean",
          "x": 0.49999999999999994,
          "xanchor": "center",
          "xref": "paper",
          "y": 1,
          "yanchor": "bottom",
          "yref": "paper"
         },
         {
          "font": {},
          "showarrow": false,
          "text": "glass",
          "x": 0.8399999999999999,
          "xanchor": "center",
          "xref": "paper",
          "y": 1,
          "yanchor": "bottom",
          "yref": "paper"
         }
        ],
        "font": {
         "family": "Times New Roman",
         "size": 14
        },
        "height": 1000,
        "legend": {
         "orientation": "h",
         "title": {
          "text": ""
         },
         "tracegroupgap": 0,
         "traceorder": "normal",
         "x": 0.5,
         "xanchor": "center",
         "y": 1.07,
         "yanchor": "top"
        },
        "margin": {
         "b": 10,
         "l": 10,
         "r": 10,
         "t": 10
        },
        "template": {
         "data": {
          "bar": [
           {
            "error_x": {
             "color": "#2a3f5f"
            },
            "error_y": {
             "color": "#2a3f5f"
            },
            "marker": {
             "line": {
              "color": "#E5ECF6",
              "width": 0.5
             },
             "pattern": {
              "fillmode": "overlay",
              "size": 10,
              "solidity": 0.2
             }
            },
            "type": "bar"
           }
          ],
          "barpolar": [
           {
            "marker": {
             "line": {
              "color": "#E5ECF6",
              "width": 0.5
             },
             "pattern": {
              "fillmode": "overlay",
              "size": 10,
              "solidity": 0.2
             }
            },
            "type": "barpolar"
           }
          ],
          "carpet": [
           {
            "aaxis": {
             "endlinecolor": "#2a3f5f",
             "gridcolor": "white",
             "linecolor": "white",
             "minorgridcolor": "white",
             "startlinecolor": "#2a3f5f"
            },
            "baxis": {
             "endlinecolor": "#2a3f5f",
             "gridcolor": "white",
             "linecolor": "white",
             "minorgridcolor": "white",
             "startlinecolor": "#2a3f5f"
            },
            "type": "carpet"
           }
          ],
          "choropleth": [
           {
            "colorbar": {
             "outlinewidth": 0,
             "ticks": ""
            },
            "type": "choropleth"
           }
          ],
          "contour": [
           {
            "colorbar": {
             "outlinewidth": 0,
             "ticks": ""
            },
            "colorscale": [
             [
              0,
              "#0d0887"
             ],
             [
              0.1111111111111111,
              "#46039f"
             ],
             [
              0.2222222222222222,
              "#7201a8"
             ],
             [
              0.3333333333333333,
              "#9c179e"
             ],
             [
              0.4444444444444444,
              "#bd3786"
             ],
             [
              0.5555555555555556,
              "#d8576b"
             ],
             [
              0.6666666666666666,
              "#ed7953"
             ],
             [
              0.7777777777777778,
              "#fb9f3a"
             ],
             [
              0.8888888888888888,
              "#fdca26"
             ],
             [
              1,
              "#f0f921"
             ]
            ],
            "type": "contour"
           }
          ],
          "contourcarpet": [
           {
            "colorbar": {
             "outlinewidth": 0,
             "ticks": ""
            },
            "type": "contourcarpet"
           }
          ],
          "heatmap": [
           {
            "colorbar": {
             "outlinewidth": 0,
             "ticks": ""
            },
            "colorscale": [
             [
              0,
              "#0d0887"
             ],
             [
              0.1111111111111111,
              "#46039f"
             ],
             [
              0.2222222222222222,
              "#7201a8"
             ],
             [
              0.3333333333333333,
              "#9c179e"
             ],
             [
              0.4444444444444444,
              "#bd3786"
             ],
             [
              0.5555555555555556,
              "#d8576b"
             ],
             [
              0.6666666666666666,
              "#ed7953"
             ],
             [
              0.7777777777777778,
              "#fb9f3a"
             ],
             [
              0.8888888888888888,
              "#fdca26"
             ],
             [
              1,
              "#f0f921"
             ]
            ],
            "type": "heatmap"
           }
          ],
          "heatmapgl": [
           {
            "colorbar": {
             "outlinewidth": 0,
             "ticks": ""
            },
            "colorscale": [
             [
              0,
              "#0d0887"
             ],
             [
              0.1111111111111111,
              "#46039f"
             ],
             [
              0.2222222222222222,
              "#7201a8"
             ],
             [
              0.3333333333333333,
              "#9c179e"
             ],
             [
              0.4444444444444444,
              "#bd3786"
             ],
             [
              0.5555555555555556,
              "#d8576b"
             ],
             [
              0.6666666666666666,
              "#ed7953"
             ],
             [
              0.7777777777777778,
              "#fb9f3a"
             ],
             [
              0.8888888888888888,
              "#fdca26"
             ],
             [
              1,
              "#f0f921"
             ]
            ],
            "type": "heatmapgl"
           }
          ],
          "histogram": [
           {
            "marker": {
             "pattern": {
              "fillmode": "overlay",
              "size": 10,
              "solidity": 0.2
             }
            },
            "type": "histogram"
           }
          ],
          "histogram2d": [
           {
            "colorbar": {
             "outlinewidth": 0,
             "ticks": ""
            },
            "colorscale": [
             [
              0,
              "#0d0887"
             ],
             [
              0.1111111111111111,
              "#46039f"
             ],
             [
              0.2222222222222222,
              "#7201a8"
             ],
             [
              0.3333333333333333,
              "#9c179e"
             ],
             [
              0.4444444444444444,
              "#bd3786"
             ],
             [
              0.5555555555555556,
              "#d8576b"
             ],
             [
              0.6666666666666666,
              "#ed7953"
             ],
             [
              0.7777777777777778,
              "#fb9f3a"
             ],
             [
              0.8888888888888888,
              "#fdca26"
             ],
             [
              1,
              "#f0f921"
             ]
            ],
            "type": "histogram2d"
           }
          ],
          "histogram2dcontour": [
           {
            "colorbar": {
             "outlinewidth": 0,
             "ticks": ""
            },
            "colorscale": [
             [
              0,
              "#0d0887"
             ],
             [
              0.1111111111111111,
              "#46039f"
             ],
             [
              0.2222222222222222,
              "#7201a8"
             ],
             [
              0.3333333333333333,
              "#9c179e"
             ],
             [
              0.4444444444444444,
              "#bd3786"
             ],
             [
              0.5555555555555556,
              "#d8576b"
             ],
             [
              0.6666666666666666,
              "#ed7953"
             ],
             [
              0.7777777777777778,
              "#fb9f3a"
             ],
             [
              0.8888888888888888,
              "#fdca26"
             ],
             [
              1,
              "#f0f921"
             ]
            ],
            "type": "histogram2dcontour"
           }
          ],
          "mesh3d": [
           {
            "colorbar": {
             "outlinewidth": 0,
             "ticks": ""
            },
            "type": "mesh3d"
           }
          ],
          "parcoords": [
           {
            "line": {
             "colorbar": {
              "outlinewidth": 0,
              "ticks": ""
             }
            },
            "type": "parcoords"
           }
          ],
          "pie": [
           {
            "automargin": true,
            "type": "pie"
           }
          ],
          "scatter": [
           {
            "fillpattern": {
             "fillmode": "overlay",
             "size": 10,
             "solidity": 0.2
            },
            "type": "scatter"
           }
          ],
          "scatter3d": [
           {
            "line": {
             "colorbar": {
              "outlinewidth": 0,
              "ticks": ""
             }
            },
            "marker": {
             "colorbar": {
              "outlinewidth": 0,
              "ticks": ""
             }
            },
            "type": "scatter3d"
           }
          ],
          "scattercarpet": [
           {
            "marker": {
             "colorbar": {
              "outlinewidth": 0,
              "ticks": ""
             }
            },
            "type": "scattercarpet"
           }
          ],
          "scattergeo": [
           {
            "marker": {
             "colorbar": {
              "outlinewidth": 0,
              "ticks": ""
             }
            },
            "type": "scattergeo"
           }
          ],
          "scattergl": [
           {
            "marker": {
             "colorbar": {
              "outlinewidth": 0,
              "ticks": ""
             }
            },
            "type": "scattergl"
           }
          ],
          "scattermapbox": [
           {
            "marker": {
             "colorbar": {
              "outlinewidth": 0,
              "ticks": ""
             }
            },
            "type": "scattermapbox"
           }
          ],
          "scatterpolar": [
           {
            "marker": {
             "colorbar": {
              "outlinewidth": 0,
              "ticks": ""
             }
            },
            "type": "scatterpolar"
           }
          ],
          "scatterpolargl": [
           {
            "marker": {
             "colorbar": {
              "outlinewidth": 0,
              "ticks": ""
             }
            },
            "type": "scatterpolargl"
           }
          ],
          "scatterternary": [
           {
            "marker": {
             "colorbar": {
              "outlinewidth": 0,
              "ticks": ""
             }
            },
            "type": "scatterternary"
           }
          ],
          "surface": [
           {
            "colorbar": {
             "outlinewidth": 0,
             "ticks": ""
            },
            "colorscale": [
             [
              0,
              "#0d0887"
             ],
             [
              0.1111111111111111,
              "#46039f"
             ],
             [
              0.2222222222222222,
              "#7201a8"
             ],
             [
              0.3333333333333333,
              "#9c179e"
             ],
             [
              0.4444444444444444,
              "#bd3786"
             ],
             [
              0.5555555555555556,
              "#d8576b"
             ],
             [
              0.6666666666666666,
              "#ed7953"
             ],
             [
              0.7777777777777778,
              "#fb9f3a"
             ],
             [
              0.8888888888888888,
              "#fdca26"
             ],
             [
              1,
              "#f0f921"
             ]
            ],
            "type": "surface"
           }
          ],
          "table": [
           {
            "cells": {
             "fill": {
              "color": "#EBF0F8"
             },
             "line": {
              "color": "white"
             }
            },
            "header": {
             "fill": {
              "color": "#C8D4E3"
             },
             "line": {
              "color": "white"
             }
            },
            "type": "table"
           }
          ]
         },
         "layout": {
          "annotationdefaults": {
           "arrowcolor": "#2a3f5f",
           "arrowhead": 0,
           "arrowwidth": 1
          },
          "autotypenumbers": "strict",
          "coloraxis": {
           "colorbar": {
            "outlinewidth": 0,
            "ticks": ""
           }
          },
          "colorscale": {
           "diverging": [
            [
             0,
             "#8e0152"
            ],
            [
             0.1,
             "#c51b7d"
            ],
            [
             0.2,
             "#de77ae"
            ],
            [
             0.3,
             "#f1b6da"
            ],
            [
             0.4,
             "#fde0ef"
            ],
            [
             0.5,
             "#f7f7f7"
            ],
            [
             0.6,
             "#e6f5d0"
            ],
            [
             0.7,
             "#b8e186"
            ],
            [
             0.8,
             "#7fbc41"
            ],
            [
             0.9,
             "#4d9221"
            ],
            [
             1,
             "#276419"
            ]
           ],
           "sequential": [
            [
             0,
             "#0d0887"
            ],
            [
             0.1111111111111111,
             "#46039f"
            ],
            [
             0.2222222222222222,
             "#7201a8"
            ],
            [
             0.3333333333333333,
             "#9c179e"
            ],
            [
             0.4444444444444444,
             "#bd3786"
            ],
            [
             0.5555555555555556,
             "#d8576b"
            ],
            [
             0.6666666666666666,
             "#ed7953"
            ],
            [
             0.7777777777777778,
             "#fb9f3a"
            ],
            [
             0.8888888888888888,
             "#fdca26"
            ],
            [
             1,
             "#f0f921"
            ]
           ],
           "sequentialminus": [
            [
             0,
             "#0d0887"
            ],
            [
             0.1111111111111111,
             "#46039f"
            ],
            [
             0.2222222222222222,
             "#7201a8"
            ],
            [
             0.3333333333333333,
             "#9c179e"
            ],
            [
             0.4444444444444444,
             "#bd3786"
            ],
            [
             0.5555555555555556,
             "#d8576b"
            ],
            [
             0.6666666666666666,
             "#ed7953"
            ],
            [
             0.7777777777777778,
             "#fb9f3a"
            ],
            [
             0.8888888888888888,
             "#fdca26"
            ],
            [
             1,
             "#f0f921"
            ]
           ]
          },
          "colorway": [
           "#636efa",
           "#EF553B",
           "#00cc96",
           "#ab63fa",
           "#FFA15A",
           "#19d3f3",
           "#FF6692",
           "#B6E880",
           "#FF97FF",
           "#FECB52"
          ],
          "font": {
           "color": "#2a3f5f"
          },
          "geo": {
           "bgcolor": "white",
           "lakecolor": "white",
           "landcolor": "#E5ECF6",
           "showlakes": true,
           "showland": true,
           "subunitcolor": "white"
          },
          "hoverlabel": {
           "align": "left"
          },
          "hovermode": "closest",
          "mapbox": {
           "style": "light"
          },
          "paper_bgcolor": "white",
          "plot_bgcolor": "#E5ECF6",
          "polar": {
           "angularaxis": {
            "gridcolor": "white",
            "linecolor": "white",
            "ticks": ""
           },
           "bgcolor": "#E5ECF6",
           "radialaxis": {
            "gridcolor": "white",
            "linecolor": "white",
            "ticks": ""
           }
          },
          "scene": {
           "xaxis": {
            "backgroundcolor": "#E5ECF6",
            "gridcolor": "white",
            "gridwidth": 2,
            "linecolor": "white",
            "showbackground": true,
            "ticks": "",
            "zerolinecolor": "white"
           },
           "yaxis": {
            "backgroundcolor": "#E5ECF6",
            "gridcolor": "white",
            "gridwidth": 2,
            "linecolor": "white",
            "showbackground": true,
            "ticks": "",
            "zerolinecolor": "white"
           },
           "zaxis": {
            "backgroundcolor": "#E5ECF6",
            "gridcolor": "white",
            "gridwidth": 2,
            "linecolor": "white",
            "showbackground": true,
            "ticks": "",
            "zerolinecolor": "white"
           }
          },
          "shapedefaults": {
           "line": {
            "color": "#2a3f5f"
           }
          },
          "ternary": {
           "aaxis": {
            "gridcolor": "white",
            "linecolor": "white",
            "ticks": ""
           },
           "baxis": {
            "gridcolor": "white",
            "linecolor": "white",
            "ticks": ""
           },
           "bgcolor": "#E5ECF6",
           "caxis": {
            "gridcolor": "white",
            "linecolor": "white",
            "ticks": ""
           }
          },
          "title": {
           "x": 0.05
          },
          "xaxis": {
           "automargin": true,
           "gridcolor": "white",
           "linecolor": "white",
           "ticks": "",
           "title": {
            "standoff": 15
           },
           "zerolinecolor": "white",
           "zerolinewidth": 2
          },
          "yaxis": {
           "automargin": true,
           "gridcolor": "white",
           "linecolor": "white",
           "ticks": "",
           "title": {
            "standoff": 15
           },
           "zerolinecolor": "white",
           "zerolinewidth": 2
          }
         }
        },
        "width": 900,
        "xaxis": {
         "anchor": "y",
         "domain": [
          0,
          0.31999999999999995
         ],
         "title": {
          "text": "relative size"
         }
        },
        "xaxis10": {
         "anchor": "y10",
         "domain": [
          0,
          0.31999999999999995
         ],
         "matches": "x",
         "showticklabels": false
        },
        "xaxis11": {
         "anchor": "y11",
         "domain": [
          0.33999999999999997,
          0.6599999999999999
         ],
         "matches": "x",
         "showticklabels": false
        },
        "xaxis12": {
         "anchor": "y12",
         "domain": [
          0.6799999999999999,
          0.9999999999999999
         ],
         "matches": "x",
         "showticklabels": false
        },
        "xaxis13": {
         "anchor": "y13",
         "domain": [
          0,
          0.31999999999999995
         ],
         "matches": "x",
         "showticklabels": false
        },
        "xaxis14": {
         "anchor": "y14",
         "domain": [
          0.33999999999999997,
          0.6599999999999999
         ],
         "matches": "x",
         "showticklabels": false
        },
        "xaxis15": {
         "anchor": "y15",
         "domain": [
          0.6799999999999999,
          0.9999999999999999
         ],
         "matches": "x",
         "showticklabels": false
        },
        "xaxis2": {
         "anchor": "y2",
         "domain": [
          0.33999999999999997,
          0.6599999999999999
         ],
         "matches": "x",
         "title": {
          "text": "relative size"
         }
        },
        "xaxis3": {
         "anchor": "y3",
         "domain": [
          0.6799999999999999,
          0.9999999999999999
         ],
         "matches": "x",
         "title": {
          "text": "relative size"
         }
        },
        "xaxis4": {
         "anchor": "y4",
         "domain": [
          0,
          0.31999999999999995
         ],
         "matches": "x",
         "showticklabels": false
        },
        "xaxis5": {
         "anchor": "y5",
         "domain": [
          0.33999999999999997,
          0.6599999999999999
         ],
         "matches": "x",
         "showticklabels": false
        },
        "xaxis6": {
         "anchor": "y6",
         "domain": [
          0.6799999999999999,
          0.9999999999999999
         ],
         "matches": "x",
         "showticklabels": false
        },
        "xaxis7": {
         "anchor": "y7",
         "domain": [
          0,
          0.31999999999999995
         ],
         "matches": "x",
         "showticklabels": false
        },
        "xaxis8": {
         "anchor": "y8",
         "domain": [
          0.33999999999999997,
          0.6599999999999999
         ],
         "matches": "x",
         "showticklabels": false
        },
        "xaxis9": {
         "anchor": "y9",
         "domain": [
          0.6799999999999999,
          0.9999999999999999
         ],
         "matches": "x",
         "showticklabels": false
        },
        "yaxis": {
         "anchor": "x",
         "domain": [
          0,
          0.17600000000000002
         ],
         "title": {
          "text": "metric"
         }
        },
        "yaxis10": {
         "anchor": "x10",
         "domain": [
          0.618,
          0.794
         ],
         "matches": "y",
         "title": {
          "text": "metric"
         }
        },
        "yaxis11": {
         "anchor": "x11",
         "domain": [
          0.618,
          0.794
         ],
         "matches": "y",
         "showticklabels": false
        },
        "yaxis12": {
         "anchor": "x12",
         "domain": [
          0.618,
          0.794
         ],
         "matches": "y",
         "showticklabels": false
        },
        "yaxis13": {
         "anchor": "x13",
         "domain": [
          0.8240000000000001,
          1
         ],
         "matches": "y",
         "title": {
          "text": "metric"
         }
        },
        "yaxis14": {
         "anchor": "x14",
         "domain": [
          0.8240000000000001,
          1
         ],
         "matches": "y",
         "showticklabels": false
        },
        "yaxis15": {
         "anchor": "x15",
         "domain": [
          0.8240000000000001,
          1
         ],
         "matches": "y",
         "showticklabels": false
        },
        "yaxis2": {
         "anchor": "x2",
         "domain": [
          0,
          0.17600000000000002
         ],
         "matches": "y",
         "showticklabels": false
        },
        "yaxis3": {
         "anchor": "x3",
         "domain": [
          0,
          0.17600000000000002
         ],
         "matches": "y",
         "showticklabels": false
        },
        "yaxis4": {
         "anchor": "x4",
         "domain": [
          0.20600000000000002,
          0.382
         ],
         "matches": "y",
         "title": {
          "text": "metric"
         }
        },
        "yaxis5": {
         "anchor": "x5",
         "domain": [
          0.20600000000000002,
          0.382
         ],
         "matches": "y",
         "showticklabels": false
        },
        "yaxis6": {
         "anchor": "x6",
         "domain": [
          0.20600000000000002,
          0.382
         ],
         "matches": "y",
         "showticklabels": false
        },
        "yaxis7": {
         "anchor": "x7",
         "domain": [
          0.41200000000000003,
          0.5880000000000001
         ],
         "matches": "y",
         "title": {
          "text": "metric"
         }
        },
        "yaxis8": {
         "anchor": "x8",
         "domain": [
          0.41200000000000003,
          0.5880000000000001
         ],
         "matches": "y",
         "showticklabels": false
        },
        "yaxis9": {
         "anchor": "x9",
         "domain": [
          0.41200000000000003,
          0.5880000000000001
         ],
         "matches": "y",
         "showticklabels": false
        }
       }
      }
     },
     "metadata": {},
     "output_type": "display_data"
    }
   ],
   "source": [
    "import plotly.express as px\n",
    "import plotly.graph_objects as go\n",
    "\n",
    "# Assuming 'data' is our DataFrame\n",
    "data = result_df.copy()\n",
    "\n",
    "# dfs = []\n",
    "# for dset in order_of_datasets:\n",
    "#     x = data[data[\"dataset\"] == dset].copy()\n",
    "#     dfs.append(x)\n",
    "# data = pd.concat(dfs).reset_index(drop=True)\n",
    "\n",
    "# Define marker symbols for each model\n",
    "marker_symbols = {\n",
    "    \"knn\": \"circle\",\n",
    "    \"mlp\": \"square\",\n",
    "    \"random-forest\": \"diamond\",\n",
    "    \"svm\": \"cross\",\n",
    "    \"wisard\": \"x\",\n",
    "}\n",
    "\n",
    "# Define model names for legend\n",
    "model_names = {\n",
    "    \"knn\": \"KNN\",\n",
    "    \"mlp\": \"MLP\",\n",
    "    \"random-forest\": \"Random Forest\",\n",
    "    \"svm\": \"SVM\",\n",
    "    \"wisard\": \"Wisard\",\n",
    "}\n",
    "\n",
    "pareto_colors = {\n",
    "    True: px.colors.qualitative.Plotly[1],\n",
    "    False: px.colors.qualitative.Plotly[0],\n",
    "}\n",
    "\n",
    "# data[\"relative size\"] = np.log(data[\"relative size\"])\n",
    "\n",
    "fig = px.scatter(\n",
    "    data,\n",
    "    x=\"relative size\",\n",
    "    y=\"metric\",\n",
    "    symbol=\"model\",\n",
    "    symbol_map=marker_symbols,\n",
    "    color=\"pareto\",\n",
    "    color_discrete_map=pareto_colors,\n",
    "    facet_col=\"dataset\",\n",
    "    facet_col_wrap=3,\n",
    "    height=1000,\n",
    "    width=900,\n",
    "    facet_row_spacing=0.03,\n",
    ")\n",
    "\n",
    "fig.update_traces(\n",
    "    marker=dict(size=7),\n",
    "    selector=dict(mode=\"markers\"),\n",
    "    showlegend=False,  # Hides the legend entries created by Plotly Express\n",
    ")\n",
    "\n",
    "for anno in fig[\"layout\"][\"annotations\"]:\n",
    "    anno[\"text\"] = anno[\"text\"].split(\"=\")[1].replace(\"_\", \" \")\n",
    "\n",
    "# Manually map symbols to names in the legend\n",
    "legend_labels = {\n",
    "    symbol: model_names[model] for model, symbol in marker_symbols.items()\n",
    "}\n",
    "\n",
    "# Create a custom legend\n",
    "custom_legend = []\n",
    "for symbol, model_name in legend_labels.items():\n",
    "    custom_legend.append(\n",
    "        go.Scatter(\n",
    "            x=[None],\n",
    "            y=[None],\n",
    "            mode=\"markers\",\n",
    "            marker=dict(\n",
    "                symbol=symbol, size=12, color=px.colors.qualitative.Plotly[0]\n",
    "            ),\n",
    "            name=model_name,\n",
    "        )\n",
    "    )\n",
    "\n",
    "# Add custom legend to the figure\n",
    "for trace in custom_legend:\n",
    "    fig.add_trace(trace)\n",
    "\n",
    "fig.update_layout(\n",
    "    legend=dict(\n",
    "        title=\"\",  # Set title to empty string to remove the legend title\n",
    "        orientation=\"h\",\n",
    "        yanchor=\"top\",\n",
    "        y=1.07,\n",
    "        xanchor=\"center\",\n",
    "        x=0.5,\n",
    "        traceorder=\"normal\",  # Set trace order to normal to arrange legend entries horizontally\n",
    "    ),\n",
    "    margin=dict(l=10, r=10, t=10, b=10),\n",
    "    font=dict(family=\"Times New Roman\", size=14),\n",
    ")\n",
    "\n",
    "write_figure(\"model_metric_size.pdf\", fig)\n",
    "\n",
    "fig.show()"
   ]
  },
  {
   "cell_type": "code",
   "execution_count": 37,
   "metadata": {},
   "outputs": [
    {
     "data": {
      "text/html": [
       "<div>\n",
       "<style scoped>\n",
       "    .dataframe tbody tr th:only-of-type {\n",
       "        vertical-align: middle;\n",
       "    }\n",
       "\n",
       "    .dataframe tbody tr th {\n",
       "        vertical-align: top;\n",
       "    }\n",
       "\n",
       "    .dataframe thead th {\n",
       "        text-align: right;\n",
       "    }\n",
       "</style>\n",
       "<table border=\"1\" class=\"dataframe\">\n",
       "  <thead>\n",
       "    <tr style=\"text-align: right;\">\n",
       "      <th></th>\n",
       "      <th>level_0</th>\n",
       "      <th>index</th>\n",
       "      <th>dataset</th>\n",
       "      <th>model</th>\n",
       "      <th>metric</th>\n",
       "      <th>model_size</th>\n",
       "      <th>relative performance</th>\n",
       "      <th>relative size</th>\n",
       "      <th>accuracy</th>\n",
       "      <th>f1</th>\n",
       "      <th>pareto</th>\n",
       "    </tr>\n",
       "  </thead>\n",
       "  <tbody>\n",
       "    <tr>\n",
       "      <th>0</th>\n",
       "      <td>0</td>\n",
       "      <td>20</td>\n",
       "      <td>iris</td>\n",
       "      <td>knn</td>\n",
       "      <td>0.9556</td>\n",
       "      <td>9.6777</td>\n",
       "      <td>0.9556</td>\n",
       "      <td>0.0737</td>\n",
       "      <td>0.9556</td>\n",
       "      <td>0.9556</td>\n",
       "      <td>False</td>\n",
       "    </tr>\n",
       "    <tr>\n",
       "      <th>1</th>\n",
       "      <td>1</td>\n",
       "      <td>21</td>\n",
       "      <td>iris</td>\n",
       "      <td>mlp</td>\n",
       "      <td>0.9778</td>\n",
       "      <td>26.9551</td>\n",
       "      <td>0.9778</td>\n",
       "      <td>0.2054</td>\n",
       "      <td>0.9778</td>\n",
       "      <td>0.9778</td>\n",
       "      <td>False</td>\n",
       "    </tr>\n",
       "    <tr>\n",
       "      <th>2</th>\n",
       "      <td>2</td>\n",
       "      <td>22</td>\n",
       "      <td>iris</td>\n",
       "      <td>random-forest</td>\n",
       "      <td>0.9333</td>\n",
       "      <td>131.2373</td>\n",
       "      <td>0.9333</td>\n",
       "      <td>1.0000</td>\n",
       "      <td>0.9333</td>\n",
       "      <td>0.9333</td>\n",
       "      <td>False</td>\n",
       "    </tr>\n",
       "    <tr>\n",
       "      <th>3</th>\n",
       "      <td>3</td>\n",
       "      <td>23</td>\n",
       "      <td>iris</td>\n",
       "      <td>svm</td>\n",
       "      <td>1.0000</td>\n",
       "      <td>3.6074</td>\n",
       "      <td>1.0000</td>\n",
       "      <td>0.0275</td>\n",
       "      <td>1.0000</td>\n",
       "      <td>1.0000</td>\n",
       "      <td>False</td>\n",
       "    </tr>\n",
       "    <tr>\n",
       "      <th>4</th>\n",
       "      <td>4</td>\n",
       "      <td>24</td>\n",
       "      <td>iris</td>\n",
       "      <td>wisard</td>\n",
       "      <td>1.0000</td>\n",
       "      <td>1.3398</td>\n",
       "      <td>1.0000</td>\n",
       "      <td>0.0102</td>\n",
       "      <td>1.0000</td>\n",
       "      <td>1.0000</td>\n",
       "      <td>True</td>\n",
       "    </tr>\n",
       "    <tr>\n",
       "      <th>5</th>\n",
       "      <td>0</td>\n",
       "      <td>55</td>\n",
       "      <td>sepsis</td>\n",
       "      <td>knn</td>\n",
       "      <td>0.8910</td>\n",
       "      <td>5838.1943</td>\n",
       "      <td>0.9993</td>\n",
       "      <td>0.6580</td>\n",
       "      <td>0.9230</td>\n",
       "      <td>0.8910</td>\n",
       "      <td>False</td>\n",
       "    </tr>\n",
       "    <tr>\n",
       "      <th>6</th>\n",
       "      <td>1</td>\n",
       "      <td>56</td>\n",
       "      <td>sepsis</td>\n",
       "      <td>mlp</td>\n",
       "      <td>0.8909</td>\n",
       "      <td>16.7725</td>\n",
       "      <td>0.9992</td>\n",
       "      <td>0.0019</td>\n",
       "      <td>0.9263</td>\n",
       "      <td>0.8909</td>\n",
       "      <td>True</td>\n",
       "    </tr>\n",
       "    <tr>\n",
       "      <th>7</th>\n",
       "      <td>2</td>\n",
       "      <td>57</td>\n",
       "      <td>sepsis</td>\n",
       "      <td>random-forest</td>\n",
       "      <td>0.8908</td>\n",
       "      <td>8872.0020</td>\n",
       "      <td>0.9991</td>\n",
       "      <td>1.0000</td>\n",
       "      <td>0.9262</td>\n",
       "      <td>0.8908</td>\n",
       "      <td>False</td>\n",
       "    </tr>\n",
       "    <tr>\n",
       "      <th>8</th>\n",
       "      <td>3</td>\n",
       "      <td>58</td>\n",
       "      <td>sepsis</td>\n",
       "      <td>svm</td>\n",
       "      <td>0.8909</td>\n",
       "      <td>560.6406</td>\n",
       "      <td>0.9992</td>\n",
       "      <td>0.0632</td>\n",
       "      <td>0.9263</td>\n",
       "      <td>0.8909</td>\n",
       "      <td>False</td>\n",
       "    </tr>\n",
       "    <tr>\n",
       "      <th>9</th>\n",
       "      <td>4</td>\n",
       "      <td>59</td>\n",
       "      <td>sepsis</td>\n",
       "      <td>wisard</td>\n",
       "      <td>0.8916</td>\n",
       "      <td>33.5684</td>\n",
       "      <td>1.0000</td>\n",
       "      <td>0.0038</td>\n",
       "      <td>0.9246</td>\n",
       "      <td>0.8916</td>\n",
       "      <td>True</td>\n",
       "    </tr>\n",
       "    <tr>\n",
       "      <th>10</th>\n",
       "      <td>0</td>\n",
       "      <td>40</td>\n",
       "      <td>rice</td>\n",
       "      <td>knn</td>\n",
       "      <td>0.8637</td>\n",
       "      <td>400.0762</td>\n",
       "      <td>0.9437</td>\n",
       "      <td>0.1428</td>\n",
       "      <td>0.8648</td>\n",
       "      <td>0.8637</td>\n",
       "      <td>False</td>\n",
       "    </tr>\n",
       "    <tr>\n",
       "      <th>11</th>\n",
       "      <td>1</td>\n",
       "      <td>41</td>\n",
       "      <td>rice</td>\n",
       "      <td>mlp</td>\n",
       "      <td>0.4777</td>\n",
       "      <td>26.0788</td>\n",
       "      <td>0.5220</td>\n",
       "      <td>0.0093</td>\n",
       "      <td>0.5853</td>\n",
       "      <td>0.4777</td>\n",
       "      <td>False</td>\n",
       "    </tr>\n",
       "    <tr>\n",
       "      <th>12</th>\n",
       "      <td>2</td>\n",
       "      <td>42</td>\n",
       "      <td>rice</td>\n",
       "      <td>random-forest</td>\n",
       "      <td>0.9153</td>\n",
       "      <td>2801.4219</td>\n",
       "      <td>1.0000</td>\n",
       "      <td>1.0000</td>\n",
       "      <td>0.9156</td>\n",
       "      <td>0.9153</td>\n",
       "      <td>True</td>\n",
       "    </tr>\n",
       "    <tr>\n",
       "      <th>13</th>\n",
       "      <td>3</td>\n",
       "      <td>43</td>\n",
       "      <td>rice</td>\n",
       "      <td>svm</td>\n",
       "      <td>0.8672</td>\n",
       "      <td>73.6484</td>\n",
       "      <td>0.9475</td>\n",
       "      <td>0.0263</td>\n",
       "      <td>0.8688</td>\n",
       "      <td>0.8672</td>\n",
       "      <td>False</td>\n",
       "    </tr>\n",
       "    <tr>\n",
       "      <th>14</th>\n",
       "      <td>4</td>\n",
       "      <td>44</td>\n",
       "      <td>rice</td>\n",
       "      <td>wisard</td>\n",
       "      <td>0.8994</td>\n",
       "      <td>1.4554</td>\n",
       "      <td>0.9827</td>\n",
       "      <td>0.0005</td>\n",
       "      <td>0.8990</td>\n",
       "      <td>0.8994</td>\n",
       "      <td>True</td>\n",
       "    </tr>\n",
       "    <tr>\n",
       "      <th>15</th>\n",
       "      <td>0</td>\n",
       "      <td>65</td>\n",
       "      <td>wine</td>\n",
       "      <td>knn</td>\n",
       "      <td>0.6714</td>\n",
       "      <td>29.9619</td>\n",
       "      <td>0.6840</td>\n",
       "      <td>0.1618</td>\n",
       "      <td>0.6852</td>\n",
       "      <td>0.6714</td>\n",
       "      <td>True</td>\n",
       "    </tr>\n",
       "    <tr>\n",
       "      <th>16</th>\n",
       "      <td>1</td>\n",
       "      <td>66</td>\n",
       "      <td>wine</td>\n",
       "      <td>mlp</td>\n",
       "      <td>0.8884</td>\n",
       "      <td>48.0498</td>\n",
       "      <td>0.9051</td>\n",
       "      <td>0.2595</td>\n",
       "      <td>0.8889</td>\n",
       "      <td>0.8884</td>\n",
       "      <td>True</td>\n",
       "    </tr>\n",
       "    <tr>\n",
       "      <th>17</th>\n",
       "      <td>2</td>\n",
       "      <td>67</td>\n",
       "      <td>wine</td>\n",
       "      <td>random-forest</td>\n",
       "      <td>0.9816</td>\n",
       "      <td>185.1348</td>\n",
       "      <td>1.0000</td>\n",
       "      <td>1.0000</td>\n",
       "      <td>0.9815</td>\n",
       "      <td>0.9816</td>\n",
       "      <td>True</td>\n",
       "    </tr>\n",
       "    <tr>\n",
       "      <th>18</th>\n",
       "      <td>3</td>\n",
       "      <td>68</td>\n",
       "      <td>wine</td>\n",
       "      <td>svm</td>\n",
       "      <td>0.6486</td>\n",
       "      <td>11.0322</td>\n",
       "      <td>0.6608</td>\n",
       "      <td>0.0596</td>\n",
       "      <td>0.6667</td>\n",
       "      <td>0.6486</td>\n",
       "      <td>True</td>\n",
       "    </tr>\n",
       "    <tr>\n",
       "      <th>19</th>\n",
       "      <td>4</td>\n",
       "      <td>69</td>\n",
       "      <td>wine</td>\n",
       "      <td>wisard</td>\n",
       "      <td>0.9629</td>\n",
       "      <td>75.8529</td>\n",
       "      <td>0.9810</td>\n",
       "      <td>0.4097</td>\n",
       "      <td>0.9630</td>\n",
       "      <td>0.9629</td>\n",
       "      <td>True</td>\n",
       "    </tr>\n",
       "    <tr>\n",
       "      <th>20</th>\n",
       "      <td>0</td>\n",
       "      <td>45</td>\n",
       "      <td>satimage</td>\n",
       "      <td>knn</td>\n",
       "      <td>0.9025</td>\n",
       "      <td>1301.7617</td>\n",
       "      <td>0.9900</td>\n",
       "      <td>0.1624</td>\n",
       "      <td>0.9025</td>\n",
       "      <td>0.9025</td>\n",
       "      <td>False</td>\n",
       "    </tr>\n",
       "    <tr>\n",
       "      <th>21</th>\n",
       "      <td>1</td>\n",
       "      <td>46</td>\n",
       "      <td>satimage</td>\n",
       "      <td>mlp</td>\n",
       "      <td>0.9116</td>\n",
       "      <td>109.0924</td>\n",
       "      <td>1.0000</td>\n",
       "      <td>0.0136</td>\n",
       "      <td>0.9131</td>\n",
       "      <td>0.9116</td>\n",
       "      <td>True</td>\n",
       "    </tr>\n",
       "    <tr>\n",
       "      <th>22</th>\n",
       "      <td>2</td>\n",
       "      <td>47</td>\n",
       "      <td>satimage</td>\n",
       "      <td>random-forest</td>\n",
       "      <td>0.9106</td>\n",
       "      <td>8015.7311</td>\n",
       "      <td>0.9989</td>\n",
       "      <td>1.0000</td>\n",
       "      <td>0.9127</td>\n",
       "      <td>0.9106</td>\n",
       "      <td>False</td>\n",
       "    </tr>\n",
       "    <tr>\n",
       "      <th>23</th>\n",
       "      <td>3</td>\n",
       "      <td>48</td>\n",
       "      <td>satimage</td>\n",
       "      <td>svm</td>\n",
       "      <td>0.8925</td>\n",
       "      <td>475.2129</td>\n",
       "      <td>0.9791</td>\n",
       "      <td>0.0593</td>\n",
       "      <td>0.8937</td>\n",
       "      <td>0.8925</td>\n",
       "      <td>False</td>\n",
       "    </tr>\n",
       "    <tr>\n",
       "      <th>24</th>\n",
       "      <td>4</td>\n",
       "      <td>49</td>\n",
       "      <td>satimage</td>\n",
       "      <td>wisard</td>\n",
       "      <td>0.8867</td>\n",
       "      <td>5362.9385</td>\n",
       "      <td>0.9726</td>\n",
       "      <td>0.6691</td>\n",
       "      <td>0.8906</td>\n",
       "      <td>0.8867</td>\n",
       "      <td>False</td>\n",
       "    </tr>\n",
       "    <tr>\n",
       "      <th>25</th>\n",
       "      <td>0</td>\n",
       "      <td>25</td>\n",
       "      <td>letter</td>\n",
       "      <td>knn</td>\n",
       "      <td>0.9455</td>\n",
       "      <td>1860.2314</td>\n",
       "      <td>0.9842</td>\n",
       "      <td>0.0183</td>\n",
       "      <td>0.9455</td>\n",
       "      <td>0.9455</td>\n",
       "      <td>True</td>\n",
       "    </tr>\n",
       "    <tr>\n",
       "      <th>26</th>\n",
       "      <td>1</td>\n",
       "      <td>26</td>\n",
       "      <td>letter</td>\n",
       "      <td>mlp</td>\n",
       "      <td>0.9205</td>\n",
       "      <td>109.7171</td>\n",
       "      <td>0.9581</td>\n",
       "      <td>0.0011</td>\n",
       "      <td>0.9205</td>\n",
       "      <td>0.9205</td>\n",
       "      <td>True</td>\n",
       "    </tr>\n",
       "    <tr>\n",
       "      <th>27</th>\n",
       "      <td>2</td>\n",
       "      <td>27</td>\n",
       "      <td>letter</td>\n",
       "      <td>random-forest</td>\n",
       "      <td>0.9607</td>\n",
       "      <td>101780.5475</td>\n",
       "      <td>1.0000</td>\n",
       "      <td>1.0000</td>\n",
       "      <td>0.9607</td>\n",
       "      <td>0.9607</td>\n",
       "      <td>True</td>\n",
       "    </tr>\n",
       "    <tr>\n",
       "      <th>28</th>\n",
       "      <td>3</td>\n",
       "      <td>28</td>\n",
       "      <td>letter</td>\n",
       "      <td>svm</td>\n",
       "      <td>0.9200</td>\n",
       "      <td>2666.9131</td>\n",
       "      <td>0.9576</td>\n",
       "      <td>0.0262</td>\n",
       "      <td>0.9200</td>\n",
       "      <td>0.9205</td>\n",
       "      <td>False</td>\n",
       "    </tr>\n",
       "    <tr>\n",
       "      <th>29</th>\n",
       "      <td>4</td>\n",
       "      <td>29</td>\n",
       "      <td>letter</td>\n",
       "      <td>wisard</td>\n",
       "      <td>0.9001</td>\n",
       "      <td>10137.4313</td>\n",
       "      <td>0.9369</td>\n",
       "      <td>0.0996</td>\n",
       "      <td>0.9001</td>\n",
       "      <td>0.9009</td>\n",
       "      <td>False</td>\n",
       "    </tr>\n",
       "    <tr>\n",
       "      <th>30</th>\n",
       "      <td>0</td>\n",
       "      <td>10</td>\n",
       "      <td>glass</td>\n",
       "      <td>knn</td>\n",
       "      <td>0.7093</td>\n",
       "      <td>25.7041</td>\n",
       "      <td>1.0000</td>\n",
       "      <td>0.0356</td>\n",
       "      <td>0.7231</td>\n",
       "      <td>0.7093</td>\n",
       "      <td>True</td>\n",
       "    </tr>\n",
       "    <tr>\n",
       "      <th>31</th>\n",
       "      <td>1</td>\n",
       "      <td>11</td>\n",
       "      <td>glass</td>\n",
       "      <td>mlp</td>\n",
       "      <td>0.4554</td>\n",
       "      <td>45.7988</td>\n",
       "      <td>0.6421</td>\n",
       "      <td>0.0635</td>\n",
       "      <td>0.5231</td>\n",
       "      <td>0.4554</td>\n",
       "      <td>False</td>\n",
       "    </tr>\n",
       "    <tr>\n",
       "      <th>32</th>\n",
       "      <td>2</td>\n",
       "      <td>12</td>\n",
       "      <td>glass</td>\n",
       "      <td>random-forest</td>\n",
       "      <td>0.7060</td>\n",
       "      <td>721.6768</td>\n",
       "      <td>0.9954</td>\n",
       "      <td>1.0000</td>\n",
       "      <td>0.7538</td>\n",
       "      <td>0.7060</td>\n",
       "      <td>False</td>\n",
       "    </tr>\n",
       "    <tr>\n",
       "      <th>33</th>\n",
       "      <td>3</td>\n",
       "      <td>13</td>\n",
       "      <td>glass</td>\n",
       "      <td>svm</td>\n",
       "      <td>0.1850</td>\n",
       "      <td>18.3955</td>\n",
       "      <td>0.2608</td>\n",
       "      <td>0.0255</td>\n",
       "      <td>0.3538</td>\n",
       "      <td>0.1850</td>\n",
       "      <td>True</td>\n",
       "    </tr>\n",
       "    <tr>\n",
       "      <th>34</th>\n",
       "      <td>4</td>\n",
       "      <td>14</td>\n",
       "      <td>glass</td>\n",
       "      <td>wisard</td>\n",
       "      <td>0.6615</td>\n",
       "      <td>66.1410</td>\n",
       "      <td>0.9327</td>\n",
       "      <td>0.0916</td>\n",
       "      <td>0.7077</td>\n",
       "      <td>0.6615</td>\n",
       "      <td>False</td>\n",
       "    </tr>\n",
       "    <tr>\n",
       "      <th>35</th>\n",
       "      <td>0</td>\n",
       "      <td>60</td>\n",
       "      <td>vehicle</td>\n",
       "      <td>knn</td>\n",
       "      <td>0.8176</td>\n",
       "      <td>101.0117</td>\n",
       "      <td>0.8441</td>\n",
       "      <td>0.1042</td>\n",
       "      <td>0.8176</td>\n",
       "      <td>0.8184</td>\n",
       "      <td>False</td>\n",
       "    </tr>\n",
       "    <tr>\n",
       "      <th>36</th>\n",
       "      <td>1</td>\n",
       "      <td>61</td>\n",
       "      <td>vehicle</td>\n",
       "      <td>mlp</td>\n",
       "      <td>0.8176</td>\n",
       "      <td>57.7461</td>\n",
       "      <td>0.8441</td>\n",
       "      <td>0.0596</td>\n",
       "      <td>0.8176</td>\n",
       "      <td>0.8119</td>\n",
       "      <td>True</td>\n",
       "    </tr>\n",
       "    <tr>\n",
       "      <th>37</th>\n",
       "      <td>2</td>\n",
       "      <td>62</td>\n",
       "      <td>vehicle</td>\n",
       "      <td>random-forest</td>\n",
       "      <td>0.9686</td>\n",
       "      <td>969.3932</td>\n",
       "      <td>1.0000</td>\n",
       "      <td>1.0000</td>\n",
       "      <td>0.9686</td>\n",
       "      <td>0.9686</td>\n",
       "      <td>True</td>\n",
       "    </tr>\n",
       "    <tr>\n",
       "      <th>38</th>\n",
       "      <td>3</td>\n",
       "      <td>63</td>\n",
       "      <td>vehicle</td>\n",
       "      <td>svm</td>\n",
       "      <td>0.7176</td>\n",
       "      <td>82.1152</td>\n",
       "      <td>0.7409</td>\n",
       "      <td>0.0847</td>\n",
       "      <td>0.7176</td>\n",
       "      <td>0.7201</td>\n",
       "      <td>False</td>\n",
       "    </tr>\n",
       "    <tr>\n",
       "      <th>39</th>\n",
       "      <td>4</td>\n",
       "      <td>64</td>\n",
       "      <td>vehicle</td>\n",
       "      <td>wisard</td>\n",
       "      <td>0.8941</td>\n",
       "      <td>291.2301</td>\n",
       "      <td>0.9231</td>\n",
       "      <td>0.3004</td>\n",
       "      <td>0.8941</td>\n",
       "      <td>0.8936</td>\n",
       "      <td>True</td>\n",
       "    </tr>\n",
       "    <tr>\n",
       "      <th>40</th>\n",
       "      <td>0</td>\n",
       "      <td>70</td>\n",
       "      <td>yeast</td>\n",
       "      <td>knn</td>\n",
       "      <td>0.5464</td>\n",
       "      <td>178.0469</td>\n",
       "      <td>0.8802</td>\n",
       "      <td>0.0169</td>\n",
       "      <td>0.5522</td>\n",
       "      <td>0.5464</td>\n",
       "      <td>False</td>\n",
       "    </tr>\n",
       "    <tr>\n",
       "      <th>41</th>\n",
       "      <td>1</td>\n",
       "      <td>71</td>\n",
       "      <td>yeast</td>\n",
       "      <td>mlp</td>\n",
       "      <td>0.5896</td>\n",
       "      <td>52.9580</td>\n",
       "      <td>0.9498</td>\n",
       "      <td>0.0050</td>\n",
       "      <td>0.6027</td>\n",
       "      <td>0.5896</td>\n",
       "      <td>True</td>\n",
       "    </tr>\n",
       "    <tr>\n",
       "      <th>42</th>\n",
       "      <td>2</td>\n",
       "      <td>72</td>\n",
       "      <td>yeast</td>\n",
       "      <td>random-forest</td>\n",
       "      <td>0.6207</td>\n",
       "      <td>10533.5645</td>\n",
       "      <td>1.0000</td>\n",
       "      <td>1.0000</td>\n",
       "      <td>0.6296</td>\n",
       "      <td>0.6207</td>\n",
       "      <td>True</td>\n",
       "    </tr>\n",
       "    <tr>\n",
       "      <th>43</th>\n",
       "      <td>3</td>\n",
       "      <td>73</td>\n",
       "      <td>yeast</td>\n",
       "      <td>svm</td>\n",
       "      <td>0.5992</td>\n",
       "      <td>137.1494</td>\n",
       "      <td>0.9653</td>\n",
       "      <td>0.0130</td>\n",
       "      <td>0.6094</td>\n",
       "      <td>0.5992</td>\n",
       "      <td>True</td>\n",
       "    </tr>\n",
       "    <tr>\n",
       "      <th>44</th>\n",
       "      <td>4</td>\n",
       "      <td>74</td>\n",
       "      <td>yeast</td>\n",
       "      <td>wisard</td>\n",
       "      <td>0.5700</td>\n",
       "      <td>463.6279</td>\n",
       "      <td>0.9183</td>\n",
       "      <td>0.0440</td>\n",
       "      <td>0.5825</td>\n",
       "      <td>0.5700</td>\n",
       "      <td>False</td>\n",
       "    </tr>\n",
       "    <tr>\n",
       "      <th>45</th>\n",
       "      <td>0</td>\n",
       "      <td>50</td>\n",
       "      <td>segment</td>\n",
       "      <td>knn</td>\n",
       "      <td>0.9336</td>\n",
       "      <td>253.3555</td>\n",
       "      <td>0.9609</td>\n",
       "      <td>0.1464</td>\n",
       "      <td>0.9336</td>\n",
       "      <td>0.9327</td>\n",
       "      <td>False</td>\n",
       "    </tr>\n",
       "    <tr>\n",
       "      <th>46</th>\n",
       "      <td>1</td>\n",
       "      <td>51</td>\n",
       "      <td>segment</td>\n",
       "      <td>mlp</td>\n",
       "      <td>0.9423</td>\n",
       "      <td>70.7018</td>\n",
       "      <td>0.9698</td>\n",
       "      <td>0.0408</td>\n",
       "      <td>0.9423</td>\n",
       "      <td>0.9416</td>\n",
       "      <td>True</td>\n",
       "    </tr>\n",
       "    <tr>\n",
       "      <th>47</th>\n",
       "      <td>2</td>\n",
       "      <td>52</td>\n",
       "      <td>segment</td>\n",
       "      <td>random-forest</td>\n",
       "      <td>0.9716</td>\n",
       "      <td>1730.8545</td>\n",
       "      <td>1.0000</td>\n",
       "      <td>1.0000</td>\n",
       "      <td>0.9716</td>\n",
       "      <td>0.9716</td>\n",
       "      <td>True</td>\n",
       "    </tr>\n",
       "    <tr>\n",
       "      <th>48</th>\n",
       "      <td>3</td>\n",
       "      <td>53</td>\n",
       "      <td>segment</td>\n",
       "      <td>svm</td>\n",
       "      <td>0.8701</td>\n",
       "      <td>165.6230</td>\n",
       "      <td>0.8955</td>\n",
       "      <td>0.0957</td>\n",
       "      <td>0.8701</td>\n",
       "      <td>0.8720</td>\n",
       "      <td>False</td>\n",
       "    </tr>\n",
       "    <tr>\n",
       "      <th>49</th>\n",
       "      <td>4</td>\n",
       "      <td>54</td>\n",
       "      <td>segment</td>\n",
       "      <td>wisard</td>\n",
       "      <td>0.8807</td>\n",
       "      <td>117.8405</td>\n",
       "      <td>0.9064</td>\n",
       "      <td>0.0681</td>\n",
       "      <td>0.8807</td>\n",
       "      <td>0.8782</td>\n",
       "      <td>False</td>\n",
       "    </tr>\n",
       "  </tbody>\n",
       "</table>\n",
       "</div>"
      ],
      "text/plain": [
       "    level_0  index   dataset          model  metric  model_size  \\\n",
       "0         0     20      iris            knn  0.9556      9.6777   \n",
       "1         1     21      iris            mlp  0.9778     26.9551   \n",
       "2         2     22      iris  random-forest  0.9333    131.2373   \n",
       "3         3     23      iris            svm  1.0000      3.6074   \n",
       "4         4     24      iris         wisard  1.0000      1.3398   \n",
       "5         0     55    sepsis            knn  0.8910   5838.1943   \n",
       "6         1     56    sepsis            mlp  0.8909     16.7725   \n",
       "7         2     57    sepsis  random-forest  0.8908   8872.0020   \n",
       "8         3     58    sepsis            svm  0.8909    560.6406   \n",
       "9         4     59    sepsis         wisard  0.8916     33.5684   \n",
       "10        0     40      rice            knn  0.8637    400.0762   \n",
       "11        1     41      rice            mlp  0.4777     26.0788   \n",
       "12        2     42      rice  random-forest  0.9153   2801.4219   \n",
       "13        3     43      rice            svm  0.8672     73.6484   \n",
       "14        4     44      rice         wisard  0.8994      1.4554   \n",
       "15        0     65      wine            knn  0.6714     29.9619   \n",
       "16        1     66      wine            mlp  0.8884     48.0498   \n",
       "17        2     67      wine  random-forest  0.9816    185.1348   \n",
       "18        3     68      wine            svm  0.6486     11.0322   \n",
       "19        4     69      wine         wisard  0.9629     75.8529   \n",
       "20        0     45  satimage            knn  0.9025   1301.7617   \n",
       "21        1     46  satimage            mlp  0.9116    109.0924   \n",
       "22        2     47  satimage  random-forest  0.9106   8015.7311   \n",
       "23        3     48  satimage            svm  0.8925    475.2129   \n",
       "24        4     49  satimage         wisard  0.8867   5362.9385   \n",
       "25        0     25    letter            knn  0.9455   1860.2314   \n",
       "26        1     26    letter            mlp  0.9205    109.7171   \n",
       "27        2     27    letter  random-forest  0.9607 101780.5475   \n",
       "28        3     28    letter            svm  0.9200   2666.9131   \n",
       "29        4     29    letter         wisard  0.9001  10137.4313   \n",
       "30        0     10     glass            knn  0.7093     25.7041   \n",
       "31        1     11     glass            mlp  0.4554     45.7988   \n",
       "32        2     12     glass  random-forest  0.7060    721.6768   \n",
       "33        3     13     glass            svm  0.1850     18.3955   \n",
       "34        4     14     glass         wisard  0.6615     66.1410   \n",
       "35        0     60   vehicle            knn  0.8176    101.0117   \n",
       "36        1     61   vehicle            mlp  0.8176     57.7461   \n",
       "37        2     62   vehicle  random-forest  0.9686    969.3932   \n",
       "38        3     63   vehicle            svm  0.7176     82.1152   \n",
       "39        4     64   vehicle         wisard  0.8941    291.2301   \n",
       "40        0     70     yeast            knn  0.5464    178.0469   \n",
       "41        1     71     yeast            mlp  0.5896     52.9580   \n",
       "42        2     72     yeast  random-forest  0.6207  10533.5645   \n",
       "43        3     73     yeast            svm  0.5992    137.1494   \n",
       "44        4     74     yeast         wisard  0.5700    463.6279   \n",
       "45        0     50   segment            knn  0.9336    253.3555   \n",
       "46        1     51   segment            mlp  0.9423     70.7018   \n",
       "47        2     52   segment  random-forest  0.9716   1730.8545   \n",
       "48        3     53   segment            svm  0.8701    165.6230   \n",
       "49        4     54   segment         wisard  0.8807    117.8405   \n",
       "\n",
       "    relative performance  relative size  accuracy     f1 pareto  \n",
       "0                 0.9556         0.0737    0.9556 0.9556  False  \n",
       "1                 0.9778         0.2054    0.9778 0.9778  False  \n",
       "2                 0.9333         1.0000    0.9333 0.9333  False  \n",
       "3                 1.0000         0.0275    1.0000 1.0000  False  \n",
       "4                 1.0000         0.0102    1.0000 1.0000   True  \n",
       "5                 0.9993         0.6580    0.9230 0.8910  False  \n",
       "6                 0.9992         0.0019    0.9263 0.8909   True  \n",
       "7                 0.9991         1.0000    0.9262 0.8908  False  \n",
       "8                 0.9992         0.0632    0.9263 0.8909  False  \n",
       "9                 1.0000         0.0038    0.9246 0.8916   True  \n",
       "10                0.9437         0.1428    0.8648 0.8637  False  \n",
       "11                0.5220         0.0093    0.5853 0.4777  False  \n",
       "12                1.0000         1.0000    0.9156 0.9153   True  \n",
       "13                0.9475         0.0263    0.8688 0.8672  False  \n",
       "14                0.9827         0.0005    0.8990 0.8994   True  \n",
       "15                0.6840         0.1618    0.6852 0.6714   True  \n",
       "16                0.9051         0.2595    0.8889 0.8884   True  \n",
       "17                1.0000         1.0000    0.9815 0.9816   True  \n",
       "18                0.6608         0.0596    0.6667 0.6486   True  \n",
       "19                0.9810         0.4097    0.9630 0.9629   True  \n",
       "20                0.9900         0.1624    0.9025 0.9025  False  \n",
       "21                1.0000         0.0136    0.9131 0.9116   True  \n",
       "22                0.9989         1.0000    0.9127 0.9106  False  \n",
       "23                0.9791         0.0593    0.8937 0.8925  False  \n",
       "24                0.9726         0.6691    0.8906 0.8867  False  \n",
       "25                0.9842         0.0183    0.9455 0.9455   True  \n",
       "26                0.9581         0.0011    0.9205 0.9205   True  \n",
       "27                1.0000         1.0000    0.9607 0.9607   True  \n",
       "28                0.9576         0.0262    0.9200 0.9205  False  \n",
       "29                0.9369         0.0996    0.9001 0.9009  False  \n",
       "30                1.0000         0.0356    0.7231 0.7093   True  \n",
       "31                0.6421         0.0635    0.5231 0.4554  False  \n",
       "32                0.9954         1.0000    0.7538 0.7060  False  \n",
       "33                0.2608         0.0255    0.3538 0.1850   True  \n",
       "34                0.9327         0.0916    0.7077 0.6615  False  \n",
       "35                0.8441         0.1042    0.8176 0.8184  False  \n",
       "36                0.8441         0.0596    0.8176 0.8119   True  \n",
       "37                1.0000         1.0000    0.9686 0.9686   True  \n",
       "38                0.7409         0.0847    0.7176 0.7201  False  \n",
       "39                0.9231         0.3004    0.8941 0.8936   True  \n",
       "40                0.8802         0.0169    0.5522 0.5464  False  \n",
       "41                0.9498         0.0050    0.6027 0.5896   True  \n",
       "42                1.0000         1.0000    0.6296 0.6207   True  \n",
       "43                0.9653         0.0130    0.6094 0.5992   True  \n",
       "44                0.9183         0.0440    0.5825 0.5700  False  \n",
       "45                0.9609         0.1464    0.9336 0.9327  False  \n",
       "46                0.9698         0.0408    0.9423 0.9416   True  \n",
       "47                1.0000         1.0000    0.9716 0.9716   True  \n",
       "48                0.8955         0.0957    0.8701 0.8720  False  \n",
       "49                0.9064         0.0681    0.8807 0.8782  False  "
      ]
     },
     "execution_count": 37,
     "metadata": {},
     "output_type": "execute_result"
    }
   ],
   "source": [
    "data"
   ]
  },
  {
   "cell_type": "code",
   "execution_count": 29,
   "metadata": {},
   "outputs": [
    {
     "name": "stdout",
     "output_type": "stream",
     "text": [
      "Figure written to: figures/model_metric_size.pdf\n",
      "Filename   : model_metric_size.pdf\n",
      "Latex label: model_metric_size\n"
     ]
    },
    {
     "data": {
      "application/vnd.plotly.v1+json": {
       "config": {
        "plotlyServerURL": "https://plot.ly"
       },
       "data": [
        {
         "hovertemplate": "pareto=False<br>model=knn<br>dataset=breast_cancer<br>relative size=%{x}<br>metric=%{y}<extra></extra>",
         "legendgroup": "False, knn",
         "marker": {
          "color": "#636EFA",
          "size": 7,
          "symbol": "circle"
         },
         "mode": "markers",
         "name": "False, knn",
         "orientation": "v",
         "showlegend": false,
         "type": "scatter",
         "x": [
          0.3508115473408499
         ],
         "xaxis": "x13",
         "y": [
          0.9178579163959281
         ],
         "yaxis": "y13"
        },
        {
         "hovertemplate": "pareto=False<br>model=knn<br>dataset=dry_bean<br>relative size=%{x}<br>metric=%{y}<extra></extra>",
         "legendgroup": "False, knn",
         "marker": {
          "color": "#636EFA",
          "size": 7,
          "symbol": "circle"
         },
         "mode": "markers",
         "name": "False, knn",
         "orientation": "v",
         "showlegend": false,
         "type": "scatter",
         "x": [
          0.10440840221336992
         ],
         "xaxis": "x14",
         "y": [
          0.7175232545997096
         ],
         "yaxis": "y14"
        },
        {
         "hovertemplate": "pareto=False<br>model=knn<br>dataset=iris<br>relative size=%{x}<br>metric=%{y}<extra></extra>",
         "legendgroup": "False, knn",
         "marker": {
          "color": "#636EFA",
          "size": 7,
          "symbol": "circle"
         },
         "mode": "markers",
         "name": "False, knn",
         "orientation": "v",
         "showlegend": false,
         "type": "scatter",
         "x": [
          0.0737422518547181
         ],
         "xaxis": "x11",
         "y": [
          0.9555555555555556
         ],
         "yaxis": "y11"
        },
        {
         "hovertemplate": "pareto=False<br>model=knn<br>dataset=motion_sense<br>relative size=%{x}<br>metric=%{y}<extra></extra>",
         "legendgroup": "False, knn",
         "marker": {
          "color": "#636EFA",
          "size": 7,
          "symbol": "circle"
         },
         "mode": "markers",
         "name": "False, knn",
         "orientation": "v",
         "showlegend": false,
         "type": "scatter",
         "x": [
          0.2964337966338675
         ],
         "xaxis": "x7",
         "y": [
          0.5049019607843137
         ],
         "yaxis": "y7"
        },
        {
         "hovertemplate": "pareto=False<br>model=knn<br>dataset=optical_handwritten<br>relative size=%{x}<br>metric=%{y}<extra></extra>",
         "legendgroup": "False, knn",
         "marker": {
          "color": "#636EFA",
          "size": 7,
          "symbol": "circle"
         },
         "mode": "markers",
         "name": "False, knn",
         "orientation": "v",
         "showlegend": false,
         "type": "scatter",
         "x": [
          0.13296758551459578
         ],
         "xaxis": "x8",
         "y": [
          0.988428941906149
         ],
         "yaxis": "y8"
        },
        {
         "hovertemplate": "pareto=False<br>model=knn<br>dataset=rice<br>relative size=%{x}<br>metric=%{y}<extra></extra>",
         "legendgroup": "False, knn",
         "marker": {
          "color": "#636EFA",
          "size": 7,
          "symbol": "circle"
         },
         "mode": "markers",
         "name": "False, knn",
         "orientation": "v",
         "showlegend": false,
         "type": "scatter",
         "x": [
          0.14281182546809376
         ],
         "xaxis": "x9",
         "y": [
          0.8636907391101323
         ],
         "yaxis": "y9"
        },
        {
         "hovertemplate": "pareto=False<br>model=knn<br>dataset=satimage<br>relative size=%{x}<br>metric=%{y}<extra></extra>",
         "legendgroup": "False, knn",
         "marker": {
          "color": "#636EFA",
          "size": 7,
          "symbol": "circle"
         },
         "mode": "markers",
         "name": "False, knn",
         "orientation": "v",
         "showlegend": false,
         "type": "scatter",
         "x": [
          0.16240087139846995
         ],
         "xaxis": "x4",
         "y": [
          0.9025045416497844
         ],
         "yaxis": "y4"
        },
        {
         "hovertemplate": "pareto=False<br>model=knn<br>dataset=segment<br>relative size=%{x}<br>metric=%{y}<extra></extra>",
         "legendgroup": "False, knn",
         "marker": {
          "color": "#636EFA",
          "size": 7,
          "symbol": "circle"
         },
         "mode": "markers",
         "name": "False, knn",
         "orientation": "v",
         "showlegend": false,
         "type": "scatter",
         "x": [
          0.14637594892786315
         ],
         "xaxis": "x5",
         "y": [
          0.9336219336219336
         ],
         "yaxis": "y5"
        },
        {
         "hovertemplate": "pareto=False<br>model=knn<br>dataset=sepsis<br>relative size=%{x}<br>metric=%{y}<extra></extra>",
         "legendgroup": "False, knn",
         "marker": {
          "color": "#636EFA",
          "size": 7,
          "symbol": "circle"
         },
         "mode": "markers",
         "name": "False, knn",
         "orientation": "v",
         "showlegend": false,
         "type": "scatter",
         "x": [
          0.6580470075168439
         ],
         "xaxis": "x6",
         "y": [
          0.8909546104108189
         ],
         "yaxis": "y6"
        },
        {
         "hovertemplate": "pareto=False<br>model=knn<br>dataset=vehicle<br>relative size=%{x}<br>metric=%{y}<extra></extra>",
         "legendgroup": "False, knn",
         "marker": {
          "color": "#636EFA",
          "size": 7,
          "symbol": "circle"
         },
         "mode": "markers",
         "name": "False, knn",
         "orientation": "v",
         "showlegend": false,
         "type": "scatter",
         "x": [
          0.1042009740844117
         ],
         "xaxis": "x",
         "y": [
          0.8176470588235295
         ],
         "yaxis": "y"
        },
        {
         "hovertemplate": "pareto=False<br>model=knn<br>dataset=yeast<br>relative size=%{x}<br>metric=%{y}<extra></extra>",
         "legendgroup": "False, knn",
         "marker": {
          "color": "#636EFA",
          "size": 7,
          "symbol": "circle"
         },
         "mode": "markers",
         "name": "False, knn",
         "orientation": "v",
         "showlegend": false,
         "type": "scatter",
         "x": [
          0.016902813458095727
         ],
         "xaxis": "x3",
         "y": [
          0.5463856770422707
         ],
         "yaxis": "y3"
        },
        {
         "hovertemplate": "pareto=False<br>model=mlp<br>dataset=glass<br>relative size=%{x}<br>metric=%{y}<extra></extra>",
         "legendgroup": "False, mlp",
         "marker": {
          "color": "#636EFA",
          "size": 7,
          "symbol": "square"
         },
         "mode": "markers",
         "name": "False, mlp",
         "orientation": "v",
         "showlegend": false,
         "type": "scatter",
         "x": [
          0.06346169199604329
         ],
         "xaxis": "x15",
         "y": [
          0.4554142391626345
         ],
         "yaxis": "y15"
        },
        {
         "hovertemplate": "pareto=False<br>model=mlp<br>dataset=iris<br>relative size=%{x}<br>metric=%{y}<extra></extra>",
         "legendgroup": "False, mlp",
         "marker": {
          "color": "#636EFA",
          "size": 7,
          "symbol": "square"
         },
         "mode": "markers",
         "name": "False, mlp",
         "orientation": "v",
         "showlegend": false,
         "type": "scatter",
         "x": [
          0.20539189058465476
         ],
         "xaxis": "x11",
         "y": [
          0.9777777777777775
         ],
         "yaxis": "y11"
        },
        {
         "hovertemplate": "pareto=False<br>model=mlp<br>dataset=rice<br>relative size=%{x}<br>metric=%{y}<extra></extra>",
         "legendgroup": "False, mlp",
         "marker": {
          "color": "#636EFA",
          "size": 7,
          "symbol": "square"
         },
         "mode": "markers",
         "name": "False, mlp",
         "orientation": "v",
         "showlegend": false,
         "type": "scatter",
         "x": [
          0.009309121298150307
         ],
         "xaxis": "x9",
         "y": [
          0.4777329795241849
         ],
         "yaxis": "y9"
        },
        {
         "hovertemplate": "pareto=False<br>model=random-forest<br>dataset=glass<br>relative size=%{x}<br>metric=%{y}<extra></extra>",
         "legendgroup": "False, random-forest",
         "marker": {
          "color": "#636EFA",
          "size": 7,
          "symbol": "diamond"
         },
         "mode": "markers",
         "name": "False, random-forest",
         "orientation": "v",
         "showlegend": false,
         "type": "scatter",
         "x": [
          1
         ],
         "xaxis": "x15",
         "y": [
          0.7060178946619377
         ],
         "yaxis": "y15"
        },
        {
         "hovertemplate": "pareto=False<br>model=random-forest<br>dataset=image_segmentation<br>relative size=%{x}<br>metric=%{y}<extra></extra>",
         "legendgroup": "False, random-forest",
         "marker": {
          "color": "#636EFA",
          "size": 7,
          "symbol": "diamond"
         },
         "mode": "markers",
         "name": "False, random-forest",
         "orientation": "v",
         "showlegend": false,
         "type": "scatter",
         "x": [
          1
         ],
         "xaxis": "x10",
         "y": [
          0.6190476190476191
         ],
         "yaxis": "y10"
        },
        {
         "hovertemplate": "pareto=False<br>model=random-forest<br>dataset=iris<br>relative size=%{x}<br>metric=%{y}<extra></extra>",
         "legendgroup": "False, random-forest",
         "marker": {
          "color": "#636EFA",
          "size": 7,
          "symbol": "diamond"
         },
         "mode": "markers",
         "name": "False, random-forest",
         "orientation": "v",
         "showlegend": false,
         "type": "scatter",
         "x": [
          1
         ],
         "xaxis": "x11",
         "y": [
          0.9333333333333332
         ],
         "yaxis": "y11"
        },
        {
         "hovertemplate": "pareto=False<br>model=random-forest<br>dataset=optical_handwritten<br>relative size=%{x}<br>metric=%{y}<extra></extra>",
         "legendgroup": "False, random-forest",
         "marker": {
          "color": "#636EFA",
          "size": 7,
          "symbol": "diamond"
         },
         "mode": "markers",
         "name": "False, random-forest",
         "orientation": "v",
         "showlegend": false,
         "type": "scatter",
         "x": [
          0.6732152504779295
         ],
         "xaxis": "x8",
         "y": [
          0.9827979576880973
         ],
         "yaxis": "y8"
        },
        {
         "hovertemplate": "pareto=False<br>model=random-forest<br>dataset=satimage<br>relative size=%{x}<br>metric=%{y}<extra></extra>",
         "legendgroup": "False, random-forest",
         "marker": {
          "color": "#636EFA",
          "size": 7,
          "symbol": "diamond"
         },
         "mode": "markers",
         "name": "False, random-forest",
         "orientation": "v",
         "showlegend": false,
         "type": "scatter",
         "x": [
          1
         ],
         "xaxis": "x4",
         "y": [
          0.910574331227231
         ],
         "yaxis": "y4"
        },
        {
         "hovertemplate": "pareto=False<br>model=random-forest<br>dataset=sepsis<br>relative size=%{x}<br>metric=%{y}<extra></extra>",
         "legendgroup": "False, random-forest",
         "marker": {
          "color": "#636EFA",
          "size": 7,
          "symbol": "diamond"
         },
         "mode": "markers",
         "name": "False, random-forest",
         "orientation": "v",
         "showlegend": false,
         "type": "scatter",
         "x": [
          1
         ],
         "xaxis": "x6",
         "y": [
          0.8908090454440197
         ],
         "yaxis": "y6"
        },
        {
         "hovertemplate": "pareto=False<br>model=svm<br>dataset=dry_bean<br>relative size=%{x}<br>metric=%{y}<extra></extra>",
         "legendgroup": "False, svm",
         "marker": {
          "color": "#636EFA",
          "size": 7,
          "symbol": "cross"
         },
         "mode": "markers",
         "name": "False, svm",
         "orientation": "v",
         "showlegend": false,
         "type": "scatter",
         "x": [
          0.10596886239901267
         ],
         "xaxis": "x14",
         "y": [
          0.6014133504868324
         ],
         "yaxis": "y14"
        },
        {
         "hovertemplate": "pareto=False<br>model=svm<br>dataset=image_segmentation<br>relative size=%{x}<br>metric=%{y}<extra></extra>",
         "legendgroup": "False, svm",
         "marker": {
          "color": "#636EFA",
          "size": 7,
          "symbol": "cross"
         },
         "mode": "markers",
         "name": "False, svm",
         "orientation": "v",
         "showlegend": false,
         "type": "scatter",
         "x": [
          0.05963587930781256
         ],
         "xaxis": "x10",
         "y": [
          0.5
         ],
         "yaxis": "y10"
        },
        {
         "hovertemplate": "pareto=False<br>model=svm<br>dataset=iris<br>relative size=%{x}<br>metric=%{y}<extra></extra>",
         "legendgroup": "False, svm",
         "marker": {
          "color": "#636EFA",
          "size": 7,
          "symbol": "cross"
         },
         "mode": "markers",
         "name": "False, svm",
         "orientation": "v",
         "showlegend": false,
         "type": "scatter",
         "x": [
          0.027487777835653746
         ],
         "xaxis": "x11",
         "y": [
          1
         ],
         "yaxis": "y11"
        },
        {
         "hovertemplate": "pareto=False<br>model=svm<br>dataset=letter<br>relative size=%{x}<br>metric=%{y}<extra></extra>",
         "legendgroup": "False, svm",
         "marker": {
          "color": "#636EFA",
          "size": 7,
          "symbol": "cross"
         },
         "mode": "markers",
         "name": "False, svm",
         "orientation": "v",
         "showlegend": false,
         "type": "scatter",
         "x": [
          0.026202581443719793
         ],
         "xaxis": "x12",
         "y": [
          0.92
         ],
         "yaxis": "y12"
        },
        {
         "hovertemplate": "pareto=False<br>model=svm<br>dataset=motion_sense<br>relative size=%{x}<br>metric=%{y}<extra></extra>",
         "legendgroup": "False, svm",
         "marker": {
          "color": "#636EFA",
          "size": 7,
          "symbol": "cross"
         },
         "mode": "markers",
         "name": "False, svm",
         "orientation": "v",
         "showlegend": false,
         "type": "scatter",
         "x": [
          0.25998224224727745
         ],
         "xaxis": "x7",
         "y": [
          0.538235294117647
         ],
         "yaxis": "y7"
        },
        {
         "hovertemplate": "pareto=False<br>model=svm<br>dataset=rice<br>relative size=%{x}<br>metric=%{y}<extra></extra>",
         "legendgroup": "False, svm",
         "marker": {
          "color": "#636EFA",
          "size": 7,
          "symbol": "cross"
         },
         "mode": "markers",
         "name": "False, svm",
         "orientation": "v",
         "showlegend": false,
         "type": "scatter",
         "x": [
          0.026289663173276964
         ],
         "xaxis": "x9",
         "y": [
          0.867169718729999
         ],
         "yaxis": "y9"
        },
        {
         "hovertemplate": "pareto=False<br>model=svm<br>dataset=satimage<br>relative size=%{x}<br>metric=%{y}<extra></extra>",
         "legendgroup": "False, svm",
         "marker": {
          "color": "#636EFA",
          "size": 7,
          "symbol": "cross"
         },
         "mode": "markers",
         "name": "False, svm",
         "orientation": "v",
         "showlegend": false,
         "type": "scatter",
         "x": [
          0.05928503383199199
         ],
         "xaxis": "x4",
         "y": [
          0.892530243798912
         ],
         "yaxis": "y4"
        },
        {
         "hovertemplate": "pareto=False<br>model=svm<br>dataset=segment<br>relative size=%{x}<br>metric=%{y}<extra></extra>",
         "legendgroup": "False, svm",
         "marker": {
          "color": "#636EFA",
          "size": 7,
          "symbol": "cross"
         },
         "mode": "markers",
         "name": "False, svm",
         "orientation": "v",
         "showlegend": false,
         "type": "scatter",
         "x": [
          0.09568860214568423
         ],
         "xaxis": "x5",
         "y": [
          0.8701298701298702
         ],
         "yaxis": "y5"
        },
        {
         "hovertemplate": "pareto=False<br>model=svm<br>dataset=sepsis<br>relative size=%{x}<br>metric=%{y}<extra></extra>",
         "legendgroup": "False, svm",
         "marker": {
          "color": "#636EFA",
          "size": 7,
          "symbol": "cross"
         },
         "mode": "markers",
         "name": "False, svm",
         "orientation": "v",
         "showlegend": false,
         "type": "scatter",
         "x": [
          0.06319212145828311
         ],
         "xaxis": "x6",
         "y": [
          0.8908920043310973
         ],
         "yaxis": "y6"
        },
        {
         "hovertemplate": "pareto=False<br>model=svm<br>dataset=vehicle<br>relative size=%{x}<br>metric=%{y}<extra></extra>",
         "legendgroup": "False, svm",
         "marker": {
          "color": "#636EFA",
          "size": 7,
          "symbol": "cross"
         },
         "mode": "markers",
         "name": "False, svm",
         "orientation": "v",
         "showlegend": false,
         "type": "scatter",
         "x": [
          0.08470786870008355
         ],
         "xaxis": "x",
         "y": [
          0.7176470588235294
         ],
         "yaxis": "y"
        },
        {
         "hovertemplate": "pareto=False<br>model=wisard<br>dataset=glass<br>relative size=%{x}<br>metric=%{y}<extra></extra>",
         "legendgroup": "False, wisard",
         "marker": {
          "color": "#636EFA",
          "size": 7,
          "symbol": "x"
         },
         "mode": "markers",
         "name": "False, wisard",
         "orientation": "v",
         "showlegend": false,
         "type": "scatter",
         "x": [
          0.09164899631978658
         ],
         "xaxis": "x15",
         "y": [
          0.6615428500177969
         ],
         "yaxis": "y15"
        },
        {
         "hovertemplate": "pareto=False<br>model=wisard<br>dataset=letter<br>relative size=%{x}<br>metric=%{y}<extra></extra>",
         "legendgroup": "False, wisard",
         "marker": {
          "color": "#636EFA",
          "size": 7,
          "symbol": "x"
         },
         "mode": "markers",
         "name": "False, wisard",
         "orientation": "v",
         "showlegend": false,
         "type": "scatter",
         "x": [
          0.0996008722836787
         ],
         "xaxis": "x12",
         "y": [
          0.9000555555555557
         ],
         "yaxis": "y12"
        },
        {
         "hovertemplate": "pareto=False<br>model=wisard<br>dataset=motion_sense<br>relative size=%{x}<br>metric=%{y}<extra></extra>",
         "legendgroup": "False, wisard",
         "marker": {
          "color": "#636EFA",
          "size": 7,
          "symbol": "x"
         },
         "mode": "markers",
         "name": "False, wisard",
         "orientation": "v",
         "showlegend": false,
         "type": "scatter",
         "x": [
          1
         ],
         "xaxis": "x7",
         "y": [
          0.65
         ],
         "yaxis": "y7"
        },
        {
         "hovertemplate": "pareto=False<br>model=wisard<br>dataset=optical_handwritten<br>relative size=%{x}<br>metric=%{y}<extra></extra>",
         "legendgroup": "False, wisard",
         "marker": {
          "color": "#636EFA",
          "size": 7,
          "symbol": "x"
         },
         "mode": "markers",
         "name": "False, wisard",
         "orientation": "v",
         "showlegend": false,
         "type": "scatter",
         "x": [
          1
         ],
         "xaxis": "x8",
         "y": [
          0.9780450131673772
         ],
         "yaxis": "y8"
        },
        {
         "hovertemplate": "pareto=False<br>model=wisard<br>dataset=satimage<br>relative size=%{x}<br>metric=%{y}<extra></extra>",
         "legendgroup": "False, wisard",
         "marker": {
          "color": "#636EFA",
          "size": 7,
          "symbol": "x"
         },
         "mode": "markers",
         "name": "False, wisard",
         "orientation": "v",
         "showlegend": false,
         "type": "scatter",
         "x": [
          0.6690516930290803
         ],
         "xaxis": "x4",
         "y": [
          0.8866629525557234
         ],
         "yaxis": "y4"
        },
        {
         "hovertemplate": "pareto=False<br>model=wisard<br>dataset=segment<br>relative size=%{x}<br>metric=%{y}<extra></extra>",
         "legendgroup": "False, wisard",
         "marker": {
          "color": "#636EFA",
          "size": 7,
          "symbol": "x"
         },
         "mode": "markers",
         "name": "False, wisard",
         "orientation": "v",
         "showlegend": false,
         "type": "scatter",
         "x": [
          0.06808226533400663
         ],
         "xaxis": "x5",
         "y": [
          0.8807118807118807
         ],
         "yaxis": "y5"
        },
        {
         "hovertemplate": "pareto=False<br>model=wisard<br>dataset=yeast<br>relative size=%{x}<br>metric=%{y}<extra></extra>",
         "legendgroup": "False, wisard",
         "marker": {
          "color": "#636EFA",
          "size": 7,
          "symbol": "x"
         },
         "mode": "markers",
         "name": "False, wisard",
         "orientation": "v",
         "showlegend": false,
         "type": "scatter",
         "x": [
          0.044014344028621304
         ],
         "xaxis": "x3",
         "y": [
          0.5700237244955314
         ],
         "yaxis": "y3"
        },
        {
         "hovertemplate": "pareto=True<br>model=knn<br>dataset=glass<br>relative size=%{x}<br>metric=%{y}<extra></extra>",
         "legendgroup": "True, knn",
         "marker": {
          "color": "#EF553B",
          "size": 7,
          "symbol": "circle"
         },
         "mode": "markers",
         "name": "True, knn",
         "orientation": "v",
         "showlegend": false,
         "type": "scatter",
         "x": [
          0.035617194657082504
         ],
         "xaxis": "x15",
         "y": [
          0.7092884420543996
         ],
         "yaxis": "y15"
        },
        {
         "hovertemplate": "pareto=True<br>model=knn<br>dataset=image_segmentation<br>relative size=%{x}<br>metric=%{y}<extra></extra>",
         "legendgroup": "True, knn",
         "marker": {
          "color": "#EF553B",
          "size": 7,
          "symbol": "circle"
         },
         "mode": "markers",
         "name": "True, knn",
         "orientation": "v",
         "showlegend": false,
         "type": "scatter",
         "x": [
          0.05549732110342774
         ],
         "xaxis": "x10",
         "y": [
          0.5476190476190477
         ],
         "yaxis": "y10"
        },
        {
         "hovertemplate": "pareto=True<br>model=knn<br>dataset=letter<br>relative size=%{x}<br>metric=%{y}<extra></extra>",
         "legendgroup": "True, knn",
         "marker": {
          "color": "#EF553B",
          "size": 7,
          "symbol": "circle"
         },
         "mode": "markers",
         "name": "True, knn",
         "orientation": "v",
         "showlegend": false,
         "type": "scatter",
         "x": [
          0.018276885814910156
         ],
         "xaxis": "x12",
         "y": [
          0.9455
         ],
         "yaxis": "y12"
        },
        {
         "hovertemplate": "pareto=True<br>model=knn<br>dataset=wine<br>relative size=%{x}<br>metric=%{y}<extra></extra>",
         "legendgroup": "True, knn",
         "marker": {
          "color": "#EF553B",
          "size": 7,
          "symbol": "circle"
         },
         "mode": "markers",
         "name": "True, knn",
         "orientation": "v",
         "showlegend": false,
         "type": "scatter",
         "x": [
          0.16183839897034466
         ],
         "xaxis": "x2",
         "y": [
          0.6714063714063713
         ],
         "yaxis": "y2"
        },
        {
         "hovertemplate": "pareto=True<br>model=mlp<br>dataset=breast_cancer<br>relative size=%{x}<br>metric=%{y}<extra></extra>",
         "legendgroup": "True, mlp",
         "marker": {
          "color": "#EF553B",
          "size": 7,
          "symbol": "square"
         },
         "mode": "markers",
         "name": "True, mlp",
         "orientation": "v",
         "showlegend": false,
         "type": "scatter",
         "x": [
          0.30060080625233865
         ],
         "xaxis": "x13",
         "y": [
          0.9103013945119208
         ],
         "yaxis": "y13"
        },
        {
         "hovertemplate": "pareto=True<br>model=mlp<br>dataset=dry_bean<br>relative size=%{x}<br>metric=%{y}<extra></extra>",
         "legendgroup": "True, mlp",
         "marker": {
          "color": "#EF553B",
          "size": 7,
          "symbol": "square"
         },
         "mode": "markers",
         "name": "True, mlp",
         "orientation": "v",
         "showlegend": false,
         "type": "scatter",
         "x": [
          0.0044553198522879
         ],
         "xaxis": "x14",
         "y": [
          0.22507061835587583
         ],
         "yaxis": "y14"
        },
        {
         "hovertemplate": "pareto=True<br>model=mlp<br>dataset=image_segmentation<br>relative size=%{x}<br>metric=%{y}<extra></extra>",
         "legendgroup": "True, mlp",
         "marker": {
          "color": "#EF553B",
          "size": 7,
          "symbol": "square"
         },
         "mode": "markers",
         "name": "True, mlp",
         "orientation": "v",
         "showlegend": false,
         "type": "scatter",
         "x": [
          0.147554253607574
         ],
         "xaxis": "x10",
         "y": [
          0.5555555555555555
         ],
         "yaxis": "y10"
        },
        {
         "hovertemplate": "pareto=True<br>model=mlp<br>dataset=letter<br>relative size=%{x}<br>metric=%{y}<extra></extra>",
         "legendgroup": "True, mlp",
         "marker": {
          "color": "#EF553B",
          "size": 7,
          "symbol": "square"
         },
         "mode": "markers",
         "name": "True, mlp",
         "orientation": "v",
         "showlegend": false,
         "type": "scatter",
         "x": [
          0.0010779773253603395
         ],
         "xaxis": "x12",
         "y": [
          0.9205
         ],
         "yaxis": "y12"
        },
        {
         "hovertemplate": "pareto=True<br>model=mlp<br>dataset=motion_sense<br>relative size=%{x}<br>metric=%{y}<extra></extra>",
         "legendgroup": "True, mlp",
         "marker": {
          "color": "#EF553B",
          "size": 7,
          "symbol": "square"
         },
         "mode": "markers",
         "name": "True, mlp",
         "orientation": "v",
         "showlegend": false,
         "type": "scatter",
         "x": [
          0.02673622858738442
         ],
         "xaxis": "x7",
         "y": [
          0.6565359477124183
         ],
         "yaxis": "y7"
        },
        {
         "hovertemplate": "pareto=True<br>model=mlp<br>dataset=optical_handwritten<br>relative size=%{x}<br>metric=%{y}<extra></extra>",
         "legendgroup": "True, mlp",
         "marker": {
          "color": "#EF553B",
          "size": 7,
          "symbol": "square"
         },
         "mode": "markers",
         "name": "True, mlp",
         "orientation": "v",
         "showlegend": false,
         "type": "scatter",
         "x": [
          0.010632168479508104
         ],
         "xaxis": "x8",
         "y": [
          0.981028439293471
         ],
         "yaxis": "y8"
        },
        {
         "hovertemplate": "pareto=True<br>model=mlp<br>dataset=satimage<br>relative size=%{x}<br>metric=%{y}<extra></extra>",
         "legendgroup": "True, mlp",
         "marker": {
          "color": "#EF553B",
          "size": 7,
          "symbol": "square"
         },
         "mode": "markers",
         "name": "True, mlp",
         "orientation": "v",
         "showlegend": false,
         "type": "scatter",
         "x": [
          0.013609793827453389
         ],
         "xaxis": "x4",
         "y": [
          0.9116120122328867
         ],
         "yaxis": "y4"
        },
        {
         "hovertemplate": "pareto=True<br>model=mlp<br>dataset=segment<br>relative size=%{x}<br>metric=%{y}<extra></extra>",
         "legendgroup": "True, mlp",
         "marker": {
          "color": "#EF553B",
          "size": 7,
          "symbol": "square"
         },
         "mode": "markers",
         "name": "True, mlp",
         "orientation": "v",
         "showlegend": false,
         "type": "scatter",
         "x": [
          0.04084792987266759
         ],
         "xaxis": "x5",
         "y": [
          0.9422799422799423
         ],
         "yaxis": "y5"
        },
        {
         "hovertemplate": "pareto=True<br>model=mlp<br>dataset=sepsis<br>relative size=%{x}<br>metric=%{y}<extra></extra>",
         "legendgroup": "True, mlp",
         "marker": {
          "color": "#EF553B",
          "size": 7,
          "symbol": "square"
         },
         "mode": "markers",
         "name": "True, mlp",
         "orientation": "v",
         "showlegend": false,
         "type": "scatter",
         "x": [
          0.001890493377494378
         ],
         "xaxis": "x6",
         "y": [
          0.8908920043310973
         ],
         "yaxis": "y6"
        },
        {
         "hovertemplate": "pareto=True<br>model=mlp<br>dataset=vehicle<br>relative size=%{x}<br>metric=%{y}<extra></extra>",
         "legendgroup": "True, mlp",
         "marker": {
          "color": "#EF553B",
          "size": 7,
          "symbol": "square"
         },
         "mode": "markers",
         "name": "True, mlp",
         "orientation": "v",
         "showlegend": false,
         "type": "scatter",
         "x": [
          0.059569318221503464
         ],
         "xaxis": "x",
         "y": [
          0.8176470588235295
         ],
         "yaxis": "y"
        },
        {
         "hovertemplate": "pareto=True<br>model=mlp<br>dataset=wine<br>relative size=%{x}<br>metric=%{y}<extra></extra>",
         "legendgroup": "True, mlp",
         "marker": {
          "color": "#EF553B",
          "size": 7,
          "symbol": "square"
         },
         "mode": "markers",
         "name": "True, mlp",
         "orientation": "v",
         "showlegend": false,
         "type": "scatter",
         "x": [
          0.2595396090263638
         ],
         "xaxis": "x2",
         "y": [
          0.8883769948810599
         ],
         "yaxis": "y2"
        },
        {
         "hovertemplate": "pareto=True<br>model=mlp<br>dataset=yeast<br>relative size=%{x}<br>metric=%{y}<extra></extra>",
         "legendgroup": "True, mlp",
         "marker": {
          "color": "#EF553B",
          "size": 7,
          "symbol": "square"
         },
         "mode": "markers",
         "name": "True, mlp",
         "orientation": "v",
         "showlegend": false,
         "type": "scatter",
         "x": [
          0.005027548656313477
         ],
         "xaxis": "x3",
         "y": [
          0.5895877432143035
         ],
         "yaxis": "y3"
        },
        {
         "hovertemplate": "pareto=True<br>model=random-forest<br>dataset=breast_cancer<br>relative size=%{x}<br>metric=%{y}<extra></extra>",
         "legendgroup": "True, random-forest",
         "marker": {
          "color": "#EF553B",
          "size": 7,
          "symbol": "diamond"
         },
         "mode": "markers",
         "name": "True, random-forest",
         "orientation": "v",
         "showlegend": false,
         "type": "scatter",
         "x": [
          1
         ],
         "xaxis": "x13",
         "y": [
          0.9708871747643292
         ],
         "yaxis": "y13"
        },
        {
         "hovertemplate": "pareto=True<br>model=random-forest<br>dataset=dry_bean<br>relative size=%{x}<br>metric=%{y}<extra></extra>",
         "legendgroup": "True, random-forest",
         "marker": {
          "color": "#EF553B",
          "size": 7,
          "symbol": "diamond"
         },
         "mode": "markers",
         "name": "True, random-forest",
         "orientation": "v",
         "showlegend": false,
         "type": "scatter",
         "x": [
          1
         ],
         "xaxis": "x14",
         "y": [
          0.9198474773426017
         ],
         "yaxis": "y14"
        },
        {
         "hovertemplate": "pareto=True<br>model=random-forest<br>dataset=letter<br>relative size=%{x}<br>metric=%{y}<extra></extra>",
         "legendgroup": "True, random-forest",
         "marker": {
          "color": "#EF553B",
          "size": 7,
          "symbol": "diamond"
         },
         "mode": "markers",
         "name": "True, random-forest",
         "orientation": "v",
         "showlegend": false,
         "type": "scatter",
         "x": [
          1
         ],
         "xaxis": "x12",
         "y": [
          0.9607222222222221
         ],
         "yaxis": "y12"
        },
        {
         "hovertemplate": "pareto=True<br>model=random-forest<br>dataset=motion_sense<br>relative size=%{x}<br>metric=%{y}<extra></extra>",
         "legendgroup": "True, random-forest",
         "marker": {
          "color": "#EF553B",
          "size": 7,
          "symbol": "diamond"
         },
         "mode": "markers",
         "name": "True, random-forest",
         "orientation": "v",
         "showlegend": false,
         "type": "scatter",
         "x": [
          0.28379055207466697
         ],
         "xaxis": "x7",
         "y": [
          0.8078431372549019
         ],
         "yaxis": "y7"
        },
        {
         "hovertemplate": "pareto=True<br>model=random-forest<br>dataset=rice<br>relative size=%{x}<br>metric=%{y}<extra></extra>",
         "legendgroup": "True, random-forest",
         "marker": {
          "color": "#EF553B",
          "size": 7,
          "symbol": "diamond"
         },
         "mode": "markers",
         "name": "True, random-forest",
         "orientation": "v",
         "showlegend": false,
         "type": "scatter",
         "x": [
          1
         ],
         "xaxis": "x9",
         "y": [
          0.9152644340920002
         ],
         "yaxis": "y9"
        },
        {
         "hovertemplate": "pareto=True<br>model=random-forest<br>dataset=segment<br>relative size=%{x}<br>metric=%{y}<extra></extra>",
         "legendgroup": "True, random-forest",
         "marker": {
          "color": "#EF553B",
          "size": 7,
          "symbol": "diamond"
         },
         "mode": "markers",
         "name": "True, random-forest",
         "orientation": "v",
         "showlegend": false,
         "type": "scatter",
         "x": [
          1
         ],
         "xaxis": "x5",
         "y": [
          0.9716209716209715
         ],
         "yaxis": "y5"
        },
        {
         "hovertemplate": "pareto=True<br>model=random-forest<br>dataset=vehicle<br>relative size=%{x}<br>metric=%{y}<extra></extra>",
         "legendgroup": "True, random-forest",
         "marker": {
          "color": "#EF553B",
          "size": 7,
          "symbol": "diamond"
         },
         "mode": "markers",
         "name": "True, random-forest",
         "orientation": "v",
         "showlegend": false,
         "type": "scatter",
         "x": [
          1
         ],
         "xaxis": "x",
         "y": [
          0.9686274509803922
         ],
         "yaxis": "y"
        },
        {
         "hovertemplate": "pareto=True<br>model=random-forest<br>dataset=wine<br>relative size=%{x}<br>metric=%{y}<extra></extra>",
         "legendgroup": "True, random-forest",
         "marker": {
          "color": "#EF553B",
          "size": 7,
          "symbol": "diamond"
         },
         "mode": "markers",
         "name": "True, random-forest",
         "orientation": "v",
         "showlegend": false,
         "type": "scatter",
         "x": [
          1
         ],
         "xaxis": "x2",
         "y": [
          0.9815543316723488
         ],
         "yaxis": "y2"
        },
        {
         "hovertemplate": "pareto=True<br>model=random-forest<br>dataset=yeast<br>relative size=%{x}<br>metric=%{y}<extra></extra>",
         "legendgroup": "True, random-forest",
         "marker": {
          "color": "#EF553B",
          "size": 7,
          "symbol": "diamond"
         },
         "mode": "markers",
         "name": "True, random-forest",
         "orientation": "v",
         "showlegend": false,
         "type": "scatter",
         "x": [
          1
         ],
         "xaxis": "x3",
         "y": [
          0.6207256954912499
         ],
         "yaxis": "y3"
        },
        {
         "hovertemplate": "pareto=True<br>model=svm<br>dataset=breast_cancer<br>relative size=%{x}<br>metric=%{y}<extra></extra>",
         "legendgroup": "True, svm",
         "marker": {
          "color": "#EF553B",
          "size": 7,
          "symbol": "cross"
         },
         "mode": "markers",
         "name": "True, svm",
         "orientation": "v",
         "showlegend": false,
         "type": "scatter",
         "x": [
          0.09611135036676716
         ],
         "xaxis": "x13",
         "y": [
          0.8730641381054367
         ],
         "yaxis": "y13"
        },
        {
         "hovertemplate": "pareto=True<br>model=svm<br>dataset=glass<br>relative size=%{x}<br>metric=%{y}<extra></extra>",
         "legendgroup": "True, svm",
         "marker": {
          "color": "#EF553B",
          "size": 7,
          "symbol": "cross"
         },
         "mode": "markers",
         "name": "True, svm",
         "orientation": "v",
         "showlegend": false,
         "type": "scatter",
         "x": [
          0.025489954627691318
         ],
         "xaxis": "x15",
         "y": [
          0.1849650349650349
         ],
         "yaxis": "y15"
        },
        {
         "hovertemplate": "pareto=True<br>model=svm<br>dataset=optical_handwritten<br>relative size=%{x}<br>metric=%{y}<extra></extra>",
         "legendgroup": "True, svm",
         "marker": {
          "color": "#EF553B",
          "size": 7,
          "symbol": "cross"
         },
         "mode": "markers",
         "name": "True, svm",
         "orientation": "v",
         "showlegend": false,
         "type": "scatter",
         "x": [
          0.04168392176806305
         ],
         "xaxis": "x8",
         "y": [
          0.9919918925110768
         ],
         "yaxis": "y8"
        },
        {
         "hovertemplate": "pareto=True<br>model=svm<br>dataset=wine<br>relative size=%{x}<br>metric=%{y}<extra></extra>",
         "legendgroup": "True, svm",
         "marker": {
          "color": "#EF553B",
          "size": 7,
          "symbol": "cross"
         },
         "mode": "markers",
         "name": "True, svm",
         "orientation": "v",
         "showlegend": false,
         "type": "scatter",
         "x": [
          0.05959024781356487
         ],
         "xaxis": "x2",
         "y": [
          0.6486013986013985
         ],
         "yaxis": "y2"
        },
        {
         "hovertemplate": "pareto=True<br>model=svm<br>dataset=yeast<br>relative size=%{x}<br>metric=%{y}<extra></extra>",
         "legendgroup": "True, svm",
         "marker": {
          "color": "#EF553B",
          "size": 7,
          "symbol": "cross"
         },
         "mode": "markers",
         "name": "True, svm",
         "orientation": "v",
         "showlegend": false,
         "type": "scatter",
         "x": [
          0.013020228306649966
         ],
         "xaxis": "x3",
         "y": [
          0.5992100016133695
         ],
         "yaxis": "y3"
        },
        {
         "hovertemplate": "pareto=True<br>model=wisard<br>dataset=breast_cancer<br>relative size=%{x}<br>metric=%{y}<extra></extra>",
         "legendgroup": "True, wisard",
         "marker": {
          "color": "#EF553B",
          "size": 7,
          "symbol": "x"
         },
         "mode": "markers",
         "name": "True, wisard",
         "orientation": "v",
         "showlegend": false,
         "type": "scatter",
         "x": [
          0.3350700940627729
         ],
         "xaxis": "x13",
         "y": [
          0.9628161882204516
         ],
         "yaxis": "y13"
        },
        {
         "hovertemplate": "pareto=True<br>model=wisard<br>dataset=dry_bean<br>relative size=%{x}<br>metric=%{y}<extra></extra>",
         "legendgroup": "True, wisard",
         "marker": {
          "color": "#EF553B",
          "size": 7,
          "symbol": "x"
         },
         "mode": "markers",
         "name": "True, wisard",
         "orientation": "v",
         "showlegend": false,
         "type": "scatter",
         "x": [
          0.032842065342091414
         ],
         "xaxis": "x14",
         "y": [
          0.9024029619050484
         ],
         "yaxis": "y14"
        },
        {
         "hovertemplate": "pareto=True<br>model=wisard<br>dataset=image_segmentation<br>relative size=%{x}<br>metric=%{y}<extra></extra>",
         "legendgroup": "True, wisard",
         "marker": {
          "color": "#EF553B",
          "size": 7,
          "symbol": "x"
         },
         "mode": "markers",
         "name": "True, wisard",
         "orientation": "v",
         "showlegend": false,
         "type": "scatter",
         "x": [
          0.39216510774938484
         ],
         "xaxis": "x10",
         "y": [
          0.8571428571428572
         ],
         "yaxis": "y10"
        },
        {
         "hovertemplate": "pareto=True<br>model=wisard<br>dataset=iris<br>relative size=%{x}<br>metric=%{y}<extra></extra>",
         "legendgroup": "True, wisard",
         "marker": {
          "color": "#EF553B",
          "size": 7,
          "symbol": "x"
         },
         "mode": "markers",
         "name": "True, wisard",
         "orientation": "v",
         "showlegend": false,
         "type": "scatter",
         "x": [
          0.010209320842045734
         ],
         "xaxis": "x11",
         "y": [
          1
         ],
         "yaxis": "y11"
        },
        {
         "hovertemplate": "pareto=True<br>model=wisard<br>dataset=rice<br>relative size=%{x}<br>metric=%{y}<extra></extra>",
         "legendgroup": "True, wisard",
         "marker": {
          "color": "#EF553B",
          "size": 7,
          "symbol": "x"
         },
         "mode": "markers",
         "name": "True, wisard",
         "orientation": "v",
         "showlegend": false,
         "type": "scatter",
         "x": [
          0.0005195231959960808
         ],
         "xaxis": "x9",
         "y": [
          0.8994465342855008
         ],
         "yaxis": "y9"
        },
        {
         "hovertemplate": "pareto=True<br>model=wisard<br>dataset=sepsis<br>relative size=%{x}<br>metric=%{y}<extra></extra>",
         "legendgroup": "True, wisard",
         "marker": {
          "color": "#EF553B",
          "size": 7,
          "symbol": "x"
         },
         "mode": "markers",
         "name": "True, wisard",
         "orientation": "v",
         "showlegend": false,
         "type": "scatter",
         "x": [
          0.0037836284924594905
         ],
         "xaxis": "x6",
         "y": [
          0.8915753747755484
         ],
         "yaxis": "y6"
        },
        {
         "hovertemplate": "pareto=True<br>model=wisard<br>dataset=vehicle<br>relative size=%{x}<br>metric=%{y}<extra></extra>",
         "legendgroup": "True, wisard",
         "marker": {
          "color": "#EF553B",
          "size": 7,
          "symbol": "x"
         },
         "mode": "markers",
         "name": "True, wisard",
         "orientation": "v",
         "showlegend": false,
         "type": "scatter",
         "x": [
          0.3004251881143435
         ],
         "xaxis": "x",
         "y": [
          0.8941176470588235
         ],
         "yaxis": "y"
        },
        {
         "hovertemplate": "pareto=True<br>model=wisard<br>dataset=wine<br>relative size=%{x}<br>metric=%{y}<extra></extra>",
         "legendgroup": "True, wisard",
         "marker": {
          "color": "#EF553B",
          "size": 7,
          "symbol": "x"
         },
         "mode": "markers",
         "name": "True, wisard",
         "orientation": "v",
         "showlegend": false,
         "type": "scatter",
         "x": [
          0.4097170206106897
         ],
         "xaxis": "x2",
         "y": [
          0.962856206024315
         ],
         "yaxis": "y2"
        },
        {
         "marker": {
          "color": "#636EFA",
          "size": 12,
          "symbol": "circle"
         },
         "mode": "markers",
         "name": "KNN",
         "type": "scatter",
         "x": [
          null
         ],
         "y": [
          null
         ]
        },
        {
         "marker": {
          "color": "#636EFA",
          "size": 12,
          "symbol": "square"
         },
         "mode": "markers",
         "name": "MLP",
         "type": "scatter",
         "x": [
          null
         ],
         "y": [
          null
         ]
        },
        {
         "marker": {
          "color": "#636EFA",
          "size": 12,
          "symbol": "diamond"
         },
         "mode": "markers",
         "name": "Random Forest",
         "type": "scatter",
         "x": [
          null
         ],
         "y": [
          null
         ]
        },
        {
         "marker": {
          "color": "#636EFA",
          "size": 12,
          "symbol": "cross"
         },
         "mode": "markers",
         "name": "SVM",
         "type": "scatter",
         "x": [
          null
         ],
         "y": [
          null
         ]
        },
        {
         "marker": {
          "color": "#636EFA",
          "size": 12,
          "symbol": "x"
         },
         "mode": "markers",
         "name": "Wisard",
         "type": "scatter",
         "x": [
          null
         ],
         "y": [
          null
         ]
        }
       ],
       "layout": {
        "annotations": [
         {
          "font": {},
          "showarrow": false,
          "text": "vehicle",
          "x": 0.15999999999999998,
          "xanchor": "center",
          "xref": "paper",
          "y": 0.17600000000000002,
          "yanchor": "bottom",
          "yref": "paper"
         },
         {
          "font": {},
          "showarrow": false,
          "text": "wine",
          "x": 0.49999999999999994,
          "xanchor": "center",
          "xref": "paper",
          "y": 0.17600000000000002,
          "yanchor": "bottom",
          "yref": "paper"
         },
         {
          "font": {},
          "showarrow": false,
          "text": "yeast",
          "x": 0.8399999999999999,
          "xanchor": "center",
          "xref": "paper",
          "y": 0.17600000000000002,
          "yanchor": "bottom",
          "yref": "paper"
         },
         {
          "font": {},
          "showarrow": false,
          "text": "satimage",
          "x": 0.15999999999999998,
          "xanchor": "center",
          "xref": "paper",
          "y": 0.382,
          "yanchor": "bottom",
          "yref": "paper"
         },
         {
          "font": {},
          "showarrow": false,
          "text": "segment",
          "x": 0.49999999999999994,
          "xanchor": "center",
          "xref": "paper",
          "y": 0.382,
          "yanchor": "bottom",
          "yref": "paper"
         },
         {
          "font": {},
          "showarrow": false,
          "text": "sepsis",
          "x": 0.8399999999999999,
          "xanchor": "center",
          "xref": "paper",
          "y": 0.382,
          "yanchor": "bottom",
          "yref": "paper"
         },
         {
          "font": {},
          "showarrow": false,
          "text": "motion sense",
          "x": 0.15999999999999998,
          "xanchor": "center",
          "xref": "paper",
          "y": 0.5880000000000001,
          "yanchor": "bottom",
          "yref": "paper"
         },
         {
          "font": {},
          "showarrow": false,
          "text": "optical handwritten",
          "x": 0.49999999999999994,
          "xanchor": "center",
          "xref": "paper",
          "y": 0.5880000000000001,
          "yanchor": "bottom",
          "yref": "paper"
         },
         {
          "font": {},
          "showarrow": false,
          "text": "rice",
          "x": 0.8399999999999999,
          "xanchor": "center",
          "xref": "paper",
          "y": 0.5880000000000001,
          "yanchor": "bottom",
          "yref": "paper"
         },
         {
          "font": {},
          "showarrow": false,
          "text": "image segmentation",
          "x": 0.15999999999999998,
          "xanchor": "center",
          "xref": "paper",
          "y": 0.794,
          "yanchor": "bottom",
          "yref": "paper"
         },
         {
          "font": {},
          "showarrow": false,
          "text": "iris",
          "x": 0.49999999999999994,
          "xanchor": "center",
          "xref": "paper",
          "y": 0.794,
          "yanchor": "bottom",
          "yref": "paper"
         },
         {
          "font": {},
          "showarrow": false,
          "text": "letter",
          "x": 0.8399999999999999,
          "xanchor": "center",
          "xref": "paper",
          "y": 0.794,
          "yanchor": "bottom",
          "yref": "paper"
         },
         {
          "font": {},
          "showarrow": false,
          "text": "breast cancer",
          "x": 0.15999999999999998,
          "xanchor": "center",
          "xref": "paper",
          "y": 1,
          "yanchor": "bottom",
          "yref": "paper"
         },
         {
          "font": {},
          "showarrow": false,
          "text": "dry bean",
          "x": 0.49999999999999994,
          "xanchor": "center",
          "xref": "paper",
          "y": 1,
          "yanchor": "bottom",
          "yref": "paper"
         },
         {
          "font": {},
          "showarrow": false,
          "text": "glass",
          "x": 0.8399999999999999,
          "xanchor": "center",
          "xref": "paper",
          "y": 1,
          "yanchor": "bottom",
          "yref": "paper"
         }
        ],
        "font": {
         "family": "Times New Roman",
         "size": 14
        },
        "height": 1000,
        "legend": {
         "orientation": "h",
         "title": {
          "text": ""
         },
         "tracegroupgap": 0,
         "traceorder": "normal",
         "x": 0.5,
         "xanchor": "center",
         "y": 1.07,
         "yanchor": "top"
        },
        "margin": {
         "b": 10,
         "l": 10,
         "r": 10,
         "t": 10
        },
        "template": {
         "data": {
          "bar": [
           {
            "error_x": {
             "color": "#2a3f5f"
            },
            "error_y": {
             "color": "#2a3f5f"
            },
            "marker": {
             "line": {
              "color": "#E5ECF6",
              "width": 0.5
             },
             "pattern": {
              "fillmode": "overlay",
              "size": 10,
              "solidity": 0.2
             }
            },
            "type": "bar"
           }
          ],
          "barpolar": [
           {
            "marker": {
             "line": {
              "color": "#E5ECF6",
              "width": 0.5
             },
             "pattern": {
              "fillmode": "overlay",
              "size": 10,
              "solidity": 0.2
             }
            },
            "type": "barpolar"
           }
          ],
          "carpet": [
           {
            "aaxis": {
             "endlinecolor": "#2a3f5f",
             "gridcolor": "white",
             "linecolor": "white",
             "minorgridcolor": "white",
             "startlinecolor": "#2a3f5f"
            },
            "baxis": {
             "endlinecolor": "#2a3f5f",
             "gridcolor": "white",
             "linecolor": "white",
             "minorgridcolor": "white",
             "startlinecolor": "#2a3f5f"
            },
            "type": "carpet"
           }
          ],
          "choropleth": [
           {
            "colorbar": {
             "outlinewidth": 0,
             "ticks": ""
            },
            "type": "choropleth"
           }
          ],
          "contour": [
           {
            "colorbar": {
             "outlinewidth": 0,
             "ticks": ""
            },
            "colorscale": [
             [
              0,
              "#0d0887"
             ],
             [
              0.1111111111111111,
              "#46039f"
             ],
             [
              0.2222222222222222,
              "#7201a8"
             ],
             [
              0.3333333333333333,
              "#9c179e"
             ],
             [
              0.4444444444444444,
              "#bd3786"
             ],
             [
              0.5555555555555556,
              "#d8576b"
             ],
             [
              0.6666666666666666,
              "#ed7953"
             ],
             [
              0.7777777777777778,
              "#fb9f3a"
             ],
             [
              0.8888888888888888,
              "#fdca26"
             ],
             [
              1,
              "#f0f921"
             ]
            ],
            "type": "contour"
           }
          ],
          "contourcarpet": [
           {
            "colorbar": {
             "outlinewidth": 0,
             "ticks": ""
            },
            "type": "contourcarpet"
           }
          ],
          "heatmap": [
           {
            "colorbar": {
             "outlinewidth": 0,
             "ticks": ""
            },
            "colorscale": [
             [
              0,
              "#0d0887"
             ],
             [
              0.1111111111111111,
              "#46039f"
             ],
             [
              0.2222222222222222,
              "#7201a8"
             ],
             [
              0.3333333333333333,
              "#9c179e"
             ],
             [
              0.4444444444444444,
              "#bd3786"
             ],
             [
              0.5555555555555556,
              "#d8576b"
             ],
             [
              0.6666666666666666,
              "#ed7953"
             ],
             [
              0.7777777777777778,
              "#fb9f3a"
             ],
             [
              0.8888888888888888,
              "#fdca26"
             ],
             [
              1,
              "#f0f921"
             ]
            ],
            "type": "heatmap"
           }
          ],
          "heatmapgl": [
           {
            "colorbar": {
             "outlinewidth": 0,
             "ticks": ""
            },
            "colorscale": [
             [
              0,
              "#0d0887"
             ],
             [
              0.1111111111111111,
              "#46039f"
             ],
             [
              0.2222222222222222,
              "#7201a8"
             ],
             [
              0.3333333333333333,
              "#9c179e"
             ],
             [
              0.4444444444444444,
              "#bd3786"
             ],
             [
              0.5555555555555556,
              "#d8576b"
             ],
             [
              0.6666666666666666,
              "#ed7953"
             ],
             [
              0.7777777777777778,
              "#fb9f3a"
             ],
             [
              0.8888888888888888,
              "#fdca26"
             ],
             [
              1,
              "#f0f921"
             ]
            ],
            "type": "heatmapgl"
           }
          ],
          "histogram": [
           {
            "marker": {
             "pattern": {
              "fillmode": "overlay",
              "size": 10,
              "solidity": 0.2
             }
            },
            "type": "histogram"
           }
          ],
          "histogram2d": [
           {
            "colorbar": {
             "outlinewidth": 0,
             "ticks": ""
            },
            "colorscale": [
             [
              0,
              "#0d0887"
             ],
             [
              0.1111111111111111,
              "#46039f"
             ],
             [
              0.2222222222222222,
              "#7201a8"
             ],
             [
              0.3333333333333333,
              "#9c179e"
             ],
             [
              0.4444444444444444,
              "#bd3786"
             ],
             [
              0.5555555555555556,
              "#d8576b"
             ],
             [
              0.6666666666666666,
              "#ed7953"
             ],
             [
              0.7777777777777778,
              "#fb9f3a"
             ],
             [
              0.8888888888888888,
              "#fdca26"
             ],
             [
              1,
              "#f0f921"
             ]
            ],
            "type": "histogram2d"
           }
          ],
          "histogram2dcontour": [
           {
            "colorbar": {
             "outlinewidth": 0,
             "ticks": ""
            },
            "colorscale": [
             [
              0,
              "#0d0887"
             ],
             [
              0.1111111111111111,
              "#46039f"
             ],
             [
              0.2222222222222222,
              "#7201a8"
             ],
             [
              0.3333333333333333,
              "#9c179e"
             ],
             [
              0.4444444444444444,
              "#bd3786"
             ],
             [
              0.5555555555555556,
              "#d8576b"
             ],
             [
              0.6666666666666666,
              "#ed7953"
             ],
             [
              0.7777777777777778,
              "#fb9f3a"
             ],
             [
              0.8888888888888888,
              "#fdca26"
             ],
             [
              1,
              "#f0f921"
             ]
            ],
            "type": "histogram2dcontour"
           }
          ],
          "mesh3d": [
           {
            "colorbar": {
             "outlinewidth": 0,
             "ticks": ""
            },
            "type": "mesh3d"
           }
          ],
          "parcoords": [
           {
            "line": {
             "colorbar": {
              "outlinewidth": 0,
              "ticks": ""
             }
            },
            "type": "parcoords"
           }
          ],
          "pie": [
           {
            "automargin": true,
            "type": "pie"
           }
          ],
          "scatter": [
           {
            "fillpattern": {
             "fillmode": "overlay",
             "size": 10,
             "solidity": 0.2
            },
            "type": "scatter"
           }
          ],
          "scatter3d": [
           {
            "line": {
             "colorbar": {
              "outlinewidth": 0,
              "ticks": ""
             }
            },
            "marker": {
             "colorbar": {
              "outlinewidth": 0,
              "ticks": ""
             }
            },
            "type": "scatter3d"
           }
          ],
          "scattercarpet": [
           {
            "marker": {
             "colorbar": {
              "outlinewidth": 0,
              "ticks": ""
             }
            },
            "type": "scattercarpet"
           }
          ],
          "scattergeo": [
           {
            "marker": {
             "colorbar": {
              "outlinewidth": 0,
              "ticks": ""
             }
            },
            "type": "scattergeo"
           }
          ],
          "scattergl": [
           {
            "marker": {
             "colorbar": {
              "outlinewidth": 0,
              "ticks": ""
             }
            },
            "type": "scattergl"
           }
          ],
          "scattermapbox": [
           {
            "marker": {
             "colorbar": {
              "outlinewidth": 0,
              "ticks": ""
             }
            },
            "type": "scattermapbox"
           }
          ],
          "scatterpolar": [
           {
            "marker": {
             "colorbar": {
              "outlinewidth": 0,
              "ticks": ""
             }
            },
            "type": "scatterpolar"
           }
          ],
          "scatterpolargl": [
           {
            "marker": {
             "colorbar": {
              "outlinewidth": 0,
              "ticks": ""
             }
            },
            "type": "scatterpolargl"
           }
          ],
          "scatterternary": [
           {
            "marker": {
             "colorbar": {
              "outlinewidth": 0,
              "ticks": ""
             }
            },
            "type": "scatterternary"
           }
          ],
          "surface": [
           {
            "colorbar": {
             "outlinewidth": 0,
             "ticks": ""
            },
            "colorscale": [
             [
              0,
              "#0d0887"
             ],
             [
              0.1111111111111111,
              "#46039f"
             ],
             [
              0.2222222222222222,
              "#7201a8"
             ],
             [
              0.3333333333333333,
              "#9c179e"
             ],
             [
              0.4444444444444444,
              "#bd3786"
             ],
             [
              0.5555555555555556,
              "#d8576b"
             ],
             [
              0.6666666666666666,
              "#ed7953"
             ],
             [
              0.7777777777777778,
              "#fb9f3a"
             ],
             [
              0.8888888888888888,
              "#fdca26"
             ],
             [
              1,
              "#f0f921"
             ]
            ],
            "type": "surface"
           }
          ],
          "table": [
           {
            "cells": {
             "fill": {
              "color": "#EBF0F8"
             },
             "line": {
              "color": "white"
             }
            },
            "header": {
             "fill": {
              "color": "#C8D4E3"
             },
             "line": {
              "color": "white"
             }
            },
            "type": "table"
           }
          ]
         },
         "layout": {
          "annotationdefaults": {
           "arrowcolor": "#2a3f5f",
           "arrowhead": 0,
           "arrowwidth": 1
          },
          "autotypenumbers": "strict",
          "coloraxis": {
           "colorbar": {
            "outlinewidth": 0,
            "ticks": ""
           }
          },
          "colorscale": {
           "diverging": [
            [
             0,
             "#8e0152"
            ],
            [
             0.1,
             "#c51b7d"
            ],
            [
             0.2,
             "#de77ae"
            ],
            [
             0.3,
             "#f1b6da"
            ],
            [
             0.4,
             "#fde0ef"
            ],
            [
             0.5,
             "#f7f7f7"
            ],
            [
             0.6,
             "#e6f5d0"
            ],
            [
             0.7,
             "#b8e186"
            ],
            [
             0.8,
             "#7fbc41"
            ],
            [
             0.9,
             "#4d9221"
            ],
            [
             1,
             "#276419"
            ]
           ],
           "sequential": [
            [
             0,
             "#0d0887"
            ],
            [
             0.1111111111111111,
             "#46039f"
            ],
            [
             0.2222222222222222,
             "#7201a8"
            ],
            [
             0.3333333333333333,
             "#9c179e"
            ],
            [
             0.4444444444444444,
             "#bd3786"
            ],
            [
             0.5555555555555556,
             "#d8576b"
            ],
            [
             0.6666666666666666,
             "#ed7953"
            ],
            [
             0.7777777777777778,
             "#fb9f3a"
            ],
            [
             0.8888888888888888,
             "#fdca26"
            ],
            [
             1,
             "#f0f921"
            ]
           ],
           "sequentialminus": [
            [
             0,
             "#0d0887"
            ],
            [
             0.1111111111111111,
             "#46039f"
            ],
            [
             0.2222222222222222,
             "#7201a8"
            ],
            [
             0.3333333333333333,
             "#9c179e"
            ],
            [
             0.4444444444444444,
             "#bd3786"
            ],
            [
             0.5555555555555556,
             "#d8576b"
            ],
            [
             0.6666666666666666,
             "#ed7953"
            ],
            [
             0.7777777777777778,
             "#fb9f3a"
            ],
            [
             0.8888888888888888,
             "#fdca26"
            ],
            [
             1,
             "#f0f921"
            ]
           ]
          },
          "colorway": [
           "#636efa",
           "#EF553B",
           "#00cc96",
           "#ab63fa",
           "#FFA15A",
           "#19d3f3",
           "#FF6692",
           "#B6E880",
           "#FF97FF",
           "#FECB52"
          ],
          "font": {
           "color": "#2a3f5f"
          },
          "geo": {
           "bgcolor": "white",
           "lakecolor": "white",
           "landcolor": "#E5ECF6",
           "showlakes": true,
           "showland": true,
           "subunitcolor": "white"
          },
          "hoverlabel": {
           "align": "left"
          },
          "hovermode": "closest",
          "mapbox": {
           "style": "light"
          },
          "paper_bgcolor": "white",
          "plot_bgcolor": "#E5ECF6",
          "polar": {
           "angularaxis": {
            "gridcolor": "white",
            "linecolor": "white",
            "ticks": ""
           },
           "bgcolor": "#E5ECF6",
           "radialaxis": {
            "gridcolor": "white",
            "linecolor": "white",
            "ticks": ""
           }
          },
          "scene": {
           "xaxis": {
            "backgroundcolor": "#E5ECF6",
            "gridcolor": "white",
            "gridwidth": 2,
            "linecolor": "white",
            "showbackground": true,
            "ticks": "",
            "zerolinecolor": "white"
           },
           "yaxis": {
            "backgroundcolor": "#E5ECF6",
            "gridcolor": "white",
            "gridwidth": 2,
            "linecolor": "white",
            "showbackground": true,
            "ticks": "",
            "zerolinecolor": "white"
           },
           "zaxis": {
            "backgroundcolor": "#E5ECF6",
            "gridcolor": "white",
            "gridwidth": 2,
            "linecolor": "white",
            "showbackground": true,
            "ticks": "",
            "zerolinecolor": "white"
           }
          },
          "shapedefaults": {
           "line": {
            "color": "#2a3f5f"
           }
          },
          "ternary": {
           "aaxis": {
            "gridcolor": "white",
            "linecolor": "white",
            "ticks": ""
           },
           "baxis": {
            "gridcolor": "white",
            "linecolor": "white",
            "ticks": ""
           },
           "bgcolor": "#E5ECF6",
           "caxis": {
            "gridcolor": "white",
            "linecolor": "white",
            "ticks": ""
           }
          },
          "title": {
           "x": 0.05
          },
          "xaxis": {
           "automargin": true,
           "gridcolor": "white",
           "linecolor": "white",
           "ticks": "",
           "title": {
            "standoff": 15
           },
           "zerolinecolor": "white",
           "zerolinewidth": 2
          },
          "yaxis": {
           "automargin": true,
           "gridcolor": "white",
           "linecolor": "white",
           "ticks": "",
           "title": {
            "standoff": 15
           },
           "zerolinecolor": "white",
           "zerolinewidth": 2
          }
         }
        },
        "width": 900,
        "xaxis": {
         "anchor": "y",
         "domain": [
          0,
          0.31999999999999995
         ],
         "title": {
          "text": "relative size"
         }
        },
        "xaxis10": {
         "anchor": "y10",
         "domain": [
          0,
          0.31999999999999995
         ],
         "matches": "x",
         "showticklabels": false
        },
        "xaxis11": {
         "anchor": "y11",
         "domain": [
          0.33999999999999997,
          0.6599999999999999
         ],
         "matches": "x",
         "showticklabels": false
        },
        "xaxis12": {
         "anchor": "y12",
         "domain": [
          0.6799999999999999,
          0.9999999999999999
         ],
         "matches": "x",
         "showticklabels": false
        },
        "xaxis13": {
         "anchor": "y13",
         "domain": [
          0,
          0.31999999999999995
         ],
         "matches": "x",
         "showticklabels": false
        },
        "xaxis14": {
         "anchor": "y14",
         "domain": [
          0.33999999999999997,
          0.6599999999999999
         ],
         "matches": "x",
         "showticklabels": false
        },
        "xaxis15": {
         "anchor": "y15",
         "domain": [
          0.6799999999999999,
          0.9999999999999999
         ],
         "matches": "x",
         "showticklabels": false
        },
        "xaxis2": {
         "anchor": "y2",
         "domain": [
          0.33999999999999997,
          0.6599999999999999
         ],
         "matches": "x",
         "title": {
          "text": "relative size"
         }
        },
        "xaxis3": {
         "anchor": "y3",
         "domain": [
          0.6799999999999999,
          0.9999999999999999
         ],
         "matches": "x",
         "title": {
          "text": "relative size"
         }
        },
        "xaxis4": {
         "anchor": "y4",
         "domain": [
          0,
          0.31999999999999995
         ],
         "matches": "x",
         "showticklabels": false
        },
        "xaxis5": {
         "anchor": "y5",
         "domain": [
          0.33999999999999997,
          0.6599999999999999
         ],
         "matches": "x",
         "showticklabels": false
        },
        "xaxis6": {
         "anchor": "y6",
         "domain": [
          0.6799999999999999,
          0.9999999999999999
         ],
         "matches": "x",
         "showticklabels": false
        },
        "xaxis7": {
         "anchor": "y7",
         "domain": [
          0,
          0.31999999999999995
         ],
         "matches": "x",
         "showticklabels": false
        },
        "xaxis8": {
         "anchor": "y8",
         "domain": [
          0.33999999999999997,
          0.6599999999999999
         ],
         "matches": "x",
         "showticklabels": false
        },
        "xaxis9": {
         "anchor": "y9",
         "domain": [
          0.6799999999999999,
          0.9999999999999999
         ],
         "matches": "x",
         "showticklabels": false
        },
        "yaxis": {
         "anchor": "x",
         "domain": [
          0,
          0.17600000000000002
         ],
         "title": {
          "text": "metric"
         }
        },
        "yaxis10": {
         "anchor": "x10",
         "domain": [
          0.618,
          0.794
         ],
         "matches": "y",
         "title": {
          "text": "metric"
         }
        },
        "yaxis11": {
         "anchor": "x11",
         "domain": [
          0.618,
          0.794
         ],
         "matches": "y",
         "showticklabels": false
        },
        "yaxis12": {
         "anchor": "x12",
         "domain": [
          0.618,
          0.794
         ],
         "matches": "y",
         "showticklabels": false
        },
        "yaxis13": {
         "anchor": "x13",
         "domain": [
          0.8240000000000001,
          1
         ],
         "matches": "y",
         "title": {
          "text": "metric"
         }
        },
        "yaxis14": {
         "anchor": "x14",
         "domain": [
          0.8240000000000001,
          1
         ],
         "matches": "y",
         "showticklabels": false
        },
        "yaxis15": {
         "anchor": "x15",
         "domain": [
          0.8240000000000001,
          1
         ],
         "matches": "y",
         "showticklabels": false
        },
        "yaxis2": {
         "anchor": "x2",
         "domain": [
          0,
          0.17600000000000002
         ],
         "matches": "y",
         "showticklabels": false
        },
        "yaxis3": {
         "anchor": "x3",
         "domain": [
          0,
          0.17600000000000002
         ],
         "matches": "y",
         "showticklabels": false
        },
        "yaxis4": {
         "anchor": "x4",
         "domain": [
          0.20600000000000002,
          0.382
         ],
         "matches": "y",
         "title": {
          "text": "metric"
         }
        },
        "yaxis5": {
         "anchor": "x5",
         "domain": [
          0.20600000000000002,
          0.382
         ],
         "matches": "y",
         "showticklabels": false
        },
        "yaxis6": {
         "anchor": "x6",
         "domain": [
          0.20600000000000002,
          0.382
         ],
         "matches": "y",
         "showticklabels": false
        },
        "yaxis7": {
         "anchor": "x7",
         "domain": [
          0.41200000000000003,
          0.5880000000000001
         ],
         "matches": "y",
         "title": {
          "text": "metric"
         }
        },
        "yaxis8": {
         "anchor": "x8",
         "domain": [
          0.41200000000000003,
          0.5880000000000001
         ],
         "matches": "y",
         "showticklabels": false
        },
        "yaxis9": {
         "anchor": "x9",
         "domain": [
          0.41200000000000003,
          0.5880000000000001
         ],
         "matches": "y",
         "showticklabels": false
        }
       }
      }
     },
     "metadata": {},
     "output_type": "display_data"
    }
   ],
   "source": [
    "import plotly.express as px\n",
    "import plotly.graph_objects as go\n",
    "\n",
    "# Assuming 'data' is our DataFrame\n",
    "data = result_df.copy()\n",
    "\n",
    "# Define marker symbols for each model\n",
    "marker_symbols = {\n",
    "    \"knn\": \"circle\",\n",
    "    \"mlp\": \"square\",\n",
    "    \"random-forest\": \"diamond\",\n",
    "    \"svm\": \"cross\",\n",
    "    \"wisard\": \"x\",\n",
    "}\n",
    "\n",
    "# Define model names for legend\n",
    "model_names = {\n",
    "    \"knn\": \"KNN\",\n",
    "    \"mlp\": \"MLP\",\n",
    "    \"random-forest\": \"Random Forest\",\n",
    "    \"svm\": \"SVM\",\n",
    "    \"wisard\": \"Wisard\",\n",
    "}\n",
    "\n",
    "pareto_colors = {\n",
    "    True: px.colors.qualitative.Plotly[1],\n",
    "    False: px.colors.qualitative.Plotly[0],\n",
    "}\n",
    "\n",
    "\n",
    "rows = 5\n",
    "cols = 3\n",
    "\n",
    "fig = go.Figure()\n",
    "\n",
    "\n",
    "\n",
    "\n",
    "\n",
    "\n",
    "\n",
    "# data[\"relative size\"] = np.log(data[\"relative size\"])\n",
    "\n",
    "fig = px.scatter(\n",
    "    data,\n",
    "    x=\"relative size\",\n",
    "    y=\"metric\",\n",
    "    symbol=\"model\",\n",
    "    symbol_map=marker_symbols,\n",
    "    color=\"pareto\",\n",
    "    color_discrete_map=pareto_colors,\n",
    "    facet_col=\"dataset\",\n",
    "    facet_col_wrap=3,\n",
    "    height=1000,\n",
    "    width=900,\n",
    "    facet_row_spacing=0.03,\n",
    ")\n",
    "\n",
    "fig.update_traces(\n",
    "    marker=dict(size=7),\n",
    "    selector=dict(mode=\"markers\"),\n",
    "    showlegend=False,  # Hides the legend entries created by Plotly Express\n",
    ")\n",
    "\n",
    "for anno in fig[\"layout\"][\"annotations\"]:\n",
    "    anno[\"text\"] = anno[\"text\"].split(\"=\")[1].replace(\"_\", \" \")\n",
    "\n",
    "# Manually map symbols to names in the legend\n",
    "legend_labels = {\n",
    "    symbol: model_names[model] for model, symbol in marker_symbols.items()\n",
    "}\n",
    "\n",
    "# Create a custom legend\n",
    "custom_legend = []\n",
    "for symbol, model_name in legend_labels.items():\n",
    "    custom_legend.append(\n",
    "        go.Scatter(\n",
    "            x=[None],\n",
    "            y=[None],\n",
    "            mode=\"markers\",\n",
    "            marker=dict(\n",
    "                symbol=symbol, size=12, color=px.colors.qualitative.Plotly[0]\n",
    "            ),\n",
    "            name=model_name,\n",
    "        )\n",
    "    )\n",
    "\n",
    "# Add custom legend to the figure\n",
    "for trace in custom_legend:\n",
    "    fig.add_trace(trace)\n",
    "\n",
    "fig.update_layout(\n",
    "    legend=dict(\n",
    "        title=\"\",  # Set title to empty string to remove the legend title\n",
    "        orientation=\"h\",\n",
    "        yanchor=\"top\",\n",
    "        y=1.07,\n",
    "        xanchor=\"center\",\n",
    "        x=0.5,\n",
    "        traceorder=\"normal\",  # Set trace order to normal to arrange legend entries horizontally\n",
    "    ),\n",
    "    margin=dict(l=10, r=10, t=10, b=10),\n",
    "    font=dict(family=\"Times New Roman\", size=14),\n",
    ")\n",
    "\n",
    "write_figure(\"model_metric_size.pdf\", fig)\n",
    "\n",
    "fig.show()"
   ]
  },
  {
   "cell_type": "code",
   "execution_count": null,
   "metadata": {},
   "outputs": [],
   "source": []
  },
  {
   "cell_type": "code",
   "execution_count": null,
   "metadata": {},
   "outputs": [],
   "source": [
    "dfs = {}\n",
    "for dset_name, dset_df in best_metric_dataset_model.groupby(\"dataset\"):\n",
    "    max_val = dset_df[\"metric\"].max()\n",
    "    dset_df[\"model_size (KB)\"] = (dset_df[\"model_size\"] / 1024)\n",
    "    dset_df[\"relative performance\"] = dset_df[\"metric\"]  / max_val\n",
    "    dset_df = dset_df[[\"relative performance\", \"model_size (KB)\"]]\n",
    "    dfs[dset_name] = dset_df\n",
    "    \n",
    "result_df = pd.concat(dfs.values(), keys=dfs.keys()).reset_index()\n",
    "# result_df.reset_index(level=0, inplace=True)\n",
    "result_df"
   ]
  },
  {
   "cell_type": "code",
   "execution_count": null,
   "metadata": {},
   "outputs": [],
   "source": [
    "print(\"How many times per dataset, each model is the best tradeoff?\")\n",
    "best_metric_dataset_model[\n",
    "    best_metric_dataset_model.best_tradeoff == True\n",
    "].value_counts(\"model\").to_frame().reset_index()"
   ]
  },
  {
   "cell_type": "code",
   "execution_count": null,
   "metadata": {},
   "outputs": [],
   "source": [
    "facets = 3\n",
    "cmap = px.colors.qualitative.Prism\n",
    "\n",
    "colors = {\n",
    "    name: cmap[i]\n",
    "    for i, name in enumerate(sorted(best_metric_dataset_model.model.unique()))\n",
    "}\n",
    "\n",
    "# Scatter plot for trade-off with normalized model size\n",
    "fig_tradeoff_normalized = px.scatter(\n",
    "    best_metric_dataset_model,\n",
    "    x=\"metric\",\n",
    "    y=\"normalized_model_size_ratio\",\n",
    "    color=\"model\",\n",
    "    facet_col=\"dataset\",\n",
    "    facet_col_wrap=facets,\n",
    "    # title=\"Trade-off Between Metric and Normalized Model Size Across Datasets\",\n",
    "    labels={\n",
    "        \"metric\": \"Performance\",\n",
    "        \"normalized_model_size_ratio\": \"Size Ratio (normalized)\",\n",
    "        \"model\": \"\",\n",
    "    },\n",
    "    facet_row_spacing=0.07,\n",
    "    width=1400,\n",
    "    height=800,\n",
    "    color_discrete_sequence=cmap,\n",
    ")\n",
    "\n",
    "\n",
    "fig_tradeoff_normalized.update_traces(\n",
    "    marker=dict(size=7.5),\n",
    ")\n",
    "\n",
    "fig_tradeoff_normalized.update_xaxes(showticklabels=True)\n",
    "\n",
    "fig_tradeoff_normalized.update_yaxes(showticklabels=True)\n",
    "\n",
    "fig_tradeoff_normalized.for_each_annotation(\n",
    "    lambda a: a.update(text=a.text.split(\"=\")[-1])\n",
    ")\n",
    "\n",
    "# fig_tradeoff_normalized.update_layout(\n",
    "#     legend=dict(\n",
    "#         orientation=\"h\", yanchor=\"bottom\", y=-0.15, xanchor=\"center\", x=0.5,\n",
    "#     ),\n",
    "\n",
    "# )\n",
    "\n",
    "fig_tradeoff_normalized.update_layout(\n",
    "    legend=dict(\n",
    "        orientation=\"h\",\n",
    "        yanchor=\"top\",\n",
    "        y=1.05,\n",
    "        xanchor=\"center\",\n",
    "        x=0.5,\n",
    "        itemsizing=\"constant\",  # Set this to \"constant\" to show only one item for color\n",
    "        font=dict(family=\"Times New Roman\", size=14),\n",
    "    ),\n",
    "    height=1200,\n",
    "    width=2480 /2.5,\n",
    "    font=dict(family=\"Times New Roman\", size=14),\n",
    ")\n",
    "num_rows = len(results.dataset.unique()) // facets\n",
    "num_cols = facets\n",
    "# datasets = list(sorted(results.dataset.unique(), reverse=False))\n",
    "\n",
    "for r in range(num_rows):\n",
    "    for c in range(num_cols):\n",
    "       \n",
    "        facet = r * num_cols + c\n",
    "        dset = fig_tradeoff_normalized.layout.annotations[facet]['text']\n",
    "\n",
    "        x_line = (\n",
    "            results[results[\"dataset\"] == dset][\"metric\"].max()\n",
    "            - metric_threshold\n",
    "        )\n",
    "        \n",
    " # Scatter plot for best tradeoff points with a cross\n",
    "        best_tradeoff_points = best_metric_dataset_model[\n",
    "            (best_metric_dataset_model[\"dataset\"] == dset)\n",
    "            & (best_metric_dataset_model[\"best_tradeoff\"] == True)\n",
    "        ]\n",
    "        \n",
    "        best_tradeoff_model = best_tradeoff_points.model.iloc[0]\n",
    "        \n",
    "        # print(f\"Facet {facet}: {dset} - {best_tradeoff_model}. Max: {results[results['dataset'] == dset]['metric'].max()}, line: {x_line}\")\n",
    "        \n",
    "        fig_tradeoff_normalized.add_trace(\n",
    "            go.Scatter(\n",
    "                x=best_tradeoff_points[\"metric\"],\n",
    "                y=best_tradeoff_points[\"normalized_model_size_ratio\"],\n",
    "                mode=\"markers\",\n",
    "                marker=dict(\n",
    "                    size=10,\n",
    "                    symbol=\"x\",\n",
    "                    color=colors[best_tradeoff_model]\n",
    "                ),\n",
    "                showlegend=False,  # To not duplicate in the legend\n",
    "            ),\n",
    "            row=r + 1,\n",
    "            col=c + 1,\n",
    "        )\n",
    "        \n",
    "        fig_tradeoff_normalized.add_vline(\n",
    "            x=x_line, line_dash=\"dot\", row=r + 1, col=c + 1, line_width=1\n",
    "        )\n",
    "\n",
    "# Display the plot\n",
    "fig_tradeoff_normalized.show()\n",
    "\n",
    "write_figure(\"performance_size_tradeoff_normalized.pdf\", fig_tradeoff_normalized)"
   ]
  },
  {
   "cell_type": "code",
   "execution_count": null,
   "metadata": {},
   "outputs": [],
   "source": [
    "best_metric_dataset_model[\n",
    "    best_metric_dataset_model.best_tradeoff == True\n",
    "][[\"dataset\", \"model\", \"config_name\", \"metric\", \"model_size\", \"model_size_ratio\"]]"
   ]
  },
  {
   "cell_type": "code",
   "execution_count": null,
   "metadata": {},
   "outputs": [],
   "source": [
    "best_metric_dataset_model[best_metric_dataset_model [\"dataset\"] == \"iris\"].dropna(axis=1)[[\"model\", \"metric\", \"model_size\", \"model_size_ratio\", \"normalized_model_size_ratio\"]]"
   ]
  },
  {
   "cell_type": "code",
   "execution_count": null,
   "metadata": {},
   "outputs": [],
   "source": [
    "best_metric_dataset_model[[\"dataset\", \"model\", \"config_name\", \"metric\", \"model_size\", \"model_size_ratio\"]]"
   ]
  },
  {
   "cell_type": "code",
   "execution_count": null,
   "metadata": {},
   "outputs": [],
   "source": [
    "best_metric_dataset_model[\n",
    "    (best_metric_dataset_model.best_tradeoff == True) & (best_metric_dataset_model.model == \"wisard\")\n",
    "][\"model_size_ratio\"]"
   ]
  },
  {
   "cell_type": "code",
   "execution_count": null,
   "metadata": {},
   "outputs": [],
   "source": [
    "encoder_info = best_metric_dataset_model[best_metric_dataset_model.model == \"wisard\"]\n",
    "encoder_info = encoder_info[[\"dataset\", \"encoder\", \"resolution\", \"tuple_size\", \"bleach\"]].reset_index(drop=True)\n",
    "encoder_info.rename(columns={\"encoder\": \"Encoder\", \"resolution\": \"Resolution\", \"tuple_size\": \"Tuple Size\", \"bleach\": \"Bleach\"}, inplace=True)\n",
    "encoder_info[\"Encoder\"] = encoder_info[\"Encoder\"].apply(lambda x: \"Distributive Thermometer\" if x == \"distributive-thermometer\" else \"Thermometer\")\n",
    "encoder_info[\"Resolution\"] = encoder_info[\"Resolution\"].astype(int)\n",
    "encoder_info[\"Tuple Size\"] = encoder_info[\"Tuple Size\"].astype(int)\n",
    "encoder_info[\"Bleach\"] = encoder_info[\"Bleach\"].astype(int)\n",
    "encoder_info"
   ]
  },
  {
   "cell_type": "code",
   "execution_count": null,
   "metadata": {},
   "outputs": [],
   "source": [
    "latex_str = encoder_info.to_latex(\n",
    "    index=False,\n",
    "    escape=True,\n",
    "    caption=\"Parameters used for each experiment\",\n",
    "    label=\"tab:experiment-parameters\",\n",
    "    float_format=\"%.2f\",\n",
    ")\n",
    "write_latex_table(\"experiment_parameters.tex\", latex_str)"
   ]
  },
  {
   "cell_type": "markdown",
   "metadata": {},
   "source": [
    "## 4. Select the wisard with best bloom filter\n",
    "\n",
    "Here we show that, costing up to 1% of performance of the best dict-wisard, a \n",
    "space-efficient bloom filter achieves the best results."
   ]
  },
  {
   "cell_type": "code",
   "execution_count": null,
   "metadata": {},
   "outputs": [],
   "source": [
    "# Up to 1% of accuracy loss\n",
    "metric_threshold = 0.01"
   ]
  },
  {
   "cell_type": "code",
   "execution_count": null,
   "metadata": {},
   "outputs": [],
   "source": [
    "results = base_results.copy()\n",
    "best_results = best_metric_dataset_model.copy()\n",
    "\n",
    "results = results[results[\"model\"] == \"wisard\"]\n",
    "best_results = best_results[best_results[\"model\"] == \"wisard\"]\n",
    "\n",
    "results[\"bloom-filter\"] = results[\"config_name\"].apply(lambda x: x.split(\" \")[0])\n",
    "best_results[\"bloom-filter\"] = best_results[\"config_name\"].apply(lambda x: x.split(\" \")[0])"
   ]
  },
  {
   "cell_type": "code",
   "execution_count": null,
   "metadata": {},
   "outputs": [],
   "source": [
    "temp = []\n",
    "\n",
    "\n",
    "for dset_name, dset_df in results.groupby(\"dataset\"):\n",
    "    best_model = best_results[best_results[\"dataset\"] == dset_name].iloc[0]\n",
    "    # print(f\"*** Dataset: {dset_name} with metric: {best_model['metric']} and model size: {int(best_model['model_size'])}\")\n",
    "    bests = dset_df[dset_df[\"metric\"] >= best_model[\"metric\"] - metric_threshold]\n",
    "    bests[\"metric_improvement\"] = bests[\"metric\"]/ best_model[\"metric\"]\n",
    "    bests[\"model_size_improvement\"] = bests[\"model_size\"]/ best_model[\"model_size\"]\n",
    "    bests[\"best_metric\"]  = best_model[\"metric\"]\n",
    "    bests[\"best_model_size\"]  = best_model[\"model_size\"]\n",
    "    temp.append(bests)\n",
    "    \n",
    "results = pd.concat(temp, ignore_index=True)\n",
    "results.sample(n=3)"
   ]
  },
  {
   "cell_type": "code",
   "execution_count": null,
   "metadata": {},
   "outputs": [],
   "source": [
    "best_results = results.loc[results.groupby(\"dataset\")[\"model_size_improvement\"].idxmin()]\n",
    "best_results[\"bloom-filter\"].value_counts()"
   ]
  },
  {
   "cell_type": "code",
   "execution_count": null,
   "metadata": {},
   "outputs": [],
   "source": [
    "best_results_table = best_results.sort_values(by=[\"dataset\"])[[\"dataset\", \"config_name\", \"model_size_improvement\"]]\n",
    "\n",
    "best_results_table.rename(\n",
    "    columns={\n",
    "        \"dataset\": \"Dataset\",\n",
    "        \"config_name\": \"Bloom Filter\",\n",
    "        \"model_size_improvement\": \"Size Ratio\",\n",
    "    },\n",
    "    inplace=True,\n",
    ")\n",
    "\n",
    "best_results_table"
   ]
  },
  {
   "cell_type": "code",
   "execution_count": null,
   "metadata": {},
   "outputs": [],
   "source": [
    "latex_str = best_results_table.to_latex(\n",
    "    index=False,\n",
    "    escape=True,\n",
    "    caption=\"Best Bloom Filter configuration for each dataset\",\n",
    "    label=\"tab:best_bloom_filter\",\n",
    "    float_format=\"%.2f\",\n",
    ")\n",
    "\n",
    "write_latex_table(\"best_bloom_filter.tex\", latex_str)"
   ]
  },
  {
   "cell_type": "code",
   "execution_count": null,
   "metadata": {},
   "outputs": [],
   "source": [
    "best_results_table = best_results.sort_values(by=[\"dataset\"])[[\"dataset\", \"bloom-filter\", \"config_name\", \"model_size_improvement\"]]\n",
    "best_results_table.groupby(\"bloom-filter\")[\"model_size_improvement\"].agg([\"mean\", \"std\", \"count\"])"
   ]
  },
  {
   "cell_type": "markdown",
   "metadata": {},
   "source": [
    "# 5. Select the wisard with best aggregated bloom filter\n",
    "\n",
    "Here we show that, costing up to 1% of performance of the best dict-wisard, a \n",
    "space-efficient bloom filter achieves the best results."
   ]
  },
  {
   "cell_type": "code",
   "execution_count": null,
   "metadata": {},
   "outputs": [],
   "source": [
    "# Up to 2% of accuracy loss\n",
    "metric_threshold = 0.01"
   ]
  },
  {
   "cell_type": "code",
   "execution_count": null,
   "metadata": {},
   "outputs": [],
   "source": [
    "results = base_results.copy()\n",
    "best_results = best_metric_dataset_model.copy()\n",
    "\n",
    "results = results[results[\"model\"] == \"wisard\"]\n",
    "best_results = best_results[best_results[\"model\"] == \"wisard\"]\n",
    "\n",
    "results[\"bloom-filter\"] = results[\"config_name\"].apply(lambda x: x.split(\" \")[0])\n",
    "best_results[\"bloom-filter\"] = best_results[\"config_name\"].apply(lambda x: x.split(\" \")[0])\n",
    "\n",
    "# Filter: only Dict, CountingBloomFilter and CountMinSketch\n",
    "results = results[results[\"bloom-filter\"].isin([\"Dict\", \"CountingBloomFilter\", \"CountMinSketch\"])]\n",
    "best_results = best_results[best_results[\"bloom-filter\"].isin([\"Dict\", \"CountingBloomFilter\", \"CountMinSketch\"])]"
   ]
  },
  {
   "cell_type": "code",
   "execution_count": null,
   "metadata": {},
   "outputs": [],
   "source": [
    "temp = []\n",
    "\n",
    "\n",
    "for dset_name, dset_df in results.groupby(\"dataset\"):\n",
    "    best_model = best_results[best_results[\"dataset\"] == dset_name].iloc[0]\n",
    "    # print(f\"*** Dataset: {dset_name} with metric: {best_model['metric']} and model size: {int(best_model['model_size'])}\")\n",
    "    bests = dset_df[dset_df[\"metric\"] >= best_model[\"metric\"] - metric_threshold]\n",
    "    bests[\"metric_improvement\"] = bests[\"metric\"]/ best_model[\"metric\"]\n",
    "    bests[\"model_size_improvement\"] = bests[\"model_size\"]/ best_model[\"model_size\"]\n",
    "    bests[\"best_metric\"]  = best_model[\"metric\"]\n",
    "    bests[\"best_model_size\"]  = best_model[\"model_size\"]\n",
    "    temp.append(bests)\n",
    "    \n",
    "results = pd.concat(temp, ignore_index=True)\n",
    "results.sample(n=3)"
   ]
  },
  {
   "cell_type": "code",
   "execution_count": null,
   "metadata": {},
   "outputs": [],
   "source": [
    "best_results = results.loc[results.groupby(\"dataset\")[\"model_size_improvement\"].idxmin()]\n",
    "best_results[\"bloom-filter\"].value_counts()"
   ]
  },
  {
   "cell_type": "code",
   "execution_count": null,
   "metadata": {},
   "outputs": [],
   "source": [
    "best_results_table = best_results.sort_values(by=[\"dataset\"])[[\"dataset\", \"config_name\", \"model_size_improvement\"]]\n",
    "\n",
    "best_results_table.rename(\n",
    "    columns={\n",
    "        \"dataset\": \"Dataset\",\n",
    "        \"config_name\": \"Bloom Filter Configuration\",\n",
    "        \"model_size_improvement\": \"Size Ratio\",\n",
    "    },\n",
    "    inplace=True,\n",
    ")\n",
    "\n",
    "best_results_table"
   ]
  },
  {
   "cell_type": "code",
   "execution_count": null,
   "metadata": {},
   "outputs": [],
   "source": [
    "latex_str = best_results_table.to_latex(\n",
    "    index=False,\n",
    "    escape=True,\n",
    "    caption=\"Best Bloom Filter configuration for each dataset\",\n",
    "    label=\"tab:best_bloom_filter_agg\",\n",
    "    float_format=\"%.2f\",\n",
    ")\n",
    "\n",
    "write_latex_table(\"best_bloom_filter_agg.tex\", latex_str)"
   ]
  },
  {
   "cell_type": "code",
   "execution_count": null,
   "metadata": {},
   "outputs": [],
   "source": [
    "best_results_table = best_results.sort_values(by=[\"dataset\"])[[\"dataset\", \"bloom-filter\", \"config_name\", \"model_size_improvement\"]]\n",
    "best_results_table.groupby(\"bloom-filter\")[\"model_size_improvement\"].agg([\"mean\", \"std\", \"count\"])"
   ]
  }
 ],
 "metadata": {
  "kernelspec": {
   "display_name": "Python 3 (ipykernel)",
   "language": "python",
   "name": "python3"
  },
  "language_info": {
   "codemirror_mode": {
    "name": "ipython",
    "version": 3
   },
   "file_extension": ".py",
   "mimetype": "text/x-python",
   "name": "python",
   "nbconvert_exporter": "python",
   "pygments_lexer": "ipython3",
   "version": "3.10.12"
  }
 },
 "nbformat": 4,
 "nbformat_minor": 2
}
