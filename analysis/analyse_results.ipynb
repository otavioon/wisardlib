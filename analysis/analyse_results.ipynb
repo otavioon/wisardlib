{
 "cells": [
  {
   "cell_type": "markdown",
   "metadata": {},
   "source": [
    "# Results Neurocomputing/ESANN 2024\n",
    "\n",
    "This notebook contains the code to analyse the results of the \n",
    "Neurocomputing/ESANN 2024 paper, and it is responsible for generating\n",
    "the figures and tables in the paper.\n",
    "\n",
    "The notebook is organised as follows:\n",
    "\n",
    "1. The first section contains imports, constants, helper functions and load the \n",
    "    data.\n",
    "\n",
    "2. We show that the dict-wisard has competitive performance with the \n",
    "    classical machine learning algorithms."
   ]
  },
  {
   "cell_type": "markdown",
   "metadata": {},
   "source": [
    "## 1. General constants, hhelper functions, and data loading\n",
    "\n",
    "Imports, global constants and packages' configuration."
   ]
  },
  {
   "cell_type": "code",
   "execution_count": 1,
   "metadata": {},
   "outputs": [],
   "source": [
    "from pathlib import Path\n",
    "import pandas as pd\n",
    "import numpy as np\n",
    "from typing import List, Union\n",
    "import plotly.graph_objects as go\n",
    "import plotly.express as px\n",
    "import json\n",
    "\n",
    "from utils import write_figure, write_latex_table, aggregate_mean_std"
   ]
  },
  {
   "cell_type": "code",
   "execution_count": 2,
   "metadata": {},
   "outputs": [],
   "source": [
    "# Configs\n",
    "pd.set_option(\"display.float_format\", lambda x: \"%.4f\" % x)\n",
    "\n",
    "# ---------- Paths -------------\n",
    "# -- Inputs\n",
    "datasets_info_path = Path(\"datasets_info.json\")\n",
    "\n",
    "results_sklearn_path = [\n",
    "    Path(\"results_knn_folded.csv\"),\n",
    "    Path(\"results_mlp_folded.csv\"),\n",
    "    Path(\"results_mlp2_folded.csv\"),\n",
    "    Path(\"results_svm_folded.csv\"),\n",
    "    Path(\"results_rf_folded.csv\"),\n",
    "]\n",
    "\n",
    "results_wisard_path = Path(\"results_wisard_folded.csv\")"
   ]
  },
  {
   "cell_type": "markdown",
   "metadata": {},
   "source": [
    "### Read inputs and create a full dataframe\n",
    "\n",
    "1. Read the datasets specifications (`dataset_info`)\n",
    "2. Read the wisard results (`wisard_results`)\n",
    "3. Read the sklearn results (`sklearn_results`)\n",
    "4. Create a results dataframe, mergind dataset_info, wisard_results and sklearn_results"
   ]
  },
  {
   "cell_type": "markdown",
   "metadata": {},
   "source": [
    "#### Dataset information"
   ]
  },
  {
   "cell_type": "code",
   "execution_count": 3,
   "metadata": {},
   "outputs": [
    {
     "data": {
      "text/html": [
       "<div>\n",
       "<style scoped>\n",
       "    .dataframe tbody tr th:only-of-type {\n",
       "        vertical-align: middle;\n",
       "    }\n",
       "\n",
       "    .dataframe tbody tr th {\n",
       "        vertical-align: top;\n",
       "    }\n",
       "\n",
       "    .dataframe thead th {\n",
       "        text-align: right;\n",
       "    }\n",
       "</style>\n",
       "<table border=\"1\" class=\"dataframe\">\n",
       "  <thead>\n",
       "    <tr style=\"text-align: right;\">\n",
       "      <th></th>\n",
       "      <th>dataset_name</th>\n",
       "      <th>size</th>\n",
       "      <th>features</th>\n",
       "      <th>num_classes</th>\n",
       "      <th>train_size</th>\n",
       "      <th>test_size</th>\n",
       "      <th>balanced</th>\n",
       "      <th>metric</th>\n",
       "    </tr>\n",
       "  </thead>\n",
       "  <tbody>\n",
       "    <tr>\n",
       "      <th>0</th>\n",
       "      <td>breast_cancer</td>\n",
       "      <td>141416</td>\n",
       "      <td>30</td>\n",
       "      <td>3</td>\n",
       "      <td>398</td>\n",
       "      <td>171</td>\n",
       "      <td>False</td>\n",
       "      <td>f1 weighted</td>\n",
       "    </tr>\n",
       "    <tr>\n",
       "      <th>1</th>\n",
       "      <td>dry_bean</td>\n",
       "      <td>1773910</td>\n",
       "      <td>16</td>\n",
       "      <td>7</td>\n",
       "      <td>10888</td>\n",
       "      <td>2723</td>\n",
       "      <td>False</td>\n",
       "      <td>f1 weighted</td>\n",
       "    </tr>\n",
       "    <tr>\n",
       "      <th>2</th>\n",
       "      <td>glass</td>\n",
       "      <td>17413</td>\n",
       "      <td>9</td>\n",
       "      <td>24</td>\n",
       "      <td>149</td>\n",
       "      <td>65</td>\n",
       "      <td>False</td>\n",
       "      <td>f1 weighted</td>\n",
       "    </tr>\n",
       "  </tbody>\n",
       "</table>\n",
       "</div>"
      ],
      "text/plain": [
       "    dataset_name     size  features  num_classes  train_size  test_size  \\\n",
       "0  breast_cancer   141416        30            3         398        171   \n",
       "1       dry_bean  1773910        16            7       10888       2723   \n",
       "2          glass    17413         9           24         149         65   \n",
       "\n",
       "   balanced       metric  \n",
       "0     False  f1 weighted  \n",
       "1     False  f1 weighted  \n",
       "2     False  f1 weighted  "
      ]
     },
     "execution_count": 3,
     "metadata": {},
     "output_type": "execute_result"
    }
   ],
   "source": [
    "# Datasets information\n",
    "datasets_info = pd.read_json(datasets_info_path, orient=\"index\").reset_index(drop=True)\n",
    "datasets_info.rename(columns={\"name\": \"dataset_name\"}, inplace=True)\n",
    "datasets_info.head(n=3)"
   ]
  },
  {
   "cell_type": "code",
   "execution_count": 4,
   "metadata": {},
   "outputs": [
    {
     "name": "stdout",
     "output_type": "stream",
     "text": [
      "Table written to: tables/datasets_info.tex\n"
     ]
    },
    {
     "name": "stderr",
     "output_type": "stream",
     "text": [
      "/tmp/ipykernel_2961821/3004690570.py:4: SettingWithCopyWarning: \n",
      "A value is trying to be set on a copy of a slice from a DataFrame.\n",
      "Try using .loc[row_indexer,col_indexer] = value instead\n",
      "\n",
      "See the caveats in the documentation: https://pandas.pydata.org/pandas-docs/stable/user_guide/indexing.html#returning-a-view-versus-a-copy\n",
      "  info.loc[:, \"size\"] = info[\"size\"] / 1024\n",
      "/tmp/ipykernel_2961821/3004690570.py:16: FutureWarning: In future versions `DataFrame.to_latex` is expected to utilise the base implementation of `Styler.to_latex` for formatting and rendering. The arguments signature may therefore change. It is recommended instead to use `DataFrame.style.to_latex` which also contains additional functionality.\n",
      "  latex_str = info.to_latex(\n"
     ]
    }
   ],
   "source": [
    "info = datasets_info[\n",
    "    [\"dataset_name\", \"features\", \"size\", \"num_classes\", \"balanced\"]\n",
    "]\n",
    "info.loc[:, \"size\"] = info[\"size\"] / 1024\n",
    "\n",
    "info = info.rename(\n",
    "    columns={\n",
    "        \"dataset_name\": \"Dataset\",\n",
    "        \"features\": \"Features\",\n",
    "        \"size\": \"Size (KB)\",\n",
    "        \"num_classes\": \"Classes\",\n",
    "        \"balanced\": \"Is Balanced?\",\n",
    "    }\n",
    ")\n",
    "\n",
    "latex_str = info.to_latex(\n",
    "    index=False,\n",
    "    escape=True,\n",
    "    caption=\"Datasets information\",\n",
    "    label=\"tab:datasets_info\",\n",
    "    float_format=\"%.2f\",\n",
    ")\n",
    "\n",
    "write_latex_table(\"datasets_info.tex\", latex_str)"
   ]
  },
  {
   "cell_type": "markdown",
   "metadata": {},
   "source": [
    "#### Wisard results\n",
    "\n",
    "Read and parse wisard result to `wisard_results` dataframe.\n",
    "\n",
    "**Note**: The `wisard_results` already has aggregated results for each dataset."
   ]
  },
  {
   "cell_type": "code",
   "execution_count": 5,
   "metadata": {},
   "outputs": [
    {
     "data": {
      "text/html": [
       "<div>\n",
       "<style scoped>\n",
       "    .dataframe tbody tr th:only-of-type {\n",
       "        vertical-align: middle;\n",
       "    }\n",
       "\n",
       "    .dataframe tbody tr th {\n",
       "        vertical-align: top;\n",
       "    }\n",
       "\n",
       "    .dataframe thead th {\n",
       "        text-align: right;\n",
       "    }\n",
       "</style>\n",
       "<table border=\"1\" class=\"dataframe\">\n",
       "  <thead>\n",
       "    <tr style=\"text-align: right;\">\n",
       "      <th></th>\n",
       "      <th>dataset</th>\n",
       "      <th>config_name</th>\n",
       "      <th>val_accuracy_mean</th>\n",
       "      <th>val_accuracy_std</th>\n",
       "      <th>val_f1 weighted_mean</th>\n",
       "      <th>val_f1 weighted_std</th>\n",
       "      <th>val_model size_mean</th>\n",
       "      <th>val_model size_std</th>\n",
       "      <th>val_ties_mean</th>\n",
       "      <th>val_ties_std</th>\n",
       "      <th>...</th>\n",
       "      <th>model_size_std</th>\n",
       "      <th>ties</th>\n",
       "      <th>ties_std</th>\n",
       "      <th>tuple_size</th>\n",
       "      <th>encoder</th>\n",
       "      <th>resolution</th>\n",
       "      <th>bleach</th>\n",
       "      <th>rams per discriminator</th>\n",
       "      <th>model</th>\n",
       "      <th>fold</th>\n",
       "    </tr>\n",
       "  </thead>\n",
       "  <tbody>\n",
       "    <tr>\n",
       "      <th>3968</th>\n",
       "      <td>sepsis</td>\n",
       "      <td>Dict</td>\n",
       "      <td>0.8410</td>\n",
       "      <td>0.0652</td>\n",
       "      <td>0.8520</td>\n",
       "      <td>0.0340</td>\n",
       "      <td>16216.3333</td>\n",
       "      <td>225.1301</td>\n",
       "      <td>1966.0000</td>\n",
       "      <td>1502.9280</td>\n",
       "      <td>...</td>\n",
       "      <td>307.7087</td>\n",
       "      <td>4851.6667</td>\n",
       "      <td>1389.8514</td>\n",
       "      <td>23.0000</td>\n",
       "      <td>thermometer</td>\n",
       "      <td>46</td>\n",
       "      <td>1354</td>\n",
       "      <td>6</td>\n",
       "      <td>Wisard</td>\n",
       "      <td>0</td>\n",
       "    </tr>\n",
       "    <tr>\n",
       "      <th>2768</th>\n",
       "      <td>glass</td>\n",
       "      <td>CountMinSketch (W: 13.0, D: 4.0)</td>\n",
       "      <td>0.3714</td>\n",
       "      <td>0.0000</td>\n",
       "      <td>0.2012</td>\n",
       "      <td>0.0000</td>\n",
       "      <td>12096.0000</td>\n",
       "      <td>0.0000</td>\n",
       "      <td>0.0000</td>\n",
       "      <td>0.0000</td>\n",
       "      <td>...</td>\n",
       "      <td>0.0000</td>\n",
       "      <td>19.3333</td>\n",
       "      <td>16.7398</td>\n",
       "      <td>33.0000</td>\n",
       "      <td>thermometer</td>\n",
       "      <td>33</td>\n",
       "      <td>48</td>\n",
       "      <td>9</td>\n",
       "      <td>Wisard</td>\n",
       "      <td>2</td>\n",
       "    </tr>\n",
       "  </tbody>\n",
       "</table>\n",
       "<p>2 rows × 25 columns</p>\n",
       "</div>"
      ],
      "text/plain": [
       "     dataset                       config_name  val_accuracy_mean  \\\n",
       "3968  sepsis                              Dict             0.8410   \n",
       "2768   glass  CountMinSketch (W: 13.0, D: 4.0)             0.3714   \n",
       "\n",
       "      val_accuracy_std  val_f1 weighted_mean  val_f1 weighted_std  \\\n",
       "3968            0.0652                0.8520               0.0340   \n",
       "2768            0.0000                0.2012               0.0000   \n",
       "\n",
       "      val_model size_mean  val_model size_std  val_ties_mean  val_ties_std  \\\n",
       "3968           16216.3333            225.1301      1966.0000     1502.9280   \n",
       "2768           12096.0000              0.0000         0.0000        0.0000   \n",
       "\n",
       "      ...  model_size_std      ties  ties_std  tuple_size      encoder  \\\n",
       "3968  ...        307.7087 4851.6667 1389.8514     23.0000  thermometer   \n",
       "2768  ...          0.0000   19.3333   16.7398     33.0000  thermometer   \n",
       "\n",
       "      resolution  bleach  rams per discriminator   model fold  \n",
       "3968          46    1354                       6  Wisard    0  \n",
       "2768          33      48                       9  Wisard    2  \n",
       "\n",
       "[2 rows x 25 columns]"
      ]
     },
     "execution_count": 5,
     "metadata": {},
     "output_type": "execute_result"
    }
   ],
   "source": [
    "def parse_wisard_config_name(row) -> str:\n",
    "    \"\"\"Given a row, parse the name of configuration.\n",
    "\n",
    "    Parameters\n",
    "    ----------\n",
    "    row : pd.Series\n",
    "        The row of the dataframe.\n",
    "\n",
    "    Returns\n",
    "    -------\n",
    "    str\n",
    "        The name of the configuration.\n",
    "    \"\"\"\n",
    "\n",
    "    names = []\n",
    "    if not pd.isna(row[\"num_hitters\"]):\n",
    "        names.append(f\"NR: {row['num_hitters']}\")\n",
    "    if not pd.isna(row[\"width\"]):\n",
    "        names.append(f\"W: {row['width']}\")\n",
    "    if not pd.isna(row[\"depth\"]):\n",
    "        names.append(f\"D: {row['depth']}\")\n",
    "    if not pd.isna(row[\"capacity\"]):\n",
    "        names.append(f\"C: {row['capacity']}\")\n",
    "    if not pd.isna(row[\"bucket_size\"]):\n",
    "        names.append(f\"BS: {row['bucket_size']}\")\n",
    "    if not pd.isna(row[\"threshold\"]):\n",
    "        names.append(f\"T: {row['threshold']}\")\n",
    "    if not pd.isna(row[\"est_elements\"]):\n",
    "        names.append(f\"EST: {row['est_elements']}\")\n",
    "    if not pd.isna(row[\"false_positive_rate\"]):\n",
    "        names.append(f\"FPR: {row['false_positive_rate']}\")\n",
    "\n",
    "    if names:\n",
    "        names = \", \".join(names)\n",
    "        return f\"{row['ram']} ({names})\"\n",
    "    else:\n",
    "        return row[\"ram\"]\n",
    "\n",
    "\n",
    "# --- Read results and add a column with the name of the configuration ---\n",
    "wisard_results = pd.read_csv(results_wisard_path).drop_duplicates()\n",
    "\n",
    "# --- Add useful columns ---\n",
    "wisard_results[\"tuple_size\"] = (\n",
    "    wisard_results[\"resolution\"] / wisard_results[\"tuple_resolution_factor\"]\n",
    ")\n",
    "wisard_results[\"config_name\"] = wisard_results.apply(\n",
    "    parse_wisard_config_name, axis=1\n",
    ")\n",
    "\n",
    "# --- Select the columns of interest ---\n",
    "wisard_results = wisard_results[\n",
    "    [\n",
    "        \"dataset_name\",\n",
    "        \"config_name\",\n",
    "        \"val_accuracy_mean\",\n",
    "        \"val_accuracy_std\",\n",
    "        \"val_f1 weighted_mean\",\n",
    "        \"val_f1 weighted_std\",\n",
    "        \"val_model size_mean\",\n",
    "        \"val_model size_std\",\n",
    "        \"val_ties_mean\",\n",
    "        \"val_ties_std\",\n",
    "        \"test_accuracy_mean\",\n",
    "        \"test_accuracy_std\",\n",
    "        \"test_f1 weighted_mean\",\n",
    "        \"test_f1 weighted_std\",\n",
    "        \"test_model size_mean\",\n",
    "        \"test_model size_std\",\n",
    "        \"test_ties_mean\",\n",
    "        \"test_ties_std\",\n",
    "        \"tuple_size\",\n",
    "        \"encoder\",\n",
    "        \"resolution\",\n",
    "        \"bleach\",\n",
    "        \"rams per discriminator\",\n",
    "        \"ram\",\n",
    "    ]\n",
    "]\n",
    "\n",
    "# --- Rename columns ---\n",
    "wisard_results = wisard_results.rename(\n",
    "    columns={\n",
    "        \"dataset_name\": \"dataset\",\n",
    "        \"ram\": \"model\",\n",
    "        \"test_ties_mean\": \"ties\",\n",
    "        \"test_ties_std\": \"ties_std\",\n",
    "        \"test_accuracy_mean\": \"accuracy\",\n",
    "        \"test_accuracy_std\": \"accuracy_std\",\n",
    "        \"test_f1 weighted_mean\": \"f1\",\n",
    "        \"test_f1 weighted_std\": \"f1_std\",\n",
    "        \"test_model size_mean\": \"model_size\",\n",
    "        \"test_model size_std\": \"model_size_std\",\n",
    "    }\n",
    ")\n",
    "\n",
    "# --- Add model column and drop duplicates ---\n",
    "wisard_results[\"model\"] = \"Wisard\"\n",
    "wisard_results.drop_duplicates(inplace=True)\n",
    "\n",
    "# Split dataset name from fold\n",
    "wisard_results[[\"dataset\", \"fold\"]] = wisard_results[\"dataset\"].str.split(\n",
    "    \"_fold_\", expand=True\n",
    ")\n",
    "wisard_results[\"fold\"] = wisard_results[\"fold\"].astype(int)\n",
    "wisard_results.sample(n=2)"
   ]
  },
  {
   "cell_type": "code",
   "execution_count": 6,
   "metadata": {},
   "outputs": [
    {
     "data": {
      "text/html": [
       "<div>\n",
       "<style scoped>\n",
       "    .dataframe tbody tr th:only-of-type {\n",
       "        vertical-align: middle;\n",
       "    }\n",
       "\n",
       "    .dataframe tbody tr th {\n",
       "        vertical-align: top;\n",
       "    }\n",
       "\n",
       "    .dataframe thead th {\n",
       "        text-align: right;\n",
       "    }\n",
       "</style>\n",
       "<table border=\"1\" class=\"dataframe\">\n",
       "  <thead>\n",
       "    <tr style=\"text-align: right;\">\n",
       "      <th></th>\n",
       "      <th>dataset</th>\n",
       "      <th>model</th>\n",
       "      <th>accuracy</th>\n",
       "      <th>accuracy_std</th>\n",
       "      <th>f1</th>\n",
       "      <th>f1_std</th>\n",
       "      <th>model_size</th>\n",
       "      <th>model_size_std</th>\n",
       "    </tr>\n",
       "  </thead>\n",
       "  <tbody>\n",
       "    <tr>\n",
       "      <th>0</th>\n",
       "      <td>breast_cancer</td>\n",
       "      <td>Dict-Wisard</td>\n",
       "      <td>0.9279</td>\n",
       "      <td>0.0159</td>\n",
       "      <td>0.9274</td>\n",
       "      <td>0.0163</td>\n",
       "      <td>40581.0000</td>\n",
       "      <td>23921.9804</td>\n",
       "    </tr>\n",
       "    <tr>\n",
       "      <th>1</th>\n",
       "      <td>dry_bean</td>\n",
       "      <td>Dict-Wisard</td>\n",
       "      <td>0.9011</td>\n",
       "      <td>0.0047</td>\n",
       "      <td>0.9012</td>\n",
       "      <td>0.0043</td>\n",
       "      <td>688523.4000</td>\n",
       "      <td>481035.0196</td>\n",
       "    </tr>\n",
       "    <tr>\n",
       "      <th>2</th>\n",
       "      <td>glass</td>\n",
       "      <td>Dict-Wisard</td>\n",
       "      <td>0.6231</td>\n",
       "      <td>0.0194</td>\n",
       "      <td>0.5661</td>\n",
       "      <td>0.0213</td>\n",
       "      <td>37794.8000</td>\n",
       "      <td>21282.6736</td>\n",
       "    </tr>\n",
       "    <tr>\n",
       "      <th>3</th>\n",
       "      <td>image_segmentation</td>\n",
       "      <td>Dict-Wisard</td>\n",
       "      <td>0.6540</td>\n",
       "      <td>0.2596</td>\n",
       "      <td>0.6492</td>\n",
       "      <td>0.2615</td>\n",
       "      <td>107542.8000</td>\n",
       "      <td>63761.3701</td>\n",
       "    </tr>\n",
       "    <tr>\n",
       "      <th>4</th>\n",
       "      <td>iris</td>\n",
       "      <td>Dict-Wisard</td>\n",
       "      <td>0.9600</td>\n",
       "      <td>0.0513</td>\n",
       "      <td>0.9595</td>\n",
       "      <td>0.0519</td>\n",
       "      <td>3418.0667</td>\n",
       "      <td>3621.7708</td>\n",
       "    </tr>\n",
       "    <tr>\n",
       "      <th>5</th>\n",
       "      <td>letter</td>\n",
       "      <td>Dict-Wisard</td>\n",
       "      <td>0.8739</td>\n",
       "      <td>0.0291</td>\n",
       "      <td>0.8751</td>\n",
       "      <td>0.0286</td>\n",
       "      <td>7193661.8667</td>\n",
       "      <td>4057207.8151</td>\n",
       "    </tr>\n",
       "    <tr>\n",
       "      <th>6</th>\n",
       "      <td>motion_sense</td>\n",
       "      <td>Dict-Wisard</td>\n",
       "      <td>0.7314</td>\n",
       "      <td>0.0423</td>\n",
       "      <td>0.7181</td>\n",
       "      <td>0.0441</td>\n",
       "      <td>46898528.6667</td>\n",
       "      <td>18848361.5343</td>\n",
       "    </tr>\n",
       "    <tr>\n",
       "      <th>7</th>\n",
       "      <td>optical_handwritten</td>\n",
       "      <td>Dict-Wisard</td>\n",
       "      <td>0.9714</td>\n",
       "      <td>0.0083</td>\n",
       "      <td>0.9714</td>\n",
       "      <td>0.0083</td>\n",
       "      <td>8721863.2667</td>\n",
       "      <td>7681296.4388</td>\n",
       "    </tr>\n",
       "    <tr>\n",
       "      <th>8</th>\n",
       "      <td>rice</td>\n",
       "      <td>Dict-Wisard</td>\n",
       "      <td>0.9052</td>\n",
       "      <td>0.0115</td>\n",
       "      <td>0.9051</td>\n",
       "      <td>0.0116</td>\n",
       "      <td>24524.9333</td>\n",
       "      <td>25997.3475</td>\n",
       "    </tr>\n",
       "    <tr>\n",
       "      <th>9</th>\n",
       "      <td>satimage</td>\n",
       "      <td>Dict-Wisard</td>\n",
       "      <td>0.8890</td>\n",
       "      <td>0.0064</td>\n",
       "      <td>0.8847</td>\n",
       "      <td>0.0070</td>\n",
       "      <td>6512633.0000</td>\n",
       "      <td>4208685.7637</td>\n",
       "    </tr>\n",
       "    <tr>\n",
       "      <th>10</th>\n",
       "      <td>segment</td>\n",
       "      <td>Dict-Wisard</td>\n",
       "      <td>0.8698</td>\n",
       "      <td>0.0180</td>\n",
       "      <td>0.8643</td>\n",
       "      <td>0.0180</td>\n",
       "      <td>120942.4667</td>\n",
       "      <td>45349.3171</td>\n",
       "    </tr>\n",
       "    <tr>\n",
       "      <th>11</th>\n",
       "      <td>sepsis</td>\n",
       "      <td>Dict-Wisard</td>\n",
       "      <td>0.9174</td>\n",
       "      <td>0.0094</td>\n",
       "      <td>0.8883</td>\n",
       "      <td>0.0036</td>\n",
       "      <td>11439.2667</td>\n",
       "      <td>7991.0903</td>\n",
       "    </tr>\n",
       "    <tr>\n",
       "      <th>12</th>\n",
       "      <td>vehicle</td>\n",
       "      <td>Dict-Wisard</td>\n",
       "      <td>0.8672</td>\n",
       "      <td>0.0368</td>\n",
       "      <td>0.8649</td>\n",
       "      <td>0.0383</td>\n",
       "      <td>353672.5333</td>\n",
       "      <td>221462.6439</td>\n",
       "    </tr>\n",
       "    <tr>\n",
       "      <th>13</th>\n",
       "      <td>wine</td>\n",
       "      <td>Dict-Wisard</td>\n",
       "      <td>0.9342</td>\n",
       "      <td>0.0348</td>\n",
       "      <td>0.9339</td>\n",
       "      <td>0.0349</td>\n",
       "      <td>51648.3333</td>\n",
       "      <td>56012.6483</td>\n",
       "    </tr>\n",
       "    <tr>\n",
       "      <th>14</th>\n",
       "      <td>yeast</td>\n",
       "      <td>Dict-Wisard</td>\n",
       "      <td>0.5091</td>\n",
       "      <td>0.0605</td>\n",
       "      <td>0.4874</td>\n",
       "      <td>0.0695</td>\n",
       "      <td>432361.8000</td>\n",
       "      <td>185991.4349</td>\n",
       "    </tr>\n",
       "  </tbody>\n",
       "</table>\n",
       "</div>"
      ],
      "text/plain": [
       "                dataset        model  accuracy  accuracy_std     f1  f1_std  \\\n",
       "0         breast_cancer  Dict-Wisard    0.9279        0.0159 0.9274  0.0163   \n",
       "1              dry_bean  Dict-Wisard    0.9011        0.0047 0.9012  0.0043   \n",
       "2                 glass  Dict-Wisard    0.6231        0.0194 0.5661  0.0213   \n",
       "3    image_segmentation  Dict-Wisard    0.6540        0.2596 0.6492  0.2615   \n",
       "4                  iris  Dict-Wisard    0.9600        0.0513 0.9595  0.0519   \n",
       "5                letter  Dict-Wisard    0.8739        0.0291 0.8751  0.0286   \n",
       "6          motion_sense  Dict-Wisard    0.7314        0.0423 0.7181  0.0441   \n",
       "7   optical_handwritten  Dict-Wisard    0.9714        0.0083 0.9714  0.0083   \n",
       "8                  rice  Dict-Wisard    0.9052        0.0115 0.9051  0.0116   \n",
       "9              satimage  Dict-Wisard    0.8890        0.0064 0.8847  0.0070   \n",
       "10              segment  Dict-Wisard    0.8698        0.0180 0.8643  0.0180   \n",
       "11               sepsis  Dict-Wisard    0.9174        0.0094 0.8883  0.0036   \n",
       "12              vehicle  Dict-Wisard    0.8672        0.0368 0.8649  0.0383   \n",
       "13                 wine  Dict-Wisard    0.9342        0.0348 0.9339  0.0349   \n",
       "14                yeast  Dict-Wisard    0.5091        0.0605 0.4874  0.0695   \n",
       "\n",
       "      model_size  model_size_std  \n",
       "0     40581.0000      23921.9804  \n",
       "1    688523.4000     481035.0196  \n",
       "2     37794.8000      21282.6736  \n",
       "3    107542.8000      63761.3701  \n",
       "4      3418.0667       3621.7708  \n",
       "5   7193661.8667    4057207.8151  \n",
       "6  46898528.6667   18848361.5343  \n",
       "7   8721863.2667    7681296.4388  \n",
       "8     24524.9333      25997.3475  \n",
       "9   6512633.0000    4208685.7637  \n",
       "10   120942.4667      45349.3171  \n",
       "11    11439.2667       7991.0903  \n",
       "12   353672.5333     221462.6439  \n",
       "13    51648.3333      56012.6483  \n",
       "14   432361.8000     185991.4349  "
      ]
     },
     "execution_count": 6,
     "metadata": {},
     "output_type": "execute_result"
    }
   ],
   "source": [
    "dict_wisard_results = wisard_results[(wisard_results[\"config_name\"] == \"Dict\")]\n",
    "# dict_wisard_results = wisard_results\n",
    "\n",
    "lines = []\n",
    "for (dataset, fold), dataset_df in dict_wisard_results.groupby([\"dataset\", \"fold\"]):\n",
    "    metric_name = datasets_info.loc[datasets_info[\"dataset_name\"] == dataset, \"metric\"].iloc[0]\n",
    "    line = dataset_df.sort_values(by=f\"val_{metric_name}_mean\", ascending=False).iloc[0]\n",
    "    lines.append(line)\n",
    "\n",
    "dict_wisard_results = pd.DataFrame(lines)\n",
    "\n",
    "dict_wisard_results = aggregate_mean_std(\n",
    "    dict_wisard_results, \n",
    "    group_by=[\"dataset\"],\n",
    "    keys_to_aggregate=[\"accuracy\", \"f1\", \"model_size\"]\n",
    ")\n",
    "\n",
    "dict_wisard_results[\"model\"] = \"Dict-Wisard\"\n",
    "\n",
    "# Rearange columns\n",
    "dict_wisard_results = dict_wisard_results[[\n",
    "    \"dataset\",\n",
    "    \"model\",\n",
    "    \"accuracy\",\n",
    "    \"accuracy_std\",\n",
    "    \"f1\",\n",
    "    \"f1_std\",\n",
    "    \"model_size\",\n",
    "    \"model_size_std\",\n",
    "]]\n",
    "\n",
    "dict_wisard_results"
   ]
  },
  {
   "cell_type": "markdown",
   "metadata": {},
   "source": [
    "#### Scikit Learn results\n",
    "\n",
    "Read and parse sklearn result to `sklearn_results` dataframe."
   ]
  },
  {
   "cell_type": "code",
   "execution_count": 7,
   "metadata": {},
   "outputs": [
    {
     "data": {
      "text/html": [
       "<div>\n",
       "<style scoped>\n",
       "    .dataframe tbody tr th:only-of-type {\n",
       "        vertical-align: middle;\n",
       "    }\n",
       "\n",
       "    .dataframe tbody tr th {\n",
       "        vertical-align: top;\n",
       "    }\n",
       "\n",
       "    .dataframe thead th {\n",
       "        text-align: right;\n",
       "    }\n",
       "</style>\n",
       "<table border=\"1\" class=\"dataframe\">\n",
       "  <thead>\n",
       "    <tr style=\"text-align: right;\">\n",
       "      <th></th>\n",
       "      <th>dataset</th>\n",
       "      <th>model</th>\n",
       "      <th>val_accuracy_mean</th>\n",
       "      <th>val_accuracy_std</th>\n",
       "      <th>val_f1 weighted_mean</th>\n",
       "      <th>val_f1 weighted_std</th>\n",
       "      <th>val_model size_mean</th>\n",
       "      <th>val_model size_std</th>\n",
       "      <th>accuracy</th>\n",
       "      <th>accuracy_std</th>\n",
       "      <th>f1</th>\n",
       "      <th>f1_std</th>\n",
       "      <th>model_size</th>\n",
       "      <th>model_size_std</th>\n",
       "      <th>fold</th>\n",
       "    </tr>\n",
       "  </thead>\n",
       "  <tbody>\n",
       "    <tr>\n",
       "      <th>306</th>\n",
       "      <td>breast_cancer</td>\n",
       "      <td>knn</td>\n",
       "      <td>0.9011</td>\n",
       "      <td>0.0000</td>\n",
       "      <td>0.8993</td>\n",
       "      <td>0.0000</td>\n",
       "      <td>90944.0000</td>\n",
       "      <td>0.0000</td>\n",
       "      <td>0.9211</td>\n",
       "      <td>0.0000</td>\n",
       "      <td>0.9194</td>\n",
       "      <td>0.0000</td>\n",
       "      <td>90944.0000</td>\n",
       "      <td>0.0000</td>\n",
       "      <td>3</td>\n",
       "    </tr>\n",
       "    <tr>\n",
       "      <th>618</th>\n",
       "      <td>optical_handwritten</td>\n",
       "      <td>svm</td>\n",
       "      <td>0.7667</td>\n",
       "      <td>0.0000</td>\n",
       "      <td>0.8088</td>\n",
       "      <td>0.0000</td>\n",
       "      <td>2111983.0000</td>\n",
       "      <td>0.0000</td>\n",
       "      <td>0.7286</td>\n",
       "      <td>0.0000</td>\n",
       "      <td>0.7797</td>\n",
       "      <td>0.0000</td>\n",
       "      <td>2111983.0000</td>\n",
       "      <td>0.0000</td>\n",
       "      <td>2</td>\n",
       "    </tr>\n",
       "  </tbody>\n",
       "</table>\n",
       "</div>"
      ],
      "text/plain": [
       "                 dataset model  val_accuracy_mean  val_accuracy_std  \\\n",
       "306        breast_cancer   knn             0.9011            0.0000   \n",
       "618  optical_handwritten   svm             0.7667            0.0000   \n",
       "\n",
       "     val_f1 weighted_mean  val_f1 weighted_std  val_model size_mean  \\\n",
       "306                0.8993               0.0000           90944.0000   \n",
       "618                0.8088               0.0000         2111983.0000   \n",
       "\n",
       "     val_model size_std  accuracy  accuracy_std     f1  f1_std   model_size  \\\n",
       "306              0.0000    0.9211        0.0000 0.9194  0.0000   90944.0000   \n",
       "618              0.0000    0.7286        0.0000 0.7797  0.0000 2111983.0000   \n",
       "\n",
       "     model_size_std  fold  \n",
       "306          0.0000     3  \n",
       "618          0.0000     2  "
      ]
     },
     "execution_count": 7,
     "metadata": {},
     "output_type": "execute_result"
    }
   ],
   "source": [
    "# Read sklearn results and aggregate multiple runs\n",
    "\n",
    "dfs = []\n",
    "for results_path in results_sklearn_path:\n",
    "    df = pd.read_csv(results_path).drop_duplicates()\n",
    "    model = results_path.stem.split(\"_\")[1]\n",
    "    if model == \"mlp2\":\n",
    "        model = \"mlp\"\n",
    "    df[\"model\"] = model\n",
    "    dfs.append(df)\n",
    "sklearn_results = pd.concat(dfs)\n",
    "sklearn_results\n",
    "\n",
    "sklearn_results = sklearn_results[[\n",
    "    \"dataset_name\",\n",
    "    \"model\",\n",
    "    \"val_accuracy_mean\",\n",
    "    \"val_accuracy_std\",\n",
    "    \"val_f1 weighted_mean\",\n",
    "    \"val_f1 weighted_std\",\n",
    "    \"val_model size_mean\",\n",
    "    \"val_model size_std\",\n",
    "    \"test_accuracy_mean\",\n",
    "    \"test_accuracy_std\",\n",
    "    \"test_f1 weighted_mean\",\n",
    "    \"test_f1 weighted_std\",\n",
    "    \"test_model size_mean\",\n",
    "    \"test_model size_std\",\n",
    "]]\n",
    "\n",
    "sklearn_results = sklearn_results.rename(columns={\n",
    "    \"dataset_name\": \"dataset\",\n",
    "    \"test_accuracy_mean\": \"accuracy\",\n",
    "    \"test_accuracy_std\": \"accuracy_std\",\n",
    "    \"test_f1 weighted_mean\": \"f1\",\n",
    "    \"test_f1 weighted_std\": \"f1_std\",\n",
    "    \"test_model size_mean\": \"model_size\",\n",
    "    \"test_model size_std\": \"model_size_std\", \n",
    "})\n",
    "\n",
    "# Split dataset name from fold\n",
    "sklearn_results[[\"dataset\", \"fold\"]] = sklearn_results[\"dataset\"].str.split(\n",
    "    \"_fold_\", expand=True\n",
    ")\n",
    "sklearn_results[\"fold\"] = sklearn_results[\"fold\"].astype(int)\n",
    "sklearn_results.sample(n=2)"
   ]
  },
  {
   "cell_type": "code",
   "execution_count": 8,
   "metadata": {},
   "outputs": [
    {
     "data": {
      "text/html": [
       "<div>\n",
       "<style scoped>\n",
       "    .dataframe tbody tr th:only-of-type {\n",
       "        vertical-align: middle;\n",
       "    }\n",
       "\n",
       "    .dataframe tbody tr th {\n",
       "        vertical-align: top;\n",
       "    }\n",
       "\n",
       "    .dataframe thead th {\n",
       "        text-align: right;\n",
       "    }\n",
       "</style>\n",
       "<table border=\"1\" class=\"dataframe\">\n",
       "  <thead>\n",
       "    <tr style=\"text-align: right;\">\n",
       "      <th></th>\n",
       "      <th>dataset</th>\n",
       "      <th>model</th>\n",
       "      <th>accuracy</th>\n",
       "      <th>accuracy_std</th>\n",
       "      <th>f1</th>\n",
       "      <th>f1_std</th>\n",
       "      <th>model_size</th>\n",
       "      <th>model_size_std</th>\n",
       "    </tr>\n",
       "  </thead>\n",
       "  <tbody>\n",
       "    <tr>\n",
       "      <th>0</th>\n",
       "      <td>breast_cancer</td>\n",
       "      <td>knn</td>\n",
       "      <td>0.9297</td>\n",
       "      <td>0.0255</td>\n",
       "      <td>0.9288</td>\n",
       "      <td>0.0269</td>\n",
       "      <td>129632.8000</td>\n",
       "      <td>52987.9426</td>\n",
       "    </tr>\n",
       "    <tr>\n",
       "      <th>1</th>\n",
       "      <td>breast_cancer</td>\n",
       "      <td>mlp</td>\n",
       "      <td>0.9315</td>\n",
       "      <td>0.0224</td>\n",
       "      <td>0.9308</td>\n",
       "      <td>0.0241</td>\n",
       "      <td>123549.4667</td>\n",
       "      <td>180986.9919</td>\n",
       "    </tr>\n",
       "    <tr>\n",
       "      <th>2</th>\n",
       "      <td>breast_cancer</td>\n",
       "      <td>rf</td>\n",
       "      <td>0.9554</td>\n",
       "      <td>0.0166</td>\n",
       "      <td>0.9554</td>\n",
       "      <td>0.0167</td>\n",
       "      <td>47683.1333</td>\n",
       "      <td>38508.2852</td>\n",
       "    </tr>\n",
       "    <tr>\n",
       "      <th>3</th>\n",
       "      <td>breast_cancer</td>\n",
       "      <td>svm</td>\n",
       "      <td>0.9561</td>\n",
       "      <td>0.0397</td>\n",
       "      <td>0.9552</td>\n",
       "      <td>0.0417</td>\n",
       "      <td>11406.6000</td>\n",
       "      <td>4215.2497</td>\n",
       "    </tr>\n",
       "    <tr>\n",
       "      <th>4</th>\n",
       "      <td>dry_bean</td>\n",
       "      <td>knn</td>\n",
       "      <td>0.6769</td>\n",
       "      <td>0.1227</td>\n",
       "      <td>0.6777</td>\n",
       "      <td>0.1194</td>\n",
       "      <td>1451882.6000</td>\n",
       "      <td>595903.3982</td>\n",
       "    </tr>\n",
       "    <tr>\n",
       "      <th>5</th>\n",
       "      <td>dry_bean</td>\n",
       "      <td>mlp</td>\n",
       "      <td>0.4762</td>\n",
       "      <td>0.0851</td>\n",
       "      <td>0.3994</td>\n",
       "      <td>0.0829</td>\n",
       "      <td>148391.2667</td>\n",
       "      <td>131486.3227</td>\n",
       "    </tr>\n",
       "    <tr>\n",
       "      <th>6</th>\n",
       "      <td>dry_bean</td>\n",
       "      <td>rf</td>\n",
       "      <td>0.8893</td>\n",
       "      <td>0.0774</td>\n",
       "      <td>0.8894</td>\n",
       "      <td>0.0770</td>\n",
       "      <td>68896552.6000</td>\n",
       "      <td>26015151.5833</td>\n",
       "    </tr>\n",
       "    <tr>\n",
       "      <th>7</th>\n",
       "      <td>dry_bean</td>\n",
       "      <td>svm</td>\n",
       "      <td>0.6490</td>\n",
       "      <td>0.0821</td>\n",
       "      <td>0.6375</td>\n",
       "      <td>0.0826</td>\n",
       "      <td>1121423.8000</td>\n",
       "      <td>51430.1818</td>\n",
       "    </tr>\n",
       "    <tr>\n",
       "      <th>8</th>\n",
       "      <td>glass</td>\n",
       "      <td>knn</td>\n",
       "      <td>0.7011</td>\n",
       "      <td>0.0614</td>\n",
       "      <td>0.6839</td>\n",
       "      <td>0.0646</td>\n",
       "      <td>16552.4000</td>\n",
       "      <td>6786.0425</td>\n",
       "    </tr>\n",
       "    <tr>\n",
       "      <th>9</th>\n",
       "      <td>glass</td>\n",
       "      <td>mlp</td>\n",
       "      <td>0.6405</td>\n",
       "      <td>0.0609</td>\n",
       "      <td>0.6111</td>\n",
       "      <td>0.0550</td>\n",
       "      <td>165909.9333</td>\n",
       "      <td>265660.8744</td>\n",
       "    </tr>\n",
       "    <tr>\n",
       "      <th>10</th>\n",
       "      <td>glass</td>\n",
       "      <td>rf</td>\n",
       "      <td>0.7667</td>\n",
       "      <td>0.0643</td>\n",
       "      <td>0.7505</td>\n",
       "      <td>0.0666</td>\n",
       "      <td>1085006.1333</td>\n",
       "      <td>1873629.4245</td>\n",
       "    </tr>\n",
       "    <tr>\n",
       "      <th>11</th>\n",
       "      <td>glass</td>\n",
       "      <td>svm</td>\n",
       "      <td>0.6681</td>\n",
       "      <td>0.0731</td>\n",
       "      <td>0.6460</td>\n",
       "      <td>0.0845</td>\n",
       "      <td>12319.2000</td>\n",
       "      <td>1267.6317</td>\n",
       "    </tr>\n",
       "    <tr>\n",
       "      <th>12</th>\n",
       "      <td>image_segmentation</td>\n",
       "      <td>knn</td>\n",
       "      <td>0.7143</td>\n",
       "      <td>0.1624</td>\n",
       "      <td>0.7130</td>\n",
       "      <td>0.1603</td>\n",
       "      <td>26796.0000</td>\n",
       "      <td>10411.1325</td>\n",
       "    </tr>\n",
       "    <tr>\n",
       "      <th>13</th>\n",
       "      <td>image_segmentation</td>\n",
       "      <td>mlp</td>\n",
       "      <td>0.8413</td>\n",
       "      <td>0.0177</td>\n",
       "      <td>0.8392</td>\n",
       "      <td>0.0176</td>\n",
       "      <td>270084.0000</td>\n",
       "      <td>329041.9094</td>\n",
       "    </tr>\n",
       "    <tr>\n",
       "      <th>14</th>\n",
       "      <td>image_segmentation</td>\n",
       "      <td>rf</td>\n",
       "      <td>0.9270</td>\n",
       "      <td>0.0299</td>\n",
       "      <td>0.9255</td>\n",
       "      <td>0.0311</td>\n",
       "      <td>230095.2000</td>\n",
       "      <td>368667.9205</td>\n",
       "    </tr>\n",
       "    <tr>\n",
       "      <th>15</th>\n",
       "      <td>image_segmentation</td>\n",
       "      <td>svm</td>\n",
       "      <td>0.8952</td>\n",
       "      <td>0.0271</td>\n",
       "      <td>0.8922</td>\n",
       "      <td>0.0288</td>\n",
       "      <td>11789.4000</td>\n",
       "      <td>622.1164</td>\n",
       "    </tr>\n",
       "    <tr>\n",
       "      <th>16</th>\n",
       "      <td>iris</td>\n",
       "      <td>knn</td>\n",
       "      <td>0.9467</td>\n",
       "      <td>0.0380</td>\n",
       "      <td>0.9461</td>\n",
       "      <td>0.0388</td>\n",
       "      <td>5442.0000</td>\n",
       "      <td>2088.4875</td>\n",
       "    </tr>\n",
       "    <tr>\n",
       "      <th>17</th>\n",
       "      <td>iris</td>\n",
       "      <td>mlp</td>\n",
       "      <td>0.9556</td>\n",
       "      <td>0.0272</td>\n",
       "      <td>0.9553</td>\n",
       "      <td>0.0275</td>\n",
       "      <td>122081.7333</td>\n",
       "      <td>243256.5058</td>\n",
       "    </tr>\n",
       "    <tr>\n",
       "      <th>18</th>\n",
       "      <td>iris</td>\n",
       "      <td>rf</td>\n",
       "      <td>0.9556</td>\n",
       "      <td>0.0377</td>\n",
       "      <td>0.9554</td>\n",
       "      <td>0.0377</td>\n",
       "      <td>210442.4000</td>\n",
       "      <td>271294.9775</td>\n",
       "    </tr>\n",
       "    <tr>\n",
       "      <th>19</th>\n",
       "      <td>iris</td>\n",
       "      <td>svm</td>\n",
       "      <td>0.9400</td>\n",
       "      <td>0.0435</td>\n",
       "      <td>0.9399</td>\n",
       "      <td>0.0436</td>\n",
       "      <td>1945.2000</td>\n",
       "      <td>312.6079</td>\n",
       "    </tr>\n",
       "    <tr>\n",
       "      <th>20</th>\n",
       "      <td>letter</td>\n",
       "      <td>knn</td>\n",
       "      <td>0.9290</td>\n",
       "      <td>0.0169</td>\n",
       "      <td>0.9292</td>\n",
       "      <td>0.0166</td>\n",
       "      <td>3226360.0000</td>\n",
       "      <td>830609.2216</td>\n",
       "    </tr>\n",
       "    <tr>\n",
       "      <th>21</th>\n",
       "      <td>letter</td>\n",
       "      <td>mlp</td>\n",
       "      <td>0.8846</td>\n",
       "      <td>0.0103</td>\n",
       "      <td>0.8847</td>\n",
       "      <td>0.0102</td>\n",
       "      <td>78494.3000</td>\n",
       "      <td>19699.5126</td>\n",
       "    </tr>\n",
       "    <tr>\n",
       "      <th>22</th>\n",
       "      <td>letter</td>\n",
       "      <td>rf</td>\n",
       "      <td>0.9594</td>\n",
       "      <td>0.0034</td>\n",
       "      <td>0.9595</td>\n",
       "      <td>0.0034</td>\n",
       "      <td>736145437.3333</td>\n",
       "      <td>257105238.7903</td>\n",
       "    </tr>\n",
       "    <tr>\n",
       "      <th>23</th>\n",
       "      <td>letter</td>\n",
       "      <td>svm</td>\n",
       "      <td>0.9626</td>\n",
       "      <td>0.0106</td>\n",
       "      <td>0.9626</td>\n",
       "      <td>0.0106</td>\n",
       "      <td>1769172.8000</td>\n",
       "      <td>460932.1245</td>\n",
       "    </tr>\n",
       "    <tr>\n",
       "      <th>24</th>\n",
       "      <td>motion_sense</td>\n",
       "      <td>knn</td>\n",
       "      <td>0.7307</td>\n",
       "      <td>0.1349</td>\n",
       "      <td>0.7290</td>\n",
       "      <td>0.1346</td>\n",
       "      <td>11693155.0000</td>\n",
       "      <td>4791894.4560</td>\n",
       "    </tr>\n",
       "    <tr>\n",
       "      <th>25</th>\n",
       "      <td>motion_sense</td>\n",
       "      <td>mlp</td>\n",
       "      <td>0.8439</td>\n",
       "      <td>0.0324</td>\n",
       "      <td>0.8433</td>\n",
       "      <td>0.0331</td>\n",
       "      <td>1045302.8000</td>\n",
       "      <td>781018.3406</td>\n",
       "    </tr>\n",
       "    <tr>\n",
       "      <th>26</th>\n",
       "      <td>motion_sense</td>\n",
       "      <td>rf</td>\n",
       "      <td>0.9150</td>\n",
       "      <td>0.0086</td>\n",
       "      <td>0.9148</td>\n",
       "      <td>0.0088</td>\n",
       "      <td>53741212.0000</td>\n",
       "      <td>15671675.6569</td>\n",
       "    </tr>\n",
       "    <tr>\n",
       "      <th>27</th>\n",
       "      <td>motion_sense</td>\n",
       "      <td>svm</td>\n",
       "      <td>0.8342</td>\n",
       "      <td>0.0142</td>\n",
       "      <td>0.8302</td>\n",
       "      <td>0.0151</td>\n",
       "      <td>6581738.8000</td>\n",
       "      <td>71710.6784</td>\n",
       "    </tr>\n",
       "    <tr>\n",
       "      <th>28</th>\n",
       "      <td>optical_handwritten</td>\n",
       "      <td>knn</td>\n",
       "      <td>0.9867</td>\n",
       "      <td>0.0028</td>\n",
       "      <td>0.9867</td>\n",
       "      <td>0.0028</td>\n",
       "      <td>2646494.4000</td>\n",
       "      <td>1062355.9173</td>\n",
       "    </tr>\n",
       "    <tr>\n",
       "      <th>29</th>\n",
       "      <td>optical_handwritten</td>\n",
       "      <td>mlp</td>\n",
       "      <td>0.9850</td>\n",
       "      <td>0.0038</td>\n",
       "      <td>0.9850</td>\n",
       "      <td>0.0038</td>\n",
       "      <td>408229.6667</td>\n",
       "      <td>57144.9637</td>\n",
       "    </tr>\n",
       "    <tr>\n",
       "      <th>30</th>\n",
       "      <td>optical_handwritten</td>\n",
       "      <td>rf</td>\n",
       "      <td>0.9827</td>\n",
       "      <td>0.0040</td>\n",
       "      <td>0.9827</td>\n",
       "      <td>0.0040</td>\n",
       "      <td>69567581.8667</td>\n",
       "      <td>29772050.6502</td>\n",
       "    </tr>\n",
       "    <tr>\n",
       "      <th>31</th>\n",
       "      <td>optical_handwritten</td>\n",
       "      <td>svm</td>\n",
       "      <td>0.9904</td>\n",
       "      <td>0.0025</td>\n",
       "      <td>0.9904</td>\n",
       "      <td>0.0025</td>\n",
       "      <td>486524.0000</td>\n",
       "      <td>66662.3800</td>\n",
       "    </tr>\n",
       "    <tr>\n",
       "      <th>32</th>\n",
       "      <td>rice</td>\n",
       "      <td>knn</td>\n",
       "      <td>0.8811</td>\n",
       "      <td>0.0168</td>\n",
       "      <td>0.8804</td>\n",
       "      <td>0.0173</td>\n",
       "      <td>258792.4000</td>\n",
       "      <td>93238.6806</td>\n",
       "    </tr>\n",
       "    <tr>\n",
       "      <th>33</th>\n",
       "      <td>rice</td>\n",
       "      <td>mlp</td>\n",
       "      <td>0.8645</td>\n",
       "      <td>0.0594</td>\n",
       "      <td>0.8433</td>\n",
       "      <td>0.0868</td>\n",
       "      <td>124257.6333</td>\n",
       "      <td>171051.7273</td>\n",
       "    </tr>\n",
       "    <tr>\n",
       "      <th>34</th>\n",
       "      <td>rice</td>\n",
       "      <td>rf</td>\n",
       "      <td>0.9256</td>\n",
       "      <td>0.0123</td>\n",
       "      <td>0.9255</td>\n",
       "      <td>0.0124</td>\n",
       "      <td>2888672.0667</td>\n",
       "      <td>3950983.0176</td>\n",
       "    </tr>\n",
       "    <tr>\n",
       "      <th>35</th>\n",
       "      <td>rice</td>\n",
       "      <td>svm</td>\n",
       "      <td>0.9304</td>\n",
       "      <td>0.0116</td>\n",
       "      <td>0.9304</td>\n",
       "      <td>0.0116</td>\n",
       "      <td>25530.0000</td>\n",
       "      <td>575.6857</td>\n",
       "    </tr>\n",
       "    <tr>\n",
       "      <th>36</th>\n",
       "      <td>satimage</td>\n",
       "      <td>knn</td>\n",
       "      <td>0.9039</td>\n",
       "      <td>0.0054</td>\n",
       "      <td>0.9038</td>\n",
       "      <td>0.0058</td>\n",
       "      <td>1478789.6000</td>\n",
       "      <td>581477.4028</td>\n",
       "    </tr>\n",
       "    <tr>\n",
       "      <th>37</th>\n",
       "      <td>satimage</td>\n",
       "      <td>mlp</td>\n",
       "      <td>0.9051</td>\n",
       "      <td>0.0058</td>\n",
       "      <td>0.9036</td>\n",
       "      <td>0.0062</td>\n",
       "      <td>200222.0000</td>\n",
       "      <td>103756.5308</td>\n",
       "    </tr>\n",
       "    <tr>\n",
       "      <th>38</th>\n",
       "      <td>satimage</td>\n",
       "      <td>rf</td>\n",
       "      <td>0.9118</td>\n",
       "      <td>0.0034</td>\n",
       "      <td>0.9090</td>\n",
       "      <td>0.0038</td>\n",
       "      <td>33612834.5333</td>\n",
       "      <td>27291674.3443</td>\n",
       "    </tr>\n",
       "    <tr>\n",
       "      <th>39</th>\n",
       "      <td>satimage</td>\n",
       "      <td>svm</td>\n",
       "      <td>0.9081</td>\n",
       "      <td>0.0047</td>\n",
       "      <td>0.9068</td>\n",
       "      <td>0.0053</td>\n",
       "      <td>357926.0000</td>\n",
       "      <td>7240.5388</td>\n",
       "    </tr>\n",
       "    <tr>\n",
       "      <th>40</th>\n",
       "      <td>segment</td>\n",
       "      <td>knn</td>\n",
       "      <td>0.9541</td>\n",
       "      <td>0.0120</td>\n",
       "      <td>0.9541</td>\n",
       "      <td>0.0122</td>\n",
       "      <td>237192.6000</td>\n",
       "      <td>2.5100</td>\n",
       "    </tr>\n",
       "    <tr>\n",
       "      <th>41</th>\n",
       "      <td>segment</td>\n",
       "      <td>mlp</td>\n",
       "      <td>0.9673</td>\n",
       "      <td>0.0083</td>\n",
       "      <td>0.9673</td>\n",
       "      <td>0.0083</td>\n",
       "      <td>417442.5667</td>\n",
       "      <td>272854.1914</td>\n",
       "    </tr>\n",
       "    <tr>\n",
       "      <th>42</th>\n",
       "      <td>segment</td>\n",
       "      <td>rf</td>\n",
       "      <td>0.9760</td>\n",
       "      <td>0.0043</td>\n",
       "      <td>0.9760</td>\n",
       "      <td>0.0042</td>\n",
       "      <td>2451782.8000</td>\n",
       "      <td>2639520.7778</td>\n",
       "    </tr>\n",
       "    <tr>\n",
       "      <th>43</th>\n",
       "      <td>segment</td>\n",
       "      <td>svm</td>\n",
       "      <td>0.9593</td>\n",
       "      <td>0.0082</td>\n",
       "      <td>0.9594</td>\n",
       "      <td>0.0079</td>\n",
       "      <td>48975.2000</td>\n",
       "      <td>10818.3576</td>\n",
       "    </tr>\n",
       "    <tr>\n",
       "      <th>44</th>\n",
       "      <td>sepsis</td>\n",
       "      <td>knn</td>\n",
       "      <td>0.9256</td>\n",
       "      <td>0.0009</td>\n",
       "      <td>0.8910</td>\n",
       "      <td>0.0003</td>\n",
       "      <td>4809122.2000</td>\n",
       "      <td>53816.6679</td>\n",
       "    </tr>\n",
       "    <tr>\n",
       "      <th>45</th>\n",
       "      <td>sepsis</td>\n",
       "      <td>mlp</td>\n",
       "      <td>0.9263</td>\n",
       "      <td>0.0000</td>\n",
       "      <td>0.8909</td>\n",
       "      <td>0.0000</td>\n",
       "      <td>14440.1333</td>\n",
       "      <td>7735.9066</td>\n",
       "    </tr>\n",
       "    <tr>\n",
       "      <th>46</th>\n",
       "      <td>sepsis</td>\n",
       "      <td>rf</td>\n",
       "      <td>0.9262</td>\n",
       "      <td>0.0001</td>\n",
       "      <td>0.8909</td>\n",
       "      <td>0.0000</td>\n",
       "      <td>25487690.7333</td>\n",
       "      <td>32132460.2806</td>\n",
       "    </tr>\n",
       "    <tr>\n",
       "      <th>47</th>\n",
       "      <td>sepsis</td>\n",
       "      <td>svm</td>\n",
       "      <td>0.9263</td>\n",
       "      <td>0.0000</td>\n",
       "      <td>0.8909</td>\n",
       "      <td>0.0000</td>\n",
       "      <td>461097.6000</td>\n",
       "      <td>2842.3226</td>\n",
       "    </tr>\n",
       "    <tr>\n",
       "      <th>48</th>\n",
       "      <td>vehicle</td>\n",
       "      <td>knn</td>\n",
       "      <td>0.8428</td>\n",
       "      <td>0.0231</td>\n",
       "      <td>0.8432</td>\n",
       "      <td>0.0228</td>\n",
       "      <td>82885.2000</td>\n",
       "      <td>70.5493</td>\n",
       "    </tr>\n",
       "    <tr>\n",
       "      <th>49</th>\n",
       "      <td>vehicle</td>\n",
       "      <td>mlp</td>\n",
       "      <td>0.9197</td>\n",
       "      <td>0.0225</td>\n",
       "      <td>0.9196</td>\n",
       "      <td>0.0229</td>\n",
       "      <td>356971.3000</td>\n",
       "      <td>364704.7722</td>\n",
       "    </tr>\n",
       "    <tr>\n",
       "      <th>50</th>\n",
       "      <td>vehicle</td>\n",
       "      <td>rf</td>\n",
       "      <td>0.9547</td>\n",
       "      <td>0.0127</td>\n",
       "      <td>0.9548</td>\n",
       "      <td>0.0126</td>\n",
       "      <td>1969421.2000</td>\n",
       "      <td>3445487.6381</td>\n",
       "    </tr>\n",
       "    <tr>\n",
       "      <th>51</th>\n",
       "      <td>vehicle</td>\n",
       "      <td>svm</td>\n",
       "      <td>0.9386</td>\n",
       "      <td>0.0222</td>\n",
       "      <td>0.9385</td>\n",
       "      <td>0.0226</td>\n",
       "      <td>20236.8000</td>\n",
       "      <td>7469.8959</td>\n",
       "    </tr>\n",
       "    <tr>\n",
       "      <th>52</th>\n",
       "      <td>wine</td>\n",
       "      <td>knn</td>\n",
       "      <td>0.7078</td>\n",
       "      <td>0.0584</td>\n",
       "      <td>0.7088</td>\n",
       "      <td>0.0519</td>\n",
       "      <td>18982.2000</td>\n",
       "      <td>7748.2659</td>\n",
       "    </tr>\n",
       "    <tr>\n",
       "      <th>53</th>\n",
       "      <td>wine</td>\n",
       "      <td>mlp</td>\n",
       "      <td>0.9359</td>\n",
       "      <td>0.0511</td>\n",
       "      <td>0.9356</td>\n",
       "      <td>0.0519</td>\n",
       "      <td>615356.2667</td>\n",
       "      <td>698339.9163</td>\n",
       "    </tr>\n",
       "    <tr>\n",
       "      <th>54</th>\n",
       "      <td>wine</td>\n",
       "      <td>rf</td>\n",
       "      <td>0.9811</td>\n",
       "      <td>0.0293</td>\n",
       "      <td>0.9810</td>\n",
       "      <td>0.0297</td>\n",
       "      <td>277200.1333</td>\n",
       "      <td>503175.3525</td>\n",
       "    </tr>\n",
       "    <tr>\n",
       "      <th>55</th>\n",
       "      <td>wine</td>\n",
       "      <td>svm</td>\n",
       "      <td>0.9433</td>\n",
       "      <td>0.0531</td>\n",
       "      <td>0.9434</td>\n",
       "      <td>0.0529</td>\n",
       "      <td>3665.0000</td>\n",
       "      <td>394.2766</td>\n",
       "    </tr>\n",
       "    <tr>\n",
       "      <th>56</th>\n",
       "      <td>yeast</td>\n",
       "      <td>knn</td>\n",
       "      <td>0.5923</td>\n",
       "      <td>0.0253</td>\n",
       "      <td>0.5795</td>\n",
       "      <td>0.0239</td>\n",
       "      <td>83453.2000</td>\n",
       "      <td>32134.9952</td>\n",
       "    </tr>\n",
       "    <tr>\n",
       "      <th>57</th>\n",
       "      <td>yeast</td>\n",
       "      <td>mlp</td>\n",
       "      <td>0.5877</td>\n",
       "      <td>0.0243</td>\n",
       "      <td>0.5801</td>\n",
       "      <td>0.0239</td>\n",
       "      <td>95937.8000</td>\n",
       "      <td>177769.6955</td>\n",
       "    </tr>\n",
       "    <tr>\n",
       "      <th>58</th>\n",
       "      <td>yeast</td>\n",
       "      <td>rf</td>\n",
       "      <td>0.5757</td>\n",
       "      <td>0.0617</td>\n",
       "      <td>0.5695</td>\n",
       "      <td>0.0567</td>\n",
       "      <td>25788373.4000</td>\n",
       "      <td>32838249.9433</td>\n",
       "    </tr>\n",
       "    <tr>\n",
       "      <th>59</th>\n",
       "      <td>yeast</td>\n",
       "      <td>svm</td>\n",
       "      <td>0.5856</td>\n",
       "      <td>0.0158</td>\n",
       "      <td>0.5773</td>\n",
       "      <td>0.0196</td>\n",
       "      <td>108023.2000</td>\n",
       "      <td>5861.3365</td>\n",
       "    </tr>\n",
       "  </tbody>\n",
       "</table>\n",
       "</div>"
      ],
      "text/plain": [
       "                dataset model  accuracy  accuracy_std     f1  f1_std  \\\n",
       "0         breast_cancer   knn    0.9297        0.0255 0.9288  0.0269   \n",
       "1         breast_cancer   mlp    0.9315        0.0224 0.9308  0.0241   \n",
       "2         breast_cancer    rf    0.9554        0.0166 0.9554  0.0167   \n",
       "3         breast_cancer   svm    0.9561        0.0397 0.9552  0.0417   \n",
       "4              dry_bean   knn    0.6769        0.1227 0.6777  0.1194   \n",
       "5              dry_bean   mlp    0.4762        0.0851 0.3994  0.0829   \n",
       "6              dry_bean    rf    0.8893        0.0774 0.8894  0.0770   \n",
       "7              dry_bean   svm    0.6490        0.0821 0.6375  0.0826   \n",
       "8                 glass   knn    0.7011        0.0614 0.6839  0.0646   \n",
       "9                 glass   mlp    0.6405        0.0609 0.6111  0.0550   \n",
       "10                glass    rf    0.7667        0.0643 0.7505  0.0666   \n",
       "11                glass   svm    0.6681        0.0731 0.6460  0.0845   \n",
       "12   image_segmentation   knn    0.7143        0.1624 0.7130  0.1603   \n",
       "13   image_segmentation   mlp    0.8413        0.0177 0.8392  0.0176   \n",
       "14   image_segmentation    rf    0.9270        0.0299 0.9255  0.0311   \n",
       "15   image_segmentation   svm    0.8952        0.0271 0.8922  0.0288   \n",
       "16                 iris   knn    0.9467        0.0380 0.9461  0.0388   \n",
       "17                 iris   mlp    0.9556        0.0272 0.9553  0.0275   \n",
       "18                 iris    rf    0.9556        0.0377 0.9554  0.0377   \n",
       "19                 iris   svm    0.9400        0.0435 0.9399  0.0436   \n",
       "20               letter   knn    0.9290        0.0169 0.9292  0.0166   \n",
       "21               letter   mlp    0.8846        0.0103 0.8847  0.0102   \n",
       "22               letter    rf    0.9594        0.0034 0.9595  0.0034   \n",
       "23               letter   svm    0.9626        0.0106 0.9626  0.0106   \n",
       "24         motion_sense   knn    0.7307        0.1349 0.7290  0.1346   \n",
       "25         motion_sense   mlp    0.8439        0.0324 0.8433  0.0331   \n",
       "26         motion_sense    rf    0.9150        0.0086 0.9148  0.0088   \n",
       "27         motion_sense   svm    0.8342        0.0142 0.8302  0.0151   \n",
       "28  optical_handwritten   knn    0.9867        0.0028 0.9867  0.0028   \n",
       "29  optical_handwritten   mlp    0.9850        0.0038 0.9850  0.0038   \n",
       "30  optical_handwritten    rf    0.9827        0.0040 0.9827  0.0040   \n",
       "31  optical_handwritten   svm    0.9904        0.0025 0.9904  0.0025   \n",
       "32                 rice   knn    0.8811        0.0168 0.8804  0.0173   \n",
       "33                 rice   mlp    0.8645        0.0594 0.8433  0.0868   \n",
       "34                 rice    rf    0.9256        0.0123 0.9255  0.0124   \n",
       "35                 rice   svm    0.9304        0.0116 0.9304  0.0116   \n",
       "36             satimage   knn    0.9039        0.0054 0.9038  0.0058   \n",
       "37             satimage   mlp    0.9051        0.0058 0.9036  0.0062   \n",
       "38             satimage    rf    0.9118        0.0034 0.9090  0.0038   \n",
       "39             satimage   svm    0.9081        0.0047 0.9068  0.0053   \n",
       "40              segment   knn    0.9541        0.0120 0.9541  0.0122   \n",
       "41              segment   mlp    0.9673        0.0083 0.9673  0.0083   \n",
       "42              segment    rf    0.9760        0.0043 0.9760  0.0042   \n",
       "43              segment   svm    0.9593        0.0082 0.9594  0.0079   \n",
       "44               sepsis   knn    0.9256        0.0009 0.8910  0.0003   \n",
       "45               sepsis   mlp    0.9263        0.0000 0.8909  0.0000   \n",
       "46               sepsis    rf    0.9262        0.0001 0.8909  0.0000   \n",
       "47               sepsis   svm    0.9263        0.0000 0.8909  0.0000   \n",
       "48              vehicle   knn    0.8428        0.0231 0.8432  0.0228   \n",
       "49              vehicle   mlp    0.9197        0.0225 0.9196  0.0229   \n",
       "50              vehicle    rf    0.9547        0.0127 0.9548  0.0126   \n",
       "51              vehicle   svm    0.9386        0.0222 0.9385  0.0226   \n",
       "52                 wine   knn    0.7078        0.0584 0.7088  0.0519   \n",
       "53                 wine   mlp    0.9359        0.0511 0.9356  0.0519   \n",
       "54                 wine    rf    0.9811        0.0293 0.9810  0.0297   \n",
       "55                 wine   svm    0.9433        0.0531 0.9434  0.0529   \n",
       "56                yeast   knn    0.5923        0.0253 0.5795  0.0239   \n",
       "57                yeast   mlp    0.5877        0.0243 0.5801  0.0239   \n",
       "58                yeast    rf    0.5757        0.0617 0.5695  0.0567   \n",
       "59                yeast   svm    0.5856        0.0158 0.5773  0.0196   \n",
       "\n",
       "       model_size  model_size_std  \n",
       "0     129632.8000      52987.9426  \n",
       "1     123549.4667     180986.9919  \n",
       "2      47683.1333      38508.2852  \n",
       "3      11406.6000       4215.2497  \n",
       "4    1451882.6000     595903.3982  \n",
       "5     148391.2667     131486.3227  \n",
       "6   68896552.6000   26015151.5833  \n",
       "7    1121423.8000      51430.1818  \n",
       "8      16552.4000       6786.0425  \n",
       "9     165909.9333     265660.8744  \n",
       "10   1085006.1333    1873629.4245  \n",
       "11     12319.2000       1267.6317  \n",
       "12     26796.0000      10411.1325  \n",
       "13    270084.0000     329041.9094  \n",
       "14    230095.2000     368667.9205  \n",
       "15     11789.4000        622.1164  \n",
       "16      5442.0000       2088.4875  \n",
       "17    122081.7333     243256.5058  \n",
       "18    210442.4000     271294.9775  \n",
       "19      1945.2000        312.6079  \n",
       "20   3226360.0000     830609.2216  \n",
       "21     78494.3000      19699.5126  \n",
       "22 736145437.3333  257105238.7903  \n",
       "23   1769172.8000     460932.1245  \n",
       "24  11693155.0000    4791894.4560  \n",
       "25   1045302.8000     781018.3406  \n",
       "26  53741212.0000   15671675.6569  \n",
       "27   6581738.8000      71710.6784  \n",
       "28   2646494.4000    1062355.9173  \n",
       "29    408229.6667      57144.9637  \n",
       "30  69567581.8667   29772050.6502  \n",
       "31    486524.0000      66662.3800  \n",
       "32    258792.4000      93238.6806  \n",
       "33    124257.6333     171051.7273  \n",
       "34   2888672.0667    3950983.0176  \n",
       "35     25530.0000        575.6857  \n",
       "36   1478789.6000     581477.4028  \n",
       "37    200222.0000     103756.5308  \n",
       "38  33612834.5333   27291674.3443  \n",
       "39    357926.0000       7240.5388  \n",
       "40    237192.6000          2.5100  \n",
       "41    417442.5667     272854.1914  \n",
       "42   2451782.8000    2639520.7778  \n",
       "43     48975.2000      10818.3576  \n",
       "44   4809122.2000      53816.6679  \n",
       "45     14440.1333       7735.9066  \n",
       "46  25487690.7333   32132460.2806  \n",
       "47    461097.6000       2842.3226  \n",
       "48     82885.2000         70.5493  \n",
       "49    356971.3000     364704.7722  \n",
       "50   1969421.2000    3445487.6381  \n",
       "51     20236.8000       7469.8959  \n",
       "52     18982.2000       7748.2659  \n",
       "53    615356.2667     698339.9163  \n",
       "54    277200.1333     503175.3525  \n",
       "55      3665.0000        394.2766  \n",
       "56     83453.2000      32134.9952  \n",
       "57     95937.8000     177769.6955  \n",
       "58  25788373.4000   32838249.9433  \n",
       "59    108023.2000       5861.3365  "
      ]
     },
     "execution_count": 8,
     "metadata": {},
     "output_type": "execute_result"
    }
   ],
   "source": [
    "lines = []\n",
    "for (dataset,fold,moel), dataset_df in sklearn_results.groupby([\"dataset\", \"fold\", \"model\"]):\n",
    "    metric_name = datasets_info.loc[datasets_info[\"dataset_name\"] == dataset, \"metric\"].iloc[0]\n",
    "    # if metric_name == \"f1 weighted\":\n",
    "    #     metric_name = \"f1\"\n",
    "    # # Model with hishest\n",
    "    # line = dataset_df.sort_values(by=metric_name, ascending=False).iloc[0]\n",
    "    line = dataset_df.sort_values(by=f\"val_{metric_name}_mean\", ascending=False).iloc[0]\n",
    "    lines.append(line)\n",
    "    \n",
    "sklearn_results = pd.DataFrame(lines)\n",
    "\n",
    "sklearn_results = aggregate_mean_std(\n",
    "    sklearn_results, \n",
    "    group_by=[\"dataset\", \"model\"],\n",
    "    keys_to_aggregate=[\"accuracy\", \"f1\", \"model_size\"]\n",
    ")\n",
    "\n",
    "sklearn_results = sklearn_results[[\n",
    "    \"dataset\",\n",
    "    \"model\",\n",
    "    \"accuracy\",\n",
    "    \"accuracy_std\",\n",
    "    \"f1\",\n",
    "    \"f1_std\",\n",
    "    \"model_size\",\n",
    "    \"model_size_std\",\n",
    "]]\n",
    "\n",
    "sklearn_results"
   ]
  },
  {
   "cell_type": "code",
   "execution_count": 9,
   "metadata": {},
   "outputs": [
    {
     "data": {
      "text/html": [
       "<div>\n",
       "<style scoped>\n",
       "    .dataframe tbody tr th:only-of-type {\n",
       "        vertical-align: middle;\n",
       "    }\n",
       "\n",
       "    .dataframe tbody tr th {\n",
       "        vertical-align: top;\n",
       "    }\n",
       "\n",
       "    .dataframe thead th {\n",
       "        text-align: right;\n",
       "    }\n",
       "</style>\n",
       "<table border=\"1\" class=\"dataframe\">\n",
       "  <thead>\n",
       "    <tr style=\"text-align: right;\">\n",
       "      <th></th>\n",
       "      <th>dataset</th>\n",
       "      <th>model</th>\n",
       "      <th>accuracy</th>\n",
       "      <th>accuracy_std</th>\n",
       "      <th>f1</th>\n",
       "      <th>f1_std</th>\n",
       "      <th>model_size</th>\n",
       "      <th>model_size_std</th>\n",
       "    </tr>\n",
       "  </thead>\n",
       "  <tbody>\n",
       "    <tr>\n",
       "      <th>60</th>\n",
       "      <td>vehicle</td>\n",
       "      <td>Dict-Wisard</td>\n",
       "      <td>0.8672</td>\n",
       "      <td>0.0368</td>\n",
       "      <td>0.8649</td>\n",
       "      <td>0.0383</td>\n",
       "      <td>353672.5333</td>\n",
       "      <td>221462.6439</td>\n",
       "    </tr>\n",
       "    <tr>\n",
       "      <th>56</th>\n",
       "      <td>sepsis</td>\n",
       "      <td>knn</td>\n",
       "      <td>0.9256</td>\n",
       "      <td>0.0009</td>\n",
       "      <td>0.8910</td>\n",
       "      <td>0.0003</td>\n",
       "      <td>4809122.2000</td>\n",
       "      <td>53816.6679</td>\n",
       "    </tr>\n",
       "    <tr>\n",
       "      <th>2</th>\n",
       "      <td>breast_cancer</td>\n",
       "      <td>mlp</td>\n",
       "      <td>0.9315</td>\n",
       "      <td>0.0224</td>\n",
       "      <td>0.9308</td>\n",
       "      <td>0.0241</td>\n",
       "      <td>123549.4667</td>\n",
       "      <td>180986.9919</td>\n",
       "    </tr>\n",
       "  </tbody>\n",
       "</table>\n",
       "</div>"
      ],
      "text/plain": [
       "          dataset        model  accuracy  accuracy_std     f1  f1_std  \\\n",
       "60        vehicle  Dict-Wisard    0.8672        0.0368 0.8649  0.0383   \n",
       "56         sepsis          knn    0.9256        0.0009 0.8910  0.0003   \n",
       "2   breast_cancer          mlp    0.9315        0.0224 0.9308  0.0241   \n",
       "\n",
       "     model_size  model_size_std  \n",
       "60  353672.5333     221462.6439  \n",
       "56 4809122.2000      53816.6679  \n",
       "2   123549.4667     180986.9919  "
      ]
     },
     "execution_count": 9,
     "metadata": {},
     "output_type": "execute_result"
    }
   ],
   "source": [
    "# Merge results\n",
    "results_df = pd.concat([dict_wisard_results, sklearn_results])\n",
    "results_df = results_df.sort_values(by=[\"dataset\", \"model\"]).reset_index(drop=True)\n",
    "results_df.sample(n=3)"
   ]
  },
  {
   "cell_type": "code",
   "execution_count": 10,
   "metadata": {},
   "outputs": [
    {
     "name": "stdout",
     "output_type": "stream",
     "text": [
      "Results saved to results.csv\n"
     ]
    }
   ],
   "source": [
    "# Add metric column based on dataset info\n",
    "\n",
    "dfs = []\n",
    "\n",
    "for _, row in datasets_info.iterrows():\n",
    "    df = results_df[results_df[\"dataset\"] == row[\"dataset_name\"]].copy()\n",
    "    if row[\"metric\"] == \"f1 weighted\":\n",
    "        metric = \"f1\"\n",
    "        metric_std = \"f1_std\"\n",
    "    else:\n",
    "        metric = \"accuracy\"\n",
    "        metric_std = \"accuracy_std\"\n",
    "    \n",
    "    df[\"metric\"] = df[metric]\n",
    "    df[\"metric_std\"] = df[metric_std]\n",
    "    df[\"performance_metric\"] = metric\n",
    "    dfs.append(df.reset_index(drop=True))\n",
    "\n",
    "results_df = pd.concat(dfs).reset_index(drop=True)\n",
    "\n",
    "# Some beautify\n",
    "results_df.dataset = results_df.dataset.str.replace(\"_\", \" \")\n",
    "results_df.dataset = results_df.dataset.str.title()\n",
    "results_df\n",
    "\n",
    "results_df.to_csv(\"results.csv\", index=False)\n",
    "print(\"Results saved to results.csv\")"
   ]
  },
  {
   "cell_type": "markdown",
   "metadata": {},
   "source": [
    "### Relative performance (per dataset, normalized by model with best metric value)"
   ]
  },
  {
   "cell_type": "code",
   "execution_count": 11,
   "metadata": {},
   "outputs": [
    {
     "name": "stdout",
     "output_type": "stream",
     "text": [
      "Results saved to results_relative.csv\n"
     ]
    }
   ],
   "source": [
    "relative_results_df = results_df.copy()\n",
    "\n",
    "\n",
    "for dset, df in relative_results_df.groupby(\"dataset\"):\n",
    "    highest_metric = df[\"metric\"].idxmax()\n",
    "    \n",
    "    for metric in [\"accuracy\", \"f1\", \"model_size\", \"metric\"]:\n",
    "        relative_results_df.loc[df.index, f\"{metric}_relative\"] = df[metric] / df.loc[highest_metric, metric]\n",
    "        \n",
    "relative_results_df.to_csv(\"results_relative.csv\", index=False)\n",
    "print(\"Results saved to results_relative.csv\")"
   ]
  },
  {
   "cell_type": "code",
   "execution_count": 12,
   "metadata": {},
   "outputs": [
    {
     "data": {
      "text/html": [
       "<div>\n",
       "<style scoped>\n",
       "    .dataframe tbody tr th:only-of-type {\n",
       "        vertical-align: middle;\n",
       "    }\n",
       "\n",
       "    .dataframe tbody tr th {\n",
       "        vertical-align: top;\n",
       "    }\n",
       "\n",
       "    .dataframe thead th {\n",
       "        text-align: right;\n",
       "    }\n",
       "</style>\n",
       "<table border=\"1\" class=\"dataframe\">\n",
       "  <thead>\n",
       "    <tr style=\"text-align: right;\">\n",
       "      <th></th>\n",
       "      <th>dataset</th>\n",
       "      <th>model</th>\n",
       "      <th>accuracy</th>\n",
       "      <th>accuracy_std</th>\n",
       "      <th>f1</th>\n",
       "      <th>f1_std</th>\n",
       "      <th>model_size</th>\n",
       "      <th>model_size_std</th>\n",
       "      <th>metric</th>\n",
       "      <th>metric_std</th>\n",
       "      <th>performance_metric</th>\n",
       "      <th>accuracy_relative</th>\n",
       "      <th>f1_relative</th>\n",
       "      <th>model_size_relative</th>\n",
       "      <th>metric_relative</th>\n",
       "    </tr>\n",
       "  </thead>\n",
       "  <tbody>\n",
       "    <tr>\n",
       "      <th>74</th>\n",
       "      <td>Yeast</td>\n",
       "      <td>svm</td>\n",
       "      <td>0.5856</td>\n",
       "      <td>0.0158</td>\n",
       "      <td>0.5773</td>\n",
       "      <td>0.0196</td>\n",
       "      <td>108023.2000</td>\n",
       "      <td>5861.3365</td>\n",
       "      <td>0.5773</td>\n",
       "      <td>0.0196</td>\n",
       "      <td>f1</td>\n",
       "      <td>0.9964</td>\n",
       "      <td>0.9951</td>\n",
       "      <td>1.1260</td>\n",
       "      <td>0.9951</td>\n",
       "    </tr>\n",
       "    <tr>\n",
       "      <th>9</th>\n",
       "      <td>Dry Bean</td>\n",
       "      <td>svm</td>\n",
       "      <td>0.6490</td>\n",
       "      <td>0.0821</td>\n",
       "      <td>0.6375</td>\n",
       "      <td>0.0826</td>\n",
       "      <td>1121423.8000</td>\n",
       "      <td>51430.1818</td>\n",
       "      <td>0.6375</td>\n",
       "      <td>0.0826</td>\n",
       "      <td>f1</td>\n",
       "      <td>0.7202</td>\n",
       "      <td>0.7074</td>\n",
       "      <td>1.6287</td>\n",
       "      <td>0.7074</td>\n",
       "    </tr>\n",
       "    <tr>\n",
       "      <th>35</th>\n",
       "      <td>Optical Handwritten</td>\n",
       "      <td>Dict-Wisard</td>\n",
       "      <td>0.9714</td>\n",
       "      <td>0.0083</td>\n",
       "      <td>0.9714</td>\n",
       "      <td>0.0083</td>\n",
       "      <td>8721863.2667</td>\n",
       "      <td>7681296.4388</td>\n",
       "      <td>0.9714</td>\n",
       "      <td>0.0083</td>\n",
       "      <td>f1</td>\n",
       "      <td>0.9808</td>\n",
       "      <td>0.9808</td>\n",
       "      <td>17.9269</td>\n",
       "      <td>0.9808</td>\n",
       "    </tr>\n",
       "  </tbody>\n",
       "</table>\n",
       "</div>"
      ],
      "text/plain": [
       "                dataset        model  accuracy  accuracy_std     f1  f1_std  \\\n",
       "74                Yeast          svm    0.5856        0.0158 0.5773  0.0196   \n",
       "9              Dry Bean          svm    0.6490        0.0821 0.6375  0.0826   \n",
       "35  Optical Handwritten  Dict-Wisard    0.9714        0.0083 0.9714  0.0083   \n",
       "\n",
       "     model_size  model_size_std  metric  metric_std performance_metric  \\\n",
       "74  108023.2000       5861.3365  0.5773      0.0196                 f1   \n",
       "9  1121423.8000      51430.1818  0.6375      0.0826                 f1   \n",
       "35 8721863.2667    7681296.4388  0.9714      0.0083                 f1   \n",
       "\n",
       "    accuracy_relative  f1_relative  model_size_relative  metric_relative  \n",
       "74             0.9964       0.9951               1.1260           0.9951  \n",
       "9              0.7202       0.7074               1.6287           0.7074  \n",
       "35             0.9808       0.9808              17.9269           0.9808  "
      ]
     },
     "execution_count": 12,
     "metadata": {},
     "output_type": "execute_result"
    }
   ],
   "source": [
    "relative_results_df.sample(n=3)"
   ]
  },
  {
   "cell_type": "markdown",
   "metadata": {},
   "source": [
    "# 2. Wisard is competitive with classical machine learning algorithms\n",
    "\n",
    "### Size and performance"
   ]
  },
  {
   "cell_type": "code",
   "execution_count": 13,
   "metadata": {},
   "outputs": [],
   "source": [
    "\n",
    "def add_mean_line(df):\n",
    "    line = {\"dataset\": \"Mean\"}\n",
    "    for c in df.columns:\n",
    "        if c != \"dataset\":\n",
    "            line[c] = df[c].mean()\n",
    "    df.loc[len(df)] = line\n",
    "    return df\n",
    "\n",
    "def add_median_line(df):\n",
    "    line = {\"dataset\": \"Median\"}\n",
    "    for c in df.columns:\n",
    "        if c != \"dataset\":\n",
    "            line[c] = df[c].median()\n",
    "    df.loc[len(df)] = line\n",
    "    return df\n",
    "\n",
    "def raw_relative_table(df, raw_metric, relative_metric, order_of_models: List[str]=None):\n",
    "    # Pivot the DataFrame to create the raw metric table and relative table\n",
    "    raw_df = (\n",
    "        df.pivot(index=\"dataset\", columns=\"model\", values=raw_metric)\n",
    "        .rename_axis(None, axis=1)\n",
    "        .reset_index()\n",
    "    )\n",
    "    if order_of_models:\n",
    "        raw_df = raw_df[[\"dataset\"] + order_of_models]\n",
    "    raw_df = add_mean_line(raw_df)\n",
    "    raw_df = add_median_line(raw_df)\n",
    "    raw_df.set_index(\"dataset\", inplace=True)\n",
    "\n",
    "    relative_df = (\n",
    "        df.pivot(\n",
    "            index=\"dataset\", columns=\"model\", values=relative_metric\n",
    "        )\n",
    "        .rename_axis(None, axis=1)\n",
    "        .reset_index()\n",
    "    )\n",
    "    if order_of_models:\n",
    "        relative_df = relative_df[[\"dataset\"] + order_of_models]\n",
    "\n",
    "    relative_df = add_mean_line(relative_df)\n",
    "    relative_df = add_median_line(relative_df)\n",
    "    relative_df.set_index(\"dataset\", inplace=True)\n",
    "    \n",
    "    # Concatenating the DataFrames\n",
    "    final_df = pd.concat([raw_df, relative_df], axis=1)\n",
    "\n",
    "    final_df.columns = pd.MultiIndex.from_product(\n",
    "        [[\"Absolute\", \"Relative\"], raw_df.columns.str.split(\"_\").str[0]]\n",
    "    )\n",
    "    return final_df"
   ]
  },
  {
   "cell_type": "code",
   "execution_count": 14,
   "metadata": {},
   "outputs": [
    {
     "name": "stdout",
     "output_type": "stream",
     "text": [
      "Table written to: tables/performance_table.tex\n"
     ]
    },
    {
     "name": "stderr",
     "output_type": "stream",
     "text": [
      "/tmp/ipykernel_2961821/3078159784.py:19: FutureWarning: In future versions `DataFrame.to_latex` is expected to utilise the base implementation of `Styler.to_latex` for formatting and rendering. The arguments signature may therefore change. It is recommended instead to use `DataFrame.style.to_latex` which also contains additional functionality.\n",
      "  write_latex_table(\"performance_table.tex\", performance_df.to_latex(float_format=\"%.2f\"))\n"
     ]
    },
    {
     "data": {
      "text/html": [
       "<div>\n",
       "<style scoped>\n",
       "    .dataframe tbody tr th:only-of-type {\n",
       "        vertical-align: middle;\n",
       "    }\n",
       "\n",
       "    .dataframe tbody tr th {\n",
       "        vertical-align: top;\n",
       "    }\n",
       "\n",
       "    .dataframe thead tr th {\n",
       "        text-align: left;\n",
       "    }\n",
       "\n",
       "    .dataframe thead tr:last-of-type th {\n",
       "        text-align: right;\n",
       "    }\n",
       "</style>\n",
       "<table border=\"1\" class=\"dataframe\">\n",
       "  <thead>\n",
       "    <tr>\n",
       "      <th></th>\n",
       "      <th colspan=\"5\" halign=\"left\">Absolute</th>\n",
       "      <th colspan=\"5\" halign=\"left\">Relative</th>\n",
       "    </tr>\n",
       "    <tr>\n",
       "      <th></th>\n",
       "      <th>Dict-Wisard</th>\n",
       "      <th>SVM</th>\n",
       "      <th>RF</th>\n",
       "      <th>KNN</th>\n",
       "      <th>MLP</th>\n",
       "      <th>Dict-Wisard</th>\n",
       "      <th>SVM</th>\n",
       "      <th>RF</th>\n",
       "      <th>KNN</th>\n",
       "      <th>MLP</th>\n",
       "    </tr>\n",
       "    <tr>\n",
       "      <th>dataset</th>\n",
       "      <th></th>\n",
       "      <th></th>\n",
       "      <th></th>\n",
       "      <th></th>\n",
       "      <th></th>\n",
       "      <th></th>\n",
       "      <th></th>\n",
       "      <th></th>\n",
       "      <th></th>\n",
       "      <th></th>\n",
       "    </tr>\n",
       "  </thead>\n",
       "  <tbody>\n",
       "    <tr>\n",
       "      <th>Breast Cancer</th>\n",
       "      <td>0.9274</td>\n",
       "      <td>0.9552</td>\n",
       "      <td>0.9554</td>\n",
       "      <td>0.9288</td>\n",
       "      <td>0.9308</td>\n",
       "      <td>0.9708</td>\n",
       "      <td>0.9998</td>\n",
       "      <td>1.0000</td>\n",
       "      <td>0.9722</td>\n",
       "      <td>0.9743</td>\n",
       "    </tr>\n",
       "    <tr>\n",
       "      <th>Dry Bean</th>\n",
       "      <td>0.9012</td>\n",
       "      <td>0.6375</td>\n",
       "      <td>0.8894</td>\n",
       "      <td>0.6777</td>\n",
       "      <td>0.3994</td>\n",
       "      <td>1.0000</td>\n",
       "      <td>0.7074</td>\n",
       "      <td>0.9868</td>\n",
       "      <td>0.7520</td>\n",
       "      <td>0.4432</td>\n",
       "    </tr>\n",
       "    <tr>\n",
       "      <th>Glass</th>\n",
       "      <td>0.5661</td>\n",
       "      <td>0.6460</td>\n",
       "      <td>0.7505</td>\n",
       "      <td>0.6839</td>\n",
       "      <td>0.6111</td>\n",
       "      <td>0.7544</td>\n",
       "      <td>0.8608</td>\n",
       "      <td>1.0000</td>\n",
       "      <td>0.9114</td>\n",
       "      <td>0.8143</td>\n",
       "    </tr>\n",
       "    <tr>\n",
       "      <th>Image Segmentation</th>\n",
       "      <td>0.6540</td>\n",
       "      <td>0.8952</td>\n",
       "      <td>0.9270</td>\n",
       "      <td>0.7143</td>\n",
       "      <td>0.8413</td>\n",
       "      <td>0.7055</td>\n",
       "      <td>0.9658</td>\n",
       "      <td>1.0000</td>\n",
       "      <td>0.7705</td>\n",
       "      <td>0.9075</td>\n",
       "    </tr>\n",
       "    <tr>\n",
       "      <th>Iris</th>\n",
       "      <td>0.9600</td>\n",
       "      <td>0.9400</td>\n",
       "      <td>0.9556</td>\n",
       "      <td>0.9467</td>\n",
       "      <td>0.9556</td>\n",
       "      <td>1.0000</td>\n",
       "      <td>0.9792</td>\n",
       "      <td>0.9954</td>\n",
       "      <td>0.9861</td>\n",
       "      <td>0.9954</td>\n",
       "    </tr>\n",
       "    <tr>\n",
       "      <th>Letter</th>\n",
       "      <td>0.8739</td>\n",
       "      <td>0.9626</td>\n",
       "      <td>0.9594</td>\n",
       "      <td>0.9290</td>\n",
       "      <td>0.8846</td>\n",
       "      <td>0.9079</td>\n",
       "      <td>1.0000</td>\n",
       "      <td>0.9968</td>\n",
       "      <td>0.9651</td>\n",
       "      <td>0.9190</td>\n",
       "    </tr>\n",
       "    <tr>\n",
       "      <th>Motion Sense</th>\n",
       "      <td>0.7314</td>\n",
       "      <td>0.8342</td>\n",
       "      <td>0.9150</td>\n",
       "      <td>0.7307</td>\n",
       "      <td>0.8439</td>\n",
       "      <td>0.7994</td>\n",
       "      <td>0.9118</td>\n",
       "      <td>1.0000</td>\n",
       "      <td>0.7986</td>\n",
       "      <td>0.9224</td>\n",
       "    </tr>\n",
       "    <tr>\n",
       "      <th>Optical Handwritten</th>\n",
       "      <td>0.9714</td>\n",
       "      <td>0.9904</td>\n",
       "      <td>0.9827</td>\n",
       "      <td>0.9867</td>\n",
       "      <td>0.9850</td>\n",
       "      <td>0.9808</td>\n",
       "      <td>1.0000</td>\n",
       "      <td>0.9923</td>\n",
       "      <td>0.9962</td>\n",
       "      <td>0.9945</td>\n",
       "    </tr>\n",
       "    <tr>\n",
       "      <th>Rice</th>\n",
       "      <td>0.9051</td>\n",
       "      <td>0.9304</td>\n",
       "      <td>0.9255</td>\n",
       "      <td>0.8804</td>\n",
       "      <td>0.8433</td>\n",
       "      <td>0.9728</td>\n",
       "      <td>1.0000</td>\n",
       "      <td>0.9948</td>\n",
       "      <td>0.9463</td>\n",
       "      <td>0.9064</td>\n",
       "    </tr>\n",
       "    <tr>\n",
       "      <th>Satimage</th>\n",
       "      <td>0.8847</td>\n",
       "      <td>0.9068</td>\n",
       "      <td>0.9090</td>\n",
       "      <td>0.9038</td>\n",
       "      <td>0.9036</td>\n",
       "      <td>0.9733</td>\n",
       "      <td>0.9976</td>\n",
       "      <td>1.0000</td>\n",
       "      <td>0.9943</td>\n",
       "      <td>0.9942</td>\n",
       "    </tr>\n",
       "    <tr>\n",
       "      <th>Segment</th>\n",
       "      <td>0.8698</td>\n",
       "      <td>0.9593</td>\n",
       "      <td>0.9760</td>\n",
       "      <td>0.9541</td>\n",
       "      <td>0.9673</td>\n",
       "      <td>0.8912</td>\n",
       "      <td>0.9829</td>\n",
       "      <td>1.0000</td>\n",
       "      <td>0.9775</td>\n",
       "      <td>0.9911</td>\n",
       "    </tr>\n",
       "    <tr>\n",
       "      <th>Sepsis</th>\n",
       "      <td>0.8883</td>\n",
       "      <td>0.8909</td>\n",
       "      <td>0.8909</td>\n",
       "      <td>0.8910</td>\n",
       "      <td>0.8909</td>\n",
       "      <td>0.9969</td>\n",
       "      <td>0.9999</td>\n",
       "      <td>0.9998</td>\n",
       "      <td>1.0000</td>\n",
       "      <td>0.9999</td>\n",
       "    </tr>\n",
       "    <tr>\n",
       "      <th>Vehicle</th>\n",
       "      <td>0.8672</td>\n",
       "      <td>0.9386</td>\n",
       "      <td>0.9547</td>\n",
       "      <td>0.8428</td>\n",
       "      <td>0.9197</td>\n",
       "      <td>0.9084</td>\n",
       "      <td>0.9831</td>\n",
       "      <td>1.0000</td>\n",
       "      <td>0.8828</td>\n",
       "      <td>0.9633</td>\n",
       "    </tr>\n",
       "    <tr>\n",
       "      <th>Wine</th>\n",
       "      <td>0.9339</td>\n",
       "      <td>0.9434</td>\n",
       "      <td>0.9810</td>\n",
       "      <td>0.7088</td>\n",
       "      <td>0.9356</td>\n",
       "      <td>0.9521</td>\n",
       "      <td>0.9617</td>\n",
       "      <td>1.0000</td>\n",
       "      <td>0.7225</td>\n",
       "      <td>0.9537</td>\n",
       "    </tr>\n",
       "    <tr>\n",
       "      <th>Yeast</th>\n",
       "      <td>0.4874</td>\n",
       "      <td>0.5773</td>\n",
       "      <td>0.5695</td>\n",
       "      <td>0.5795</td>\n",
       "      <td>0.5801</td>\n",
       "      <td>0.8402</td>\n",
       "      <td>0.9951</td>\n",
       "      <td>0.9816</td>\n",
       "      <td>0.9988</td>\n",
       "      <td>1.0000</td>\n",
       "    </tr>\n",
       "    <tr>\n",
       "      <th>Mean</th>\n",
       "      <td>0.8281</td>\n",
       "      <td>0.8672</td>\n",
       "      <td>0.9028</td>\n",
       "      <td>0.8239</td>\n",
       "      <td>0.8328</td>\n",
       "      <td>0.9102</td>\n",
       "      <td>0.9563</td>\n",
       "      <td>0.9965</td>\n",
       "      <td>0.9116</td>\n",
       "      <td>0.9186</td>\n",
       "    </tr>\n",
       "    <tr>\n",
       "      <th>Median</th>\n",
       "      <td>0.8793</td>\n",
       "      <td>0.9186</td>\n",
       "      <td>0.9263</td>\n",
       "      <td>0.8616</td>\n",
       "      <td>0.8877</td>\n",
       "      <td>0.9312</td>\n",
       "      <td>0.9830</td>\n",
       "      <td>0.9999</td>\n",
       "      <td>0.9557</td>\n",
       "      <td>0.9585</td>\n",
       "    </tr>\n",
       "  </tbody>\n",
       "</table>\n",
       "</div>"
      ],
      "text/plain": [
       "                       Absolute                                Relative  \\\n",
       "                    Dict-Wisard    SVM     RF    KNN    MLP Dict-Wisard   \n",
       "dataset                                                                   \n",
       "Breast Cancer            0.9274 0.9552 0.9554 0.9288 0.9308      0.9708   \n",
       "Dry Bean                 0.9012 0.6375 0.8894 0.6777 0.3994      1.0000   \n",
       "Glass                    0.5661 0.6460 0.7505 0.6839 0.6111      0.7544   \n",
       "Image Segmentation       0.6540 0.8952 0.9270 0.7143 0.8413      0.7055   \n",
       "Iris                     0.9600 0.9400 0.9556 0.9467 0.9556      1.0000   \n",
       "Letter                   0.8739 0.9626 0.9594 0.9290 0.8846      0.9079   \n",
       "Motion Sense             0.7314 0.8342 0.9150 0.7307 0.8439      0.7994   \n",
       "Optical Handwritten      0.9714 0.9904 0.9827 0.9867 0.9850      0.9808   \n",
       "Rice                     0.9051 0.9304 0.9255 0.8804 0.8433      0.9728   \n",
       "Satimage                 0.8847 0.9068 0.9090 0.9038 0.9036      0.9733   \n",
       "Segment                  0.8698 0.9593 0.9760 0.9541 0.9673      0.8912   \n",
       "Sepsis                   0.8883 0.8909 0.8909 0.8910 0.8909      0.9969   \n",
       "Vehicle                  0.8672 0.9386 0.9547 0.8428 0.9197      0.9084   \n",
       "Wine                     0.9339 0.9434 0.9810 0.7088 0.9356      0.9521   \n",
       "Yeast                    0.4874 0.5773 0.5695 0.5795 0.5801      0.8402   \n",
       "Mean                     0.8281 0.8672 0.9028 0.8239 0.8328      0.9102   \n",
       "Median                   0.8793 0.9186 0.9263 0.8616 0.8877      0.9312   \n",
       "\n",
       "                                                 \n",
       "                       SVM     RF    KNN    MLP  \n",
       "dataset                                          \n",
       "Breast Cancer       0.9998 1.0000 0.9722 0.9743  \n",
       "Dry Bean            0.7074 0.9868 0.7520 0.4432  \n",
       "Glass               0.8608 1.0000 0.9114 0.8143  \n",
       "Image Segmentation  0.9658 1.0000 0.7705 0.9075  \n",
       "Iris                0.9792 0.9954 0.9861 0.9954  \n",
       "Letter              1.0000 0.9968 0.9651 0.9190  \n",
       "Motion Sense        0.9118 1.0000 0.7986 0.9224  \n",
       "Optical Handwritten 1.0000 0.9923 0.9962 0.9945  \n",
       "Rice                1.0000 0.9948 0.9463 0.9064  \n",
       "Satimage            0.9976 1.0000 0.9943 0.9942  \n",
       "Segment             0.9829 1.0000 0.9775 0.9911  \n",
       "Sepsis              0.9999 0.9998 1.0000 0.9999  \n",
       "Vehicle             0.9831 1.0000 0.8828 0.9633  \n",
       "Wine                0.9617 1.0000 0.7225 0.9537  \n",
       "Yeast               0.9951 0.9816 0.9988 1.0000  \n",
       "Mean                0.9563 0.9965 0.9116 0.9186  \n",
       "Median              0.9830 0.9999 0.9557 0.9585  "
      ]
     },
     "execution_count": 14,
     "metadata": {},
     "output_type": "execute_result"
    }
   ],
   "source": [
    "df = pd.read_csv(\"results_relative.csv\")\n",
    "df.loc[df[\"model\"] == \"knn\", \"model\"] = \"KNN\"\n",
    "df.loc[df[\"model\"] == \"rf\", \"model\"] = \"RF\"\n",
    "df.loc[df[\"model\"] == \"mlp\", \"model\"] = \"MLP\"\n",
    "# df.loc[df[\"model\"] == \"mlp2\", \"model\"] = \"MLP\"\n",
    "df.loc[df[\"model\"] == \"svm\", \"model\"] = \"SVM\"\n",
    "\n",
    "# Due to NAN values\n",
    "# df = df[df[\"model\"] != \"SVM\"]\n",
    "# order_of_models = [\"Dict-Wisard\",  \"RF\", \"KNN\", \"MLP-1L\", \"MLP-2L\"]\n",
    "\n",
    "order_of_models = [\"Dict-Wisard\", \"SVM\", \"RF\", \"KNN\", \"MLP\"]\n",
    "\n",
    "performance_df = raw_relative_table(df, \"metric\", \"metric_relative\", order_of_models)\n",
    "# order_of_datasets = performance_df[\"Relative\"][\"Dict-Wisard\"].sort_values(ascending=False).keys().to_list()\n",
    "# order_of_datasets.remove(\"Mean\")\n",
    "# order_of_datasets.append(\"Mean\")\n",
    "# performance_df.index = order_of_datasets\n",
    "write_latex_table(\"performance_table.tex\", performance_df.to_latex(float_format=\"%.2f\"))\n",
    "performance_df"
   ]
  },
  {
   "cell_type": "code",
   "execution_count": 15,
   "metadata": {},
   "outputs": [
    {
     "name": "stdout",
     "output_type": "stream",
     "text": [
      "Table written to: tables/size_table.tex\n"
     ]
    },
    {
     "name": "stderr",
     "output_type": "stream",
     "text": [
      "/tmp/ipykernel_2961821/2098181408.py:4: FutureWarning: In future versions `DataFrame.to_latex` is expected to utilise the base implementation of `Styler.to_latex` for formatting and rendering. The arguments signature may therefore change. It is recommended instead to use `DataFrame.style.to_latex` which also contains additional functionality.\n",
      "  write_latex_table(\"size_table.tex\", size_df.to_latex(float_format=\"%.2f\"))\n"
     ]
    },
    {
     "data": {
      "text/html": [
       "<div>\n",
       "<style scoped>\n",
       "    .dataframe tbody tr th:only-of-type {\n",
       "        vertical-align: middle;\n",
       "    }\n",
       "\n",
       "    .dataframe tbody tr th {\n",
       "        vertical-align: top;\n",
       "    }\n",
       "\n",
       "    .dataframe thead tr th {\n",
       "        text-align: left;\n",
       "    }\n",
       "\n",
       "    .dataframe thead tr:last-of-type th {\n",
       "        text-align: right;\n",
       "    }\n",
       "</style>\n",
       "<table border=\"1\" class=\"dataframe\">\n",
       "  <thead>\n",
       "    <tr>\n",
       "      <th></th>\n",
       "      <th colspan=\"5\" halign=\"left\">Absolute</th>\n",
       "      <th colspan=\"5\" halign=\"left\">Relative</th>\n",
       "    </tr>\n",
       "    <tr>\n",
       "      <th></th>\n",
       "      <th>Dict-Wisard</th>\n",
       "      <th>SVM</th>\n",
       "      <th>RF</th>\n",
       "      <th>KNN</th>\n",
       "      <th>MLP</th>\n",
       "      <th>Dict-Wisard</th>\n",
       "      <th>SVM</th>\n",
       "      <th>RF</th>\n",
       "      <th>KNN</th>\n",
       "      <th>MLP</th>\n",
       "    </tr>\n",
       "    <tr>\n",
       "      <th>dataset</th>\n",
       "      <th></th>\n",
       "      <th></th>\n",
       "      <th></th>\n",
       "      <th></th>\n",
       "      <th></th>\n",
       "      <th></th>\n",
       "      <th></th>\n",
       "      <th></th>\n",
       "      <th></th>\n",
       "      <th></th>\n",
       "    </tr>\n",
       "  </thead>\n",
       "  <tbody>\n",
       "    <tr>\n",
       "      <th>Breast Cancer</th>\n",
       "      <td>39.6299</td>\n",
       "      <td>11.1393</td>\n",
       "      <td>46.5656</td>\n",
       "      <td>126.5945</td>\n",
       "      <td>120.6538</td>\n",
       "      <td>0.8511</td>\n",
       "      <td>0.2392</td>\n",
       "      <td>1.0000</td>\n",
       "      <td>2.7186</td>\n",
       "      <td>2.5911</td>\n",
       "    </tr>\n",
       "    <tr>\n",
       "      <th>Dry Bean</th>\n",
       "      <td>672.3861</td>\n",
       "      <td>1095.1404</td>\n",
       "      <td>67281.7896</td>\n",
       "      <td>1417.8541</td>\n",
       "      <td>144.9133</td>\n",
       "      <td>1.0000</td>\n",
       "      <td>1.6287</td>\n",
       "      <td>100.0642</td>\n",
       "      <td>2.1087</td>\n",
       "      <td>0.2155</td>\n",
       "    </tr>\n",
       "    <tr>\n",
       "      <th>Glass</th>\n",
       "      <td>36.9090</td>\n",
       "      <td>12.0305</td>\n",
       "      <td>1059.5763</td>\n",
       "      <td>16.1645</td>\n",
       "      <td>162.0214</td>\n",
       "      <td>0.0348</td>\n",
       "      <td>0.0114</td>\n",
       "      <td>1.0000</td>\n",
       "      <td>0.0153</td>\n",
       "      <td>0.1529</td>\n",
       "    </tr>\n",
       "    <tr>\n",
       "      <th>Image Segmentation</th>\n",
       "      <td>105.0223</td>\n",
       "      <td>11.5131</td>\n",
       "      <td>224.7023</td>\n",
       "      <td>26.1680</td>\n",
       "      <td>263.7539</td>\n",
       "      <td>0.4674</td>\n",
       "      <td>0.0512</td>\n",
       "      <td>1.0000</td>\n",
       "      <td>0.1165</td>\n",
       "      <td>1.1738</td>\n",
       "    </tr>\n",
       "    <tr>\n",
       "      <th>Iris</th>\n",
       "      <td>3.3380</td>\n",
       "      <td>1.8996</td>\n",
       "      <td>205.5102</td>\n",
       "      <td>5.3145</td>\n",
       "      <td>119.2204</td>\n",
       "      <td>1.0000</td>\n",
       "      <td>0.5691</td>\n",
       "      <td>61.5677</td>\n",
       "      <td>1.5921</td>\n",
       "      <td>35.7166</td>\n",
       "    </tr>\n",
       "    <tr>\n",
       "      <th>Letter</th>\n",
       "      <td>7025.0604</td>\n",
       "      <td>1727.7078</td>\n",
       "      <td>718892.0286</td>\n",
       "      <td>3150.7422</td>\n",
       "      <td>76.6546</td>\n",
       "      <td>4.0661</td>\n",
       "      <td>1.0000</td>\n",
       "      <td>416.0958</td>\n",
       "      <td>1.8237</td>\n",
       "      <td>0.0444</td>\n",
       "    </tr>\n",
       "    <tr>\n",
       "      <th>Motion Sense</th>\n",
       "      <td>45799.3444</td>\n",
       "      <td>6427.4793</td>\n",
       "      <td>52481.6523</td>\n",
       "      <td>11419.0967</td>\n",
       "      <td>1020.8035</td>\n",
       "      <td>0.8727</td>\n",
       "      <td>0.1225</td>\n",
       "      <td>1.0000</td>\n",
       "      <td>0.2176</td>\n",
       "      <td>0.0195</td>\n",
       "    </tr>\n",
       "    <tr>\n",
       "      <th>Optical Handwritten</th>\n",
       "      <td>8517.4446</td>\n",
       "      <td>475.1211</td>\n",
       "      <td>67937.0917</td>\n",
       "      <td>2584.4672</td>\n",
       "      <td>398.6618</td>\n",
       "      <td>17.9269</td>\n",
       "      <td>1.0000</td>\n",
       "      <td>142.9890</td>\n",
       "      <td>5.4396</td>\n",
       "      <td>0.8391</td>\n",
       "    </tr>\n",
       "    <tr>\n",
       "      <th>Rice</th>\n",
       "      <td>23.9501</td>\n",
       "      <td>24.9316</td>\n",
       "      <td>2820.9688</td>\n",
       "      <td>252.7270</td>\n",
       "      <td>121.3453</td>\n",
       "      <td>0.9606</td>\n",
       "      <td>1.0000</td>\n",
       "      <td>113.1481</td>\n",
       "      <td>10.1368</td>\n",
       "      <td>4.8671</td>\n",
       "    </tr>\n",
       "    <tr>\n",
       "      <th>Satimage</th>\n",
       "      <td>6359.9932</td>\n",
       "      <td>349.5371</td>\n",
       "      <td>32825.0337</td>\n",
       "      <td>1444.1305</td>\n",
       "      <td>195.5293</td>\n",
       "      <td>0.1938</td>\n",
       "      <td>0.0106</td>\n",
       "      <td>1.0000</td>\n",
       "      <td>0.0440</td>\n",
       "      <td>0.0060</td>\n",
       "    </tr>\n",
       "    <tr>\n",
       "      <th>Segment</th>\n",
       "      <td>118.1079</td>\n",
       "      <td>47.8273</td>\n",
       "      <td>2394.3191</td>\n",
       "      <td>231.6334</td>\n",
       "      <td>407.6588</td>\n",
       "      <td>0.0493</td>\n",
       "      <td>0.0200</td>\n",
       "      <td>1.0000</td>\n",
       "      <td>0.0967</td>\n",
       "      <td>0.1703</td>\n",
       "    </tr>\n",
       "    <tr>\n",
       "      <th>Sepsis</th>\n",
       "      <td>11.1712</td>\n",
       "      <td>450.2906</td>\n",
       "      <td>24890.3230</td>\n",
       "      <td>4696.4084</td>\n",
       "      <td>14.1017</td>\n",
       "      <td>0.0024</td>\n",
       "      <td>0.0959</td>\n",
       "      <td>5.2999</td>\n",
       "      <td>1.0000</td>\n",
       "      <td>0.0030</td>\n",
       "    </tr>\n",
       "    <tr>\n",
       "      <th>Vehicle</th>\n",
       "      <td>345.3833</td>\n",
       "      <td>19.7625</td>\n",
       "      <td>1923.2629</td>\n",
       "      <td>80.9426</td>\n",
       "      <td>348.6048</td>\n",
       "      <td>0.1796</td>\n",
       "      <td>0.0103</td>\n",
       "      <td>1.0000</td>\n",
       "      <td>0.0421</td>\n",
       "      <td>0.1813</td>\n",
       "    </tr>\n",
       "    <tr>\n",
       "      <th>Wine</th>\n",
       "      <td>50.4378</td>\n",
       "      <td>3.5791</td>\n",
       "      <td>270.7033</td>\n",
       "      <td>18.5373</td>\n",
       "      <td>600.9339</td>\n",
       "      <td>0.1863</td>\n",
       "      <td>0.0132</td>\n",
       "      <td>1.0000</td>\n",
       "      <td>0.0685</td>\n",
       "      <td>2.2199</td>\n",
       "    </tr>\n",
       "    <tr>\n",
       "      <th>Yeast</th>\n",
       "      <td>422.2283</td>\n",
       "      <td>105.4914</td>\n",
       "      <td>25183.9584</td>\n",
       "      <td>81.4973</td>\n",
       "      <td>93.6893</td>\n",
       "      <td>4.5067</td>\n",
       "      <td>1.1260</td>\n",
       "      <td>268.8031</td>\n",
       "      <td>0.8699</td>\n",
       "      <td>1.0000</td>\n",
       "    </tr>\n",
       "    <tr>\n",
       "      <th>Mean</th>\n",
       "      <td>4635.3604</td>\n",
       "      <td>717.5634</td>\n",
       "      <td>66562.4991</td>\n",
       "      <td>1703.4852</td>\n",
       "      <td>272.5697</td>\n",
       "      <td>2.1532</td>\n",
       "      <td>0.4599</td>\n",
       "      <td>74.3979</td>\n",
       "      <td>1.7527</td>\n",
       "      <td>3.2800</td>\n",
       "    </tr>\n",
       "    <tr>\n",
       "      <th>Median</th>\n",
       "      <td>231.7456</td>\n",
       "      <td>76.6594</td>\n",
       "      <td>13855.6459</td>\n",
       "      <td>242.1802</td>\n",
       "      <td>178.7754</td>\n",
       "      <td>0.8619</td>\n",
       "      <td>0.1808</td>\n",
       "      <td>3.1499</td>\n",
       "      <td>0.9349</td>\n",
       "      <td>0.5273</td>\n",
       "    </tr>\n",
       "  </tbody>\n",
       "</table>\n",
       "</div>"
      ],
      "text/plain": [
       "                       Absolute                                             \\\n",
       "                    Dict-Wisard       SVM          RF        KNN       MLP   \n",
       "dataset                                                                      \n",
       "Breast Cancer           39.6299   11.1393     46.5656   126.5945  120.6538   \n",
       "Dry Bean               672.3861 1095.1404  67281.7896  1417.8541  144.9133   \n",
       "Glass                   36.9090   12.0305   1059.5763    16.1645  162.0214   \n",
       "Image Segmentation     105.0223   11.5131    224.7023    26.1680  263.7539   \n",
       "Iris                     3.3380    1.8996    205.5102     5.3145  119.2204   \n",
       "Letter                7025.0604 1727.7078 718892.0286  3150.7422   76.6546   \n",
       "Motion Sense         45799.3444 6427.4793  52481.6523 11419.0967 1020.8035   \n",
       "Optical Handwritten   8517.4446  475.1211  67937.0917  2584.4672  398.6618   \n",
       "Rice                    23.9501   24.9316   2820.9688   252.7270  121.3453   \n",
       "Satimage              6359.9932  349.5371  32825.0337  1444.1305  195.5293   \n",
       "Segment                118.1079   47.8273   2394.3191   231.6334  407.6588   \n",
       "Sepsis                  11.1712  450.2906  24890.3230  4696.4084   14.1017   \n",
       "Vehicle                345.3833   19.7625   1923.2629    80.9426  348.6048   \n",
       "Wine                    50.4378    3.5791    270.7033    18.5373  600.9339   \n",
       "Yeast                  422.2283  105.4914  25183.9584    81.4973   93.6893   \n",
       "Mean                  4635.3604  717.5634  66562.4991  1703.4852  272.5697   \n",
       "Median                 231.7456   76.6594  13855.6459   242.1802  178.7754   \n",
       "\n",
       "                       Relative                                  \n",
       "                    Dict-Wisard    SVM       RF     KNN     MLP  \n",
       "dataset                                                          \n",
       "Breast Cancer            0.8511 0.2392   1.0000  2.7186  2.5911  \n",
       "Dry Bean                 1.0000 1.6287 100.0642  2.1087  0.2155  \n",
       "Glass                    0.0348 0.0114   1.0000  0.0153  0.1529  \n",
       "Image Segmentation       0.4674 0.0512   1.0000  0.1165  1.1738  \n",
       "Iris                     1.0000 0.5691  61.5677  1.5921 35.7166  \n",
       "Letter                   4.0661 1.0000 416.0958  1.8237  0.0444  \n",
       "Motion Sense             0.8727 0.1225   1.0000  0.2176  0.0195  \n",
       "Optical Handwritten     17.9269 1.0000 142.9890  5.4396  0.8391  \n",
       "Rice                     0.9606 1.0000 113.1481 10.1368  4.8671  \n",
       "Satimage                 0.1938 0.0106   1.0000  0.0440  0.0060  \n",
       "Segment                  0.0493 0.0200   1.0000  0.0967  0.1703  \n",
       "Sepsis                   0.0024 0.0959   5.2999  1.0000  0.0030  \n",
       "Vehicle                  0.1796 0.0103   1.0000  0.0421  0.1813  \n",
       "Wine                     0.1863 0.0132   1.0000  0.0685  2.2199  \n",
       "Yeast                    4.5067 1.1260 268.8031  0.8699  1.0000  \n",
       "Mean                     2.1532 0.4599  74.3979  1.7527  3.2800  \n",
       "Median                   0.8619 0.1808   3.1499  0.9349  0.5273  "
      ]
     },
     "execution_count": 15,
     "metadata": {},
     "output_type": "execute_result"
    }
   ],
   "source": [
    "size_df = raw_relative_table(df, \"model_size\", \"model_size_relative\", order_of_models)\n",
    "size_df[\"Absolute\"] = size_df[\"Absolute\"] / 1024\n",
    "# size_df.index = order_of_datasets\n",
    "write_latex_table(\"size_table.tex\", size_df.to_latex(float_format=\"%.2f\"))\n",
    "size_df"
   ]
  },
  {
   "cell_type": "markdown",
   "metadata": {},
   "source": [
    "### Pareto frontier"
   ]
  },
  {
   "cell_type": "code",
   "execution_count": 16,
   "metadata": {},
   "outputs": [
    {
     "name": "stdout",
     "output_type": "stream",
     "text": [
      "Csv written to results_relative_pareto.csv\n"
     ]
    },
    {
     "data": {
      "text/html": [
       "<div>\n",
       "<style scoped>\n",
       "    .dataframe tbody tr th:only-of-type {\n",
       "        vertical-align: middle;\n",
       "    }\n",
       "\n",
       "    .dataframe tbody tr th {\n",
       "        vertical-align: top;\n",
       "    }\n",
       "\n",
       "    .dataframe thead th {\n",
       "        text-align: right;\n",
       "    }\n",
       "</style>\n",
       "<table border=\"1\" class=\"dataframe\">\n",
       "  <thead>\n",
       "    <tr style=\"text-align: right;\">\n",
       "      <th></th>\n",
       "      <th>dataset</th>\n",
       "      <th>model</th>\n",
       "      <th>accuracy</th>\n",
       "      <th>accuracy_std</th>\n",
       "      <th>f1</th>\n",
       "      <th>f1_std</th>\n",
       "      <th>model_size</th>\n",
       "      <th>model_size_std</th>\n",
       "      <th>metric</th>\n",
       "      <th>metric_std</th>\n",
       "      <th>performance_metric</th>\n",
       "      <th>accuracy_relative</th>\n",
       "      <th>f1_relative</th>\n",
       "      <th>model_size_relative</th>\n",
       "      <th>metric_relative</th>\n",
       "      <th>pareto</th>\n",
       "    </tr>\n",
       "  </thead>\n",
       "  <tbody>\n",
       "    <tr>\n",
       "      <th>0</th>\n",
       "      <td>Breast Cancer</td>\n",
       "      <td>Dict-Wisard</td>\n",
       "      <td>0.9279</td>\n",
       "      <td>0.0159</td>\n",
       "      <td>0.9274</td>\n",
       "      <td>0.0163</td>\n",
       "      <td>40581.0000</td>\n",
       "      <td>23921.9804</td>\n",
       "      <td>0.9274</td>\n",
       "      <td>0.0163</td>\n",
       "      <td>f1</td>\n",
       "      <td>0.9712</td>\n",
       "      <td>0.9708</td>\n",
       "      <td>0.8511</td>\n",
       "      <td>0.9708</td>\n",
       "      <td>False</td>\n",
       "    </tr>\n",
       "    <tr>\n",
       "      <th>1</th>\n",
       "      <td>Breast Cancer</td>\n",
       "      <td>KNN</td>\n",
       "      <td>0.9297</td>\n",
       "      <td>0.0255</td>\n",
       "      <td>0.9288</td>\n",
       "      <td>0.0269</td>\n",
       "      <td>129632.8000</td>\n",
       "      <td>52987.9426</td>\n",
       "      <td>0.9288</td>\n",
       "      <td>0.0269</td>\n",
       "      <td>f1</td>\n",
       "      <td>0.9731</td>\n",
       "      <td>0.9722</td>\n",
       "      <td>2.7186</td>\n",
       "      <td>0.9722</td>\n",
       "      <td>False</td>\n",
       "    </tr>\n",
       "    <tr>\n",
       "      <th>2</th>\n",
       "      <td>Breast Cancer</td>\n",
       "      <td>MLP</td>\n",
       "      <td>0.9315</td>\n",
       "      <td>0.0224</td>\n",
       "      <td>0.9308</td>\n",
       "      <td>0.0241</td>\n",
       "      <td>123549.4667</td>\n",
       "      <td>180986.9919</td>\n",
       "      <td>0.9308</td>\n",
       "      <td>0.0241</td>\n",
       "      <td>f1</td>\n",
       "      <td>0.9749</td>\n",
       "      <td>0.9743</td>\n",
       "      <td>2.5911</td>\n",
       "      <td>0.9743</td>\n",
       "      <td>False</td>\n",
       "    </tr>\n",
       "    <tr>\n",
       "      <th>3</th>\n",
       "      <td>Breast Cancer</td>\n",
       "      <td>RF</td>\n",
       "      <td>0.9554</td>\n",
       "      <td>0.0166</td>\n",
       "      <td>0.9554</td>\n",
       "      <td>0.0167</td>\n",
       "      <td>47683.1333</td>\n",
       "      <td>38508.2852</td>\n",
       "      <td>0.9554</td>\n",
       "      <td>0.0167</td>\n",
       "      <td>f1</td>\n",
       "      <td>1.0000</td>\n",
       "      <td>1.0000</td>\n",
       "      <td>1.0000</td>\n",
       "      <td>1.0000</td>\n",
       "      <td>True</td>\n",
       "    </tr>\n",
       "    <tr>\n",
       "      <th>4</th>\n",
       "      <td>Breast Cancer</td>\n",
       "      <td>SVM</td>\n",
       "      <td>0.9561</td>\n",
       "      <td>0.0397</td>\n",
       "      <td>0.9552</td>\n",
       "      <td>0.0417</td>\n",
       "      <td>11406.6000</td>\n",
       "      <td>4215.2497</td>\n",
       "      <td>0.9552</td>\n",
       "      <td>0.0417</td>\n",
       "      <td>f1</td>\n",
       "      <td>1.0007</td>\n",
       "      <td>0.9998</td>\n",
       "      <td>0.2392</td>\n",
       "      <td>0.9998</td>\n",
       "      <td>True</td>\n",
       "    </tr>\n",
       "    <tr>\n",
       "      <th>5</th>\n",
       "      <td>Dry Bean</td>\n",
       "      <td>Dict-Wisard</td>\n",
       "      <td>0.9011</td>\n",
       "      <td>0.0047</td>\n",
       "      <td>0.9012</td>\n",
       "      <td>0.0043</td>\n",
       "      <td>688523.4000</td>\n",
       "      <td>481035.0196</td>\n",
       "      <td>0.9012</td>\n",
       "      <td>0.0043</td>\n",
       "      <td>f1</td>\n",
       "      <td>1.0000</td>\n",
       "      <td>1.0000</td>\n",
       "      <td>1.0000</td>\n",
       "      <td>1.0000</td>\n",
       "      <td>True</td>\n",
       "    </tr>\n",
       "    <tr>\n",
       "      <th>6</th>\n",
       "      <td>Dry Bean</td>\n",
       "      <td>KNN</td>\n",
       "      <td>0.6769</td>\n",
       "      <td>0.1227</td>\n",
       "      <td>0.6777</td>\n",
       "      <td>0.1194</td>\n",
       "      <td>1451882.6000</td>\n",
       "      <td>595903.3982</td>\n",
       "      <td>0.6777</td>\n",
       "      <td>0.1194</td>\n",
       "      <td>f1</td>\n",
       "      <td>0.7513</td>\n",
       "      <td>0.7520</td>\n",
       "      <td>2.1087</td>\n",
       "      <td>0.7520</td>\n",
       "      <td>False</td>\n",
       "    </tr>\n",
       "    <tr>\n",
       "      <th>7</th>\n",
       "      <td>Dry Bean</td>\n",
       "      <td>MLP</td>\n",
       "      <td>0.4762</td>\n",
       "      <td>0.0851</td>\n",
       "      <td>0.3994</td>\n",
       "      <td>0.0829</td>\n",
       "      <td>148391.2667</td>\n",
       "      <td>131486.3227</td>\n",
       "      <td>0.3994</td>\n",
       "      <td>0.0829</td>\n",
       "      <td>f1</td>\n",
       "      <td>0.5284</td>\n",
       "      <td>0.4432</td>\n",
       "      <td>0.2155</td>\n",
       "      <td>0.4432</td>\n",
       "      <td>True</td>\n",
       "    </tr>\n",
       "    <tr>\n",
       "      <th>8</th>\n",
       "      <td>Dry Bean</td>\n",
       "      <td>RF</td>\n",
       "      <td>0.8893</td>\n",
       "      <td>0.0774</td>\n",
       "      <td>0.8894</td>\n",
       "      <td>0.0770</td>\n",
       "      <td>68896552.6000</td>\n",
       "      <td>26015151.5833</td>\n",
       "      <td>0.8894</td>\n",
       "      <td>0.0770</td>\n",
       "      <td>f1</td>\n",
       "      <td>0.9869</td>\n",
       "      <td>0.9868</td>\n",
       "      <td>100.0642</td>\n",
       "      <td>0.9868</td>\n",
       "      <td>False</td>\n",
       "    </tr>\n",
       "    <tr>\n",
       "      <th>9</th>\n",
       "      <td>Dry Bean</td>\n",
       "      <td>SVM</td>\n",
       "      <td>0.6490</td>\n",
       "      <td>0.0821</td>\n",
       "      <td>0.6375</td>\n",
       "      <td>0.0826</td>\n",
       "      <td>1121423.8000</td>\n",
       "      <td>51430.1818</td>\n",
       "      <td>0.6375</td>\n",
       "      <td>0.0826</td>\n",
       "      <td>f1</td>\n",
       "      <td>0.7202</td>\n",
       "      <td>0.7074</td>\n",
       "      <td>1.6287</td>\n",
       "      <td>0.7074</td>\n",
       "      <td>False</td>\n",
       "    </tr>\n",
       "    <tr>\n",
       "      <th>10</th>\n",
       "      <td>Glass</td>\n",
       "      <td>Dict-Wisard</td>\n",
       "      <td>0.6231</td>\n",
       "      <td>0.0194</td>\n",
       "      <td>0.5661</td>\n",
       "      <td>0.0213</td>\n",
       "      <td>37794.8000</td>\n",
       "      <td>21282.6736</td>\n",
       "      <td>0.5661</td>\n",
       "      <td>0.0213</td>\n",
       "      <td>f1</td>\n",
       "      <td>0.8127</td>\n",
       "      <td>0.7544</td>\n",
       "      <td>0.0348</td>\n",
       "      <td>0.7544</td>\n",
       "      <td>False</td>\n",
       "    </tr>\n",
       "    <tr>\n",
       "      <th>11</th>\n",
       "      <td>Glass</td>\n",
       "      <td>KNN</td>\n",
       "      <td>0.7011</td>\n",
       "      <td>0.0614</td>\n",
       "      <td>0.6839</td>\n",
       "      <td>0.0646</td>\n",
       "      <td>16552.4000</td>\n",
       "      <td>6786.0425</td>\n",
       "      <td>0.6839</td>\n",
       "      <td>0.0646</td>\n",
       "      <td>f1</td>\n",
       "      <td>0.9145</td>\n",
       "      <td>0.9114</td>\n",
       "      <td>0.0153</td>\n",
       "      <td>0.9114</td>\n",
       "      <td>True</td>\n",
       "    </tr>\n",
       "  </tbody>\n",
       "</table>\n",
       "</div>"
      ],
      "text/plain": [
       "          dataset        model  accuracy  accuracy_std     f1  f1_std  \\\n",
       "0   Breast Cancer  Dict-Wisard    0.9279        0.0159 0.9274  0.0163   \n",
       "1   Breast Cancer          KNN    0.9297        0.0255 0.9288  0.0269   \n",
       "2   Breast Cancer          MLP    0.9315        0.0224 0.9308  0.0241   \n",
       "3   Breast Cancer           RF    0.9554        0.0166 0.9554  0.0167   \n",
       "4   Breast Cancer          SVM    0.9561        0.0397 0.9552  0.0417   \n",
       "5        Dry Bean  Dict-Wisard    0.9011        0.0047 0.9012  0.0043   \n",
       "6        Dry Bean          KNN    0.6769        0.1227 0.6777  0.1194   \n",
       "7        Dry Bean          MLP    0.4762        0.0851 0.3994  0.0829   \n",
       "8        Dry Bean           RF    0.8893        0.0774 0.8894  0.0770   \n",
       "9        Dry Bean          SVM    0.6490        0.0821 0.6375  0.0826   \n",
       "10          Glass  Dict-Wisard    0.6231        0.0194 0.5661  0.0213   \n",
       "11          Glass          KNN    0.7011        0.0614 0.6839  0.0646   \n",
       "\n",
       "      model_size  model_size_std  metric  metric_std performance_metric  \\\n",
       "0     40581.0000      23921.9804  0.9274      0.0163                 f1   \n",
       "1    129632.8000      52987.9426  0.9288      0.0269                 f1   \n",
       "2    123549.4667     180986.9919  0.9308      0.0241                 f1   \n",
       "3     47683.1333      38508.2852  0.9554      0.0167                 f1   \n",
       "4     11406.6000       4215.2497  0.9552      0.0417                 f1   \n",
       "5    688523.4000     481035.0196  0.9012      0.0043                 f1   \n",
       "6   1451882.6000     595903.3982  0.6777      0.1194                 f1   \n",
       "7    148391.2667     131486.3227  0.3994      0.0829                 f1   \n",
       "8  68896552.6000   26015151.5833  0.8894      0.0770                 f1   \n",
       "9   1121423.8000      51430.1818  0.6375      0.0826                 f1   \n",
       "10    37794.8000      21282.6736  0.5661      0.0213                 f1   \n",
       "11    16552.4000       6786.0425  0.6839      0.0646                 f1   \n",
       "\n",
       "    accuracy_relative  f1_relative  model_size_relative  metric_relative  \\\n",
       "0              0.9712       0.9708               0.8511           0.9708   \n",
       "1              0.9731       0.9722               2.7186           0.9722   \n",
       "2              0.9749       0.9743               2.5911           0.9743   \n",
       "3              1.0000       1.0000               1.0000           1.0000   \n",
       "4              1.0007       0.9998               0.2392           0.9998   \n",
       "5              1.0000       1.0000               1.0000           1.0000   \n",
       "6              0.7513       0.7520               2.1087           0.7520   \n",
       "7              0.5284       0.4432               0.2155           0.4432   \n",
       "8              0.9869       0.9868             100.0642           0.9868   \n",
       "9              0.7202       0.7074               1.6287           0.7074   \n",
       "10             0.8127       0.7544               0.0348           0.7544   \n",
       "11             0.9145       0.9114               0.0153           0.9114   \n",
       "\n",
       "   pareto  \n",
       "0   False  \n",
       "1   False  \n",
       "2   False  \n",
       "3    True  \n",
       "4    True  \n",
       "5    True  \n",
       "6   False  \n",
       "7    True  \n",
       "8   False  \n",
       "9   False  \n",
       "10  False  \n",
       "11   True  "
      ]
     },
     "execution_count": 16,
     "metadata": {},
     "output_type": "execute_result"
    }
   ],
   "source": [
    "# Identify Pareto frontier\n",
    "def is_pareto_efficient(costs):\n",
    "    is_efficient = np.ones(costs.shape[0], dtype=bool)\n",
    "    for i, c in enumerate(costs):\n",
    "        if is_efficient[i]:\n",
    "            is_efficient[is_efficient] = np.any(costs[is_efficient] < c, axis=1)\n",
    "            is_efficient[i] = True  # Keep the current point\n",
    "    return is_efficient\n",
    "\n",
    "for dset_name, dset_df in df.groupby(\"dataset\"):\n",
    "    costs = dset_df[[\"model_size\", \"metric\"]].to_numpy()\n",
    "    # Invert metric (lower is better)\n",
    "    costs[:, 1] = 1 / costs[:, 1]\n",
    "    pareto = is_pareto_efficient(costs)\n",
    "    df.loc[dset_df.index, \"pareto\"] = pareto\n",
    "    \n",
    "df.to_csv(\"results_relative_pareto.csv\", index=False)\n",
    "print(f\"Csv written to results_relative_pareto.csv\")\n",
    "df.head(n=12)"
   ]
  },
  {
   "cell_type": "code",
   "execution_count": 17,
   "metadata": {},
   "outputs": [
    {
     "data": {
      "text/html": [
       "<div>\n",
       "<style scoped>\n",
       "    .dataframe tbody tr th:only-of-type {\n",
       "        vertical-align: middle;\n",
       "    }\n",
       "\n",
       "    .dataframe tbody tr th {\n",
       "        vertical-align: top;\n",
       "    }\n",
       "\n",
       "    .dataframe thead th {\n",
       "        text-align: right;\n",
       "    }\n",
       "</style>\n",
       "<table border=\"1\" class=\"dataframe\">\n",
       "  <thead>\n",
       "    <tr style=\"text-align: right;\">\n",
       "      <th></th>\n",
       "      <th></th>\n",
       "      <th>pareto</th>\n",
       "    </tr>\n",
       "    <tr>\n",
       "      <th>model</th>\n",
       "      <th>pareto</th>\n",
       "      <th></th>\n",
       "    </tr>\n",
       "  </thead>\n",
       "  <tbody>\n",
       "    <tr>\n",
       "      <th rowspan=\"2\" valign=\"top\">Dict-Wisard</th>\n",
       "      <th>False</th>\n",
       "      <td>11</td>\n",
       "    </tr>\n",
       "    <tr>\n",
       "      <th>True</th>\n",
       "      <td>4</td>\n",
       "    </tr>\n",
       "    <tr>\n",
       "      <th rowspan=\"2\" valign=\"top\">KNN</th>\n",
       "      <th>False</th>\n",
       "      <td>12</td>\n",
       "    </tr>\n",
       "    <tr>\n",
       "      <th>True</th>\n",
       "      <td>3</td>\n",
       "    </tr>\n",
       "    <tr>\n",
       "      <th rowspan=\"2\" valign=\"top\">MLP</th>\n",
       "      <th>False</th>\n",
       "      <td>7</td>\n",
       "    </tr>\n",
       "    <tr>\n",
       "      <th>True</th>\n",
       "      <td>8</td>\n",
       "    </tr>\n",
       "    <tr>\n",
       "      <th rowspan=\"2\" valign=\"top\">RF</th>\n",
       "      <th>False</th>\n",
       "      <td>7</td>\n",
       "    </tr>\n",
       "    <tr>\n",
       "      <th>True</th>\n",
       "      <td>8</td>\n",
       "    </tr>\n",
       "    <tr>\n",
       "      <th rowspan=\"2\" valign=\"top\">SVM</th>\n",
       "      <th>False</th>\n",
       "      <td>4</td>\n",
       "    </tr>\n",
       "    <tr>\n",
       "      <th>True</th>\n",
       "      <td>11</td>\n",
       "    </tr>\n",
       "  </tbody>\n",
       "</table>\n",
       "</div>"
      ],
      "text/plain": [
       "                    pareto\n",
       "model       pareto        \n",
       "Dict-Wisard False       11\n",
       "            True         4\n",
       "KNN         False       12\n",
       "            True         3\n",
       "MLP         False        7\n",
       "            True         8\n",
       "RF          False        7\n",
       "            True         8\n",
       "SVM         False        4\n",
       "            True        11"
      ]
     },
     "execution_count": 17,
     "metadata": {},
     "output_type": "execute_result"
    }
   ],
   "source": [
    "df.groupby(\"model\").pareto.value_counts().sort_index().to_frame()"
   ]
  },
  {
   "cell_type": "code",
   "execution_count": 25,
   "metadata": {},
   "outputs": [
    {
     "name": "stdout",
     "output_type": "stream",
     "text": [
      "Figure written to: figures/model_metric_size.pdf\n",
      "Filename   : model_metric_size.pdf\n",
      "Latex label: model_metric_size\n"
     ]
    },
    {
     "data": {
      "application/vnd.plotly.v1+json": {
       "config": {
        "plotlyServerURL": "https://plot.ly"
       },
       "data": [
        {
         "marker": {
          "color": "#636EFA",
          "size": 10,
          "symbol": "star-open"
         },
         "mode": "markers+text",
         "name": "Wisard (Dict)",
         "showlegend": false,
         "text": "0.04 MB",
         "textfont": {
          "family": "Times New Roman",
          "size": 10
         },
         "textposition": "top center",
         "type": "scatter",
         "x": [
          0.8510556493071625
         ],
         "xaxis": "x",
         "y": [
          0.9274217882049556
         ],
         "yaxis": "y"
        },
        {
         "marker": {
          "color": "#636EFA",
          "size": 10,
          "symbol": "triangle-up-open"
         },
         "mode": "markers+text",
         "name": "KNN",
         "showlegend": false,
         "text": "0.12 MB",
         "textfont": {
          "family": "Times New Roman",
          "size": 10
         },
         "textposition": "top center",
         "type": "scatter",
         "x": [
          2.71863006765495
         ],
         "xaxis": "x",
         "y": [
          0.928787294098681
         ],
         "yaxis": "y"
        },
        {
         "marker": {
          "color": "#636EFA",
          "size": 10,
          "symbol": "square-open"
         },
         "mode": "markers+text",
         "name": "MLP",
         "showlegend": false,
         "text": "0.12 MB",
         "textfont": {
          "family": "Times New Roman",
          "size": 10
         },
         "textposition": "top center",
         "type": "scatter",
         "x": [
          2.5910517625379765
         ],
         "xaxis": "x",
         "y": [
          0.9307955986709778
         ],
         "yaxis": "y"
        },
        {
         "marker": {
          "color": "#EF553B",
          "size": 10,
          "symbol": "circle-open"
         },
         "mode": "markers+text",
         "name": "Random Forest",
         "showlegend": false,
         "text": "0.05 MB",
         "textfont": {
          "family": "Times New Roman",
          "size": 10
         },
         "textposition": "top center",
         "type": "scatter",
         "x": [
          1
         ],
         "xaxis": "x",
         "y": [
          0.9553537694099744
         ],
         "yaxis": "y"
        },
        {
         "marker": {
          "color": "#EF553B",
          "size": 10,
          "symbol": "diamond-open"
         },
         "mode": "markers+text",
         "name": "SVM",
         "showlegend": false,
         "text": "0.01 MB",
         "textfont": {
          "family": "Times New Roman",
          "size": 10
         },
         "textposition": "top center",
         "type": "scatter",
         "x": [
          0.2392166622159897
         ],
         "xaxis": "x",
         "y": [
          0.9551769843325087
         ],
         "yaxis": "y"
        },
        {
         "line": {
          "color": "rgb(102, 102, 102)",
          "dash": "dot",
          "width": 0.75
         },
         "mode": "lines",
         "showlegend": false,
         "type": "scatter",
         "x": [
          0.2392166622159897,
          0.2392166622159897,
          1,
          2.71863006765495
         ],
         "xaxis": "x",
         "y": [
          0.9274217882049556,
          0.9551769843325087,
          0.9553537694099744,
          0.9553537694099744
         ],
         "yaxis": "y"
        },
        {
         "marker": {
          "color": "#EF553B",
          "size": 10,
          "symbol": "star"
         },
         "mode": "markers+text",
         "name": "Wisard (Dict)",
         "showlegend": false,
         "text": "0.66 MB",
         "textfont": {
          "family": "Times New Roman",
          "size": 10
         },
         "textposition": "top center",
         "type": "scatter",
         "x": [
          1
         ],
         "xaxis": "x2",
         "y": [
          0.901231555625373
         ],
         "yaxis": "y2"
        },
        {
         "marker": {
          "color": "#636EFA",
          "size": 10,
          "symbol": "triangle-up-open"
         },
         "mode": "markers+text",
         "name": "KNN",
         "showlegend": false,
         "text": "1.38 MB",
         "textfont": {
          "family": "Times New Roman",
          "size": 10
         },
         "textposition": "top center",
         "type": "scatter",
         "x": [
          2.1086902783551005
         ],
         "xaxis": "x2",
         "y": [
          0.6777190670868615
         ],
         "yaxis": "y2"
        },
        {
         "marker": {
          "color": "#EF553B",
          "size": 10,
          "symbol": "square-open"
         },
         "mode": "markers+text",
         "name": "MLP",
         "showlegend": false,
         "text": "0.14 MB",
         "textfont": {
          "family": "Times New Roman",
          "size": 10
         },
         "textposition": "top center",
         "type": "scatter",
         "x": [
          0.2155210217498296
         ],
         "xaxis": "x2",
         "y": [
          0.3994121458900975
         ],
         "yaxis": "y2"
        },
        {
         "marker": {
          "color": "#636EFA",
          "size": 10,
          "symbol": "circle-open"
         },
         "mode": "markers+text",
         "name": "Random Forest",
         "showlegend": false,
         "text": "65.70 MB",
         "textfont": {
          "family": "Times New Roman",
          "size": 10
         },
         "textposition": "top center",
         "type": "scatter",
         "x": [
          100.0642136490931
         ],
         "xaxis": "x2",
         "y": [
          0.8893511494432051
         ],
         "yaxis": "y2"
        },
        {
         "marker": {
          "color": "#636EFA",
          "size": 10,
          "symbol": "diamond-open"
         },
         "mode": "markers+text",
         "name": "SVM",
         "showlegend": false,
         "text": "1.07 MB",
         "textfont": {
          "family": "Times New Roman",
          "size": 10
         },
         "textposition": "top center",
         "type": "scatter",
         "x": [
          1.62873738205557
         ],
         "xaxis": "x2",
         "y": [
          0.6375380482575996
         ],
         "yaxis": "y2"
        },
        {
         "line": {
          "color": "rgb(102, 102, 102)",
          "dash": "dot",
          "width": 0.75
         },
         "mode": "lines",
         "showlegend": false,
         "type": "scatter",
         "x": [
          0.2155210217498296,
          0.2155210217498296,
          1,
          100.0642136490931
         ],
         "xaxis": "x2",
         "y": [
          0.3994121458900975,
          0.3994121458900975,
          0.901231555625373,
          0.901231555625373
         ],
         "yaxis": "y2"
        },
        {
         "marker": {
          "color": "#636EFA",
          "size": 10,
          "symbol": "star-open"
         },
         "mode": "markers+text",
         "name": "Wisard (Dict)",
         "showlegend": false,
         "text": "0.04 MB",
         "textfont": {
          "family": "Times New Roman",
          "size": 10
         },
         "textposition": "top center",
         "type": "scatter",
         "x": [
          0.0348337201411826
         ],
         "xaxis": "x3",
         "y": [
          0.5661308970499663
         ],
         "yaxis": "y3"
        },
        {
         "marker": {
          "color": "#EF553B",
          "size": 10,
          "symbol": "triangle-up-open"
         },
         "mode": "markers+text",
         "name": "KNN",
         "showlegend": false,
         "text": "0.02 MB",
         "textfont": {
          "family": "Times New Roman",
          "size": 10
         },
         "textposition": "top center",
         "type": "scatter",
         "x": [
          0.0152555819653738
         ],
         "xaxis": "x3",
         "y": [
          0.6839334372989426
         ],
         "yaxis": "y3"
        },
        {
         "marker": {
          "color": "#636EFA",
          "size": 10,
          "symbol": "square-open"
         },
         "mode": "markers+text",
         "name": "MLP",
         "showlegend": false,
         "text": "0.16 MB",
         "textfont": {
          "family": "Times New Roman",
          "size": 10
         },
         "textposition": "top center",
         "type": "scatter",
         "x": [
          0.1529115165677712
         ],
         "xaxis": "x3",
         "y": [
          0.611132401799232
         ],
         "yaxis": "y3"
        },
        {
         "marker": {
          "color": "#EF553B",
          "size": 10,
          "symbol": "circle-open"
         },
         "mode": "markers+text",
         "name": "Random Forest",
         "showlegend": false,
         "text": "1.03 MB",
         "textfont": {
          "family": "Times New Roman",
          "size": 10
         },
         "textposition": "top center",
         "type": "scatter",
         "x": [
          1
         ],
         "xaxis": "x3",
         "y": [
          0.7504613729768747
         ],
         "yaxis": "y3"
        },
        {
         "marker": {
          "color": "#EF553B",
          "size": 10,
          "symbol": "diamond-open"
         },
         "mode": "markers+text",
         "name": "SVM",
         "showlegend": false,
         "text": "0.01 MB",
         "textfont": {
          "family": "Times New Roman",
          "size": 10
         },
         "textposition": "top center",
         "type": "scatter",
         "x": [
          0.0113540371999126
         ],
         "xaxis": "x3",
         "y": [
          0.6459684101061839
         ],
         "yaxis": "y3"
        },
        {
         "line": {
          "color": "rgb(102, 102, 102)",
          "dash": "dot",
          "width": 0.75
         },
         "mode": "lines",
         "showlegend": false,
         "type": "scatter",
         "x": [
          0.0113540371999126,
          0.0113540371999126,
          0.0152555819653738,
          1,
          1
         ],
         "xaxis": "x3",
         "y": [
          0.5661308970499663,
          0.6459684101061839,
          0.6839334372989426,
          0.7504613729768747,
          0.7504613729768747
         ],
         "yaxis": "y3"
        },
        {
         "marker": {
          "color": "#636EFA",
          "size": 10,
          "symbol": "star-open"
         },
         "mode": "markers+text",
         "name": "Wisard (Dict)",
         "showlegend": false,
         "text": "0.10 MB",
         "textfont": {
          "family": "Times New Roman",
          "size": 10
         },
         "textposition": "top center",
         "type": "scatter",
         "x": [
          0.4673839349973402
         ],
         "xaxis": "x4",
         "y": [
          0.653968253968254
         ],
         "yaxis": "y4"
        },
        {
         "marker": {
          "color": "#636EFA",
          "size": 10,
          "symbol": "triangle-up-open"
         },
         "mode": "markers+text",
         "name": "KNN",
         "showlegend": false,
         "text": "0.03 MB",
         "textfont": {
          "family": "Times New Roman",
          "size": 10
         },
         "textposition": "top center",
         "type": "scatter",
         "x": [
          0.1164561451086333
         ],
         "xaxis": "x4",
         "y": [
          0.7142857142857142
         ],
         "yaxis": "y4"
        },
        {
         "marker": {
          "color": "#636EFA",
          "size": 10,
          "symbol": "square-open"
         },
         "mode": "markers+text",
         "name": "MLP",
         "showlegend": false,
         "text": "0.26 MB",
         "textfont": {
          "family": "Times New Roman",
          "size": 10
         },
         "textposition": "top center",
         "type": "scatter",
         "x": [
          1.1737924128795385
         ],
         "xaxis": "x4",
         "y": [
          0.8412698412698413
         ],
         "yaxis": "y4"
        },
        {
         "marker": {
          "color": "#EF553B",
          "size": 10,
          "symbol": "circle-open"
         },
         "mode": "markers+text",
         "name": "Random Forest",
         "showlegend": false,
         "text": "0.22 MB",
         "textfont": {
          "family": "Times New Roman",
          "size": 10
         },
         "textposition": "top center",
         "type": "scatter",
         "x": [
          1
         ],
         "xaxis": "x4",
         "y": [
          0.9269841269841268
         ],
         "yaxis": "y4"
        },
        {
         "marker": {
          "color": "#EF553B",
          "size": 10,
          "symbol": "diamond-open"
         },
         "mode": "markers+text",
         "name": "SVM",
         "showlegend": false,
         "text": "0.01 MB",
         "textfont": {
          "family": "Times New Roman",
          "size": 10
         },
         "textposition": "top center",
         "type": "scatter",
         "x": [
          0.0512370531849425
         ],
         "xaxis": "x4",
         "y": [
          0.8952380952380953
         ],
         "yaxis": "y4"
        },
        {
         "line": {
          "color": "rgb(102, 102, 102)",
          "dash": "dot",
          "width": 0.75
         },
         "mode": "lines",
         "showlegend": false,
         "type": "scatter",
         "x": [
          0.0512370531849425,
          0.0512370531849425,
          1,
          1.1737924128795385
         ],
         "xaxis": "x4",
         "y": [
          0.653968253968254,
          0.8952380952380953,
          0.9269841269841268,
          0.9269841269841268
         ],
         "yaxis": "y4"
        },
        {
         "marker": {
          "color": "#EF553B",
          "size": 10,
          "symbol": "star"
         },
         "mode": "markers+text",
         "name": "Wisard (Dict)",
         "showlegend": false,
         "text": "0.00 MB",
         "textfont": {
          "family": "Times New Roman",
          "size": 10
         },
         "textposition": "top center",
         "type": "scatter",
         "x": [
          1
         ],
         "xaxis": "x5",
         "y": [
          0.96
         ],
         "yaxis": "y5"
        },
        {
         "marker": {
          "color": "#636EFA",
          "size": 10,
          "symbol": "triangle-up-open"
         },
         "mode": "markers+text",
         "name": "KNN",
         "showlegend": false,
         "text": "0.01 MB",
         "textfont": {
          "family": "Times New Roman",
          "size": 10
         },
         "textposition": "top center",
         "type": "scatter",
         "x": [
          1.592128103606327
         ],
         "xaxis": "x5",
         "y": [
          0.9466666666666668
         ],
         "yaxis": "y5"
        },
        {
         "marker": {
          "color": "#636EFA",
          "size": 10,
          "symbol": "square-open"
         },
         "mode": "markers+text",
         "name": "MLP",
         "showlegend": false,
         "text": "0.12 MB",
         "textfont": {
          "family": "Times New Roman",
          "size": 10
         },
         "textposition": "top center",
         "type": "scatter",
         "x": [
          35.71660392814652
         ],
         "xaxis": "x5",
         "y": [
          0.9555555555555556
         ],
         "yaxis": "y5"
        },
        {
         "marker": {
          "color": "#636EFA",
          "size": 10,
          "symbol": "circle-open"
         },
         "mode": "markers+text",
         "name": "Random Forest",
         "showlegend": false,
         "text": "0.20 MB",
         "textfont": {
          "family": "Times New Roman",
          "size": 10
         },
         "textposition": "top center",
         "type": "scatter",
         "x": [
          61.56766983284897
         ],
         "xaxis": "x5",
         "y": [
          0.9555555555555556
         ],
         "yaxis": "y5"
        },
        {
         "marker": {
          "color": "#EF553B",
          "size": 10,
          "symbol": "diamond-open"
         },
         "mode": "markers+text",
         "name": "SVM",
         "showlegend": false,
         "text": "0.00 MB",
         "textfont": {
          "family": "Times New Roman",
          "size": 10
         },
         "textposition": "top center",
         "type": "scatter",
         "x": [
          0.5690936396793509
         ],
         "xaxis": "x5",
         "y": [
          0.94
         ],
         "yaxis": "y5"
        },
        {
         "line": {
          "color": "rgb(102, 102, 102)",
          "dash": "dot",
          "width": 0.75
         },
         "mode": "lines",
         "showlegend": false,
         "type": "scatter",
         "x": [
          0.5690936396793509,
          0.5690936396793509,
          1,
          61.56766983284897
         ],
         "xaxis": "x5",
         "y": [
          0.94,
          0.94,
          0.96,
          0.96
         ],
         "yaxis": "y5"
        },
        {
         "marker": {
          "color": "#636EFA",
          "size": 10,
          "symbol": "star-open"
         },
         "mode": "markers+text",
         "name": "Wisard (Dict)",
         "showlegend": false,
         "text": "6.86 MB",
         "textfont": {
          "family": "Times New Roman",
          "size": 10
         },
         "textposition": "top center",
         "type": "scatter",
         "x": [
          4.066116021378278
         ],
         "xaxis": "x6",
         "y": [
          0.8738833333333333
         ],
         "yaxis": "y6"
        },
        {
         "marker": {
          "color": "#636EFA",
          "size": 10,
          "symbol": "triangle-up-open"
         },
         "mode": "markers+text",
         "name": "KNN",
         "showlegend": false,
         "text": "3.08 MB",
         "textfont": {
          "family": "Times New Roman",
          "size": 10
         },
         "textposition": "top center",
         "type": "scatter",
         "x": [
          1.823654535045983
         ],
         "xaxis": "x6",
         "y": [
          0.929
         ],
         "yaxis": "y6"
        },
        {
         "marker": {
          "color": "#EF553B",
          "size": 10,
          "symbol": "square-open"
         },
         "mode": "markers+text",
         "name": "MLP",
         "showlegend": false,
         "text": "0.07 MB",
         "textfont": {
          "family": "Times New Roman",
          "size": 10
         },
         "textposition": "top center",
         "type": "scatter",
         "x": [
          0.0443677971987812
         ],
         "xaxis": "x6",
         "y": [
          0.8845749999999999
         ],
         "yaxis": "y6"
        },
        {
         "marker": {
          "color": "#636EFA",
          "size": 10,
          "symbol": "circle-open"
         },
         "mode": "markers+text",
         "name": "Random Forest",
         "showlegend": false,
         "text": "702.04 MB",
         "textfont": {
          "family": "Times New Roman",
          "size": 10
         },
         "textposition": "top center",
         "type": "scatter",
         "x": [
          416.0958371807057
         ],
         "xaxis": "x6",
         "y": [
          0.9594333333333334
         ],
         "yaxis": "y6"
        },
        {
         "marker": {
          "color": "#EF553B",
          "size": 10,
          "symbol": "diamond-open"
         },
         "mode": "markers+text",
         "name": "SVM",
         "showlegend": false,
         "text": "1.69 MB",
         "textfont": {
          "family": "Times New Roman",
          "size": 10
         },
         "textposition": "top center",
         "type": "scatter",
         "x": [
          1
         ],
         "xaxis": "x6",
         "y": [
          0.96255
         ],
         "yaxis": "y6"
        },
        {
         "line": {
          "color": "rgb(102, 102, 102)",
          "dash": "dot",
          "width": 0.75
         },
         "mode": "lines",
         "showlegend": false,
         "type": "scatter",
         "x": [
          0.0443677971987812,
          0.0443677971987812,
          1,
          416.0958371807057
         ],
         "xaxis": "x6",
         "y": [
          0.8738833333333333,
          0.8845749999999999,
          0.96255,
          0.96255
         ],
         "yaxis": "y6"
        },
        {
         "marker": {
          "color": "#636EFA",
          "size": 10,
          "symbol": "star-open"
         },
         "mode": "markers+text",
         "name": "Wisard (Dict)",
         "showlegend": false,
         "text": "44.73 MB",
         "textfont": {
          "family": "Times New Roman",
          "size": 10
         },
         "textposition": "top center",
         "type": "scatter",
         "x": [
          0.8726734459704159
         ],
         "xaxis": "x7",
         "y": [
          0.7314027636040357
         ],
         "yaxis": "y7"
        },
        {
         "marker": {
          "color": "#636EFA",
          "size": 10,
          "symbol": "triangle-up-open"
         },
         "mode": "markers+text",
         "name": "KNN",
         "showlegend": false,
         "text": "11.15 MB",
         "textfont": {
          "family": "Times New Roman",
          "size": 10
         },
         "textposition": "top center",
         "type": "scatter",
         "x": [
          0.2175826440237336
         ],
         "xaxis": "x7",
         "y": [
          0.730743801232246
         ],
         "yaxis": "y7"
        },
        {
         "marker": {
          "color": "#EF553B",
          "size": 10,
          "symbol": "square-open"
         },
         "mode": "markers+text",
         "name": "MLP",
         "showlegend": false,
         "text": "1.00 MB",
         "textfont": {
          "family": "Times New Roman",
          "size": 10
         },
         "textposition": "top center",
         "type": "scatter",
         "x": [
          0.0194506740934685
         ],
         "xaxis": "x7",
         "y": [
          0.8439363670372906
         ],
         "yaxis": "y7"
        },
        {
         "marker": {
          "color": "#EF553B",
          "size": 10,
          "symbol": "circle-open"
         },
         "mode": "markers+text",
         "name": "Random Forest",
         "showlegend": false,
         "text": "51.25 MB",
         "textfont": {
          "family": "Times New Roman",
          "size": 10
         },
         "textposition": "top center",
         "type": "scatter",
         "x": [
          1
         ],
         "xaxis": "x7",
         "y": [
          0.9149752761865012
         ],
         "yaxis": "y7"
        },
        {
         "marker": {
          "color": "#636EFA",
          "size": 10,
          "symbol": "diamond-open"
         },
         "mode": "markers+text",
         "name": "SVM",
         "showlegend": false,
         "text": "6.28 MB",
         "textfont": {
          "family": "Times New Roman",
          "size": 10
         },
         "textposition": "top center",
         "type": "scatter",
         "x": [
          0.1224709781387141
         ],
         "xaxis": "x7",
         "y": [
          0.8342354195668052
         ],
         "yaxis": "y7"
        },
        {
         "line": {
          "color": "rgb(102, 102, 102)",
          "dash": "dot",
          "width": 0.75
         },
         "mode": "lines",
         "showlegend": false,
         "type": "scatter",
         "x": [
          0.0194506740934685,
          0.0194506740934685,
          1,
          1
         ],
         "xaxis": "x7",
         "y": [
          0.730743801232246,
          0.8439363670372906,
          0.9149752761865012,
          0.9149752761865012
         ],
         "yaxis": "y7"
        },
        {
         "marker": {
          "color": "#636EFA",
          "size": 10,
          "symbol": "star-open"
         },
         "mode": "markers+text",
         "name": "Wisard (Dict)",
         "showlegend": false,
         "text": "8.32 MB",
         "textfont": {
          "family": "Times New Roman",
          "size": 10
         },
         "textposition": "top center",
         "type": "scatter",
         "x": [
          17.92689213002168
         ],
         "xaxis": "x8",
         "y": [
          0.9713945616719252
         ],
         "yaxis": "y8"
        },
        {
         "marker": {
          "color": "#636EFA",
          "size": 10,
          "symbol": "triangle-up-open"
         },
         "mode": "markers+text",
         "name": "KNN",
         "showlegend": false,
         "text": "2.52 MB",
         "textfont": {
          "family": "Times New Roman",
          "size": 10
         },
         "textposition": "top center",
         "type": "scatter",
         "x": [
          5.439596813312395
         ],
         "xaxis": "x8",
         "y": [
          0.9866605385971174
         ],
         "yaxis": "y8"
        },
        {
         "marker": {
          "color": "#EF553B",
          "size": 10,
          "symbol": "square-open"
         },
         "mode": "markers+text",
         "name": "MLP",
         "showlegend": false,
         "text": "0.39 MB",
         "textfont": {
          "family": "Times New Roman",
          "size": 10
         },
         "textposition": "top center",
         "type": "scatter",
         "x": [
          0.8390740573263943
         ],
         "xaxis": "x8",
         "y": [
          0.984964480908618
         ],
         "yaxis": "y8"
        },
        {
         "marker": {
          "color": "#636EFA",
          "size": 10,
          "symbol": "circle-open"
         },
         "mode": "markers+text",
         "name": "Random Forest",
         "showlegend": false,
         "text": "66.34 MB",
         "textfont": {
          "family": "Times New Roman",
          "size": 10
         },
         "textposition": "top center",
         "type": "scatter",
         "x": [
          142.98900335166746
         ],
         "xaxis": "x8",
         "y": [
          0.9827401709823612
         ],
         "yaxis": "y8"
        },
        {
         "marker": {
          "color": "#EF553B",
          "size": 10,
          "symbol": "diamond-open"
         },
         "mode": "markers+text",
         "name": "SVM",
         "showlegend": false,
         "text": "0.46 MB",
         "textfont": {
          "family": "Times New Roman",
          "size": 10
         },
         "textposition": "top center",
         "type": "scatter",
         "x": [
          1
         ],
         "xaxis": "x8",
         "y": [
          0.990398481046555
         ],
         "yaxis": "y8"
        },
        {
         "line": {
          "color": "rgb(102, 102, 102)",
          "dash": "dot",
          "width": 0.75
         },
         "mode": "lines",
         "showlegend": false,
         "type": "scatter",
         "x": [
          0.8390740573263943,
          0.8390740573263943,
          1,
          142.98900335166746
         ],
         "xaxis": "x8",
         "y": [
          0.9713945616719252,
          0.984964480908618,
          0.990398481046555,
          0.990398481046555
         ],
         "yaxis": "y8"
        },
        {
         "marker": {
          "color": "#EF553B",
          "size": 10,
          "symbol": "star"
         },
         "mode": "markers+text",
         "name": "Wisard (Dict)",
         "showlegend": false,
         "text": "0.02 MB",
         "textfont": {
          "family": "Times New Roman",
          "size": 10
         },
         "textposition": "top center",
         "type": "scatter",
         "x": [
          0.9606319362841104
         ],
         "xaxis": "x9",
         "y": [
          0.905095619079262
         ],
         "yaxis": "y9"
        },
        {
         "marker": {
          "color": "#636EFA",
          "size": 10,
          "symbol": "triangle-up-open"
         },
         "mode": "markers+text",
         "name": "KNN",
         "showlegend": false,
         "text": "0.25 MB",
         "textfont": {
          "family": "Times New Roman",
          "size": 10
         },
         "textposition": "top center",
         "type": "scatter",
         "x": [
          10.136795926361144
         ],
         "xaxis": "x9",
         "y": [
          0.8804220231366706
         ],
         "yaxis": "y9"
        },
        {
         "marker": {
          "color": "#636EFA",
          "size": 10,
          "symbol": "square-open"
         },
         "mode": "markers+text",
         "name": "MLP",
         "showlegend": false,
         "text": "0.12 MB",
         "textfont": {
          "family": "Times New Roman",
          "size": 10
         },
         "textposition": "top center",
         "type": "scatter",
         "x": [
          4.867122339731036
         ],
         "xaxis": "x9",
         "y": [
          0.843347780938705
         ],
         "yaxis": "y9"
        },
        {
         "marker": {
          "color": "#636EFA",
          "size": 10,
          "symbol": "circle-open"
         },
         "mode": "markers+text",
         "name": "Random Forest",
         "showlegend": false,
         "text": "2.75 MB",
         "textfont": {
          "family": "Times New Roman",
          "size": 10
         },
         "textposition": "top center",
         "type": "scatter",
         "x": [
          113.14814205509856
         ],
         "xaxis": "x9",
         "y": [
          0.925536347164245
         ],
         "yaxis": "y9"
        },
        {
         "marker": {
          "color": "#EF553B",
          "size": 10,
          "symbol": "diamond-open"
         },
         "mode": "markers+text",
         "name": "SVM",
         "showlegend": false,
         "text": "0.02 MB",
         "textfont": {
          "family": "Times New Roman",
          "size": 10
         },
         "textposition": "top center",
         "type": "scatter",
         "x": [
          1
         ],
         "xaxis": "x9",
         "y": [
          0.9304168458096168
         ],
         "yaxis": "y9"
        },
        {
         "line": {
          "color": "rgb(102, 102, 102)",
          "dash": "dot",
          "width": 0.75
         },
         "mode": "lines",
         "showlegend": false,
         "type": "scatter",
         "x": [
          0.9606319362841104,
          0.9606319362841104,
          1,
          113.14814205509856
         ],
         "xaxis": "x9",
         "y": [
          0.843347780938705,
          0.905095619079262,
          0.9304168458096168,
          0.9304168458096168
         ],
         "yaxis": "y9"
        },
        {
         "marker": {
          "color": "#636EFA",
          "size": 10,
          "symbol": "star-open"
         },
         "mode": "markers+text",
         "name": "Wisard (Dict)",
         "showlegend": false,
         "text": "6.21 MB",
         "textfont": {
          "family": "Times New Roman",
          "size": 10
         },
         "textposition": "top center",
         "type": "scatter",
         "x": [
          0.1937543527768097
         ],
         "xaxis": "x10",
         "y": [
          0.8847048739983292
         ],
         "yaxis": "y10"
        },
        {
         "marker": {
          "color": "#636EFA",
          "size": 10,
          "symbol": "triangle-up-open"
         },
         "mode": "markers+text",
         "name": "KNN",
         "showlegend": false,
         "text": "1.41 MB",
         "textfont": {
          "family": "Times New Roman",
          "size": 10
         },
         "textposition": "top center",
         "type": "scatter",
         "x": [
          0.043994790101189
         ],
         "xaxis": "x10",
         "y": [
          0.903819786543536
         ],
         "yaxis": "y10"
        },
        {
         "marker": {
          "color": "#EF553B",
          "size": 10,
          "symbol": "square-open"
         },
         "mode": "markers+text",
         "name": "MLP",
         "showlegend": false,
         "text": "0.19 MB",
         "textfont": {
          "family": "Times New Roman",
          "size": 10
         },
         "textposition": "top center",
         "type": "scatter",
         "x": [
          0.0059567127491566
         ],
         "xaxis": "x10",
         "y": [
          0.903648260940009
         ],
         "yaxis": "y10"
        },
        {
         "marker": {
          "color": "#EF553B",
          "size": 10,
          "symbol": "circle-open"
         },
         "mode": "markers+text",
         "name": "Random Forest",
         "showlegend": false,
         "text": "32.06 MB",
         "textfont": {
          "family": "Times New Roman",
          "size": 10
         },
         "textposition": "top center",
         "type": "scatter",
         "x": [
          1
         ],
         "xaxis": "x10",
         "y": [
          0.9089598170022144
         ],
         "yaxis": "y10"
        },
        {
         "marker": {
          "color": "#EF553B",
          "size": 10,
          "symbol": "diamond-open"
         },
         "mode": "markers+text",
         "name": "SVM",
         "showlegend": false,
         "text": "0.34 MB",
         "textfont": {
          "family": "Times New Roman",
          "size": 10
         },
         "textposition": "top center",
         "type": "scatter",
         "x": [
          0.0106484920111408
         ],
         "xaxis": "x10",
         "y": [
          0.9067691932893028
         ],
         "yaxis": "y10"
        },
        {
         "line": {
          "color": "rgb(102, 102, 102)",
          "dash": "dot",
          "width": 0.75
         },
         "mode": "lines",
         "showlegend": false,
         "type": "scatter",
         "x": [
          0.0059567127491566,
          0.0059567127491566,
          0.0106484920111408,
          1,
          1
         ],
         "xaxis": "x10",
         "y": [
          0.8847048739983292,
          0.903648260940009,
          0.9067691932893028,
          0.9089598170022144,
          0.9089598170022144
         ],
         "yaxis": "y10"
        },
        {
         "marker": {
          "color": "#636EFA",
          "size": 10,
          "symbol": "star-open"
         },
         "mode": "markers+text",
         "name": "Wisard (Dict)",
         "showlegend": false,
         "text": "0.12 MB",
         "textfont": {
          "family": "Times New Roman",
          "size": 10
         },
         "textposition": "top center",
         "type": "scatter",
         "x": [
          0.049328377157498
         ],
         "xaxis": "x11",
         "y": [
          0.8698412698412697
         ],
         "yaxis": "y11"
        },
        {
         "marker": {
          "color": "#636EFA",
          "size": 10,
          "symbol": "triangle-up-open"
         },
         "mode": "markers+text",
         "name": "KNN",
         "showlegend": false,
         "text": "0.23 MB",
         "textfont": {
          "family": "Times New Roman",
          "size": 10
         },
         "textposition": "top center",
         "type": "scatter",
         "x": [
          0.0967429088743097
         ],
         "xaxis": "x11",
         "y": [
          0.954112554112554
         ],
         "yaxis": "y11"
        },
        {
         "marker": {
          "color": "#EF553B",
          "size": 10,
          "symbol": "square-open"
         },
         "mode": "markers+text",
         "name": "MLP",
         "showlegend": false,
         "text": "0.40 MB",
         "textfont": {
          "family": "Times New Roman",
          "size": 10
         },
         "textposition": "top center",
         "type": "scatter",
         "x": [
          0.1702608268018956
         ],
         "xaxis": "x11",
         "y": [
          0.9673160173160174
         ],
         "yaxis": "y11"
        },
        {
         "marker": {
          "color": "#EF553B",
          "size": 10,
          "symbol": "circle-open"
         },
         "mode": "markers+text",
         "name": "Random Forest",
         "showlegend": false,
         "text": "2.34 MB",
         "textfont": {
          "family": "Times New Roman",
          "size": 10
         },
         "textposition": "top center",
         "type": "scatter",
         "x": [
          1
         ],
         "xaxis": "x11",
         "y": [
          0.976046176046176
         ],
         "yaxis": "y11"
        },
        {
         "marker": {
          "color": "#EF553B",
          "size": 10,
          "symbol": "diamond-open"
         },
         "mode": "markers+text",
         "name": "SVM",
         "showlegend": false,
         "text": "0.05 MB",
         "textfont": {
          "family": "Times New Roman",
          "size": 10
         },
         "textposition": "top center",
         "type": "scatter",
         "x": [
          0.0199753420245871
         ],
         "xaxis": "x11",
         "y": [
          0.9593073593073592
         ],
         "yaxis": "y11"
        },
        {
         "line": {
          "color": "rgb(102, 102, 102)",
          "dash": "dot",
          "width": 0.75
         },
         "mode": "lines",
         "showlegend": false,
         "type": "scatter",
         "x": [
          0.0199753420245871,
          0.0199753420245871,
          0.1702608268018956,
          1,
          1
         ],
         "xaxis": "x11",
         "y": [
          0.8698412698412697,
          0.9593073593073592,
          0.9673160173160174,
          0.976046176046176,
          0.976046176046176
         ],
         "yaxis": "y11"
        },
        {
         "marker": {
          "color": "#EF553B",
          "size": 10,
          "symbol": "star"
         },
         "mode": "markers+text",
         "name": "Wisard (Dict)",
         "showlegend": false,
         "text": "0.01 MB",
         "textfont": {
          "family": "Times New Roman",
          "size": 10
         },
         "textposition": "top center",
         "type": "scatter",
         "x": [
          0.0023786600113148
         ],
         "xaxis": "x12",
         "y": [
          0.8882571879338632
         ],
         "yaxis": "y12"
        },
        {
         "marker": {
          "color": "#EF553B",
          "size": 10,
          "symbol": "triangle-up-open"
         },
         "mode": "markers+text",
         "name": "KNN",
         "showlegend": false,
         "text": "4.59 MB",
         "textfont": {
          "family": "Times New Roman",
          "size": 10
         },
         "textposition": "top center",
         "type": "scatter",
         "x": [
          1
         ],
         "xaxis": "x12",
         "y": [
          0.8910347386372456
         ],
         "yaxis": "y12"
        },
        {
         "marker": {
          "color": "#EF553B",
          "size": 10,
          "symbol": "square-open"
         },
         "mode": "markers+text",
         "name": "MLP",
         "showlegend": false,
         "text": "0.01 MB",
         "textfont": {
          "family": "Times New Roman",
          "size": 10
         },
         "textposition": "top center",
         "type": "scatter",
         "x": [
          0.0030026546909815
         ],
         "xaxis": "x12",
         "y": [
          0.8909013432042945
         ],
         "yaxis": "y12"
        },
        {
         "marker": {
          "color": "#636EFA",
          "size": 10,
          "symbol": "circle-open"
         },
         "mode": "markers+text",
         "name": "Random Forest",
         "showlegend": false,
         "text": "24.31 MB",
         "textfont": {
          "family": "Times New Roman",
          "size": 10
         },
         "textposition": "top center",
         "type": "scatter",
         "x": [
          5.299863399880612
         ],
         "xaxis": "x12",
         "y": [
          0.8908910741322176
         ],
         "yaxis": "y12"
        },
        {
         "marker": {
          "color": "#636EFA",
          "size": 10,
          "symbol": "diamond-open"
         },
         "mode": "markers+text",
         "name": "SVM",
         "showlegend": false,
         "text": "0.44 MB",
         "textfont": {
          "family": "Times New Roman",
          "size": 10
         },
         "textposition": "top center",
         "type": "scatter",
         "x": [
          0.095879784464616
         ],
         "xaxis": "x12",
         "y": [
          0.8909013432042945
         ],
         "yaxis": "y12"
        },
        {
         "line": {
          "color": "rgb(102, 102, 102)",
          "dash": "dot",
          "width": 0.75
         },
         "mode": "lines",
         "showlegend": false,
         "type": "scatter",
         "x": [
          0.0023786600113148,
          0.0023786600113148,
          0.0030026546909815,
          1,
          5.299863399880612
         ],
         "xaxis": "x12",
         "y": [
          0.8882571879338632,
          0.8882571879338632,
          0.8909013432042945,
          0.8910347386372456,
          0.8910347386372456
         ],
         "yaxis": "y12"
        },
        {
         "marker": {
          "color": "#636EFA",
          "size": 10,
          "symbol": "star-open"
         },
         "mode": "markers+text",
         "name": "Wisard (Dict)",
         "showlegend": false,
         "text": "0.34 MB",
         "textfont": {
          "family": "Times New Roman",
          "size": 10
         },
         "textposition": "top center",
         "type": "scatter",
         "x": [
          0.1795819671959118
         ],
         "xaxis": "x13",
         "y": [
          0.8672444599141432
         ],
         "yaxis": "y13"
        },
        {
         "marker": {
          "color": "#636EFA",
          "size": 10,
          "symbol": "triangle-up-open"
         },
         "mode": "markers+text",
         "name": "KNN",
         "showlegend": false,
         "text": "0.08 MB",
         "textfont": {
          "family": "Times New Roman",
          "size": 10
         },
         "textposition": "top center",
         "type": "scatter",
         "x": [
          0.0420860707704375
         ],
         "xaxis": "x13",
         "y": [
          0.8428332753219632
         ],
         "yaxis": "y13"
        },
        {
         "marker": {
          "color": "#636EFA",
          "size": 10,
          "symbol": "square-open"
         },
         "mode": "markers+text",
         "name": "MLP",
         "showlegend": false,
         "text": "0.34 MB",
         "textfont": {
          "family": "Times New Roman",
          "size": 10
         },
         "textposition": "top center",
         "type": "scatter",
         "x": [
          0.1812569601667738
         ],
         "xaxis": "x13",
         "y": [
          0.9196554124608424
         ],
         "yaxis": "y13"
        },
        {
         "marker": {
          "color": "#EF553B",
          "size": 10,
          "symbol": "circle-open"
         },
         "mode": "markers+text",
         "name": "Random Forest",
         "showlegend": false,
         "text": "1.88 MB",
         "textfont": {
          "family": "Times New Roman",
          "size": 10
         },
         "textposition": "top center",
         "type": "scatter",
         "x": [
          1
         ],
         "xaxis": "x13",
         "y": [
          0.9546977607611092
         ],
         "yaxis": "y13"
        },
        {
         "marker": {
          "color": "#EF553B",
          "size": 10,
          "symbol": "diamond-open"
         },
         "mode": "markers+text",
         "name": "SVM",
         "showlegend": false,
         "text": "0.02 MB",
         "textfont": {
          "family": "Times New Roman",
          "size": 10
         },
         "textposition": "top center",
         "type": "scatter",
         "x": [
          0.0102755063264272
         ],
         "xaxis": "x13",
         "y": [
          0.9385659589279498
         ],
         "yaxis": "y13"
        },
        {
         "line": {
          "color": "rgb(102, 102, 102)",
          "dash": "dot",
          "width": 0.75
         },
         "mode": "lines",
         "showlegend": false,
         "type": "scatter",
         "x": [
          0.0102755063264272,
          0.0102755063264272,
          1,
          1
         ],
         "xaxis": "x13",
         "y": [
          0.8428332753219632,
          0.9385659589279498,
          0.9546977607611092,
          0.9546977607611092
         ],
         "yaxis": "y13"
        },
        {
         "marker": {
          "color": "#636EFA",
          "size": 10,
          "symbol": "star-open"
         },
         "mode": "markers+text",
         "name": "Wisard (Dict)",
         "showlegend": false,
         "text": "0.05 MB",
         "textfont": {
          "family": "Times New Roman",
          "size": 10
         },
         "textposition": "top center",
         "type": "scatter",
         "x": [
          0.1863214592008372
         ],
         "xaxis": "x14",
         "y": [
          0.9339462880454916
         ],
         "yaxis": "y14"
        },
        {
         "marker": {
          "color": "#636EFA",
          "size": 10,
          "symbol": "triangle-up-open"
         },
         "mode": "markers+text",
         "name": "KNN",
         "showlegend": false,
         "text": "0.02 MB",
         "textfont": {
          "family": "Times New Roman",
          "size": 10
         },
         "textposition": "top center",
         "type": "scatter",
         "x": [
          0.0684783220402491
         ],
         "xaxis": "x14",
         "y": [
          0.7087769727856685
         ],
         "yaxis": "y14"
        },
        {
         "marker": {
          "color": "#636EFA",
          "size": 10,
          "symbol": "square-open"
         },
         "mode": "markers+text",
         "name": "MLP",
         "showlegend": false,
         "text": "0.59 MB",
         "textfont": {
          "family": "Times New Roman",
          "size": 10
         },
         "textposition": "top center",
         "type": "scatter",
         "x": [
          2.21989888412752
         ],
         "xaxis": "x14",
         "y": [
          0.935576152138218
         ],
         "yaxis": "y14"
        },
        {
         "marker": {
          "color": "#EF553B",
          "size": 10,
          "symbol": "circle-open"
         },
         "mode": "markers+text",
         "name": "Random Forest",
         "showlegend": false,
         "text": "0.26 MB",
         "textfont": {
          "family": "Times New Roman",
          "size": 10
         },
         "textposition": "top center",
         "type": "scatter",
         "x": [
          1
         ],
         "xaxis": "x14",
         "y": [
          0.9809548916250128
         ],
         "yaxis": "y14"
        },
        {
         "marker": {
          "color": "#EF553B",
          "size": 10,
          "symbol": "diamond-open"
         },
         "mode": "markers+text",
         "name": "SVM",
         "showlegend": false,
         "text": "0.00 MB",
         "textfont": {
          "family": "Times New Roman",
          "size": 10
         },
         "textposition": "top center",
         "type": "scatter",
         "x": [
          0.0132214943619555
         ],
         "xaxis": "x14",
         "y": [
          0.943416526414396
         ],
         "yaxis": "y14"
        },
        {
         "line": {
          "color": "rgb(102, 102, 102)",
          "dash": "dot",
          "width": 0.75
         },
         "mode": "lines",
         "showlegend": false,
         "type": "scatter",
         "x": [
          0.0132214943619555,
          0.0132214943619555,
          1,
          2.21989888412752
         ],
         "xaxis": "x14",
         "y": [
          0.7087769727856685,
          0.943416526414396,
          0.9809548916250128,
          0.9809548916250128
         ],
         "yaxis": "y14"
        },
        {
         "marker": {
          "color": "#636EFA",
          "size": 10,
          "symbol": "star-open"
         },
         "mode": "markers+text",
         "name": "Wisard (Dict)",
         "showlegend": false,
         "text": "0.41 MB",
         "textfont": {
          "family": "Times New Roman",
          "size": 10
         },
         "textposition": "top center",
         "type": "scatter",
         "x": [
          4.506688708725862
         ],
         "xaxis": "x15",
         "y": [
          0.4874465865037905
         ],
         "yaxis": "y15"
        },
        {
         "marker": {
          "color": "#EF553B",
          "size": 10,
          "symbol": "triangle-up-open"
         },
         "mode": "markers+text",
         "name": "KNN",
         "showlegend": false,
         "text": "0.08 MB",
         "textfont": {
          "family": "Times New Roman",
          "size": 10
         },
         "textposition": "top center",
         "type": "scatter",
         "x": [
          0.8698677684916685
         ],
         "xaxis": "x15",
         "y": [
          0.5794544141100103
         ],
         "yaxis": "y15"
        },
        {
         "marker": {
          "color": "#EF553B",
          "size": 10,
          "symbol": "square-open"
         },
         "mode": "markers+text",
         "name": "MLP",
         "showlegend": false,
         "text": "0.09 MB",
         "textfont": {
          "family": "Times New Roman",
          "size": 10
         },
         "textposition": "top center",
         "type": "scatter",
         "x": [
          1
         ],
         "xaxis": "x15",
         "y": [
          0.5801492599606056
         ],
         "yaxis": "y15"
        },
        {
         "marker": {
          "color": "#636EFA",
          "size": 10,
          "symbol": "circle-open"
         },
         "mode": "markers+text",
         "name": "Random Forest",
         "showlegend": false,
         "text": "24.59 MB",
         "textfont": {
          "family": "Times New Roman",
          "size": 10
         },
         "textposition": "top center",
         "type": "scatter",
         "x": [
          268.8030515604902
         ],
         "xaxis": "x15",
         "y": [
          0.5695003802236046
         ],
         "yaxis": "y15"
        },
        {
         "marker": {
          "color": "#636EFA",
          "size": 10,
          "symbol": "diamond-open"
         },
         "mode": "markers+text",
         "name": "SVM",
         "showlegend": false,
         "text": "0.10 MB",
         "textfont": {
          "family": "Times New Roman",
          "size": 10
         },
         "textposition": "top center",
         "type": "scatter",
         "x": [
          1.1259712021747423
         ],
         "xaxis": "x15",
         "y": [
          0.5773124297108072
         ],
         "yaxis": "y15"
        },
        {
         "line": {
          "color": "rgb(102, 102, 102)",
          "dash": "dot",
          "width": 0.75
         },
         "mode": "lines",
         "showlegend": false,
         "type": "scatter",
         "x": [
          0.8698677684916685,
          0.8698677684916685,
          1,
          268.8030515604902
         ],
         "xaxis": "x15",
         "y": [
          0.4874465865037905,
          0.5794544141100103,
          0.5801492599606056,
          0.5801492599606056
         ],
         "yaxis": "y15"
        },
        {
         "marker": {
          "color": "#636EFA",
          "size": 12,
          "symbol": "triangle-up-open"
         },
         "mode": "markers",
         "name": "KNN",
         "type": "scatter",
         "x": [
          null
         ],
         "y": [
          null
         ]
        },
        {
         "marker": {
          "color": "#636EFA",
          "size": 12,
          "symbol": "square-open"
         },
         "mode": "markers",
         "name": "MLP",
         "type": "scatter",
         "x": [
          null
         ],
         "y": [
          null
         ]
        },
        {
         "marker": {
          "color": "#636EFA",
          "size": 12,
          "symbol": "circle-open"
         },
         "mode": "markers",
         "name": "Random Forest",
         "type": "scatter",
         "x": [
          null
         ],
         "y": [
          null
         ]
        },
        {
         "marker": {
          "color": "#636EFA",
          "size": 12,
          "symbol": "diamond-open"
         },
         "mode": "markers",
         "name": "SVM",
         "type": "scatter",
         "x": [
          null
         ],
         "y": [
          null
         ]
        },
        {
         "marker": {
          "color": "#636EFA",
          "size": 12,
          "symbol": "star-open"
         },
         "mode": "markers",
         "name": "Wisard (Dict)",
         "type": "scatter",
         "x": [
          null
         ],
         "y": [
          null
         ]
        },
        {
         "line": {
          "color": "rgb(102, 102, 102)",
          "dash": "dot",
          "width": 0.5
         },
         "mode": "lines",
         "name": "Pareto Frontier",
         "type": "scatter",
         "x": [
          null
         ],
         "y": [
          null
         ]
        }
       ],
       "layout": {
        "annotations": [
         {
          "font": {
           "size": 16
          },
          "showarrow": false,
          "text": "Breast Cancer",
          "x": 0.15,
          "xanchor": "center",
          "xref": "paper",
          "y": 1,
          "yanchor": "bottom",
          "yref": "paper"
         },
         {
          "font": {
           "size": 16
          },
          "showarrow": false,
          "text": "Dry Bean",
          "x": 0.49999999999999994,
          "xanchor": "center",
          "xref": "paper",
          "y": 1,
          "yanchor": "bottom",
          "yref": "paper"
         },
         {
          "font": {
           "size": 16
          },
          "showarrow": false,
          "text": "Glass",
          "x": 0.85,
          "xanchor": "center",
          "xref": "paper",
          "y": 1,
          "yanchor": "bottom",
          "yref": "paper"
         },
         {
          "font": {
           "size": 16
          },
          "showarrow": false,
          "text": "Image Segmentation",
          "x": 0.15,
          "xanchor": "center",
          "xref": "paper",
          "y": 0.79,
          "yanchor": "bottom",
          "yref": "paper"
         },
         {
          "font": {
           "size": 16
          },
          "showarrow": false,
          "text": "Iris",
          "x": 0.49999999999999994,
          "xanchor": "center",
          "xref": "paper",
          "y": 0.79,
          "yanchor": "bottom",
          "yref": "paper"
         },
         {
          "font": {
           "size": 16
          },
          "showarrow": false,
          "text": "Letter",
          "x": 0.85,
          "xanchor": "center",
          "xref": "paper",
          "y": 0.79,
          "yanchor": "bottom",
          "yref": "paper"
         },
         {
          "font": {
           "size": 16
          },
          "showarrow": false,
          "text": "Motion Sense",
          "x": 0.15,
          "xanchor": "center",
          "xref": "paper",
          "y": 0.5800000000000001,
          "yanchor": "bottom",
          "yref": "paper"
         },
         {
          "font": {
           "size": 16
          },
          "showarrow": false,
          "text": "Optical Handwritten",
          "x": 0.49999999999999994,
          "xanchor": "center",
          "xref": "paper",
          "y": 0.5800000000000001,
          "yanchor": "bottom",
          "yref": "paper"
         },
         {
          "font": {
           "size": 16
          },
          "showarrow": false,
          "text": "Rice",
          "x": 0.85,
          "xanchor": "center",
          "xref": "paper",
          "y": 0.5800000000000001,
          "yanchor": "bottom",
          "yref": "paper"
         },
         {
          "font": {
           "size": 16
          },
          "showarrow": false,
          "text": "Satimage",
          "x": 0.15,
          "xanchor": "center",
          "xref": "paper",
          "y": 0.37,
          "yanchor": "bottom",
          "yref": "paper"
         },
         {
          "font": {
           "size": 16
          },
          "showarrow": false,
          "text": "Segment",
          "x": 0.49999999999999994,
          "xanchor": "center",
          "xref": "paper",
          "y": 0.37,
          "yanchor": "bottom",
          "yref": "paper"
         },
         {
          "font": {
           "size": 16
          },
          "showarrow": false,
          "text": "Sepsis",
          "x": 0.85,
          "xanchor": "center",
          "xref": "paper",
          "y": 0.37,
          "yanchor": "bottom",
          "yref": "paper"
         },
         {
          "font": {
           "size": 16
          },
          "showarrow": false,
          "text": "Vehicle",
          "x": 0.15,
          "xanchor": "center",
          "xref": "paper",
          "y": 0.16,
          "yanchor": "bottom",
          "yref": "paper"
         },
         {
          "font": {
           "size": 16
          },
          "showarrow": false,
          "text": "Wine",
          "x": 0.49999999999999994,
          "xanchor": "center",
          "xref": "paper",
          "y": 0.16,
          "yanchor": "bottom",
          "yref": "paper"
         },
         {
          "font": {
           "size": 16
          },
          "showarrow": false,
          "text": "Yeast",
          "x": 0.85,
          "xanchor": "center",
          "xref": "paper",
          "y": 0.16,
          "yanchor": "bottom",
          "yref": "paper"
         }
        ],
        "font": {
         "family": "Times New Roman",
         "size": 14
        },
        "height": 1200,
        "legend": {
         "orientation": "h",
         "title": {
          "text": ""
         },
         "traceorder": "normal",
         "x": 0.5,
         "xanchor": "center",
         "y": 1.07,
         "yanchor": "top"
        },
        "margin": {
         "b": 10,
         "l": 10,
         "r": 10,
         "t": 10
        },
        "template": {
         "data": {
          "bar": [
           {
            "error_x": {
             "color": "#2a3f5f"
            },
            "error_y": {
             "color": "#2a3f5f"
            },
            "marker": {
             "line": {
              "color": "#E5ECF6",
              "width": 0.5
             },
             "pattern": {
              "fillmode": "overlay",
              "size": 10,
              "solidity": 0.2
             }
            },
            "type": "bar"
           }
          ],
          "barpolar": [
           {
            "marker": {
             "line": {
              "color": "#E5ECF6",
              "width": 0.5
             },
             "pattern": {
              "fillmode": "overlay",
              "size": 10,
              "solidity": 0.2
             }
            },
            "type": "barpolar"
           }
          ],
          "carpet": [
           {
            "aaxis": {
             "endlinecolor": "#2a3f5f",
             "gridcolor": "white",
             "linecolor": "white",
             "minorgridcolor": "white",
             "startlinecolor": "#2a3f5f"
            },
            "baxis": {
             "endlinecolor": "#2a3f5f",
             "gridcolor": "white",
             "linecolor": "white",
             "minorgridcolor": "white",
             "startlinecolor": "#2a3f5f"
            },
            "type": "carpet"
           }
          ],
          "choropleth": [
           {
            "colorbar": {
             "outlinewidth": 0,
             "ticks": ""
            },
            "type": "choropleth"
           }
          ],
          "contour": [
           {
            "colorbar": {
             "outlinewidth": 0,
             "ticks": ""
            },
            "colorscale": [
             [
              0,
              "#0d0887"
             ],
             [
              0.1111111111111111,
              "#46039f"
             ],
             [
              0.2222222222222222,
              "#7201a8"
             ],
             [
              0.3333333333333333,
              "#9c179e"
             ],
             [
              0.4444444444444444,
              "#bd3786"
             ],
             [
              0.5555555555555556,
              "#d8576b"
             ],
             [
              0.6666666666666666,
              "#ed7953"
             ],
             [
              0.7777777777777778,
              "#fb9f3a"
             ],
             [
              0.8888888888888888,
              "#fdca26"
             ],
             [
              1,
              "#f0f921"
             ]
            ],
            "type": "contour"
           }
          ],
          "contourcarpet": [
           {
            "colorbar": {
             "outlinewidth": 0,
             "ticks": ""
            },
            "type": "contourcarpet"
           }
          ],
          "heatmap": [
           {
            "colorbar": {
             "outlinewidth": 0,
             "ticks": ""
            },
            "colorscale": [
             [
              0,
              "#0d0887"
             ],
             [
              0.1111111111111111,
              "#46039f"
             ],
             [
              0.2222222222222222,
              "#7201a8"
             ],
             [
              0.3333333333333333,
              "#9c179e"
             ],
             [
              0.4444444444444444,
              "#bd3786"
             ],
             [
              0.5555555555555556,
              "#d8576b"
             ],
             [
              0.6666666666666666,
              "#ed7953"
             ],
             [
              0.7777777777777778,
              "#fb9f3a"
             ],
             [
              0.8888888888888888,
              "#fdca26"
             ],
             [
              1,
              "#f0f921"
             ]
            ],
            "type": "heatmap"
           }
          ],
          "heatmapgl": [
           {
            "colorbar": {
             "outlinewidth": 0,
             "ticks": ""
            },
            "colorscale": [
             [
              0,
              "#0d0887"
             ],
             [
              0.1111111111111111,
              "#46039f"
             ],
             [
              0.2222222222222222,
              "#7201a8"
             ],
             [
              0.3333333333333333,
              "#9c179e"
             ],
             [
              0.4444444444444444,
              "#bd3786"
             ],
             [
              0.5555555555555556,
              "#d8576b"
             ],
             [
              0.6666666666666666,
              "#ed7953"
             ],
             [
              0.7777777777777778,
              "#fb9f3a"
             ],
             [
              0.8888888888888888,
              "#fdca26"
             ],
             [
              1,
              "#f0f921"
             ]
            ],
            "type": "heatmapgl"
           }
          ],
          "histogram": [
           {
            "marker": {
             "pattern": {
              "fillmode": "overlay",
              "size": 10,
              "solidity": 0.2
             }
            },
            "type": "histogram"
           }
          ],
          "histogram2d": [
           {
            "colorbar": {
             "outlinewidth": 0,
             "ticks": ""
            },
            "colorscale": [
             [
              0,
              "#0d0887"
             ],
             [
              0.1111111111111111,
              "#46039f"
             ],
             [
              0.2222222222222222,
              "#7201a8"
             ],
             [
              0.3333333333333333,
              "#9c179e"
             ],
             [
              0.4444444444444444,
              "#bd3786"
             ],
             [
              0.5555555555555556,
              "#d8576b"
             ],
             [
              0.6666666666666666,
              "#ed7953"
             ],
             [
              0.7777777777777778,
              "#fb9f3a"
             ],
             [
              0.8888888888888888,
              "#fdca26"
             ],
             [
              1,
              "#f0f921"
             ]
            ],
            "type": "histogram2d"
           }
          ],
          "histogram2dcontour": [
           {
            "colorbar": {
             "outlinewidth": 0,
             "ticks": ""
            },
            "colorscale": [
             [
              0,
              "#0d0887"
             ],
             [
              0.1111111111111111,
              "#46039f"
             ],
             [
              0.2222222222222222,
              "#7201a8"
             ],
             [
              0.3333333333333333,
              "#9c179e"
             ],
             [
              0.4444444444444444,
              "#bd3786"
             ],
             [
              0.5555555555555556,
              "#d8576b"
             ],
             [
              0.6666666666666666,
              "#ed7953"
             ],
             [
              0.7777777777777778,
              "#fb9f3a"
             ],
             [
              0.8888888888888888,
              "#fdca26"
             ],
             [
              1,
              "#f0f921"
             ]
            ],
            "type": "histogram2dcontour"
           }
          ],
          "mesh3d": [
           {
            "colorbar": {
             "outlinewidth": 0,
             "ticks": ""
            },
            "type": "mesh3d"
           }
          ],
          "parcoords": [
           {
            "line": {
             "colorbar": {
              "outlinewidth": 0,
              "ticks": ""
             }
            },
            "type": "parcoords"
           }
          ],
          "pie": [
           {
            "automargin": true,
            "type": "pie"
           }
          ],
          "scatter": [
           {
            "fillpattern": {
             "fillmode": "overlay",
             "size": 10,
             "solidity": 0.2
            },
            "type": "scatter"
           }
          ],
          "scatter3d": [
           {
            "line": {
             "colorbar": {
              "outlinewidth": 0,
              "ticks": ""
             }
            },
            "marker": {
             "colorbar": {
              "outlinewidth": 0,
              "ticks": ""
             }
            },
            "type": "scatter3d"
           }
          ],
          "scattercarpet": [
           {
            "marker": {
             "colorbar": {
              "outlinewidth": 0,
              "ticks": ""
             }
            },
            "type": "scattercarpet"
           }
          ],
          "scattergeo": [
           {
            "marker": {
             "colorbar": {
              "outlinewidth": 0,
              "ticks": ""
             }
            },
            "type": "scattergeo"
           }
          ],
          "scattergl": [
           {
            "marker": {
             "colorbar": {
              "outlinewidth": 0,
              "ticks": ""
             }
            },
            "type": "scattergl"
           }
          ],
          "scattermapbox": [
           {
            "marker": {
             "colorbar": {
              "outlinewidth": 0,
              "ticks": ""
             }
            },
            "type": "scattermapbox"
           }
          ],
          "scatterpolar": [
           {
            "marker": {
             "colorbar": {
              "outlinewidth": 0,
              "ticks": ""
             }
            },
            "type": "scatterpolar"
           }
          ],
          "scatterpolargl": [
           {
            "marker": {
             "colorbar": {
              "outlinewidth": 0,
              "ticks": ""
             }
            },
            "type": "scatterpolargl"
           }
          ],
          "scatterternary": [
           {
            "marker": {
             "colorbar": {
              "outlinewidth": 0,
              "ticks": ""
             }
            },
            "type": "scatterternary"
           }
          ],
          "surface": [
           {
            "colorbar": {
             "outlinewidth": 0,
             "ticks": ""
            },
            "colorscale": [
             [
              0,
              "#0d0887"
             ],
             [
              0.1111111111111111,
              "#46039f"
             ],
             [
              0.2222222222222222,
              "#7201a8"
             ],
             [
              0.3333333333333333,
              "#9c179e"
             ],
             [
              0.4444444444444444,
              "#bd3786"
             ],
             [
              0.5555555555555556,
              "#d8576b"
             ],
             [
              0.6666666666666666,
              "#ed7953"
             ],
             [
              0.7777777777777778,
              "#fb9f3a"
             ],
             [
              0.8888888888888888,
              "#fdca26"
             ],
             [
              1,
              "#f0f921"
             ]
            ],
            "type": "surface"
           }
          ],
          "table": [
           {
            "cells": {
             "fill": {
              "color": "#EBF0F8"
             },
             "line": {
              "color": "white"
             }
            },
            "header": {
             "fill": {
              "color": "#C8D4E3"
             },
             "line": {
              "color": "white"
             }
            },
            "type": "table"
           }
          ]
         },
         "layout": {
          "annotationdefaults": {
           "arrowcolor": "#2a3f5f",
           "arrowhead": 0,
           "arrowwidth": 1
          },
          "autotypenumbers": "strict",
          "coloraxis": {
           "colorbar": {
            "outlinewidth": 0,
            "ticks": ""
           }
          },
          "colorscale": {
           "diverging": [
            [
             0,
             "#8e0152"
            ],
            [
             0.1,
             "#c51b7d"
            ],
            [
             0.2,
             "#de77ae"
            ],
            [
             0.3,
             "#f1b6da"
            ],
            [
             0.4,
             "#fde0ef"
            ],
            [
             0.5,
             "#f7f7f7"
            ],
            [
             0.6,
             "#e6f5d0"
            ],
            [
             0.7,
             "#b8e186"
            ],
            [
             0.8,
             "#7fbc41"
            ],
            [
             0.9,
             "#4d9221"
            ],
            [
             1,
             "#276419"
            ]
           ],
           "sequential": [
            [
             0,
             "#0d0887"
            ],
            [
             0.1111111111111111,
             "#46039f"
            ],
            [
             0.2222222222222222,
             "#7201a8"
            ],
            [
             0.3333333333333333,
             "#9c179e"
            ],
            [
             0.4444444444444444,
             "#bd3786"
            ],
            [
             0.5555555555555556,
             "#d8576b"
            ],
            [
             0.6666666666666666,
             "#ed7953"
            ],
            [
             0.7777777777777778,
             "#fb9f3a"
            ],
            [
             0.8888888888888888,
             "#fdca26"
            ],
            [
             1,
             "#f0f921"
            ]
           ],
           "sequentialminus": [
            [
             0,
             "#0d0887"
            ],
            [
             0.1111111111111111,
             "#46039f"
            ],
            [
             0.2222222222222222,
             "#7201a8"
            ],
            [
             0.3333333333333333,
             "#9c179e"
            ],
            [
             0.4444444444444444,
             "#bd3786"
            ],
            [
             0.5555555555555556,
             "#d8576b"
            ],
            [
             0.6666666666666666,
             "#ed7953"
            ],
            [
             0.7777777777777778,
             "#fb9f3a"
            ],
            [
             0.8888888888888888,
             "#fdca26"
            ],
            [
             1,
             "#f0f921"
            ]
           ]
          },
          "colorway": [
           "#636efa",
           "#EF553B",
           "#00cc96",
           "#ab63fa",
           "#FFA15A",
           "#19d3f3",
           "#FF6692",
           "#B6E880",
           "#FF97FF",
           "#FECB52"
          ],
          "font": {
           "color": "#2a3f5f"
          },
          "geo": {
           "bgcolor": "white",
           "lakecolor": "white",
           "landcolor": "#E5ECF6",
           "showlakes": true,
           "showland": true,
           "subunitcolor": "white"
          },
          "hoverlabel": {
           "align": "left"
          },
          "hovermode": "closest",
          "mapbox": {
           "style": "light"
          },
          "paper_bgcolor": "white",
          "plot_bgcolor": "#E5ECF6",
          "polar": {
           "angularaxis": {
            "gridcolor": "white",
            "linecolor": "white",
            "ticks": ""
           },
           "bgcolor": "#E5ECF6",
           "radialaxis": {
            "gridcolor": "white",
            "linecolor": "white",
            "ticks": ""
           }
          },
          "scene": {
           "xaxis": {
            "backgroundcolor": "#E5ECF6",
            "gridcolor": "white",
            "gridwidth": 2,
            "linecolor": "white",
            "showbackground": true,
            "ticks": "",
            "zerolinecolor": "white"
           },
           "yaxis": {
            "backgroundcolor": "#E5ECF6",
            "gridcolor": "white",
            "gridwidth": 2,
            "linecolor": "white",
            "showbackground": true,
            "ticks": "",
            "zerolinecolor": "white"
           },
           "zaxis": {
            "backgroundcolor": "#E5ECF6",
            "gridcolor": "white",
            "gridwidth": 2,
            "linecolor": "white",
            "showbackground": true,
            "ticks": "",
            "zerolinecolor": "white"
           }
          },
          "shapedefaults": {
           "line": {
            "color": "#2a3f5f"
           }
          },
          "ternary": {
           "aaxis": {
            "gridcolor": "white",
            "linecolor": "white",
            "ticks": ""
           },
           "baxis": {
            "gridcolor": "white",
            "linecolor": "white",
            "ticks": ""
           },
           "bgcolor": "#E5ECF6",
           "caxis": {
            "gridcolor": "white",
            "linecolor": "white",
            "ticks": ""
           }
          },
          "title": {
           "x": 0.05
          },
          "xaxis": {
           "automargin": true,
           "gridcolor": "white",
           "linecolor": "white",
           "ticks": "",
           "title": {
            "standoff": 15
           },
           "zerolinecolor": "white",
           "zerolinewidth": 2
          },
          "yaxis": {
           "automargin": true,
           "gridcolor": "white",
           "linecolor": "white",
           "ticks": "",
           "title": {
            "standoff": 15
           },
           "zerolinecolor": "white",
           "zerolinewidth": 2
          }
         }
        },
        "width": 1000,
        "xaxis": {
         "anchor": "y",
         "domain": [
          0,
          0.3
         ]
        },
        "xaxis10": {
         "anchor": "y10",
         "domain": [
          0,
          0.3
         ]
        },
        "xaxis11": {
         "anchor": "y11",
         "domain": [
          0.35,
          0.6499999999999999
         ]
        },
        "xaxis12": {
         "anchor": "y12",
         "domain": [
          0.7,
          1
         ]
        },
        "xaxis13": {
         "anchor": "y13",
         "domain": [
          0,
          0.3
         ]
        },
        "xaxis14": {
         "anchor": "y14",
         "domain": [
          0.35,
          0.6499999999999999
         ]
        },
        "xaxis15": {
         "anchor": "y15",
         "domain": [
          0.7,
          1
         ]
        },
        "xaxis2": {
         "anchor": "y2",
         "domain": [
          0.35,
          0.6499999999999999
         ]
        },
        "xaxis3": {
         "anchor": "y3",
         "domain": [
          0.7,
          1
         ]
        },
        "xaxis4": {
         "anchor": "y4",
         "domain": [
          0,
          0.3
         ]
        },
        "xaxis5": {
         "anchor": "y5",
         "domain": [
          0.35,
          0.6499999999999999
         ]
        },
        "xaxis6": {
         "anchor": "y6",
         "domain": [
          0.7,
          1
         ]
        },
        "xaxis7": {
         "anchor": "y7",
         "domain": [
          0,
          0.3
         ]
        },
        "xaxis8": {
         "anchor": "y8",
         "domain": [
          0.35,
          0.6499999999999999
         ]
        },
        "xaxis9": {
         "anchor": "y9",
         "domain": [
          0.7,
          1
         ]
        },
        "yaxis": {
         "anchor": "x",
         "domain": [
          0.8400000000000001,
          1
         ]
        },
        "yaxis10": {
         "anchor": "x10",
         "domain": [
          0.21000000000000002,
          0.37
         ]
        },
        "yaxis11": {
         "anchor": "x11",
         "domain": [
          0.21000000000000002,
          0.37
         ]
        },
        "yaxis12": {
         "anchor": "x12",
         "domain": [
          0.21000000000000002,
          0.37
         ]
        },
        "yaxis13": {
         "anchor": "x13",
         "domain": [
          0,
          0.16
         ]
        },
        "yaxis14": {
         "anchor": "x14",
         "domain": [
          0,
          0.16
         ]
        },
        "yaxis15": {
         "anchor": "x15",
         "domain": [
          0,
          0.16
         ]
        },
        "yaxis2": {
         "anchor": "x2",
         "domain": [
          0.8400000000000001,
          1
         ]
        },
        "yaxis3": {
         "anchor": "x3",
         "domain": [
          0.8400000000000001,
          1
         ]
        },
        "yaxis4": {
         "anchor": "x4",
         "domain": [
          0.63,
          0.79
         ]
        },
        "yaxis5": {
         "anchor": "x5",
         "domain": [
          0.63,
          0.79
         ]
        },
        "yaxis6": {
         "anchor": "x6",
         "domain": [
          0.63,
          0.79
         ]
        },
        "yaxis7": {
         "anchor": "x7",
         "domain": [
          0.42000000000000004,
          0.5800000000000001
         ]
        },
        "yaxis8": {
         "anchor": "x8",
         "domain": [
          0.42000000000000004,
          0.5800000000000001
         ]
        },
        "yaxis9": {
         "anchor": "x9",
         "domain": [
          0.42000000000000004,
          0.5800000000000001
         ]
        }
       }
      }
     },
     "metadata": {},
     "output_type": "display_data"
    }
   ],
   "source": [
    "from plotly.subplots import make_subplots\n",
    "import plotly.graph_objects as go\n",
    "from math import cos, sin, radians\n",
    "\n",
    "# Assuming 'data' is our DataFrame\n",
    "data = df.copy()\n",
    "\n",
    "# dfs = []\n",
    "# for dset in order_of_datasets:\n",
    "#     x = data[data[\"dataset\"] == dset].copy()\n",
    "#     dfs.append(x)\n",
    "# data = pd.concat(dfs).reset_index(drop=True)\n",
    "\n",
    "# Define marker symbols for each model\n",
    "marker_symbols = {\n",
    "    \"KNN\": \"triangle-up-open\",\n",
    "    \"MLP\": \"square-open\",\n",
    "    # \"MLP-2L\": \"circle-open\",\n",
    "    \"RF\": \"circle-open\",\n",
    "    \"SVM\": \"diamond-open\",\n",
    "    \"Dict-Wisard\": \"star-open\",\n",
    "}\n",
    "\n",
    "# Define model names for legend\n",
    "model_names = {\n",
    "    \"KNN\": \"KNN\",\n",
    "    \"MLP\": \"MLP\",\n",
    "    # \"MLP-2L\": \"MLP-2L\",\n",
    "    \"RF\": \"Random Forest\",\n",
    "    \"SVM\": \"SVM\",\n",
    "    \"Dict-Wisard\": \"Wisard (Dict)\",\n",
    "}\n",
    "\n",
    "pareto_colors = {\n",
    "    True: px.colors.qualitative.Plotly[1],\n",
    "    False: px.colors.qualitative.Plotly[0],\n",
    "}\n",
    "\n",
    "rows = 5\n",
    "cols = 3\n",
    "datasets = data[\"dataset\"].unique().tolist()\n",
    "if \"Mean\" in datasets:\n",
    "    datasets.remove(\"Mean\")\n",
    "if \"Median\" in datasets:\n",
    "    datasets.remove(\"Median\")\n",
    "\n",
    "\n",
    "fig = make_subplots(\n",
    "    rows=rows,\n",
    "    cols=cols,\n",
    "    subplot_titles=datasets,\n",
    "    shared_xaxes=False,\n",
    "    shared_yaxes=False,\n",
    "    vertical_spacing=0.05,\n",
    "    horizontal_spacing=0.05,\n",
    ")\n",
    "\n",
    "positions = [\n",
    "    (\"top\", \"left\"),\n",
    "    (\"top\", \"right\"),\n",
    "    (\"top\", \"left\"),\n",
    "    (\"top\", \"right\"),\n",
    "    (\"top\", \"left\"),\n",
    "    (\"top\", \"right\"),\n",
    "]\n",
    "\n",
    "for i, dset in enumerate(datasets):\n",
    "    row = i // cols + 1\n",
    "    col = i % cols + 1\n",
    "\n",
    "    dset_df = data[data[\"dataset\"] == dset]\n",
    "\n",
    "    prev_positions = []\n",
    "\n",
    "    for j, (model, model_df) in enumerate(dset_df.groupby(\"model\")):\n",
    "        pareto = model_df[\"pareto\"].iloc[0]\n",
    "        color = pareto_colors[pareto]\n",
    "        symbol = marker_symbols[model]\n",
    "        size = (model_df[\"model_size\"] / 1024 ** 2).iloc[0]\n",
    "        size = f\"{size:.2f} MB\"\n",
    "        \n",
    "\n",
    "        if model == \"Dict-Wisard\" and pareto:\n",
    "            symbol = \"star\"\n",
    "\n",
    "        fig.add_trace(\n",
    "            go.Scatter(\n",
    "                x=model_df[\"model_size_relative\"],\n",
    "                y=model_df[\"metric\"],\n",
    "                mode=\"markers+text\",\n",
    "                marker=dict(symbol=symbol, size=10, color=color),\n",
    "                showlegend=False,\n",
    "                name=model_names[model],\n",
    "                text=size,\n",
    "                textfont=dict(family=\"Times New Roman\", size=10),\n",
    "                textposition=\"top center\",\n",
    "            ),\n",
    "            row=row,\n",
    "            col=col,\n",
    "        )\n",
    "\n",
    "        \n",
    "    pareto_points = dset_df[dset_df[\"pareto\"] == True].copy()\n",
    "    pareto_points.sort_values(by=\"model_size_relative\", inplace=True)\n",
    "    # pareto_points = pareto_points.reset_index(drop=True)\n",
    "    x = pareto_points[\"model_size_relative\"].to_list()\n",
    "    y = pareto_points[\"metric\"].to_list()\n",
    "\n",
    "    x.insert(0, min(dset_df[\"model_size_relative\"]))\n",
    "    y.insert(0, min(dset_df[\"metric\"]))\n",
    "\n",
    "    x.append(max(dset_df[\"model_size_relative\"]))\n",
    "    y.append(max(dset_df[\"metric\"]))\n",
    "\n",
    "\n",
    "    fig.add_trace(\n",
    "        go.Scatter(\n",
    "            x=x,\n",
    "            y=y,\n",
    "            mode=\"lines\",\n",
    "            line=dict(\n",
    "                color=px.colors.qualitative.Prism_r[0], width=0.75, dash=\"dot\"\n",
    "            ),\n",
    "            showlegend=False,\n",
    "        ),\n",
    "        row=row,\n",
    "        col=col,\n",
    "    )\n",
    "\n",
    "    # Add secondary x-axis\n",
    "    # fig.update_xaxes(secondary_x=True, row=row, col=col, title_text=\"Model Size\", tickvals=dset_df[\"model_size_relative\"], ticktext=dset_df[\"model_size\"])\n",
    "    \n",
    "\n",
    "# Manually map symbols to names in the legend\n",
    "legend_labels = {\n",
    "    symbol: model_names[model] for model, symbol in marker_symbols.items()\n",
    "}\n",
    "\n",
    "# Create a custom legend\n",
    "custom_legend = []\n",
    "for symbol, model_name in legend_labels.items():\n",
    "    custom_legend.append(\n",
    "        go.Scatter(\n",
    "            x=[None],\n",
    "            y=[None],\n",
    "            mode=\"markers\",\n",
    "            marker=dict(\n",
    "                symbol=symbol, size=12, color=px.colors.qualitative.Plotly[0]\n",
    "            ),\n",
    "            name=model_name,\n",
    "        )\n",
    "    )\n",
    "\n",
    "custom_legend.append(\n",
    "    go.Scatter(\n",
    "        x=[None],\n",
    "        y=[None],\n",
    "        mode=\"lines\",\n",
    "        line=dict(\n",
    "            color=px.colors.qualitative.Prism_r[0], width=0.5, dash=\"dot\"\n",
    "        ),\n",
    "        name=\"Pareto Frontier\",\n",
    "    )\n",
    ")\n",
    "\n",
    "for trace in custom_legend:\n",
    "    fig.add_trace(trace)\n",
    "\n",
    "fig.update_layout(\n",
    "    height=1200,\n",
    "    width=1000,\n",
    "    margin=dict(l=10, r=10, t=10, b=10),\n",
    "    font=dict(family=\"Times New Roman\", size=14),\n",
    "    legend=dict(\n",
    "        title=\"\",  # Set title to empty string to remove the legend title\n",
    "        orientation=\"h\",\n",
    "        yanchor=\"top\",\n",
    "        y=1.07,\n",
    "        xanchor=\"center\",\n",
    "        x=0.5,\n",
    "        traceorder=\"normal\",  # Set trace order to normal to arrange legend entries horizontally\n",
    "    ),\n",
    ")\n",
    "\n",
    "write_figure(\"model_metric_size.pdf\", fig)\n",
    "\n",
    "fig.show()\n"
   ]
  },
  {
   "cell_type": "markdown",
   "metadata": {},
   "source": [
    "## 3. Non-Dict Wisard"
   ]
  },
  {
   "cell_type": "code",
   "execution_count": 26,
   "metadata": {},
   "outputs": [
    {
     "data": {
      "text/html": [
       "<div>\n",
       "<style scoped>\n",
       "    .dataframe tbody tr th:only-of-type {\n",
       "        vertical-align: middle;\n",
       "    }\n",
       "\n",
       "    .dataframe tbody tr th {\n",
       "        vertical-align: top;\n",
       "    }\n",
       "\n",
       "    .dataframe thead th {\n",
       "        text-align: right;\n",
       "    }\n",
       "</style>\n",
       "<table border=\"1\" class=\"dataframe\">\n",
       "  <thead>\n",
       "    <tr style=\"text-align: right;\">\n",
       "      <th></th>\n",
       "      <th>dataset</th>\n",
       "      <th>config_name</th>\n",
       "      <th>val_accuracy_mean</th>\n",
       "      <th>val_accuracy_std</th>\n",
       "      <th>val_f1 weighted_mean</th>\n",
       "      <th>val_f1 weighted_std</th>\n",
       "      <th>val_model size_mean</th>\n",
       "      <th>val_model size_std</th>\n",
       "      <th>val_ties_mean</th>\n",
       "      <th>val_ties_std</th>\n",
       "      <th>...</th>\n",
       "      <th>ties</th>\n",
       "      <th>ties_std</th>\n",
       "      <th>tuple_size</th>\n",
       "      <th>encoder</th>\n",
       "      <th>resolution</th>\n",
       "      <th>bleach</th>\n",
       "      <th>rams per discriminator</th>\n",
       "      <th>ram</th>\n",
       "      <th>model</th>\n",
       "      <th>fold</th>\n",
       "    </tr>\n",
       "  </thead>\n",
       "  <tbody>\n",
       "    <tr>\n",
       "      <th>12567</th>\n",
       "      <td>iris</td>\n",
       "      <td>StreamThreshold (W: 28.0, D: 1.0, T: 960.0)</td>\n",
       "      <td>0.9583</td>\n",
       "      <td>0.0000</td>\n",
       "      <td>0.9582</td>\n",
       "      <td>0.0000</td>\n",
       "      <td>3072.0000</td>\n",
       "      <td>0.0000</td>\n",
       "      <td>1.0000</td>\n",
       "      <td>0.0000</td>\n",
       "      <td>...</td>\n",
       "      <td>3.0000</td>\n",
       "      <td>0.0000</td>\n",
       "      <td>5.0000</td>\n",
       "      <td>thermometer</td>\n",
       "      <td>10</td>\n",
       "      <td>7</td>\n",
       "      <td>8</td>\n",
       "      <td>StreamThreshold</td>\n",
       "      <td>Wisard</td>\n",
       "      <td>0</td>\n",
       "    </tr>\n",
       "    <tr>\n",
       "      <th>12769</th>\n",
       "      <td>rice</td>\n",
       "      <td>Dict</td>\n",
       "      <td>0.8929</td>\n",
       "      <td>0.0028</td>\n",
       "      <td>0.8933</td>\n",
       "      <td>0.0027</td>\n",
       "      <td>5974.3333</td>\n",
       "      <td>141.6765</td>\n",
       "      <td>86.3333</td>\n",
       "      <td>21.5149</td>\n",
       "      <td>...</td>\n",
       "      <td>133.3333</td>\n",
       "      <td>26.3860</td>\n",
       "      <td>14.0000</td>\n",
       "      <td>distributive-thermometer</td>\n",
       "      <td>28</td>\n",
       "      <td>40</td>\n",
       "      <td>14</td>\n",
       "      <td>Dict</td>\n",
       "      <td>Wisard</td>\n",
       "      <td>4</td>\n",
       "    </tr>\n",
       "  </tbody>\n",
       "</table>\n",
       "<p>2 rows × 26 columns</p>\n",
       "</div>"
      ],
      "text/plain": [
       "      dataset                                  config_name  val_accuracy_mean  \\\n",
       "12567    iris  StreamThreshold (W: 28.0, D: 1.0, T: 960.0)             0.9583   \n",
       "12769    rice                                         Dict             0.8929   \n",
       "\n",
       "       val_accuracy_std  val_f1 weighted_mean  val_f1 weighted_std  \\\n",
       "12567            0.0000                0.9582               0.0000   \n",
       "12769            0.0028                0.8933               0.0027   \n",
       "\n",
       "       val_model size_mean  val_model size_std  val_ties_mean  val_ties_std  \\\n",
       "12567            3072.0000              0.0000         1.0000        0.0000   \n",
       "12769            5974.3333            141.6765        86.3333       21.5149   \n",
       "\n",
       "       ...     ties  ties_std  tuple_size                   encoder  \\\n",
       "12567  ...   3.0000    0.0000      5.0000               thermometer   \n",
       "12769  ... 133.3333   26.3860     14.0000  distributive-thermometer   \n",
       "\n",
       "       resolution  bleach  rams per discriminator              ram   model  \\\n",
       "12567          10       7                       8  StreamThreshold  Wisard   \n",
       "12769          28      40                      14             Dict  Wisard   \n",
       "\n",
       "      fold  \n",
       "12567    0  \n",
       "12769    4  \n",
       "\n",
       "[2 rows x 26 columns]"
      ]
     },
     "execution_count": 26,
     "metadata": {},
     "output_type": "execute_result"
    }
   ],
   "source": [
    "def parse_wisard_config_name(row) -> str:\n",
    "    \"\"\"Given a row, parse the name of configuration.\n",
    "\n",
    "    Parameters\n",
    "    ----------\n",
    "    row : pd.Series\n",
    "        The row of the dataframe.\n",
    "\n",
    "    Returns\n",
    "    -------\n",
    "    str\n",
    "        The name of the configuration.\n",
    "    \"\"\"\n",
    "\n",
    "    names = []\n",
    "    if not pd.isna(row[\"num_hitters\"]):\n",
    "        names.append(f\"NR: {row['num_hitters']}\")\n",
    "    if not pd.isna(row[\"width\"]):\n",
    "        names.append(f\"W: {row['width']}\")\n",
    "    if not pd.isna(row[\"depth\"]):\n",
    "        names.append(f\"D: {row['depth']}\")\n",
    "    if not pd.isna(row[\"capacity\"]):\n",
    "        names.append(f\"C: {row['capacity']}\")\n",
    "    if not pd.isna(row[\"bucket_size\"]):\n",
    "        names.append(f\"BS: {row['bucket_size']}\")\n",
    "    if not pd.isna(row[\"threshold\"]):\n",
    "        names.append(f\"T: {row['threshold']}\")\n",
    "    if not pd.isna(row[\"est_elements\"]):\n",
    "        names.append(f\"EST: {row['est_elements']}\")\n",
    "    if not pd.isna(row[\"false_positive_rate\"]):\n",
    "        names.append(f\"FPR: {row['false_positive_rate']}\")\n",
    "\n",
    "    if names:\n",
    "        names = \", \".join(names)\n",
    "        return f\"{row['ram']} ({names})\"\n",
    "    else:\n",
    "        return row[\"ram\"]\n",
    "\n",
    "\n",
    "# --- Read results and add a column with the name of the configuration ---\n",
    "wisard_results = pd.read_csv(results_wisard_path).drop_duplicates()\n",
    "\n",
    "# --- Add useful columns ---\n",
    "wisard_results[\"tuple_size\"] = (\n",
    "    wisard_results[\"resolution\"] / wisard_results[\"tuple_resolution_factor\"]\n",
    ")\n",
    "wisard_results[\"config_name\"] = wisard_results.apply(\n",
    "    parse_wisard_config_name, axis=1\n",
    ")\n",
    "\n",
    "# --- Select the columns of interest ---\n",
    "wisard_results = wisard_results[\n",
    "    [\n",
    "        \"dataset_name\",\n",
    "        \"config_name\",\n",
    "        \"val_accuracy_mean\",\n",
    "        \"val_accuracy_std\",\n",
    "        \"val_f1 weighted_mean\",\n",
    "        \"val_f1 weighted_std\",\n",
    "        \"val_model size_mean\",\n",
    "        \"val_model size_std\",\n",
    "        \"val_ties_mean\",\n",
    "        \"val_ties_std\",\n",
    "        \"test_accuracy_mean\",\n",
    "        \"test_accuracy_std\",\n",
    "        \"test_f1 weighted_mean\",\n",
    "        \"test_f1 weighted_std\",\n",
    "        \"test_model size_mean\",\n",
    "        \"test_model size_std\",\n",
    "        \"test_ties_mean\",\n",
    "        \"test_ties_std\",\n",
    "        \"tuple_size\",\n",
    "        \"encoder\",\n",
    "        \"resolution\",\n",
    "        \"bleach\",\n",
    "        \"rams per discriminator\",\n",
    "        \"ram\",\n",
    "    ]\n",
    "]\n",
    "\n",
    "# --- Rename columns ---\n",
    "wisard_results = wisard_results.rename(\n",
    "    columns={\n",
    "        \"dataset_name\": \"dataset\",\n",
    "        \"test_ties_mean\": \"ties\",\n",
    "        \"test_ties_std\": \"ties_std\",\n",
    "        \"test_accuracy_mean\": \"accuracy\",\n",
    "        \"test_accuracy_std\": \"accuracy_std\",\n",
    "        \"test_f1 weighted_mean\": \"f1\",\n",
    "        \"test_f1 weighted_std\": \"f1_std\",\n",
    "        \"test_model size_mean\": \"model_size\",\n",
    "        \"test_model size_std\": \"model_size_std\",\n",
    "    }\n",
    ")\n",
    "\n",
    "# --- Add model column and drop duplicates ---\n",
    "wisard_results[\"model\"] = \"Wisard\"\n",
    "wisard_results.drop_duplicates(inplace=True)\n",
    "\n",
    "# Split dataset name from fold\n",
    "wisard_results[[\"dataset\", \"fold\"]] = wisard_results[\"dataset\"].str.split(\n",
    "    \"_fold_\", expand=True\n",
    ")\n",
    "wisard_results[\"fold\"] = wisard_results[\"fold\"].astype(int)\n",
    "wisard_results.sample(n=2)"
   ]
  },
  {
   "cell_type": "code",
   "execution_count": 27,
   "metadata": {},
   "outputs": [
    {
     "data": {
      "text/html": [
       "<div>\n",
       "<style scoped>\n",
       "    .dataframe tbody tr th:only-of-type {\n",
       "        vertical-align: middle;\n",
       "    }\n",
       "\n",
       "    .dataframe tbody tr th {\n",
       "        vertical-align: top;\n",
       "    }\n",
       "\n",
       "    .dataframe thead th {\n",
       "        text-align: right;\n",
       "    }\n",
       "</style>\n",
       "<table border=\"1\" class=\"dataframe\">\n",
       "  <thead>\n",
       "    <tr style=\"text-align: right;\">\n",
       "      <th></th>\n",
       "      <th>dataset</th>\n",
       "      <th>ram</th>\n",
       "      <th>accuracy</th>\n",
       "      <th>f1</th>\n",
       "      <th>model_size</th>\n",
       "      <th>accuracy_std</th>\n",
       "      <th>f1_std</th>\n",
       "      <th>model_size_std</th>\n",
       "      <th>metric</th>\n",
       "      <th>metric_std</th>\n",
       "      <th>performance_metric</th>\n",
       "    </tr>\n",
       "  </thead>\n",
       "  <tbody>\n",
       "    <tr>\n",
       "      <th>0</th>\n",
       "      <td>Breast Cancer</td>\n",
       "      <td>CountMinSketch</td>\n",
       "      <td>0.9367</td>\n",
       "      <td>0.9365</td>\n",
       "      <td>89990.4000</td>\n",
       "      <td>0.0237</td>\n",
       "      <td>0.0237</td>\n",
       "      <td>100764.3960</td>\n",
       "      <td>0.9365</td>\n",
       "      <td>0.0237</td>\n",
       "      <td>f1</td>\n",
       "    </tr>\n",
       "    <tr>\n",
       "      <th>1</th>\n",
       "      <td>Breast Cancer</td>\n",
       "      <td>CountingBloomFilter</td>\n",
       "      <td>0.9080</td>\n",
       "      <td>0.9081</td>\n",
       "      <td>563136.0000</td>\n",
       "      <td>0.0503</td>\n",
       "      <td>0.0492</td>\n",
       "      <td>512378.1803</td>\n",
       "      <td>0.9081</td>\n",
       "      <td>0.0492</td>\n",
       "      <td>f1</td>\n",
       "    </tr>\n",
       "    <tr>\n",
       "      <th>2</th>\n",
       "      <td>Breast Cancer</td>\n",
       "      <td>CountingCuckoo</td>\n",
       "      <td>0.9326</td>\n",
       "      <td>0.9324</td>\n",
       "      <td>283248.0000</td>\n",
       "      <td>0.0266</td>\n",
       "      <td>0.0264</td>\n",
       "      <td>427504.4219</td>\n",
       "      <td>0.9324</td>\n",
       "      <td>0.0264</td>\n",
       "      <td>f1</td>\n",
       "    </tr>\n",
       "    <tr>\n",
       "      <th>3</th>\n",
       "      <td>Breast Cancer</td>\n",
       "      <td>Dict</td>\n",
       "      <td>0.9279</td>\n",
       "      <td>0.9274</td>\n",
       "      <td>40581.0000</td>\n",
       "      <td>0.0159</td>\n",
       "      <td>0.0163</td>\n",
       "      <td>23921.9804</td>\n",
       "      <td>0.9274</td>\n",
       "      <td>0.0163</td>\n",
       "      <td>f1</td>\n",
       "    </tr>\n",
       "    <tr>\n",
       "      <th>4</th>\n",
       "      <td>Breast Cancer</td>\n",
       "      <td>HeavyHitters</td>\n",
       "      <td>0.9220</td>\n",
       "      <td>0.9219</td>\n",
       "      <td>187296.0000</td>\n",
       "      <td>0.0291</td>\n",
       "      <td>0.0293</td>\n",
       "      <td>178812.2895</td>\n",
       "      <td>0.9219</td>\n",
       "      <td>0.0293</td>\n",
       "      <td>f1</td>\n",
       "    </tr>\n",
       "    <tr>\n",
       "      <th>...</th>\n",
       "      <td>...</td>\n",
       "      <td>...</td>\n",
       "      <td>...</td>\n",
       "      <td>...</td>\n",
       "      <td>...</td>\n",
       "      <td>...</td>\n",
       "      <td>...</td>\n",
       "      <td>...</td>\n",
       "      <td>...</td>\n",
       "      <td>...</td>\n",
       "      <td>...</td>\n",
       "    </tr>\n",
       "    <tr>\n",
       "      <th>85</th>\n",
       "      <td>Yeast</td>\n",
       "      <td>CountingBloomFilter</td>\n",
       "      <td>0.5411</td>\n",
       "      <td>0.5272</td>\n",
       "      <td>459648.0000</td>\n",
       "      <td>0.0199</td>\n",
       "      <td>0.0226</td>\n",
       "      <td>351968.9877</td>\n",
       "      <td>0.5272</td>\n",
       "      <td>0.0226</td>\n",
       "      <td>f1</td>\n",
       "    </tr>\n",
       "    <tr>\n",
       "      <th>86</th>\n",
       "      <td>Yeast</td>\n",
       "      <td>CountingCuckoo</td>\n",
       "      <td>0.5384</td>\n",
       "      <td>0.5209</td>\n",
       "      <td>1498949.3333</td>\n",
       "      <td>0.0277</td>\n",
       "      <td>0.0294</td>\n",
       "      <td>2383408.3700</td>\n",
       "      <td>0.5209</td>\n",
       "      <td>0.0294</td>\n",
       "      <td>f1</td>\n",
       "    </tr>\n",
       "    <tr>\n",
       "      <th>87</th>\n",
       "      <td>Yeast</td>\n",
       "      <td>Dict</td>\n",
       "      <td>0.5091</td>\n",
       "      <td>0.4874</td>\n",
       "      <td>432361.8000</td>\n",
       "      <td>0.0605</td>\n",
       "      <td>0.0695</td>\n",
       "      <td>185991.4349</td>\n",
       "      <td>0.4874</td>\n",
       "      <td>0.0695</td>\n",
       "      <td>f1</td>\n",
       "    </tr>\n",
       "    <tr>\n",
       "      <th>88</th>\n",
       "      <td>Yeast</td>\n",
       "      <td>HeavyHitters</td>\n",
       "      <td>0.5458</td>\n",
       "      <td>0.5307</td>\n",
       "      <td>370432.0000</td>\n",
       "      <td>0.0193</td>\n",
       "      <td>0.0179</td>\n",
       "      <td>180401.9122</td>\n",
       "      <td>0.5307</td>\n",
       "      <td>0.0179</td>\n",
       "      <td>f1</td>\n",
       "    </tr>\n",
       "    <tr>\n",
       "      <th>89</th>\n",
       "      <td>Yeast</td>\n",
       "      <td>StreamThreshold</td>\n",
       "      <td>0.5137</td>\n",
       "      <td>0.4988</td>\n",
       "      <td>298496.0000</td>\n",
       "      <td>0.0769</td>\n",
       "      <td>0.0759</td>\n",
       "      <td>272300.4834</td>\n",
       "      <td>0.4988</td>\n",
       "      <td>0.0759</td>\n",
       "      <td>f1</td>\n",
       "    </tr>\n",
       "  </tbody>\n",
       "</table>\n",
       "<p>90 rows × 11 columns</p>\n",
       "</div>"
      ],
      "text/plain": [
       "          dataset                  ram  accuracy     f1   model_size  \\\n",
       "0   Breast Cancer       CountMinSketch    0.9367 0.9365   89990.4000   \n",
       "1   Breast Cancer  CountingBloomFilter    0.9080 0.9081  563136.0000   \n",
       "2   Breast Cancer       CountingCuckoo    0.9326 0.9324  283248.0000   \n",
       "3   Breast Cancer                 Dict    0.9279 0.9274   40581.0000   \n",
       "4   Breast Cancer         HeavyHitters    0.9220 0.9219  187296.0000   \n",
       "..            ...                  ...       ...    ...          ...   \n",
       "85          Yeast  CountingBloomFilter    0.5411 0.5272  459648.0000   \n",
       "86          Yeast       CountingCuckoo    0.5384 0.5209 1498949.3333   \n",
       "87          Yeast                 Dict    0.5091 0.4874  432361.8000   \n",
       "88          Yeast         HeavyHitters    0.5458 0.5307  370432.0000   \n",
       "89          Yeast      StreamThreshold    0.5137 0.4988  298496.0000   \n",
       "\n",
       "    accuracy_std  f1_std  model_size_std  metric  metric_std  \\\n",
       "0         0.0237  0.0237     100764.3960  0.9365      0.0237   \n",
       "1         0.0503  0.0492     512378.1803  0.9081      0.0492   \n",
       "2         0.0266  0.0264     427504.4219  0.9324      0.0264   \n",
       "3         0.0159  0.0163      23921.9804  0.9274      0.0163   \n",
       "4         0.0291  0.0293     178812.2895  0.9219      0.0293   \n",
       "..           ...     ...             ...     ...         ...   \n",
       "85        0.0199  0.0226     351968.9877  0.5272      0.0226   \n",
       "86        0.0277  0.0294    2383408.3700  0.5209      0.0294   \n",
       "87        0.0605  0.0695     185991.4349  0.4874      0.0695   \n",
       "88        0.0193  0.0179     180401.9122  0.5307      0.0179   \n",
       "89        0.0769  0.0759     272300.4834  0.4988      0.0759   \n",
       "\n",
       "   performance_metric  \n",
       "0                  f1  \n",
       "1                  f1  \n",
       "2                  f1  \n",
       "3                  f1  \n",
       "4                  f1  \n",
       "..                ...  \n",
       "85                 f1  \n",
       "86                 f1  \n",
       "87                 f1  \n",
       "88                 f1  \n",
       "89                 f1  \n",
       "\n",
       "[90 rows x 11 columns]"
      ]
     },
     "execution_count": 27,
     "metadata": {},
     "output_type": "execute_result"
    }
   ],
   "source": [
    "# Select best based on val_loss\n",
    "lines = []\n",
    "for (dataset, fold, ram), dataset_df in wisard_results.groupby([ \"dataset\", \"fold\", \"ram\"]):\n",
    "    metric_name = datasets_info.loc[datasets_info[\"dataset_name\"] == dataset, \"metric\"].iloc[0]\n",
    "    line = dataset_df.sort_values(by=f\"val_{metric_name}_mean\", ascending=False).iloc[0]\n",
    "    lines.append(line)\n",
    "\n",
    "wisard_results = pd.DataFrame(lines)\n",
    "\n",
    "# Aggregate fold results\n",
    "wisard_results = aggregate_mean_std(\n",
    "    wisard_results, \n",
    "    group_by=[\"dataset\", \"ram\"],\n",
    "    keys_to_aggregate=[\"accuracy\", \"f1\", \"model_size\"]\n",
    ")\n",
    "\n",
    "dfs = []\n",
    "\n",
    "# Add metric row\n",
    "for _, row in datasets_info.iterrows():\n",
    "    df = wisard_results[wisard_results[\"dataset\"] == row[\"dataset_name\"]].copy()\n",
    "    if row[\"metric\"] == \"f1 weighted\":\n",
    "        metric = \"f1\"\n",
    "        metric_std = \"f1_std\"\n",
    "    else:\n",
    "        metric = \"accuracy\"\n",
    "        metric_std = \"accuracy_std\"\n",
    "    \n",
    "    df[\"metric\"] = df[metric]\n",
    "    df[\"metric_std\"] = df[metric_std]\n",
    "    df[\"performance_metric\"] = metric\n",
    "    dfs.append(df.reset_index(drop=True))\n",
    "\n",
    "wisard_results = pd.concat(dfs).reset_index(drop=True)\n",
    "\n",
    "# Put dataset name in Camel case\n",
    "wisard_results.dataset = wisard_results.dataset.str.replace(\"_\", \" \")\n",
    "wisard_results.dataset = wisard_results.dataset.str.title()\n",
    "wisard_results"
   ]
  },
  {
   "cell_type": "code",
   "execution_count": 28,
   "metadata": {},
   "outputs": [
    {
     "name": "stdout",
     "output_type": "stream",
     "text": [
      "Results saved to results_relative_bloom.csv\n"
     ]
    },
    {
     "data": {
      "text/html": [
       "<div>\n",
       "<style scoped>\n",
       "    .dataframe tbody tr th:only-of-type {\n",
       "        vertical-align: middle;\n",
       "    }\n",
       "\n",
       "    .dataframe tbody tr th {\n",
       "        vertical-align: top;\n",
       "    }\n",
       "\n",
       "    .dataframe thead th {\n",
       "        text-align: right;\n",
       "    }\n",
       "</style>\n",
       "<table border=\"1\" class=\"dataframe\">\n",
       "  <thead>\n",
       "    <tr style=\"text-align: right;\">\n",
       "      <th></th>\n",
       "      <th>dataset</th>\n",
       "      <th>ram</th>\n",
       "      <th>accuracy</th>\n",
       "      <th>f1</th>\n",
       "      <th>model_size</th>\n",
       "      <th>accuracy_std</th>\n",
       "      <th>f1_std</th>\n",
       "      <th>model_size_std</th>\n",
       "      <th>metric</th>\n",
       "      <th>metric_std</th>\n",
       "      <th>performance_metric</th>\n",
       "      <th>accuracy_relative</th>\n",
       "      <th>f1_relative</th>\n",
       "      <th>model_size_relative</th>\n",
       "      <th>metric_relative</th>\n",
       "      <th>model</th>\n",
       "    </tr>\n",
       "  </thead>\n",
       "  <tbody>\n",
       "    <tr>\n",
       "      <th>0</th>\n",
       "      <td>Breast Cancer</td>\n",
       "      <td>CountMinSketch</td>\n",
       "      <td>0.9367</td>\n",
       "      <td>0.9365</td>\n",
       "      <td>89990.4000</td>\n",
       "      <td>0.0237</td>\n",
       "      <td>0.0237</td>\n",
       "      <td>100764.3960</td>\n",
       "      <td>0.9365</td>\n",
       "      <td>0.0237</td>\n",
       "      <td>f1</td>\n",
       "      <td>1.0094</td>\n",
       "      <td>1.0097</td>\n",
       "      <td>2.2176</td>\n",
       "      <td>1.0097</td>\n",
       "      <td>CountMinSketch</td>\n",
       "    </tr>\n",
       "    <tr>\n",
       "      <th>1</th>\n",
       "      <td>Breast Cancer</td>\n",
       "      <td>CountingBloomFilter</td>\n",
       "      <td>0.9080</td>\n",
       "      <td>0.9081</td>\n",
       "      <td>563136.0000</td>\n",
       "      <td>0.0503</td>\n",
       "      <td>0.0492</td>\n",
       "      <td>512378.1803</td>\n",
       "      <td>0.9081</td>\n",
       "      <td>0.0492</td>\n",
       "      <td>f1</td>\n",
       "      <td>0.9786</td>\n",
       "      <td>0.9792</td>\n",
       "      <td>13.8768</td>\n",
       "      <td>0.9792</td>\n",
       "      <td>CountingBloomFilter</td>\n",
       "    </tr>\n",
       "    <tr>\n",
       "      <th>2</th>\n",
       "      <td>Breast Cancer</td>\n",
       "      <td>CountingCuckoo</td>\n",
       "      <td>0.9326</td>\n",
       "      <td>0.9324</td>\n",
       "      <td>283248.0000</td>\n",
       "      <td>0.0266</td>\n",
       "      <td>0.0264</td>\n",
       "      <td>427504.4219</td>\n",
       "      <td>0.9324</td>\n",
       "      <td>0.0264</td>\n",
       "      <td>f1</td>\n",
       "      <td>1.0050</td>\n",
       "      <td>1.0054</td>\n",
       "      <td>6.9798</td>\n",
       "      <td>1.0054</td>\n",
       "      <td>CountingCuckoo</td>\n",
       "    </tr>\n",
       "    <tr>\n",
       "      <th>3</th>\n",
       "      <td>Breast Cancer</td>\n",
       "      <td>Dict</td>\n",
       "      <td>0.9279</td>\n",
       "      <td>0.9274</td>\n",
       "      <td>40581.0000</td>\n",
       "      <td>0.0159</td>\n",
       "      <td>0.0163</td>\n",
       "      <td>23921.9804</td>\n",
       "      <td>0.9274</td>\n",
       "      <td>0.0163</td>\n",
       "      <td>f1</td>\n",
       "      <td>1.0000</td>\n",
       "      <td>1.0000</td>\n",
       "      <td>1.0000</td>\n",
       "      <td>1.0000</td>\n",
       "      <td>Dict</td>\n",
       "    </tr>\n",
       "    <tr>\n",
       "      <th>4</th>\n",
       "      <td>Breast Cancer</td>\n",
       "      <td>HeavyHitters</td>\n",
       "      <td>0.9220</td>\n",
       "      <td>0.9219</td>\n",
       "      <td>187296.0000</td>\n",
       "      <td>0.0291</td>\n",
       "      <td>0.0293</td>\n",
       "      <td>178812.2895</td>\n",
       "      <td>0.9219</td>\n",
       "      <td>0.0293</td>\n",
       "      <td>f1</td>\n",
       "      <td>0.9936</td>\n",
       "      <td>0.9941</td>\n",
       "      <td>4.6154</td>\n",
       "      <td>0.9941</td>\n",
       "      <td>HeavyHitters</td>\n",
       "    </tr>\n",
       "    <tr>\n",
       "      <th>...</th>\n",
       "      <td>...</td>\n",
       "      <td>...</td>\n",
       "      <td>...</td>\n",
       "      <td>...</td>\n",
       "      <td>...</td>\n",
       "      <td>...</td>\n",
       "      <td>...</td>\n",
       "      <td>...</td>\n",
       "      <td>...</td>\n",
       "      <td>...</td>\n",
       "      <td>...</td>\n",
       "      <td>...</td>\n",
       "      <td>...</td>\n",
       "      <td>...</td>\n",
       "      <td>...</td>\n",
       "      <td>...</td>\n",
       "    </tr>\n",
       "    <tr>\n",
       "      <th>85</th>\n",
       "      <td>Yeast</td>\n",
       "      <td>CountingBloomFilter</td>\n",
       "      <td>0.5411</td>\n",
       "      <td>0.5272</td>\n",
       "      <td>459648.0000</td>\n",
       "      <td>0.0199</td>\n",
       "      <td>0.0226</td>\n",
       "      <td>351968.9877</td>\n",
       "      <td>0.5272</td>\n",
       "      <td>0.0226</td>\n",
       "      <td>f1</td>\n",
       "      <td>1.0628</td>\n",
       "      <td>1.0816</td>\n",
       "      <td>1.0631</td>\n",
       "      <td>1.0816</td>\n",
       "      <td>CountingBloomFilter</td>\n",
       "    </tr>\n",
       "    <tr>\n",
       "      <th>86</th>\n",
       "      <td>Yeast</td>\n",
       "      <td>CountingCuckoo</td>\n",
       "      <td>0.5384</td>\n",
       "      <td>0.5209</td>\n",
       "      <td>1498949.3333</td>\n",
       "      <td>0.0277</td>\n",
       "      <td>0.0294</td>\n",
       "      <td>2383408.3700</td>\n",
       "      <td>0.5209</td>\n",
       "      <td>0.0294</td>\n",
       "      <td>f1</td>\n",
       "      <td>1.0575</td>\n",
       "      <td>1.0687</td>\n",
       "      <td>3.4669</td>\n",
       "      <td>1.0687</td>\n",
       "      <td>CountingCuckoo</td>\n",
       "    </tr>\n",
       "    <tr>\n",
       "      <th>87</th>\n",
       "      <td>Yeast</td>\n",
       "      <td>Dict</td>\n",
       "      <td>0.5091</td>\n",
       "      <td>0.4874</td>\n",
       "      <td>432361.8000</td>\n",
       "      <td>0.0605</td>\n",
       "      <td>0.0695</td>\n",
       "      <td>185991.4349</td>\n",
       "      <td>0.4874</td>\n",
       "      <td>0.0695</td>\n",
       "      <td>f1</td>\n",
       "      <td>1.0000</td>\n",
       "      <td>1.0000</td>\n",
       "      <td>1.0000</td>\n",
       "      <td>1.0000</td>\n",
       "      <td>Dict</td>\n",
       "    </tr>\n",
       "    <tr>\n",
       "      <th>88</th>\n",
       "      <td>Yeast</td>\n",
       "      <td>HeavyHitters</td>\n",
       "      <td>0.5458</td>\n",
       "      <td>0.5307</td>\n",
       "      <td>370432.0000</td>\n",
       "      <td>0.0193</td>\n",
       "      <td>0.0179</td>\n",
       "      <td>180401.9122</td>\n",
       "      <td>0.5307</td>\n",
       "      <td>0.0179</td>\n",
       "      <td>f1</td>\n",
       "      <td>1.0720</td>\n",
       "      <td>1.0888</td>\n",
       "      <td>0.8568</td>\n",
       "      <td>1.0888</td>\n",
       "      <td>HeavyHitters</td>\n",
       "    </tr>\n",
       "    <tr>\n",
       "      <th>89</th>\n",
       "      <td>Yeast</td>\n",
       "      <td>StreamThreshold</td>\n",
       "      <td>0.5137</td>\n",
       "      <td>0.4988</td>\n",
       "      <td>298496.0000</td>\n",
       "      <td>0.0769</td>\n",
       "      <td>0.0759</td>\n",
       "      <td>272300.4834</td>\n",
       "      <td>0.4988</td>\n",
       "      <td>0.0759</td>\n",
       "      <td>f1</td>\n",
       "      <td>1.0090</td>\n",
       "      <td>1.0232</td>\n",
       "      <td>0.6904</td>\n",
       "      <td>1.0232</td>\n",
       "      <td>StreamThreshold</td>\n",
       "    </tr>\n",
       "  </tbody>\n",
       "</table>\n",
       "<p>90 rows × 16 columns</p>\n",
       "</div>"
      ],
      "text/plain": [
       "          dataset                  ram  accuracy     f1   model_size  \\\n",
       "0   Breast Cancer       CountMinSketch    0.9367 0.9365   89990.4000   \n",
       "1   Breast Cancer  CountingBloomFilter    0.9080 0.9081  563136.0000   \n",
       "2   Breast Cancer       CountingCuckoo    0.9326 0.9324  283248.0000   \n",
       "3   Breast Cancer                 Dict    0.9279 0.9274   40581.0000   \n",
       "4   Breast Cancer         HeavyHitters    0.9220 0.9219  187296.0000   \n",
       "..            ...                  ...       ...    ...          ...   \n",
       "85          Yeast  CountingBloomFilter    0.5411 0.5272  459648.0000   \n",
       "86          Yeast       CountingCuckoo    0.5384 0.5209 1498949.3333   \n",
       "87          Yeast                 Dict    0.5091 0.4874  432361.8000   \n",
       "88          Yeast         HeavyHitters    0.5458 0.5307  370432.0000   \n",
       "89          Yeast      StreamThreshold    0.5137 0.4988  298496.0000   \n",
       "\n",
       "    accuracy_std  f1_std  model_size_std  metric  metric_std  \\\n",
       "0         0.0237  0.0237     100764.3960  0.9365      0.0237   \n",
       "1         0.0503  0.0492     512378.1803  0.9081      0.0492   \n",
       "2         0.0266  0.0264     427504.4219  0.9324      0.0264   \n",
       "3         0.0159  0.0163      23921.9804  0.9274      0.0163   \n",
       "4         0.0291  0.0293     178812.2895  0.9219      0.0293   \n",
       "..           ...     ...             ...     ...         ...   \n",
       "85        0.0199  0.0226     351968.9877  0.5272      0.0226   \n",
       "86        0.0277  0.0294    2383408.3700  0.5209      0.0294   \n",
       "87        0.0605  0.0695     185991.4349  0.4874      0.0695   \n",
       "88        0.0193  0.0179     180401.9122  0.5307      0.0179   \n",
       "89        0.0769  0.0759     272300.4834  0.4988      0.0759   \n",
       "\n",
       "   performance_metric  accuracy_relative  f1_relative  model_size_relative  \\\n",
       "0                  f1             1.0094       1.0097               2.2176   \n",
       "1                  f1             0.9786       0.9792              13.8768   \n",
       "2                  f1             1.0050       1.0054               6.9798   \n",
       "3                  f1             1.0000       1.0000               1.0000   \n",
       "4                  f1             0.9936       0.9941               4.6154   \n",
       "..                ...                ...          ...                  ...   \n",
       "85                 f1             1.0628       1.0816               1.0631   \n",
       "86                 f1             1.0575       1.0687               3.4669   \n",
       "87                 f1             1.0000       1.0000               1.0000   \n",
       "88                 f1             1.0720       1.0888               0.8568   \n",
       "89                 f1             1.0090       1.0232               0.6904   \n",
       "\n",
       "    metric_relative                model  \n",
       "0            1.0097       CountMinSketch  \n",
       "1            0.9792  CountingBloomFilter  \n",
       "2            1.0054       CountingCuckoo  \n",
       "3            1.0000                 Dict  \n",
       "4            0.9941         HeavyHitters  \n",
       "..              ...                  ...  \n",
       "85           1.0816  CountingBloomFilter  \n",
       "86           1.0687       CountingCuckoo  \n",
       "87           1.0000                 Dict  \n",
       "88           1.0888         HeavyHitters  \n",
       "89           1.0232      StreamThreshold  \n",
       "\n",
       "[90 rows x 16 columns]"
      ]
     },
     "execution_count": 28,
     "metadata": {},
     "output_type": "execute_result"
    }
   ],
   "source": [
    "relative_results_df = wisard_results.copy()\n",
    "\n",
    "\n",
    "for dset, df in relative_results_df.groupby(\"dataset\"):\n",
    "    highest_metric = df.loc[df[\"ram\"]== \"Dict\", \"metric\"].idxmax()\n",
    "    \n",
    "    for metric in [\"accuracy\", \"f1\", \"model_size\", \"metric\"]:\n",
    "        relative_results_df.loc[df.index, f\"{metric}_relative\"] = df[metric] / df.loc[highest_metric, metric]\n",
    "        \n",
    "relative_results_df[\"model\"] = wisard_results[\"ram\"]\n",
    "relative_results_df.to_csv(\"results_relative_bloom.csv\", index=False)\n",
    "print(\"Results saved to results_relative_bloom.csv\")\n",
    "\n",
    "relative_results_df"
   ]
  },
  {
   "cell_type": "code",
   "execution_count": 29,
   "metadata": {},
   "outputs": [
    {
     "name": "stdout",
     "output_type": "stream",
     "text": [
      "Table written to: tables/performance_table_bloom.tex\n"
     ]
    },
    {
     "name": "stderr",
     "output_type": "stream",
     "text": [
      "/tmp/ipykernel_2961821/45709815.py:2: FutureWarning:\n",
      "\n",
      "In future versions `DataFrame.to_latex` is expected to utilise the base implementation of `Styler.to_latex` for formatting and rendering. The arguments signature may therefore change. It is recommended instead to use `DataFrame.style.to_latex` which also contains additional functionality.\n",
      "\n"
     ]
    },
    {
     "data": {
      "text/html": [
       "<div>\n",
       "<style scoped>\n",
       "    .dataframe tbody tr th:only-of-type {\n",
       "        vertical-align: middle;\n",
       "    }\n",
       "\n",
       "    .dataframe tbody tr th {\n",
       "        vertical-align: top;\n",
       "    }\n",
       "\n",
       "    .dataframe thead tr th {\n",
       "        text-align: left;\n",
       "    }\n",
       "\n",
       "    .dataframe thead tr:last-of-type th {\n",
       "        text-align: right;\n",
       "    }\n",
       "</style>\n",
       "<table border=\"1\" class=\"dataframe\">\n",
       "  <thead>\n",
       "    <tr>\n",
       "      <th></th>\n",
       "      <th colspan=\"6\" halign=\"left\">Absolute</th>\n",
       "      <th colspan=\"6\" halign=\"left\">Relative</th>\n",
       "    </tr>\n",
       "    <tr>\n",
       "      <th></th>\n",
       "      <th>CountMinSketch</th>\n",
       "      <th>CountingBloomFilter</th>\n",
       "      <th>CountingCuckoo</th>\n",
       "      <th>Dict</th>\n",
       "      <th>HeavyHitters</th>\n",
       "      <th>StreamThreshold</th>\n",
       "      <th>CountMinSketch</th>\n",
       "      <th>CountingBloomFilter</th>\n",
       "      <th>CountingCuckoo</th>\n",
       "      <th>Dict</th>\n",
       "      <th>HeavyHitters</th>\n",
       "      <th>StreamThreshold</th>\n",
       "    </tr>\n",
       "    <tr>\n",
       "      <th>dataset</th>\n",
       "      <th></th>\n",
       "      <th></th>\n",
       "      <th></th>\n",
       "      <th></th>\n",
       "      <th></th>\n",
       "      <th></th>\n",
       "      <th></th>\n",
       "      <th></th>\n",
       "      <th></th>\n",
       "      <th></th>\n",
       "      <th></th>\n",
       "      <th></th>\n",
       "    </tr>\n",
       "  </thead>\n",
       "  <tbody>\n",
       "    <tr>\n",
       "      <th>Breast Cancer</th>\n",
       "      <td>0.9365</td>\n",
       "      <td>0.9081</td>\n",
       "      <td>0.9324</td>\n",
       "      <td>0.9274</td>\n",
       "      <td>0.9219</td>\n",
       "      <td>0.9120</td>\n",
       "      <td>1.0097</td>\n",
       "      <td>0.9792</td>\n",
       "      <td>1.0054</td>\n",
       "      <td>1.0000</td>\n",
       "      <td>0.9941</td>\n",
       "      <td>0.9834</td>\n",
       "    </tr>\n",
       "    <tr>\n",
       "      <th>Dry Bean</th>\n",
       "      <td>0.8247</td>\n",
       "      <td>0.8864</td>\n",
       "      <td>0.7951</td>\n",
       "      <td>0.9012</td>\n",
       "      <td>0.7612</td>\n",
       "      <td>0.8206</td>\n",
       "      <td>0.9151</td>\n",
       "      <td>0.9835</td>\n",
       "      <td>0.8822</td>\n",
       "      <td>1.0000</td>\n",
       "      <td>0.8446</td>\n",
       "      <td>0.9105</td>\n",
       "    </tr>\n",
       "    <tr>\n",
       "      <th>Glass</th>\n",
       "      <td>0.5951</td>\n",
       "      <td>0.5823</td>\n",
       "      <td>0.5786</td>\n",
       "      <td>0.5661</td>\n",
       "      <td>0.5755</td>\n",
       "      <td>0.5602</td>\n",
       "      <td>1.0512</td>\n",
       "      <td>1.0286</td>\n",
       "      <td>1.0220</td>\n",
       "      <td>1.0000</td>\n",
       "      <td>1.0165</td>\n",
       "      <td>0.9895</td>\n",
       "    </tr>\n",
       "    <tr>\n",
       "      <th>Image Segmentation</th>\n",
       "      <td>0.7635</td>\n",
       "      <td>0.8476</td>\n",
       "      <td>0.8222</td>\n",
       "      <td>0.6540</td>\n",
       "      <td>0.8143</td>\n",
       "      <td>0.7063</td>\n",
       "      <td>1.1675</td>\n",
       "      <td>1.2961</td>\n",
       "      <td>1.2573</td>\n",
       "      <td>1.0000</td>\n",
       "      <td>1.2451</td>\n",
       "      <td>1.0801</td>\n",
       "    </tr>\n",
       "    <tr>\n",
       "      <th>Iris</th>\n",
       "      <td>0.9089</td>\n",
       "      <td>0.9533</td>\n",
       "      <td>0.9311</td>\n",
       "      <td>0.9600</td>\n",
       "      <td>0.9467</td>\n",
       "      <td>0.9378</td>\n",
       "      <td>0.9468</td>\n",
       "      <td>0.9931</td>\n",
       "      <td>0.9699</td>\n",
       "      <td>1.0000</td>\n",
       "      <td>0.9861</td>\n",
       "      <td>0.9769</td>\n",
       "    </tr>\n",
       "    <tr>\n",
       "      <th>Letter</th>\n",
       "      <td>0.8782</td>\n",
       "      <td>0.8891</td>\n",
       "      <td>0.8767</td>\n",
       "      <td>0.8739</td>\n",
       "      <td>0.8608</td>\n",
       "      <td>0.8658</td>\n",
       "      <td>1.0049</td>\n",
       "      <td>1.0175</td>\n",
       "      <td>1.0032</td>\n",
       "      <td>1.0000</td>\n",
       "      <td>0.9850</td>\n",
       "      <td>0.9907</td>\n",
       "    </tr>\n",
       "    <tr>\n",
       "      <th>Motion Sense</th>\n",
       "      <td>0.5654</td>\n",
       "      <td>0.6783</td>\n",
       "      <td>0.6845</td>\n",
       "      <td>0.7314</td>\n",
       "      <td>0.6882</td>\n",
       "      <td>0.6040</td>\n",
       "      <td>0.7730</td>\n",
       "      <td>0.9275</td>\n",
       "      <td>0.9359</td>\n",
       "      <td>1.0000</td>\n",
       "      <td>0.9410</td>\n",
       "      <td>0.8258</td>\n",
       "    </tr>\n",
       "    <tr>\n",
       "      <th>Optical Handwritten</th>\n",
       "      <td>0.9715</td>\n",
       "      <td>0.9731</td>\n",
       "      <td>0.9741</td>\n",
       "      <td>0.9714</td>\n",
       "      <td>0.9649</td>\n",
       "      <td>0.9623</td>\n",
       "      <td>1.0001</td>\n",
       "      <td>1.0018</td>\n",
       "      <td>1.0027</td>\n",
       "      <td>1.0000</td>\n",
       "      <td>0.9933</td>\n",
       "      <td>0.9906</td>\n",
       "    </tr>\n",
       "    <tr>\n",
       "      <th>Rice</th>\n",
       "      <td>0.8968</td>\n",
       "      <td>0.9082</td>\n",
       "      <td>0.9139</td>\n",
       "      <td>0.9051</td>\n",
       "      <td>0.9044</td>\n",
       "      <td>0.9127</td>\n",
       "      <td>0.9908</td>\n",
       "      <td>1.0034</td>\n",
       "      <td>1.0098</td>\n",
       "      <td>1.0000</td>\n",
       "      <td>0.9992</td>\n",
       "      <td>1.0084</td>\n",
       "    </tr>\n",
       "    <tr>\n",
       "      <th>Satimage</th>\n",
       "      <td>0.8764</td>\n",
       "      <td>0.8765</td>\n",
       "      <td>0.8802</td>\n",
       "      <td>0.8847</td>\n",
       "      <td>0.8796</td>\n",
       "      <td>0.8653</td>\n",
       "      <td>0.9906</td>\n",
       "      <td>0.9907</td>\n",
       "      <td>0.9949</td>\n",
       "      <td>1.0000</td>\n",
       "      <td>0.9943</td>\n",
       "      <td>0.9781</td>\n",
       "    </tr>\n",
       "    <tr>\n",
       "      <th>Segment</th>\n",
       "      <td>0.8820</td>\n",
       "      <td>0.8677</td>\n",
       "      <td>0.8759</td>\n",
       "      <td>0.8698</td>\n",
       "      <td>0.8913</td>\n",
       "      <td>0.8719</td>\n",
       "      <td>1.0139</td>\n",
       "      <td>0.9976</td>\n",
       "      <td>1.0070</td>\n",
       "      <td>1.0000</td>\n",
       "      <td>1.0247</td>\n",
       "      <td>1.0023</td>\n",
       "    </tr>\n",
       "    <tr>\n",
       "      <th>Sepsis</th>\n",
       "      <td>0.8907</td>\n",
       "      <td>0.8613</td>\n",
       "      <td>0.8882</td>\n",
       "      <td>0.8883</td>\n",
       "      <td>0.8845</td>\n",
       "      <td>0.8796</td>\n",
       "      <td>1.0027</td>\n",
       "      <td>0.9696</td>\n",
       "      <td>1.0000</td>\n",
       "      <td>1.0000</td>\n",
       "      <td>0.9958</td>\n",
       "      <td>0.9903</td>\n",
       "    </tr>\n",
       "    <tr>\n",
       "      <th>Vehicle</th>\n",
       "      <td>0.8601</td>\n",
       "      <td>0.8401</td>\n",
       "      <td>0.8614</td>\n",
       "      <td>0.8672</td>\n",
       "      <td>0.8550</td>\n",
       "      <td>0.8720</td>\n",
       "      <td>0.9918</td>\n",
       "      <td>0.9687</td>\n",
       "      <td>0.9932</td>\n",
       "      <td>1.0000</td>\n",
       "      <td>0.9859</td>\n",
       "      <td>1.0054</td>\n",
       "    </tr>\n",
       "    <tr>\n",
       "      <th>Wine</th>\n",
       "      <td>0.8940</td>\n",
       "      <td>0.9090</td>\n",
       "      <td>0.9199</td>\n",
       "      <td>0.9339</td>\n",
       "      <td>0.9159</td>\n",
       "      <td>0.9195</td>\n",
       "      <td>0.9572</td>\n",
       "      <td>0.9733</td>\n",
       "      <td>0.9850</td>\n",
       "      <td>1.0000</td>\n",
       "      <td>0.9806</td>\n",
       "      <td>0.9845</td>\n",
       "    </tr>\n",
       "    <tr>\n",
       "      <th>Yeast</th>\n",
       "      <td>0.5247</td>\n",
       "      <td>0.5272</td>\n",
       "      <td>0.5209</td>\n",
       "      <td>0.4874</td>\n",
       "      <td>0.5307</td>\n",
       "      <td>0.4988</td>\n",
       "      <td>1.0765</td>\n",
       "      <td>1.0816</td>\n",
       "      <td>1.0687</td>\n",
       "      <td>1.0000</td>\n",
       "      <td>1.0888</td>\n",
       "      <td>1.0232</td>\n",
       "    </tr>\n",
       "    <tr>\n",
       "      <th>Mean</th>\n",
       "      <td>0.8179</td>\n",
       "      <td>0.8339</td>\n",
       "      <td>0.8303</td>\n",
       "      <td>0.8281</td>\n",
       "      <td>0.8263</td>\n",
       "      <td>0.8126</td>\n",
       "      <td>0.9928</td>\n",
       "      <td>1.0141</td>\n",
       "      <td>1.0091</td>\n",
       "      <td>1.0000</td>\n",
       "      <td>1.0050</td>\n",
       "      <td>0.9827</td>\n",
       "    </tr>\n",
       "    <tr>\n",
       "      <th>Median</th>\n",
       "      <td>0.8773</td>\n",
       "      <td>0.8721</td>\n",
       "      <td>0.8763</td>\n",
       "      <td>0.8793</td>\n",
       "      <td>0.8702</td>\n",
       "      <td>0.8688</td>\n",
       "      <td>0.9965</td>\n",
       "      <td>0.9953</td>\n",
       "      <td>1.0030</td>\n",
       "      <td>1.0000</td>\n",
       "      <td>0.9942</td>\n",
       "      <td>0.9899</td>\n",
       "    </tr>\n",
       "  </tbody>\n",
       "</table>\n",
       "</div>"
      ],
      "text/plain": [
       "                          Absolute                                            \\\n",
       "                    CountMinSketch CountingBloomFilter CountingCuckoo   Dict   \n",
       "dataset                                                                        \n",
       "Breast Cancer               0.9365              0.9081         0.9324 0.9274   \n",
       "Dry Bean                    0.8247              0.8864         0.7951 0.9012   \n",
       "Glass                       0.5951              0.5823         0.5786 0.5661   \n",
       "Image Segmentation          0.7635              0.8476         0.8222 0.6540   \n",
       "Iris                        0.9089              0.9533         0.9311 0.9600   \n",
       "Letter                      0.8782              0.8891         0.8767 0.8739   \n",
       "Motion Sense                0.5654              0.6783         0.6845 0.7314   \n",
       "Optical Handwritten         0.9715              0.9731         0.9741 0.9714   \n",
       "Rice                        0.8968              0.9082         0.9139 0.9051   \n",
       "Satimage                    0.8764              0.8765         0.8802 0.8847   \n",
       "Segment                     0.8820              0.8677         0.8759 0.8698   \n",
       "Sepsis                      0.8907              0.8613         0.8882 0.8883   \n",
       "Vehicle                     0.8601              0.8401         0.8614 0.8672   \n",
       "Wine                        0.8940              0.9090         0.9199 0.9339   \n",
       "Yeast                       0.5247              0.5272         0.5209 0.4874   \n",
       "Mean                        0.8179              0.8339         0.8303 0.8281   \n",
       "Median                      0.8773              0.8721         0.8763 0.8793   \n",
       "\n",
       "                                                       Relative  \\\n",
       "                    HeavyHitters StreamThreshold CountMinSketch   \n",
       "dataset                                                           \n",
       "Breast Cancer             0.9219          0.9120         1.0097   \n",
       "Dry Bean                  0.7612          0.8206         0.9151   \n",
       "Glass                     0.5755          0.5602         1.0512   \n",
       "Image Segmentation        0.8143          0.7063         1.1675   \n",
       "Iris                      0.9467          0.9378         0.9468   \n",
       "Letter                    0.8608          0.8658         1.0049   \n",
       "Motion Sense              0.6882          0.6040         0.7730   \n",
       "Optical Handwritten       0.9649          0.9623         1.0001   \n",
       "Rice                      0.9044          0.9127         0.9908   \n",
       "Satimage                  0.8796          0.8653         0.9906   \n",
       "Segment                   0.8913          0.8719         1.0139   \n",
       "Sepsis                    0.8845          0.8796         1.0027   \n",
       "Vehicle                   0.8550          0.8720         0.9918   \n",
       "Wine                      0.9159          0.9195         0.9572   \n",
       "Yeast                     0.5307          0.4988         1.0765   \n",
       "Mean                      0.8263          0.8126         0.9928   \n",
       "Median                    0.8702          0.8688         0.9965   \n",
       "\n",
       "                                                                            \\\n",
       "                    CountingBloomFilter CountingCuckoo   Dict HeavyHitters   \n",
       "dataset                                                                      \n",
       "Breast Cancer                    0.9792         1.0054 1.0000       0.9941   \n",
       "Dry Bean                         0.9835         0.8822 1.0000       0.8446   \n",
       "Glass                            1.0286         1.0220 1.0000       1.0165   \n",
       "Image Segmentation               1.2961         1.2573 1.0000       1.2451   \n",
       "Iris                             0.9931         0.9699 1.0000       0.9861   \n",
       "Letter                           1.0175         1.0032 1.0000       0.9850   \n",
       "Motion Sense                     0.9275         0.9359 1.0000       0.9410   \n",
       "Optical Handwritten              1.0018         1.0027 1.0000       0.9933   \n",
       "Rice                             1.0034         1.0098 1.0000       0.9992   \n",
       "Satimage                         0.9907         0.9949 1.0000       0.9943   \n",
       "Segment                          0.9976         1.0070 1.0000       1.0247   \n",
       "Sepsis                           0.9696         1.0000 1.0000       0.9958   \n",
       "Vehicle                          0.9687         0.9932 1.0000       0.9859   \n",
       "Wine                             0.9733         0.9850 1.0000       0.9806   \n",
       "Yeast                            1.0816         1.0687 1.0000       1.0888   \n",
       "Mean                             1.0141         1.0091 1.0000       1.0050   \n",
       "Median                           0.9953         1.0030 1.0000       0.9942   \n",
       "\n",
       "                                     \n",
       "                    StreamThreshold  \n",
       "dataset                              \n",
       "Breast Cancer                0.9834  \n",
       "Dry Bean                     0.9105  \n",
       "Glass                        0.9895  \n",
       "Image Segmentation           1.0801  \n",
       "Iris                         0.9769  \n",
       "Letter                       0.9907  \n",
       "Motion Sense                 0.8258  \n",
       "Optical Handwritten          0.9906  \n",
       "Rice                         1.0084  \n",
       "Satimage                     0.9781  \n",
       "Segment                      1.0023  \n",
       "Sepsis                       0.9903  \n",
       "Vehicle                      1.0054  \n",
       "Wine                         0.9845  \n",
       "Yeast                        1.0232  \n",
       "Mean                         0.9827  \n",
       "Median                       0.9899  "
      ]
     },
     "execution_count": 29,
     "metadata": {},
     "output_type": "execute_result"
    }
   ],
   "source": [
    "performance_df = raw_relative_table(relative_results_df, \"metric\", \"metric_relative\")\n",
    "write_latex_table(\"performance_table_bloom.tex\", performance_df.to_latex(float_format=\"%.2f\"))\n",
    "performance_df"
   ]
  },
  {
   "cell_type": "code",
   "execution_count": 31,
   "metadata": {},
   "outputs": [
    {
     "name": "stdout",
     "output_type": "stream",
     "text": [
      "Table written to: tables/size_table_bloom.tex\n"
     ]
    },
    {
     "name": "stderr",
     "output_type": "stream",
     "text": [
      "/tmp/ipykernel_2961821/1480569691.py:3: FutureWarning:\n",
      "\n",
      "In future versions `DataFrame.to_latex` is expected to utilise the base implementation of `Styler.to_latex` for formatting and rendering. The arguments signature may therefore change. It is recommended instead to use `DataFrame.style.to_latex` which also contains additional functionality.\n",
      "\n"
     ]
    },
    {
     "data": {
      "text/html": [
       "<div>\n",
       "<style scoped>\n",
       "    .dataframe tbody tr th:only-of-type {\n",
       "        vertical-align: middle;\n",
       "    }\n",
       "\n",
       "    .dataframe tbody tr th {\n",
       "        vertical-align: top;\n",
       "    }\n",
       "\n",
       "    .dataframe thead tr th {\n",
       "        text-align: left;\n",
       "    }\n",
       "\n",
       "    .dataframe thead tr:last-of-type th {\n",
       "        text-align: right;\n",
       "    }\n",
       "</style>\n",
       "<table border=\"1\" class=\"dataframe\">\n",
       "  <thead>\n",
       "    <tr>\n",
       "      <th></th>\n",
       "      <th colspan=\"6\" halign=\"left\">Absolute</th>\n",
       "      <th colspan=\"6\" halign=\"left\">Relative</th>\n",
       "    </tr>\n",
       "    <tr>\n",
       "      <th></th>\n",
       "      <th>CountMinSketch</th>\n",
       "      <th>CountingBloomFilter</th>\n",
       "      <th>CountingCuckoo</th>\n",
       "      <th>Dict</th>\n",
       "      <th>HeavyHitters</th>\n",
       "      <th>StreamThreshold</th>\n",
       "      <th>CountMinSketch</th>\n",
       "      <th>CountingBloomFilter</th>\n",
       "      <th>CountingCuckoo</th>\n",
       "      <th>Dict</th>\n",
       "      <th>HeavyHitters</th>\n",
       "      <th>StreamThreshold</th>\n",
       "    </tr>\n",
       "    <tr>\n",
       "      <th>dataset</th>\n",
       "      <th></th>\n",
       "      <th></th>\n",
       "      <th></th>\n",
       "      <th></th>\n",
       "      <th></th>\n",
       "      <th></th>\n",
       "      <th></th>\n",
       "      <th></th>\n",
       "      <th></th>\n",
       "      <th></th>\n",
       "      <th></th>\n",
       "      <th></th>\n",
       "    </tr>\n",
       "  </thead>\n",
       "  <tbody>\n",
       "    <tr>\n",
       "      <th>Breast Cancer</th>\n",
       "      <td>0.0858</td>\n",
       "      <td>0.5370</td>\n",
       "      <td>0.2701</td>\n",
       "      <td>0.0387</td>\n",
       "      <td>0.1786</td>\n",
       "      <td>0.1271</td>\n",
       "      <td>2.2176</td>\n",
       "      <td>13.8768</td>\n",
       "      <td>6.9798</td>\n",
       "      <td>1.0000</td>\n",
       "      <td>4.6154</td>\n",
       "      <td>3.2848</td>\n",
       "    </tr>\n",
       "    <tr>\n",
       "      <th>Dry Bean</th>\n",
       "      <td>0.2584</td>\n",
       "      <td>1.0741</td>\n",
       "      <td>2.0518</td>\n",
       "      <td>0.6566</td>\n",
       "      <td>0.3413</td>\n",
       "      <td>0.5197</td>\n",
       "      <td>0.3935</td>\n",
       "      <td>1.6358</td>\n",
       "      <td>3.1248</td>\n",
       "      <td>1.0000</td>\n",
       "      <td>0.5198</td>\n",
       "      <td>0.7915</td>\n",
       "    </tr>\n",
       "    <tr>\n",
       "      <th>Glass</th>\n",
       "      <td>0.2891</td>\n",
       "      <td>0.9419</td>\n",
       "      <td>0.6170</td>\n",
       "      <td>0.0360</td>\n",
       "      <td>0.1305</td>\n",
       "      <td>0.2427</td>\n",
       "      <td>8.0194</td>\n",
       "      <td>26.1327</td>\n",
       "      <td>17.1178</td>\n",
       "      <td>1.0000</td>\n",
       "      <td>3.6211</td>\n",
       "      <td>6.7346</td>\n",
       "    </tr>\n",
       "    <tr>\n",
       "      <th>Image Segmentation</th>\n",
       "      <td>0.1327</td>\n",
       "      <td>1.6098</td>\n",
       "      <td>1.3751</td>\n",
       "      <td>0.1026</td>\n",
       "      <td>0.4243</td>\n",
       "      <td>0.2477</td>\n",
       "      <td>1.2941</td>\n",
       "      <td>15.6964</td>\n",
       "      <td>13.4080</td>\n",
       "      <td>1.0000</td>\n",
       "      <td>4.1366</td>\n",
       "      <td>2.4151</td>\n",
       "    </tr>\n",
       "    <tr>\n",
       "      <th>Iris</th>\n",
       "      <td>0.0506</td>\n",
       "      <td>0.1323</td>\n",
       "      <td>0.3248</td>\n",
       "      <td>0.0033</td>\n",
       "      <td>0.0347</td>\n",
       "      <td>0.0287</td>\n",
       "      <td>15.5344</td>\n",
       "      <td>40.5843</td>\n",
       "      <td>99.6465</td>\n",
       "      <td>1.0000</td>\n",
       "      <td>10.6446</td>\n",
       "      <td>8.7994</td>\n",
       "    </tr>\n",
       "    <tr>\n",
       "      <th>Letter</th>\n",
       "      <td>1.3482</td>\n",
       "      <td>5.7995</td>\n",
       "      <td>7.8178</td>\n",
       "      <td>6.8604</td>\n",
       "      <td>1.2562</td>\n",
       "      <td>2.5867</td>\n",
       "      <td>0.1965</td>\n",
       "      <td>0.8454</td>\n",
       "      <td>1.1395</td>\n",
       "      <td>1.0000</td>\n",
       "      <td>0.1831</td>\n",
       "      <td>0.3771</td>\n",
       "    </tr>\n",
       "    <tr>\n",
       "      <th>Motion Sense</th>\n",
       "      <td>8.6336</td>\n",
       "      <td>24.0255</td>\n",
       "      <td>56.4093</td>\n",
       "      <td>44.7259</td>\n",
       "      <td>9.7888</td>\n",
       "      <td>6.8538</td>\n",
       "      <td>0.1930</td>\n",
       "      <td>0.5372</td>\n",
       "      <td>1.2612</td>\n",
       "      <td>1.0000</td>\n",
       "      <td>0.2189</td>\n",
       "      <td>0.1532</td>\n",
       "    </tr>\n",
       "    <tr>\n",
       "      <th>Optical Handwritten</th>\n",
       "      <td>3.1406</td>\n",
       "      <td>14.7021</td>\n",
       "      <td>9.0920</td>\n",
       "      <td>8.3178</td>\n",
       "      <td>2.6372</td>\n",
       "      <td>3.7773</td>\n",
       "      <td>0.3776</td>\n",
       "      <td>1.7675</td>\n",
       "      <td>1.0931</td>\n",
       "      <td>1.0000</td>\n",
       "      <td>0.3171</td>\n",
       "      <td>0.4541</td>\n",
       "    </tr>\n",
       "    <tr>\n",
       "      <th>Rice</th>\n",
       "      <td>0.0176</td>\n",
       "      <td>0.0847</td>\n",
       "      <td>0.0640</td>\n",
       "      <td>0.0234</td>\n",
       "      <td>0.0526</td>\n",
       "      <td>0.0147</td>\n",
       "      <td>0.7512</td>\n",
       "      <td>3.6196</td>\n",
       "      <td>2.7355</td>\n",
       "      <td>1.0000</td>\n",
       "      <td>2.2473</td>\n",
       "      <td>0.6266</td>\n",
       "    </tr>\n",
       "    <tr>\n",
       "      <th>Satimage</th>\n",
       "      <td>1.0209</td>\n",
       "      <td>2.9294</td>\n",
       "      <td>4.2631</td>\n",
       "      <td>6.2109</td>\n",
       "      <td>0.8919</td>\n",
       "      <td>0.8086</td>\n",
       "      <td>0.1644</td>\n",
       "      <td>0.4717</td>\n",
       "      <td>0.6864</td>\n",
       "      <td>1.0000</td>\n",
       "      <td>0.1436</td>\n",
       "      <td>0.1302</td>\n",
       "    </tr>\n",
       "    <tr>\n",
       "      <th>Segment</th>\n",
       "      <td>0.2702</td>\n",
       "      <td>0.7449</td>\n",
       "      <td>2.7432</td>\n",
       "      <td>0.1153</td>\n",
       "      <td>0.4629</td>\n",
       "      <td>0.1136</td>\n",
       "      <td>2.3428</td>\n",
       "      <td>6.4583</td>\n",
       "      <td>23.7834</td>\n",
       "      <td>1.0000</td>\n",
       "      <td>4.0135</td>\n",
       "      <td>0.9853</td>\n",
       "    </tr>\n",
       "    <tr>\n",
       "      <th>Sepsis</th>\n",
       "      <td>0.0275</td>\n",
       "      <td>0.0424</td>\n",
       "      <td>0.2821</td>\n",
       "      <td>0.0109</td>\n",
       "      <td>0.0257</td>\n",
       "      <td>0.0261</td>\n",
       "      <td>2.5210</td>\n",
       "      <td>3.8868</td>\n",
       "      <td>25.8562</td>\n",
       "      <td>1.0000</td>\n",
       "      <td>2.3565</td>\n",
       "      <td>2.3960</td>\n",
       "    </tr>\n",
       "    <tr>\n",
       "      <th>Vehicle</th>\n",
       "      <td>0.2146</td>\n",
       "      <td>0.1891</td>\n",
       "      <td>0.6925</td>\n",
       "      <td>0.3373</td>\n",
       "      <td>0.1064</td>\n",
       "      <td>0.1566</td>\n",
       "      <td>0.6363</td>\n",
       "      <td>0.5608</td>\n",
       "      <td>2.0532</td>\n",
       "      <td>1.0000</td>\n",
       "      <td>0.3155</td>\n",
       "      <td>0.4644</td>\n",
       "    </tr>\n",
       "    <tr>\n",
       "      <th>Wine</th>\n",
       "      <td>0.0501</td>\n",
       "      <td>0.2211</td>\n",
       "      <td>0.7636</td>\n",
       "      <td>0.0493</td>\n",
       "      <td>0.0860</td>\n",
       "      <td>0.1512</td>\n",
       "      <td>1.0173</td>\n",
       "      <td>4.4884</td>\n",
       "      <td>15.5021</td>\n",
       "      <td>1.0000</td>\n",
       "      <td>1.7458</td>\n",
       "      <td>3.0700</td>\n",
       "    </tr>\n",
       "    <tr>\n",
       "      <th>Yeast</th>\n",
       "      <td>0.4001</td>\n",
       "      <td>0.4384</td>\n",
       "      <td>1.4295</td>\n",
       "      <td>0.4123</td>\n",
       "      <td>0.3533</td>\n",
       "      <td>0.2847</td>\n",
       "      <td>0.9704</td>\n",
       "      <td>1.0631</td>\n",
       "      <td>3.4669</td>\n",
       "      <td>1.0000</td>\n",
       "      <td>0.8568</td>\n",
       "      <td>0.6904</td>\n",
       "    </tr>\n",
       "    <tr>\n",
       "      <th>Mean</th>\n",
       "      <td>1.0627</td>\n",
       "      <td>3.5648</td>\n",
       "      <td>5.8797</td>\n",
       "      <td>4.5267</td>\n",
       "      <td>1.1180</td>\n",
       "      <td>1.0626</td>\n",
       "      <td>2.4420</td>\n",
       "      <td>8.1083</td>\n",
       "      <td>14.5236</td>\n",
       "      <td>1.0000</td>\n",
       "      <td>2.3957</td>\n",
       "      <td>2.0915</td>\n",
       "    </tr>\n",
       "    <tr>\n",
       "      <th>Median</th>\n",
       "      <td>0.2643</td>\n",
       "      <td>0.8434</td>\n",
       "      <td>1.4023</td>\n",
       "      <td>0.2263</td>\n",
       "      <td>0.3473</td>\n",
       "      <td>0.2452</td>\n",
       "      <td>0.9939</td>\n",
       "      <td>3.7532</td>\n",
       "      <td>5.2234</td>\n",
       "      <td>1.0000</td>\n",
       "      <td>1.9966</td>\n",
       "      <td>0.8884</td>\n",
       "    </tr>\n",
       "  </tbody>\n",
       "</table>\n",
       "</div>"
      ],
      "text/plain": [
       "                          Absolute                                             \\\n",
       "                    CountMinSketch CountingBloomFilter CountingCuckoo    Dict   \n",
       "dataset                                                                         \n",
       "Breast Cancer               0.0858              0.5370         0.2701  0.0387   \n",
       "Dry Bean                    0.2584              1.0741         2.0518  0.6566   \n",
       "Glass                       0.2891              0.9419         0.6170  0.0360   \n",
       "Image Segmentation          0.1327              1.6098         1.3751  0.1026   \n",
       "Iris                        0.0506              0.1323         0.3248  0.0033   \n",
       "Letter                      1.3482              5.7995         7.8178  6.8604   \n",
       "Motion Sense                8.6336             24.0255        56.4093 44.7259   \n",
       "Optical Handwritten         3.1406             14.7021         9.0920  8.3178   \n",
       "Rice                        0.0176              0.0847         0.0640  0.0234   \n",
       "Satimage                    1.0209              2.9294         4.2631  6.2109   \n",
       "Segment                     0.2702              0.7449         2.7432  0.1153   \n",
       "Sepsis                      0.0275              0.0424         0.2821  0.0109   \n",
       "Vehicle                     0.2146              0.1891         0.6925  0.3373   \n",
       "Wine                        0.0501              0.2211         0.7636  0.0493   \n",
       "Yeast                       0.4001              0.4384         1.4295  0.4123   \n",
       "Mean                        1.0627              3.5648         5.8797  4.5267   \n",
       "Median                      0.2643              0.8434         1.4023  0.2263   \n",
       "\n",
       "                                                       Relative  \\\n",
       "                    HeavyHitters StreamThreshold CountMinSketch   \n",
       "dataset                                                           \n",
       "Breast Cancer             0.1786          0.1271         2.2176   \n",
       "Dry Bean                  0.3413          0.5197         0.3935   \n",
       "Glass                     0.1305          0.2427         8.0194   \n",
       "Image Segmentation        0.4243          0.2477         1.2941   \n",
       "Iris                      0.0347          0.0287        15.5344   \n",
       "Letter                    1.2562          2.5867         0.1965   \n",
       "Motion Sense              9.7888          6.8538         0.1930   \n",
       "Optical Handwritten       2.6372          3.7773         0.3776   \n",
       "Rice                      0.0526          0.0147         0.7512   \n",
       "Satimage                  0.8919          0.8086         0.1644   \n",
       "Segment                   0.4629          0.1136         2.3428   \n",
       "Sepsis                    0.0257          0.0261         2.5210   \n",
       "Vehicle                   0.1064          0.1566         0.6363   \n",
       "Wine                      0.0860          0.1512         1.0173   \n",
       "Yeast                     0.3533          0.2847         0.9704   \n",
       "Mean                      1.1180          1.0626         2.4420   \n",
       "Median                    0.3473          0.2452         0.9939   \n",
       "\n",
       "                                                                            \\\n",
       "                    CountingBloomFilter CountingCuckoo   Dict HeavyHitters   \n",
       "dataset                                                                      \n",
       "Breast Cancer                   13.8768         6.9798 1.0000       4.6154   \n",
       "Dry Bean                         1.6358         3.1248 1.0000       0.5198   \n",
       "Glass                           26.1327        17.1178 1.0000       3.6211   \n",
       "Image Segmentation              15.6964        13.4080 1.0000       4.1366   \n",
       "Iris                            40.5843        99.6465 1.0000      10.6446   \n",
       "Letter                           0.8454         1.1395 1.0000       0.1831   \n",
       "Motion Sense                     0.5372         1.2612 1.0000       0.2189   \n",
       "Optical Handwritten              1.7675         1.0931 1.0000       0.3171   \n",
       "Rice                             3.6196         2.7355 1.0000       2.2473   \n",
       "Satimage                         0.4717         0.6864 1.0000       0.1436   \n",
       "Segment                          6.4583        23.7834 1.0000       4.0135   \n",
       "Sepsis                           3.8868        25.8562 1.0000       2.3565   \n",
       "Vehicle                          0.5608         2.0532 1.0000       0.3155   \n",
       "Wine                             4.4884        15.5021 1.0000       1.7458   \n",
       "Yeast                            1.0631         3.4669 1.0000       0.8568   \n",
       "Mean                             8.1083        14.5236 1.0000       2.3957   \n",
       "Median                           3.7532         5.2234 1.0000       1.9966   \n",
       "\n",
       "                                     \n",
       "                    StreamThreshold  \n",
       "dataset                              \n",
       "Breast Cancer                3.2848  \n",
       "Dry Bean                     0.7915  \n",
       "Glass                        6.7346  \n",
       "Image Segmentation           2.4151  \n",
       "Iris                         8.7994  \n",
       "Letter                       0.3771  \n",
       "Motion Sense                 0.1532  \n",
       "Optical Handwritten          0.4541  \n",
       "Rice                         0.6266  \n",
       "Satimage                     0.1302  \n",
       "Segment                      0.9853  \n",
       "Sepsis                       2.3960  \n",
       "Vehicle                      0.4644  \n",
       "Wine                         3.0700  \n",
       "Yeast                        0.6904  \n",
       "Mean                         2.0915  \n",
       "Median                       0.8884  "
      ]
     },
     "execution_count": 31,
     "metadata": {},
     "output_type": "execute_result"
    }
   ],
   "source": [
    "size_df = raw_relative_table(relative_results_df, \"model_size\", \"model_size_relative\")\n",
    "size_df[\"Absolute\"] = size_df[\"Absolute\"] / 1024 ** 2\n",
    "write_latex_table(\"size_table_bloom.tex\", size_df.to_latex(float_format=\"%.2f\"))\n",
    "size_df"
   ]
  }
 ],
 "metadata": {
  "kernelspec": {
   "display_name": "Python 3 (ipykernel)",
   "language": "python",
   "name": "python3"
  },
  "language_info": {
   "codemirror_mode": {
    "name": "ipython",
    "version": 3
   },
   "file_extension": ".py",
   "mimetype": "text/x-python",
   "name": "python",
   "nbconvert_exporter": "python",
   "pygments_lexer": "ipython3",
   "version": "3.10.12"
  }
 },
 "nbformat": 4,
 "nbformat_minor": 2
}
